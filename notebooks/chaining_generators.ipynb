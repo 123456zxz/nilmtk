{
 "metadata": {
  "name": "",
  "signature": "sha256:fe7d754ac1b77f9eaff0ddc2d8e117450d9daafad055a9c425b590d12a01d709"
 },
 "nbformat": 3,
 "nbformat_minor": 0,
 "worksheets": [
  {
   "cells": [
    {
     "cell_type": "code",
     "collapsed": false,
     "input": [
      "from __future__ import print_function\n",
      "from copy import deepcopy\n",
      "\n",
      "class DataStore(object):\n",
      "    def __init__(self, mask=None):\n",
      "        self.mask = [] if mask is None else mask\n",
      "    \n",
      "    def state_of_data(self):\n",
      "        return {}\n",
      "    \n",
      "    def power_series(self):\n",
      "        for i in range(10):\n",
      "            if i not in self.mask:\n",
      "                yield i\n",
      "            \n",
      "class FailedPreconditionError(Exception):\n",
      "    pass\n",
      "            \n",
      "class Node(object):\n",
      "    def __init__(self, upstream):\n",
      "        self.upstream = upstream\n",
      "        \n",
      "    def state_of_data(self):\n",
      "        upstream_condition = deepcopy(self.upstream.state_of_data())\n",
      "        upstream_condition.update(self.__class__.outcome)\n",
      "        return upstream_condition\n",
      "    \n",
      "    def check_preconditions(self):\n",
      "        requirements = self.__class__.__dict__.get('requirements')\n",
      "        if requirements:\n",
      "            condition = self.upstream.state_of_data()\n",
      "            for k,v in requirements.iteritems():\n",
      "                if not condition.has_key(k):\n",
      "                    raise FailedPreconditionError()\n",
      "                if condition[k] != v:\n",
      "                    raise FailedPreconditionError()                    \n",
      "            \n",
      "            \n",
      "class AddOne(Node):\n",
      "    outcome = {'added_one': True}\n",
      "    requirements = {'multiplied_by_ten': True}\n",
      "    \n",
      "    def power_series(self):\n",
      "        super(AddOne, self).check_preconditions()\n",
      "        for i in self.upstream.power_series():\n",
      "            yield i+1\n",
      "            \n",
      "\n",
      "class MultiplyByTen(Node):\n",
      "    outcome = {'multiplied_by_ten': True}\n",
      "\n",
      "    def power_series(self):\n",
      "        super(MultiplyByTen, self).check_preconditions()\n",
      "        for i in self.upstream.power_series():\n",
      "            yield i*10\n"
     ],
     "language": "python",
     "metadata": {},
     "outputs": [],
     "prompt_number": 3
    },
    {
     "cell_type": "code",
     "collapsed": false,
     "input": [
      "ds = DataStore([3,5,7])\n",
      "mult = MultiplyByTen(ds)\n",
      "addone = AddOne(mult)\n",
      "\n",
      "for i in addone.power_series():\n",
      "    print(i)\n",
      "    \n",
      "addone.state_of_data()"
     ],
     "language": "python",
     "metadata": {},
     "outputs": [
      {
       "output_type": "stream",
       "stream": "stdout",
       "text": [
        "1\n",
        "11\n",
        "21\n",
        "41\n",
        "61\n",
        "81\n",
        "91\n"
       ]
      },
      {
       "metadata": {},
       "output_type": "pyout",
       "prompt_number": 4,
       "text": [
        "{'added_one': True, 'multiplied_by_ten': True}"
       ]
      }
     ],
     "prompt_number": 4
    },
    {
     "cell_type": "code",
     "collapsed": false,
     "input": [],
     "language": "python",
     "metadata": {},
     "outputs": []
    }
   ],
   "metadata": {}
  }
 ]
}