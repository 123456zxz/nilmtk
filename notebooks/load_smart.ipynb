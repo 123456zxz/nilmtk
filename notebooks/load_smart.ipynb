{
 "metadata": {
  "name": ""
 },
 "nbformat": 3,
 "nbformat_minor": 0,
 "worksheets": [
  {
   "cells": [
    {
     "cell_type": "code",
     "collapsed": false,
     "input": [
      "cd /home/nipun/Downloads/\n"
     ],
     "language": "python",
     "metadata": {},
     "outputs": [
      {
       "output_type": "stream",
       "stream": "stdout",
       "text": [
        "/home/nipun/Downloads\n"
       ]
      }
     ],
     "prompt_number": 1
    },
    {
     "cell_type": "code",
     "collapsed": false,
     "input": [
      "from nilmtk.dataset.smart_2 import Smart"
     ],
     "language": "python",
     "metadata": {},
     "outputs": [],
     "prompt_number": 65
    },
    {
     "cell_type": "code",
     "collapsed": false,
     "input": [
      "ds= Smart()"
     ],
     "language": "python",
     "metadata": {},
     "outputs": [],
     "prompt_number": 66
    },
    {
     "cell_type": "code",
     "collapsed": false,
     "input": [
      "ds.load(\"/home/nipun/study/datasets/UMASS/\")"
     ],
     "language": "python",
     "metadata": {},
     "outputs": [
      {
       "ename": "NameError",
       "evalue": "global name 'building_map' is not defined",
       "output_type": "pyerr",
       "traceback": [
        "\u001b[1;31m---------------------------------------------------------------------------\u001b[0m\n\u001b[1;31mNameError\u001b[0m                                 Traceback (most recent call last)",
        "\u001b[1;32m<ipython-input-67-02652d30edbe>\u001b[0m in \u001b[0;36m<module>\u001b[1;34m()\u001b[0m\n\u001b[1;32m----> 1\u001b[1;33m \u001b[0mds\u001b[0m\u001b[1;33m.\u001b[0m\u001b[0mload\u001b[0m\u001b[1;33m(\u001b[0m\u001b[1;34m\"/home/nipun/study/datasets/UMASS/\"\u001b[0m\u001b[1;33m)\u001b[0m\u001b[1;33m\u001b[0m\u001b[0m\n\u001b[0m",
        "\u001b[1;32m/home/nipun/git/nilmtk/nilmtk/dataset/dataset.pyc\u001b[0m in \u001b[0;36mload\u001b[1;34m(self, root_directory)\u001b[0m\n\u001b[0;32m     66\u001b[0m         \u001b[0mbuilding_names\u001b[0m \u001b[1;33m=\u001b[0m \u001b[0mself\u001b[0m\u001b[1;33m.\u001b[0m\u001b[0mload_building_names\u001b[0m\u001b[1;33m(\u001b[0m\u001b[0mroot_directory\u001b[0m\u001b[1;33m)\u001b[0m\u001b[1;33m\u001b[0m\u001b[0m\n\u001b[0;32m     67\u001b[0m         \u001b[1;32mfor\u001b[0m \u001b[0mbuilding\u001b[0m \u001b[1;32min\u001b[0m \u001b[0mbuilding_names\u001b[0m\u001b[1;33m:\u001b[0m\u001b[1;33m\u001b[0m\u001b[0m\n\u001b[1;32m---> 68\u001b[1;33m             \u001b[0mself\u001b[0m\u001b[1;33m.\u001b[0m\u001b[0mload_building\u001b[0m\u001b[1;33m(\u001b[0m\u001b[0mroot_directory\u001b[0m\u001b[1;33m,\u001b[0m \u001b[0mbuilding\u001b[0m\u001b[1;33m)\u001b[0m\u001b[1;33m\u001b[0m\u001b[0m\n\u001b[0m\u001b[0;32m     69\u001b[0m \u001b[1;33m\u001b[0m\u001b[0m\n\u001b[0;32m     70\u001b[0m     \u001b[1;32mdef\u001b[0m \u001b[0mload_hdf5\u001b[0m\u001b[1;33m(\u001b[0m\u001b[0mself\u001b[0m\u001b[1;33m,\u001b[0m \u001b[0mdirectory\u001b[0m\u001b[1;33m,\u001b[0m \u001b[0mbuilding_nums\u001b[0m\u001b[1;33m=\u001b[0m\u001b[0mNone\u001b[0m\u001b[1;33m)\u001b[0m\u001b[1;33m:\u001b[0m\u001b[1;33m\u001b[0m\u001b[0m\n",
        "\u001b[1;32m/home/nipun/git/nilmtk/nilmtk/dataset/smart_2.py\u001b[0m in \u001b[0;36mload_building\u001b[1;34m(self, root_directory, building_name)\u001b[0m\n\u001b[0;32m    115\u001b[0m         \u001b[0mbuilding_dir\u001b[0m \u001b[1;33m=\u001b[0m \u001b[0mos\u001b[0m\u001b[1;33m.\u001b[0m\u001b[0mpath\u001b[0m\u001b[1;33m.\u001b[0m\u001b[0mjoin\u001b[0m\u001b[1;33m(\u001b[0m\u001b[0mroot_directory\u001b[0m\u001b[1;33m,\u001b[0m \u001b[0mbuilding_name\u001b[0m\u001b[1;33m)\u001b[0m\u001b[1;33m\u001b[0m\u001b[0m\n\u001b[0;32m    116\u001b[0m         \u001b[1;31m# Finds house number i.e. A, B or C; then maps it to 1,2,3\u001b[0m\u001b[1;33m\u001b[0m\u001b[1;33m\u001b[0m\u001b[0m\n\u001b[1;32m--> 117\u001b[1;33m         building_name = building_map[re.search(\n\u001b[0m\u001b[0;32m    118\u001b[0m             'home(?P<building_name>\\w+)', building_dir).group('building_name')]\n\u001b[0;32m    119\u001b[0m         \u001b[0mlabels\u001b[0m \u001b[1;33m=\u001b[0m \u001b[0mload_labels\u001b[0m\u001b[1;33m(\u001b[0m\u001b[0mbuilding_dir\u001b[0m\u001b[1;33m)\u001b[0m\u001b[1;33m\u001b[0m\u001b[0m\n",
        "\u001b[1;31mNameError\u001b[0m: global name 'building_map' is not defined"
       ]
      }
     ],
     "prompt_number": 67
    },
    {
     "cell_type": "code",
     "collapsed": false,
     "input": [
      "ds"
     ],
     "language": "python",
     "metadata": {},
     "outputs": [
      {
       "metadata": {},
       "output_type": "pyout",
       "prompt_number": 28,
       "text": [
        "nilmtk.dataset.DataSet.  name=Smart*\n"
       ]
      }
     ],
     "prompt_number": 28
    },
    {
     "cell_type": "code",
     "collapsed": false,
     "input": [
      "b=ds.buildings['A']"
     ],
     "language": "python",
     "metadata": {},
     "outputs": [],
     "prompt_number": 29
    },
    {
     "cell_type": "code",
     "collapsed": false,
     "input": [
      "mains=b.utility.electric.mains.values()[0]"
     ],
     "language": "python",
     "metadata": {},
     "outputs": [],
     "prompt_number": 30
    },
    {
     "cell_type": "code",
     "collapsed": false,
     "input": [
      "mains.describe()"
     ],
     "language": "python",
     "metadata": {},
     "outputs": [
      {
       "html": [
        "<div style=\"max-height:1000px;max-width:1500px;overflow:auto;\">\n",
        "<table border=\"1\" class=\"dataframe\">\n",
        "  <thead>\n",
        "    <tr style=\"text-align: right;\">\n",
        "      <th></th>\n",
        "      <th>Grid_RP</th>\n",
        "      <th>Grid_AP</th>\n",
        "    </tr>\n",
        "  </thead>\n",
        "  <tbody>\n",
        "    <tr>\n",
        "      <th>count</th>\n",
        "      <td> 5008571.000000</td>\n",
        "      <td> 5008571.000000</td>\n",
        "    </tr>\n",
        "    <tr>\n",
        "      <th>mean</th>\n",
        "      <td>    1463.708597</td>\n",
        "      <td>    1562.968107</td>\n",
        "    </tr>\n",
        "    <tr>\n",
        "      <th>std</th>\n",
        "      <td>    1112.590016</td>\n",
        "      <td>    1129.383889</td>\n",
        "    </tr>\n",
        "    <tr>\n",
        "      <th>min</th>\n",
        "      <td>     256.378000</td>\n",
        "      <td>      -0.000000</td>\n",
        "    </tr>\n",
        "    <tr>\n",
        "      <th>25%</th>\n",
        "      <td>     855.268000</td>\n",
        "      <td>     933.991000</td>\n",
        "    </tr>\n",
        "    <tr>\n",
        "      <th>50%</th>\n",
        "      <td>    1166.609000</td>\n",
        "      <td>    1275.514000</td>\n",
        "    </tr>\n",
        "    <tr>\n",
        "      <th>75%</th>\n",
        "      <td>    1732.488000</td>\n",
        "      <td>    1835.161500</td>\n",
        "    </tr>\n",
        "    <tr>\n",
        "      <th>max</th>\n",
        "      <td>   10791.888000</td>\n",
        "      <td>   11129.549000</td>\n",
        "    </tr>\n",
        "  </tbody>\n",
        "</table>\n",
        "</div>"
       ],
       "metadata": {},
       "output_type": "pyout",
       "prompt_number": 31,
       "text": [
        "              Grid_RP         Grid_AP\n",
        "count  5008571.000000  5008571.000000\n",
        "mean      1463.708597     1562.968107\n",
        "std       1112.590016     1129.383889\n",
        "min        256.378000       -0.000000\n",
        "25%        855.268000      933.991000\n",
        "50%       1166.609000     1275.514000\n",
        "75%       1732.488000     1835.161500\n",
        "max      10791.888000    11129.549000"
       ]
      }
     ],
     "prompt_number": 31
    },
    {
     "cell_type": "code",
     "collapsed": false,
     "input": [
      "b.utility.electric.appliances.keys()"
     ],
     "language": "python",
     "metadata": {},
     "outputs": [
      {
       "metadata": {},
       "output_type": "pyout",
       "prompt_number": 36,
       "text": [
        "[ApplianceName(name='DuctHeaterHRV', instance=1),\n",
        " ApplianceName(name='OfficeOutlets', instance=1),\n",
        " ApplianceName(name='CellarOutlets', instance=1),\n",
        " ApplianceName(name='CounterOutlets1', instance=1),\n",
        " ApplianceName(name='CounterOutlets2', instance=1),\n",
        " ApplianceName(name='DiningRoomOutlets', instance=1),\n",
        " ApplianceName(name='Dryer', instance=1),\n",
        " ApplianceName(name='GuestBathOutlets', instance=1),\n",
        " ApplianceName(name='OutsideOutlets', instance=1),\n",
        " ApplianceName(name='BedroomOutlets', instance=1),\n",
        " ApplianceName(name='Microwave', instance=1),\n",
        " ApplianceName(name='MasterBathOutlets', instance=1),\n",
        " ApplianceName(name='MasterOutlets', instance=1),\n",
        " ApplianceName(name='WashingMachine', instance=1),\n",
        " ApplianceName(name='LivingRoomPatioLights', instance=1),\n",
        " ApplianceName(name='FridgeRange', instance=1),\n",
        " ApplianceName(name='BedroomLights', instance=1),\n",
        " ApplianceName(name='DisposalDishwasher', instance=1),\n",
        " ApplianceName(name='MasterLights', instance=1),\n",
        " ApplianceName(name='FurnaceHRV', instance=1),\n",
        " ApplianceName(name='KitchenOutlets', instance=1),\n",
        " ApplianceName(name='GuestBathHallLights', instance=1),\n",
        " ApplianceName(name='LivingRoomOutlets', instance=1),\n",
        " ApplianceName(name='CellarLights', instance=1),\n",
        " ApplianceName(name='KitchenLights', instance=1)]"
       ]
      }
     ],
     "prompt_number": 36
    },
    {
     "cell_type": "code",
     "collapsed": false,
     "input": [
      "appliances.describe()"
     ],
     "language": "python",
     "metadata": {},
     "outputs": [
      {
       "html": [
        "<div style=\"max-height:1000px;max-width:1500px;overflow:auto;\">\n",
        "<table border=\"1\" class=\"dataframe\">\n",
        "  <thead>\n",
        "    <tr style=\"text-align: right;\">\n",
        "      <th></th>\n",
        "      <th>DuctHeaterHRV_RP</th>\n",
        "      <th>DuctHeaterHRV_AP</th>\n",
        "    </tr>\n",
        "  </thead>\n",
        "  <tbody>\n",
        "    <tr>\n",
        "      <th>count</th>\n",
        "      <td> 2583785.000000</td>\n",
        "      <td> 2583785.000000</td>\n",
        "    </tr>\n",
        "    <tr>\n",
        "      <th>mean</th>\n",
        "      <td>     278.324353</td>\n",
        "      <td>     400.691014</td>\n",
        "    </tr>\n",
        "    <tr>\n",
        "      <th>std</th>\n",
        "      <td>     332.188685</td>\n",
        "      <td>     347.487070</td>\n",
        "    </tr>\n",
        "    <tr>\n",
        "      <th>min</th>\n",
        "      <td>      -0.112000</td>\n",
        "      <td>      -0.000000</td>\n",
        "    </tr>\n",
        "    <tr>\n",
        "      <th>25%</th>\n",
        "      <td>       2.893000</td>\n",
        "      <td>      12.345000</td>\n",
        "    </tr>\n",
        "    <tr>\n",
        "      <th>50%</th>\n",
        "      <td>      73.939000</td>\n",
        "      <td>     278.295000</td>\n",
        "    </tr>\n",
        "    <tr>\n",
        "      <th>75%</th>\n",
        "      <td>     540.462000</td>\n",
        "      <td>     740.546000</td>\n",
        "    </tr>\n",
        "    <tr>\n",
        "      <th>max</th>\n",
        "      <td>    1074.006000</td>\n",
        "      <td>    1079.312000</td>\n",
        "    </tr>\n",
        "  </tbody>\n",
        "</table>\n",
        "</div>"
       ],
       "metadata": {},
       "output_type": "pyout",
       "prompt_number": 35,
       "text": [
        "       DuctHeaterHRV_RP  DuctHeaterHRV_AP\n",
        "count    2583785.000000    2583785.000000\n",
        "mean         278.324353        400.691014\n",
        "std          332.188685        347.487070\n",
        "min           -0.112000         -0.000000\n",
        "25%            2.893000         12.345000\n",
        "50%           73.939000        278.295000\n",
        "75%          540.462000        740.546000\n",
        "max         1074.006000       1079.312000"
       ]
      }
     ],
     "prompt_number": 35
    },
    {
     "cell_type": "code",
     "collapsed": false,
     "input": [],
     "language": "python",
     "metadata": {},
     "outputs": []
    }
   ],
   "metadata": {}
  }
 ]
}