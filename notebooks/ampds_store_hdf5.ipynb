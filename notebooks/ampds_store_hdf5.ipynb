{
 "metadata": {
  "name": ""
 },
 "nbformat": 3,
 "nbformat_minor": 0,
 "worksheets": [
  {
   "cells": [
    {
     "cell_type": "code",
     "collapsed": false,
     "input": [
      "from nilmtk.dataset import ampds\n",
      "from nilmtk.disaggregate.co_1d import CO_1d\n",
      "import json\n",
      "import pandas as pd\n",
      "from pandas import HDFStore\n",
      "\n",
      "dataset = ampds.AMPDS()\n",
      "\n",
      "PATH = '/home/nipun/Desktop/AMPds/'\n",
      "\n",
      "# Feature to perform disaggregation on\n",
      "DISAGG_FEATURE = 'power_active'\n",
      "\n",
      "\n",
      "# Load data\n",
      "dataset.load(PATH)\n",
      "\n",
      "# Get data of Home_01\n",
      "building = dataset.buildings['Home_01']"
     ],
     "language": "python",
     "metadata": {},
     "outputs": [],
     "prompt_number": 50
    },
    {
     "cell_type": "code",
     "collapsed": false,
     "input": [
      "dataset"
     ],
     "language": "python",
     "metadata": {},
     "outputs": [
      {
       "metadata": {},
       "output_type": "pyout",
       "prompt_number": 51,
       "text": [
        "{'Home_01': <nilmtk.building.Building at 0xc71f350>}"
       ]
      }
     ],
     "prompt_number": 51
    },
    {
     "cell_type": "code",
     "collapsed": false,
     "input": [
      "{key: str(dataset.buildings[key]) for key in dataset.buildings}"
     ],
     "language": "python",
     "metadata": {},
     "outputs": [
      {
       "metadata": {},
       "output_type": "pyout",
       "prompt_number": 44,
       "text": [
        "{'Home_01': '<nilmtk.building.Building object at 0xd7716d0>'}"
       ]
      }
     ],
     "prompt_number": 44
    },
    {
     "cell_type": "code",
     "collapsed": false,
     "input": [
      "b = dataset.buildings"
     ],
     "language": "python",
     "metadata": {},
     "outputs": [],
     "prompt_number": 45
    },
    {
     "cell_type": "code",
     "collapsed": false,
     "input": [
      "b"
     ],
     "language": "python",
     "metadata": {},
     "outputs": [
      {
       "metadata": {},
       "output_type": "pyout",
       "prompt_number": 46,
       "text": [
        "{'Home_01': <nilmtk.building.Building at 0xd7716d0>}"
       ]
      }
     ],
     "prompt_number": 46
    },
    {
     "cell_type": "code",
     "collapsed": false,
     "input": [
      "str(b)"
     ],
     "language": "python",
     "metadata": {},
     "outputs": [
      {
       "metadata": {},
       "output_type": "pyout",
       "prompt_number": 47,
       "text": [
        "\"{'Home_01': <nilmtk.building.Building object at 0xd7716d0>}\""
       ]
      }
     ],
     "prompt_number": 47
    },
    {
     "cell_type": "code",
     "collapsed": false,
     "input": [
      " c =b['Home_01']"
     ],
     "language": "python",
     "metadata": {},
     "outputs": [],
     "prompt_number": 48
    },
    {
     "cell_type": "code",
     "collapsed": false,
     "input": [
      "c"
     ],
     "language": "python",
     "metadata": {},
     "outputs": [
      {
       "metadata": {},
       "output_type": "pyout",
       "prompt_number": 38,
       "text": [
        "<nilmtk.building.Building at 0xd771ad0>"
       ]
      }
     ],
     "prompt_number": 38
    },
    {
     "cell_type": "code",
     "collapsed": false,
     "input": [
      "c.__str__()"
     ],
     "language": "python",
     "metadata": {},
     "outputs": [
      {
       "metadata": {},
       "output_type": "pyout",
       "prompt_number": 49,
       "text": [
        "'<nilmtk.building.Building object at 0xd7716d0>'"
       ]
      }
     ],
     "prompt_number": 49
    },
    {
     "cell_type": "code",
     "collapsed": false,
     "input": [
      "from pandas import HDFStore"
     ],
     "language": "python",
     "metadata": {},
     "outputs": [],
     "prompt_number": 2
    },
    {
     "cell_type": "code",
     "collapsed": false,
     "input": [
      "!rm store.h5"
     ],
     "language": "python",
     "metadata": {},
     "outputs": [],
     "prompt_number": 3
    },
    {
     "cell_type": "code",
     "collapsed": false,
     "input": [
      "store = HDFStore('store.h5', complevel=9)\n"
     ],
     "language": "python",
     "metadata": {},
     "outputs": [],
     "prompt_number": 4
    },
    {
     "cell_type": "code",
     "collapsed": false,
     "input": [
      "import time"
     ],
     "language": "python",
     "metadata": {},
     "outputs": [],
     "prompt_number": 5
    },
    {
     "cell_type": "code",
     "collapsed": false,
     "input": [],
     "language": "python",
     "metadata": {},
     "outputs": [],
     "prompt_number": 5
    },
    {
     "cell_type": "code",
     "collapsed": false,
     "input": [
      "start = time.time()\n",
      "for appliance in building.utility.electric.appliances:\n",
      "    store.put('ampds/building_01/electric/utility/appliances/%s' %appliance, building.utility.electric.appliances[appliance], table = True)\n",
      "end = time.time()"
     ],
     "language": "python",
     "metadata": {},
     "outputs": [],
     "prompt_number": 6
    },
    {
     "cell_type": "code",
     "collapsed": false,
     "input": [
      "end - start"
     ],
     "language": "python",
     "metadata": {},
     "outputs": [
      {
       "metadata": {},
       "output_type": "pyout",
       "prompt_number": 7,
       "text": [
        "33.78106904029846"
       ]
      }
     ],
     "prompt_number": 7
    },
    {
     "cell_type": "code",
     "collapsed": false,
     "input": [
      "store"
     ],
     "language": "python",
     "metadata": {},
     "outputs": [
      {
       "metadata": {},
       "output_type": "pyout",
       "prompt_number": 8,
       "text": [
        "<class 'pandas.io.pytables.HDFStore'>\n",
        "File path: store.h5\n",
        "/ampds/building_01/electric/utility/appliances/B1E            frame_table  (typ->appendable,nrows->524543,ncols->11,indexers->[index])\n",
        "/ampds/building_01/electric/utility/appliances/B2E            frame_table  (typ->appendable,nrows->524543,ncols->11,indexers->[index])\n",
        "/ampds/building_01/electric/utility/appliances/BME            frame_table  (typ->appendable,nrows->524543,ncols->11,indexers->[index])\n",
        "/ampds/building_01/electric/utility/appliances/CDE            frame_table  (typ->appendable,nrows->524543,ncols->11,indexers->[index])\n",
        "/ampds/building_01/electric/utility/appliances/CWE            frame_table  (typ->appendable,nrows->524543,ncols->11,indexers->[index])\n",
        "/ampds/building_01/electric/utility/appliances/DNE            frame_table  (typ->appendable,nrows->524543,ncols->11,indexers->[index])\n",
        "/ampds/building_01/electric/utility/appliances/DWE            frame_table  (typ->appendable,nrows->524543,ncols->11,indexers->[index])\n",
        "/ampds/building_01/electric/utility/appliances/EBE            frame_table  (typ->appendable,nrows->524543,ncols->11,indexers->[index])\n",
        "/ampds/building_01/electric/utility/appliances/EQE            frame_table  (typ->appendable,nrows->524543,ncols->11,indexers->[index])\n",
        "/ampds/building_01/electric/utility/appliances/FGE            frame_table  (typ->appendable,nrows->524543,ncols->11,indexers->[index])\n",
        "/ampds/building_01/electric/utility/appliances/FRE            frame_table  (typ->appendable,nrows->524543,ncols->11,indexers->[index])\n",
        "/ampds/building_01/electric/utility/appliances/GRE            frame_table  (typ->appendable,nrows->524543,ncols->11,indexers->[index])\n",
        "/ampds/building_01/electric/utility/appliances/HPE            frame_table  (typ->appendable,nrows->524543,ncols->11,indexers->[index])\n",
        "/ampds/building_01/electric/utility/appliances/HTE            frame_table  (typ->appendable,nrows->524543,ncols->11,indexers->[index])\n",
        "/ampds/building_01/electric/utility/appliances/OFE            frame_table  (typ->appendable,nrows->524543,ncols->11,indexers->[index])\n",
        "/ampds/building_01/electric/utility/appliances/OUE            frame_table  (typ->appendable,nrows->524543,ncols->11,indexers->[index])\n",
        "/ampds/building_01/electric/utility/appliances/TVE            frame_table  (typ->appendable,nrows->524543,ncols->11,indexers->[index])\n",
        "/ampds/building_01/electric/utility/appliances/UNE            frame_table  (typ->appendable,nrows->524543,ncols->11,indexers->[index])\n",
        "/ampds/building_01/electric/utility/appliances/UTE            frame_table  (typ->appendable,nrows->524543,ncols->11,indexers->[index])\n",
        "/ampds/building_01/electric/utility/appliances/WOE            frame_table  (typ->appendable,nrows->524543,ncols->11,indexers->[index])"
       ]
      }
     ],
     "prompt_number": 8
    },
    {
     "cell_type": "code",
     "collapsed": false,
     "input": [
      "! ls -lah"
     ],
     "language": "python",
     "metadata": {},
     "outputs": [
      {
       "output_type": "stream",
       "stream": "stdout",
       "text": [
        "total 981M\r\n",
        "drwxrwxr-x 3 nipun nipun 4.0K Dec 14 17:53 .\r\n",
        "drwxrwxr-x 9 nipun nipun 4.0K Dec 14 16:55 ..\r\n",
        "-rw-rw-r-- 1 nipun nipun 100K Dec 11 12:45 ampds_co.ipynb\r\n",
        "-rw-rw-r-- 1 nipun nipun  18K Dec 14 17:44 ampds_store_hdf5.ipynb\r\n",
        "-rw-rw-r-- 1 nipun nipun  18K Dec 11 09:41 csv_vs_h5_read_speed.ipynb\r\n",
        "drwxrwxr-x 2 nipun nipun 4.0K Dec 14 17:44 .ipynb_checkpoints\r\n",
        "-rw-rw-r-- 1 nipun nipun  61K Dec 11 10:22 read_AMPds.ipynb\r\n",
        "-rw-rw-r-- 1 nipun nipun  198 Dec 11 09:41 README.md\r\n",
        "-rw-rw-r-- 1 nipun nipun  96K Dec 11 09:41 read_PECAN.ipynb\r\n",
        "-rw-rw-r-- 1 nipun nipun 981M Dec 14 17:53 store.h5\r\n"
       ]
      }
     ],
     "prompt_number": 9
    },
    {
     "cell_type": "code",
     "collapsed": false,
     "input": [],
     "language": "python",
     "metadata": {},
     "outputs": [],
     "prompt_number": 9
    },
    {
     "cell_type": "code",
     "collapsed": false,
     "input": [
      "store['/ampds/building_01/electric/utility/appliances/WOE']"
     ],
     "language": "python",
     "metadata": {},
     "outputs": [
      {
       "html": [
        "<pre>\n",
        "&lt;class 'pandas.core.frame.DataFrame'&gt;\n",
        "DatetimeIndex: 524543 entries, 2012-04-01 07:00:00 to 2013-04-01 06:59:00\n",
        "Data columns (total 11 columns):\n",
        "voltage            524543  non-null values\n",
        "current            524543  non-null values\n",
        "frequency          524543  non-null values\n",
        "dpf                524543  non-null values\n",
        "apf                524543  non-null values\n",
        "power_active       524543  non-null values\n",
        "energy_active      524543  non-null values\n",
        "power_reactive     524543  non-null values\n",
        "energy_reactive    524543  non-null values\n",
        "power_apparent     524543  non-null values\n",
        "energy_apparent    524543  non-null values\n",
        "dtypes: float64(5), int64(6)\n",
        "</pre>"
       ],
       "metadata": {},
       "output_type": "pyout",
       "prompt_number": 10,
       "text": [
        "<class 'pandas.core.frame.DataFrame'>\n",
        "DatetimeIndex: 524543 entries, 2012-04-01 07:00:00 to 2013-04-01 06:59:00\n",
        "Data columns (total 11 columns):\n",
        "voltage            524543  non-null values\n",
        "current            524543  non-null values\n",
        "frequency          524543  non-null values\n",
        "dpf                524543  non-null values\n",
        "apf                524543  non-null values\n",
        "power_active       524543  non-null values\n",
        "energy_active      524543  non-null values\n",
        "power_reactive     524543  non-null values\n",
        "energy_reactive    524543  non-null values\n",
        "power_apparent     524543  non-null values\n",
        "energy_apparent    524543  non-null values\n",
        "dtypes: float64(5), int64(6)"
       ]
      }
     ],
     "prompt_number": 10
    },
    {
     "cell_type": "code",
     "collapsed": false,
     "input": [],
     "language": "python",
     "metadata": {},
     "outputs": [],
     "prompt_number": 10
    },
    {
     "cell_type": "code",
     "collapsed": false,
     "input": [
      "from pandas import Term"
     ],
     "language": "python",
     "metadata": {},
     "outputs": [],
     "prompt_number": 11
    },
    {
     "cell_type": "code",
     "collapsed": false,
     "input": [
      "lower_bound = Term('index', '>', pd.Timestamp('20120605'))"
     ],
     "language": "python",
     "metadata": {},
     "outputs": [],
     "prompt_number": 12
    },
    {
     "cell_type": "code",
     "collapsed": false,
     "input": [
      "upper_bound = Term('index', '<', pd.Timestamp('20120805'))"
     ],
     "language": "python",
     "metadata": {},
     "outputs": [],
     "prompt_number": 13
    },
    {
     "cell_type": "code",
     "collapsed": false,
     "input": [
      "((t)&(t2))"
     ],
     "language": "python",
     "metadata": {},
     "outputs": [
      {
       "ename": "NameError",
       "evalue": "name 't' is not defined",
       "output_type": "pyerr",
       "traceback": [
        "\u001b[1;31m---------------------------------------------------------------------------\u001b[0m\n\u001b[1;31mNameError\u001b[0m                                 Traceback (most recent call last)",
        "\u001b[1;32m<ipython-input-14-708c4eed5aba>\u001b[0m in \u001b[0;36m<module>\u001b[1;34m()\u001b[0m\n\u001b[1;32m----> 1\u001b[1;33m \u001b[1;33m(\u001b[0m\u001b[1;33m(\u001b[0m\u001b[0mt\u001b[0m\u001b[1;33m)\u001b[0m\u001b[1;33m&\u001b[0m\u001b[1;33m(\u001b[0m\u001b[0mt2\u001b[0m\u001b[1;33m)\u001b[0m\u001b[1;33m)\u001b[0m\u001b[1;33m\u001b[0m\u001b[0m\n\u001b[0m",
        "\u001b[1;31mNameError\u001b[0m: name 't' is not defined"
       ]
      }
     ],
     "prompt_number": 14
    },
    {
     "cell_type": "code",
     "collapsed": false,
     "input": [
      "start = time.time()\n",
      "d=store.select('/ampds/building_01/electric/utility/appliances/WOE', [lower_bound,upper_bound])\n",
      "end=time.time()\n",
      "print end - start"
     ],
     "language": "python",
     "metadata": {},
     "outputs": []
    },
    {
     "cell_type": "code",
     "collapsed": false,
     "input": [
      "d"
     ],
     "language": "python",
     "metadata": {},
     "outputs": []
    },
    {
     "cell_type": "code",
     "collapsed": false,
     "input": [
      "print end1- start1"
     ],
     "language": "python",
     "metadata": {},
     "outputs": []
    },
    {
     "cell_type": "code",
     "collapsed": false,
     "input": [
      "d"
     ],
     "language": "python",
     "metadata": {},
     "outputs": []
    },
    {
     "cell_type": "code",
     "collapsed": false,
     "input": [
      "building"
     ],
     "language": "python",
     "metadata": {},
     "outputs": [
      {
       "metadata": {},
       "output_type": "pyout",
       "prompt_number": 15,
       "text": [
        "<nilmtk.building.Building at 0x48228d0>"
       ]
      }
     ],
     "prompt_number": 15
    },
    {
     "cell_type": "markdown",
     "metadata": {},
     "source": [
      "Getting the overall data structure"
     ]
    },
    {
     "cell_type": "code",
     "collapsed": false,
     "input": [
      "structure = {}"
     ],
     "language": "python",
     "metadata": {},
     "outputs": [],
     "prompt_number": 16
    },
    {
     "cell_type": "code",
     "collapsed": false,
     "input": [
      "structure['name'] = 'AMPds'"
     ],
     "language": "python",
     "metadata": {},
     "outputs": [],
     "prompt_number": 17
    },
    {
     "cell_type": "code",
     "collapsed": false,
     "input": [
      "structure"
     ],
     "language": "python",
     "metadata": {},
     "outputs": [
      {
       "metadata": {},
       "output_type": "pyout",
       "prompt_number": 18,
       "text": [
        "{'name': 'AMPds'}"
       ]
      }
     ],
     "prompt_number": 18
    },
    {
     "cell_type": "code",
     "collapsed": false,
     "input": [
      "structure['buildings'] = dataset.buildings"
     ],
     "language": "python",
     "metadata": {},
     "outputs": [],
     "prompt_number": 19
    },
    {
     "cell_type": "code",
     "collapsed": false,
     "input": [
      "structure"
     ],
     "language": "python",
     "metadata": {},
     "outputs": [
      {
       "metadata": {},
       "output_type": "pyout",
       "prompt_number": 20,
       "text": [
        "{'buildings': {'Home_01': <nilmtk.building.Building at 0x48228d0>},\n",
        " 'name': 'AMPds'}"
       ]
      }
     ],
     "prompt_number": 20
    },
    {
     "cell_type": "code",
     "collapsed": false,
     "input": [
      "str(dataset.buildings)"
     ],
     "language": "python",
     "metadata": {},
     "outputs": [
      {
       "metadata": {},
       "output_type": "pyout",
       "prompt_number": 21,
       "text": [
        "\"{'Home_01': <nilmtk.building.Building object at 0x48228d0>}\""
       ]
      }
     ],
     "prompt_number": 21
    },
    {
     "cell_type": "code",
     "collapsed": false,
     "input": [],
     "language": "python",
     "metadata": {},
     "outputs": []
    }
   ],
   "metadata": {}
  }
 ]
}