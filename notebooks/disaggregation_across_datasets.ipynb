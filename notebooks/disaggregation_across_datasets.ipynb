{
 "metadata": {
  "name": ""
 },
 "nbformat": 3,
 "nbformat_minor": 0,
 "worksheets": [
  {
   "cells": [
    {
     "cell_type": "code",
     "collapsed": false,
     "input": [
      "%matplotlib inline"
     ],
     "language": "python",
     "metadata": {},
     "outputs": [],
     "prompt_number": 1
    },
    {
     "cell_type": "code",
     "collapsed": false,
     "input": [
      "from __future__ import print_function\n",
      "from nilmtk.dataset import DataSet\n",
      "from nilmtk.cross_validation import train_test_split\n",
      "from nilmtk.disaggregate.fhmm_exact import FHMM\n",
      "from nilmtk.disaggregate.co_1d import CO_1d\n",
      "from nilmtk.metrics import rms_error_power\n",
      "from nilmtk.metrics import mean_normalized_error_power, fraction_energy_assigned_correctly, f_score\n",
      "from nilmtk.sensors.electricity import Measurement\n",
      "from nilmtk.stats.electricity.building import top_k_appliances\n",
      "from nilmtk.stats.electricity.building import find_appliances_contribution\n",
      "import nilmtk.preprocessing.electricity.building as prepb\n",
      "from nilmtk.dataset import DataSet\n",
      "from copy import deepcopy\n",
      "import time\n",
      "import pandas as pd\n",
      "import numpy as np\n",
      "import matplotlib.pyplot as plt\n",
      "import resource\n",
      "import os"
     ],
     "language": "python",
     "metadata": {},
     "outputs": [],
     "prompt_number": 2
    },
    {
     "cell_type": "markdown",
     "metadata": {},
     "source": [
      "Setting 5 GB memory usage as upper limit"
     ]
    },
    {
     "cell_type": "code",
     "collapsed": false,
     "input": [
      "# Setting the limits to 5 GB RAM usage\n",
      "megs = 7000\n",
      "resource.setrlimit(resource.RLIMIT_AS, (megs * 1048576L, -1L))"
     ],
     "language": "python",
     "metadata": {},
     "outputs": [],
     "prompt_number": 3
    },
    {
     "cell_type": "code",
     "collapsed": false,
     "input": [
      "import warnings\n",
      "warnings.filterwarnings('ignore')"
     ],
     "language": "python",
     "metadata": {},
     "outputs": [],
     "prompt_number": 4
    },
    {
     "cell_type": "code",
     "collapsed": false,
     "input": [
      "#dataset_names=[\"redd/low_freq\",\"iawe\",\"ampds\",\"pecan_1min\",\"smart\"]\n",
      "#dataset_names=[\"redd/low_freq\",\"iawe\"]\n",
      "#dataset_names=['smart']\n",
      "dataset_names=['ukpd']"
     ],
     "language": "python",
     "metadata": {},
     "outputs": [],
     "prompt_number": 5
    },
    {
     "cell_type": "code",
     "collapsed": false,
     "input": [
      "metrics=['mne','fraction','f_score']"
     ],
     "language": "python",
     "metadata": {},
     "outputs": [],
     "prompt_number": 6
    },
    {
     "cell_type": "code",
     "collapsed": false,
     "input": [
      "base_path=\"/home/nipun/Desktop/temp/\""
     ],
     "language": "python",
     "metadata": {},
     "outputs": [],
     "prompt_number": 7
    },
    {
     "cell_type": "code",
     "collapsed": false,
     "input": [
      "DISAGG_FEATURE = Measurement('power', 'active')"
     ],
     "language": "python",
     "metadata": {},
     "outputs": [],
     "prompt_number": 8
    },
    {
     "cell_type": "code",
     "collapsed": false,
     "input": [
      "disaggregators={}\n",
      "disaggregators['fhmm']=FHMM()\n",
      "disaggregators['co']=CO_1d()"
     ],
     "language": "python",
     "metadata": {},
     "outputs": [],
     "prompt_number": 9
    },
    {
     "cell_type": "code",
     "collapsed": false,
     "input": [
      "actual_names_datasets={'redd/low_freq':'REDD',\n",
      "                       'iawe':'iAWE',\n",
      "                       'pecan_1min':'PECAN',\n",
      "                       'ampds':'AMPds',\n",
      "                       'smart':'SMART*',\n",
      "                       'ukpd':'UKPD'\n",
      "                       }\n",
      "                       "
     ],
     "language": "python",
     "metadata": {},
     "outputs": [],
     "prompt_number": 10
    },
    {
     "cell_type": "code",
     "collapsed": false,
     "input": [
      "metric_function={'mne':mean_normalized_error_power,\n",
      "                 'fraction':fraction_energy_assigned_correctly,\n",
      "                 'f_score':f_score\n",
      "                 }"
     ],
     "language": "python",
     "metadata": {},
     "outputs": [],
     "prompt_number": 11
    },
    {
     "cell_type": "code",
     "collapsed": false,
     "input": [
      "train_time={}\n",
      "disaggregate_time={}\n",
      "results={}\n",
      "\n",
      "for dataset in dataset_names:\n",
      "    train_time[dataset]={}\n",
      "    disaggregate_time[dataset]={}\n",
      "    results[dataset]={}\n",
      "    for algorithm in ['fhmm','co']:\n",
      "        train_time[dataset][algorithm]={}\n",
      "        disaggregate_time[dataset][algorithm]={}\n",
      "        results[dataset][algorithm]={}\n",
      "    for metric in metrics:\n",
      "        results[dataset][algorithm][metric]={}  "
     ],
     "language": "python",
     "metadata": {},
     "outputs": [],
     "prompt_number": 12
    },
    {
     "cell_type": "markdown",
     "metadata": {},
     "source": [
      "Pre-processing routines for dataset (some are optional)"
     ]
    },
    {
     "cell_type": "code",
     "collapsed": false,
     "input": [
      "def preprocess_iawe(building):\n",
      "    building.utility.electric = building.utility.electric.sum_split_supplies()\n",
      "    building = prepb.filter_out_implausible_values(building, Measurement('voltage', ''), 160, 260)\n",
      "    building = prepb.filter_datetime(building, '7-13-2013', '8-4-2013')\n",
      "    building = prepb.downsample(building, rule='1T')\n",
      "    building = prepb.fill_appliance_gaps(building)\n",
      "    building = prepb.prepend_append_zeros(\n",
      "    building, '7-13-2013', '8-4-2013', '1T', 'Asia/Kolkata')\n",
      "    building = prepb.drop_missing_mains(building)\n",
      "    building = prepb.make_common_index(building)\n",
      "    building = prepb.filter_contribution_less_than_x(building, x=5)    \n",
      "    return building\n",
      "\n",
      "def preprocess_redd(building):\n",
      "    building.utility.electric = building.utility.electric.sum_split_supplies()\n",
      "    building = prepb.downsample(building, rule='1T')\n",
      "    building = prepb.fill_appliance_gaps(building)\n",
      "    building = prepb.drop_missing_mains(building)\n",
      "    building = prepb.make_common_index(building)\n",
      "    building.utility.electric.mains[(1,1)].rename(columns={Measurement('power','apparent'): Measurement('power','active')}, inplace=True)\n",
      "    building = prepb.filter_contribution_less_than_x(building, x=5)\n",
      "   \n",
      "    return building\n",
      "\n",
      "def preprocess_ampds(building):\n",
      "    building = prepb.filter_contribution_less_than_x(building, x=5)\n",
      "    return building\n",
      "\n",
      "def preprocess_pecan(building):\n",
      "    building = prepb.filter_contribution_less_than_x(building, x=5)\n",
      "    return building\n",
      "\n",
      "def preprocess_ukpd(building):\n",
      "    building = prepb.filter_datetime(building, start_datetime='2013-03-01')\n",
      "    building = prepb.downsample(building)\n",
      "    building = prepb.drop_missing_mains(building)\n",
      "    building = prepb.make_common_index(building)\n",
      "    building = prepb.filter_contribution_less_than_x(building, x=5)\n",
      "    return building\n",
      "\n",
      "def preprocess_smart(building):\n",
      "    building = prepb.filter_out_implausible_values(building, Measurement('power','active'), max_threshold=20000)\n",
      "    building = prepb.filter_channels_with_less_than_x_samples(building, 100)\n",
      "    building  = prepb.filter_datetime(building, start_datetime='2012-06-05', end_datetime='2012-06-10')\n",
      "    building = prepb.downsample(building)\n",
      "    for appliance_name, appliance_df in building.utility.electric.appliances.iteritems():\n",
      "        appliance_df.fillna(method='ffill',inplace=True, limit=2)\n",
      "    for appliance_name, appliance_df in building.utility.electric.appliances.iteritems():\n",
      "        appliance_df.fillna(0, inplace=True)\n",
      "    building = prepb.prepend_append_zeros(building, '2012-06-05', '2012-06-10', '1T', 'US/Eastern')\n",
      "    building = prepb.drop_missing_mains(building)\n",
      "    building = prepb.make_common_index(building)\n",
      "    building  = prepb.filter_contribution_less_than_x(building)\n",
      "    return building\n",
      "\n",
      "preprocess_map={'iawe':preprocess_iawe, 'redd/low_freq':preprocess_redd, \n",
      "                'ampds':preprocess_ampds, 'pecan_1min':preprocess_pecan,\n",
      "                'smart':preprocess_smart,'ukpd':preprocess_ukpd}"
     ],
     "language": "python",
     "metadata": {},
     "outputs": [],
     "prompt_number": 13
    },
    {
     "cell_type": "code",
     "collapsed": false,
     "input": [
      "for dataset_name in dataset_names:\n",
      "    print(\"*\"*80)\n",
      "    print(\"Loading {}\".format(dataset_name))\n",
      "    dataset =DataSet()\n",
      "    dataset.load_hdf5(os.path.join(base_path, dataset_name), [1])\n",
      "    print(\"Loaded {}\".format(dataset_name))\n",
      "    building = dataset.buildings[1]\n",
      "    print(\"Preprocessing building #1\")    \n",
      "    building = preprocess_map[dataset_name](building)\n",
      "    print(\"Number of appliance left = {}\".format(len(building.utility.electric.appliances.keys()))) \n",
      "    print(\"Dividing data into test and train\")\n",
      "    train, test = train_test_split(building, train_size = 0.5) \n",
      "    for disaggregator_name, disaggregator in disaggregators.iteritems():   \n",
      "        # Train\n",
      "        t1 = time.time()\n",
      "        disaggregator.train(train, disagg_features=[DISAGG_FEATURE])\n",
      "        t2 = time.time()\n",
      "        print(\"Runtime to train for {} = {:.2f} seconds\".format(disaggregator_name, t2 - t1))\n",
      "        train_time[dataset_name][disaggregator_name]=t2-t1\n",
      "    \n",
      "        # Disaggregate\n",
      "        t1 = time.time()\n",
      "        disaggregator.disaggregate(test)\n",
      "        t2 = time.time()\n",
      "        print(\"Runtime to disaggregate for {}= {:.2f} seconds\".format(disaggregator_name, t2 - t1))\n",
      "        disaggregate_time[dataset_name][disaggregator_name]=t2-t1   \n",
      "        \n",
      "        # Predicted power and states\n",
      "        predicted_power = disaggregator.predictions\n",
      "        app_ground = test.utility.electric.appliances\n",
      "        ground_truth_power = pd.DataFrame({appliance: app_ground[appliance][DISAGG_FEATURE] for appliance in app_ground})\n",
      "        \n",
      "        for metric in metrics:\n",
      "            results[dataset_name][disaggregator_name][metric] = metric_function[metric](predicted_power, ground_truth_power)    \n",
      "\n",
      "    "
     ],
     "language": "python",
     "metadata": {},
     "outputs": [
      {
       "output_type": "stream",
       "stream": "stdout",
       "text": [
        "********************************************************************************\n",
        "Loading ukpd\n",
        "Loaded ukpd"
       ]
      },
      {
       "output_type": "stream",
       "stream": "stdout",
       "text": [
        "\n",
        "Preprocessing building #1\n",
        "DELETING ApplianceName(name='htpc', instance=1)"
       ]
      },
      {
       "output_type": "stream",
       "stream": "stdout",
       "text": [
        "\n",
        "DELETING ApplianceName(name='breadmaker', instance=1)"
       ]
      },
      {
       "output_type": "stream",
       "stream": "stdout",
       "text": [
        "\n",
        "DELETING ApplianceName(name='kitchen_dt_lamp', instance=1)"
       ]
      },
      {
       "output_type": "stream",
       "stream": "stdout",
       "text": [
        "\n",
        "DELETING ApplianceName(name='livingroom_s_lamp', instance=1)"
       ]
      },
      {
       "output_type": "stream",
       "stream": "stdout",
       "text": [
        "\n",
        "DELETING ApplianceName(name='washing_machine', instance=1)"
       ]
      },
      {
       "output_type": "stream",
       "stream": "stdout",
       "text": [
        "\n",
        "DELETING ApplianceName(name='kitchen_lights', instance=1)"
       ]
      },
      {
       "output_type": "stream",
       "stream": "stdout",
       "text": [
        "\n",
        "DELETING ApplianceName(name='fridge', instance=1)"
       ]
      },
      {
       "output_type": "stream",
       "stream": "stdout",
       "text": [
        "\n",
        "DELETING ApplianceName(name='hoover', instance=1)"
       ]
      },
      {
       "output_type": "stream",
       "stream": "stdout",
       "text": [
        "\n",
        "DELETING ApplianceName(name='hifi_office', instance=1)"
       ]
      },
      {
       "output_type": "stream",
       "stream": "stdout",
       "text": [
        "\n",
        "DELETING ApplianceName(name='soldering_iron', instance=1)\n",
        "DELETING ApplianceName(name='solar_thermal_pump', instance=1)"
       ]
      },
      {
       "output_type": "stream",
       "stream": "stdout",
       "text": [
        "\n",
        "DELETING ApplianceName(name='bedroom_ds_lamp', instance=1)"
       ]
      },
      {
       "output_type": "stream",
       "stream": "stdout",
       "text": [
        "\n",
        "DELETING ApplianceName(name='tv', instance=1)"
       ]
      },
      {
       "output_type": "stream",
       "stream": "stdout",
       "text": [
        "\n",
        "DELETING ApplianceName(name='gigE_switch', instance=1)"
       ]
      },
      {
       "output_type": "stream",
       "stream": "stdout",
       "text": [
        "\n",
        "DELETING ApplianceName(name='adsl_router', instance=1)"
       ]
      }
     ],
     "prompt_number": "*"
    },
    {
     "cell_type": "code",
     "collapsed": false,
     "input": [
      "pd.DataFrame(train_time).T"
     ],
     "language": "python",
     "metadata": {},
     "outputs": [
      {
       "html": [
        "<div style=\"max-height:1000px;max-width:1500px;overflow:auto;\">\n",
        "<table border=\"1\" class=\"dataframe\">\n",
        "  <thead>\n",
        "    <tr style=\"text-align: right;\">\n",
        "      <th></th>\n",
        "      <th>co</th>\n",
        "      <th>fhmm</th>\n",
        "    </tr>\n",
        "  </thead>\n",
        "  <tbody>\n",
        "    <tr>\n",
        "      <th>smart</th>\n",
        "      <td> 1.494761</td>\n",
        "      <td> 1.614536</td>\n",
        "    </tr>\n",
        "  </tbody>\n",
        "</table>\n",
        "</div>"
       ],
       "metadata": {},
       "output_type": "pyout",
       "prompt_number": 17,
       "text": [
        "             co      fhmm\n",
        "smart  1.494761  1.614536"
       ]
      }
     ],
     "prompt_number": 17
    },
    {
     "cell_type": "code",
     "collapsed": false,
     "input": [
      "pd.DataFrame(disaggregate_time).T"
     ],
     "language": "python",
     "metadata": {},
     "outputs": [
      {
       "html": [
        "<div style=\"max-height:1000px;max-width:1500px;overflow:auto;\">\n",
        "<table border=\"1\" class=\"dataframe\">\n",
        "  <thead>\n",
        "    <tr style=\"text-align: right;\">\n",
        "      <th></th>\n",
        "      <th>co</th>\n",
        "      <th>fhmm</th>\n",
        "    </tr>\n",
        "  </thead>\n",
        "  <tbody>\n",
        "    <tr>\n",
        "      <th>smart</th>\n",
        "      <td> 0.014688</td>\n",
        "      <td> 0.089359</td>\n",
        "    </tr>\n",
        "  </tbody>\n",
        "</table>\n",
        "</div>"
       ],
       "metadata": {},
       "output_type": "pyout",
       "prompt_number": 18,
       "text": [
        "             co      fhmm\n",
        "smart  0.014688  0.089359"
       ]
      }
     ],
     "prompt_number": 18
    },
    {
     "cell_type": "code",
     "collapsed": false,
     "input": [
      "def compute_summary(results):\n",
      "    results = deepcopy(results)\n",
      "    for dataset_name, dataset_vals in results.iteritems():    \n",
      "        for algo_name, algo_vals in dataset_vals.iteritems():\n",
      "            sum_fscore=0.0\n",
      "            count_f = 0\n",
      "            for appliance_fscore in algo_vals['f_score'].values():\n",
      "                sum_fscore+=appliance_fscore\n",
      "                count_f +=1\n",
      "            algo_vals['f_score'] = sum_fscore/count_f\n",
      "            sum_mne=0.0\n",
      "            count_m = 0\n",
      "            for appliance_mne in algo_vals['mne'].values():\n",
      "                sum_mne+=appliance_mne\n",
      "                count_m +=1\n",
      "            algo_vals['mne'] = sum_mne/count_m\n",
      "    return results"
     ],
     "language": "python",
     "metadata": {},
     "outputs": [],
     "prompt_number": 19
    },
    {
     "cell_type": "code",
     "collapsed": false,
     "input": [
      "results_copy = compute_summary(results)"
     ],
     "language": "python",
     "metadata": {},
     "outputs": [],
     "prompt_number": 20
    },
    {
     "cell_type": "code",
     "collapsed": false,
     "input": [
      "tables = {}\n",
      "for dataset_name in dataset_names:\n",
      "    tables[dataset_name] = pd.DataFrame(results_copy[dataset_name])"
     ],
     "language": "python",
     "metadata": {},
     "outputs": [],
     "prompt_number": 21
    },
    {
     "cell_type": "code",
     "collapsed": false,
     "input": [
      "tables['smart']"
     ],
     "language": "python",
     "metadata": {},
     "outputs": [
      {
       "html": [
        "<div style=\"max-height:1000px;max-width:1500px;overflow:auto;\">\n",
        "<table border=\"1\" class=\"dataframe\">\n",
        "  <thead>\n",
        "    <tr style=\"text-align: right;\">\n",
        "      <th></th>\n",
        "      <th>co</th>\n",
        "      <th>fhmm</th>\n",
        "    </tr>\n",
        "  </thead>\n",
        "  <tbody>\n",
        "    <tr>\n",
        "      <th>f_score</th>\n",
        "      <td> 0.795617</td>\n",
        "      <td> 0.791282</td>\n",
        "    </tr>\n",
        "    <tr>\n",
        "      <th>fraction</th>\n",
        "      <td> 0.891736</td>\n",
        "      <td> 0.927739</td>\n",
        "    </tr>\n",
        "    <tr>\n",
        "      <th>mne</th>\n",
        "      <td> 0.750992</td>\n",
        "      <td> 0.702737</td>\n",
        "    </tr>\n",
        "  </tbody>\n",
        "</table>\n",
        "</div>"
       ],
       "metadata": {},
       "output_type": "pyout",
       "prompt_number": 22,
       "text": [
        "                co      fhmm\n",
        "f_score   0.795617  0.791282\n",
        "fraction  0.891736  0.927739\n",
        "mne       0.750992  0.702737"
       ]
      }
     ],
     "prompt_number": 22
    },
    {
     "cell_type": "code",
     "collapsed": false,
     "input": [
      "tables['redd/low_freq']"
     ],
     "language": "python",
     "metadata": {},
     "outputs": [
      {
       "html": [
        "<div style=\"max-height:1000px;max-width:1500px;overflow:auto;\">\n",
        "<table border=\"1\" class=\"dataframe\">\n",
        "  <thead>\n",
        "    <tr style=\"text-align: right;\">\n",
        "      <th></th>\n",
        "      <th>co</th>\n",
        "      <th>fhmm</th>\n",
        "    </tr>\n",
        "  </thead>\n",
        "  <tbody>\n",
        "    <tr>\n",
        "      <th>f_score</th>\n",
        "      <td> 0.311894</td>\n",
        "      <td> 0.309414</td>\n",
        "    </tr>\n",
        "    <tr>\n",
        "      <th>fraction</th>\n",
        "      <td> 0.771140</td>\n",
        "      <td> 0.834987</td>\n",
        "    </tr>\n",
        "    <tr>\n",
        "      <th>mne</th>\n",
        "      <td> 1.614847</td>\n",
        "      <td> 1.347775</td>\n",
        "    </tr>\n",
        "  </tbody>\n",
        "</table>\n",
        "</div>"
       ],
       "metadata": {},
       "output_type": "pyout",
       "prompt_number": 20,
       "text": [
        "                co      fhmm\n",
        "f_score   0.311894  0.309414\n",
        "fraction  0.771140  0.834987\n",
        "mne       1.614847  1.347775"
       ]
      }
     ],
     "prompt_number": 20
    },
    {
     "cell_type": "code",
     "collapsed": false,
     "input": [
      "tables['iawe']"
     ],
     "language": "python",
     "metadata": {},
     "outputs": [
      {
       "html": [
        "<div style=\"max-height:1000px;max-width:1500px;overflow:auto;\">\n",
        "<table border=\"1\" class=\"dataframe\">\n",
        "  <thead>\n",
        "    <tr style=\"text-align: right;\">\n",
        "      <th></th>\n",
        "      <th>co</th>\n",
        "      <th>fhmm</th>\n",
        "    </tr>\n",
        "  </thead>\n",
        "  <tbody>\n",
        "    <tr>\n",
        "      <th>f_score</th>\n",
        "      <td> 0.731403</td>\n",
        "      <td> 0.731300</td>\n",
        "    </tr>\n",
        "    <tr>\n",
        "      <th>fraction</th>\n",
        "      <td> 0.890640</td>\n",
        "      <td> 0.891223</td>\n",
        "    </tr>\n",
        "    <tr>\n",
        "      <th>mne</th>\n",
        "      <td> 0.912465</td>\n",
        "      <td> 0.911057</td>\n",
        "    </tr>\n",
        "  </tbody>\n",
        "</table>\n",
        "</div>"
       ],
       "metadata": {},
       "output_type": "pyout",
       "prompt_number": 21,
       "text": [
        "                co      fhmm\n",
        "f_score   0.731403  0.731300\n",
        "fraction  0.890640  0.891223\n",
        "mne       0.912465  0.911057"
       ]
      }
     ],
     "prompt_number": 21
    },
    {
     "cell_type": "code",
     "collapsed": false,
     "input": [
      "tables['ampds']"
     ],
     "language": "python",
     "metadata": {},
     "outputs": [
      {
       "html": [
        "<div style=\"max-height:1000px;max-width:1500px;overflow:auto;\">\n",
        "<table border=\"1\" class=\"dataframe\">\n",
        "  <thead>\n",
        "    <tr style=\"text-align: right;\">\n",
        "      <th></th>\n",
        "      <th>co</th>\n",
        "      <th>fhmm</th>\n",
        "    </tr>\n",
        "  </thead>\n",
        "  <tbody>\n",
        "    <tr>\n",
        "      <th>f_score</th>\n",
        "      <td> 0.547212</td>\n",
        "      <td> 0.706137</td>\n",
        "    </tr>\n",
        "    <tr>\n",
        "      <th>fraction</th>\n",
        "      <td> 0.439094</td>\n",
        "      <td> 0.840340</td>\n",
        "    </tr>\n",
        "    <tr>\n",
        "      <th>mne</th>\n",
        "      <td> 2.221283</td>\n",
        "      <td> 0.960331</td>\n",
        "    </tr>\n",
        "  </tbody>\n",
        "</table>\n",
        "</div>"
       ],
       "metadata": {},
       "output_type": "pyout",
       "prompt_number": 22,
       "text": [
        "                co      fhmm\n",
        "f_score   0.547212  0.706137\n",
        "fraction  0.439094  0.840340\n",
        "mne       2.221283  0.960331"
       ]
      }
     ],
     "prompt_number": 22
    },
    {
     "cell_type": "code",
     "collapsed": false,
     "input": [
      "tables['pecan_1min']"
     ],
     "language": "python",
     "metadata": {},
     "outputs": [
      {
       "html": [
        "<div style=\"max-height:1000px;max-width:1500px;overflow:auto;\">\n",
        "<table border=\"1\" class=\"dataframe\">\n",
        "  <thead>\n",
        "    <tr style=\"text-align: right;\">\n",
        "      <th></th>\n",
        "      <th>co</th>\n",
        "      <th>fhmm</th>\n",
        "    </tr>\n",
        "  </thead>\n",
        "  <tbody>\n",
        "    <tr>\n",
        "      <th>f_score</th>\n",
        "      <td> 0.766471</td>\n",
        "      <td> 0.773715</td>\n",
        "    </tr>\n",
        "    <tr>\n",
        "      <th>fraction</th>\n",
        "      <td> 0.984973</td>\n",
        "      <td> 0.870985</td>\n",
        "    </tr>\n",
        "    <tr>\n",
        "      <th>mne</th>\n",
        "      <td> 0.683987</td>\n",
        "      <td> 0.746710</td>\n",
        "    </tr>\n",
        "  </tbody>\n",
        "</table>\n",
        "</div>"
       ],
       "metadata": {},
       "output_type": "pyout",
       "prompt_number": 23,
       "text": [
        "                co      fhmm\n",
        "f_score   0.766471  0.773715\n",
        "fraction  0.984973  0.870985\n",
        "mne       0.683987  0.746710"
       ]
      }
     ],
     "prompt_number": 23
    },
    {
     "cell_type": "code",
     "collapsed": false,
     "input": [
      "def create_latex_table(tables):    \n",
      "    header = \"\\\\begin{table*}\\n\" +\"\\\\begin{tabular}{lllllllllll}\\n\\\\hline\"+ \"\\\\textbf{Dataset} & \\multicolumn{2}{c}{\\\\textbf{Train time(s)}}& \\multicolumn{2}{c}{\\\\textbf{Test time(s)}} &\\multicolumn{2}{c}{\\\\textbf{MNE}}    & \\multicolumn{2}{c}{\\\\textbf{Fraction}} &\\multicolumn{2}{c}{\\\\textbf{F1 score}} \\\\\\ \\n\"+ \"~ &\\\\textbf{CO} & \\\\textbf{FHMM} &\\\\textbf{CO} & \\\\textbf{FHMM} &\\\\textbf{CO} & \\\\textbf{FHMM} &\\\\textbf{CO} & \\\\textbf{FHMM}&\\\\textbf{CO} & \\\\textbf{FHMM} \\\\\\ \\hline \\n\"\n",
      "    footer= \"\\\\hline\\n\\\\end{tabular}\\n\\\\caption{Comparison of CO and FHMM across multiple datasets}\\n\\\\label{table:disaggregation}\\n\\\\end{table*}\"\n",
      "    tab_latex= header\n",
      "    for dataset, result in tables.iteritems():\n",
      "        line=\"\"\n",
      "        line +=actual_names_datasets[dataset]\n",
      "        line +=\" &\"\n",
      "        line +=\"{:.2f} &\".format(train_time[dataset]['co'])\n",
      "        line +=\"{:.2f} &\".format(train_time[dataset]['fhmm'])\n",
      "        line +=\"{:.2f} &\".format(disaggregate_time[dataset]['co'])\n",
      "        line +=\"{:.2f} &\".format(disaggregate_time[dataset]['fhmm'])\n",
      "        line +=\"{:.2f} &\".format(result['co']['mne'])\n",
      "        line +=\"{:.2f} &\".format(result['fhmm']['mne'])\n",
      "        line +=\"{:.2f} &\".format(result['co']['fraction'])\n",
      "        line +=\"{:.2f} &\".format(result['fhmm']['fraction'])\n",
      "        line +=\"{:.2f} &\".format(result['co']['f_score'])\n",
      "        line +=\"{:.2f}\".format(result['fhmm']['f_score'])\n",
      "        line +=\"\\\\\\ \\n\"\n",
      "        tab_latex +=line\n",
      "    tab_latex +=footer\n",
      "    return tab_latex"
     ],
     "language": "python",
     "metadata": {},
     "outputs": [],
     "prompt_number": 24
    },
    {
     "cell_type": "code",
     "collapsed": false,
     "input": [
      "print(create_latex_table(tables))"
     ],
     "language": "python",
     "metadata": {},
     "outputs": [
      {
       "output_type": "stream",
       "stream": "stdout",
       "text": [
        "\\begin{table*}\n",
        "\\begin{tabular}{lllllllllll}\n",
        "\\hline\\textbf{Dataset} & \\multicolumn{2}{c}{\\textbf{Train time(s)}}& \\multicolumn{2}{c}{\\textbf{Test time(s)}} &\\multicolumn{2}{c}{\\textbf{MNE}}    & \\multicolumn{2}{c}{\\textbf{Fraction}} &\\multicolumn{2}{c}{\\textbf{F1 score}} \\\\ \n",
        "~ &\\textbf{CO} & \\textbf{FHMM} &\\textbf{CO} & \\textbf{FHMM} &\\textbf{CO} & \\textbf{FHMM} &\\textbf{CO} & \\textbf{FHMM}&\\textbf{CO} & \\textbf{FHMM} \\\\ \\hline \n",
        "REDD &3.67 &22.74 &0.14 &1.24 &1.61 &1.35 &0.77 &0.83 &0.31 &0.31\\\\ \n",
        "AMPds &6.02 &298.69 &3.31 &22.83 &2.22 &0.96 &0.44 &0.84 &0.55 &0.71\\\\ \n",
        "iAWE &1.74 &9.05 &0.08 &0.41 &0.91 &0.91 &0.89 &0.89 &0.73 &0.73\\\\ \n",
        "PECAN &1.78 &2.86 &0.02 &0.12 &0.68 &0.75 &0.98 &0.87 &0.77 &0.77\\\\ \n",
        "\\hline\n",
        "\\end{tabular}\n",
        "\\caption{Comparison of CO and FHMM across multiple datasets}\n",
        "\\label{table:disaggregation}\n",
        "\\end{table*}\n"
       ]
      }
     ],
     "prompt_number": 25
    },
    {
     "cell_type": "code",
     "collapsed": false,
     "input": [],
     "language": "python",
     "metadata": {},
     "outputs": [],
     "prompt_number": 25
    }
   ],
   "metadata": {}
  }
 ]
}