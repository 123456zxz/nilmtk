{
 "metadata": {
  "name": "",
  "signature": "sha256:4d9faf49846a2028dfa21de6c2a79a70d27c7bfc1a7fff14b3384a7af2fdf972"
 },
 "nbformat": 3,
 "nbformat_minor": 0,
 "worksheets": [
  {
   "cells": [
    {
     "cell_type": "code",
     "collapsed": false,
     "input": [
      "from __future__ import print_function, division\n",
      "from nilmtk import DataSet, TimeFrame, MeterGroup\n",
      "from nilmtk.utils import capitalise_index, capitalise_legend\n",
      "import pandas as pd\n",
      "\n",
      "# Plotting\n",
      "def _mm_to_inches(*mms):\n",
      "    return [mm / 25.4 for mm in mms]\n",
      "\n",
      "%matplotlib qt \n",
      "import matplotlib.pyplot as plt\n",
      "import seaborn as sns\n",
      "sns.set(style=\"white\")\n",
      "from pylab import rcParams\n",
      "rcParams['figure.figsize'] = _mm_to_inches(180, 100) # 180 or 88mm wide for Scientific Data"
     ],
     "language": "python",
     "metadata": {},
     "outputs": [
      {
       "output_type": "stream",
       "stream": "stdout",
       "text": [
        "Couldn't import dot_parser, loading of dot files will not be possible.\n"
       ]
      }
     ],
     "prompt_number": 1
    },
    {
     "cell_type": "code",
     "collapsed": false,
     "input": [
      "dataset = DataSet('/data/mine/vadeec/merged/ukdale.h5')\n",
      "TZ = dataset.metadata['timezone']\n",
      "elec = dataset.buildings[1].elec"
     ],
     "language": "python",
     "metadata": {},
     "outputs": [],
     "prompt_number": 2
    },
    {
     "cell_type": "code",
     "collapsed": false,
     "input": [
      "# maximum = 0.0\n",
      "for power in dataset.buildings[5].elec.mains().power_series():\n",
      "    gen_max = power.max()\n",
      "    if gen_max > maximum:\n",
      "        maximum = gen_max\n",
      "\n",
      "print(maximum)"
     ],
     "language": "python",
     "metadata": {},
     "outputs": [
      {
       "output_type": "stream",
       "stream": "stdout",
       "text": [
        "8765.0\n"
       ]
      }
     ],
     "prompt_number": 7
    },
    {
     "cell_type": "code",
     "collapsed": false,
     "input": [
      "%prun description = elec.describe()"
     ],
     "language": "python",
     "metadata": {},
     "outputs": [
      {
       "output_type": "stream",
       "stream": "stdout",
       "text": [
        "Running MeterGroup.correlation_of_sum_of_submeters_with_mains...\n",
        "\r",
        "Loading data for meter"
       ]
      },
      {
       "output_type": "stream",
       "stream": "stdout",
       "text": [
        " ElecMeterID(instance=14, building=1, dataset='UK-DALE')     "
       ]
      },
      {
       "output_type": "stream",
       "stream": "stdout",
       "text": [
        "\r",
        "Loading data for meter ElecMeterID(instance=18, building=1, dataset='UK-DALE')     "
       ]
      },
      {
       "output_type": "stream",
       "stream": "stdout",
       "text": [
        "\r",
        "Loading data for meter ElecMeterID(instance=38, building=1, dataset='UK-DALE')     "
       ]
      },
      {
       "output_type": "stream",
       "stream": "stdout",
       "text": [
        "\r",
        "Loading data for meter ElecMeterID(instance=20, building=1, dataset='UK-DALE')     "
       ]
      },
      {
       "output_type": "stream",
       "stream": "stdout",
       "text": [
        "\r",
        "Loading data for meter ElecMeterID(instance=42, building=1, dataset='UK-DALE')     "
       ]
      },
      {
       "output_type": "stream",
       "stream": "stdout",
       "text": [
        "\r",
        "Loading data for meter ElecMeterID(instance=24, building=1, dataset='UK-DALE')     "
       ]
      },
      {
       "output_type": "stream",
       "stream": "stdout",
       "text": [
        "\r",
        "Loading data for meter ElecMeterID(instance=7, building=1, dataset='UK-DALE')     "
       ]
      },
      {
       "output_type": "stream",
       "stream": "stdout",
       "text": [
        "\r",
        "Loading data for meter ElecMeterID(instance=44, building=1, dataset='UK-DALE')     "
       ]
      },
      {
       "output_type": "stream",
       "stream": "stdout",
       "text": [
        "\r",
        "Loading data for meter ElecMeterID(instance=11, building=1, dataset='UK-DALE')     "
       ]
      },
      {
       "output_type": "stream",
       "stream": "stdout",
       "text": [
        "\r",
        "Loading data for meter ElecMeterID(instance=48, building=1, dataset='UK-DALE')     "
       ]
      },
      {
       "output_type": "stream",
       "stream": "stdout",
       "text": [
        "\r",
        "Loading data for meter ElecMeterID(instance=31, building=1, dataset='UK-DALE')     "
       ]
      },
      {
       "output_type": "stream",
       "stream": "stdout",
       "text": [
        "\r",
        "Loading data for meter ElecMeterID(instance=13, building=1, dataset='UK-DALE')     "
       ]
      },
      {
       "output_type": "stream",
       "stream": "stdout",
       "text": [
        "\r",
        "Loading data for meter ElecMeterID(instance=35, building=1, dataset='UK-DALE')     "
       ]
      },
      {
       "output_type": "stream",
       "stream": "stdout",
       "text": [
        "\r",
        "Loading data for meter ElecMeterID(instance=17, building=1, dataset='UK-DALE')     "
       ]
      },
      {
       "output_type": "stream",
       "stream": "stdout",
       "text": [
        "\r",
        "Loading data for meter ElecMeterID(instance=37, building=1, dataset='UK-DALE')     "
       ]
      },
      {
       "output_type": "stream",
       "stream": "stdout",
       "text": [
        "\r",
        "Loading data for meter ElecMeterID(instance=41, building=1, dataset='UK-DALE')     "
       ]
      },
      {
       "output_type": "stream",
       "stream": "stdout",
       "text": [
        "\r",
        "Loading data for meter ElecMeterID(instance=6, building=1, dataset='UK-DALE')     "
       ]
      },
      {
       "output_type": "stream",
       "stream": "stdout",
       "text": [
        "\r",
        "Loading data for meter ElecMeterID(instance=10, building=1, dataset='UK-DALE')     "
       ]
      },
      {
       "output_type": "stream",
       "stream": "stdout",
       "text": [
        "\r",
        "Loading data for meter ElecMeterID(instance=30, building=1, dataset='UK-DALE')     "
       ]
      },
      {
       "output_type": "stream",
       "stream": "stdout",
       "text": [
        "\r",
        "Loading data for meter ElecMeterID(instance=12, building=1, dataset='UK-DALE')     "
       ]
      },
      {
       "output_type": "stream",
       "stream": "stdout",
       "text": [
        "\r",
        "Loading data for meter ElecMeterID(instance=34, building=1, dataset='UK-DALE')     "
       ]
      },
      {
       "output_type": "stream",
       "stream": "stdout",
       "text": [
        "\r",
        "Loading data for meter ElecMeterID(instance=16, building=1, dataset='UK-DALE')     "
       ]
      },
      {
       "output_type": "stream",
       "stream": "stdout",
       "text": [
        "\r",
        "Loading data for meter ElecMeterID(instance=36, building=1, dataset='UK-DALE')     "
       ]
      },
      {
       "output_type": "stream",
       "stream": "stdout",
       "text": [
        "\r",
        "Loading data for meter ElecMeterID(instance=3, building=1, dataset='UK-DALE')     "
       ]
      },
      {
       "output_type": "stream",
       "stream": "stdout",
       "text": [
        "\r",
        "Loading data for meter ElecMeterID(instance=40, building=1, dataset='UK-DALE')     "
       ]
      },
      {
       "output_type": "stream",
       "stream": "stdout",
       "text": [
        "\r",
        "Loading data for meter ElecMeterID(instance=23, building=1, dataset='UK-DALE')     "
       ]
      },
      {
       "output_type": "stream",
       "stream": "stdout",
       "text": [
        "\r",
        "Loading data for meter ElecMeterID(instance=5, building=1, dataset='UK-DALE')     "
       ]
      },
      {
       "output_type": "stream",
       "stream": "stdout",
       "text": [
        "\r",
        "Loading data for meter ElecMeterID(instance=27, building=1, dataset='UK-DALE')     "
       ]
      },
      {
       "output_type": "stream",
       "stream": "stdout",
       "text": [
        "\r",
        "Loading data for meter ElecMeterID(instance=9, building=1, dataset='UK-DALE')     "
       ]
      },
      {
       "output_type": "stream",
       "stream": "stdout",
       "text": [
        "\r",
        "Loading data for meter ElecMeterID(instance=47, building=1, dataset='UK-DALE')     "
       ]
      },
      {
       "output_type": "stream",
       "stream": "stdout",
       "text": [
        "\r",
        "Loading data for meter ElecMeterID(instance=29, building=1, dataset='UK-DALE')     "
       ]
      },
      {
       "output_type": "stream",
       "stream": "stdout",
       "text": [
        "\r",
        "Loading data for meter ElecMeterID(instance=51, building=1, dataset='UK-DALE')     "
       ]
      },
      {
       "output_type": "stream",
       "stream": "stdout",
       "text": [
        "\r",
        "Loading data for meter ElecMeterID(instance=33, building=1, dataset='UK-DALE')     "
       ]
      },
      {
       "output_type": "stream",
       "stream": "stdout",
       "text": [
        "\r",
        "Loading data for meter ElecMeterID(instance=53, building=1, dataset='UK-DALE')     "
       ]
      },
      {
       "output_type": "stream",
       "stream": "stdout",
       "text": [
        "\r",
        "Loading data for meter ElecMeterID(instance=2, building=1, dataset='UK-DALE')     "
       ]
      },
      {
       "output_type": "stream",
       "stream": "stdout",
       "text": [
        "\r",
        "Loading data for meter ElecMeterID(instance=22, building=1, dataset='UK-DALE')     "
       ]
      },
      {
       "output_type": "stream",
       "stream": "stdout",
       "text": [
        "\r",
        "Loading data for meter ElecMeterID(instance=4, building=1, dataset='UK-DALE')     "
       ]
      },
      {
       "output_type": "stream",
       "stream": "stdout",
       "text": [
        "\r",
        "Loading data for meter ElecMeterID(instance=26, building=1, dataset='UK-DALE')     "
       ]
      },
      {
       "output_type": "stream",
       "stream": "stdout",
       "text": [
        "\r",
        "Loading data for meter ElecMeterID(instance=46, building=1, dataset='UK-DALE')     "
       ]
      },
      {
       "output_type": "stream",
       "stream": "stdout",
       "text": [
        "\r",
        "Loading data for meter ElecMeterID(instance=28, building=1, dataset='UK-DALE')     "
       ]
      },
      {
       "output_type": "stream",
       "stream": "stdout",
       "text": [
        "\r",
        "Loading data for meter ElecMeterID(instance=50, building=1, dataset='UK-DALE')     "
       ]
      },
      {
       "output_type": "stream",
       "stream": "stdout",
       "text": [
        "\r",
        "Loading data for meter ElecMeterID(instance=32, building=1, dataset='UK-DALE')     "
       ]
      },
      {
       "output_type": "stream",
       "stream": "stdout",
       "text": [
        "\r",
        "Loading data for meter ElecMeterID(instance=15, building=1, dataset='UK-DALE')     "
       ]
      },
      {
       "output_type": "stream",
       "stream": "stdout",
       "text": [
        "\r",
        "Loading data for meter ElecMeterID(instance=52, building=1, dataset='UK-DALE')     "
       ]
      },
      {
       "output_type": "stream",
       "stream": "stdout",
       "text": [
        "\r",
        "Loading data for meter ElecMeterID(instance=19, building=1, dataset='UK-DALE')     "
       ]
      },
      {
       "output_type": "stream",
       "stream": "stdout",
       "text": [
        "\r",
        "Loading data for meter ElecMeterID(instance=39, building=1, dataset='UK-DALE')     "
       ]
      },
      {
       "output_type": "stream",
       "stream": "stdout",
       "text": [
        "\r",
        "Loading data for meter ElecMeterID(instance=21, building=1, dataset='UK-DALE')     "
       ]
      },
      {
       "output_type": "stream",
       "stream": "stdout",
       "text": [
        "\r",
        "Loading data for meter ElecMeterID(instance=43, building=1, dataset='UK-DALE')     "
       ]
      },
      {
       "output_type": "stream",
       "stream": "stdout",
       "text": [
        "\r",
        "Loading data for meter ElecMeterID(instance=25, building=1, dataset='UK-DALE')     "
       ]
      },
      {
       "output_type": "stream",
       "stream": "stdout",
       "text": [
        "\r",
        "Loading data for meter ElecMeterID(instance=45, building=1, dataset='UK-DALE')     "
       ]
      },
      {
       "output_type": "stream",
       "stream": "stdout",
       "text": [
        "\r",
        "Loading data for meter ElecMeterID(instance=49, building=1, dataset='UK-DALE')     "
       ]
      },
      {
       "output_type": "stream",
       "stream": "stdout",
       "text": [
        "\n",
        "Done loading data all meters for this chunk.\n",
        "\r",
        "Loading data for meter"
       ]
      },
      {
       "output_type": "stream",
       "stream": "stdout",
       "text": [
        " ElecMeterID(instance=14, building=1, dataset='UK-DALE')     "
       ]
      },
      {
       "output_type": "stream",
       "stream": "stdout",
       "text": [
        "\r",
        "Loading data for meter ElecMeterID(instance=18, building=1, dataset='UK-DALE')     "
       ]
      },
      {
       "output_type": "stream",
       "stream": "stdout",
       "text": [
        "\r",
        "Loading data for meter ElecMeterID(instance=38, building=1, dataset='UK-DALE')     "
       ]
      },
      {
       "output_type": "stream",
       "stream": "stdout",
       "text": [
        "\r",
        "Loading data for meter ElecMeterID(instance=20, building=1, dataset='UK-DALE')     "
       ]
      },
      {
       "output_type": "stream",
       "stream": "stdout",
       "text": [
        "\r",
        "Loading data for meter ElecMeterID(instance=42, building=1, dataset='UK-DALE')     "
       ]
      },
      {
       "output_type": "stream",
       "stream": "stdout",
       "text": [
        "\r",
        "Loading data for meter ElecMeterID(instance=24, building=1, dataset='UK-DALE')     "
       ]
      },
      {
       "output_type": "stream",
       "stream": "stdout",
       "text": [
        "\r",
        "Loading data for meter ElecMeterID(instance=7, building=1, dataset='UK-DALE')     "
       ]
      },
      {
       "output_type": "stream",
       "stream": "stdout",
       "text": [
        "\r",
        "Loading data for meter ElecMeterID(instance=44, building=1, dataset='UK-DALE')     "
       ]
      },
      {
       "output_type": "stream",
       "stream": "stdout",
       "text": [
        "\r",
        "Loading data for meter ElecMeterID(instance=11, building=1, dataset='UK-DALE')     "
       ]
      },
      {
       "output_type": "stream",
       "stream": "stdout",
       "text": [
        "\r",
        "Loading data for meter ElecMeterID(instance=48, building=1, dataset='UK-DALE')     "
       ]
      },
      {
       "output_type": "stream",
       "stream": "stdout",
       "text": [
        "\r",
        "Loading data for meter ElecMeterID(instance=31, building=1, dataset='UK-DALE')     "
       ]
      },
      {
       "output_type": "stream",
       "stream": "stdout",
       "text": [
        "\r",
        "Loading data for meter ElecMeterID(instance=13, building=1, dataset='UK-DALE')     "
       ]
      },
      {
       "output_type": "stream",
       "stream": "stdout",
       "text": [
        "\r",
        "Loading data for meter ElecMeterID(instance=35, building=1, dataset='UK-DALE')     "
       ]
      },
      {
       "output_type": "stream",
       "stream": "stdout",
       "text": [
        "\r",
        "Loading data for meter ElecMeterID(instance=17, building=1, dataset='UK-DALE')     "
       ]
      },
      {
       "output_type": "stream",
       "stream": "stdout",
       "text": [
        "\r",
        "Loading data for meter ElecMeterID(instance=37, building=1, dataset='UK-DALE')     "
       ]
      },
      {
       "output_type": "stream",
       "stream": "stdout",
       "text": [
        "\r",
        "Loading data for meter ElecMeterID(instance=41, building=1, dataset='UK-DALE')     "
       ]
      },
      {
       "output_type": "stream",
       "stream": "stdout",
       "text": [
        "\r",
        "Loading data for meter ElecMeterID(instance=6, building=1, dataset='UK-DALE')     "
       ]
      },
      {
       "output_type": "stream",
       "stream": "stdout",
       "text": [
        "\r",
        "Loading data for meter ElecMeterID(instance=10, building=1, dataset='UK-DALE')     "
       ]
      },
      {
       "output_type": "stream",
       "stream": "stdout",
       "text": [
        "\r",
        "Loading data for meter ElecMeterID(instance=30, building=1, dataset='UK-DALE')     "
       ]
      },
      {
       "output_type": "stream",
       "stream": "stdout",
       "text": [
        "\r",
        "Loading data for meter ElecMeterID(instance=12, building=1, dataset='UK-DALE')     "
       ]
      },
      {
       "output_type": "stream",
       "stream": "stdout",
       "text": [
        "\r",
        "Loading data for meter ElecMeterID(instance=34, building=1, dataset='UK-DALE')     "
       ]
      },
      {
       "output_type": "stream",
       "stream": "stdout",
       "text": [
        "\r",
        "Loading data for meter ElecMeterID(instance=16, building=1, dataset='UK-DALE')     "
       ]
      },
      {
       "output_type": "stream",
       "stream": "stdout",
       "text": [
        "\r",
        "Loading data for meter ElecMeterID(instance=36, building=1, dataset='UK-DALE')     "
       ]
      },
      {
       "output_type": "stream",
       "stream": "stdout",
       "text": [
        "\r",
        "Loading data for meter ElecMeterID(instance=3, building=1, dataset='UK-DALE')     "
       ]
      },
      {
       "output_type": "stream",
       "stream": "stdout",
       "text": [
        "\r",
        "Loading data for meter ElecMeterID(instance=40, building=1, dataset='UK-DALE')     "
       ]
      },
      {
       "output_type": "stream",
       "stream": "stdout",
       "text": [
        "\r",
        "Loading data for meter ElecMeterID(instance=23, building=1, dataset='UK-DALE')     "
       ]
      },
      {
       "output_type": "stream",
       "stream": "stdout",
       "text": [
        "\r",
        "Loading data for meter ElecMeterID(instance=5, building=1, dataset='UK-DALE')     "
       ]
      },
      {
       "output_type": "stream",
       "stream": "stdout",
       "text": [
        "\r",
        "Loading data for meter ElecMeterID(instance=27, building=1, dataset='UK-DALE')     "
       ]
      },
      {
       "output_type": "stream",
       "stream": "stdout",
       "text": [
        "\r",
        "Loading data for meter ElecMeterID(instance=9, building=1, dataset='UK-DALE')     "
       ]
      },
      {
       "output_type": "stream",
       "stream": "stdout",
       "text": [
        "\r",
        "Loading data for meter ElecMeterID(instance=47, building=1, dataset='UK-DALE')     "
       ]
      },
      {
       "output_type": "stream",
       "stream": "stdout",
       "text": [
        "\r",
        "Loading data for meter ElecMeterID(instance=29, building=1, dataset='UK-DALE')     "
       ]
      },
      {
       "output_type": "stream",
       "stream": "stdout",
       "text": [
        "\r",
        "Loading data for meter ElecMeterID(instance=51, building=1, dataset='UK-DALE')     "
       ]
      },
      {
       "output_type": "stream",
       "stream": "stdout",
       "text": [
        "\r",
        "Loading data for meter ElecMeterID(instance=33, building=1, dataset='UK-DALE')     "
       ]
      },
      {
       "output_type": "stream",
       "stream": "stdout",
       "text": [
        "\r",
        "Loading data for meter ElecMeterID(instance=53, building=1, dataset='UK-DALE')     "
       ]
      },
      {
       "output_type": "stream",
       "stream": "stdout",
       "text": [
        "\r",
        "Loading data for meter ElecMeterID(instance=2, building=1, dataset='UK-DALE')     "
       ]
      },
      {
       "output_type": "stream",
       "stream": "stdout",
       "text": [
        "\r",
        "Loading data for meter ElecMeterID(instance=22, building=1, dataset='UK-DALE')     "
       ]
      },
      {
       "output_type": "stream",
       "stream": "stdout",
       "text": [
        "\r",
        "Loading data for meter ElecMeterID(instance=4, building=1, dataset='UK-DALE')     "
       ]
      },
      {
       "output_type": "stream",
       "stream": "stdout",
       "text": [
        "\r",
        "Loading data for meter ElecMeterID(instance=26, building=1, dataset='UK-DALE')     "
       ]
      },
      {
       "output_type": "stream",
       "stream": "stdout",
       "text": [
        "\r",
        "Loading data for meter ElecMeterID(instance=46, building=1, dataset='UK-DALE')     "
       ]
      },
      {
       "output_type": "stream",
       "stream": "stdout",
       "text": [
        "\r",
        "Loading data for meter ElecMeterID(instance=28, building=1, dataset='UK-DALE')     "
       ]
      },
      {
       "output_type": "stream",
       "stream": "stdout",
       "text": [
        "\r",
        "Loading data for meter ElecMeterID(instance=50, building=1, dataset='UK-DALE')     "
       ]
      },
      {
       "output_type": "stream",
       "stream": "stdout",
       "text": [
        "\r",
        "Loading data for meter ElecMeterID(instance=32, building=1, dataset='UK-DALE')     "
       ]
      },
      {
       "output_type": "stream",
       "stream": "stdout",
       "text": [
        "\r",
        "Loading data for meter ElecMeterID(instance=15, building=1, dataset='UK-DALE')     "
       ]
      },
      {
       "output_type": "stream",
       "stream": "stdout",
       "text": [
        "\r",
        "Loading data for meter ElecMeterID(instance=52, building=1, dataset='UK-DALE')     "
       ]
      },
      {
       "output_type": "stream",
       "stream": "stdout",
       "text": [
        "\r",
        "Loading data for meter ElecMeterID(instance=19, building=1, dataset='UK-DALE')     "
       ]
      },
      {
       "output_type": "stream",
       "stream": "stdout",
       "text": [
        "\r",
        "Loading data for meter ElecMeterID(instance=39, building=1, dataset='UK-DALE')     "
       ]
      },
      {
       "output_type": "stream",
       "stream": "stdout",
       "text": [
        "\r",
        "Loading data for meter ElecMeterID(instance=21, building=1, dataset='UK-DALE')     "
       ]
      },
      {
       "output_type": "stream",
       "stream": "stdout",
       "text": [
        "\r",
        "Loading data for meter ElecMeterID(instance=43, building=1, dataset='UK-DALE')     "
       ]
      },
      {
       "output_type": "stream",
       "stream": "stdout",
       "text": [
        "\r",
        "Loading data for meter ElecMeterID(instance=25, building=1, dataset='UK-DALE')     "
       ]
      },
      {
       "output_type": "stream",
       "stream": "stdout",
       "text": [
        "\r",
        "Loading data for meter ElecMeterID(instance=45, building=1, dataset='UK-DALE')     "
       ]
      },
      {
       "output_type": "stream",
       "stream": "stdout",
       "text": [
        "\r",
        "Loading data for meter ElecMeterID(instance=49, building=1, dataset='UK-DALE')     "
       ]
      },
      {
       "output_type": "stream",
       "stream": "stdout",
       "text": [
        "\n",
        "Done loading data all meters for this chunk.\n",
        "\r",
        "Loading data for meter"
       ]
      },
      {
       "output_type": "stream",
       "stream": "stdout",
       "text": [
        " ElecMeterID(instance=14, building=1, dataset='UK-DALE')     "
       ]
      },
      {
       "output_type": "stream",
       "stream": "stdout",
       "text": [
        "\r",
        "Loading data for meter ElecMeterID(instance=18, building=1, dataset='UK-DALE')     "
       ]
      },
      {
       "output_type": "stream",
       "stream": "stdout",
       "text": [
        "\r",
        "Loading data for meter ElecMeterID(instance=38, building=1, dataset='UK-DALE')     "
       ]
      },
      {
       "output_type": "stream",
       "stream": "stdout",
       "text": [
        "\r",
        "Loading data for meter ElecMeterID(instance=20, building=1, dataset='UK-DALE')     "
       ]
      },
      {
       "output_type": "stream",
       "stream": "stdout",
       "text": [
        "\r",
        "Loading data for meter ElecMeterID(instance=42, building=1, dataset='UK-DALE')     "
       ]
      },
      {
       "output_type": "stream",
       "stream": "stdout",
       "text": [
        "\r",
        "Loading data for meter ElecMeterID(instance=24, building=1, dataset='UK-DALE')     "
       ]
      },
      {
       "output_type": "stream",
       "stream": "stdout",
       "text": [
        "\r",
        "Loading data for meter ElecMeterID(instance=7, building=1, dataset='UK-DALE')     "
       ]
      },
      {
       "output_type": "stream",
       "stream": "stdout",
       "text": [
        "\r",
        "Loading data for meter ElecMeterID(instance=44, building=1, dataset='UK-DALE')     "
       ]
      },
      {
       "output_type": "stream",
       "stream": "stdout",
       "text": [
        "\r",
        "Loading data for meter ElecMeterID(instance=11, building=1, dataset='UK-DALE')     "
       ]
      },
      {
       "output_type": "stream",
       "stream": "stdout",
       "text": [
        "\r",
        "Loading data for meter ElecMeterID(instance=48, building=1, dataset='UK-DALE')     "
       ]
      },
      {
       "output_type": "stream",
       "stream": "stdout",
       "text": [
        "\r",
        "Loading data for meter ElecMeterID(instance=31, building=1, dataset='UK-DALE')     "
       ]
      },
      {
       "output_type": "stream",
       "stream": "stdout",
       "text": [
        "\r",
        "Loading data for meter ElecMeterID(instance=13, building=1, dataset='UK-DALE')     "
       ]
      },
      {
       "output_type": "stream",
       "stream": "stdout",
       "text": [
        "\r",
        "Loading data for meter ElecMeterID(instance=35, building=1, dataset='UK-DALE')     "
       ]
      },
      {
       "output_type": "stream",
       "stream": "stdout",
       "text": [
        "\r",
        "Loading data for meter ElecMeterID(instance=17, building=1, dataset='UK-DALE')     "
       ]
      },
      {
       "output_type": "stream",
       "stream": "stdout",
       "text": [
        "\r",
        "Loading data for meter ElecMeterID(instance=37, building=1, dataset='UK-DALE')     "
       ]
      },
      {
       "output_type": "stream",
       "stream": "stdout",
       "text": [
        "\r",
        "Loading data for meter ElecMeterID(instance=41, building=1, dataset='UK-DALE')     "
       ]
      },
      {
       "output_type": "stream",
       "stream": "stdout",
       "text": [
        "\r",
        "Loading data for meter ElecMeterID(instance=6, building=1, dataset='UK-DALE')     "
       ]
      },
      {
       "output_type": "stream",
       "stream": "stdout",
       "text": [
        "\r",
        "Loading data for meter ElecMeterID(instance=10, building=1, dataset='UK-DALE')     "
       ]
      },
      {
       "output_type": "stream",
       "stream": "stdout",
       "text": [
        "\r",
        "Loading data for meter ElecMeterID(instance=30, building=1, dataset='UK-DALE')     "
       ]
      },
      {
       "output_type": "stream",
       "stream": "stdout",
       "text": [
        "\r",
        "Loading data for meter ElecMeterID(instance=12, building=1, dataset='UK-DALE')     "
       ]
      },
      {
       "output_type": "stream",
       "stream": "stdout",
       "text": [
        "\r",
        "Loading data for meter ElecMeterID(instance=34, building=1, dataset='UK-DALE')     "
       ]
      },
      {
       "output_type": "stream",
       "stream": "stdout",
       "text": [
        "\r",
        "Loading data for meter ElecMeterID(instance=16, building=1, dataset='UK-DALE')     "
       ]
      },
      {
       "output_type": "stream",
       "stream": "stdout",
       "text": [
        "\r",
        "Loading data for meter ElecMeterID(instance=36, building=1, dataset='UK-DALE')     "
       ]
      },
      {
       "output_type": "stream",
       "stream": "stdout",
       "text": [
        "\r",
        "Loading data for meter ElecMeterID(instance=3, building=1, dataset='UK-DALE')     "
       ]
      },
      {
       "output_type": "stream",
       "stream": "stdout",
       "text": [
        "\r",
        "Loading data for meter ElecMeterID(instance=40, building=1, dataset='UK-DALE')     "
       ]
      },
      {
       "output_type": "stream",
       "stream": "stdout",
       "text": [
        "\r",
        "Loading data for meter ElecMeterID(instance=23, building=1, dataset='UK-DALE')     "
       ]
      },
      {
       "output_type": "stream",
       "stream": "stdout",
       "text": [
        "\r",
        "Loading data for meter ElecMeterID(instance=5, building=1, dataset='UK-DALE')     "
       ]
      },
      {
       "output_type": "stream",
       "stream": "stdout",
       "text": [
        "\r",
        "Loading data for meter ElecMeterID(instance=27, building=1, dataset='UK-DALE')     "
       ]
      },
      {
       "output_type": "stream",
       "stream": "stdout",
       "text": [
        "\r",
        "Loading data for meter ElecMeterID(instance=9, building=1, dataset='UK-DALE')     "
       ]
      },
      {
       "output_type": "stream",
       "stream": "stdout",
       "text": [
        "\r",
        "Loading data for meter ElecMeterID(instance=47, building=1, dataset='UK-DALE')     "
       ]
      },
      {
       "output_type": "stream",
       "stream": "stdout",
       "text": [
        "\r",
        "Loading data for meter ElecMeterID(instance=29, building=1, dataset='UK-DALE')     "
       ]
      },
      {
       "output_type": "stream",
       "stream": "stdout",
       "text": [
        "\r",
        "Loading data for meter ElecMeterID(instance=51, building=1, dataset='UK-DALE')     "
       ]
      },
      {
       "output_type": "stream",
       "stream": "stdout",
       "text": [
        "\r",
        "Loading data for meter ElecMeterID(instance=33, building=1, dataset='UK-DALE')     "
       ]
      },
      {
       "output_type": "stream",
       "stream": "stdout",
       "text": [
        "\r",
        "Loading data for meter ElecMeterID(instance=53, building=1, dataset='UK-DALE')     "
       ]
      },
      {
       "output_type": "stream",
       "stream": "stdout",
       "text": [
        "\r",
        "Loading data for meter ElecMeterID(instance=2, building=1, dataset='UK-DALE')     "
       ]
      },
      {
       "output_type": "stream",
       "stream": "stdout",
       "text": [
        "\r",
        "Loading data for meter ElecMeterID(instance=22, building=1, dataset='UK-DALE')     "
       ]
      },
      {
       "output_type": "stream",
       "stream": "stdout",
       "text": [
        "\r",
        "Loading data for meter ElecMeterID(instance=4, building=1, dataset='UK-DALE')     "
       ]
      },
      {
       "output_type": "stream",
       "stream": "stdout",
       "text": [
        "\r",
        "Loading data for meter ElecMeterID(instance=26, building=1, dataset='UK-DALE')     "
       ]
      },
      {
       "output_type": "stream",
       "stream": "stdout",
       "text": [
        "\r",
        "Loading data for meter ElecMeterID(instance=46, building=1, dataset='UK-DALE')     "
       ]
      },
      {
       "output_type": "stream",
       "stream": "stdout",
       "text": [
        "\r",
        "Loading data for meter ElecMeterID(instance=28, building=1, dataset='UK-DALE')     "
       ]
      },
      {
       "output_type": "stream",
       "stream": "stdout",
       "text": [
        "\r",
        "Loading data for meter ElecMeterID(instance=50, building=1, dataset='UK-DALE')     "
       ]
      },
      {
       "output_type": "stream",
       "stream": "stdout",
       "text": [
        "\r",
        "Loading data for meter ElecMeterID(instance=32, building=1, dataset='UK-DALE')     "
       ]
      },
      {
       "output_type": "stream",
       "stream": "stdout",
       "text": [
        "\r",
        "Loading data for meter ElecMeterID(instance=15, building=1, dataset='UK-DALE')     "
       ]
      },
      {
       "output_type": "stream",
       "stream": "stdout",
       "text": [
        "\r",
        "Loading data for meter ElecMeterID(instance=52, building=1, dataset='UK-DALE')     "
       ]
      },
      {
       "output_type": "stream",
       "stream": "stdout",
       "text": [
        "\r",
        "Loading data for meter ElecMeterID(instance=19, building=1, dataset='UK-DALE')     "
       ]
      },
      {
       "output_type": "stream",
       "stream": "stdout",
       "text": [
        "\r",
        "Loading data for meter ElecMeterID(instance=39, building=1, dataset='UK-DALE')     "
       ]
      },
      {
       "output_type": "stream",
       "stream": "stdout",
       "text": [
        "\r",
        "Loading data for meter ElecMeterID(instance=21, building=1, dataset='UK-DALE')     "
       ]
      },
      {
       "output_type": "stream",
       "stream": "stdout",
       "text": [
        "\r",
        "Loading data for meter ElecMeterID(instance=43, building=1, dataset='UK-DALE')     "
       ]
      },
      {
       "output_type": "stream",
       "stream": "stdout",
       "text": [
        "\r",
        "Loading data for meter ElecMeterID(instance=25, building=1, dataset='UK-DALE')     "
       ]
      },
      {
       "output_type": "stream",
       "stream": "stdout",
       "text": [
        "\r",
        "Loading data for meter ElecMeterID(instance=45, building=1, dataset='UK-DALE')     "
       ]
      },
      {
       "output_type": "stream",
       "stream": "stdout",
       "text": [
        "\r",
        "Loading data for meter ElecMeterID(instance=49, building=1, dataset='UK-DALE')     "
       ]
      },
      {
       "output_type": "stream",
       "stream": "stdout",
       "text": [
        "\n",
        "Done loading data all meters for this chunk.\n",
        "Running MeterGroup.proportion_of_energy_submetered..."
       ]
      },
      {
       "output_type": "stream",
       "stream": "stdout",
       "text": [
        "\n",
        "\r",
        "Calculating"
       ]
      },
      {
       "output_type": "stream",
       "stream": "stdout",
       "text": [
        " dropout_rate for ElecMeterID(instance=2, building=1, dataset='UK-DALE') ...   "
       ]
      },
      {
       "output_type": "stream",
       "stream": "stdout",
       "text": [
        "\r",
        "Calculating dropout_rate for ElecMeterID(instance=3, building=1, dataset='UK-DALE') ...   "
       ]
      },
      {
       "output_type": "stream",
       "stream": "stdout",
       "text": [
        "\r",
        "Calculating dropout_rate for ElecMeterID(instance=4, building=1, dataset='UK-DALE') ...   "
       ]
      },
      {
       "output_type": "stream",
       "stream": "stdout",
       "text": [
        "\r",
        "Calculating dropout_rate for ElecMeterID(instance=5, building=1, dataset='UK-DALE') ...   "
       ]
      },
      {
       "output_type": "stream",
       "stream": "stdout",
       "text": [
        "\r",
        "Calculating dropout_rate for ElecMeterID(instance=6, building=1, dataset='UK-DALE') ...   "
       ]
      },
      {
       "output_type": "stream",
       "stream": "stdout",
       "text": [
        "\r",
        "Calculating dropout_rate for ElecMeterID(instance=7, building=1, dataset='UK-DALE') ...   "
       ]
      },
      {
       "output_type": "stream",
       "stream": "stdout",
       "text": [
        "\r",
        "Calculating dropout_rate for ElecMeterID(instance=8, building=1, dataset='UK-DALE') ...   "
       ]
      },
      {
       "output_type": "stream",
       "stream": "stdout",
       "text": [
        "\r",
        "Calculating dropout_rate for ElecMeterID(instance=9, building=1, dataset='UK-DALE') ...   "
       ]
      },
      {
       "output_type": "stream",
       "stream": "stdout",
       "text": [
        "\r",
        "Calculating dropout_rate for ElecMeterID(instance=10, building=1, dataset='UK-DALE') ...   "
       ]
      },
      {
       "output_type": "stream",
       "stream": "stdout",
       "text": [
        "\r",
        "Calculating dropout_rate for ElecMeterID(instance=11, building=1, dataset='UK-DALE') ...   "
       ]
      },
      {
       "output_type": "stream",
       "stream": "stdout",
       "text": [
        "\r",
        "Calculating dropout_rate for ElecMeterID(instance=12, building=1, dataset='UK-DALE') ...   "
       ]
      },
      {
       "output_type": "stream",
       "stream": "stdout",
       "text": [
        "\r",
        "Calculating dropout_rate for ElecMeterID(instance=13, building=1, dataset='UK-DALE') ...   "
       ]
      },
      {
       "output_type": "stream",
       "stream": "stdout",
       "text": [
        "\r",
        "Calculating dropout_rate for ElecMeterID(instance=14, building=1, dataset='UK-DALE') ...   "
       ]
      },
      {
       "output_type": "stream",
       "stream": "stdout",
       "text": [
        "\r",
        "Calculating dropout_rate for ElecMeterID(instance=15, building=1, dataset='UK-DALE') ...   "
       ]
      },
      {
       "output_type": "stream",
       "stream": "stdout",
       "text": [
        "\r",
        "Calculating dropout_rate for ElecMeterID(instance=16, building=1, dataset='UK-DALE') ...   "
       ]
      },
      {
       "output_type": "stream",
       "stream": "stdout",
       "text": [
        "\r",
        "Calculating dropout_rate for ElecMeterID(instance=17, building=1, dataset='UK-DALE') ...   "
       ]
      },
      {
       "output_type": "stream",
       "stream": "stdout",
       "text": [
        "\r",
        "Calculating dropout_rate for ElecMeterID(instance=18, building=1, dataset='UK-DALE') ...   "
       ]
      },
      {
       "output_type": "stream",
       "stream": "stdout",
       "text": [
        "\r",
        "Calculating dropout_rate for ElecMeterID(instance=19, building=1, dataset='UK-DALE') ...   "
       ]
      },
      {
       "output_type": "stream",
       "stream": "stdout",
       "text": [
        "\r",
        "Calculating dropout_rate for ElecMeterID(instance=20, building=1, dataset='UK-DALE') ...   "
       ]
      },
      {
       "output_type": "stream",
       "stream": "stdout",
       "text": [
        "\r",
        "Calculating dropout_rate for ElecMeterID(instance=21, building=1, dataset='UK-DALE') ...   "
       ]
      },
      {
       "output_type": "stream",
       "stream": "stdout",
       "text": [
        "\r",
        "Calculating dropout_rate for ElecMeterID(instance=22, building=1, dataset='UK-DALE') ...   "
       ]
      },
      {
       "output_type": "stream",
       "stream": "stdout",
       "text": [
        "\r",
        "Calculating dropout_rate for ElecMeterID(instance=23, building=1, dataset='UK-DALE') ...   "
       ]
      },
      {
       "output_type": "stream",
       "stream": "stdout",
       "text": [
        "\r",
        "Calculating dropout_rate for ElecMeterID(instance=24, building=1, dataset='UK-DALE') ...   "
       ]
      },
      {
       "output_type": "stream",
       "stream": "stdout",
       "text": [
        "\r",
        "Calculating dropout_rate for ElecMeterID(instance=25, building=1, dataset='UK-DALE') ...   "
       ]
      },
      {
       "output_type": "stream",
       "stream": "stdout",
       "text": [
        "\r",
        "Calculating dropout_rate for ElecMeterID(instance=26, building=1, dataset='UK-DALE') ...   "
       ]
      },
      {
       "output_type": "stream",
       "stream": "stdout",
       "text": [
        "\r",
        "Calculating dropout_rate for ElecMeterID(instance=27, building=1, dataset='UK-DALE') ...   "
       ]
      },
      {
       "output_type": "stream",
       "stream": "stdout",
       "text": [
        "\r",
        "Calculating dropout_rate for ElecMeterID(instance=28, building=1, dataset='UK-DALE') ...   "
       ]
      },
      {
       "output_type": "stream",
       "stream": "stdout",
       "text": [
        "\r",
        "Calculating dropout_rate for ElecMeterID(instance=29, building=1, dataset='UK-DALE') ...   "
       ]
      },
      {
       "output_type": "stream",
       "stream": "stdout",
       "text": [
        "\r",
        "Calculating dropout_rate for ElecMeterID(instance=30, building=1, dataset='UK-DALE') ...   "
       ]
      },
      {
       "output_type": "stream",
       "stream": "stdout",
       "text": [
        "\r",
        "Calculating dropout_rate for ElecMeterID(instance=31, building=1, dataset='UK-DALE') ...   "
       ]
      },
      {
       "output_type": "stream",
       "stream": "stdout",
       "text": [
        "\r",
        "Calculating dropout_rate for ElecMeterID(instance=32, building=1, dataset='UK-DALE') ...   "
       ]
      },
      {
       "output_type": "stream",
       "stream": "stdout",
       "text": [
        "\r",
        "Calculating dropout_rate for ElecMeterID(instance=33, building=1, dataset='UK-DALE') ...   "
       ]
      },
      {
       "output_type": "stream",
       "stream": "stdout",
       "text": [
        "\r",
        "Calculating dropout_rate for ElecMeterID(instance=34, building=1, dataset='UK-DALE') ...   "
       ]
      },
      {
       "output_type": "stream",
       "stream": "stdout",
       "text": [
        "\r",
        "Calculating dropout_rate for ElecMeterID(instance=35, building=1, dataset='UK-DALE') ...   "
       ]
      },
      {
       "output_type": "stream",
       "stream": "stdout",
       "text": [
        "\r",
        "Calculating dropout_rate for ElecMeterID(instance=36, building=1, dataset='UK-DALE') ...   "
       ]
      },
      {
       "output_type": "stream",
       "stream": "stdout",
       "text": [
        "\r",
        "Calculating dropout_rate for ElecMeterID(instance=37, building=1, dataset='UK-DALE') ...   "
       ]
      },
      {
       "output_type": "stream",
       "stream": "stdout",
       "text": [
        "\r",
        "Calculating dropout_rate for ElecMeterID(instance=38, building=1, dataset='UK-DALE') ...   "
       ]
      },
      {
       "output_type": "stream",
       "stream": "stdout",
       "text": [
        "\r",
        "Calculating dropout_rate for ElecMeterID(instance=39, building=1, dataset='UK-DALE') ...   "
       ]
      },
      {
       "output_type": "stream",
       "stream": "stdout",
       "text": [
        "\r",
        "Calculating dropout_rate for ElecMeterID(instance=40, building=1, dataset='UK-DALE') ...   "
       ]
      },
      {
       "output_type": "stream",
       "stream": "stdout",
       "text": [
        "\r",
        "Calculating dropout_rate for ElecMeterID(instance=41, building=1, dataset='UK-DALE') ...   "
       ]
      },
      {
       "output_type": "stream",
       "stream": "stdout",
       "text": [
        "\r",
        "Calculating dropout_rate for ElecMeterID(instance=42, building=1, dataset='UK-DALE') ...   "
       ]
      },
      {
       "output_type": "stream",
       "stream": "stdout",
       "text": [
        "\r",
        "Calculating dropout_rate for ElecMeterID(instance=43, building=1, dataset='UK-DALE') ...   "
       ]
      },
      {
       "output_type": "stream",
       "stream": "stdout",
       "text": [
        "\r",
        "Calculating dropout_rate for ElecMeterID(instance=44, building=1, dataset='UK-DALE') ...   "
       ]
      },
      {
       "output_type": "stream",
       "stream": "stdout",
       "text": [
        "\r",
        "Calculating dropout_rate for ElecMeterID(instance=45, building=1, dataset='UK-DALE') ...   "
       ]
      },
      {
       "output_type": "stream",
       "stream": "stdout",
       "text": [
        "\r",
        "Calculating dropout_rate for ElecMeterID(instance=46, building=1, dataset='UK-DALE') ...   "
       ]
      },
      {
       "output_type": "stream",
       "stream": "stdout",
       "text": [
        "\r",
        "Calculating dropout_rate for ElecMeterID(instance=47, building=1, dataset='UK-DALE') ...   "
       ]
      },
      {
       "output_type": "stream",
       "stream": "stdout",
       "text": [
        "\r",
        "Calculating dropout_rate for ElecMeterID(instance=48, building=1, dataset='UK-DALE') ...   "
       ]
      },
      {
       "output_type": "stream",
       "stream": "stdout",
       "text": [
        "\r",
        "Calculating dropout_rate for ElecMeterID(instance=49, building=1, dataset='UK-DALE') ...   "
       ]
      },
      {
       "output_type": "stream",
       "stream": "stdout",
       "text": [
        "\r",
        "Calculating dropout_rate for ElecMeterID(instance=50, building=1, dataset='UK-DALE') ...   "
       ]
      },
      {
       "output_type": "stream",
       "stream": "stdout",
       "text": [
        "\r",
        "Calculating dropout_rate for ElecMeterID(instance=51, building=1, dataset='UK-DALE') ...   "
       ]
      },
      {
       "output_type": "stream",
       "stream": "stdout",
       "text": [
        "\r",
        "Calculating dropout_rate for ElecMeterID(instance=52, building=1, dataset='UK-DALE') ...   "
       ]
      },
      {
       "output_type": "stream",
       "stream": "stdout",
       "text": [
        "\r",
        "Calculating dropout_rate for ElecMeterID(instance=53, building=1, dataset='UK-DALE') ...   "
       ]
      },
      {
       "output_type": "stream",
       "stream": "stdout",
       "text": [
        "\r",
        "Calculating dropout_rate for ElecMeterID(instance=54, building=1, dataset='UK-DALE') ...   "
       ]
      },
      {
       "output_type": "stream",
       "stream": "stdout",
       "text": [
        " "
       ]
      },
      {
       "output_type": "stream",
       "stream": "stderr",
       "text": [
        "/home/dk3810/workspace/python/nilmtk/nilmtk/preprocessing/clip.py:50: RuntimeWarning: No measurement limits for ('voltage', '').\n",
        "  warn('No measurement limits for {}.'.format(measurement), RuntimeWarning)\n"
       ]
      }
     ],
     "prompt_number": 29
    },
    {
     "cell_type": "code",
     "collapsed": false,
     "input": [
      "description"
     ],
     "language": "python",
     "metadata": {},
     "outputs": [
      {
       "metadata": {},
       "output_type": "pyout",
       "prompt_number": 30,
       "text": [
        "total_n_meters                                                                               54\n",
        "total_n_site_meters                                                                           2\n",
        "correlation_of_sum_of_submeters_with_mains                                            0.9934513\n",
        "proportion_of_energy_submetered                                                       0.7985731\n",
        "dropout_rates_ignoring_gaps                   min=9.65187885894e-05, mean=0.12455103182, max...\n",
        "mains_sample_period                                                                           1\n",
        "submeter_sample_period                                                                        6\n",
        "timeframe                                     start=2012-11-09 22:28:18+00:00, end=2015-01-0...\n",
        "total_duration                                                                786 days 07:58:54\n",
        "mains_uptime                                                           655 days 18:08:49.100000\n",
        "proportion_uptime                                                                     0.8339425\n",
        "average_mains_energy_per_day                  active      7.637151\n",
        "apparent    8.899579\n",
        "dtyp...\n",
        "dtype: object"
       ]
      }
     ],
     "prompt_number": 30
    },
    {
     "cell_type": "code",
     "collapsed": false,
     "input": [
      "dataset.set_window(\"2013-04-12\", None)\n",
      "%prun description2 = elec.describe()"
     ],
     "language": "python",
     "metadata": {},
     "outputs": [
      {
       "output_type": "stream",
       "stream": "stdout",
       "text": [
        "Running MeterGroup.correlation_of_sum_of_submeters_with_mains...\n",
        "\r",
        "Loading data for meter"
       ]
      },
      {
       "output_type": "stream",
       "stream": "stdout",
       "text": [
        " ElecMeterID(instance=14, building=1, dataset='UK-DALE')     "
       ]
      },
      {
       "output_type": "stream",
       "stream": "stdout",
       "text": [
        "\r",
        "Loading data for meter ElecMeterID(instance=18, building=1, dataset='UK-DALE')     "
       ]
      },
      {
       "output_type": "stream",
       "stream": "stdout",
       "text": [
        "\r",
        "Loading data for meter ElecMeterID(instance=38, building=1, dataset='UK-DALE')     "
       ]
      },
      {
       "output_type": "stream",
       "stream": "stdout",
       "text": [
        "\r",
        "Loading data for meter ElecMeterID(instance=20, building=1, dataset='UK-DALE')     "
       ]
      },
      {
       "output_type": "stream",
       "stream": "stdout",
       "text": [
        "\r",
        "Loading data for meter ElecMeterID(instance=42, building=1, dataset='UK-DALE')     "
       ]
      },
      {
       "output_type": "stream",
       "stream": "stdout",
       "text": [
        "\r",
        "Loading data for meter ElecMeterID(instance=24, building=1, dataset='UK-DALE')     "
       ]
      },
      {
       "output_type": "stream",
       "stream": "stdout",
       "text": [
        "\r",
        "Loading data for meter ElecMeterID(instance=7, building=1, dataset='UK-DALE')     "
       ]
      },
      {
       "output_type": "stream",
       "stream": "stdout",
       "text": [
        "\r",
        "Loading data for meter ElecMeterID(instance=44, building=1, dataset='UK-DALE')     "
       ]
      },
      {
       "output_type": "stream",
       "stream": "stdout",
       "text": [
        "\r",
        "Loading data for meter ElecMeterID(instance=11, building=1, dataset='UK-DALE')     "
       ]
      },
      {
       "output_type": "stream",
       "stream": "stdout",
       "text": [
        "\r",
        "Loading data for meter ElecMeterID(instance=48, building=1, dataset='UK-DALE')     "
       ]
      },
      {
       "output_type": "stream",
       "stream": "stdout",
       "text": [
        "\r",
        "Loading data for meter ElecMeterID(instance=31, building=1, dataset='UK-DALE')     "
       ]
      },
      {
       "output_type": "stream",
       "stream": "stdout",
       "text": [
        "\r",
        "Loading data for meter ElecMeterID(instance=13, building=1, dataset='UK-DALE')     "
       ]
      },
      {
       "output_type": "stream",
       "stream": "stdout",
       "text": [
        "\r",
        "Loading data for meter ElecMeterID(instance=35, building=1, dataset='UK-DALE')     "
       ]
      },
      {
       "output_type": "stream",
       "stream": "stdout",
       "text": [
        "\r",
        "Loading data for meter ElecMeterID(instance=17, building=1, dataset='UK-DALE')     "
       ]
      },
      {
       "output_type": "stream",
       "stream": "stdout",
       "text": [
        "\r",
        "Loading data for meter ElecMeterID(instance=37, building=1, dataset='UK-DALE')     "
       ]
      },
      {
       "output_type": "stream",
       "stream": "stdout",
       "text": [
        "\r",
        "Loading data for meter ElecMeterID(instance=41, building=1, dataset='UK-DALE')     "
       ]
      },
      {
       "output_type": "stream",
       "stream": "stdout",
       "text": [
        "\r",
        "Loading data for meter ElecMeterID(instance=6, building=1, dataset='UK-DALE')     "
       ]
      },
      {
       "output_type": "stream",
       "stream": "stdout",
       "text": [
        "\r",
        "Loading data for meter ElecMeterID(instance=10, building=1, dataset='UK-DALE')     "
       ]
      },
      {
       "output_type": "stream",
       "stream": "stdout",
       "text": [
        "\r",
        "Loading data for meter ElecMeterID(instance=30, building=1, dataset='UK-DALE')     "
       ]
      },
      {
       "output_type": "stream",
       "stream": "stdout",
       "text": [
        "\r",
        "Loading data for meter ElecMeterID(instance=12, building=1, dataset='UK-DALE')     "
       ]
      },
      {
       "output_type": "stream",
       "stream": "stdout",
       "text": [
        "\r",
        "Loading data for meter ElecMeterID(instance=34, building=1, dataset='UK-DALE')     "
       ]
      },
      {
       "output_type": "stream",
       "stream": "stdout",
       "text": [
        "\r",
        "Loading data for meter ElecMeterID(instance=16, building=1, dataset='UK-DALE')     "
       ]
      },
      {
       "output_type": "stream",
       "stream": "stdout",
       "text": [
        "\r",
        "Loading data for meter ElecMeterID(instance=36, building=1, dataset='UK-DALE')     "
       ]
      },
      {
       "output_type": "stream",
       "stream": "stdout",
       "text": [
        "\r",
        "Loading data for meter ElecMeterID(instance=3, building=1, dataset='UK-DALE')     "
       ]
      },
      {
       "output_type": "stream",
       "stream": "stdout",
       "text": [
        "\r",
        "Loading data for meter ElecMeterID(instance=40, building=1, dataset='UK-DALE')     "
       ]
      },
      {
       "output_type": "stream",
       "stream": "stdout",
       "text": [
        "\r",
        "Loading data for meter ElecMeterID(instance=23, building=1, dataset='UK-DALE')     "
       ]
      },
      {
       "output_type": "stream",
       "stream": "stdout",
       "text": [
        "\r",
        "Loading data for meter ElecMeterID(instance=5, building=1, dataset='UK-DALE')     "
       ]
      },
      {
       "output_type": "stream",
       "stream": "stdout",
       "text": [
        "\r",
        "Loading data for meter ElecMeterID(instance=27, building=1, dataset='UK-DALE')     "
       ]
      },
      {
       "output_type": "stream",
       "stream": "stdout",
       "text": [
        "\r",
        "Loading data for meter ElecMeterID(instance=9, building=1, dataset='UK-DALE')     "
       ]
      },
      {
       "output_type": "stream",
       "stream": "stdout",
       "text": [
        "\r",
        "Loading data for meter ElecMeterID(instance=47, building=1, dataset='UK-DALE')     "
       ]
      },
      {
       "output_type": "stream",
       "stream": "stdout",
       "text": [
        "\r",
        "Loading data for meter ElecMeterID(instance=29, building=1, dataset='UK-DALE')     "
       ]
      },
      {
       "output_type": "stream",
       "stream": "stdout",
       "text": [
        "\r",
        "Loading data for meter ElecMeterID(instance=51, building=1, dataset='UK-DALE')     "
       ]
      },
      {
       "output_type": "stream",
       "stream": "stdout",
       "text": [
        "\r",
        "Loading data for meter ElecMeterID(instance=33, building=1, dataset='UK-DALE')     "
       ]
      },
      {
       "output_type": "stream",
       "stream": "stdout",
       "text": [
        "\r",
        "Loading data for meter ElecMeterID(instance=53, building=1, dataset='UK-DALE')     "
       ]
      },
      {
       "output_type": "stream",
       "stream": "stdout",
       "text": [
        "\r",
        "Loading data for meter ElecMeterID(instance=2, building=1, dataset='UK-DALE')     "
       ]
      },
      {
       "output_type": "stream",
       "stream": "stdout",
       "text": [
        "\r",
        "Loading data for meter ElecMeterID(instance=22, building=1, dataset='UK-DALE')     "
       ]
      },
      {
       "output_type": "stream",
       "stream": "stdout",
       "text": [
        "\r",
        "Loading data for meter ElecMeterID(instance=4, building=1, dataset='UK-DALE')     "
       ]
      },
      {
       "output_type": "stream",
       "stream": "stdout",
       "text": [
        "\r",
        "Loading data for meter ElecMeterID(instance=26, building=1, dataset='UK-DALE')     "
       ]
      },
      {
       "output_type": "stream",
       "stream": "stdout",
       "text": [
        "\r",
        "Loading data for meter ElecMeterID(instance=46, building=1, dataset='UK-DALE')     "
       ]
      },
      {
       "output_type": "stream",
       "stream": "stdout",
       "text": [
        "\r",
        "Loading data for meter ElecMeterID(instance=28, building=1, dataset='UK-DALE')     "
       ]
      },
      {
       "output_type": "stream",
       "stream": "stdout",
       "text": [
        "\r",
        "Loading data for meter ElecMeterID(instance=50, building=1, dataset='UK-DALE')     "
       ]
      },
      {
       "output_type": "stream",
       "stream": "stdout",
       "text": [
        "\r",
        "Loading data for meter ElecMeterID(instance=32, building=1, dataset='UK-DALE')     "
       ]
      },
      {
       "output_type": "stream",
       "stream": "stdout",
       "text": [
        "\r",
        "Loading data for meter ElecMeterID(instance=15, building=1, dataset='UK-DALE')     "
       ]
      },
      {
       "output_type": "stream",
       "stream": "stdout",
       "text": [
        "\r",
        "Loading data for meter ElecMeterID(instance=52, building=1, dataset='UK-DALE')     "
       ]
      },
      {
       "output_type": "stream",
       "stream": "stdout",
       "text": [
        "\r",
        "Loading data for meter ElecMeterID(instance=19, building=1, dataset='UK-DALE')     "
       ]
      },
      {
       "output_type": "stream",
       "stream": "stdout",
       "text": [
        "\r",
        "Loading data for meter ElecMeterID(instance=39, building=1, dataset='UK-DALE')     "
       ]
      },
      {
       "output_type": "stream",
       "stream": "stdout",
       "text": [
        "\r",
        "Loading data for meter ElecMeterID(instance=21, building=1, dataset='UK-DALE')     "
       ]
      },
      {
       "output_type": "stream",
       "stream": "stdout",
       "text": [
        "\r",
        "Loading data for meter ElecMeterID(instance=43, building=1, dataset='UK-DALE')     "
       ]
      },
      {
       "output_type": "stream",
       "stream": "stdout",
       "text": [
        "\r",
        "Loading data for meter ElecMeterID(instance=25, building=1, dataset='UK-DALE')     "
       ]
      },
      {
       "output_type": "stream",
       "stream": "stdout",
       "text": [
        "\r",
        "Loading data for meter ElecMeterID(instance=45, building=1, dataset='UK-DALE')     "
       ]
      },
      {
       "output_type": "stream",
       "stream": "stdout",
       "text": [
        "\r",
        "Loading data for meter ElecMeterID(instance=49, building=1, dataset='UK-DALE')     "
       ]
      },
      {
       "output_type": "stream",
       "stream": "stdout",
       "text": [
        "\n",
        "Done loading data all meters for this chunk.\n",
        "\r",
        "Loading data for meter"
       ]
      },
      {
       "output_type": "stream",
       "stream": "stdout",
       "text": [
        " ElecMeterID(instance=14, building=1, dataset='UK-DALE')     "
       ]
      },
      {
       "output_type": "stream",
       "stream": "stdout",
       "text": [
        "\r",
        "Loading data for meter ElecMeterID(instance=18, building=1, dataset='UK-DALE')     "
       ]
      },
      {
       "output_type": "stream",
       "stream": "stdout",
       "text": [
        "\r",
        "Loading data for meter ElecMeterID(instance=38, building=1, dataset='UK-DALE')     "
       ]
      },
      {
       "output_type": "stream",
       "stream": "stdout",
       "text": [
        "\r",
        "Loading data for meter ElecMeterID(instance=20, building=1, dataset='UK-DALE')     "
       ]
      },
      {
       "output_type": "stream",
       "stream": "stdout",
       "text": [
        "\r",
        "Loading data for meter ElecMeterID(instance=42, building=1, dataset='UK-DALE')     "
       ]
      },
      {
       "output_type": "stream",
       "stream": "stdout",
       "text": [
        "\r",
        "Loading data for meter ElecMeterID(instance=24, building=1, dataset='UK-DALE')     "
       ]
      },
      {
       "output_type": "stream",
       "stream": "stdout",
       "text": [
        "\r",
        "Loading data for meter ElecMeterID(instance=7, building=1, dataset='UK-DALE')     "
       ]
      },
      {
       "output_type": "stream",
       "stream": "stdout",
       "text": [
        "\r",
        "Loading data for meter ElecMeterID(instance=44, building=1, dataset='UK-DALE')     "
       ]
      },
      {
       "output_type": "stream",
       "stream": "stdout",
       "text": [
        "\r",
        "Loading data for meter ElecMeterID(instance=11, building=1, dataset='UK-DALE')     "
       ]
      },
      {
       "output_type": "stream",
       "stream": "stdout",
       "text": [
        "\r",
        "Loading data for meter ElecMeterID(instance=48, building=1, dataset='UK-DALE')     "
       ]
      },
      {
       "output_type": "stream",
       "stream": "stdout",
       "text": [
        "\r",
        "Loading data for meter ElecMeterID(instance=31, building=1, dataset='UK-DALE')     "
       ]
      },
      {
       "output_type": "stream",
       "stream": "stdout",
       "text": [
        "\r",
        "Loading data for meter ElecMeterID(instance=13, building=1, dataset='UK-DALE')     "
       ]
      },
      {
       "output_type": "stream",
       "stream": "stdout",
       "text": [
        "\r",
        "Loading data for meter ElecMeterID(instance=35, building=1, dataset='UK-DALE')     "
       ]
      },
      {
       "output_type": "stream",
       "stream": "stdout",
       "text": [
        "\r",
        "Loading data for meter ElecMeterID(instance=17, building=1, dataset='UK-DALE')     "
       ]
      },
      {
       "output_type": "stream",
       "stream": "stdout",
       "text": [
        "\r",
        "Loading data for meter ElecMeterID(instance=37, building=1, dataset='UK-DALE')     "
       ]
      },
      {
       "output_type": "stream",
       "stream": "stdout",
       "text": [
        "\r",
        "Loading data for meter ElecMeterID(instance=41, building=1, dataset='UK-DALE')     "
       ]
      },
      {
       "output_type": "stream",
       "stream": "stdout",
       "text": [
        "\r",
        "Loading data for meter ElecMeterID(instance=6, building=1, dataset='UK-DALE')     "
       ]
      },
      {
       "output_type": "stream",
       "stream": "stdout",
       "text": [
        "\r",
        "Loading data for meter ElecMeterID(instance=10, building=1, dataset='UK-DALE')     "
       ]
      },
      {
       "output_type": "stream",
       "stream": "stdout",
       "text": [
        "\r",
        "Loading data for meter ElecMeterID(instance=30, building=1, dataset='UK-DALE')     "
       ]
      },
      {
       "output_type": "stream",
       "stream": "stdout",
       "text": [
        "\r",
        "Loading data for meter ElecMeterID(instance=12, building=1, dataset='UK-DALE')     "
       ]
      },
      {
       "output_type": "stream",
       "stream": "stdout",
       "text": [
        "\r",
        "Loading data for meter ElecMeterID(instance=34, building=1, dataset='UK-DALE')     "
       ]
      },
      {
       "output_type": "stream",
       "stream": "stdout",
       "text": [
        "\r",
        "Loading data for meter ElecMeterID(instance=16, building=1, dataset='UK-DALE')     "
       ]
      },
      {
       "output_type": "stream",
       "stream": "stdout",
       "text": [
        "\r",
        "Loading data for meter ElecMeterID(instance=36, building=1, dataset='UK-DALE')     "
       ]
      },
      {
       "output_type": "stream",
       "stream": "stdout",
       "text": [
        "\r",
        "Loading data for meter ElecMeterID(instance=3, building=1, dataset='UK-DALE')     "
       ]
      },
      {
       "output_type": "stream",
       "stream": "stdout",
       "text": [
        "\r",
        "Loading data for meter ElecMeterID(instance=40, building=1, dataset='UK-DALE')     "
       ]
      },
      {
       "output_type": "stream",
       "stream": "stdout",
       "text": [
        "\r",
        "Loading data for meter ElecMeterID(instance=23, building=1, dataset='UK-DALE')     "
       ]
      },
      {
       "output_type": "stream",
       "stream": "stdout",
       "text": [
        "\r",
        "Loading data for meter ElecMeterID(instance=5, building=1, dataset='UK-DALE')     "
       ]
      },
      {
       "output_type": "stream",
       "stream": "stdout",
       "text": [
        "\r",
        "Loading data for meter ElecMeterID(instance=27, building=1, dataset='UK-DALE')     "
       ]
      },
      {
       "output_type": "stream",
       "stream": "stdout",
       "text": [
        "\r",
        "Loading data for meter ElecMeterID(instance=9, building=1, dataset='UK-DALE')     "
       ]
      },
      {
       "output_type": "stream",
       "stream": "stdout",
       "text": [
        "\r",
        "Loading data for meter ElecMeterID(instance=47, building=1, dataset='UK-DALE')     "
       ]
      },
      {
       "output_type": "stream",
       "stream": "stdout",
       "text": [
        "\r",
        "Loading data for meter ElecMeterID(instance=29, building=1, dataset='UK-DALE')     "
       ]
      },
      {
       "output_type": "stream",
       "stream": "stdout",
       "text": [
        "\r",
        "Loading data for meter ElecMeterID(instance=51, building=1, dataset='UK-DALE')     "
       ]
      },
      {
       "output_type": "stream",
       "stream": "stdout",
       "text": [
        "\r",
        "Loading data for meter ElecMeterID(instance=33, building=1, dataset='UK-DALE')     "
       ]
      },
      {
       "output_type": "stream",
       "stream": "stdout",
       "text": [
        "\r",
        "Loading data for meter ElecMeterID(instance=53, building=1, dataset='UK-DALE')     "
       ]
      },
      {
       "output_type": "stream",
       "stream": "stdout",
       "text": [
        "\r",
        "Loading data for meter ElecMeterID(instance=2, building=1, dataset='UK-DALE')     "
       ]
      },
      {
       "output_type": "stream",
       "stream": "stdout",
       "text": [
        "\r",
        "Loading data for meter ElecMeterID(instance=22, building=1, dataset='UK-DALE')     "
       ]
      },
      {
       "output_type": "stream",
       "stream": "stdout",
       "text": [
        "\r",
        "Loading data for meter ElecMeterID(instance=4, building=1, dataset='UK-DALE')     "
       ]
      },
      {
       "output_type": "stream",
       "stream": "stdout",
       "text": [
        "\r",
        "Loading data for meter ElecMeterID(instance=26, building=1, dataset='UK-DALE')     "
       ]
      },
      {
       "output_type": "stream",
       "stream": "stdout",
       "text": [
        "\r",
        "Loading data for meter ElecMeterID(instance=46, building=1, dataset='UK-DALE')     "
       ]
      },
      {
       "output_type": "stream",
       "stream": "stdout",
       "text": [
        "\r",
        "Loading data for meter ElecMeterID(instance=28, building=1, dataset='UK-DALE')     "
       ]
      },
      {
       "output_type": "stream",
       "stream": "stdout",
       "text": [
        "\r",
        "Loading data for meter ElecMeterID(instance=50, building=1, dataset='UK-DALE')     "
       ]
      },
      {
       "output_type": "stream",
       "stream": "stdout",
       "text": [
        "\r",
        "Loading data for meter ElecMeterID(instance=32, building=1, dataset='UK-DALE')     "
       ]
      },
      {
       "output_type": "stream",
       "stream": "stdout",
       "text": [
        "\r",
        "Loading data for meter ElecMeterID(instance=15, building=1, dataset='UK-DALE')     "
       ]
      },
      {
       "output_type": "stream",
       "stream": "stdout",
       "text": [
        "\r",
        "Loading data for meter ElecMeterID(instance=52, building=1, dataset='UK-DALE')     "
       ]
      },
      {
       "output_type": "stream",
       "stream": "stdout",
       "text": [
        "\r",
        "Loading data for meter ElecMeterID(instance=19, building=1, dataset='UK-DALE')     "
       ]
      },
      {
       "output_type": "stream",
       "stream": "stdout",
       "text": [
        "\r",
        "Loading data for meter ElecMeterID(instance=39, building=1, dataset='UK-DALE')     "
       ]
      },
      {
       "output_type": "stream",
       "stream": "stdout",
       "text": [
        "\r",
        "Loading data for meter ElecMeterID(instance=21, building=1, dataset='UK-DALE')     "
       ]
      },
      {
       "output_type": "stream",
       "stream": "stdout",
       "text": [
        "\r",
        "Loading data for meter ElecMeterID(instance=43, building=1, dataset='UK-DALE')     "
       ]
      },
      {
       "output_type": "stream",
       "stream": "stdout",
       "text": [
        "\r",
        "Loading data for meter ElecMeterID(instance=25, building=1, dataset='UK-DALE')     "
       ]
      },
      {
       "output_type": "stream",
       "stream": "stdout",
       "text": [
        "\r",
        "Loading data for meter ElecMeterID(instance=45, building=1, dataset='UK-DALE')     "
       ]
      },
      {
       "output_type": "stream",
       "stream": "stdout",
       "text": [
        "\r",
        "Loading data for meter ElecMeterID(instance=49, building=1, dataset='UK-DALE')     "
       ]
      },
      {
       "output_type": "stream",
       "stream": "stdout",
       "text": [
        "\n",
        "Done loading data all meters for this chunk.\n",
        "\r",
        "Loading data for meter"
       ]
      },
      {
       "output_type": "stream",
       "stream": "stdout",
       "text": [
        " ElecMeterID(instance=14, building=1, dataset='UK-DALE')     "
       ]
      },
      {
       "output_type": "stream",
       "stream": "stdout",
       "text": [
        "\r",
        "Loading data for meter ElecMeterID(instance=18, building=1, dataset='UK-DALE')     "
       ]
      },
      {
       "output_type": "stream",
       "stream": "stdout",
       "text": [
        "\r",
        "Loading data for meter ElecMeterID(instance=38, building=1, dataset='UK-DALE')     "
       ]
      },
      {
       "output_type": "stream",
       "stream": "stdout",
       "text": [
        "\r",
        "Loading data for meter ElecMeterID(instance=20, building=1, dataset='UK-DALE')     "
       ]
      },
      {
       "output_type": "stream",
       "stream": "stdout",
       "text": [
        "\r",
        "Loading data for meter ElecMeterID(instance=42, building=1, dataset='UK-DALE')     "
       ]
      },
      {
       "output_type": "stream",
       "stream": "stdout",
       "text": [
        "\r",
        "Loading data for meter ElecMeterID(instance=24, building=1, dataset='UK-DALE')     "
       ]
      },
      {
       "output_type": "stream",
       "stream": "stdout",
       "text": [
        "\r",
        "Loading data for meter ElecMeterID(instance=7, building=1, dataset='UK-DALE')     "
       ]
      },
      {
       "output_type": "stream",
       "stream": "stdout",
       "text": [
        "\r",
        "Loading data for meter ElecMeterID(instance=44, building=1, dataset='UK-DALE')     "
       ]
      },
      {
       "output_type": "stream",
       "stream": "stdout",
       "text": [
        "\r",
        "Loading data for meter ElecMeterID(instance=11, building=1, dataset='UK-DALE')     "
       ]
      },
      {
       "output_type": "stream",
       "stream": "stdout",
       "text": [
        "\r",
        "Loading data for meter ElecMeterID(instance=48, building=1, dataset='UK-DALE')     "
       ]
      },
      {
       "output_type": "stream",
       "stream": "stdout",
       "text": [
        "\r",
        "Loading data for meter ElecMeterID(instance=31, building=1, dataset='UK-DALE')     "
       ]
      },
      {
       "output_type": "stream",
       "stream": "stdout",
       "text": [
        "\r",
        "Loading data for meter ElecMeterID(instance=13, building=1, dataset='UK-DALE')     "
       ]
      },
      {
       "output_type": "stream",
       "stream": "stdout",
       "text": [
        "\r",
        "Loading data for meter ElecMeterID(instance=35, building=1, dataset='UK-DALE')     "
       ]
      },
      {
       "output_type": "stream",
       "stream": "stdout",
       "text": [
        "\r",
        "Loading data for meter ElecMeterID(instance=17, building=1, dataset='UK-DALE')     "
       ]
      },
      {
       "output_type": "stream",
       "stream": "stdout",
       "text": [
        "\r",
        "Loading data for meter ElecMeterID(instance=37, building=1, dataset='UK-DALE')     "
       ]
      },
      {
       "output_type": "stream",
       "stream": "stdout",
       "text": [
        "\r",
        "Loading data for meter ElecMeterID(instance=41, building=1, dataset='UK-DALE')     "
       ]
      },
      {
       "output_type": "stream",
       "stream": "stdout",
       "text": [
        "\r",
        "Loading data for meter ElecMeterID(instance=6, building=1, dataset='UK-DALE')     "
       ]
      },
      {
       "output_type": "stream",
       "stream": "stdout",
       "text": [
        "\r",
        "Loading data for meter ElecMeterID(instance=10, building=1, dataset='UK-DALE')     "
       ]
      },
      {
       "output_type": "stream",
       "stream": "stdout",
       "text": [
        "\r",
        "Loading data for meter ElecMeterID(instance=30, building=1, dataset='UK-DALE')     "
       ]
      },
      {
       "output_type": "stream",
       "stream": "stdout",
       "text": [
        "\r",
        "Loading data for meter ElecMeterID(instance=12, building=1, dataset='UK-DALE')     "
       ]
      },
      {
       "output_type": "stream",
       "stream": "stdout",
       "text": [
        "\r",
        "Loading data for meter ElecMeterID(instance=34, building=1, dataset='UK-DALE')     "
       ]
      },
      {
       "output_type": "stream",
       "stream": "stdout",
       "text": [
        "\r",
        "Loading data for meter ElecMeterID(instance=16, building=1, dataset='UK-DALE')     "
       ]
      },
      {
       "output_type": "stream",
       "stream": "stdout",
       "text": [
        "\r",
        "Loading data for meter ElecMeterID(instance=36, building=1, dataset='UK-DALE')     "
       ]
      },
      {
       "output_type": "stream",
       "stream": "stdout",
       "text": [
        "\r",
        "Loading data for meter ElecMeterID(instance=3, building=1, dataset='UK-DALE')     "
       ]
      },
      {
       "output_type": "stream",
       "stream": "stdout",
       "text": [
        "\r",
        "Loading data for meter ElecMeterID(instance=40, building=1, dataset='UK-DALE')     "
       ]
      },
      {
       "output_type": "stream",
       "stream": "stdout",
       "text": [
        "\r",
        "Loading data for meter ElecMeterID(instance=23, building=1, dataset='UK-DALE')     "
       ]
      },
      {
       "output_type": "stream",
       "stream": "stdout",
       "text": [
        "\r",
        "Loading data for meter ElecMeterID(instance=5, building=1, dataset='UK-DALE')     "
       ]
      },
      {
       "output_type": "stream",
       "stream": "stdout",
       "text": [
        "\r",
        "Loading data for meter ElecMeterID(instance=27, building=1, dataset='UK-DALE')     "
       ]
      },
      {
       "output_type": "stream",
       "stream": "stdout",
       "text": [
        "\r",
        "Loading data for meter ElecMeterID(instance=9, building=1, dataset='UK-DALE')     "
       ]
      },
      {
       "output_type": "stream",
       "stream": "stdout",
       "text": [
        "\r",
        "Loading data for meter ElecMeterID(instance=47, building=1, dataset='UK-DALE')     "
       ]
      },
      {
       "output_type": "stream",
       "stream": "stdout",
       "text": [
        "\r",
        "Loading data for meter ElecMeterID(instance=29, building=1, dataset='UK-DALE')     "
       ]
      },
      {
       "output_type": "stream",
       "stream": "stdout",
       "text": [
        "\r",
        "Loading data for meter ElecMeterID(instance=51, building=1, dataset='UK-DALE')     "
       ]
      },
      {
       "output_type": "stream",
       "stream": "stdout",
       "text": [
        "\r",
        "Loading data for meter ElecMeterID(instance=33, building=1, dataset='UK-DALE')     "
       ]
      },
      {
       "output_type": "stream",
       "stream": "stdout",
       "text": [
        "\r",
        "Loading data for meter ElecMeterID(instance=53, building=1, dataset='UK-DALE')     "
       ]
      },
      {
       "output_type": "stream",
       "stream": "stdout",
       "text": [
        "\r",
        "Loading data for meter ElecMeterID(instance=2, building=1, dataset='UK-DALE')     "
       ]
      },
      {
       "output_type": "stream",
       "stream": "stdout",
       "text": [
        "\r",
        "Loading data for meter ElecMeterID(instance=22, building=1, dataset='UK-DALE')     "
       ]
      },
      {
       "output_type": "stream",
       "stream": "stdout",
       "text": [
        "\r",
        "Loading data for meter ElecMeterID(instance=4, building=1, dataset='UK-DALE')     "
       ]
      },
      {
       "output_type": "stream",
       "stream": "stdout",
       "text": [
        "\r",
        "Loading data for meter ElecMeterID(instance=26, building=1, dataset='UK-DALE')     "
       ]
      },
      {
       "output_type": "stream",
       "stream": "stdout",
       "text": [
        "\r",
        "Loading data for meter ElecMeterID(instance=46, building=1, dataset='UK-DALE')     "
       ]
      },
      {
       "output_type": "stream",
       "stream": "stdout",
       "text": [
        "\r",
        "Loading data for meter ElecMeterID(instance=28, building=1, dataset='UK-DALE')     "
       ]
      },
      {
       "output_type": "stream",
       "stream": "stdout",
       "text": [
        "\r",
        "Loading data for meter ElecMeterID(instance=50, building=1, dataset='UK-DALE')     "
       ]
      },
      {
       "output_type": "stream",
       "stream": "stdout",
       "text": [
        "\r",
        "Loading data for meter ElecMeterID(instance=32, building=1, dataset='UK-DALE')     "
       ]
      },
      {
       "output_type": "stream",
       "stream": "stdout",
       "text": [
        "\r",
        "Loading data for meter ElecMeterID(instance=15, building=1, dataset='UK-DALE')     "
       ]
      },
      {
       "output_type": "stream",
       "stream": "stdout",
       "text": [
        "\r",
        "Loading data for meter ElecMeterID(instance=52, building=1, dataset='UK-DALE')     "
       ]
      },
      {
       "output_type": "stream",
       "stream": "stdout",
       "text": [
        "\r",
        "Loading data for meter ElecMeterID(instance=19, building=1, dataset='UK-DALE')     "
       ]
      },
      {
       "output_type": "stream",
       "stream": "stdout",
       "text": [
        "\r",
        "Loading data for meter ElecMeterID(instance=39, building=1, dataset='UK-DALE')     "
       ]
      },
      {
       "output_type": "stream",
       "stream": "stdout",
       "text": [
        "\r",
        "Loading data for meter ElecMeterID(instance=21, building=1, dataset='UK-DALE')     "
       ]
      },
      {
       "output_type": "stream",
       "stream": "stdout",
       "text": [
        "\r",
        "Loading data for meter ElecMeterID(instance=43, building=1, dataset='UK-DALE')     "
       ]
      },
      {
       "output_type": "stream",
       "stream": "stdout",
       "text": [
        "\r",
        "Loading data for meter ElecMeterID(instance=25, building=1, dataset='UK-DALE')     "
       ]
      },
      {
       "output_type": "stream",
       "stream": "stdout",
       "text": [
        "\r",
        "Loading data for meter ElecMeterID(instance=45, building=1, dataset='UK-DALE')     "
       ]
      },
      {
       "output_type": "stream",
       "stream": "stdout",
       "text": [
        "\r",
        "Loading data for meter ElecMeterID(instance=49, building=1, dataset='UK-DALE')     "
       ]
      },
      {
       "output_type": "stream",
       "stream": "stdout",
       "text": [
        "\n",
        "Done loading data all meters for this chunk.\n",
        "Running MeterGroup.proportion_of_energy_submetered..."
       ]
      },
      {
       "output_type": "stream",
       "stream": "stdout",
       "text": [
        "\n",
        "\r",
        "Calculating"
       ]
      },
      {
       "output_type": "stream",
       "stream": "stdout",
       "text": [
        " dropout_rate for ElecMeterID(instance=2, building=1, dataset='UK-DALE') ...   "
       ]
      },
      {
       "output_type": "stream",
       "stream": "stdout",
       "text": [
        "\r",
        "Calculating dropout_rate for ElecMeterID(instance=3, building=1, dataset='UK-DALE') ...   "
       ]
      },
      {
       "output_type": "stream",
       "stream": "stdout",
       "text": [
        "\r",
        "Calculating dropout_rate for ElecMeterID(instance=4, building=1, dataset='UK-DALE') ...   "
       ]
      },
      {
       "output_type": "stream",
       "stream": "stdout",
       "text": [
        "\r",
        "Calculating dropout_rate for ElecMeterID(instance=5, building=1, dataset='UK-DALE') ...   "
       ]
      },
      {
       "output_type": "stream",
       "stream": "stdout",
       "text": [
        "\r",
        "Calculating dropout_rate for ElecMeterID(instance=6, building=1, dataset='UK-DALE') ...   "
       ]
      },
      {
       "output_type": "stream",
       "stream": "stdout",
       "text": [
        "\r",
        "Calculating dropout_rate for ElecMeterID(instance=7, building=1, dataset='UK-DALE') ...   "
       ]
      },
      {
       "output_type": "stream",
       "stream": "stdout",
       "text": [
        "\r",
        "Calculating dropout_rate for ElecMeterID(instance=8, building=1, dataset='UK-DALE') ...   "
       ]
      },
      {
       "output_type": "stream",
       "stream": "stdout",
       "text": [
        "\r",
        "Calculating dropout_rate for ElecMeterID(instance=9, building=1, dataset='UK-DALE') ...   "
       ]
      },
      {
       "output_type": "stream",
       "stream": "stdout",
       "text": [
        "\r",
        "Calculating dropout_rate for ElecMeterID(instance=10, building=1, dataset='UK-DALE') ...   "
       ]
      },
      {
       "output_type": "stream",
       "stream": "stdout",
       "text": [
        "\r",
        "Calculating dropout_rate for ElecMeterID(instance=11, building=1, dataset='UK-DALE') ...   "
       ]
      },
      {
       "output_type": "stream",
       "stream": "stdout",
       "text": [
        "\r",
        "Calculating dropout_rate for ElecMeterID(instance=12, building=1, dataset='UK-DALE') ...   "
       ]
      },
      {
       "output_type": "stream",
       "stream": "stdout",
       "text": [
        "\r",
        "Calculating dropout_rate for ElecMeterID(instance=13, building=1, dataset='UK-DALE') ...   "
       ]
      },
      {
       "output_type": "stream",
       "stream": "stdout",
       "text": [
        "\r",
        "Calculating dropout_rate for ElecMeterID(instance=14, building=1, dataset='UK-DALE') ...   "
       ]
      },
      {
       "output_type": "stream",
       "stream": "stdout",
       "text": [
        "\r",
        "Calculating dropout_rate for ElecMeterID(instance=15, building=1, dataset='UK-DALE') ...   "
       ]
      },
      {
       "output_type": "stream",
       "stream": "stdout",
       "text": [
        "\r",
        "Calculating dropout_rate for ElecMeterID(instance=16, building=1, dataset='UK-DALE') ...   "
       ]
      },
      {
       "output_type": "stream",
       "stream": "stdout",
       "text": [
        "\r",
        "Calculating dropout_rate for ElecMeterID(instance=17, building=1, dataset='UK-DALE') ...   "
       ]
      },
      {
       "output_type": "stream",
       "stream": "stdout",
       "text": [
        "\r",
        "Calculating dropout_rate for ElecMeterID(instance=18, building=1, dataset='UK-DALE') ...   "
       ]
      },
      {
       "output_type": "stream",
       "stream": "stdout",
       "text": [
        "\r",
        "Calculating dropout_rate for ElecMeterID(instance=19, building=1, dataset='UK-DALE') ...   "
       ]
      },
      {
       "output_type": "stream",
       "stream": "stdout",
       "text": [
        "\r",
        "Calculating dropout_rate for ElecMeterID(instance=20, building=1, dataset='UK-DALE') ...   "
       ]
      },
      {
       "output_type": "stream",
       "stream": "stdout",
       "text": [
        "\r",
        "Calculating dropout_rate for ElecMeterID(instance=21, building=1, dataset='UK-DALE') ...   "
       ]
      },
      {
       "output_type": "stream",
       "stream": "stdout",
       "text": [
        "\r",
        "Calculating dropout_rate for ElecMeterID(instance=22, building=1, dataset='UK-DALE') ...   "
       ]
      },
      {
       "output_type": "stream",
       "stream": "stdout",
       "text": [
        "\r",
        "Calculating dropout_rate for ElecMeterID(instance=23, building=1, dataset='UK-DALE') ...   "
       ]
      },
      {
       "output_type": "stream",
       "stream": "stdout",
       "text": [
        "\r",
        "Calculating dropout_rate for ElecMeterID(instance=24, building=1, dataset='UK-DALE') ...   "
       ]
      },
      {
       "output_type": "stream",
       "stream": "stdout",
       "text": [
        "\r",
        "Calculating dropout_rate for ElecMeterID(instance=25, building=1, dataset='UK-DALE') ...   "
       ]
      },
      {
       "output_type": "stream",
       "stream": "stdout",
       "text": [
        "\r",
        "Calculating dropout_rate for ElecMeterID(instance=26, building=1, dataset='UK-DALE') ...   "
       ]
      },
      {
       "output_type": "stream",
       "stream": "stdout",
       "text": [
        "\r",
        "Calculating dropout_rate for ElecMeterID(instance=27, building=1, dataset='UK-DALE') ...   "
       ]
      },
      {
       "output_type": "stream",
       "stream": "stdout",
       "text": [
        "\r",
        "Calculating dropout_rate for ElecMeterID(instance=28, building=1, dataset='UK-DALE') ...   "
       ]
      },
      {
       "output_type": "stream",
       "stream": "stdout",
       "text": [
        "\r",
        "Calculating dropout_rate for ElecMeterID(instance=29, building=1, dataset='UK-DALE') ...   "
       ]
      },
      {
       "output_type": "stream",
       "stream": "stdout",
       "text": [
        "\r",
        "Calculating dropout_rate for ElecMeterID(instance=30, building=1, dataset='UK-DALE') ...   "
       ]
      },
      {
       "output_type": "stream",
       "stream": "stdout",
       "text": [
        "\r",
        "Calculating dropout_rate for ElecMeterID(instance=31, building=1, dataset='UK-DALE') ...   "
       ]
      },
      {
       "output_type": "stream",
       "stream": "stdout",
       "text": [
        "\r",
        "Calculating dropout_rate for ElecMeterID(instance=32, building=1, dataset='UK-DALE') ...   "
       ]
      },
      {
       "output_type": "stream",
       "stream": "stdout",
       "text": [
        "\r",
        "Calculating dropout_rate for ElecMeterID(instance=33, building=1, dataset='UK-DALE') ...   "
       ]
      },
      {
       "output_type": "stream",
       "stream": "stdout",
       "text": [
        "\r",
        "Calculating dropout_rate for ElecMeterID(instance=34, building=1, dataset='UK-DALE') ...   "
       ]
      },
      {
       "output_type": "stream",
       "stream": "stdout",
       "text": [
        "\r",
        "Calculating dropout_rate for ElecMeterID(instance=35, building=1, dataset='UK-DALE') ...   "
       ]
      },
      {
       "output_type": "stream",
       "stream": "stdout",
       "text": [
        "\r",
        "Calculating dropout_rate for ElecMeterID(instance=36, building=1, dataset='UK-DALE') ...   "
       ]
      },
      {
       "output_type": "stream",
       "stream": "stdout",
       "text": [
        "\r",
        "Calculating dropout_rate for ElecMeterID(instance=37, building=1, dataset='UK-DALE') ...   "
       ]
      },
      {
       "output_type": "stream",
       "stream": "stdout",
       "text": [
        "\r",
        "Calculating dropout_rate for ElecMeterID(instance=38, building=1, dataset='UK-DALE') ...   "
       ]
      },
      {
       "output_type": "stream",
       "stream": "stdout",
       "text": [
        "\r",
        "Calculating dropout_rate for ElecMeterID(instance=39, building=1, dataset='UK-DALE') ...   "
       ]
      },
      {
       "output_type": "stream",
       "stream": "stdout",
       "text": [
        "\r",
        "Calculating dropout_rate for ElecMeterID(instance=40, building=1, dataset='UK-DALE') ...   "
       ]
      },
      {
       "output_type": "stream",
       "stream": "stdout",
       "text": [
        "\r",
        "Calculating dropout_rate for ElecMeterID(instance=41, building=1, dataset='UK-DALE') ...   "
       ]
      },
      {
       "output_type": "stream",
       "stream": "stdout",
       "text": [
        "\r",
        "Calculating dropout_rate for ElecMeterID(instance=42, building=1, dataset='UK-DALE') ...   "
       ]
      },
      {
       "output_type": "stream",
       "stream": "stdout",
       "text": [
        "\r",
        "Calculating dropout_rate for ElecMeterID(instance=43, building=1, dataset='UK-DALE') ...   "
       ]
      },
      {
       "output_type": "stream",
       "stream": "stdout",
       "text": [
        "\r",
        "Calculating dropout_rate for ElecMeterID(instance=44, building=1, dataset='UK-DALE') ...   "
       ]
      },
      {
       "output_type": "stream",
       "stream": "stdout",
       "text": [
        "\r",
        "Calculating dropout_rate for ElecMeterID(instance=45, building=1, dataset='UK-DALE') ...   "
       ]
      },
      {
       "output_type": "stream",
       "stream": "stdout",
       "text": [
        "\r",
        "Calculating dropout_rate for ElecMeterID(instance=46, building=1, dataset='UK-DALE') ...   "
       ]
      },
      {
       "output_type": "stream",
       "stream": "stdout",
       "text": [
        "\r",
        "Calculating dropout_rate for ElecMeterID(instance=47, building=1, dataset='UK-DALE') ...   "
       ]
      },
      {
       "output_type": "stream",
       "stream": "stdout",
       "text": [
        "\r",
        "Calculating dropout_rate for ElecMeterID(instance=48, building=1, dataset='UK-DALE') ...   "
       ]
      },
      {
       "output_type": "stream",
       "stream": "stdout",
       "text": [
        "\r",
        "Calculating dropout_rate for ElecMeterID(instance=49, building=1, dataset='UK-DALE') ...   "
       ]
      },
      {
       "output_type": "stream",
       "stream": "stdout",
       "text": [
        "\r",
        "Calculating dropout_rate for ElecMeterID(instance=50, building=1, dataset='UK-DALE') ...   "
       ]
      },
      {
       "output_type": "stream",
       "stream": "stdout",
       "text": [
        "\r",
        "Calculating dropout_rate for ElecMeterID(instance=51, building=1, dataset='UK-DALE') ...   "
       ]
      },
      {
       "output_type": "stream",
       "stream": "stdout",
       "text": [
        "\r",
        "Calculating dropout_rate for ElecMeterID(instance=52, building=1, dataset='UK-DALE') ...   "
       ]
      },
      {
       "output_type": "stream",
       "stream": "stdout",
       "text": [
        "\r",
        "Calculating dropout_rate for ElecMeterID(instance=53, building=1, dataset='UK-DALE') ...   "
       ]
      },
      {
       "output_type": "stream",
       "stream": "stdout",
       "text": [
        "\r",
        "Calculating dropout_rate for ElecMeterID(instance=54, building=1, dataset='UK-DALE') ...   "
       ]
      },
      {
       "output_type": "stream",
       "stream": "stdout",
       "text": [
        " "
       ]
      }
     ],
     "prompt_number": 31
    },
    {
     "cell_type": "code",
     "collapsed": false,
     "input": [
      "description2"
     ],
     "language": "python",
     "metadata": {},
     "outputs": [
      {
       "metadata": {},
       "output_type": "pyout",
       "prompt_number": 32,
       "text": [
        "total_n_meters                                                                               54\n",
        "total_n_site_meters                                                                           2\n",
        "correlation_of_sum_of_submeters_with_mains                                            0.9649442\n",
        "proportion_of_energy_submetered                                                       0.7983578\n",
        "dropout_rates_ignoring_gaps                   min=6.42612177749e-07, mean=0.130982523975, ma...\n",
        "mains_sample_period                                                                           1\n",
        "submeter_sample_period                                                                        6\n",
        "timeframe                                     start=2013-04-12 00:00:00+01:00, end=2015-01-0...\n",
        "total_duration                                                                633 days 07:27:12\n",
        "mains_uptime                                                           632 days 12:55:20.400000\n",
        "proportion_uptime                                                                     0.9987808\n",
        "average_mains_energy_per_day                  active      7.596680\n",
        "apparent    8.858101\n",
        "dtyp...\n",
        "dtype: object"
       ]
      }
     ],
     "prompt_number": 32
    },
    {
     "cell_type": "code",
     "collapsed": false,
     "input": [
      "%prun elec.dropout_rate()"
     ],
     "language": "python",
     "metadata": {},
     "outputs": [
      {
       "output_type": "stream",
       "stream": "stdout",
       "text": [
        "\r",
        "Calculating dropout_rate for ElecMeterID(instance=2, building=1, dataset='UK-DALE') ...   "
       ]
      },
      {
       "output_type": "stream",
       "stream": "stdout",
       "text": [
        "\r",
        "Calculating dropout_rate for ElecMeterID(instance=3, building=1, dataset='UK-DALE') ...   "
       ]
      },
      {
       "output_type": "stream",
       "stream": "stdout",
       "text": [
        "\r",
        "Calculating dropout_rate for ElecMeterID(instance=4, building=1, dataset='UK-DALE') ...   "
       ]
      },
      {
       "output_type": "stream",
       "stream": "stdout",
       "text": [
        "\r",
        "Calculating dropout_rate for ElecMeterID(instance=5, building=1, dataset='UK-DALE') ...   "
       ]
      },
      {
       "output_type": "stream",
       "stream": "stdout",
       "text": [
        "\r",
        "Calculating dropout_rate for ElecMeterID(instance=6, building=1, dataset='UK-DALE') ...   "
       ]
      },
      {
       "output_type": "stream",
       "stream": "stdout",
       "text": [
        "\r",
        "Calculating dropout_rate for ElecMeterID(instance=7, building=1, dataset='UK-DALE') ...   "
       ]
      },
      {
       "output_type": "stream",
       "stream": "stdout",
       "text": [
        "\r",
        "Calculating dropout_rate for ElecMeterID(instance=8, building=1, dataset='UK-DALE') ...   "
       ]
      },
      {
       "output_type": "stream",
       "stream": "stdout",
       "text": [
        "\r",
        "Calculating dropout_rate for ElecMeterID(instance=9, building=1, dataset='UK-DALE') ...   "
       ]
      },
      {
       "output_type": "stream",
       "stream": "stdout",
       "text": [
        "\r",
        "Calculating dropout_rate for ElecMeterID(instance=10, building=1, dataset='UK-DALE') ...   "
       ]
      },
      {
       "output_type": "stream",
       "stream": "stdout",
       "text": [
        "\r",
        "Calculating dropout_rate for ElecMeterID(instance=11, building=1, dataset='UK-DALE') ...   "
       ]
      },
      {
       "output_type": "stream",
       "stream": "stdout",
       "text": [
        "\r",
        "Calculating dropout_rate for ElecMeterID(instance=12, building=1, dataset='UK-DALE') ...   "
       ]
      },
      {
       "output_type": "stream",
       "stream": "stdout",
       "text": [
        "\r",
        "Calculating dropout_rate for ElecMeterID(instance=13, building=1, dataset='UK-DALE') ...   "
       ]
      },
      {
       "output_type": "stream",
       "stream": "stdout",
       "text": [
        "\r",
        "Calculating dropout_rate for ElecMeterID(instance=14, building=1, dataset='UK-DALE') ...   "
       ]
      },
      {
       "output_type": "stream",
       "stream": "stdout",
       "text": [
        "\r",
        "Calculating dropout_rate for ElecMeterID(instance=15, building=1, dataset='UK-DALE') ...   "
       ]
      },
      {
       "output_type": "stream",
       "stream": "stdout",
       "text": [
        "\r",
        "Calculating dropout_rate for ElecMeterID(instance=16, building=1, dataset='UK-DALE') ...   "
       ]
      },
      {
       "output_type": "stream",
       "stream": "stdout",
       "text": [
        "\r",
        "Calculating dropout_rate for ElecMeterID(instance=17, building=1, dataset='UK-DALE') ...   "
       ]
      },
      {
       "output_type": "stream",
       "stream": "stdout",
       "text": [
        "\r",
        "Calculating dropout_rate for ElecMeterID(instance=18, building=1, dataset='UK-DALE') ...   "
       ]
      },
      {
       "output_type": "stream",
       "stream": "stdout",
       "text": [
        "\r",
        "Calculating dropout_rate for ElecMeterID(instance=19, building=1, dataset='UK-DALE') ...   "
       ]
      },
      {
       "output_type": "stream",
       "stream": "stdout",
       "text": [
        "\r",
        "Calculating dropout_rate for ElecMeterID(instance=20, building=1, dataset='UK-DALE') ...   "
       ]
      },
      {
       "output_type": "stream",
       "stream": "stdout",
       "text": [
        "\r",
        "Calculating dropout_rate for ElecMeterID(instance=21, building=1, dataset='UK-DALE') ...   "
       ]
      },
      {
       "output_type": "stream",
       "stream": "stdout",
       "text": [
        "\r",
        "Calculating dropout_rate for ElecMeterID(instance=22, building=1, dataset='UK-DALE') ...   "
       ]
      },
      {
       "output_type": "stream",
       "stream": "stdout",
       "text": [
        "\r",
        "Calculating dropout_rate for ElecMeterID(instance=23, building=1, dataset='UK-DALE') ...   "
       ]
      },
      {
       "output_type": "stream",
       "stream": "stdout",
       "text": [
        "\r",
        "Calculating dropout_rate for ElecMeterID(instance=24, building=1, dataset='UK-DALE') ...   "
       ]
      },
      {
       "output_type": "stream",
       "stream": "stdout",
       "text": [
        "\r",
        "Calculating dropout_rate for ElecMeterID(instance=25, building=1, dataset='UK-DALE') ...   "
       ]
      },
      {
       "output_type": "stream",
       "stream": "stdout",
       "text": [
        "\r",
        "Calculating dropout_rate for ElecMeterID(instance=26, building=1, dataset='UK-DALE') ...   "
       ]
      },
      {
       "output_type": "stream",
       "stream": "stdout",
       "text": [
        "\r",
        "Calculating dropout_rate for ElecMeterID(instance=27, building=1, dataset='UK-DALE') ...   "
       ]
      },
      {
       "output_type": "stream",
       "stream": "stdout",
       "text": [
        "\r",
        "Calculating dropout_rate for ElecMeterID(instance=28, building=1, dataset='UK-DALE') ...   "
       ]
      },
      {
       "output_type": "stream",
       "stream": "stdout",
       "text": [
        "\r",
        "Calculating dropout_rate for ElecMeterID(instance=29, building=1, dataset='UK-DALE') ...   "
       ]
      },
      {
       "output_type": "stream",
       "stream": "stdout",
       "text": [
        "\r",
        "Calculating dropout_rate for ElecMeterID(instance=30, building=1, dataset='UK-DALE') ...   "
       ]
      },
      {
       "output_type": "stream",
       "stream": "stdout",
       "text": [
        "\r",
        "Calculating dropout_rate for ElecMeterID(instance=31, building=1, dataset='UK-DALE') ...   "
       ]
      },
      {
       "output_type": "stream",
       "stream": "stdout",
       "text": [
        "\r",
        "Calculating dropout_rate for ElecMeterID(instance=32, building=1, dataset='UK-DALE') ...   "
       ]
      },
      {
       "output_type": "stream",
       "stream": "stdout",
       "text": [
        "\r",
        "Calculating dropout_rate for ElecMeterID(instance=33, building=1, dataset='UK-DALE') ...   "
       ]
      },
      {
       "output_type": "stream",
       "stream": "stdout",
       "text": [
        "\r",
        "Calculating dropout_rate for ElecMeterID(instance=34, building=1, dataset='UK-DALE') ...   "
       ]
      },
      {
       "output_type": "stream",
       "stream": "stdout",
       "text": [
        "\r",
        "Calculating dropout_rate for ElecMeterID(instance=35, building=1, dataset='UK-DALE') ...   "
       ]
      },
      {
       "output_type": "stream",
       "stream": "stdout",
       "text": [
        "\r",
        "Calculating dropout_rate for ElecMeterID(instance=36, building=1, dataset='UK-DALE') ...   "
       ]
      },
      {
       "output_type": "stream",
       "stream": "stdout",
       "text": [
        "\r",
        "Calculating dropout_rate for ElecMeterID(instance=37, building=1, dataset='UK-DALE') ...   "
       ]
      },
      {
       "output_type": "stream",
       "stream": "stdout",
       "text": [
        "\r",
        "Calculating dropout_rate for ElecMeterID(instance=38, building=1, dataset='UK-DALE') ...   "
       ]
      },
      {
       "output_type": "stream",
       "stream": "stdout",
       "text": [
        "\r",
        "Calculating dropout_rate for ElecMeterID(instance=39, building=1, dataset='UK-DALE') ...   "
       ]
      },
      {
       "output_type": "stream",
       "stream": "stdout",
       "text": [
        "\r",
        "Calculating dropout_rate for ElecMeterID(instance=40, building=1, dataset='UK-DALE') ...   "
       ]
      },
      {
       "output_type": "stream",
       "stream": "stdout",
       "text": [
        "\r",
        "Calculating dropout_rate for ElecMeterID(instance=41, building=1, dataset='UK-DALE') ...   "
       ]
      },
      {
       "output_type": "stream",
       "stream": "stdout",
       "text": [
        "\r",
        "Calculating dropout_rate for ElecMeterID(instance=42, building=1, dataset='UK-DALE') ...   "
       ]
      },
      {
       "output_type": "stream",
       "stream": "stdout",
       "text": [
        "\r",
        "Calculating dropout_rate for ElecMeterID(instance=43, building=1, dataset='UK-DALE') ...   "
       ]
      },
      {
       "output_type": "stream",
       "stream": "stdout",
       "text": [
        "\r",
        "Calculating dropout_rate for ElecMeterID(instance=44, building=1, dataset='UK-DALE') ...   "
       ]
      },
      {
       "output_type": "stream",
       "stream": "stdout",
       "text": [
        "\r",
        "Calculating dropout_rate for ElecMeterID(instance=45, building=1, dataset='UK-DALE') ...   "
       ]
      },
      {
       "output_type": "stream",
       "stream": "stdout",
       "text": [
        "\r",
        "Calculating dropout_rate for ElecMeterID(instance=46, building=1, dataset='UK-DALE') ...   "
       ]
      },
      {
       "output_type": "stream",
       "stream": "stdout",
       "text": [
        "\r",
        "Calculating dropout_rate for ElecMeterID(instance=47, building=1, dataset='UK-DALE') ...   "
       ]
      },
      {
       "output_type": "stream",
       "stream": "stdout",
       "text": [
        "\r",
        "Calculating dropout_rate for ElecMeterID(instance=48, building=1, dataset='UK-DALE') ...   "
       ]
      },
      {
       "output_type": "stream",
       "stream": "stdout",
       "text": [
        "\r",
        "Calculating dropout_rate for ElecMeterID(instance=49, building=1, dataset='UK-DALE') ...   "
       ]
      },
      {
       "output_type": "stream",
       "stream": "stdout",
       "text": [
        "\r",
        "Calculating dropout_rate for ElecMeterID(instance=50, building=1, dataset='UK-DALE') ...   "
       ]
      },
      {
       "output_type": "stream",
       "stream": "stdout",
       "text": [
        "\r",
        "Calculating dropout_rate for ElecMeterID(instance=51, building=1, dataset='UK-DALE') ...   "
       ]
      },
      {
       "output_type": "stream",
       "stream": "stdout",
       "text": [
        "\r",
        "Calculating dropout_rate for ElecMeterID(instance=52, building=1, dataset='UK-DALE') ...   "
       ]
      },
      {
       "output_type": "stream",
       "stream": "stdout",
       "text": [
        "\r",
        "Calculating dropout_rate for ElecMeterID(instance=53, building=1, dataset='UK-DALE') ...   "
       ]
      },
      {
       "output_type": "stream",
       "stream": "stdout",
       "text": [
        "\r",
        "Calculating dropout_rate for ElecMeterID(instance=54, building=1, dataset='UK-DALE') ...   "
       ]
      },
      {
       "output_type": "stream",
       "stream": "stdout",
       "text": [
        " "
       ]
      }
     ],
     "prompt_number": 35
    },
    {
     "cell_type": "code",
     "collapsed": false,
     "input": [
      "window_per_house = {1: (\"2013-04-12\", None), \n",
      "                    2: (\"2013-05-22\", None), \n",
      "                    3: (None, None), \n",
      "                    4: (None, None), \n",
      "                    5: (None, \"2014-09-06\")}\n",
      "descriptions = []\n",
      "for house in range(1,6):\n",
      "    print(\"*********** House\", house, \"*************\")\n",
      "    dataset.set_window(*window_per_house[house])\n",
      "    description = elec.describe()\n",
      "    descriptions.append(description)\n",
      "    print(description)\n",
      "    print()"
     ],
     "language": "python",
     "metadata": {},
     "outputs": [
      {
       "output_type": "stream",
       "stream": "stdout",
       "text": [
        "*********** House 1 *************\n",
        "Running MeterGroup.correlation_of_sum_of_submeters_with_mains...\n",
        "\r",
        "Loading data for meter"
       ]
      },
      {
       "output_type": "stream",
       "stream": "stdout",
       "text": [
        " ElecMeterID(instance=14, building=1, dataset='UK-DALE')     "
       ]
      },
      {
       "output_type": "stream",
       "stream": "stdout",
       "text": [
        "\r",
        "Loading data for meter ElecMeterID(instance=18, building=1, dataset='UK-DALE')     "
       ]
      },
      {
       "output_type": "stream",
       "stream": "stdout",
       "text": [
        "\r",
        "Loading data for meter ElecMeterID(instance=38, building=1, dataset='UK-DALE')     "
       ]
      },
      {
       "output_type": "stream",
       "stream": "stdout",
       "text": [
        "\r",
        "Loading data for meter ElecMeterID(instance=20, building=1, dataset='UK-DALE')     "
       ]
      },
      {
       "output_type": "stream",
       "stream": "stdout",
       "text": [
        "\r",
        "Loading data for meter ElecMeterID(instance=42, building=1, dataset='UK-DALE')     "
       ]
      },
      {
       "output_type": "stream",
       "stream": "stdout",
       "text": [
        "\r",
        "Loading data for meter ElecMeterID(instance=24, building=1, dataset='UK-DALE')     "
       ]
      },
      {
       "output_type": "stream",
       "stream": "stdout",
       "text": [
        "\r",
        "Loading data for meter ElecMeterID(instance=7, building=1, dataset='UK-DALE')     "
       ]
      },
      {
       "output_type": "stream",
       "stream": "stdout",
       "text": [
        "\r",
        "Loading data for meter ElecMeterID(instance=44, building=1, dataset='UK-DALE')     "
       ]
      },
      {
       "output_type": "stream",
       "stream": "stdout",
       "text": [
        "\r",
        "Loading data for meter ElecMeterID(instance=11, building=1, dataset='UK-DALE')     "
       ]
      },
      {
       "output_type": "stream",
       "stream": "stdout",
       "text": [
        "\r",
        "Loading data for meter ElecMeterID(instance=48, building=1, dataset='UK-DALE')     "
       ]
      },
      {
       "output_type": "stream",
       "stream": "stdout",
       "text": [
        "\r",
        "Loading data for meter ElecMeterID(instance=31, building=1, dataset='UK-DALE')     "
       ]
      },
      {
       "output_type": "stream",
       "stream": "stdout",
       "text": [
        "\r",
        "Loading data for meter ElecMeterID(instance=13, building=1, dataset='UK-DALE')     "
       ]
      },
      {
       "output_type": "stream",
       "stream": "stdout",
       "text": [
        "\r",
        "Loading data for meter ElecMeterID(instance=35, building=1, dataset='UK-DALE')     "
       ]
      },
      {
       "output_type": "stream",
       "stream": "stdout",
       "text": [
        "\r",
        "Loading data for meter ElecMeterID(instance=17, building=1, dataset='UK-DALE')     "
       ]
      },
      {
       "output_type": "stream",
       "stream": "stdout",
       "text": [
        "\r",
        "Loading data for meter ElecMeterID(instance=37, building=1, dataset='UK-DALE')     "
       ]
      },
      {
       "output_type": "stream",
       "stream": "stdout",
       "text": [
        "\r",
        "Loading data for meter ElecMeterID(instance=41, building=1, dataset='UK-DALE')     "
       ]
      },
      {
       "output_type": "stream",
       "stream": "stdout",
       "text": [
        "\r",
        "Loading data for meter ElecMeterID(instance=6, building=1, dataset='UK-DALE')     "
       ]
      },
      {
       "output_type": "stream",
       "stream": "stdout",
       "text": [
        "\r",
        "Loading data for meter ElecMeterID(instance=10, building=1, dataset='UK-DALE')     "
       ]
      },
      {
       "output_type": "stream",
       "stream": "stdout",
       "text": [
        "\r",
        "Loading data for meter ElecMeterID(instance=30, building=1, dataset='UK-DALE')     "
       ]
      },
      {
       "output_type": "stream",
       "stream": "stdout",
       "text": [
        "\r",
        "Loading data for meter ElecMeterID(instance=12, building=1, dataset='UK-DALE')     "
       ]
      },
      {
       "output_type": "stream",
       "stream": "stdout",
       "text": [
        "\r",
        "Loading data for meter ElecMeterID(instance=34, building=1, dataset='UK-DALE')     "
       ]
      },
      {
       "output_type": "stream",
       "stream": "stdout",
       "text": [
        "\r",
        "Loading data for meter ElecMeterID(instance=16, building=1, dataset='UK-DALE')     "
       ]
      },
      {
       "output_type": "stream",
       "stream": "stdout",
       "text": [
        "\r",
        "Loading data for meter ElecMeterID(instance=36, building=1, dataset='UK-DALE')     "
       ]
      },
      {
       "output_type": "stream",
       "stream": "stdout",
       "text": [
        "\r",
        "Loading data for meter ElecMeterID(instance=3, building=1, dataset='UK-DALE')     "
       ]
      },
      {
       "output_type": "stream",
       "stream": "stdout",
       "text": [
        "\r",
        "Loading data for meter ElecMeterID(instance=40, building=1, dataset='UK-DALE')     "
       ]
      },
      {
       "output_type": "stream",
       "stream": "stdout",
       "text": [
        "\r",
        "Loading data for meter ElecMeterID(instance=23, building=1, dataset='UK-DALE')     "
       ]
      },
      {
       "output_type": "stream",
       "stream": "stdout",
       "text": [
        "\r",
        "Loading data for meter ElecMeterID(instance=5, building=1, dataset='UK-DALE')     "
       ]
      },
      {
       "output_type": "stream",
       "stream": "stdout",
       "text": [
        "\r",
        "Loading data for meter ElecMeterID(instance=27, building=1, dataset='UK-DALE')     "
       ]
      },
      {
       "output_type": "stream",
       "stream": "stdout",
       "text": [
        "\r",
        "Loading data for meter ElecMeterID(instance=9, building=1, dataset='UK-DALE')     "
       ]
      },
      {
       "output_type": "stream",
       "stream": "stdout",
       "text": [
        "\r",
        "Loading data for meter ElecMeterID(instance=47, building=1, dataset='UK-DALE')     "
       ]
      },
      {
       "output_type": "stream",
       "stream": "stdout",
       "text": [
        "\r",
        "Loading data for meter ElecMeterID(instance=29, building=1, dataset='UK-DALE')     "
       ]
      },
      {
       "output_type": "stream",
       "stream": "stdout",
       "text": [
        "\r",
        "Loading data for meter ElecMeterID(instance=51, building=1, dataset='UK-DALE')     "
       ]
      },
      {
       "output_type": "stream",
       "stream": "stdout",
       "text": [
        "\r",
        "Loading data for meter ElecMeterID(instance=33, building=1, dataset='UK-DALE')     "
       ]
      },
      {
       "output_type": "stream",
       "stream": "stdout",
       "text": [
        "\r",
        "Loading data for meter ElecMeterID(instance=53, building=1, dataset='UK-DALE')     "
       ]
      },
      {
       "output_type": "stream",
       "stream": "stdout",
       "text": [
        "\r",
        "Loading data for meter ElecMeterID(instance=2, building=1, dataset='UK-DALE')     "
       ]
      },
      {
       "output_type": "stream",
       "stream": "stdout",
       "text": [
        "\r",
        "Loading data for meter ElecMeterID(instance=22, building=1, dataset='UK-DALE')     "
       ]
      },
      {
       "output_type": "stream",
       "stream": "stdout",
       "text": [
        "\r",
        "Loading data for meter ElecMeterID(instance=4, building=1, dataset='UK-DALE')     "
       ]
      },
      {
       "output_type": "stream",
       "stream": "stdout",
       "text": [
        "\r",
        "Loading data for meter ElecMeterID(instance=26, building=1, dataset='UK-DALE')     "
       ]
      },
      {
       "output_type": "stream",
       "stream": "stdout",
       "text": [
        "\r",
        "Loading data for meter ElecMeterID(instance=46, building=1, dataset='UK-DALE')     "
       ]
      },
      {
       "output_type": "stream",
       "stream": "stdout",
       "text": [
        "\r",
        "Loading data for meter ElecMeterID(instance=28, building=1, dataset='UK-DALE')     "
       ]
      },
      {
       "output_type": "stream",
       "stream": "stdout",
       "text": [
        "\r",
        "Loading data for meter ElecMeterID(instance=50, building=1, dataset='UK-DALE')     "
       ]
      },
      {
       "output_type": "stream",
       "stream": "stdout",
       "text": [
        "\r",
        "Loading data for meter ElecMeterID(instance=32, building=1, dataset='UK-DALE')     "
       ]
      },
      {
       "output_type": "stream",
       "stream": "stdout",
       "text": [
        "\r",
        "Loading data for meter ElecMeterID(instance=15, building=1, dataset='UK-DALE')     "
       ]
      },
      {
       "output_type": "stream",
       "stream": "stdout",
       "text": [
        "\r",
        "Loading data for meter ElecMeterID(instance=52, building=1, dataset='UK-DALE')     "
       ]
      },
      {
       "output_type": "stream",
       "stream": "stdout",
       "text": [
        "\r",
        "Loading data for meter ElecMeterID(instance=19, building=1, dataset='UK-DALE')     "
       ]
      },
      {
       "output_type": "stream",
       "stream": "stdout",
       "text": [
        "\r",
        "Loading data for meter ElecMeterID(instance=39, building=1, dataset='UK-DALE')     "
       ]
      },
      {
       "output_type": "stream",
       "stream": "stdout",
       "text": [
        "\r",
        "Loading data for meter ElecMeterID(instance=21, building=1, dataset='UK-DALE')     "
       ]
      },
      {
       "output_type": "stream",
       "stream": "stdout",
       "text": [
        "\r",
        "Loading data for meter ElecMeterID(instance=43, building=1, dataset='UK-DALE')     "
       ]
      },
      {
       "output_type": "stream",
       "stream": "stdout",
       "text": [
        "\r",
        "Loading data for meter ElecMeterID(instance=25, building=1, dataset='UK-DALE')     "
       ]
      },
      {
       "output_type": "stream",
       "stream": "stdout",
       "text": [
        "\r",
        "Loading data for meter ElecMeterID(instance=45, building=1, dataset='UK-DALE')     "
       ]
      },
      {
       "output_type": "stream",
       "stream": "stdout",
       "text": [
        "\r",
        "Loading data for meter ElecMeterID(instance=49, building=1, dataset='UK-DALE')     "
       ]
      },
      {
       "output_type": "stream",
       "stream": "stdout",
       "text": [
        "\n",
        "Done loading data all meters for this chunk.\n",
        "\r",
        "Loading data for meter"
       ]
      },
      {
       "output_type": "stream",
       "stream": "stdout",
       "text": [
        " ElecMeterID(instance=14, building=1, dataset='UK-DALE')     "
       ]
      },
      {
       "output_type": "stream",
       "stream": "stdout",
       "text": [
        "\r",
        "Loading data for meter ElecMeterID(instance=18, building=1, dataset='UK-DALE')     "
       ]
      },
      {
       "output_type": "stream",
       "stream": "stdout",
       "text": [
        "\r",
        "Loading data for meter ElecMeterID(instance=38, building=1, dataset='UK-DALE')     "
       ]
      },
      {
       "output_type": "stream",
       "stream": "stdout",
       "text": [
        "\r",
        "Loading data for meter ElecMeterID(instance=20, building=1, dataset='UK-DALE')     "
       ]
      },
      {
       "output_type": "stream",
       "stream": "stdout",
       "text": [
        "\r",
        "Loading data for meter ElecMeterID(instance=42, building=1, dataset='UK-DALE')     "
       ]
      },
      {
       "output_type": "stream",
       "stream": "stdout",
       "text": [
        "\r",
        "Loading data for meter ElecMeterID(instance=24, building=1, dataset='UK-DALE')     "
       ]
      },
      {
       "output_type": "stream",
       "stream": "stdout",
       "text": [
        "\r",
        "Loading data for meter ElecMeterID(instance=7, building=1, dataset='UK-DALE')     "
       ]
      },
      {
       "output_type": "stream",
       "stream": "stdout",
       "text": [
        "\r",
        "Loading data for meter ElecMeterID(instance=44, building=1, dataset='UK-DALE')     "
       ]
      },
      {
       "output_type": "stream",
       "stream": "stdout",
       "text": [
        "\r",
        "Loading data for meter ElecMeterID(instance=11, building=1, dataset='UK-DALE')     "
       ]
      },
      {
       "output_type": "stream",
       "stream": "stdout",
       "text": [
        "\r",
        "Loading data for meter ElecMeterID(instance=48, building=1, dataset='UK-DALE')     "
       ]
      },
      {
       "output_type": "stream",
       "stream": "stdout",
       "text": [
        "\r",
        "Loading data for meter ElecMeterID(instance=31, building=1, dataset='UK-DALE')     "
       ]
      },
      {
       "output_type": "stream",
       "stream": "stdout",
       "text": [
        "\r",
        "Loading data for meter ElecMeterID(instance=13, building=1, dataset='UK-DALE')     "
       ]
      },
      {
       "output_type": "stream",
       "stream": "stdout",
       "text": [
        "\r",
        "Loading data for meter ElecMeterID(instance=35, building=1, dataset='UK-DALE')     "
       ]
      },
      {
       "output_type": "stream",
       "stream": "stdout",
       "text": [
        "\r",
        "Loading data for meter ElecMeterID(instance=17, building=1, dataset='UK-DALE')     "
       ]
      },
      {
       "output_type": "stream",
       "stream": "stdout",
       "text": [
        "\r",
        "Loading data for meter ElecMeterID(instance=37, building=1, dataset='UK-DALE')     "
       ]
      },
      {
       "output_type": "stream",
       "stream": "stdout",
       "text": [
        "\r",
        "Loading data for meter ElecMeterID(instance=41, building=1, dataset='UK-DALE')     "
       ]
      },
      {
       "output_type": "stream",
       "stream": "stdout",
       "text": [
        "\r",
        "Loading data for meter ElecMeterID(instance=6, building=1, dataset='UK-DALE')     "
       ]
      },
      {
       "output_type": "stream",
       "stream": "stdout",
       "text": [
        "\r",
        "Loading data for meter ElecMeterID(instance=10, building=1, dataset='UK-DALE')     "
       ]
      },
      {
       "output_type": "stream",
       "stream": "stdout",
       "text": [
        "\r",
        "Loading data for meter ElecMeterID(instance=30, building=1, dataset='UK-DALE')     "
       ]
      },
      {
       "output_type": "stream",
       "stream": "stdout",
       "text": [
        "\r",
        "Loading data for meter ElecMeterID(instance=12, building=1, dataset='UK-DALE')     "
       ]
      },
      {
       "output_type": "stream",
       "stream": "stdout",
       "text": [
        "\r",
        "Loading data for meter ElecMeterID(instance=34, building=1, dataset='UK-DALE')     "
       ]
      },
      {
       "output_type": "stream",
       "stream": "stdout",
       "text": [
        "\r",
        "Loading data for meter ElecMeterID(instance=16, building=1, dataset='UK-DALE')     "
       ]
      },
      {
       "output_type": "stream",
       "stream": "stdout",
       "text": [
        "\r",
        "Loading data for meter ElecMeterID(instance=36, building=1, dataset='UK-DALE')     "
       ]
      },
      {
       "output_type": "stream",
       "stream": "stdout",
       "text": [
        "\r",
        "Loading data for meter ElecMeterID(instance=3, building=1, dataset='UK-DALE')     "
       ]
      },
      {
       "output_type": "stream",
       "stream": "stdout",
       "text": [
        "\r",
        "Loading data for meter ElecMeterID(instance=40, building=1, dataset='UK-DALE')     "
       ]
      },
      {
       "output_type": "stream",
       "stream": "stdout",
       "text": [
        "\r",
        "Loading data for meter ElecMeterID(instance=23, building=1, dataset='UK-DALE')     "
       ]
      },
      {
       "output_type": "stream",
       "stream": "stdout",
       "text": [
        "\r",
        "Loading data for meter ElecMeterID(instance=5, building=1, dataset='UK-DALE')     "
       ]
      },
      {
       "output_type": "stream",
       "stream": "stdout",
       "text": [
        "\r",
        "Loading data for meter ElecMeterID(instance=27, building=1, dataset='UK-DALE')     "
       ]
      },
      {
       "output_type": "stream",
       "stream": "stdout",
       "text": [
        "\r",
        "Loading data for meter ElecMeterID(instance=9, building=1, dataset='UK-DALE')     "
       ]
      },
      {
       "output_type": "stream",
       "stream": "stdout",
       "text": [
        "\r",
        "Loading data for meter ElecMeterID(instance=47, building=1, dataset='UK-DALE')     "
       ]
      },
      {
       "output_type": "stream",
       "stream": "stdout",
       "text": [
        "\r",
        "Loading data for meter ElecMeterID(instance=29, building=1, dataset='UK-DALE')     "
       ]
      },
      {
       "output_type": "stream",
       "stream": "stdout",
       "text": [
        "\r",
        "Loading data for meter ElecMeterID(instance=51, building=1, dataset='UK-DALE')     "
       ]
      },
      {
       "output_type": "stream",
       "stream": "stdout",
       "text": [
        "\r",
        "Loading data for meter ElecMeterID(instance=33, building=1, dataset='UK-DALE')     "
       ]
      },
      {
       "output_type": "stream",
       "stream": "stdout",
       "text": [
        "\r",
        "Loading data for meter ElecMeterID(instance=53, building=1, dataset='UK-DALE')     "
       ]
      },
      {
       "output_type": "stream",
       "stream": "stdout",
       "text": [
        "\r",
        "Loading data for meter ElecMeterID(instance=2, building=1, dataset='UK-DALE')     "
       ]
      },
      {
       "output_type": "stream",
       "stream": "stdout",
       "text": [
        "\r",
        "Loading data for meter ElecMeterID(instance=22, building=1, dataset='UK-DALE')     "
       ]
      },
      {
       "output_type": "stream",
       "stream": "stdout",
       "text": [
        "\r",
        "Loading data for meter ElecMeterID(instance=4, building=1, dataset='UK-DALE')     "
       ]
      },
      {
       "output_type": "stream",
       "stream": "stdout",
       "text": [
        "\r",
        "Loading data for meter ElecMeterID(instance=26, building=1, dataset='UK-DALE')     "
       ]
      },
      {
       "output_type": "stream",
       "stream": "stdout",
       "text": [
        "\r",
        "Loading data for meter ElecMeterID(instance=46, building=1, dataset='UK-DALE')     "
       ]
      },
      {
       "output_type": "stream",
       "stream": "stdout",
       "text": [
        "\r",
        "Loading data for meter ElecMeterID(instance=28, building=1, dataset='UK-DALE')     "
       ]
      },
      {
       "output_type": "stream",
       "stream": "stdout",
       "text": [
        "\r",
        "Loading data for meter ElecMeterID(instance=50, building=1, dataset='UK-DALE')     "
       ]
      },
      {
       "output_type": "stream",
       "stream": "stdout",
       "text": [
        "\r",
        "Loading data for meter ElecMeterID(instance=32, building=1, dataset='UK-DALE')     "
       ]
      },
      {
       "output_type": "stream",
       "stream": "stdout",
       "text": [
        "\r",
        "Loading data for meter ElecMeterID(instance=15, building=1, dataset='UK-DALE')     "
       ]
      },
      {
       "output_type": "stream",
       "stream": "stdout",
       "text": [
        "\r",
        "Loading data for meter ElecMeterID(instance=52, building=1, dataset='UK-DALE')     "
       ]
      },
      {
       "output_type": "stream",
       "stream": "stdout",
       "text": [
        "\r",
        "Loading data for meter ElecMeterID(instance=19, building=1, dataset='UK-DALE')     "
       ]
      },
      {
       "output_type": "stream",
       "stream": "stdout",
       "text": [
        "\r",
        "Loading data for meter ElecMeterID(instance=39, building=1, dataset='UK-DALE')     "
       ]
      },
      {
       "output_type": "stream",
       "stream": "stdout",
       "text": [
        "\r",
        "Loading data for meter ElecMeterID(instance=21, building=1, dataset='UK-DALE')     "
       ]
      },
      {
       "output_type": "stream",
       "stream": "stdout",
       "text": [
        "\r",
        "Loading data for meter ElecMeterID(instance=43, building=1, dataset='UK-DALE')     "
       ]
      },
      {
       "output_type": "stream",
       "stream": "stdout",
       "text": [
        "\r",
        "Loading data for meter ElecMeterID(instance=25, building=1, dataset='UK-DALE')     "
       ]
      },
      {
       "output_type": "stream",
       "stream": "stdout",
       "text": [
        "\r",
        "Loading data for meter ElecMeterID(instance=45, building=1, dataset='UK-DALE')     "
       ]
      },
      {
       "output_type": "stream",
       "stream": "stdout",
       "text": [
        "\r",
        "Loading data for meter ElecMeterID(instance=49, building=1, dataset='UK-DALE')     "
       ]
      },
      {
       "output_type": "stream",
       "stream": "stdout",
       "text": [
        "\n",
        "Done loading data all meters for this chunk.\n",
        "\r",
        "Loading data for meter"
       ]
      },
      {
       "output_type": "stream",
       "stream": "stdout",
       "text": [
        " ElecMeterID(instance=14, building=1, dataset='UK-DALE')     "
       ]
      },
      {
       "output_type": "stream",
       "stream": "stdout",
       "text": [
        "\r",
        "Loading data for meter ElecMeterID(instance=18, building=1, dataset='UK-DALE')     "
       ]
      },
      {
       "output_type": "stream",
       "stream": "stdout",
       "text": [
        "\r",
        "Loading data for meter ElecMeterID(instance=38, building=1, dataset='UK-DALE')     "
       ]
      },
      {
       "output_type": "stream",
       "stream": "stdout",
       "text": [
        "\r",
        "Loading data for meter ElecMeterID(instance=20, building=1, dataset='UK-DALE')     "
       ]
      },
      {
       "output_type": "stream",
       "stream": "stdout",
       "text": [
        "\r",
        "Loading data for meter ElecMeterID(instance=42, building=1, dataset='UK-DALE')     "
       ]
      },
      {
       "output_type": "stream",
       "stream": "stdout",
       "text": [
        "\r",
        "Loading data for meter ElecMeterID(instance=24, building=1, dataset='UK-DALE')     "
       ]
      },
      {
       "output_type": "stream",
       "stream": "stdout",
       "text": [
        "\r",
        "Loading data for meter ElecMeterID(instance=7, building=1, dataset='UK-DALE')     "
       ]
      },
      {
       "output_type": "stream",
       "stream": "stdout",
       "text": [
        "\r",
        "Loading data for meter ElecMeterID(instance=44, building=1, dataset='UK-DALE')     "
       ]
      },
      {
       "output_type": "stream",
       "stream": "stdout",
       "text": [
        "\r",
        "Loading data for meter ElecMeterID(instance=11, building=1, dataset='UK-DALE')     "
       ]
      },
      {
       "output_type": "stream",
       "stream": "stdout",
       "text": [
        "\r",
        "Loading data for meter ElecMeterID(instance=48, building=1, dataset='UK-DALE')     "
       ]
      },
      {
       "output_type": "stream",
       "stream": "stdout",
       "text": [
        "\r",
        "Loading data for meter ElecMeterID(instance=31, building=1, dataset='UK-DALE')     "
       ]
      },
      {
       "output_type": "stream",
       "stream": "stdout",
       "text": [
        "\r",
        "Loading data for meter ElecMeterID(instance=13, building=1, dataset='UK-DALE')     "
       ]
      },
      {
       "output_type": "stream",
       "stream": "stdout",
       "text": [
        "\r",
        "Loading data for meter ElecMeterID(instance=35, building=1, dataset='UK-DALE')     "
       ]
      },
      {
       "output_type": "stream",
       "stream": "stdout",
       "text": [
        "\r",
        "Loading data for meter ElecMeterID(instance=17, building=1, dataset='UK-DALE')     "
       ]
      },
      {
       "output_type": "stream",
       "stream": "stdout",
       "text": [
        "\r",
        "Loading data for meter ElecMeterID(instance=37, building=1, dataset='UK-DALE')     "
       ]
      },
      {
       "output_type": "stream",
       "stream": "stdout",
       "text": [
        "\r",
        "Loading data for meter ElecMeterID(instance=41, building=1, dataset='UK-DALE')     "
       ]
      },
      {
       "output_type": "stream",
       "stream": "stdout",
       "text": [
        "\r",
        "Loading data for meter ElecMeterID(instance=6, building=1, dataset='UK-DALE')     "
       ]
      },
      {
       "output_type": "stream",
       "stream": "stdout",
       "text": [
        "\r",
        "Loading data for meter ElecMeterID(instance=10, building=1, dataset='UK-DALE')     "
       ]
      },
      {
       "output_type": "stream",
       "stream": "stdout",
       "text": [
        "\r",
        "Loading data for meter ElecMeterID(instance=30, building=1, dataset='UK-DALE')     "
       ]
      },
      {
       "output_type": "stream",
       "stream": "stdout",
       "text": [
        "\r",
        "Loading data for meter ElecMeterID(instance=12, building=1, dataset='UK-DALE')     "
       ]
      },
      {
       "output_type": "stream",
       "stream": "stdout",
       "text": [
        "\r",
        "Loading data for meter ElecMeterID(instance=34, building=1, dataset='UK-DALE')     "
       ]
      },
      {
       "output_type": "stream",
       "stream": "stdout",
       "text": [
        "\r",
        "Loading data for meter ElecMeterID(instance=16, building=1, dataset='UK-DALE')     "
       ]
      },
      {
       "output_type": "stream",
       "stream": "stdout",
       "text": [
        "\r",
        "Loading data for meter ElecMeterID(instance=36, building=1, dataset='UK-DALE')     "
       ]
      },
      {
       "output_type": "stream",
       "stream": "stdout",
       "text": [
        "\r",
        "Loading data for meter ElecMeterID(instance=3, building=1, dataset='UK-DALE')     "
       ]
      },
      {
       "output_type": "stream",
       "stream": "stdout",
       "text": [
        "\r",
        "Loading data for meter ElecMeterID(instance=40, building=1, dataset='UK-DALE')     "
       ]
      },
      {
       "output_type": "stream",
       "stream": "stdout",
       "text": [
        "\r",
        "Loading data for meter ElecMeterID(instance=23, building=1, dataset='UK-DALE')     "
       ]
      },
      {
       "output_type": "stream",
       "stream": "stdout",
       "text": [
        "\r",
        "Loading data for meter ElecMeterID(instance=5, building=1, dataset='UK-DALE')     "
       ]
      },
      {
       "output_type": "stream",
       "stream": "stdout",
       "text": [
        "\r",
        "Loading data for meter ElecMeterID(instance=27, building=1, dataset='UK-DALE')     "
       ]
      },
      {
       "output_type": "stream",
       "stream": "stdout",
       "text": [
        "\r",
        "Loading data for meter ElecMeterID(instance=9, building=1, dataset='UK-DALE')     "
       ]
      },
      {
       "output_type": "stream",
       "stream": "stdout",
       "text": [
        "\r",
        "Loading data for meter ElecMeterID(instance=47, building=1, dataset='UK-DALE')     "
       ]
      },
      {
       "output_type": "stream",
       "stream": "stdout",
       "text": [
        "\r",
        "Loading data for meter ElecMeterID(instance=29, building=1, dataset='UK-DALE')     "
       ]
      },
      {
       "output_type": "stream",
       "stream": "stdout",
       "text": [
        "\r",
        "Loading data for meter ElecMeterID(instance=51, building=1, dataset='UK-DALE')     "
       ]
      },
      {
       "output_type": "stream",
       "stream": "stdout",
       "text": [
        "\r",
        "Loading data for meter ElecMeterID(instance=33, building=1, dataset='UK-DALE')     "
       ]
      },
      {
       "output_type": "stream",
       "stream": "stdout",
       "text": [
        "\r",
        "Loading data for meter ElecMeterID(instance=53, building=1, dataset='UK-DALE')     "
       ]
      },
      {
       "output_type": "stream",
       "stream": "stdout",
       "text": [
        "\r",
        "Loading data for meter ElecMeterID(instance=2, building=1, dataset='UK-DALE')     "
       ]
      },
      {
       "output_type": "stream",
       "stream": "stdout",
       "text": [
        "\r",
        "Loading data for meter ElecMeterID(instance=22, building=1, dataset='UK-DALE')     "
       ]
      },
      {
       "output_type": "stream",
       "stream": "stdout",
       "text": [
        "\r",
        "Loading data for meter ElecMeterID(instance=4, building=1, dataset='UK-DALE')     "
       ]
      },
      {
       "output_type": "stream",
       "stream": "stdout",
       "text": [
        "\r",
        "Loading data for meter ElecMeterID(instance=26, building=1, dataset='UK-DALE')     "
       ]
      },
      {
       "output_type": "stream",
       "stream": "stdout",
       "text": [
        "\r",
        "Loading data for meter ElecMeterID(instance=46, building=1, dataset='UK-DALE')     "
       ]
      },
      {
       "output_type": "stream",
       "stream": "stdout",
       "text": [
        "\r",
        "Loading data for meter ElecMeterID(instance=28, building=1, dataset='UK-DALE')     "
       ]
      },
      {
       "output_type": "stream",
       "stream": "stdout",
       "text": [
        "\r",
        "Loading data for meter ElecMeterID(instance=50, building=1, dataset='UK-DALE')     "
       ]
      },
      {
       "output_type": "stream",
       "stream": "stdout",
       "text": [
        "\r",
        "Loading data for meter ElecMeterID(instance=32, building=1, dataset='UK-DALE')     "
       ]
      },
      {
       "output_type": "stream",
       "stream": "stdout",
       "text": [
        "\r",
        "Loading data for meter ElecMeterID(instance=15, building=1, dataset='UK-DALE')     "
       ]
      },
      {
       "output_type": "stream",
       "stream": "stdout",
       "text": [
        "\r",
        "Loading data for meter ElecMeterID(instance=52, building=1, dataset='UK-DALE')     "
       ]
      },
      {
       "output_type": "stream",
       "stream": "stdout",
       "text": [
        "\r",
        "Loading data for meter ElecMeterID(instance=19, building=1, dataset='UK-DALE')     "
       ]
      },
      {
       "output_type": "stream",
       "stream": "stdout",
       "text": [
        "\r",
        "Loading data for meter ElecMeterID(instance=39, building=1, dataset='UK-DALE')     "
       ]
      },
      {
       "output_type": "stream",
       "stream": "stdout",
       "text": [
        "\r",
        "Loading data for meter ElecMeterID(instance=21, building=1, dataset='UK-DALE')     "
       ]
      },
      {
       "output_type": "stream",
       "stream": "stdout",
       "text": [
        "\r",
        "Loading data for meter ElecMeterID(instance=43, building=1, dataset='UK-DALE')     "
       ]
      },
      {
       "output_type": "stream",
       "stream": "stdout",
       "text": [
        "\r",
        "Loading data for meter ElecMeterID(instance=25, building=1, dataset='UK-DALE')     "
       ]
      },
      {
       "output_type": "stream",
       "stream": "stdout",
       "text": [
        "\r",
        "Loading data for meter ElecMeterID(instance=45, building=1, dataset='UK-DALE')     "
       ]
      },
      {
       "output_type": "stream",
       "stream": "stdout",
       "text": [
        "\r",
        "Loading data for meter ElecMeterID(instance=49, building=1, dataset='UK-DALE')     "
       ]
      },
      {
       "output_type": "stream",
       "stream": "stdout",
       "text": [
        "\n",
        "Done loading data all meters for this chunk.\n",
        "Running MeterGroup.proportion_of_energy_submetered..."
       ]
      },
      {
       "output_type": "stream",
       "stream": "stdout",
       "text": [
        "\n",
        "\r",
        "Calculating"
       ]
      },
      {
       "output_type": "stream",
       "stream": "stdout",
       "text": [
        " dropout_rate for ElecMeterID(instance=2, building=1, dataset='UK-DALE') ...   "
       ]
      },
      {
       "output_type": "stream",
       "stream": "stdout",
       "text": [
        "\r",
        "Calculating dropout_rate for ElecMeterID(instance=3, building=1, dataset='UK-DALE') ...   "
       ]
      },
      {
       "output_type": "stream",
       "stream": "stdout",
       "text": [
        "\r",
        "Calculating dropout_rate for ElecMeterID(instance=4, building=1, dataset='UK-DALE') ...   "
       ]
      },
      {
       "output_type": "stream",
       "stream": "stdout",
       "text": [
        "\r",
        "Calculating dropout_rate for ElecMeterID(instance=5, building=1, dataset='UK-DALE') ...   "
       ]
      },
      {
       "output_type": "stream",
       "stream": "stdout",
       "text": [
        "\r",
        "Calculating dropout_rate for ElecMeterID(instance=6, building=1, dataset='UK-DALE') ...   "
       ]
      },
      {
       "output_type": "stream",
       "stream": "stdout",
       "text": [
        "\r",
        "Calculating dropout_rate for ElecMeterID(instance=7, building=1, dataset='UK-DALE') ...   "
       ]
      },
      {
       "output_type": "stream",
       "stream": "stdout",
       "text": [
        "\r",
        "Calculating dropout_rate for ElecMeterID(instance=8, building=1, dataset='UK-DALE') ...   "
       ]
      },
      {
       "output_type": "stream",
       "stream": "stdout",
       "text": [
        "\r",
        "Calculating dropout_rate for ElecMeterID(instance=9, building=1, dataset='UK-DALE') ...   "
       ]
      },
      {
       "output_type": "stream",
       "stream": "stdout",
       "text": [
        "\r",
        "Calculating dropout_rate for ElecMeterID(instance=10, building=1, dataset='UK-DALE') ...   "
       ]
      },
      {
       "output_type": "stream",
       "stream": "stdout",
       "text": [
        "\r",
        "Calculating dropout_rate for ElecMeterID(instance=11, building=1, dataset='UK-DALE') ...   "
       ]
      },
      {
       "output_type": "stream",
       "stream": "stdout",
       "text": [
        "\r",
        "Calculating dropout_rate for ElecMeterID(instance=12, building=1, dataset='UK-DALE') ...   "
       ]
      },
      {
       "output_type": "stream",
       "stream": "stdout",
       "text": [
        "\r",
        "Calculating dropout_rate for ElecMeterID(instance=13, building=1, dataset='UK-DALE') ...   "
       ]
      },
      {
       "output_type": "stream",
       "stream": "stdout",
       "text": [
        "\r",
        "Calculating dropout_rate for ElecMeterID(instance=14, building=1, dataset='UK-DALE') ...   "
       ]
      },
      {
       "output_type": "stream",
       "stream": "stdout",
       "text": [
        "\r",
        "Calculating dropout_rate for ElecMeterID(instance=15, building=1, dataset='UK-DALE') ...   "
       ]
      },
      {
       "output_type": "stream",
       "stream": "stdout",
       "text": [
        "\r",
        "Calculating dropout_rate for ElecMeterID(instance=16, building=1, dataset='UK-DALE') ...   "
       ]
      },
      {
       "output_type": "stream",
       "stream": "stdout",
       "text": [
        "\r",
        "Calculating dropout_rate for ElecMeterID(instance=17, building=1, dataset='UK-DALE') ...   "
       ]
      },
      {
       "output_type": "stream",
       "stream": "stdout",
       "text": [
        "\r",
        "Calculating dropout_rate for ElecMeterID(instance=18, building=1, dataset='UK-DALE') ...   "
       ]
      },
      {
       "output_type": "stream",
       "stream": "stdout",
       "text": [
        "\r",
        "Calculating dropout_rate for ElecMeterID(instance=19, building=1, dataset='UK-DALE') ...   "
       ]
      },
      {
       "output_type": "stream",
       "stream": "stdout",
       "text": [
        "\r",
        "Calculating dropout_rate for ElecMeterID(instance=20, building=1, dataset='UK-DALE') ...   "
       ]
      },
      {
       "output_type": "stream",
       "stream": "stdout",
       "text": [
        "\r",
        "Calculating dropout_rate for ElecMeterID(instance=21, building=1, dataset='UK-DALE') ...   "
       ]
      },
      {
       "output_type": "stream",
       "stream": "stdout",
       "text": [
        "\r",
        "Calculating dropout_rate for ElecMeterID(instance=22, building=1, dataset='UK-DALE') ...   "
       ]
      },
      {
       "output_type": "stream",
       "stream": "stdout",
       "text": [
        "\r",
        "Calculating dropout_rate for ElecMeterID(instance=23, building=1, dataset='UK-DALE') ...   "
       ]
      },
      {
       "output_type": "stream",
       "stream": "stdout",
       "text": [
        "\r",
        "Calculating dropout_rate for ElecMeterID(instance=24, building=1, dataset='UK-DALE') ...   "
       ]
      },
      {
       "output_type": "stream",
       "stream": "stdout",
       "text": [
        "\r",
        "Calculating dropout_rate for ElecMeterID(instance=25, building=1, dataset='UK-DALE') ...   "
       ]
      },
      {
       "output_type": "stream",
       "stream": "stdout",
       "text": [
        "\r",
        "Calculating dropout_rate for ElecMeterID(instance=26, building=1, dataset='UK-DALE') ...   "
       ]
      },
      {
       "output_type": "stream",
       "stream": "stdout",
       "text": [
        "\r",
        "Calculating dropout_rate for ElecMeterID(instance=27, building=1, dataset='UK-DALE') ...   "
       ]
      },
      {
       "output_type": "stream",
       "stream": "stdout",
       "text": [
        "\r",
        "Calculating dropout_rate for ElecMeterID(instance=28, building=1, dataset='UK-DALE') ...   "
       ]
      },
      {
       "output_type": "stream",
       "stream": "stdout",
       "text": [
        "\r",
        "Calculating dropout_rate for ElecMeterID(instance=29, building=1, dataset='UK-DALE') ...   "
       ]
      },
      {
       "output_type": "stream",
       "stream": "stdout",
       "text": [
        "\r",
        "Calculating dropout_rate for ElecMeterID(instance=30, building=1, dataset='UK-DALE') ...   "
       ]
      },
      {
       "output_type": "stream",
       "stream": "stdout",
       "text": [
        "\r",
        "Calculating dropout_rate for ElecMeterID(instance=31, building=1, dataset='UK-DALE') ...   "
       ]
      },
      {
       "output_type": "stream",
       "stream": "stdout",
       "text": [
        "\r",
        "Calculating dropout_rate for ElecMeterID(instance=32, building=1, dataset='UK-DALE') ...   "
       ]
      },
      {
       "output_type": "stream",
       "stream": "stdout",
       "text": [
        "\r",
        "Calculating dropout_rate for ElecMeterID(instance=33, building=1, dataset='UK-DALE') ...   "
       ]
      },
      {
       "output_type": "stream",
       "stream": "stdout",
       "text": [
        "\r",
        "Calculating dropout_rate for ElecMeterID(instance=34, building=1, dataset='UK-DALE') ...   "
       ]
      },
      {
       "output_type": "stream",
       "stream": "stdout",
       "text": [
        "\r",
        "Calculating dropout_rate for ElecMeterID(instance=35, building=1, dataset='UK-DALE') ...   "
       ]
      },
      {
       "output_type": "stream",
       "stream": "stdout",
       "text": [
        "\r",
        "Calculating dropout_rate for ElecMeterID(instance=36, building=1, dataset='UK-DALE') ...   "
       ]
      },
      {
       "output_type": "stream",
       "stream": "stdout",
       "text": [
        "\r",
        "Calculating dropout_rate for ElecMeterID(instance=37, building=1, dataset='UK-DALE') ...   "
       ]
      },
      {
       "output_type": "stream",
       "stream": "stdout",
       "text": [
        "\r",
        "Calculating dropout_rate for ElecMeterID(instance=38, building=1, dataset='UK-DALE') ...   "
       ]
      },
      {
       "output_type": "stream",
       "stream": "stdout",
       "text": [
        "\r",
        "Calculating dropout_rate for ElecMeterID(instance=39, building=1, dataset='UK-DALE') ...   "
       ]
      },
      {
       "output_type": "stream",
       "stream": "stdout",
       "text": [
        "\r",
        "Calculating dropout_rate for ElecMeterID(instance=40, building=1, dataset='UK-DALE') ...   "
       ]
      },
      {
       "output_type": "stream",
       "stream": "stdout",
       "text": [
        "\r",
        "Calculating dropout_rate for ElecMeterID(instance=41, building=1, dataset='UK-DALE') ...   "
       ]
      },
      {
       "output_type": "stream",
       "stream": "stdout",
       "text": [
        "\r",
        "Calculating dropout_rate for ElecMeterID(instance=42, building=1, dataset='UK-DALE') ...   "
       ]
      },
      {
       "output_type": "stream",
       "stream": "stdout",
       "text": [
        "\r",
        "Calculating dropout_rate for ElecMeterID(instance=43, building=1, dataset='UK-DALE') ...   "
       ]
      },
      {
       "output_type": "stream",
       "stream": "stdout",
       "text": [
        "\r",
        "Calculating dropout_rate for ElecMeterID(instance=44, building=1, dataset='UK-DALE') ...   "
       ]
      },
      {
       "output_type": "stream",
       "stream": "stdout",
       "text": [
        "\r",
        "Calculating dropout_rate for ElecMeterID(instance=45, building=1, dataset='UK-DALE') ...   "
       ]
      },
      {
       "output_type": "stream",
       "stream": "stdout",
       "text": [
        "\r",
        "Calculating dropout_rate for ElecMeterID(instance=46, building=1, dataset='UK-DALE') ...   "
       ]
      },
      {
       "output_type": "stream",
       "stream": "stdout",
       "text": [
        "\r",
        "Calculating dropout_rate for ElecMeterID(instance=47, building=1, dataset='UK-DALE') ...   "
       ]
      },
      {
       "output_type": "stream",
       "stream": "stdout",
       "text": [
        "\r",
        "Calculating dropout_rate for ElecMeterID(instance=48, building=1, dataset='UK-DALE') ...   "
       ]
      },
      {
       "output_type": "stream",
       "stream": "stdout",
       "text": [
        "\r",
        "Calculating dropout_rate for ElecMeterID(instance=49, building=1, dataset='UK-DALE') ...   "
       ]
      },
      {
       "output_type": "stream",
       "stream": "stdout",
       "text": [
        "\r",
        "Calculating dropout_rate for ElecMeterID(instance=50, building=1, dataset='UK-DALE') ...   "
       ]
      },
      {
       "output_type": "stream",
       "stream": "stdout",
       "text": [
        "\r",
        "Calculating dropout_rate for ElecMeterID(instance=51, building=1, dataset='UK-DALE') ...   "
       ]
      },
      {
       "output_type": "stream",
       "stream": "stdout",
       "text": [
        "\r",
        "Calculating dropout_rate for ElecMeterID(instance=52, building=1, dataset='UK-DALE') ...   "
       ]
      },
      {
       "output_type": "stream",
       "stream": "stdout",
       "text": [
        "\r",
        "Calculating dropout_rate for ElecMeterID(instance=53, building=1, dataset='UK-DALE') ...   "
       ]
      },
      {
       "output_type": "stream",
       "stream": "stdout",
       "text": [
        "\r",
        "Calculating dropout_rate for ElecMeterID(instance=54, building=1, dataset='UK-DALE') ...   "
       ]
      },
      {
       "output_type": "stream",
       "stream": "stdout",
       "text": [
        "total_n_meters                                                                               54\n",
        "total_n_site_meters                                                                           2\n",
        "correlation_of_sum_of_submeters_with_mains                                            0.9646872\n",
        "proportion_of_energy_submetered                                                       0.7985582\n",
        "dropout_rates_ignoring_gaps                   min=6.61435148815e-07, mean=0.130971453413, ma...\n",
        "mains_sample_period                                                                           1\n",
        "submeter_sample_period                                                                        6\n",
        "timeframe                                     start=2013-04-12 00:00:00+01:00, end=2014-12-1...\n",
        "total_duration                                                         615 days 07:27:09.700000\n",
        "mains_uptime                                                           614 days 12:55:18.100000\n",
        "proportion_uptime                                                                     0.9987451\n",
        "average_mains_energy_per_day                  active      7.591294\n",
        "apparent    8.853724\n",
        "dtyp...\n",
        "dtype: object\n",
        "\n",
        "*********** House 2 *************\n",
        "Running MeterGroup.correlation_of_sum_of_submeters_with_mains...\n",
        "\r",
        "Loading data for meter"
       ]
      },
      {
       "output_type": "stream",
       "stream": "stdout",
       "text": [
        " ElecMeterID(instance=14, building=1, dataset='UK-DALE')     "
       ]
      },
      {
       "output_type": "stream",
       "stream": "stdout",
       "text": [
        "\r",
        "Loading data for meter ElecMeterID(instance=18, building=1, dataset='UK-DALE')     "
       ]
      },
      {
       "output_type": "stream",
       "stream": "stdout",
       "text": [
        "\r",
        "Loading data for meter ElecMeterID(instance=38, building=1, dataset='UK-DALE')     "
       ]
      },
      {
       "output_type": "stream",
       "stream": "stdout",
       "text": [
        "\r",
        "Loading data for meter ElecMeterID(instance=20, building=1, dataset='UK-DALE')     "
       ]
      },
      {
       "output_type": "stream",
       "stream": "stdout",
       "text": [
        "\r",
        "Loading data for meter ElecMeterID(instance=42, building=1, dataset='UK-DALE')     "
       ]
      },
      {
       "output_type": "stream",
       "stream": "stdout",
       "text": [
        "\r",
        "Loading data for meter ElecMeterID(instance=24, building=1, dataset='UK-DALE')     "
       ]
      },
      {
       "output_type": "stream",
       "stream": "stdout",
       "text": [
        "\r",
        "Loading data for meter ElecMeterID(instance=7, building=1, dataset='UK-DALE')     "
       ]
      },
      {
       "output_type": "stream",
       "stream": "stdout",
       "text": [
        "\r",
        "Loading data for meter ElecMeterID(instance=44, building=1, dataset='UK-DALE')     "
       ]
      },
      {
       "output_type": "stream",
       "stream": "stdout",
       "text": [
        "\r",
        "Loading data for meter ElecMeterID(instance=11, building=1, dataset='UK-DALE')     "
       ]
      },
      {
       "output_type": "stream",
       "stream": "stdout",
       "text": [
        "\r",
        "Loading data for meter ElecMeterID(instance=48, building=1, dataset='UK-DALE')     "
       ]
      },
      {
       "output_type": "stream",
       "stream": "stdout",
       "text": [
        "\r",
        "Loading data for meter ElecMeterID(instance=31, building=1, dataset='UK-DALE')     "
       ]
      },
      {
       "output_type": "stream",
       "stream": "stdout",
       "text": [
        "\r",
        "Loading data for meter ElecMeterID(instance=13, building=1, dataset='UK-DALE')     "
       ]
      },
      {
       "output_type": "stream",
       "stream": "stdout",
       "text": [
        "\r",
        "Loading data for meter ElecMeterID(instance=35, building=1, dataset='UK-DALE')     "
       ]
      },
      {
       "output_type": "stream",
       "stream": "stdout",
       "text": [
        "\r",
        "Loading data for meter ElecMeterID(instance=17, building=1, dataset='UK-DALE')     "
       ]
      },
      {
       "output_type": "stream",
       "stream": "stdout",
       "text": [
        "\r",
        "Loading data for meter ElecMeterID(instance=37, building=1, dataset='UK-DALE')     "
       ]
      },
      {
       "output_type": "stream",
       "stream": "stdout",
       "text": [
        "\r",
        "Loading data for meter ElecMeterID(instance=41, building=1, dataset='UK-DALE')     "
       ]
      },
      {
       "output_type": "stream",
       "stream": "stdout",
       "text": [
        "\r",
        "Loading data for meter ElecMeterID(instance=6, building=1, dataset='UK-DALE')     "
       ]
      },
      {
       "output_type": "stream",
       "stream": "stdout",
       "text": [
        "\r",
        "Loading data for meter ElecMeterID(instance=10, building=1, dataset='UK-DALE')     "
       ]
      },
      {
       "output_type": "stream",
       "stream": "stdout",
       "text": [
        "\r",
        "Loading data for meter ElecMeterID(instance=30, building=1, dataset='UK-DALE')     "
       ]
      },
      {
       "output_type": "stream",
       "stream": "stdout",
       "text": [
        "\r",
        "Loading data for meter ElecMeterID(instance=12, building=1, dataset='UK-DALE')     "
       ]
      },
      {
       "output_type": "stream",
       "stream": "stdout",
       "text": [
        "\r",
        "Loading data for meter ElecMeterID(instance=34, building=1, dataset='UK-DALE')     "
       ]
      },
      {
       "output_type": "stream",
       "stream": "stdout",
       "text": [
        "\r",
        "Loading data for meter ElecMeterID(instance=16, building=1, dataset='UK-DALE')     "
       ]
      },
      {
       "output_type": "stream",
       "stream": "stdout",
       "text": [
        "\r",
        "Loading data for meter ElecMeterID(instance=36, building=1, dataset='UK-DALE')     "
       ]
      },
      {
       "output_type": "stream",
       "stream": "stdout",
       "text": [
        "\r",
        "Loading data for meter ElecMeterID(instance=3, building=1, dataset='UK-DALE')     "
       ]
      },
      {
       "output_type": "stream",
       "stream": "stdout",
       "text": [
        "\r",
        "Loading data for meter ElecMeterID(instance=40, building=1, dataset='UK-DALE')     "
       ]
      },
      {
       "output_type": "stream",
       "stream": "stdout",
       "text": [
        "\r",
        "Loading data for meter ElecMeterID(instance=23, building=1, dataset='UK-DALE')     "
       ]
      },
      {
       "output_type": "stream",
       "stream": "stdout",
       "text": [
        "\r",
        "Loading data for meter ElecMeterID(instance=5, building=1, dataset='UK-DALE')     "
       ]
      },
      {
       "output_type": "stream",
       "stream": "stdout",
       "text": [
        "\r",
        "Loading data for meter ElecMeterID(instance=27, building=1, dataset='UK-DALE')     "
       ]
      },
      {
       "output_type": "stream",
       "stream": "stdout",
       "text": [
        "\r",
        "Loading data for meter ElecMeterID(instance=9, building=1, dataset='UK-DALE')     "
       ]
      },
      {
       "output_type": "stream",
       "stream": "stdout",
       "text": [
        "\r",
        "Loading data for meter ElecMeterID(instance=47, building=1, dataset='UK-DALE')     "
       ]
      },
      {
       "output_type": "stream",
       "stream": "stdout",
       "text": [
        "\r",
        "Loading data for meter ElecMeterID(instance=29, building=1, dataset='UK-DALE')     "
       ]
      },
      {
       "output_type": "stream",
       "stream": "stdout",
       "text": [
        "\r",
        "Loading data for meter ElecMeterID(instance=51, building=1, dataset='UK-DALE')     "
       ]
      },
      {
       "output_type": "stream",
       "stream": "stdout",
       "text": [
        "\r",
        "Loading data for meter ElecMeterID(instance=33, building=1, dataset='UK-DALE')     "
       ]
      },
      {
       "output_type": "stream",
       "stream": "stdout",
       "text": [
        "\r",
        "Loading data for meter ElecMeterID(instance=53, building=1, dataset='UK-DALE')     "
       ]
      },
      {
       "output_type": "stream",
       "stream": "stdout",
       "text": [
        "\r",
        "Loading data for meter ElecMeterID(instance=2, building=1, dataset='UK-DALE')     "
       ]
      },
      {
       "output_type": "stream",
       "stream": "stdout",
       "text": [
        "\r",
        "Loading data for meter ElecMeterID(instance=22, building=1, dataset='UK-DALE')     "
       ]
      },
      {
       "output_type": "stream",
       "stream": "stdout",
       "text": [
        "\r",
        "Loading data for meter ElecMeterID(instance=4, building=1, dataset='UK-DALE')     "
       ]
      },
      {
       "output_type": "stream",
       "stream": "stdout",
       "text": [
        "\r",
        "Loading data for meter ElecMeterID(instance=26, building=1, dataset='UK-DALE')     "
       ]
      },
      {
       "output_type": "stream",
       "stream": "stdout",
       "text": [
        "\r",
        "Loading data for meter ElecMeterID(instance=46, building=1, dataset='UK-DALE')     "
       ]
      },
      {
       "output_type": "stream",
       "stream": "stdout",
       "text": [
        "\r",
        "Loading data for meter ElecMeterID(instance=28, building=1, dataset='UK-DALE')     "
       ]
      },
      {
       "output_type": "stream",
       "stream": "stdout",
       "text": [
        "\r",
        "Loading data for meter ElecMeterID(instance=50, building=1, dataset='UK-DALE')     "
       ]
      },
      {
       "output_type": "stream",
       "stream": "stdout",
       "text": [
        "\r",
        "Loading data for meter ElecMeterID(instance=32, building=1, dataset='UK-DALE')     "
       ]
      },
      {
       "output_type": "stream",
       "stream": "stdout",
       "text": [
        "\r",
        "Loading data for meter ElecMeterID(instance=15, building=1, dataset='UK-DALE')     "
       ]
      },
      {
       "output_type": "stream",
       "stream": "stdout",
       "text": [
        "\r",
        "Loading data for meter ElecMeterID(instance=52, building=1, dataset='UK-DALE')     "
       ]
      },
      {
       "output_type": "stream",
       "stream": "stdout",
       "text": [
        "\r",
        "Loading data for meter ElecMeterID(instance=19, building=1, dataset='UK-DALE')     "
       ]
      },
      {
       "output_type": "stream",
       "stream": "stdout",
       "text": [
        "\r",
        "Loading data for meter ElecMeterID(instance=39, building=1, dataset='UK-DALE')     "
       ]
      },
      {
       "output_type": "stream",
       "stream": "stdout",
       "text": [
        "\r",
        "Loading data for meter ElecMeterID(instance=21, building=1, dataset='UK-DALE')     "
       ]
      },
      {
       "output_type": "stream",
       "stream": "stdout",
       "text": [
        "\r",
        "Loading data for meter ElecMeterID(instance=43, building=1, dataset='UK-DALE')     "
       ]
      },
      {
       "output_type": "stream",
       "stream": "stdout",
       "text": [
        "\r",
        "Loading data for meter ElecMeterID(instance=25, building=1, dataset='UK-DALE')     "
       ]
      },
      {
       "output_type": "stream",
       "stream": "stdout",
       "text": [
        "\r",
        "Loading data for meter ElecMeterID(instance=45, building=1, dataset='UK-DALE')     "
       ]
      },
      {
       "output_type": "stream",
       "stream": "stdout",
       "text": [
        "\r",
        "Loading data for meter ElecMeterID(instance=49, building=1, dataset='UK-DALE')     "
       ]
      },
      {
       "output_type": "stream",
       "stream": "stdout",
       "text": [
        "\n",
        "Done loading data all meters for this chunk.\n",
        "\r",
        "Loading data for meter"
       ]
      },
      {
       "output_type": "stream",
       "stream": "stdout",
       "text": [
        " ElecMeterID(instance=14, building=1, dataset='UK-DALE')     "
       ]
      },
      {
       "output_type": "stream",
       "stream": "stdout",
       "text": [
        "\r",
        "Loading data for meter ElecMeterID(instance=18, building=1, dataset='UK-DALE')     "
       ]
      },
      {
       "output_type": "stream",
       "stream": "stdout",
       "text": [
        "\r",
        "Loading data for meter ElecMeterID(instance=38, building=1, dataset='UK-DALE')     "
       ]
      },
      {
       "output_type": "stream",
       "stream": "stdout",
       "text": [
        "\r",
        "Loading data for meter ElecMeterID(instance=20, building=1, dataset='UK-DALE')     "
       ]
      },
      {
       "output_type": "stream",
       "stream": "stdout",
       "text": [
        "\r",
        "Loading data for meter ElecMeterID(instance=42, building=1, dataset='UK-DALE')     "
       ]
      },
      {
       "output_type": "stream",
       "stream": "stdout",
       "text": [
        "\r",
        "Loading data for meter ElecMeterID(instance=24, building=1, dataset='UK-DALE')     "
       ]
      },
      {
       "output_type": "stream",
       "stream": "stdout",
       "text": [
        "\r",
        "Loading data for meter ElecMeterID(instance=7, building=1, dataset='UK-DALE')     "
       ]
      },
      {
       "output_type": "stream",
       "stream": "stdout",
       "text": [
        "\r",
        "Loading data for meter ElecMeterID(instance=44, building=1, dataset='UK-DALE')     "
       ]
      },
      {
       "output_type": "stream",
       "stream": "stdout",
       "text": [
        "\r",
        "Loading data for meter ElecMeterID(instance=11, building=1, dataset='UK-DALE')     "
       ]
      },
      {
       "output_type": "stream",
       "stream": "stdout",
       "text": [
        "\r",
        "Loading data for meter ElecMeterID(instance=48, building=1, dataset='UK-DALE')     "
       ]
      },
      {
       "output_type": "stream",
       "stream": "stdout",
       "text": [
        "\r",
        "Loading data for meter ElecMeterID(instance=31, building=1, dataset='UK-DALE')     "
       ]
      },
      {
       "output_type": "stream",
       "stream": "stdout",
       "text": [
        "\r",
        "Loading data for meter ElecMeterID(instance=13, building=1, dataset='UK-DALE')     "
       ]
      },
      {
       "output_type": "stream",
       "stream": "stdout",
       "text": [
        "\r",
        "Loading data for meter ElecMeterID(instance=35, building=1, dataset='UK-DALE')     "
       ]
      },
      {
       "output_type": "stream",
       "stream": "stdout",
       "text": [
        "\r",
        "Loading data for meter ElecMeterID(instance=17, building=1, dataset='UK-DALE')     "
       ]
      },
      {
       "output_type": "stream",
       "stream": "stdout",
       "text": [
        "\r",
        "Loading data for meter ElecMeterID(instance=37, building=1, dataset='UK-DALE')     "
       ]
      },
      {
       "output_type": "stream",
       "stream": "stdout",
       "text": [
        "\r",
        "Loading data for meter ElecMeterID(instance=41, building=1, dataset='UK-DALE')     "
       ]
      },
      {
       "output_type": "stream",
       "stream": "stdout",
       "text": [
        "\r",
        "Loading data for meter ElecMeterID(instance=6, building=1, dataset='UK-DALE')     "
       ]
      },
      {
       "output_type": "stream",
       "stream": "stdout",
       "text": [
        "\r",
        "Loading data for meter ElecMeterID(instance=10, building=1, dataset='UK-DALE')     "
       ]
      },
      {
       "output_type": "stream",
       "stream": "stdout",
       "text": [
        "\r",
        "Loading data for meter ElecMeterID(instance=30, building=1, dataset='UK-DALE')     "
       ]
      },
      {
       "output_type": "stream",
       "stream": "stdout",
       "text": [
        "\r",
        "Loading data for meter ElecMeterID(instance=12, building=1, dataset='UK-DALE')     "
       ]
      },
      {
       "output_type": "stream",
       "stream": "stdout",
       "text": [
        "\r",
        "Loading data for meter ElecMeterID(instance=34, building=1, dataset='UK-DALE')     "
       ]
      },
      {
       "output_type": "stream",
       "stream": "stdout",
       "text": [
        "\r",
        "Loading data for meter ElecMeterID(instance=16, building=1, dataset='UK-DALE')     "
       ]
      },
      {
       "output_type": "stream",
       "stream": "stdout",
       "text": [
        "\r",
        "Loading data for meter ElecMeterID(instance=36, building=1, dataset='UK-DALE')     "
       ]
      },
      {
       "output_type": "stream",
       "stream": "stdout",
       "text": [
        "\r",
        "Loading data for meter ElecMeterID(instance=3, building=1, dataset='UK-DALE')     "
       ]
      },
      {
       "output_type": "stream",
       "stream": "stdout",
       "text": [
        "\r",
        "Loading data for meter ElecMeterID(instance=40, building=1, dataset='UK-DALE')     "
       ]
      },
      {
       "output_type": "stream",
       "stream": "stdout",
       "text": [
        "\r",
        "Loading data for meter ElecMeterID(instance=23, building=1, dataset='UK-DALE')     "
       ]
      },
      {
       "output_type": "stream",
       "stream": "stdout",
       "text": [
        "\r",
        "Loading data for meter ElecMeterID(instance=5, building=1, dataset='UK-DALE')     "
       ]
      },
      {
       "output_type": "stream",
       "stream": "stdout",
       "text": [
        "\r",
        "Loading data for meter ElecMeterID(instance=27, building=1, dataset='UK-DALE')     "
       ]
      },
      {
       "output_type": "stream",
       "stream": "stdout",
       "text": [
        "\r",
        "Loading data for meter ElecMeterID(instance=9, building=1, dataset='UK-DALE')     "
       ]
      },
      {
       "output_type": "stream",
       "stream": "stdout",
       "text": [
        "\r",
        "Loading data for meter ElecMeterID(instance=47, building=1, dataset='UK-DALE')     "
       ]
      },
      {
       "output_type": "stream",
       "stream": "stdout",
       "text": [
        "\r",
        "Loading data for meter ElecMeterID(instance=29, building=1, dataset='UK-DALE')     "
       ]
      },
      {
       "output_type": "stream",
       "stream": "stdout",
       "text": [
        "\r",
        "Loading data for meter ElecMeterID(instance=51, building=1, dataset='UK-DALE')     "
       ]
      },
      {
       "output_type": "stream",
       "stream": "stdout",
       "text": [
        "\r",
        "Loading data for meter ElecMeterID(instance=33, building=1, dataset='UK-DALE')     "
       ]
      },
      {
       "output_type": "stream",
       "stream": "stdout",
       "text": [
        "\r",
        "Loading data for meter ElecMeterID(instance=53, building=1, dataset='UK-DALE')     "
       ]
      },
      {
       "output_type": "stream",
       "stream": "stdout",
       "text": [
        "\r",
        "Loading data for meter ElecMeterID(instance=2, building=1, dataset='UK-DALE')     "
       ]
      },
      {
       "output_type": "stream",
       "stream": "stdout",
       "text": [
        "\r",
        "Loading data for meter ElecMeterID(instance=22, building=1, dataset='UK-DALE')     "
       ]
      },
      {
       "output_type": "stream",
       "stream": "stdout",
       "text": [
        "\r",
        "Loading data for meter ElecMeterID(instance=4, building=1, dataset='UK-DALE')     "
       ]
      },
      {
       "output_type": "stream",
       "stream": "stdout",
       "text": [
        "\r",
        "Loading data for meter ElecMeterID(instance=26, building=1, dataset='UK-DALE')     "
       ]
      },
      {
       "output_type": "stream",
       "stream": "stdout",
       "text": [
        "\r",
        "Loading data for meter ElecMeterID(instance=46, building=1, dataset='UK-DALE')     "
       ]
      },
      {
       "output_type": "stream",
       "stream": "stdout",
       "text": [
        "\r",
        "Loading data for meter ElecMeterID(instance=28, building=1, dataset='UK-DALE')     "
       ]
      },
      {
       "output_type": "stream",
       "stream": "stdout",
       "text": [
        "\r",
        "Loading data for meter ElecMeterID(instance=50, building=1, dataset='UK-DALE')     "
       ]
      },
      {
       "output_type": "stream",
       "stream": "stdout",
       "text": [
        "\r",
        "Loading data for meter ElecMeterID(instance=32, building=1, dataset='UK-DALE')     "
       ]
      },
      {
       "output_type": "stream",
       "stream": "stdout",
       "text": [
        "\r",
        "Loading data for meter ElecMeterID(instance=15, building=1, dataset='UK-DALE')     "
       ]
      },
      {
       "output_type": "stream",
       "stream": "stdout",
       "text": [
        "\r",
        "Loading data for meter ElecMeterID(instance=52, building=1, dataset='UK-DALE')     "
       ]
      },
      {
       "output_type": "stream",
       "stream": "stdout",
       "text": [
        "\r",
        "Loading data for meter ElecMeterID(instance=19, building=1, dataset='UK-DALE')     "
       ]
      },
      {
       "output_type": "stream",
       "stream": "stdout",
       "text": [
        "\r",
        "Loading data for meter ElecMeterID(instance=39, building=1, dataset='UK-DALE')     "
       ]
      },
      {
       "output_type": "stream",
       "stream": "stdout",
       "text": [
        "\r",
        "Loading data for meter ElecMeterID(instance=21, building=1, dataset='UK-DALE')     "
       ]
      },
      {
       "output_type": "stream",
       "stream": "stdout",
       "text": [
        "\r",
        "Loading data for meter ElecMeterID(instance=43, building=1, dataset='UK-DALE')     "
       ]
      },
      {
       "output_type": "stream",
       "stream": "stdout",
       "text": [
        "\r",
        "Loading data for meter ElecMeterID(instance=25, building=1, dataset='UK-DALE')     "
       ]
      },
      {
       "output_type": "stream",
       "stream": "stdout",
       "text": [
        "\r",
        "Loading data for meter ElecMeterID(instance=45, building=1, dataset='UK-DALE')     "
       ]
      },
      {
       "output_type": "stream",
       "stream": "stdout",
       "text": [
        "\r",
        "Loading data for meter ElecMeterID(instance=49, building=1, dataset='UK-DALE')     "
       ]
      },
      {
       "output_type": "stream",
       "stream": "stdout",
       "text": [
        "\n",
        "Done loading data all meters for this chunk.\n",
        "\r",
        "Loading data for meter"
       ]
      },
      {
       "output_type": "stream",
       "stream": "stdout",
       "text": [
        " ElecMeterID(instance=14, building=1, dataset='UK-DALE')     "
       ]
      },
      {
       "output_type": "stream",
       "stream": "stdout",
       "text": [
        "\r",
        "Loading data for meter ElecMeterID(instance=18, building=1, dataset='UK-DALE')     "
       ]
      },
      {
       "output_type": "stream",
       "stream": "stdout",
       "text": [
        "\r",
        "Loading data for meter ElecMeterID(instance=38, building=1, dataset='UK-DALE')     "
       ]
      },
      {
       "output_type": "stream",
       "stream": "stdout",
       "text": [
        "\r",
        "Loading data for meter ElecMeterID(instance=20, building=1, dataset='UK-DALE')     "
       ]
      },
      {
       "output_type": "stream",
       "stream": "stdout",
       "text": [
        "\r",
        "Loading data for meter ElecMeterID(instance=42, building=1, dataset='UK-DALE')     "
       ]
      },
      {
       "output_type": "stream",
       "stream": "stdout",
       "text": [
        "\r",
        "Loading data for meter ElecMeterID(instance=24, building=1, dataset='UK-DALE')     "
       ]
      },
      {
       "output_type": "stream",
       "stream": "stdout",
       "text": [
        "\r",
        "Loading data for meter ElecMeterID(instance=7, building=1, dataset='UK-DALE')     "
       ]
      },
      {
       "output_type": "stream",
       "stream": "stdout",
       "text": [
        "\r",
        "Loading data for meter ElecMeterID(instance=44, building=1, dataset='UK-DALE')     "
       ]
      },
      {
       "output_type": "stream",
       "stream": "stdout",
       "text": [
        "\r",
        "Loading data for meter ElecMeterID(instance=11, building=1, dataset='UK-DALE')     "
       ]
      },
      {
       "output_type": "stream",
       "stream": "stdout",
       "text": [
        "\r",
        "Loading data for meter ElecMeterID(instance=48, building=1, dataset='UK-DALE')     "
       ]
      },
      {
       "output_type": "stream",
       "stream": "stdout",
       "text": [
        "\r",
        "Loading data for meter ElecMeterID(instance=31, building=1, dataset='UK-DALE')     "
       ]
      },
      {
       "output_type": "stream",
       "stream": "stdout",
       "text": [
        "\r",
        "Loading data for meter ElecMeterID(instance=13, building=1, dataset='UK-DALE')     "
       ]
      },
      {
       "output_type": "stream",
       "stream": "stdout",
       "text": [
        "\r",
        "Loading data for meter ElecMeterID(instance=35, building=1, dataset='UK-DALE')     "
       ]
      },
      {
       "output_type": "stream",
       "stream": "stdout",
       "text": [
        "\r",
        "Loading data for meter ElecMeterID(instance=17, building=1, dataset='UK-DALE')     "
       ]
      },
      {
       "output_type": "stream",
       "stream": "stdout",
       "text": [
        "\r",
        "Loading data for meter ElecMeterID(instance=37, building=1, dataset='UK-DALE')     "
       ]
      },
      {
       "output_type": "stream",
       "stream": "stdout",
       "text": [
        "\r",
        "Loading data for meter ElecMeterID(instance=41, building=1, dataset='UK-DALE')     "
       ]
      },
      {
       "output_type": "stream",
       "stream": "stdout",
       "text": [
        "\r",
        "Loading data for meter ElecMeterID(instance=6, building=1, dataset='UK-DALE')     "
       ]
      },
      {
       "output_type": "stream",
       "stream": "stdout",
       "text": [
        "\r",
        "Loading data for meter ElecMeterID(instance=10, building=1, dataset='UK-DALE')     "
       ]
      },
      {
       "output_type": "stream",
       "stream": "stdout",
       "text": [
        "\r",
        "Loading data for meter ElecMeterID(instance=30, building=1, dataset='UK-DALE')     "
       ]
      },
      {
       "output_type": "stream",
       "stream": "stdout",
       "text": [
        "\r",
        "Loading data for meter ElecMeterID(instance=12, building=1, dataset='UK-DALE')     "
       ]
      },
      {
       "output_type": "stream",
       "stream": "stdout",
       "text": [
        "\r",
        "Loading data for meter ElecMeterID(instance=34, building=1, dataset='UK-DALE')     "
       ]
      },
      {
       "output_type": "stream",
       "stream": "stdout",
       "text": [
        "\r",
        "Loading data for meter ElecMeterID(instance=16, building=1, dataset='UK-DALE')     "
       ]
      },
      {
       "output_type": "stream",
       "stream": "stdout",
       "text": [
        "\r",
        "Loading data for meter ElecMeterID(instance=36, building=1, dataset='UK-DALE')     "
       ]
      },
      {
       "output_type": "stream",
       "stream": "stdout",
       "text": [
        "\r",
        "Loading data for meter ElecMeterID(instance=3, building=1, dataset='UK-DALE')     "
       ]
      },
      {
       "output_type": "stream",
       "stream": "stdout",
       "text": [
        "\r",
        "Loading data for meter ElecMeterID(instance=40, building=1, dataset='UK-DALE')     "
       ]
      },
      {
       "output_type": "stream",
       "stream": "stdout",
       "text": [
        "\r",
        "Loading data for meter ElecMeterID(instance=23, building=1, dataset='UK-DALE')     "
       ]
      },
      {
       "output_type": "stream",
       "stream": "stdout",
       "text": [
        "\r",
        "Loading data for meter ElecMeterID(instance=5, building=1, dataset='UK-DALE')     "
       ]
      },
      {
       "output_type": "stream",
       "stream": "stdout",
       "text": [
        "\r",
        "Loading data for meter ElecMeterID(instance=27, building=1, dataset='UK-DALE')     "
       ]
      },
      {
       "output_type": "stream",
       "stream": "stdout",
       "text": [
        "\r",
        "Loading data for meter ElecMeterID(instance=9, building=1, dataset='UK-DALE')     "
       ]
      },
      {
       "output_type": "stream",
       "stream": "stdout",
       "text": [
        "\r",
        "Loading data for meter ElecMeterID(instance=47, building=1, dataset='UK-DALE')     "
       ]
      },
      {
       "output_type": "stream",
       "stream": "stdout",
       "text": [
        "\r",
        "Loading data for meter ElecMeterID(instance=29, building=1, dataset='UK-DALE')     "
       ]
      },
      {
       "output_type": "stream",
       "stream": "stdout",
       "text": [
        "\r",
        "Loading data for meter ElecMeterID(instance=51, building=1, dataset='UK-DALE')     "
       ]
      },
      {
       "output_type": "stream",
       "stream": "stdout",
       "text": [
        "\r",
        "Loading data for meter ElecMeterID(instance=33, building=1, dataset='UK-DALE')     "
       ]
      },
      {
       "output_type": "stream",
       "stream": "stdout",
       "text": [
        "\r",
        "Loading data for meter ElecMeterID(instance=53, building=1, dataset='UK-DALE')     "
       ]
      },
      {
       "output_type": "stream",
       "stream": "stdout",
       "text": [
        "\r",
        "Loading data for meter ElecMeterID(instance=2, building=1, dataset='UK-DALE')     "
       ]
      },
      {
       "output_type": "stream",
       "stream": "stdout",
       "text": [
        "\r",
        "Loading data for meter ElecMeterID(instance=22, building=1, dataset='UK-DALE')     "
       ]
      },
      {
       "output_type": "stream",
       "stream": "stdout",
       "text": [
        "\r",
        "Loading data for meter ElecMeterID(instance=4, building=1, dataset='UK-DALE')     "
       ]
      },
      {
       "output_type": "stream",
       "stream": "stdout",
       "text": [
        "\r",
        "Loading data for meter ElecMeterID(instance=26, building=1, dataset='UK-DALE')     "
       ]
      },
      {
       "output_type": "stream",
       "stream": "stdout",
       "text": [
        "\r",
        "Loading data for meter ElecMeterID(instance=46, building=1, dataset='UK-DALE')     "
       ]
      },
      {
       "output_type": "stream",
       "stream": "stdout",
       "text": [
        "\r",
        "Loading data for meter ElecMeterID(instance=28, building=1, dataset='UK-DALE')     "
       ]
      },
      {
       "output_type": "stream",
       "stream": "stdout",
       "text": [
        "\r",
        "Loading data for meter ElecMeterID(instance=50, building=1, dataset='UK-DALE')     "
       ]
      },
      {
       "output_type": "stream",
       "stream": "stdout",
       "text": [
        "\r",
        "Loading data for meter ElecMeterID(instance=32, building=1, dataset='UK-DALE')     "
       ]
      },
      {
       "output_type": "stream",
       "stream": "stdout",
       "text": [
        "\r",
        "Loading data for meter ElecMeterID(instance=15, building=1, dataset='UK-DALE')     "
       ]
      },
      {
       "output_type": "stream",
       "stream": "stdout",
       "text": [
        "\r",
        "Loading data for meter ElecMeterID(instance=52, building=1, dataset='UK-DALE')     "
       ]
      },
      {
       "output_type": "stream",
       "stream": "stdout",
       "text": [
        "\r",
        "Loading data for meter ElecMeterID(instance=19, building=1, dataset='UK-DALE')     "
       ]
      },
      {
       "output_type": "stream",
       "stream": "stdout",
       "text": [
        "\r",
        "Loading data for meter ElecMeterID(instance=39, building=1, dataset='UK-DALE')     "
       ]
      },
      {
       "output_type": "stream",
       "stream": "stdout",
       "text": [
        "\r",
        "Loading data for meter ElecMeterID(instance=21, building=1, dataset='UK-DALE')     "
       ]
      },
      {
       "output_type": "stream",
       "stream": "stdout",
       "text": [
        "\r",
        "Loading data for meter ElecMeterID(instance=43, building=1, dataset='UK-DALE')     "
       ]
      },
      {
       "output_type": "stream",
       "stream": "stdout",
       "text": [
        "\r",
        "Loading data for meter ElecMeterID(instance=25, building=1, dataset='UK-DALE')     "
       ]
      },
      {
       "output_type": "stream",
       "stream": "stdout",
       "text": [
        "\r",
        "Loading data for meter ElecMeterID(instance=45, building=1, dataset='UK-DALE')     "
       ]
      },
      {
       "output_type": "stream",
       "stream": "stdout",
       "text": [
        "\r",
        "Loading data for meter ElecMeterID(instance=49, building=1, dataset='UK-DALE')     "
       ]
      },
      {
       "output_type": "stream",
       "stream": "stdout",
       "text": [
        "\n",
        "Done loading data all meters for this chunk.\n",
        "Running MeterGroup.proportion_of_energy_submetered..."
       ]
      }
     ]
    },
    {
     "cell_type": "heading",
     "level": 2,
     "metadata": {},
     "source": [
      "Summary table of stats"
     ]
    },
    {
     "cell_type": "code",
     "collapsed": false,
     "input": [
      "stats = dataset.describe(verbose=False, compute_expensive_stats=False)\n",
      "stats"
     ],
     "language": "python",
     "metadata": {},
     "outputs": [
      {
       "output_type": "stream",
       "stream": "stderr",
       "text": [
        "/home/jack/workspace/python/nilmtk/nilmtk/preprocessing/clip.py:50: RuntimeWarning: No measurement limits for ('voltage', '').\n",
        "  warn('No measurement limits for {}.'.format(measurement), RuntimeWarning)\n"
       ]
      },
      {
       "html": [
        "<div style=\"max-height:1000px;max-width:1500px;overflow:auto;\">\n",
        "<table border=\"1\" class=\"dataframe\">\n",
        "  <thead>\n",
        "    <tr style=\"text-align: right;\">\n",
        "      <th></th>\n",
        "      <th>1</th>\n",
        "      <th>2</th>\n",
        "      <th>3</th>\n",
        "      <th>4</th>\n",
        "      <th>5</th>\n",
        "    </tr>\n",
        "  </thead>\n",
        "  <tbody>\n",
        "    <tr>\n",
        "      <th>instance</th>\n",
        "      <td>                                                 1</td>\n",
        "      <td>                                                 2</td>\n",
        "      <td>                                                 3</td>\n",
        "      <td>                                                 4</td>\n",
        "      <td>                                                 5</td>\n",
        "    </tr>\n",
        "    <tr>\n",
        "      <th>building_type</th>\n",
        "      <td>                                    end of terrace</td>\n",
        "      <td>                                    end of terrace</td>\n",
        "      <td>                                              None</td>\n",
        "      <td>                                              None</td>\n",
        "      <td>                                              flat</td>\n",
        "    </tr>\n",
        "    <tr>\n",
        "      <th>construction_year</th>\n",
        "      <td>                                              1905</td>\n",
        "      <td>                                              1900</td>\n",
        "      <td>                                              None</td>\n",
        "      <td>                                              None</td>\n",
        "      <td>                                              2009</td>\n",
        "    </tr>\n",
        "    <tr>\n",
        "      <th>energy_improvements</th>\n",
        "      <td> [solar thermal, loft insulation, solid wall in...</td>\n",
        "      <td>          [cavity wall insulation, double glazing]</td>\n",
        "      <td>                                              None</td>\n",
        "      <td>                                              None</td>\n",
        "      <td>                                              None</td>\n",
        "    </tr>\n",
        "    <tr>\n",
        "      <th>heating</th>\n",
        "      <td>                                     [natural gas]</td>\n",
        "      <td>                                     [natural gas]</td>\n",
        "      <td>                                              None</td>\n",
        "      <td>                                              None</td>\n",
        "      <td>                                     [natural gas]</td>\n",
        "    </tr>\n",
        "    <tr>\n",
        "      <th>ownership</th>\n",
        "      <td>                                            bought</td>\n",
        "      <td>                                            bought</td>\n",
        "      <td>                                              None</td>\n",
        "      <td>                                              None</td>\n",
        "      <td>                                            bought</td>\n",
        "    </tr>\n",
        "    <tr>\n",
        "      <th>n_occupants</th>\n",
        "      <td>                                                 4</td>\n",
        "      <td>                                                 2</td>\n",
        "      <td>                                              None</td>\n",
        "      <td>                                              None</td>\n",
        "      <td>                                                 2</td>\n",
        "    </tr>\n",
        "    <tr>\n",
        "      <th>description_of_occupants</th>\n",
        "      <td> 2 adults and 1 dog started living in the house...</td>\n",
        "      <td> 2 adults, 1 at work all day, other sometimes home</td>\n",
        "      <td>                                              None</td>\n",
        "      <td>                                              None</td>\n",
        "      <td>                                          2 adults</td>\n",
        "    </tr>\n",
        "    <tr>\n",
        "      <th>total_n_meters</th>\n",
        "      <td>                                                54</td>\n",
        "      <td>                                                20</td>\n",
        "      <td>                                                 5</td>\n",
        "      <td>                                                 6</td>\n",
        "      <td>                                                26</td>\n",
        "    </tr>\n",
        "    <tr>\n",
        "      <th>total_n_site_meters</th>\n",
        "      <td>                                                 2</td>\n",
        "      <td>                                                 2</td>\n",
        "      <td>                                                 1</td>\n",
        "      <td>                                                 1</td>\n",
        "      <td>                                                 2</td>\n",
        "    </tr>\n",
        "    <tr>\n",
        "      <th>mains_sample_period</th>\n",
        "      <td>                                                 1</td>\n",
        "      <td>                                                 1</td>\n",
        "      <td>                                                 6</td>\n",
        "      <td>                                                 6</td>\n",
        "      <td>                                                 1</td>\n",
        "    </tr>\n",
        "    <tr>\n",
        "      <th>submeter_sample_period</th>\n",
        "      <td>                                                 6</td>\n",
        "      <td>                                                 6</td>\n",
        "      <td>                                                 6</td>\n",
        "      <td>                                                 6</td>\n",
        "      <td>                                                 6</td>\n",
        "    </tr>\n",
        "    <tr>\n",
        "      <th>timeframe</th>\n",
        "      <td> start=2012-11-09 22:28:18+00:00, end=2014-12-1...</td>\n",
        "      <td> start=2013-02-17 15:39:19+00:00, end=2013-10-1...</td>\n",
        "      <td> start=2013-02-27 20:35:14+00:00, end=2013-04-0...</td>\n",
        "      <td> start=2013-03-09 14:40:07+00:00, end=2013-10-0...</td>\n",
        "      <td> start=2014-06-29 17:23:43.200000+01:00, end=20...</td>\n",
        "    </tr>\n",
        "    <tr>\n",
        "      <th>total_duration</th>\n",
        "      <td>                          768 days 07:58:51.700000</td>\n",
        "      <td>                          234 days 13:36:41.500000</td>\n",
        "      <td>                                  39 days 08:39:51</td>\n",
        "      <td>                                 205 days 14:35:07</td>\n",
        "      <td>                          137 days 04:11:41.900000</td>\n",
        "    </tr>\n",
        "    <tr>\n",
        "      <th>mains_uptime</th>\n",
        "      <td>                          637 days 18:08:46.800000</td>\n",
        "      <td>                          140 days 17:50:25.200000</td>\n",
        "      <td>                                  36 days 10:36:15</td>\n",
        "      <td>                                 155 days 20:54:44</td>\n",
        "      <td>                          131 days 20:26:55.800000</td>\n",
        "    </tr>\n",
        "    <tr>\n",
        "      <th>proportion_uptime</th>\n",
        "      <td>                                         0.8300522</td>\n",
        "      <td>                                          0.600013</td>\n",
        "      <td>                                         0.9258361</td>\n",
        "      <td>                                         0.7581006</td>\n",
        "      <td>                                         0.9611973</td>\n",
        "    </tr>\n",
        "    <tr>\n",
        "      <th>average_mains_energy_per_day</th>\n",
        "      <td> active      7.633103\n",
        "apparent    8.896532\n",
        "dtyp...</td>\n",
        "      <td> active      7.168896\n",
        "apparent    7.996913\n",
        "dtyp...</td>\n",
        "      <td>              apparent    12.345602\n",
        "dtype: float64</td>\n",
        "      <td>              apparent    10.243978\n",
        "dtype: float64</td>\n",
        "      <td> active      13.745861\n",
        "apparent    17.555762\n",
        "dt...</td>\n",
        "    </tr>\n",
        "  </tbody>\n",
        "</table>\n",
        "</div>"
       ],
       "metadata": {},
       "output_type": "pyout",
       "prompt_number": 3,
       "text": [
        "                                                                              1  \\\n",
        "instance                                                                      1   \n",
        "building_type                                                    end of terrace   \n",
        "construction_year                                                          1905   \n",
        "energy_improvements           [solar thermal, loft insulation, solid wall in...   \n",
        "heating                                                           [natural gas]   \n",
        "ownership                                                                bought   \n",
        "n_occupants                                                                   4   \n",
        "description_of_occupants      2 adults and 1 dog started living in the house...   \n",
        "total_n_meters                                                               54   \n",
        "total_n_site_meters                                                           2   \n",
        "mains_sample_period                                                           1   \n",
        "submeter_sample_period                                                        6   \n",
        "timeframe                     start=2012-11-09 22:28:18+00:00, end=2014-12-1...   \n",
        "total_duration                                         768 days 07:58:51.700000   \n",
        "mains_uptime                                           637 days 18:08:46.800000   \n",
        "proportion_uptime                                                     0.8300522   \n",
        "average_mains_energy_per_day  active      7.633103\n",
        "apparent    8.896532\n",
        "dtyp...   \n",
        "\n",
        "                                                                              2  \\\n",
        "instance                                                                      2   \n",
        "building_type                                                    end of terrace   \n",
        "construction_year                                                          1900   \n",
        "energy_improvements                    [cavity wall insulation, double glazing]   \n",
        "heating                                                           [natural gas]   \n",
        "ownership                                                                bought   \n",
        "n_occupants                                                                   2   \n",
        "description_of_occupants      2 adults, 1 at work all day, other sometimes home   \n",
        "total_n_meters                                                               20   \n",
        "total_n_site_meters                                                           2   \n",
        "mains_sample_period                                                           1   \n",
        "submeter_sample_period                                                        6   \n",
        "timeframe                     start=2013-02-17 15:39:19+00:00, end=2013-10-1...   \n",
        "total_duration                                         234 days 13:36:41.500000   \n",
        "mains_uptime                                           140 days 17:50:25.200000   \n",
        "proportion_uptime                                                      0.600013   \n",
        "average_mains_energy_per_day  active      7.168896\n",
        "apparent    7.996913\n",
        "dtyp...   \n",
        "\n",
        "                                                                              3  \\\n",
        "instance                                                                      3   \n",
        "building_type                                                              None   \n",
        "construction_year                                                          None   \n",
        "energy_improvements                                                        None   \n",
        "heating                                                                    None   \n",
        "ownership                                                                  None   \n",
        "n_occupants                                                                None   \n",
        "description_of_occupants                                                   None   \n",
        "total_n_meters                                                                5   \n",
        "total_n_site_meters                                                           1   \n",
        "mains_sample_period                                                           6   \n",
        "submeter_sample_period                                                        6   \n",
        "timeframe                     start=2013-02-27 20:35:14+00:00, end=2013-04-0...   \n",
        "total_duration                                                 39 days 08:39:51   \n",
        "mains_uptime                                                   36 days 10:36:15   \n",
        "proportion_uptime                                                     0.9258361   \n",
        "average_mains_energy_per_day               apparent    12.345602\n",
        "dtype: float64   \n",
        "\n",
        "                                                                              4  \\\n",
        "instance                                                                      4   \n",
        "building_type                                                              None   \n",
        "construction_year                                                          None   \n",
        "energy_improvements                                                        None   \n",
        "heating                                                                    None   \n",
        "ownership                                                                  None   \n",
        "n_occupants                                                                None   \n",
        "description_of_occupants                                                   None   \n",
        "total_n_meters                                                                6   \n",
        "total_n_site_meters                                                           1   \n",
        "mains_sample_period                                                           6   \n",
        "submeter_sample_period                                                        6   \n",
        "timeframe                     start=2013-03-09 14:40:07+00:00, end=2013-10-0...   \n",
        "total_duration                                                205 days 14:35:07   \n",
        "mains_uptime                                                  155 days 20:54:44   \n",
        "proportion_uptime                                                     0.7581006   \n",
        "average_mains_energy_per_day               apparent    10.243978\n",
        "dtype: float64   \n",
        "\n",
        "                                                                              5  \n",
        "instance                                                                      5  \n",
        "building_type                                                              flat  \n",
        "construction_year                                                          2009  \n",
        "energy_improvements                                                        None  \n",
        "heating                                                           [natural gas]  \n",
        "ownership                                                                bought  \n",
        "n_occupants                                                                   2  \n",
        "description_of_occupants                                               2 adults  \n",
        "total_n_meters                                                               26  \n",
        "total_n_site_meters                                                           2  \n",
        "mains_sample_period                                                           1  \n",
        "submeter_sample_period                                                        6  \n",
        "timeframe                     start=2014-06-29 17:23:43.200000+01:00, end=20...  \n",
        "total_duration                                         137 days 04:11:41.900000  \n",
        "mains_uptime                                           131 days 20:26:55.800000  \n",
        "proportion_uptime                                                     0.9611973  \n",
        "average_mains_energy_per_day  active      13.745861\n",
        "apparent    17.555762\n",
        "dt...  "
       ]
      }
     ],
     "prompt_number": 3
    },
    {
     "cell_type": "heading",
     "level": 2,
     "metadata": {},
     "source": [
      "Area plot of top 5 houses from house 1"
     ]
    },
    {
     "cell_type": "code",
     "collapsed": false,
     "input": [
      "dataset.set_window(\"2014-04-01\", \"2014-04-07\") \n",
      "submeters = elec.meters_directly_downstream_of_mains()\n",
      "grouped = submeters.groupby('type')\n",
      "top_k = grouped.select_top_k(group_remainder=True)"
     ],
     "language": "python",
     "metadata": {},
     "outputs": [
      {
       "output_type": "stream",
       "stream": "stdout",
       "text": [
        "\r",
        "1/36 MeterGroup(meters=\n",
        "  ElecMeter(instance=11, building=1, dataset='UK-DALE', appliances=[Appliance(type='toaster', instance=1), Appliance(type='kitchen aid', instance=1), Appliance(type='food processor', instance=2)])\n",
        ")"
       ]
      },
      {
       "output_type": "stream",
       "stream": "stdout",
       "text": [
        "\r",
        "Calculating total_energy for ElecMeterID(instance=11, building=1, dataset='UK-DALE') ...   "
       ]
      },
      {
       "output_type": "stream",
       "stream": "stdout",
       "text": [
        "\r",
        "2/36 MeterGroup(meters=\n",
        "  ElecMeter(instance=41, building=1, dataset='UK-DALE', appliances=[Appliance(type='clothes iron', instance=1)])\n",
        ")"
       ]
      },
      {
       "output_type": "stream",
       "stream": "stdout",
       "text": [
        "\r",
        "Calculating total_energy for ElecMeterID(instance=41, building=1, dataset='UK-DALE') ...   "
       ]
      },
      {
       "output_type": "stream",
       "stream": "stdout",
       "text": [
        "\r",
        "3/36 MeterGroup(meters=\n",
        "  ElecMeter(instance=28, building=1, dataset='UK-DALE', appliances=[Appliance(type='active subwoofer', instance=1)])\n",
        ")"
       ]
      },
      {
       "output_type": "stream",
       "stream": "stdout",
       "text": [
        "\r",
        "Calculating total_energy for ElecMeterID(instance=28, building=1, dataset='UK-DALE') ...   "
       ]
      },
      {
       "output_type": "stream",
       "stream": "stdout",
       "text": [
        "\r",
        "4/36 MeterGroup(meters=\n",
        "  ElecMeter(instance=32, building=1, dataset='UK-DALE', appliances=[Appliance(type='wireless phone charger', instance=1), Appliance(type='audio system', instance=2)])\n",
        ")"
       ]
      },
      {
       "output_type": "stream",
       "stream": "stdout",
       "text": [
        "\r",
        "Calculating total_energy for ElecMeterID(instance=32, building=1, dataset='UK-DALE') ...   "
       ]
      },
      {
       "output_type": "stream",
       "stream": "stdout",
       "text": [
        "\r",
        "5/36 MeterGroup(meters=\n",
        "  ElecMeter(instance=43, building=1, dataset='UK-DALE', appliances=[Appliance(type='computer', instance=1), Appliance(type='external hard disk', instance=1)])\n",
        ")"
       ]
      },
      {
       "output_type": "stream",
       "stream": "stdout",
       "text": [
        "\r",
        "Calculating total_energy for ElecMeterID(instance=43, building=1, dataset='UK-DALE') ...   "
       ]
      },
      {
       "output_type": "stream",
       "stream": "stdout",
       "text": [
        "\r",
        "6/36 MeterGroup(meters=\n",
        "  ElecMeter(instance=38, building=1, dataset='UK-DALE', appliances=[Appliance(type='mobile phone charger', instance=2), Appliance(type='baby monitor', instance=2), Appliance(type='radio', instance=3)])\n",
        "  ElecMeter(instance=37, building=1, dataset='UK-DALE', appliances=[Appliance(type='radio', instance=2)])\n",
        "  ElecMeter(instance=30, building=1, dataset='UK-DALE', appliances=[Appliance(type='radio', instance=1)])\n",
        ")"
       ]
      },
      {
       "output_type": "stream",
       "stream": "stdout",
       "text": [
        "\r",
        "Calculating total_energy for ElecMeterID(instance=38, building=1, dataset='UK-DALE') ...   "
       ]
      },
      {
       "output_type": "stream",
       "stream": "stdout",
       "text": [
        "\r",
        "Calculating total_energy for ElecMeterID(instance=37, building=1, dataset='UK-DALE') ...   "
       ]
      },
      {
       "output_type": "stream",
       "stream": "stdout",
       "text": [
        "\r",
        "Calculating total_energy for ElecMeterID(instance=30, building=1, dataset='UK-DALE') ...   "
       ]
      },
      {
       "output_type": "stream",
       "stream": "stdout",
       "text": [
        "\r",
        "7/36 MeterGroup(meters=\n",
        "  ElecMeter(instance=42, building=1, dataset='UK-DALE', appliances=[Appliance(type='oven', instance=1)])\n",
        ")"
       ]
      },
      {
       "output_type": "stream",
       "stream": "stdout",
       "text": [
        "\r",
        "Calculating total_energy for ElecMeterID(instance=42, building=1, dataset='UK-DALE') ...   "
       ]
      },
      {
       "output_type": "stream",
       "stream": "stdout",
       "text": [
        "\r",
        "8/36 MeterGroup(meters=\n",
        "  ElecMeter(instance=9, building=1, dataset='UK-DALE', appliances=[Appliance(type='HTPC', instance=1)])\n",
        ")"
       ]
      },
      {
       "output_type": "stream",
       "stream": "stdout",
       "text": [
        "\r",
        "Calculating total_energy for ElecMeterID(instance=9, building=1, dataset='UK-DALE') ...   "
       ]
      },
      {
       "output_type": "stream",
       "stream": "stdout",
       "text": [
        "\r",
        "9/36 MeterGroup(meters=\n",
        "  ElecMeter(instance=14, building=1, dataset='UK-DALE', appliances=[Appliance(type='computer monitor', instance=1)])\n",
        ")"
       ]
      },
      {
       "output_type": "stream",
       "stream": "stdout",
       "text": [
        "\r",
        "Calculating total_energy for ElecMeterID(instance=14, building=1, dataset='UK-DALE') ...   "
       ]
      },
      {
       "output_type": "stream",
       "stream": "stdout",
       "text": [
        "\r",
        "10/36 MeterGroup(meters=\n",
        "  ElecMeter(instance=51, building=1, dataset='UK-DALE', appliances=[Appliance(type='desktop computer', instance=1)])\n",
        ")"
       ]
      },
      {
       "output_type": "stream",
       "stream": "stdout",
       "text": [
        "\r",
        "Calculating total_energy for ElecMeterID(instance=51, building=1, dataset='UK-DALE') ...   "
       ]
      },
      {
       "output_type": "stream",
       "stream": "stdout",
       "text": [
        "\r",
        "11/36 MeterGroup(meters=\n",
        "  ElecMeter(instance=10, building=1, dataset='UK-DALE', appliances=[Appliance(type='kettle', instance=1), Appliance(type='food processor', instance=1), Appliance(type='toasted sandwich maker', instance=1)])\n",
        ")"
       ]
      },
      {
       "output_type": "stream",
       "stream": "stdout",
       "text": [
        "\r",
        "Calculating total_energy for ElecMeterID(instance=10, building=1, dataset='UK-DALE') ...   "
       ]
      },
      {
       "output_type": "stream",
       "stream": "stdout",
       "text": [
        "\r",
        "12/36 MeterGroup(meters=\n",
        "  ElecMeter(instance=13, building=1, dataset='UK-DALE', appliances=[Appliance(type='microwave', instance=1)])\n",
        ")"
       ]
      },
      {
       "output_type": "stream",
       "stream": "stdout",
       "text": [
        "\r",
        "Calculating total_energy for ElecMeterID(instance=13, building=1, dataset='UK-DALE') ...   "
       ]
      },
      {
       "output_type": "stream",
       "stream": "stdout",
       "text": [
        "\r",
        "13/36 MeterGroup(meters=\n",
        "  ElecMeter(instance=27, building=1, dataset='UK-DALE', appliances=[Appliance(type='tablet computer charger', instance=1)])\n",
        ")"
       ]
      },
      {
       "output_type": "stream",
       "stream": "stdout",
       "text": [
        "\r",
        "Calculating total_energy for ElecMeterID(instance=27, building=1, dataset='UK-DALE') ...   "
       ]
      },
      {
       "output_type": "stream",
       "stream": "stdout",
       "text": [
        "\r",
        "14/36 MeterGroup(meters=\n",
        "  ElecMeter(instance=22, building=1, dataset='UK-DALE', appliances=[Appliance(type='vacuum cleaner', instance=1)])\n",
        ")"
       ]
      },
      {
       "output_type": "stream",
       "stream": "stdout",
       "text": [
        "\r",
        "Calculating total_energy for ElecMeterID(instance=22, building=1, dataset='UK-DALE') ...   "
       ]
      },
      {
       "output_type": "stream",
       "stream": "stdout",
       "text": [
        "\r",
        "15/36 MeterGroup(meters=\n",
        "  ElecMeter(instance=38, building=1, dataset='UK-DALE', appliances=[Appliance(type='mobile phone charger', instance=2), Appliance(type='baby monitor', instance=2), Appliance(type='radio', instance=3)])\n",
        "  ElecMeter(instance=46, building=1, dataset='UK-DALE', appliances=[Appliance(type='baby monitor', instance=1)])\n",
        ")"
       ]
      },
      {
       "output_type": "stream",
       "stream": "stdout",
       "text": [
        "\r",
        "Calculating total_energy for ElecMeterID(instance=38, building=1, dataset='UK-DALE') ...   "
       ]
      },
      {
       "output_type": "stream",
       "stream": "stdout",
       "text": [
        "\r",
        "Calculating total_energy for ElecMeterID(instance=46, building=1, dataset='UK-DALE') ...   "
       ]
      },
      {
       "output_type": "stream",
       "stream": "stdout",
       "text": [
        "\r",
        "16/36 MeterGroup(meters=\n",
        "  ElecMeter(instance=6, building=1, dataset='UK-DALE', appliances=[Appliance(type='dish washer', instance=1)])\n",
        ")"
       ]
      },
      {
       "output_type": "stream",
       "stream": "stdout",
       "text": [
        "\r",
        "Calculating total_energy for ElecMeterID(instance=6, building=1, dataset='UK-DALE') ...   "
       ]
      },
      {
       "output_type": "stream",
       "stream": "stdout",
       "text": [
        "\r",
        "17/36 MeterGroup(meters=\n",
        "  ElecMeter(instance=17, building=1, dataset='UK-DALE', appliances=[Appliance(type='audio amplifier', instance=1)])\n",
        ")"
       ]
      },
      {
       "output_type": "stream",
       "stream": "stdout",
       "text": [
        "\r",
        "Calculating total_energy for ElecMeterID(instance=17, building=1, dataset='UK-DALE') ...   "
       ]
      },
      {
       "output_type": "stream",
       "stream": "stdout",
       "text": [
        "\r",
        "18/36 MeterGroup(meters=\n",
        "  ElecMeter(instance=53, building=1, dataset='UK-DALE', appliances=[Appliance(type='printer', instance=1)])\n",
        ")"
       ]
      },
      {
       "output_type": "stream",
       "stream": "stdout",
       "text": [
        "\r",
        "Calculating total_energy for ElecMeterID(instance=53, building=1, dataset='UK-DALE') ...   "
       ]
      },
      {
       "output_type": "stream",
       "stream": "stdout",
       "text": [
        "\r",
        "19/36 MeterGroup(meters=\n",
        "  ElecMeter(instance=18, building=1, dataset='UK-DALE', appliances=[Appliance(type='broadband router', instance=1)])\n",
        ")"
       ]
      },
      {
       "output_type": "stream",
       "stream": "stdout",
       "text": [
        "\r",
        "Calculating total_energy for ElecMeterID(instance=18, building=1, dataset='UK-DALE') ...   "
       ]
      },
      {
       "output_type": "stream",
       "stream": "stdout",
       "text": [
        "\r",
        "20/36 MeterGroup(meters=\n",
        "  ElecMeter(instance=16, building=1, dataset='UK-DALE', appliances=[Appliance(type='breadmaker', instance=1)])\n",
        ")"
       ]
      },
      {
       "output_type": "stream",
       "stream": "stdout",
       "text": [
        "\r",
        "Calculating total_energy for ElecMeterID(instance=16, building=1, dataset='UK-DALE') ...   "
       ]
      },
      {
       "output_type": "stream",
       "stream": "stdout",
       "text": [
        "\r",
        "21/36 MeterGroup(meters=\n",
        "  ElecMeter(instance=39, building=1, dataset='UK-DALE', appliances=[Appliance(type='hair dryer', instance=1)])\n",
        ")"
       ]
      },
      {
       "output_type": "stream",
       "stream": "stdout",
       "text": [
        "\r",
        "Calculating total_energy for ElecMeterID(instance=39, building=1, dataset='UK-DALE') ...   "
       ]
      },
      {
       "output_type": "stream",
       "stream": "stdout",
       "text": [
        "\r",
        "22/36 MeterGroup(meters=\n",
        "  ElecMeter(instance=52, building=1, dataset='UK-DALE', appliances=[Appliance(type='fan', instance=1)])\n",
        ")"
       ]
      },
      {
       "output_type": "stream",
       "stream": "stdout",
       "text": [
        "\r",
        "Calculating total_energy for ElecMeterID(instance=52, building=1, dataset='UK-DALE') ...   "
       ]
      },
      {
       "output_type": "stream",
       "stream": "stdout",
       "text": [
        "\r",
        "23/36 MeterGroup(meters=\n",
        "  ElecMeter(instance=2, building=1, dataset='UK-DALE', appliances=[Appliance(type='boiler', instance=1)])\n",
        ")"
       ]
      },
      {
       "output_type": "stream",
       "stream": "stdout",
       "text": [
        "\r",
        "Calculating total_energy for ElecMeterID(instance=2, building=1, dataset='UK-DALE') ...   "
       ]
      },
      {
       "output_type": "stream",
       "stream": "stdout",
       "text": [
        "\r",
        "24/36 MeterGroup(meters=\n",
        "  ElecMeter(instance=12, building=1, dataset='UK-DALE', appliances=[Appliance(type='fridge freezer', instance=1)])\n",
        ")"
       ]
      },
      {
       "output_type": "stream",
       "stream": "stdout",
       "text": [
        "\r",
        "Calculating total_energy for ElecMeterID(instance=12, building=1, dataset='UK-DALE') ...   "
       ]
      },
      {
       "output_type": "stream",
       "stream": "stdout",
       "text": [
        "\r",
        "25/36 MeterGroup(meters=\n",
        "  ElecMeter(instance=40, building=1, dataset='UK-DALE', appliances=[Appliance(type='hair straighteners', instance=1)])\n",
        ")"
       ]
      },
      {
       "output_type": "stream",
       "stream": "stdout",
       "text": [
        "\r",
        "Calculating total_energy for ElecMeterID(instance=40, building=1, dataset='UK-DALE') ...   "
       ]
      },
      {
       "output_type": "stream",
       "stream": "stdout",
       "text": [
        "\r",
        "26/36 MeterGroup(meters=\n",
        "  ElecMeter(instance=38, building=1, dataset='UK-DALE', appliances=[Appliance(type='mobile phone charger', instance=2), Appliance(type='baby monitor', instance=2), Appliance(type='radio', instance=3)])\n",
        "  ElecMeter(instance=34, building=1, dataset='UK-DALE', appliances=[Appliance(type='mobile phone charger', instance=1)])\n",
        ")"
       ]
      },
      {
       "output_type": "stream",
       "stream": "stdout",
       "text": [
        "\r",
        "Calculating total_energy for ElecMeterID(instance=38, building=1, dataset='UK-DALE') ...   "
       ]
      },
      {
       "output_type": "stream",
       "stream": "stdout",
       "text": [
        "\r",
        "Calculating total_energy for ElecMeterID(instance=34, building=1, dataset='UK-DALE') ...   "
       ]
      },
      {
       "output_type": "stream",
       "stream": "stdout",
       "text": [
        "\r",
        "27/36 MeterGroup(meters=\n",
        "  ElecMeter(instance=5, building=1, dataset='UK-DALE', appliances=[Appliance(type='washer dryer', instance=1)])\n",
        ")"
       ]
      },
      {
       "output_type": "stream",
       "stream": "stdout",
       "text": [
        "\r",
        "Calculating total_energy for ElecMeterID(instance=5, building=1, dataset='UK-DALE') ...   "
       ]
      },
      {
       "output_type": "stream",
       "stream": "stdout",
       "text": [
        "\r",
        "28/36 MeterGroup(meters=\n",
        "  ElecMeter(instance=36, building=1, dataset='UK-DALE', appliances=[Appliance(type='coffee maker', instance=1)])\n",
        ")"
       ]
      },
      {
       "output_type": "stream",
       "stream": "stdout",
       "text": [
        "\r",
        "Calculating total_energy for ElecMeterID(instance=36, building=1, dataset='UK-DALE') ...   "
       ]
      },
      {
       "output_type": "stream",
       "stream": "stdout",
       "text": [
        "\r",
        "29/36 MeterGroup(meters=\n",
        "  ElecMeter(instance=7, building=1, dataset='UK-DALE', appliances=[Appliance(type='television', instance=1)])\n",
        ")"
       ]
      },
      {
       "output_type": "stream",
       "stream": "stdout",
       "text": [
        "\r",
        "Calculating total_energy for ElecMeterID(instance=7, building=1, dataset='UK-DALE') ...   "
       ]
      },
      {
       "output_type": "stream",
       "stream": "stdout",
       "text": [
        "\r",
        "30/36 MeterGroup(meters=\n",
        "  ElecMeter(instance=21, building=1, dataset='UK-DALE', appliances=[Appliance(type='ethernet switch', instance=1), Appliance(type='USB hub', instance=1)])\n",
        ")"
       ]
      },
      {
       "output_type": "stream",
       "stream": "stdout",
       "text": [
        "\r",
        "Calculating total_energy for ElecMeterID(instance=21, building=1, dataset='UK-DALE') ...   "
       ]
      },
      {
       "output_type": "stream",
       "stream": "stdout",
       "text": [
        "\r",
        "31/36 MeterGroup(meters=\n",
        "  ElecMeter(instance=24, building=1, dataset='UK-DALE', appliances=[Appliance(type='light', instance=5)])\n",
        "  ElecMeter(instance=44, building=1, dataset='UK-DALE', appliances=[Appliance(type='light', instance=11)])\n",
        "  ElecMeter(instance=48, building=1, dataset='UK-DALE', appliances=[Appliance(type='light', instance=13)])\n",
        "  ElecMeter(instance=31, building=1, dataset='UK-DALE', appliances=[Appliance(type='light', instance=8)])\n",
        "  ElecMeter(instance=35, building=1, dataset='UK-DALE', appliances=[Appliance(type='light', instance=10)])\n",
        "  ElecMeter(instance=23, building=1, dataset='UK-DALE', appliances=[Appliance(type='light', instance=4)])\n",
        "  ElecMeter(instance=29, building=1, dataset='UK-DALE', appliances=[Appliance(type='light', instance=7)])\n",
        "  ElecMeter(instance=33, building=1, dataset='UK-DALE', appliances=[Appliance(type='light', instance=9)])\n",
        "  ElecMeter(instance=26, building=1, dataset='UK-DALE', appliances=[Appliance(type='light', instance=6)])\n",
        "  ElecMeter(instance=50, building=1, dataset='UK-DALE', appliances=[Appliance(type='light', instance=15)])\n",
        "  ElecMeter(instance=19, building=1, dataset='UK-DALE', appliances=[Appliance(type='light', instance=3)])\n",
        "  ElecMeter(instance=25, building=1, dataset='UK-DALE', appliances=[Appliance(type='light', instance=16)])\n",
        "  ElecMeter(instance=45, building=1, dataset='UK-DALE', appliances=[Appliance(type='light', instance=12)])\n",
        "  ElecMeter(instance=49, building=1, dataset='UK-DALE', appliances=[Appliance(type='light', instance=14)])\n",
        ")"
       ]
      },
      {
       "output_type": "stream",
       "stream": "stdout",
       "text": [
        "\r",
        "Calculating total_energy for ElecMeterID(instance=24, building=1, dataset='UK-DALE') ...   "
       ]
      },
      {
       "output_type": "stream",
       "stream": "stdout",
       "text": [
        "\r",
        "Calculating total_energy for ElecMeterID(instance=44, building=1, dataset='UK-DALE') ...   "
       ]
      },
      {
       "output_type": "stream",
       "stream": "stdout",
       "text": [
        "\r",
        "Calculating total_energy for ElecMeterID(instance=48, building=1, dataset='UK-DALE') ...   "
       ]
      },
      {
       "output_type": "stream",
       "stream": "stdout",
       "text": [
        "\r",
        "Calculating total_energy for ElecMeterID(instance=31, building=1, dataset='UK-DALE') ...   "
       ]
      },
      {
       "output_type": "stream",
       "stream": "stdout",
       "text": [
        "\r",
        "Calculating total_energy for ElecMeterID(instance=35, building=1, dataset='UK-DALE') ...   "
       ]
      },
      {
       "output_type": "stream",
       "stream": "stdout",
       "text": [
        "\r",
        "Calculating total_energy for ElecMeterID(instance=23, building=1, dataset='UK-DALE') ...   "
       ]
      },
      {
       "output_type": "stream",
       "stream": "stdout",
       "text": [
        "\r",
        "Calculating total_energy for ElecMeterID(instance=29, building=1, dataset='UK-DALE') ...   "
       ]
      },
      {
       "output_type": "stream",
       "stream": "stdout",
       "text": [
        "\r",
        "Calculating total_energy for ElecMeterID(instance=33, building=1, dataset='UK-DALE') ...   "
       ]
      },
      {
       "output_type": "stream",
       "stream": "stdout",
       "text": [
        "\r",
        "Calculating total_energy for ElecMeterID(instance=26, building=1, dataset='UK-DALE') ...   "
       ]
      },
      {
       "output_type": "stream",
       "stream": "stdout",
       "text": [
        "\r",
        "Calculating total_energy for ElecMeterID(instance=50, building=1, dataset='UK-DALE') ...   "
       ]
      },
      {
       "output_type": "stream",
       "stream": "stdout",
       "text": [
        "\r",
        "Calculating total_energy for ElecMeterID(instance=19, building=1, dataset='UK-DALE') ...   "
       ]
      },
      {
       "output_type": "stream",
       "stream": "stdout",
       "text": [
        "\r",
        "Calculating total_energy for ElecMeterID(instance=25, building=1, dataset='UK-DALE') ...   "
       ]
      },
      {
       "output_type": "stream",
       "stream": "stdout",
       "text": [
        "\r",
        "Calculating total_energy for ElecMeterID(instance=45, building=1, dataset='UK-DALE') ...   "
       ]
      },
      {
       "output_type": "stream",
       "stream": "stdout",
       "text": [
        "\r",
        "Calculating total_energy for ElecMeterID(instance=49, building=1, dataset='UK-DALE') ...   "
       ]
      },
      {
       "output_type": "stream",
       "stream": "stdout",
       "text": [
        "\r",
        "32/36 MeterGroup(meters=\n",
        "  ElecMeter(instance=32, building=1, dataset='UK-DALE', appliances=[Appliance(type='wireless phone charger', instance=1), Appliance(type='audio system', instance=2)])\n",
        "  ElecMeter(instance=15, building=1, dataset='UK-DALE', appliances=[Appliance(type='audio system', instance=1)])\n",
        ")"
       ]
      },
      {
       "output_type": "stream",
       "stream": "stdout",
       "text": [
        "\r",
        "Calculating total_energy for ElecMeterID(instance=32, building=1, dataset='UK-DALE') ...   "
       ]
      },
      {
       "output_type": "stream",
       "stream": "stdout",
       "text": [
        "\r",
        "Calculating total_energy for ElecMeterID(instance=15, building=1, dataset='UK-DALE') ...   "
       ]
      },
      {
       "output_type": "stream",
       "stream": "stdout",
       "text": [
        "\r",
        "33/36 MeterGroup(meters=\n",
        "  ElecMeter(instance=4, building=1, dataset='UK-DALE', appliances=[Appliance(type='laptop computer', instance=1), Appliance(type='laptop computer', instance=3)])\n",
        ")"
       ]
      },
      {
       "output_type": "stream",
       "stream": "stdout",
       "text": [
        "\r",
        "Calculating total_energy for ElecMeterID(instance=4, building=1, dataset='UK-DALE') ...   "
       ]
      },
      {
       "output_type": "stream",
       "stream": "stdout",
       "text": [
        "\r",
        "34/36 MeterGroup(meters=\n",
        "  ElecMeter(instance=20, building=1, dataset='UK-DALE', appliances=[Appliance(type='soldering iron', instance=1)])\n",
        ")"
       ]
      },
      {
       "output_type": "stream",
       "stream": "stdout",
       "text": [
        "\r",
        "Calculating total_energy for ElecMeterID(instance=20, building=1, dataset='UK-DALE') ...   "
       ]
      },
      {
       "output_type": "stream",
       "stream": "stdout",
       "text": [
        "\r",
        "35/36 MeterGroup(meters=\n",
        "  ElecMeter(instance=3, building=1, dataset='UK-DALE', appliances=[Appliance(type='solar thermal pumping station', instance=1)])\n",
        ")"
       ]
      },
      {
       "output_type": "stream",
       "stream": "stdout",
       "text": [
        "\r",
        "Calculating total_energy for ElecMeterID(instance=3, building=1, dataset='UK-DALE') ...   "
       ]
      },
      {
       "output_type": "stream",
       "stream": "stdout",
       "text": [
        "\r",
        "36/36 MeterGroup(meters=\n",
        "  ElecMeter(instance=47, building=1, dataset='UK-DALE', appliances=[Appliance(type='charger', instance=1)])\n",
        ")"
       ]
      },
      {
       "output_type": "stream",
       "stream": "stdout",
       "text": [
        "\r",
        "Calculating total_energy for ElecMeterID(instance=47, building=1, dataset='UK-DALE') ...   "
       ]
      },
      {
       "output_type": "stream",
       "stream": "stderr",
       "text": [
        "/home/jack/workspace/python/nilmtk/nilmtk/elecmeter.py:187: RuntimeWarning: Multiple appliances are associated with meter {} but none are marked as the dominant appliance. Hence returning the first appliance in the list.\n",
        "  ' returning the first appliance in the list.', RuntimeWarning)\n"
       ]
      }
     ],
     "prompt_number": 4
    },
    {
     "cell_type": "code",
     "collapsed": false,
     "input": [
      "tz = dataset.metadata['timezone']\n",
      "timeframe = TimeFrame(\"2014-04-01\", \"2014-04-02\", tz=tz)\n",
      "ax, df = top_k.plot(kind='area', timeframe=timeframe)\n",
      "sns.despine(ax=ax)"
     ],
     "language": "python",
     "metadata": {},
     "outputs": [
      {
       "output_type": "stream",
       "stream": "stderr",
       "text": [
        "/usr/local/lib/python2.7/dist-packages/matplotlib/font_manager.py:1279: UserWarning: findfont: Font family [u'Arial'] not found. Falling back to Bitstream Vera Sans\n",
        "  (prop.get_family(), self.defaultFamily[fontext]))\n"
       ]
      },
      {
       "ename": "TypeError",
       "evalue": "super(type, obj): obj must be an instance or subtype of type",
       "output_type": "pyerr",
       "traceback": [
        "\u001b[1;31m---------------------------------------------------------------------------\u001b[0m\n\u001b[1;31mTypeError\u001b[0m                                 Traceback (most recent call last)",
        "\u001b[1;32m<ipython-input-6-e4da7c111be8>\u001b[0m in \u001b[0;36m<module>\u001b[1;34m()\u001b[0m\n\u001b[0;32m      1\u001b[0m \u001b[0mtz\u001b[0m \u001b[1;33m=\u001b[0m \u001b[0mdataset\u001b[0m\u001b[1;33m.\u001b[0m\u001b[0mmetadata\u001b[0m\u001b[1;33m[\u001b[0m\u001b[1;34m'timezone'\u001b[0m\u001b[1;33m]\u001b[0m\u001b[1;33m\u001b[0m\u001b[0m\n\u001b[0;32m      2\u001b[0m \u001b[0mtimeframe\u001b[0m \u001b[1;33m=\u001b[0m \u001b[0mTimeFrame\u001b[0m\u001b[1;33m(\u001b[0m\u001b[1;34m\"2014-04-01\"\u001b[0m\u001b[1;33m,\u001b[0m \u001b[1;34m\"2014-04-02\"\u001b[0m\u001b[1;33m,\u001b[0m \u001b[0mtz\u001b[0m\u001b[1;33m=\u001b[0m\u001b[0mtz\u001b[0m\u001b[1;33m)\u001b[0m\u001b[1;33m\u001b[0m\u001b[0m\n\u001b[1;32m----> 3\u001b[1;33m \u001b[0max\u001b[0m\u001b[1;33m,\u001b[0m \u001b[0mdf\u001b[0m \u001b[1;33m=\u001b[0m \u001b[0mtop_k\u001b[0m\u001b[1;33m.\u001b[0m\u001b[0mplot\u001b[0m\u001b[1;33m(\u001b[0m\u001b[0mkind\u001b[0m\u001b[1;33m=\u001b[0m\u001b[1;34m'area'\u001b[0m\u001b[1;33m,\u001b[0m \u001b[0mtimeframe\u001b[0m\u001b[1;33m=\u001b[0m\u001b[0mtimeframe\u001b[0m\u001b[1;33m)\u001b[0m\u001b[1;33m\u001b[0m\u001b[0m\n\u001b[0m\u001b[0;32m      4\u001b[0m \u001b[0msns\u001b[0m\u001b[1;33m.\u001b[0m\u001b[0mdespine\u001b[0m\u001b[1;33m(\u001b[0m\u001b[0max\u001b[0m\u001b[1;33m=\u001b[0m\u001b[0max\u001b[0m\u001b[1;33m)\u001b[0m\u001b[1;33m\u001b[0m\u001b[0m\n",
        "\u001b[1;32m/home/jack/workspace/python/nilmtk/nilmtk/metergroup.py\u001b[0m in \u001b[0;36mplot\u001b[1;34m(self, kind, **kwargs)\u001b[0m\n\u001b[0;32m   1355\u001b[0m         function_map = {\n\u001b[0;32m   1356\u001b[0m             \u001b[1;34m'separate lines'\u001b[0m\u001b[1;33m:\u001b[0m \u001b[0mself\u001b[0m\u001b[1;33m.\u001b[0m\u001b[0m_plot_separate_lines\u001b[0m\u001b[1;33m,\u001b[0m\u001b[1;33m\u001b[0m\u001b[0m\n\u001b[1;32m-> 1357\u001b[1;33m             \u001b[1;34m'sum'\u001b[0m\u001b[1;33m:\u001b[0m \u001b[0msuper\u001b[0m\u001b[1;33m(\u001b[0m\u001b[0mMeterGroup\u001b[0m\u001b[1;33m,\u001b[0m \u001b[0mself\u001b[0m\u001b[1;33m)\u001b[0m\u001b[1;33m.\u001b[0m\u001b[0mplot\u001b[0m\u001b[1;33m,\u001b[0m\u001b[1;33m\u001b[0m\u001b[0m\n\u001b[0m\u001b[0;32m   1358\u001b[0m             \u001b[1;34m'area'\u001b[0m\u001b[1;33m:\u001b[0m \u001b[0mself\u001b[0m\u001b[1;33m.\u001b[0m\u001b[0m_plot_area\u001b[0m\u001b[1;33m,\u001b[0m\u001b[1;33m\u001b[0m\u001b[0m\n\u001b[0;32m   1359\u001b[0m             \u001b[1;34m'sankey'\u001b[0m\u001b[1;33m:\u001b[0m \u001b[0mself\u001b[0m\u001b[1;33m.\u001b[0m\u001b[0m_plot_sankey\u001b[0m\u001b[1;33m\u001b[0m\u001b[0m\n",
        "\u001b[1;31mTypeError\u001b[0m: super(type, obj): obj must be an instance or subtype of type"
       ]
      }
     ],
     "prompt_number": 6
    },
    {
     "cell_type": "heading",
     "level": 2,
     "metadata": {},
     "source": [
      " Stacked bars showing breakdown of energy used by top-k appliances"
     ]
    },
    {
     "cell_type": "code",
     "collapsed": false,
     "input": [
      "top_k_no_remainder = MeterGroup(top_k.meters[:-1])"
     ],
     "language": "python",
     "metadata": {},
     "outputs": [],
     "prompt_number": 6
    },
    {
     "cell_type": "code",
     "collapsed": false,
     "input": [
      "energy = top_k_no_remainder.energy_per_meter(mains=elec.mains(), per_period='D', use_meter_labels=True)"
     ],
     "language": "python",
     "metadata": {},
     "outputs": [
      {
       "output_type": "stream",
       "stream": "stdout",
       "text": [
        "\r",
        "1/5 MeterGroup(meters=\n",
        "  ElecMeter(instance=12, building=1, dataset='UK-DALE', appliances=[Appliance(type='fridge freezer', instance=1)])\n",
        ")"
       ]
      },
      {
       "output_type": "stream",
       "stream": "stdout",
       "text": [
        "\r",
        "Calculating total_energy for ElecMeterID(instance=12, building=1, dataset='UK-DALE') ...   "
       ]
      },
      {
       "output_type": "stream",
       "stream": "stdout",
       "text": [
        "\r",
        "2/5 MeterGroup(meters=\n",
        "  ElecMeter(instance=43, building=1, dataset='UK-DALE', appliances=[Appliance(type='computer', instance=1), Appliance(type='external hard disk', instance=1)])\n",
        ")"
       ]
      },
      {
       "output_type": "stream",
       "stream": "stdout",
       "text": [
        "\r",
        "Calculating total_energy for ElecMeterID(instance=43, building=1, dataset='UK-DALE') ...   "
       ]
      },
      {
       "output_type": "stream",
       "stream": "stdout",
       "text": [
        "\r",
        "3/5 MeterGroup(meters=\n",
        "  ElecMeter(instance=2, building=1, dataset='UK-DALE', appliances=[Appliance(type='boiler', instance=1)])\n",
        ")"
       ]
      },
      {
       "output_type": "stream",
       "stream": "stdout",
       "text": [
        "\r",
        "Calculating total_energy for ElecMeterID(instance=2, building=1, dataset='UK-DALE') ...   "
       ]
      },
      {
       "output_type": "stream",
       "stream": "stdout",
       "text": [
        "\r",
        "4/5 MeterGroup(meters=\n",
        "  ElecMeter(instance=9, building=1, dataset='UK-DALE', appliances=[Appliance(type='HTPC', instance=1)])\n",
        ")"
       ]
      },
      {
       "output_type": "stream",
       "stream": "stdout",
       "text": [
        "\r",
        "Calculating total_energy for ElecMeterID(instance=9, building=1, dataset='UK-DALE') ...   "
       ]
      },
      {
       "output_type": "stream",
       "stream": "stdout",
       "text": [
        "\r",
        "5/5 MeterGroup(meters=\n",
        "  ElecMeter(instance=3, building=1, dataset='UK-DALE', appliances=[Appliance(type='solar thermal pumping station', instance=1)])\n",
        ")"
       ]
      },
      {
       "output_type": "stream",
       "stream": "stdout",
       "text": [
        "\r",
        "Calculating total_energy for ElecMeterID(instance=3, building=1, dataset='UK-DALE') ...   "
       ]
      }
     ],
     "prompt_number": 7
    },
    {
     "cell_type": "code",
     "collapsed": false,
     "input": [
      "energy.sort(ascending=False)\n",
      "energy"
     ],
     "language": "python",
     "metadata": {},
     "outputs": [
      {
       "metadata": {},
       "output_type": "pyout",
       "prompt_number": 8,
       "text": [
        "Fridge freezer                   0.586379\n",
        "Computer                         0.310027\n",
        "Solar thermal pumping station    0.238133\n",
        "Boiler                           0.220909\n",
        "HTPC                             0.186004\n",
        "Remainder                       -0.908966\n",
        "dtype: float64"
       ]
      }
     ],
     "prompt_number": 8
    },
    {
     "cell_type": "code",
     "collapsed": false,
     "input": [
      "ax = pd.DataFrame(energy).T.plot(kind='bar', stacked=True, grid=True,\n",
      "                                 edgecolor=\"none\", legend=False, figsize=(4,6))\n",
      "ax.set_xticks([])\n",
      "ax.set_ylabel('kWh', rotation=0, ha='right', va='center', labelpad=15)\n",
      "ax.set_title('Average energy per day\\nfor top 5 appliances')\n",
      "\n",
      "text_ys = energy.cumsum() - energy.cumsum().diff().fillna(energy['Remainder']) / 2\n",
      "for label, y in text_ys.iteritems():\n",
      "    ax.annotate(label, (0, y), horizontalalignment='center', verticalalignment='center', color='white', size=13)\n",
      "    \n",
      "sns.despine(ax=ax, bottom=True, left=True)"
     ],
     "language": "python",
     "metadata": {},
     "outputs": [
      {
       "metadata": {},
       "output_type": "display_data",
       "png": "[encoded data removed]",
       "text": [
        "<matplotlib.figure.Figure at 0x7ff3e9c76910>"
       ]
      }
     ],
     "prompt_number": 9
    },
    {
     "cell_type": "heading",
     "level": 2,
     "metadata": {},
     "source": [
      "Time periods where each house has valid recordings"
     ]
    },
    {
     "cell_type": "code",
     "collapsed": false,
     "input": [
      "dataset.set_window()\n",
      "%prun axes = dataset.plot_good_sections()"
     ],
     "language": "python",
     "metadata": {},
     "outputs": [
      {
       "output_type": "stream",
       "stream": "stdout",
       "text": [
        " "
       ]
      },
      {
       "output_type": "stream",
       "stream": "stderr",
       "text": [
        "/usr/local/lib/python2.7/dist-packages/matplotlib/font_manager.py:1279: UserWarning: findfont: Font family [u'Arial'] not found. Falling back to Bitstream Vera Sans\n",
        "  (prop.get_family(), self.defaultFamily[fontext]))\n"
       ]
      }
     ],
     "prompt_number": 37
    },
    {
     "cell_type": "heading",
     "level": 2,
     "metadata": {},
     "source": [
      "Histograms of mains power"
     ]
    },
    {
     "cell_type": "code",
     "collapsed": false,
     "input": [
      "dataset.plot_mains_power_histograms(bins=300, range=(0,3000))"
     ],
     "language": "python",
     "metadata": {},
     "outputs": [
      {
       "metadata": {},
       "output_type": "pyout",
       "prompt_number": 3,
       "text": [
        "array([<matplotlib.axes._subplots.AxesSubplot object at 0x7f1890231b90>,\n",
        "       <matplotlib.axes._subplots.AxesSubplot object at 0x7f185440de10>,\n",
        "       <matplotlib.axes._subplots.AxesSubplot object at 0x7f185439e950>,\n",
        "       <matplotlib.axes._subplots.AxesSubplot object at 0x7f18543247d0>,\n",
        "       <matplotlib.axes._subplots.AxesSubplot object at 0x7f1854287690>], dtype=object)"
       ]
      },
      {
       "output_type": "stream",
       "stream": "stderr",
       "text": [
        "/usr/local/lib/python2.7/dist-packages/matplotlib/font_manager.py:1279: UserWarning: findfont: Font family [u'Arial'] not found. Falling back to Bitstream Vera Sans\n",
        "  (prop.get_family(), self.defaultFamily[fontext]))\n"
       ]
      },
      {
       "metadata": {},
       "output_type": "display_data",
       "png": "[encoded data removed]",
       "text": [
        "<matplotlib.figure.Figure at 0x7f1890231550>"
       ]
      }
     ],
     "prompt_number": 3
    },
    {
     "cell_type": "heading",
     "level": 2,
     "metadata": {},
     "source": [
      "Usage histogram"
     ]
    },
    {
     "cell_type": "code",
     "collapsed": false,
     "input": [
      "ax = elec['toaster'].plot_activity_histogram()"
     ],
     "language": "python",
     "metadata": {},
     "outputs": [
      {
       "output_type": "stream",
       "stream": "stderr",
       "text": [
        "/usr/local/lib/python2.7/dist-packages/matplotlib/font_manager.py:1279: UserWarning: findfont: Font family [u'Arial'] not found. Falling back to Bitstream Vera Sans\n",
        "  (prop.get_family(), self.defaultFamily[fontext]))\n"
       ]
      },
      {
       "metadata": {},
       "output_type": "display_data",
       "png": "[encoded data removed]",
       "text": [
        "<matplotlib.figure.Figure at 0x7ff0b95b0510>"
       ]
      }
     ],
     "prompt_number": 3
    },
    {
     "cell_type": "heading",
     "level": 2,
     "metadata": {},
     "source": [
      "Comparison with utility meter"
     ]
    },
    {
     "cell_type": "markdown",
     "metadata": {},
     "source": [
      "We use a time period when the sound card power meter was operational for (almost) the entire time period and for which we have precise utility meter readings.  (all electricity and gas utility meter readings for house 1 are available online.  See the [UK-DALE webpage](http://www.doc.ic.ac.uk/~dk3810/data) for details)"
     ]
    },
    {
     "cell_type": "code",
     "collapsed": false,
     "input": [
      "section = TimeFrame(\"2013-05-22 20:36:00\", \"2014-11-28 08:55:00\", tz=TZ)"
     ],
     "language": "python",
     "metadata": {},
     "outputs": [],
     "prompt_number": 15
    },
    {
     "cell_type": "code",
     "collapsed": false,
     "input": [
      "total_energy = elec.mains().total_energy(sections=[section])"
     ],
     "language": "python",
     "metadata": {},
     "outputs": [
      {
       "output_type": "stream",
       "stream": "stderr",
       "text": [
        "/home/jack/workspace/python/nilmtk/nilmtk/preprocessing/clip.py:50: RuntimeWarning: No measurement limits for ('voltage', '').\n",
        "  warn('No measurement limits for {}.'.format(measurement), RuntimeWarning)\n"
       ]
      }
     ],
     "prompt_number": 16
    },
    {
     "cell_type": "code",
     "collapsed": false,
     "input": [
      "total_energy_from_utility = 53354.50 - 49323.90\n",
      "abs_difference = total_energy['active'] - total_energy_from_utility\n",
      "relative_error = abs_difference / total_energy['active']"
     ],
     "language": "python",
     "metadata": {},
     "outputs": [],
     "prompt_number": 33
    },
    {
     "cell_type": "code",
     "collapsed": false,
     "input": [
      "print(\"Total energy measured by utility meter ={:8.2f} kWh\".format(total_energy_from_utility))\n",
      "print(\"Total (active) energy measured by SCPM ={:8.2f} kWh\".format(total_energy['active']))\n",
      "print(\"                   Absolute difference ={:8.2f} kWh\".format(abs_difference))\n",
      "print(\"                        Relative error = {:8.2%}\".format(relative_error))\n",
      "print(\"                                uptime =\", section.timedelta)"
     ],
     "language": "python",
     "metadata": {},
     "outputs": [
      {
       "output_type": "stream",
       "stream": "stdout",
       "text": [
        "Total energy measured by utility meter = 4030.60 kWh\n",
        "Total (active) energy measured by SCPM = 4142.93 kWh\n",
        "                   Absolute difference =  112.33 kWh\n",
        "                        Relative error =    2.71%\n"
       ]
      }
     ],
     "prompt_number": 35
    },
    {
     "cell_type": "heading",
     "level": 2,
     "metadata": {},
     "source": [
      "Comparison between SCPM and Current Cost site meters for each house"
     ]
    },
    {
     "cell_type": "code",
     "collapsed": false,
     "input": [
      "# dataset.set_window(\"2013-04-01\", \"2013-05-01\") \n",
      "dataset.set_window(None, None) \n",
      "\n",
      "for house_instance in [1,2,5]:\n",
      "    house_elec = dataset.buildings[house_instance].elec\n",
      "    scpm = house_elec.mains()\n",
      "    cc = house_elec.disabled_meters[0]\n",
      "\n",
      "    scpm_good_sections = scpm.good_sections()\n",
      "    cc_good_sections = cc.good_sections()\n",
      "    intersection = scpm_good_sections.intersection(cc_good_sections)\n",
      "    \n",
      "    scpm_energy = scpm.total_energy(sections=intersection, ac_type='apparent')['apparent']\n",
      "    cc_energy = cc.total_energy(sections=intersection)['apparent']\n",
      "    \n",
      "    abs_difference = abs(scpm_energy - cc_energy)\n",
      "    relative_error = abs_difference / max(scpm_energy, cc_energy)\n",
      "    \n",
      "    print(\"******************** House {} **********************\".format(house_instance))\n",
      "    print(\"   Total energy measured by Current Cost ={:8.2f} kWh\".format(cc_energy))\n",
      "    print(\"Total (apparent) energy measured by SCPM ={:8.2f} kWh\".format(scpm_energy))\n",
      "    print(\"                     Absolute difference ={:8.2f} kWh\".format(abs_difference))\n",
      "    print(\"                          Relative error = {:8.2%}\".format(relative_error))\n",
      "    print(\"                     intersection uptime =\", intersection.uptime())\n",
      "    print()"
     ],
     "language": "python",
     "metadata": {},
     "outputs": [
      {
       "output_type": "stream",
       "stream": "stdout",
       "text": [
        "******************** House 1 **********************\n",
        "   Total energy measured by Current Cost = 5569.24 kWh\n",
        "Total (apparent) energy measured by SCPM = 5670.64 kWh\n",
        "                     Absolute difference =  101.40 kWh\n",
        "                          Relative error =    1.79%\n",
        "                     intersection uptime = 637 days 11:31:17.200000\n",
        "******************** House 2 **********************"
       ]
      },
      {
       "output_type": "stream",
       "stream": "stdout",
       "text": [
        "\n",
        "   Total energy measured by Current Cost =  996.89 kWh\n",
        "Total (apparent) energy measured by SCPM = 1075.37 kWh\n",
        "                     Absolute difference =   78.49 kWh\n",
        "                          Relative error =    7.30%\n",
        "                     intersection uptime = 134 days 03:52:55\n",
        "******************** House 5 **********************"
       ]
      },
      {
       "output_type": "stream",
       "stream": "stdout",
       "text": [
        "\n",
        "   Total energy measured by Current Cost = 2176.92 kWh\n",
        "Total (apparent) energy measured by SCPM = 2308.00 kWh\n",
        "                     Absolute difference =  131.09 kWh\n",
        "                          Relative error =    5.68%\n",
        "                     intersection uptime = 131 days 17:15:18.500000\n"
       ]
      }
     ],
     "prompt_number": 3
    },
    {
     "cell_type": "heading",
     "level": 2,
     "metadata": {},
     "source": [
      "Appliance power histograms"
     ]
    },
    {
     "cell_type": "code",
     "collapsed": false,
     "input": [
      "dataset.set_window(\"2013-04-01\", \"2013-05-01\") \n",
      "\n",
      "fig, axes = plt.subplots(3, 3)\n",
      "meter_keys = ['fridge freezer', 'kettle', 'toaster', \n",
      "              'vacuum cleaner', 'television', 'oven',\n",
      "              'laptop computer', 'computer monitor', ('light', 1)]\n",
      "kwargs_per_meter = {'range': [(  10,  110), (2200, 2460), (1480, 1650), \n",
      "                              ( 400, 2200), (  80,  150), (None,   60),\n",
      "                              (None,   60), (  30,   90), None]}\n",
      "axes = elec.plot_multiple(axes, meter_keys, 'plot_power_histogram', kwargs_per_meter, bins=40)\n",
      "\n",
      "# Formatting\n",
      "for ax in axes:\n",
      "    ax.xaxis.set_tick_params(direction='out', color='b', size=4)\n",
      "    ax.xaxis.set_ticks_position('bottom')    \n",
      "    for spine in ['right', 'top', 'left']:\n",
      "        ax.spines[spine].set_visible(False)\n",
      "        ax.set_yticks([])\n",
      "        ax.set_ylabel('')\n",
      "        ax.set_xlabel('')\n",
      "\n",
      "plt.tight_layout()\n",
      "plt.subplots_adjust(hspace=0.8)"
     ],
     "language": "python",
     "metadata": {},
     "outputs": []
    },
    {
     "cell_type": "heading",
     "level": 2,
     "metadata": {},
     "source": [
      "Plot activity histograms"
     ]
    },
    {
     "cell_type": "code",
     "collapsed": false,
     "input": [
      "fig, axes = plt.subplots(2, 2)\n",
      "meter_keys = ['fridge freezer', 'kettle', 'toaster', 'vacuum cleaner']\n",
      "axes = elec.plot_multiple(axes, meter_keys, 'plot_activity_histogram')\n",
      "plt.tight_layout()"
     ],
     "language": "python",
     "metadata": {},
     "outputs": [
      {
       "metadata": {},
       "output_type": "display_data",
       "png": "[encoded data removed]",
       "text": [
        "<matplotlib.figure.Figure at 0x7f4144280a50>"
       ]
      }
     ],
     "prompt_number": 70
    },
    {
     "cell_type": "heading",
     "level": 2,
     "metadata": {},
     "source": [
      "Appliance activations"
     ]
    },
    {
     "cell_type": "code",
     "collapsed": false,
     "input": [
      "activations = elec['washer dryer'].activation_series(min_on_rows=20, border=2)"
     ],
     "language": "python",
     "metadata": {},
     "outputs": [],
     "prompt_number": 65
    },
    {
     "cell_type": "code",
     "collapsed": false,
     "input": [
      "len(activations)"
     ],
     "language": "python",
     "metadata": {},
     "outputs": [
      {
       "metadata": {},
       "output_type": "pyout",
       "prompt_number": 66,
       "text": [
        "29"
       ]
      }
     ],
     "prompt_number": 66
    },
    {
     "cell_type": "code",
     "collapsed": false,
     "input": [
      "ax = plt.gca()\n",
      "for a in activations[:1]:\n",
      "    ax.plot(a.values)"
     ],
     "language": "python",
     "metadata": {},
     "outputs": [
      {
       "metadata": {},
       "output_type": "display_data",
       "png": "[encoded data removed]",
       "text": [
        "<matplotlib.figure.Figure at 0x7f4146faa0d0>"
       ]
      }
     ],
     "prompt_number": 69
    },
    {
     "cell_type": "code",
     "collapsed": false,
     "input": [
      "from nilmtk import ElecMeter\n",
      "ElecMeter.load_meter_devices(dataset.store)"
     ],
     "language": "python",
     "metadata": {},
     "outputs": [],
     "prompt_number": 17
    },
    {
     "cell_type": "markdown",
     "metadata": {},
     "source": [
      "To create the 16kHz plots I used this utility from [my SCPM repository](https://github.com/JackKelly/snd_card_power_meter/tree/master/scripts):\n",
      "\n",
      "`./plot_flac.py /data/mine/power_measurement_flac/vi-1409774400_092639 --calibration-file=/home/jack/Dropbox/Data/flac/calibration.cfg`\n"
     ]
    },
    {
     "cell_type": "code",
     "collapsed": false,
     "input": [],
     "language": "python",
     "metadata": {},
     "outputs": []
    }
   ],
   "metadata": {}
  }
 ]
}