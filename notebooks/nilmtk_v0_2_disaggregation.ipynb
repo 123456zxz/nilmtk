{
 "metadata": {
  "name": "",
  "signature": "sha256:eaefaa5655322b1286e58d37d2e3ef2c41d1393f15576b107411d693297ded29"
 },
 "nbformat": 3,
 "nbformat_minor": 0,
 "worksheets": [
  {
   "cells": [
    {
     "cell_type": "code",
     "collapsed": false,
     "input": [
      "from __future__ import print_function, division\n",
      "from nilmtk import HDFDataStore, DataSet\n",
      "from nilmtk.disaggregate import CombinatorialOptimisation\n",
      "import pandas as pd\n",
      "\n",
      "print(\"Loading data...\")\n",
      "datastore = HDFDataStore('/home/jack/workspace/python/nilmtk/notebooks/redd.h5')\n",
      "dataset = DataSet()\n",
      "dataset.load(datastore)\n",
      "elec = dataset.buildings[1].elec"
     ],
     "language": "python",
     "metadata": {},
     "outputs": [
      {
       "output_type": "stream",
       "stream": "stdout",
       "text": [
        "Couldn't import dot_parser, loading of dot files will not be possible.\n",
        "Loading data...\n"
       ]
      }
     ],
     "prompt_number": 1
    },
    {
     "cell_type": "code",
     "collapsed": false,
     "input": [
      "elec = dataset.buildings[1].elec\n",
      "gs = elec.mains().good_sections(full_results=True)"
     ],
     "language": "python",
     "metadata": {},
     "outputs": [],
     "prompt_number": 2
    },
    {
     "cell_type": "code",
     "collapsed": false,
     "input": [
      "gs.combined()"
     ],
     "language": "python",
     "metadata": {},
     "outputs": [
      {
       "metadata": {},
       "output_type": "pyout",
       "prompt_number": 3,
       "text": [
        "[TimeFrame(start='2011-04-18 09:22:09-04:00', end='2011-04-18 13:58:47-04:00', empty=False),\n",
        " TimeFrame(start='2011-04-18 14:03:07-04:00', end='2011-04-19 12:13:38-04:00', empty=False),\n",
        " TimeFrame(start='2011-04-19 12:14:17-04:00', end='2011-04-19 18:45:19-04:00', empty=False),\n",
        " TimeFrame(start='2011-04-19 20:20:08-04:00', end='2011-04-20 01:54:32-04:00', empty=False),\n",
        " TimeFrame(start='2011-04-20 01:55:36-04:00', end='2011-04-20 02:28:14-04:00', empty=False),\n",
        " TimeFrame(start='2011-04-20 02:28:52-04:00', end='2011-04-21 03:17:09-04:00', empty=False),\n",
        " TimeFrame(start='2011-04-21 06:17:17-04:00', end='2011-04-21 17:45:06-04:00', empty=False),\n",
        " TimeFrame(start='2011-04-21 19:41:29-04:00', end='2011-04-22 22:46:57-04:00', empty=False),\n",
        " TimeFrame(start='2011-04-22 22:48:33-04:00', end='2011-04-24 03:48:50-04:00', empty=False),\n",
        " TimeFrame(start='2011-04-24 03:52:24-04:00', end='2011-04-24 20:46:36-04:00', empty=False),\n",
        " TimeFrame(start='2011-04-24 20:47:17-04:00', end='2011-04-27 02:50:19-04:00', empty=False),\n",
        " TimeFrame(start='2011-04-27 02:51:21-04:00', end='2011-04-27 03:17:34-04:00', empty=False),\n",
        " TimeFrame(start='2011-04-27 03:21:15-04:00', end='2011-04-28 05:57:47-04:00', empty=False),\n",
        " TimeFrame(start='2011-04-29 23:10:34-04:00', end='2011-05-01 09:44:42-04:00', empty=False),\n",
        " TimeFrame(start='2011-05-01 09:47:18-04:00', end='2011-05-01 23:14:16-04:00', empty=False),\n",
        " TimeFrame(start='2011-05-01 23:14:17-04:00', end='2011-05-02 17:04:59-04:00', empty=False),\n",
        " TimeFrame(start='2011-05-02 17:07:27-04:00', end='2011-05-03 17:30:17-04:00', empty=False),\n",
        " TimeFrame(start='2011-05-03 17:32:49-04:00', end='2011-05-03 17:33:44-04:00', empty=False),\n",
        " TimeFrame(start='2011-05-06 10:51:46-04:00', end='2011-05-07 01:53:10-04:00', empty=False),\n",
        " TimeFrame(start='2011-05-07 01:53:55-04:00', end='2011-05-07 02:38:15-04:00', empty=False),\n",
        " TimeFrame(start='2011-05-07 02:40:43-04:00', end='2011-05-07 11:59:16-04:00', empty=False),\n",
        " TimeFrame(start='2011-05-11 03:19:43-04:00', end='2011-05-12 17:48:38-04:00', empty=False),\n",
        " TimeFrame(start='2011-05-12 20:14:30-04:00', end='2011-05-13 05:16:24-04:00', empty=False),\n",
        " TimeFrame(start='2011-05-22 16:04:46-04:00', end='2011-05-22 23:39:01-04:00', empty=False),\n",
        " TimeFrame(start='2011-05-22 23:41:35-04:00', end='2011-05-23 09:22:08-04:00', empty=False),\n",
        " TimeFrame(start='2011-05-23 10:31:34-04:00', end='2011-05-24 14:32:05-04:00', empty=False),\n",
        " TimeFrame(start='2011-05-24 15:55:33-04:00', end='2011-05-24 15:57:02-04:00', empty=False)]"
       ]
      }
     ],
     "prompt_number": 3
    },
    {
     "cell_type": "code",
     "collapsed": false,
     "input": [
      "print(\"Training CO model...\")\n",
      "co = CombinatorialOptimisation()\n",
      "co.train(elec)\n",
      "print(\"Model =\", co.model)"
     ],
     "language": "python",
     "metadata": {},
     "outputs": [
      {
       "output_type": "stream",
       "stream": "stdout",
       "text": [
        "Training CO model...\n",
        "Model ="
       ]
      },
      {
       "output_type": "stream",
       "stream": "stdout",
       "text": [
        " {5: array([  0, 202], dtype=int32), 6: array([  0, 618], dtype=int32), 7: array([ 0, 21], dtype=int32), 8: array([ 0, 28], dtype=int32), 9: array([ 0, 73], dtype=int32), 11: array([   0, 1196], dtype=int32), 12: array([  0, 386], dtype=int32), 13: array([ 0, 12], dtype=int32), 14: array([  0, 916], dtype=int32), 15: array([   0, 1059], dtype=int32), 16: array([   0, 1518], dtype=int32), 17: array([ 0, 65], dtype=int32), 18: array([ 0, 54], dtype=int32), 19: array([0], dtype=int32), (10, 20): array([   0, 2035], dtype=int32), (3, 4): array([   0, 1068], dtype=int32)}\n"
       ]
      }
     ],
     "prompt_number": 4
    },
    {
     "cell_type": "code",
     "collapsed": false,
     "input": [
      "mains = elec.mains()\n",
      "output = HDFDataStore('output.h5', 'w')\n"
     ],
     "language": "python",
     "metadata": {},
     "outputs": [],
     "prompt_number": 5
    },
    {
     "cell_type": "code",
     "collapsed": false,
     "input": [
      "print(\"Disaggregation...\")\n",
      "co.disaggregate(mains, output)"
     ],
     "language": "python",
     "metadata": {},
     "outputs": [
      {
       "output_type": "stream",
       "stream": "stdout",
       "text": [
        "Disaggregation...\n"
       ]
      }
     ],
     "prompt_number": 6
    },
    {
     "cell_type": "code",
     "collapsed": false,
     "input": [
      "output.store.get('/building1/elec/meter5')[:10]"
     ],
     "language": "python",
     "metadata": {},
     "outputs": [
      {
       "html": [
        "<div style=\"max-height:1000px;max-width:1500px;overflow:auto;\">\n",
        "<table border=\"1\" class=\"dataframe\">\n",
        "  <thead>\n",
        "    <tr>\n",
        "      <th></th>\n",
        "      <th>power</th>\n",
        "    </tr>\n",
        "    <tr>\n",
        "      <th></th>\n",
        "      <th>apparent</th>\n",
        "    </tr>\n",
        "  </thead>\n",
        "  <tbody>\n",
        "    <tr>\n",
        "      <th>2011-04-18 09:22:00-04:00</th>\n",
        "      <td> 202</td>\n",
        "    </tr>\n",
        "    <tr>\n",
        "      <th>2011-04-18 09:23:00-04:00</th>\n",
        "      <td> 202</td>\n",
        "    </tr>\n",
        "    <tr>\n",
        "      <th>2011-04-18 09:24:00-04:00</th>\n",
        "      <td> 202</td>\n",
        "    </tr>\n",
        "    <tr>\n",
        "      <th>2011-04-18 09:25:00-04:00</th>\n",
        "      <td> 202</td>\n",
        "    </tr>\n",
        "    <tr>\n",
        "      <th>2011-04-18 09:26:00-04:00</th>\n",
        "      <td> 202</td>\n",
        "    </tr>\n",
        "    <tr>\n",
        "      <th>2011-04-18 09:27:00-04:00</th>\n",
        "      <td> 202</td>\n",
        "    </tr>\n",
        "    <tr>\n",
        "      <th>2011-04-18 09:28:00-04:00</th>\n",
        "      <td> 202</td>\n",
        "    </tr>\n",
        "    <tr>\n",
        "      <th>2011-04-18 09:29:00-04:00</th>\n",
        "      <td> 202</td>\n",
        "    </tr>\n",
        "    <tr>\n",
        "      <th>2011-04-18 09:30:00-04:00</th>\n",
        "      <td> 202</td>\n",
        "    </tr>\n",
        "    <tr>\n",
        "      <th>2011-04-18 09:31:00-04:00</th>\n",
        "      <td> 202</td>\n",
        "    </tr>\n",
        "  </tbody>\n",
        "</table>\n",
        "</div>"
       ],
       "metadata": {},
       "output_type": "pyout",
       "prompt_number": 7,
       "text": [
        "                              power\n",
        "                           apparent\n",
        "2011-04-18 09:22:00-04:00       202\n",
        "2011-04-18 09:23:00-04:00       202\n",
        "2011-04-18 09:24:00-04:00       202\n",
        "2011-04-18 09:25:00-04:00       202\n",
        "2011-04-18 09:26:00-04:00       202\n",
        "2011-04-18 09:27:00-04:00       202\n",
        "2011-04-18 09:28:00-04:00       202\n",
        "2011-04-18 09:29:00-04:00       202\n",
        "2011-04-18 09:30:00-04:00       202\n",
        "2011-04-18 09:31:00-04:00       202"
       ]
      }
     ],
     "prompt_number": 7
    },
    {
     "cell_type": "code",
     "collapsed": false,
     "input": [
      "disag_dataset = DataSet()\n",
      "disag_dataset.load(output)"
     ],
     "language": "python",
     "metadata": {},
     "outputs": [
      {
       "output_type": "stream",
       "stream": "stderr",
       "text": [
        "/home/dk3810/workspace/python/nilmtk/nilmtk/metergroup.py:45: RuntimeWarning: Building 1 has an empty 'appliances' list.\n",
        "  .format(building_id.instance), RuntimeWarning)\n"
       ]
      },
      {
       "metadata": {},
       "output_type": "pyout",
       "prompt_number": 8,
       "text": [
        "<nilmtk.dataset.DataSet at 0x7f0a0cc64850>"
       ]
      }
     ],
     "prompt_number": 8
    },
    {
     "cell_type": "code",
     "collapsed": false,
     "input": [
      "disag_dataset.buildings[1].elec"
     ],
     "language": "python",
     "metadata": {},
     "outputs": [
      {
       "metadata": {},
       "output_type": "pyout",
       "prompt_number": 9,
       "text": [
        "MeterGroup(meters=\n",
        "  ElecMeter(instance=(1, 2), building=1, dataset='NILMTK_CO_2014-07-11T16:17:12', site_meter, appliances=[])\n",
        "  ElecMeter(instance=5, building=1, dataset='NILMTK_CO_2014-07-11T16:17:12', appliances=[])\n",
        "  ElecMeter(instance=6, building=1, dataset='NILMTK_CO_2014-07-11T16:17:12', appliances=[])\n",
        "  ElecMeter(instance=7, building=1, dataset='NILMTK_CO_2014-07-11T16:17:12', appliances=[])\n",
        "  ElecMeter(instance=8, building=1, dataset='NILMTK_CO_2014-07-11T16:17:12', appliances=[])\n",
        "  ElecMeter(instance=9, building=1, dataset='NILMTK_CO_2014-07-11T16:17:12', appliances=[])\n",
        "  ElecMeter(instance=11, building=1, dataset='NILMTK_CO_2014-07-11T16:17:12', appliances=[])\n",
        "  ElecMeter(instance=12, building=1, dataset='NILMTK_CO_2014-07-11T16:17:12', appliances=[])\n",
        "  ElecMeter(instance=13, building=1, dataset='NILMTK_CO_2014-07-11T16:17:12', appliances=[])\n",
        "  ElecMeter(instance=14, building=1, dataset='NILMTK_CO_2014-07-11T16:17:12', appliances=[])\n",
        "  ElecMeter(instance=15, building=1, dataset='NILMTK_CO_2014-07-11T16:17:12', appliances=[])\n",
        "  ElecMeter(instance=16, building=1, dataset='NILMTK_CO_2014-07-11T16:17:12', appliances=[])\n",
        "  ElecMeter(instance=17, building=1, dataset='NILMTK_CO_2014-07-11T16:17:12', appliances=[])\n",
        "  ElecMeter(instance=18, building=1, dataset='NILMTK_CO_2014-07-11T16:17:12', appliances=[])\n",
        "  ElecMeter(instance=19, building=1, dataset='NILMTK_CO_2014-07-11T16:17:12', appliances=[])\n",
        "  ElecMeter(instance=(10, 20), building=1, dataset='NILMTK_CO_2014-07-11T16:17:12', appliances=[])\n",
        "  ElecMeter(instance=(3, 4), building=1, dataset='NILMTK_CO_2014-07-11T16:17:12', appliances=[])\n",
        ")"
       ]
      }
     ],
     "prompt_number": 9
    },
    {
     "cell_type": "code",
     "collapsed": false,
     "input": [
      "elec = disag_dataset.buildings[1].elec\n",
      "good_sections = elec.mains().good_sections()\n",
      "good_sections"
     ],
     "language": "python",
     "metadata": {},
     "outputs": [
      {
       "metadata": {},
       "output_type": "pyout",
       "prompt_number": 10,
       "text": [
        "[TimeFrame(start='2011-04-18 09:22:09-04:00', end='2011-04-18 13:58:46-04:00', empty=False),\n",
        " TimeFrame(start='2011-04-18 14:03:07-04:00', end='2011-04-19 18:45:18-04:00', empty=False),\n",
        " TimeFrame(start='2011-04-19 20:20:08-04:00', end='2011-04-20 01:54:31-04:00', empty=False),\n",
        " TimeFrame(start='2011-04-20 01:55:36-04:00', end='2011-04-21 03:17:08-04:00', empty=False),\n",
        " TimeFrame(start='2011-04-21 06:17:17-04:00', end='2011-04-21 17:45:05-04:00', empty=False),\n",
        " TimeFrame(start='2011-04-21 19:41:29-04:00', end='2011-04-22 22:46:56-04:00', empty=False),\n",
        " TimeFrame(start='2011-04-22 22:48:33-04:00', end='2011-04-24 03:48:49-04:00', empty=False),\n",
        " TimeFrame(start='2011-04-24 03:52:24-04:00', end='2011-04-27 02:50:18-04:00', empty=False),\n",
        " TimeFrame(start='2011-04-27 02:51:21-04:00', end='2011-04-27 03:17:33-04:00', empty=False),\n",
        " TimeFrame(start='2011-04-27 03:21:15-04:00', end='2011-04-28 05:57:46-04:00', empty=False),\n",
        " TimeFrame(start='2011-04-29 23:10:34-04:00', end='2011-05-01 09:44:41-04:00', empty=False),\n",
        " TimeFrame(start='2011-05-01 09:47:18-04:00', end='2011-05-02 17:04:58-04:00', empty=False),\n",
        " TimeFrame(start='2011-05-02 17:07:27-04:00', end='2011-05-03 17:30:16-04:00', empty=False),\n",
        " TimeFrame(start='2011-05-06 10:51:46-04:00', end='2011-05-07 02:38:14-04:00', empty=False),\n",
        " TimeFrame(start='2011-05-07 02:40:43-04:00', end='2011-05-07 11:59:15-04:00', empty=False),\n",
        " TimeFrame(start='2011-05-11 03:19:43-04:00', end='2011-05-12 17:48:37-04:00', empty=False),\n",
        " TimeFrame(start='2011-05-12 20:14:30-04:00', end='2011-05-13 05:16:23-04:00', empty=False),\n",
        " TimeFrame(start='2011-05-22 16:04:46-04:00', end='2011-05-22 23:39:00-04:00', empty=False),\n",
        " TimeFrame(start='2011-05-22 23:41:35-04:00', end='2011-05-23 09:22:07-04:00', empty=False),\n",
        " TimeFrame(start='2011-05-23 10:31:34-04:00', end='2011-05-24 14:32:04-04:00', empty=False)]"
       ]
      }
     ],
     "prompt_number": 10
    },
    {
     "cell_type": "code",
     "collapsed": false,
     "input": [
      "output.store.get('/building1/elec/meter5')[\"2011-05-01\":\"2011-05-01 12:00\"].plot()"
     ],
     "language": "python",
     "metadata": {},
     "outputs": [
      {
       "metadata": {},
       "output_type": "pyout",
       "prompt_number": 11,
       "text": [
        "<matplotlib.axes.AxesSubplot at 0x7f0a0cac1410>"
       ]
      },
      {
       "metadata": {},
       "output_type": "display_data",
       "png": "[encoded data removed]",
       "text": [
        "<matplotlib.figure.Figure at 0x7f0a0caaadd0>"
       ]
      }
     ],
     "prompt_number": 11
    },
    {
     "cell_type": "code",
     "collapsed": false,
     "input": [
      "dataset.buildings[1].elec['fridge'].power_series().next()[\"2011-05-01\":\"2011-05-01 12:00\"].plot()"
     ],
     "language": "python",
     "metadata": {},
     "outputs": [
      {
       "metadata": {},
       "output_type": "pyout",
       "prompt_number": 12,
       "text": [
        "<matplotlib.axes.AxesSubplot at 0x7f0a0cb40b10>"
       ]
      },
      {
       "metadata": {},
       "output_type": "display_data",
       "png": "[encoded data removed]",
       "text": [
        "<matplotlib.figure.Figure at 0x7f0a0ccf7190>"
       ]
      }
     ],
     "prompt_number": 12
    },
    {
     "cell_type": "code",
     "collapsed": false,
     "input": [],
     "language": "python",
     "metadata": {},
     "outputs": [],
     "prompt_number": 12
    }
   ],
   "metadata": {}
  }
 ]
}