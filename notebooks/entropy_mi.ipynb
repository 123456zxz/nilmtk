{
 "metadata": {
  "name": "",
  "signature": "sha256:d3e67a92190f83d21e1f6bc3c30bbb5459001e5f6341e38711f3713b124711ba"
 },
 "nbformat": 3,
 "nbformat_minor": 0,
 "worksheets": [
  {
   "cells": [
    {
     "cell_type": "code",
     "collapsed": false,
     "input": [
      "import numpy as np\n",
      "import pandas as pd\n",
      "from os.path import join\n",
      "\n",
      "from pylab import rcParams\n",
      "import matplotlib.pyplot as plt\n",
      "%matplotlib inline\n",
      "rcParams['figure.figsize'] = (16, 8)\n",
      "\n",
      "import nilmtk\n",
      "from nilmtk import DataSet, TimeFrame, MeterGroup, HDFDataStore\n",
      "from nilmtk.disaggregate import CombinatorialOptimisation\n",
      "from nilmtk.utils import print_dict\n",
      "from nilmtk.metrics import f1_score\n",
      "\n",
      "import seaborn as sns\n",
      "\n",
      "import warnings\n",
      "from nilmtk.plots import plot_correlation_heatmap\n",
      "warnings.filterwarnings(\"ignore\")"
     ],
     "language": "python",
     "metadata": {},
     "outputs": [],
     "prompt_number": 1
    },
    {
     "cell_type": "code",
     "collapsed": false,
     "input": [
      "data_dir = '/home/nipun/Downloads/'\n",
      "we = DataSet(join(data_dir, 'wikienergy.h5'))\n",
      "print('loaded ' + str(len(we.buildings)) + ' buildings')"
     ],
     "language": "python",
     "metadata": {},
     "outputs": [
      {
       "output_type": "stream",
       "stream": "stdout",
       "text": [
        "loaded 239 buildings\n"
       ]
      }
     ],
     "prompt_number": 2
    },
    {
     "cell_type": "code",
     "collapsed": false,
     "input": [
      "building_number = 11\n",
      "print_dict(we.buildings[building_number].metadata)"
     ],
     "language": "python",
     "metadata": {},
     "outputs": [
      {
       "html": [
        "<ul><li><strong>instance</strong>: 11</li><li><strong>dataset</strong>: WikiEnergy</li><li><strong>original_name</strong>: 434</li></ul>"
       ],
       "metadata": {},
       "output_type": "display_data",
       "text": [
        "<IPython.core.display.HTML at 0x7fbbd0529950>"
       ]
      }
     ],
     "prompt_number": 3
    },
    {
     "cell_type": "code",
     "collapsed": false,
     "input": [
      "elec = we.buildings[building_number].elec\n",
      "elec.appliances"
     ],
     "language": "python",
     "metadata": {},
     "outputs": [
      {
       "metadata": {},
       "output_type": "pyout",
       "prompt_number": 4,
       "text": [
        "[Appliance(type='fridge', instance=1),\n",
        " Appliance(type='dish washer', instance=1),\n",
        " Appliance(type='electric water heating appliance', instance=1),\n",
        " Appliance(type='spin dryer', instance=1),\n",
        " Appliance(type='electric furnace', instance=1),\n",
        " Appliance(type='sockets', instance=1),\n",
        " Appliance(type='sockets', instance=2),\n",
        " Appliance(type='air conditioner', instance=1),\n",
        " Appliance(type='sockets', instance=3),\n",
        " Appliance(type='sockets', instance=4)]"
       ]
      }
     ],
     "prompt_number": 4
    },
    {
     "cell_type": "code",
     "collapsed": false,
     "input": [
      "submeters = elec.submeters().meters\n",
      "submeters"
     ],
     "language": "python",
     "metadata": {},
     "outputs": [
      {
       "metadata": {},
       "output_type": "pyout",
       "prompt_number": 5,
       "text": [
        "[ElecMeter(instance=2, building=11, dataset='WikiEnergy', appliances=[Appliance(type='air conditioner', instance=1)]),\n",
        " ElecMeter(instance=3, building=11, dataset='WikiEnergy', appliances=[Appliance(type='sockets', instance=1)]),\n",
        " ElecMeter(instance=4, building=11, dataset='WikiEnergy', appliances=[Appliance(type='sockets', instance=2)]),\n",
        " ElecMeter(instance=5, building=11, dataset='WikiEnergy', appliances=[Appliance(type='dish washer', instance=1)]),\n",
        " ElecMeter(instance=6, building=11, dataset='WikiEnergy', appliances=[Appliance(type='spin dryer', instance=1)]),\n",
        " ElecMeter(instance=7, building=11, dataset='WikiEnergy', appliances=[Appliance(type='electric furnace', instance=1)]),\n",
        " ElecMeter(instance=8, building=11, dataset='WikiEnergy', appliances=[Appliance(type='sockets', instance=3)]),\n",
        " ElecMeter(instance=9, building=11, dataset='WikiEnergy', appliances=[Appliance(type='sockets', instance=4)]),\n",
        " ElecMeter(instance=10, building=11, dataset='WikiEnergy', appliances=[Appliance(type='fridge', instance=1)]),\n",
        " ElecMeter(instance=11, building=11, dataset='WikiEnergy', appliances=[Appliance(type='electric water heating appliance', instance=1)])]"
       ]
      }
     ],
     "prompt_number": 5
    },
    {
     "cell_type": "code",
     "collapsed": false,
     "input": [
      "we.store.window = TimeFrame(start='2014-04-01 00:00:00-05:00', end='2014-04-05 00:00:00-05:00')\n"
     ],
     "language": "python",
     "metadata": {},
     "outputs": [],
     "prompt_number": 6
    },
    {
     "cell_type": "code",
     "collapsed": false,
     "input": [
      "first =submeters[0]"
     ],
     "language": "python",
     "metadata": {},
     "outputs": [],
     "prompt_number": 7
    },
    {
     "cell_type": "code",
     "collapsed": false,
     "input": [
      "first.entropy()"
     ],
     "language": "python",
     "metadata": {},
     "outputs": [
      {
       "metadata": {},
       "output_type": "pyout",
       "prompt_number": 8,
       "text": [
        "-27.297151482944013"
       ]
      }
     ],
     "prompt_number": 8
    },
    {
     "cell_type": "code",
     "collapsed": false,
     "input": [
      "first.mutual_information(submeters[9])"
     ],
     "language": "python",
     "metadata": {},
     "outputs": [
      {
       "metadata": {},
       "output_type": "pyout",
       "prompt_number": 9,
       "text": [
        "0.083783733956371342"
       ]
      }
     ],
     "prompt_number": 9
    },
    {
     "cell_type": "code",
     "collapsed": false,
     "input": [
      "elec.entropy()"
     ],
     "language": "python",
     "metadata": {},
     "outputs": [
      {
       "metadata": {},
       "output_type": "pyout",
       "prompt_number": 10,
       "text": [
        "(1, 11, WikiEnergy)     -6.453385\n",
        "(2, 11, WikiEnergy)    -27.289259\n",
        "(3, 11, WikiEnergy)    -28.930262\n",
        "(4, 11, WikiEnergy)    -31.894278\n",
        "(5, 11, WikiEnergy)    -31.653423\n",
        "(6, 11, WikiEnergy)    -32.387767\n",
        "(7, 11, WikiEnergy)    -29.121266\n",
        "(8, 11, WikiEnergy)    -28.866038\n",
        "(9, 11, WikiEnergy)    -31.008408\n",
        "(10, 11, WikiEnergy)   -24.448618\n",
        "(11, 11, WikiEnergy)   -30.868857\n",
        "dtype: float64"
       ]
      }
     ],
     "prompt_number": 10
    },
    {
     "cell_type": "code",
     "collapsed": false,
     "input": [
      "elec.pairwise_mutual_information()"
     ],
     "language": "python",
     "metadata": {},
     "outputs": [
      {
       "html": [
        "<div style=\"max-height:1000px;max-width:1500px;overflow:auto;\">\n",
        "<table border=\"1\" class=\"dataframe\">\n",
        "  <thead>\n",
        "    <tr style=\"text-align: right;\">\n",
        "      <th></th>\n",
        "      <th>(1, 11, WikiEnergy)</th>\n",
        "      <th>(2, 11, WikiEnergy)</th>\n",
        "      <th>(3, 11, WikiEnergy)</th>\n",
        "      <th>(4, 11, WikiEnergy)</th>\n",
        "      <th>(5, 11, WikiEnergy)</th>\n",
        "      <th>(6, 11, WikiEnergy)</th>\n",
        "      <th>(7, 11, WikiEnergy)</th>\n",
        "      <th>(8, 11, WikiEnergy)</th>\n",
        "      <th>(9, 11, WikiEnergy)</th>\n",
        "      <th>(10, 11, WikiEnergy)</th>\n",
        "      <th>(11, 11, WikiEnergy)</th>\n",
        "    </tr>\n",
        "  </thead>\n",
        "  <tbody>\n",
        "    <tr>\n",
        "      <th>(1, 11, WikiEnergy)</th>\n",
        "      <td>   7.187668</td>\n",
        "      <td>  0.8312506</td>\n",
        "      <td>  1.384131</td>\n",
        "      <td>  0.2589888</td>\n",
        "      <td>  0.1934757</td>\n",
        "      <td>   0.07830062</td>\n",
        "      <td>   0.786266</td>\n",
        "      <td>  0.6834654</td>\n",
        "      <td>  0.6589758</td>\n",
        "      <td>     1.356619</td>\n",
        "      <td>   0.3686182</td>\n",
        "    </tr>\n",
        "    <tr>\n",
        "      <th>(2, 11, WikiEnergy)</th>\n",
        "      <td>  0.8312506</td>\n",
        "      <td>   1.319976</td>\n",
        "      <td>  0.349062</td>\n",
        "      <td> 0.02078072</td>\n",
        "      <td>  0.1112522</td>\n",
        "      <td>   0.03173334</td>\n",
        "      <td>  0.5377095</td>\n",
        "      <td>  0.2018959</td>\n",
        "      <td>  0.1969964</td>\n",
        "      <td>    0.1440101</td>\n",
        "      <td>  0.07820501</td>\n",
        "    </tr>\n",
        "    <tr>\n",
        "      <th>(3, 11, WikiEnergy)</th>\n",
        "      <td>   1.384131</td>\n",
        "      <td>   0.349062</td>\n",
        "      <td>  3.684209</td>\n",
        "      <td>  0.4280406</td>\n",
        "      <td>  0.1446254</td>\n",
        "      <td>    0.0455017</td>\n",
        "      <td>  0.5833232</td>\n",
        "      <td>  0.6194373</td>\n",
        "      <td>  0.9932902</td>\n",
        "      <td>    0.4257042</td>\n",
        "      <td>   0.3727348</td>\n",
        "    </tr>\n",
        "    <tr>\n",
        "      <th>(4, 11, WikiEnergy)</th>\n",
        "      <td>  0.2589888</td>\n",
        "      <td> 0.02078072</td>\n",
        "      <td> 0.4280406</td>\n",
        "      <td>   1.268068</td>\n",
        "      <td> 0.01651986</td>\n",
        "      <td>   0.01099577</td>\n",
        "      <td>  0.1221809</td>\n",
        "      <td>  0.1975074</td>\n",
        "      <td>  0.2328308</td>\n",
        "      <td>   0.05912425</td>\n",
        "      <td>   0.1541205</td>\n",
        "    </tr>\n",
        "    <tr>\n",
        "      <th>(5, 11, WikiEnergy)</th>\n",
        "      <td>  0.1934757</td>\n",
        "      <td>  0.1112522</td>\n",
        "      <td> 0.1446254</td>\n",
        "      <td> 0.01651986</td>\n",
        "      <td>  0.3792157</td>\n",
        "      <td>   0.01121732</td>\n",
        "      <td>-0.01531982</td>\n",
        "      <td> 0.05534679</td>\n",
        "      <td> 0.03578617</td>\n",
        "      <td>   0.06359552</td>\n",
        "      <td>  0.01238086</td>\n",
        "    </tr>\n",
        "    <tr>\n",
        "      <th>(6, 11, WikiEnergy)</th>\n",
        "      <td> 0.07830062</td>\n",
        "      <td> 0.03173334</td>\n",
        "      <td> 0.0455017</td>\n",
        "      <td> 0.01099577</td>\n",
        "      <td> 0.01121732</td>\n",
        "      <td>    0.1565517</td>\n",
        "      <td> 0.01909806</td>\n",
        "      <td> 0.01608023</td>\n",
        "      <td> 0.01939717</td>\n",
        "      <td>-8.033965e-05</td>\n",
        "      <td> 0.004861754</td>\n",
        "    </tr>\n",
        "    <tr>\n",
        "      <th>(7, 11, WikiEnergy)</th>\n",
        "      <td>   0.786266</td>\n",
        "      <td>  0.5377095</td>\n",
        "      <td> 0.5833232</td>\n",
        "      <td>  0.1221809</td>\n",
        "      <td>-0.01531982</td>\n",
        "      <td>   0.01909806</td>\n",
        "      <td>   1.974173</td>\n",
        "      <td>  0.2567638</td>\n",
        "      <td>  0.4086906</td>\n",
        "      <td>     0.153863</td>\n",
        "      <td>   0.1222557</td>\n",
        "    </tr>\n",
        "    <tr>\n",
        "      <th>(8, 11, WikiEnergy)</th>\n",
        "      <td>  0.6834654</td>\n",
        "      <td>  0.2018959</td>\n",
        "      <td> 0.6194373</td>\n",
        "      <td>  0.1975074</td>\n",
        "      <td> 0.05534679</td>\n",
        "      <td>   0.01608023</td>\n",
        "      <td>  0.2567638</td>\n",
        "      <td>   2.407224</td>\n",
        "      <td>  0.3092851</td>\n",
        "      <td>    0.1529714</td>\n",
        "      <td>   0.2595323</td>\n",
        "    </tr>\n",
        "    <tr>\n",
        "      <th>(9, 11, WikiEnergy)</th>\n",
        "      <td>  0.6589758</td>\n",
        "      <td>  0.1969964</td>\n",
        "      <td> 0.9932902</td>\n",
        "      <td>  0.2328308</td>\n",
        "      <td> 0.03578617</td>\n",
        "      <td>   0.01939717</td>\n",
        "      <td>  0.4086906</td>\n",
        "      <td>  0.3092851</td>\n",
        "      <td>     1.9629</td>\n",
        "      <td>    0.1510469</td>\n",
        "      <td>   0.1659736</td>\n",
        "    </tr>\n",
        "    <tr>\n",
        "      <th>(10, 11, WikiEnergy)</th>\n",
        "      <td>   1.356619</td>\n",
        "      <td>  0.1440101</td>\n",
        "      <td> 0.4257042</td>\n",
        "      <td> 0.05912425</td>\n",
        "      <td> 0.06359552</td>\n",
        "      <td>-8.033965e-05</td>\n",
        "      <td>   0.153863</td>\n",
        "      <td>  0.1529714</td>\n",
        "      <td>  0.1510469</td>\n",
        "      <td>     3.946474</td>\n",
        "      <td>   0.0995446</td>\n",
        "    </tr>\n",
        "    <tr>\n",
        "      <th>(11, 11, WikiEnergy)</th>\n",
        "      <td>  0.3686182</td>\n",
        "      <td> 0.07820501</td>\n",
        "      <td> 0.3727348</td>\n",
        "      <td>  0.1541205</td>\n",
        "      <td> 0.01238086</td>\n",
        "      <td>  0.004861754</td>\n",
        "      <td>  0.1222557</td>\n",
        "      <td>  0.2595323</td>\n",
        "      <td>  0.1659736</td>\n",
        "      <td>    0.0995446</td>\n",
        "      <td>    1.497235</td>\n",
        "    </tr>\n",
        "  </tbody>\n",
        "</table>\n",
        "</div>"
       ],
       "metadata": {},
       "output_type": "pyout",
       "prompt_number": 11,
       "text": [
        "                     (1, 11, WikiEnergy) (2, 11, WikiEnergy)  \\\n",
        "(1, 11, WikiEnergy)             7.187668           0.8312506   \n",
        "(2, 11, WikiEnergy)            0.8312506            1.319976   \n",
        "(3, 11, WikiEnergy)             1.384131            0.349062   \n",
        "(4, 11, WikiEnergy)            0.2589888          0.02078072   \n",
        "(5, 11, WikiEnergy)            0.1934757           0.1112522   \n",
        "(6, 11, WikiEnergy)           0.07830062          0.03173334   \n",
        "(7, 11, WikiEnergy)             0.786266           0.5377095   \n",
        "(8, 11, WikiEnergy)            0.6834654           0.2018959   \n",
        "(9, 11, WikiEnergy)            0.6589758           0.1969964   \n",
        "(10, 11, WikiEnergy)            1.356619           0.1440101   \n",
        "(11, 11, WikiEnergy)           0.3686182          0.07820501   \n",
        "\n",
        "                     (3, 11, WikiEnergy) (4, 11, WikiEnergy)  \\\n",
        "(1, 11, WikiEnergy)             1.384131           0.2589888   \n",
        "(2, 11, WikiEnergy)             0.349062          0.02078072   \n",
        "(3, 11, WikiEnergy)             3.684209           0.4280406   \n",
        "(4, 11, WikiEnergy)            0.4280406            1.268068   \n",
        "(5, 11, WikiEnergy)            0.1446254          0.01651986   \n",
        "(6, 11, WikiEnergy)            0.0455017          0.01099577   \n",
        "(7, 11, WikiEnergy)            0.5833232           0.1221809   \n",
        "(8, 11, WikiEnergy)            0.6194373           0.1975074   \n",
        "(9, 11, WikiEnergy)            0.9932902           0.2328308   \n",
        "(10, 11, WikiEnergy)           0.4257042          0.05912425   \n",
        "(11, 11, WikiEnergy)           0.3727348           0.1541205   \n",
        "\n",
        "                     (5, 11, WikiEnergy) (6, 11, WikiEnergy)  \\\n",
        "(1, 11, WikiEnergy)            0.1934757          0.07830062   \n",
        "(2, 11, WikiEnergy)            0.1112522          0.03173334   \n",
        "(3, 11, WikiEnergy)            0.1446254           0.0455017   \n",
        "(4, 11, WikiEnergy)           0.01651986          0.01099577   \n",
        "(5, 11, WikiEnergy)            0.3792157          0.01121732   \n",
        "(6, 11, WikiEnergy)           0.01121732           0.1565517   \n",
        "(7, 11, WikiEnergy)          -0.01531982          0.01909806   \n",
        "(8, 11, WikiEnergy)           0.05534679          0.01608023   \n",
        "(9, 11, WikiEnergy)           0.03578617          0.01939717   \n",
        "(10, 11, WikiEnergy)          0.06359552       -8.033965e-05   \n",
        "(11, 11, WikiEnergy)          0.01238086         0.004861754   \n",
        "\n",
        "                     (7, 11, WikiEnergy) (8, 11, WikiEnergy)  \\\n",
        "(1, 11, WikiEnergy)             0.786266           0.6834654   \n",
        "(2, 11, WikiEnergy)            0.5377095           0.2018959   \n",
        "(3, 11, WikiEnergy)            0.5833232           0.6194373   \n",
        "(4, 11, WikiEnergy)            0.1221809           0.1975074   \n",
        "(5, 11, WikiEnergy)          -0.01531982          0.05534679   \n",
        "(6, 11, WikiEnergy)           0.01909806          0.01608023   \n",
        "(7, 11, WikiEnergy)             1.974173           0.2567638   \n",
        "(8, 11, WikiEnergy)            0.2567638            2.407224   \n",
        "(9, 11, WikiEnergy)            0.4086906           0.3092851   \n",
        "(10, 11, WikiEnergy)            0.153863           0.1529714   \n",
        "(11, 11, WikiEnergy)           0.1222557           0.2595323   \n",
        "\n",
        "                     (9, 11, WikiEnergy) (10, 11, WikiEnergy)  \\\n",
        "(1, 11, WikiEnergy)            0.6589758             1.356619   \n",
        "(2, 11, WikiEnergy)            0.1969964            0.1440101   \n",
        "(3, 11, WikiEnergy)            0.9932902            0.4257042   \n",
        "(4, 11, WikiEnergy)            0.2328308           0.05912425   \n",
        "(5, 11, WikiEnergy)           0.03578617           0.06359552   \n",
        "(6, 11, WikiEnergy)           0.01939717        -8.033965e-05   \n",
        "(7, 11, WikiEnergy)            0.4086906             0.153863   \n",
        "(8, 11, WikiEnergy)            0.3092851            0.1529714   \n",
        "(9, 11, WikiEnergy)               1.9629            0.1510469   \n",
        "(10, 11, WikiEnergy)           0.1510469             3.946474   \n",
        "(11, 11, WikiEnergy)           0.1659736            0.0995446   \n",
        "\n",
        "                     (11, 11, WikiEnergy)  \n",
        "(1, 11, WikiEnergy)             0.3686182  \n",
        "(2, 11, WikiEnergy)            0.07820501  \n",
        "(3, 11, WikiEnergy)             0.3727348  \n",
        "(4, 11, WikiEnergy)             0.1541205  \n",
        "(5, 11, WikiEnergy)            0.01238086  \n",
        "(6, 11, WikiEnergy)           0.004861754  \n",
        "(7, 11, WikiEnergy)             0.1222557  \n",
        "(8, 11, WikiEnergy)             0.2595323  \n",
        "(9, 11, WikiEnergy)             0.1659736  \n",
        "(10, 11, WikiEnergy)            0.0995446  \n",
        "(11, 11, WikiEnergy)             1.497235  "
       ]
      }
     ],
     "prompt_number": 11
    },
    {
     "cell_type": "code",
     "collapsed": false,
     "input": [
      "plot_correlation_heatmap(_, \"\")"
     ],
     "language": "python",
     "metadata": {},
     "outputs": [
      {
       "ename": "AttributeError",
       "evalue": "'AxesSubplot' object has no attribute 'columns'",
       "output_type": "pyerr",
       "traceback": [
        "\u001b[1;31m---------------------------------------------------------------------------\u001b[0m\n\u001b[1;31mAttributeError\u001b[0m                            Traceback (most recent call last)",
        "\u001b[1;32m<ipython-input-14-98219e606aff>\u001b[0m in \u001b[0;36m<module>\u001b[1;34m()\u001b[0m\n\u001b[1;32m----> 1\u001b[1;33m \u001b[0mplot_correlation_heatmap\u001b[0m\u001b[1;33m(\u001b[0m\u001b[0m_\u001b[0m\u001b[1;33m,\u001b[0m \u001b[1;34m\"\"\u001b[0m\u001b[1;33m)\u001b[0m\u001b[1;33m\u001b[0m\u001b[0m\n\u001b[0m",
        "\u001b[1;32m/home/nipun/git/nilmtk/nilmtk/plots.pyc\u001b[0m in \u001b[0;36mplot_correlation_heatmap\u001b[1;34m(df, labels, edgecolors, cmap, log)\u001b[0m\n\u001b[0;32m     50\u001b[0m def plot_correlation_heatmap(df, labels, edgecolors='w', \n\u001b[0;32m     51\u001b[0m                              cmap=matplotlib.cm.RdYlBu_r, log=False):\n\u001b[1;32m---> 52\u001b[1;33m     \u001b[0mwidth\u001b[0m \u001b[1;33m=\u001b[0m \u001b[0mlen\u001b[0m\u001b[1;33m(\u001b[0m\u001b[0mdf\u001b[0m\u001b[1;33m.\u001b[0m\u001b[0mcolumns\u001b[0m\u001b[1;33m)\u001b[0m\u001b[1;33m/\u001b[0m\u001b[1;36m4\u001b[0m\u001b[1;33m\u001b[0m\u001b[0m\n\u001b[0m\u001b[0;32m     53\u001b[0m     \u001b[0mheight\u001b[0m \u001b[1;33m=\u001b[0m \u001b[0mlen\u001b[0m\u001b[1;33m(\u001b[0m\u001b[0mdf\u001b[0m\u001b[1;33m.\u001b[0m\u001b[0mindex\u001b[0m\u001b[1;33m)\u001b[0m\u001b[1;33m/\u001b[0m\u001b[1;36m4\u001b[0m\u001b[1;33m\u001b[0m\u001b[0m\n\u001b[0;32m     54\u001b[0m \u001b[1;33m\u001b[0m\u001b[0m\n",
        "\u001b[1;31mAttributeError\u001b[0m: 'AxesSubplot' object has no attribute 'columns'"
       ]
      }
     ],
     "prompt_number": 14
    },
    {
     "cell_type": "code",
     "collapsed": false,
     "input": [
      "plot_correlation_heatmap(correlation_df)"
     ],
     "language": "python",
     "metadata": {},
     "outputs": [
      {
       "metadata": {},
       "output_type": "display_data",
       "png": "[encoded data removed]",
       "text": [
        "<matplotlib.figure.Figure at 0x7f541c6ab250>"
       ]
      }
     ],
     "prompt_number": 10
    }
   ],
   "metadata": {}
  }
 ]
}