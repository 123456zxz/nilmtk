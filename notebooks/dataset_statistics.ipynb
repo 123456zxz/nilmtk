{
 "metadata": {
  "name": "",
  "signature": "sha256:cbf07a39820e0fe441b3d492708b22c4564c8a7120bd633a019195661a7ab6e0"
 },
 "nbformat": 3,
 "nbformat_minor": 0,
 "worksheets": [
  {
   "cells": [
    {
     "cell_type": "code",
     "collapsed": false,
     "input": [
      "%load_ext autoreload\n",
      "%autoreload 2\n",
      "\n",
      "from __future__ import print_function, division\n",
      "from nilmtk import DataSet, TimeFrame, MeterGroup\n",
      "from nilmtk.utils import capitalise_index, capitalise_legend\n",
      "import pandas as pd\n",
      "\n",
      "# Plotting\n",
      "%matplotlib inline\n",
      "import matplotlib.pyplot as plt\n",
      "import seaborn as sns\n",
      "sns.set(style=\"white\")\n",
      "from pylab import rcParams\n",
      "rcParams['figure.figsize'] = (16, 8)"
     ],
     "language": "python",
     "metadata": {},
     "outputs": [
      {
       "output_type": "stream",
       "stream": "stdout",
       "text": [
        "The autoreload extension is already loaded. To reload it, use:\n",
        "  %reload_ext autoreload\n"
       ]
      }
     ],
     "prompt_number": 1
    },
    {
     "cell_type": "code",
     "collapsed": false,
     "input": [
      "dataset = DataSet('/data/mine/vadeec/merged/ukdale.h5')\n",
      "dataset.set_window(\"2013-04-01\", \"2013-05-01\") \n",
      "TZ = dataset.metadata['timezone']\n",
      "elec = dataset.buildings[1].elec\n",
      "\n",
      "for building in dataset.buildings.values():\n",
      "    try:\n",
      "        building.elec.use_alternative_mains()\n",
      "    except RuntimeError:\n",
      "        pass\n",
      "    else:\n",
      "        print(\"using alternative mains for\", building)"
     ],
     "language": "python",
     "metadata": {},
     "outputs": [
      {
       "output_type": "stream",
       "stream": "stdout",
       "text": [
        "using alternative mains for Building(instance=1, dataset='UK-DALE')\n",
        "using alternative mains for Building(instance=2, dataset='UK-DALE')\n",
        "using alternative mains for Building(instance=5, dataset='UK-DALE')\n"
       ]
      }
     ],
     "prompt_number": 2
    },
    {
     "cell_type": "heading",
     "level": 2,
     "metadata": {},
     "source": [
      "Summary table of stats"
     ]
    },
    {
     "cell_type": "code",
     "collapsed": false,
     "input": [
      "dataset.describe(verbose=False, compute_expensive_stats=False)"
     ],
     "language": "python",
     "metadata": {},
     "outputs": [
      {
       "html": [
        "<div style=\"max-height:1000px;max-width:1500px;overflow:auto;\">\n",
        "<table border=\"1\" class=\"dataframe\">\n",
        "  <thead>\n",
        "    <tr style=\"text-align: right;\">\n",
        "      <th></th>\n",
        "      <th>1</th>\n",
        "      <th>2</th>\n",
        "      <th>3</th>\n",
        "      <th>4</th>\n",
        "      <th>5</th>\n",
        "    </tr>\n",
        "  </thead>\n",
        "  <tbody>\n",
        "    <tr>\n",
        "      <th>instance</th>\n",
        "      <td>                                                 1</td>\n",
        "      <td>                                                 2</td>\n",
        "      <td>                                                 3</td>\n",
        "      <td>                                                 4</td>\n",
        "      <td>                    5</td>\n",
        "    </tr>\n",
        "    <tr>\n",
        "      <th>building_type</th>\n",
        "      <td>                                    end of terrace</td>\n",
        "      <td>                                    end of terrace</td>\n",
        "      <td>                                              None</td>\n",
        "      <td>                                              None</td>\n",
        "      <td>                 flat</td>\n",
        "    </tr>\n",
        "    <tr>\n",
        "      <th>construction_year</th>\n",
        "      <td>                                              1905</td>\n",
        "      <td>                                              1900</td>\n",
        "      <td>                                              None</td>\n",
        "      <td>                                              None</td>\n",
        "      <td>                 2009</td>\n",
        "    </tr>\n",
        "    <tr>\n",
        "      <th>energy_improvements</th>\n",
        "      <td> [solar thermal, loft insulation, solid wall in...</td>\n",
        "      <td>          [cavity wall insulation, double glazing]</td>\n",
        "      <td>                                              None</td>\n",
        "      <td>                                              None</td>\n",
        "      <td>                 None</td>\n",
        "    </tr>\n",
        "    <tr>\n",
        "      <th>heating</th>\n",
        "      <td>                                     [natural gas]</td>\n",
        "      <td>                                     [natural gas]</td>\n",
        "      <td>                                              None</td>\n",
        "      <td>                                              None</td>\n",
        "      <td>        [natural gas]</td>\n",
        "    </tr>\n",
        "    <tr>\n",
        "      <th>ownership</th>\n",
        "      <td>                                            bought</td>\n",
        "      <td>                                            bought</td>\n",
        "      <td>                                              None</td>\n",
        "      <td>                                              None</td>\n",
        "      <td>               bought</td>\n",
        "    </tr>\n",
        "    <tr>\n",
        "      <th>n_occupants</th>\n",
        "      <td>                                                 4</td>\n",
        "      <td>                                                 2</td>\n",
        "      <td>                                              None</td>\n",
        "      <td>                                              None</td>\n",
        "      <td>                    2</td>\n",
        "    </tr>\n",
        "    <tr>\n",
        "      <th>description_of_occupants</th>\n",
        "      <td> 2 adults and 1 dog started living in the house...</td>\n",
        "      <td> 2 adults, 1 at work all day, other sometimes home</td>\n",
        "      <td>                                              None</td>\n",
        "      <td>                                              None</td>\n",
        "      <td>             2 adults</td>\n",
        "    </tr>\n",
        "    <tr>\n",
        "      <th>total_n_meters</th>\n",
        "      <td>                                                54</td>\n",
        "      <td>                                                20</td>\n",
        "      <td>                                                 5</td>\n",
        "      <td>                                                 6</td>\n",
        "      <td>                   26</td>\n",
        "    </tr>\n",
        "    <tr>\n",
        "      <th>total_n_site_meters</th>\n",
        "      <td>                                                 2</td>\n",
        "      <td>                                                 2</td>\n",
        "      <td>                                                 1</td>\n",
        "      <td>                                                 1</td>\n",
        "      <td>                    2</td>\n",
        "    </tr>\n",
        "    <tr>\n",
        "      <th>mains_sample_period</th>\n",
        "      <td>                                                 1</td>\n",
        "      <td>                                                 1</td>\n",
        "      <td>                                                 6</td>\n",
        "      <td>                                                 6</td>\n",
        "      <td>                    1</td>\n",
        "    </tr>\n",
        "    <tr>\n",
        "      <th>submeter_sample_period</th>\n",
        "      <td>                                                 6</td>\n",
        "      <td>                                                 6</td>\n",
        "      <td>                                                 6</td>\n",
        "      <td>                                                 6</td>\n",
        "      <td>                    6</td>\n",
        "    </tr>\n",
        "    <tr>\n",
        "      <th>timeframe</th>\n",
        "      <td> start=2013-04-01 00:00:00+01:00, end=2013-04-0...</td>\n",
        "      <td> start=2013-04-01 00:00:00+01:00, end=2013-04-0...</td>\n",
        "      <td> start=2013-04-01 00:00:00+01:00, end=2013-04-0...</td>\n",
        "      <td> start=2013-04-01 00:00:00+01:00, end=2013-04-0...</td>\n",
        "      <td> start=None, end=None</td>\n",
        "    </tr>\n",
        "    <tr>\n",
        "      <th>total_duration</th>\n",
        "      <td>                                   1 days 00:00:00</td>\n",
        "      <td>                                   1 days 00:00:00</td>\n",
        "      <td>                                   1 days 00:00:00</td>\n",
        "      <td>                                   1 days 00:00:00</td>\n",
        "      <td>              0:00:00</td>\n",
        "    </tr>\n",
        "    <tr>\n",
        "      <th>mains_uptime</th>\n",
        "      <td>                            0 days 01:47:10.300000</td>\n",
        "      <td>                                           0:00:00</td>\n",
        "      <td>                                   0 days 22:22:19</td>\n",
        "      <td>                                   0 days 23:59:55</td>\n",
        "      <td>              0:00:00</td>\n",
        "    </tr>\n",
        "    <tr>\n",
        "      <th>proportion_uptime</th>\n",
        "      <td>                                        0.07442477</td>\n",
        "      <td>                                                 0</td>\n",
        "      <td>                                         0.9321644</td>\n",
        "      <td>                                         0.9999421</td>\n",
        "      <td>                  NaN</td>\n",
        "    </tr>\n",
        "    <tr>\n",
        "      <th>average_mains_energy_per_day</th>\n",
        "      <td> active      8.498348\n",
        "apparent    9.879343\n",
        "dtyp...</td>\n",
        "      <td>                                               NaN</td>\n",
        "      <td>              apparent    18.209743\n",
        "dtype: float64</td>\n",
        "      <td>              apparent    13.240214\n",
        "dtype: float64</td>\n",
        "      <td>                  NaN</td>\n",
        "    </tr>\n",
        "  </tbody>\n",
        "</table>\n",
        "</div>"
       ],
       "metadata": {},
       "output_type": "pyout",
       "prompt_number": 3,
       "text": [
        "                                                                              1  \\\n",
        "instance                                                                      1   \n",
        "building_type                                                    end of terrace   \n",
        "construction_year                                                          1905   \n",
        "energy_improvements           [solar thermal, loft insulation, solid wall in...   \n",
        "heating                                                           [natural gas]   \n",
        "ownership                                                                bought   \n",
        "n_occupants                                                                   4   \n",
        "description_of_occupants      2 adults and 1 dog started living in the house...   \n",
        "total_n_meters                                                               54   \n",
        "total_n_site_meters                                                           2   \n",
        "mains_sample_period                                                           1   \n",
        "submeter_sample_period                                                        6   \n",
        "timeframe                     start=2013-04-01 00:00:00+01:00, end=2013-04-0...   \n",
        "total_duration                                                  1 days 00:00:00   \n",
        "mains_uptime                                             0 days 01:47:10.300000   \n",
        "proportion_uptime                                                    0.07442477   \n",
        "average_mains_energy_per_day  active      8.498348\n",
        "apparent    9.879343\n",
        "dtyp...   \n",
        "\n",
        "                                                                              2  \\\n",
        "instance                                                                      2   \n",
        "building_type                                                    end of terrace   \n",
        "construction_year                                                          1900   \n",
        "energy_improvements                    [cavity wall insulation, double glazing]   \n",
        "heating                                                           [natural gas]   \n",
        "ownership                                                                bought   \n",
        "n_occupants                                                                   2   \n",
        "description_of_occupants      2 adults, 1 at work all day, other sometimes home   \n",
        "total_n_meters                                                               20   \n",
        "total_n_site_meters                                                           2   \n",
        "mains_sample_period                                                           1   \n",
        "submeter_sample_period                                                        6   \n",
        "timeframe                     start=2013-04-01 00:00:00+01:00, end=2013-04-0...   \n",
        "total_duration                                                  1 days 00:00:00   \n",
        "mains_uptime                                                            0:00:00   \n",
        "proportion_uptime                                                             0   \n",
        "average_mains_energy_per_day                                                NaN   \n",
        "\n",
        "                                                                              3  \\\n",
        "instance                                                                      3   \n",
        "building_type                                                              None   \n",
        "construction_year                                                          None   \n",
        "energy_improvements                                                        None   \n",
        "heating                                                                    None   \n",
        "ownership                                                                  None   \n",
        "n_occupants                                                                None   \n",
        "description_of_occupants                                                   None   \n",
        "total_n_meters                                                                5   \n",
        "total_n_site_meters                                                           1   \n",
        "mains_sample_period                                                           6   \n",
        "submeter_sample_period                                                        6   \n",
        "timeframe                     start=2013-04-01 00:00:00+01:00, end=2013-04-0...   \n",
        "total_duration                                                  1 days 00:00:00   \n",
        "mains_uptime                                                    0 days 22:22:19   \n",
        "proportion_uptime                                                     0.9321644   \n",
        "average_mains_energy_per_day               apparent    18.209743\n",
        "dtype: float64   \n",
        "\n",
        "                                                                              4  \\\n",
        "instance                                                                      4   \n",
        "building_type                                                              None   \n",
        "construction_year                                                          None   \n",
        "energy_improvements                                                        None   \n",
        "heating                                                                    None   \n",
        "ownership                                                                  None   \n",
        "n_occupants                                                                None   \n",
        "description_of_occupants                                                   None   \n",
        "total_n_meters                                                                6   \n",
        "total_n_site_meters                                                           1   \n",
        "mains_sample_period                                                           6   \n",
        "submeter_sample_period                                                        6   \n",
        "timeframe                     start=2013-04-01 00:00:00+01:00, end=2013-04-0...   \n",
        "total_duration                                                  1 days 00:00:00   \n",
        "mains_uptime                                                    0 days 23:59:55   \n",
        "proportion_uptime                                                     0.9999421   \n",
        "average_mains_energy_per_day               apparent    13.240214\n",
        "dtype: float64   \n",
        "\n",
        "                                                 5  \n",
        "instance                                         5  \n",
        "building_type                                 flat  \n",
        "construction_year                             2009  \n",
        "energy_improvements                           None  \n",
        "heating                              [natural gas]  \n",
        "ownership                                   bought  \n",
        "n_occupants                                      2  \n",
        "description_of_occupants                  2 adults  \n",
        "total_n_meters                                  26  \n",
        "total_n_site_meters                              2  \n",
        "mains_sample_period                              1  \n",
        "submeter_sample_period                           6  \n",
        "timeframe                     start=None, end=None  \n",
        "total_duration                             0:00:00  \n",
        "mains_uptime                               0:00:00  \n",
        "proportion_uptime                              NaN  \n",
        "average_mains_energy_per_day                   NaN  "
       ]
      }
     ],
     "prompt_number": 3
    },
    {
     "cell_type": "heading",
     "level": 2,
     "metadata": {},
     "source": [
      "Area plot of top 5 houses from house 1"
     ]
    },
    {
     "cell_type": "code",
     "collapsed": false,
     "input": [
      "submeters = elec.meters_directly_downstream_of_mains()\n",
      "grouped = submeters.groupby('type')\n",
      "top_k = grouped.select_top_k(group_remainder=True)"
     ],
     "language": "python",
     "metadata": {},
     "outputs": [
      {
       "output_type": "stream",
       "stream": "stdout",
       "text": [
        "\r",
        "1/36 MeterGroup(meters=\n",
        "  ElecMeter(instance=11, building=1, dataset='UK-DALE', appliances=[Appliance(type='toaster', instance=1), Appliance(type='kitchen aid', instance=1), Appliance(type='food processor', instance=2)])\n",
        ")"
       ]
      },
      {
       "output_type": "stream",
       "stream": "stdout",
       "text": [
        "\r",
        "Calculating total_energy for ElecMeterID(instance=11, building=1, dataset='UK-DALE') ...   "
       ]
      },
      {
       "output_type": "stream",
       "stream": "stdout",
       "text": [
        "\r",
        "2/36 MeterGroup(meters=\n",
        "  ElecMeter(instance=41, building=1, dataset='UK-DALE', appliances=[Appliance(type='clothes iron', instance=1)])\n",
        ")"
       ]
      },
      {
       "output_type": "stream",
       "stream": "stdout",
       "text": [
        "\r",
        "Calculating total_energy for ElecMeterID(instance=41, building=1, dataset='UK-DALE') ...   "
       ]
      },
      {
       "output_type": "stream",
       "stream": "stdout",
       "text": [
        "\r",
        "3/36 MeterGroup(meters=\n",
        "  ElecMeter(instance=28, building=1, dataset='UK-DALE', appliances=[Appliance(type='active subwoofer', instance=1)])\n",
        ")"
       ]
      },
      {
       "output_type": "stream",
       "stream": "stdout",
       "text": [
        "\r",
        "Calculating total_energy for ElecMeterID(instance=28, building=1, dataset='UK-DALE') ...   "
       ]
      },
      {
       "output_type": "stream",
       "stream": "stdout",
       "text": [
        "\r",
        "4/36 MeterGroup(meters=\n",
        "  ElecMeter(instance=32, building=1, dataset='UK-DALE', appliances=[Appliance(type='wireless phone charger', instance=1), Appliance(type='audio system', instance=2)])\n",
        ")"
       ]
      },
      {
       "output_type": "stream",
       "stream": "stdout",
       "text": [
        "\r",
        "Calculating total_energy for ElecMeterID(instance=32, building=1, dataset='UK-DALE') ...   "
       ]
      },
      {
       "output_type": "stream",
       "stream": "stdout",
       "text": [
        "\r",
        "5/36 MeterGroup(meters=\n",
        "  ElecMeter(instance=43, building=1, dataset='UK-DALE', appliances=[Appliance(type='computer', instance=1), Appliance(type='external hard disk', instance=1)])\n",
        ")"
       ]
      },
      {
       "output_type": "stream",
       "stream": "stdout",
       "text": [
        "\r",
        "Calculating total_energy for ElecMeterID(instance=43, building=1, dataset='UK-DALE') ...   "
       ]
      },
      {
       "output_type": "stream",
       "stream": "stdout",
       "text": [
        "\r",
        "6/36 MeterGroup(meters=\n",
        "  ElecMeter(instance=38, building=1, dataset='UK-DALE', appliances=[Appliance(type='mobile phone charger', instance=2), Appliance(type='baby monitor', instance=2), Appliance(type='radio', instance=3)])\n",
        "  ElecMeter(instance=37, building=1, dataset='UK-DALE', appliances=[Appliance(type='radio', instance=2)])\n",
        "  ElecMeter(instance=30, building=1, dataset='UK-DALE', appliances=[Appliance(type='radio', instance=1)])\n",
        ")"
       ]
      },
      {
       "output_type": "stream",
       "stream": "stdout",
       "text": [
        "\r",
        "Calculating total_energy for ElecMeterID(instance=38, building=1, dataset='UK-DALE') ...   "
       ]
      },
      {
       "output_type": "stream",
       "stream": "stdout",
       "text": [
        "\r",
        "Calculating total_energy for ElecMeterID(instance=37, building=1, dataset='UK-DALE') ...   "
       ]
      },
      {
       "output_type": "stream",
       "stream": "stdout",
       "text": [
        "\r",
        "Calculating total_energy for ElecMeterID(instance=30, building=1, dataset='UK-DALE') ...   "
       ]
      },
      {
       "output_type": "stream",
       "stream": "stdout",
       "text": [
        "\r",
        "7/36 MeterGroup(meters=\n",
        "  ElecMeter(instance=42, building=1, dataset='UK-DALE', appliances=[Appliance(type='oven', instance=1)])\n",
        ")"
       ]
      },
      {
       "output_type": "stream",
       "stream": "stdout",
       "text": [
        "\r",
        "Calculating total_energy for ElecMeterID(instance=42, building=1, dataset='UK-DALE') ...   "
       ]
      },
      {
       "output_type": "stream",
       "stream": "stdout",
       "text": [
        "\r",
        "8/36 MeterGroup(meters=\n",
        "  ElecMeter(instance=9, building=1, dataset='UK-DALE', appliances=[Appliance(type='HTPC', instance=1)])\n",
        ")"
       ]
      },
      {
       "output_type": "stream",
       "stream": "stdout",
       "text": [
        "\r",
        "Calculating total_energy for ElecMeterID(instance=9, building=1, dataset='UK-DALE') ...   "
       ]
      },
      {
       "output_type": "stream",
       "stream": "stdout",
       "text": [
        "\r",
        "9/36 MeterGroup(meters=\n",
        "  ElecMeter(instance=14, building=1, dataset='UK-DALE', appliances=[Appliance(type='computer monitor', instance=1)])\n",
        ")"
       ]
      },
      {
       "output_type": "stream",
       "stream": "stdout",
       "text": [
        "\r",
        "Calculating total_energy for ElecMeterID(instance=14, building=1, dataset='UK-DALE') ...   "
       ]
      },
      {
       "output_type": "stream",
       "stream": "stdout",
       "text": [
        "\r",
        "10/36 MeterGroup(meters=\n",
        "  ElecMeter(instance=51, building=1, dataset='UK-DALE', appliances=[Appliance(type='desktop computer', instance=1)])\n",
        ")"
       ]
      },
      {
       "output_type": "stream",
       "stream": "stdout",
       "text": [
        "\r",
        "Calculating total_energy for ElecMeterID(instance=51, building=1, dataset='UK-DALE') ...   "
       ]
      },
      {
       "output_type": "stream",
       "stream": "stdout",
       "text": [
        "\r",
        "11/36 MeterGroup(meters=\n",
        "  ElecMeter(instance=10, building=1, dataset='UK-DALE', appliances=[Appliance(type='kettle', instance=1), Appliance(type='food processor', instance=1), Appliance(type='toasted sandwich maker', instance=1)])\n",
        ")"
       ]
      },
      {
       "output_type": "stream",
       "stream": "stdout",
       "text": [
        "\r",
        "Calculating total_energy for ElecMeterID(instance=10, building=1, dataset='UK-DALE') ...   "
       ]
      },
      {
       "output_type": "stream",
       "stream": "stdout",
       "text": [
        "\r",
        "12/36 MeterGroup(meters=\n",
        "  ElecMeter(instance=13, building=1, dataset='UK-DALE', appliances=[Appliance(type='microwave', instance=1)])\n",
        ")"
       ]
      },
      {
       "output_type": "stream",
       "stream": "stdout",
       "text": [
        "\r",
        "Calculating total_energy for ElecMeterID(instance=13, building=1, dataset='UK-DALE') ...   "
       ]
      },
      {
       "output_type": "stream",
       "stream": "stdout",
       "text": [
        "\r",
        "13/36 MeterGroup(meters=\n",
        "  ElecMeter(instance=27, building=1, dataset='UK-DALE', appliances=[Appliance(type='tablet computer charger', instance=1)])\n",
        ")"
       ]
      },
      {
       "output_type": "stream",
       "stream": "stdout",
       "text": [
        "\r",
        "Calculating total_energy for ElecMeterID(instance=27, building=1, dataset='UK-DALE') ...   "
       ]
      },
      {
       "output_type": "stream",
       "stream": "stdout",
       "text": [
        "\r",
        "14/36 MeterGroup(meters=\n",
        "  ElecMeter(instance=22, building=1, dataset='UK-DALE', appliances=[Appliance(type='vacuum cleaner', instance=1)])\n",
        ")"
       ]
      },
      {
       "output_type": "stream",
       "stream": "stdout",
       "text": [
        "\r",
        "Calculating total_energy for ElecMeterID(instance=22, building=1, dataset='UK-DALE') ...   "
       ]
      },
      {
       "output_type": "stream",
       "stream": "stdout",
       "text": [
        "\r",
        "15/36 MeterGroup(meters=\n",
        "  ElecMeter(instance=38, building=1, dataset='UK-DALE', appliances=[Appliance(type='mobile phone charger', instance=2), Appliance(type='baby monitor', instance=2), Appliance(type='radio', instance=3)])\n",
        "  ElecMeter(instance=46, building=1, dataset='UK-DALE', appliances=[Appliance(type='baby monitor', instance=1)])\n",
        ")"
       ]
      },
      {
       "output_type": "stream",
       "stream": "stdout",
       "text": [
        "\r",
        "Calculating total_energy for ElecMeterID(instance=38, building=1, dataset='UK-DALE') ...   "
       ]
      },
      {
       "output_type": "stream",
       "stream": "stdout",
       "text": [
        "\r",
        "Calculating total_energy for ElecMeterID(instance=46, building=1, dataset='UK-DALE') ...   "
       ]
      },
      {
       "output_type": "stream",
       "stream": "stdout",
       "text": [
        "\r",
        "16/36 MeterGroup(meters=\n",
        "  ElecMeter(instance=6, building=1, dataset='UK-DALE', appliances=[Appliance(type='dish washer', instance=1)])\n",
        ")"
       ]
      },
      {
       "output_type": "stream",
       "stream": "stdout",
       "text": [
        "\r",
        "Calculating total_energy for ElecMeterID(instance=6, building=1, dataset='UK-DALE') ...   "
       ]
      },
      {
       "output_type": "stream",
       "stream": "stdout",
       "text": [
        "\r",
        "17/36 MeterGroup(meters=\n",
        "  ElecMeter(instance=17, building=1, dataset='UK-DALE', appliances=[Appliance(type='audio amplifier', instance=1)])\n",
        ")"
       ]
      },
      {
       "output_type": "stream",
       "stream": "stdout",
       "text": [
        "\r",
        "Calculating total_energy for ElecMeterID(instance=17, building=1, dataset='UK-DALE') ...   "
       ]
      },
      {
       "output_type": "stream",
       "stream": "stdout",
       "text": [
        "\r",
        "18/36 MeterGroup(meters=\n",
        "  ElecMeter(instance=53, building=1, dataset='UK-DALE', appliances=[Appliance(type='printer', instance=1)])\n",
        ")"
       ]
      },
      {
       "output_type": "stream",
       "stream": "stdout",
       "text": [
        "\r",
        "Calculating total_energy for ElecMeterID(instance=53, building=1, dataset='UK-DALE') ...   "
       ]
      },
      {
       "output_type": "stream",
       "stream": "stdout",
       "text": [
        "\r",
        "19/36 MeterGroup(meters=\n",
        "  ElecMeter(instance=18, building=1, dataset='UK-DALE', appliances=[Appliance(type='broadband router', instance=1)])\n",
        ")"
       ]
      },
      {
       "output_type": "stream",
       "stream": "stdout",
       "text": [
        "\r",
        "Calculating total_energy for ElecMeterID(instance=18, building=1, dataset='UK-DALE') ...   "
       ]
      },
      {
       "output_type": "stream",
       "stream": "stdout",
       "text": [
        "\r",
        "20/36 MeterGroup(meters=\n",
        "  ElecMeter(instance=16, building=1, dataset='UK-DALE', appliances=[Appliance(type='breadmaker', instance=1)])\n",
        ")"
       ]
      },
      {
       "output_type": "stream",
       "stream": "stdout",
       "text": [
        "\r",
        "Calculating total_energy for ElecMeterID(instance=16, building=1, dataset='UK-DALE') ...   "
       ]
      },
      {
       "output_type": "stream",
       "stream": "stdout",
       "text": [
        "\r",
        "21/36 MeterGroup(meters=\n",
        "  ElecMeter(instance=39, building=1, dataset='UK-DALE', appliances=[Appliance(type='hair dryer', instance=1)])\n",
        ")"
       ]
      },
      {
       "output_type": "stream",
       "stream": "stdout",
       "text": [
        "\r",
        "Calculating total_energy for ElecMeterID(instance=39, building=1, dataset='UK-DALE') ...   "
       ]
      },
      {
       "output_type": "stream",
       "stream": "stdout",
       "text": [
        "\r",
        "22/36 MeterGroup(meters=\n",
        "  ElecMeter(instance=52, building=1, dataset='UK-DALE', appliances=[Appliance(type='fan', instance=1)])\n",
        ")"
       ]
      },
      {
       "output_type": "stream",
       "stream": "stdout",
       "text": [
        "\r",
        "Calculating total_energy for ElecMeterID(instance=52, building=1, dataset='UK-DALE') ...   "
       ]
      },
      {
       "output_type": "stream",
       "stream": "stdout",
       "text": [
        "\r",
        "23/36 MeterGroup(meters=\n",
        "  ElecMeter(instance=2, building=1, dataset='UK-DALE', appliances=[Appliance(type='boiler', instance=1)])\n",
        ")"
       ]
      },
      {
       "output_type": "stream",
       "stream": "stdout",
       "text": [
        "\r",
        "Calculating total_energy for ElecMeterID(instance=2, building=1, dataset='UK-DALE') ...   "
       ]
      },
      {
       "output_type": "stream",
       "stream": "stdout",
       "text": [
        "\r",
        "24/36 MeterGroup(meters=\n",
        "  ElecMeter(instance=12, building=1, dataset='UK-DALE', appliances=[Appliance(type='fridge freezer', instance=1)])\n",
        ")"
       ]
      },
      {
       "output_type": "stream",
       "stream": "stdout",
       "text": [
        "\r",
        "Calculating total_energy for ElecMeterID(instance=12, building=1, dataset='UK-DALE') ...   "
       ]
      },
      {
       "output_type": "stream",
       "stream": "stdout",
       "text": [
        "\r",
        "25/36 MeterGroup(meters=\n",
        "  ElecMeter(instance=40, building=1, dataset='UK-DALE', appliances=[Appliance(type='hair straighteners', instance=1)])\n",
        ")"
       ]
      },
      {
       "output_type": "stream",
       "stream": "stdout",
       "text": [
        "\r",
        "Calculating total_energy for ElecMeterID(instance=40, building=1, dataset='UK-DALE') ...   "
       ]
      },
      {
       "output_type": "stream",
       "stream": "stdout",
       "text": [
        "\r",
        "26/36 MeterGroup(meters=\n",
        "  ElecMeter(instance=38, building=1, dataset='UK-DALE', appliances=[Appliance(type='mobile phone charger', instance=2), Appliance(type='baby monitor', instance=2), Appliance(type='radio', instance=3)])\n",
        "  ElecMeter(instance=34, building=1, dataset='UK-DALE', appliances=[Appliance(type='mobile phone charger', instance=1)])\n",
        ")"
       ]
      },
      {
       "output_type": "stream",
       "stream": "stdout",
       "text": [
        "\r",
        "Calculating total_energy for ElecMeterID(instance=38, building=1, dataset='UK-DALE') ...   "
       ]
      },
      {
       "output_type": "stream",
       "stream": "stdout",
       "text": [
        "\r",
        "Calculating total_energy for ElecMeterID(instance=34, building=1, dataset='UK-DALE') ...   "
       ]
      },
      {
       "output_type": "stream",
       "stream": "stdout",
       "text": [
        "\r",
        "27/36 MeterGroup(meters=\n",
        "  ElecMeter(instance=5, building=1, dataset='UK-DALE', appliances=[Appliance(type='washer dryer', instance=1)])\n",
        ")"
       ]
      },
      {
       "output_type": "stream",
       "stream": "stdout",
       "text": [
        "\r",
        "Calculating total_energy for ElecMeterID(instance=5, building=1, dataset='UK-DALE') ...   "
       ]
      },
      {
       "output_type": "stream",
       "stream": "stdout",
       "text": [
        "\r",
        "28/36 MeterGroup(meters=\n",
        "  ElecMeter(instance=36, building=1, dataset='UK-DALE', appliances=[Appliance(type='coffee maker', instance=1)])\n",
        ")"
       ]
      },
      {
       "output_type": "stream",
       "stream": "stdout",
       "text": [
        "\r",
        "Calculating total_energy for ElecMeterID(instance=36, building=1, dataset='UK-DALE') ...   "
       ]
      },
      {
       "output_type": "stream",
       "stream": "stdout",
       "text": [
        "\r",
        "29/36 MeterGroup(meters=\n",
        "  ElecMeter(instance=7, building=1, dataset='UK-DALE', appliances=[Appliance(type='television', instance=1)])\n",
        ")"
       ]
      },
      {
       "output_type": "stream",
       "stream": "stdout",
       "text": [
        "\r",
        "Calculating total_energy for ElecMeterID(instance=7, building=1, dataset='UK-DALE') ...   "
       ]
      },
      {
       "output_type": "stream",
       "stream": "stdout",
       "text": [
        "\r",
        "30/36 MeterGroup(meters=\n",
        "  ElecMeter(instance=21, building=1, dataset='UK-DALE', appliances=[Appliance(type='ethernet switch', instance=1), Appliance(type='USB hub', instance=1)])\n",
        ")"
       ]
      },
      {
       "output_type": "stream",
       "stream": "stdout",
       "text": [
        "\r",
        "Calculating total_energy for ElecMeterID(instance=21, building=1, dataset='UK-DALE') ...   "
       ]
      },
      {
       "output_type": "stream",
       "stream": "stdout",
       "text": [
        "\r",
        "31/36 MeterGroup(meters=\n",
        "  ElecMeter(instance=24, building=1, dataset='UK-DALE', appliances=[Appliance(type='light', instance=5)])\n",
        "  ElecMeter(instance=44, building=1, dataset='UK-DALE', appliances=[Appliance(type='light', instance=11)])\n",
        "  ElecMeter(instance=48, building=1, dataset='UK-DALE', appliances=[Appliance(type='light', instance=13)])\n",
        "  ElecMeter(instance=31, building=1, dataset='UK-DALE', appliances=[Appliance(type='light', instance=8)])\n",
        "  ElecMeter(instance=35, building=1, dataset='UK-DALE', appliances=[Appliance(type='light', instance=10)])\n",
        "  ElecMeter(instance=23, building=1, dataset='UK-DALE', appliances=[Appliance(type='light', instance=4)])\n",
        "  ElecMeter(instance=29, building=1, dataset='UK-DALE', appliances=[Appliance(type='light', instance=7)])\n",
        "  ElecMeter(instance=33, building=1, dataset='UK-DALE', appliances=[Appliance(type='light', instance=9)])\n",
        "  ElecMeter(instance=26, building=1, dataset='UK-DALE', appliances=[Appliance(type='light', instance=6)])\n",
        "  ElecMeter(instance=50, building=1, dataset='UK-DALE', appliances=[Appliance(type='light', instance=15)])\n",
        "  ElecMeter(instance=19, building=1, dataset='UK-DALE', appliances=[Appliance(type='light', instance=3)])\n",
        "  ElecMeter(instance=25, building=1, dataset='UK-DALE', appliances=[Appliance(type='light', instance=16)])\n",
        "  ElecMeter(instance=45, building=1, dataset='UK-DALE', appliances=[Appliance(type='light', instance=12)])\n",
        "  ElecMeter(instance=49, building=1, dataset='UK-DALE', appliances=[Appliance(type='light', instance=14)])\n",
        ")"
       ]
      },
      {
       "output_type": "stream",
       "stream": "stdout",
       "text": [
        "\r",
        "Calculating total_energy for ElecMeterID(instance=24, building=1, dataset='UK-DALE') ...   "
       ]
      },
      {
       "output_type": "stream",
       "stream": "stdout",
       "text": [
        "\r",
        "Calculating total_energy for ElecMeterID(instance=44, building=1, dataset='UK-DALE') ...   "
       ]
      },
      {
       "output_type": "stream",
       "stream": "stdout",
       "text": [
        "\r",
        "Calculating total_energy for ElecMeterID(instance=48, building=1, dataset='UK-DALE') ...   "
       ]
      },
      {
       "output_type": "stream",
       "stream": "stdout",
       "text": [
        "\r",
        "Calculating total_energy for ElecMeterID(instance=31, building=1, dataset='UK-DALE') ...   "
       ]
      },
      {
       "output_type": "stream",
       "stream": "stdout",
       "text": [
        "\r",
        "Calculating total_energy for ElecMeterID(instance=35, building=1, dataset='UK-DALE') ...   "
       ]
      },
      {
       "output_type": "stream",
       "stream": "stdout",
       "text": [
        "\r",
        "Calculating total_energy for ElecMeterID(instance=23, building=1, dataset='UK-DALE') ...   "
       ]
      },
      {
       "output_type": "stream",
       "stream": "stdout",
       "text": [
        "\r",
        "Calculating total_energy for ElecMeterID(instance=29, building=1, dataset='UK-DALE') ...   "
       ]
      },
      {
       "output_type": "stream",
       "stream": "stdout",
       "text": [
        "\r",
        "Calculating total_energy for ElecMeterID(instance=33, building=1, dataset='UK-DALE') ...   "
       ]
      },
      {
       "output_type": "stream",
       "stream": "stdout",
       "text": [
        "\r",
        "Calculating total_energy for ElecMeterID(instance=26, building=1, dataset='UK-DALE') ...   "
       ]
      },
      {
       "output_type": "stream",
       "stream": "stdout",
       "text": [
        "\r",
        "Calculating total_energy for ElecMeterID(instance=50, building=1, dataset='UK-DALE') ...   "
       ]
      },
      {
       "output_type": "stream",
       "stream": "stdout",
       "text": [
        "\r",
        "Calculating total_energy for ElecMeterID(instance=19, building=1, dataset='UK-DALE') ...   "
       ]
      },
      {
       "output_type": "stream",
       "stream": "stdout",
       "text": [
        "\r",
        "Calculating total_energy for ElecMeterID(instance=25, building=1, dataset='UK-DALE') ...   "
       ]
      },
      {
       "output_type": "stream",
       "stream": "stdout",
       "text": [
        "\r",
        "Calculating total_energy for ElecMeterID(instance=45, building=1, dataset='UK-DALE') ...   "
       ]
      },
      {
       "output_type": "stream",
       "stream": "stdout",
       "text": [
        "\r",
        "Calculating total_energy for ElecMeterID(instance=49, building=1, dataset='UK-DALE') ...   "
       ]
      },
      {
       "output_type": "stream",
       "stream": "stdout",
       "text": [
        "\r",
        "32/36 MeterGroup(meters=\n",
        "  ElecMeter(instance=32, building=1, dataset='UK-DALE', appliances=[Appliance(type='wireless phone charger', instance=1), Appliance(type='audio system', instance=2)])\n",
        "  ElecMeter(instance=15, building=1, dataset='UK-DALE', appliances=[Appliance(type='audio system', instance=1)])\n",
        ")"
       ]
      },
      {
       "output_type": "stream",
       "stream": "stdout",
       "text": [
        "\r",
        "Calculating total_energy for ElecMeterID(instance=32, building=1, dataset='UK-DALE') ...   "
       ]
      },
      {
       "output_type": "stream",
       "stream": "stdout",
       "text": [
        "\r",
        "Calculating total_energy for ElecMeterID(instance=15, building=1, dataset='UK-DALE') ...   "
       ]
      },
      {
       "output_type": "stream",
       "stream": "stdout",
       "text": [
        "\r",
        "33/36 MeterGroup(meters=\n",
        "  ElecMeter(instance=4, building=1, dataset='UK-DALE', appliances=[Appliance(type='laptop computer', instance=1), Appliance(type='laptop computer', instance=3)])\n",
        ")"
       ]
      },
      {
       "output_type": "stream",
       "stream": "stdout",
       "text": [
        "\r",
        "Calculating total_energy for ElecMeterID(instance=4, building=1, dataset='UK-DALE') ...   "
       ]
      },
      {
       "output_type": "stream",
       "stream": "stdout",
       "text": [
        "\r",
        "34/36 MeterGroup(meters=\n",
        "  ElecMeter(instance=20, building=1, dataset='UK-DALE', appliances=[Appliance(type='soldering iron', instance=1)])\n",
        ")"
       ]
      },
      {
       "output_type": "stream",
       "stream": "stdout",
       "text": [
        "\r",
        "Calculating total_energy for ElecMeterID(instance=20, building=1, dataset='UK-DALE') ...   "
       ]
      },
      {
       "output_type": "stream",
       "stream": "stdout",
       "text": [
        "\r",
        "35/36 MeterGroup(meters=\n",
        "  ElecMeter(instance=3, building=1, dataset='UK-DALE', appliances=[Appliance(type='solar thermal pumping station', instance=1)])\n",
        ")"
       ]
      },
      {
       "output_type": "stream",
       "stream": "stdout",
       "text": [
        "\r",
        "Calculating total_energy for ElecMeterID(instance=3, building=1, dataset='UK-DALE') ...   "
       ]
      },
      {
       "output_type": "stream",
       "stream": "stdout",
       "text": [
        "\r",
        "36/36 MeterGroup(meters=\n",
        "  ElecMeter(instance=47, building=1, dataset='UK-DALE', appliances=[Appliance(type='charger', instance=1)])\n",
        ")"
       ]
      },
      {
       "output_type": "stream",
       "stream": "stdout",
       "text": [
        "\r",
        "Calculating total_energy for ElecMeterID(instance=47, building=1, dataset='UK-DALE') ...   "
       ]
      },
      {
       "output_type": "stream",
       "stream": "stderr",
       "text": [
        "/home/jack/workspace/python/nilmtk/nilmtk/elecmeter.py:187: RuntimeWarning: Multiple appliances are associated with meter {} but none are marked as the dominant appliance. Hence returning the first appliance in the list.\n",
        "  ' returning the first appliance in the list.', RuntimeWarning)\n"
       ]
      }
     ],
     "prompt_number": 4
    },
    {
     "cell_type": "code",
     "collapsed": false,
     "input": [
      "tz = dataset.metadata['timezone']\n",
      "timeframe = TimeFrame(\"2013-04-01\", \"2013-04-02\", tz=tz)\n",
      "ax = top_k.plot(kind='area', timeframe=timeframe)\n",
      "ax = capitalise_legend(ax)\n",
      "sns.despine(ax=ax)"
     ],
     "language": "python",
     "metadata": {},
     "outputs": [
      {
       "output_type": "stream",
       "stream": "stdout",
       "text": [
        "\r",
        "Loading data for meter ElecMeterID(instance=12, building=1, dataset='UK-DALE')     "
       ]
      },
      {
       "output_type": "stream",
       "stream": "stdout",
       "text": [
        "\n",
        "Done loading data all meters for this chunk.\n",
        "\r",
        "Loading data for meter ElecMeterID(instance=43, building=1, dataset='UK-DALE')     "
       ]
      },
      {
       "output_type": "stream",
       "stream": "stdout",
       "text": [
        "\n",
        "Done loading data all meters for this chunk.\n",
        "\r",
        "Loading data for meter ElecMeterID(instance=2, building=1, dataset='UK-DALE')     "
       ]
      },
      {
       "output_type": "stream",
       "stream": "stdout",
       "text": [
        "\n",
        "Done loading data all meters for this chunk.\n",
        "\r",
        "Loading data for meter ElecMeterID(instance=9, building=1, dataset='UK-DALE')     "
       ]
      },
      {
       "output_type": "stream",
       "stream": "stdout",
       "text": [
        "\n",
        "Done loading data all meters for this chunk.\n",
        "\r",
        "Loading data for meter ElecMeterID(instance=3, building=1, dataset='UK-DALE')     "
       ]
      },
      {
       "output_type": "stream",
       "stream": "stdout",
       "text": [
        "\n",
        "Done loading data all meters for this chunk.\n",
        "\r",
        "Loading data for meter"
       ]
      },
      {
       "output_type": "stream",
       "stream": "stdout",
       "text": [
        " MeterGroupID(meters=(ElecMeterID(instance=16, building=1, dataset='UK-DALE'),))     "
       ]
      },
      {
       "output_type": "stream",
       "stream": "stdout",
       "text": [
        "\r",
        "Loading data for meter ElecMeterID(instance=16, building=1, dataset='UK-DALE')     "
       ]
      },
      {
       "output_type": "stream",
       "stream": "stdout",
       "text": [
        "\n",
        "Done loading data all meters for this chunk.\n",
        "\r",
        "Loading data for meter"
       ]
      },
      {
       "output_type": "stream",
       "stream": "stdout",
       "text": [
        " MeterGroupID(meters=(ElecMeterID(instance=39, building=1, dataset='UK-DALE'),))     "
       ]
      },
      {
       "output_type": "stream",
       "stream": "stdout",
       "text": [
        "\r",
        "Loading data for meter ElecMeterID(instance=39, building=1, dataset='UK-DALE')     "
       ]
      },
      {
       "output_type": "stream",
       "stream": "stdout",
       "text": [
        "\n",
        "Done loading data all meters for this chunk.\n",
        "\r",
        "Loading data for meter"
       ]
      },
      {
       "output_type": "stream",
       "stream": "stdout",
       "text": [
        " MeterGroupID(meters=(ElecMeterID(instance=22, building=1, dataset='UK-DALE'),))     "
       ]
      },
      {
       "output_type": "stream",
       "stream": "stdout",
       "text": [
        "\r",
        "Loading data for meter ElecMeterID(instance=22, building=1, dataset='UK-DALE')     "
       ]
      },
      {
       "output_type": "stream",
       "stream": "stdout",
       "text": [
        "\n",
        "Done loading data all meters for this chunk.\n",
        "\r",
        "Loading data for meter"
       ]
      },
      {
       "output_type": "stream",
       "stream": "stdout",
       "text": [
        " MeterGroupID(meters=(ElecMeterID(instance=17, building=1, dataset='UK-DALE'),))     "
       ]
      },
      {
       "output_type": "stream",
       "stream": "stdout",
       "text": [
        "\r",
        "Loading data for meter ElecMeterID(instance=17, building=1, dataset='UK-DALE')     "
       ]
      },
      {
       "output_type": "stream",
       "stream": "stdout",
       "text": [
        "\n",
        "Done loading data all meters for this chunk.\n",
        "\r",
        "Loading data for meter"
       ]
      },
      {
       "output_type": "stream",
       "stream": "stdout",
       "text": [
        " MeterGroupID(meters=(ElecMeterID(instance=38, building=1, dataset='UK-DALE'), ElecMeterID(instance=37, building=1, dataset='UK-DALE'), ElecMeterID(instance=30, building=1, dataset='UK-DALE')))     "
       ]
      },
      {
       "output_type": "stream",
       "stream": "stdout",
       "text": [
        "\r",
        "Loading data for meter ElecMeterID(instance=38, building=1, dataset='UK-DALE')     "
       ]
      },
      {
       "output_type": "stream",
       "stream": "stdout",
       "text": [
        "\r",
        "Loading data for meter ElecMeterID(instance=37, building=1, dataset='UK-DALE')     "
       ]
      },
      {
       "output_type": "stream",
       "stream": "stdout",
       "text": [
        "\r",
        "Loading data for meter ElecMeterID(instance=30, building=1, dataset='UK-DALE')     "
       ]
      },
      {
       "output_type": "stream",
       "stream": "stdout",
       "text": [
        "\n",
        "Done loading data all meters for this chunk.\n",
        "\r",
        "Loading data for meter"
       ]
      },
      {
       "output_type": "stream",
       "stream": "stdout",
       "text": [
        " MeterGroupID(meters=(ElecMeterID(instance=4, building=1, dataset='UK-DALE'),))     "
       ]
      },
      {
       "output_type": "stream",
       "stream": "stdout",
       "text": [
        "\r",
        "Loading data for meter ElecMeterID(instance=4, building=1, dataset='UK-DALE')     "
       ]
      },
      {
       "output_type": "stream",
       "stream": "stdout",
       "text": [
        "\n",
        "Done loading data all meters for this chunk.\n",
        "\r",
        "Loading data for meter"
       ]
      },
      {
       "output_type": "stream",
       "stream": "stdout",
       "text": [
        " MeterGroupID(meters=(ElecMeterID(instance=27, building=1, dataset='UK-DALE'),))     "
       ]
      },
      {
       "output_type": "stream",
       "stream": "stdout",
       "text": [
        "\r",
        "Loading data for meter ElecMeterID(instance=27, building=1, dataset='UK-DALE')     "
       ]
      },
      {
       "output_type": "stream",
       "stream": "stdout",
       "text": [
        "\n",
        "Done loading data all meters for this chunk.\n",
        "\r",
        "Loading data for meter"
       ]
      },
      {
       "output_type": "stream",
       "stream": "stdout",
       "text": [
        " MeterGroupID(meters=(ElecMeterID(instance=47, building=1, dataset='UK-DALE'),))     "
       ]
      },
      {
       "output_type": "stream",
       "stream": "stdout",
       "text": [
        "\r",
        "Loading data for meter ElecMeterID(instance=47, building=1, dataset='UK-DALE')     "
       ]
      },
      {
       "output_type": "stream",
       "stream": "stdout",
       "text": [
        "\n",
        "Done loading data all meters for this chunk.\n",
        "\r",
        "Loading data for meter"
       ]
      },
      {
       "output_type": "stream",
       "stream": "stdout",
       "text": [
        " MeterGroupID(meters=(ElecMeterID(instance=38, building=1, dataset='UK-DALE'), ElecMeterID(instance=34, building=1, dataset='UK-DALE')))     "
       ]
      },
      {
       "output_type": "stream",
       "stream": "stdout",
       "text": [
        "\r",
        "Loading data for meter ElecMeterID(instance=38, building=1, dataset='UK-DALE')     "
       ]
      },
      {
       "output_type": "stream",
       "stream": "stdout",
       "text": [
        "\r",
        "Loading data for meter ElecMeterID(instance=34, building=1, dataset='UK-DALE')     "
       ]
      },
      {
       "output_type": "stream",
       "stream": "stdout",
       "text": [
        "\n",
        "Done loading data all meters for this chunk.\n",
        "\r",
        "Loading data for meter"
       ]
      },
      {
       "output_type": "stream",
       "stream": "stdout",
       "text": [
        " MeterGroupID(meters=(ElecMeterID(instance=7, building=1, dataset='UK-DALE'),))     "
       ]
      },
      {
       "output_type": "stream",
       "stream": "stdout",
       "text": [
        "\r",
        "Loading data for meter ElecMeterID(instance=7, building=1, dataset='UK-DALE')     "
       ]
      },
      {
       "output_type": "stream",
       "stream": "stdout",
       "text": [
        "\n",
        "Done loading data all meters for this chunk.\n",
        "\r",
        "Loading data for meter"
       ]
      },
      {
       "output_type": "stream",
       "stream": "stdout",
       "text": [
        " MeterGroupID(meters=(ElecMeterID(instance=52, building=1, dataset='UK-DALE'),))     "
       ]
      },
      {
       "output_type": "stream",
       "stream": "stdout",
       "text": [
        "\r",
        "Loading data for meter ElecMeterID(instance=52, building=1, dataset='UK-DALE')     "
       ]
      },
      {
       "output_type": "stream",
       "stream": "stdout",
       "text": [
        "\n",
        "Done loading data all meters for this chunk.\n",
        "\r",
        "Loading data for meter"
       ]
      },
      {
       "output_type": "stream",
       "stream": "stdout",
       "text": [
        " MeterGroupID(meters=(ElecMeterID(instance=42, building=1, dataset='UK-DALE'),))     "
       ]
      },
      {
       "output_type": "stream",
       "stream": "stdout",
       "text": [
        "\r",
        "Loading data for meter ElecMeterID(instance=42, building=1, dataset='UK-DALE')     "
       ]
      },
      {
       "output_type": "stream",
       "stream": "stdout",
       "text": [
        "\n",
        "Done loading data all meters for this chunk.\n",
        "\r",
        "Loading data for meter"
       ]
      },
      {
       "output_type": "stream",
       "stream": "stdout",
       "text": [
        " MeterGroupID(meters=(ElecMeterID(instance=38, building=1, dataset='UK-DALE'), ElecMeterID(instance=46, building=1, dataset='UK-DALE')))     "
       ]
      },
      {
       "output_type": "stream",
       "stream": "stdout",
       "text": [
        "\r",
        "Loading data for meter ElecMeterID(instance=38, building=1, dataset='UK-DALE')     "
       ]
      },
      {
       "output_type": "stream",
       "stream": "stdout",
       "text": [
        "\r",
        "Loading data for meter ElecMeterID(instance=46, building=1, dataset='UK-DALE')     "
       ]
      },
      {
       "output_type": "stream",
       "stream": "stdout",
       "text": [
        "\n",
        "Done loading data all meters for this chunk.\n",
        "\r",
        "Loading data for meter"
       ]
      },
      {
       "output_type": "stream",
       "stream": "stdout",
       "text": [
        " MeterGroupID(meters=(ElecMeterID(instance=32, building=1, dataset='UK-DALE'), ElecMeterID(instance=15, building=1, dataset='UK-DALE')))     "
       ]
      },
      {
       "output_type": "stream",
       "stream": "stdout",
       "text": [
        "\r",
        "Loading data for meter ElecMeterID(instance=32, building=1, dataset='UK-DALE')     "
       ]
      },
      {
       "output_type": "stream",
       "stream": "stdout",
       "text": [
        "\r",
        "Loading data for meter ElecMeterID(instance=15, building=1, dataset='UK-DALE')     "
       ]
      },
      {
       "output_type": "stream",
       "stream": "stdout",
       "text": [
        "\n",
        "Done loading data all meters for this chunk.\n",
        "\r",
        "Loading data for meter"
       ]
      },
      {
       "output_type": "stream",
       "stream": "stdout",
       "text": [
        " MeterGroupID(meters=(ElecMeterID(instance=32, building=1, dataset='UK-DALE'),))     "
       ]
      },
      {
       "output_type": "stream",
       "stream": "stdout",
       "text": [
        "\r",
        "Loading data for meter ElecMeterID(instance=32, building=1, dataset='UK-DALE')     "
       ]
      },
      {
       "output_type": "stream",
       "stream": "stdout",
       "text": [
        "\n",
        "Done loading data all meters for this chunk.\n",
        "\r",
        "Loading data for meter"
       ]
      },
      {
       "output_type": "stream",
       "stream": "stdout",
       "text": [
        " MeterGroupID(meters=(ElecMeterID(instance=5, building=1, dataset='UK-DALE'),))     "
       ]
      },
      {
       "output_type": "stream",
       "stream": "stdout",
       "text": [
        "\r",
        "Loading data for meter ElecMeterID(instance=5, building=1, dataset='UK-DALE')     "
       ]
      },
      {
       "output_type": "stream",
       "stream": "stdout",
       "text": [
        "\n",
        "Done loading data all meters for this chunk.\n",
        "\r",
        "Loading data for meter"
       ]
      },
      {
       "output_type": "stream",
       "stream": "stdout",
       "text": [
        " MeterGroupID(meters=(ElecMeterID(instance=53, building=1, dataset='UK-DALE'),))     "
       ]
      },
      {
       "output_type": "stream",
       "stream": "stdout",
       "text": [
        "\r",
        "Loading data for meter ElecMeterID(instance=53, building=1, dataset='UK-DALE')     "
       ]
      },
      {
       "output_type": "stream",
       "stream": "stdout",
       "text": [
        "\n",
        "Done loading data all meters for this chunk.\n",
        "\r",
        "Loading data for meter"
       ]
      },
      {
       "output_type": "stream",
       "stream": "stdout",
       "text": [
        " MeterGroupID(meters=(ElecMeterID(instance=20, building=1, dataset='UK-DALE'),))     "
       ]
      },
      {
       "output_type": "stream",
       "stream": "stdout",
       "text": [
        "\r",
        "Loading data for meter ElecMeterID(instance=20, building=1, dataset='UK-DALE')     "
       ]
      },
      {
       "output_type": "stream",
       "stream": "stdout",
       "text": [
        "\n",
        "Done loading data all meters for this chunk.\n",
        "\r",
        "Loading data for meter"
       ]
      },
      {
       "output_type": "stream",
       "stream": "stdout",
       "text": [
        " MeterGroupID(meters=(ElecMeterID(instance=10, building=1, dataset='UK-DALE'),))     "
       ]
      },
      {
       "output_type": "stream",
       "stream": "stdout",
       "text": [
        "\r",
        "Loading data for meter ElecMeterID(instance=10, building=1, dataset='UK-DALE')     "
       ]
      },
      {
       "output_type": "stream",
       "stream": "stdout",
       "text": [
        "\n",
        "Done loading data all meters for this chunk.\n",
        "\r",
        "Loading data for meter"
       ]
      },
      {
       "output_type": "stream",
       "stream": "stdout",
       "text": [
        " MeterGroupID(meters=(ElecMeterID(instance=40, building=1, dataset='UK-DALE'),))     "
       ]
      },
      {
       "output_type": "stream",
       "stream": "stdout",
       "text": [
        "\r",
        "Loading data for meter ElecMeterID(instance=40, building=1, dataset='UK-DALE')     "
       ]
      },
      {
       "output_type": "stream",
       "stream": "stdout",
       "text": [
        "\n",
        "Done loading data all meters for this chunk.\n",
        "\r",
        "Loading data for meter"
       ]
      },
      {
       "output_type": "stream",
       "stream": "stdout",
       "text": [
        " MeterGroupID(meters=(ElecMeterID(instance=13, building=1, dataset='UK-DALE'),))     "
       ]
      },
      {
       "output_type": "stream",
       "stream": "stdout",
       "text": [
        "\r",
        "Loading data for meter ElecMeterID(instance=13, building=1, dataset='UK-DALE')     "
       ]
      },
      {
       "output_type": "stream",
       "stream": "stdout",
       "text": [
        "\n",
        "Done loading data all meters for this chunk.\n",
        "\r",
        "Loading data for meter"
       ]
      },
      {
       "output_type": "stream",
       "stream": "stdout",
       "text": [
        " MeterGroupID(meters=(ElecMeterID(instance=6, building=1, dataset='UK-DALE'),))     "
       ]
      },
      {
       "output_type": "stream",
       "stream": "stdout",
       "text": [
        "\r",
        "Loading data for meter ElecMeterID(instance=6, building=1, dataset='UK-DALE')     "
       ]
      },
      {
       "output_type": "stream",
       "stream": "stdout",
       "text": [
        "\n",
        "Done loading data all meters for this chunk.\n",
        "\r",
        "Loading data for meter"
       ]
      },
      {
       "output_type": "stream",
       "stream": "stdout",
       "text": [
        " MeterGroupID(meters=(ElecMeterID(instance=24, building=1, dataset='UK-DALE'), ElecMeterID(instance=44, building=1, dataset='UK-DALE'), ElecMeterID(instance=48, building=1, dataset='UK-DALE'), ElecMeterID(instance=31, building=1, dataset='UK-DALE'), ElecMeterID(instance=35, building=1, dataset='UK-DALE'), ElecMeterID(instance=23, building=1, dataset='UK-DALE'), ElecMeterID(instance=29, building=1, dataset='UK-DALE'), ElecMeterID(instance=33, building=1, dataset='UK-DALE'), ElecMeterID(instance=26, building=1, dataset='UK-DALE'), ElecMeterID(instance=50, building=1, dataset='UK-DALE'), ElecMeterID(instance=19, building=1, dataset='UK-DALE'), ElecMeterID(instance=25, building=1, dataset='UK-DALE'), ElecMeterID(instance=45, building=1, dataset='UK-DALE'), ElecMeterID(instance=49, building=1, dataset='UK-DALE')))     "
       ]
      },
      {
       "output_type": "stream",
       "stream": "stdout",
       "text": [
        "\r",
        "Loading data for meter ElecMeterID(instance=24, building=1, dataset='UK-DALE')     "
       ]
      },
      {
       "output_type": "stream",
       "stream": "stdout",
       "text": [
        "\r",
        "Loading data for meter ElecMeterID(instance=44, building=1, dataset='UK-DALE')     "
       ]
      },
      {
       "output_type": "stream",
       "stream": "stdout",
       "text": [
        "\r",
        "Loading data for meter ElecMeterID(instance=48, building=1, dataset='UK-DALE')     "
       ]
      },
      {
       "output_type": "stream",
       "stream": "stdout",
       "text": [
        "\r",
        "Loading data for meter ElecMeterID(instance=31, building=1, dataset='UK-DALE')     "
       ]
      },
      {
       "output_type": "stream",
       "stream": "stdout",
       "text": [
        "\r",
        "Loading data for meter ElecMeterID(instance=35, building=1, dataset='UK-DALE')     "
       ]
      },
      {
       "output_type": "stream",
       "stream": "stdout",
       "text": [
        "\r",
        "Loading data for meter ElecMeterID(instance=23, building=1, dataset='UK-DALE')     "
       ]
      },
      {
       "output_type": "stream",
       "stream": "stdout",
       "text": [
        "\r",
        "Loading data for meter ElecMeterID(instance=29, building=1, dataset='UK-DALE')     "
       ]
      },
      {
       "output_type": "stream",
       "stream": "stdout",
       "text": [
        "\r",
        "Loading data for meter ElecMeterID(instance=33, building=1, dataset='UK-DALE')     "
       ]
      },
      {
       "output_type": "stream",
       "stream": "stdout",
       "text": [
        "\r",
        "Loading data for meter ElecMeterID(instance=26, building=1, dataset='UK-DALE')     "
       ]
      },
      {
       "output_type": "stream",
       "stream": "stdout",
       "text": [
        "\r",
        "Loading data for meter ElecMeterID(instance=50, building=1, dataset='UK-DALE')     "
       ]
      },
      {
       "output_type": "stream",
       "stream": "stdout",
       "text": [
        "\r",
        "Loading data for meter ElecMeterID(instance=19, building=1, dataset='UK-DALE')     "
       ]
      },
      {
       "output_type": "stream",
       "stream": "stdout",
       "text": [
        "\r",
        "Loading data for meter ElecMeterID(instance=25, building=1, dataset='UK-DALE')     "
       ]
      },
      {
       "output_type": "stream",
       "stream": "stdout",
       "text": [
        "\r",
        "Loading data for meter ElecMeterID(instance=45, building=1, dataset='UK-DALE')     "
       ]
      },
      {
       "output_type": "stream",
       "stream": "stdout",
       "text": [
        "\r",
        "Loading data for meter ElecMeterID(instance=49, building=1, dataset='UK-DALE')     "
       ]
      },
      {
       "output_type": "stream",
       "stream": "stdout",
       "text": [
        "\n",
        "Done loading data all meters for this chunk.\n",
        "\r",
        "Loading data for meter"
       ]
      },
      {
       "output_type": "stream",
       "stream": "stdout",
       "text": [
        " MeterGroupID(meters=(ElecMeterID(instance=41, building=1, dataset='UK-DALE'),))     "
       ]
      },
      {
       "output_type": "stream",
       "stream": "stdout",
       "text": [
        "\r",
        "Loading data for meter ElecMeterID(instance=41, building=1, dataset='UK-DALE')     "
       ]
      },
      {
       "output_type": "stream",
       "stream": "stdout",
       "text": [
        "\n",
        "Done loading data all meters for this chunk.\n",
        "\r",
        "Loading data for meter"
       ]
      },
      {
       "output_type": "stream",
       "stream": "stdout",
       "text": [
        " MeterGroupID(meters=(ElecMeterID(instance=28, building=1, dataset='UK-DALE'),))     "
       ]
      },
      {
       "output_type": "stream",
       "stream": "stdout",
       "text": [
        "\r",
        "Loading data for meter ElecMeterID(instance=28, building=1, dataset='UK-DALE')     "
       ]
      },
      {
       "output_type": "stream",
       "stream": "stdout",
       "text": [
        "\n",
        "Done loading data all meters for this chunk.\n",
        "\r",
        "Loading data for meter"
       ]
      },
      {
       "output_type": "stream",
       "stream": "stdout",
       "text": [
        " MeterGroupID(meters=(ElecMeterID(instance=51, building=1, dataset='UK-DALE'),))     "
       ]
      },
      {
       "output_type": "stream",
       "stream": "stdout",
       "text": [
        "\r",
        "Loading data for meter ElecMeterID(instance=51, building=1, dataset='UK-DALE')     "
       ]
      },
      {
       "output_type": "stream",
       "stream": "stdout",
       "text": [
        "\n",
        "Done loading data all meters for this chunk.\n",
        "\r",
        "Loading data for meter"
       ]
      },
      {
       "output_type": "stream",
       "stream": "stdout",
       "text": [
        " MeterGroupID(meters=(ElecMeterID(instance=18, building=1, dataset='UK-DALE'),))     "
       ]
      },
      {
       "output_type": "stream",
       "stream": "stdout",
       "text": [
        "\r",
        "Loading data for meter ElecMeterID(instance=18, building=1, dataset='UK-DALE')     "
       ]
      },
      {
       "output_type": "stream",
       "stream": "stdout",
       "text": [
        "\n",
        "Done loading data all meters for this chunk.\n",
        "\r",
        "Loading data for meter"
       ]
      },
      {
       "output_type": "stream",
       "stream": "stdout",
       "text": [
        " MeterGroupID(meters=(ElecMeterID(instance=21, building=1, dataset='UK-DALE'),))     "
       ]
      },
      {
       "output_type": "stream",
       "stream": "stdout",
       "text": [
        "\r",
        "Loading data for meter ElecMeterID(instance=21, building=1, dataset='UK-DALE')     "
       ]
      },
      {
       "output_type": "stream",
       "stream": "stdout",
       "text": [
        "\n",
        "Done loading data all meters for this chunk.\n",
        "\r",
        "Loading data for meter"
       ]
      },
      {
       "output_type": "stream",
       "stream": "stdout",
       "text": [
        " MeterGroupID(meters=(ElecMeterID(instance=11, building=1, dataset='UK-DALE'),))     "
       ]
      },
      {
       "output_type": "stream",
       "stream": "stdout",
       "text": [
        "\r",
        "Loading data for meter ElecMeterID(instance=11, building=1, dataset='UK-DALE')     "
       ]
      },
      {
       "output_type": "stream",
       "stream": "stdout",
       "text": [
        "\n",
        "Done loading data all meters for this chunk.\n",
        "\r",
        "Loading data for meter"
       ]
      },
      {
       "output_type": "stream",
       "stream": "stdout",
       "text": [
        " MeterGroupID(meters=(ElecMeterID(instance=14, building=1, dataset='UK-DALE'),))     "
       ]
      },
      {
       "output_type": "stream",
       "stream": "stdout",
       "text": [
        "\r",
        "Loading data for meter ElecMeterID(instance=14, building=1, dataset='UK-DALE')     "
       ]
      },
      {
       "output_type": "stream",
       "stream": "stdout",
       "text": [
        "\n",
        "Done loading data all meters for this chunk.\n",
        "\r",
        "Loading data for meter"
       ]
      },
      {
       "output_type": "stream",
       "stream": "stdout",
       "text": [
        " MeterGroupID(meters=(ElecMeterID(instance=36, building=1, dataset='UK-DALE'),))     "
       ]
      },
      {
       "output_type": "stream",
       "stream": "stdout",
       "text": [
        "\r",
        "Loading data for meter ElecMeterID(instance=36, building=1, dataset='UK-DALE')     "
       ]
      },
      {
       "output_type": "stream",
       "stream": "stdout",
       "text": [
        "\n",
        "Done loading data all meters for this chunk.\n",
        "\n"
       ]
      },
      {
       "output_type": "stream",
       "stream": "stdout",
       "text": [
        "Done loading data all meters for this chunk.\n"
       ]
      },
      {
       "output_type": "stream",
       "stream": "stderr",
       "text": [
        "/usr/local/lib/python2.7/dist-packages/matplotlib/font_manager.py:1279: UserWarning: findfont: Font family [u'Arial'] not found. Falling back to Bitstream Vera Sans\n",
        "  (prop.get_family(), self.defaultFamily[fontext]))\n"
       ]
      },
      {
       "metadata": {},
       "output_type": "display_data",
       "png": "[encoded data removed]",
       "text": [
        "<matplotlib.figure.Figure at 0x7ff3e9f90a10>"
       ]
      }
     ],
     "prompt_number": 5
    },
    {
     "cell_type": "heading",
     "level": 2,
     "metadata": {},
     "source": [
      " Stacked bars showing breakdown of energy used by top-k appliances"
     ]
    },
    {
     "cell_type": "code",
     "collapsed": false,
     "input": [
      "top_k_no_remainder = MeterGroup(top_k.meters[:-1])"
     ],
     "language": "python",
     "metadata": {},
     "outputs": [],
     "prompt_number": 6
    },
    {
     "cell_type": "code",
     "collapsed": false,
     "input": [
      "energy = top_k_no_remainder.energy_per_meter(mains=elec.mains(), per_period='D', use_appliance_labels=True)"
     ],
     "language": "python",
     "metadata": {},
     "outputs": [
      {
       "output_type": "stream",
       "stream": "stdout",
       "text": [
        "\r",
        "1/5 MeterGroup(meters=\n",
        "  ElecMeter(instance=12, building=1, dataset='UK-DALE', appliances=[Appliance(type='fridge freezer', instance=1)])\n",
        ")"
       ]
      },
      {
       "output_type": "stream",
       "stream": "stdout",
       "text": [
        "\r",
        "Calculating total_energy for ElecMeterID(instance=12, building=1, dataset='UK-DALE') ...   "
       ]
      },
      {
       "output_type": "stream",
       "stream": "stdout",
       "text": [
        "\r",
        "2/5 MeterGroup(meters=\n",
        "  ElecMeter(instance=43, building=1, dataset='UK-DALE', appliances=[Appliance(type='computer', instance=1), Appliance(type='external hard disk', instance=1)])\n",
        ")"
       ]
      },
      {
       "output_type": "stream",
       "stream": "stdout",
       "text": [
        "\r",
        "Calculating total_energy for ElecMeterID(instance=43, building=1, dataset='UK-DALE') ...   "
       ]
      },
      {
       "output_type": "stream",
       "stream": "stdout",
       "text": [
        "\r",
        "3/5 MeterGroup(meters=\n",
        "  ElecMeter(instance=2, building=1, dataset='UK-DALE', appliances=[Appliance(type='boiler', instance=1)])\n",
        ")"
       ]
      },
      {
       "output_type": "stream",
       "stream": "stdout",
       "text": [
        "\r",
        "Calculating total_energy for ElecMeterID(instance=2, building=1, dataset='UK-DALE') ...   "
       ]
      },
      {
       "output_type": "stream",
       "stream": "stdout",
       "text": [
        "\r",
        "4/5 MeterGroup(meters=\n",
        "  ElecMeter(instance=9, building=1, dataset='UK-DALE', appliances=[Appliance(type='HTPC', instance=1)])\n",
        ")"
       ]
      },
      {
       "output_type": "stream",
       "stream": "stdout",
       "text": [
        "\r",
        "Calculating total_energy for ElecMeterID(instance=9, building=1, dataset='UK-DALE') ...   "
       ]
      },
      {
       "output_type": "stream",
       "stream": "stdout",
       "text": [
        "\r",
        "5/5 MeterGroup(meters=\n",
        "  ElecMeter(instance=3, building=1, dataset='UK-DALE', appliances=[Appliance(type='solar thermal pumping station', instance=1)])\n",
        ")"
       ]
      },
      {
       "output_type": "stream",
       "stream": "stdout",
       "text": [
        "\r",
        "Calculating total_energy for ElecMeterID(instance=3, building=1, dataset='UK-DALE') ...   "
       ]
      }
     ],
     "prompt_number": 7
    },
    {
     "cell_type": "code",
     "collapsed": false,
     "input": [
      "energy.index = capitalise_index(energy.index)\n",
      "energy.sort(ascending=False)\n",
      "energy"
     ],
     "language": "python",
     "metadata": {},
     "outputs": [
      {
       "metadata": {},
       "output_type": "pyout",
       "prompt_number": 8,
       "text": [
        "Fridge freezer                   0.586379\n",
        "Computer                         0.310027\n",
        "Solar thermal pumping station    0.238133\n",
        "Boiler                           0.220909\n",
        "HTPC                             0.186004\n",
        "Remainder                       -0.908966\n",
        "dtype: float64"
       ]
      }
     ],
     "prompt_number": 8
    },
    {
     "cell_type": "code",
     "collapsed": false,
     "input": [
      "ax = pd.DataFrame(energy).T.plot(kind='bar', stacked=True, grid=True,\n",
      "                                 edgecolor=\"none\", legend=False, figsize=(4,6))\n",
      "ax.set_xticks([])\n",
      "ax.set_ylabel('kWh', rotation=0, ha='right', va='center', labelpad=15)\n",
      "ax.set_title('Average energy per day\\nfor top 5 appliances')\n",
      "\n",
      "text_ys = energy.cumsum() - energy.cumsum().diff().fillna(energy['Remainder']) / 2\n",
      "for label, y in text_ys.iteritems():\n",
      "    ax.annotate(label, (0, y), horizontalalignment='center', verticalalignment='center', color='white', size=13)\n",
      "    \n",
      "sns.despine(ax=ax, bottom=True, left=True)"
     ],
     "language": "python",
     "metadata": {},
     "outputs": [
      {
       "metadata": {},
       "output_type": "display_data",
       "png": "[encoded data removed]",
       "text": [
        "<matplotlib.figure.Figure at 0x7ff3e9c76910>"
       ]
      }
     ],
     "prompt_number": 9
    },
    {
     "cell_type": "heading",
     "level": 2,
     "metadata": {},
     "source": [
      "Time periods where each house has valid recordings"
     ]
    },
    {
     "cell_type": "code",
     "collapsed": false,
     "input": [
      "ax = dataset.plot_good_sections()\n",
      "# TODO: I do want tick marks!"
     ],
     "language": "python",
     "metadata": {},
     "outputs": [
      {
       "output_type": "stream",
       "stream": "stderr",
       "text": [
        "/usr/local/lib/python2.7/dist-packages/matplotlib/font_manager.py:1279: UserWarning: findfont: Font family [u'Arial'] not found. Falling back to Bitstream Vera Sans\n",
        "  (prop.get_family(), self.defaultFamily[fontext]))\n"
       ]
      },
      {
       "metadata": {},
       "output_type": "display_data",
       "png": "[encoded data removed]",
       "text": [
        "<matplotlib.figure.Figure at 0x7f754c81a5d0>"
       ]
      }
     ],
     "prompt_number": 4
    },
    {
     "cell_type": "heading",
     "level": 2,
     "metadata": {},
     "source": [
      "Histograms of mains power"
     ]
    },
    {
     "cell_type": "code",
     "collapsed": false,
     "input": [
      "dataset.plot_mains_power_histograms(bins=300, range=(0,3000))"
     ],
     "language": "python",
     "metadata": {},
     "outputs": [
      {
       "metadata": {},
       "output_type": "pyout",
       "prompt_number": 3,
       "text": [
        "array([<matplotlib.axes._subplots.AxesSubplot object at 0x7f1890231b90>,\n",
        "       <matplotlib.axes._subplots.AxesSubplot object at 0x7f185440de10>,\n",
        "       <matplotlib.axes._subplots.AxesSubplot object at 0x7f185439e950>,\n",
        "       <matplotlib.axes._subplots.AxesSubplot object at 0x7f18543247d0>,\n",
        "       <matplotlib.axes._subplots.AxesSubplot object at 0x7f1854287690>], dtype=object)"
       ]
      },
      {
       "output_type": "stream",
       "stream": "stderr",
       "text": [
        "/usr/local/lib/python2.7/dist-packages/matplotlib/font_manager.py:1279: UserWarning: findfont: Font family [u'Arial'] not found. Falling back to Bitstream Vera Sans\n",
        "  (prop.get_family(), self.defaultFamily[fontext]))\n"
       ]
      },
      {
       "metadata": {},
       "output_type": "display_data",
       "png": "[encoded data removed]",
       "text": [
        "<matplotlib.figure.Figure at 0x7f1890231550>"
       ]
      }
     ],
     "prompt_number": 3
    },
    {
     "cell_type": "heading",
     "level": 2,
     "metadata": {},
     "source": [
      "Usage histogram"
     ]
    },
    {
     "cell_type": "code",
     "collapsed": false,
     "input": [
      "ax = elec['toaster'].plot_activity_histogram()"
     ],
     "language": "python",
     "metadata": {},
     "outputs": [
      {
       "output_type": "stream",
       "stream": "stderr",
       "text": [
        "/usr/local/lib/python2.7/dist-packages/matplotlib/font_manager.py:1279: UserWarning: findfont: Font family [u'Arial'] not found. Falling back to Bitstream Vera Sans\n",
        "  (prop.get_family(), self.defaultFamily[fontext]))\n"
       ]
      },
      {
       "metadata": {},
       "output_type": "display_data",
       "png": "[encoded data removed]",
       "text": [
        "<matplotlib.figure.Figure at 0x7ff0b95b0510>"
       ]
      }
     ],
     "prompt_number": 3
    },
    {
     "cell_type": "heading",
     "level": 2,
     "metadata": {},
     "source": [
      "Comparison with utility meter"
     ]
    },
    {
     "cell_type": "markdown",
     "metadata": {},
     "source": [
      "We use a time period when the sound card power meter was operational for (almost) the entire time period and for which we have precise utility meter readings.  (all electricity and gas utility meter readings for house 1 are available online.  See the [UK-DALE webpage](http://www.doc.ic.ac.uk/~dk3810/data) for details)"
     ]
    },
    {
     "cell_type": "code",
     "collapsed": false,
     "input": [
      "section = TimeFrame(\"2013-05-22 20:36:00\", \"2014-11-28 08:55:00\", tz=TZ)"
     ],
     "language": "python",
     "metadata": {},
     "outputs": [],
     "prompt_number": 15
    },
    {
     "cell_type": "code",
     "collapsed": false,
     "input": [
      "total_energy = elec.mains().total_energy(sections=[section])"
     ],
     "language": "python",
     "metadata": {},
     "outputs": [
      {
       "output_type": "stream",
       "stream": "stderr",
       "text": [
        "/home/jack/workspace/python/nilmtk/nilmtk/preprocessing/clip.py:50: RuntimeWarning: No measurement limits for ('voltage', '').\n",
        "  warn('No measurement limits for {}.'.format(measurement), RuntimeWarning)\n"
       ]
      }
     ],
     "prompt_number": 16
    },
    {
     "cell_type": "code",
     "collapsed": false,
     "input": [
      "total_energy_from_utility = 53354.50 - 49323.90\n",
      "abs_difference = total_energy['active'] - total_energy_from_utility\n",
      "relative_error = abs_difference / total_energy['active']"
     ],
     "language": "python",
     "metadata": {},
     "outputs": [],
     "prompt_number": 33
    },
    {
     "cell_type": "code",
     "collapsed": false,
     "input": [
      "print(\"Total energy measured by utility meter ={:8.2f} kWh\".format(total_energy_from_utility))\n",
      "print(\"Total (active) energy measured by SCPM ={:8.2f} kWh\".format(total_energy['active']))\n",
      "print(\"                   Absolute difference ={:8.2f} kWh\".format(abs_difference))\n",
      "print(\"                        Relative error = {:8.2%}\".format(relative_error))\n",
      "print(\"                                uptime =\", section.timedelta)"
     ],
     "language": "python",
     "metadata": {},
     "outputs": [
      {
       "output_type": "stream",
       "stream": "stdout",
       "text": [
        "Total energy measured by utility meter = 4030.60 kWh\n",
        "Total (active) energy measured by SCPM = 4142.93 kWh\n",
        "                   Absolute difference =  112.33 kWh\n",
        "                        Relative error =    2.71%\n"
       ]
      }
     ],
     "prompt_number": 35
    },
    {
     "cell_type": "heading",
     "level": 2,
     "metadata": {},
     "source": [
      "Comparison between SCPM and Current Cost site meters for each house"
     ]
    },
    {
     "cell_type": "code",
     "collapsed": false,
     "input": [
      "# dataset.set_window(\"2013-04-01\", \"2013-05-01\") \n",
      "dataset.set_window(None, None) \n",
      "\n",
      "for house_instance in [1,2,5]:\n",
      "    house_elec = dataset.buildings[house_instance].elec\n",
      "    scpm = house_elec.mains()\n",
      "    cc = house_elec.disabled_meters[0]\n",
      "\n",
      "    scpm_good_sections = scpm.good_sections()\n",
      "    cc_good_sections = cc.good_sections()\n",
      "    intersection = scpm_good_sections.intersection(cc_good_sections)\n",
      "    \n",
      "    scpm_energy = scpm.total_energy(sections=intersection, ac_type='apparent')['apparent']\n",
      "    cc_energy = cc.total_energy(sections=intersection)['apparent']\n",
      "    \n",
      "    abs_difference = abs(scpm_energy - cc_energy)\n",
      "    relative_error = abs_difference / max(scpm_energy, cc_energy)\n",
      "    \n",
      "    print(\"******************** House {} **********************\".format(house_instance))\n",
      "    print(\"   Total energy measured by Current Cost ={:8.2f} kWh\".format(cc_energy))\n",
      "    print(\"Total (apparent) energy measured by SCPM ={:8.2f} kWh\".format(scpm_energy))\n",
      "    print(\"                     Absolute difference ={:8.2f} kWh\".format(abs_difference))\n",
      "    print(\"                          Relative error = {:8.2%}\".format(relative_error))\n",
      "    print(\"                     intersection uptime =\", intersection.uptime())\n",
      "    print()"
     ],
     "language": "python",
     "metadata": {},
     "outputs": [
      {
       "output_type": "stream",
       "stream": "stdout",
       "text": [
        "******************** House 1 **********************\n",
        "   Total energy measured by Current Cost = 5569.24 kWh\n",
        "Total (apparent) energy measured by SCPM = 5670.64 kWh\n",
        "                     Absolute difference =  101.40 kWh\n",
        "                          Relative error =    1.79%\n",
        "                     intersection uptime = 637 days 11:31:17.200000\n",
        "******************** House 2 **********************"
       ]
      },
      {
       "output_type": "stream",
       "stream": "stdout",
       "text": [
        "\n",
        "   Total energy measured by Current Cost =  996.89 kWh\n",
        "Total (apparent) energy measured by SCPM = 1075.37 kWh\n",
        "                     Absolute difference =   78.49 kWh\n",
        "                          Relative error =    7.30%\n",
        "                     intersection uptime = 134 days 03:52:55\n",
        "******************** House 5 **********************"
       ]
      },
      {
       "output_type": "stream",
       "stream": "stdout",
       "text": [
        "\n",
        "   Total energy measured by Current Cost = 2176.92 kWh\n",
        "Total (apparent) energy measured by SCPM = 2308.00 kWh\n",
        "                     Absolute difference =  131.09 kWh\n",
        "                          Relative error =    5.68%\n",
        "                     intersection uptime = 131 days 17:15:18.500000\n"
       ]
      }
     ],
     "prompt_number": 3
    },
    {
     "cell_type": "heading",
     "level": 2,
     "metadata": {},
     "source": [
      "Appliance power histograms"
     ]
    },
    {
     "cell_type": "code",
     "collapsed": false,
     "input": [
      "fig, axes = plt.subplots(2, 2)\n",
      "meter_keys = ['fridge freezer', 'kettle', 'toaster', 'vacuum cleaner']\n",
      "kwargs_per_meter = {'range': [(  10,  110), (2150, 2500), \n",
      "                              (1450, 1650), (None, 2200)]}\n",
      "axes = elec.plot_multiple(axes, meter_keys, 'plot_power_histogram', kwargs_per_meter, bins=20)"
     ],
     "language": "python",
     "metadata": {},
     "outputs": [
      {
       "metadata": {},
       "output_type": "display_data",
       "png": "[encoded data removed]",
       "text": [
        "<matplotlib.figure.Figure at 0x7faa39a75fd0>"
       ]
      }
     ],
     "prompt_number": 15
    },
    {
     "cell_type": "heading",
     "level": 2,
     "metadata": {},
     "source": [
      "Plot activity histograms"
     ]
    },
    {
     "cell_type": "code",
     "collapsed": false,
     "input": [
      "fig, axes = plt.subplots(2, 2)\n",
      "meter_keys = ['fridge freezer', 'kettle', 'toaster', 'vacuum cleaner']\n",
      "axes = elec.plot_multiple(axes, meter_keys, 'plot_activity_histogram')"
     ],
     "language": "python",
     "metadata": {},
     "outputs": [
      {
       "metadata": {},
       "output_type": "display_data",
       "png": "[encoded data removed]",
       "text": [
        "<matplotlib.figure.Figure at 0x7faa381cab10>"
       ]
      }
     ],
     "prompt_number": 14
    },
    {
     "cell_type": "code",
     "collapsed": false,
     "input": [
      "from nilmtk import ElecMeter\n",
      "ElecMeter.load_meter_devices(dataset.store)"
     ],
     "language": "python",
     "metadata": {},
     "outputs": [],
     "prompt_number": 12
    },
    {
     "cell_type": "code",
     "collapsed": false,
     "input": [
      "elec['kettle'].dominant_appliance().identifier.type"
     ],
     "language": "python",
     "metadata": {},
     "outputs": [
      {
       "metadata": {},
       "output_type": "pyout",
       "prompt_number": 7,
       "text": [
        "'kettle'"
       ]
      }
     ],
     "prompt_number": 7
    },
    {
     "cell_type": "code",
     "collapsed": false,
     "input": [],
     "language": "python",
     "metadata": {},
     "outputs": []
    }
   ],
   "metadata": {}
  }
 ]
}