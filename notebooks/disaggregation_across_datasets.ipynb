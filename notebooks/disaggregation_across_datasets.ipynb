{
 "metadata": {
  "name": ""
 },
 "nbformat": 3,
 "nbformat_minor": 0,
 "worksheets": [
  {
   "cells": [
    {
     "cell_type": "code",
     "collapsed": false,
     "input": [
      "%matplotlib inline"
     ],
     "language": "python",
     "metadata": {},
     "outputs": [],
     "prompt_number": 1
    },
    {
     "cell_type": "code",
     "collapsed": false,
     "input": [
      "from __future__ import print_function\n",
      "from nilmtk.dataset import DataSet\n",
      "from nilmtk.cross_validation import train_test_split\n",
      "from nilmtk.disaggregate.fhmm_exact import FHMM\n",
      "from nilmtk.disaggregate.co_1d import CO_1d\n",
      "from nilmtk.metrics import rms_error_power\n",
      "from nilmtk.metrics import mean_normalized_error_power, fraction_energy_assigned_correctly, f_score\n",
      "from nilmtk.sensors.electricity import Measurement\n",
      "from nilmtk.stats.electricity.building import top_k_appliances\n",
      "from nilmtk.stats.electricity.building import find_appliances_contribution\n",
      "import nilmtk.preprocessing.electricity.building as prepb\n",
      "from nilmtk.dataset import DataSet\n",
      "from copy import deepcopy\n",
      "import time\n",
      "import pandas as pd\n",
      "import numpy as np\n",
      "import matplotlib.pyplot as plt\n",
      "import resource\n",
      "import os"
     ],
     "language": "python",
     "metadata": {},
     "outputs": [],
     "prompt_number": 243
    },
    {
     "cell_type": "markdown",
     "metadata": {},
     "source": [
      "Setting 5 GB memory usage as upper limit"
     ]
    },
    {
     "cell_type": "code",
     "collapsed": false,
     "input": [
      "# Setting the limits to 5 GB RAM usage\n",
      "megs = 5000\n",
      "resource.setrlimit(resource.RLIMIT_AS, (megs * 1048576L, -1L))"
     ],
     "language": "python",
     "metadata": {},
     "outputs": [],
     "prompt_number": 244
    },
    {
     "cell_type": "code",
     "collapsed": false,
     "input": [
      "import warnings\n",
      "warnings.filterwarnings('ignore')"
     ],
     "language": "python",
     "metadata": {},
     "outputs": [],
     "prompt_number": 245
    },
    {
     "cell_type": "code",
     "collapsed": false,
     "input": [
      "dataset_names=[\"redd/low_freq\",\"iawe\",\"ampds\",\"pecan_1min\"]\n",
      "#dataset_names=[\"redd/low_freq\",\"iawe\"]\n",
      "#dataset_names=['pecan_1min']"
     ],
     "language": "python",
     "metadata": {},
     "outputs": [],
     "prompt_number": 375
    },
    {
     "cell_type": "code",
     "collapsed": false,
     "input": [
      "metrics=['mne','fraction','f_score']"
     ],
     "language": "python",
     "metadata": {},
     "outputs": [],
     "prompt_number": 376
    },
    {
     "cell_type": "code",
     "collapsed": false,
     "input": [
      "base_path=\"/home/nipun/Dropbox/nilmtk_datasets/\""
     ],
     "language": "python",
     "metadata": {},
     "outputs": [],
     "prompt_number": 377
    },
    {
     "cell_type": "code",
     "collapsed": false,
     "input": [
      "DISAGG_FEATURE = Measurement('power', 'active')"
     ],
     "language": "python",
     "metadata": {},
     "outputs": [],
     "prompt_number": 378
    },
    {
     "cell_type": "code",
     "collapsed": false,
     "input": [
      "disaggregators={}\n",
      "disaggregators['fhmm']=FHMM()\n",
      "disaggregators['co']=CO_1d()"
     ],
     "language": "python",
     "metadata": {},
     "outputs": [],
     "prompt_number": 379
    },
    {
     "cell_type": "code",
     "collapsed": false,
     "input": [
      "metric_function={'mne':mean_normalized_error_power,\n",
      "                 'fraction':fraction_energy_assigned_correctly,\n",
      "                 'f_score':f_score\n",
      "                 }"
     ],
     "language": "python",
     "metadata": {},
     "outputs": [],
     "prompt_number": 380
    },
    {
     "cell_type": "code",
     "collapsed": false,
     "input": [
      "train_time={}\n",
      "disaggregate_time={}\n",
      "results={}\n",
      "\n",
      "for dataset in dataset_names:\n",
      "    train_time[dataset]={}\n",
      "    disaggregate_time[dataset]={}\n",
      "    results[dataset]={}\n",
      "    for algorithm in ['fhmm','co']:\n",
      "        train_time[dataset][algorithm]={}\n",
      "        disaggregate_time[dataset][algorithm]={}\n",
      "        results[dataset][algorithm]={}\n",
      "    for metric in metrics:\n",
      "        results[dataset][algorithm][metric]={}  "
     ],
     "language": "python",
     "metadata": {},
     "outputs": [],
     "prompt_number": 381
    },
    {
     "cell_type": "markdown",
     "metadata": {},
     "source": [
      "Pre-processing routines for dataset (some are optional)"
     ]
    },
    {
     "cell_type": "code",
     "collapsed": false,
     "input": [
      "def preprocess_iawe(building):\n",
      "    building.utility.electric = building.utility.electric.sum_split_supplies()\n",
      "    building = prepb.filter_out_implausible_values(building, Measurement('voltage', ''), 160, 260)\n",
      "    building = prepb.filter_datetime(building, '7-13-2013', '8-4-2013')\n",
      "    building = prepb.downsample(building, rule='1T')\n",
      "    building = prepb.fill_appliance_gaps(building)\n",
      "    building = prepb.prepend_append_zeros(\n",
      "    building, '7-13-2013', '8-4-2013', '1T', 'Asia/Kolkata')\n",
      "    building = prepb.drop_missing_mains(building)\n",
      "    building = prepb.make_common_index(building)\n",
      "    building = prepb.filter_contribution_less_than_x(building, x=5)    \n",
      "    return building\n",
      "\n",
      "def preprocess_redd(building):\n",
      "    building.utility.electric = building.utility.electric.sum_split_supplies()\n",
      "    building = prepb.downsample(building, rule='1T')\n",
      "    building = prepb.fill_appliance_gaps(building)\n",
      "    building = prepb.drop_missing_mains(building)\n",
      "    building = prepb.make_common_index(building)\n",
      "    building.utility.electric.mains[(1,1)].rename(columns={Measurement('power','apparent'): Measurement('power','active')}, inplace=True)\n",
      "    building = prepb.filter_contribution_less_than_x(building, x=5)\n",
      "   \n",
      "    return building\n",
      "\n",
      "def preprocess_ampds(building):\n",
      "    building = prepb.filter_contribution_less_than_x(building, x=5)\n",
      "    return building\n",
      "\n",
      "def preprocess_pecan(building):\n",
      "    building = prepb.filter_contribution_less_than_x(building, x=5)\n",
      "    return building\n",
      "\n",
      "preprocess_map={'iawe':preprocess_iawe, 'redd/low_freq':preprocess_redd, \n",
      "                'ampds':preprocess_ampds, 'pecan_1min':preprocess_pecan}"
     ],
     "language": "python",
     "metadata": {},
     "outputs": [],
     "prompt_number": 382
    },
    {
     "cell_type": "code",
     "collapsed": false,
     "input": [
      "for dataset_name in dataset_names:\n",
      "    print(\"*\"*80)\n",
      "    print(\"Loading {}\".format(dataset_name))\n",
      "    dataset =DataSet()\n",
      "    dataset.load_hdf5(os.path.join(base_path, dataset_name))\n",
      "    print(\"Loaded {}\".format(dataset_name))\n",
      "    building = dataset.buildings[1]\n",
      "    print(\"Preprocessing building #1\")    \n",
      "    building = preprocess_map[dataset_name](building)\n",
      "    print(\"Number of appliance left = {}\".format(len(building.utility.electric.appliances.keys()))) \n",
      "    print(\"Dividing data into test and train\")\n",
      "    train, test = train_test_split(building) \n",
      "    for disaggregator_name, disaggregator in disaggregators.iteritems():   \n",
      "        # Train\n",
      "        t1 = time.time()\n",
      "        disaggregator.train(train, disagg_features=[DISAGG_FEATURE])\n",
      "        t2 = time.time()\n",
      "        print(\"Runtime to train for {} = {:.2f} seconds\".format(disaggregator_name, t2 - t1))\n",
      "        train_time[dataset_name][disaggregator_name]=t2-t1\n",
      "    \n",
      "        # Disaggregate\n",
      "        t1 = time.time()\n",
      "        disaggregator.disaggregate(test)\n",
      "        t2 = time.time()\n",
      "        print(\"Runtime to disaggregate for {}= {:.2f} seconds\".format(disaggregator_name, t2 - t1))\n",
      "        disaggregate_time[dataset_name][disaggregator_name]=t2-t1   \n",
      "        \n",
      "        # Predicted power and states\n",
      "        predicted_power = disaggregator.predictions\n",
      "        app_ground = test.utility.electric.appliances\n",
      "        ground_truth_power = pd.DataFrame({appliance: app_ground[appliance][DISAGG_FEATURE] for appliance in app_ground})\n",
      "        \n",
      "        for metric in metrics:\n",
      "            results[dataset_name][disaggregator_name][metric] = metric_function[metric](predicted_power, ground_truth_power)    \n",
      "\n",
      "    "
     ],
     "language": "python",
     "metadata": {},
     "outputs": [
      {
       "output_type": "stream",
       "stream": "stdout",
       "text": [
        "********************************************************************************\n",
        "Loading redd/low_freq\n",
        "Loaded redd/low_freq"
       ]
      },
      {
       "output_type": "stream",
       "stream": "stdout",
       "text": [
        "\n",
        "Preprocessing building #1\n",
        "Common Measurement: "
       ]
      },
      {
       "output_type": "stream",
       "stream": "stdout",
       "text": [
        " Measurement(physical_quantity='power', type='active')\n",
        "Number of appliance left = 7\n",
        "Dividing data into test and train\n",
        "Runtime to train for fhmm = 37.46 seconds"
       ]
      },
      {
       "output_type": "stream",
       "stream": "stdout",
       "text": [
        "\n",
        "Runtime to disaggregate for fhmm= 0.56 seconds"
       ]
      },
      {
       "output_type": "stream",
       "stream": "stdout",
       "text": [
        "\n",
        "Runtime to train for co = 4.02 seconds"
       ]
      },
      {
       "output_type": "stream",
       "stream": "stdout",
       "text": [
        "\n",
        "Runtime to disaggregate for co= 0.14 seconds"
       ]
      },
      {
       "output_type": "stream",
       "stream": "stdout",
       "text": [
        "\n",
        "********************************************************************************\n",
        "Loading iawe\n",
        "Loaded iawe"
       ]
      },
      {
       "output_type": "stream",
       "stream": "stdout",
       "text": [
        "\n",
        "Preprocessing building #1\n",
        "DELETING ApplianceName(name='water motor', instance=1)"
       ]
      },
      {
       "output_type": "stream",
       "stream": "stdout",
       "text": [
        "\n",
        "Common Measurement: "
       ]
      },
      {
       "output_type": "stream",
       "stream": "stdout",
       "text": [
        " Measurement(physical_quantity='power', type='active')\n",
        "Number of appliance left = 3\n",
        "Dividing data into test and train\n",
        "Runtime to train for fhmm = 13.76 seconds"
       ]
      },
      {
       "output_type": "stream",
       "stream": "stdout",
       "text": [
        "\n",
        "Runtime to disaggregate for fhmm= 0.19 seconds"
       ]
      },
      {
       "output_type": "stream",
       "stream": "stdout",
       "text": [
        "\n",
        "Runtime to train for co = 2.29 seconds"
       ]
      },
      {
       "output_type": "stream",
       "stream": "stdout",
       "text": [
        "\n",
        "Runtime to disaggregate for co= 0.04 seconds\n",
        "********************************************************************************\n",
        "Loading ampds\n",
        "Loaded ampds"
       ]
      },
      {
       "output_type": "stream",
       "stream": "stdout",
       "text": [
        "\n",
        "Preprocessing building #1\n",
        "Common Measurement:  Measurement(physical_quantity='power', type='active')\n",
        "Number of appliance left = 7"
       ]
      },
      {
       "output_type": "stream",
       "stream": "stdout",
       "text": [
        "\n",
        "Dividing data into test and train\n",
        "Runtime to train for fhmm = 548.59 seconds"
       ]
      },
      {
       "output_type": "stream",
       "stream": "stdout",
       "text": [
        "\n",
        "Runtime to disaggregate for fhmm= 10.39 seconds"
       ]
      },
      {
       "output_type": "stream",
       "stream": "stdout",
       "text": [
        "\n",
        "Runtime to train for co = 6.10 seconds"
       ]
      },
      {
       "output_type": "stream",
       "stream": "stdout",
       "text": [
        "\n",
        "Runtime to disaggregate for co= 2.75 seconds"
       ]
      },
      {
       "output_type": "stream",
       "stream": "stdout",
       "text": [
        "\n",
        "********************************************************************************"
       ]
      },
      {
       "output_type": "stream",
       "stream": "stdout",
       "text": [
        "\n",
        "Loading pecan_1min\n",
        "Loaded pecan_1min"
       ]
      },
      {
       "output_type": "stream",
       "stream": "stdout",
       "text": [
        "\n",
        "Preprocessing building #1\n",
        "Common Measurement:  Measurement(physical_quantity='power', type='active')\n",
        "Number of appliance left = 2\n",
        "Dividing data into test and train\n",
        "Runtime to train for fhmm = 4.23 seconds"
       ]
      },
      {
       "output_type": "stream",
       "stream": "stdout",
       "text": [
        "\n",
        "Runtime to disaggregate for fhmm= 0.06 seconds"
       ]
      },
      {
       "output_type": "stream",
       "stream": "stdout",
       "text": [
        "\n",
        "Runtime to train for co = 1.74 seconds"
       ]
      },
      {
       "output_type": "stream",
       "stream": "stdout",
       "text": [
        "\n",
        "Runtime to disaggregate for co= 0.01 seconds\n"
       ]
      }
     ],
     "prompt_number": 383
    },
    {
     "cell_type": "code",
     "collapsed": false,
     "input": [
      "pd.DataFrame(train_time).T"
     ],
     "language": "python",
     "metadata": {},
     "outputs": [
      {
       "html": [
        "<div style=\"max-height:1000px;max-width:1500px;overflow:auto;\">\n",
        "<table border=\"1\" class=\"dataframe\">\n",
        "  <thead>\n",
        "    <tr style=\"text-align: right;\">\n",
        "      <th></th>\n",
        "      <th>co</th>\n",
        "      <th>fhmm</th>\n",
        "    </tr>\n",
        "  </thead>\n",
        "  <tbody>\n",
        "    <tr>\n",
        "      <th>ampds</th>\n",
        "      <td> 6.100790</td>\n",
        "      <td> 548.592652</td>\n",
        "    </tr>\n",
        "    <tr>\n",
        "      <th>iawe</th>\n",
        "      <td> 2.291209</td>\n",
        "      <td>  13.762155</td>\n",
        "    </tr>\n",
        "    <tr>\n",
        "      <th>pecan_1min</th>\n",
        "      <td> 1.737193</td>\n",
        "      <td>   4.226312</td>\n",
        "    </tr>\n",
        "    <tr>\n",
        "      <th>redd/low_freq</th>\n",
        "      <td> 4.015982</td>\n",
        "      <td>  37.459575</td>\n",
        "    </tr>\n",
        "  </tbody>\n",
        "</table>\n",
        "</div>"
       ],
       "metadata": {},
       "output_type": "pyout",
       "prompt_number": 384,
       "text": [
        "                     co        fhmm\n",
        "ampds          6.100790  548.592652\n",
        "iawe           2.291209   13.762155\n",
        "pecan_1min     1.737193    4.226312\n",
        "redd/low_freq  4.015982   37.459575"
       ]
      }
     ],
     "prompt_number": 384
    },
    {
     "cell_type": "code",
     "collapsed": false,
     "input": [
      "pd.DataFrame(disaggregate_time).T"
     ],
     "language": "python",
     "metadata": {},
     "outputs": [
      {
       "html": [
        "<div style=\"max-height:1000px;max-width:1500px;overflow:auto;\">\n",
        "<table border=\"1\" class=\"dataframe\">\n",
        "  <thead>\n",
        "    <tr style=\"text-align: right;\">\n",
        "      <th></th>\n",
        "      <th>co</th>\n",
        "      <th>fhmm</th>\n",
        "    </tr>\n",
        "  </thead>\n",
        "  <tbody>\n",
        "    <tr>\n",
        "      <th>ampds</th>\n",
        "      <td> 2.747046</td>\n",
        "      <td> 10.390424</td>\n",
        "    </tr>\n",
        "    <tr>\n",
        "      <th>iawe</th>\n",
        "      <td> 0.040712</td>\n",
        "      <td>  0.193603</td>\n",
        "    </tr>\n",
        "    <tr>\n",
        "      <th>pecan_1min</th>\n",
        "      <td> 0.011330</td>\n",
        "      <td>  0.059534</td>\n",
        "    </tr>\n",
        "    <tr>\n",
        "      <th>redd/low_freq</th>\n",
        "      <td> 0.138506</td>\n",
        "      <td>  0.562381</td>\n",
        "    </tr>\n",
        "  </tbody>\n",
        "</table>\n",
        "</div>"
       ],
       "metadata": {},
       "output_type": "pyout",
       "prompt_number": 385,
       "text": [
        "                     co       fhmm\n",
        "ampds          2.747046  10.390424\n",
        "iawe           0.040712   0.193603\n",
        "pecan_1min     0.011330   0.059534\n",
        "redd/low_freq  0.138506   0.562381"
       ]
      }
     ],
     "prompt_number": 385
    },
    {
     "cell_type": "code",
     "collapsed": false,
     "input": [
      "def compute_summary(results):\n",
      "    results = deepcopy(results)\n",
      "    for dataset_name, dataset_vals in results.iteritems():    \n",
      "        for algo_name, algo_vals in dataset_vals.iteritems():\n",
      "            sum_fscore=0.0\n",
      "            count_f = 0\n",
      "            for appliance_fscore in algo_vals['f_score'].values():\n",
      "                sum_fscore+=appliance_fscore\n",
      "                count_f +=1\n",
      "            algo_vals['f_score'] = sum_fscore/count_f\n",
      "            sum_mne=0.0\n",
      "            count_m = 0\n",
      "            for appliance_mne in algo_vals['mne'].values():\n",
      "                sum_mne+=appliance_mne\n",
      "                count_m +=1\n",
      "            algo_vals['mne'] = sum_mne/count_m\n",
      "    return results"
     ],
     "language": "python",
     "metadata": {},
     "outputs": [],
     "prompt_number": 393
    },
    {
     "cell_type": "code",
     "collapsed": false,
     "input": [
      "results_copy = compute_summary(results)"
     ],
     "language": "python",
     "metadata": {},
     "outputs": [],
     "prompt_number": 394
    },
    {
     "cell_type": "code",
     "collapsed": false,
     "input": [
      "tables = {}\n",
      "for dataset_name in dataset_names:\n",
      "    tables[dataset_name] = pd.DataFrame(results_copy[dataset_name])"
     ],
     "language": "python",
     "metadata": {},
     "outputs": [],
     "prompt_number": 395
    },
    {
     "cell_type": "code",
     "collapsed": false,
     "input": [
      "tables['redd/low_freq']"
     ],
     "language": "python",
     "metadata": {},
     "outputs": [
      {
       "html": [
        "<div style=\"max-height:1000px;max-width:1500px;overflow:auto;\">\n",
        "<table border=\"1\" class=\"dataframe\">\n",
        "  <thead>\n",
        "    <tr style=\"text-align: right;\">\n",
        "      <th></th>\n",
        "      <th>co</th>\n",
        "      <th>fhmm</th>\n",
        "    </tr>\n",
        "  </thead>\n",
        "  <tbody>\n",
        "    <tr>\n",
        "      <th>f_score</th>\n",
        "      <td> 0.281704</td>\n",
        "      <td> 0.347589</td>\n",
        "    </tr>\n",
        "    <tr>\n",
        "      <th>fraction</th>\n",
        "      <td> 0.692783</td>\n",
        "      <td> 0.855654</td>\n",
        "    </tr>\n",
        "    <tr>\n",
        "      <th>mne</th>\n",
        "      <td> 1.976518</td>\n",
        "      <td> 1.370802</td>\n",
        "    </tr>\n",
        "  </tbody>\n",
        "</table>\n",
        "</div>"
       ],
       "metadata": {},
       "output_type": "pyout",
       "prompt_number": 396,
       "text": [
        "                co      fhmm\n",
        "f_score   0.281704  0.347589\n",
        "fraction  0.692783  0.855654\n",
        "mne       1.976518  1.370802"
       ]
      }
     ],
     "prompt_number": 396
    },
    {
     "cell_type": "code",
     "collapsed": false,
     "input": [
      "tables['iawe']"
     ],
     "language": "python",
     "metadata": {},
     "outputs": [
      {
       "html": [
        "<div style=\"max-height:1000px;max-width:1500px;overflow:auto;\">\n",
        "<table border=\"1\" class=\"dataframe\">\n",
        "  <thead>\n",
        "    <tr style=\"text-align: right;\">\n",
        "      <th></th>\n",
        "      <th>co</th>\n",
        "      <th>fhmm</th>\n",
        "    </tr>\n",
        "  </thead>\n",
        "  <tbody>\n",
        "    <tr>\n",
        "      <th>f_score</th>\n",
        "      <td> 0.456454</td>\n",
        "      <td> 0.771058</td>\n",
        "    </tr>\n",
        "    <tr>\n",
        "      <th>fraction</th>\n",
        "      <td> 0.717977</td>\n",
        "      <td> 0.820785</td>\n",
        "    </tr>\n",
        "    <tr>\n",
        "      <th>mne</th>\n",
        "      <td> 1.804455</td>\n",
        "      <td> 0.906079</td>\n",
        "    </tr>\n",
        "  </tbody>\n",
        "</table>\n",
        "</div>"
       ],
       "metadata": {},
       "output_type": "pyout",
       "prompt_number": 397,
       "text": [
        "                co      fhmm\n",
        "f_score   0.456454  0.771058\n",
        "fraction  0.717977  0.820785\n",
        "mne       1.804455  0.906079"
       ]
      }
     ],
     "prompt_number": 397
    },
    {
     "cell_type": "code",
     "collapsed": false,
     "input": [
      "tables['ampds']"
     ],
     "language": "python",
     "metadata": {},
     "outputs": [
      {
       "html": [
        "<div style=\"max-height:1000px;max-width:1500px;overflow:auto;\">\n",
        "<table border=\"1\" class=\"dataframe\">\n",
        "  <thead>\n",
        "    <tr style=\"text-align: right;\">\n",
        "      <th></th>\n",
        "      <th>co</th>\n",
        "      <th>fhmm</th>\n",
        "    </tr>\n",
        "  </thead>\n",
        "  <tbody>\n",
        "    <tr>\n",
        "      <th>f_score</th>\n",
        "      <td> 0.528965</td>\n",
        "      <td> 0.708107</td>\n",
        "    </tr>\n",
        "    <tr>\n",
        "      <th>fraction</th>\n",
        "      <td> 0.763217</td>\n",
        "      <td> 0.863589</td>\n",
        "    </tr>\n",
        "    <tr>\n",
        "      <th>mne</th>\n",
        "      <td> 1.435113</td>\n",
        "      <td> 0.894677</td>\n",
        "    </tr>\n",
        "  </tbody>\n",
        "</table>\n",
        "</div>"
       ],
       "metadata": {},
       "output_type": "pyout",
       "prompt_number": 398,
       "text": [
        "                co      fhmm\n",
        "f_score   0.528965  0.708107\n",
        "fraction  0.763217  0.863589\n",
        "mne       1.435113  0.894677"
       ]
      }
     ],
     "prompt_number": 398
    },
    {
     "cell_type": "code",
     "collapsed": false,
     "input": [
      "tables['pecan_1min']"
     ],
     "language": "python",
     "metadata": {},
     "outputs": [
      {
       "html": [
        "<div style=\"max-height:1000px;max-width:1500px;overflow:auto;\">\n",
        "<table border=\"1\" class=\"dataframe\">\n",
        "  <thead>\n",
        "    <tr style=\"text-align: right;\">\n",
        "      <th></th>\n",
        "      <th>co</th>\n",
        "      <th>fhmm</th>\n",
        "    </tr>\n",
        "  </thead>\n",
        "  <tbody>\n",
        "    <tr>\n",
        "      <th>f_score</th>\n",
        "      <td> 0.594181</td>\n",
        "      <td> 0.723877</td>\n",
        "    </tr>\n",
        "    <tr>\n",
        "      <th>fraction</th>\n",
        "      <td> 0.993422</td>\n",
        "      <td> 0.843904</td>\n",
        "    </tr>\n",
        "    <tr>\n",
        "      <th>mne</th>\n",
        "      <td> 0.636501</td>\n",
        "      <td> 0.984177</td>\n",
        "    </tr>\n",
        "  </tbody>\n",
        "</table>\n",
        "</div>"
       ],
       "metadata": {},
       "output_type": "pyout",
       "prompt_number": 399,
       "text": [
        "                co      fhmm\n",
        "f_score   0.594181  0.723877\n",
        "fraction  0.993422  0.843904\n",
        "mne       0.636501  0.984177"
       ]
      }
     ],
     "prompt_number": 399
    }
   ],
   "metadata": {}
  }
 ]
}