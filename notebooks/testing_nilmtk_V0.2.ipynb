{
 "metadata": {
  "name": "",
  "signature": "sha256:137dd496cfe567d3115fd3e36a2c4fc396af2b574846ea8e9d1ce71152a2a09e"
 },
 "nbformat": 3,
 "nbformat_minor": 0,
 "worksheets": [
  {
   "cells": [
    {
     "cell_type": "code",
     "collapsed": false,
     "input": [
      "from nilmtk import HDFDataStore, ElecMeter\n",
      "from nilmtk.stats import TotalEnergy, DropoutRate\n",
      "\n",
      "ds = HDFDataStore('redd.h5')\n",
      "\n",
      "ElecMeter.meter_devices.update({\n",
      "    'test model': {\n",
      "        'sample_period': 10,\n",
      "        'max_sample_period': 30,\n",
      "        'measurements': [{'physical_quantity': 'power',\n",
      "                          'type': 'apparent',\n",
      "                          'lower_limit': 0,\n",
      "                          'upper_limit': 50000}]\n",
      "    }})\n",
      "\n",
      "meter = ElecMeter(ds, {'data_location': '/building5/elec/meter1',\n",
      "                       'device_model': 'test model',\n",
      "                       'preprocessing_applied': {'clip': True}})\n",
      "\n",
      "source = meter.get_source_node()\n",
      "\n",
      "total_energy = TotalEnergy(source)\n",
      "total_energy.run()"
     ],
     "language": "python",
     "metadata": {},
     "outputs": [],
     "prompt_number": 10
    },
    {
     "cell_type": "code",
     "collapsed": false,
     "input": [
      "total_energy.results.to_dict()"
     ],
     "language": "python",
     "metadata": {},
     "outputs": [
      {
       "metadata": {},
       "output_type": "pyout",
       "prompt_number": 11,
       "text": [
        "{'statistics': {'energy': {'apparent': 30.793646871022119}}}"
       ]
      }
     ],
     "prompt_number": 11
    },
    {
     "cell_type": "code",
     "collapsed": false,
     "input": [
      "from nilmtk.preprocessing import Clip\n",
      "\n",
      "source = meter.get_source_node()\n",
      "clip = Clip(source)\n",
      "total_energy = TotalEnergy(clip)\n",
      "dropout_rate = DropoutRate(total_energy)\n",
      "dropout_rate.run()\n",
      "\n",
      "print(total_energy.results.to_dict())\n",
      "print(dropout_rate.results.combined())"
     ],
     "language": "python",
     "metadata": {},
     "outputs": [
      {
       "output_type": "stream",
       "stream": "stdout",
       "text": [
        "{'statistics': {'energy': {'apparent': 30.793646871022119}}}\n",
        "0.202210726725\n"
       ]
      }
     ],
     "prompt_number": 13
    },
    {
     "cell_type": "code",
     "collapsed": false,
     "input": [
      "for chunk in meter.power_series():\n",
      "    print(chunk.head())"
     ],
     "language": "python",
     "metadata": {},
     "outputs": [
      {
       "output_type": "stream",
       "stream": "stdout",
       "text": [
        "2011-04-18 00:24:03-04:00    115.830002\n",
        "2011-04-18 00:24:04-04:00    115.940002\n",
        "2011-04-18 00:24:05-04:00    115.800003\n",
        "2011-04-18 00:24:06-04:00    115.989998\n",
        "2011-04-18 00:24:07-04:00    115.739998\n",
        "Name: (power, apparent), dtype: float32\n"
       ]
      }
     ],
     "prompt_number": 14
    },
    {
     "cell_type": "code",
     "collapsed": false,
     "input": [
      "clip = Clip()\n",
      "clip.upper = 10\n",
      "clip.lower = 0\n",
      "for chunk in meter.power_series(preprocessing=[clip]):\n",
      "    print(chunk.head())"
     ],
     "language": "python",
     "metadata": {},
     "outputs": [
      {
       "output_type": "stream",
       "stream": "stdout",
       "text": [
        "2011-04-18 00:24:03-04:00    10\n",
        "2011-04-18 00:24:04-04:00    10\n",
        "2011-04-18 00:24:05-04:00    10\n",
        "2011-04-18 00:24:06-04:00    10\n",
        "2011-04-18 00:24:07-04:00    10\n",
        "Name: (power, apparent), dtype: float32\n"
       ]
      }
     ],
     "prompt_number": 15
    },
    {
     "cell_type": "code",
     "collapsed": false,
     "input": [
      "from nilmtk import DataSet\n",
      "\n",
      "dataset = DataSet()\n",
      "dataset.load(ds)\n"
     ],
     "language": "python",
     "metadata": {},
     "outputs": [
      {
       "metadata": {},
       "output_type": "pyout",
       "prompt_number": 16,
       "text": [
        "<nilmtk.dataset.DataSet at 0x7fae9b09d4d0>"
       ]
      }
     ],
     "prompt_number": 16
    },
    {
     "cell_type": "code",
     "collapsed": false,
     "input": [],
     "language": "python",
     "metadata": {},
     "outputs": [],
     "prompt_number": 16
    },
    {
     "cell_type": "code",
     "collapsed": false,
     "input": [
      "import nilmtk\n",
      "nilmtk.global_meter_group.select(site_meter=True)"
     ],
     "language": "python",
     "metadata": {},
     "outputs": [
      {
       "metadata": {},
       "output_type": "pyout",
       "prompt_number": 17,
       "text": [
        "MeterGroup(meters=\n",
        "  ElecMeter(instance=1, building=1, dataset='REDD', site_meter, appliances=[])\n",
        "  ElecMeter(instance=2, building=1, dataset='REDD', site_meter, appliances=[])\n",
        "  ElecMeter(instance=1, building=3, dataset='REDD', site_meter, appliances=[])\n",
        "  ElecMeter(instance=2, building=3, dataset='REDD', site_meter, appliances=[])\n",
        "  ElecMeter(instance=1, building=2, dataset='REDD', site_meter, appliances=[])\n",
        "  ElecMeter(instance=2, building=2, dataset='REDD', site_meter, appliances=[])\n",
        "  ElecMeter(instance=1, building=5, dataset='REDD', site_meter, appliances=[])\n",
        "  ElecMeter(instance=2, building=5, dataset='REDD', site_meter, appliances=[])\n",
        "  ElecMeter(instance=1, building=4, dataset='REDD', site_meter, appliances=[])\n",
        "  ElecMeter(instance=2, building=4, dataset='REDD', site_meter, appliances=[])\n",
        "  ElecMeter(instance=1, building=6, dataset='REDD', site_meter, appliances=[])\n",
        "  ElecMeter(instance=2, building=6, dataset='REDD', site_meter, appliances=[])\n",
        ")"
       ]
      }
     ],
     "prompt_number": 17
    },
    {
     "cell_type": "code",
     "collapsed": false,
     "input": [
      "nilmtk.global_meter_group.select_using_appliances(type='fridge')"
     ],
     "language": "python",
     "metadata": {},
     "outputs": [
      {
       "metadata": {},
       "output_type": "pyout",
       "prompt_number": 18,
       "text": [
        "MeterGroup(meters=\n",
        "  ElecMeter(instance=5, building=1, dataset='REDD', appliances=[Appliance(type='fridge', instance=1)])\n",
        "  ElecMeter(instance=7, building=3, dataset='REDD', appliances=[Appliance(type='fridge', instance=1)])\n",
        "  ElecMeter(instance=9, building=2, dataset='REDD', appliances=[Appliance(type='fridge', instance=1)])\n",
        "  ElecMeter(instance=18, building=5, dataset='REDD', appliances=[Appliance(type='fridge', instance=1)])\n",
        "  ElecMeter(instance=8, building=6, dataset='REDD', appliances=[Appliance(type='fridge', instance=1)])\n",
        ")"
       ]
      }
     ],
     "prompt_number": 18
    },
    {
     "cell_type": "code",
     "collapsed": false,
     "input": [
      "dataset.buildings[1].elec['fridge']"
     ],
     "language": "python",
     "metadata": {},
     "outputs": [
      {
       "metadata": {},
       "output_type": "pyout",
       "prompt_number": 19,
       "text": [
        "ElecMeter(instance=5, building=1, dataset='REDD', appliances=[Appliance(type='fridge', instance=1)])"
       ]
      }
     ],
     "prompt_number": 19
    },
    {
     "cell_type": "code",
     "collapsed": false,
     "input": [
      "dataset.buildings[1].elec"
     ],
     "language": "python",
     "metadata": {},
     "outputs": [
      {
       "metadata": {},
       "output_type": "pyout",
       "prompt_number": 20,
       "text": [
        "MeterGroup(meters=\n",
        "  ElecMeter(instance=1, building=1, dataset='REDD', site_meter, appliances=[])\n",
        "  ElecMeter(instance=2, building=1, dataset='REDD', site_meter, appliances=[])\n",
        "  ElecMeter(instance=5, building=1, dataset='REDD', appliances=[Appliance(type='fridge', instance=1)])\n",
        "  ElecMeter(instance=6, building=1, dataset='REDD', appliances=[Appliance(type='dish washer', instance=1)])\n",
        "  ElecMeter(instance=7, building=1, dataset='REDD', appliances=[Appliance(type='sockets', instance=1)])\n",
        "  ElecMeter(instance=8, building=1, dataset='REDD', appliances=[Appliance(type='sockets', instance=2)])\n",
        "  ElecMeter(instance=9, building=1, dataset='REDD', appliances=[Appliance(type='light', instance=1)])\n",
        "  ElecMeter(instance=11, building=1, dataset='REDD', appliances=[Appliance(type='microwave', instance=1)])\n",
        "  ElecMeter(instance=12, building=1, dataset='REDD', appliances=[Appliance(type='unknown', instance=1)])\n",
        "  ElecMeter(instance=13, building=1, dataset='REDD', appliances=[Appliance(type='electric space heater', instance=1)])\n",
        "  ElecMeter(instance=14, building=1, dataset='REDD', appliances=[Appliance(type='electric stove', instance=1)])\n",
        "  ElecMeter(instance=15, building=1, dataset='REDD', appliances=[Appliance(type='sockets', instance=3)])\n",
        "  ElecMeter(instance=16, building=1, dataset='REDD', appliances=[Appliance(type='sockets', instance=4)])\n",
        "  ElecMeter(instance=17, building=1, dataset='REDD', appliances=[Appliance(type='light', instance=2)])\n",
        "  ElecMeter(instance=18, building=1, dataset='REDD', appliances=[Appliance(type='light', instance=3)])\n",
        "  ElecMeter(instance=19, building=1, dataset='REDD', appliances=[Appliance(type='unknown', instance=2)])\n",
        "  MeterGroup(meters=\n",
        "    ElecMeter(instance=3, building=1, dataset='REDD', appliances=[Appliance(type='electric oven', instance=1)])\n",
        "    ElecMeter(instance=4, building=1, dataset='REDD', appliances=[Appliance(type='electric oven', instance=1)])\n",
        "  )\n",
        "  MeterGroup(meters=\n",
        "    ElecMeter(instance=10, building=1, dataset='REDD', appliances=[Appliance(type='washer dryer', instance=1)])\n",
        "    ElecMeter(instance=20, building=1, dataset='REDD', appliances=[Appliance(type='washer dryer', instance=1)])\n",
        "  )\n",
        ")"
       ]
      }
     ],
     "prompt_number": 20
    },
    {
     "cell_type": "code",
     "collapsed": false,
     "input": [
      "elec = dataset.buildings[1].elec"
     ],
     "language": "python",
     "metadata": {},
     "outputs": [],
     "prompt_number": 21
    },
    {
     "cell_type": "code",
     "collapsed": false,
     "input": [
      "from nilmtk.elecmeter import ElecMeterID\n",
      "\n",
      "meter = elec[ElecMeterID(1,1,'REDD')]\n",
      "\n",
      "print(meter.metadata)\n",
      "#print(meter.device)\n",
      "\n",
      "source = meter.get_source_node()\n",
      "clip = Clip(source)\n",
      "total_energy = TotalEnergy(clip)\n",
      "dropout_rate = DropoutRate(total_energy)\n",
      "dropout_rate.run()\n",
      "\n",
      "print(total_energy.results.to_dict())\n",
      "print(dropout_rate.results.combined())"
     ],
     "language": "python",
     "metadata": {},
     "outputs": [
      {
       "output_type": "stream",
       "stream": "stdout",
       "text": [
        "{'device_model': 'REDD_whole_house', 'site_meter': True, 'data_location': '/building1/elec/meter1'}\n",
        "{'statistics': {'energy': {'apparent': 99.271402796506891}}}"
       ]
      },
      {
       "output_type": "stream",
       "stream": "stdout",
       "text": [
        "\n",
        "0.351143915972\n"
       ]
      }
     ],
     "prompt_number": 30
    },
    {
     "cell_type": "code",
     "collapsed": false,
     "input": [
      "# dropout rate ignoring gaps...\n",
      "\n",
      "sections = meter.good_sections()\n",
      "\n",
      "print(sections)\n"
     ],
     "language": "python",
     "metadata": {},
     "outputs": [
      {
       "output_type": "stream",
       "stream": "stdout",
       "text": [
        "[TimeFrame(start='2011-04-18 09:22:09-04:00', end='2011-04-18 13:58:47-04:00', empty=False), TimeFrame(start='2011-04-18 14:03:07-04:00', end='2011-04-19 12:13:38-04:00', empty=False), TimeFrame(start='2011-04-19 12:14:17-04:00', end='2011-04-19 18:45:19-04:00', empty=False), TimeFrame(start='2011-04-19 20:20:08-04:00', end='2011-04-20 01:54:32-04:00', empty=False), TimeFrame(start='2011-04-20 01:55:36-04:00', end='2011-04-20 02:28:14-04:00', empty=False), TimeFrame(start='2011-04-20 02:28:52-04:00', end='2011-04-21 03:17:09-04:00', empty=False), TimeFrame(start='2011-04-21 06:17:17-04:00', end='2011-04-21 17:45:06-04:00', empty=False), TimeFrame(start='2011-04-21 19:41:29-04:00', end='2011-04-22 22:46:57-04:00', empty=False), TimeFrame(start='2011-04-22 22:48:33-04:00', end='2011-04-24 03:48:50-04:00', empty=False), TimeFrame(start='2011-04-24 03:52:24-04:00', end='2011-04-24 20:46:36-04:00', empty=False), TimeFrame(start='2011-04-24 20:47:17-04:00', end='2011-04-27 02:50:19-04:00', empty=False), TimeFrame(start='2011-04-27 02:51:21-04:00', end='2011-04-27 03:17:34-04:00', empty=False), TimeFrame(start='2011-04-27 03:21:15-04:00', end='2011-04-28 05:57:47-04:00', empty=False), TimeFrame(start='2011-04-29 23:10:34-04:00', end='2011-05-01 09:44:42-04:00', empty=False), TimeFrame(start='2011-05-01 09:47:18-04:00', end='2011-05-01 23:14:16-04:00', empty=False), TimeFrame(start='2011-05-01 23:14:17-04:00', end='2011-05-02 17:04:59-04:00', empty=False), TimeFrame(start='2011-05-02 17:07:27-04:00', end='2011-05-03 17:30:17-04:00', empty=False), TimeFrame(start='2011-05-03 17:32:49-04:00', end='2011-05-03 17:33:44-04:00', empty=False), TimeFrame(start='2011-05-06 10:51:46-04:00', end='2011-05-07 01:53:10-04:00', empty=False), TimeFrame(start='2011-05-07 01:53:55-04:00', end='2011-05-07 02:38:15-04:00', empty=False), TimeFrame(start='2011-05-07 02:40:43-04:00', end='2011-05-07 11:59:16-04:00', empty=False), TimeFrame(start='2011-05-11 03:19:43-04:00', end='2011-05-12 17:48:38-04:00', empty=False), TimeFrame(start='2011-05-12 20:14:30-04:00', end='2011-05-13 05:16:24-04:00', empty=False), TimeFrame(start='2011-05-22 16:04:46-04:00', end='2011-05-22 23:39:01-04:00', empty=False), TimeFrame(start='2011-05-22 23:41:35-04:00', end='2011-05-23 09:22:08-04:00', empty=False), TimeFrame(start='2011-05-23 10:31:34-04:00', end='2011-05-24 14:32:05-04:00', empty=False), TimeFrame(start='2011-05-24 15:55:33-04:00', end='2011-05-24 15:57:02-04:00', empty=False)]\n"
       ]
      }
     ],
     "prompt_number": 31
    },
    {
     "cell_type": "code",
     "collapsed": false,
     "input": [
      "source = meter.get_source_node(periods=sections)\n",
      "dropout_rate = DropoutRate(source)\n",
      "dropout_rate.run()\n",
      "\n",
      "print(dropout_rate.results.combined())"
     ],
     "language": "python",
     "metadata": {},
     "outputs": [
      {
       "output_type": "stream",
       "stream": "stdout",
       "text": [
        "0.0085459790444\n"
       ]
      }
     ],
     "prompt_number": 32
    },
    {
     "cell_type": "code",
     "collapsed": false,
     "input": [
      "dropout_rate.results"
     ],
     "language": "python",
     "metadata": {},
     "outputs": [
      {
       "metadata": {},
       "output_type": "pyout",
       "prompt_number": 33,
       "text": [
        "                           dropout_rate                        end  n_samples\n",
        "2011-04-18 09:22:09-04:00      0.000120  2011-04-18 13:58:46-04:00      16596\n",
        "2011-04-18 14:03:07-04:00      0.000113  2011-04-19 12:13:37-04:00      79822\n",
        "2011-04-19 12:14:17-04:00      0.000000  2011-04-19 18:45:18-04:00      23462\n",
        "2011-04-19 20:20:08-04:00      0.000000  2011-04-20 01:54:31-04:00      20064\n",
        "2011-04-20 01:55:36-04:00      0.000000  2011-04-20 02:28:13-04:00       1958\n",
        "2011-04-20 02:28:52-04:00      0.000336  2011-04-21 03:17:08-04:00      89267\n",
        "2011-04-21 06:17:17-04:00      0.000000  2011-04-21 17:45:05-04:00      41269\n",
        "2011-04-21 19:41:29-04:00      0.000010  2011-04-22 22:46:56-04:00      97527\n",
        "2011-04-22 22:48:33-04:00      0.000201  2011-04-24 03:48:49-04:00     104396\n",
        "2011-04-24 03:52:24-04:00      0.000115  2011-04-24 20:46:35-04:00      60845\n",
        "2011-04-24 20:47:17-04:00      0.000072  2011-04-27 02:50:18-04:00     194568\n",
        "2011-04-27 02:51:21-04:00      0.000000  2011-04-27 03:17:33-04:00       1573\n",
        "2011-04-27 03:21:15-04:00      0.000010  2011-04-28 05:57:46-04:00      95791\n",
        "2011-04-29 23:10:34-04:00      0.000153  2011-05-01 09:44:41-04:00     124429\n",
        "2011-05-01 09:47:18-04:00      0.000000  2011-05-01 23:14:15-04:00      48418\n",
        "2011-05-01 23:14:17-04:00      0.000000  2011-05-02 17:04:58-04:00      64242\n",
        "2011-05-02 17:07:27-04:00      0.101595  2011-05-03 17:30:16-04:00      78853\n",
        "2011-05-03 17:32:49-04:00      0.000000  2011-05-03 17:33:43-04:00         55\n",
        "2011-05-06 10:51:46-04:00      0.100899  2011-05-07 01:53:09-04:00      48627\n",
        "2011-05-07 01:53:55-04:00      0.114286  2011-05-07 02:38:14-04:00       2356\n",
        "2011-05-07 02:40:43-04:00      0.000000  2011-05-07 11:59:15-04:00      33513\n",
        "2011-05-11 03:19:43-04:00      0.000346  2011-05-12 17:48:37-04:00     138487\n",
        "2011-05-12 20:14:30-04:00      0.000000  2011-05-13 05:16:23-04:00      32514\n",
        "2011-05-22 16:04:46-04:00      0.000257  2011-05-22 23:39:00-04:00      27248\n",
        "2011-05-22 23:41:35-04:00      0.000000  2011-05-23 09:22:07-04:00      34833\n",
        "2011-05-23 10:31:34-04:00      0.000000  2011-05-24 14:32:04-04:00     100831\n",
        "2011-05-24 15:55:33-04:00      0.000000  2011-05-24 15:57:02-04:00         90"
       ]
      }
     ],
     "prompt_number": 33
    },
    {
     "cell_type": "code",
     "collapsed": false,
     "input": [
      "elec.select_using_appliances(category='single-phase induction motor')"
     ],
     "language": "python",
     "metadata": {},
     "outputs": [
      {
       "metadata": {},
       "output_type": "pyout",
       "prompt_number": 12,
       "text": [
        "MeterGroup(meters=\n",
        "  ElecMeter(instance=5, building=1, dataset='REDD', appliances=[Appliance(type='fridge', instance=1)])\n",
        "  ElecMeter(instance=6, building=1, dataset='REDD', appliances=[Appliance(type='dish washer', instance=1)])\n",
        "  MeterGroup(meters=\n",
        "    ElecMeter(instance=10, building=1, dataset='REDD', appliances=[Appliance(type='washer dryer', instance=1)])\n",
        "    ElecMeter(instance=20, building=1, dataset='REDD', appliances=[Appliance(type='washer dryer', instance=1)])\n",
        "  )\n",
        ")"
       ]
      }
     ],
     "prompt_number": 12
    },
    {
     "cell_type": "code",
     "collapsed": false,
     "input": [
      "elec.select_using_appliances(category='resistive')"
     ],
     "language": "python",
     "metadata": {},
     "outputs": [
      {
       "metadata": {},
       "output_type": "pyout",
       "prompt_number": 13,
       "text": [
        "MeterGroup(meters=\n",
        "  ElecMeter(instance=6, building=1, dataset='REDD', appliances=[Appliance(type='dish washer', instance=1)])\n",
        "  ElecMeter(instance=13, building=1, dataset='REDD', appliances=[Appliance(type='electric space heater', instance=1)])\n",
        "  ElecMeter(instance=14, building=1, dataset='REDD', appliances=[Appliance(type='electric stove', instance=1)])\n",
        "  MeterGroup(meters=\n",
        "    ElecMeter(instance=3, building=1, dataset='REDD', appliances=[Appliance(type='electric oven', instance=1)])\n",
        "    ElecMeter(instance=4, building=1, dataset='REDD', appliances=[Appliance(type='electric oven', instance=1)])\n",
        "  )\n",
        "  MeterGroup(meters=\n",
        "    ElecMeter(instance=10, building=1, dataset='REDD', appliances=[Appliance(type='washer dryer', instance=1)])\n",
        "    ElecMeter(instance=20, building=1, dataset='REDD', appliances=[Appliance(type='washer dryer', instance=1)])\n",
        "  )\n",
        ")"
       ]
      }
     ],
     "prompt_number": 13
    },
    {
     "cell_type": "code",
     "collapsed": false,
     "input": [
      "from nilmtk.disaggregate import CombinatorialOptimisation\n",
      "co = CombinatorialOptimisation()\n",
      "# co.train(elec)\n",
      "# co.model"
     ],
     "language": "python",
     "metadata": {},
     "outputs": [],
     "prompt_number": 14
    },
    {
     "cell_type": "code",
     "collapsed": false,
     "input": [
      "fridge = elec['fridge']"
     ],
     "language": "python",
     "metadata": {},
     "outputs": [],
     "prompt_number": 15
    },
    {
     "cell_type": "code",
     "collapsed": false,
     "input": [
      "fridge.available_power_ac_types()"
     ],
     "language": "python",
     "metadata": {},
     "outputs": [
      {
       "metadata": {},
       "output_type": "pyout",
       "prompt_number": 16,
       "text": [
        "['active']"
       ]
      }
     ],
     "prompt_number": 16
    },
    {
     "cell_type": "code",
     "collapsed": false,
     "input": [
      "fridge.dominant_appliance().identifier"
     ],
     "language": "python",
     "metadata": {},
     "outputs": [
      {
       "metadata": {},
       "output_type": "pyout",
       "prompt_number": 17,
       "text": [
        "ApplianceID(type='fridge', instance=1)"
       ]
      }
     ],
     "prompt_number": 17
    },
    {
     "cell_type": "code",
     "collapsed": false,
     "input": [
      "elec.mains()"
     ],
     "language": "python",
     "metadata": {},
     "outputs": [
      {
       "metadata": {},
       "output_type": "pyout",
       "prompt_number": 18,
       "text": [
        "MeterGroup(meters=\n",
        "  ElecMeter(instance=1, building=1, dataset='REDD', site_meter, appliances=[])\n",
        "  ElecMeter(instance=2, building=1, dataset='REDD', site_meter, appliances=[])\n",
        ")"
       ]
      }
     ],
     "prompt_number": 18
    },
    {
     "cell_type": "code",
     "collapsed": false,
     "input": [
      "graph = elec.wiring_graph()"
     ],
     "language": "python",
     "metadata": {},
     "outputs": [],
     "prompt_number": 19
    },
    {
     "cell_type": "code",
     "collapsed": false,
     "input": [
      "elec"
     ],
     "language": "python",
     "metadata": {},
     "outputs": [
      {
       "metadata": {},
       "output_type": "pyout",
       "prompt_number": 20,
       "text": [
        "MeterGroup(meters=\n",
        "  ElecMeter(instance=1, building=1, dataset='REDD', site_meter, appliances=[])\n",
        "  ElecMeter(instance=2, building=1, dataset='REDD', site_meter, appliances=[])\n",
        "  ElecMeter(instance=5, building=1, dataset='REDD', appliances=[Appliance(type='fridge', instance=1)])\n",
        "  ElecMeter(instance=6, building=1, dataset='REDD', appliances=[Appliance(type='dish washer', instance=1)])\n",
        "  ElecMeter(instance=7, building=1, dataset='REDD', appliances=[Appliance(type='sockets', instance=1)])\n",
        "  ElecMeter(instance=8, building=1, dataset='REDD', appliances=[Appliance(type='sockets', instance=2)])\n",
        "  ElecMeter(instance=9, building=1, dataset='REDD', appliances=[Appliance(type='light', instance=1)])\n",
        "  ElecMeter(instance=11, building=1, dataset='REDD', appliances=[Appliance(type='microwave', instance=1)])\n",
        "  ElecMeter(instance=12, building=1, dataset='REDD', appliances=[Appliance(type='unknown', instance=1)])\n",
        "  ElecMeter(instance=13, building=1, dataset='REDD', appliances=[Appliance(type='electric space heater', instance=1)])\n",
        "  ElecMeter(instance=14, building=1, dataset='REDD', appliances=[Appliance(type='electric stove', instance=1)])\n",
        "  ElecMeter(instance=15, building=1, dataset='REDD', appliances=[Appliance(type='sockets', instance=3)])\n",
        "  ElecMeter(instance=16, building=1, dataset='REDD', appliances=[Appliance(type='sockets', instance=4)])\n",
        "  ElecMeter(instance=17, building=1, dataset='REDD', appliances=[Appliance(type='light', instance=2)])\n",
        "  ElecMeter(instance=18, building=1, dataset='REDD', appliances=[Appliance(type='light', instance=3)])\n",
        "  ElecMeter(instance=19, building=1, dataset='REDD', appliances=[Appliance(type='unknown', instance=2)])\n",
        "  MeterGroup(meters=\n",
        "    ElecMeter(instance=3, building=1, dataset='REDD', appliances=[Appliance(type='electric oven', instance=1)])\n",
        "    ElecMeter(instance=4, building=1, dataset='REDD', appliances=[Appliance(type='electric oven', instance=1)])\n",
        "  )\n",
        "  MeterGroup(meters=\n",
        "    ElecMeter(instance=10, building=1, dataset='REDD', appliances=[Appliance(type='washer dryer', instance=1)])\n",
        "    ElecMeter(instance=20, building=1, dataset='REDD', appliances=[Appliance(type='washer dryer', instance=1)])\n",
        "  )\n",
        ")"
       ]
      }
     ],
     "prompt_number": 20
    },
    {
     "cell_type": "code",
     "collapsed": false,
     "input": [
      "elec.draw_wiring_graph()"
     ],
     "language": "python",
     "metadata": {},
     "outputs": [
      {
       "metadata": {},
       "output_type": "display_data",
       "png": "[encoded data removed]",
       "text": [
        "<matplotlib.figure.Figure at 0x7fd2acc94f90>"
       ]
      }
     ],
     "prompt_number": 21
    },
    {
     "cell_type": "code",
     "collapsed": false,
     "input": [
      "elec['fridge'].upstream_meter() == elec['microwave'].upstream_meter()"
     ],
     "language": "python",
     "metadata": {},
     "outputs": [
      {
       "metadata": {},
       "output_type": "pyout",
       "prompt_number": 22,
       "text": [
        "True"
       ]
      }
     ],
     "prompt_number": 22
    },
    {
     "cell_type": "code",
     "collapsed": false,
     "input": [
      "elec['fridge'].upstream_meter()"
     ],
     "language": "python",
     "metadata": {},
     "outputs": [
      {
       "metadata": {},
       "output_type": "pyout",
       "prompt_number": 23,
       "text": [
        "MeterGroup(meters=\n",
        "  ElecMeter(instance=1, building=1, dataset='REDD', site_meter, appliances=[])\n",
        "  ElecMeter(instance=2, building=1, dataset='REDD', site_meter, appliances=[])\n",
        ")"
       ]
      }
     ],
     "prompt_number": 23
    },
    {
     "cell_type": "code",
     "collapsed": false,
     "input": [
      "from nilmtk import MeterGroup\n",
      "from nilmtk.elecmeter import ElecMeterID"
     ],
     "language": "python",
     "metadata": {},
     "outputs": [],
     "prompt_number": 24
    },
    {
     "cell_type": "code",
     "collapsed": false,
     "input": [
      "nilmtk.global_meter_group.from_list([ElecMeterID(3,1,'REDD'), \n",
      "                                       (\n",
      "                                            ElecMeterID(1,1,'REDD'),\n",
      "                                            (ElecMeterID(2,1,'REDD'), ElecMeterID(4,1,'REDD'))\n",
      "                                       )])"
     ],
     "language": "python",
     "metadata": {},
     "outputs": [
      {
       "metadata": {},
       "output_type": "pyout",
       "prompt_number": 25,
       "text": [
        "MeterGroup(meters=\n",
        "  ElecMeter(instance=3, building=1, dataset='REDD', appliances=[Appliance(type='electric oven', instance=1)])\n",
        "  MeterGroup(meters=\n",
        "    ElecMeter(instance=1, building=1, dataset='REDD', site_meter, appliances=[])\n",
        "    MeterGroup(meters=\n",
        "      ElecMeter(instance=2, building=1, dataset='REDD', site_meter, appliances=[])\n",
        "      ElecMeter(instance=4, building=1, dataset='REDD', appliances=[Appliance(type='electric oven', instance=1)])\n",
        "    )\n",
        "  )\n",
        ")"
       ]
      }
     ],
     "prompt_number": 25
    },
    {
     "cell_type": "code",
     "collapsed": false,
     "input": [
      "from nilmtk import ElecMeter\n",
      "ElecMeter(meter_id=ElecMeterID(1,1,'x'))"
     ],
     "language": "python",
     "metadata": {},
     "outputs": [
      {
       "metadata": {},
       "output_type": "pyout",
       "prompt_number": 26,
       "text": [
        "ElecMeter(instance=1, building=1, dataset='x', appliances=[])"
       ]
      }
     ],
     "prompt_number": 26
    },
    {
     "cell_type": "code",
     "collapsed": false,
     "input": [
      "elec.identifier"
     ],
     "language": "python",
     "metadata": {},
     "outputs": [
      {
       "metadata": {},
       "output_type": "pyout",
       "prompt_number": 27,
       "text": [
        "(ElecMeterID(instance=1, building=1, dataset='REDD'),\n",
        " ElecMeterID(instance=2, building=1, dataset='REDD'),\n",
        " ElecMeterID(instance=5, building=1, dataset='REDD'),\n",
        " ElecMeterID(instance=6, building=1, dataset='REDD'),\n",
        " ElecMeterID(instance=7, building=1, dataset='REDD'),\n",
        " ElecMeterID(instance=8, building=1, dataset='REDD'),\n",
        " ElecMeterID(instance=9, building=1, dataset='REDD'),\n",
        " ElecMeterID(instance=11, building=1, dataset='REDD'),\n",
        " ElecMeterID(instance=12, building=1, dataset='REDD'),\n",
        " ElecMeterID(instance=13, building=1, dataset='REDD'),\n",
        " ElecMeterID(instance=14, building=1, dataset='REDD'),\n",
        " ElecMeterID(instance=15, building=1, dataset='REDD'),\n",
        " ElecMeterID(instance=16, building=1, dataset='REDD'),\n",
        " ElecMeterID(instance=17, building=1, dataset='REDD'),\n",
        " ElecMeterID(instance=18, building=1, dataset='REDD'),\n",
        " ElecMeterID(instance=19, building=1, dataset='REDD'),\n",
        " (ElecMeterID(instance=3, building=1, dataset='REDD'),\n",
        "  ElecMeterID(instance=4, building=1, dataset='REDD')),\n",
        " (ElecMeterID(instance=10, building=1, dataset='REDD'),\n",
        "  ElecMeterID(instance=20, building=1, dataset='REDD')))"
       ]
      }
     ],
     "prompt_number": 27
    },
    {
     "cell_type": "code",
     "collapsed": false,
     "input": [
      "elec.mains().total_energy()"
     ],
     "language": "python",
     "metadata": {},
     "outputs": [
      {
       "metadata": {},
       "output_type": "pyout",
       "prompt_number": 28,
       "text": [
        "167.76623618641219"
       ]
      }
     ],
     "prompt_number": 28
    },
    {
     "cell_type": "code",
     "collapsed": false,
     "input": [
      "# energy_per_meter = elec.energy_per_meter()"
     ],
     "language": "python",
     "metadata": {},
     "outputs": [],
     "prompt_number": 29
    },
    {
     "cell_type": "code",
     "collapsed": false,
     "input": [
      "# energy_per_meter"
     ],
     "language": "python",
     "metadata": {},
     "outputs": [],
     "prompt_number": 30
    },
    {
     "cell_type": "code",
     "collapsed": false,
     "input": [
      "elec['fridge'].total_energy(full_results=True).combined()"
     ],
     "language": "python",
     "metadata": {},
     "outputs": [
      {
       "metadata": {},
       "output_type": "pyout",
       "prompt_number": 31,
       "text": [
        "active    44.750925\n",
        "dtype: float64"
       ]
      }
     ],
     "prompt_number": 31
    },
    {
     "cell_type": "code",
     "collapsed": false,
     "input": [
      "# fraction = elec.fraction_per_meter()"
     ],
     "language": "python",
     "metadata": {},
     "outputs": [],
     "prompt_number": 32
    },
    {
     "cell_type": "code",
     "collapsed": false,
     "input": [
      "elec.available_power_ac_types()"
     ],
     "language": "python",
     "metadata": {},
     "outputs": [
      {
       "metadata": {},
       "output_type": "pyout",
       "prompt_number": 33,
       "text": [
        "{'active', 'apparent'}"
       ]
      }
     ],
     "prompt_number": 33
    },
    {
     "cell_type": "code",
     "collapsed": false,
     "input": [
      "elec['fridge'].when_on().next().head()"
     ],
     "language": "python",
     "metadata": {},
     "outputs": [
      {
       "metadata": {},
       "output_type": "pyout",
       "prompt_number": 34,
       "text": [
        "2011-04-18 09:22:13-04:00    False\n",
        "2011-04-18 09:22:16-04:00    False\n",
        "2011-04-18 09:22:20-04:00    False\n",
        "2011-04-18 09:22:23-04:00    False\n",
        "2011-04-18 09:22:26-04:00    False\n",
        "Name: (power, active), dtype: bool"
       ]
      }
     ],
     "prompt_number": 34
    },
    {
     "cell_type": "code",
     "collapsed": false,
     "input": [
      "elec['fridge'].min_on_power_threshold()"
     ],
     "language": "python",
     "metadata": {},
     "outputs": [
      {
       "metadata": {},
       "output_type": "pyout",
       "prompt_number": 35,
       "text": [
        "10"
       ]
      }
     ],
     "prompt_number": 35
    },
    {
     "cell_type": "code",
     "collapsed": false,
     "input": [
      "from nilmtk.electric import align_two_meters\n",
      "\n",
      "gne = align_two_meters(elec['fridge'], elec.mains())"
     ],
     "language": "python",
     "metadata": {},
     "outputs": [],
     "prompt_number": 36
    },
    {
     "cell_type": "code",
     "collapsed": false,
     "input": [
      "head = gne.next().head()"
     ],
     "language": "python",
     "metadata": {},
     "outputs": [],
     "prompt_number": 37
    },
    {
     "cell_type": "code",
     "collapsed": false,
     "input": [
      "head.icol(0) - head.icol(1)"
     ],
     "language": "python",
     "metadata": {},
     "outputs": [
      {
       "metadata": {},
       "output_type": "pyout",
       "prompt_number": 38,
       "text": [
        "2011-04-18 09:22:12-04:00   -334.914978\n",
        "2011-04-18 09:22:15-04:00   -335.973297\n",
        "2011-04-18 09:22:18-04:00   -335.683350\n",
        "2011-04-18 09:22:21-04:00   -335.796661\n",
        "2011-04-18 09:22:24-04:00   -335.329987\n",
        "Freq: 3S, dtype: float32"
       ]
      }
     ],
     "prompt_number": 38
    },
    {
     "cell_type": "code",
     "collapsed": false,
     "input": [],
     "language": "python",
     "metadata": {},
     "outputs": [],
     "prompt_number": 38
    }
   ],
   "metadata": {}
  }
 ]
}