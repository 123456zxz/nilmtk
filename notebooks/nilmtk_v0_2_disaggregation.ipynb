{
 "metadata": {
  "name": "",
  "signature": "sha256:8effaee795d10127eca76cf5ec37f2b861e4a7860e8f5b527f1a8f817b363f14"
 },
 "nbformat": 3,
 "nbformat_minor": 0,
 "worksheets": [
  {
   "cells": [
    {
     "cell_type": "code",
     "collapsed": false,
     "input": [
      "from __future__ import print_function, division\n",
      "from nilmtk import HDFDataStore, DataSet\n",
      "from nilmtk.disaggregate import CombinatorialOptimisation\n",
      "import pandas as pd\n",
      "\n",
      "print(\"Loading data...\")\n",
      "datastore = HDFDataStore('/home/jack/workspace/python/nilmtk/notebooks/redd.h5')\n",
      "dataset = DataSet()\n",
      "dataset.load(datastore)\n",
      "elec = dataset.buildings[1].elec"
     ],
     "language": "python",
     "metadata": {},
     "outputs": [
      {
       "output_type": "stream",
       "stream": "stdout",
       "text": [
        "Loading data...\n"
       ]
      }
     ],
     "prompt_number": 1
    },
    {
     "cell_type": "code",
     "collapsed": false,
     "input": [
      "print(\"Training CO model...\")\n",
      "co = CombinatorialOptimisation()\n",
      "co.train(elec)\n",
      "print(\"Model =\", co.model)"
     ],
     "language": "python",
     "metadata": {},
     "outputs": [
      {
       "output_type": "stream",
       "stream": "stdout",
       "text": [
        "Training CO model...\n",
        "Model ="
       ]
      },
      {
       "output_type": "stream",
       "stream": "stdout",
       "text": [
        " {5: array([  0, 202], dtype=int32), 6: array([  0, 618], dtype=int32), 7: array([ 0, 21], dtype=int32), 8: array([ 0, 28], dtype=int32), 9: array([ 0, 73], dtype=int32), 11: array([   0, 1196], dtype=int32), 12: array([  0, 386], dtype=int32), 13: array([ 0, 12], dtype=int32), 14: array([  0, 916], dtype=int32), 15: array([   0, 1059], dtype=int32), 16: array([   0, 1518], dtype=int32), 17: array([ 0, 65], dtype=int32), 18: array([ 0, 54], dtype=int32), 19: array([0], dtype=int32), (10, 20): array([   0, 2035], dtype=int32), (3, 4): array([   0, 1068], dtype=int32)}\n"
       ]
      }
     ],
     "prompt_number": 2
    },
    {
     "cell_type": "code",
     "collapsed": false,
     "input": [
      "print(\"Disaggregation...\")\n",
      "mains = elec.mains()\n",
      "output = HDFDataStore('output.h5', 'w')\n",
      "co.disaggregate(mains, output)\n",
      "\n",
      "print(output.store.get('/building1/elec/meter5')[:10])"
     ],
     "language": "python",
     "metadata": {},
     "outputs": [
      {
       "output_type": "stream",
       "stream": "stdout",
       "text": [
        "Disaggregation...\n",
        "physical_quantity             power\n",
        "type                       apparent\n",
        "2011-04-18 09:22:09-04:00       202\n",
        "2011-04-18 09:22:10-04:00       202\n",
        "2011-04-18 09:22:11-04:00       202\n",
        "2011-04-18 09:22:12-04:00       202\n",
        "2011-04-18 09:22:13-04:00       202\n",
        "2011-04-18 09:22:14-04:00       202\n",
        "2011-04-18 09:22:15-04:00       202\n",
        "2011-04-18 09:22:16-04:00       202\n",
        "2011-04-18 09:22:17-04:00       202\n",
        "2011-04-18 09:22:18-04:00       202"
       ]
      },
      {
       "output_type": "stream",
       "stream": "stdout",
       "text": [
        "\n"
       ]
      }
     ],
     "prompt_number": 6
    },
    {
     "cell_type": "code",
     "collapsed": false,
     "input": [
      "output.close()"
     ],
     "language": "python",
     "metadata": {},
     "outputs": [],
     "prompt_number": 5
    },
    {
     "cell_type": "code",
     "collapsed": false,
     "input": [],
     "language": "python",
     "metadata": {},
     "outputs": []
    }
   ],
   "metadata": {}
  }
 ]
}