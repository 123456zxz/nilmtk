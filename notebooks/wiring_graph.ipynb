{
 "metadata": {
  "name": "",
  "signature": "sha256:575800b41379e4acd9d358e8a0834b8a48c99e89a18318ce56a3577f80193c2c"
 },
 "nbformat": 3,
 "nbformat_minor": 0,
 "worksheets": [
  {
   "cells": [
    {
     "cell_type": "code",
     "collapsed": false,
     "input": [
      "import networkx as nx\n",
      "from nilmtk import Appliance, Mains, ElectricityMeter\n",
      "graph = nx.DiGraph()"
     ],
     "language": "python",
     "metadata": {},
     "outputs": [],
     "prompt_number": 4
    },
    {
     "cell_type": "code",
     "collapsed": false,
     "input": [
      "graph.add_edge(Mains([], 'REDD', 1), ElectricityMeter(instance=1, appliances=[Appliance(type='fridge', instance=1)]))\n",
      "graph.add_edge(Mains([], 'REDD', 1), ElectricityMeter(instance=2, appliances=[Appliance(type='fridge', instance=2)]))"
     ],
     "language": "python",
     "metadata": {},
     "outputs": [],
     "prompt_number": 5
    },
    {
     "cell_type": "code",
     "collapsed": false,
     "input": [
      "graph.nodes()"
     ],
     "language": "python",
     "metadata": {},
     "outputs": [
      {
       "metadata": {},
       "output_type": "pyout",
       "prompt_number": 6,
       "text": [
        "[ElectricityMeter(instance=1, dataset=None, building=None, appliances=[(fridge, 1)]),\n",
        " Mains(dataset=REDD, building=1),\n",
        " ElectricityMeter(instance=2, dataset=None, building=None, appliances=[(fridge, 2)])]"
       ]
      }
     ],
     "prompt_number": 6
    },
    {
     "cell_type": "code",
     "collapsed": false,
     "input": [
      "graph.edges()"
     ],
     "language": "python",
     "metadata": {},
     "outputs": [
      {
       "metadata": {},
       "output_type": "pyout",
       "prompt_number": 7,
       "text": [
        "[(Mains(dataset=REDD, building=1),\n",
        "  ElectricityMeter(instance=2, dataset=None, building=None, appliances=[(fridge, 2)])),\n",
        " (Mains(dataset=REDD, building=1),\n",
        "  ElectricityMeter(instance=1, dataset=None, building=None, appliances=[(fridge, 1)]))]"
       ]
      }
     ],
     "prompt_number": 7
    },
    {
     "cell_type": "code",
     "collapsed": false,
     "input": [],
     "language": "python",
     "metadata": {},
     "outputs": [],
     "prompt_number": 8
    }
   ],
   "metadata": {}
  }
 ]
}