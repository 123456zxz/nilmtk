{
 "metadata": {
  "name": ""
 },
 "nbformat": 3,
 "nbformat_minor": 0,
 "worksheets": [
  {
   "cells": [
    {
     "cell_type": "code",
     "collapsed": false,
     "input": [
      "%matplotlib inline"
     ],
     "language": "python",
     "metadata": {},
     "outputs": [],
     "prompt_number": 1
    },
    {
     "cell_type": "code",
     "collapsed": false,
     "input": [
      "from __future__ import print_function\n",
      "from nilmtk.dataset import DataSet\n",
      "from nilmtk.cross_validation import train_test_split\n",
      "from nilmtk.disaggregate.fhmm_exact import FHMM\n",
      "from nilmtk.disaggregate.co_1d import CO_1d\n",
      "from nilmtk.metrics import rms_error_power\n",
      "from nilmtk.metrics import mean_normalized_error_power, fraction_energy_assigned_correctly, f_score\n",
      "from nilmtk.sensors.electricity import Measurement\n",
      "from nilmtk.stats.electricity.building import top_k_appliances\n",
      "from nilmtk.stats.electricity.building import find_appliances_contribution\n",
      "import nilmtk.preprocessing.electricity.building as prepb\n",
      "from nilmtk.dataset import DataSet\n",
      "from copy import deepcopy\n",
      "import time\n",
      "import pandas as pd\n",
      "import numpy as np\n",
      "import matplotlib.pyplot as plt\n",
      "import resource\n",
      "import os"
     ],
     "language": "python",
     "metadata": {},
     "outputs": [],
     "prompt_number": 2
    },
    {
     "cell_type": "markdown",
     "metadata": {},
     "source": [
      "Setting 5 GB memory usage as upper limit"
     ]
    },
    {
     "cell_type": "code",
     "collapsed": false,
     "input": [
      "# Setting the limits to 5 GB RAM usage\n",
      "megs = 7000\n",
      "resource.setrlimit(resource.RLIMIT_AS, (megs * 1048576L, -1L))"
     ],
     "language": "python",
     "metadata": {},
     "outputs": [],
     "prompt_number": 3
    },
    {
     "cell_type": "code",
     "collapsed": false,
     "input": [
      "import warnings\n",
      "warnings.filterwarnings('ignore')"
     ],
     "language": "python",
     "metadata": {},
     "outputs": [],
     "prompt_number": 4
    },
    {
     "cell_type": "code",
     "collapsed": false,
     "input": [
      "#dataset_names=[\"redd/low_freq\",\"iawe\",\"ampds\",\"pecan_1min\",\"smart\",\"ukpd\"]\n",
      "#dataset_names=[\"redd/low_freq\",\"iawe\"]\n",
      "dataset_names=['smart']\n",
      "#dataset_names=['ukpd']"
     ],
     "language": "python",
     "metadata": {},
     "outputs": [],
     "prompt_number": 5
    },
    {
     "cell_type": "code",
     "collapsed": false,
     "input": [
      "metrics=['mne','fraction','f_score']"
     ],
     "language": "python",
     "metadata": {},
     "outputs": [],
     "prompt_number": 6
    },
    {
     "cell_type": "code",
     "collapsed": false,
     "input": [
      "base_path=\"/home/nipun/Desktop/temp/\""
     ],
     "language": "python",
     "metadata": {},
     "outputs": [],
     "prompt_number": 7
    },
    {
     "cell_type": "code",
     "collapsed": false,
     "input": [
      "DISAGG_FEATURE = Measurement('power', 'active')"
     ],
     "language": "python",
     "metadata": {},
     "outputs": [],
     "prompt_number": 8
    },
    {
     "cell_type": "code",
     "collapsed": false,
     "input": [
      "disaggregators={}\n",
      "disaggregators['fhmm']=FHMM()\n",
      "disaggregators['co']=CO_1d()"
     ],
     "language": "python",
     "metadata": {},
     "outputs": [],
     "prompt_number": 9
    },
    {
     "cell_type": "code",
     "collapsed": false,
     "input": [
      "actual_names_datasets={'redd/low_freq':'REDD',\n",
      "                       'iawe':'iAWE',\n",
      "                       'pecan_1min':'PECAN',\n",
      "                       'ampds':'AMPds',\n",
      "                       'smart':'SMART*',\n",
      "                       'ukpd':'UKPD'\n",
      "                       }\n",
      "                       "
     ],
     "language": "python",
     "metadata": {},
     "outputs": [],
     "prompt_number": 10
    },
    {
     "cell_type": "code",
     "collapsed": false,
     "input": [
      "metric_function={'mne':mean_normalized_error_power,\n",
      "                 'fraction':fraction_energy_assigned_correctly,\n",
      "                 'f_score':f_score\n",
      "                 }"
     ],
     "language": "python",
     "metadata": {},
     "outputs": [],
     "prompt_number": 11
    },
    {
     "cell_type": "code",
     "collapsed": false,
     "input": [
      "train_time={}\n",
      "disaggregate_time={}\n",
      "results={}\n",
      "\n",
      "for dataset in dataset_names:\n",
      "    train_time[dataset]={}\n",
      "    disaggregate_time[dataset]={}\n",
      "    results[dataset]={}\n",
      "    for algorithm in ['fhmm','co']:\n",
      "        train_time[dataset][algorithm]={}\n",
      "        disaggregate_time[dataset][algorithm]={}\n",
      "        results[dataset][algorithm]={}\n",
      "    for metric in metrics:\n",
      "        results[dataset][algorithm][metric]={}  "
     ],
     "language": "python",
     "metadata": {},
     "outputs": [],
     "prompt_number": 12
    },
    {
     "cell_type": "markdown",
     "metadata": {},
     "source": [
      "Pre-processing routines for dataset (some are optional)"
     ]
    },
    {
     "cell_type": "code",
     "collapsed": false,
     "input": [
      "def preprocess_iawe(building):\n",
      "    building.utility.electric = building.utility.electric.sum_split_supplies()\n",
      "    building = prepb.filter_out_implausible_values(building, Measurement('voltage', ''), 160, 260)\n",
      "    building = prepb.filter_datetime(building, '7-13-2013', '8-4-2013')\n",
      "    building = prepb.downsample(building, rule='1T')\n",
      "    building = prepb.fill_appliance_gaps(building)\n",
      "    building = prepb.prepend_append_zeros(\n",
      "    building, '7-13-2013', '8-4-2013', '1T', 'Asia/Kolkata')\n",
      "    building = prepb.drop_missing_mains(building)\n",
      "    building = prepb.make_common_index(building)\n",
      "    building = prepb.filter_contribution_less_than_x(building, x=5)    \n",
      "    return building\n",
      "\n",
      "def preprocess_redd(building):\n",
      "    building.utility.electric = building.utility.electric.sum_split_supplies()\n",
      "    building = prepb.downsample(building, rule='1T')\n",
      "    building = prepb.fill_appliance_gaps(building)\n",
      "    building = prepb.drop_missing_mains(building)\n",
      "    building = prepb.make_common_index(building)\n",
      "    building.utility.electric.mains[(1,1)].rename(columns={Measurement('power','apparent'): Measurement('power','active')}, inplace=True)\n",
      "    building = prepb.filter_contribution_less_than_x(building, x=5)\n",
      "   \n",
      "    return building\n",
      "\n",
      "def preprocess_ampds(building):\n",
      "    building = prepb.filter_contribution_less_than_x(building, x=5)\n",
      "    return building\n",
      "\n",
      "def preprocess_pecan(building):\n",
      "    building = prepb.filter_contribution_less_than_x(building, x=5)\n",
      "    return building\n",
      "\n",
      "def preprocess_ukpd(building):\n",
      "    #print(building.utility.electric.mains[(1,1)].columns)\n",
      "    #building.utility.electric.mains[(1,1)].rename(columns={Measurement('power','apparent'):Measurement('power','active')}, inplace=True)\n",
      "    #print(\"After replacing---\")\n",
      "    #print(building.utility.electric.mains[(1,1)].columns)\n",
      "    #print(building.utility.electric.mains[(1,1)].describe())\n",
      "    #building  = prepb.filter_datetime(building, start_datetime='2013-04-05', end_datetime='2013-05-20')\n",
      "    building = prepb.downsample(building, rule='1T')\n",
      "    building = prepb.filter_channels_with_less_than_x_samples(building, 100)\n",
      "    building = prepb.fill_appliance_gaps(building)\n",
      "    building = prepb.prepend_append_zeros(building, '2013-05-01', '2013-06-01', '1T', 'Europe/London')\n",
      "    building = prepb.drop_missing_mains(building)\n",
      "    building = prepb.make_common_index(building)\n",
      "    building = prepb.filter_contribution_less_than_x(building, x=5)\n",
      "    return building\n",
      "\n",
      "def preprocess_smart(building):\n",
      "    building = prepb.filter_out_implausible_values(building, Measurement('power','active'), max_threshold=20000)\n",
      "    #building = prepb.filter_channels_with_less_than_x_samples(building, 100)\n",
      "    building  = prepb.filter_datetime(building, start_datetime='2012-04-30 06:00', end_datetime='2012-07-30')\n",
      "    building = prepb.downsample(building)\n",
      "    building = prepb.fill_appliance_gaps(building)\n",
      "    #for appliance_name, appliance_df in building.utility.electric.appliances.iteritems():\n",
      "    #    appliance_df.fillna(method='ffill',inplace=True, limit=2)\n",
      "    \n",
      "    building = prepb.prepend_append_zeros(building, '2012-04-30', '2012-07-30', '1T', 'US/Eastern')\n",
      "    building = prepb.drop_missing_mains(building)\n",
      "    building = prepb.make_common_index(building)\n",
      "    building  = prepb.filter_contribution_less_than_x(building)\n",
      "    building.utility.electric.appliances.pop(('heat pump',2))\n",
      "    #for appliance_name, appliance_df in building.utility.electric.appliances.iteritems():\n",
      "    #    appliance_df.fillna(0, inplace=True)\n",
      "    return building\n",
      "\n",
      "preprocess_map={'iawe':preprocess_iawe, 'redd/low_freq':preprocess_redd, \n",
      "                'ampds':preprocess_ampds, 'pecan_1min':preprocess_pecan,\n",
      "                'smart':preprocess_smart,'ukpd':preprocess_ukpd}"
     ],
     "language": "python",
     "metadata": {},
     "outputs": [],
     "prompt_number": 57
    },
    {
     "cell_type": "code",
     "collapsed": false,
     "input": [
      "for dataset_name in dataset_names:\n",
      "    print(\"*\"*80)\n",
      "    print(\"Loading {}\".format(dataset_name))\n",
      "    dataset =DataSet()\n",
      "    dataset.load_hdf5(os.path.join(base_path, dataset_name), [1])\n",
      "    print(\"Loaded {}\".format(dataset_name))\n",
      "    building = dataset.buildings[1]\n",
      "    print(\"Preprocessing building #1\")    \n",
      "    building = preprocess_map[dataset_name](building)\n",
      "    print(\"Number of appliance left = {}\".format(len(building.utility.electric.appliances.keys()))) \n",
      "    print(\"Dividing data into test and train\")\n",
      "    train, test = train_test_split(building, train_size = 0.5) \n",
      "    for disaggregator_name, disaggregator in disaggregators.iteritems():   \n",
      "        # Train\n",
      "        t1 = time.time()\n",
      "        disaggregator.train(train, disagg_features=[DISAGG_FEATURE])\n",
      "        t2 = time.time()\n",
      "        print(\"Runtime to train for {} = {:.2f} seconds\".format(disaggregator_name, t2 - t1))\n",
      "        train_time[dataset_name][disaggregator_name]=t2-t1\n",
      "    \n",
      "        # Disaggregate\n",
      "        t1 = time.time()\n",
      "        disaggregator.disaggregate(test)\n",
      "        t2 = time.time()\n",
      "        print(\"Runtime to disaggregate for {}= {:.2f} seconds\".format(disaggregator_name, t2 - t1))\n",
      "        disaggregate_time[dataset_name][disaggregator_name]=t2-t1   \n",
      "        \n",
      "        # Predicted power and states\n",
      "        predicted_power = disaggregator.predictions\n",
      "        app_ground = test.utility.electric.appliances\n",
      "        ground_truth_power = pd.DataFrame({appliance: app_ground[appliance][DISAGG_FEATURE] for appliance in app_ground})\n",
      "        \n",
      "        for metric in metrics:\n",
      "            results[dataset_name][disaggregator_name][metric] = metric_function[metric](predicted_power, ground_truth_power)    \n",
      "\n",
      "    "
     ],
     "language": "python",
     "metadata": {},
     "outputs": [
      {
       "output_type": "stream",
       "stream": "stdout",
       "text": [
        "********************************************************************************\n",
        "Loading smart\n",
        "Loaded smart"
       ]
      },
      {
       "output_type": "stream",
       "stream": "stdout",
       "text": [
        "\n",
        "Preprocessing building #1\n",
        "Common Measurement: "
       ]
      },
      {
       "output_type": "stream",
       "stream": "stdout",
       "text": [
        " Measurement(physical_quantity='power', type='active')\n",
        "Number of appliance left = 4\n",
        "Dividing data into test and train\n",
        "ApplianceName(name='hair dryer', instance=1)\n",
        "ApplianceName(name='heat pump', instance=1)"
       ]
      },
      {
       "output_type": "stream",
       "stream": "stdout",
       "text": [
        "\n",
        "ApplianceName(name='plugs', instance=6)"
       ]
      },
      {
       "output_type": "stream",
       "stream": "stdout",
       "text": [
        "\n",
        "ApplianceName(name='plugs', instance=10)"
       ]
      },
      {
       "output_type": "stream",
       "stream": "stdout",
       "text": [
        "\n",
        "Runtime to train for fhmm = 46.34 seconds"
       ]
      },
      {
       "output_type": "stream",
       "stream": "stdout",
       "text": [
        "\n",
        "Runtime to disaggregate for fhmm= 1.85 seconds"
       ]
      },
      {
       "output_type": "stream",
       "stream": "stdout",
       "text": [
        "\n",
        "Runtime to train for co = 3.40 seconds"
       ]
      },
      {
       "output_type": "stream",
       "stream": "stdout",
       "text": [
        "\n",
        "16"
       ]
      },
      {
       "output_type": "stream",
       "stream": "stdout",
       "text": [
        "\n",
        "{ApplianceName(name='hair dryer', instance=1): [0, 2558], ApplianceName(name='plugs', instance=6): [0, 170], ApplianceName(name='heat pump', instance=1): [0, 386], ApplianceName(name='plugs', instance=10): [0, 137]}\n",
        "Runtime to disaggregate for co= 0.39 seconds"
       ]
      },
      {
       "output_type": "stream",
       "stream": "stdout",
       "text": [
        "\n"
       ]
      }
     ],
     "prompt_number": 58
    },
    {
     "cell_type": "code",
     "collapsed": false,
     "input": [
      "dataset =DataSet()"
     ],
     "language": "python",
     "metadata": {},
     "outputs": [],
     "prompt_number": 24
    },
    {
     "cell_type": "code",
     "collapsed": false,
     "input": [
      "dataset.load_hdf5(\"/home/nipun/Desktop/temp/smart/\")"
     ],
     "language": "python",
     "metadata": {},
     "outputs": [],
     "prompt_number": 25
    },
    {
     "cell_type": "code",
     "collapsed": false,
     "input": [
      "from nilmtk.stats.electricity.building import proportion_per_appliance"
     ],
     "language": "python",
     "metadata": {},
     "outputs": [],
     "prompt_number": 31
    },
    {
     "cell_type": "code",
     "collapsed": false,
     "input": [
      "electric = dataset.buildings[1].utility.electric"
     ],
     "language": "python",
     "metadata": {},
     "outputs": [],
     "prompt_number": 26
    },
    {
     "cell_type": "code",
     "collapsed": false,
     "input": [
      "proportion_per_appliance(electric)"
     ],
     "language": "python",
     "metadata": {},
     "outputs": [
      {
       "output_type": "stream",
       "stream": "stdout",
       "text": [
        "Masking appliances with mains... may take a little while..."
       ]
      },
      {
       "output_type": "stream",
       "stream": "stdout",
       "text": [
        "Mains sample period = 1.0, max_sample_period = 20.0\n",
        "Getting gap starts and ends...\n",
        "Found 5409 gap starts and 5409 gap ends."
       ]
      },
      {
       "output_type": "stream",
       "stream": "stdout",
       "text": [
        "\n",
        "."
       ]
      },
      {
       "output_type": "stream",
       "stream": "stdout",
       "text": [
        "."
       ]
      },
      {
       "output_type": "stream",
       "stream": "stdout",
       "text": [
        "."
       ]
      },
      {
       "output_type": "stream",
       "stream": "stdout",
       "text": [
        "."
       ]
      },
      {
       "output_type": "stream",
       "stream": "stdout",
       "text": [
        "."
       ]
      },
      {
       "output_type": "stream",
       "stream": "stdout",
       "text": [
        "."
       ]
      },
      {
       "output_type": "stream",
       "stream": "stdout",
       "text": [
        "."
       ]
      },
      {
       "output_type": "stream",
       "stream": "stdout",
       "text": [
        "."
       ]
      },
      {
       "output_type": "stream",
       "stream": "stdout",
       "text": [
        "."
       ]
      },
      {
       "output_type": "stream",
       "stream": "stdout",
       "text": [
        "."
       ]
      },
      {
       "output_type": "stream",
       "stream": "stdout",
       "text": [
        "."
       ]
      },
      {
       "output_type": "stream",
       "stream": "stdout",
       "text": [
        "."
       ]
      },
      {
       "output_type": "stream",
       "stream": "stdout",
       "text": [
        "."
       ]
      },
      {
       "output_type": "stream",
       "stream": "stdout",
       "text": [
        "."
       ]
      },
      {
       "output_type": "stream",
       "stream": "stdout",
       "text": [
        "."
       ]
      },
      {
       "output_type": "stream",
       "stream": "stdout",
       "text": [
        "."
       ]
      },
      {
       "output_type": "stream",
       "stream": "stdout",
       "text": [
        "."
       ]
      },
      {
       "output_type": "stream",
       "stream": "stdout",
       "text": [
        "."
       ]
      },
      {
       "output_type": "stream",
       "stream": "stdout",
       "text": [
        "."
       ]
      },
      {
       "output_type": "stream",
       "stream": "stdout",
       "text": [
        "."
       ]
      },
      {
       "output_type": "stream",
       "stream": "stdout",
       "text": [
        "."
       ]
      },
      {
       "output_type": "stream",
       "stream": "stdout",
       "text": [
        "."
       ]
      },
      {
       "output_type": "stream",
       "stream": "stdout",
       "text": [
        "."
       ]
      },
      {
       "output_type": "stream",
       "stream": "stdout",
       "text": [
        "."
       ]
      },
      {
       "output_type": "stream",
       "stream": "stdout",
       "text": [
        "."
       ]
      },
      {
       "output_type": "stream",
       "stream": "stdout",
       "text": [
        "done\n",
        "Inserting zeros... may take a little while..."
       ]
      },
      {
       "output_type": "stream",
       "stream": "stdout",
       "text": [
        "done inserting zeros\n"
       ]
      },
      {
       "metadata": {},
       "output_type": "pyout",
       "prompt_number": 32,
       "text": [
        "(plugs, 10)             0.133741\n",
        "(plugs, 6)              0.110712\n",
        "(heat pump, 1)          0.075592\n",
        "(heat pump, 2)          0.074794\n",
        "(hair dryer, 1)         0.070687\n",
        "(fridge, 1)             0.044923\n",
        "(plugs, 2)              0.038350\n",
        "(plugs, 8)              0.034198\n",
        "(plugs, 9)              0.031644\n",
        "(light, 3)              0.015437\n",
        "(dishwasher, 1)         0.008195\n",
        "(plugs, 11)             0.006669\n",
        "(plugs, 5)              0.006321\n",
        "(plugs, 1)              0.005910\n",
        "(light, 4)              0.005667\n",
        "(light, 5)              0.004524\n",
        "(washing machine, 1)    0.004346\n",
        "(light, 1)              0.004244\n",
        "(plugs, 12)             0.004237\n",
        "(microwave, 1)          0.001721\n",
        "(plugs, 13)             0.001529\n",
        "(plugs, 7)              0.001244\n",
        "(plugs, 4)              0.000614\n",
        "(light, 2)              0.000463\n",
        "(plugs, 3)              0.000183\n",
        "dtype: float64"
       ]
      }
     ],
     "prompt_number": 32
    },
    {
     "cell_type": "code",
     "collapsed": false,
     "input": [
      "for appliance_name, appliance_df in electric.appliances.iteritems():\n",
      "    print(appliance_name)\n",
      "    print(\"*\"*80)\n",
      "    print(appliance_df.describe())\n",
      "    print(appliance_df\n"
     ],
     "language": "python",
     "metadata": {},
     "outputs": [
      {
       "output_type": "stream",
       "stream": "stdout",
       "text": [
        "ApplianceName(name='heat pump', instance=2)\n",
        "********************************************************************************\n",
        "       (power, active)  (power, apparent)\n",
        "count   2583785.000000     2583785.000000\n",
        "mean        278.324353         400.691014\n",
        "std         332.188685         347.487070\n",
        "min          -0.112000          -0.000000\n",
        "25%           2.893000          12.345000\n",
        "50%          73.939000         278.295000\n",
        "75%         540.462000         740.546000\n",
        "max        1074.006000        1079.312000"
       ]
      },
      {
       "output_type": "stream",
       "stream": "stdout",
       "text": [
        "\n",
        "ApplianceName(name='plugs', instance=9)\n",
        "********************************************************************************\n",
        "       (power, active)  (power, apparent)\n",
        "count    387983.000000      387983.000000\n",
        "mean        170.365496         183.332101\n",
        "std         207.430657         221.199901\n",
        "min           8.548000          -0.000000\n",
        "25%          16.329500          23.760000\n",
        "50%          68.592000          69.843000\n",
        "75%         394.356000         431.211000\n",
        "max        1142.160000        1147.087000"
       ]
      },
      {
       "output_type": "stream",
       "stream": "stdout",
       "text": [
        "\n",
        "ApplianceName(name='plugs', instance=4)\n",
        "********************************************************************************\n",
        "       (power, active)  (power, apparent)\n",
        "count      7857.000000        7857.000000\n",
        "mean        671.403442         692.053842\n",
        "std         513.583570         528.461664\n",
        "min          -0.611000           2.834000\n",
        "25%           3.955000           6.299000\n",
        "50%        1016.905000        1042.139000\n",
        "75%        1077.068000        1104.492000\n",
        "max        1663.146000        1895.107000\n",
        "ApplianceName(name='plugs', instance=13)\n",
        "********************************************************************************\n",
        "       (power, active)  (power, apparent)\n",
        "count   1415893.000000     1415893.000000\n",
        "mean          6.249381           7.710703\n",
        "std          20.015660          20.960290\n",
        "min          -5.138000          -0.000000\n",
        "25%           4.517000           6.043000\n",
        "50%           5.673000           7.019000\n",
        "75%           6.699000           8.023000\n",
        "max        1524.489000        1797.991000"
       ]
      },
      {
       "output_type": "stream",
       "stream": "stdout",
       "text": [
        "\n",
        "ApplianceName(name='heat pump', instance=1)\n",
        "********************************************************************************\n",
        "       (power, active)  (power, apparent)\n",
        "count   1112975.000000     1112975.000000\n",
        "mean        443.877113         484.851906\n",
        "std         118.903453         131.471184\n",
        "min          18.037000          -0.000000\n",
        "25%         447.350500         485.640000\n",
        "50%         468.046000         505.226000\n",
        "75%         486.471000         523.825000\n",
        "max         791.655000        1059.570000"
       ]
      },
      {
       "output_type": "stream",
       "stream": "stdout",
       "text": [
        "\n",
        "ApplianceName(name='fridge', instance=1)\n",
        "********************************************************************************\n",
        "       (power, active)  (power, apparent)\n",
        "count    496622.000000      496622.000000\n",
        "mean         95.556982         149.842815\n",
        "std         100.019178         129.248124\n",
        "min           1.868000          -0.000000\n",
        "25%           7.035000          10.564000\n",
        "50%         110.582000         197.390000\n",
        "75%         119.064000         203.664000\n",
        "max        1420.991000        1700.841000"
       ]
      },
      {
       "output_type": "stream",
       "stream": "stdout",
       "text": [
        "\n",
        "ApplianceName(name='plugs', instance=1)\n",
        "********************************************************************************\n",
        "       (power, active)  (power, apparent)\n",
        "count    339858.000000      339858.000000\n",
        "mean         47.997202          54.532096\n",
        "std         193.765630         198.576894\n",
        "min          -1.727000          -0.000000\n",
        "25%          10.700000          15.685000\n",
        "50%          11.702000          17.755000\n",
        "75%          13.182000          19.349000\n",
        "max        2402.876000        2495.459000"
       ]
      },
      {
       "output_type": "stream",
       "stream": "stdout",
       "text": [
        "\n",
        "ApplianceName(name='light', instance=3)\n",
        "********************************************************************************\n",
        "       (power, active)  (power, apparent)\n",
        "count     53306.000000       53306.000000\n",
        "mean         21.897027          32.850251\n",
        "std          61.021523          73.006398\n",
        "min          -0.132000          -0.000000\n",
        "25%           2.251250           8.293000\n",
        "50%           3.102000           8.531000\n",
        "75%           3.508000           8.862000\n",
        "max         605.857000         614.026000\n",
        "ApplianceName(name='hair dryer', instance=1)\n",
        "********************************************************************************\n",
        "       (power, active)  (power, apparent)\n",
        "count    226808.000000      226808.000000\n",
        "mean       2634.729118        2912.861519\n",
        "std        2658.755033        2544.524633\n",
        "min          -6.114000          -0.000000\n",
        "25%         512.511750        1039.510000\n",
        "50%         558.696000        1082.967500\n",
        "75%        5758.456500        5871.844500\n",
        "max        6136.904000        6299.202000"
       ]
      },
      {
       "output_type": "stream",
       "stream": "stdout",
       "text": [
        "\n",
        "ApplianceName(name='plugs', instance=5)\n",
        "********************************************************************************\n",
        "       (power, active)  (power, apparent)\n",
        "count     10777.000000       10777.000000\n",
        "mean         24.734641          32.948751\n",
        "std          59.079128          61.686962\n",
        "min          -2.059000          -0.000000\n",
        "25%           3.157000           9.511000\n",
        "50%           4.185000           9.814000\n",
        "75%           5.289000          11.143000\n",
        "max         405.903000         415.545000\n",
        "ApplianceName(name='plugs', instance=10)\n",
        "********************************************************************************\n",
        "       (power, active)  (power, apparent)\n",
        "count   1341335.000000     1341335.000000\n",
        "mean        286.974940         309.580112\n",
        "std         242.061475         239.362826\n",
        "min          50.678000          -0.000000\n",
        "25%          66.829000          96.080500\n",
        "50%         127.667000         143.144000\n",
        "75%         544.043000         563.484000\n",
        "max        1615.506000        1646.855000"
       ]
      },
      {
       "output_type": "stream",
       "stream": "stdout",
       "text": [
        "\n",
        "ApplianceName(name='light', instance=2)\n",
        "********************************************************************************\n",
        "       (power, active)  (power, apparent)\n",
        "count      2826.000000        2826.000000\n",
        "mean         31.883436          52.523199\n",
        "std          26.708524          33.829708\n",
        "min          -1.415000           3.813000\n",
        "25%           3.898250          23.113000\n",
        "50%          38.276500          60.867500\n",
        "75%          47.757250          73.553500\n",
        "max         122.974000         153.015000\n",
        "ApplianceName(name='plugs', instance=2)\n",
        "********************************************************************************\n",
        "       (power, active)  (power, apparent)\n",
        "count    751559.000000      751559.000000\n",
        "mean        158.751890         183.124382\n",
        "std         127.977195         124.477415\n",
        "min          61.196000          -0.000000\n",
        "25%          71.333000          99.688000\n",
        "50%         108.260000         143.378000\n",
        "75%         236.234000         249.036000\n",
        "max        1664.975000        1911.859000"
       ]
      },
      {
       "output_type": "stream",
       "stream": "stdout",
       "text": [
        "\n",
        "ApplianceName(name='microwave', instance=1)\n",
        "********************************************************************************\n",
        "       (power, active)  (power, apparent)\n",
        "count     10592.000000       10592.000000\n",
        "mean       1074.086210        1198.760109\n",
        "std         710.854045         739.710640\n",
        "min           1.085000          -0.000000\n",
        "25%          63.583250          74.887750\n",
        "50%        1555.986500        1668.275500\n",
        "75%        1600.841250        1729.758750\n",
        "max        1671.413000        1824.549000\n",
        "ApplianceName(name='plugs', instance=11)\n",
        "********************************************************************************\n",
        "       (power, active)  (power, apparent)\n",
        "count    612611.000000      612611.000000\n",
        "mean         22.562568          30.315513\n",
        "std         107.420496         107.134216\n",
        "min          -3.243000          -0.000000\n",
        "25%           4.093000          13.209000\n",
        "50%           5.215000          13.451000\n",
        "75%           5.785000          13.734000\n",
        "max        1036.609000        1040.617000"
       ]
      },
      {
       "output_type": "stream",
       "stream": "stdout",
       "text": [
        "\n",
        "ApplianceName(name='light', instance=5)\n",
        "********************************************************************************\n",
        "       (power, active)  (power, apparent)\n",
        "count    874050.000000      874050.000000\n",
        "mean         11.430689          46.261603\n",
        "std           9.320380           8.453654\n",
        "min           7.502000          -0.000000\n",
        "25%           9.827000          45.413000\n",
        "50%          11.130000          45.985000\n",
        "75%          12.266000          46.590000\n",
        "max         282.587000         293.662000"
       ]
      },
      {
       "output_type": "stream",
       "stream": "stdout",
       "text": [
        "\n",
        "ApplianceName(name='plugs', instance=6)\n",
        "********************************************************************************\n",
        "       (power, active)  (power, apparent)\n",
        "count    416723.000000      416723.000000\n",
        "mean        738.582382         782.419432\n",
        "std         424.146913         440.641777\n",
        "min           8.933000          -0.000000\n",
        "25%         111.285500         129.553000\n",
        "50%         964.753000        1016.895000\n",
        "75%        1030.476000        1081.265500\n",
        "max        1219.413000        1662.490000"
       ]
      },
      {
       "output_type": "stream",
       "stream": "stdout",
       "text": [
        "\n",
        "ApplianceName(name='light', instance=1)\n",
        "********************************************************************************\n",
        "       (power, active)  (power, apparent)\n",
        "count     65832.000000       65832.000000\n",
        "mean         63.573037          76.406354\n",
        "std         112.929703         118.901288\n",
        "min           3.529000          -0.000000\n",
        "25%           5.746000          14.435000\n",
        "50%           6.681000          15.772000\n",
        "75%          96.069250         106.605750\n",
        "max         600.195000         624.332000\n",
        "ApplianceName(name='washing machine', instance=1)\n",
        "********************************************************************************\n",
        "       (power, active)  (power, apparent)\n",
        "count     56953.000000       56953.000000\n",
        "mean        523.310342        1037.095220\n",
        "std         122.505394         152.302232\n",
        "min           0.845000          -0.000000\n",
        "25%         451.324000        1019.210000\n",
        "50%         552.029000        1062.323000\n",
        "75%         617.214000        1102.239000\n",
        "max         950.139000        1553.991000\n",
        "ApplianceName(name='plugs', instance=3)\n",
        "********************************************************************************\n",
        "       (power, active)  (power, apparent)\n",
        "count      2402.000000        2402.000000\n",
        "mean        346.001525         352.165502\n",
        "std         602.298072         604.616210\n",
        "min          -1.686000           1.466000\n",
        "25%          -0.871750           1.811000\n",
        "50%           0.308000           3.401000\n",
        "75%         806.430750         810.706000\n",
        "max        1612.182000        1619.574000"
       ]
      },
      {
       "output_type": "stream",
       "stream": "stdout",
       "text": [
        "\n",
        "ApplianceName(name='dishwasher', instance=1)\n",
        "********************************************************************************\n",
        "       (power, active)  (power, apparent)\n",
        "count    232349.000000      232349.000000\n",
        "mean        126.726439         151.745350\n",
        "std         389.417258         386.757142\n",
        "min           3.271000          -0.000000\n",
        "25%           5.011000          31.826000\n",
        "50%           5.959000          32.234000\n",
        "75%           6.285000          32.749000\n",
        "max        2064.953000        2303.311000"
       ]
      },
      {
       "output_type": "stream",
       "stream": "stdout",
       "text": [
        "\n",
        "ApplianceName(name='plugs', instance=8)\n",
        "********************************************************************************\n",
        "       (power, active)  (power, apparent)\n",
        "count     48206.000000       48206.000000\n",
        "mean        171.103487         199.395545\n",
        "std         140.777872         197.520395\n",
        "min           9.926000          -0.000000\n",
        "25%         121.596000         128.145000\n",
        "50%         131.160000         138.379500\n",
        "75%         138.340500         147.964000\n",
        "max        2467.225000        2696.830000\n",
        "ApplianceName(name='light', instance=4)\n",
        "********************************************************************************\n",
        "       (power, active)  (power, apparent)\n",
        "count     15964.000000       15964.000000\n",
        "mean         59.063886          72.068093\n",
        "std          85.184767          90.245312\n",
        "min           3.663000          -0.000000\n",
        "25%           5.648000          12.110000\n",
        "50%           7.822000          13.903500\n",
        "75%         101.909500         109.797750\n",
        "max         450.872000         468.132000\n",
        "ApplianceName(name='plugs', instance=7)\n",
        "********************************************************************************\n",
        "       (power, active)  (power, apparent)\n",
        "count      8299.000000        8299.000000\n",
        "mean         60.208712          81.615288\n",
        "std         132.962945         166.661793\n",
        "min          -0.968000          -0.000000\n",
        "25%           2.283000           3.069500\n",
        "50%          41.241000          50.305000\n",
        "75%          51.120500          62.073000\n",
        "max        1644.329000        1836.367000\n",
        "ApplianceName(name='plugs', instance=12)\n",
        "********************************************************************************\n",
        "       (power, active)  (power, apparent)\n",
        "count    574980.000000      574980.000000\n",
        "mean         34.359422          38.304831\n",
        "std         214.813095         216.279219\n",
        "min          -3.993000          -0.000000\n",
        "25%           1.475000           5.528000\n",
        "50%           2.214000           5.824000\n",
        "75%           3.007000           6.082000\n",
        "max        2910.137000        2923.075000"
       ]
      },
      {
       "output_type": "stream",
       "stream": "stdout",
       "text": [
        "\n"
       ]
      }
     ],
     "prompt_number": 30
    },
    {
     "cell_type": "code",
     "collapsed": false,
     "input": [
      "b=preprocess_smart(dataset.buildings[1])"
     ],
     "language": "python",
     "metadata": {},
     "outputs": [
      {
       "output_type": "stream",
       "stream": "stdout",
       "text": [
        "Common Measurement:  Measurement(physical_quantity='power', type='active')\n"
       ]
      }
     ],
     "prompt_number": 37
    },
    {
     "cell_type": "code",
     "collapsed": false,
     "input": [
      "b.utility.electric.appliances"
     ],
     "language": "python",
     "metadata": {},
     "outputs": [
      {
       "metadata": {},
       "output_type": "pyout",
       "prompt_number": 39,
       "text": [
        "{ApplianceName(name='hair dryer', instance=1): <class 'pandas.core.frame.DataFrame'>\n",
        "DatetimeIndex: 124866 entries, 2012-04-30 06:00:00-04:00 to 2012-07-29 20:00:00-04:00\n",
        "Data columns (total 2 columns):\n",
        "(power, active)      124866  non-null values\n",
        "(power, apparent)    124866  non-null values\n",
        "dtypes: float64(2),\n",
        " ApplianceName(name='heat pump', instance=1): <class 'pandas.core.frame.DataFrame'>\n",
        "DatetimeIndex: 124866 entries, 2012-04-30 06:00:00-04:00 to 2012-07-29 20:00:00-04:00\n",
        "Data columns (total 2 columns):\n",
        "(power, active)      124866  non-null values\n",
        "(power, apparent)    124866  non-null values\n",
        "dtypes: float64(2),\n",
        " ApplianceName(name='heat pump', instance=2): <class 'pandas.core.frame.DataFrame'>\n",
        "DatetimeIndex: 124866 entries, 2012-04-30 06:00:00-04:00 to 2012-07-29 20:00:00-04:00\n",
        "Data columns (total 2 columns):\n",
        "(power, active)      124866  non-null values\n",
        "(power, apparent)    124866  non-null values\n",
        "dtypes: float64(2),\n",
        " ApplianceName(name='plugs', instance=6): <class 'pandas.core.frame.DataFrame'>\n",
        "DatetimeIndex: 124866 entries, 2012-04-30 06:00:00-04:00 to 2012-07-29 20:00:00-04:00\n",
        "Data columns (total 2 columns):\n",
        "(power, active)      124866  non-null values\n",
        "(power, apparent)    124866  non-null values\n",
        "dtypes: float64(2),\n",
        " ApplianceName(name='plugs', instance=10): <class 'pandas.core.frame.DataFrame'>\n",
        "DatetimeIndex: 124866 entries, 2012-04-30 06:00:00-04:00 to 2012-07-29 20:00:00-04:00\n",
        "Data columns (total 2 columns):\n",
        "(power, active)      124866  non-null values\n",
        "(power, apparent)    124866  non-null values\n",
        "dtypes: float64(2)}"
       ]
      }
     ],
     "prompt_number": 39
    },
    {
     "cell_type": "code",
     "collapsed": false,
     "input": [
      "dataset.buildings[1].utility.electric.mains"
     ],
     "language": "python",
     "metadata": {},
     "outputs": [
      {
       "metadata": {},
       "output_type": "pyout",
       "prompt_number": 35,
       "text": [
        "{MainsName(split=1, meter=1): <class 'pandas.core.frame.DataFrame'>\n",
        "DatetimeIndex: 5008571 entries, 2012-04-30 05:16:03-04:00 to 2012-07-31 05:15:30-04:00\n",
        "Columns: 2 entries, (power, active) to (power, apparent)\n",
        "dtypes: float64(2)}"
       ]
      }
     ],
     "prompt_number": 35
    },
    {
     "cell_type": "code",
     "collapsed": false,
     "input": [
      "\n",
      "pd.DataFrame(train_time).T"
     ],
     "language": "python",
     "metadata": {},
     "outputs": [
      {
       "html": [
        "<div style=\"max-height:1000px;max-width:1500px;overflow:auto;\">\n",
        "<table border=\"1\" class=\"dataframe\">\n",
        "  <thead>\n",
        "    <tr style=\"text-align: right;\">\n",
        "      <th></th>\n",
        "      <th>co</th>\n",
        "      <th>fhmm</th>\n",
        "    </tr>\n",
        "  </thead>\n",
        "  <tbody>\n",
        "    <tr>\n",
        "      <th>smart</th>\n",
        "      <td> 4.32053</td>\n",
        "      <td> 58.463533</td>\n",
        "    </tr>\n",
        "  </tbody>\n",
        "</table>\n",
        "</div>"
       ],
       "metadata": {},
       "output_type": "pyout",
       "prompt_number": 42,
       "text": [
        "            co       fhmm\n",
        "smart  4.32053  58.463533"
       ]
      }
     ],
     "prompt_number": 42
    },
    {
     "cell_type": "code",
     "collapsed": false,
     "input": [
      "pd.DataFrame(disaggregate_time).T"
     ],
     "language": "python",
     "metadata": {},
     "outputs": [
      {
       "html": [
        "<div style=\"max-height:1000px;max-width:1500px;overflow:auto;\">\n",
        "<table border=\"1\" class=\"dataframe\">\n",
        "  <thead>\n",
        "    <tr style=\"text-align: right;\">\n",
        "      <th></th>\n",
        "      <th>co</th>\n",
        "      <th>fhmm</th>\n",
        "    </tr>\n",
        "  </thead>\n",
        "  <tbody>\n",
        "    <tr>\n",
        "      <th>smart</th>\n",
        "      <td> 0.477829</td>\n",
        "      <td> 2.226862</td>\n",
        "    </tr>\n",
        "  </tbody>\n",
        "</table>\n",
        "</div>"
       ],
       "metadata": {},
       "output_type": "pyout",
       "prompt_number": 43,
       "text": [
        "             co      fhmm\n",
        "smart  0.477829  2.226862"
       ]
      }
     ],
     "prompt_number": 43
    },
    {
     "cell_type": "code",
     "collapsed": false,
     "input": [
      "def compute_summary(results):\n",
      "    results = deepcopy(results)\n",
      "    for dataset_name, dataset_vals in results.iteritems():    \n",
      "        for algo_name, algo_vals in dataset_vals.iteritems():\n",
      "            sum_fscore=0.0\n",
      "            count_f = 0\n",
      "            for appliance_fscore in algo_vals['f_score'].values():\n",
      "                sum_fscore+=appliance_fscore\n",
      "                count_f +=1\n",
      "            algo_vals['f_score'] = sum_fscore/count_f\n",
      "            sum_mne=0.0\n",
      "            count_m = 0\n",
      "            for appliance_mne in algo_vals['mne'].values():\n",
      "                sum_mne+=appliance_mne\n",
      "                count_m +=1\n",
      "            algo_vals['mne'] = sum_mne/count_m\n",
      "    return results"
     ],
     "language": "python",
     "metadata": {},
     "outputs": [],
     "prompt_number": 59
    },
    {
     "cell_type": "code",
     "collapsed": false,
     "input": [
      "results"
     ],
     "language": "python",
     "metadata": {},
     "outputs": [
      {
       "metadata": {},
       "output_type": "pyout",
       "prompt_number": 60,
       "text": [
        "{'smart': {'co': {'f_score': {ApplianceName(name='hair dryer', instance=1): 0.14787917061361963,\n",
        "    ApplianceName(name='heat pump', instance=1): 0.82796109826700048,\n",
        "    ApplianceName(name='plugs', instance=6): 0.30962981033115816,\n",
        "    ApplianceName(name='plugs', instance=10): 0.83867367344091515},\n",
        "   'fraction': 0.50097016239156722,\n",
        "   'mne': {ApplianceName(name='hair dryer', instance=1): 9.6361914225136651,\n",
        "    ApplianceName(name='heat pump', instance=1): 0.60503063853568495,\n",
        "    ApplianceName(name='plugs', instance=6): 1.3067361105168673,\n",
        "    ApplianceName(name='plugs', instance=10): 0.84020827315353408}},\n",
        "  'fhmm': {'f_score': {ApplianceName(name='hair dryer', instance=1): 0.17354141034773035,\n",
        "    ApplianceName(name='heat pump', instance=1): 0.94731783808391723,\n",
        "    ApplianceName(name='plugs', instance=6): 0.31142488757508097,\n",
        "    ApplianceName(name='plugs', instance=10): 0.99991189780144973},\n",
        "   'fraction': 0.65874064311451463,\n",
        "   'mne': {ApplianceName(name='hair dryer', instance=1): 7.5874680650528825,\n",
        "    ApplianceName(name='heat pump', instance=1): 0.57110474608396633,\n",
        "    ApplianceName(name='plugs', instance=6): 1.9103436782464613,\n",
        "    ApplianceName(name='plugs', instance=10): 0.77002172413947001}}}}"
       ]
      }
     ],
     "prompt_number": 60
    },
    {
     "cell_type": "code",
     "collapsed": false,
     "input": [
      "%matplotlib qt"
     ],
     "language": "python",
     "metadata": {},
     "outputs": [],
     "prompt_number": 25
    },
    {
     "cell_type": "code",
     "collapsed": false,
     "input": [
      "predicted_power"
     ],
     "language": "python",
     "metadata": {},
     "outputs": [
      {
       "html": [
        "<pre>\n",
        "&lt;class 'pandas.core.frame.DataFrame'&gt;\n",
        "DatetimeIndex: 62433 entries, 2012-06-14 09:34:00-04:00 to 2012-07-29 20:00:00-04:00\n",
        "Data columns (total 5 columns):\n",
        "(hair dryer, 1)    62433  non-null values\n",
        "(heat pump, 1)     62433  non-null values\n",
        "(heat pump, 2)     62433  non-null values\n",
        "(plugs, 6)         62433  non-null values\n",
        "(plugs, 10)        62433  non-null values\n",
        "dtypes: float64(5)\n",
        "</pre>"
       ],
       "metadata": {},
       "output_type": "pyout",
       "prompt_number": 51,
       "text": [
        "<class 'pandas.core.frame.DataFrame'>\n",
        "DatetimeIndex: 62433 entries, 2012-06-14 09:34:00-04:00 to 2012-07-29 20:00:00-04:00\n",
        "Data columns (total 5 columns):\n",
        "(hair dryer, 1)    62433  non-null values\n",
        "(heat pump, 1)     62433  non-null values\n",
        "(heat pump, 2)     62433  non-null values\n",
        "(plugs, 6)         62433  non-null values\n",
        "(plugs, 10)        62433  non-null values\n",
        "dtypes: float64(5)"
       ]
      }
     ],
     "prompt_number": 51
    },
    {
     "cell_type": "code",
     "collapsed": false,
     "input": [
      "predicted_power[('heat pump',2)].plot()"
     ],
     "language": "python",
     "metadata": {},
     "outputs": [
      {
       "metadata": {},
       "output_type": "pyout",
       "prompt_number": 52,
       "text": [
        "<matplotlib.axes.AxesSubplot at 0x1d810390>"
       ]
      },
      {
       "metadata": {},
       "output_type": "display_data",
       "png": "[encoded data removed]",
       "text": [
        "<matplotlib.figure.Figure at 0x1d8104d0>"
       ]
      }
     ],
     "prompt_number": 52
    },
    {
     "cell_type": "code",
     "collapsed": false,
     "input": [
      "%matplotlib qt"
     ],
     "language": "python",
     "metadata": {},
     "outputs": [],
     "prompt_number": 34
    },
    {
     "cell_type": "code",
     "collapsed": false,
     "input": [
      "fig, axes = plt.subplots(ncols=2, sharex=True)"
     ],
     "language": "python",
     "metadata": {},
     "outputs": [],
     "prompt_number": 42
    },
    {
     "cell_type": "code",
     "collapsed": false,
     "input": [
      "ground_truth_power[('washing_machine',1)].plot()"
     ],
     "language": "python",
     "metadata": {},
     "outputs": [
      {
       "metadata": {},
       "output_type": "pyout",
       "prompt_number": 29,
       "text": [
        "<matplotlib.axes.AxesSubplot at 0x5c1c290>"
       ]
      }
     ],
     "prompt_number": 29
    },
    {
     "cell_type": "code",
     "collapsed": false,
     "input": [
      "results_copy = compute_summary(results)"
     ],
     "language": "python",
     "metadata": {},
     "outputs": [],
     "prompt_number": 61
    },
    {
     "cell_type": "code",
     "collapsed": false,
     "input": [
      "tables = {}\n",
      "for dataset_name in dataset_names:\n",
      "    tables[dataset_name] = pd.DataFrame(results_copy[dataset_name])"
     ],
     "language": "python",
     "metadata": {},
     "outputs": [],
     "prompt_number": 62
    },
    {
     "cell_type": "code",
     "collapsed": false,
     "input": [
      "tables['smart']"
     ],
     "language": "python",
     "metadata": {},
     "outputs": [
      {
       "html": [
        "<div style=\"max-height:1000px;max-width:1500px;overflow:auto;\">\n",
        "<table border=\"1\" class=\"dataframe\">\n",
        "  <thead>\n",
        "    <tr style=\"text-align: right;\">\n",
        "      <th></th>\n",
        "      <th>co</th>\n",
        "      <th>fhmm</th>\n",
        "    </tr>\n",
        "  </thead>\n",
        "  <tbody>\n",
        "    <tr>\n",
        "      <th>f_score</th>\n",
        "      <td> 0.531036</td>\n",
        "      <td> 0.608049</td>\n",
        "    </tr>\n",
        "    <tr>\n",
        "      <th>fraction</th>\n",
        "      <td> 0.500970</td>\n",
        "      <td> 0.658741</td>\n",
        "    </tr>\n",
        "    <tr>\n",
        "      <th>mne</th>\n",
        "      <td> 3.097042</td>\n",
        "      <td> 2.709735</td>\n",
        "    </tr>\n",
        "  </tbody>\n",
        "</table>\n",
        "</div>"
       ],
       "metadata": {},
       "output_type": "pyout",
       "prompt_number": 63,
       "text": [
        "                co      fhmm\n",
        "f_score   0.531036  0.608049\n",
        "fraction  0.500970  0.658741\n",
        "mne       3.097042  2.709735"
       ]
      }
     ],
     "prompt_number": 63
    },
    {
     "cell_type": "code",
     "collapsed": false,
     "input": [
      "tables['redd/low_freq']"
     ],
     "language": "python",
     "metadata": {},
     "outputs": [
      {
       "html": [
        "<div style=\"max-height:1000px;max-width:1500px;overflow:auto;\">\n",
        "<table border=\"1\" class=\"dataframe\">\n",
        "  <thead>\n",
        "    <tr style=\"text-align: right;\">\n",
        "      <th></th>\n",
        "      <th>co</th>\n",
        "      <th>fhmm</th>\n",
        "    </tr>\n",
        "  </thead>\n",
        "  <tbody>\n",
        "    <tr>\n",
        "      <th>f_score</th>\n",
        "      <td> 0.312154</td>\n",
        "      <td> 0.309414</td>\n",
        "    </tr>\n",
        "    <tr>\n",
        "      <th>fraction</th>\n",
        "      <td> 0.770624</td>\n",
        "      <td> 0.834987</td>\n",
        "    </tr>\n",
        "    <tr>\n",
        "      <th>mne</th>\n",
        "      <td> 1.621713</td>\n",
        "      <td> 1.347775</td>\n",
        "    </tr>\n",
        "  </tbody>\n",
        "</table>\n",
        "</div>"
       ],
       "metadata": {},
       "output_type": "pyout",
       "prompt_number": 51,
       "text": [
        "                co      fhmm\n",
        "f_score   0.312154  0.309414\n",
        "fraction  0.770624  0.834987\n",
        "mne       1.621713  1.347775"
       ]
      }
     ],
     "prompt_number": 51
    },
    {
     "cell_type": "code",
     "collapsed": false,
     "input": [
      "tables['iawe']"
     ],
     "language": "python",
     "metadata": {},
     "outputs": [
      {
       "html": [
        "<div style=\"max-height:1000px;max-width:1500px;overflow:auto;\">\n",
        "<table border=\"1\" class=\"dataframe\">\n",
        "  <thead>\n",
        "    <tr style=\"text-align: right;\">\n",
        "      <th></th>\n",
        "      <th>co</th>\n",
        "      <th>fhmm</th>\n",
        "    </tr>\n",
        "  </thead>\n",
        "  <tbody>\n",
        "    <tr>\n",
        "      <th>f_score</th>\n",
        "      <td> 0.731403</td>\n",
        "      <td> 0.731300</td>\n",
        "    </tr>\n",
        "    <tr>\n",
        "      <th>fraction</th>\n",
        "      <td> 0.890640</td>\n",
        "      <td> 0.891223</td>\n",
        "    </tr>\n",
        "    <tr>\n",
        "      <th>mne</th>\n",
        "      <td> 0.912465</td>\n",
        "      <td> 0.911057</td>\n",
        "    </tr>\n",
        "  </tbody>\n",
        "</table>\n",
        "</div>"
       ],
       "metadata": {},
       "output_type": "pyout",
       "prompt_number": 52,
       "text": [
        "                co      fhmm\n",
        "f_score   0.731403  0.731300\n",
        "fraction  0.890640  0.891223\n",
        "mne       0.912465  0.911057"
       ]
      }
     ],
     "prompt_number": 52
    },
    {
     "cell_type": "code",
     "collapsed": false,
     "input": [
      "tables['ampds']"
     ],
     "language": "python",
     "metadata": {},
     "outputs": [
      {
       "html": [
        "<div style=\"max-height:1000px;max-width:1500px;overflow:auto;\">\n",
        "<table border=\"1\" class=\"dataframe\">\n",
        "  <thead>\n",
        "    <tr style=\"text-align: right;\">\n",
        "      <th></th>\n",
        "      <th>co</th>\n",
        "      <th>fhmm</th>\n",
        "    </tr>\n",
        "  </thead>\n",
        "  <tbody>\n",
        "    <tr>\n",
        "      <th>f_score</th>\n",
        "      <td> 0.548995</td>\n",
        "      <td> 0.706137</td>\n",
        "    </tr>\n",
        "    <tr>\n",
        "      <th>fraction</th>\n",
        "      <td> 0.438793</td>\n",
        "      <td> 0.840686</td>\n",
        "    </tr>\n",
        "    <tr>\n",
        "      <th>mne</th>\n",
        "      <td> 2.226968</td>\n",
        "      <td> 0.960331</td>\n",
        "    </tr>\n",
        "  </tbody>\n",
        "</table>\n",
        "</div>"
       ],
       "metadata": {},
       "output_type": "pyout",
       "prompt_number": 24,
       "text": [
        "                co      fhmm\n",
        "f_score   0.548995  0.706137\n",
        "fraction  0.438793  0.840686\n",
        "mne       2.226968  0.960331"
       ]
      }
     ],
     "prompt_number": 24
    },
    {
     "cell_type": "code",
     "collapsed": false,
     "input": [
      "tables['pecan_1min']"
     ],
     "language": "python",
     "metadata": {},
     "outputs": [
      {
       "html": [
        "<div style=\"max-height:1000px;max-width:1500px;overflow:auto;\">\n",
        "<table border=\"1\" class=\"dataframe\">\n",
        "  <thead>\n",
        "    <tr style=\"text-align: right;\">\n",
        "      <th></th>\n",
        "      <th>co</th>\n",
        "      <th>fhmm</th>\n",
        "    </tr>\n",
        "  </thead>\n",
        "  <tbody>\n",
        "    <tr>\n",
        "      <th>f_score</th>\n",
        "      <td> 0.766306</td>\n",
        "      <td> 0.773715</td>\n",
        "    </tr>\n",
        "    <tr>\n",
        "      <th>fraction</th>\n",
        "      <td> 0.985541</td>\n",
        "      <td> 0.870985</td>\n",
        "    </tr>\n",
        "    <tr>\n",
        "      <th>mne</th>\n",
        "      <td> 0.684385</td>\n",
        "      <td> 0.746710</td>\n",
        "    </tr>\n",
        "  </tbody>\n",
        "</table>\n",
        "</div>"
       ],
       "metadata": {},
       "output_type": "pyout",
       "prompt_number": 25,
       "text": [
        "                co      fhmm\n",
        "f_score   0.766306  0.773715\n",
        "fraction  0.985541  0.870985\n",
        "mne       0.684385  0.746710"
       ]
      }
     ],
     "prompt_number": 25
    },
    {
     "cell_type": "code",
     "collapsed": false,
     "input": [
      "tables['ukpd']"
     ],
     "language": "python",
     "metadata": {},
     "outputs": [
      {
       "html": [
        "<div style=\"max-height:1000px;max-width:1500px;overflow:auto;\">\n",
        "<table border=\"1\" class=\"dataframe\">\n",
        "  <thead>\n",
        "    <tr style=\"text-align: right;\">\n",
        "      <th></th>\n",
        "      <th>co</th>\n",
        "      <th>fhmm</th>\n",
        "    </tr>\n",
        "  </thead>\n",
        "  <tbody>\n",
        "    <tr>\n",
        "      <th>f_score</th>\n",
        "      <td> 0.382400</td>\n",
        "      <td> 0.375986</td>\n",
        "    </tr>\n",
        "    <tr>\n",
        "      <th>fraction</th>\n",
        "      <td> 0.814792</td>\n",
        "      <td> 0.796775</td>\n",
        "    </tr>\n",
        "    <tr>\n",
        "      <th>mne</th>\n",
        "      <td> 3.655280</td>\n",
        "      <td> 3.665016</td>\n",
        "    </tr>\n",
        "  </tbody>\n",
        "</table>\n",
        "</div>"
       ],
       "metadata": {},
       "output_type": "pyout",
       "prompt_number": 22,
       "text": [
        "                co      fhmm\n",
        "f_score   0.382400  0.375986\n",
        "fraction  0.814792  0.796775\n",
        "mne       3.655280  3.665016"
       ]
      }
     ],
     "prompt_number": 22
    },
    {
     "cell_type": "code",
     "collapsed": false,
     "input": [
      "def create_latex_table(tables):    \n",
      "    header = \"\\\\begin{table*}\\n\" +\"\\\\begin{tabular}{lllllllllll}\\n\\\\hline\"+ \"\\\\textbf{Dataset} & \\multicolumn{2}{c}{\\\\textbf{Train time(s)}}& \\multicolumn{2}{c}{\\\\textbf{Test time(s)}} &\\multicolumn{2}{c}{\\\\textbf{NEP}}    & \\multicolumn{2}{c}{\\\\textbf{FTE}} &\\multicolumn{2}{c}{\\\\textbf{F-score}} \\\\\\ \\n\"+ \"~ &\\\\textbf{CO} & \\\\textbf{FHMM} &\\\\textbf{CO} & \\\\textbf{FHMM} &\\\\textbf{CO} & \\\\textbf{FHMM} &\\\\textbf{CO} & \\\\textbf{FHMM}&\\\\textbf{CO} & \\\\textbf{FHMM} \\\\\\ \\hline \\n\"\n",
      "    footer= \"\\\\hline\\n\\\\end{tabular}\\n\\\\caption{Comparison of CO and FHMM across multiple datasets}\\n\\\\label{table:disaggregation}\\n\\\\end{table*}\"\n",
      "    tab_latex= header\n",
      "    for dataset, result in tables.iteritems():\n",
      "        line=\"\"\n",
      "        line +=actual_names_datasets[dataset]\n",
      "        line +=\" &\"\n",
      "        line +=\"{:.2f} &\".format(train_time[dataset]['co'])\n",
      "        line +=\"{:.2f} &\".format(train_time[dataset]['fhmm'])\n",
      "        line +=\"{:.2f} &\".format(disaggregate_time[dataset]['co'])\n",
      "        line +=\"{:.2f} &\".format(disaggregate_time[dataset]['fhmm'])\n",
      "        line +=\"{:.2f} &\".format(result['co']['mne'])\n",
      "        line +=\"{:.2f} &\".format(result['fhmm']['mne'])\n",
      "        line +=\"{:.2f} &\".format(result['co']['fraction'])\n",
      "        line +=\"{:.2f} &\".format(result['fhmm']['fraction'])\n",
      "        line +=\"{:.2f} &\".format(result['co']['f_score'])\n",
      "        line +=\"{:.2f}\".format(result['fhmm']['f_score'])\n",
      "        line +=\"\\\\\\ \\n\"\n",
      "        tab_latex +=line\n",
      "    tab_latex +=footer\n",
      "    return tab_latex"
     ],
     "language": "python",
     "metadata": {},
     "outputs": [],
     "prompt_number": 64
    },
    {
     "cell_type": "code",
     "collapsed": false,
     "input": [
      "print(create_latex_table(tables))"
     ],
     "language": "python",
     "metadata": {},
     "outputs": [
      {
       "output_type": "stream",
       "stream": "stdout",
       "text": [
        "\\begin{table*}\n",
        "\\begin{tabular}{lllllllllll}\n",
        "\\hline\\textbf{Dataset} & \\multicolumn{2}{c}{\\textbf{Train time(s)}}& \\multicolumn{2}{c}{\\textbf{Test time(s)}} &\\multicolumn{2}{c}{\\textbf{NEP}}    & \\multicolumn{2}{c}{\\textbf{FTE}} &\\multicolumn{2}{c}{\\textbf{F-score}} \\\\ \n",
        "~ &\\textbf{CO} & \\textbf{FHMM} &\\textbf{CO} & \\textbf{FHMM} &\\textbf{CO} & \\textbf{FHMM} &\\textbf{CO} & \\textbf{FHMM}&\\textbf{CO} & \\textbf{FHMM} \\\\ \\hline \n",
        "SMART* &3.40 &46.34 &0.39 &1.85 &3.10 &2.71 &0.50 &0.66 &0.53 &0.61\\\\ \n",
        "\\hline\n",
        "\\end{tabular}\n",
        "\\caption{Comparison of CO and FHMM across multiple datasets}\n",
        "\\label{table:disaggregation}\n",
        "\\end{table*}\n"
       ]
      }
     ],
     "prompt_number": 65
    },
    {
     "cell_type": "code",
     "collapsed": false,
     "input": [],
     "language": "python",
     "metadata": {},
     "outputs": [],
     "prompt_number": 25
    }
   ],
   "metadata": {}
  }
 ]
}