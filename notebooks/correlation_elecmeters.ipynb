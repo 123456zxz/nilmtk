{
 "metadata": {
  "name": "",
  "signature": "sha256:cc77f60ed558e83cb87663a9a89a7724d8dbd1171a4d8c52e5739e594baf634e"
 },
 "nbformat": 3,
 "nbformat_minor": 0,
 "worksheets": [
  {
   "cells": [
    {
     "cell_type": "code",
     "collapsed": false,
     "input": [
      "import numpy as np\n",
      "import pandas as pd\n",
      "from os.path import join\n",
      "\n",
      "from pylab import rcParams\n",
      "import matplotlib.pyplot as plt\n",
      "%matplotlib inline\n",
      "rcParams['figure.figsize'] = (16, 8)\n",
      "\n",
      "import nilmtk\n",
      "from nilmtk import DataSet, TimeFrame, MeterGroup, HDFDataStore\n",
      "from nilmtk.disaggregate import CombinatorialOptimisation\n",
      "from nilmtk.utils import print_dict\n",
      "from nilmtk.metrics import f1_score\n",
      "\n",
      "import seaborn as sns\n",
      "\n",
      "import warnings\n",
      "from nilmtk.plots import plot_correlation_heatmap\n",
      "warnings.filterwarnings(\"ignore\")"
     ],
     "language": "python",
     "metadata": {},
     "outputs": [
      {
       "output_type": "stream",
       "stream": "stdout",
       "text": [
        "Couldn't import dot_parser, loading of dot files will not be possible.\n"
       ]
      }
     ],
     "prompt_number": 1
    },
    {
     "cell_type": "code",
     "collapsed": false,
     "input": [
      "data_dir = '/data/wikienergy'\n",
      "we = DataSet(join(data_dir, 'wikienergy.h5'))\n",
      "print('loaded ' + str(len(we.buildings)) + ' buildings')"
     ],
     "language": "python",
     "metadata": {},
     "outputs": [
      {
       "output_type": "stream",
       "stream": "stdout",
       "text": [
        "loaded 239 buildings\n"
       ]
      }
     ],
     "prompt_number": 2
    },
    {
     "cell_type": "code",
     "collapsed": false,
     "input": [
      "building_number = 11\n",
      "print_dict(we.buildings[building_number].metadata)"
     ],
     "language": "python",
     "metadata": {},
     "outputs": [
      {
       "html": [
        "<ul><li><strong>instance</strong>: 11</li><li><strong>dataset</strong>: WikiEnergy</li><li><strong>original_name</strong>: 434</li></ul>"
       ],
       "metadata": {},
       "output_type": "display_data",
       "text": [
        "<IPython.core.display.HTML at 0x7f1764ac3150>"
       ]
      }
     ],
     "prompt_number": 3
    },
    {
     "cell_type": "code",
     "collapsed": false,
     "input": [
      "elec = we.buildings[building_number].elec\n",
      "elec.appliances"
     ],
     "language": "python",
     "metadata": {},
     "outputs": [
      {
       "metadata": {},
       "output_type": "pyout",
       "prompt_number": 4,
       "text": [
        "[Appliance(type='fridge', instance=1),\n",
        " Appliance(type='dish washer', instance=1),\n",
        " Appliance(type='electric water heating appliance', instance=1),\n",
        " Appliance(type='spin dryer', instance=1),\n",
        " Appliance(type='electric furnace', instance=1),\n",
        " Appliance(type='sockets', instance=1),\n",
        " Appliance(type='sockets', instance=2),\n",
        " Appliance(type='air conditioner', instance=1),\n",
        " Appliance(type='sockets', instance=3),\n",
        " Appliance(type='sockets', instance=4)]"
       ]
      }
     ],
     "prompt_number": 4
    },
    {
     "cell_type": "code",
     "collapsed": false,
     "input": [
      "submeters = elec.submeters().meters\n",
      "submeters"
     ],
     "language": "python",
     "metadata": {},
     "outputs": [
      {
       "metadata": {},
       "output_type": "pyout",
       "prompt_number": 5,
       "text": [
        "[ElecMeter(instance=2, building=11, dataset='WikiEnergy', appliances=[Appliance(type='air conditioner', instance=1)]),\n",
        " ElecMeter(instance=3, building=11, dataset='WikiEnergy', appliances=[Appliance(type='sockets', instance=1)]),\n",
        " ElecMeter(instance=4, building=11, dataset='WikiEnergy', appliances=[Appliance(type='sockets', instance=2)]),\n",
        " ElecMeter(instance=5, building=11, dataset='WikiEnergy', appliances=[Appliance(type='dish washer', instance=1)]),\n",
        " ElecMeter(instance=6, building=11, dataset='WikiEnergy', appliances=[Appliance(type='spin dryer', instance=1)]),\n",
        " ElecMeter(instance=7, building=11, dataset='WikiEnergy', appliances=[Appliance(type='electric furnace', instance=1)]),\n",
        " ElecMeter(instance=8, building=11, dataset='WikiEnergy', appliances=[Appliance(type='sockets', instance=3)]),\n",
        " ElecMeter(instance=9, building=11, dataset='WikiEnergy', appliances=[Appliance(type='sockets', instance=4)]),\n",
        " ElecMeter(instance=10, building=11, dataset='WikiEnergy', appliances=[Appliance(type='fridge', instance=1)]),\n",
        " ElecMeter(instance=11, building=11, dataset='WikiEnergy', appliances=[Appliance(type='electric water heating appliance', instance=1)])]"
       ]
      }
     ],
     "prompt_number": 5
    },
    {
     "cell_type": "code",
     "collapsed": false,
     "input": [
      "first =submeters[0]"
     ],
     "language": "python",
     "metadata": {},
     "outputs": [],
     "prompt_number": 6
    },
    {
     "cell_type": "code",
     "collapsed": false,
     "input": [
      "first.correlation(submeters[1])"
     ],
     "language": "python",
     "metadata": {},
     "outputs": [
      {
       "metadata": {},
       "output_type": "pyout",
       "prompt_number": 7,
       "text": [
        "-0.060695570864674496"
       ]
      }
     ],
     "prompt_number": 7
    },
    {
     "cell_type": "code",
     "collapsed": false,
     "input": [
      "correlation_df = elec.pairwise_correlation()"
     ],
     "language": "python",
     "metadata": {},
     "outputs": [],
     "prompt_number": 8
    },
    {
     "cell_type": "code",
     "collapsed": false,
     "input": [
      "correlation_df"
     ],
     "language": "python",
     "metadata": {},
     "outputs": [
      {
       "html": [
        "<div style=\"max-height:1000px;max-width:1500px;overflow:auto;\">\n",
        "<table border=\"1\" class=\"dataframe\">\n",
        "  <thead>\n",
        "    <tr style=\"text-align: right;\">\n",
        "      <th></th>\n",
        "      <th>(1, 11, WikiEnergy)</th>\n",
        "      <th>(2, 11, WikiEnergy)</th>\n",
        "      <th>(3, 11, WikiEnergy)</th>\n",
        "      <th>(4, 11, WikiEnergy)</th>\n",
        "      <th>(5, 11, WikiEnergy)</th>\n",
        "      <th>(6, 11, WikiEnergy)</th>\n",
        "      <th>(7, 11, WikiEnergy)</th>\n",
        "      <th>(8, 11, WikiEnergy)</th>\n",
        "      <th>(9, 11, WikiEnergy)</th>\n",
        "      <th>(10, 11, WikiEnergy)</th>\n",
        "      <th>(11, 11, WikiEnergy)</th>\n",
        "    </tr>\n",
        "  </thead>\n",
        "  <tbody>\n",
        "    <tr>\n",
        "      <th>(1, 11, WikiEnergy)</th>\n",
        "      <td>           1</td>\n",
        "      <td>   0.7767822</td>\n",
        "      <td> 0.008505902</td>\n",
        "      <td>  0.04546747</td>\n",
        "      <td>    0.177442</td>\n",
        "      <td>   0.6200149</td>\n",
        "      <td>   0.6945421</td>\n",
        "      <td>   0.0478113</td>\n",
        "      <td>   0.1169699</td>\n",
        "      <td>    0.1116754</td>\n",
        "      <td>   0.04581769</td>\n",
        "    </tr>\n",
        "    <tr>\n",
        "      <th>(2, 11, WikiEnergy)</th>\n",
        "      <td>   0.7767822</td>\n",
        "      <td>           1</td>\n",
        "      <td> -0.06069557</td>\n",
        "      <td>-0.005558193</td>\n",
        "      <td>  0.02070908</td>\n",
        "      <td>     0.06489</td>\n",
        "      <td>   0.8216437</td>\n",
        "      <td> -0.00557085</td>\n",
        "      <td>  0.06428014</td>\n",
        "      <td>   0.04670131</td>\n",
        "      <td>   0.01036423</td>\n",
        "    </tr>\n",
        "    <tr>\n",
        "      <th>(3, 11, WikiEnergy)</th>\n",
        "      <td> 0.008505902</td>\n",
        "      <td> -0.06069557</td>\n",
        "      <td>           1</td>\n",
        "      <td>  0.09864813</td>\n",
        "      <td>  0.02942626</td>\n",
        "      <td>  0.04369746</td>\n",
        "      <td> -0.05372177</td>\n",
        "      <td> 0.002078076</td>\n",
        "      <td>  0.04046819</td>\n",
        "      <td>  0.005564681</td>\n",
        "      <td>   0.02027651</td>\n",
        "    </tr>\n",
        "    <tr>\n",
        "      <th>(4, 11, WikiEnergy)</th>\n",
        "      <td>  0.04546747</td>\n",
        "      <td>-0.005558193</td>\n",
        "      <td>  0.09864813</td>\n",
        "      <td>           1</td>\n",
        "      <td>  0.02884259</td>\n",
        "      <td> 0.001228857</td>\n",
        "      <td>  0.03979229</td>\n",
        "      <td>-0.003181818</td>\n",
        "      <td>  0.09078146</td>\n",
        "      <td>   0.01591458</td>\n",
        "      <td>    0.0446082</td>\n",
        "    </tr>\n",
        "    <tr>\n",
        "      <th>(5, 11, WikiEnergy)</th>\n",
        "      <td>    0.177442</td>\n",
        "      <td>  0.02070908</td>\n",
        "      <td>  0.02942626</td>\n",
        "      <td>  0.02884259</td>\n",
        "      <td>           1</td>\n",
        "      <td>   0.0114481</td>\n",
        "      <td>  0.01597073</td>\n",
        "      <td> -0.01791291</td>\n",
        "      <td> 0.006596704</td>\n",
        "      <td>   0.01063991</td>\n",
        "      <td>   -0.0209113</td>\n",
        "    </tr>\n",
        "    <tr>\n",
        "      <th>(6, 11, WikiEnergy)</th>\n",
        "      <td>   0.6200149</td>\n",
        "      <td>     0.06489</td>\n",
        "      <td>  0.04369746</td>\n",
        "      <td> 0.001228857</td>\n",
        "      <td>   0.0114481</td>\n",
        "      <td>           1</td>\n",
        "      <td>  0.06720773</td>\n",
        "      <td> 0.006494385</td>\n",
        "      <td>  0.03847742</td>\n",
        "      <td>    0.0120773</td>\n",
        "      <td>   0.03580152</td>\n",
        "    </tr>\n",
        "    <tr>\n",
        "      <th>(7, 11, WikiEnergy)</th>\n",
        "      <td>   0.6945421</td>\n",
        "      <td>   0.8216437</td>\n",
        "      <td> -0.05372177</td>\n",
        "      <td>  0.03979229</td>\n",
        "      <td>  0.01597073</td>\n",
        "      <td>  0.06720773</td>\n",
        "      <td>           1</td>\n",
        "      <td>-0.001212552</td>\n",
        "      <td>   0.1016233</td>\n",
        "      <td>   0.03015669</td>\n",
        "      <td>   0.07336553</td>\n",
        "    </tr>\n",
        "    <tr>\n",
        "      <th>(8, 11, WikiEnergy)</th>\n",
        "      <td>   0.0478113</td>\n",
        "      <td> -0.00557085</td>\n",
        "      <td> 0.002078076</td>\n",
        "      <td>-0.003181818</td>\n",
        "      <td> -0.01791291</td>\n",
        "      <td> 0.006494385</td>\n",
        "      <td>-0.001212552</td>\n",
        "      <td>           1</td>\n",
        "      <td>-0.002295276</td>\n",
        "      <td>   0.01257717</td>\n",
        "      <td>   0.02548502</td>\n",
        "    </tr>\n",
        "    <tr>\n",
        "      <th>(9, 11, WikiEnergy)</th>\n",
        "      <td>   0.1169699</td>\n",
        "      <td>  0.06428014</td>\n",
        "      <td>  0.04046819</td>\n",
        "      <td>  0.09078146</td>\n",
        "      <td> 0.006596704</td>\n",
        "      <td>  0.03847742</td>\n",
        "      <td>   0.1016233</td>\n",
        "      <td>-0.002295276</td>\n",
        "      <td>           1</td>\n",
        "      <td>   0.01214392</td>\n",
        "      <td>   0.02170789</td>\n",
        "    </tr>\n",
        "    <tr>\n",
        "      <th>(10, 11, WikiEnergy)</th>\n",
        "      <td>   0.1116754</td>\n",
        "      <td>  0.04670131</td>\n",
        "      <td> 0.005564681</td>\n",
        "      <td>  0.01591458</td>\n",
        "      <td>  0.01063991</td>\n",
        "      <td>   0.0120773</td>\n",
        "      <td>  0.03015669</td>\n",
        "      <td>  0.01257717</td>\n",
        "      <td>  0.01214392</td>\n",
        "      <td>            1</td>\n",
        "      <td> 0.0001214065</td>\n",
        "    </tr>\n",
        "    <tr>\n",
        "      <th>(11, 11, WikiEnergy)</th>\n",
        "      <td>  0.04581769</td>\n",
        "      <td>  0.01036423</td>\n",
        "      <td>  0.02027651</td>\n",
        "      <td>   0.0446082</td>\n",
        "      <td>  -0.0209113</td>\n",
        "      <td>  0.03580152</td>\n",
        "      <td>  0.07336553</td>\n",
        "      <td>  0.02548502</td>\n",
        "      <td>  0.02170789</td>\n",
        "      <td> 0.0001214065</td>\n",
        "      <td>            1</td>\n",
        "    </tr>\n",
        "  </tbody>\n",
        "</table>\n",
        "</div>"
       ],
       "metadata": {},
       "output_type": "pyout",
       "prompt_number": 9,
       "text": [
        "                     (1, 11, WikiEnergy) (2, 11, WikiEnergy)  \\\n",
        "(1, 11, WikiEnergy)                    1           0.7767822   \n",
        "(2, 11, WikiEnergy)            0.7767822                   1   \n",
        "(3, 11, WikiEnergy)          0.008505902         -0.06069557   \n",
        "(4, 11, WikiEnergy)           0.04546747        -0.005558193   \n",
        "(5, 11, WikiEnergy)             0.177442          0.02070908   \n",
        "(6, 11, WikiEnergy)            0.6200149             0.06489   \n",
        "(7, 11, WikiEnergy)            0.6945421           0.8216437   \n",
        "(8, 11, WikiEnergy)            0.0478113         -0.00557085   \n",
        "(9, 11, WikiEnergy)            0.1169699          0.06428014   \n",
        "(10, 11, WikiEnergy)           0.1116754          0.04670131   \n",
        "(11, 11, WikiEnergy)          0.04581769          0.01036423   \n",
        "\n",
        "                     (3, 11, WikiEnergy) (4, 11, WikiEnergy)  \\\n",
        "(1, 11, WikiEnergy)          0.008505902          0.04546747   \n",
        "(2, 11, WikiEnergy)          -0.06069557        -0.005558193   \n",
        "(3, 11, WikiEnergy)                    1          0.09864813   \n",
        "(4, 11, WikiEnergy)           0.09864813                   1   \n",
        "(5, 11, WikiEnergy)           0.02942626          0.02884259   \n",
        "(6, 11, WikiEnergy)           0.04369746         0.001228857   \n",
        "(7, 11, WikiEnergy)          -0.05372177          0.03979229   \n",
        "(8, 11, WikiEnergy)          0.002078076        -0.003181818   \n",
        "(9, 11, WikiEnergy)           0.04046819          0.09078146   \n",
        "(10, 11, WikiEnergy)         0.005564681          0.01591458   \n",
        "(11, 11, WikiEnergy)          0.02027651           0.0446082   \n",
        "\n",
        "                     (5, 11, WikiEnergy) (6, 11, WikiEnergy)  \\\n",
        "(1, 11, WikiEnergy)             0.177442           0.6200149   \n",
        "(2, 11, WikiEnergy)           0.02070908             0.06489   \n",
        "(3, 11, WikiEnergy)           0.02942626          0.04369746   \n",
        "(4, 11, WikiEnergy)           0.02884259         0.001228857   \n",
        "(5, 11, WikiEnergy)                    1           0.0114481   \n",
        "(6, 11, WikiEnergy)            0.0114481                   1   \n",
        "(7, 11, WikiEnergy)           0.01597073          0.06720773   \n",
        "(8, 11, WikiEnergy)          -0.01791291         0.006494385   \n",
        "(9, 11, WikiEnergy)          0.006596704          0.03847742   \n",
        "(10, 11, WikiEnergy)          0.01063991           0.0120773   \n",
        "(11, 11, WikiEnergy)          -0.0209113          0.03580152   \n",
        "\n",
        "                     (7, 11, WikiEnergy) (8, 11, WikiEnergy)  \\\n",
        "(1, 11, WikiEnergy)            0.6945421           0.0478113   \n",
        "(2, 11, WikiEnergy)            0.8216437         -0.00557085   \n",
        "(3, 11, WikiEnergy)          -0.05372177         0.002078076   \n",
        "(4, 11, WikiEnergy)           0.03979229        -0.003181818   \n",
        "(5, 11, WikiEnergy)           0.01597073         -0.01791291   \n",
        "(6, 11, WikiEnergy)           0.06720773         0.006494385   \n",
        "(7, 11, WikiEnergy)                    1        -0.001212552   \n",
        "(8, 11, WikiEnergy)         -0.001212552                   1   \n",
        "(9, 11, WikiEnergy)            0.1016233        -0.002295276   \n",
        "(10, 11, WikiEnergy)          0.03015669          0.01257717   \n",
        "(11, 11, WikiEnergy)          0.07336553          0.02548502   \n",
        "\n",
        "                     (9, 11, WikiEnergy) (10, 11, WikiEnergy)  \\\n",
        "(1, 11, WikiEnergy)            0.1169699            0.1116754   \n",
        "(2, 11, WikiEnergy)           0.06428014           0.04670131   \n",
        "(3, 11, WikiEnergy)           0.04046819          0.005564681   \n",
        "(4, 11, WikiEnergy)           0.09078146           0.01591458   \n",
        "(5, 11, WikiEnergy)          0.006596704           0.01063991   \n",
        "(6, 11, WikiEnergy)           0.03847742            0.0120773   \n",
        "(7, 11, WikiEnergy)            0.1016233           0.03015669   \n",
        "(8, 11, WikiEnergy)         -0.002295276           0.01257717   \n",
        "(9, 11, WikiEnergy)                    1           0.01214392   \n",
        "(10, 11, WikiEnergy)          0.01214392                    1   \n",
        "(11, 11, WikiEnergy)          0.02170789         0.0001214065   \n",
        "\n",
        "                     (11, 11, WikiEnergy)  \n",
        "(1, 11, WikiEnergy)            0.04581769  \n",
        "(2, 11, WikiEnergy)            0.01036423  \n",
        "(3, 11, WikiEnergy)            0.02027651  \n",
        "(4, 11, WikiEnergy)             0.0446082  \n",
        "(5, 11, WikiEnergy)            -0.0209113  \n",
        "(6, 11, WikiEnergy)            0.03580152  \n",
        "(7, 11, WikiEnergy)            0.07336553  \n",
        "(8, 11, WikiEnergy)            0.02548502  \n",
        "(9, 11, WikiEnergy)            0.02170789  \n",
        "(10, 11, WikiEnergy)         0.0001214065  \n",
        "(11, 11, WikiEnergy)                    1  "
       ]
      }
     ],
     "prompt_number": 9
    },
    {
     "cell_type": "code",
     "collapsed": false,
     "input": [
      "labels = elec.get_appliance_labels(correlation_df.index)\n",
      "plot_correlation_heatmap(correlation_df, labels)"
     ],
     "language": "python",
     "metadata": {},
     "outputs": [
      {
       "metadata": {},
       "output_type": "display_data",
       "png": "[encoded data removed]",
       "text": [
        "<matplotlib.figure.Figure at 0x7f1731472650>"
       ]
      }
     ],
     "prompt_number": 20
    }
   ],
   "metadata": {}
  }
 ]
}