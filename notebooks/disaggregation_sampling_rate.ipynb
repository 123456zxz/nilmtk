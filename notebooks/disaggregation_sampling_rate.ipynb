{
 "metadata": {
  "name": ""
 },
 "nbformat": 3,
 "nbformat_minor": 0,
 "worksheets": [
  {
   "cells": [
    {
     "cell_type": "code",
     "collapsed": false,
     "input": [
      "%matplotlib inline"
     ],
     "language": "python",
     "metadata": {},
     "outputs": [],
     "prompt_number": 1
    },
    {
     "cell_type": "code",
     "collapsed": false,
     "input": [
      "from __future__ import print_function\n",
      "from nilmtk.dataset import DataSet\n",
      "from nilmtk.cross_validation import train_test_split\n",
      "from nilmtk.disaggregate.fhmm_exact import FHMM\n",
      "from nilmtk.disaggregate.co_1d import CO_1d\n",
      "from nilmtk.metrics import rms_error_power\n",
      "from nilmtk.metrics import mean_normalized_error_power, fraction_energy_assigned_correctly, f_score\n",
      "from nilmtk.sensors.electricity import Measurement\n",
      "from nilmtk.stats.electricity.building import top_k_appliances\n",
      "from nilmtk.stats.electricity.building import find_appliances_contribution\n",
      "import nilmtk.preprocessing.electricity.building as prepb\n",
      "from nilmtk.dataset import DataSet\n",
      "from copy import deepcopy\n",
      "import time\n",
      "import pandas as pd\n",
      "import numpy as np\n",
      "import matplotlib.pyplot as plt\n",
      "import resource\n",
      "import os"
     ],
     "language": "python",
     "metadata": {},
     "outputs": [],
     "prompt_number": 2
    },
    {
     "cell_type": "markdown",
     "metadata": {},
     "source": [
      "Setting 5 GB memory usage as upper limit"
     ]
    },
    {
     "cell_type": "code",
     "collapsed": false,
     "input": [
      "# Setting the limits to 5 GB RAM usage\n",
      "megs = 5000\n",
      "resource.setrlimit(resource.RLIMIT_AS, (megs * 1048576L, -1L))"
     ],
     "language": "python",
     "metadata": {},
     "outputs": [],
     "prompt_number": 3
    },
    {
     "cell_type": "code",
     "collapsed": false,
     "input": [
      "import warnings\n",
      "warnings.filterwarnings('ignore')"
     ],
     "language": "python",
     "metadata": {},
     "outputs": [],
     "prompt_number": 4
    },
    {
     "cell_type": "code",
     "collapsed": false,
     "input": [
      "#dataset_names=[\"redd/low_freq\",\"iawe\",\"ampds\",\"pecan_1min\"]\n",
      "#dataset_names=[\"redd/low_freq\",\"iawe\"]\n",
      "dataset_names=['iawe']"
     ],
     "language": "python",
     "metadata": {},
     "outputs": [],
     "prompt_number": 5
    },
    {
     "cell_type": "code",
     "collapsed": false,
     "input": [
      "metrics=['mne','fraction','f_score']"
     ],
     "language": "python",
     "metadata": {},
     "outputs": [],
     "prompt_number": 6
    },
    {
     "cell_type": "code",
     "collapsed": false,
     "input": [
      "base_path=\"/home/nipun/Dropbox/nilmtk_datasets/\""
     ],
     "language": "python",
     "metadata": {},
     "outputs": [],
     "prompt_number": 7
    },
    {
     "cell_type": "code",
     "collapsed": false,
     "input": [
      "DISAGG_FEATURE = Measurement('power', 'active')"
     ],
     "language": "python",
     "metadata": {},
     "outputs": [],
     "prompt_number": 8
    },
    {
     "cell_type": "code",
     "collapsed": false,
     "input": [
      "disaggregators={}\n",
      "disaggregators['fhmm']=FHMM()\n",
      "disaggregators['co']=CO_1d()"
     ],
     "language": "python",
     "metadata": {},
     "outputs": [],
     "prompt_number": 9
    },
    {
     "cell_type": "code",
     "collapsed": false,
     "input": [
      "actual_names_datasets={'redd/low_freq':'REDD',\n",
      "                       'iawe':'iAWE',\n",
      "                       'pecan_1min':'PECAN',\n",
      "                       'ampds':'AMPds'\n",
      "                       }\n",
      "                       "
     ],
     "language": "python",
     "metadata": {},
     "outputs": [],
     "prompt_number": 10
    },
    {
     "cell_type": "code",
     "collapsed": false,
     "input": [
      "metric_function={'mne':mean_normalized_error_power,\n",
      "                 'fraction':fraction_energy_assigned_correctly,\n",
      "                 'f_score':f_score\n",
      "                 }"
     ],
     "language": "python",
     "metadata": {},
     "outputs": [],
     "prompt_number": 11
    },
    {
     "cell_type": "code",
     "collapsed": false,
     "input": [
      "train_time={}\n",
      "disaggregate_time={}\n",
      "results={}\n",
      "frequencies = ['1T', '2T','5T','10T','15T']\n",
      "for freq in frequencies:\n",
      "    train_time[freq]={}\n",
      "    disaggregate_time[freq]={}\n",
      "    results[freq]={}\n",
      "    for algorithm in ['fhmm','co']:\n",
      "        train_time[freq][algorithm]={}\n",
      "        disaggregate_time[freq][algorithm]={}\n",
      "        results[freq][algorithm]={}\n",
      "    for metric in metrics:\n",
      "        results[freq][algorithm][metric]={}  "
     ],
     "language": "python",
     "metadata": {},
     "outputs": [],
     "prompt_number": 17
    },
    {
     "cell_type": "markdown",
     "metadata": {},
     "source": [
      "Pre-processing routines for dataset (some are optional)"
     ]
    },
    {
     "cell_type": "code",
     "collapsed": false,
     "input": [
      "def preprocess_iawe(building, freq):\n",
      "    building.utility.electric = building.utility.electric.sum_split_supplies()\n",
      "    building = prepb.filter_out_implausible_values(building, Measurement('voltage', ''), 160, 260)\n",
      "    building = prepb.filter_datetime(building, '7-13-2013', '8-4-2013')\n",
      "    building = prepb.downsample(building, rule=freq)\n",
      "    building = prepb.fill_appliance_gaps(building)\n",
      "    building = prepb.prepend_append_zeros(\n",
      "    building, '7-13-2013', '8-4-2013', freq, 'Asia/Kolkata')\n",
      "    building = prepb.drop_missing_mains(building)\n",
      "    building = prepb.make_common_index(building)\n",
      "    building = prepb.filter_top_k_appliances(building, k=6)   \n",
      "    return building\n",
      "\n",
      "def preprocess_redd(building, freq):\n",
      "    building.utility.electric = building.utility.electric.sum_split_supplies()\n",
      "    building = prepb.downsample(building, rule=freq)\n",
      "    building = prepb.fill_appliance_gaps(building)\n",
      "    building = prepb.drop_missing_mains(building)\n",
      "    building = prepb.make_common_index(building)\n",
      "    building.utility.electric.mains[(1,1)].rename(columns={Measurement('power','apparent'): Measurement('power','active')}, inplace=True)\n",
      "    building = prepb.filter_contribution_less_than_x(building, x=5)\n",
      "   \n",
      "    return building\n",
      "\n",
      "def preprocess_ampds(building,freq):\n",
      "    building = prepb.downsample(building, rule=freq)\n",
      "    building = prepb.filter_top_k_appliances(building, k=6) \n",
      "    return building\n",
      "\n",
      "def preprocess_pecan(building,freq):\n",
      "    building = prepb.downsample(building, rule=freq)\n",
      "    building = prepb.filter_top_k_appliances(building, k=6) \n",
      "    return building\n",
      "\n",
      "preprocess_map={'iawe':preprocess_iawe, 'redd/low_freq':preprocess_redd, \n",
      "                'ampds':preprocess_ampds, 'pecan_1min':preprocess_pecan}"
     ],
     "language": "python",
     "metadata": {},
     "outputs": [],
     "prompt_number": 44
    },
    {
     "cell_type": "code",
     "collapsed": false,
     "input": [
      "dataset_name=\"pecan_1min\"\n",
      "dataset =DataSet()\n",
      "dataset.load_hdf5(os.path.join(base_path, dataset_name))\n",
      "print(\"Loaded {}\".format(dataset_name))\n",
      "for freq in frequencies:\n",
      "    print(\"*\"*80)\n",
      "    print(\"Loading {}\".format(freq))    \n",
      "    building = dataset.buildings[1]\n",
      "    building = preprocess_map[dataset_name](building, freq)\n",
      "    print(\"Number of appliance left = {}\".format(len(building.utility.electric.appliances.keys()))) \n",
      "    print(\"Dividing data into test and train\")\n",
      "    train, test = train_test_split(building) \n",
      "    for disaggregator_name, disaggregator in disaggregators.iteritems():   \n",
      "        # Train\n",
      "        t1 = time.time()\n",
      "        disaggregator.train(train, disagg_features=[DISAGG_FEATURE])\n",
      "        t2 = time.time()\n",
      "        print(\"Runtime to train for {} = {:.2f} seconds\".format(disaggregator_name, t2 - t1))\n",
      "        train_time[freq][disaggregator_name]=t2-t1\n",
      "    \n",
      "        # Disaggregate\n",
      "        t1 = time.time()\n",
      "        disaggregator.disaggregate(test)\n",
      "        t2 = time.time()\n",
      "        print(\"Runtime to disaggregate for {}= {:.2f} seconds\".format(disaggregator_name, t2 - t1))\n",
      "        disaggregate_time[freq][disaggregator_name]=t2-t1   \n",
      "        \n",
      "        # Predicted power and states\n",
      "        predicted_power = disaggregator.predictions\n",
      "        app_ground = test.utility.electric.appliances\n",
      "        ground_truth_power = pd.DataFrame({appliance: app_ground[appliance][DISAGG_FEATURE] for appliance in app_ground})\n",
      "        \n",
      "        for metric in metrics:\n",
      "            results[freq][disaggregator_name][metric] = metric_function[metric](predicted_power, ground_truth_power)    \n",
      "\n",
      "    "
     ],
     "language": "python",
     "metadata": {},
     "outputs": [
      {
       "output_type": "stream",
       "stream": "stdout",
       "text": [
        "Loaded pecan_1min\n",
        "********************************************************************************\n",
        "Loading 1T\n",
        "Common Measurement:  Measurement(physical_quantity='power', type='active')\n",
        "Number of appliance left = 6\n",
        "Dividing data into test and train\n",
        "Runtime to train for fhmm = 12.06 seconds"
       ]
      },
      {
       "output_type": "stream",
       "stream": "stdout",
       "text": [
        "\n",
        "Runtime to disaggregate for fhmm= 0.13 seconds"
       ]
      },
      {
       "output_type": "stream",
       "stream": "stdout",
       "text": [
        "\n",
        "Runtime to train for co = 4.71 seconds"
       ]
      },
      {
       "output_type": "stream",
       "stream": "stdout",
       "text": [
        "\n",
        "Runtime to disaggregate for co= 0.03 seconds\n",
        "********************************************************************************\n",
        "Loading 2T\n",
        "Common Measurement: "
       ]
      },
      {
       "output_type": "stream",
       "stream": "stdout",
       "text": [
        " Measurement(physical_quantity='power', type='active')\n",
        "Number of appliance left = 6\n",
        "Dividing data into test and train\n",
        "Runtime to train for fhmm = 5.54 seconds"
       ]
      },
      {
       "output_type": "stream",
       "stream": "stdout",
       "text": [
        "\n",
        "Runtime to disaggregate for fhmm= 0.07 seconds"
       ]
      },
      {
       "output_type": "stream",
       "stream": "stdout",
       "text": [
        "\n",
        "Runtime to train for co = 4.39 seconds"
       ]
      },
      {
       "output_type": "stream",
       "stream": "stdout",
       "text": [
        "\n",
        "Runtime to disaggregate for co= 0.02 seconds\n",
        "********************************************************************************\n",
        "Loading 5T\n",
        "Common Measurement:  Measurement(physical_quantity='power', type='active')\n",
        "Number of appliance left = 6\n",
        "Dividing data into test and train\n",
        "Runtime to train for fhmm = 2.35 seconds"
       ]
      },
      {
       "output_type": "stream",
       "stream": "stdout",
       "text": [
        "\n",
        "Runtime to disaggregate for fhmm= 0.04 seconds\n",
        "Runtime to train for co = 1.89 seconds"
       ]
      },
      {
       "output_type": "stream",
       "stream": "stdout",
       "text": [
        "\n",
        "Runtime to disaggregate for co= 0.01 seconds\n",
        "********************************************************************************\n",
        "Loading 10T\n",
        "Common Measurement:  Measurement(physical_quantity='power', type='active')\n",
        "Number of appliance left = 6\n",
        "Dividing data into test and train\n",
        "Runtime to train for fhmm = 1.25 seconds"
       ]
      },
      {
       "output_type": "stream",
       "stream": "stdout",
       "text": [
        "\n",
        "Runtime to disaggregate for fhmm= 0.02 seconds\n",
        "Runtime to train for co = 0.74 seconds"
       ]
      },
      {
       "output_type": "stream",
       "stream": "stdout",
       "text": [
        "\n",
        "Runtime to disaggregate for co= 0.00 seconds\n",
        "********************************************************************************\n",
        "Loading 15T\n",
        "Common Measurement:  Measurement(physical_quantity='power', type='active')\n",
        "Number of appliance left = 6\n",
        "Dividing data into test and train\n",
        "Runtime to train for fhmm = 0.90 seconds"
       ]
      },
      {
       "output_type": "stream",
       "stream": "stdout",
       "text": [
        "\n",
        "Runtime to disaggregate for fhmm= 0.02 seconds\n",
        "Runtime to train for co = 0.49 seconds"
       ]
      },
      {
       "output_type": "stream",
       "stream": "stdout",
       "text": [
        "\n",
        "Runtime to disaggregate for co= 0.01 seconds\n"
       ]
      }
     ],
     "prompt_number": 45
    },
    {
     "cell_type": "code",
     "collapsed": false,
     "input": [
      "pd.DataFrame(train_time).T"
     ],
     "language": "python",
     "metadata": {},
     "outputs": [
      {
       "html": [
        "<div style=\"max-height:1000px;max-width:1500px;overflow:auto;\">\n",
        "<table border=\"1\" class=\"dataframe\">\n",
        "  <thead>\n",
        "    <tr style=\"text-align: right;\">\n",
        "      <th></th>\n",
        "      <th>co</th>\n",
        "      <th>fhmm</th>\n",
        "    </tr>\n",
        "  </thead>\n",
        "  <tbody>\n",
        "    <tr>\n",
        "      <th>10T</th>\n",
        "      <td> 0.740022</td>\n",
        "      <td>  1.253439</td>\n",
        "    </tr>\n",
        "    <tr>\n",
        "      <th>15T</th>\n",
        "      <td> 0.488910</td>\n",
        "      <td>  0.896928</td>\n",
        "    </tr>\n",
        "    <tr>\n",
        "      <th>1T</th>\n",
        "      <td> 4.705197</td>\n",
        "      <td> 12.061899</td>\n",
        "    </tr>\n",
        "    <tr>\n",
        "      <th>2T</th>\n",
        "      <td> 4.387006</td>\n",
        "      <td>  5.538011</td>\n",
        "    </tr>\n",
        "    <tr>\n",
        "      <th>5T</th>\n",
        "      <td> 1.890972</td>\n",
        "      <td>  2.354006</td>\n",
        "    </tr>\n",
        "  </tbody>\n",
        "</table>\n",
        "</div>"
       ],
       "metadata": {},
       "output_type": "pyout",
       "prompt_number": 46,
       "text": [
        "           co       fhmm\n",
        "10T  0.740022   1.253439\n",
        "15T  0.488910   0.896928\n",
        "1T   4.705197  12.061899\n",
        "2T   4.387006   5.538011\n",
        "5T   1.890972   2.354006"
       ]
      }
     ],
     "prompt_number": 46
    },
    {
     "cell_type": "code",
     "collapsed": false,
     "input": [
      "pd.DataFrame(disaggregate_time).T"
     ],
     "language": "python",
     "metadata": {},
     "outputs": [
      {
       "html": [
        "<div style=\"max-height:1000px;max-width:1500px;overflow:auto;\">\n",
        "<table border=\"1\" class=\"dataframe\">\n",
        "  <thead>\n",
        "    <tr style=\"text-align: right;\">\n",
        "      <th></th>\n",
        "      <th>co</th>\n",
        "      <th>fhmm</th>\n",
        "    </tr>\n",
        "  </thead>\n",
        "  <tbody>\n",
        "    <tr>\n",
        "      <th>10T</th>\n",
        "      <td> 0.004367</td>\n",
        "      <td> 0.023305</td>\n",
        "    </tr>\n",
        "    <tr>\n",
        "      <th>15T</th>\n",
        "      <td> 0.005186</td>\n",
        "      <td> 0.019129</td>\n",
        "    </tr>\n",
        "    <tr>\n",
        "      <th>1T</th>\n",
        "      <td> 0.030596</td>\n",
        "      <td> 0.129726</td>\n",
        "    </tr>\n",
        "    <tr>\n",
        "      <th>2T</th>\n",
        "      <td> 0.017785</td>\n",
        "      <td> 0.070503</td>\n",
        "    </tr>\n",
        "    <tr>\n",
        "      <th>5T</th>\n",
        "      <td> 0.007964</td>\n",
        "      <td> 0.035850</td>\n",
        "    </tr>\n",
        "  </tbody>\n",
        "</table>\n",
        "</div>"
       ],
       "metadata": {},
       "output_type": "pyout",
       "prompt_number": 47,
       "text": [
        "           co      fhmm\n",
        "10T  0.004367  0.023305\n",
        "15T  0.005186  0.019129\n",
        "1T   0.030596  0.129726\n",
        "2T   0.017785  0.070503\n",
        "5T   0.007964  0.035850"
       ]
      }
     ],
     "prompt_number": 47
    },
    {
     "cell_type": "code",
     "collapsed": false,
     "input": [
      "def compute_summary(results):\n",
      "    results = deepcopy(results)\n",
      "    for dataset_name, dataset_vals in results.iteritems():    \n",
      "        for algo_name, algo_vals in dataset_vals.iteritems():\n",
      "            sum_fscore=0.0\n",
      "            count_f = 0\n",
      "            for appliance_fscore in algo_vals['f_score'].values():\n",
      "                sum_fscore+=appliance_fscore\n",
      "                count_f +=1\n",
      "            algo_vals['f_score'] = sum_fscore/count_f\n",
      "            sum_mne=0.0\n",
      "            count_m = 0\n",
      "            for appliance_mne in algo_vals['mne'].values():\n",
      "                sum_mne+=appliance_mne\n",
      "                count_m +=1\n",
      "            algo_vals['mne'] = sum_mne/count_m\n",
      "    return results"
     ],
     "language": "python",
     "metadata": {},
     "outputs": [],
     "prompt_number": 48
    },
    {
     "cell_type": "code",
     "collapsed": false,
     "input": [
      "results_copy = compute_summary(results)"
     ],
     "language": "python",
     "metadata": {},
     "outputs": [],
     "prompt_number": 49
    },
    {
     "cell_type": "code",
     "collapsed": false,
     "input": [
      "tables = {}\n",
      "for freq in frequencies:\n",
      "    tables[freq] = pd.DataFrame(results_copy[freq])"
     ],
     "language": "python",
     "metadata": {},
     "outputs": [],
     "prompt_number": 50
    },
    {
     "cell_type": "code",
     "collapsed": false,
     "input": [
      "tables['1T']"
     ],
     "language": "python",
     "metadata": {},
     "outputs": [
      {
       "html": [
        "<div style=\"max-height:1000px;max-width:1500px;overflow:auto;\">\n",
        "<table border=\"1\" class=\"dataframe\">\n",
        "  <thead>\n",
        "    <tr style=\"text-align: right;\">\n",
        "      <th></th>\n",
        "      <th>co</th>\n",
        "      <th>fhmm</th>\n",
        "    </tr>\n",
        "  </thead>\n",
        "  <tbody>\n",
        "    <tr>\n",
        "      <th>f_score</th>\n",
        "      <td> 0.433246</td>\n",
        "      <td> 0.488936</td>\n",
        "    </tr>\n",
        "    <tr>\n",
        "      <th>fraction</th>\n",
        "      <td> 0.807800</td>\n",
        "      <td> 0.770668</td>\n",
        "    </tr>\n",
        "    <tr>\n",
        "      <th>mne</th>\n",
        "      <td> 3.263314</td>\n",
        "      <td> 3.845704</td>\n",
        "    </tr>\n",
        "  </tbody>\n",
        "</table>\n",
        "</div>"
       ],
       "metadata": {},
       "output_type": "pyout",
       "prompt_number": 51,
       "text": [
        "                co      fhmm\n",
        "f_score   0.433246  0.488936\n",
        "fraction  0.807800  0.770668\n",
        "mne       3.263314  3.845704"
       ]
      }
     ],
     "prompt_number": 51
    },
    {
     "cell_type": "code",
     "collapsed": false,
     "input": [
      "tables['2T']"
     ],
     "language": "python",
     "metadata": {},
     "outputs": [
      {
       "html": [
        "<div style=\"max-height:1000px;max-width:1500px;overflow:auto;\">\n",
        "<table border=\"1\" class=\"dataframe\">\n",
        "  <thead>\n",
        "    <tr style=\"text-align: right;\">\n",
        "      <th></th>\n",
        "      <th>co</th>\n",
        "      <th>fhmm</th>\n",
        "    </tr>\n",
        "  </thead>\n",
        "  <tbody>\n",
        "    <tr>\n",
        "      <th>f_score</th>\n",
        "      <td> 0.450067</td>\n",
        "      <td> 0.498895</td>\n",
        "    </tr>\n",
        "    <tr>\n",
        "      <th>fraction</th>\n",
        "      <td> 0.820670</td>\n",
        "      <td> 0.758112</td>\n",
        "    </tr>\n",
        "    <tr>\n",
        "      <th>mne</th>\n",
        "      <td> 3.243887</td>\n",
        "      <td> 3.713652</td>\n",
        "    </tr>\n",
        "  </tbody>\n",
        "</table>\n",
        "</div>"
       ],
       "metadata": {},
       "output_type": "pyout",
       "prompt_number": 52,
       "text": [
        "                co      fhmm\n",
        "f_score   0.450067  0.498895\n",
        "fraction  0.820670  0.758112\n",
        "mne       3.243887  3.713652"
       ]
      }
     ],
     "prompt_number": 52
    },
    {
     "cell_type": "code",
     "collapsed": false,
     "input": [
      "tables['5T']"
     ],
     "language": "python",
     "metadata": {},
     "outputs": [
      {
       "html": [
        "<div style=\"max-height:1000px;max-width:1500px;overflow:auto;\">\n",
        "<table border=\"1\" class=\"dataframe\">\n",
        "  <thead>\n",
        "    <tr style=\"text-align: right;\">\n",
        "      <th></th>\n",
        "      <th>co</th>\n",
        "      <th>fhmm</th>\n",
        "    </tr>\n",
        "  </thead>\n",
        "  <tbody>\n",
        "    <tr>\n",
        "      <th>f_score</th>\n",
        "      <td> 0.494447</td>\n",
        "      <td> 0.499337</td>\n",
        "    </tr>\n",
        "    <tr>\n",
        "      <th>fraction</th>\n",
        "      <td> 0.794323</td>\n",
        "      <td> 0.883725</td>\n",
        "    </tr>\n",
        "    <tr>\n",
        "      <th>mne</th>\n",
        "      <td> 3.357995</td>\n",
        "      <td> 1.395431</td>\n",
        "    </tr>\n",
        "  </tbody>\n",
        "</table>\n",
        "</div>"
       ],
       "metadata": {},
       "output_type": "pyout",
       "prompt_number": 53,
       "text": [
        "                co      fhmm\n",
        "f_score   0.494447  0.499337\n",
        "fraction  0.794323  0.883725\n",
        "mne       3.357995  1.395431"
       ]
      }
     ],
     "prompt_number": 53
    },
    {
     "cell_type": "code",
     "collapsed": false,
     "input": [
      "tables['10T']"
     ],
     "language": "python",
     "metadata": {},
     "outputs": [
      {
       "html": [
        "<div style=\"max-height:1000px;max-width:1500px;overflow:auto;\">\n",
        "<table border=\"1\" class=\"dataframe\">\n",
        "  <thead>\n",
        "    <tr style=\"text-align: right;\">\n",
        "      <th></th>\n",
        "      <th>co</th>\n",
        "      <th>fhmm</th>\n",
        "    </tr>\n",
        "  </thead>\n",
        "  <tbody>\n",
        "    <tr>\n",
        "      <th>f_score</th>\n",
        "      <td> 0.498856</td>\n",
        "      <td> 0.529410</td>\n",
        "    </tr>\n",
        "    <tr>\n",
        "      <th>fraction</th>\n",
        "      <td> 0.819917</td>\n",
        "      <td> 0.936170</td>\n",
        "    </tr>\n",
        "    <tr>\n",
        "      <th>mne</th>\n",
        "      <td> 3.145075</td>\n",
        "      <td> 0.984581</td>\n",
        "    </tr>\n",
        "  </tbody>\n",
        "</table>\n",
        "</div>"
       ],
       "metadata": {},
       "output_type": "pyout",
       "prompt_number": 54,
       "text": [
        "                co      fhmm\n",
        "f_score   0.498856  0.529410\n",
        "fraction  0.819917  0.936170\n",
        "mne       3.145075  0.984581"
       ]
      }
     ],
     "prompt_number": 54
    },
    {
     "cell_type": "code",
     "collapsed": false,
     "input": [
      "tables['15T']"
     ],
     "language": "python",
     "metadata": {},
     "outputs": [
      {
       "html": [
        "<div style=\"max-height:1000px;max-width:1500px;overflow:auto;\">\n",
        "<table border=\"1\" class=\"dataframe\">\n",
        "  <thead>\n",
        "    <tr style=\"text-align: right;\">\n",
        "      <th></th>\n",
        "      <th>co</th>\n",
        "      <th>fhmm</th>\n",
        "    </tr>\n",
        "  </thead>\n",
        "  <tbody>\n",
        "    <tr>\n",
        "      <th>f_score</th>\n",
        "      <td> 0.519490</td>\n",
        "      <td> 0.496901</td>\n",
        "    </tr>\n",
        "    <tr>\n",
        "      <th>fraction</th>\n",
        "      <td> 0.854869</td>\n",
        "      <td> 0.903819</td>\n",
        "    </tr>\n",
        "    <tr>\n",
        "      <th>mne</th>\n",
        "      <td> 2.890421</td>\n",
        "      <td> 2.353665</td>\n",
        "    </tr>\n",
        "  </tbody>\n",
        "</table>\n",
        "</div>"
       ],
       "metadata": {},
       "output_type": "pyout",
       "prompt_number": 55,
       "text": [
        "                co      fhmm\n",
        "f_score   0.519490  0.496901\n",
        "fraction  0.854869  0.903819\n",
        "mne       2.890421  2.353665"
       ]
      }
     ],
     "prompt_number": 55
    },
    {
     "cell_type": "code",
     "collapsed": false,
     "input": [
      "def create_latex_table(tables):    \n",
      "    header = \"\\\\begin{table}\\n\" +\"\\\\begin{tabular}{lllllll}\\n\"+ \"Dataset & \\multicolumn{2}{c}{MNE}    & \\multicolumn{2}{c}{Fraction} &\\multicolumn{2}{c}{F1 score}    \\\\\\ \\n\"+    \"~       & CO  & FHMM & CO     & FHMM & CO & FHMM \\\\\\ \\hline \\n\"\n",
      "    footer= \"\\\\end{tabular}\\n\\\\caption{Comparison of CO and FHMM across multiple datasets}\\n\\\\label{table:disaggregation}\\n\\\\end{table}\"\n",
      "    tab_latex= header\n",
      "    for dataset, result in tables.iteritems():\n",
      "        line=\"\"\n",
      "        line +=actual_names_datasets[dataset]\n",
      "        line +=\" &\"\n",
      "        line +=\"{:.2f} &\".format(result['co']['mne'])\n",
      "        line +=\"{:.2f} &\".format(result['fhmm']['mne'])\n",
      "        line +=\"{:.2f} &\".format(result['co']['fraction'])\n",
      "        line +=\"{:.2f} &\".format(result['fhmm']['fraction'])\n",
      "        line +=\"{:.2f} &\".format(result['co']['f_score'])\n",
      "        line +=\"{:.2f}\".format(result['fhmm']['f_score'])\n",
      "        line +=\"\\\\\\ \\n\"\n",
      "        tab_latex +=line\n",
      "    tab_latex +=footer\n",
      "    return tab_latex"
     ],
     "language": "python",
     "metadata": {},
     "outputs": [],
     "prompt_number": 108
    },
    {
     "cell_type": "code",
     "collapsed": false,
     "input": [
      "print(create_latex_table(tables))"
     ],
     "language": "python",
     "metadata": {},
     "outputs": [
      {
       "output_type": "stream",
       "stream": "stdout",
       "text": [
        "\\begin{table}\n",
        "\\begin{tabular}{lllllll}\n",
        "Dataset & \\multicolumn{2}{c}{MNE}    & \\multicolumn{2}{c}{Fraction} &\\multicolumn{2}{c}{F1 score}    \\\\ \n",
        "~       & CO  & FHMM & CO     & FHMM & CO & FHMM \\\\ \\hline \n",
        "REDD &1.91 &1.32 &0.71 &0.86 &0.30 &0.34\\\\ \n",
        "AMPds &1.41 &0.89 &0.77 &0.86 &0.54 &0.71\\\\ \n",
        "iAWE &1.82 &0.91 &0.71 &0.82 &0.46 &0.77\\\\ \n",
        "PECAN &0.63 &0.98 &0.99 &0.84 &0.59 &0.72\\\\ \n",
        "\\end{tabular}\n",
        "\\caption{Comparison of CO and FHMM across multiple datasets}\n",
        "\\label{table:disaggregation}\n",
        "\\end{table}\n"
       ]
      }
     ],
     "prompt_number": 109
    },
    {
     "cell_type": "code",
     "collapsed": false,
     "input": [],
     "language": "python",
     "metadata": {},
     "outputs": []
    }
   ],
   "metadata": {}
  }
 ]
}