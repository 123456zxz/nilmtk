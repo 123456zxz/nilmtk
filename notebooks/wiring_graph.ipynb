{
 "metadata": {
  "name": "",
  "signature": "sha256:a96450fdc08d502c85150e1c53dfd2fb0340a08c1b35282132d16fe9ad614d33"
 },
 "nbformat": 3,
 "nbformat_minor": 0,
 "worksheets": [
  {
   "cells": [
    {
     "cell_type": "code",
     "collapsed": false,
     "input": [
      "import networkx as nx\n",
      "from nilmtk import Appliance, Mains, ElectricityMeter\n",
      "graph = nx.DiGraph()"
     ],
     "language": "python",
     "metadata": {},
     "outputs": [
      {
       "output_type": "stream",
       "stream": "stdout",
       "text": [
        "Couldn't import dot_parser, loading of dot files will not be possible.\n"
       ]
      }
     ],
     "prompt_number": 1
    },
    {
     "cell_type": "code",
     "collapsed": false,
     "input": [
      "Mains([], 'REDD', 1).get_id"
     ],
     "language": "python",
     "metadata": {},
     "outputs": [
      {
       "metadata": {},
       "output_type": "pyout",
       "prompt_number": 2,
       "text": [
        "MainsID(dataset='REDD', building=1)"
       ]
      }
     ],
     "prompt_number": 2
    },
    {
     "cell_type": "code",
     "collapsed": false,
     "input": [
      "graph.add_edge(Mains([], 'REDD', 1), ElectricityMeter(instance=1, appliances=[Appliance(type='fridge', instance=1)]))\n",
      "graph.add_edge(Mains([], 'REDD', 1), ElectricityMeter(instance=2, appliances=[Appliance(type='fridge', instance=2)]))"
     ],
     "language": "python",
     "metadata": {},
     "outputs": [],
     "prompt_number": 3
    },
    {
     "cell_type": "code",
     "collapsed": false,
     "input": [
      "graph.nodes()"
     ],
     "language": "python",
     "metadata": {},
     "outputs": [
      {
       "metadata": {},
       "output_type": "pyout",
       "prompt_number": 4,
       "text": [
        "[ElectricityMeter(instance=1, dataset=None, building=None, appliances=[(fridge, 1)]),\n",
        " ElectricityMeter(instance=2, dataset=None, building=None, appliances=[(fridge, 2)]),\n",
        " Mains(dataset=REDD, building=1)]"
       ]
      }
     ],
     "prompt_number": 4
    },
    {
     "cell_type": "code",
     "collapsed": false,
     "input": [
      "graph.edges()"
     ],
     "language": "python",
     "metadata": {},
     "outputs": [
      {
       "metadata": {},
       "output_type": "pyout",
       "prompt_number": 5,
       "text": [
        "[(Mains(dataset=REDD, building=1),\n",
        "  ElectricityMeter(instance=1, dataset=None, building=None, appliances=[(fridge, 1)])),\n",
        " (Mains(dataset=REDD, building=1),\n",
        "  ElectricityMeter(instance=2, dataset=None, building=None, appliances=[(fridge, 2)]))]"
       ]
      }
     ],
     "prompt_number": 5
    },
    {
     "cell_type": "code",
     "collapsed": false,
     "input": [],
     "language": "python",
     "metadata": {},
     "outputs": [],
     "prompt_number": 5
    },
    {
     "cell_type": "code",
     "collapsed": false,
     "input": [],
     "language": "python",
     "metadata": {},
     "outputs": []
    }
   ],
   "metadata": {}
  }
 ]
}