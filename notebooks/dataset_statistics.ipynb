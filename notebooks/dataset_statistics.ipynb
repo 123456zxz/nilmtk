{
 "metadata": {
  "name": "",
  "signature": "sha256:30185228322bb5dc35d81d7b8f479b1979122caa4cc13943ba2e5555f9a153d2"
 },
 "nbformat": 3,
 "nbformat_minor": 0,
 "worksheets": [
  {
   "cells": [
    {
     "cell_type": "code",
     "collapsed": false,
     "input": [
      "from __future__ import print_function, division\n",
      "from nilmtk import DataSet, TimeFrame\n",
      "import pandas as pd"
     ],
     "language": "python",
     "metadata": {},
     "outputs": [
      {
       "output_type": "stream",
       "stream": "stdout",
       "text": [
        "Couldn't import dot_parser, loading of dot files will not be possible.\n"
       ]
      },
      {
       "output_type": "stream",
       "stream": "stderr",
       "text": [
        "/usr/lib/python2.7/pkgutil.py:186: ImportWarning: Not importing directory '/usr/local/lib/python2.7/dist-packages/mpl_toolkits': missing __init__.py\n",
        "  file, filename, etc = imp.find_module(subname, path)\n"
       ]
      }
     ],
     "prompt_number": 1
    },
    {
     "cell_type": "code",
     "collapsed": false,
     "input": [
      "dataset = DataSet('/data/mine/vadeec/merged/ukdale.h5')\n",
      "#dataset.set_window(\"2014-01-01\", \"2014-01-02\")\n",
      "\n",
      "for building in dataset.buildings.values():\n",
      "    try:\n",
      "        building.elec.use_alternative_mains()\n",
      "    except RuntimeError:\n",
      "        pass\n",
      "    else:\n",
      "        print(\"using alternative mains for\", building)\n",
      "        \n",
      "elec = dataset.buildings[1].elec"
     ],
     "language": "python",
     "metadata": {},
     "outputs": [
      {
       "output_type": "stream",
       "stream": "stdout",
       "text": [
        "using alternative mains for Building(instance=1, dataset='UK-DALE')\n",
        "using alternative mains for Building(instance=2, dataset='UK-DALE')\n",
        "using alternative mains for Building(instance=5, dataset='UK-DALE')\n"
       ]
      }
     ],
     "prompt_number": 2
    },
    {
     "cell_type": "code",
     "collapsed": false,
     "input": [
      "dataset.describe(verbose=False)"
     ],
     "language": "python",
     "metadata": {},
     "outputs": [
      {
       "output_type": "stream",
       "stream": "stdout",
       "text": [
        "\r",
        "Loading data for meter <bound method ElecMeter.instance of ElecMeter(instance=14, building=1, dataset='UK-DALE', appliances=[Appliance(type='computer monitor', instance=1)])>     "
       ]
      },
      {
       "output_type": "stream",
       "stream": "stdout",
       "text": [
        "\r",
        "Loading data for meter <bound method ElecMeter.instance of ElecMeter(instance=18, building=1, dataset='UK-DALE', appliances=[Appliance(type='broadband router', instance=1)])>     "
       ]
      },
      {
       "output_type": "stream",
       "stream": "stdout",
       "text": [
        "\r",
        "Loading data for meter <bound method ElecMeter.instance of ElecMeter(instance=38, building=1, dataset='UK-DALE', appliances=[Appliance(type='mobile phone charger', instance=2), Appliance(type='baby monitor', instance=2), Appliance(type='radio', instance=3)])>     "
       ]
      },
      {
       "output_type": "stream",
       "stream": "stdout",
       "text": [
        "\r",
        "Loading data for meter <bound method ElecMeter.instance of ElecMeter(instance=20, building=1, dataset='UK-DALE', appliances=[Appliance(type='soldering iron', instance=1)])>     "
       ]
      },
      {
       "output_type": "stream",
       "stream": "stdout",
       "text": [
        "\r",
        "Loading data for meter <bound method ElecMeter.instance of ElecMeter(instance=42, building=1, dataset='UK-DALE', appliances=[Appliance(type='oven', instance=1)])>     "
       ]
      },
      {
       "output_type": "stream",
       "stream": "stdout",
       "text": [
        "\r",
        "Loading data for meter <bound method ElecMeter.instance of ElecMeter(instance=24, building=1, dataset='UK-DALE', appliances=[Appliance(type='light', instance=5)])>     "
       ]
      },
      {
       "output_type": "stream",
       "stream": "stdout",
       "text": [
        "\r",
        "Loading data for meter <bound method ElecMeter.instance of ElecMeter(instance=7, building=1, dataset='UK-DALE', appliances=[Appliance(type='television', instance=1)])>     "
       ]
      },
      {
       "output_type": "stream",
       "stream": "stdout",
       "text": [
        "\r",
        "Loading data for meter <bound method ElecMeter.instance of ElecMeter(instance=44, building=1, dataset='UK-DALE', appliances=[Appliance(type='light', instance=11)])>     "
       ]
      },
      {
       "output_type": "stream",
       "stream": "stdout",
       "text": [
        "\r",
        "Loading data for meter <bound method ElecMeter.instance of ElecMeter(instance=11, building=1, dataset='UK-DALE', appliances=[Appliance(type='toaster', instance=1), Appliance(type='kitchen aid', instance=1), Appliance(type='food processor', instance=2)])>     "
       ]
      },
      {
       "output_type": "stream",
       "stream": "stdout",
       "text": [
        "\r",
        "Loading data for meter <bound method ElecMeter.instance of ElecMeter(instance=48, building=1, dataset='UK-DALE', appliances=[Appliance(type='light', instance=13)])>     "
       ]
      },
      {
       "output_type": "stream",
       "stream": "stdout",
       "text": [
        "\r",
        "Loading data for meter <bound method ElecMeter.instance of ElecMeter(instance=31, building=1, dataset='UK-DALE', appliances=[Appliance(type='light', instance=8)])>     "
       ]
      },
      {
       "output_type": "stream",
       "stream": "stdout",
       "text": [
        "\r",
        "Loading data for meter <bound method ElecMeter.instance of ElecMeter(instance=13, building=1, dataset='UK-DALE', appliances=[Appliance(type='microwave', instance=1)])>     "
       ]
      },
      {
       "output_type": "stream",
       "stream": "stdout",
       "text": [
        "\r",
        "Loading data for meter <bound method ElecMeter.instance of ElecMeter(instance=35, building=1, dataset='UK-DALE', appliances=[Appliance(type='light', instance=10)])>     "
       ]
      },
      {
       "output_type": "stream",
       "stream": "stdout",
       "text": [
        "\r",
        "Loading data for meter <bound method ElecMeter.instance of ElecMeter(instance=17, building=1, dataset='UK-DALE', appliances=[Appliance(type='audio amplifier', instance=1)])>     "
       ]
      },
      {
       "output_type": "stream",
       "stream": "stdout",
       "text": [
        "\r",
        "Loading data for meter <bound method ElecMeter.instance of ElecMeter(instance=37, building=1, dataset='UK-DALE', appliances=[Appliance(type='radio', instance=2)])>     "
       ]
      },
      {
       "output_type": "stream",
       "stream": "stdout",
       "text": [
        "\r",
        "Loading data for meter <bound method ElecMeter.instance of ElecMeter(instance=41, building=1, dataset='UK-DALE', appliances=[Appliance(type='clothes iron', instance=1)])>     "
       ]
      },
      {
       "output_type": "stream",
       "stream": "stdout",
       "text": [
        "\r",
        "Loading data for meter <bound method ElecMeter.instance of ElecMeter(instance=6, building=1, dataset='UK-DALE', appliances=[Appliance(type='dish washer', instance=1)])>     "
       ]
      },
      {
       "output_type": "stream",
       "stream": "stdout",
       "text": [
        "\r",
        "Loading data for meter <bound method ElecMeter.instance of ElecMeter(instance=10, building=1, dataset='UK-DALE', appliances=[Appliance(type='kettle', instance=1), Appliance(type='food processor', instance=1), Appliance(type='toasted sandwich maker', instance=1)])>     "
       ]
      },
      {
       "output_type": "stream",
       "stream": "stdout",
       "text": [
        "\r",
        "Loading data for meter <bound method ElecMeter.instance of ElecMeter(instance=30, building=1, dataset='UK-DALE', appliances=[Appliance(type='radio', instance=1)])>     "
       ]
      },
      {
       "output_type": "stream",
       "stream": "stdout",
       "text": [
        "\r",
        "Loading data for meter <bound method ElecMeter.instance of ElecMeter(instance=12, building=1, dataset='UK-DALE', appliances=[Appliance(type='fridge freezer', instance=1)])>     "
       ]
      },
      {
       "output_type": "stream",
       "stream": "stdout",
       "text": [
        "\r",
        "Loading data for meter <bound method ElecMeter.instance of ElecMeter(instance=34, building=1, dataset='UK-DALE', appliances=[Appliance(type='mobile phone charger', instance=1)])>     "
       ]
      },
      {
       "output_type": "stream",
       "stream": "stdout",
       "text": [
        "\r",
        "Loading data for meter <bound method ElecMeter.instance of ElecMeter(instance=16, building=1, dataset='UK-DALE', appliances=[Appliance(type='breadmaker', instance=1)])>     "
       ]
      },
      {
       "output_type": "stream",
       "stream": "stdout",
       "text": [
        "\r",
        "Loading data for meter <bound method ElecMeter.instance of ElecMeter(instance=36, building=1, dataset='UK-DALE', appliances=[Appliance(type='coffee maker', instance=1)])>     "
       ]
      },
      {
       "output_type": "stream",
       "stream": "stdout",
       "text": [
        "\r",
        "Loading data for meter <bound method ElecMeter.instance of ElecMeter(instance=3, building=1, dataset='UK-DALE', appliances=[Appliance(type='solar thermal pumping station', instance=1)])>     "
       ]
      },
      {
       "output_type": "stream",
       "stream": "stdout",
       "text": [
        "\r",
        "Loading data for meter <bound method ElecMeter.instance of ElecMeter(instance=40, building=1, dataset='UK-DALE', appliances=[Appliance(type='hair straighteners', instance=1)])>     "
       ]
      },
      {
       "output_type": "stream",
       "stream": "stdout",
       "text": [
        "\r",
        "Loading data for meter <bound method ElecMeter.instance of ElecMeter(instance=23, building=1, dataset='UK-DALE', appliances=[Appliance(type='light', instance=4)])>     "
       ]
      },
      {
       "output_type": "stream",
       "stream": "stdout",
       "text": [
        "\r",
        "Loading data for meter <bound method ElecMeter.instance of ElecMeter(instance=5, building=1, dataset='UK-DALE', appliances=[Appliance(type='washer dryer', instance=1)])>     "
       ]
      },
      {
       "output_type": "stream",
       "stream": "stdout",
       "text": [
        "\r",
        "Loading data for meter <bound method ElecMeter.instance of ElecMeter(instance=27, building=1, dataset='UK-DALE', appliances=[Appliance(type='tablet computer charger', instance=1)])>     "
       ]
      },
      {
       "output_type": "stream",
       "stream": "stdout",
       "text": [
        "\r",
        "Loading data for meter <bound method ElecMeter.instance of ElecMeter(instance=9, building=1, dataset='UK-DALE', appliances=[Appliance(type='HTPC', instance=1)])>     "
       ]
      },
      {
       "output_type": "stream",
       "stream": "stdout",
       "text": [
        "\r",
        "Loading data for meter <bound method ElecMeter.instance of ElecMeter(instance=47, building=1, dataset='UK-DALE', appliances=[Appliance(type='charger', instance=1)])>     "
       ]
      },
      {
       "output_type": "stream",
       "stream": "stdout",
       "text": [
        "\r",
        "Loading data for meter <bound method ElecMeter.instance of ElecMeter(instance=29, building=1, dataset='UK-DALE', appliances=[Appliance(type='light', instance=7)])>     "
       ]
      },
      {
       "output_type": "stream",
       "stream": "stdout",
       "text": [
        "\r",
        "Loading data for meter <bound method ElecMeter.instance of ElecMeter(instance=51, building=1, dataset='UK-DALE', appliances=[Appliance(type='desktop computer', instance=1)])>     "
       ]
      },
      {
       "output_type": "stream",
       "stream": "stdout",
       "text": [
        "\r",
        "Loading data for meter <bound method ElecMeter.instance of ElecMeter(instance=33, building=1, dataset='UK-DALE', appliances=[Appliance(type='light', instance=9)])>     "
       ]
      },
      {
       "output_type": "stream",
       "stream": "stdout",
       "text": [
        "\r",
        "Loading data for meter <bound method ElecMeter.instance of ElecMeter(instance=53, building=1, dataset='UK-DALE', appliances=[Appliance(type='printer', instance=1)])>     "
       ]
      },
      {
       "output_type": "stream",
       "stream": "stdout",
       "text": [
        "\r",
        "Loading data for meter <bound method ElecMeter.instance of ElecMeter(instance=2, building=1, dataset='UK-DALE', appliances=[Appliance(type='boiler', instance=1)])>     "
       ]
      },
      {
       "output_type": "stream",
       "stream": "stdout",
       "text": [
        "\r",
        "Loading data for meter <bound method ElecMeter.instance of ElecMeter(instance=22, building=1, dataset='UK-DALE', appliances=[Appliance(type='vacuum cleaner', instance=1)])>     "
       ]
      },
      {
       "output_type": "stream",
       "stream": "stdout",
       "text": [
        "\r",
        "Loading data for meter <bound method ElecMeter.instance of ElecMeter(instance=4, building=1, dataset='UK-DALE', appliances=[Appliance(type='laptop computer', instance=1), Appliance(type='laptop computer', instance=3)])>     "
       ]
      },
      {
       "output_type": "stream",
       "stream": "stdout",
       "text": [
        "\r",
        "Loading data for meter <bound method ElecMeter.instance of ElecMeter(instance=26, building=1, dataset='UK-DALE', appliances=[Appliance(type='light', instance=6)])>     "
       ]
      },
      {
       "output_type": "stream",
       "stream": "stdout",
       "text": [
        "\r",
        "Loading data for meter <bound method ElecMeter.instance of ElecMeter(instance=46, building=1, dataset='UK-DALE', appliances=[Appliance(type='baby monitor', instance=1)])>     "
       ]
      },
      {
       "output_type": "stream",
       "stream": "stdout",
       "text": [
        "\r",
        "Loading data for meter <bound method ElecMeter.instance of ElecMeter(instance=28, building=1, dataset='UK-DALE', appliances=[Appliance(type='active subwoofer', instance=1)])>     "
       ]
      },
      {
       "output_type": "stream",
       "stream": "stdout",
       "text": [
        "\r",
        "Loading data for meter <bound method ElecMeter.instance of ElecMeter(instance=50, building=1, dataset='UK-DALE', appliances=[Appliance(type='light', instance=15)])>     "
       ]
      },
      {
       "output_type": "stream",
       "stream": "stdout",
       "text": [
        "\r",
        "Loading data for meter <bound method ElecMeter.instance of ElecMeter(instance=32, building=1, dataset='UK-DALE', appliances=[Appliance(type='wireless phone charger', instance=1), Appliance(type='audio system', instance=2)])>     "
       ]
      },
      {
       "output_type": "stream",
       "stream": "stdout",
       "text": [
        "\r",
        "Loading data for meter <bound method ElecMeter.instance of ElecMeter(instance=15, building=1, dataset='UK-DALE', appliances=[Appliance(type='audio system', instance=1)])>     "
       ]
      },
      {
       "output_type": "stream",
       "stream": "stdout",
       "text": [
        "\r",
        "Loading data for meter <bound method ElecMeter.instance of ElecMeter(instance=52, building=1, dataset='UK-DALE', appliances=[Appliance(type='fan', instance=1)])>     "
       ]
      },
      {
       "output_type": "stream",
       "stream": "stdout",
       "text": [
        "\r",
        "Loading data for meter <bound method ElecMeter.instance of ElecMeter(instance=19, building=1, dataset='UK-DALE', appliances=[Appliance(type='light', instance=3)])>     "
       ]
      },
      {
       "output_type": "stream",
       "stream": "stdout",
       "text": [
        "\r",
        "Loading data for meter <bound method ElecMeter.instance of ElecMeter(instance=39, building=1, dataset='UK-DALE', appliances=[Appliance(type='hair dryer', instance=1)])>     "
       ]
      },
      {
       "output_type": "stream",
       "stream": "stdout",
       "text": [
        "\r",
        "Loading data for meter <bound method ElecMeter.instance of ElecMeter(instance=21, building=1, dataset='UK-DALE', appliances=[Appliance(type='ethernet switch', instance=1), Appliance(type='USB hub', instance=1)])>     "
       ]
      },
      {
       "output_type": "stream",
       "stream": "stdout",
       "text": [
        "\r",
        "Loading data for meter <bound method ElecMeter.instance of ElecMeter(instance=43, building=1, dataset='UK-DALE', appliances=[Appliance(type='computer', instance=1), Appliance(type='external hard disk', instance=1)])>     "
       ]
      },
      {
       "output_type": "stream",
       "stream": "stdout",
       "text": [
        "\r",
        "Loading data for meter <bound method ElecMeter.instance of ElecMeter(instance=25, building=1, dataset='UK-DALE', appliances=[Appliance(type='light', instance=16)])>     "
       ]
      },
      {
       "output_type": "stream",
       "stream": "stdout",
       "text": [
        "\r",
        "Loading data for meter <bound method ElecMeter.instance of ElecMeter(instance=45, building=1, dataset='UK-DALE', appliances=[Appliance(type='light', instance=12)])>     "
       ]
      },
      {
       "output_type": "stream",
       "stream": "stdout",
       "text": [
        "\r",
        "Loading data for meter <bound method ElecMeter.instance of ElecMeter(instance=49, building=1, dataset='UK-DALE', appliances=[Appliance(type='light', instance=14)])>     "
       ]
      },
      {
       "output_type": "stream",
       "stream": "stdout",
       "text": [
        "\r",
        "Loading data for meter <bound method ElecMeter.instance of ElecMeter(instance=14, building=1, dataset='UK-DALE', appliances=[Appliance(type='computer monitor', instance=1)])>     "
       ]
      },
      {
       "output_type": "stream",
       "stream": "stdout",
       "text": [
        "\r",
        "Loading data for meter <bound method ElecMeter.instance of ElecMeter(instance=18, building=1, dataset='UK-DALE', appliances=[Appliance(type='broadband router', instance=1)])>     "
       ]
      },
      {
       "output_type": "stream",
       "stream": "stdout",
       "text": [
        "\r",
        "Loading data for meter <bound method ElecMeter.instance of ElecMeter(instance=38, building=1, dataset='UK-DALE', appliances=[Appliance(type='mobile phone charger', instance=2), Appliance(type='baby monitor', instance=2), Appliance(type='radio', instance=3)])>     "
       ]
      },
      {
       "output_type": "stream",
       "stream": "stdout",
       "text": [
        "\r",
        "Loading data for meter <bound method ElecMeter.instance of ElecMeter(instance=20, building=1, dataset='UK-DALE', appliances=[Appliance(type='soldering iron', instance=1)])>     "
       ]
      },
      {
       "output_type": "stream",
       "stream": "stdout",
       "text": [
        "\r",
        "Loading data for meter <bound method ElecMeter.instance of ElecMeter(instance=42, building=1, dataset='UK-DALE', appliances=[Appliance(type='oven', instance=1)])>     "
       ]
      },
      {
       "output_type": "stream",
       "stream": "stdout",
       "text": [
        "\r",
        "Loading data for meter <bound method ElecMeter.instance of ElecMeter(instance=24, building=1, dataset='UK-DALE', appliances=[Appliance(type='light', instance=5)])>     "
       ]
      },
      {
       "output_type": "stream",
       "stream": "stdout",
       "text": [
        "\r",
        "Loading data for meter <bound method ElecMeter.instance of ElecMeter(instance=7, building=1, dataset='UK-DALE', appliances=[Appliance(type='television', instance=1)])>     "
       ]
      },
      {
       "output_type": "stream",
       "stream": "stdout",
       "text": [
        "\r",
        "Loading data for meter <bound method ElecMeter.instance of ElecMeter(instance=44, building=1, dataset='UK-DALE', appliances=[Appliance(type='light', instance=11)])>     "
       ]
      },
      {
       "output_type": "stream",
       "stream": "stdout",
       "text": [
        "\r",
        "Loading data for meter <bound method ElecMeter.instance of ElecMeter(instance=11, building=1, dataset='UK-DALE', appliances=[Appliance(type='toaster', instance=1), Appliance(type='kitchen aid', instance=1), Appliance(type='food processor', instance=2)])>     "
       ]
      },
      {
       "output_type": "stream",
       "stream": "stdout",
       "text": [
        "\r",
        "Loading data for meter <bound method ElecMeter.instance of ElecMeter(instance=48, building=1, dataset='UK-DALE', appliances=[Appliance(type='light', instance=13)])>     "
       ]
      },
      {
       "output_type": "stream",
       "stream": "stdout",
       "text": [
        "\r",
        "Loading data for meter <bound method ElecMeter.instance of ElecMeter(instance=31, building=1, dataset='UK-DALE', appliances=[Appliance(type='light', instance=8)])>     "
       ]
      },
      {
       "output_type": "stream",
       "stream": "stdout",
       "text": [
        "\r",
        "Loading data for meter <bound method ElecMeter.instance of ElecMeter(instance=13, building=1, dataset='UK-DALE', appliances=[Appliance(type='microwave', instance=1)])>     "
       ]
      },
      {
       "output_type": "stream",
       "stream": "stdout",
       "text": [
        "\r",
        "Loading data for meter <bound method ElecMeter.instance of ElecMeter(instance=35, building=1, dataset='UK-DALE', appliances=[Appliance(type='light', instance=10)])>     "
       ]
      },
      {
       "output_type": "stream",
       "stream": "stdout",
       "text": [
        "\r",
        "Loading data for meter <bound method ElecMeter.instance of ElecMeter(instance=17, building=1, dataset='UK-DALE', appliances=[Appliance(type='audio amplifier', instance=1)])>     "
       ]
      },
      {
       "output_type": "stream",
       "stream": "stdout",
       "text": [
        "\r",
        "Loading data for meter <bound method ElecMeter.instance of ElecMeter(instance=37, building=1, dataset='UK-DALE', appliances=[Appliance(type='radio', instance=2)])>     "
       ]
      },
      {
       "output_type": "stream",
       "stream": "stdout",
       "text": [
        "\r",
        "Loading data for meter <bound method ElecMeter.instance of ElecMeter(instance=41, building=1, dataset='UK-DALE', appliances=[Appliance(type='clothes iron', instance=1)])>     "
       ]
      },
      {
       "output_type": "stream",
       "stream": "stdout",
       "text": [
        "\r",
        "Loading data for meter <bound method ElecMeter.instance of ElecMeter(instance=6, building=1, dataset='UK-DALE', appliances=[Appliance(type='dish washer', instance=1)])>     "
       ]
      },
      {
       "output_type": "stream",
       "stream": "stdout",
       "text": [
        "\r",
        "Loading data for meter <bound method ElecMeter.instance of ElecMeter(instance=10, building=1, dataset='UK-DALE', appliances=[Appliance(type='kettle', instance=1), Appliance(type='food processor', instance=1), Appliance(type='toasted sandwich maker', instance=1)])>     "
       ]
      },
      {
       "output_type": "stream",
       "stream": "stdout",
       "text": [
        "\r",
        "Loading data for meter <bound method ElecMeter.instance of ElecMeter(instance=30, building=1, dataset='UK-DALE', appliances=[Appliance(type='radio', instance=1)])>     "
       ]
      },
      {
       "output_type": "stream",
       "stream": "stdout",
       "text": [
        "\r",
        "Loading data for meter <bound method ElecMeter.instance of ElecMeter(instance=12, building=1, dataset='UK-DALE', appliances=[Appliance(type='fridge freezer', instance=1)])>     "
       ]
      },
      {
       "output_type": "stream",
       "stream": "stdout",
       "text": [
        "\r",
        "Loading data for meter <bound method ElecMeter.instance of ElecMeter(instance=34, building=1, dataset='UK-DALE', appliances=[Appliance(type='mobile phone charger', instance=1)])>     "
       ]
      },
      {
       "output_type": "stream",
       "stream": "stdout",
       "text": [
        "\r",
        "Loading data for meter <bound method ElecMeter.instance of ElecMeter(instance=16, building=1, dataset='UK-DALE', appliances=[Appliance(type='breadmaker', instance=1)])>     "
       ]
      },
      {
       "output_type": "stream",
       "stream": "stdout",
       "text": [
        "\r",
        "Loading data for meter <bound method ElecMeter.instance of ElecMeter(instance=36, building=1, dataset='UK-DALE', appliances=[Appliance(type='coffee maker', instance=1)])>     "
       ]
      },
      {
       "output_type": "stream",
       "stream": "stdout",
       "text": [
        "\r",
        "Loading data for meter <bound method ElecMeter.instance of ElecMeter(instance=3, building=1, dataset='UK-DALE', appliances=[Appliance(type='solar thermal pumping station', instance=1)])>     "
       ]
      },
      {
       "output_type": "stream",
       "stream": "stdout",
       "text": [
        "\r",
        "Loading data for meter <bound method ElecMeter.instance of ElecMeter(instance=40, building=1, dataset='UK-DALE', appliances=[Appliance(type='hair straighteners', instance=1)])>     "
       ]
      },
      {
       "output_type": "stream",
       "stream": "stdout",
       "text": [
        "\r",
        "Loading data for meter <bound method ElecMeter.instance of ElecMeter(instance=23, building=1, dataset='UK-DALE', appliances=[Appliance(type='light', instance=4)])>     "
       ]
      },
      {
       "output_type": "stream",
       "stream": "stdout",
       "text": [
        "\r",
        "Loading data for meter <bound method ElecMeter.instance of ElecMeter(instance=5, building=1, dataset='UK-DALE', appliances=[Appliance(type='washer dryer', instance=1)])>     "
       ]
      },
      {
       "output_type": "stream",
       "stream": "stdout",
       "text": [
        "\r",
        "Loading data for meter <bound method ElecMeter.instance of ElecMeter(instance=27, building=1, dataset='UK-DALE', appliances=[Appliance(type='tablet computer charger', instance=1)])>     "
       ]
      },
      {
       "output_type": "stream",
       "stream": "stdout",
       "text": [
        "\r",
        "Loading data for meter <bound method ElecMeter.instance of ElecMeter(instance=9, building=1, dataset='UK-DALE', appliances=[Appliance(type='HTPC', instance=1)])>     "
       ]
      },
      {
       "output_type": "stream",
       "stream": "stdout",
       "text": [
        "\r",
        "Loading data for meter <bound method ElecMeter.instance of ElecMeter(instance=47, building=1, dataset='UK-DALE', appliances=[Appliance(type='charger', instance=1)])>     "
       ]
      },
      {
       "output_type": "stream",
       "stream": "stdout",
       "text": [
        "\r",
        "Loading data for meter <bound method ElecMeter.instance of ElecMeter(instance=29, building=1, dataset='UK-DALE', appliances=[Appliance(type='light', instance=7)])>     "
       ]
      },
      {
       "output_type": "stream",
       "stream": "stdout",
       "text": [
        "\r",
        "Loading data for meter <bound method ElecMeter.instance of ElecMeter(instance=51, building=1, dataset='UK-DALE', appliances=[Appliance(type='desktop computer', instance=1)])>     "
       ]
      },
      {
       "output_type": "stream",
       "stream": "stdout",
       "text": [
        "\r",
        "Loading data for meter <bound method ElecMeter.instance of ElecMeter(instance=33, building=1, dataset='UK-DALE', appliances=[Appliance(type='light', instance=9)])>     "
       ]
      },
      {
       "output_type": "stream",
       "stream": "stdout",
       "text": [
        "\r",
        "Loading data for meter <bound method ElecMeter.instance of ElecMeter(instance=53, building=1, dataset='UK-DALE', appliances=[Appliance(type='printer', instance=1)])>     "
       ]
      },
      {
       "output_type": "stream",
       "stream": "stdout",
       "text": [
        "\r",
        "Loading data for meter <bound method ElecMeter.instance of ElecMeter(instance=2, building=1, dataset='UK-DALE', appliances=[Appliance(type='boiler', instance=1)])>     "
       ]
      },
      {
       "output_type": "stream",
       "stream": "stdout",
       "text": [
        "\r",
        "Loading data for meter <bound method ElecMeter.instance of ElecMeter(instance=22, building=1, dataset='UK-DALE', appliances=[Appliance(type='vacuum cleaner', instance=1)])>     "
       ]
      },
      {
       "output_type": "stream",
       "stream": "stdout",
       "text": [
        "\r",
        "Loading data for meter <bound method ElecMeter.instance of ElecMeter(instance=4, building=1, dataset='UK-DALE', appliances=[Appliance(type='laptop computer', instance=1), Appliance(type='laptop computer', instance=3)])>     "
       ]
      },
      {
       "output_type": "stream",
       "stream": "stdout",
       "text": [
        "\r",
        "Loading data for meter <bound method ElecMeter.instance of ElecMeter(instance=26, building=1, dataset='UK-DALE', appliances=[Appliance(type='light', instance=6)])>     "
       ]
      },
      {
       "output_type": "stream",
       "stream": "stdout",
       "text": [
        "\r",
        "Loading data for meter <bound method ElecMeter.instance of ElecMeter(instance=46, building=1, dataset='UK-DALE', appliances=[Appliance(type='baby monitor', instance=1)])>     "
       ]
      },
      {
       "output_type": "stream",
       "stream": "stdout",
       "text": [
        "\r",
        "Loading data for meter <bound method ElecMeter.instance of ElecMeter(instance=28, building=1, dataset='UK-DALE', appliances=[Appliance(type='active subwoofer', instance=1)])>     "
       ]
      },
      {
       "output_type": "stream",
       "stream": "stdout",
       "text": [
        "\r",
        "Loading data for meter <bound method ElecMeter.instance of ElecMeter(instance=50, building=1, dataset='UK-DALE', appliances=[Appliance(type='light', instance=15)])>     "
       ]
      },
      {
       "output_type": "stream",
       "stream": "stdout",
       "text": [
        "\r",
        "Loading data for meter <bound method ElecMeter.instance of ElecMeter(instance=32, building=1, dataset='UK-DALE', appliances=[Appliance(type='wireless phone charger', instance=1), Appliance(type='audio system', instance=2)])>     "
       ]
      },
      {
       "output_type": "stream",
       "stream": "stdout",
       "text": [
        "\r",
        "Loading data for meter <bound method ElecMeter.instance of ElecMeter(instance=15, building=1, dataset='UK-DALE', appliances=[Appliance(type='audio system', instance=1)])>     "
       ]
      },
      {
       "output_type": "stream",
       "stream": "stdout",
       "text": [
        "\r",
        "Loading data for meter <bound method ElecMeter.instance of ElecMeter(instance=52, building=1, dataset='UK-DALE', appliances=[Appliance(type='fan', instance=1)])>     "
       ]
      },
      {
       "output_type": "stream",
       "stream": "stdout",
       "text": [
        "\r",
        "Loading data for meter <bound method ElecMeter.instance of ElecMeter(instance=19, building=1, dataset='UK-DALE', appliances=[Appliance(type='light', instance=3)])>     "
       ]
      },
      {
       "output_type": "stream",
       "stream": "stdout",
       "text": [
        "\r",
        "Loading data for meter <bound method ElecMeter.instance of ElecMeter(instance=39, building=1, dataset='UK-DALE', appliances=[Appliance(type='hair dryer', instance=1)])>     "
       ]
      },
      {
       "output_type": "stream",
       "stream": "stdout",
       "text": [
        "\r",
        "Loading data for meter <bound method ElecMeter.instance of ElecMeter(instance=21, building=1, dataset='UK-DALE', appliances=[Appliance(type='ethernet switch', instance=1), Appliance(type='USB hub', instance=1)])>     "
       ]
      },
      {
       "output_type": "stream",
       "stream": "stdout",
       "text": [
        "\r",
        "Loading data for meter <bound method ElecMeter.instance of ElecMeter(instance=43, building=1, dataset='UK-DALE', appliances=[Appliance(type='computer', instance=1), Appliance(type='external hard disk', instance=1)])>     "
       ]
      },
      {
       "output_type": "stream",
       "stream": "stdout",
       "text": [
        "\r",
        "Loading data for meter <bound method ElecMeter.instance of ElecMeter(instance=25, building=1, dataset='UK-DALE', appliances=[Appliance(type='light', instance=16)])>     "
       ]
      },
      {
       "output_type": "stream",
       "stream": "stdout",
       "text": [
        "\r",
        "Loading data for meter <bound method ElecMeter.instance of ElecMeter(instance=45, building=1, dataset='UK-DALE', appliances=[Appliance(type='light', instance=12)])>     "
       ]
      },
      {
       "output_type": "stream",
       "stream": "stdout",
       "text": [
        "\r",
        "Loading data for meter <bound method ElecMeter.instance of ElecMeter(instance=49, building=1, dataset='UK-DALE', appliances=[Appliance(type='light', instance=14)])>     "
       ]
      },
      {
       "output_type": "stream",
       "stream": "stdout",
       "text": [
        "\r",
        "Loading data for meter <bound method ElecMeter.instance of ElecMeter(instance=14, building=1, dataset='UK-DALE', appliances=[Appliance(type='computer monitor', instance=1)])>     "
       ]
      },
      {
       "output_type": "stream",
       "stream": "stdout",
       "text": [
        "\r",
        "Loading data for meter <bound method ElecMeter.instance of ElecMeter(instance=18, building=1, dataset='UK-DALE', appliances=[Appliance(type='broadband router', instance=1)])>     "
       ]
      },
      {
       "output_type": "stream",
       "stream": "stdout",
       "text": [
        "\r",
        "Loading data for meter <bound method ElecMeter.instance of ElecMeter(instance=38, building=1, dataset='UK-DALE', appliances=[Appliance(type='mobile phone charger', instance=2), Appliance(type='baby monitor', instance=2), Appliance(type='radio', instance=3)])>     "
       ]
      },
      {
       "output_type": "stream",
       "stream": "stdout",
       "text": [
        "\r",
        "Loading data for meter <bound method ElecMeter.instance of ElecMeter(instance=20, building=1, dataset='UK-DALE', appliances=[Appliance(type='soldering iron', instance=1)])>     "
       ]
      },
      {
       "output_type": "stream",
       "stream": "stdout",
       "text": [
        "\r",
        "Loading data for meter <bound method ElecMeter.instance of ElecMeter(instance=42, building=1, dataset='UK-DALE', appliances=[Appliance(type='oven', instance=1)])>     "
       ]
      },
      {
       "output_type": "stream",
       "stream": "stdout",
       "text": [
        "\r",
        "Loading data for meter <bound method ElecMeter.instance of ElecMeter(instance=24, building=1, dataset='UK-DALE', appliances=[Appliance(type='light', instance=5)])>     "
       ]
      },
      {
       "output_type": "stream",
       "stream": "stdout",
       "text": [
        "\r",
        "Loading data for meter <bound method ElecMeter.instance of ElecMeter(instance=7, building=1, dataset='UK-DALE', appliances=[Appliance(type='television', instance=1)])>     "
       ]
      },
      {
       "output_type": "stream",
       "stream": "stdout",
       "text": [
        "\r",
        "Loading data for meter <bound method ElecMeter.instance of ElecMeter(instance=44, building=1, dataset='UK-DALE', appliances=[Appliance(type='light', instance=11)])>     "
       ]
      },
      {
       "output_type": "stream",
       "stream": "stdout",
       "text": [
        "\r",
        "Loading data for meter <bound method ElecMeter.instance of ElecMeter(instance=11, building=1, dataset='UK-DALE', appliances=[Appliance(type='toaster', instance=1), Appliance(type='kitchen aid', instance=1), Appliance(type='food processor', instance=2)])>     "
       ]
      },
      {
       "output_type": "stream",
       "stream": "stdout",
       "text": [
        "\r",
        "Loading data for meter <bound method ElecMeter.instance of ElecMeter(instance=48, building=1, dataset='UK-DALE', appliances=[Appliance(type='light', instance=13)])>     "
       ]
      },
      {
       "output_type": "stream",
       "stream": "stdout",
       "text": [
        "\r",
        "Loading data for meter <bound method ElecMeter.instance of ElecMeter(instance=31, building=1, dataset='UK-DALE', appliances=[Appliance(type='light', instance=8)])>     "
       ]
      },
      {
       "output_type": "stream",
       "stream": "stdout",
       "text": [
        "\r",
        "Loading data for meter <bound method ElecMeter.instance of ElecMeter(instance=13, building=1, dataset='UK-DALE', appliances=[Appliance(type='microwave', instance=1)])>     "
       ]
      },
      {
       "output_type": "stream",
       "stream": "stdout",
       "text": [
        "\r",
        "Loading data for meter <bound method ElecMeter.instance of ElecMeter(instance=35, building=1, dataset='UK-DALE', appliances=[Appliance(type='light', instance=10)])>     "
       ]
      },
      {
       "output_type": "stream",
       "stream": "stdout",
       "text": [
        "\r",
        "Loading data for meter <bound method ElecMeter.instance of ElecMeter(instance=17, building=1, dataset='UK-DALE', appliances=[Appliance(type='audio amplifier', instance=1)])>     "
       ]
      },
      {
       "output_type": "stream",
       "stream": "stdout",
       "text": [
        "\r",
        "Loading data for meter <bound method ElecMeter.instance of ElecMeter(instance=37, building=1, dataset='UK-DALE', appliances=[Appliance(type='radio', instance=2)])>     "
       ]
      },
      {
       "output_type": "stream",
       "stream": "stdout",
       "text": [
        "\r",
        "Loading data for meter <bound method ElecMeter.instance of ElecMeter(instance=41, building=1, dataset='UK-DALE', appliances=[Appliance(type='clothes iron', instance=1)])>     "
       ]
      },
      {
       "output_type": "stream",
       "stream": "stdout",
       "text": [
        "\r",
        "Loading data for meter <bound method ElecMeter.instance of ElecMeter(instance=6, building=1, dataset='UK-DALE', appliances=[Appliance(type='dish washer', instance=1)])>     "
       ]
      },
      {
       "output_type": "stream",
       "stream": "stdout",
       "text": [
        "\r",
        "Loading data for meter <bound method ElecMeter.instance of ElecMeter(instance=10, building=1, dataset='UK-DALE', appliances=[Appliance(type='kettle', instance=1), Appliance(type='food processor', instance=1), Appliance(type='toasted sandwich maker', instance=1)])>     "
       ]
      },
      {
       "output_type": "stream",
       "stream": "stdout",
       "text": [
        "\r",
        "Loading data for meter <bound method ElecMeter.instance of ElecMeter(instance=30, building=1, dataset='UK-DALE', appliances=[Appliance(type='radio', instance=1)])>     "
       ]
      },
      {
       "output_type": "stream",
       "stream": "stdout",
       "text": [
        "\r",
        "Loading data for meter <bound method ElecMeter.instance of ElecMeter(instance=12, building=1, dataset='UK-DALE', appliances=[Appliance(type='fridge freezer', instance=1)])>     "
       ]
      },
      {
       "output_type": "stream",
       "stream": "stdout",
       "text": [
        "\r",
        "Loading data for meter <bound method ElecMeter.instance of ElecMeter(instance=34, building=1, dataset='UK-DALE', appliances=[Appliance(type='mobile phone charger', instance=1)])>     "
       ]
      },
      {
       "output_type": "stream",
       "stream": "stdout",
       "text": [
        "\r",
        "Loading data for meter <bound method ElecMeter.instance of ElecMeter(instance=16, building=1, dataset='UK-DALE', appliances=[Appliance(type='breadmaker', instance=1)])>     "
       ]
      },
      {
       "output_type": "stream",
       "stream": "stdout",
       "text": [
        "\r",
        "Loading data for meter <bound method ElecMeter.instance of ElecMeter(instance=36, building=1, dataset='UK-DALE', appliances=[Appliance(type='coffee maker', instance=1)])>     "
       ]
      },
      {
       "output_type": "stream",
       "stream": "stdout",
       "text": [
        "\r",
        "Loading data for meter <bound method ElecMeter.instance of ElecMeter(instance=3, building=1, dataset='UK-DALE', appliances=[Appliance(type='solar thermal pumping station', instance=1)])>     "
       ]
      },
      {
       "output_type": "stream",
       "stream": "stdout",
       "text": [
        "\r",
        "Loading data for meter <bound method ElecMeter.instance of ElecMeter(instance=40, building=1, dataset='UK-DALE', appliances=[Appliance(type='hair straighteners', instance=1)])>     "
       ]
      },
      {
       "output_type": "stream",
       "stream": "stdout",
       "text": [
        "\r",
        "Loading data for meter <bound method ElecMeter.instance of ElecMeter(instance=23, building=1, dataset='UK-DALE', appliances=[Appliance(type='light', instance=4)])>     "
       ]
      },
      {
       "output_type": "stream",
       "stream": "stdout",
       "text": [
        "\r",
        "Loading data for meter <bound method ElecMeter.instance of ElecMeter(instance=5, building=1, dataset='UK-DALE', appliances=[Appliance(type='washer dryer', instance=1)])>     "
       ]
      },
      {
       "output_type": "stream",
       "stream": "stdout",
       "text": [
        "\r",
        "Loading data for meter <bound method ElecMeter.instance of ElecMeter(instance=27, building=1, dataset='UK-DALE', appliances=[Appliance(type='tablet computer charger', instance=1)])>     "
       ]
      },
      {
       "output_type": "stream",
       "stream": "stdout",
       "text": [
        "\r",
        "Loading data for meter <bound method ElecMeter.instance of ElecMeter(instance=9, building=1, dataset='UK-DALE', appliances=[Appliance(type='HTPC', instance=1)])>     "
       ]
      },
      {
       "output_type": "stream",
       "stream": "stdout",
       "text": [
        "\r",
        "Loading data for meter <bound method ElecMeter.instance of ElecMeter(instance=47, building=1, dataset='UK-DALE', appliances=[Appliance(type='charger', instance=1)])>     "
       ]
      },
      {
       "output_type": "stream",
       "stream": "stdout",
       "text": [
        "\r",
        "Loading data for meter <bound method ElecMeter.instance of ElecMeter(instance=29, building=1, dataset='UK-DALE', appliances=[Appliance(type='light', instance=7)])>     "
       ]
      },
      {
       "output_type": "stream",
       "stream": "stdout",
       "text": [
        "\r",
        "Loading data for meter <bound method ElecMeter.instance of ElecMeter(instance=51, building=1, dataset='UK-DALE', appliances=[Appliance(type='desktop computer', instance=1)])>     "
       ]
      },
      {
       "output_type": "stream",
       "stream": "stdout",
       "text": [
        "\r",
        "Loading data for meter <bound method ElecMeter.instance of ElecMeter(instance=33, building=1, dataset='UK-DALE', appliances=[Appliance(type='light', instance=9)])>     "
       ]
      },
      {
       "output_type": "stream",
       "stream": "stdout",
       "text": [
        "\r",
        "Loading data for meter <bound method ElecMeter.instance of ElecMeter(instance=53, building=1, dataset='UK-DALE', appliances=[Appliance(type='printer', instance=1)])>     "
       ]
      },
      {
       "output_type": "stream",
       "stream": "stdout",
       "text": [
        "\r",
        "Loading data for meter <bound method ElecMeter.instance of ElecMeter(instance=2, building=1, dataset='UK-DALE', appliances=[Appliance(type='boiler', instance=1)])>     "
       ]
      },
      {
       "output_type": "stream",
       "stream": "stdout",
       "text": [
        "\r",
        "Loading data for meter <bound method ElecMeter.instance of ElecMeter(instance=22, building=1, dataset='UK-DALE', appliances=[Appliance(type='vacuum cleaner', instance=1)])>     "
       ]
      },
      {
       "output_type": "stream",
       "stream": "stdout",
       "text": [
        "\r",
        "Loading data for meter <bound method ElecMeter.instance of ElecMeter(instance=4, building=1, dataset='UK-DALE', appliances=[Appliance(type='laptop computer', instance=1), Appliance(type='laptop computer', instance=3)])>     "
       ]
      },
      {
       "output_type": "stream",
       "stream": "stdout",
       "text": [
        "\r",
        "Loading data for meter <bound method ElecMeter.instance of ElecMeter(instance=26, building=1, dataset='UK-DALE', appliances=[Appliance(type='light', instance=6)])>     "
       ]
      },
      {
       "output_type": "stream",
       "stream": "stdout",
       "text": [
        "\r",
        "Loading data for meter <bound method ElecMeter.instance of ElecMeter(instance=46, building=1, dataset='UK-DALE', appliances=[Appliance(type='baby monitor', instance=1)])>     "
       ]
      },
      {
       "output_type": "stream",
       "stream": "stdout",
       "text": [
        "\r",
        "Loading data for meter <bound method ElecMeter.instance of ElecMeter(instance=28, building=1, dataset='UK-DALE', appliances=[Appliance(type='active subwoofer', instance=1)])>     "
       ]
      },
      {
       "output_type": "stream",
       "stream": "stdout",
       "text": [
        "\r",
        "Loading data for meter <bound method ElecMeter.instance of ElecMeter(instance=50, building=1, dataset='UK-DALE', appliances=[Appliance(type='light', instance=15)])>     "
       ]
      },
      {
       "output_type": "stream",
       "stream": "stdout",
       "text": [
        "\r",
        "Loading data for meter <bound method ElecMeter.instance of ElecMeter(instance=32, building=1, dataset='UK-DALE', appliances=[Appliance(type='wireless phone charger', instance=1), Appliance(type='audio system', instance=2)])>     "
       ]
      },
      {
       "output_type": "stream",
       "stream": "stdout",
       "text": [
        "\r",
        "Loading data for meter <bound method ElecMeter.instance of ElecMeter(instance=15, building=1, dataset='UK-DALE', appliances=[Appliance(type='audio system', instance=1)])>     "
       ]
      },
      {
       "output_type": "stream",
       "stream": "stdout",
       "text": [
        "\r",
        "Loading data for meter <bound method ElecMeter.instance of ElecMeter(instance=52, building=1, dataset='UK-DALE', appliances=[Appliance(type='fan', instance=1)])>     "
       ]
      },
      {
       "output_type": "stream",
       "stream": "stdout",
       "text": [
        "\r",
        "Loading data for meter <bound method ElecMeter.instance of ElecMeter(instance=19, building=1, dataset='UK-DALE', appliances=[Appliance(type='light', instance=3)])>     "
       ]
      },
      {
       "output_type": "stream",
       "stream": "stdout",
       "text": [
        "\r",
        "Loading data for meter <bound method ElecMeter.instance of ElecMeter(instance=39, building=1, dataset='UK-DALE', appliances=[Appliance(type='hair dryer', instance=1)])>     "
       ]
      },
      {
       "output_type": "stream",
       "stream": "stdout",
       "text": [
        "\r",
        "Loading data for meter <bound method ElecMeter.instance of ElecMeter(instance=21, building=1, dataset='UK-DALE', appliances=[Appliance(type='ethernet switch', instance=1), Appliance(type='USB hub', instance=1)])>     "
       ]
      },
      {
       "output_type": "stream",
       "stream": "stdout",
       "text": [
        "\r",
        "Loading data for meter <bound method ElecMeter.instance of ElecMeter(instance=43, building=1, dataset='UK-DALE', appliances=[Appliance(type='computer', instance=1), Appliance(type='external hard disk', instance=1)])>     "
       ]
      },
      {
       "output_type": "stream",
       "stream": "stdout",
       "text": [
        "\r",
        "Loading data for meter <bound method ElecMeter.instance of ElecMeter(instance=25, building=1, dataset='UK-DALE', appliances=[Appliance(type='light', instance=16)])>     "
       ]
      },
      {
       "output_type": "stream",
       "stream": "stdout",
       "text": [
        "\r",
        "Loading data for meter <bound method ElecMeter.instance of ElecMeter(instance=45, building=1, dataset='UK-DALE', appliances=[Appliance(type='light', instance=12)])>     "
       ]
      },
      {
       "output_type": "stream",
       "stream": "stdout",
       "text": [
        "\r",
        "Loading data for meter <bound method ElecMeter.instance of ElecMeter(instance=49, building=1, dataset='UK-DALE', appliances=[Appliance(type='light', instance=14)])>     "
       ]
      },
      {
       "output_type": "stream",
       "stream": "stderr",
       "text": [
        "/home/dk3810/workspace/python/nilmtk/nilmtk/elecmeter.py:104: UserWarning: There is no meter upstream of this meter 'ElecMeterID(instance=54, building=1, dataset='UK-DALE')' because it is a site meter.\n",
        "  .format(self.identifier))\n",
        "/home/dk3810/workspace/python/nilmtk/nilmtk/preprocessing/clip.py:50: RuntimeWarning: No measurement limits for ('voltage', '').\n",
        "  warn('No measurement limits for {}.'.format(measurement), RuntimeWarning)\n"
       ]
      },
      {
       "output_type": "stream",
       "stream": "stdout",
       "text": [
        "Calculating energy for column ('power', 'active')\n",
        "Calculating energy for column ('power', 'apparent')\n",
        "Calculating energy for column"
       ]
      },
      {
       "output_type": "stream",
       "stream": "stdout",
       "text": [
        " ('power', 'active')\n",
        "Calculating energy for column ('power', 'apparent')\n",
        "Calculating energy for column"
       ]
      },
      {
       "output_type": "stream",
       "stream": "stdout",
       "text": [
        " ('power', 'active')\n",
        "Calculating energy for column ('power', 'apparent')\n",
        "Calculating energy for column"
       ]
      },
      {
       "output_type": "stream",
       "stream": "stdout",
       "text": [
        " ('power', 'active')\n",
        "Calculating energy for column ('power', 'apparent')\n",
        "Calculating energy for column ('power', 'active')\n",
        "Calculating energy for column ('power', 'apparent')\n",
        "Calculating energy for column ('power', 'active')\n",
        "Calculating energy for column ('power', 'apparent')\n",
        "Calculating energy for column"
       ]
      },
      {
       "output_type": "stream",
       "stream": "stdout",
       "text": [
        " ('power', 'active')\n",
        "Calculating energy for column ('power', 'apparent')\n",
        "Calculating energy for column"
       ]
      },
      {
       "output_type": "stream",
       "stream": "stdout",
       "text": [
        " ('power', 'active')\n",
        "Calculating energy for column ('power', 'apparent')\n",
        "Calculating energy for column ('power', 'active')\n",
        "Calculating energy for column ('power', 'apparent')\n",
        "Calculating energy for column"
       ]
      },
      {
       "output_type": "stream",
       "stream": "stdout",
       "text": [
        " ('power', 'active')\n",
        "Calculating energy for column ('power', 'apparent')\n",
        "Calculating energy for column"
       ]
      },
      {
       "output_type": "stream",
       "stream": "stdout",
       "text": [
        " ('power', 'active')\n",
        "Calculating energy for column ('power', 'apparent')\n",
        "Calculating energy for column ('power', 'active')\n",
        "Calculating energy for column ('power', 'apparent')\n",
        "Calculating energy for column ('power', 'active')\n",
        "Calculating energy for column ('power', 'apparent')\n",
        "Calculating energy for column"
       ]
      },
      {
       "output_type": "stream",
       "stream": "stdout",
       "text": [
        " ('power', 'active')\n",
        "Calculating energy for column ('power', 'apparent')\n",
        "Calculating energy for column"
       ]
      },
      {
       "output_type": "stream",
       "stream": "stdout",
       "text": [
        " ('power', 'active')\n",
        "Calculating energy for column ('power', 'apparent')\n",
        "Calculating energy for column"
       ]
      },
      {
       "output_type": "stream",
       "stream": "stdout",
       "text": [
        " ('power', 'active')\n",
        "Calculating energy for column ('power', 'apparent')\n",
        "Calculating energy for column"
       ]
      },
      {
       "output_type": "stream",
       "stream": "stdout",
       "text": [
        " ('power', 'active')\n",
        "Calculating energy for column ('power', 'apparent')\n",
        "Calculating energy for column"
       ]
      },
      {
       "output_type": "stream",
       "stream": "stdout",
       "text": [
        " ('power', 'active')\n",
        "Calculating energy for column ('power', 'apparent')\n",
        "Calculating energy for column"
       ]
      },
      {
       "output_type": "stream",
       "stream": "stdout",
       "text": [
        " ('power', 'active')\n",
        "Calculating energy for column"
       ]
      },
      {
       "output_type": "stream",
       "stream": "stdout",
       "text": [
        " ('power', 'apparent')\n",
        "Calculating energy for column"
       ]
      },
      {
       "output_type": "stream",
       "stream": "stdout",
       "text": [
        " ('power', 'active')\n",
        "Calculating energy for column"
       ]
      },
      {
       "output_type": "stream",
       "stream": "stdout",
       "text": [
        " ('power', 'apparent')\n",
        "Calculating energy for column"
       ]
      },
      {
       "output_type": "stream",
       "stream": "stdout",
       "text": [
        " ('power', 'active')\n",
        "Calculating energy for column ('power', 'apparent')\n",
        "Calculating energy for column ('power', 'active')\n",
        "Calculating energy for column ('power', 'apparent')\n",
        "Calculating energy for column"
       ]
      },
      {
       "output_type": "stream",
       "stream": "stdout",
       "text": [
        " ('power', 'active')\n",
        "Calculating energy for column ('power', 'apparent')\n",
        "Calculating energy for column"
       ]
      },
      {
       "output_type": "stream",
       "stream": "stdout",
       "text": [
        " ('power', 'active')\n",
        "Calculating energy for column"
       ]
      },
      {
       "output_type": "stream",
       "stream": "stdout",
       "text": [
        " ('power', 'apparent')\n",
        "Calculating energy for column"
       ]
      },
      {
       "output_type": "stream",
       "stream": "stdout",
       "text": [
        " ('power', 'active')\n",
        "Calculating energy for column"
       ]
      },
      {
       "output_type": "stream",
       "stream": "stdout",
       "text": [
        " ('power', 'apparent')\n",
        "Calculating energy for column"
       ]
      },
      {
       "output_type": "stream",
       "stream": "stdout",
       "text": [
        " ('power', 'active')\n",
        "Calculating energy for column ('power', 'apparent')\n",
        "Calculating energy for column"
       ]
      },
      {
       "output_type": "stream",
       "stream": "stdout",
       "text": [
        " ('power', 'active')\n",
        "Calculating energy for column ('power', 'apparent')\n",
        "Calculating energy for column ('power', 'active')\n",
        "Calculating energy for column ('power', 'apparent')\n",
        "Calculating energy for column"
       ]
      },
      {
       "output_type": "stream",
       "stream": "stdout",
       "text": [
        " ('power', 'active')\n",
        "Calculating energy for column"
       ]
      },
      {
       "output_type": "stream",
       "stream": "stdout",
       "text": [
        " ('power', 'apparent')\n",
        "Calculating energy for column"
       ]
      },
      {
       "output_type": "stream",
       "stream": "stdout",
       "text": [
        " ('power', 'active')\n",
        "Calculating energy for column ('power', 'apparent')\n",
        "Calculating energy for column ('power', 'active')\n",
        "Calculating energy for column ('power', 'apparent')\n",
        "Calculating energy for column"
       ]
      },
      {
       "output_type": "stream",
       "stream": "stdout",
       "text": [
        " ('power', 'active')\n",
        "Calculating energy for column ('power', 'active')\n",
        "Calculating energy for column"
       ]
      },
      {
       "output_type": "stream",
       "stream": "stdout",
       "text": [
        " ('power', 'active')\n",
        "Calculating energy for column ('power', 'active')\n",
        "Calculating energy for column ('power', 'active')\n",
        "Calculating energy for column ('power', 'active')\n",
        "Calculating energy for column ('power', 'active')\n",
        "Calculating energy for column"
       ]
      },
      {
       "output_type": "stream",
       "stream": "stdout",
       "text": [
        " ('power', 'active')\n",
        "Calculating energy for column ('power', 'active')\n",
        "Calculating energy for column ('power', 'active')\n",
        "Calculating energy for column ('power', 'active')\n",
        "Calculating energy for column ('power', 'active')\n",
        "Calculating energy for column"
       ]
      },
      {
       "output_type": "stream",
       "stream": "stdout",
       "text": [
        " ('power', 'active')\n",
        "Calculating energy for column ('power', 'active')\n",
        "Calculating energy for column ('power', 'active')\n",
        "Calculating energy for column ('power', 'active')\n",
        "Calculating energy for column"
       ]
      },
      {
       "output_type": "stream",
       "stream": "stdout",
       "text": [
        " ('power', 'active')\n",
        "Calculating energy for column"
       ]
      },
      {
       "output_type": "stream",
       "stream": "stdout",
       "text": [
        " ('power', 'active')\n",
        "Calculating energy for column"
       ]
      },
      {
       "output_type": "stream",
       "stream": "stdout",
       "text": [
        " ('power', 'active')\n",
        "Calculating energy for column ('power', 'active')\n",
        "Calculating energy for column ('power', 'active')\n",
        "Calculating energy for column ('power', 'active')\n",
        "Calculating energy for column"
       ]
      },
      {
       "output_type": "stream",
       "stream": "stdout",
       "text": [
        " ('power', 'active')\n",
        "Calculating energy for column"
       ]
      },
      {
       "output_type": "stream",
       "stream": "stdout",
       "text": [
        " ('power', 'active')\n",
        "Calculating energy for column"
       ]
      },
      {
       "output_type": "stream",
       "stream": "stdout",
       "text": [
        " ('power', 'active')\n",
        "Calculating energy for column ('power', 'active')\n",
        "Calculating energy for column"
       ]
      },
      {
       "output_type": "stream",
       "stream": "stdout",
       "text": [
        " ('power', 'active')\n",
        "Calculating energy for column"
       ]
      },
      {
       "output_type": "stream",
       "stream": "stdout",
       "text": [
        " ('power', 'active')\n",
        "Calculating energy for column"
       ]
      },
      {
       "output_type": "stream",
       "stream": "stdout",
       "text": [
        " ('power', 'active')\n",
        "Calculating energy for column"
       ]
      },
      {
       "output_type": "stream",
       "stream": "stdout",
       "text": [
        " ('power', 'active')\n",
        "Calculating energy for column ('power', 'active')\n",
        "Calculating energy for column"
       ]
      },
      {
       "output_type": "stream",
       "stream": "stdout",
       "text": [
        " ('power', 'active')\n",
        "Calculating energy for column"
       ]
      },
      {
       "output_type": "stream",
       "stream": "stdout",
       "text": [
        " ('power', 'active')\n",
        "Calculating energy for column"
       ]
      },
      {
       "output_type": "stream",
       "stream": "stdout",
       "text": [
        " ('power', 'active')\n",
        "Calculating energy for column ('power', 'active')\n",
        "Calculating energy for column"
       ]
      },
      {
       "output_type": "stream",
       "stream": "stdout",
       "text": [
        " ('power', 'active')\n",
        "Calculating energy for column"
       ]
      },
      {
       "output_type": "stream",
       "stream": "stdout",
       "text": [
        " ('power', 'active')\n",
        "Calculating energy for column ('power', 'active')\n",
        "Calculating energy for column"
       ]
      },
      {
       "output_type": "stream",
       "stream": "stdout",
       "text": [
        " ('power', 'active')\n",
        "Calculating energy for column ('power', 'active')\n",
        "Calculating energy for column ('power', 'active')\n",
        "Calculating energy for column"
       ]
      },
      {
       "output_type": "stream",
       "stream": "stdout",
       "text": [
        " ('power', 'active')\n",
        "Calculating energy for column ('power', 'active')\n",
        "Calculating energy for column ('power', 'active')\n",
        "Calculating energy for column"
       ]
      },
      {
       "output_type": "stream",
       "stream": "stdout",
       "text": [
        " ('power', 'active')\n",
        "Calculating energy for column"
       ]
      },
      {
       "output_type": "stream",
       "stream": "stdout",
       "text": [
        " ('power', 'active')\n",
        "Calculating energy for column ('power', 'active')\n",
        "Calculating energy for column ('power', 'active')\n",
        "Calculating energy for column ('power', 'active')\n",
        "Calculating energy for column"
       ]
      },
      {
       "output_type": "stream",
       "stream": "stdout",
       "text": [
        " ('power', 'active')\n",
        "Calculating energy for column"
       ]
      },
      {
       "output_type": "stream",
       "stream": "stdout",
       "text": [
        " ('power', 'active')\n",
        "Calculating energy for column ('power', 'active')\n",
        "Calculating energy for column ('power', 'active')\n",
        "Calculating energy for column ('power', 'active')\n",
        "Calculating energy for column"
       ]
      },
      {
       "output_type": "stream",
       "stream": "stdout",
       "text": [
        " ('power', 'active')\n",
        "Calculating energy for column ('power', 'active')\n",
        "Calculating energy for column"
       ]
      },
      {
       "output_type": "stream",
       "stream": "stdout",
       "text": [
        " ('power', 'active')\n",
        "Calculating energy for column ('power', 'active')\n",
        "Calculating energy for column"
       ]
      },
      {
       "output_type": "stream",
       "stream": "stdout",
       "text": [
        " ('power', 'active')\n",
        "Calculating energy for column"
       ]
      },
      {
       "output_type": "stream",
       "stream": "stdout",
       "text": [
        " ('power', 'active')\n",
        "Calculating energy for column ('power', 'active')\n",
        "Calculating energy for column ('power', 'active')\n",
        "Calculating energy for column ('power', 'active')\n",
        "Calculating energy for column"
       ]
      },
      {
       "output_type": "stream",
       "stream": "stdout",
       "text": [
        " ('power', 'active')\n",
        "Calculating energy for column ('power', 'active')\n",
        "Calculating energy for column ('power', 'active')\n",
        "Calculating energy for column ('power', 'active')\n",
        "Calculating energy for column ('power', 'active')\n",
        "Calculating energy for column"
       ]
      },
      {
       "output_type": "stream",
       "stream": "stdout",
       "text": [
        " ('power', 'active')\n",
        "Calculating energy for column ('power', 'active')\n",
        "Calculating energy for column ('power', 'active')\n",
        "Calculating energy for column ('power', 'active')\n",
        "Calculating energy for column ('power', 'active')\n",
        "Calculating energy for column"
       ]
      },
      {
       "output_type": "stream",
       "stream": "stdout",
       "text": [
        " ('power', 'active')\n",
        "Calculating energy for column ('power', 'active')\n",
        "Calculating energy for column"
       ]
      },
      {
       "output_type": "stream",
       "stream": "stdout",
       "text": [
        " ('power', 'active')\n",
        "Calculating energy for column ('power', 'active')\n",
        "Calculating energy for column ('power', 'active')\n",
        "Calculating energy for column"
       ]
      },
      {
       "output_type": "stream",
       "stream": "stdout",
       "text": [
        " ('power', 'active')\n",
        "Calculating energy for column"
       ]
      },
      {
       "output_type": "stream",
       "stream": "stdout",
       "text": [
        " ('power', 'active')\n",
        "Calculating energy for column"
       ]
      },
      {
       "output_type": "stream",
       "stream": "stdout",
       "text": [
        " ('power', 'active')\n",
        "Calculating energy for column ('power', 'active')\n",
        "Calculating energy for column"
       ]
      },
      {
       "output_type": "stream",
       "stream": "stdout",
       "text": [
        " ('power', 'active')\n",
        "Calculating energy for column ('power', 'active')\n",
        "Calculating energy for column"
       ]
      },
      {
       "output_type": "stream",
       "stream": "stdout",
       "text": [
        " ('power', 'active')\n",
        "Calculating energy for column"
       ]
      },
      {
       "output_type": "stream",
       "stream": "stdout",
       "text": [
        " ('power', 'active')\n",
        "Calculating energy for column"
       ]
      },
      {
       "output_type": "stream",
       "stream": "stdout",
       "text": [
        " ('power', 'active')\n",
        "Calculating energy for column ('power', 'active')\n",
        "Calculating energy for column"
       ]
      },
      {
       "output_type": "stream",
       "stream": "stdout",
       "text": [
        " ('power', 'active')\n",
        "Calculating energy for column"
       ]
      },
      {
       "output_type": "stream",
       "stream": "stdout",
       "text": [
        " ('power', 'active')\n",
        "Calculating energy for column ('power', 'active')\n",
        "Calculating energy for column ('power', 'active')\n",
        "Calculating energy for column ('power', 'active')\n",
        "Calculating energy for column"
       ]
      },
      {
       "output_type": "stream",
       "stream": "stdout",
       "text": [
        " ('power', 'active')\n",
        "Calculating energy for column ('power', 'active')\n",
        "Calculating energy for column ('power', 'active')\n",
        "Calculating energy for column ('power', 'active')\n",
        "Calculating energy for column"
       ]
      },
      {
       "output_type": "stream",
       "stream": "stdout",
       "text": [
        " ('power', 'active')\n",
        "Calculating energy for column ('power', 'active')\n",
        "Calculating energy for column ('power', 'active')\n",
        "Calculating energy for column ('power', 'active')\n",
        "Calculating energy for column"
       ]
      },
      {
       "output_type": "stream",
       "stream": "stdout",
       "text": [
        " ('power', 'active')\n",
        "Calculating energy for column ('power', 'active')\n",
        "Calculating energy for column"
       ]
      },
      {
       "output_type": "stream",
       "stream": "stdout",
       "text": [
        " ('power', 'active')\n",
        "Calculating energy for column ('power', 'active')\n",
        "Calculating energy for column"
       ]
      },
      {
       "output_type": "stream",
       "stream": "stdout",
       "text": [
        " ('power', 'active')\n",
        "Calculating energy for column"
       ]
      },
      {
       "output_type": "stream",
       "stream": "stdout",
       "text": [
        " ('power', 'active')\n",
        "Calculating energy for column ('power', 'active')\n",
        "Calculating energy for column ('power', 'active')\n",
        "Calculating energy for column ('power', 'active')\n",
        "Calculating energy for column"
       ]
      },
      {
       "output_type": "stream",
       "stream": "stdout",
       "text": [
        " ('power', 'active')\n",
        "Calculating energy for column ('power', 'active')\n",
        "Calculating energy for column"
       ]
      },
      {
       "output_type": "stream",
       "stream": "stdout",
       "text": [
        " ('power', 'active')\n",
        "Calculating energy for column"
       ]
      },
      {
       "output_type": "stream",
       "stream": "stdout",
       "text": [
        " ('power', 'active')\n",
        "Calculating energy for column"
       ]
      },
      {
       "output_type": "stream",
       "stream": "stdout",
       "text": [
        " ('power', 'active')\n",
        "Calculating energy for column"
       ]
      },
      {
       "output_type": "stream",
       "stream": "stdout",
       "text": [
        " ('power', 'active')\n",
        "Calculating energy for column ('power', 'active')\n",
        "Calculating energy for column ('power', 'active')\n",
        "Calculating energy for column ('power', 'active')\n",
        "Calculating energy for column"
       ]
      },
      {
       "output_type": "stream",
       "stream": "stdout",
       "text": [
        " ('power', 'active')\n",
        "Calculating energy for column ('power', 'active')\n",
        "Calculating energy for column"
       ]
      },
      {
       "output_type": "stream",
       "stream": "stdout",
       "text": [
        " ('power', 'active')\n",
        "Calculating energy for column ('power', 'active')\n",
        "Calculating energy for column"
       ]
      },
      {
       "output_type": "stream",
       "stream": "stdout",
       "text": [
        " ('power', 'active')\n",
        "Calculating energy for column"
       ]
      },
      {
       "output_type": "stream",
       "stream": "stdout",
       "text": [
        " ('power', 'active')\n",
        "Calculating energy for column ('power', 'active')\n",
        "Calculating energy for column"
       ]
      },
      {
       "output_type": "stream",
       "stream": "stdout",
       "text": [
        " ('power', 'active')\n",
        "Calculating energy for column ('power', 'active')\n",
        "Calculating energy for column ('power', 'active')\n",
        "Calculating energy for column ('power', 'active')\n",
        "Calculating energy for column"
       ]
      },
      {
       "output_type": "stream",
       "stream": "stdout",
       "text": [
        " ('power', 'active')\n",
        "Calculating energy for column ('power', 'active')\n",
        "Calculating energy for column"
       ]
      },
      {
       "output_type": "stream",
       "stream": "stdout",
       "text": [
        " ('power', 'active')\n",
        "Calculating energy for column ('power', 'active')\n",
        "Calculating energy for column"
       ]
      },
      {
       "output_type": "stream",
       "stream": "stdout",
       "text": [
        " ('power', 'active')\n",
        "Calculating energy for column ('power', 'active')\n",
        "Calculating energy for column"
       ]
      },
      {
       "output_type": "stream",
       "stream": "stdout",
       "text": [
        " ('power', 'active')\n",
        "Calculating energy for column ('power', 'active')\n",
        "Calculating energy for column"
       ]
      },
      {
       "output_type": "stream",
       "stream": "stdout",
       "text": [
        " ('power', 'active')\n",
        "Calculating energy for column ('power', 'active')\n",
        "Calculating energy for column ('power', 'active')\n",
        "Calculating energy for column ('power', 'active')\n",
        "Calculating energy for column"
       ]
      },
      {
       "output_type": "stream",
       "stream": "stdout",
       "text": [
        " ('power', 'active')\n",
        "Calculating energy for column"
       ]
      },
      {
       "output_type": "stream",
       "stream": "stdout",
       "text": [
        " ('power', 'active')\n",
        "Calculating energy for column ('power', 'active')\n",
        "Calculating energy for column"
       ]
      },
      {
       "output_type": "stream",
       "stream": "stdout",
       "text": [
        " ('power', 'active')\n",
        "Calculating energy for column"
       ]
      },
      {
       "output_type": "stream",
       "stream": "stdout",
       "text": [
        " ('power', 'active')\n",
        "Calculating energy for column ('power', 'active')\n",
        "Calculating energy for column ('power', 'active')\n",
        "Calculating energy for column"
       ]
      },
      {
       "output_type": "stream",
       "stream": "stdout",
       "text": [
        " ('power', 'active')\n",
        "Calculating energy for column ('power', 'active')\n",
        "Calculating energy for column"
       ]
      },
      {
       "output_type": "stream",
       "stream": "stdout",
       "text": [
        " ('power', 'active')\n",
        "Calculating energy for column ('power', 'active')\n",
        "Calculating energy for column"
       ]
      },
      {
       "output_type": "stream",
       "stream": "stdout",
       "text": [
        " ('power', 'active')\n",
        "Calculating energy for column ('power', 'active')\n",
        "Calculating energy for column ('power', 'active')\n",
        "Calculating energy for column ('power', 'active')\n",
        "Calculating energy for column"
       ]
      },
      {
       "output_type": "stream",
       "stream": "stdout",
       "text": [
        " ('power', 'active')\n",
        "Calculating energy for column ('power', 'active')\n",
        "Calculating energy for column ('power', 'active')\n",
        "Calculating energy for column"
       ]
      },
      {
       "output_type": "stream",
       "stream": "stdout",
       "text": [
        " ('power', 'active')\n",
        "Calculating energy for column ('power', 'active')\n",
        "Calculating energy for column ('power', 'active')\n",
        "Calculating energy for column"
       ]
      },
      {
       "output_type": "stream",
       "stream": "stdout",
       "text": [
        " ('power', 'active')\n",
        "Calculating energy for column ('power', 'active')\n",
        "Calculating energy for column"
       ]
      },
      {
       "output_type": "stream",
       "stream": "stdout",
       "text": [
        " ('power', 'active')\n",
        "Calculating energy for column ('power', 'active')\n",
        "Calculating energy for column ('power', 'active')\n",
        "Calculating energy for column"
       ]
      },
      {
       "output_type": "stream",
       "stream": "stdout",
       "text": [
        " ('power', 'active')\n",
        "Calculating energy for column ('power', 'active')\n",
        "Calculating energy for column ('power', 'active')\n",
        "Calculating energy for column"
       ]
      },
      {
       "output_type": "stream",
       "stream": "stdout",
       "text": [
        " ('power', 'active')\n",
        "Calculating energy for column ('power', 'active')\n",
        "Calculating energy for column ('power', 'active')\n",
        "Calculating energy for column"
       ]
      },
      {
       "output_type": "stream",
       "stream": "stdout",
       "text": [
        " ('power', 'active')\n",
        "Calculating energy for column"
       ]
      },
      {
       "output_type": "stream",
       "stream": "stdout",
       "text": [
        " ('power', 'active')\n",
        "Calculating energy for column ('power', 'active')\n",
        "Calculating energy for column"
       ]
      },
      {
       "output_type": "stream",
       "stream": "stdout",
       "text": [
        " ('power', 'active')\n",
        "Calculating energy for column ('power', 'active')\n",
        "Calculating energy for column"
       ]
      },
      {
       "output_type": "stream",
       "stream": "stdout",
       "text": [
        " ('power', 'active')\n",
        "Calculating energy for column ('power', 'active')\n",
        "Calculating energy for column"
       ]
      },
      {
       "output_type": "stream",
       "stream": "stdout",
       "text": [
        " ('power', 'active')\n",
        "Calculating energy for column ('power', 'active')\n",
        "Calculating energy for column ('power', 'active')\n",
        "Calculating energy for column ('power', 'active')\n",
        "Calculating energy for column"
       ]
      },
      {
       "output_type": "stream",
       "stream": "stdout",
       "text": [
        " ('power', 'active')\n",
        "Calculating energy for column"
       ]
      },
      {
       "output_type": "stream",
       "stream": "stdout",
       "text": [
        " ('power', 'active')\n",
        "Calculating energy for column"
       ]
      },
      {
       "output_type": "stream",
       "stream": "stdout",
       "text": [
        " ('power', 'active')\n",
        "Calculating energy for column ('power', 'active')\n",
        "Calculating energy for column"
       ]
      },
      {
       "output_type": "stream",
       "stream": "stdout",
       "text": [
        " ('power', 'active')\n",
        "Calculating energy for column ('power', 'active')\n",
        "Calculating energy for column ('power', 'active')\n",
        "Calculating energy for column ('power', 'active')\n",
        "Calculating energy for column"
       ]
      },
      {
       "output_type": "stream",
       "stream": "stdout",
       "text": [
        " ('power', 'active')\n",
        "Calculating energy for column ('power', 'active')\n",
        "Calculating energy for column"
       ]
      },
      {
       "output_type": "stream",
       "stream": "stdout",
       "text": [
        " ('power', 'active')\n",
        "Calculating energy for column ('power', 'active')\n",
        "Calculating energy for column"
       ]
      },
      {
       "output_type": "stream",
       "stream": "stdout",
       "text": [
        " ('power', 'active')\n",
        "Calculating energy for column ('power', 'active')\n",
        "Calculating energy for column ('power', 'active')\n",
        "Calculating energy for column"
       ]
      },
      {
       "output_type": "stream",
       "stream": "stdout",
       "text": [
        " ('power', 'active')\n",
        "Calculating energy for column ('power', 'active')\n",
        "Calculating energy for column ('power', 'active')\n",
        "Calculating energy for column ('power', 'active')\n",
        "Calculating energy for column"
       ]
      },
      {
       "output_type": "stream",
       "stream": "stdout",
       "text": [
        " ('power', 'active')\n",
        "Calculating energy for column"
       ]
      },
      {
       "output_type": "stream",
       "stream": "stdout",
       "text": [
        " ('power', 'active')\n",
        "Calculating energy for column"
       ]
      },
      {
       "output_type": "stream",
       "stream": "stdout",
       "text": [
        " ('power', 'active')\n",
        "Calculating energy for column ('power', 'active')\n",
        "Calculating energy for column ('power', 'active')\n",
        "Calculating energy for column"
       ]
      },
      {
       "output_type": "stream",
       "stream": "stdout",
       "text": [
        " ('power', 'active')\n",
        "Calculating energy for column ('power', 'active')\n",
        "Calculating energy for column ('power', 'active')\n",
        "Calculating energy for column"
       ]
      },
      {
       "output_type": "stream",
       "stream": "stdout",
       "text": [
        " ('power', 'active')\n",
        "Calculating energy for column ('power', 'active')\n",
        "Calculating energy for column"
       ]
      },
      {
       "output_type": "stream",
       "stream": "stdout",
       "text": [
        " ('power', 'active')\n",
        "Calculating energy for column ('power', 'active')\n",
        "Calculating energy for column"
       ]
      },
      {
       "output_type": "stream",
       "stream": "stdout",
       "text": [
        " ('power', 'active')\n",
        "Calculating energy for column ('power', 'active')\n",
        "Calculating energy for column ('power', 'active')\n",
        "Calculating energy for column"
       ]
      },
      {
       "output_type": "stream",
       "stream": "stdout",
       "text": [
        " ('power', 'active')\n",
        "Calculating energy for column ('power', 'active')\n",
        "Calculating energy for column ('power', 'active')\n",
        "Calculating energy for column ('power', 'active')\n",
        "Calculating energy for column"
       ]
      },
      {
       "output_type": "stream",
       "stream": "stdout",
       "text": [
        " ('power', 'active')\n",
        "Calculating energy for column"
       ]
      },
      {
       "output_type": "stream",
       "stream": "stdout",
       "text": [
        " ('power', 'active')\n",
        "Calculating energy for column"
       ]
      },
      {
       "output_type": "stream",
       "stream": "stdout",
       "text": [
        " ('power', 'active')\n",
        "Calculating energy for column ('power', 'active')\n",
        "Calculating energy for column"
       ]
      },
      {
       "output_type": "stream",
       "stream": "stdout",
       "text": [
        " ('power', 'active')\n",
        "Calculating energy for column ('power', 'active')\n",
        "Calculating energy for column ('power', 'active')\n",
        "Calculating energy for column ('power', 'active')\n",
        "Calculating energy for column ('power', 'active')\n",
        "Calculating energy for column"
       ]
      },
      {
       "output_type": "stream",
       "stream": "stdout",
       "text": [
        " ('power', 'active')\n",
        "Calculating energy for column"
       ]
      },
      {
       "output_type": "stream",
       "stream": "stdout",
       "text": [
        " ('power', 'active')\n",
        "Calculating energy for column ('power', 'active')\n",
        "Calculating energy for column"
       ]
      },
      {
       "output_type": "stream",
       "stream": "stdout",
       "text": [
        " ('power', 'active')\n",
        "Calculating energy for column"
       ]
      },
      {
       "output_type": "stream",
       "stream": "stdout",
       "text": [
        " ('power', 'active')\n",
        "Calculating energy for column ('power', 'active')\n",
        "Calculating energy for column ('power', 'active')\n",
        "Calculating energy for column"
       ]
      },
      {
       "output_type": "stream",
       "stream": "stdout",
       "text": [
        " ('power', 'active')\n",
        "Calculating energy for column"
       ]
      },
      {
       "output_type": "stream",
       "stream": "stdout",
       "text": [
        " ('power', 'active')\n",
        "Calculating energy for column"
       ]
      },
      {
       "output_type": "stream",
       "stream": "stdout",
       "text": [
        " ('power', 'active')\n",
        "Calculating energy for column ('power', 'active')\n",
        "Calculating energy for column"
       ]
      },
      {
       "output_type": "stream",
       "stream": "stdout",
       "text": [
        " ('power', 'active')\n",
        "Calculating energy for column ('power', 'active')\n",
        "Calculating energy for column"
       ]
      },
      {
       "output_type": "stream",
       "stream": "stdout",
       "text": [
        " ('power', 'active')\n",
        "Calculating energy for column"
       ]
      },
      {
       "output_type": "stream",
       "stream": "stdout",
       "text": [
        " ('power', 'active')\n",
        "Calculating energy for column"
       ]
      },
      {
       "output_type": "stream",
       "stream": "stdout",
       "text": [
        " ('power', 'active')\n",
        "Calculating energy for column ('power', 'active')\n",
        "Calculating energy for column"
       ]
      },
      {
       "output_type": "stream",
       "stream": "stdout",
       "text": [
        " ('power', 'active')\n",
        "Calculating energy for column ('power', 'active')\n",
        "Calculating energy for column ('power', 'active')\n",
        "Calculating energy for column ('power', 'active')\n",
        "Calculating energy for column"
       ]
      },
      {
       "output_type": "stream",
       "stream": "stdout",
       "text": [
        " ('power', 'active')\n",
        "Calculating energy for column ('power', 'active')\n",
        "Calculating energy for column ('power', 'active')\n",
        "Calculating energy for column"
       ]
      },
      {
       "output_type": "stream",
       "stream": "stdout",
       "text": [
        " ('power', 'active')\n",
        "Calculating energy for column ('power', 'active')\n",
        "Calculating energy for column ('power', 'active')\n",
        "Calculating energy for column ('power', 'active')\n",
        "Calculating energy for column ('power', 'active')\n",
        "Calculating energy for column"
       ]
      },
      {
       "output_type": "stream",
       "stream": "stdout",
       "text": [
        " ('power', 'active')\n",
        "Calculating energy for column ('power', 'active')\n",
        "Calculating energy for column ('power', 'active')\n",
        "Calculating energy for column ('power', 'active')\n",
        "Calculating energy for column"
       ]
      },
      {
       "output_type": "stream",
       "stream": "stdout",
       "text": [
        " ('power', 'active')\n",
        "Calculating energy for column"
       ]
      },
      {
       "output_type": "stream",
       "stream": "stdout",
       "text": [
        " ('power', 'active')\n",
        "Calculating energy for column"
       ]
      },
      {
       "output_type": "stream",
       "stream": "stdout",
       "text": [
        " ('power', 'active')\n",
        "Calculating energy for column ('power', 'active')\n",
        "Calculating energy for column ('power', 'active')\n",
        "Calculating energy for column ('power', 'active')\n",
        "Calculating energy for column ('power', 'active')\n",
        "Calculating energy for column"
       ]
      },
      {
       "output_type": "stream",
       "stream": "stdout",
       "text": [
        " ('power', 'active')\n",
        "Calculating energy for column"
       ]
      },
      {
       "output_type": "stream",
       "stream": "stdout",
       "text": [
        " ('power', 'active')\n",
        "Calculating energy for column ('power', 'active')\n",
        "Calculating energy for column ('power', 'active')\n",
        "Calculating energy for column"
       ]
      },
      {
       "output_type": "stream",
       "stream": "stdout",
       "text": [
        " ('power', 'active')\n",
        "Calculating energy for column"
       ]
      },
      {
       "output_type": "stream",
       "stream": "stdout",
       "text": [
        " ('power', 'active')\n",
        "Calculating energy for column"
       ]
      },
      {
       "output_type": "stream",
       "stream": "stdout",
       "text": [
        " ('power', 'active')\n",
        "Calculating energy for column ('power', 'active')\n",
        "Calculating energy for column"
       ]
      },
      {
       "output_type": "stream",
       "stream": "stdout",
       "text": [
        " ('power', 'active')\n",
        "Calculating energy for column"
       ]
      },
      {
       "output_type": "stream",
       "stream": "stdout",
       "text": [
        " ('power', 'active')\n",
        "Calculating energy for column"
       ]
      },
      {
       "output_type": "stream",
       "stream": "stdout",
       "text": [
        " ('power', 'active')\n",
        "Calculating energy for column ('power', 'active')\n",
        "Calculating energy for column"
       ]
      },
      {
       "output_type": "stream",
       "stream": "stdout",
       "text": [
        " ('power', 'active')\n",
        "Calculating energy for column"
       ]
      },
      {
       "output_type": "stream",
       "stream": "stdout",
       "text": [
        " ('power', 'active')\n",
        "Calculating energy for column ('power', 'active')\n",
        "Calculating energy for column ('power', 'active')\n",
        "Calculating energy for column ('power', 'active')\n",
        "Calculating energy for column"
       ]
      },
      {
       "output_type": "stream",
       "stream": "stdout",
       "text": [
        " ('power', 'active')\n",
        "Calculating energy for column ('power', 'active')\n",
        "Calculating energy for column ('power', 'active')\n",
        "Calculating energy for column"
       ]
      },
      {
       "output_type": "stream",
       "stream": "stdout",
       "text": [
        " ('power', 'active')\n",
        "Calculating energy for column ('power', 'active')\n",
        "Calculating energy for column"
       ]
      },
      {
       "output_type": "stream",
       "stream": "stdout",
       "text": [
        " ('power', 'active')\n",
        "Calculating energy for column"
       ]
      },
      {
       "output_type": "stream",
       "stream": "stdout",
       "text": [
        " ('power', 'active')\n",
        "Calculating energy for column ('power', 'active')\n",
        "Calculating energy for column"
       ]
      },
      {
       "output_type": "stream",
       "stream": "stdout",
       "text": [
        " ('power', 'active')\n",
        "Calculating energy for column"
       ]
      },
      {
       "output_type": "stream",
       "stream": "stdout",
       "text": [
        " ('power', 'active')\n",
        "Calculating energy for column ('power', 'active')\n",
        "Calculating energy for column ('power', 'active')\n",
        "Calculating energy for column"
       ]
      },
      {
       "output_type": "stream",
       "stream": "stdout",
       "text": [
        " ('power', 'active')\n",
        "Calculating energy for column"
       ]
      },
      {
       "output_type": "stream",
       "stream": "stdout",
       "text": [
        " ('power', 'active')\n",
        "Calculating energy for column ('power', 'active')\n",
        "Calculating energy for column"
       ]
      },
      {
       "output_type": "stream",
       "stream": "stdout",
       "text": [
        " ('power', 'active')\n",
        "Calculating energy for column ('power', 'active')\n",
        "Calculating energy for column"
       ]
      },
      {
       "output_type": "stream",
       "stream": "stdout",
       "text": [
        " ('power', 'active')\n",
        "Calculating energy for column ('power', 'active')\n",
        "Calculating energy for column ('power', 'active')\n",
        "Calculating energy for column"
       ]
      },
      {
       "output_type": "stream",
       "stream": "stdout",
       "text": [
        " ('power', 'active')\n",
        "Calculating energy for column ('power', 'active')\n",
        "Calculating energy for column ('power', 'active')\n",
        "Calculating energy for column"
       ]
      },
      {
       "output_type": "stream",
       "stream": "stdout",
       "text": [
        " ('power', 'active')\n",
        "Calculating energy for column ('power', 'active')\n",
        "Calculating energy for column ('power', 'active')\n",
        "Calculating energy for column"
       ]
      },
      {
       "output_type": "stream",
       "stream": "stdout",
       "text": [
        " ('power', 'active')\n",
        "Calculating energy for column"
       ]
      },
      {
       "output_type": "stream",
       "stream": "stdout",
       "text": [
        " ('power', 'active')\n",
        "Calculating energy for column ('power', 'active')\n",
        "Calculating energy for column ('power', 'active')\n",
        "Calculating energy for column"
       ]
      },
      {
       "output_type": "stream",
       "stream": "stdout",
       "text": [
        " ('power', 'active')\n",
        "Calculating energy for column"
       ]
      },
      {
       "output_type": "stream",
       "stream": "stdout",
       "text": [
        " ('power', 'active')\n",
        "Calculating energy for column ('power', 'active')\n",
        "Calculating energy for column ('power', 'active')\n",
        "Calculating energy for column"
       ]
      },
      {
       "output_type": "stream",
       "stream": "stdout",
       "text": [
        " ('power', 'active')\n",
        "Calculating energy for column"
       ]
      },
      {
       "output_type": "stream",
       "stream": "stdout",
       "text": [
        " ('power', 'active')\n",
        "Calculating energy for column"
       ]
      },
      {
       "output_type": "stream",
       "stream": "stdout",
       "text": [
        " ('power', 'active')\n",
        "Calculating energy for column ('power', 'active')\n",
        "Calculating energy for column ('power', 'active')\n",
        "Calculating energy for column ('power', 'active')\n",
        "Calculating energy for column"
       ]
      },
      {
       "output_type": "stream",
       "stream": "stdout",
       "text": [
        " ('power', 'active')\n",
        "Calculating energy for column ('power', 'active')\n",
        "Calculating energy for column ('power', 'active')\n",
        "Calculating energy for column"
       ]
      },
      {
       "output_type": "stream",
       "stream": "stdout",
       "text": [
        " ('power', 'active')\n",
        "Calculating energy for column ('power', 'active')\n",
        "Calculating energy for column ('power', 'active')\n",
        "Calculating energy for column"
       ]
      },
      {
       "output_type": "stream",
       "stream": "stdout",
       "text": [
        " ('power', 'active')\n",
        "Calculating energy for column"
       ]
      },
      {
       "output_type": "stream",
       "stream": "stdout",
       "text": [
        " ('power', 'active')\n",
        "Calculating energy for column"
       ]
      },
      {
       "output_type": "stream",
       "stream": "stdout",
       "text": [
        " ('power', 'active')\n",
        "Calculating energy for column ('power', 'active')\n",
        "Calculating energy for column ('power', 'active')\n",
        "Calculating energy for column"
       ]
      },
      {
       "output_type": "stream",
       "stream": "stdout",
       "text": [
        " ('power', 'active')\n",
        "Calculating energy for column"
       ]
      },
      {
       "output_type": "stream",
       "stream": "stdout",
       "text": [
        " ('power', 'active')\n",
        "Calculating energy for column ('power', 'active')\n",
        "Calculating energy for column ('power', 'active')\n",
        "Calculating energy for column"
       ]
      },
      {
       "output_type": "stream",
       "stream": "stdout",
       "text": [
        " ('power', 'active')\n",
        "Calculating energy for column ('power', 'active')\n",
        "Calculating energy for column"
       ]
      },
      {
       "output_type": "stream",
       "stream": "stdout",
       "text": [
        " ('power', 'active')\n",
        "Calculating energy for column"
       ]
      },
      {
       "output_type": "stream",
       "stream": "stdout",
       "text": [
        " ('power', 'active')\n",
        "Calculating energy for column ('power', 'active')\n",
        "Calculating energy for column ('power', 'active')\n",
        "Calculating energy for column ('power', 'active')\n",
        "Calculating energy for column"
       ]
      },
      {
       "output_type": "stream",
       "stream": "stdout",
       "text": [
        " ('power', 'active')\n",
        "Calculating energy for column ('power', 'active')\n",
        "Calculating energy for column ('power', 'active')\n",
        "Calculating energy for column"
       ]
      },
      {
       "output_type": "stream",
       "stream": "stdout",
       "text": [
        " ('power', 'active')\n",
        "Calculating energy for column ('power', 'active')\n",
        "Calculating energy for column ('power', 'active')\n",
        "Calculating energy for column ('power', 'active')\n",
        "Calculating energy for column"
       ]
      },
      {
       "output_type": "stream",
       "stream": "stdout",
       "text": [
        " ('power', 'active')\n",
        "Calculating energy for column ('power', 'active')\n",
        "Calculating energy for column ('power', 'active')\n",
        "Calculating energy for column"
       ]
      },
      {
       "output_type": "stream",
       "stream": "stdout",
       "text": [
        " ('power', 'active')\n",
        "Calculating energy for column ('power', 'active')\n",
        "Calculating energy for column ('power', 'active')\n",
        "Calculating energy for column"
       ]
      },
      {
       "output_type": "stream",
       "stream": "stdout",
       "text": [
        " ('power', 'active')\n",
        "Calculating energy for column ('power', 'active')\n",
        "Calculating energy for column ('power', 'active')\n",
        "Calculating energy for column"
       ]
      },
      {
       "output_type": "stream",
       "stream": "stdout",
       "text": [
        " ('power', 'active')\n",
        "Calculating energy for column ('power', 'active')\n",
        "Calculating energy for column"
       ]
      },
      {
       "output_type": "stream",
       "stream": "stdout",
       "text": [
        " ('power', 'active')\n",
        "Calculating energy for column"
       ]
      },
      {
       "output_type": "stream",
       "stream": "stdout",
       "text": [
        " ('power', 'active')\n",
        "Calculating energy for column"
       ]
      },
      {
       "output_type": "stream",
       "stream": "stdout",
       "text": [
        " ('power', 'active')\n",
        "Calculating energy for column ('power', 'active')\n",
        "Calculating energy for column"
       ]
      },
      {
       "output_type": "stream",
       "stream": "stdout",
       "text": [
        " ('power', 'active')\n",
        "Calculating energy for column ('power', 'active')\n",
        "Calculating energy for column"
       ]
      },
      {
       "output_type": "stream",
       "stream": "stdout",
       "text": [
        " ('power', 'active')\n",
        "Calculating energy for column"
       ]
      },
      {
       "output_type": "stream",
       "stream": "stdout",
       "text": [
        " ('power', 'active')\n",
        "Calculating energy for column"
       ]
      },
      {
       "output_type": "stream",
       "stream": "stdout",
       "text": [
        " ('power', 'active')\n",
        "Calculating energy for column"
       ]
      },
      {
       "output_type": "stream",
       "stream": "stdout",
       "text": [
        " ('power', 'active')\n",
        "Calculating energy for column ('power', 'active')\n",
        "Calculating energy for column ('power', 'active')\n",
        "Calculating energy for column"
       ]
      },
      {
       "output_type": "stream",
       "stream": "stdout",
       "text": [
        " ('power', 'active')\n",
        "Calculating energy for column ('power', 'active')\n",
        "Calculating energy for column ('power', 'active')\n",
        "Calculating energy for column"
       ]
      },
      {
       "output_type": "stream",
       "stream": "stdout",
       "text": [
        " ('power', 'active')\n",
        "Calculating energy for column ('power', 'active')\n",
        "Calculating energy for column ('power', 'active')\n",
        "Calculating energy for column ('power', 'active')\n",
        "Calculating energy for column"
       ]
      },
      {
       "output_type": "stream",
       "stream": "stdout",
       "text": [
        " ('power', 'active')\n",
        "Calculating energy for column ('power', 'active')\n",
        "Calculating energy for column ('power', 'active')\n",
        "Calculating energy for column ('power', 'active')\n",
        "Calculating energy for column ('power', 'active')\n",
        "Calculating energy for column"
       ]
      },
      {
       "output_type": "stream",
       "stream": "stdout",
       "text": [
        " ('power', 'active')\n",
        "Calculating energy for column ('power', 'active')\n",
        "Calculating energy for column"
       ]
      },
      {
       "output_type": "stream",
       "stream": "stdout",
       "text": [
        " ('power', 'active')\n",
        "Calculating energy for column ('power', 'active')\n",
        "Calculating energy for column ('power', 'active')\n",
        "Calculating energy for column"
       ]
      },
      {
       "output_type": "stream",
       "stream": "stdout",
       "text": [
        " ('power', 'active')\n",
        "Calculating energy for column ('power', 'active')\n",
        "Calculating energy for column"
       ]
      },
      {
       "output_type": "stream",
       "stream": "stdout",
       "text": [
        " ('power', 'active')\n",
        "Calculating energy for column"
       ]
      },
      {
       "output_type": "stream",
       "stream": "stdout",
       "text": [
        " ('power', 'active')\n",
        "Calculating energy for column"
       ]
      },
      {
       "output_type": "stream",
       "stream": "stdout",
       "text": [
        " ('power', 'active')\n",
        "Calculating energy for column ('power', 'active')\n",
        "Calculating energy for column ('power', 'active')\n",
        "Calculating energy for column"
       ]
      },
      {
       "output_type": "stream",
       "stream": "stdout",
       "text": [
        " ('power', 'active')\n",
        "Calculating energy for column"
       ]
      },
      {
       "output_type": "stream",
       "stream": "stdout",
       "text": [
        " ('power', 'active')\n",
        "Calculating energy for column"
       ]
      },
      {
       "output_type": "stream",
       "stream": "stdout",
       "text": [
        " ('power', 'active')\n",
        "Calculating energy for column"
       ]
      },
      {
       "output_type": "stream",
       "stream": "stdout",
       "text": [
        " ('power', 'active')\n",
        "Calculating energy for column"
       ]
      },
      {
       "output_type": "stream",
       "stream": "stdout",
       "text": [
        " ('power', 'active')\n",
        "Calculating energy for column"
       ]
      },
      {
       "output_type": "stream",
       "stream": "stdout",
       "text": [
        " ('power', 'active')\n",
        "Calculating energy for column ('power', 'active')\n",
        "Calculating energy for column ('power', 'active')\n",
        "Calculating energy for column"
       ]
      },
      {
       "output_type": "stream",
       "stream": "stdout",
       "text": [
        " ('power', 'active')\n",
        "Calculating energy for column ('power', 'active')\n",
        "Calculating energy for column ('power', 'active')\n",
        "Calculating energy for column ('power', 'active')\n",
        "Calculating energy for column ('power', 'active')\n",
        "Calculating energy for column"
       ]
      },
      {
       "output_type": "stream",
       "stream": "stdout",
       "text": [
        " ('power', 'active')\n",
        "Calculating energy for column ('power', 'active')\n",
        "Calculating energy for column ('power', 'active')\n",
        "Calculating energy for column ('power', 'active')\n",
        "Calculating energy for column"
       ]
      },
      {
       "output_type": "stream",
       "stream": "stdout",
       "text": [
        " ('power', 'active')\n",
        "Calculating energy for column"
       ]
      },
      {
       "output_type": "stream",
       "stream": "stdout",
       "text": [
        " ('power', 'active')\n",
        "Calculating energy for column ('power', 'active')\n",
        "Calculating energy for column ('power', 'active')\n",
        "Calculating energy for column ('power', 'active')\n",
        "Calculating energy for column"
       ]
      },
      {
       "output_type": "stream",
       "stream": "stdout",
       "text": [
        " ('power', 'active')\n",
        "Calculating energy for column"
       ]
      },
      {
       "output_type": "stream",
       "stream": "stdout",
       "text": [
        " ('power', 'active')\n",
        "Calculating energy for column"
       ]
      },
      {
       "output_type": "stream",
       "stream": "stdout",
       "text": [
        " ('power', 'active')\n",
        "Calculating energy for column"
       ]
      },
      {
       "output_type": "stream",
       "stream": "stdout",
       "text": [
        " ('power', 'active')\n",
        "Calculating energy for column"
       ]
      },
      {
       "output_type": "stream",
       "stream": "stdout",
       "text": [
        " ('power', 'active')\n",
        "Calculating energy for column ('power', 'active')\n",
        "Calculating energy for column"
       ]
      },
      {
       "output_type": "stream",
       "stream": "stdout",
       "text": [
        " ('power', 'active')\n",
        "Calculating energy for column ('power', 'active')\n",
        "Calculating energy for column ('power', 'active')\n",
        "Calculating energy for column ('power', 'active')\n",
        "Calculating energy for column"
       ]
      },
      {
       "output_type": "stream",
       "stream": "stdout",
       "text": [
        " ('power', 'active')\n",
        "Calculating energy for column ('power', 'active')\n",
        "Calculating energy for column"
       ]
      },
      {
       "output_type": "stream",
       "stream": "stdout",
       "text": [
        " ('power', 'active')\n",
        "Calculating energy for column"
       ]
      },
      {
       "output_type": "stream",
       "stream": "stdout",
       "text": [
        " ('power', 'active')\n",
        "Calculating energy for column ('power', 'active')\n",
        "Calculating energy for column"
       ]
      },
      {
       "output_type": "stream",
       "stream": "stdout",
       "text": [
        " ('power', 'active')\n",
        "Calculating energy for column ('power', 'active')\n",
        "Calculating energy for column ('power', 'active')\n",
        "Calculating energy for column"
       ]
      },
      {
       "output_type": "stream",
       "stream": "stdout",
       "text": [
        " ('power', 'active')\n",
        "Calculating energy for column ('power', 'active')\n",
        "Calculating energy for column ('power', 'active')\n",
        "Calculating energy for column ('power', 'active')\n",
        "Calculating energy for column"
       ]
      },
      {
       "output_type": "stream",
       "stream": "stdout",
       "text": [
        " ('power', 'active')\n",
        "Calculating energy for column ('power', 'active')\n",
        "Calculating energy for column ('power', 'active')\n",
        "Calculating energy for column"
       ]
      },
      {
       "output_type": "stream",
       "stream": "stdout",
       "text": [
        " ('power', 'active')\n",
        "Calculating energy for column ('power', 'active')\n",
        "Calculating energy for column"
       ]
      },
      {
       "output_type": "stream",
       "stream": "stdout",
       "text": [
        " ('power', 'active')\n",
        "Calculating energy for column"
       ]
      },
      {
       "output_type": "stream",
       "stream": "stdout",
       "text": [
        " ('power', 'active')\n",
        "Calculating energy for column ('power', 'active')\n",
        "Calculating energy for column"
       ]
      },
      {
       "output_type": "stream",
       "stream": "stdout",
       "text": [
        " ('power', 'active')\n",
        "Calculating energy for column"
       ]
      },
      {
       "output_type": "stream",
       "stream": "stdout",
       "text": [
        " ('power', 'active')\n",
        "Calculating energy for column"
       ]
      },
      {
       "output_type": "stream",
       "stream": "stdout",
       "text": [
        " ('power', 'active')\n",
        "Calculating energy for column ('power', 'active')\n",
        "Calculating energy for column"
       ]
      },
      {
       "output_type": "stream",
       "stream": "stdout",
       "text": [
        " ('power', 'active')\n",
        "Calculating energy for column"
       ]
      },
      {
       "output_type": "stream",
       "stream": "stdout",
       "text": [
        " ('power', 'active')\n",
        "Calculating energy for column ('power', 'active')\n",
        "Calculating energy for column"
       ]
      },
      {
       "output_type": "stream",
       "stream": "stdout",
       "text": [
        " ('power', 'active')\n",
        "Calculating energy for column ('power', 'active')\n",
        "Calculating energy for column ('power', 'active')\n",
        "Calculating energy for column ('power', 'active')\n",
        "Calculating energy for column"
       ]
      },
      {
       "output_type": "stream",
       "stream": "stdout",
       "text": [
        " ('power', 'active')\n",
        "Calculating energy for column ('power', 'active')\n",
        "Calculating energy for column"
       ]
      },
      {
       "output_type": "stream",
       "stream": "stdout",
       "text": [
        " ('power', 'active')\n",
        "Calculating energy for column"
       ]
      },
      {
       "output_type": "stream",
       "stream": "stdout",
       "text": [
        " ('power', 'active')\n",
        "Calculating energy for column ('power', 'active')\n",
        "Calculating energy for column ('power', 'active')\n",
        "Calculating energy for column"
       ]
      },
      {
       "output_type": "stream",
       "stream": "stdout",
       "text": [
        " ('power', 'active')\n",
        "Calculating energy for column ('power', 'active')\n",
        "Calculating energy for column"
       ]
      },
      {
       "output_type": "stream",
       "stream": "stdout",
       "text": [
        " ('power', 'active')\n",
        "Calculating energy for column ('power', 'active')\n",
        "Calculating energy for column ('power', 'active')\n",
        "Calculating energy for column ('power', 'active')\n",
        "Calculating energy for column ('power', 'active')\n",
        "Calculating energy for column"
       ]
      },
      {
       "output_type": "stream",
       "stream": "stdout",
       "text": [
        " ('power', 'active')\n",
        "Calculating energy for column"
       ]
      },
      {
       "output_type": "stream",
       "stream": "stdout",
       "text": [
        " ('power', 'active')\n",
        "Calculating energy for column ('power', 'active')\n",
        "Calculating energy for column ('power', 'active')\n",
        "Calculating energy for column ('power', 'active')\n",
        "Calculating energy for column"
       ]
      },
      {
       "output_type": "stream",
       "stream": "stdout",
       "text": [
        " ('power', 'active')\n",
        "Calculating energy for column ('power', 'active')\n",
        "Calculating energy for column ('power', 'active')\n",
        "Calculating energy for column"
       ]
      },
      {
       "output_type": "stream",
       "stream": "stdout",
       "text": [
        " ('power', 'active')\n",
        "Calculating energy for column"
       ]
      },
      {
       "output_type": "stream",
       "stream": "stdout",
       "text": [
        " ('power', 'active')\n",
        "Calculating energy for column"
       ]
      },
      {
       "output_type": "stream",
       "stream": "stdout",
       "text": [
        " ('power', 'active')\n",
        "Calculating energy for column"
       ]
      },
      {
       "output_type": "stream",
       "stream": "stdout",
       "text": [
        " ('power', 'active')\n",
        "Calculating energy for column ('power', 'active')\n",
        "Calculating energy for column"
       ]
      },
      {
       "output_type": "stream",
       "stream": "stdout",
       "text": [
        " ('power', 'active')\n",
        "Calculating energy for column ('power', 'active')\n",
        "Calculating energy for column"
       ]
      },
      {
       "output_type": "stream",
       "stream": "stdout",
       "text": [
        " ('power', 'active')\n",
        "Calculating energy for column ('power', 'active')\n",
        "Calculating energy for column"
       ]
      },
      {
       "output_type": "stream",
       "stream": "stdout",
       "text": [
        " ('power', 'active')\n",
        "Calculating energy for column"
       ]
      },
      {
       "output_type": "stream",
       "stream": "stdout",
       "text": [
        " ('power', 'active')\n",
        "Calculating energy for column ('power', 'active')\n",
        "Calculating energy for column"
       ]
      },
      {
       "output_type": "stream",
       "stream": "stdout",
       "text": [
        " ('power', 'active')\n",
        "Calculating energy for column ('power', 'active')\n",
        "Calculating energy for column ('power', 'active')\n",
        "Calculating energy for column"
       ]
      },
      {
       "output_type": "stream",
       "stream": "stdout",
       "text": [
        " ('power', 'active')\n",
        "Calculating energy for column ('power', 'active')\n",
        "Calculating energy for column ('power', 'active')\n",
        "Calculating energy for column"
       ]
      },
      {
       "output_type": "stream",
       "stream": "stdout",
       "text": [
        " ('power', 'active')\n",
        "Calculating energy for column ('power', 'active')\n",
        "Calculating energy for column ('power', 'active')\n",
        "Calculating energy for column"
       ]
      },
      {
       "output_type": "stream",
       "stream": "stdout",
       "text": [
        " ('power', 'active')\n",
        "Calculating energy for column ('power', 'active')\n",
        "Calculating energy for column"
       ]
      },
      {
       "output_type": "stream",
       "stream": "stdout",
       "text": [
        " ('power', 'active')\n",
        "Calculating energy for column ('power', 'active')\n",
        "Calculating energy for column"
       ]
      },
      {
       "output_type": "stream",
       "stream": "stdout",
       "text": [
        " ('power', 'active')\n",
        "Calculating energy for column ('power', 'active')\n",
        "Calculating energy for column"
       ]
      },
      {
       "output_type": "stream",
       "stream": "stdout",
       "text": [
        " ('power', 'active')\n",
        "Calculating energy for column ('power', 'active')\n",
        "Calculating energy for column"
       ]
      },
      {
       "output_type": "stream",
       "stream": "stdout",
       "text": [
        " ('power', 'active')\n",
        "Calculating energy for column"
       ]
      },
      {
       "output_type": "stream",
       "stream": "stdout",
       "text": [
        " ('power', 'active')\n",
        "Calculating energy for column ('power', 'active')\n",
        "Calculating energy for column ('power', 'active')\n",
        "Calculating energy for column"
       ]
      },
      {
       "output_type": "stream",
       "stream": "stdout",
       "text": [
        " ('power', 'active')\n",
        "Calculating energy for column ('power', 'active')\n",
        "Calculating energy for column ('power', 'active')\n",
        "Calculating energy for column ('power', 'active')\n",
        "Calculating energy for column"
       ]
      },
      {
       "output_type": "stream",
       "stream": "stdout",
       "text": [
        " ('power', 'active')\n",
        "Calculating energy for column ('power', 'active')\n",
        "Calculating energy for column"
       ]
      },
      {
       "output_type": "stream",
       "stream": "stdout",
       "text": [
        " ('power', 'active')\n",
        "Calculating energy for column ('power', 'active')\n",
        "Calculating energy for column"
       ]
      },
      {
       "output_type": "stream",
       "stream": "stdout",
       "text": [
        " ('power', 'active')\n",
        "Calculating energy for column ('power', 'active')\n",
        "Calculating energy for column ('power', 'active')\n",
        "Calculating energy for column"
       ]
      },
      {
       "output_type": "stream",
       "stream": "stdout",
       "text": [
        " ('power', 'active')\n",
        "Calculating energy for column ('power', 'active')\n",
        "Calculating energy for column"
       ]
      },
      {
       "output_type": "stream",
       "stream": "stdout",
       "text": [
        " ('power', 'active')\n",
        "Calculating energy for column ('power', 'active')\n",
        "Calculating energy for column"
       ]
      },
      {
       "output_type": "stream",
       "stream": "stdout",
       "text": [
        " ('power', 'active')\n",
        "Calculating energy for column ('power', 'active')\n",
        "Calculating energy for column"
       ]
      },
      {
       "output_type": "stream",
       "stream": "stdout",
       "text": [
        " ('power', 'active')\n",
        "Calculating energy for column"
       ]
      },
      {
       "output_type": "stream",
       "stream": "stdout",
       "text": [
        " ('power', 'active')\n",
        "Calculating energy for column ('power', 'active')\n",
        "Calculating energy for column"
       ]
      },
      {
       "output_type": "stream",
       "stream": "stdout",
       "text": [
        " ('power', 'active')\n",
        "Calculating energy for column ('power', 'active')\n",
        "Calculating energy for column ('power', 'active')\n",
        "Calculating energy for column ('power', 'active')\n",
        "Calculating energy for column"
       ]
      },
      {
       "output_type": "stream",
       "stream": "stdout",
       "text": [
        " ('power', 'active')\n",
        "Calculating energy for column"
       ]
      },
      {
       "output_type": "stream",
       "stream": "stdout",
       "text": [
        " ('power', 'active')\n",
        "Calculating energy for column"
       ]
      },
      {
       "output_type": "stream",
       "stream": "stdout",
       "text": [
        " ('power', 'active')\n",
        "Calculating energy for column ('power', 'active')\n",
        "Calculating energy for column"
       ]
      },
      {
       "output_type": "stream",
       "stream": "stdout",
       "text": [
        " ('power', 'active')\n",
        "Calculating energy for column"
       ]
      },
      {
       "output_type": "stream",
       "stream": "stdout",
       "text": [
        " ('power', 'active')\n",
        "Calculating energy for column ('power', 'active')\n",
        "Calculating energy for column ('power', 'active')\n",
        "Calculating energy for column"
       ]
      },
      {
       "output_type": "stream",
       "stream": "stdout",
       "text": [
        " ('power', 'active')\n",
        "Calculating energy for column ('power', 'active')\n",
        "Calculating energy for column ('power', 'active')\n",
        "Calculating energy for column"
       ]
      },
      {
       "output_type": "stream",
       "stream": "stdout",
       "text": [
        " ('power', 'active')\n",
        "Calculating energy for column ('power', 'active')\n",
        "Calculating energy for column ('power', 'active')\n",
        "Calculating energy for column"
       ]
      },
      {
       "output_type": "stream",
       "stream": "stdout",
       "text": [
        " ('power', 'active')\n",
        "Calculating energy for column"
       ]
      },
      {
       "output_type": "stream",
       "stream": "stdout",
       "text": [
        " ('power', 'active')\n",
        "Calculating energy for column"
       ]
      },
      {
       "output_type": "stream",
       "stream": "stdout",
       "text": [
        " ('power', 'active')\n",
        "Calculating energy for column ('power', 'active')\n",
        "Calculating energy for column"
       ]
      },
      {
       "output_type": "stream",
       "stream": "stdout",
       "text": [
        " ('power', 'active')\n",
        "Calculating energy for column"
       ]
      },
      {
       "output_type": "stream",
       "stream": "stdout",
       "text": [
        " ('power', 'active')\n",
        "Calculating energy for column"
       ]
      },
      {
       "output_type": "stream",
       "stream": "stdout",
       "text": [
        " ('power', 'active')\n",
        "Calculating energy for column"
       ]
      },
      {
       "output_type": "stream",
       "stream": "stdout",
       "text": [
        " ('power', 'active')\n",
        "Calculating energy for column ('power', 'active')\n",
        "Calculating energy for column"
       ]
      },
      {
       "output_type": "stream",
       "stream": "stdout",
       "text": [
        " ('power', 'active')\n",
        "Calculating energy for column ('power', 'active')\n",
        "Calculating energy for column ('power', 'active')\n",
        "Calculating energy for column"
       ]
      },
      {
       "output_type": "stream",
       "stream": "stdout",
       "text": [
        " ('power', 'active')\n",
        "Calculating energy for column ('power', 'active')\n",
        "Calculating energy for column"
       ]
      },
      {
       "output_type": "stream",
       "stream": "stdout",
       "text": [
        " ('power', 'active')\n",
        "Calculating energy for column ('power', 'active')\n",
        "Calculating energy for column ('power', 'active')\n",
        "Calculating energy for column"
       ]
      },
      {
       "output_type": "stream",
       "stream": "stdout",
       "text": [
        " ('power', 'active')\n",
        "Calculating energy for column ('power', 'active')\n",
        "Calculating energy for column ('power', 'active')\n",
        "Calculating energy for column ('power', 'active')\n",
        "Calculating energy for column"
       ]
      },
      {
       "output_type": "stream",
       "stream": "stdout",
       "text": [
        " ('power', 'active')\n",
        "Calculating energy for column ('power', 'active')\n",
        "Calculating energy for column"
       ]
      },
      {
       "output_type": "stream",
       "stream": "stdout",
       "text": [
        " ('power', 'active')\n",
        "Calculating energy for column ('power', 'active')\n",
        "Calculating energy for column ('power', 'active')\n",
        "Calculating energy for column ('power', 'active')\n",
        "Calculating energy for column"
       ]
      },
      {
       "output_type": "stream",
       "stream": "stdout",
       "text": [
        " ('power', 'active')\n",
        "Calculating energy for column ('power', 'active')\n",
        "Calculating energy for column"
       ]
      },
      {
       "output_type": "stream",
       "stream": "stdout",
       "text": [
        " ('power', 'active')\n",
        "Calculating energy for column ('power', 'active')\n",
        "Calculating energy for column ('power', 'active')\n",
        "Calculating energy for column"
       ]
      },
      {
       "output_type": "stream",
       "stream": "stdout",
       "text": [
        " ('power', 'active')\n",
        "Calculating energy for column ('power', 'active')\n",
        "Calculating energy for column ('power', 'active')\n",
        "Calculating energy for column"
       ]
      },
      {
       "output_type": "stream",
       "stream": "stdout",
       "text": [
        " ('power', 'active')\n",
        "Calculating energy for column ('power', 'active')\n",
        "Calculating energy for column"
       ]
      },
      {
       "output_type": "stream",
       "stream": "stdout",
       "text": [
        " ('power', 'active')\n",
        "Calculating energy for column ('power', 'active')\n",
        "Calculating energy for column ('power', 'active')\n",
        "Calculating energy for column"
       ]
      },
      {
       "output_type": "stream",
       "stream": "stdout",
       "text": [
        " ('power', 'active')\n",
        "Calculating energy for column ('power', 'active')\n",
        "Calculating energy for column ('power', 'active')\n",
        "Calculating energy for column"
       ]
      },
      {
       "output_type": "stream",
       "stream": "stdout",
       "text": [
        " ('power', 'active')\n",
        "Calculating energy for column ('power', 'active')\n",
        "Calculating energy for column"
       ]
      },
      {
       "output_type": "stream",
       "stream": "stdout",
       "text": [
        " ('power', 'active')\n",
        "Calculating energy for column ('power', 'active')\n",
        "Calculating energy for column"
       ]
      },
      {
       "output_type": "stream",
       "stream": "stdout",
       "text": [
        " ('power', 'active')\n",
        "Calculating energy for column ('power', 'active')\n",
        "Calculating energy for column"
       ]
      },
      {
       "output_type": "stream",
       "stream": "stdout",
       "text": [
        " ('power', 'active')\n",
        "Calculating energy for column ('power', 'active')\n",
        "Calculating energy for column ('power', 'active')\n",
        "Calculating energy for column"
       ]
      },
      {
       "output_type": "stream",
       "stream": "stdout",
       "text": [
        " ('power', 'active')\n",
        "Calculating energy for column ('power', 'active')\n",
        "Calculating energy for column ('power', 'active')\n",
        "Calculating energy for column"
       ]
      },
      {
       "output_type": "stream",
       "stream": "stdout",
       "text": [
        " ('power', 'active')\n",
        "Calculating energy for column"
       ]
      },
      {
       "output_type": "stream",
       "stream": "stdout",
       "text": [
        " ('power', 'active')\n",
        "Calculating energy for column"
       ]
      },
      {
       "output_type": "stream",
       "stream": "stdout",
       "text": [
        " ('power', 'active')\n",
        "Calculating energy for column ('power', 'active')\n",
        "Calculating energy for column"
       ]
      },
      {
       "output_type": "stream",
       "stream": "stdout",
       "text": [
        " ('power', 'active')\n",
        "Calculating energy for column ('power', 'active')\n",
        "Calculating energy for column"
       ]
      },
      {
       "output_type": "stream",
       "stream": "stdout",
       "text": [
        " ('power', 'active')\n",
        "Calculating energy for column"
       ]
      },
      {
       "output_type": "stream",
       "stream": "stdout",
       "text": [
        " ('power', 'active')\n",
        "Calculating energy for column"
       ]
      },
      {
       "output_type": "stream",
       "stream": "stdout",
       "text": [
        " ('power', 'active')\n",
        "Calculating energy for column ('power', 'active')\n",
        "Calculating energy for column ('power', 'active')\n",
        "Calculating energy for column ('power', 'active')\n",
        "Calculating energy for column"
       ]
      },
      {
       "output_type": "stream",
       "stream": "stdout",
       "text": [
        " ('power', 'active')\n",
        "Calculating energy for column ('power', 'active')\n",
        "Calculating energy for column ('power', 'active')\n",
        "Calculating energy for column"
       ]
      },
      {
       "output_type": "stream",
       "stream": "stdout",
       "text": [
        " ('power', 'active')\n",
        "Calculating energy for column"
       ]
      },
      {
       "output_type": "stream",
       "stream": "stdout",
       "text": [
        " ('power', 'active')\n",
        "Calculating energy for column ('power', 'active')\n",
        "Calculating energy for column ('power', 'active')\n",
        "Calculating energy for column"
       ]
      },
      {
       "output_type": "stream",
       "stream": "stdout",
       "text": [
        " ('power', 'active')\n",
        "Calculating energy for column ('power', 'active')\n",
        "Calculating energy for column ('power', 'active')\n",
        "Calculating energy for column ('power', 'active')\n",
        "Calculating energy for column"
       ]
      },
      {
       "output_type": "stream",
       "stream": "stdout",
       "text": [
        " ('power', 'active')\n",
        "Calculating energy for column ('power', 'active')\n",
        "Calculating energy for column ('power', 'active')\n",
        "Calculating energy for column ('power', 'active')\n",
        "Calculating energy for column"
       ]
      },
      {
       "output_type": "stream",
       "stream": "stdout",
       "text": [
        " ('power', 'active')\n",
        "Calculating energy for column ('power', 'active')\n",
        "Calculating energy for column"
       ]
      },
      {
       "output_type": "stream",
       "stream": "stdout",
       "text": [
        " ('power', 'active')\n",
        "Calculating energy for column"
       ]
      },
      {
       "output_type": "stream",
       "stream": "stdout",
       "text": [
        " ('power', 'active')\n",
        "Calculating energy for column ('power', 'active')\n",
        "Calculating energy for column ('power', 'active')\n",
        "Calculating energy for column"
       ]
      },
      {
       "output_type": "stream",
       "stream": "stdout",
       "text": [
        " ('power', 'active')\n",
        "Calculating energy for column"
       ]
      },
      {
       "output_type": "stream",
       "stream": "stdout",
       "text": [
        " ('power', 'active')\n",
        "Calculating energy for column ('power', 'active')\n",
        "Calculating energy for column"
       ]
      },
      {
       "output_type": "stream",
       "stream": "stdout",
       "text": [
        " ('power', 'active')\n",
        "Calculating energy for column ('power', 'active')\n",
        "Calculating energy for column"
       ]
      },
      {
       "output_type": "stream",
       "stream": "stdout",
       "text": [
        " ('power', 'active')\n",
        "Calculating energy for column"
       ]
      },
      {
       "output_type": "stream",
       "stream": "stdout",
       "text": [
        " ('power', 'apparent')\n",
        "Calculating energy for column"
       ]
      },
      {
       "output_type": "stream",
       "stream": "stdout",
       "text": [
        " ('power', 'apparent')\n",
        "Calculating energy for column ('power', 'apparent')\n",
        "Calculating energy for column ('power', 'apparent')\n",
        "Calculating energy for column ('power', 'apparent')\n",
        "Calculating energy for column"
       ]
      },
      {
       "output_type": "stream",
       "stream": "stdout",
       "text": [
        " ('power', 'apparent')\n",
        "Calculating energy for column ('power', 'apparent')\n",
        "Calculating energy for column ('power', 'apparent')\n",
        "Calculating energy for column"
       ]
      },
      {
       "output_type": "stream",
       "stream": "stdout",
       "text": [
        " ('power', 'apparent')\n",
        "Calculating energy for column ('power', 'apparent')\n",
        "Calculating energy for column"
       ]
      },
      {
       "output_type": "stream",
       "stream": "stdout",
       "text": [
        " ('power', 'apparent')\n",
        "Calculating energy for column ('power', 'apparent')\n",
        "Calculating energy for column ('power', 'apparent')\n",
        "Calculating energy for column"
       ]
      },
      {
       "output_type": "stream",
       "stream": "stdout",
       "text": [
        " ('power', 'apparent')\n",
        "Calculating energy for column ('power', 'apparent')\n",
        "Calculating energy for column"
       ]
      },
      {
       "output_type": "stream",
       "stream": "stdout",
       "text": [
        " ('power', 'apparent')\n",
        "Calculating energy for column ('power', 'apparent')\n",
        "Calculating energy for column ('power', 'apparent')\n",
        "Calculating energy for column ('power', 'apparent')\n",
        "Calculating energy for column"
       ]
      },
      {
       "output_type": "stream",
       "stream": "stdout",
       "text": [
        " ('power', 'apparent')\n",
        "Calculating energy for column ('power', 'apparent')\n",
        "Calculating energy for column"
       ]
      },
      {
       "output_type": "stream",
       "stream": "stdout",
       "text": [
        " ('power', 'apparent')\n",
        "Calculating energy for column"
       ]
      },
      {
       "output_type": "stream",
       "stream": "stdout",
       "text": [
        " ('power', 'apparent')\n",
        "Calculating energy for column"
       ]
      },
      {
       "output_type": "stream",
       "stream": "stdout",
       "text": [
        " ('power', 'apparent')\n",
        "Calculating energy for column"
       ]
      },
      {
       "output_type": "stream",
       "stream": "stdout",
       "text": [
        " ('power', 'apparent')\n",
        "Calculating energy for column"
       ]
      },
      {
       "output_type": "stream",
       "stream": "stdout",
       "text": [
        " ('power', 'apparent')\n",
        "Calculating energy for column"
       ]
      },
      {
       "output_type": "stream",
       "stream": "stdout",
       "text": [
        " ('power', 'apparent')\n",
        "Calculating energy for column ('power', 'apparent')\n",
        "Calculating energy for column"
       ]
      },
      {
       "output_type": "stream",
       "stream": "stdout",
       "text": [
        " ('power', 'apparent')\n",
        "Calculating energy for column"
       ]
      },
      {
       "output_type": "stream",
       "stream": "stdout",
       "text": [
        " ('power', 'apparent')\n",
        "Calculating energy for column ('power', 'apparent')\n",
        "Calculating energy for column"
       ]
      },
      {
       "output_type": "stream",
       "stream": "stdout",
       "text": [
        " ('power', 'active')\n",
        "Calculating energy for column ('power', 'active')\n",
        "Calculating energy for column ('power', 'active')\n",
        "Calculating energy for column ('power', 'active')\n",
        "Calculating energy for column"
       ]
      },
      {
       "output_type": "stream",
       "stream": "stdout",
       "text": [
        " ('power', 'active')\n",
        "Calculating energy for column ('power', 'active')\n",
        "Calculating energy for column ('power', 'active')\n",
        "Calculating energy for column"
       ]
      },
      {
       "output_type": "stream",
       "stream": "stdout",
       "text": [
        " ('power', 'active')\n",
        "Calculating energy for column ('power', 'active')\n",
        "Calculating energy for column"
       ]
      },
      {
       "output_type": "stream",
       "stream": "stdout",
       "text": [
        " ('power', 'active')\n",
        "Calculating energy for column ('power', 'active')\n",
        "Calculating energy for column ('power', 'active')\n",
        "Calculating energy for column"
       ]
      },
      {
       "output_type": "stream",
       "stream": "stdout",
       "text": [
        " ('power', 'active')\n",
        "Calculating energy for column ('power', 'active')\n",
        "Calculating energy for column"
       ]
      },
      {
       "output_type": "stream",
       "stream": "stdout",
       "text": [
        " ('power', 'active')\n",
        "Calculating energy for column"
       ]
      },
      {
       "output_type": "stream",
       "stream": "stdout",
       "text": [
        " ('power', 'active')\n",
        "Calculating energy for column ('power', 'active')\n",
        "Calculating energy for column ('power', 'active')\n",
        "Calculating energy for column ('power', 'active')\n",
        "Calculating energy for column ('power', 'active')\n",
        "Calculating energy for column"
       ]
      },
      {
       "output_type": "stream",
       "stream": "stdout",
       "text": [
        " ('power', 'active')\n",
        "Calculating energy for column ('power', 'active')\n",
        "Calculating energy for column ('power', 'active')\n",
        "Calculating energy for column ('power', 'active')\n",
        "Calculating energy for column"
       ]
      },
      {
       "output_type": "stream",
       "stream": "stdout",
       "text": [
        " ('power', 'active')\n",
        "Calculating energy for column ('power', 'active')\n",
        "Calculating energy for column"
       ]
      },
      {
       "output_type": "stream",
       "stream": "stdout",
       "text": [
        " ('power', 'active')\n",
        "Calculating energy for column"
       ]
      },
      {
       "output_type": "stream",
       "stream": "stdout",
       "text": [
        " ('power', 'active')\n",
        "Calculating energy for column"
       ]
      },
      {
       "output_type": "stream",
       "stream": "stdout",
       "text": [
        " ('power', 'active')\n",
        "Calculating energy for column ('power', 'active')\n",
        "Calculating energy for column"
       ]
      },
      {
       "output_type": "stream",
       "stream": "stdout",
       "text": [
        " ('power', 'active')\n",
        "Calculating energy for column ('power', 'active')\n",
        "Calculating energy for column ('power', 'active')\n",
        "Calculating energy for column ('power', 'active')\n",
        "Calculating energy for column"
       ]
      },
      {
       "output_type": "stream",
       "stream": "stdout",
       "text": [
        " ('power', 'active')\n",
        "Calculating energy for column ('power', 'active')\n",
        "Calculating energy for column"
       ]
      },
      {
       "output_type": "stream",
       "stream": "stdout",
       "text": [
        " ('power', 'active')\n",
        "Calculating energy for column ('power', 'active')\n",
        "Calculating energy for column"
       ]
      },
      {
       "output_type": "stream",
       "stream": "stdout",
       "text": [
        " ('power', 'active')\n",
        "Calculating energy for column ('power', 'active')\n",
        "Calculating energy for column ('power', 'active')\n",
        "Calculating energy for column"
       ]
      },
      {
       "output_type": "stream",
       "stream": "stdout",
       "text": [
        " ('power', 'active')\n",
        "Calculating energy for column ('power', 'active')\n",
        "Calculating energy for column ('power', 'active')\n",
        "Calculating energy for column"
       ]
      },
      {
       "output_type": "stream",
       "stream": "stdout",
       "text": [
        " ('power', 'active')\n",
        "Calculating energy for column"
       ]
      },
      {
       "output_type": "stream",
       "stream": "stdout",
       "text": [
        " ('power', 'active')\n",
        "Calculating energy for column"
       ]
      },
      {
       "output_type": "stream",
       "stream": "stdout",
       "text": [
        " ('power', 'active')\n",
        "Calculating energy for column ('power', 'active')\n",
        "Calculating energy for column ('power', 'active')\n",
        "Calculating energy for column"
       ]
      },
      {
       "output_type": "stream",
       "stream": "stdout",
       "text": [
        " ('power', 'active')\n",
        "Calculating energy for column ('power', 'active')\n",
        "Calculating energy for column"
       ]
      },
      {
       "output_type": "stream",
       "stream": "stdout",
       "text": [
        " ('power', 'active')\n",
        "Calculating energy for column ('power', 'active')\n",
        "Calculating energy for column ('power', 'active')\n",
        "Calculating energy for column ('power', 'active')\n",
        "Calculating energy for column ('power', 'active')\n",
        "Calculating energy for column"
       ]
      },
      {
       "output_type": "stream",
       "stream": "stdout",
       "text": [
        " ('power', 'active')\n",
        "Calculating energy for column ('power', 'active')\n",
        "Calculating energy for column ('power', 'active')\n",
        "Calculating energy for column ('power', 'active')\n",
        "Calculating energy for column"
       ]
      },
      {
       "output_type": "stream",
       "stream": "stdout",
       "text": [
        " ('power', 'active')\n",
        "Calculating energy for column ('power', 'active')\n",
        "Calculating energy for column ('power', 'active')\n",
        "Calculating energy for column"
       ]
      },
      {
       "output_type": "stream",
       "stream": "stdout",
       "text": [
        " ('power', 'active')\n",
        "Calculating energy for column ('power', 'active')\n",
        "Calculating energy for column ('power', 'active')\n",
        "Calculating energy for column"
       ]
      },
      {
       "output_type": "stream",
       "stream": "stdout",
       "text": [
        " ('power', 'active')\n",
        "Calculating energy for column ('power', 'active')\n",
        "Calculating energy for column"
       ]
      },
      {
       "output_type": "stream",
       "stream": "stdout",
       "text": [
        " ('power', 'active')\n",
        "Calculating energy for column"
       ]
      },
      {
       "output_type": "stream",
       "stream": "stdout",
       "text": [
        " ('power', 'active')\n",
        "Calculating energy for column"
       ]
      },
      {
       "output_type": "stream",
       "stream": "stdout",
       "text": [
        " ('power', 'active')\n",
        "Calculating energy for column"
       ]
      },
      {
       "output_type": "stream",
       "stream": "stdout",
       "text": [
        " ('power', 'active')\n",
        "Calculating energy for column"
       ]
      },
      {
       "output_type": "stream",
       "stream": "stdout",
       "text": [
        " ('power', 'active')\n",
        "Calculating energy for column ('power', 'active')\n",
        "Calculating energy for column ('power', 'active')\n",
        "Calculating energy for column"
       ]
      },
      {
       "output_type": "stream",
       "stream": "stdout",
       "text": [
        " ('power', 'active')\n",
        "Calculating energy for column"
       ]
      },
      {
       "output_type": "stream",
       "stream": "stdout",
       "text": [
        " ('power', 'active')\n",
        "Calculating energy for column"
       ]
      },
      {
       "output_type": "stream",
       "stream": "stdout",
       "text": [
        " ('power', 'active')\n",
        "Calculating energy for column"
       ]
      },
      {
       "output_type": "stream",
       "stream": "stdout",
       "text": [
        " ('power', 'active')\n",
        "Calculating energy for column ('power', 'active')\n",
        "Calculating energy for column ('power', 'active')\n",
        "Calculating energy for column"
       ]
      },
      {
       "output_type": "stream",
       "stream": "stdout",
       "text": [
        " ('power', 'active')\n",
        "Calculating energy for column"
       ]
      },
      {
       "output_type": "stream",
       "stream": "stdout",
       "text": [
        " ('power', 'active')\n",
        "Calculating energy for column ('power', 'active')\n",
        "Calculating energy for column ('power', 'active')\n",
        "Calculating energy for column"
       ]
      },
      {
       "output_type": "stream",
       "stream": "stdout",
       "text": [
        " ('power', 'active')\n",
        "Calculating energy for column"
       ]
      },
      {
       "output_type": "stream",
       "stream": "stdout",
       "text": [
        " ('power', 'active')\n",
        "Calculating energy for column ('power', 'active')\n",
        "Calculating energy for column ('power', 'active')\n",
        "Calculating energy for column"
       ]
      },
      {
       "output_type": "stream",
       "stream": "stdout",
       "text": [
        " ('power', 'active')\n",
        "Calculating energy for column ('power', 'active')\n",
        "Calculating energy for column"
       ]
      },
      {
       "output_type": "stream",
       "stream": "stdout",
       "text": [
        " ('power', 'active')\n",
        "Calculating energy for column ('power', 'active')\n",
        "Calculating energy for column"
       ]
      },
      {
       "output_type": "stream",
       "stream": "stdout",
       "text": [
        " ('power', 'active')\n",
        "Calculating energy for column ('power', 'active')\n",
        "Calculating energy for column ('power', 'active')\n",
        "Calculating energy for column"
       ]
      },
      {
       "output_type": "stream",
       "stream": "stdout",
       "text": [
        " ('power', 'active')\n",
        "Calculating energy for column"
       ]
      },
      {
       "output_type": "stream",
       "stream": "stdout",
       "text": [
        " ('power', 'active')\n",
        "Calculating energy for column ('power', 'active')\n",
        "Calculating energy for column"
       ]
      },
      {
       "output_type": "stream",
       "stream": "stdout",
       "text": [
        " ('power', 'active')\n",
        "Calculating energy for column ('power', 'active')\n",
        "Calculating energy for column"
       ]
      },
      {
       "output_type": "stream",
       "stream": "stdout",
       "text": [
        " ('power', 'active')\n",
        "Calculating energy for column ('power', 'active')\n",
        "Calculating energy for column"
       ]
      },
      {
       "output_type": "stream",
       "stream": "stdout",
       "text": [
        " ('power', 'active')\n",
        "Calculating energy for column"
       ]
      },
      {
       "output_type": "stream",
       "stream": "stdout",
       "text": [
        " ('power', 'active')\n",
        "Calculating energy for column ('power', 'active')\n",
        "Calculating energy for column"
       ]
      },
      {
       "output_type": "stream",
       "stream": "stdout",
       "text": [
        " ('power', 'active')\n",
        "Calculating energy for column ('power', 'active')\n",
        "Calculating energy for column"
       ]
      },
      {
       "output_type": "stream",
       "stream": "stdout",
       "text": [
        " ('power', 'active')\n",
        "Calculating energy for column ('power', 'active')\n",
        "Calculating energy for column"
       ]
      },
      {
       "output_type": "stream",
       "stream": "stdout",
       "text": [
        " ('power', 'active')\n",
        "Calculating energy for column"
       ]
      },
      {
       "output_type": "stream",
       "stream": "stdout",
       "text": [
        " ('power', 'active')\n",
        "Calculating energy for column"
       ]
      },
      {
       "output_type": "stream",
       "stream": "stdout",
       "text": [
        " ('power', 'active')\n",
        "Calculating energy for column ('power', 'active')\n",
        "Calculating energy for column"
       ]
      },
      {
       "output_type": "stream",
       "stream": "stdout",
       "text": [
        " ('power', 'active')\n",
        "Calculating energy for column ('power', 'active')\n",
        "Calculating energy for column"
       ]
      },
      {
       "output_type": "stream",
       "stream": "stdout",
       "text": [
        " ('power', 'active')\n",
        "Calculating energy for column ('power', 'active')\n",
        "Calculating energy for column"
       ]
      },
      {
       "output_type": "stream",
       "stream": "stdout",
       "text": [
        " ('power', 'active')\n",
        "Calculating energy for column ('power', 'active')\n",
        "Calculating energy for column"
       ]
      },
      {
       "output_type": "stream",
       "stream": "stdout",
       "text": [
        " ('power', 'active')\n",
        "Calculating energy for column ('power', 'active')\n",
        "Calculating energy for column ('power', 'active')\n",
        "Calculating energy for column"
       ]
      },
      {
       "output_type": "stream",
       "stream": "stdout",
       "text": [
        " ('power', 'active')\n",
        "Calculating energy for column ('power', 'active')\n",
        "Calculating energy for column ('power', 'active')\n",
        "Calculating energy for column ('power', 'active')\n",
        "Calculating energy for column"
       ]
      },
      {
       "output_type": "stream",
       "stream": "stdout",
       "text": [
        " ('power', 'active')\n",
        "Calculating energy for column ('power', 'active')\n",
        "Calculating energy for column ('power', 'active')\n",
        "Calculating energy for column ('power', 'active')\n",
        "Calculating energy for column"
       ]
      },
      {
       "output_type": "stream",
       "stream": "stdout",
       "text": [
        " ('power', 'active')\n",
        "Calculating energy for column ('power', 'active')\n",
        "Calculating energy for column ('power', 'active')\n",
        "Calculating energy for column"
       ]
      },
      {
       "output_type": "stream",
       "stream": "stdout",
       "text": [
        " ('power', 'active')\n",
        "Calculating energy for column"
       ]
      },
      {
       "output_type": "stream",
       "stream": "stdout",
       "text": [
        " ('power', 'active')\n",
        "Calculating energy for column"
       ]
      },
      {
       "output_type": "stream",
       "stream": "stdout",
       "text": [
        " ('power', 'active')\n",
        "Calculating energy for column ('power', 'active')\n",
        "Calculating energy for column ('power', 'active')\n",
        "Calculating energy for column"
       ]
      },
      {
       "output_type": "stream",
       "stream": "stdout",
       "text": [
        " ('power', 'active')\n",
        "Calculating energy for column ('power', 'active')\n",
        "Calculating energy for column"
       ]
      },
      {
       "output_type": "stream",
       "stream": "stdout",
       "text": [
        " ('power', 'active')\n",
        "Calculating energy for column"
       ]
      },
      {
       "output_type": "stream",
       "stream": "stdout",
       "text": [
        " ('power', 'active')\n",
        "Calculating energy for column"
       ]
      },
      {
       "output_type": "stream",
       "stream": "stdout",
       "text": [
        " ('power', 'active')\n",
        "Calculating energy for column"
       ]
      },
      {
       "output_type": "stream",
       "stream": "stdout",
       "text": [
        " ('power', 'active')\n",
        "Calculating energy for column ('power', 'active')\n",
        "Calculating energy for column"
       ]
      },
      {
       "output_type": "stream",
       "stream": "stdout",
       "text": [
        " ('power', 'active')\n",
        "Calculating energy for column ('power', 'active')\n",
        "Calculating energy for column ('power', 'active')\n",
        "Calculating energy for column"
       ]
      },
      {
       "output_type": "stream",
       "stream": "stdout",
       "text": [
        " ('power', 'active')\n",
        "Calculating energy for column"
       ]
      },
      {
       "output_type": "stream",
       "stream": "stdout",
       "text": [
        " ('power', 'active')\n",
        "Calculating energy for column"
       ]
      },
      {
       "output_type": "stream",
       "stream": "stdout",
       "text": [
        " ('power', 'active')\n",
        "Calculating energy for column"
       ]
      },
      {
       "output_type": "stream",
       "stream": "stdout",
       "text": [
        " ('power', 'active')\n",
        "Calculating energy for column ('power', 'active')\n",
        "Calculating energy for column"
       ]
      },
      {
       "output_type": "stream",
       "stream": "stdout",
       "text": [
        " ('power', 'active')\n",
        "Calculating energy for column ('power', 'active')\n",
        "Calculating energy for column"
       ]
      },
      {
       "output_type": "stream",
       "stream": "stdout",
       "text": [
        " ('power', 'active')\n",
        "Calculating energy for column ('power', 'active')\n",
        "Calculating energy for column ('power', 'active')\n",
        "Calculating energy for column"
       ]
      },
      {
       "output_type": "stream",
       "stream": "stdout",
       "text": [
        " ('power', 'active')\n",
        "Calculating energy for column ('power', 'active')\n",
        "Calculating energy for column ('power', 'active')\n",
        "Calculating energy for column ('power', 'active')\n",
        "Calculating energy for column"
       ]
      },
      {
       "output_type": "stream",
       "stream": "stdout",
       "text": [
        " ('power', 'active')\n",
        "Calculating energy for column ('power', 'active')\n",
        "Calculating energy for column"
       ]
      },
      {
       "output_type": "stream",
       "stream": "stdout",
       "text": [
        " ('power', 'active')\n",
        "Calculating energy for column ('power', 'active')\n",
        "Calculating energy for column"
       ]
      },
      {
       "output_type": "stream",
       "stream": "stdout",
       "text": [
        " ('power', 'active')\n",
        "Calculating energy for column"
       ]
      },
      {
       "output_type": "stream",
       "stream": "stdout",
       "text": [
        " ('power', 'active')\n",
        "Calculating energy for column"
       ]
      },
      {
       "output_type": "stream",
       "stream": "stdout",
       "text": [
        " ('power', 'active')\n",
        "Calculating energy for column"
       ]
      },
      {
       "output_type": "stream",
       "stream": "stdout",
       "text": [
        " ('power', 'active')\n",
        "Calculating energy for column"
       ]
      },
      {
       "output_type": "stream",
       "stream": "stdout",
       "text": [
        " ('power', 'active')\n",
        "Calculating energy for column ('power', 'active')\n",
        "Calculating energy for column"
       ]
      },
      {
       "output_type": "stream",
       "stream": "stdout",
       "text": [
        " ('power', 'active')\n",
        "Calculating energy for column ('power', 'active')\n",
        "Calculating energy for column ('power', 'active')\n",
        "Calculating energy for column"
       ]
      },
      {
       "output_type": "stream",
       "stream": "stdout",
       "text": [
        " ('power', 'active')\n",
        "Calculating energy for column ('power', 'active')\n",
        "Calculating energy for column ('power', 'active')\n",
        "Calculating energy for column ('power', 'active')\n",
        "Calculating energy for column"
       ]
      },
      {
       "output_type": "stream",
       "stream": "stdout",
       "text": [
        " ('power', 'active')\n",
        "Calculating energy for column ('power', 'active')\n",
        "Calculating energy for column ('power', 'active')\n",
        "Calculating energy for column"
       ]
      },
      {
       "output_type": "stream",
       "stream": "stdout",
       "text": [
        " ('power', 'active')\n",
        "Calculating energy for column"
       ]
      },
      {
       "output_type": "stream",
       "stream": "stdout",
       "text": [
        " ('power', 'active')\n",
        "Calculating energy for column"
       ]
      },
      {
       "output_type": "stream",
       "stream": "stdout",
       "text": [
        " ('power', 'active')\n",
        "Calculating energy for column"
       ]
      },
      {
       "output_type": "stream",
       "stream": "stdout",
       "text": [
        " ('power', 'active')\n",
        "Calculating energy for column"
       ]
      },
      {
       "output_type": "stream",
       "stream": "stdout",
       "text": [
        " ('power', 'active')\n",
        "Calculating energy for column"
       ]
      },
      {
       "output_type": "stream",
       "stream": "stdout",
       "text": [
        " ('power', 'active')\n",
        "Calculating energy for column ('power', 'active')\n",
        "Calculating energy for column ('power', 'active')\n",
        "Calculating energy for column"
       ]
      },
      {
       "output_type": "stream",
       "stream": "stdout",
       "text": [
        " ('power', 'active')\n",
        "Calculating energy for column ('power', 'active')\n",
        "Calculating energy for column ('power', 'active')\n",
        "Calculating energy for column"
       ]
      },
      {
       "output_type": "stream",
       "stream": "stdout",
       "text": [
        " ('power', 'active')\n",
        "Calculating energy for column ('power', 'active')\n",
        "Calculating energy for column"
       ]
      },
      {
       "output_type": "stream",
       "stream": "stdout",
       "text": [
        " ('power', 'active')\n",
        "Calculating energy for column"
       ]
      },
      {
       "output_type": "stream",
       "stream": "stdout",
       "text": [
        " ('power', 'active')\n",
        "Calculating energy for column"
       ]
      },
      {
       "output_type": "stream",
       "stream": "stdout",
       "text": [
        " ('power', 'active')\n",
        "Calculating energy for column ('power', 'active')\n",
        "Calculating energy for column"
       ]
      },
      {
       "output_type": "stream",
       "stream": "stdout",
       "text": [
        " ('power', 'active')\n",
        "Calculating energy for column ('power', 'active')\n",
        "Calculating energy for column"
       ]
      },
      {
       "output_type": "stream",
       "stream": "stdout",
       "text": [
        " ('power', 'active')\n",
        "Calculating energy for column"
       ]
      },
      {
       "output_type": "stream",
       "stream": "stdout",
       "text": [
        " ('power', 'active')\n",
        "Calculating energy for column ('power', 'active')\n",
        "Calculating energy for column"
       ]
      },
      {
       "output_type": "stream",
       "stream": "stdout",
       "text": [
        " ('power', 'active')\n",
        "Calculating energy for column ('power', 'active')\n",
        "Calculating energy for column"
       ]
      },
      {
       "output_type": "stream",
       "stream": "stdout",
       "text": [
        " ('power', 'active')\n",
        "Calculating energy for column"
       ]
      },
      {
       "output_type": "stream",
       "stream": "stdout",
       "text": [
        " ('power', 'active')\n",
        "Calculating energy for column"
       ]
      },
      {
       "output_type": "stream",
       "stream": "stdout",
       "text": [
        " ('power', 'active')\n",
        "Calculating energy for column ('power', 'active')\n",
        "Calculating energy for column"
       ]
      },
      {
       "output_type": "stream",
       "stream": "stdout",
       "text": [
        " ('power', 'active')\n",
        "Calculating energy for column"
       ]
      },
      {
       "output_type": "stream",
       "stream": "stdout",
       "text": [
        " ('power', 'active')\n",
        "Calculating energy for column"
       ]
      },
      {
       "output_type": "stream",
       "stream": "stdout",
       "text": [
        " ('power', 'active')\n",
        "Calculating energy for column"
       ]
      },
      {
       "output_type": "stream",
       "stream": "stdout",
       "text": [
        " ('power', 'active')\n",
        "Calculating energy for column"
       ]
      },
      {
       "output_type": "stream",
       "stream": "stdout",
       "text": [
        " ('power', 'apparent')\n",
        "Calculating energy for column ('power', 'apparent')\n",
        "Calculating energy for column"
       ]
      },
      {
       "output_type": "stream",
       "stream": "stdout",
       "text": [
        " ('power', 'apparent')\n",
        "Calculating energy for column ('power', 'apparent')\n",
        "Calculating energy for column ('power', 'apparent')\n",
        "Calculating energy for column"
       ]
      },
      {
       "output_type": "stream",
       "stream": "stdout",
       "text": [
        " ('power', 'apparent')\n",
        "Calculating energy for column ('power', 'apparent')\n",
        "Calculating energy for column"
       ]
      },
      {
       "output_type": "stream",
       "stream": "stdout",
       "text": [
        " ('power', 'apparent')\n",
        "Calculating energy for column"
       ]
      },
      {
       "output_type": "stream",
       "stream": "stdout",
       "text": [
        " ('power', 'apparent')\n",
        "Calculating energy for column"
       ]
      },
      {
       "output_type": "stream",
       "stream": "stdout",
       "text": [
        " ('power', 'apparent')\n",
        "Calculating energy for column ('power', 'apparent')\n",
        "Calculating energy for column"
       ]
      },
      {
       "output_type": "stream",
       "stream": "stdout",
       "text": [
        " ('power', 'apparent')\n",
        "Calculating energy for column ('power', 'apparent')\n",
        "Calculating energy for column ('power', 'apparent')\n",
        "Calculating energy for column"
       ]
      },
      {
       "output_type": "stream",
       "stream": "stdout",
       "text": [
        " ('power', 'apparent')\n",
        "Calculating energy for column ('power', 'apparent')\n",
        "Calculating energy for column ('power', 'apparent')\n",
        "Calculating energy for column ('power', 'apparent')\n",
        "Calculating energy for column"
       ]
      },
      {
       "output_type": "stream",
       "stream": "stdout",
       "text": [
        " ('power', 'apparent')\n",
        "Calculating energy for column ('power', 'apparent')\n",
        "Calculating energy for column ('power', 'apparent')\n",
        "Calculating energy for column ('power', 'apparent')\n",
        "Calculating energy for column"
       ]
      },
      {
       "output_type": "stream",
       "stream": "stdout",
       "text": [
        " ('power', 'apparent')\n",
        "Calculating energy for column"
       ]
      },
      {
       "output_type": "stream",
       "stream": "stdout",
       "text": [
        " ('power', 'apparent')\n",
        "Calculating energy for column ('power', 'apparent')\n",
        "Calculating energy for column ('power', 'apparent')\n",
        "Calculating energy for column"
       ]
      },
      {
       "output_type": "stream",
       "stream": "stdout",
       "text": [
        " ('power', 'apparent')\n",
        "Calculating energy for column"
       ]
      },
      {
       "output_type": "stream",
       "stream": "stdout",
       "text": [
        " ('power', 'apparent')\n",
        "Calculating energy for column"
       ]
      },
      {
       "output_type": "stream",
       "stream": "stdout",
       "text": [
        " ('power', 'apparent')\n",
        "Calculating energy for column"
       ]
      },
      {
       "output_type": "stream",
       "stream": "stdout",
       "text": [
        " ('power', 'apparent')\n",
        "Calculating energy for column ('power', 'apparent')\n",
        "Calculating energy for column"
       ]
      },
      {
       "output_type": "stream",
       "stream": "stdout",
       "text": [
        " ('power', 'active')\n",
        "Calculating energy for column ('power', 'active')\n",
        "Calculating energy for column ('power', 'active')\n",
        "Calculating energy for column"
       ]
      },
      {
       "output_type": "stream",
       "stream": "stdout",
       "text": [
        " ('power', 'active')\n",
        "Calculating energy for column ('power', 'active')\n",
        "Calculating energy for column ('power', 'active')\n",
        "Calculating energy for column"
       ]
      },
      {
       "output_type": "stream",
       "stream": "stdout",
       "text": [
        " ('power', 'active')\n",
        "Calculating energy for column ('power', 'active')\n",
        "Calculating energy for column"
       ]
      },
      {
       "output_type": "stream",
       "stream": "stdout",
       "text": [
        " ('power', 'active')\n",
        "Calculating energy for column ('power', 'active')\n",
        "Calculating energy for column ('power', 'active')\n",
        "Calculating energy for column"
       ]
      },
      {
       "output_type": "stream",
       "stream": "stdout",
       "text": [
        " ('power', 'active')\n",
        "Calculating energy for column ('power', 'active')\n",
        "Calculating energy for column"
       ]
      },
      {
       "output_type": "stream",
       "stream": "stdout",
       "text": [
        " ('power', 'active')\n",
        "Calculating energy for column ('power', 'active')\n",
        "Calculating energy for column ('power', 'active')\n",
        "Calculating energy for column"
       ]
      },
      {
       "output_type": "stream",
       "stream": "stdout",
       "text": [
        " ('power', 'active')\n",
        "Calculating energy for column ('power', 'active')\n",
        "Calculating energy for column"
       ]
      },
      {
       "output_type": "stream",
       "stream": "stdout",
       "text": [
        " ('power', 'active')\n",
        "Calculating energy for column ('power', 'active')\n",
        "Calculating energy for column ('power', 'active')\n",
        "Calculating energy for column ('power', 'active')\n",
        "Calculating energy for column ('power', 'active')\n",
        "Calculating energy for column"
       ]
      },
      {
       "output_type": "stream",
       "stream": "stdout",
       "text": [
        " ('power', 'active')\n",
        "Calculating energy for column"
       ]
      },
      {
       "output_type": "stream",
       "stream": "stdout",
       "text": [
        " ('power', 'active')\n",
        "Calculating energy for column"
       ]
      },
      {
       "output_type": "stream",
       "stream": "stdout",
       "text": [
        " ('power', 'active')\n",
        "Calculating energy for column"
       ]
      },
      {
       "output_type": "stream",
       "stream": "stdout",
       "text": [
        " ('power', 'active')\n",
        "Calculating energy for column"
       ]
      },
      {
       "output_type": "stream",
       "stream": "stdout",
       "text": [
        " ('power', 'active')\n",
        "Calculating energy for column"
       ]
      },
      {
       "output_type": "stream",
       "stream": "stdout",
       "text": [
        " ('power', 'active')\n",
        "Calculating energy for column"
       ]
      },
      {
       "output_type": "stream",
       "stream": "stdout",
       "text": [
        " ('power', 'active')\n",
        "Calculating energy for column ('power', 'active')\n",
        "Calculating energy for column"
       ]
      },
      {
       "output_type": "stream",
       "stream": "stdout",
       "text": [
        " ('power', 'active')\n",
        "Calculating energy for column ('power', 'active')\n",
        "Calculating energy for column ('power', 'active')\n",
        "Calculating energy for column"
       ]
      },
      {
       "output_type": "stream",
       "stream": "stdout",
       "text": [
        " ('power', 'active')\n",
        "Calculating energy for column ('power', 'active')\n",
        "Calculating energy for column ('power', 'active')\n",
        "Calculating energy for column"
       ]
      },
      {
       "output_type": "stream",
       "stream": "stdout",
       "text": [
        " ('power', 'active')\n",
        "Calculating energy for column ('power', 'active')\n",
        "Calculating energy for column ('power', 'active')\n",
        "Calculating energy for column"
       ]
      },
      {
       "output_type": "stream",
       "stream": "stdout",
       "text": [
        " ('power', 'active')\n",
        "Calculating energy for column"
       ]
      },
      {
       "output_type": "stream",
       "stream": "stdout",
       "text": [
        " ('power', 'active')\n",
        "Calculating energy for column"
       ]
      },
      {
       "output_type": "stream",
       "stream": "stdout",
       "text": [
        " ('power', 'active')\n",
        "Calculating energy for column ('power', 'active')\n",
        "Calculating energy for column ('power', 'active')\n",
        "Calculating energy for column"
       ]
      },
      {
       "output_type": "stream",
       "stream": "stdout",
       "text": [
        " ('power', 'active')\n",
        "Calculating energy for column ('power', 'active')\n",
        "Calculating energy for column"
       ]
      },
      {
       "output_type": "stream",
       "stream": "stdout",
       "text": [
        " ('power', 'active')\n",
        "Calculating energy for column ('power', 'active')\n",
        "Calculating energy for column"
       ]
      },
      {
       "output_type": "stream",
       "stream": "stdout",
       "text": [
        " ('power', 'active')\n",
        "Calculating energy for column ('power', 'active')\n",
        "Calculating energy for column ('power', 'active')\n",
        "Calculating energy for column"
       ]
      },
      {
       "output_type": "stream",
       "stream": "stdout",
       "text": [
        " ('power', 'active')\n",
        "Calculating energy for column ('power', 'active')\n",
        "Calculating energy for column ('power', 'active')\n",
        "Calculating energy for column"
       ]
      },
      {
       "output_type": "stream",
       "stream": "stdout",
       "text": [
        " ('power', 'active')\n",
        "Calculating energy for column ('power', 'active')\n",
        "Calculating energy for column ('power', 'active')\n",
        "Calculating energy for column"
       ]
      },
      {
       "output_type": "stream",
       "stream": "stdout",
       "text": [
        " ('power', 'active')\n",
        "Calculating energy for column ('power', 'active')\n",
        "Calculating energy for column ('power', 'active')\n",
        "Calculating energy for column"
       ]
      },
      {
       "output_type": "stream",
       "stream": "stdout",
       "text": [
        " ('power', 'active')\n",
        "Calculating energy for column"
       ]
      },
      {
       "output_type": "stream",
       "stream": "stdout",
       "text": [
        " ('power', 'active')\n",
        "Calculating energy for column"
       ]
      },
      {
       "output_type": "stream",
       "stream": "stdout",
       "text": [
        " ('power', 'active')\n",
        "Calculating energy for column"
       ]
      },
      {
       "output_type": "stream",
       "stream": "stdout",
       "text": [
        " ('power', 'active')\n",
        "Calculating energy for column ('power', 'active')\n",
        "Calculating energy for column"
       ]
      },
      {
       "output_type": "stream",
       "stream": "stdout",
       "text": [
        " ('power', 'active')\n",
        "Calculating energy for column"
       ]
      },
      {
       "output_type": "stream",
       "stream": "stdout",
       "text": [
        " ('power', 'active')\n",
        "Calculating energy for column"
       ]
      },
      {
       "output_type": "stream",
       "stream": "stdout",
       "text": [
        " ('power', 'active')\n",
        "Calculating energy for column ('power', 'active')\n",
        "Calculating energy for column"
       ]
      },
      {
       "output_type": "stream",
       "stream": "stdout",
       "text": [
        " ('power', 'active')\n",
        "Calculating energy for column ('power', 'active')\n",
        "Calculating energy for column"
       ]
      },
      {
       "output_type": "stream",
       "stream": "stdout",
       "text": [
        " ('power', 'active')\n",
        "Calculating energy for column ('power', 'active')\n",
        "Calculating energy for column ('power', 'active')\n",
        "Calculating energy for column ('power', 'active')\n",
        "Calculating energy for column ('power', 'active')\n",
        "Calculating energy for column"
       ]
      },
      {
       "output_type": "stream",
       "stream": "stdout",
       "text": [
        " ('power', 'active')\n",
        "Calculating energy for column ('power', 'active')\n",
        "Calculating energy for column ('power', 'active')\n",
        "Calculating energy for column"
       ]
      },
      {
       "output_type": "stream",
       "stream": "stdout",
       "text": [
        " ('power', 'active')\n",
        "Calculating energy for column ('power', 'active')\n",
        "Calculating energy for column"
       ]
      },
      {
       "output_type": "stream",
       "stream": "stdout",
       "text": [
        " ('power', 'active')\n",
        "Calculating energy for column"
       ]
      },
      {
       "output_type": "stream",
       "stream": "stdout",
       "text": [
        " ('power', 'active')\n",
        "Calculating energy for column ('power', 'active')\n",
        "Calculating energy for column"
       ]
      },
      {
       "output_type": "stream",
       "stream": "stdout",
       "text": [
        " ('power', 'active')\n",
        "Calculating energy for column"
       ]
      },
      {
       "output_type": "stream",
       "stream": "stdout",
       "text": [
        " ('power', 'active')\n",
        "Calculating energy for column ('power', 'active')\n",
        "Calculating energy for column"
       ]
      },
      {
       "output_type": "stream",
       "stream": "stdout",
       "text": [
        " ('power', 'active')\n",
        "Calculating energy for column"
       ]
      },
      {
       "output_type": "stream",
       "stream": "stdout",
       "text": [
        " ('power', 'active')\n",
        "Calculating energy for column ('power', 'active')\n",
        "Calculating energy for column"
       ]
      },
      {
       "output_type": "stream",
       "stream": "stdout",
       "text": [
        " ('power', 'active')\n",
        "Calculating energy for column ('power', 'active')\n",
        "Calculating energy for column"
       ]
      },
      {
       "output_type": "stream",
       "stream": "stdout",
       "text": [
        " ('power', 'active')\n",
        "Calculating energy for column ('power', 'active')\n",
        "Calculating energy for column"
       ]
      },
      {
       "output_type": "stream",
       "stream": "stdout",
       "text": [
        " ('power', 'active')\n",
        "Calculating energy for column ('power', 'active')\n",
        "Calculating energy for column"
       ]
      },
      {
       "output_type": "stream",
       "stream": "stdout",
       "text": [
        " ('power', 'active')\n",
        "Calculating energy for column ('power', 'active')\n",
        "Calculating energy for column ('power', 'active')\n",
        "Calculating energy for column ('power', 'active')\n",
        "Calculating energy for column"
       ]
      },
      {
       "output_type": "stream",
       "stream": "stdout",
       "text": [
        " ('power', 'active')\n",
        "Calculating energy for column ('power', 'active')\n",
        "Calculating energy for column"
       ]
      },
      {
       "output_type": "stream",
       "stream": "stdout",
       "text": [
        " ('power', 'active')\n",
        "Calculating energy for column"
       ]
      },
      {
       "output_type": "stream",
       "stream": "stdout",
       "text": [
        " ('power', 'active')\n",
        "Calculating energy for column ('power', 'active')\n",
        "Calculating energy for column"
       ]
      },
      {
       "output_type": "stream",
       "stream": "stdout",
       "text": [
        " ('power', 'active')\n",
        "Calculating energy for column ('power', 'active')\n",
        "Calculating energy for column ('power', 'active')\n",
        "Calculating energy for column"
       ]
      },
      {
       "output_type": "stream",
       "stream": "stdout",
       "text": [
        " ('power', 'active')\n",
        "Calculating energy for column ('power', 'active')\n",
        "Calculating energy for column ('power', 'active')\n",
        "Calculating energy for column"
       ]
      },
      {
       "output_type": "stream",
       "stream": "stdout",
       "text": [
        " ('power', 'active')\n",
        "Calculating energy for column ('power', 'active')\n",
        "Calculating energy for column ('power', 'active')\n",
        "Calculating energy for column"
       ]
      },
      {
       "output_type": "stream",
       "stream": "stdout",
       "text": [
        " ('power', 'active')\n",
        "Calculating energy for column ('power', 'active')\n",
        "Calculating energy for column"
       ]
      },
      {
       "output_type": "stream",
       "stream": "stdout",
       "text": [
        " ('power', 'active')\n",
        "Calculating energy for column ('power', 'active')\n",
        "Calculating energy for column ('power', 'active')\n",
        "Calculating energy for column"
       ]
      },
      {
       "output_type": "stream",
       "stream": "stdout",
       "text": [
        " ('power', 'active')\n",
        "Calculating energy for column ('power', 'active')\n",
        "Calculating energy for column"
       ]
      },
      {
       "output_type": "stream",
       "stream": "stdout",
       "text": [
        " ('power', 'active')\n",
        "Calculating energy for column"
       ]
      },
      {
       "output_type": "stream",
       "stream": "stdout",
       "text": [
        " ('power', 'active')\n",
        "Calculating energy for column"
       ]
      },
      {
       "output_type": "stream",
       "stream": "stdout",
       "text": [
        " ('power', 'active')\n",
        "Calculating energy for column ('power', 'active')\n",
        "Calculating energy for column"
       ]
      },
      {
       "output_type": "stream",
       "stream": "stdout",
       "text": [
        " ('power', 'active')\n",
        "Calculating energy for column ('power', 'active')\n",
        "Calculating energy for column ('power', 'active')\n",
        "Calculating energy for column ('power', 'active')\n",
        "Calculating energy for column"
       ]
      },
      {
       "output_type": "stream",
       "stream": "stdout",
       "text": [
        " ('power', 'active')\n",
        "Calculating energy for column ('power', 'active')\n",
        "Calculating energy for column ('power', 'active')\n",
        "Calculating energy for column ('power', 'active')\n",
        "Calculating energy for column"
       ]
      },
      {
       "output_type": "stream",
       "stream": "stdout",
       "text": [
        " ('power', 'active')\n",
        "Calculating energy for column"
       ]
      },
      {
       "output_type": "stream",
       "stream": "stdout",
       "text": [
        " ('power', 'active')\n",
        "Calculating energy for column"
       ]
      },
      {
       "output_type": "stream",
       "stream": "stdout",
       "text": [
        " ('power', 'active')\n",
        "Calculating energy for column"
       ]
      },
      {
       "output_type": "stream",
       "stream": "stdout",
       "text": [
        " ('power', 'active')\n",
        "Calculating energy for column"
       ]
      },
      {
       "output_type": "stream",
       "stream": "stdout",
       "text": [
        " ('power', 'active')\n",
        "Calculating energy for column ('power', 'active')\n",
        "Calculating energy for column"
       ]
      },
      {
       "output_type": "stream",
       "stream": "stdout",
       "text": [
        " ('power', 'active')\n",
        "Calculating energy for column"
       ]
      },
      {
       "output_type": "stream",
       "stream": "stdout",
       "text": [
        " ('power', 'active')\n",
        "Calculating energy for column"
       ]
      },
      {
       "output_type": "stream",
       "stream": "stdout",
       "text": [
        " ('power', 'active')\n",
        "Calculating energy for column"
       ]
      },
      {
       "output_type": "stream",
       "stream": "stdout",
       "text": [
        " ('power', 'active')\n",
        "Calculating energy for column"
       ]
      },
      {
       "output_type": "stream",
       "stream": "stdout",
       "text": [
        " ('power', 'active')\n",
        "Calculating energy for column ('power', 'active')\n",
        "Calculating energy for column ('power', 'active')\n",
        "Calculating energy for column ('power', 'active')\n",
        "Calculating energy for column"
       ]
      },
      {
       "output_type": "stream",
       "stream": "stdout",
       "text": [
        " ('power', 'active')\n",
        "Calculating energy for column"
       ]
      },
      {
       "output_type": "stream",
       "stream": "stdout",
       "text": [
        " ('power', 'active')\n",
        "Calculating energy for column ('power', 'active')\n",
        "Calculating energy for column ('power', 'active')\n",
        "Calculating energy for column"
       ]
      },
      {
       "output_type": "stream",
       "stream": "stdout",
       "text": [
        " ('power', 'active')\n",
        "Calculating energy for column"
       ]
      },
      {
       "output_type": "stream",
       "stream": "stdout",
       "text": [
        " ('power', 'active')\n",
        "Calculating energy for column ('power', 'active')\n",
        "Calculating energy for column"
       ]
      },
      {
       "output_type": "stream",
       "stream": "stdout",
       "text": [
        " ('power', 'active')\n",
        "Calculating energy for column ('power', 'active')\n",
        "Calculating energy for column"
       ]
      },
      {
       "output_type": "stream",
       "stream": "stdout",
       "text": [
        " ('power', 'active')\n",
        "Calculating energy for column ('power', 'active')\n",
        "Calculating energy for column ('power', 'active')\n",
        "Calculating energy for column ('power', 'active')\n",
        "Calculating energy for column"
       ]
      },
      {
       "output_type": "stream",
       "stream": "stdout",
       "text": [
        " ('power', 'active')\n",
        "Calculating energy for column ('power', 'active')\n",
        "Calculating energy for column ('power', 'active')\n",
        "Calculating energy for column ('power', 'active')\n",
        "Calculating energy for column"
       ]
      },
      {
       "output_type": "stream",
       "stream": "stdout",
       "text": [
        " ('power', 'active')\n",
        "Calculating energy for column ('power', 'active')\n",
        "Calculating energy for column ('power', 'active')\n",
        "Calculating energy for column"
       ]
      },
      {
       "output_type": "stream",
       "stream": "stdout",
       "text": [
        " ('power', 'active')\n",
        "Calculating energy for column ('power', 'active')\n",
        "Calculating energy for column ('power', 'active')\n",
        "Calculating energy for column"
       ]
      },
      {
       "output_type": "stream",
       "stream": "stdout",
       "text": [
        " ('power', 'active')\n",
        "Calculating energy for column ('power', 'active')\n",
        "Calculating energy for column ('power', 'active')\n",
        "Calculating energy for column"
       ]
      },
      {
       "output_type": "stream",
       "stream": "stdout",
       "text": [
        " ('power', 'active')\n",
        "Calculating energy for column"
       ]
      },
      {
       "output_type": "stream",
       "stream": "stdout",
       "text": [
        " ('power', 'active')\n",
        "Calculating energy for column"
       ]
      },
      {
       "output_type": "stream",
       "stream": "stdout",
       "text": [
        " ('power', 'active')\n",
        "Calculating energy for column ('power', 'active')\n",
        "Calculating energy for column"
       ]
      },
      {
       "output_type": "stream",
       "stream": "stdout",
       "text": [
        " ('power', 'active')\n",
        "Calculating energy for column ('power', 'active')\n",
        "Calculating energy for column"
       ]
      },
      {
       "output_type": "stream",
       "stream": "stdout",
       "text": [
        " ('power', 'active')\n",
        "Calculating energy for column ('power', 'active')\n",
        "Calculating energy for column ('power', 'active')\n",
        "Calculating energy for column ('power', 'active')\n",
        "Calculating energy for column"
       ]
      },
      {
       "output_type": "stream",
       "stream": "stdout",
       "text": [
        " ('power', 'active')\n",
        "Calculating energy for column ('power', 'active')\n",
        "Calculating energy for column ('power', 'active')\n",
        "Calculating energy for column"
       ]
      },
      {
       "output_type": "stream",
       "stream": "stdout",
       "text": [
        " ('power', 'active')\n",
        "Calculating energy for column ('power', 'active')\n",
        "Calculating energy for column ('power', 'active')\n",
        "Calculating energy for column"
       ]
      },
      {
       "output_type": "stream",
       "stream": "stdout",
       "text": [
        " ('power', 'active')\n",
        "Calculating energy for column"
       ]
      },
      {
       "output_type": "stream",
       "stream": "stdout",
       "text": [
        " ('power', 'active')\n",
        "Calculating energy for column ('power', 'active')\n",
        "Calculating energy for column"
       ]
      },
      {
       "output_type": "stream",
       "stream": "stdout",
       "text": [
        " ('power', 'active')\n",
        "Calculating energy for column ('power', 'active')\n",
        "Calculating energy for column ('power', 'active')\n",
        "Calculating energy for column"
       ]
      },
      {
       "output_type": "stream",
       "stream": "stdout",
       "text": [
        " ('power', 'active')\n",
        "Calculating energy for column ('power', 'active')\n",
        "Calculating energy for column"
       ]
      },
      {
       "output_type": "stream",
       "stream": "stdout",
       "text": [
        " ('power', 'active')\n",
        "Calculating energy for column"
       ]
      },
      {
       "output_type": "stream",
       "stream": "stdout",
       "text": [
        " ('power', 'active')\n",
        "Calculating energy for column ('power', 'active')\n",
        "Calculating energy for column"
       ]
      },
      {
       "output_type": "stream",
       "stream": "stdout",
       "text": [
        " ('power', 'active')\n",
        "Calculating energy for column ('power', 'active')\n",
        "Calculating energy for column ('power', 'active')\n",
        "Calculating energy for column"
       ]
      },
      {
       "output_type": "stream",
       "stream": "stdout",
       "text": [
        " ('power', 'active')\n",
        "Calculating energy for column ('power', 'active')\n",
        "Calculating energy for column"
       ]
      },
      {
       "output_type": "stream",
       "stream": "stdout",
       "text": [
        " ('power', 'active')\n",
        "Calculating energy for column"
       ]
      },
      {
       "output_type": "stream",
       "stream": "stdout",
       "text": [
        " ('power', 'active')\n",
        "Calculating energy for column"
       ]
      },
      {
       "output_type": "stream",
       "stream": "stdout",
       "text": [
        " ('power', 'active')\n",
        "Calculating energy for column"
       ]
      },
      {
       "output_type": "stream",
       "stream": "stdout",
       "text": [
        " ('power', 'active')\n",
        "Calculating energy for column"
       ]
      },
      {
       "output_type": "stream",
       "stream": "stdout",
       "text": [
        " ('power', 'active')\n",
        "Calculating energy for column ('power', 'active')\n",
        "Calculating energy for column ('power', 'active')\n",
        "Calculating energy for column ('power', 'active')\n",
        "Calculating energy for column"
       ]
      },
      {
       "output_type": "stream",
       "stream": "stdout",
       "text": [
        " ('power', 'active')\n",
        "Calculating energy for column ('power', 'active')\n",
        "Calculating energy for column ('power', 'active')\n",
        "Calculating energy for column"
       ]
      },
      {
       "output_type": "stream",
       "stream": "stdout",
       "text": [
        " ('power', 'active')\n",
        "Calculating energy for column ('power', 'active')\n",
        "Calculating energy for column ('power', 'active')\n",
        "Calculating energy for column"
       ]
      },
      {
       "output_type": "stream",
       "stream": "stdout",
       "text": [
        " ('power', 'active')\n",
        "Calculating energy for column"
       ]
      },
      {
       "output_type": "stream",
       "stream": "stdout",
       "text": [
        " ('power', 'active')\n",
        "Calculating energy for column ('power', 'active')\n",
        "Calculating energy for column"
       ]
      },
      {
       "output_type": "stream",
       "stream": "stdout",
       "text": [
        " ('power', 'active')\n",
        "Calculating energy for column ('power', 'active')\n",
        "Calculating energy for column"
       ]
      },
      {
       "output_type": "stream",
       "stream": "stdout",
       "text": [
        " ('power', 'active')\n",
        "Calculating energy for column ('power', 'active')\n",
        "Calculating energy for column ('power', 'active')\n",
        "Calculating energy for column"
       ]
      },
      {
       "output_type": "stream",
       "stream": "stdout",
       "text": [
        " ('power', 'active')\n",
        "Calculating energy for column ('power', 'active')\n",
        "Calculating energy for column"
       ]
      },
      {
       "output_type": "stream",
       "stream": "stdout",
       "text": [
        " ('power', 'active')\n",
        "Calculating energy for column"
       ]
      },
      {
       "output_type": "stream",
       "stream": "stdout",
       "text": [
        " ('power', 'active')\n",
        "Calculating energy for column"
       ]
      },
      {
       "output_type": "stream",
       "stream": "stdout",
       "text": [
        " ('power', 'active')\n",
        "Calculating energy for column ('power', 'active')\n",
        "Calculating energy for column"
       ]
      },
      {
       "output_type": "stream",
       "stream": "stdout",
       "text": [
        " ('power', 'active')\n",
        "Calculating energy for column ('power', 'active')\n",
        "Calculating energy for column"
       ]
      },
      {
       "output_type": "stream",
       "stream": "stdout",
       "text": [
        " ('power', 'active')\n",
        "Calculating energy for column ('power', 'active')\n",
        "Calculating energy for column"
       ]
      },
      {
       "output_type": "stream",
       "stream": "stdout",
       "text": [
        " ('power', 'active')\n",
        "Calculating energy for column"
       ]
      },
      {
       "output_type": "stream",
       "stream": "stdout",
       "text": [
        " ('power', 'active')\n",
        "Calculating energy for column ('power', 'active')\n",
        "Calculating energy for column ('power', 'active')\n",
        "Calculating energy for column"
       ]
      },
      {
       "output_type": "stream",
       "stream": "stdout",
       "text": [
        " ('power', 'active')\n",
        "Calculating energy for column ('power', 'active')\n",
        "Calculating energy for column ('power', 'active')\n",
        "Calculating energy for column ('power', 'active')\n",
        "Calculating energy for column"
       ]
      },
      {
       "output_type": "stream",
       "stream": "stdout",
       "text": [
        " ('power', 'active')\n",
        "Calculating energy for column ('power', 'active')\n",
        "Calculating energy for column"
       ]
      },
      {
       "output_type": "stream",
       "stream": "stdout",
       "text": [
        " ('power', 'active')\n",
        "Calculating energy for column"
       ]
      },
      {
       "output_type": "stream",
       "stream": "stdout",
       "text": [
        " ('power', 'active')\n",
        "Calculating energy for column"
       ]
      },
      {
       "output_type": "stream",
       "stream": "stdout",
       "text": [
        " ('power', 'active')\n",
        "Calculating energy for column"
       ]
      },
      {
       "output_type": "stream",
       "stream": "stdout",
       "text": [
        " ('power', 'active')\n",
        "Calculating energy for column"
       ]
      },
      {
       "output_type": "stream",
       "stream": "stdout",
       "text": [
        " ('power', 'active')\n",
        "Calculating energy for column ('power', 'active')\n",
        "Calculating energy for column ('power', 'active')\n",
        "Calculating energy for column ('power', 'active')\n",
        "Calculating energy for column"
       ]
      },
      {
       "output_type": "stream",
       "stream": "stdout",
       "text": [
        " ('power', 'active')\n",
        "Calculating energy for column ('power', 'active')\n",
        "Calculating energy for column"
       ]
      },
      {
       "output_type": "stream",
       "stream": "stdout",
       "text": [
        " ('power', 'active')\n",
        "Calculating energy for column ('power', 'active')\n",
        "Calculating energy for column ('power', 'active')\n",
        "Calculating energy for column"
       ]
      },
      {
       "output_type": "stream",
       "stream": "stdout",
       "text": [
        " ('power', 'active')\n",
        "Calculating energy for column ('power', 'active')\n",
        "Calculating energy for column"
       ]
      },
      {
       "output_type": "stream",
       "stream": "stdout",
       "text": [
        " ('power', 'active')\n",
        "Calculating energy for column"
       ]
      },
      {
       "output_type": "stream",
       "stream": "stdout",
       "text": [
        " ('power', 'active')\n",
        "Calculating energy for column ('power', 'active')\n",
        "Calculating energy for column"
       ]
      },
      {
       "output_type": "stream",
       "stream": "stdout",
       "text": [
        " ('power', 'active')\n",
        "Calculating energy for column ('power', 'active')\n",
        "Calculating energy for column ('power', 'active')\n",
        "Calculating energy for column ('power', 'active')\n",
        "Calculating energy for column"
       ]
      },
      {
       "output_type": "stream",
       "stream": "stdout",
       "text": [
        " ('power', 'active')\n",
        "Calculating energy for column ('power', 'active')\n",
        "Calculating energy for column ('power', 'active')\n",
        "Calculating energy for column"
       ]
      },
      {
       "output_type": "stream",
       "stream": "stdout",
       "text": [
        " ('power', 'active')\n",
        "Calculating energy for column ('power', 'active')\n",
        "Calculating energy for column"
       ]
      },
      {
       "output_type": "stream",
       "stream": "stdout",
       "text": [
        " ('power', 'active')\n",
        "Calculating energy for column"
       ]
      },
      {
       "output_type": "stream",
       "stream": "stdout",
       "text": [
        " ('power', 'active')\n",
        "Calculating energy for column"
       ]
      },
      {
       "output_type": "stream",
       "stream": "stdout",
       "text": [
        " ('power', 'active')\n",
        "Calculating energy for column"
       ]
      },
      {
       "output_type": "stream",
       "stream": "stdout",
       "text": [
        " ('power', 'active')\n",
        "Calculating energy for column ('power', 'active')\n",
        "Calculating energy for column ('power', 'active')\n",
        "Calculating energy for column"
       ]
      },
      {
       "output_type": "stream",
       "stream": "stdout",
       "text": [
        " ('power', 'active')\n",
        "Calculating energy for column ('power', 'active')\n",
        "Calculating energy for column"
       ]
      },
      {
       "output_type": "stream",
       "stream": "stdout",
       "text": [
        " ('power', 'active')\n",
        "Calculating energy for column ('power', 'active')\n",
        "Calculating energy for column ('power', 'active')\n",
        "Calculating energy for column ('power', 'active')\n",
        "Calculating energy for column"
       ]
      },
      {
       "output_type": "stream",
       "stream": "stdout",
       "text": [
        " ('power', 'active')\n",
        "Calculating energy for column ('power', 'active')\n",
        "Calculating energy for column ('power', 'active')\n",
        "Calculating energy for column ('power', 'active')\n",
        "Calculating energy for column ('power', 'active')\n",
        "Calculating energy for column"
       ]
      },
      {
       "output_type": "stream",
       "stream": "stdout",
       "text": [
        " ('power', 'active')\n",
        "Calculating energy for column ('power', 'active')\n",
        "Calculating energy for column ('power', 'active')\n",
        "Calculating energy for column ('power', 'active')\n",
        "Calculating energy for column ('power', 'active')\n",
        "Calculating energy for column"
       ]
      },
      {
       "output_type": "stream",
       "stream": "stdout",
       "text": [
        " ('power', 'active')\n",
        "Calculating energy for column"
       ]
      },
      {
       "output_type": "stream",
       "stream": "stdout",
       "text": [
        " ('power', 'active')\n",
        "Calculating energy for column"
       ]
      },
      {
       "output_type": "stream",
       "stream": "stdout",
       "text": [
        " ('power', 'active')\n",
        "Calculating energy for column ('power', 'active')\n",
        "Calculating energy for column"
       ]
      },
      {
       "output_type": "stream",
       "stream": "stdout",
       "text": [
        " ('power', 'active')\n",
        "Calculating energy for column"
       ]
      },
      {
       "output_type": "stream",
       "stream": "stdout",
       "text": [
        " ('power', 'active')\n",
        "Calculating energy for column ('power', 'active')\n",
        "Calculating energy for column"
       ]
      },
      {
       "output_type": "stream",
       "stream": "stdout",
       "text": [
        " ('power', 'active')\n",
        "Calculating energy for column"
       ]
      },
      {
       "output_type": "stream",
       "stream": "stdout",
       "text": [
        " ('power', 'active')\n",
        "Calculating energy for column"
       ]
      },
      {
       "output_type": "stream",
       "stream": "stdout",
       "text": [
        " ('power', 'active')\n",
        "Calculating energy for column ('power', 'active')\n",
        "Calculating energy for column"
       ]
      },
      {
       "output_type": "stream",
       "stream": "stdout",
       "text": [
        " ('power', 'active')\n",
        "Calculating energy for column"
       ]
      },
      {
       "output_type": "stream",
       "stream": "stdout",
       "text": [
        " ('power', 'apparent')\n",
        "Calculating energy for column ('power', 'apparent')\n",
        "Calculating energy for column ('power', 'apparent')\n",
        "Calculating energy for column"
       ]
      },
      {
       "output_type": "stream",
       "stream": "stdout",
       "text": [
        " ('power', 'apparent')\n",
        "Calculating energy for column"
       ]
      },
      {
       "output_type": "stream",
       "stream": "stdout",
       "text": [
        " ('power', 'apparent')\n",
        "Calculating energy for column"
       ]
      },
      {
       "output_type": "stream",
       "stream": "stdout",
       "text": [
        " ('power', 'apparent')\n",
        "Calculating energy for column ('power', 'apparent')\n",
        "Calculating energy for column"
       ]
      },
      {
       "output_type": "stream",
       "stream": "stdout",
       "text": [
        " ('power', 'apparent')\n",
        "Calculating energy for column ('power', 'apparent')\n",
        "Calculating energy for column"
       ]
      },
      {
       "output_type": "stream",
       "stream": "stdout",
       "text": [
        " ('power', 'apparent')\n",
        "Calculating energy for column ('power', 'apparent')\n",
        "Calculating energy for column"
       ]
      },
      {
       "output_type": "stream",
       "stream": "stdout",
       "text": [
        " ('power', 'apparent')\n",
        "Calculating energy for column ('power', 'apparent')\n",
        "Calculating energy for column"
       ]
      },
      {
       "output_type": "stream",
       "stream": "stdout",
       "text": [
        " ('power', 'apparent')\n",
        "Calculating energy for column ('power', 'apparent')\n",
        "Calculating energy for column ('power', 'apparent')\n",
        "Calculating energy for column"
       ]
      },
      {
       "output_type": "stream",
       "stream": "stdout",
       "text": [
        " ('power', 'apparent')\n",
        "Calculating energy for column ('power', 'apparent')\n",
        "Calculating energy for column ('power', 'apparent')\n",
        "Calculating energy for column"
       ]
      },
      {
       "output_type": "stream",
       "stream": "stdout",
       "text": [
        " ('power', 'apparent')\n",
        "Calculating energy for column ('power', 'apparent')\n",
        "Calculating energy for column"
       ]
      },
      {
       "output_type": "stream",
       "stream": "stdout",
       "text": [
        " ('power', 'apparent')\n",
        "Calculating energy for column ('power', 'apparent')\n",
        "Calculating energy for column ('power', 'apparent')\n",
        "Calculating energy for column"
       ]
      },
      {
       "output_type": "stream",
       "stream": "stdout",
       "text": [
        " ('power', 'apparent')\n",
        "Calculating energy for column ('power', 'apparent')\n",
        "Calculating energy for column"
       ]
      },
      {
       "output_type": "stream",
       "stream": "stdout",
       "text": [
        " ('power', 'apparent')\n",
        "Calculating energy for column"
       ]
      },
      {
       "output_type": "stream",
       "stream": "stdout",
       "text": [
        " ('power', 'apparent')\n",
        "Calculating energy for column ('power', 'apparent')\n",
        "Calculating energy for column"
       ]
      },
      {
       "output_type": "stream",
       "stream": "stdout",
       "text": [
        " ('power', 'apparent')\n",
        "Calculating energy for column ('power', 'apparent')\n",
        "Calculating energy for column"
       ]
      },
      {
       "output_type": "stream",
       "stream": "stdout",
       "text": [
        " ('power', 'active')\n",
        "Calculating energy for column ('power', 'active')\n",
        "Calculating energy for column ('power', 'active')\n",
        "Calculating energy for column ('power', 'active')\n",
        "Calculating energy for column"
       ]
      },
      {
       "output_type": "stream",
       "stream": "stdout",
       "text": [
        " ('power', 'active')\n",
        "Calculating energy for column ('power', 'active')\n",
        "Calculating energy for column ('power', 'active')\n",
        "Calculating energy for column"
       ]
      },
      {
       "output_type": "stream",
       "stream": "stdout",
       "text": [
        " ('power', 'active')\n",
        "Calculating energy for column ('power', 'active')\n",
        "Calculating energy for column"
       ]
      },
      {
       "output_type": "stream",
       "stream": "stdout",
       "text": [
        " ('power', 'active')\n",
        "Calculating energy for column ('power', 'active')\n",
        "Calculating energy for column ('power', 'active')\n",
        "Calculating energy for column"
       ]
      },
      {
       "output_type": "stream",
       "stream": "stdout",
       "text": [
        " ('power', 'active')\n",
        "Calculating energy for column ('power', 'active')\n",
        "Calculating energy for column ('power', 'active')\n",
        "Calculating energy for column"
       ]
      },
      {
       "output_type": "stream",
       "stream": "stdout",
       "text": [
        " ('power', 'active')\n",
        "Calculating energy for column"
       ]
      },
      {
       "output_type": "stream",
       "stream": "stdout",
       "text": [
        " ('power', 'active')\n",
        "Calculating energy for column ('power', 'active')\n",
        "Calculating energy for column ('power', 'active')\n",
        "Calculating energy for column"
       ]
      },
      {
       "output_type": "stream",
       "stream": "stdout",
       "text": [
        " ('power', 'active')\n",
        "Calculating energy for column"
       ]
      },
      {
       "output_type": "stream",
       "stream": "stdout",
       "text": [
        " ('power', 'active')\n",
        "Calculating energy for column"
       ]
      },
      {
       "output_type": "stream",
       "stream": "stdout",
       "text": [
        " ('power', 'active')\n",
        "Calculating energy for column ('power', 'active')\n",
        "Calculating energy for column"
       ]
      },
      {
       "output_type": "stream",
       "stream": "stdout",
       "text": [
        " ('power', 'active')\n",
        "Calculating energy for column"
       ]
      },
      {
       "output_type": "stream",
       "stream": "stdout",
       "text": [
        " ('power', 'active')\n",
        "Calculating energy for column ('power', 'active')\n",
        "Calculating energy for column"
       ]
      },
      {
       "output_type": "stream",
       "stream": "stdout",
       "text": [
        " ('power', 'active')\n",
        "Calculating energy for column ('power', 'active')\n",
        "Calculating energy for column ('power', 'active')\n",
        "Calculating energy for column"
       ]
      },
      {
       "output_type": "stream",
       "stream": "stdout",
       "text": [
        " ('power', 'active')\n",
        "Calculating energy for column ('power', 'active')\n",
        "Calculating energy for column"
       ]
      },
      {
       "output_type": "stream",
       "stream": "stdout",
       "text": [
        " ('power', 'active')\n",
        "Calculating energy for column"
       ]
      },
      {
       "output_type": "stream",
       "stream": "stdout",
       "text": [
        " ('power', 'active')\n",
        "Calculating energy for column"
       ]
      },
      {
       "output_type": "stream",
       "stream": "stdout",
       "text": [
        " ('power', 'active')\n",
        "Calculating energy for column"
       ]
      },
      {
       "output_type": "stream",
       "stream": "stdout",
       "text": [
        " ('power', 'active')\n",
        "Calculating energy for column"
       ]
      },
      {
       "output_type": "stream",
       "stream": "stdout",
       "text": [
        " ('power', 'active')\n",
        "Calculating energy for column ('power', 'active')\n",
        "Calculating energy for column"
       ]
      },
      {
       "output_type": "stream",
       "stream": "stdout",
       "text": [
        " ('power', 'active')\n",
        "Calculating energy for column"
       ]
      },
      {
       "output_type": "stream",
       "stream": "stdout",
       "text": [
        " ('power', 'active')\n",
        "Calculating energy for column ('power', 'active')\n",
        "Calculating energy for column"
       ]
      },
      {
       "output_type": "stream",
       "stream": "stdout",
       "text": [
        " ('power', 'active')\n",
        "Calculating energy for column"
       ]
      },
      {
       "output_type": "stream",
       "stream": "stdout",
       "text": [
        " ('power', 'active')\n",
        "Calculating energy for column"
       ]
      },
      {
       "output_type": "stream",
       "stream": "stdout",
       "text": [
        " ('power', 'active')\n",
        "Calculating energy for column ('power', 'active')\n",
        "Calculating energy for column"
       ]
      },
      {
       "output_type": "stream",
       "stream": "stdout",
       "text": [
        " ('power', 'active')\n",
        "Calculating energy for column"
       ]
      },
      {
       "output_type": "stream",
       "stream": "stdout",
       "text": [
        " ('power', 'active')\n",
        "Calculating energy for column ('power', 'active')\n",
        "Calculating energy for column ('power', 'active')\n",
        "Calculating energy for column"
       ]
      },
      {
       "output_type": "stream",
       "stream": "stdout",
       "text": [
        " ('power', 'active')\n",
        "\r",
        "Loading data for meter"
       ]
      },
      {
       "output_type": "stream",
       "stream": "stdout",
       "text": [
        " <bound method ElecMeter.instance of ElecMeter(instance=9, building=2, dataset='UK-DALE', appliances=[Appliance(type='rice cooker', instance=1)])>     "
       ]
      },
      {
       "output_type": "stream",
       "stream": "stdout",
       "text": [
        "\r",
        "Loading data for meter <bound method ElecMeter.instance of ElecMeter(instance=2, building=2, dataset='UK-DALE', appliances=[Appliance(type='laptop computer', instance=1)])>     "
       ]
      },
      {
       "output_type": "stream",
       "stream": "stdout",
       "text": [
        "\r",
        "Loading data for meter <bound method ElecMeter.instance of ElecMeter(instance=19, building=2, dataset='UK-DALE', appliances=[Appliance(type='cooker', instance=1)])>     "
       ]
      },
      {
       "output_type": "stream",
       "stream": "stdout",
       "text": [
        "\r",
        "Loading data for meter <bound method ElecMeter.instance of ElecMeter(instance=4, building=2, dataset='UK-DALE', appliances=[Appliance(type='active speaker', instance=1)])>     "
       ]
      },
      {
       "output_type": "stream",
       "stream": "stdout",
       "text": [
        "\r",
        "Loading data for meter <bound method ElecMeter.instance of ElecMeter(instance=7, building=2, dataset='UK-DALE', appliances=[Appliance(type='external hard disk', instance=1)])>     "
       ]
      },
      {
       "output_type": "stream",
       "stream": "stdout",
       "text": [
        "\r",
        "Loading data for meter <bound method ElecMeter.instance of ElecMeter(instance=8, building=2, dataset='UK-DALE', appliances=[Appliance(type='kettle', instance=1)])>     "
       ]
      },
      {
       "output_type": "stream",
       "stream": "stdout",
       "text": [
        "\r",
        "Loading data for meter <bound method ElecMeter.instance of ElecMeter(instance=11, building=2, dataset='UK-DALE', appliances=[Appliance(type='laptop computer', instance=2)])>     "
       ]
      },
      {
       "output_type": "stream",
       "stream": "stdout",
       "text": [
        "\r",
        "Loading data for meter <bound method ElecMeter.instance of ElecMeter(instance=14, building=2, dataset='UK-DALE', appliances=[Appliance(type='fridge', instance=1)])>     "
       ]
      },
      {
       "output_type": "stream",
       "stream": "stdout",
       "text": [
        "\r",
        "Loading data for meter <bound method ElecMeter.instance of ElecMeter(instance=18, building=2, dataset='UK-DALE', appliances=[Appliance(type='modem', instance=1)])>     "
       ]
      },
      {
       "output_type": "stream",
       "stream": "stdout",
       "text": [
        "\r",
        "Loading data for meter <bound method ElecMeter.instance of ElecMeter(instance=3, building=2, dataset='UK-DALE', appliances=[Appliance(type='computer monitor', instance=1)])>     "
       ]
      },
      {
       "output_type": "stream",
       "stream": "stdout",
       "text": [
        "\r",
        "Loading data for meter <bound method ElecMeter.instance of ElecMeter(instance=13, building=2, dataset='UK-DALE', appliances=[Appliance(type='dish washer', instance=1)])>     "
       ]
      },
      {
       "output_type": "stream",
       "stream": "stdout",
       "text": [
        "\r",
        "Loading data for meter <bound method ElecMeter.instance of ElecMeter(instance=6, building=2, dataset='UK-DALE', appliances=[Appliance(type='broadband router', instance=1)])>     "
       ]
      },
      {
       "output_type": "stream",
       "stream": "stdout",
       "text": [
        "\r",
        "Loading data for meter <bound method ElecMeter.instance of ElecMeter(instance=17, building=2, dataset='UK-DALE', appliances=[Appliance(type='games console', instance=1)])>     "
       ]
      },
      {
       "output_type": "stream",
       "stream": "stdout",
       "text": [
        "\r",
        "Loading data for meter <bound method ElecMeter.instance of ElecMeter(instance=10, building=2, dataset='UK-DALE', appliances=[Appliance(type='running machine', instance=1)])>     "
       ]
      },
      {
       "output_type": "stream",
       "stream": "stdout",
       "text": [
        "\r",
        "Loading data for meter <bound method ElecMeter.instance of ElecMeter(instance=12, building=2, dataset='UK-DALE', appliances=[Appliance(type='washing machine', instance=1)])>     "
       ]
      },
      {
       "output_type": "stream",
       "stream": "stdout",
       "text": [
        "\r",
        "Loading data for meter <bound method ElecMeter.instance of ElecMeter(instance=5, building=2, dataset='UK-DALE', appliances=[Appliance(type='computer', instance=1)])>     "
       ]
      },
      {
       "output_type": "stream",
       "stream": "stdout",
       "text": [
        "\r",
        "Loading data for meter <bound method ElecMeter.instance of ElecMeter(instance=15, building=2, dataset='UK-DALE', appliances=[Appliance(type='microwave', instance=1)])>     "
       ]
      },
      {
       "output_type": "stream",
       "stream": "stdout",
       "text": [
        "\r",
        "Loading data for meter <bound method ElecMeter.instance of ElecMeter(instance=16, building=2, dataset='UK-DALE', appliances=[Appliance(type='toaster', instance=1)])>     "
       ]
      },
      {
       "output_type": "stream",
       "stream": "stdout",
       "text": [
        "\r",
        "Loading data for meter <bound method ElecMeter.instance of ElecMeter(instance=9, building=2, dataset='UK-DALE', appliances=[Appliance(type='rice cooker', instance=1)])>     "
       ]
      },
      {
       "output_type": "stream",
       "stream": "stdout",
       "text": [
        "\r",
        "Loading data for meter <bound method ElecMeter.instance of ElecMeter(instance=2, building=2, dataset='UK-DALE', appliances=[Appliance(type='laptop computer', instance=1)])>     "
       ]
      },
      {
       "output_type": "stream",
       "stream": "stdout",
       "text": [
        "\r",
        "Loading data for meter <bound method ElecMeter.instance of ElecMeter(instance=19, building=2, dataset='UK-DALE', appliances=[Appliance(type='cooker', instance=1)])>     "
       ]
      },
      {
       "output_type": "stream",
       "stream": "stdout",
       "text": [
        "\r",
        "Loading data for meter <bound method ElecMeter.instance of ElecMeter(instance=4, building=2, dataset='UK-DALE', appliances=[Appliance(type='active speaker', instance=1)])>     "
       ]
      },
      {
       "output_type": "stream",
       "stream": "stdout",
       "text": [
        "\r",
        "Loading data for meter <bound method ElecMeter.instance of ElecMeter(instance=7, building=2, dataset='UK-DALE', appliances=[Appliance(type='external hard disk', instance=1)])>     "
       ]
      },
      {
       "output_type": "stream",
       "stream": "stdout",
       "text": [
        "\r",
        "Loading data for meter <bound method ElecMeter.instance of ElecMeter(instance=8, building=2, dataset='UK-DALE', appliances=[Appliance(type='kettle', instance=1)])>     "
       ]
      },
      {
       "output_type": "stream",
       "stream": "stdout",
       "text": [
        "\r",
        "Loading data for meter <bound method ElecMeter.instance of ElecMeter(instance=11, building=2, dataset='UK-DALE', appliances=[Appliance(type='laptop computer', instance=2)])>     "
       ]
      },
      {
       "output_type": "stream",
       "stream": "stdout",
       "text": [
        "\r",
        "Loading data for meter <bound method ElecMeter.instance of ElecMeter(instance=14, building=2, dataset='UK-DALE', appliances=[Appliance(type='fridge', instance=1)])>     "
       ]
      },
      {
       "output_type": "stream",
       "stream": "stdout",
       "text": [
        "\r",
        "Loading data for meter <bound method ElecMeter.instance of ElecMeter(instance=18, building=2, dataset='UK-DALE', appliances=[Appliance(type='modem', instance=1)])>     "
       ]
      },
      {
       "output_type": "stream",
       "stream": "stdout",
       "text": [
        "\r",
        "Loading data for meter <bound method ElecMeter.instance of ElecMeter(instance=3, building=2, dataset='UK-DALE', appliances=[Appliance(type='computer monitor', instance=1)])>     "
       ]
      },
      {
       "output_type": "stream",
       "stream": "stdout",
       "text": [
        "\r",
        "Loading data for meter <bound method ElecMeter.instance of ElecMeter(instance=13, building=2, dataset='UK-DALE', appliances=[Appliance(type='dish washer', instance=1)])>     "
       ]
      },
      {
       "output_type": "stream",
       "stream": "stdout",
       "text": [
        "\r",
        "Loading data for meter <bound method ElecMeter.instance of ElecMeter(instance=6, building=2, dataset='UK-DALE', appliances=[Appliance(type='broadband router', instance=1)])>     "
       ]
      },
      {
       "output_type": "stream",
       "stream": "stdout",
       "text": [
        "\r",
        "Loading data for meter <bound method ElecMeter.instance of ElecMeter(instance=17, building=2, dataset='UK-DALE', appliances=[Appliance(type='games console', instance=1)])>     "
       ]
      },
      {
       "output_type": "stream",
       "stream": "stdout",
       "text": [
        "\r",
        "Loading data for meter <bound method ElecMeter.instance of ElecMeter(instance=10, building=2, dataset='UK-DALE', appliances=[Appliance(type='running machine', instance=1)])>     "
       ]
      },
      {
       "output_type": "stream",
       "stream": "stdout",
       "text": [
        "\r",
        "Loading data for meter <bound method ElecMeter.instance of ElecMeter(instance=12, building=2, dataset='UK-DALE', appliances=[Appliance(type='washing machine', instance=1)])>     "
       ]
      },
      {
       "output_type": "stream",
       "stream": "stdout",
       "text": [
        "\r",
        "Loading data for meter <bound method ElecMeter.instance of ElecMeter(instance=5, building=2, dataset='UK-DALE', appliances=[Appliance(type='computer', instance=1)])>     "
       ]
      },
      {
       "output_type": "stream",
       "stream": "stdout",
       "text": [
        "\r",
        "Loading data for meter <bound method ElecMeter.instance of ElecMeter(instance=15, building=2, dataset='UK-DALE', appliances=[Appliance(type='microwave', instance=1)])>     "
       ]
      },
      {
       "output_type": "stream",
       "stream": "stdout",
       "text": [
        "\r",
        "Loading data for meter <bound method ElecMeter.instance of ElecMeter(instance=16, building=2, dataset='UK-DALE', appliances=[Appliance(type='toaster', instance=1)])>     "
       ]
      },
      {
       "output_type": "stream",
       "stream": "stdout",
       "text": [
        "\r",
        "Loading data for meter <bound method ElecMeter.instance of ElecMeter(instance=9, building=2, dataset='UK-DALE', appliances=[Appliance(type='rice cooker', instance=1)])>     "
       ]
      },
      {
       "output_type": "stream",
       "stream": "stdout",
       "text": [
        "\r",
        "Loading data for meter <bound method ElecMeter.instance of ElecMeter(instance=2, building=2, dataset='UK-DALE', appliances=[Appliance(type='laptop computer', instance=1)])>     "
       ]
      },
      {
       "output_type": "stream",
       "stream": "stdout",
       "text": [
        "\r",
        "Loading data for meter <bound method ElecMeter.instance of ElecMeter(instance=19, building=2, dataset='UK-DALE', appliances=[Appliance(type='cooker', instance=1)])>     "
       ]
      },
      {
       "output_type": "stream",
       "stream": "stdout",
       "text": [
        "\r",
        "Loading data for meter <bound method ElecMeter.instance of ElecMeter(instance=4, building=2, dataset='UK-DALE', appliances=[Appliance(type='active speaker', instance=1)])>     "
       ]
      },
      {
       "output_type": "stream",
       "stream": "stdout",
       "text": [
        "\r",
        "Loading data for meter <bound method ElecMeter.instance of ElecMeter(instance=7, building=2, dataset='UK-DALE', appliances=[Appliance(type='external hard disk', instance=1)])>     "
       ]
      },
      {
       "output_type": "stream",
       "stream": "stdout",
       "text": [
        "\r",
        "Loading data for meter <bound method ElecMeter.instance of ElecMeter(instance=8, building=2, dataset='UK-DALE', appliances=[Appliance(type='kettle', instance=1)])>     "
       ]
      },
      {
       "output_type": "stream",
       "stream": "stdout",
       "text": [
        "\r",
        "Loading data for meter <bound method ElecMeter.instance of ElecMeter(instance=11, building=2, dataset='UK-DALE', appliances=[Appliance(type='laptop computer', instance=2)])>     "
       ]
      },
      {
       "output_type": "stream",
       "stream": "stdout",
       "text": [
        "\r",
        "Loading data for meter <bound method ElecMeter.instance of ElecMeter(instance=14, building=2, dataset='UK-DALE', appliances=[Appliance(type='fridge', instance=1)])>     "
       ]
      },
      {
       "output_type": "stream",
       "stream": "stdout",
       "text": [
        "\r",
        "Loading data for meter <bound method ElecMeter.instance of ElecMeter(instance=18, building=2, dataset='UK-DALE', appliances=[Appliance(type='modem', instance=1)])>     "
       ]
      },
      {
       "output_type": "stream",
       "stream": "stdout",
       "text": [
        "\r",
        "Loading data for meter <bound method ElecMeter.instance of ElecMeter(instance=3, building=2, dataset='UK-DALE', appliances=[Appliance(type='computer monitor', instance=1)])>     "
       ]
      },
      {
       "output_type": "stream",
       "stream": "stdout",
       "text": [
        "\r",
        "Loading data for meter <bound method ElecMeter.instance of ElecMeter(instance=13, building=2, dataset='UK-DALE', appliances=[Appliance(type='dish washer', instance=1)])>     "
       ]
      },
      {
       "output_type": "stream",
       "stream": "stdout",
       "text": [
        "\r",
        "Loading data for meter <bound method ElecMeter.instance of ElecMeter(instance=6, building=2, dataset='UK-DALE', appliances=[Appliance(type='broadband router', instance=1)])>     "
       ]
      },
      {
       "output_type": "stream",
       "stream": "stdout",
       "text": [
        "\r",
        "Loading data for meter <bound method ElecMeter.instance of ElecMeter(instance=17, building=2, dataset='UK-DALE', appliances=[Appliance(type='games console', instance=1)])>     "
       ]
      },
      {
       "output_type": "stream",
       "stream": "stdout",
       "text": [
        "\r",
        "Loading data for meter <bound method ElecMeter.instance of ElecMeter(instance=10, building=2, dataset='UK-DALE', appliances=[Appliance(type='running machine', instance=1)])>     "
       ]
      },
      {
       "output_type": "stream",
       "stream": "stdout",
       "text": [
        "\r",
        "Loading data for meter <bound method ElecMeter.instance of ElecMeter(instance=12, building=2, dataset='UK-DALE', appliances=[Appliance(type='washing machine', instance=1)])>     "
       ]
      },
      {
       "output_type": "stream",
       "stream": "stdout",
       "text": [
        "\r",
        "Loading data for meter <bound method ElecMeter.instance of ElecMeter(instance=5, building=2, dataset='UK-DALE', appliances=[Appliance(type='computer', instance=1)])>     "
       ]
      },
      {
       "output_type": "stream",
       "stream": "stdout",
       "text": [
        "\r",
        "Loading data for meter <bound method ElecMeter.instance of ElecMeter(instance=15, building=2, dataset='UK-DALE', appliances=[Appliance(type='microwave', instance=1)])>     "
       ]
      },
      {
       "output_type": "stream",
       "stream": "stdout",
       "text": [
        "\r",
        "Loading data for meter <bound method ElecMeter.instance of ElecMeter(instance=16, building=2, dataset='UK-DALE', appliances=[Appliance(type='toaster', instance=1)])>     "
       ]
      },
      {
       "output_type": "stream",
       "stream": "stdout",
       "text": [
        "Calculating energy for column ('power', 'active')\n",
        "Calculating energy for column ('power', 'apparent')\n",
        "Calculating energy for column"
       ]
      },
      {
       "output_type": "stream",
       "stream": "stdout",
       "text": [
        " ('power', 'active')\n",
        "Calculating energy for column ('power', 'apparent')\n",
        "Calculating energy for column"
       ]
      },
      {
       "output_type": "stream",
       "stream": "stdout",
       "text": [
        " ('power', 'active')\n",
        "Calculating energy for column ('power', 'apparent')\n",
        "Calculating energy for column"
       ]
      },
      {
       "output_type": "stream",
       "stream": "stdout",
       "text": [
        " ('power', 'active')\n",
        "Calculating energy for column ('power', 'apparent')\n",
        "Calculating energy for column ('power', 'active')\n",
        "Calculating energy for column ('power', 'apparent')\n",
        "Calculating energy for column"
       ]
      },
      {
       "output_type": "stream",
       "stream": "stdout",
       "text": [
        " ('power', 'active')\n",
        "Calculating energy for column ('power', 'apparent')\n",
        "Calculating energy for column ('power', 'active')\n",
        "Calculating energy for column ('power', 'apparent')\n",
        "Calculating energy for column ('power', 'active')\n",
        "Calculating energy for column ('power', 'apparent')\n",
        "Calculating energy for column"
       ]
      },
      {
       "output_type": "stream",
       "stream": "stdout",
       "text": [
        " ('power', 'active')\n",
        "Calculating energy for column ('power', 'apparent')\n",
        "Calculating energy for column"
       ]
      },
      {
       "output_type": "stream",
       "stream": "stdout",
       "text": [
        " ('power', 'active')\n",
        "Calculating energy for column"
       ]
      },
      {
       "output_type": "stream",
       "stream": "stdout",
       "text": [
        " ('power', 'apparent')\n",
        "Calculating energy for column"
       ]
      },
      {
       "output_type": "stream",
       "stream": "stdout",
       "text": [
        " ('power', 'active')\n",
        "Calculating energy for column ('power', 'apparent')\n",
        "Calculating energy for column ('power', 'active')\n",
        "Calculating energy for column ('power', 'apparent')\n",
        "Calculating energy for column"
       ]
      },
      {
       "output_type": "stream",
       "stream": "stdout",
       "text": [
        " ('power', 'active')\n",
        "Calculating energy for column"
       ]
      },
      {
       "output_type": "stream",
       "stream": "stdout",
       "text": [
        " ('power', 'apparent')\n",
        "Calculating energy for column"
       ]
      },
      {
       "output_type": "stream",
       "stream": "stdout",
       "text": [
        " ('power', 'active')\n",
        "Calculating energy for column ('power', 'active')\n",
        "Calculating energy for column"
       ]
      },
      {
       "output_type": "stream",
       "stream": "stdout",
       "text": [
        " ('power', 'active')\n",
        "Calculating energy for column ('power', 'active')\n",
        "Calculating energy for column ('power', 'active')\n",
        "Calculating energy for column"
       ]
      },
      {
       "output_type": "stream",
       "stream": "stdout",
       "text": [
        " ('power', 'active')\n",
        "Calculating energy for column"
       ]
      },
      {
       "output_type": "stream",
       "stream": "stdout",
       "text": [
        " ('power', 'active')\n",
        "Calculating energy for column ('power', 'active')\n",
        "Calculating energy for column"
       ]
      },
      {
       "output_type": "stream",
       "stream": "stdout",
       "text": [
        " ('power', 'active')\n",
        "Calculating energy for column ('power', 'active')\n",
        "Calculating energy for column ('power', 'active')\n",
        "Calculating energy for column"
       ]
      },
      {
       "output_type": "stream",
       "stream": "stdout",
       "text": [
        " ('power', 'active')\n",
        "Calculating energy for column"
       ]
      },
      {
       "output_type": "stream",
       "stream": "stdout",
       "text": [
        " ('power', 'active')\n",
        "Calculating energy for column ('power', 'active')\n",
        "Calculating energy for column"
       ]
      },
      {
       "output_type": "stream",
       "stream": "stdout",
       "text": [
        " ('power', 'active')\n",
        "Calculating energy for column ('power', 'active')\n",
        "Calculating energy for column ('power', 'active')\n",
        "Calculating energy for column"
       ]
      },
      {
       "output_type": "stream",
       "stream": "stdout",
       "text": [
        " ('power', 'active')\n",
        "Calculating energy for column ('power', 'active')\n",
        "Calculating energy for column ('power', 'active')\n",
        "Calculating energy for column ('power', 'active')\n",
        "Calculating energy for column ('power', 'active')\n",
        "Calculating energy for column"
       ]
      },
      {
       "output_type": "stream",
       "stream": "stdout",
       "text": [
        " ('power', 'active')\n",
        "Calculating energy for column ('power', 'active')\n",
        "Calculating energy for column ('power', 'active')\n",
        "Calculating energy for column"
       ]
      },
      {
       "output_type": "stream",
       "stream": "stdout",
       "text": [
        " ('power', 'active')\n",
        "Calculating energy for column"
       ]
      },
      {
       "output_type": "stream",
       "stream": "stdout",
       "text": [
        " ('power', 'active')\n",
        "Calculating energy for column"
       ]
      },
      {
       "output_type": "stream",
       "stream": "stdout",
       "text": [
        " ('power', 'active')\n",
        "Calculating energy for column"
       ]
      },
      {
       "output_type": "stream",
       "stream": "stdout",
       "text": [
        " ('power', 'active')\n",
        "Calculating energy for column"
       ]
      },
      {
       "output_type": "stream",
       "stream": "stdout",
       "text": [
        " ('power', 'active')\n",
        "Calculating energy for column ('power', 'active')\n",
        "Calculating energy for column ('power', 'active')\n",
        "Calculating energy for column"
       ]
      },
      {
       "output_type": "stream",
       "stream": "stdout",
       "text": [
        " ('power', 'active')\n",
        "Calculating energy for column ('power', 'active')\n",
        "Calculating energy for column ('power', 'active')\n",
        "Calculating energy for column ('power', 'active')\n",
        "Calculating energy for column"
       ]
      },
      {
       "output_type": "stream",
       "stream": "stdout",
       "text": [
        " ('power', 'active')\n",
        "Calculating energy for column ('power', 'active')\n",
        "Calculating energy for column ('power', 'active')\n",
        "Calculating energy for column"
       ]
      },
      {
       "output_type": "stream",
       "stream": "stdout",
       "text": [
        " ('power', 'active')\n",
        "Calculating energy for column"
       ]
      },
      {
       "output_type": "stream",
       "stream": "stdout",
       "text": [
        " ('power', 'active')\n",
        "Calculating energy for column"
       ]
      },
      {
       "output_type": "stream",
       "stream": "stdout",
       "text": [
        " ('power', 'active')\n",
        "Calculating energy for column"
       ]
      },
      {
       "output_type": "stream",
       "stream": "stdout",
       "text": [
        " ('power', 'active')\n",
        "Calculating energy for column ('power', 'active')\n",
        "Calculating energy for column ('power', 'active')\n",
        "Calculating energy for column"
       ]
      },
      {
       "output_type": "stream",
       "stream": "stdout",
       "text": [
        " ('power', 'active')\n",
        "Calculating energy for column"
       ]
      },
      {
       "output_type": "stream",
       "stream": "stdout",
       "text": [
        " ('power', 'active')\n",
        "Calculating energy for column ('power', 'active')\n",
        "Calculating energy for column ('power', 'active')\n",
        "Calculating energy for column"
       ]
      },
      {
       "output_type": "stream",
       "stream": "stdout",
       "text": [
        " ('power', 'active')\n",
        "Calculating energy for column ('power', 'active')\n",
        "Calculating energy for column"
       ]
      },
      {
       "output_type": "stream",
       "stream": "stdout",
       "text": [
        " ('power', 'active')\n",
        "Calculating energy for column"
       ]
      },
      {
       "output_type": "stream",
       "stream": "stdout",
       "text": [
        " ('power', 'active')\n",
        "Calculating energy for column ('power', 'active')\n",
        "Calculating energy for column"
       ]
      },
      {
       "output_type": "stream",
       "stream": "stdout",
       "text": [
        " ('power', 'active')\n",
        "Calculating energy for column"
       ]
      },
      {
       "output_type": "stream",
       "stream": "stdout",
       "text": [
        " ('power', 'active')\n",
        "Calculating energy for column ('power', 'active')\n",
        "Calculating energy for column ('power', 'active')\n",
        "Calculating energy for column ('power', 'active')\n",
        "Calculating energy for column"
       ]
      },
      {
       "output_type": "stream",
       "stream": "stdout",
       "text": [
        " ('power', 'active')\n",
        "Calculating energy for column ('power', 'active')\n",
        "Calculating energy for column ('power', 'active')\n",
        "Calculating energy for column ('power', 'active')\n",
        "Calculating energy for column"
       ]
      },
      {
       "output_type": "stream",
       "stream": "stdout",
       "text": [
        " ('power', 'active')\n",
        "Calculating energy for column"
       ]
      },
      {
       "output_type": "stream",
       "stream": "stdout",
       "text": [
        " ('power', 'active')\n",
        "Calculating energy for column"
       ]
      },
      {
       "output_type": "stream",
       "stream": "stdout",
       "text": [
        " ('power', 'active')\n",
        "Calculating energy for column"
       ]
      },
      {
       "output_type": "stream",
       "stream": "stdout",
       "text": [
        " ('power', 'active')\n",
        "Calculating energy for column ('power', 'active')\n",
        "Calculating energy for column"
       ]
      },
      {
       "output_type": "stream",
       "stream": "stdout",
       "text": [
        " ('power', 'active')\n",
        "Calculating energy for column"
       ]
      },
      {
       "output_type": "stream",
       "stream": "stdout",
       "text": [
        " ('power', 'active')\n",
        "Calculating energy for column ('power', 'active')\n",
        "Calculating energy for column ('power', 'active')\n",
        "Calculating energy for column"
       ]
      },
      {
       "output_type": "stream",
       "stream": "stdout",
       "text": [
        " ('power', 'active')\n",
        "Calculating energy for column ('power', 'active')\n",
        "Calculating energy for column ('power', 'active')\n",
        "Calculating energy for column"
       ]
      },
      {
       "output_type": "stream",
       "stream": "stdout",
       "text": [
        " ('power', 'active')\n",
        "Calculating energy for column"
       ]
      },
      {
       "output_type": "stream",
       "stream": "stdout",
       "text": [
        " ('power', 'active')\n",
        "Calculating energy for column"
       ]
      },
      {
       "output_type": "stream",
       "stream": "stdout",
       "text": [
        " ('power', 'active')\n",
        "Calculating energy for column"
       ]
      },
      {
       "output_type": "stream",
       "stream": "stdout",
       "text": [
        " ('power', 'active')\n",
        "Calculating energy for column ('power', 'active')\n",
        "Calculating energy for column"
       ]
      },
      {
       "output_type": "stream",
       "stream": "stdout",
       "text": [
        " ('power', 'active')\n",
        "Calculating energy for column"
       ]
      },
      {
       "output_type": "stream",
       "stream": "stdout",
       "text": [
        " ('power', 'active')\n",
        "Calculating energy for column"
       ]
      },
      {
       "output_type": "stream",
       "stream": "stdout",
       "text": [
        " ('power', 'active')\n",
        "Calculating energy for column"
       ]
      },
      {
       "output_type": "stream",
       "stream": "stdout",
       "text": [
        " ('power', 'active')\n",
        "Calculating energy for column"
       ]
      },
      {
       "output_type": "stream",
       "stream": "stdout",
       "text": [
        " ('power', 'active')\n",
        "Calculating energy for column ('power', 'active')\n",
        "Calculating energy for column ('power', 'active')\n",
        "Calculating energy for column"
       ]
      },
      {
       "output_type": "stream",
       "stream": "stdout",
       "text": [
        " ('power', 'active')\n",
        "Calculating energy for column ('power', 'active')\n",
        "Calculating energy for column"
       ]
      },
      {
       "output_type": "stream",
       "stream": "stdout",
       "text": [
        " ('power', 'active')\n",
        "Calculating energy for column ('power', 'active')\n",
        "Calculating energy for column ('power', 'active')\n",
        "Calculating energy for column"
       ]
      },
      {
       "output_type": "stream",
       "stream": "stdout",
       "text": [
        " ('power', 'active')\n",
        "Calculating energy for column ('power', 'active')\n",
        "Calculating energy for column ('power', 'active')\n",
        "Calculating energy for column"
       ]
      },
      {
       "output_type": "stream",
       "stream": "stdout",
       "text": [
        " ('power', 'active')\n",
        "Calculating energy for column"
       ]
      },
      {
       "output_type": "stream",
       "stream": "stdout",
       "text": [
        " ('power', 'active')\n",
        "Calculating energy for column"
       ]
      },
      {
       "output_type": "stream",
       "stream": "stdout",
       "text": [
        " ('power', 'active')\n",
        "Calculating energy for column ('power', 'active')\n",
        "Calculating energy for column"
       ]
      },
      {
       "output_type": "stream",
       "stream": "stdout",
       "text": [
        " ('power', 'active')\n",
        "Calculating energy for column"
       ]
      },
      {
       "output_type": "stream",
       "stream": "stdout",
       "text": [
        " ('power', 'active')\n",
        "Calculating energy for column"
       ]
      },
      {
       "output_type": "stream",
       "stream": "stdout",
       "text": [
        " ('power', 'active')\n",
        "Calculating energy for column ('power', 'active')\n",
        "Calculating energy for column ('power', 'active')\n",
        "Calculating energy for column ('power', 'active')\n",
        "Calculating energy for column"
       ]
      },
      {
       "output_type": "stream",
       "stream": "stdout",
       "text": [
        " ('power', 'active')\n",
        "Calculating energy for column ('power', 'active')\n",
        "Calculating energy for column ('power', 'active')\n",
        "Calculating energy for column"
       ]
      },
      {
       "output_type": "stream",
       "stream": "stdout",
       "text": [
        " ('power', 'active')\n",
        "Calculating energy for column ('power', 'active')\n",
        "Calculating energy for column"
       ]
      },
      {
       "output_type": "stream",
       "stream": "stdout",
       "text": [
        " ('power', 'active')\n",
        "Calculating energy for column ('power', 'active')\n",
        "Calculating energy for column ('power', 'active')\n",
        "Calculating energy for column"
       ]
      },
      {
       "output_type": "stream",
       "stream": "stdout",
       "text": [
        " ('power', 'active')\n",
        "Calculating energy for column"
       ]
      },
      {
       "output_type": "stream",
       "stream": "stdout",
       "text": [
        " ('power', 'active')\n",
        "Calculating energy for column"
       ]
      },
      {
       "output_type": "stream",
       "stream": "stdout",
       "text": [
        " ('power', 'active')\n",
        "Calculating energy for column"
       ]
      },
      {
       "output_type": "stream",
       "stream": "stdout",
       "text": [
        " ('power', 'active')\n",
        "Calculating energy for column"
       ]
      },
      {
       "output_type": "stream",
       "stream": "stdout",
       "text": [
        " ('power', 'active')\n",
        "Calculating energy for column"
       ]
      },
      {
       "output_type": "stream",
       "stream": "stdout",
       "text": [
        " ('power', 'active')\n",
        "Calculating energy for column ('power', 'active')\n",
        "Calculating energy for column ('power', 'active')\n",
        "Calculating energy for column ('power', 'active')\n",
        "Calculating energy for column"
       ]
      },
      {
       "output_type": "stream",
       "stream": "stdout",
       "text": [
        " ('power', 'active')\n",
        "Calculating energy for column ('power', 'active')\n",
        "Calculating energy for column ('power', 'active')\n",
        "Calculating energy for column"
       ]
      },
      {
       "output_type": "stream",
       "stream": "stdout",
       "text": [
        " ('power', 'active')\n",
        "Calculating energy for column ('power', 'active')\n",
        "Calculating energy for column ('power', 'active')\n",
        "Calculating energy for column"
       ]
      },
      {
       "output_type": "stream",
       "stream": "stdout",
       "text": [
        " ('power', 'active')\n",
        "Calculating energy for column"
       ]
      },
      {
       "output_type": "stream",
       "stream": "stdout",
       "text": [
        " ('power', 'active')\n",
        "Calculating energy for column"
       ]
      },
      {
       "output_type": "stream",
       "stream": "stdout",
       "text": [
        " ('power', 'active')\n",
        "Calculating energy for column"
       ]
      },
      {
       "output_type": "stream",
       "stream": "stdout",
       "text": [
        " ('power', 'active')\n",
        "Calculating energy for column"
       ]
      },
      {
       "output_type": "stream",
       "stream": "stdout",
       "text": [
        " ('power', 'active')\n",
        "Calculating energy for column ('power', 'active')\n",
        "Calculating energy for column"
       ]
      },
      {
       "output_type": "stream",
       "stream": "stdout",
       "text": [
        " ('power', 'active')\n",
        "Calculating energy for column ('power', 'active')\n",
        "Calculating energy for column "
       ]
      },
      {
       "output_type": "stream",
       "stream": "stdout",
       "text": [
        "('power', 'active')\n",
        "Calculating energy for column ('power', 'active')\n",
        "Calculating energy for column ('power', 'active')\n",
        "Calculating energy for column"
       ]
      },
      {
       "output_type": "stream",
       "stream": "stdout",
       "text": [
        " ('power', 'active')\n",
        "Calculating energy for column ('power', 'active')\n",
        "Calculating energy for column ('power', 'active')\n",
        "Calculating energy for column"
       ]
      },
      {
       "output_type": "stream",
       "stream": "stdout",
       "text": [
        " ('power', 'active')\n",
        "Calculating energy for column ('power', 'active')\n",
        "Calculating energy for column ('power', 'active')\n",
        "Calculating energy for column"
       ]
      },
      {
       "output_type": "stream",
       "stream": "stdout",
       "text": [
        " ('power', 'active')\n",
        "Calculating energy for column ('power', 'active')\n",
        "Calculating energy for column"
       ]
      },
      {
       "output_type": "stream",
       "stream": "stdout",
       "text": [
        " ('power', 'active')\n",
        "Calculating energy for column"
       ]
      },
      {
       "output_type": "stream",
       "stream": "stdout",
       "text": [
        " ('power', 'active')\n",
        "Calculating energy for column ('power', 'active')\n",
        "Calculating energy for column"
       ]
      },
      {
       "output_type": "stream",
       "stream": "stdout",
       "text": [
        " ('power', 'active')\n",
        "Calculating energy for column"
       ]
      },
      {
       "output_type": "stream",
       "stream": "stdout",
       "text": [
        " ('power', 'active')\n",
        "Calculating energy for column"
       ]
      },
      {
       "output_type": "stream",
       "stream": "stdout",
       "text": [
        " ('power', 'active')\n",
        "Calculating energy for column ('power', 'active')\n",
        "Calculating energy for column"
       ]
      },
      {
       "output_type": "stream",
       "stream": "stderr",
       "text": [
        "/home/dk3810/workspace/python/nilmtk/nilmtk/elecmeter.py:104: UserWarning: There is no meter upstream of this meter 'ElecMeterID(instance=20, building=2, dataset='UK-DALE')' because it is a site meter.\n",
        "  .format(self.identifier))\n",
        "/home/dk3810/workspace/python/nilmtk/nilmtk/elecmeter.py:104: UserWarning: There is no meter upstream of this meter 'ElecMeterID(instance=1, building=3, dataset='UK-DALE')' because it is a site meter.\n",
        "  .format(self.identifier))\n"
       ]
      },
      {
       "output_type": "stream",
       "stream": "stdout",
       "text": [
        " ('power', 'active')\n",
        "\r",
        "Loading data for meter"
       ]
      },
      {
       "output_type": "stream",
       "stream": "stdout",
       "text": [
        " <bound method ElecMeter.instance of ElecMeter(instance=5, building=3, dataset='UK-DALE', appliances=[Appliance(type='projector', instance=1)])>     "
       ]
      },
      {
       "output_type": "stream",
       "stream": "stdout",
       "text": [
        "\r",
        "Loading data for meter <bound method ElecMeter.instance of ElecMeter(instance=2, building=3, dataset='UK-DALE', appliances=[Appliance(type='kettle', instance=1)])>     "
       ]
      },
      {
       "output_type": "stream",
       "stream": "stdout",
       "text": [
        "\r",
        "Loading data for meter <bound method ElecMeter.instance of ElecMeter(instance=4, building=3, dataset='UK-DALE', appliances=[Appliance(type='laptop computer', instance=1)])>     "
       ]
      },
      {
       "output_type": "stream",
       "stream": "stdout",
       "text": [
        "\r",
        "Loading data for meter <bound method ElecMeter.instance of ElecMeter(instance=3, building=3, dataset='UK-DALE', appliances=[Appliance(type='electric space heater', instance=1)])>     "
       ]
      },
      {
       "output_type": "stream",
       "stream": "stdout",
       "text": [
        "\r",
        "Loading data for meter <bound method ElecMeter.instance of ElecMeter(instance=5, building=3, dataset='UK-DALE', appliances=[Appliance(type='projector', instance=1)])>     "
       ]
      },
      {
       "output_type": "stream",
       "stream": "stdout",
       "text": [
        "\r",
        "Loading data for meter <bound method ElecMeter.instance of ElecMeter(instance=2, building=3, dataset='UK-DALE', appliances=[Appliance(type='kettle', instance=1)])>     "
       ]
      },
      {
       "output_type": "stream",
       "stream": "stdout",
       "text": [
        "\r",
        "Loading data for meter <bound method ElecMeter.instance of ElecMeter(instance=4, building=3, dataset='UK-DALE', appliances=[Appliance(type='laptop computer', instance=1)])>     "
       ]
      },
      {
       "output_type": "stream",
       "stream": "stdout",
       "text": [
        "\r",
        "Loading data for meter <bound method ElecMeter.instance of ElecMeter(instance=3, building=3, dataset='UK-DALE', appliances=[Appliance(type='electric space heater', instance=1)])>     "
       ]
      },
      {
       "output_type": "stream",
       "stream": "stdout",
       "text": [
        "\r",
        "Loading data for meter <bound method ElecMeter.instance of ElecMeter(instance=5, building=3, dataset='UK-DALE', appliances=[Appliance(type='projector', instance=1)])>     "
       ]
      },
      {
       "output_type": "stream",
       "stream": "stdout",
       "text": [
        "\r",
        "Loading data for meter <bound method ElecMeter.instance of ElecMeter(instance=2, building=3, dataset='UK-DALE', appliances=[Appliance(type='kettle', instance=1)])>     "
       ]
      },
      {
       "output_type": "stream",
       "stream": "stdout",
       "text": [
        "\r",
        "Loading data for meter <bound method ElecMeter.instance of ElecMeter(instance=4, building=3, dataset='UK-DALE', appliances=[Appliance(type='laptop computer', instance=1)])>     "
       ]
      },
      {
       "output_type": "stream",
       "stream": "stdout",
       "text": [
        "\r",
        "Loading data for meter <bound method ElecMeter.instance of ElecMeter(instance=3, building=3, dataset='UK-DALE', appliances=[Appliance(type='electric space heater', instance=1)])>     "
       ]
      },
      {
       "output_type": "stream",
       "stream": "stdout",
       "text": [
        "Calculating energy for column ('power', 'apparent')\n",
        "Calculating energy for column ('power', 'apparent')\n",
        "Calculating energy for column ('power', 'apparent')\n",
        "Calculating energy for column ('power', 'apparent')\n",
        "Calculating energy for column ('power', 'apparent')\n",
        "Calculating energy for column"
       ]
      },
      {
       "output_type": "stream",
       "stream": "stdout",
       "text": [
        " ('power', 'apparent')\n",
        "Calculating energy for column ('power', 'apparent')\n",
        "Calculating energy for column ('power', 'apparent')\n",
        "Calculating energy for column ('power', 'apparent')\n",
        "Calculating energy for column"
       ]
      },
      {
       "output_type": "stream",
       "stream": "stdout",
       "text": [
        " ('power', 'apparent')\n",
        "Calculating energy for column ('power', 'apparent')\n",
        "Calculating energy for column ('power', 'apparent')\n",
        "Calculating energy for column ('power', 'apparent')\n",
        "Calculating energy for column ('power', 'apparent')\n",
        "Calculating energy for column"
       ]
      },
      {
       "output_type": "stream",
       "stream": "stdout",
       "text": [
        " ('power', 'apparent')\n",
        "Calculating energy for column ('power', 'apparent')\n",
        "Calculating energy for column ('power', 'apparent')\n",
        "Calculating energy for column ('power', 'apparent')\n",
        "Calculating energy for column ('power', 'apparent')\n",
        "Calculating energy for column"
       ]
      },
      {
       "output_type": "stream",
       "stream": "stdout",
       "text": [
        " ('power', 'apparent')\n",
        "Calculating energy for column ('power', 'apparent')\n",
        "Calculating energy for column ('power', 'apparent')\n",
        "Calculating energy for column ('power', 'apparent')\n",
        "Calculating energy for column"
       ]
      },
      {
       "output_type": "stream",
       "stream": "stdout",
       "text": [
        " ('power', 'apparent')\n",
        "Calculating energy for column ('power', 'apparent')\n",
        "Calculating energy for column ('power', 'apparent')\n",
        "Calculating energy for column ('power', 'apparent')\n",
        "Calculating energy for column"
       ]
      },
      {
       "output_type": "stream",
       "stream": "stdout",
       "text": [
        " ('power', 'apparent')\n",
        "Calculating energy for column ('power', 'apparent')\n",
        "Calculating energy for column ('power', 'apparent')\n",
        "Calculating energy for column"
       ]
      },
      {
       "output_type": "stream",
       "stream": "stdout",
       "text": [
        " ('power', 'apparent')\n",
        "Calculating energy for column ('power', 'apparent')\n",
        "Calculating energy for column ('power', 'apparent')\n",
        "Calculating energy for column"
       ]
      },
      {
       "output_type": "stream",
       "stream": "stdout",
       "text": [
        " ('power', 'apparent')\n",
        "Calculating energy for column ('power', 'apparent')\n",
        "Calculating energy for column"
       ]
      },
      {
       "output_type": "stream",
       "stream": "stdout",
       "text": [
        " ('power', 'apparent')\n",
        "Calculating energy for column ('power', 'apparent')\n",
        "Calculating energy for column ('power', 'apparent')\n",
        "Calculating energy for column ('power', 'apparent')\n",
        "Calculating energy for column"
       ]
      },
      {
       "output_type": "stream",
       "stream": "stdout",
       "text": [
        " ('power', 'apparent')\n",
        "Calculating energy for column ('power', 'apparent')\n",
        "Calculating energy for column ('power', 'apparent')\n",
        "Calculating energy for column"
       ]
      },
      {
       "output_type": "stream",
       "stream": "stdout",
       "text": [
        " ('power', 'apparent')\n",
        "Calculating energy for column ('power', 'apparent')\n",
        "Calculating energy for column ('power', 'apparent')\n",
        "Calculating energy for column ('power', 'apparent')\n",
        "Calculating energy for column"
       ]
      },
      {
       "output_type": "stream",
       "stream": "stdout",
       "text": [
        " ('power', 'apparent')\n",
        "Calculating energy for column ('power', 'apparent')\n",
        "Calculating energy for column ('power', 'apparent')\n",
        "Calculating energy for column"
       ]
      },
      {
       "output_type": "stream",
       "stream": "stdout",
       "text": [
        " ('power', 'apparent')\n",
        "Calculating energy for column ('power', 'apparent')\n",
        "Calculating energy for column ('power', 'apparent')\n",
        "Calculating energy for column"
       ]
      },
      {
       "output_type": "stream",
       "stream": "stdout",
       "text": [
        " ('power', 'apparent')\n",
        "Calculating energy for column ('power', 'apparent')\n",
        "Calculating energy for column ('power', 'apparent')\n",
        "Calculating energy for column"
       ]
      },
      {
       "output_type": "stream",
       "stream": "stdout",
       "text": [
        " ('power', 'apparent')\n",
        "Calculating energy for column ('power', 'apparent')\n",
        "Calculating energy for column ('power', 'apparent')\n",
        "Calculating energy for column"
       ]
      },
      {
       "output_type": "stream",
       "stream": "stdout",
       "text": [
        " ('power', 'apparent')\n",
        "Calculating energy for column ('power', 'apparent')\n",
        "Calculating energy for column"
       ]
      },
      {
       "output_type": "stream",
       "stream": "stdout",
       "text": [
        " ('power', 'apparent')\n",
        "Calculating energy for column ('power', 'apparent')\n",
        "Calculating energy for column"
       ]
      },
      {
       "output_type": "stream",
       "stream": "stdout",
       "text": [
        " ('power', 'active')\n",
        "Calculating energy for column ('power', 'active')\n",
        "Calculating energy for column ('power', 'active')\n",
        "Calculating energy for column ('power', 'active')\n",
        "Calculating energy for column ('power', 'active')\n",
        "Calculating energy for column"
       ]
      },
      {
       "output_type": "stream",
       "stream": "stdout",
       "text": [
        " ('power', 'active')\n",
        "Calculating energy for column ('power', 'active')\n",
        "Calculating energy for column ('power', 'active')\n",
        "Calculating energy for column ('power', 'active')\n",
        "Calculating energy for column ('power', 'active')\n",
        "Calculating energy for column"
       ]
      },
      {
       "output_type": "stream",
       "stream": "stdout",
       "text": [
        " ('power', 'active')\n",
        "Calculating energy for column ('power', 'active')\n",
        "Calculating energy for column ('power', 'active')\n",
        "Calculating energy for column ('power', 'active')\n",
        "Calculating energy for column"
       ]
      },
      {
       "output_type": "stream",
       "stream": "stdout",
       "text": [
        " ('power', 'active')\n",
        "Calculating energy for column ('power', 'active')\n",
        "Calculating energy for column ('power', 'active')\n",
        "Calculating energy for column ('power', 'active')\n",
        "Calculating energy for column"
       ]
      },
      {
       "output_type": "stream",
       "stream": "stdout",
       "text": [
        " ('power', 'active')\n",
        "Calculating energy for column ('power', 'active')\n",
        "Calculating energy for column ('power', 'active')\n",
        "Calculating energy for column ('power', 'active')\n",
        "Calculating energy for column"
       ]
      },
      {
       "output_type": "stream",
       "stream": "stdout",
       "text": [
        " ('power', 'active')\n",
        "Calculating energy for column ('power', 'active')\n",
        "Calculating energy for column ('power', 'active')\n",
        "Calculating energy for column ('power', 'active')\n",
        "Calculating energy for column"
       ]
      },
      {
       "output_type": "stream",
       "stream": "stdout",
       "text": [
        " ('power', 'active')\n",
        "Calculating energy for column ('power', 'active')\n",
        "Calculating energy for column ('power', 'active')\n",
        "Calculating energy for column ('power', 'active')\n",
        "Calculating energy for column"
       ]
      },
      {
       "output_type": "stream",
       "stream": "stdout",
       "text": [
        " ('power', 'active')\n",
        "Calculating energy for column ('power', 'active')\n",
        "Calculating energy for column ('power', 'active')\n",
        "Calculating energy for column"
       ]
      },
      {
       "output_type": "stream",
       "stream": "stdout",
       "text": [
        " ('power', 'active')\n",
        "Calculating energy for column ('power', 'active')\n",
        "Calculating energy for column ('power', 'active')\n",
        "Calculating energy for column"
       ]
      },
      {
       "output_type": "stream",
       "stream": "stdout",
       "text": [
        " ('power', 'active')\n",
        "Calculating energy for column ('power', 'active')\n",
        "Calculating energy for column ('power', 'active')\n",
        "Calculating energy for column ('power', 'active')\n",
        "Calculating energy for column"
       ]
      },
      {
       "output_type": "stream",
       "stream": "stdout",
       "text": [
        " ('power', 'active')\n",
        "Calculating energy for column ('power', 'active')\n",
        "Calculating energy for column ('power', 'active')\n",
        "Calculating energy for column"
       ]
      },
      {
       "output_type": "stream",
       "stream": "stdout",
       "text": [
        " ('power', 'active')\n",
        "Calculating energy for column ('power', 'active')\n",
        "Calculating energy for column ('power', 'active')\n",
        "Calculating energy for column ('power', 'active')\n",
        "Calculating energy for column"
       ]
      },
      {
       "output_type": "stream",
       "stream": "stdout",
       "text": [
        " ('power', 'active')\n",
        "Calculating energy for column ('power', 'active')\n",
        "Calculating energy for column ('power', 'active')\n",
        "Calculating energy for column"
       ]
      },
      {
       "output_type": "stream",
       "stream": "stdout",
       "text": [
        " ('power', 'active')\n",
        "Calculating energy for column ('power', 'active')\n",
        "Calculating energy for column ('power', 'active')\n",
        "Calculating energy for column"
       ]
      },
      {
       "output_type": "stream",
       "stream": "stdout",
       "text": [
        " ('power', 'active')\n",
        "Calculating energy for column ('power', 'active')\n",
        "Calculating energy for column ('power', 'active')\n",
        "Calculating energy for column"
       ]
      },
      {
       "output_type": "stream",
       "stream": "stdout",
       "text": [
        " ('power', 'active')\n",
        "Calculating energy for column ('power', 'active')\n",
        "Calculating energy for column ('power', 'active')\n",
        "Calculating energy for column"
       ]
      },
      {
       "output_type": "stream",
       "stream": "stdout",
       "text": [
        " ('power', 'active')\n",
        "Calculating energy for column ('power', 'active')\n",
        "Calculating energy for column"
       ]
      },
      {
       "output_type": "stream",
       "stream": "stdout",
       "text": [
        " ('power', 'active')\n",
        "Calculating energy for column ('power', 'active')\n",
        "Calculating energy for column"
       ]
      },
      {
       "output_type": "stream",
       "stream": "stdout",
       "text": [
        " ('power', 'active')\n",
        "Calculating energy for column ('power', 'active')\n",
        "Calculating energy for column ('power', 'active')\n",
        "Calculating energy for column"
       ]
      },
      {
       "output_type": "stream",
       "stream": "stdout",
       "text": [
        " ('power', 'active')\n",
        "Calculating energy for column ('power', 'active')\n",
        "Calculating energy for column ('power', 'active')\n",
        "Calculating energy for column ('power', 'active')\n",
        "Calculating energy for column"
       ]
      },
      {
       "output_type": "stream",
       "stream": "stdout",
       "text": [
        " ('power', 'active')\n",
        "Calculating energy for column ('power', 'active')\n",
        "Calculating energy for column ('power', 'active')\n",
        "Calculating energy for column ('power', 'active')\n",
        "Calculating energy for column"
       ]
      },
      {
       "output_type": "stream",
       "stream": "stdout",
       "text": [
        " ('power', 'active')\n",
        "Calculating energy for column ('power', 'active')\n",
        "Calculating energy for column ('power', 'active')\n",
        "Calculating energy for column ('power', 'active')\n",
        "Calculating energy for column"
       ]
      },
      {
       "output_type": "stream",
       "stream": "stdout",
       "text": [
        " ('power', 'active')\n",
        "Calculating energy for column ('power', 'active')\n",
        "Calculating energy for column ('power', 'active')\n",
        "Calculating energy for column ('power', 'active')\n",
        "Calculating energy for column"
       ]
      },
      {
       "output_type": "stream",
       "stream": "stdout",
       "text": [
        " ('power', 'active')\n",
        "Calculating energy for column ('power', 'active')\n",
        "Calculating energy for column ('power', 'active')\n",
        "Calculating energy for column ('power', 'active')\n",
        "Calculating energy for column"
       ]
      },
      {
       "output_type": "stream",
       "stream": "stdout",
       "text": [
        " ('power', 'active')\n",
        "Calculating energy for column ('power', 'active')\n",
        "Calculating energy for column ('power', 'active')\n",
        "Calculating energy for column ('power', 'active')\n",
        "Calculating energy for column ('power', 'active')\n",
        "Calculating energy for column"
       ]
      },
      {
       "output_type": "stream",
       "stream": "stdout",
       "text": [
        " ('power', 'active')\n",
        "Calculating energy for column ('power', 'active')\n",
        "Calculating energy for column ('power', 'active')\n",
        "Calculating energy for column"
       ]
      },
      {
       "output_type": "stream",
       "stream": "stdout",
       "text": [
        " ('power', 'active')\n",
        "Calculating energy for column ('power', 'active')\n",
        "Calculating energy for column"
       ]
      },
      {
       "output_type": "stream",
       "stream": "stdout",
       "text": [
        " ('power', 'active')\n",
        "Calculating energy for column ('power', 'active')\n",
        "Calculating energy for column ('power', 'active')\n",
        "Calculating energy for column"
       ]
      },
      {
       "output_type": "stream",
       "stream": "stdout",
       "text": [
        " ('power', 'active')\n",
        "Calculating energy for column ('power', 'active')\n",
        "Calculating energy for column"
       ]
      },
      {
       "output_type": "stream",
       "stream": "stdout",
       "text": [
        " ('power', 'active')\n",
        "Calculating energy for column ('power', 'active')\n",
        "Calculating energy for column ('power', 'active')\n",
        "Calculating energy for column ('power', 'active')\n",
        "Calculating energy for column"
       ]
      },
      {
       "output_type": "stream",
       "stream": "stdout",
       "text": [
        " ('power', 'active')\n",
        "Calculating energy for column ('power', 'active')\n",
        "Calculating energy for column"
       ]
      },
      {
       "output_type": "stream",
       "stream": "stdout",
       "text": [
        " ('power', 'active')\n",
        "Calculating energy for column ('power', 'active')\n",
        "Calculating energy for column ('power', 'active')\n",
        "Calculating energy for column ('power', 'active')\n",
        "Calculating energy for column"
       ]
      },
      {
       "output_type": "stream",
       "stream": "stdout",
       "text": [
        " ('power', 'active')\n",
        "Calculating energy for column ('power', 'active')\n",
        "Calculating energy for column ('power', 'active')\n",
        "Calculating energy for column"
       ]
      },
      {
       "output_type": "stream",
       "stream": "stdout",
       "text": [
        " ('power', 'active')\n",
        "Calculating energy for column ('power', 'active')\n",
        "Calculating energy for column ('power', 'active')\n",
        "Calculating energy for column"
       ]
      },
      {
       "output_type": "stream",
       "stream": "stdout",
       "text": [
        " ('power', 'active')\n",
        "Calculating energy for column ('power', 'active')\n",
        "Calculating energy for column ('power', 'active')\n",
        "Calculating energy for column"
       ]
      },
      {
       "output_type": "stream",
       "stream": "stdout",
       "text": [
        " ('power', 'active')\n",
        "Calculating energy for column ('power', 'active')\n",
        "Calculating energy for column"
       ]
      },
      {
       "output_type": "stream",
       "stream": "stdout",
       "text": [
        " ('power', 'active')\n",
        "Calculating energy for column ('power', 'active')\n",
        "Calculating energy for column"
       ]
      },
      {
       "output_type": "stream",
       "stream": "stdout",
       "text": [
        " ('power', 'active')\n",
        "Calculating energy for column ('power', 'active')\n",
        "Calculating energy for column"
       ]
      },
      {
       "output_type": "stream",
       "stream": "stdout",
       "text": [
        " ('power', 'active')\n",
        "Calculating energy for column ('power', 'active')\n",
        "Calculating energy for column ('power', 'active')\n",
        "Calculating energy for column"
       ]
      },
      {
       "output_type": "stream",
       "stream": "stdout",
       "text": [
        " ('power', 'active')\n",
        "Calculating energy for column ('power', 'active')\n",
        "Calculating energy for column ('power', 'active')\n",
        "Calculating energy for column ('power', 'active')\n",
        "Calculating energy for column"
       ]
      },
      {
       "output_type": "stream",
       "stream": "stdout",
       "text": [
        " ('power', 'active')\n",
        "Calculating energy for column ('power', 'active')\n",
        "Calculating energy for column ('power', 'active')\n",
        "Calculating energy for column ('power', 'active')\n",
        "Calculating energy for column"
       ]
      },
      {
       "output_type": "stream",
       "stream": "stdout",
       "text": [
        " ('power', 'active')\n",
        "Calculating energy for column ('power', 'active')\n",
        "Calculating energy for column ('power', 'active')\n",
        "Calculating energy for column ('power', 'active')\n",
        "Calculating energy for column"
       ]
      },
      {
       "output_type": "stream",
       "stream": "stdout",
       "text": [
        " ('power', 'active')\n",
        "Calculating energy for column ('power', 'active')\n",
        "Calculating energy for column ('power', 'active')\n",
        "Calculating energy for column ('power', 'active')\n",
        "Calculating energy for column ('power', 'active')\n",
        "Calculating energy for column"
       ]
      },
      {
       "output_type": "stream",
       "stream": "stdout",
       "text": [
        " ('power', 'active')\n",
        "Calculating energy for column ('power', 'active')\n",
        "Calculating energy for column ('power', 'active')\n",
        "Calculating energy for column"
       ]
      },
      {
       "output_type": "stream",
       "stream": "stdout",
       "text": [
        " ('power', 'active')\n",
        "Calculating energy for column ('power', 'active')\n",
        "Calculating energy for column ('power', 'active')\n",
        "Calculating energy for column"
       ]
      },
      {
       "output_type": "stream",
       "stream": "stdout",
       "text": [
        " ('power', 'active')\n",
        "Calculating energy for column ('power', 'active')\n",
        "Calculating energy for column ('power', 'active')\n",
        "Calculating energy for column"
       ]
      },
      {
       "output_type": "stream",
       "stream": "stdout",
       "text": [
        " ('power', 'active')\n",
        "Calculating energy for column ('power', 'active')\n",
        "Calculating energy for column ('power', 'active')\n",
        "Calculating energy for column"
       ]
      },
      {
       "output_type": "stream",
       "stream": "stdout",
       "text": [
        " ('power', 'active')\n",
        "Calculating energy for column ('power', 'active')\n",
        "Calculating energy for column ('power', 'active')\n",
        "Calculating energy for column"
       ]
      },
      {
       "output_type": "stream",
       "stream": "stdout",
       "text": [
        " ('power', 'active')\n",
        "Calculating energy for column ('power', 'active')\n",
        "Calculating energy for column ('power', 'active')\n",
        "Calculating energy for column ('power', 'active')\n",
        "Calculating energy for column"
       ]
      },
      {
       "output_type": "stream",
       "stream": "stdout",
       "text": [
        " ('power', 'active')\n",
        "Calculating energy for column ('power', 'active')\n",
        "Calculating energy for column ('power', 'active')\n",
        "Calculating energy for column ('power', 'active')\n",
        "Calculating energy for column"
       ]
      },
      {
       "output_type": "stream",
       "stream": "stdout",
       "text": [
        " ('power', 'active')\n",
        "Calculating energy for column ('power', 'active')\n",
        "Calculating energy for column ('power', 'active')\n",
        "Calculating energy for column"
       ]
      },
      {
       "output_type": "stream",
       "stream": "stdout",
       "text": [
        " ('power', 'active')\n",
        "Calculating energy for column ('power', 'active')\n",
        "Calculating energy for column ('power', 'active')\n",
        "Calculating energy for column"
       ]
      },
      {
       "output_type": "stream",
       "stream": "stdout",
       "text": [
        " ('power', 'active')\n",
        "Calculating energy for column ('power', 'active')\n",
        "Calculating energy for column ('power', 'active')\n",
        "Calculating energy for column"
       ]
      },
      {
       "output_type": "stream",
       "stream": "stdout",
       "text": [
        " ('power', 'active')\n",
        "Calculating energy for column ('power', 'active')\n",
        "Calculating energy for column ('power', 'active')\n",
        "Calculating energy for column ('power', 'active')\n",
        "Calculating energy for column"
       ]
      },
      {
       "output_type": "stream",
       "stream": "stdout",
       "text": [
        " ('power', 'active')\n",
        "Calculating energy for column ('power', 'active')\n",
        "Calculating energy for column ('power', 'active')\n",
        "Calculating energy for column"
       ]
      },
      {
       "output_type": "stream",
       "stream": "stdout",
       "text": [
        " ('power', 'active')\n",
        "Calculating energy for column ('power', 'active')\n",
        "Calculating energy for column"
       ]
      },
      {
       "output_type": "stream",
       "stream": "stdout",
       "text": [
        " ('power', 'active')\n",
        "Calculating energy for column ('power', 'active')\n",
        "Calculating energy for column ('power', 'active')\n",
        "Calculating energy for column ('power', 'active')\n",
        "Calculating energy for column"
       ]
      },
      {
       "output_type": "stream",
       "stream": "stdout",
       "text": [
        " ('power', 'active')\n",
        "Calculating energy for column ('power', 'active')\n",
        "Calculating energy for column ('power', 'active')\n",
        "Calculating energy for column ('power', 'active')\n",
        "Calculating energy for column"
       ]
      },
      {
       "output_type": "stream",
       "stream": "stdout",
       "text": [
        " ('power', 'active')\n",
        "Calculating energy for column ('power', 'active')\n",
        "Calculating energy for column ('power', 'active')\n",
        "Calculating energy for column ('power', 'active')\n",
        "Calculating energy for column ('power', 'active')\n",
        "Calculating energy for column"
       ]
      },
      {
       "output_type": "stream",
       "stream": "stdout",
       "text": [
        " ('power', 'active')\n",
        "Calculating energy for column ('power', 'active')\n",
        "Calculating energy for column ('power', 'active')\n",
        "Calculating energy for column ('power', 'active')\n",
        "Calculating energy for column"
       ]
      },
      {
       "output_type": "stream",
       "stream": "stdout",
       "text": [
        " ('power', 'active')\n",
        "Calculating energy for column ('power', 'active')\n",
        "Calculating energy for column ('power', 'active')\n",
        "Calculating energy for column ('power', 'active')\n",
        "Calculating energy for column"
       ]
      },
      {
       "output_type": "stream",
       "stream": "stdout",
       "text": [
        " ('power', 'active')\n",
        "Calculating energy for column ('power', 'active')\n",
        "Calculating energy for column ('power', 'active')\n",
        "Calculating energy for column ('power', 'active')\n",
        "Calculating energy for column ('power', 'active')\n",
        "Calculating energy for column"
       ]
      },
      {
       "output_type": "stream",
       "stream": "stdout",
       "text": [
        " ('power', 'active')\n",
        "Calculating energy for column ('power', 'active')\n",
        "Calculating energy for column ('power', 'active')\n",
        "Calculating energy for column ('power', 'active')\n",
        "Calculating energy for column"
       ]
      },
      {
       "output_type": "stream",
       "stream": "stdout",
       "text": [
        " ('power', 'active')\n",
        "Calculating energy for column ('power', 'active')\n",
        "Calculating energy for column ('power', 'active')\n",
        "Calculating energy for column"
       ]
      },
      {
       "output_type": "stream",
       "stream": "stdout",
       "text": [
        " ('power', 'active')\n",
        "Calculating energy for column ('power', 'active')\n",
        "Calculating energy for column"
       ]
      },
      {
       "output_type": "stream",
       "stream": "stdout",
       "text": [
        " ('power', 'active')\n",
        "Calculating energy for column ('power', 'active')\n",
        "Calculating energy for column ('power', 'active')\n",
        "Calculating energy for column"
       ]
      },
      {
       "output_type": "stream",
       "stream": "stdout",
       "text": [
        " ('power', 'active')\n",
        "Calculating energy for column ('power', 'active')\n",
        "Calculating energy for column ('power', 'active')\n",
        "Calculating energy for column"
       ]
      },
      {
       "output_type": "stream",
       "stream": "stdout",
       "text": [
        " ('power', 'active')\n",
        "Calculating energy for column ('power', 'active')\n",
        "Calculating energy for column"
       ]
      },
      {
       "output_type": "stream",
       "stream": "stdout",
       "text": [
        " ('power', 'active')\n",
        "Calculating energy for column ('power', 'active')\n",
        "Calculating energy for column"
       ]
      },
      {
       "output_type": "stream",
       "stream": "stdout",
       "text": [
        " ('power', 'active')\n",
        "Calculating energy for column ('power', 'active')\n",
        "Calculating energy for column ('power', 'active')\n",
        "Calculating energy for column"
       ]
      },
      {
       "output_type": "stream",
       "stream": "stdout",
       "text": [
        " ('power', 'active')\n",
        "Calculating energy for column ('power', 'active')\n",
        "Calculating energy for column ('power', 'active')\n",
        "Calculating energy for column"
       ]
      },
      {
       "output_type": "stream",
       "stream": "stdout",
       "text": [
        " ('power', 'active')\n",
        "Calculating energy for column ('power', 'active')\n",
        "Calculating energy for column ('power', 'active')\n",
        "Calculating energy for column ('power', 'active')\n",
        "Calculating energy for column"
       ]
      },
      {
       "output_type": "stream",
       "stream": "stdout",
       "text": [
        " ('power', 'active')\n",
        "Calculating energy for column ('power', 'active')\n",
        "Calculating energy for column ('power', 'active')\n",
        "Calculating energy for column ('power', 'active')\n",
        "Calculating energy for column"
       ]
      },
      {
       "output_type": "stream",
       "stream": "stdout",
       "text": [
        " ('power', 'active')\n",
        "Calculating energy for column ('power', 'active')\n",
        "Calculating energy for column ('power', 'active')\n",
        "Calculating energy for column"
       ]
      },
      {
       "output_type": "stream",
       "stream": "stderr",
       "text": [
        "/home/dk3810/workspace/python/nilmtk/nilmtk/electric.py:242: UserWarning: No shared AC types.  Using 'active' for submeter and 'apparent' for other.\n",
        "  \" and '{:s}' for other.\".format(ac_type, other_ac_type))\n",
        "/home/dk3810/workspace/python/nilmtk/nilmtk/elecmeter.py:104: UserWarning: There is no meter upstream of this meter 'ElecMeterID(instance=1, building=4, dataset='UK-DALE')' because it is a site meter.\n",
        "  .format(self.identifier))\n"
       ]
      },
      {
       "output_type": "stream",
       "stream": "stdout",
       "text": [
        " ('power', 'active')\n",
        "\r",
        "Loading data for meter"
       ]
      },
      {
       "output_type": "stream",
       "stream": "stdout",
       "text": [
        " <bound method ElecMeter.instance of ElecMeter(instance=5, building=4, dataset='UK-DALE', appliances=[Appliance(type='freezer', instance=1)])>     "
       ]
      },
      {
       "output_type": "stream",
       "stream": "stdout",
       "text": [
        "\r",
        "Loading data for meter <bound method ElecMeter.instance of ElecMeter(instance=6, building=4, dataset='UK-DALE', appliances=[Appliance(type='washing machine', instance=1), Appliance(type='microwave', instance=1), Appliance(type='breadmaker', instance=1)])>     "
       ]
      },
      {
       "output_type": "stream",
       "stream": "stdout",
       "text": [
        "\r",
        "Loading data for meter <bound method ElecMeter.instance of ElecMeter(instance=3, building=4, dataset='UK-DALE', appliances=[Appliance(type='kettle', instance=1), Appliance(type='radio', instance=1)])>     "
       ]
      },
      {
       "output_type": "stream",
       "stream": "stdout",
       "text": [
        "\r",
        "Loading data for meter <bound method ElecMeter.instance of ElecMeter(instance=4, building=4, dataset='UK-DALE', appliances=[Appliance(type='boiler', instance=1)])>     "
       ]
      },
      {
       "output_type": "stream",
       "stream": "stdout",
       "text": [
        "\r",
        "Loading data for meter <bound method ElecMeter.instance of ElecMeter(instance=2, building=4, dataset='UK-DALE', appliances=[Appliance(type='television', instance=1), Appliance(type='DVD player', instance=1), Appliance(type='set top box', instance=1), Appliance(type='light', instance=1)])>     "
       ]
      },
      {
       "output_type": "stream",
       "stream": "stdout",
       "text": [
        "\r",
        "Loading data for meter <bound method ElecMeter.instance of ElecMeter(instance=5, building=4, dataset='UK-DALE', appliances=[Appliance(type='freezer', instance=1)])>     "
       ]
      },
      {
       "output_type": "stream",
       "stream": "stdout",
       "text": [
        "\r",
        "Loading data for meter <bound method ElecMeter.instance of ElecMeter(instance=6, building=4, dataset='UK-DALE', appliances=[Appliance(type='washing machine', instance=1), Appliance(type='microwave', instance=1), Appliance(type='breadmaker', instance=1)])>     "
       ]
      },
      {
       "output_type": "stream",
       "stream": "stdout",
       "text": [
        "\r",
        "Loading data for meter <bound method ElecMeter.instance of ElecMeter(instance=3, building=4, dataset='UK-DALE', appliances=[Appliance(type='kettle', instance=1), Appliance(type='radio', instance=1)])>     "
       ]
      },
      {
       "output_type": "stream",
       "stream": "stdout",
       "text": [
        "\r",
        "Loading data for meter <bound method ElecMeter.instance of ElecMeter(instance=4, building=4, dataset='UK-DALE', appliances=[Appliance(type='boiler', instance=1)])>     "
       ]
      },
      {
       "output_type": "stream",
       "stream": "stdout",
       "text": [
        "\r",
        "Loading data for meter <bound method ElecMeter.instance of ElecMeter(instance=2, building=4, dataset='UK-DALE', appliances=[Appliance(type='television', instance=1), Appliance(type='DVD player', instance=1), Appliance(type='set top box', instance=1), Appliance(type='light', instance=1)])>     "
       ]
      },
      {
       "output_type": "stream",
       "stream": "stdout",
       "text": [
        "\r",
        "Loading data for meter <bound method ElecMeter.instance of ElecMeter(instance=5, building=4, dataset='UK-DALE', appliances=[Appliance(type='freezer', instance=1)])>     "
       ]
      },
      {
       "output_type": "stream",
       "stream": "stdout",
       "text": [
        "\r",
        "Loading data for meter <bound method ElecMeter.instance of ElecMeter(instance=6, building=4, dataset='UK-DALE', appliances=[Appliance(type='washing machine', instance=1), Appliance(type='microwave', instance=1), Appliance(type='breadmaker', instance=1)])>     "
       ]
      },
      {
       "output_type": "stream",
       "stream": "stdout",
       "text": [
        "\r",
        "Loading data for meter <bound method ElecMeter.instance of ElecMeter(instance=3, building=4, dataset='UK-DALE', appliances=[Appliance(type='kettle', instance=1), Appliance(type='radio', instance=1)])>     "
       ]
      },
      {
       "output_type": "stream",
       "stream": "stdout",
       "text": [
        "\r",
        "Loading data for meter <bound method ElecMeter.instance of ElecMeter(instance=4, building=4, dataset='UK-DALE', appliances=[Appliance(type='boiler', instance=1)])>     "
       ]
      },
      {
       "output_type": "stream",
       "stream": "stdout",
       "text": [
        "\r",
        "Loading data for meter <bound method ElecMeter.instance of ElecMeter(instance=2, building=4, dataset='UK-DALE', appliances=[Appliance(type='television', instance=1), Appliance(type='DVD player', instance=1), Appliance(type='set top box', instance=1), Appliance(type='light', instance=1)])>     "
       ]
      },
      {
       "output_type": "stream",
       "stream": "stdout",
       "text": [
        "Calculating energy for column ('power', 'apparent')\n",
        "Calculating energy for column"
       ]
      },
      {
       "output_type": "stream",
       "stream": "stdout",
       "text": [
        " ('power', 'apparent')\n",
        "Calculating energy for column"
       ]
      },
      {
       "output_type": "stream",
       "stream": "stdout",
       "text": [
        " ('power', 'apparent')\n",
        "Calculating energy for column"
       ]
      },
      {
       "output_type": "stream",
       "stream": "stdout",
       "text": [
        " ('power', 'active')\n",
        "Calculating energy for column"
       ]
      },
      {
       "output_type": "stream",
       "stream": "stdout",
       "text": [
        " ('power', 'active')\n",
        "Calculating energy for column"
       ]
      },
      {
       "output_type": "stream",
       "stream": "stdout",
       "text": [
        " ('power', 'active')\n",
        "Calculating energy for column"
       ]
      },
      {
       "output_type": "stream",
       "stream": "stdout",
       "text": [
        " ('power', 'active')\n",
        "Calculating energy for column"
       ]
      },
      {
       "output_type": "stream",
       "stream": "stdout",
       "text": [
        " ('power', 'active')\n",
        "Calculating energy for column"
       ]
      },
      {
       "output_type": "stream",
       "stream": "stdout",
       "text": [
        " ('power', 'active')\n",
        "Calculating energy for column"
       ]
      },
      {
       "output_type": "stream",
       "stream": "stdout",
       "text": [
        " ('power', 'active')\n",
        "Calculating energy for column"
       ]
      },
      {
       "output_type": "stream",
       "stream": "stdout",
       "text": [
        " ('power', 'active')\n",
        "Calculating energy for column"
       ]
      },
      {
       "output_type": "stream",
       "stream": "stdout",
       "text": [
        " ('power', 'active')\n",
        "Calculating energy for column"
       ]
      },
      {
       "output_type": "stream",
       "stream": "stdout",
       "text": [
        " ('power', 'active')\n",
        "Calculating energy for column"
       ]
      },
      {
       "output_type": "stream",
       "stream": "stdout",
       "text": [
        " ('power', 'active')\n",
        "Calculating energy for column"
       ]
      },
      {
       "output_type": "stream",
       "stream": "stdout",
       "text": [
        " ('power', 'active')\n",
        "Calculating energy for column"
       ]
      },
      {
       "output_type": "stream",
       "stream": "stdout",
       "text": [
        " ('power', 'active')\n",
        "Calculating energy for column"
       ]
      },
      {
       "output_type": "stream",
       "stream": "stdout",
       "text": [
        " ('power', 'active')\n",
        "Calculating energy for column"
       ]
      },
      {
       "output_type": "stream",
       "stream": "stdout",
       "text": [
        " ('power', 'active')\n",
        "\r",
        "Loading data for meter"
       ]
      },
      {
       "output_type": "stream",
       "stream": "stdout",
       "text": [
        " <bound method ElecMeter.instance of ElecMeter(instance=19, building=5, dataset='UK-DALE', appliances=[Appliance(type='fridge freezer', instance=1)])>     "
       ]
      },
      {
       "output_type": "stream",
       "stream": "stdout",
       "text": [
        "\r",
        "Loading data for meter <bound method ElecMeter.instance of ElecMeter(instance=10, building=5, dataset='UK-DALE', appliances=[Appliance(type='computer monitor', instance=2)])>     "
       ]
      },
      {
       "output_type": "stream",
       "stream": "stdout",
       "text": [
        "\r",
        "Loading data for meter <bound method ElecMeter.instance of ElecMeter(instance=25, building=5, dataset='UK-DALE', appliances=[Appliance(type='vacuum cleaner', instance=1)])>     "
       ]
      },
      {
       "output_type": "stream",
       "stream": "stdout",
       "text": [
        "\r",
        "Loading data for meter <bound method ElecMeter.instance of ElecMeter(instance=12, building=5, dataset='UK-DALE', appliances=[Appliance(type='clothes iron', instance=1)])>     "
       ]
      },
      {
       "output_type": "stream",
       "stream": "stdout",
       "text": [
        "\r",
        "Loading data for meter <bound method ElecMeter.instance of ElecMeter(instance=14, building=5, dataset='UK-DALE', appliances=[Appliance(type='desktop computer', instance=2)])>     "
       ]
      },
      {
       "output_type": "stream",
       "stream": "stdout",
       "text": [
        "\r",
        "Loading data for meter <bound method ElecMeter.instance of ElecMeter(instance=23, building=5, dataset='UK-DALE', appliances=[Appliance(type='microwave', instance=1)])>     "
       ]
      },
      {
       "output_type": "stream",
       "stream": "stdout",
       "text": [
        "\r",
        "Loading data for meter <bound method ElecMeter.instance of ElecMeter(instance=5, building=5, dataset='UK-DALE', appliances=[Appliance(type='television', instance=1)])>     "
       ]
      },
      {
       "output_type": "stream",
       "stream": "stdout",
       "text": [
        "\r",
        "Loading data for meter <bound method ElecMeter.instance of ElecMeter(instance=24, building=5, dataset='UK-DALE', appliances=[Appliance(type='washer dryer', instance=1)])>     "
       ]
      },
      {
       "output_type": "stream",
       "stream": "stdout",
       "text": [
        "\r",
        "Loading data for meter <bound method ElecMeter.instance of ElecMeter(instance=11, building=5, dataset='UK-DALE', appliances=[Appliance(type='games console', instance=1)])>     "
       ]
      },
      {
       "output_type": "stream",
       "stream": "stdout",
       "text": [
        "\r",
        "Loading data for meter <bound method ElecMeter.instance of ElecMeter(instance=2, building=5, dataset='UK-DALE', appliances=[Appliance(type='active speaker', instance=1)])>     "
       ]
      },
      {
       "output_type": "stream",
       "stream": "stdout",
       "text": [
        "\r",
        "Loading data for meter <bound method ElecMeter.instance of ElecMeter(instance=17, building=5, dataset='UK-DALE', appliances=[Appliance(type='set top box', instance=1)])>     "
       ]
      },
      {
       "output_type": "stream",
       "stream": "stdout",
       "text": [
        "\r",
        "Loading data for meter <bound method ElecMeter.instance of ElecMeter(instance=4, building=5, dataset='UK-DALE', appliances=[Appliance(type='hair dryer', instance=1)])>     "
       ]
      },
      {
       "output_type": "stream",
       "stream": "stdout",
       "text": [
        "\r",
        "Loading data for meter <bound method ElecMeter.instance of ElecMeter(instance=6, building=5, dataset='UK-DALE', appliances=[Appliance(type='computer monitor', instance=1)])>     "
       ]
      },
      {
       "output_type": "stream",
       "stream": "stdout",
       "text": [
        "\r",
        "Loading data for meter <bound method ElecMeter.instance of ElecMeter(instance=15, building=5, dataset='UK-DALE', appliances=[Appliance(type='toaster', instance=1)])>     "
       ]
      },
      {
       "output_type": "stream",
       "stream": "stdout",
       "text": [
        "\r",
        "Loading data for meter <bound method ElecMeter.instance of ElecMeter(instance=16, building=5, dataset='UK-DALE', appliances=[Appliance(type='audio amplifier', instance=1)])>     "
       ]
      },
      {
       "output_type": "stream",
       "stream": "stdout",
       "text": [
        "\r",
        "Loading data for meter <bound method ElecMeter.instance of ElecMeter(instance=21, building=5, dataset='UK-DALE', appliances=[Appliance(type='electric stove', instance=1)])>     "
       ]
      },
      {
       "output_type": "stream",
       "stream": "stdout",
       "text": [
        "\r",
        "Loading data for meter <bound method ElecMeter.instance of ElecMeter(instance=3, building=5, dataset='UK-DALE', appliances=[Appliance(type='desktop computer', instance=1)])>     "
       ]
      },
      {
       "output_type": "stream",
       "stream": "stdout",
       "text": [
        "\r",
        "Loading data for meter <bound method ElecMeter.instance of ElecMeter(instance=9, building=5, dataset='UK-DALE', appliances=[Appliance(type='server computer', instance=1)])>     "
       ]
      },
      {
       "output_type": "stream",
       "stream": "stdout",
       "text": [
        "\r",
        "Loading data for meter <bound method ElecMeter.instance of ElecMeter(instance=18, building=5, dataset='UK-DALE', appliances=[Appliance(type='kettle', instance=1)])>     "
       ]
      },
      {
       "output_type": "stream",
       "stream": "stdout",
       "text": [
        "\r",
        "Loading data for meter <bound method ElecMeter.instance of ElecMeter(instance=20, building=5, dataset='UK-DALE', appliances=[Appliance(type='electric oven', instance=1)])>     "
       ]
      },
      {
       "output_type": "stream",
       "stream": "stdout",
       "text": [
        "\r",
        "Loading data for meter <bound method ElecMeter.instance of ElecMeter(instance=7, building=5, dataset='UK-DALE', appliances=[Appliance(type='running machine', instance=1)])>     "
       ]
      },
      {
       "output_type": "stream",
       "stream": "stdout",
       "text": [
        "\r",
        "Loading data for meter <bound method ElecMeter.instance of ElecMeter(instance=22, building=5, dataset='UK-DALE', appliances=[Appliance(type='dish washer', instance=1)])>     "
       ]
      },
      {
       "output_type": "stream",
       "stream": "stdout",
       "text": [
        "\r",
        "Loading data for meter <bound method ElecMeter.instance of ElecMeter(instance=8, building=5, dataset='UK-DALE', appliances=[Appliance(type='network attached storage', instance=1)])>     "
       ]
      },
      {
       "output_type": "stream",
       "stream": "stdout",
       "text": [
        "\r",
        "Loading data for meter <bound method ElecMeter.instance of ElecMeter(instance=13, building=5, dataset='UK-DALE', appliances=[Appliance(type='coffee maker', instance=1)])>     "
       ]
      },
      {
       "output_type": "stream",
       "stream": "stdout",
       "text": [
        "\r",
        "Loading data for meter <bound method ElecMeter.instance of ElecMeter(instance=19, building=5, dataset='UK-DALE', appliances=[Appliance(type='fridge freezer', instance=1)])>     "
       ]
      },
      {
       "output_type": "stream",
       "stream": "stdout",
       "text": [
        "\r",
        "Loading data for meter <bound method ElecMeter.instance of ElecMeter(instance=10, building=5, dataset='UK-DALE', appliances=[Appliance(type='computer monitor', instance=2)])>     "
       ]
      },
      {
       "output_type": "stream",
       "stream": "stdout",
       "text": [
        "\r",
        "Loading data for meter <bound method ElecMeter.instance of ElecMeter(instance=25, building=5, dataset='UK-DALE', appliances=[Appliance(type='vacuum cleaner', instance=1)])>     "
       ]
      },
      {
       "output_type": "stream",
       "stream": "stdout",
       "text": [
        "\r",
        "Loading data for meter <bound method ElecMeter.instance of ElecMeter(instance=12, building=5, dataset='UK-DALE', appliances=[Appliance(type='clothes iron', instance=1)])>     "
       ]
      },
      {
       "output_type": "stream",
       "stream": "stdout",
       "text": [
        "\r",
        "Loading data for meter <bound method ElecMeter.instance of ElecMeter(instance=14, building=5, dataset='UK-DALE', appliances=[Appliance(type='desktop computer', instance=2)])>     "
       ]
      },
      {
       "output_type": "stream",
       "stream": "stdout",
       "text": [
        "\r",
        "Loading data for meter <bound method ElecMeter.instance of ElecMeter(instance=23, building=5, dataset='UK-DALE', appliances=[Appliance(type='microwave', instance=1)])>     "
       ]
      },
      {
       "output_type": "stream",
       "stream": "stdout",
       "text": [
        "\r",
        "Loading data for meter <bound method ElecMeter.instance of ElecMeter(instance=5, building=5, dataset='UK-DALE', appliances=[Appliance(type='television', instance=1)])>     "
       ]
      },
      {
       "output_type": "stream",
       "stream": "stdout",
       "text": [
        "\r",
        "Loading data for meter <bound method ElecMeter.instance of ElecMeter(instance=24, building=5, dataset='UK-DALE', appliances=[Appliance(type='washer dryer', instance=1)])>     "
       ]
      },
      {
       "output_type": "stream",
       "stream": "stdout",
       "text": [
        "\r",
        "Loading data for meter <bound method ElecMeter.instance of ElecMeter(instance=11, building=5, dataset='UK-DALE', appliances=[Appliance(type='games console', instance=1)])>     "
       ]
      },
      {
       "output_type": "stream",
       "stream": "stdout",
       "text": [
        "\r",
        "Loading data for meter <bound method ElecMeter.instance of ElecMeter(instance=2, building=5, dataset='UK-DALE', appliances=[Appliance(type='active speaker', instance=1)])>     "
       ]
      },
      {
       "output_type": "stream",
       "stream": "stdout",
       "text": [
        "\r",
        "Loading data for meter <bound method ElecMeter.instance of ElecMeter(instance=17, building=5, dataset='UK-DALE', appliances=[Appliance(type='set top box', instance=1)])>     "
       ]
      },
      {
       "output_type": "stream",
       "stream": "stdout",
       "text": [
        "\r",
        "Loading data for meter <bound method ElecMeter.instance of ElecMeter(instance=4, building=5, dataset='UK-DALE', appliances=[Appliance(type='hair dryer', instance=1)])>     "
       ]
      },
      {
       "output_type": "stream",
       "stream": "stdout",
       "text": [
        "\r",
        "Loading data for meter <bound method ElecMeter.instance of ElecMeter(instance=6, building=5, dataset='UK-DALE', appliances=[Appliance(type='computer monitor', instance=1)])>     "
       ]
      },
      {
       "output_type": "stream",
       "stream": "stdout",
       "text": [
        "\r",
        "Loading data for meter <bound method ElecMeter.instance of ElecMeter(instance=15, building=5, dataset='UK-DALE', appliances=[Appliance(type='toaster', instance=1)])>     "
       ]
      },
      {
       "output_type": "stream",
       "stream": "stdout",
       "text": [
        "\r",
        "Loading data for meter <bound method ElecMeter.instance of ElecMeter(instance=16, building=5, dataset='UK-DALE', appliances=[Appliance(type='audio amplifier', instance=1)])>     "
       ]
      },
      {
       "output_type": "stream",
       "stream": "stdout",
       "text": [
        "\r",
        "Loading data for meter <bound method ElecMeter.instance of ElecMeter(instance=21, building=5, dataset='UK-DALE', appliances=[Appliance(type='electric stove', instance=1)])>     "
       ]
      },
      {
       "output_type": "stream",
       "stream": "stdout",
       "text": [
        "\r",
        "Loading data for meter <bound method ElecMeter.instance of ElecMeter(instance=3, building=5, dataset='UK-DALE', appliances=[Appliance(type='desktop computer', instance=1)])>     "
       ]
      },
      {
       "output_type": "stream",
       "stream": "stdout",
       "text": [
        "\r",
        "Loading data for meter <bound method ElecMeter.instance of ElecMeter(instance=9, building=5, dataset='UK-DALE', appliances=[Appliance(type='server computer', instance=1)])>     "
       ]
      },
      {
       "output_type": "stream",
       "stream": "stdout",
       "text": [
        "\r",
        "Loading data for meter <bound method ElecMeter.instance of ElecMeter(instance=18, building=5, dataset='UK-DALE', appliances=[Appliance(type='kettle', instance=1)])>     "
       ]
      },
      {
       "output_type": "stream",
       "stream": "stdout",
       "text": [
        "\r",
        "Loading data for meter <bound method ElecMeter.instance of ElecMeter(instance=20, building=5, dataset='UK-DALE', appliances=[Appliance(type='electric oven', instance=1)])>     "
       ]
      },
      {
       "output_type": "stream",
       "stream": "stdout",
       "text": [
        "\r",
        "Loading data for meter <bound method ElecMeter.instance of ElecMeter(instance=7, building=5, dataset='UK-DALE', appliances=[Appliance(type='running machine', instance=1)])>     "
       ]
      },
      {
       "output_type": "stream",
       "stream": "stdout",
       "text": [
        "\r",
        "Loading data for meter <bound method ElecMeter.instance of ElecMeter(instance=22, building=5, dataset='UK-DALE', appliances=[Appliance(type='dish washer', instance=1)])>     "
       ]
      },
      {
       "output_type": "stream",
       "stream": "stdout",
       "text": [
        "\r",
        "Loading data for meter <bound method ElecMeter.instance of ElecMeter(instance=8, building=5, dataset='UK-DALE', appliances=[Appliance(type='network attached storage', instance=1)])>     "
       ]
      },
      {
       "output_type": "stream",
       "stream": "stdout",
       "text": [
        "\r",
        "Loading data for meter <bound method ElecMeter.instance of ElecMeter(instance=13, building=5, dataset='UK-DALE', appliances=[Appliance(type='coffee maker', instance=1)])>     "
       ]
      },
      {
       "output_type": "stream",
       "stream": "stdout",
       "text": [
        "\r",
        "Loading data for meter <bound method ElecMeter.instance of ElecMeter(instance=19, building=5, dataset='UK-DALE', appliances=[Appliance(type='fridge freezer', instance=1)])>     "
       ]
      },
      {
       "output_type": "stream",
       "stream": "stdout",
       "text": [
        "\r",
        "Loading data for meter <bound method ElecMeter.instance of ElecMeter(instance=10, building=5, dataset='UK-DALE', appliances=[Appliance(type='computer monitor', instance=2)])>     "
       ]
      },
      {
       "output_type": "stream",
       "stream": "stdout",
       "text": [
        "\r",
        "Loading data for meter <bound method ElecMeter.instance of ElecMeter(instance=25, building=5, dataset='UK-DALE', appliances=[Appliance(type='vacuum cleaner', instance=1)])>     "
       ]
      },
      {
       "output_type": "stream",
       "stream": "stdout",
       "text": [
        "\r",
        "Loading data for meter <bound method ElecMeter.instance of ElecMeter(instance=12, building=5, dataset='UK-DALE', appliances=[Appliance(type='clothes iron', instance=1)])>     "
       ]
      },
      {
       "output_type": "stream",
       "stream": "stdout",
       "text": [
        "\r",
        "Loading data for meter <bound method ElecMeter.instance of ElecMeter(instance=14, building=5, dataset='UK-DALE', appliances=[Appliance(type='desktop computer', instance=2)])>     "
       ]
      },
      {
       "output_type": "stream",
       "stream": "stdout",
       "text": [
        "\r",
        "Loading data for meter <bound method ElecMeter.instance of ElecMeter(instance=23, building=5, dataset='UK-DALE', appliances=[Appliance(type='microwave', instance=1)])>     "
       ]
      },
      {
       "output_type": "stream",
       "stream": "stdout",
       "text": [
        "\r",
        "Loading data for meter <bound method ElecMeter.instance of ElecMeter(instance=5, building=5, dataset='UK-DALE', appliances=[Appliance(type='television', instance=1)])>     "
       ]
      },
      {
       "output_type": "stream",
       "stream": "stdout",
       "text": [
        "\r",
        "Loading data for meter <bound method ElecMeter.instance of ElecMeter(instance=24, building=5, dataset='UK-DALE', appliances=[Appliance(type='washer dryer', instance=1)])>     "
       ]
      },
      {
       "output_type": "stream",
       "stream": "stdout",
       "text": [
        "\r",
        "Loading data for meter <bound method ElecMeter.instance of ElecMeter(instance=11, building=5, dataset='UK-DALE', appliances=[Appliance(type='games console', instance=1)])>     "
       ]
      },
      {
       "output_type": "stream",
       "stream": "stdout",
       "text": [
        "\r",
        "Loading data for meter <bound method ElecMeter.instance of ElecMeter(instance=2, building=5, dataset='UK-DALE', appliances=[Appliance(type='active speaker', instance=1)])>     "
       ]
      },
      {
       "output_type": "stream",
       "stream": "stdout",
       "text": [
        "\r",
        "Loading data for meter <bound method ElecMeter.instance of ElecMeter(instance=17, building=5, dataset='UK-DALE', appliances=[Appliance(type='set top box', instance=1)])>     "
       ]
      },
      {
       "output_type": "stream",
       "stream": "stdout",
       "text": [
        "\r",
        "Loading data for meter <bound method ElecMeter.instance of ElecMeter(instance=4, building=5, dataset='UK-DALE', appliances=[Appliance(type='hair dryer', instance=1)])>     "
       ]
      },
      {
       "output_type": "stream",
       "stream": "stdout",
       "text": [
        "\r",
        "Loading data for meter <bound method ElecMeter.instance of ElecMeter(instance=6, building=5, dataset='UK-DALE', appliances=[Appliance(type='computer monitor', instance=1)])>     "
       ]
      },
      {
       "output_type": "stream",
       "stream": "stdout",
       "text": [
        "\r",
        "Loading data for meter <bound method ElecMeter.instance of ElecMeter(instance=15, building=5, dataset='UK-DALE', appliances=[Appliance(type='toaster', instance=1)])>     "
       ]
      },
      {
       "output_type": "stream",
       "stream": "stdout",
       "text": [
        "\r",
        "Loading data for meter <bound method ElecMeter.instance of ElecMeter(instance=16, building=5, dataset='UK-DALE', appliances=[Appliance(type='audio amplifier', instance=1)])>     "
       ]
      },
      {
       "output_type": "stream",
       "stream": "stdout",
       "text": [
        "\r",
        "Loading data for meter <bound method ElecMeter.instance of ElecMeter(instance=21, building=5, dataset='UK-DALE', appliances=[Appliance(type='electric stove', instance=1)])>     "
       ]
      },
      {
       "output_type": "stream",
       "stream": "stdout",
       "text": [
        "\r",
        "Loading data for meter <bound method ElecMeter.instance of ElecMeter(instance=3, building=5, dataset='UK-DALE', appliances=[Appliance(type='desktop computer', instance=1)])>     "
       ]
      },
      {
       "output_type": "stream",
       "stream": "stdout",
       "text": [
        "\r",
        "Loading data for meter <bound method ElecMeter.instance of ElecMeter(instance=9, building=5, dataset='UK-DALE', appliances=[Appliance(type='server computer', instance=1)])>     "
       ]
      },
      {
       "output_type": "stream",
       "stream": "stdout",
       "text": [
        "\r",
        "Loading data for meter <bound method ElecMeter.instance of ElecMeter(instance=18, building=5, dataset='UK-DALE', appliances=[Appliance(type='kettle', instance=1)])>     "
       ]
      },
      {
       "output_type": "stream",
       "stream": "stdout",
       "text": [
        "\r",
        "Loading data for meter <bound method ElecMeter.instance of ElecMeter(instance=20, building=5, dataset='UK-DALE', appliances=[Appliance(type='electric oven', instance=1)])>     "
       ]
      },
      {
       "output_type": "stream",
       "stream": "stdout",
       "text": [
        "\r",
        "Loading data for meter <bound method ElecMeter.instance of ElecMeter(instance=7, building=5, dataset='UK-DALE', appliances=[Appliance(type='running machine', instance=1)])>     "
       ]
      },
      {
       "output_type": "stream",
       "stream": "stdout",
       "text": [
        "\r",
        "Loading data for meter <bound method ElecMeter.instance of ElecMeter(instance=22, building=5, dataset='UK-DALE', appliances=[Appliance(type='dish washer', instance=1)])>     "
       ]
      },
      {
       "output_type": "stream",
       "stream": "stdout",
       "text": [
        "\r",
        "Loading data for meter <bound method ElecMeter.instance of ElecMeter(instance=8, building=5, dataset='UK-DALE', appliances=[Appliance(type='network attached storage', instance=1)])>     "
       ]
      },
      {
       "output_type": "stream",
       "stream": "stdout",
       "text": [
        "\r",
        "Loading data for meter <bound method ElecMeter.instance of ElecMeter(instance=13, building=5, dataset='UK-DALE', appliances=[Appliance(type='coffee maker', instance=1)])>     "
       ]
      },
      {
       "output_type": "stream",
       "stream": "stdout",
       "text": [
        "Calculating energy for column ('power', 'active')\n",
        "Calculating energy for column ('power', 'apparent')\n",
        "Calculating energy for column ('power', 'active')\n",
        "Calculating energy for column ('power', 'apparent')\n",
        "Calculating energy for column ('power', 'active')\n",
        "Calculating energy for column ('power', 'apparent')\n",
        "Calculating energy for column"
       ]
      },
      {
       "output_type": "stream",
       "stream": "stdout",
       "text": [
        " ('power', 'active')\n",
        "Calculating energy for column ('power', 'apparent')\n",
        "Calculating energy for column ('power', 'active')\n",
        "Calculating energy for column ('power', 'apparent')\n",
        "Calculating energy for column ('power', 'active')\n",
        "Calculating energy for column ('power', 'apparent')\n",
        "Calculating energy for column"
       ]
      },
      {
       "output_type": "stream",
       "stream": "stdout",
       "text": [
        " ('power', 'active')\n",
        "Calculating energy for column ('power', 'apparent')\n",
        "Calculating energy for column ('power', 'active')\n",
        "Calculating energy for column ('power', 'apparent')\n",
        "Calculating energy for column ('power', 'active')\n",
        "Calculating energy for column ('power', 'apparent')\n",
        "Calculating energy for column ('power', 'active')\n",
        "Calculating energy for column ('power', 'apparent')\n",
        "Calculating energy for column"
       ]
      },
      {
       "output_type": "stream",
       "stream": "stdout",
       "text": [
        " ('power', 'active')\n",
        "Calculating energy for column ('power', 'apparent')\n",
        "Calculating energy for column ('power', 'active')\n",
        "Calculating energy for column ('power', 'apparent')\n",
        "Calculating energy for column ('power', 'active')\n",
        "Calculating energy for column ('power', 'apparent')\n",
        "Calculating energy for column"
       ]
      },
      {
       "output_type": "stream",
       "stream": "stdout",
       "text": [
        " ('power', 'active')\n",
        "Calculating energy for column ('power', 'apparent')\n",
        "Calculating energy for column ('power', 'active')\n",
        "Calculating energy for column ('power', 'apparent')\n",
        "Calculating energy for column"
       ]
      },
      {
       "output_type": "stream",
       "stream": "stdout",
       "text": [
        " ('power', 'active')\n",
        "Calculating energy for column ('power', 'apparent')\n",
        "Calculating energy for column"
       ]
      },
      {
       "output_type": "stream",
       "stream": "stdout",
       "text": [
        " ('power', 'active')\n",
        "Calculating energy for column ('power', 'apparent')\n",
        "Calculating energy for column ('power', 'active')\n",
        "Calculating energy for column ('power', 'apparent')\n",
        "Calculating energy for column"
       ]
      },
      {
       "output_type": "stream",
       "stream": "stdout",
       "text": [
        " ('power', 'active')\n",
        "Calculating energy for column ('power', 'apparent')\n",
        "Calculating energy for column ('power', 'active')\n",
        "Calculating energy for column ('power', 'apparent')\n",
        "Calculating energy for column"
       ]
      },
      {
       "output_type": "stream",
       "stream": "stdout",
       "text": [
        " ('power', 'active')\n",
        "Calculating energy for column ('power', 'apparent')\n",
        "Calculating energy for column ('power', 'active')\n",
        "Calculating energy for column ('power', 'apparent')\n",
        "Calculating energy for column"
       ]
      },
      {
       "output_type": "stream",
       "stream": "stdout",
       "text": [
        " ('power', 'active')\n",
        "Calculating energy for column ('power', 'apparent')\n",
        "Calculating energy for column ('power', 'active')\n",
        "Calculating energy for column ('power', 'apparent')\n",
        "Calculating energy for column"
       ]
      },
      {
       "output_type": "stream",
       "stream": "stdout",
       "text": [
        " ('power', 'active')\n",
        "Calculating energy for column ('power', 'apparent')\n",
        "Calculating energy for column ('power', 'active')\n",
        "Calculating energy for column ('power', 'apparent')\n",
        "Calculating energy for column"
       ]
      },
      {
       "output_type": "stream",
       "stream": "stdout",
       "text": [
        " ('power', 'active')\n",
        "Calculating energy for column ('power', 'apparent')\n",
        "Calculating energy for column ('power', 'active')\n",
        "Calculating energy for column ('power', 'apparent')\n",
        "Calculating energy for column ('power', 'active')\n",
        "Calculating energy for column ('power', 'apparent')\n",
        "Calculating energy for column"
       ]
      },
      {
       "output_type": "stream",
       "stream": "stdout",
       "text": [
        " ('power', 'active')\n",
        "Calculating energy for column ('power', 'apparent')\n",
        "Calculating energy for column ('power', 'active')\n",
        "Calculating energy for column ('power', 'apparent')\n",
        "Calculating energy for column"
       ]
      },
      {
       "output_type": "stream",
       "stream": "stdout",
       "text": [
        " ('power', 'active')\n",
        "Calculating energy for column ('power', 'apparent')\n",
        "Calculating energy for column"
       ]
      },
      {
       "output_type": "stream",
       "stream": "stdout",
       "text": [
        " ('power', 'active')\n",
        "Calculating energy for column ('power', 'apparent')\n",
        "Calculating energy for column"
       ]
      },
      {
       "output_type": "stream",
       "stream": "stdout",
       "text": [
        " ('power', 'active')\n",
        "Calculating energy for column ('power', 'apparent')\n",
        "Calculating energy for column ('power', 'active')\n",
        "Calculating energy for column ('power', 'apparent')\n",
        "Calculating energy for column ('power', 'active')\n",
        "Calculating energy for column ('power', 'apparent')\n",
        "Calculating energy for column"
       ]
      },
      {
       "output_type": "stream",
       "stream": "stdout",
       "text": [
        " ('power', 'active')\n",
        "Calculating energy for column ('power', 'apparent')\n",
        "Calculating energy for column ('power', 'active')\n",
        "Calculating energy for column ('power', 'apparent')\n",
        "Calculating energy for column ('power', 'active')\n",
        "Calculating energy for column ('power', 'apparent')\n",
        "Calculating energy for column"
       ]
      },
      {
       "output_type": "stream",
       "stream": "stdout",
       "text": [
        " ('power', 'active')\n",
        "Calculating energy for column ('power', 'apparent')\n",
        "Calculating energy for column ('power', 'active')\n",
        "Calculating energy for column ('power', 'apparent')\n",
        "Calculating energy for column ('power', 'active')\n",
        "Calculating energy for column ('power', 'apparent')\n",
        "Calculating energy for column"
       ]
      },
      {
       "output_type": "stream",
       "stream": "stdout",
       "text": [
        " ('power', 'active')\n",
        "Calculating energy for column ('power', 'apparent')\n",
        "Calculating energy for column ('power', 'active')\n",
        "Calculating energy for column ('power', 'apparent')\n",
        "Calculating energy for column ('power', 'active')\n",
        "Calculating energy for column ('power', 'apparent')\n",
        "Calculating energy for column"
       ]
      },
      {
       "output_type": "stream",
       "stream": "stdout",
       "text": [
        " ('power', 'active')\n",
        "Calculating energy for column ('power', 'apparent')\n",
        "Calculating energy for column ('power', 'active')\n",
        "Calculating energy for column ('power', 'apparent')\n",
        "Calculating energy for column ('power', 'active')\n",
        "Calculating energy for column ('power', 'apparent')\n",
        "Calculating energy for column"
       ]
      },
      {
       "output_type": "stream",
       "stream": "stdout",
       "text": [
        " ('power', 'active')\n",
        "Calculating energy for column ('power', 'apparent')\n",
        "Calculating energy for column ('power', 'active')\n",
        "Calculating energy for column ('power', 'apparent')\n",
        "Calculating energy for column"
       ]
      },
      {
       "output_type": "stream",
       "stream": "stdout",
       "text": [
        " ('power', 'active')\n",
        "Calculating energy for column ('power', 'apparent')\n",
        "Calculating energy for column"
       ]
      },
      {
       "output_type": "stream",
       "stream": "stdout",
       "text": [
        " ('power', 'active')\n",
        "Calculating energy for column ('power', 'apparent')\n",
        "Calculating energy for column ('power', 'active')\n",
        "Calculating energy for column ('power', 'apparent')\n",
        "Calculating energy for column ('power', 'active')\n",
        "Calculating energy for column ('power', 'apparent')\n",
        "Calculating energy for column"
       ]
      },
      {
       "output_type": "stream",
       "stream": "stdout",
       "text": [
        " ('power', 'active')\n",
        "Calculating energy for column ('power', 'apparent')\n",
        "Calculating energy for column"
       ]
      },
      {
       "output_type": "stream",
       "stream": "stdout",
       "text": [
        " ('power', 'active')\n",
        "Calculating energy for column ('power', 'apparent')\n",
        "Calculating energy for column ('power', 'active')\n",
        "Calculating energy for column ('power', 'apparent')\n",
        "Calculating energy for column ('power', 'active')\n",
        "Calculating energy for column ('power', 'apparent')\n",
        "Calculating energy for column"
       ]
      },
      {
       "output_type": "stream",
       "stream": "stdout",
       "text": [
        " ('power', 'active')\n",
        "Calculating energy for column ('power', 'apparent')\n",
        "Calculating energy for column ('power', 'active')\n",
        "Calculating energy for column ('power', 'apparent')\n",
        "Calculating energy for column"
       ]
      },
      {
       "output_type": "stream",
       "stream": "stdout",
       "text": [
        " ('power', 'active')\n",
        "Calculating energy for column ('power', 'apparent')\n",
        "Calculating energy for column ('power', 'active')\n",
        "Calculating energy for column"
       ]
      },
      {
       "output_type": "stream",
       "stream": "stdout",
       "text": [
        " ('power', 'apparent')\n",
        "Calculating energy for column"
       ]
      },
      {
       "output_type": "stream",
       "stream": "stdout",
       "text": [
        " ('power', 'active')\n",
        "Calculating energy for column ('power', 'apparent')\n",
        "Calculating energy for column"
       ]
      },
      {
       "output_type": "stream",
       "stream": "stdout",
       "text": [
        " ('power', 'active')\n",
        "Calculating energy for column ('power', 'apparent')\n",
        "Calculating energy for column ('power', 'active')\n",
        "Calculating energy for column ('power', 'apparent')\n",
        "Calculating energy for column"
       ]
      },
      {
       "output_type": "stream",
       "stream": "stdout",
       "text": [
        " ('power', 'active')\n",
        "Calculating energy for column ('power', 'apparent')\n",
        "Calculating energy for column ('power', 'active')\n",
        "Calculating energy for column ('power', 'apparent')\n",
        "Calculating energy for column ('power', 'active')\n",
        "Calculating energy for column ('power', 'apparent')\n",
        "Calculating energy for column"
       ]
      },
      {
       "output_type": "stream",
       "stream": "stdout",
       "text": [
        " ('power', 'active')\n",
        "Calculating energy for column ('power', 'apparent')\n",
        "Calculating energy for column ('power', 'active')\n",
        "Calculating energy for column ('power', 'apparent')\n",
        "Calculating energy for column ('power', 'active')\n",
        "Calculating energy for column ('power', 'apparent')\n",
        "Calculating energy for column"
       ]
      },
      {
       "output_type": "stream",
       "stream": "stdout",
       "text": [
        " ('power', 'active')\n",
        "Calculating energy for column ('power', 'apparent')\n",
        "Calculating energy for column"
       ]
      },
      {
       "output_type": "stream",
       "stream": "stdout",
       "text": [
        " ('power', 'active')\n",
        "Calculating energy for column ('power', 'apparent')\n",
        "Calculating energy for column"
       ]
      },
      {
       "output_type": "stream",
       "stream": "stdout",
       "text": [
        " ('power', 'active')\n",
        "Calculating energy for column ('power', 'apparent')\n",
        "Calculating energy for column ('power', 'active')\n",
        "Calculating energy for column ('power', 'apparent')\n",
        "Calculating energy for column"
       ]
      },
      {
       "output_type": "stream",
       "stream": "stdout",
       "text": [
        " ('power', 'active')\n",
        "Calculating energy for column ('power', 'apparent')\n",
        "Calculating energy for column ('power', 'active')\n",
        "Calculating energy for column ('power', 'apparent')\n",
        "Calculating energy for column ('power', 'active')\n",
        "Calculating energy for column ('power', 'apparent')\n",
        "Calculating energy for column"
       ]
      },
      {
       "output_type": "stream",
       "stream": "stdout",
       "text": [
        " ('power', 'active')\n",
        "Calculating energy for column ('power', 'apparent')\n",
        "Calculating energy for column ('power', 'active')\n",
        "Calculating energy for column ('power', 'apparent')\n",
        "Calculating energy for column"
       ]
      },
      {
       "output_type": "stream",
       "stream": "stdout",
       "text": [
        " ('power', 'active')\n",
        "Calculating energy for column ('power', 'apparent')\n",
        "Calculating energy for column ('power', 'active')\n",
        "Calculating energy for column ('power', 'apparent')\n",
        "Calculating energy for column"
       ]
      },
      {
       "output_type": "stream",
       "stream": "stdout",
       "text": [
        " ('power', 'active')\n",
        "Calculating energy for column ('power', 'apparent')\n",
        "Calculating energy for column ('power', 'active')\n",
        "Calculating energy for column ('power', 'apparent')\n",
        "Calculating energy for column"
       ]
      },
      {
       "output_type": "stream",
       "stream": "stdout",
       "text": [
        " ('power', 'active')\n",
        "Calculating energy for column ('power', 'apparent')\n",
        "Calculating energy for column ('power', 'active')\n",
        "Calculating energy for column ('power', 'apparent')\n",
        "Calculating energy for column"
       ]
      },
      {
       "output_type": "stream",
       "stream": "stdout",
       "text": [
        " ('power', 'active')\n",
        "Calculating energy for column ('power', 'apparent')\n",
        "Calculating energy for column ('power', 'active')\n",
        "Calculating energy for column ('power', 'apparent')\n",
        "Calculating energy for column"
       ]
      },
      {
       "output_type": "stream",
       "stream": "stdout",
       "text": [
        " ('power', 'active')\n",
        "Calculating energy for column ('power', 'apparent')\n",
        "Calculating energy for column"
       ]
      },
      {
       "output_type": "stream",
       "stream": "stdout",
       "text": [
        " ('power', 'active')\n",
        "Calculating energy for column ('power', 'apparent')\n",
        "Calculating energy for column"
       ]
      },
      {
       "output_type": "stream",
       "stream": "stdout",
       "text": [
        " ('power', 'active')\n",
        "Calculating energy for column ('power', 'apparent')\n",
        "Calculating energy for column"
       ]
      },
      {
       "output_type": "stream",
       "stream": "stdout",
       "text": [
        " ('power', 'active')\n",
        "Calculating energy for column ('power', 'apparent')\n",
        "Calculating energy for column ('power', 'active')\n",
        "Calculating energy for column ('power', 'apparent')\n",
        "Calculating energy for column"
       ]
      },
      {
       "output_type": "stream",
       "stream": "stdout",
       "text": [
        " ('power', 'active')\n",
        "Calculating energy for column ('power', 'apparent')\n",
        "Calculating energy for column ('power', 'active')\n",
        "Calculating energy for column ('power', 'apparent')\n",
        "Calculating energy for column"
       ]
      },
      {
       "output_type": "stream",
       "stream": "stdout",
       "text": [
        " ('power', 'active')\n",
        "Calculating energy for column ('power', 'apparent')\n",
        "Calculating energy for column"
       ]
      },
      {
       "output_type": "stream",
       "stream": "stdout",
       "text": [
        " ('power', 'active')\n",
        "Calculating energy for column ('power', 'apparent')\n",
        "Calculating energy for column ('power', 'active')\n",
        "Calculating energy for column ('power', 'apparent')\n",
        "Calculating energy for column"
       ]
      },
      {
       "output_type": "stream",
       "stream": "stdout",
       "text": [
        " ('power', 'active')\n",
        "Calculating energy for column ('power', 'apparent')\n",
        "Calculating energy for column"
       ]
      },
      {
       "output_type": "stream",
       "stream": "stdout",
       "text": [
        " ('power', 'active')\n",
        "Calculating energy for column ('power', 'apparent')\n",
        "Calculating energy for column ('power', 'active')\n",
        "Calculating energy for column ('power', 'apparent')\n",
        "Calculating energy for column"
       ]
      },
      {
       "output_type": "stream",
       "stream": "stdout",
       "text": [
        " ('power', 'active')\n",
        "Calculating energy for column ('power', 'apparent')\n",
        "Calculating energy for column ('power', 'active')\n",
        "Calculating energy for column ('power', 'apparent')\n",
        "Calculating energy for column"
       ]
      },
      {
       "output_type": "stream",
       "stream": "stdout",
       "text": [
        " ('power', 'active')\n",
        "Calculating energy for column ('power', 'apparent')\n",
        "Calculating energy for column"
       ]
      },
      {
       "output_type": "stream",
       "stream": "stdout",
       "text": [
        " ('power', 'active')\n",
        "Calculating energy for column ('power', 'apparent')\n",
        "Calculating energy for column"
       ]
      },
      {
       "output_type": "stream",
       "stream": "stdout",
       "text": [
        " ('power', 'active')\n",
        "Calculating energy for column ('power', 'apparent')\n",
        "Calculating energy for column ('power', 'active')\n",
        "Calculating energy for column ('power', 'apparent')\n",
        "Calculating energy for column"
       ]
      },
      {
       "output_type": "stream",
       "stream": "stdout",
       "text": [
        " ('power', 'active')\n",
        "Calculating energy for column ('power', 'apparent')\n",
        "Calculating energy for column"
       ]
      },
      {
       "output_type": "stream",
       "stream": "stdout",
       "text": [
        " ('power', 'active')\n",
        "Calculating energy for column ('power', 'apparent')\n",
        "Calculating energy for column ('power', 'active')\n",
        "Calculating energy for column ('power', 'apparent')\n",
        "Calculating energy for column"
       ]
      },
      {
       "output_type": "stream",
       "stream": "stdout",
       "text": [
        " ('power', 'active')\n",
        "Calculating energy for column ('power', 'apparent')\n",
        "Calculating energy for column ('power', 'active')\n",
        "Calculating energy for column ('power', 'apparent')\n",
        "Calculating energy for column"
       ]
      },
      {
       "output_type": "stream",
       "stream": "stdout",
       "text": [
        " ('power', 'active')\n",
        "Calculating energy for column ('power', 'apparent')\n",
        "Calculating energy for column ('power', 'active')\n",
        "Calculating energy for column ('power', 'apparent')\n",
        "Calculating energy for column"
       ]
      },
      {
       "output_type": "stream",
       "stream": "stdout",
       "text": [
        " ('power', 'active')\n",
        "Calculating energy for column ('power', 'apparent')\n",
        "Calculating energy for column ('power', 'active')\n",
        "Calculating energy for column ('power', 'apparent')\n",
        "Calculating energy for column"
       ]
      },
      {
       "output_type": "stream",
       "stream": "stdout",
       "text": [
        " ('power', 'active')\n",
        "Calculating energy for column ('power', 'apparent')\n",
        "Calculating energy for column ('power', 'active')\n",
        "Calculating energy for column ('power', 'apparent')\n",
        "Calculating energy for column"
       ]
      },
      {
       "output_type": "stream",
       "stream": "stdout",
       "text": [
        " ('power', 'active')\n",
        "Calculating energy for column ('power', 'apparent')\n",
        "Calculating energy for column ('power', 'active')\n",
        "Calculating energy for column ('power', 'apparent')\n",
        "Calculating energy for column"
       ]
      },
      {
       "output_type": "stream",
       "stream": "stdout",
       "text": [
        " ('power', 'active')\n",
        "Calculating energy for column ('power', 'apparent')\n",
        "Calculating energy for column"
       ]
      },
      {
       "output_type": "stream",
       "stream": "stdout",
       "text": [
        " ('power', 'active')\n",
        "Calculating energy for column ('power', 'apparent')\n",
        "Calculating energy for column ('power', 'active')\n",
        "Calculating energy for column ('power', 'apparent')\n",
        "Calculating energy for column"
       ]
      },
      {
       "output_type": "stream",
       "stream": "stdout",
       "text": [
        " ('power', 'active')\n",
        "Calculating energy for column ('power', 'apparent')\n",
        "Calculating energy for column ('power', 'active')\n",
        "Calculating energy for column ('power', 'apparent')\n",
        "Calculating energy for column"
       ]
      },
      {
       "output_type": "stream",
       "stream": "stdout",
       "text": [
        " ('power', 'active')\n",
        "Calculating energy for column ('power', 'apparent')\n",
        "Calculating energy for column ('power', 'active')\n",
        "Calculating energy for column ('power', 'apparent')\n",
        "Calculating energy for column"
       ]
      },
      {
       "output_type": "stream",
       "stream": "stdout",
       "text": [
        " ('power', 'active')\n",
        "Calculating energy for column ('power', 'apparent')\n",
        "Calculating energy for column ('power', 'active')\n",
        "Calculating energy for column ('power', 'apparent')\n",
        "Calculating energy for column"
       ]
      },
      {
       "output_type": "stream",
       "stream": "stdout",
       "text": [
        " ('power', 'active')\n",
        "Calculating energy for column ('power', 'apparent')\n",
        "Calculating energy for column ('power', 'active')\n",
        "Calculating energy for column ('power', 'apparent')\n",
        "Calculating energy for column"
       ]
      },
      {
       "output_type": "stream",
       "stream": "stdout",
       "text": [
        " ('power', 'active')\n",
        "Calculating energy for column ('power', 'apparent')\n",
        "Calculating energy for column ('power', 'active')\n",
        "Calculating energy for column ('power', 'apparent')\n",
        "Calculating energy for column"
       ]
      },
      {
       "output_type": "stream",
       "stream": "stdout",
       "text": [
        " ('power', 'active')\n",
        "Calculating energy for column ('power', 'apparent')\n",
        "Calculating energy for column ('power', 'active')\n",
        "Calculating energy for column ('power', 'apparent')\n",
        "Calculating energy for column"
       ]
      },
      {
       "output_type": "stream",
       "stream": "stdout",
       "text": [
        " ('power', 'active')\n",
        "Calculating energy for column ('power', 'apparent')\n",
        "Calculating energy for column ('power', 'active')\n",
        "Calculating energy for column ('power', 'apparent')\n",
        "Calculating energy for column"
       ]
      },
      {
       "output_type": "stream",
       "stream": "stdout",
       "text": [
        " ('power', 'active')\n",
        "Calculating energy for column ('power', 'apparent')\n",
        "Calculating energy for column"
       ]
      },
      {
       "output_type": "stream",
       "stream": "stdout",
       "text": [
        " ('power', 'active')\n",
        "Calculating energy for column ('power', 'apparent')\n",
        "Calculating energy for column ('power', 'active')\n",
        "Calculating energy for column ('power', 'apparent')\n",
        "Calculating energy for column"
       ]
      },
      {
       "output_type": "stream",
       "stream": "stdout",
       "text": [
        " ('power', 'active')\n",
        "Calculating energy for column ('power', 'apparent')\n",
        "Calculating energy for column ('power', 'active')\n",
        "Calculating energy for column ('power', 'apparent')\n",
        "Calculating energy for column"
       ]
      },
      {
       "output_type": "stream",
       "stream": "stdout",
       "text": [
        " ('power', 'active')\n",
        "Calculating energy for column ('power', 'apparent')\n",
        "Calculating energy for column ('power', 'active')\n",
        "Calculating energy for column ('power', 'apparent')\n",
        "Calculating energy for column"
       ]
      },
      {
       "output_type": "stream",
       "stream": "stdout",
       "text": [
        " ('power', 'active')\n",
        "Calculating energy for column ('power', 'apparent')\n",
        "Calculating energy for column"
       ]
      },
      {
       "output_type": "stream",
       "stream": "stdout",
       "text": [
        " ('power', 'active')\n",
        "Calculating energy for column ('power', 'apparent')\n",
        "Calculating energy for column"
       ]
      },
      {
       "output_type": "stream",
       "stream": "stdout",
       "text": [
        " ('power', 'active')\n",
        "Calculating energy for column ('power', 'apparent')\n",
        "Calculating energy for column ('power', 'active')\n",
        "Calculating energy for column ('power', 'apparent')\n",
        "Calculating energy for column"
       ]
      },
      {
       "output_type": "stream",
       "stream": "stdout",
       "text": [
        " ('power', 'active')\n",
        "Calculating energy for column ('power', 'apparent')\n",
        "Calculating energy for column ('power', 'active')\n",
        "Calculating energy for column ('power', 'apparent')\n",
        "Calculating energy for column"
       ]
      },
      {
       "output_type": "stream",
       "stream": "stdout",
       "text": [
        " ('power', 'active')\n",
        "Calculating energy for column ('power', 'apparent')\n",
        "Calculating energy for column"
       ]
      },
      {
       "output_type": "stream",
       "stream": "stdout",
       "text": [
        " ('power', 'active')\n",
        "Calculating energy for column ('power', 'apparent')\n",
        "Calculating energy for column ('power', 'active')\n",
        "Calculating energy for column ('power', 'apparent')\n",
        "Calculating energy for column"
       ]
      },
      {
       "output_type": "stream",
       "stream": "stdout",
       "text": [
        " ('power', 'active')\n",
        "Calculating energy for column ('power', 'apparent')\n",
        "Calculating energy for column"
       ]
      },
      {
       "output_type": "stream",
       "stream": "stdout",
       "text": [
        " ('power', 'active')\n",
        "Calculating energy for column ('power', 'apparent')\n",
        "Calculating energy for column ('power', 'active')\n",
        "Calculating energy for column ('power', 'apparent')\n",
        "Calculating energy for column"
       ]
      },
      {
       "output_type": "stream",
       "stream": "stdout",
       "text": [
        " ('power', 'active')\n",
        "Calculating energy for column ('power', 'apparent')\n",
        "Calculating energy for column ('power', 'active')\n",
        "Calculating energy for column ('power', 'apparent')\n",
        "Calculating energy for column"
       ]
      },
      {
       "output_type": "stream",
       "stream": "stdout",
       "text": [
        " ('power', 'active')\n",
        "Calculating energy for column ('power', 'apparent')\n",
        "Calculating energy for column ('power', 'active')\n",
        "Calculating energy for column ('power', 'apparent')\n",
        "Calculating energy for column"
       ]
      },
      {
       "output_type": "stream",
       "stream": "stdout",
       "text": [
        " ('power', 'active')\n",
        "Calculating energy for column ('power', 'apparent')\n",
        "Calculating energy for column ('power', 'active')\n",
        "Calculating energy for column ('power', 'apparent')\n",
        "Calculating energy for column"
       ]
      },
      {
       "output_type": "stream",
       "stream": "stdout",
       "text": [
        " ('power', 'active')\n",
        "Calculating energy for column ('power', 'apparent')\n",
        "Calculating energy for column ('power', 'active')\n",
        "Calculating energy for column ('power', 'apparent')\n",
        "Calculating energy for column"
       ]
      },
      {
       "output_type": "stream",
       "stream": "stdout",
       "text": [
        " ('power', 'active')\n",
        "Calculating energy for column ('power', 'apparent')\n",
        "Calculating energy for column ('power', 'active')\n",
        "Calculating energy for column ('power', 'apparent')\n",
        "Calculating energy for column"
       ]
      },
      {
       "output_type": "stream",
       "stream": "stdout",
       "text": [
        " ('power', 'active')\n",
        "Calculating energy for column ('power', 'apparent')\n",
        "Calculating energy for column ('power', 'active')\n",
        "Calculating energy for column ('power', 'apparent')\n",
        "Calculating energy for column"
       ]
      },
      {
       "output_type": "stream",
       "stream": "stdout",
       "text": [
        " ('power', 'active')\n",
        "Calculating energy for column ('power', 'apparent')\n",
        "Calculating energy for column ('power', 'active')\n",
        "Calculating energy for column ('power', 'apparent')\n",
        "Calculating energy for column"
       ]
      },
      {
       "output_type": "stream",
       "stream": "stdout",
       "text": [
        " ('power', 'active')\n",
        "Calculating energy for column ('power', 'apparent')\n",
        "Calculating energy for column ('power', 'active')\n",
        "Calculating energy for column ('power', 'apparent')\n",
        "Calculating energy for column"
       ]
      },
      {
       "output_type": "stream",
       "stream": "stdout",
       "text": [
        " ('power', 'active')\n",
        "Calculating energy for column ('power', 'apparent')\n",
        "Calculating energy for column ('power', 'active')\n",
        "Calculating energy for column ('power', 'apparent')\n",
        "Calculating energy for column"
       ]
      },
      {
       "output_type": "stream",
       "stream": "stdout",
       "text": [
        " ('power', 'active')\n",
        "Calculating energy for column ('power', 'apparent')\n",
        "Calculating energy for column ('power', 'active')\n",
        "Calculating energy for column ('power', 'apparent')\n",
        "Calculating energy for column"
       ]
      },
      {
       "output_type": "stream",
       "stream": "stdout",
       "text": [
        " ('power', 'active')\n",
        "Calculating energy for column ('power', 'apparent')\n",
        "Calculating energy for column ('power', 'active')\n",
        "Calculating energy for column ('power', 'apparent')\n",
        "Calculating energy for column"
       ]
      },
      {
       "output_type": "stream",
       "stream": "stdout",
       "text": [
        " ('power', 'active')\n",
        "Calculating energy for column ('power', 'apparent')\n",
        "Calculating energy for column ('power', 'active')\n",
        "Calculating energy for column ('power', 'apparent')\n",
        "Calculating energy for column"
       ]
      },
      {
       "output_type": "stream",
       "stream": "stdout",
       "text": [
        " ('power', 'active')\n",
        "Calculating energy for column ('power', 'apparent')\n",
        "Calculating energy for column ('power', 'active')\n",
        "Calculating energy for column ('power', 'apparent')\n",
        "Calculating energy for column"
       ]
      },
      {
       "output_type": "stream",
       "stream": "stdout",
       "text": [
        " ('power', 'active')\n",
        "Calculating energy for column ('power', 'apparent')\n",
        "Calculating energy for column ('power', 'active')\n",
        "Calculating energy for column ('power', 'apparent')\n",
        "Calculating energy for column"
       ]
      },
      {
       "output_type": "stream",
       "stream": "stdout",
       "text": [
        " ('power', 'active')\n",
        "Calculating energy for column ('power', 'apparent')\n",
        "Calculating energy for column"
       ]
      },
      {
       "output_type": "stream",
       "stream": "stdout",
       "text": [
        " ('power', 'active')\n",
        "Calculating energy for column ('power', 'apparent')\n",
        "Calculating energy for column ('power', 'active')\n",
        "Calculating energy for column ('power', 'apparent')\n",
        "Calculating energy for column"
       ]
      },
      {
       "output_type": "stream",
       "stream": "stdout",
       "text": [
        " ('power', 'active')\n",
        "Calculating energy for column ('power', 'apparent')\n",
        "Calculating energy for column ('power', 'active')\n",
        "Calculating energy for column ('power', 'apparent')\n",
        "Calculating energy for column"
       ]
      },
      {
       "output_type": "stream",
       "stream": "stdout",
       "text": [
        " ('power', 'active')\n",
        "Calculating energy for column ('power', 'apparent')\n",
        "Calculating energy for column"
       ]
      },
      {
       "output_type": "stream",
       "stream": "stdout",
       "text": [
        " ('power', 'active')\n",
        "Calculating energy for column ('power', 'apparent')\n",
        "Calculating energy for column ('power', 'active')\n",
        "Calculating energy for column ('power', 'apparent')\n",
        "Calculating energy for column"
       ]
      },
      {
       "output_type": "stream",
       "stream": "stdout",
       "text": [
        " ('power', 'active')\n",
        "Calculating energy for column ('power', 'apparent')\n",
        "Calculating energy for column ('power', 'active')\n",
        "Calculating energy for column ('power', 'apparent')\n",
        "Calculating energy for column"
       ]
      },
      {
       "output_type": "stream",
       "stream": "stdout",
       "text": [
        " ('power', 'active')\n",
        "Calculating energy for column ('power', 'apparent')\n",
        "Calculating energy for column"
       ]
      },
      {
       "output_type": "stream",
       "stream": "stdout",
       "text": [
        " ('power', 'active')\n",
        "Calculating energy for column ('power', 'apparent')\n",
        "Calculating energy for column"
       ]
      },
      {
       "output_type": "stream",
       "stream": "stdout",
       "text": [
        " ('power', 'active')\n",
        "Calculating energy for column ('power', 'apparent')\n",
        "Calculating energy for column"
       ]
      },
      {
       "output_type": "stream",
       "stream": "stdout",
       "text": [
        " ('power', 'active')\n",
        "Calculating energy for column ('power', 'apparent')\n",
        "Calculating energy for column"
       ]
      },
      {
       "output_type": "stream",
       "stream": "stdout",
       "text": [
        " ('power', 'active')\n",
        "Calculating energy for column ('power', 'apparent')\n",
        "Calculating energy for column ('power', 'active')\n",
        "Calculating energy for column ('power', 'apparent')\n",
        "Calculating energy for column"
       ]
      },
      {
       "output_type": "stream",
       "stream": "stdout",
       "text": [
        " ('power', 'active')\n",
        "Calculating energy for column ('power', 'apparent')\n",
        "Calculating energy for column ('power', 'active')\n",
        "Calculating energy for column ('power', 'apparent')\n",
        "Calculating energy for column"
       ]
      },
      {
       "output_type": "stream",
       "stream": "stdout",
       "text": [
        " ('power', 'active')\n",
        "Calculating energy for column ('power', 'apparent')\n",
        "Calculating energy for column"
       ]
      },
      {
       "output_type": "stream",
       "stream": "stdout",
       "text": [
        " ('power', 'active')\n",
        "Calculating energy for column ('power', 'apparent')\n",
        "Calculating energy for column"
       ]
      },
      {
       "output_type": "stream",
       "stream": "stdout",
       "text": [
        " ('power', 'active')\n",
        "Calculating energy for column ('power', 'apparent')\n",
        "Calculating energy for column"
       ]
      },
      {
       "output_type": "stream",
       "stream": "stdout",
       "text": [
        " ('power', 'active')\n",
        "Calculating energy for column ('power', 'apparent')\n",
        "Calculating energy for column ('power', 'active')\n",
        "Calculating energy for column ('power', 'apparent')\n",
        "Calculating energy for column"
       ]
      },
      {
       "output_type": "stream",
       "stream": "stdout",
       "text": [
        " ('power', 'active')\n",
        "Calculating energy for column ('power', 'apparent')\n",
        "Calculating energy for column ('power', 'active')\n",
        "Calculating energy for column ('power', 'apparent')\n",
        "Calculating energy for column"
       ]
      },
      {
       "output_type": "stream",
       "stream": "stdout",
       "text": [
        " ('power', 'active')\n",
        "Calculating energy for column ('power', 'apparent')\n",
        "Calculating energy for column ('power', 'active')\n",
        "Calculating energy for column ('power', 'apparent')\n",
        "Calculating energy for column"
       ]
      },
      {
       "output_type": "stream",
       "stream": "stdout",
       "text": [
        " ('power', 'active')\n",
        "Calculating energy for column ('power', 'apparent')\n",
        "Calculating energy for column"
       ]
      },
      {
       "output_type": "stream",
       "stream": "stdout",
       "text": [
        " ('power', 'active')\n",
        "Calculating energy for column ('power', 'apparent')\n",
        "Calculating energy for column"
       ]
      },
      {
       "output_type": "stream",
       "stream": "stdout",
       "text": [
        " ('power', 'active')\n",
        "Calculating energy for column ('power', 'apparent')\n",
        "Calculating energy for column ('power', 'active')\n",
        "Calculating energy for column ('power', 'apparent')\n",
        "Calculating energy for column"
       ]
      },
      {
       "output_type": "stream",
       "stream": "stdout",
       "text": [
        " ('power', 'active')\n",
        "Calculating energy for column ('power', 'apparent')\n",
        "Calculating energy for column ('power', 'active')\n",
        "Calculating energy for column ('power', 'apparent')\n",
        "Calculating energy for column"
       ]
      },
      {
       "output_type": "stream",
       "stream": "stdout",
       "text": [
        " ('power', 'active')\n",
        "Calculating energy for column ('power', 'apparent')\n",
        "Calculating energy for column ('power', 'active')\n",
        "Calculating energy for column ('power', 'apparent')\n",
        "Calculating energy for column"
       ]
      },
      {
       "output_type": "stream",
       "stream": "stdout",
       "text": [
        " ('power', 'active')\n",
        "Calculating energy for column ('power', 'apparent')\n",
        "Calculating energy for column ('power', 'active')\n",
        "Calculating energy for column ('power', 'apparent')\n",
        "Calculating energy for column"
       ]
      },
      {
       "output_type": "stream",
       "stream": "stdout",
       "text": [
        " ('power', 'active')\n",
        "Calculating energy for column ('power', 'apparent')\n",
        "Calculating energy for column ('power', 'active')\n",
        "Calculating energy for column"
       ]
      },
      {
       "output_type": "stream",
       "stream": "stdout",
       "text": [
        " ('power', 'apparent')\n",
        "Calculating energy for column ('power', 'active')\n",
        "Calculating energy for column ('power', 'apparent')\n",
        "Calculating energy for column"
       ]
      },
      {
       "output_type": "stream",
       "stream": "stdout",
       "text": [
        " ('power', 'active')\n",
        "Calculating energy for column ('power', 'apparent')\n",
        "Calculating energy for column ('power', 'active')\n",
        "Calculating energy for column ('power', 'apparent')\n",
        "Calculating energy for column"
       ]
      },
      {
       "output_type": "stream",
       "stream": "stdout",
       "text": [
        " ('power', 'active')\n",
        "Calculating energy for column ('power', 'apparent')\n",
        "Calculating energy for column"
       ]
      },
      {
       "output_type": "stream",
       "stream": "stdout",
       "text": [
        " ('power', 'active')\n",
        "Calculating energy for column ('power', 'apparent')\n",
        "Calculating energy for column"
       ]
      },
      {
       "output_type": "stream",
       "stream": "stdout",
       "text": [
        " ('power', 'active')\n",
        "Calculating energy for column ('power', 'active')\n",
        "Calculating energy for column ('power', 'active')\n",
        "Calculating energy for column ('power', 'active')\n",
        "Calculating energy for column ('power', 'active')\n",
        "Calculating energy for column"
       ]
      },
      {
       "output_type": "stream",
       "stream": "stdout",
       "text": [
        " ('power', 'active')\n",
        "Calculating energy for column ('power', 'active')\n",
        "Calculating energy for column ('power', 'active')\n",
        "Calculating energy for column ('power', 'active')\n",
        "Calculating energy for column ('power', 'active')\n",
        "Calculating energy for column"
       ]
      },
      {
       "output_type": "stream",
       "stream": "stdout",
       "text": [
        " ('power', 'active')\n",
        "Calculating energy for column ('power', 'active')\n",
        "Calculating energy for column ('power', 'active')\n",
        "Calculating energy for column ('power', 'active')\n",
        "Calculating energy for column ('power', 'active')\n",
        "Calculating energy for column"
       ]
      },
      {
       "output_type": "stream",
       "stream": "stdout",
       "text": [
        " ('power', 'active')\n",
        "Calculating energy for column ('power', 'active')\n",
        "Calculating energy for column ('power', 'active')\n",
        "Calculating energy for column ('power', 'active')\n",
        "Calculating energy for column"
       ]
      },
      {
       "output_type": "stream",
       "stream": "stdout",
       "text": [
        " ('power', 'active')\n",
        "Calculating energy for column ('power', 'active')\n",
        "Calculating energy for column ('power', 'active')\n",
        "Calculating energy for column ('power', 'active')\n",
        "Calculating energy for column"
       ]
      },
      {
       "output_type": "stream",
       "stream": "stdout",
       "text": [
        " ('power', 'active')\n",
        "Calculating energy for column ('power', 'active')\n",
        "Calculating energy for column ('power', 'active')\n",
        "Calculating energy for column ('power', 'active')\n",
        "Calculating energy for column"
       ]
      },
      {
       "output_type": "stream",
       "stream": "stdout",
       "text": [
        " ('power', 'active')\n",
        "Calculating energy for column"
       ]
      },
      {
       "output_type": "stream",
       "stream": "stdout",
       "text": [
        " ('power', 'active')\n",
        "Calculating energy for column ('power', 'active')\n",
        "Calculating energy for column"
       ]
      },
      {
       "output_type": "stream",
       "stream": "stdout",
       "text": [
        " ('power', 'active')\n",
        "Calculating energy for column ('power', 'active')\n",
        "Calculating energy for column"
       ]
      },
      {
       "output_type": "stream",
       "stream": "stdout",
       "text": [
        " ('power', 'active')\n",
        "Calculating energy for column ('power', 'active')\n",
        "Calculating energy for column ('power', 'active')\n",
        "Calculating energy for column"
       ]
      },
      {
       "output_type": "stream",
       "stream": "stdout",
       "text": [
        " ('power', 'active')\n",
        "Calculating energy for column ('power', 'active')\n",
        "Calculating energy for column ('power', 'active')\n",
        "Calculating energy for column"
       ]
      },
      {
       "output_type": "stream",
       "stream": "stdout",
       "text": [
        " ('power', 'active')\n",
        "Calculating energy for column ('power', 'active')\n",
        "Calculating energy for column ('power', 'active')\n",
        "Calculating energy for column ('power', 'active')\n",
        "Calculating energy for column"
       ]
      },
      {
       "output_type": "stream",
       "stream": "stdout",
       "text": [
        " ('power', 'active')\n",
        "Calculating energy for column ('power', 'active')\n",
        "Calculating energy for column"
       ]
      },
      {
       "output_type": "stream",
       "stream": "stdout",
       "text": [
        " ('power', 'active')\n",
        "Calculating energy for column ('power', 'active')\n",
        "Calculating energy for column ('power', 'active')\n",
        "Calculating energy for column"
       ]
      },
      {
       "output_type": "stream",
       "stream": "stdout",
       "text": [
        " ('power', 'active')\n",
        "Calculating energy for column ('power', 'active')\n",
        "Calculating energy for column ('power', 'active')\n",
        "Calculating energy for column"
       ]
      },
      {
       "output_type": "stream",
       "stream": "stdout",
       "text": [
        " ('power', 'active')\n",
        "Calculating energy for column ('power', 'active')\n",
        "Calculating energy for column ('power', 'active')\n",
        "Calculating energy for column"
       ]
      },
      {
       "output_type": "stream",
       "stream": "stdout",
       "text": [
        " ('power', 'active')\n",
        "Calculating energy for column ('power', 'active')\n",
        "Calculating energy for column ('power', 'active')\n",
        "Calculating energy for column"
       ]
      },
      {
       "output_type": "stream",
       "stream": "stdout",
       "text": [
        " ('power', 'active')\n",
        "Calculating energy for column ('power', 'active')\n",
        "Calculating energy for column ('power', 'active')\n",
        "Calculating energy for column"
       ]
      },
      {
       "output_type": "stream",
       "stream": "stdout",
       "text": [
        " ('power', 'active')\n",
        "Calculating energy for column ('power', 'active')\n",
        "Calculating energy for column"
       ]
      },
      {
       "output_type": "stream",
       "stream": "stdout",
       "text": [
        " ('power', 'active')\n",
        "Calculating energy for column ('power', 'active')\n",
        "Calculating energy for column"
       ]
      },
      {
       "output_type": "stream",
       "stream": "stdout",
       "text": [
        " ('power', 'active')\n",
        "Calculating energy for column ('power', 'active')\n",
        "Calculating energy for column ('power', 'active')\n",
        "Calculating energy for column"
       ]
      },
      {
       "output_type": "stream",
       "stream": "stdout",
       "text": [
        " ('power', 'active')\n",
        "Calculating energy for column ('power', 'active')\n",
        "Calculating energy for column ('power', 'active')\n",
        "Calculating energy for column"
       ]
      },
      {
       "output_type": "stream",
       "stream": "stdout",
       "text": [
        " ('power', 'active')\n",
        "Calculating energy for column ('power', 'active')\n",
        "Calculating energy for column"
       ]
      },
      {
       "output_type": "stream",
       "stream": "stdout",
       "text": [
        " ('power', 'active')\n",
        "Calculating energy for column ('power', 'active')\n",
        "Calculating energy for column ('power', 'active')\n",
        "Calculating energy for column"
       ]
      },
      {
       "output_type": "stream",
       "stream": "stdout",
       "text": [
        " ('power', 'active')\n",
        "Calculating energy for column ('power', 'active')\n",
        "Calculating energy for column ('power', 'active')\n",
        "Calculating energy for column"
       ]
      },
      {
       "output_type": "stream",
       "stream": "stdout",
       "text": [
        " ('power', 'active')\n",
        "Calculating energy for column ('power', 'active')\n",
        "Calculating energy for column ('power', 'active')\n",
        "Calculating energy for column"
       ]
      },
      {
       "output_type": "stream",
       "stream": "stdout",
       "text": [
        " ('power', 'active')\n",
        "Calculating energy for column ('power', 'active')\n",
        "Calculating energy for column ('power', 'active')\n",
        "Calculating energy for column"
       ]
      },
      {
       "output_type": "stream",
       "stream": "stdout",
       "text": [
        " ('power', 'active')\n",
        "Calculating energy for column ('power', 'active')\n",
        "Calculating energy for column ('power', 'active')\n",
        "Calculating energy for column"
       ]
      },
      {
       "output_type": "stream",
       "stream": "stdout",
       "text": [
        " ('power', 'active')\n",
        "Calculating energy for column ('power', 'active')\n",
        "Calculating energy for column ('power', 'active')\n",
        "Calculating energy for column"
       ]
      },
      {
       "output_type": "stream",
       "stream": "stdout",
       "text": [
        " ('power', 'active')\n",
        "Calculating energy for column ('power', 'active')\n",
        "Calculating energy for column ('power', 'active')\n",
        "Calculating energy for column"
       ]
      },
      {
       "output_type": "stream",
       "stream": "stdout",
       "text": [
        " ('power', 'active')\n",
        "Calculating energy for column ('power', 'active')\n",
        "Calculating energy for column ('power', 'active')\n",
        "Calculating energy for column"
       ]
      },
      {
       "output_type": "stream",
       "stream": "stdout",
       "text": [
        " ('power', 'active')\n",
        "Calculating energy for column ('power', 'active')\n",
        "Calculating energy for column ('power', 'active')\n",
        "Calculating energy for column"
       ]
      },
      {
       "output_type": "stream",
       "stream": "stdout",
       "text": [
        " ('power', 'active')\n",
        "Calculating energy for column ('power', 'active')\n",
        "Calculating energy for column ('power', 'active')\n",
        "Calculating energy for column"
       ]
      },
      {
       "output_type": "stream",
       "stream": "stdout",
       "text": [
        " ('power', 'active')\n",
        "Calculating energy for column ('power', 'active')\n",
        "Calculating energy for column ('power', 'active')\n",
        "Calculating energy for column"
       ]
      },
      {
       "output_type": "stream",
       "stream": "stdout",
       "text": [
        " ('power', 'active')\n",
        "Calculating energy for column ('power', 'active')\n",
        "Calculating energy for column ('power', 'active')\n",
        "Calculating energy for column"
       ]
      },
      {
       "output_type": "stream",
       "stream": "stdout",
       "text": [
        " ('power', 'active')\n",
        "Calculating energy for column ('power', 'active')\n",
        "Calculating energy for column ('power', 'active')\n",
        "Calculating energy for column"
       ]
      },
      {
       "output_type": "stream",
       "stream": "stdout",
       "text": [
        " ('power', 'active')\n",
        "Calculating energy for column ('power', 'active')\n",
        "Calculating energy for column ('power', 'active')\n",
        "Calculating energy for column"
       ]
      },
      {
       "output_type": "stream",
       "stream": "stdout",
       "text": [
        " ('power', 'active')\n",
        "Calculating energy for column ('power', 'active')\n",
        "Calculating energy for column ('power', 'active')\n",
        "Calculating energy for column"
       ]
      },
      {
       "output_type": "stream",
       "stream": "stdout",
       "text": [
        " ('power', 'active')\n",
        "Calculating energy for column ('power', 'active')\n",
        "Calculating energy for column"
       ]
      },
      {
       "output_type": "stream",
       "stream": "stdout",
       "text": [
        " ('power', 'active')\n",
        "Calculating energy for column ('power', 'active')\n",
        "Calculating energy for column"
       ]
      },
      {
       "output_type": "stream",
       "stream": "stdout",
       "text": [
        " ('power', 'active')\n",
        "Calculating energy for column ('power', 'active')\n",
        "Calculating energy for column ('power', 'active')\n",
        "Calculating energy for column"
       ]
      },
      {
       "output_type": "stream",
       "stream": "stdout",
       "text": [
        " ('power', 'active')\n",
        "Calculating energy for column ('power', 'active')\n",
        "Calculating energy for column"
       ]
      },
      {
       "output_type": "stream",
       "stream": "stdout",
       "text": [
        " ('power', 'active')\n",
        "Calculating energy for column ('power', 'active')\n",
        "Calculating energy for column ('power', 'active')\n",
        "Calculating energy for column"
       ]
      },
      {
       "output_type": "stream",
       "stream": "stdout",
       "text": [
        " ('power', 'active')\n",
        "Calculating energy for column ('power', 'active')\n",
        "Calculating energy for column"
       ]
      },
      {
       "output_type": "stream",
       "stream": "stdout",
       "text": [
        " ('power', 'active')\n",
        "Calculating energy for column ('power', 'active')\n",
        "Calculating energy for column"
       ]
      },
      {
       "output_type": "stream",
       "stream": "stdout",
       "text": [
        " ('power', 'active')\n",
        "Calculating energy for column ('power', 'active')\n",
        "Calculating energy for column"
       ]
      },
      {
       "output_type": "stream",
       "stream": "stdout",
       "text": [
        " ('power', 'active')\n",
        "Calculating energy for column ('power', 'active')\n",
        "Calculating energy for column"
       ]
      },
      {
       "output_type": "stream",
       "stream": "stdout",
       "text": [
        " ('power', 'active')\n",
        "Calculating energy for column ('power', 'active')\n",
        "Calculating energy for column"
       ]
      },
      {
       "output_type": "stream",
       "stream": "stdout",
       "text": [
        " ('power', 'active')\n",
        "Calculating energy for column ('power', 'active')\n",
        "Calculating energy for column"
       ]
      },
      {
       "output_type": "stream",
       "stream": "stdout",
       "text": [
        " ('power', 'active')\n",
        "Calculating energy for column ('power', 'active')\n",
        "Calculating energy for column"
       ]
      },
      {
       "output_type": "stream",
       "stream": "stdout",
       "text": [
        " ('power', 'active')\n",
        "Calculating energy for column ('power', 'active')\n",
        "Calculating energy for column"
       ]
      },
      {
       "output_type": "stream",
       "stream": "stdout",
       "text": [
        " ('power', 'active')\n",
        "Calculating energy for column ('power', 'active')\n",
        "Calculating energy for column"
       ]
      },
      {
       "output_type": "stream",
       "stream": "stdout",
       "text": [
        " ('power', 'active')\n",
        "Calculating energy for column"
       ]
      },
      {
       "output_type": "stream",
       "stream": "stdout",
       "text": [
        " ('power', 'active')\n",
        "Calculating energy for column ('power', 'active')\n",
        "Calculating energy for column"
       ]
      },
      {
       "output_type": "stream",
       "stream": "stdout",
       "text": [
        " ('power', 'active')\n",
        "Calculating energy for column ('power', 'active')\n",
        "Calculating energy for column"
       ]
      },
      {
       "output_type": "stream",
       "stream": "stdout",
       "text": [
        " ('power', 'active')\n",
        "Calculating energy for column ('power', 'active')\n",
        "Calculating energy for column"
       ]
      },
      {
       "output_type": "stream",
       "stream": "stdout",
       "text": [
        " ('power', 'active')\n",
        "Calculating energy for column ('power', 'active')\n",
        "Calculating energy for column"
       ]
      },
      {
       "output_type": "stream",
       "stream": "stdout",
       "text": [
        " ('power', 'active')\n",
        "Calculating energy for column ('power', 'active')\n",
        "Calculating energy for column"
       ]
      },
      {
       "output_type": "stream",
       "stream": "stdout",
       "text": [
        " ('power', 'active')\n",
        "Calculating energy for column ('power', 'active')\n",
        "Calculating energy for column"
       ]
      },
      {
       "output_type": "stream",
       "stream": "stdout",
       "text": [
        " ('power', 'active')\n",
        "Calculating energy for column ('power', 'active')\n",
        "Calculating energy for column"
       ]
      },
      {
       "output_type": "stream",
       "stream": "stdout",
       "text": [
        " ('power', 'active')\n",
        "Calculating energy for column ('power', 'active')\n",
        "Calculating energy for column"
       ]
      },
      {
       "output_type": "stream",
       "stream": "stdout",
       "text": [
        " ('power', 'active')\n",
        "Calculating energy for column ('power', 'active')\n",
        "Calculating energy for column"
       ]
      },
      {
       "output_type": "stream",
       "stream": "stdout",
       "text": [
        " ('power', 'active')\n",
        "Calculating energy for column ('power', 'active')\n",
        "Calculating energy for column"
       ]
      },
      {
       "output_type": "stream",
       "stream": "stdout",
       "text": [
        " ('power', 'active')\n",
        "Calculating energy for column ('power', 'active')\n",
        "Calculating energy for column"
       ]
      },
      {
       "output_type": "stream",
       "stream": "stdout",
       "text": [
        " ('power', 'active')\n",
        "Calculating energy for column ('power', 'active')\n",
        "Calculating energy for column"
       ]
      },
      {
       "output_type": "stream",
       "stream": "stdout",
       "text": [
        " ('power', 'active')\n",
        "Calculating energy for column ('power', 'active')\n",
        "Calculating energy for column"
       ]
      },
      {
       "output_type": "stream",
       "stream": "stdout",
       "text": [
        " ('power', 'active')\n",
        "Calculating energy for column ('power', 'active')\n",
        "Calculating energy for column"
       ]
      },
      {
       "output_type": "stream",
       "stream": "stdout",
       "text": [
        " ('power', 'active')\n",
        "Calculating energy for column ('power', 'active')\n",
        "Calculating energy for column"
       ]
      },
      {
       "output_type": "stream",
       "stream": "stdout",
       "text": [
        " ('power', 'active')\n",
        "Calculating energy for column ('power', 'active')\n",
        "Calculating energy for column"
       ]
      },
      {
       "output_type": "stream",
       "stream": "stdout",
       "text": [
        " ('power', 'active')\n",
        "Calculating energy for column ('power', 'active')\n",
        "Calculating energy for column"
       ]
      },
      {
       "output_type": "stream",
       "stream": "stdout",
       "text": [
        " ('power', 'active')\n",
        "Calculating energy for column ('power', 'active')\n",
        "Calculating energy for column"
       ]
      },
      {
       "output_type": "stream",
       "stream": "stdout",
       "text": [
        " ('power', 'active')\n",
        "Calculating energy for column ('power', 'active')\n",
        "Calculating energy for column"
       ]
      },
      {
       "output_type": "stream",
       "stream": "stdout",
       "text": [
        " ('power', 'active')\n",
        "Calculating energy for column ('power', 'active')\n",
        "Calculating energy for column"
       ]
      },
      {
       "output_type": "stream",
       "stream": "stdout",
       "text": [
        " ('power', 'active')\n",
        "Calculating energy for column"
       ]
      },
      {
       "output_type": "stream",
       "stream": "stdout",
       "text": [
        " ('power', 'active')\n",
        "Calculating energy for column ('power', 'active')\n",
        "Calculating energy for column"
       ]
      },
      {
       "output_type": "stream",
       "stream": "stdout",
       "text": [
        " ('power', 'active')\n",
        "Calculating energy for column ('power', 'active')\n",
        "Calculating energy for column"
       ]
      },
      {
       "output_type": "stream",
       "stream": "stdout",
       "text": [
        " ('power', 'active')\n",
        "Calculating energy for column ('power', 'active')\n",
        "Calculating energy for column"
       ]
      },
      {
       "output_type": "stream",
       "stream": "stdout",
       "text": [
        " ('power', 'active')\n",
        "Calculating energy for column"
       ]
      },
      {
       "output_type": "stream",
       "stream": "stdout",
       "text": [
        " ('power', 'active')\n",
        "Calculating energy for column ('power', 'active')\n",
        "Calculating energy for column"
       ]
      },
      {
       "output_type": "stream",
       "stream": "stdout",
       "text": [
        " ('power', 'active')\n",
        "Calculating energy for column ('power', 'active')\n",
        "Calculating energy for column"
       ]
      },
      {
       "output_type": "stream",
       "stream": "stdout",
       "text": [
        " ('power', 'active')\n",
        "Calculating energy for column ('power', 'active')\n",
        "Calculating energy for column"
       ]
      },
      {
       "output_type": "stream",
       "stream": "stdout",
       "text": [
        " ('power', 'active')\n",
        "Calculating energy for column ('power', 'active')\n",
        "Calculating energy for column"
       ]
      },
      {
       "output_type": "stream",
       "stream": "stdout",
       "text": [
        " ('power', 'active')\n",
        "Calculating energy for column ('power', 'active')\n",
        "Calculating energy for column"
       ]
      },
      {
       "output_type": "stream",
       "stream": "stdout",
       "text": [
        " ('power', 'active')\n",
        "Calculating energy for column"
       ]
      },
      {
       "output_type": "stream",
       "stream": "stdout",
       "text": [
        " ('power', 'active')\n",
        "Calculating energy for column ('power', 'active')\n",
        "Calculating energy for column"
       ]
      },
      {
       "output_type": "stream",
       "stream": "stdout",
       "text": [
        " ('power', 'active')\n",
        "Calculating energy for column ('power', 'active')\n",
        "Calculating energy for column"
       ]
      },
      {
       "output_type": "stream",
       "stream": "stdout",
       "text": [
        " ('power', 'active')\n",
        "Calculating energy for column ('power', 'active')\n",
        "Calculating energy for column"
       ]
      },
      {
       "output_type": "stream",
       "stream": "stdout",
       "text": [
        " ('power', 'active')\n",
        "Calculating energy for column"
       ]
      },
      {
       "output_type": "stream",
       "stream": "stdout",
       "text": [
        " ('power', 'active')\n",
        "Calculating energy for column ('power', 'active')\n",
        "Calculating energy for column"
       ]
      },
      {
       "output_type": "stream",
       "stream": "stdout",
       "text": [
        " ('power', 'active')\n",
        "Calculating energy for column ('power', 'active')\n",
        "Calculating energy for column"
       ]
      },
      {
       "output_type": "stream",
       "stream": "stdout",
       "text": [
        " ('power', 'active')\n",
        "Calculating energy for column"
       ]
      },
      {
       "output_type": "stream",
       "stream": "stdout",
       "text": [
        " ('power', 'active')\n",
        "Calculating energy for column"
       ]
      },
      {
       "output_type": "stream",
       "stream": "stdout",
       "text": [
        " ('power', 'active')\n",
        "Calculating energy for column"
       ]
      },
      {
       "output_type": "stream",
       "stream": "stdout",
       "text": [
        " ('power', 'active')\n",
        "Calculating energy for column ('power', 'active')\n",
        "Calculating energy for column ('power', 'active')\n",
        "Calculating energy for column ('power', 'active')\n",
        "Calculating energy for column ('power', 'active')\n",
        "Calculating energy for column"
       ]
      },
      {
       "output_type": "stream",
       "stream": "stdout",
       "text": [
        " ('power', 'active')\n",
        "Calculating energy for column ('power', 'active')\n",
        "Calculating energy for column ('power', 'active')\n",
        "Calculating energy for column ('power', 'active')\n",
        "Calculating energy for column"
       ]
      },
      {
       "output_type": "stream",
       "stream": "stdout",
       "text": [
        " ('power', 'active')\n",
        "Calculating energy for column ('power', 'active')\n",
        "Calculating energy for column ('power', 'active')\n",
        "Calculating energy for column ('power', 'active')\n",
        "Calculating energy for column"
       ]
      },
      {
       "output_type": "stream",
       "stream": "stdout",
       "text": [
        " ('power', 'active')\n",
        "Calculating energy for column ('power', 'active')\n",
        "Calculating energy for column"
       ]
      },
      {
       "output_type": "stream",
       "stream": "stdout",
       "text": [
        " ('power', 'active')\n",
        "Calculating energy for column ('power', 'active')\n",
        "Calculating energy for column"
       ]
      },
      {
       "output_type": "stream",
       "stream": "stdout",
       "text": [
        " ('power', 'active')\n",
        "Calculating energy for column ('power', 'active')\n",
        "Calculating energy for column ('power', 'active')\n",
        "Calculating energy for column"
       ]
      },
      {
       "output_type": "stream",
       "stream": "stdout",
       "text": [
        " ('power', 'active')\n",
        "Calculating energy for column ('power', 'active')\n",
        "Calculating energy for column ('power', 'active')\n",
        "Calculating energy for column"
       ]
      },
      {
       "output_type": "stream",
       "stream": "stdout",
       "text": [
        " ('power', 'active')\n",
        "Calculating energy for column"
       ]
      },
      {
       "output_type": "stream",
       "stream": "stdout",
       "text": [
        " ('power', 'active')\n",
        "Calculating energy for column ('power', 'active')\n",
        "Calculating energy for column"
       ]
      },
      {
       "output_type": "stream",
       "stream": "stdout",
       "text": [
        " ('power', 'active')\n",
        "Calculating energy for column ('power', 'active')\n",
        "Calculating energy for column ('power', 'active')\n",
        "Calculating energy for column"
       ]
      },
      {
       "output_type": "stream",
       "stream": "stdout",
       "text": [
        " ('power', 'active')\n",
        "Calculating energy for column ('power', 'active')\n",
        "Calculating energy for column ('power', 'active')\n",
        "Calculating energy for column"
       ]
      },
      {
       "output_type": "stream",
       "stream": "stdout",
       "text": [
        " ('power', 'active')\n",
        "Calculating energy for column ('power', 'active')\n",
        "Calculating energy for column"
       ]
      },
      {
       "output_type": "stream",
       "stream": "stdout",
       "text": [
        " ('power', 'active')\n",
        "Calculating energy for column ('power', 'active')\n",
        "Calculating energy for column ('power', 'active')\n",
        "Calculating energy for column"
       ]
      },
      {
       "output_type": "stream",
       "stream": "stdout",
       "text": [
        " ('power', 'active')\n",
        "Calculating energy for column ('power', 'active')\n",
        "Calculating energy for column"
       ]
      },
      {
       "output_type": "stream",
       "stream": "stdout",
       "text": [
        " ('power', 'active')\n",
        "Calculating energy for column ('power', 'active')\n",
        "Calculating energy for column"
       ]
      },
      {
       "output_type": "stream",
       "stream": "stdout",
       "text": [
        " ('power', 'active')\n",
        "Calculating energy for column ('power', 'active')\n",
        "Calculating energy for column"
       ]
      },
      {
       "output_type": "stream",
       "stream": "stdout",
       "text": [
        " ('power', 'active')\n",
        "Calculating energy for column ('power', 'active')\n",
        "Calculating energy for column"
       ]
      },
      {
       "output_type": "stream",
       "stream": "stdout",
       "text": [
        " ('power', 'active')\n",
        "Calculating energy for column ('power', 'active')\n",
        "Calculating energy for column"
       ]
      },
      {
       "output_type": "stream",
       "stream": "stdout",
       "text": [
        " ('power', 'active')\n",
        "Calculating energy for column ('power', 'active')\n",
        "Calculating energy for column ('power', 'active')\n",
        "Calculating energy for column"
       ]
      },
      {
       "output_type": "stream",
       "stream": "stdout",
       "text": [
        " ('power', 'active')\n",
        "Calculating energy for column ('power', 'active')\n",
        "Calculating energy for column ('power', 'active')\n",
        "Calculating energy for column"
       ]
      },
      {
       "output_type": "stream",
       "stream": "stdout",
       "text": [
        " ('power', 'active')\n",
        "Calculating energy for column ('power', 'active')\n",
        "Calculating energy for column ('power', 'active')\n",
        "Calculating energy for column"
       ]
      },
      {
       "output_type": "stream",
       "stream": "stdout",
       "text": [
        " ('power', 'active')\n",
        "Calculating energy for column ('power', 'active')\n",
        "Calculating energy for column"
       ]
      },
      {
       "output_type": "stream",
       "stream": "stdout",
       "text": [
        " ('power', 'active')\n",
        "Calculating energy for column ('power', 'active')\n",
        "Calculating energy for column"
       ]
      },
      {
       "output_type": "stream",
       "stream": "stdout",
       "text": [
        " ('power', 'active')\n",
        "Calculating energy for column ('power', 'active')\n",
        "Calculating energy for column ('power', 'active')\n",
        "Calculating energy for column"
       ]
      },
      {
       "output_type": "stream",
       "stream": "stdout",
       "text": [
        " ('power', 'active')\n",
        "Calculating energy for column ('power', 'active')\n",
        "Calculating energy for column ('power', 'active')\n",
        "Calculating energy for column"
       ]
      },
      {
       "output_type": "stream",
       "stream": "stdout",
       "text": [
        " ('power', 'active')\n",
        "Calculating energy for column ('power', 'active')\n",
        "Calculating energy for column"
       ]
      },
      {
       "output_type": "stream",
       "stream": "stdout",
       "text": [
        " ('power', 'active')\n",
        "Calculating energy for column ('power', 'active')\n",
        "Calculating energy for column"
       ]
      },
      {
       "output_type": "stream",
       "stream": "stdout",
       "text": [
        " ('power', 'active')\n",
        "Calculating energy for column ('power', 'active')\n",
        "Calculating energy for column ('power', 'active')\n",
        "Calculating energy for column"
       ]
      },
      {
       "output_type": "stream",
       "stream": "stdout",
       "text": [
        " ('power', 'active')\n",
        "Calculating energy for column ('power', 'active')\n",
        "Calculating energy for column"
       ]
      },
      {
       "output_type": "stream",
       "stream": "stdout",
       "text": [
        " ('power', 'active')\n",
        "Calculating energy for column ('power', 'active')\n",
        "Calculating energy for column"
       ]
      },
      {
       "output_type": "stream",
       "stream": "stdout",
       "text": [
        " ('power', 'active')\n",
        "Calculating energy for column ('power', 'active')\n",
        "Calculating energy for column"
       ]
      },
      {
       "output_type": "stream",
       "stream": "stdout",
       "text": [
        " ('power', 'active')\n",
        "Calculating energy for column ('power', 'active')\n",
        "Calculating energy for column"
       ]
      },
      {
       "output_type": "stream",
       "stream": "stdout",
       "text": [
        " ('power', 'active')\n",
        "Calculating energy for column ('power', 'active')\n",
        "Calculating energy for column"
       ]
      },
      {
       "output_type": "stream",
       "stream": "stdout",
       "text": [
        " ('power', 'active')\n",
        "Calculating energy for column"
       ]
      },
      {
       "output_type": "stream",
       "stream": "stdout",
       "text": [
        " ('power', 'active')\n",
        "Calculating energy for column ('power', 'active')\n",
        "Calculating energy for column"
       ]
      },
      {
       "output_type": "stream",
       "stream": "stdout",
       "text": [
        " ('power', 'active')\n",
        "Calculating energy for column"
       ]
      },
      {
       "output_type": "stream",
       "stream": "stdout",
       "text": [
        " ('power', 'active')\n",
        "Calculating energy for column"
       ]
      },
      {
       "output_type": "stream",
       "stream": "stdout",
       "text": [
        " ('power', 'active')\n",
        "Calculating energy for column ('power', 'active')\n",
        "Calculating energy for column"
       ]
      },
      {
       "output_type": "stream",
       "stream": "stdout",
       "text": [
        " ('power', 'active')\n",
        "Calculating energy for column ('power', 'active')\n",
        "Calculating energy for column"
       ]
      },
      {
       "output_type": "stream",
       "stream": "stdout",
       "text": [
        " ('power', 'active')\n",
        "Calculating energy for column ('power', 'active')\n",
        "Calculating energy for column"
       ]
      },
      {
       "output_type": "stream",
       "stream": "stdout",
       "text": [
        " ('power', 'active')\n",
        "Calculating energy for column ('power', 'active')\n",
        "Calculating energy for column"
       ]
      },
      {
       "output_type": "stream",
       "stream": "stdout",
       "text": [
        " ('power', 'active')\n",
        "Calculating energy for column ('power', 'active')\n",
        "Calculating energy for column"
       ]
      },
      {
       "output_type": "stream",
       "stream": "stdout",
       "text": [
        " ('power', 'active')\n",
        "Calculating energy for column ('power', 'active')\n",
        "Calculating energy for column"
       ]
      },
      {
       "output_type": "stream",
       "stream": "stdout",
       "text": [
        " ('power', 'active')\n",
        "Calculating energy for column ('power', 'active')\n",
        "Calculating energy for column"
       ]
      },
      {
       "output_type": "stream",
       "stream": "stdout",
       "text": [
        " ('power', 'active')\n",
        "Calculating energy for column"
       ]
      },
      {
       "output_type": "stream",
       "stream": "stdout",
       "text": [
        " ('power', 'active')\n",
        "Calculating energy for column ('power', 'active')\n",
        "Calculating energy for column"
       ]
      },
      {
       "output_type": "stream",
       "stream": "stdout",
       "text": [
        " ('power', 'active')\n",
        "Calculating energy for column ('power', 'active')\n",
        "Calculating energy for column"
       ]
      },
      {
       "output_type": "stream",
       "stream": "stdout",
       "text": [
        " ('power', 'active')\n",
        "Calculating energy for column ('power', 'active')\n",
        "Calculating energy for column"
       ]
      },
      {
       "output_type": "stream",
       "stream": "stdout",
       "text": [
        " ('power', 'active')\n",
        "Calculating energy for column ('power', 'active')\n",
        "Calculating energy for column"
       ]
      },
      {
       "output_type": "stream",
       "stream": "stdout",
       "text": [
        " ('power', 'active')\n",
        "Calculating energy for column ('power', 'active')\n",
        "Calculating energy for column"
       ]
      },
      {
       "output_type": "stream",
       "stream": "stdout",
       "text": [
        " ('power', 'active')\n",
        "Calculating energy for column ('power', 'active')\n",
        "Calculating energy for column"
       ]
      },
      {
       "output_type": "stream",
       "stream": "stdout",
       "text": [
        " ('power', 'active')\n",
        "Calculating energy for column ('power', 'active')\n",
        "Calculating energy for column"
       ]
      },
      {
       "output_type": "stream",
       "stream": "stdout",
       "text": [
        " ('power', 'active')\n",
        "Calculating energy for column ('power', 'active')\n",
        "Calculating energy for column"
       ]
      },
      {
       "output_type": "stream",
       "stream": "stdout",
       "text": [
        " ('power', 'active')\n",
        "Calculating energy for column ('power', 'active')\n",
        "Calculating energy for column"
       ]
      },
      {
       "output_type": "stream",
       "stream": "stdout",
       "text": [
        " ('power', 'active')\n",
        "Calculating energy for column ('power', 'active')\n",
        "Calculating energy for column"
       ]
      },
      {
       "output_type": "stream",
       "stream": "stdout",
       "text": [
        " ('power', 'active')\n",
        "Calculating energy for column ('power', 'active')\n",
        "Calculating energy for column"
       ]
      },
      {
       "output_type": "stream",
       "stream": "stdout",
       "text": [
        " ('power', 'active')\n",
        "Calculating energy for column ('power', 'active')\n",
        "Calculating energy for column"
       ]
      },
      {
       "output_type": "stream",
       "stream": "stdout",
       "text": [
        " ('power', 'active')\n",
        "Calculating energy for column ('power', 'active')\n",
        "Calculating energy for column"
       ]
      },
      {
       "output_type": "stream",
       "stream": "stdout",
       "text": [
        " ('power', 'active')\n",
        "Calculating energy for column"
       ]
      },
      {
       "output_type": "stream",
       "stream": "stdout",
       "text": [
        " ('power', 'active')\n",
        "Calculating energy for column ('power', 'active')\n",
        "Calculating energy for column"
       ]
      },
      {
       "output_type": "stream",
       "stream": "stdout",
       "text": [
        " ('power', 'active')\n",
        "Calculating energy for column ('power', 'active')\n",
        "Calculating energy for column"
       ]
      },
      {
       "output_type": "stream",
       "stream": "stdout",
       "text": [
        " ('power', 'active')\n",
        "Calculating energy for column ('power', 'active')\n",
        "Calculating energy for column"
       ]
      },
      {
       "output_type": "stream",
       "stream": "stdout",
       "text": [
        " ('power', 'active')\n",
        "Calculating energy for column ('power', 'active')\n",
        "Calculating energy for column"
       ]
      },
      {
       "output_type": "stream",
       "stream": "stdout",
       "text": [
        " ('power', 'active')\n",
        "Calculating energy for column ('power', 'active')\n",
        "Calculating energy for column"
       ]
      },
      {
       "output_type": "stream",
       "stream": "stdout",
       "text": [
        " ('power', 'active')\n",
        "Calculating energy for column"
       ]
      },
      {
       "output_type": "stream",
       "stream": "stdout",
       "text": [
        " ('power', 'active')\n",
        "Calculating energy for column ('power', 'active')\n",
        "Calculating energy for column"
       ]
      },
      {
       "output_type": "stream",
       "stream": "stdout",
       "text": [
        " ('power', 'active')\n",
        "Calculating energy for column ('power', 'active')\n",
        "Calculating energy for column"
       ]
      },
      {
       "output_type": "stream",
       "stream": "stdout",
       "text": [
        " ('power', 'active')\n",
        "Calculating energy for column"
       ]
      },
      {
       "output_type": "stream",
       "stream": "stdout",
       "text": [
        " ('power', 'active')\n",
        "Calculating energy for column"
       ]
      },
      {
       "output_type": "stream",
       "stream": "stdout",
       "text": [
        " ('power', 'active')\n",
        "Calculating energy for column"
       ]
      },
      {
       "output_type": "stream",
       "stream": "stdout",
       "text": [
        " ('power', 'active')\n",
        "Calculating energy for column"
       ]
      },
      {
       "output_type": "stream",
       "stream": "stdout",
       "text": [
        " ('power', 'active')\n",
        "Calculating energy for column"
       ]
      },
      {
       "output_type": "stream",
       "stream": "stdout",
       "text": [
        " ('power', 'active')\n",
        "Calculating energy for column ('power', 'active')\n",
        "Calculating energy for column ('power', 'active')\n",
        "Calculating energy for column ('power', 'active')\n",
        "Calculating energy for column ('power', 'active')\n",
        "Calculating energy for column"
       ]
      },
      {
       "output_type": "stream",
       "stream": "stdout",
       "text": [
        " ('power', 'active')\n",
        "Calculating energy for column ('power', 'active')\n",
        "Calculating energy for column ('power', 'active')\n",
        "Calculating energy for column ('power', 'active')\n",
        "Calculating energy for column"
       ]
      },
      {
       "output_type": "stream",
       "stream": "stdout",
       "text": [
        " ('power', 'active')\n",
        "Calculating energy for column ('power', 'active')\n",
        "Calculating energy for column ('power', 'active')\n",
        "Calculating energy for column ('power', 'active')\n",
        "Calculating energy for column"
       ]
      },
      {
       "output_type": "stream",
       "stream": "stdout",
       "text": [
        " ('power', 'active')\n",
        "Calculating energy for column ('power', 'active')\n",
        "Calculating energy for column ('power', 'active')\n",
        "Calculating energy for column ('power', 'active')\n",
        "Calculating energy for column"
       ]
      },
      {
       "output_type": "stream",
       "stream": "stdout",
       "text": [
        " ('power', 'active')\n",
        "Calculating energy for column ('power', 'active')\n",
        "Calculating energy for column ('power', 'active')\n",
        "Calculating energy for column"
       ]
      },
      {
       "output_type": "stream",
       "stream": "stdout",
       "text": [
        " ('power', 'active')\n",
        "Calculating energy for column ('power', 'active')\n",
        "Calculating energy for column ('power', 'active')\n",
        "Calculating energy for column"
       ]
      },
      {
       "output_type": "stream",
       "stream": "stdout",
       "text": [
        " ('power', 'active')\n",
        "Calculating energy for column ('power', 'active')\n",
        "Calculating energy for column ('power', 'active')\n",
        "Calculating energy for column ('power', 'active')\n",
        "Calculating energy for column"
       ]
      },
      {
       "output_type": "stream",
       "stream": "stdout",
       "text": [
        " ('power', 'active')\n",
        "Calculating energy for column ('power', 'active')\n",
        "Calculating energy for column ('power', 'active')\n",
        "Calculating energy for column"
       ]
      },
      {
       "output_type": "stream",
       "stream": "stdout",
       "text": [
        " ('power', 'active')\n",
        "Calculating energy for column"
       ]
      },
      {
       "output_type": "stream",
       "stream": "stdout",
       "text": [
        " ('power', 'active')\n",
        "Calculating energy for column ('power', 'active')\n",
        "Calculating energy for column ('power', 'active')\n",
        "Calculating energy for column"
       ]
      },
      {
       "output_type": "stream",
       "stream": "stdout",
       "text": [
        " ('power', 'active')\n",
        "Calculating energy for column ('power', 'active')\n",
        "Calculating energy for column ('power', 'active')\n",
        "Calculating energy for column"
       ]
      },
      {
       "output_type": "stream",
       "stream": "stdout",
       "text": [
        " ('power', 'active')\n",
        "Calculating energy for column ('power', 'active')\n",
        "Calculating energy for column"
       ]
      },
      {
       "output_type": "stream",
       "stream": "stdout",
       "text": [
        " ('power', 'active')\n",
        "Calculating energy for column ('power', 'active')\n",
        "Calculating energy for column ('power', 'active')\n",
        "Calculating energy for column"
       ]
      },
      {
       "output_type": "stream",
       "stream": "stdout",
       "text": [
        " ('power', 'active')\n",
        "Calculating energy for column ('power', 'active')\n",
        "Calculating energy for column ('power', 'active')\n",
        "Calculating energy for column ('power', 'active')\n",
        "Calculating energy for column"
       ]
      },
      {
       "output_type": "stream",
       "stream": "stdout",
       "text": [
        " ('power', 'active')\n",
        "Calculating energy for column ('power', 'active')\n",
        "Calculating energy for column ('power', 'active')\n",
        "Calculating energy for column ('power', 'active')\n",
        "Calculating energy for column"
       ]
      },
      {
       "output_type": "stream",
       "stream": "stdout",
       "text": [
        " ('power', 'active')\n",
        "Calculating energy for column ('power', 'active')\n",
        "Calculating energy for column ('power', 'active')\n",
        "Calculating energy for column ('power', 'active')\n",
        "Calculating energy for column"
       ]
      },
      {
       "output_type": "stream",
       "stream": "stdout",
       "text": [
        " ('power', 'active')\n",
        "Calculating energy for column ('power', 'active')\n",
        "Calculating energy for column"
       ]
      },
      {
       "output_type": "stream",
       "stream": "stdout",
       "text": [
        " ('power', 'active')\n",
        "Calculating energy for column ('power', 'active')\n",
        "Calculating energy for column"
       ]
      },
      {
       "output_type": "stream",
       "stream": "stdout",
       "text": [
        " ('power', 'active')\n",
        "Calculating energy for column"
       ]
      },
      {
       "output_type": "stream",
       "stream": "stdout",
       "text": [
        " ('power', 'active')\n",
        "Calculating energy for column ('power', 'active')\n",
        "Calculating energy for column"
       ]
      },
      {
       "output_type": "stream",
       "stream": "stdout",
       "text": [
        " ('power', 'active')\n",
        "Calculating energy for column ('power', 'active')\n",
        "Calculating energy for column ('power', 'active')\n",
        "Calculating energy for column"
       ]
      },
      {
       "output_type": "stream",
       "stream": "stdout",
       "text": [
        " ('power', 'active')\n",
        "Calculating energy for column ('power', 'active')\n",
        "Calculating energy for column ('power', 'active')\n",
        "Calculating energy for column"
       ]
      },
      {
       "output_type": "stream",
       "stream": "stdout",
       "text": [
        " ('power', 'active')\n",
        "Calculating energy for column ('power', 'active')\n",
        "Calculating energy for column ('power', 'active')\n",
        "Calculating energy for column"
       ]
      },
      {
       "output_type": "stream",
       "stream": "stdout",
       "text": [
        " ('power', 'active')\n",
        "Calculating energy for column ('power', 'active')\n",
        "Calculating energy for column ('power', 'active')\n",
        "Calculating energy for column"
       ]
      },
      {
       "output_type": "stream",
       "stream": "stdout",
       "text": [
        " ('power', 'active')\n",
        "Calculating energy for column ('power', 'active')\n",
        "Calculating energy for column ('power', 'active')\n",
        "Calculating energy for column"
       ]
      },
      {
       "output_type": "stream",
       "stream": "stdout",
       "text": [
        " ('power', 'active')\n",
        "Calculating energy for column ('power', 'active')\n",
        "Calculating energy for column ('power', 'active')\n",
        "Calculating energy for column"
       ]
      },
      {
       "output_type": "stream",
       "stream": "stdout",
       "text": [
        " ('power', 'active')\n",
        "Calculating energy for column ('power', 'active')\n",
        "Calculating energy for column ('power', 'active')\n",
        "Calculating energy for column"
       ]
      },
      {
       "output_type": "stream",
       "stream": "stdout",
       "text": [
        " ('power', 'active')\n",
        "Calculating energy for column ('power', 'active')\n",
        "Calculating energy for column ('power', 'active')\n",
        "Calculating energy for column"
       ]
      },
      {
       "output_type": "stream",
       "stream": "stdout",
       "text": [
        " ('power', 'active')\n",
        "Calculating energy for column ('power', 'active')\n",
        "Calculating energy for column ('power', 'active')\n",
        "Calculating energy for column"
       ]
      },
      {
       "output_type": "stream",
       "stream": "stdout",
       "text": [
        " ('power', 'active')\n",
        "Calculating energy for column ('power', 'active')\n",
        "Calculating energy for column"
       ]
      },
      {
       "output_type": "stream",
       "stream": "stdout",
       "text": [
        " ('power', 'active')\n",
        "Calculating energy for column ('power', 'active')\n",
        "Calculating energy for column"
       ]
      },
      {
       "output_type": "stream",
       "stream": "stdout",
       "text": [
        " ('power', 'active')\n",
        "Calculating energy for column ('power', 'active')\n",
        "Calculating energy for column"
       ]
      },
      {
       "output_type": "stream",
       "stream": "stdout",
       "text": [
        " ('power', 'active')\n",
        "Calculating energy for column ('power', 'active')\n",
        "Calculating energy for column"
       ]
      },
      {
       "output_type": "stream",
       "stream": "stdout",
       "text": [
        " ('power', 'active')\n",
        "Calculating energy for column ('power', 'active')\n",
        "Calculating energy for column"
       ]
      },
      {
       "output_type": "stream",
       "stream": "stdout",
       "text": [
        " ('power', 'active')\n",
        "Calculating energy for column"
       ]
      },
      {
       "output_type": "stream",
       "stream": "stdout",
       "text": [
        " ('power', 'active')\n",
        "Calculating energy for column ('power', 'active')\n",
        "Calculating energy for column"
       ]
      },
      {
       "output_type": "stream",
       "stream": "stdout",
       "text": [
        " ('power', 'active')\n",
        "Calculating energy for column ('power', 'active')\n",
        "Calculating energy for column"
       ]
      },
      {
       "output_type": "stream",
       "stream": "stdout",
       "text": [
        " ('power', 'active')\n",
        "Calculating energy for column ('power', 'active')\n",
        "Calculating energy for column"
       ]
      },
      {
       "output_type": "stream",
       "stream": "stdout",
       "text": [
        " ('power', 'active')\n",
        "Calculating energy for column"
       ]
      },
      {
       "output_type": "stream",
       "stream": "stdout",
       "text": [
        " ('power', 'active')\n",
        "Calculating energy for column ('power', 'active')\n",
        "Calculating energy for column"
       ]
      },
      {
       "output_type": "stream",
       "stream": "stdout",
       "text": [
        " ('power', 'active')\n",
        "Calculating energy for column ('power', 'active')\n",
        "Calculating energy for column"
       ]
      },
      {
       "output_type": "stream",
       "stream": "stdout",
       "text": [
        " ('power', 'active')\n",
        "Calculating energy for column"
       ]
      },
      {
       "output_type": "stream",
       "stream": "stdout",
       "text": [
        " ('power', 'active')\n",
        "Calculating energy for column ('power', 'active')\n",
        "Calculating energy for column"
       ]
      },
      {
       "output_type": "stream",
       "stream": "stdout",
       "text": [
        " ('power', 'active')\n",
        "Calculating energy for column ('power', 'active')\n",
        "Calculating energy for column"
       ]
      },
      {
       "output_type": "stream",
       "stream": "stdout",
       "text": [
        " ('power', 'active')\n",
        "Calculating energy for column"
       ]
      },
      {
       "output_type": "stream",
       "stream": "stdout",
       "text": [
        " ('power', 'active')\n",
        "Calculating energy for column"
       ]
      },
      {
       "output_type": "stream",
       "stream": "stdout",
       "text": [
        " ('power', 'active')\n",
        "Calculating energy for column ('power', 'active')\n",
        "Calculating energy for column"
       ]
      },
      {
       "output_type": "stream",
       "stream": "stdout",
       "text": [
        " ('power', 'active')\n",
        "Calculating energy for column ('power', 'active')\n",
        "Calculating energy for column"
       ]
      },
      {
       "output_type": "stream",
       "stream": "stdout",
       "text": [
        " ('power', 'active')\n",
        "Calculating energy for column ('power', 'active')\n",
        "Calculating energy for column"
       ]
      },
      {
       "output_type": "stream",
       "stream": "stdout",
       "text": [
        " ('power', 'active')\n",
        "Calculating energy for column ('power', 'active')\n",
        "Calculating energy for column"
       ]
      },
      {
       "output_type": "stream",
       "stream": "stdout",
       "text": [
        " ('power', 'active')\n",
        "Calculating energy for column ('power', 'active')\n",
        "Calculating energy for column"
       ]
      },
      {
       "output_type": "stream",
       "stream": "stdout",
       "text": [
        " ('power', 'active')\n",
        "Calculating energy for column ('power', 'active')\n",
        "Calculating energy for column"
       ]
      },
      {
       "output_type": "stream",
       "stream": "stdout",
       "text": [
        " ('power', 'active')\n",
        "Calculating energy for column ('power', 'active')\n",
        "Calculating energy for column"
       ]
      },
      {
       "output_type": "stream",
       "stream": "stdout",
       "text": [
        " ('power', 'active')\n",
        "Calculating energy for column"
       ]
      },
      {
       "output_type": "stream",
       "stream": "stdout",
       "text": [
        " ('power', 'active')\n",
        "Calculating energy for column ('power', 'active')\n",
        "Calculating energy for column"
       ]
      },
      {
       "output_type": "stream",
       "stream": "stdout",
       "text": [
        " ('power', 'active')\n",
        "Calculating energy for column ('power', 'active')\n",
        "Calculating energy for column"
       ]
      },
      {
       "output_type": "stream",
       "stream": "stdout",
       "text": [
        " ('power', 'active')\n",
        "Calculating energy for column ('power', 'active')\n",
        "Calculating energy for column ('power', 'active')\n",
        "Calculating energy for column"
       ]
      },
      {
       "output_type": "stream",
       "stream": "stdout",
       "text": [
        " ('power', 'active')\n",
        "Calculating energy for column ('power', 'active')\n",
        "Calculating energy for column ('power', 'active')\n",
        "Calculating energy for column"
       ]
      },
      {
       "output_type": "stream",
       "stream": "stdout",
       "text": [
        " ('power', 'active')\n",
        "Calculating energy for column"
       ]
      },
      {
       "output_type": "stream",
       "stream": "stdout",
       "text": [
        " ('power', 'active')\n",
        "Calculating energy for column ('power', 'active')\n",
        "Calculating energy for column"
       ]
      },
      {
       "output_type": "stream",
       "stream": "stdout",
       "text": [
        " ('power', 'active')\n",
        "Calculating energy for column"
       ]
      },
      {
       "output_type": "stream",
       "stream": "stdout",
       "text": [
        " ('power', 'active')\n",
        "Calculating energy for column ('power', 'active')\n",
        "Calculating energy for column"
       ]
      },
      {
       "output_type": "stream",
       "stream": "stdout",
       "text": [
        " ('power', 'active')\n",
        "Calculating energy for column ('power', 'active')\n",
        "Calculating energy for column ('power', 'active')\n",
        "Calculating energy for column"
       ]
      },
      {
       "output_type": "stream",
       "stream": "stdout",
       "text": [
        " ('power', 'active')\n",
        "Calculating energy for column ('power', 'active')\n",
        "Calculating energy for column ('power', 'active')\n",
        "Calculating energy for column"
       ]
      },
      {
       "output_type": "stream",
       "stream": "stdout",
       "text": [
        " ('power', 'active')\n",
        "Calculating energy for column ('power', 'active')\n",
        "Calculating energy for column ('power', 'active')\n",
        "Calculating energy for column"
       ]
      },
      {
       "output_type": "stream",
       "stream": "stdout",
       "text": [
        " ('power', 'active')\n",
        "Calculating energy for column ('power', 'active')\n",
        "Calculating energy for column"
       ]
      },
      {
       "output_type": "stream",
       "stream": "stdout",
       "text": [
        " ('power', 'active')\n",
        "Calculating energy for column ('power', 'active')\n",
        "Calculating energy for column ('power', 'active')\n",
        "Calculating energy for column"
       ]
      },
      {
       "output_type": "stream",
       "stream": "stdout",
       "text": [
        " ('power', 'active')\n",
        "Calculating energy for column ('power', 'active')\n",
        "Calculating energy for column ('power', 'active')\n",
        "Calculating energy for column"
       ]
      },
      {
       "output_type": "stream",
       "stream": "stdout",
       "text": [
        " ('power', 'active')\n",
        "Calculating energy for column ('power', 'active')\n",
        "Calculating energy for column ('power', 'active')\n",
        "Calculating energy for column"
       ]
      },
      {
       "output_type": "stream",
       "stream": "stdout",
       "text": [
        " ('power', 'active')\n",
        "Calculating energy for column ('power', 'active')\n",
        "Calculating energy for column"
       ]
      },
      {
       "output_type": "stream",
       "stream": "stdout",
       "text": [
        " ('power', 'active')\n",
        "Calculating energy for column ('power', 'active')\n",
        "Calculating energy for column"
       ]
      },
      {
       "output_type": "stream",
       "stream": "stdout",
       "text": [
        " ('power', 'active')\n",
        "Calculating energy for column ('power', 'active')\n",
        "Calculating energy for column ('power', 'active')\n",
        "Calculating energy for column"
       ]
      },
      {
       "output_type": "stream",
       "stream": "stdout",
       "text": [
        " ('power', 'active')\n",
        "Calculating energy for column ('power', 'active')\n",
        "Calculating energy for column ('power', 'active')\n",
        "Calculating energy for column"
       ]
      },
      {
       "output_type": "stream",
       "stream": "stdout",
       "text": [
        " ('power', 'active')\n",
        "Calculating energy for column ('power', 'active')\n",
        "Calculating energy for column"
       ]
      },
      {
       "output_type": "stream",
       "stream": "stdout",
       "text": [
        " ('power', 'active')\n",
        "Calculating energy for column ('power', 'active')\n",
        "Calculating energy for column"
       ]
      },
      {
       "output_type": "stream",
       "stream": "stdout",
       "text": [
        " ('power', 'active')\n",
        "Calculating energy for column"
       ]
      },
      {
       "output_type": "stream",
       "stream": "stdout",
       "text": [
        " ('power', 'active')\n",
        "Calculating energy for column ('power', 'active')\n",
        "Calculating energy for column ('power', 'active')\n",
        "Calculating energy for column"
       ]
      },
      {
       "output_type": "stream",
       "stream": "stdout",
       "text": [
        " ('power', 'active')\n",
        "Calculating energy for column ('power', 'active')\n",
        "Calculating energy for column ('power', 'active')\n",
        "Calculating energy for column"
       ]
      },
      {
       "output_type": "stream",
       "stream": "stdout",
       "text": [
        " ('power', 'active')\n",
        "Calculating energy for column ('power', 'active')\n",
        "Calculating energy for column"
       ]
      },
      {
       "output_type": "stream",
       "stream": "stdout",
       "text": [
        " ('power', 'active')\n",
        "Calculating energy for column ('power', 'active')\n",
        "Calculating energy for column ('power', 'active')\n",
        "Calculating energy for column"
       ]
      },
      {
       "output_type": "stream",
       "stream": "stdout",
       "text": [
        " ('power', 'active')\n",
        "Calculating energy for column ('power', 'active')\n",
        "Calculating energy for column"
       ]
      },
      {
       "output_type": "stream",
       "stream": "stdout",
       "text": [
        " ('power', 'active')\n",
        "Calculating energy for column ('power', 'active')\n",
        "Calculating energy for column"
       ]
      },
      {
       "output_type": "stream",
       "stream": "stdout",
       "text": [
        " ('power', 'active')\n",
        "Calculating energy for column ('power', 'active')\n",
        "Calculating energy for column"
       ]
      },
      {
       "output_type": "stream",
       "stream": "stdout",
       "text": [
        " ('power', 'active')\n",
        "Calculating energy for column ('power', 'active')\n",
        "Calculating energy for column"
       ]
      },
      {
       "output_type": "stream",
       "stream": "stdout",
       "text": [
        " ('power', 'active')\n",
        "Calculating energy for column ('power', 'active')\n",
        "Calculating energy for column"
       ]
      },
      {
       "output_type": "stream",
       "stream": "stdout",
       "text": [
        " ('power', 'active')\n",
        "Calculating energy for column ('power', 'active')\n",
        "Calculating energy for column"
       ]
      },
      {
       "output_type": "stream",
       "stream": "stdout",
       "text": [
        " ('power', 'active')\n",
        "Calculating energy for column ('power', 'active')\n",
        "Calculating energy for column"
       ]
      },
      {
       "output_type": "stream",
       "stream": "stdout",
       "text": [
        " ('power', 'active')\n",
        "Calculating energy for column ('power', 'active')\n",
        "Calculating energy for column"
       ]
      },
      {
       "output_type": "stream",
       "stream": "stdout",
       "text": [
        " ('power', 'active')\n",
        "Calculating energy for column"
       ]
      },
      {
       "output_type": "stream",
       "stream": "stdout",
       "text": [
        " ('power', 'active')\n",
        "Calculating energy for column"
       ]
      },
      {
       "output_type": "stream",
       "stream": "stdout",
       "text": [
        " ('power', 'active')\n",
        "Calculating energy for column ('power', 'active')\n",
        "Calculating energy for column"
       ]
      },
      {
       "output_type": "stream",
       "stream": "stdout",
       "text": [
        " ('power', 'active')\n",
        "Calculating energy for column ('power', 'active')\n",
        "Calculating energy for column"
       ]
      },
      {
       "output_type": "stream",
       "stream": "stdout",
       "text": [
        " ('power', 'active')\n",
        "Calculating energy for column"
       ]
      },
      {
       "output_type": "stream",
       "stream": "stdout",
       "text": [
        " ('power', 'active')\n",
        "Calculating energy for column ('power', 'active')\n",
        "Calculating energy for column"
       ]
      },
      {
       "output_type": "stream",
       "stream": "stdout",
       "text": [
        " ('power', 'active')\n",
        "Calculating energy for column ('power', 'active')\n",
        "Calculating energy for column"
       ]
      },
      {
       "output_type": "stream",
       "stream": "stdout",
       "text": [
        " ('power', 'active')\n",
        "Calculating energy for column ('power', 'active')\n",
        "Calculating energy for column"
       ]
      },
      {
       "output_type": "stream",
       "stream": "stdout",
       "text": [
        " ('power', 'active')\n",
        "Calculating energy for column ('power', 'active')\n",
        "Calculating energy for column"
       ]
      },
      {
       "output_type": "stream",
       "stream": "stdout",
       "text": [
        " ('power', 'active')\n",
        "Calculating energy for column"
       ]
      },
      {
       "output_type": "stream",
       "stream": "stdout",
       "text": [
        " ('power', 'active')\n",
        "Calculating energy for column ('power', 'active')\n",
        "Calculating energy for column"
       ]
      },
      {
       "output_type": "stream",
       "stream": "stdout",
       "text": [
        " ('power', 'active')\n",
        "Calculating energy for column"
       ]
      },
      {
       "output_type": "stream",
       "stream": "stdout",
       "text": [
        " ('power', 'active')\n",
        "Calculating energy for column ('power', 'active')\n",
        "Calculating energy for column"
       ]
      },
      {
       "output_type": "stream",
       "stream": "stdout",
       "text": [
        " ('power', 'active')\n",
        "Calculating energy for column ('power', 'active')\n",
        "Calculating energy for column"
       ]
      },
      {
       "output_type": "stream",
       "stream": "stdout",
       "text": [
        " ('power', 'active')\n",
        "Calculating energy for column ('power', 'active')\n",
        "Calculating energy for column"
       ]
      },
      {
       "output_type": "stream",
       "stream": "stdout",
       "text": [
        " ('power', 'active')\n",
        "Calculating energy for column ('power', 'active')\n",
        "Calculating energy for column"
       ]
      },
      {
       "output_type": "stream",
       "stream": "stdout",
       "text": [
        " ('power', 'active')\n",
        "Calculating energy for column ('power', 'active')\n",
        "Calculating energy for column"
       ]
      },
      {
       "output_type": "stream",
       "stream": "stdout",
       "text": [
        " ('power', 'active')\n",
        "Calculating energy for column ('power', 'active')\n",
        "Calculating energy for column"
       ]
      },
      {
       "output_type": "stream",
       "stream": "stdout",
       "text": [
        " ('power', 'active')\n",
        "Calculating energy for column ('power', 'active')\n",
        "Calculating energy for column"
       ]
      },
      {
       "output_type": "stream",
       "stream": "stdout",
       "text": [
        " ('power', 'active')\n",
        "Calculating energy for column ('power', 'active')\n",
        "Calculating energy for column"
       ]
      },
      {
       "output_type": "stream",
       "stream": "stdout",
       "text": [
        " ('power', 'active')\n",
        "Calculating energy for column ('power', 'active')\n",
        "Calculating energy for column"
       ]
      },
      {
       "output_type": "stream",
       "stream": "stdout",
       "text": [
        " ('power', 'active')\n",
        "Calculating energy for column ('power', 'active')\n",
        "Calculating energy for column"
       ]
      },
      {
       "output_type": "stream",
       "stream": "stdout",
       "text": [
        " ('power', 'active')\n",
        "Calculating energy for column ('power', 'active')\n",
        "Calculating energy for column"
       ]
      },
      {
       "output_type": "stream",
       "stream": "stdout",
       "text": [
        " ('power', 'active')\n",
        "Calculating energy for column ('power', 'active')\n",
        "Calculating energy for column"
       ]
      },
      {
       "output_type": "stream",
       "stream": "stdout",
       "text": [
        " ('power', 'active')\n",
        "Calculating energy for column ('power', 'active')\n",
        "Calculating energy for column"
       ]
      },
      {
       "output_type": "stream",
       "stream": "stdout",
       "text": [
        " ('power', 'active')\n",
        "Calculating energy for column ('power', 'active')\n",
        "Calculating energy for column"
       ]
      },
      {
       "output_type": "stream",
       "stream": "stdout",
       "text": [
        " ('power', 'active')\n",
        "Calculating energy for column ('power', 'active')\n",
        "Calculating energy for column"
       ]
      },
      {
       "output_type": "stream",
       "stream": "stdout",
       "text": [
        " ('power', 'active')\n",
        "Calculating energy for column ('power', 'active')\n",
        "Calculating energy for column"
       ]
      },
      {
       "output_type": "stream",
       "stream": "stdout",
       "text": [
        " ('power', 'active')\n",
        "Calculating energy for column ('power', 'active')\n",
        "Calculating energy for column"
       ]
      },
      {
       "output_type": "stream",
       "stream": "stdout",
       "text": [
        " ('power', 'active')\n",
        "Calculating energy for column"
       ]
      },
      {
       "output_type": "stream",
       "stream": "stdout",
       "text": [
        " ('power', 'active')\n",
        "Calculating energy for column ('power', 'active')\n",
        "Calculating energy for column"
       ]
      },
      {
       "output_type": "stream",
       "stream": "stdout",
       "text": [
        " ('power', 'active')\n",
        "Calculating energy for column"
       ]
      },
      {
       "output_type": "stream",
       "stream": "stdout",
       "text": [
        " ('power', 'active')\n",
        "Calculating energy for column"
       ]
      },
      {
       "output_type": "stream",
       "stream": "stdout",
       "text": [
        " ('power', 'active')\n",
        "Calculating energy for column ('power', 'active')\n",
        "Calculating energy for column ('power', 'active')\n",
        "Calculating energy for column"
       ]
      },
      {
       "output_type": "stream",
       "stream": "stdout",
       "text": [
        " ('power', 'active')\n",
        "Calculating energy for column ('power', 'active')\n",
        "Calculating energy for column ('power', 'active')\n",
        "Calculating energy for column ('power', 'active')\n",
        "Calculating energy for column"
       ]
      },
      {
       "output_type": "stream",
       "stream": "stdout",
       "text": [
        " ('power', 'active')\n",
        "Calculating energy for column ('power', 'active')\n",
        "Calculating energy for column ('power', 'active')\n",
        "Calculating energy for column ('power', 'active')\n",
        "Calculating energy for column ('power', 'active')\n",
        "Calculating energy for column"
       ]
      },
      {
       "output_type": "stream",
       "stream": "stdout",
       "text": [
        " ('power', 'active')\n",
        "Calculating energy for column ('power', 'active')\n",
        "Calculating energy for column ('power', 'active')\n",
        "Calculating energy for column ('power', 'active')\n",
        "Calculating energy for column"
       ]
      },
      {
       "output_type": "stream",
       "stream": "stdout",
       "text": [
        " ('power', 'active')\n",
        "Calculating energy for column ('power', 'active')\n",
        "Calculating energy for column ('power', 'active')\n",
        "Calculating energy for column ('power', 'active')\n",
        "Calculating energy for column ('power', 'active')\n",
        "Calculating energy for column"
       ]
      },
      {
       "output_type": "stream",
       "stream": "stdout",
       "text": [
        " ('power', 'active')\n",
        "Calculating energy for column ('power', 'active')\n",
        "Calculating energy for column ('power', 'active')\n",
        "Calculating energy for column ('power', 'active')\n",
        "Calculating energy for column"
       ]
      },
      {
       "output_type": "stream",
       "stream": "stdout",
       "text": [
        " ('power', 'active')\n",
        "Calculating energy for column ('power', 'active')\n",
        "Calculating energy for column ('power', 'active')\n",
        "Calculating energy for column"
       ]
      },
      {
       "output_type": "stream",
       "stream": "stdout",
       "text": [
        " ('power', 'active')\n",
        "Calculating energy for column ('power', 'active')\n",
        "Calculating energy for column ('power', 'active')\n",
        "Calculating energy for column"
       ]
      },
      {
       "output_type": "stream",
       "stream": "stdout",
       "text": [
        " ('power', 'active')\n",
        "Calculating energy for column ('power', 'active')\n",
        "Calculating energy for column ('power', 'active')\n",
        "Calculating energy for column ('power', 'active')\n",
        "Calculating energy for column"
       ]
      },
      {
       "output_type": "stream",
       "stream": "stdout",
       "text": [
        " ('power', 'active')\n",
        "Calculating energy for column ('power', 'active')\n",
        "Calculating energy for column ('power', 'active')\n",
        "Calculating energy for column ('power', 'active')\n",
        "Calculating energy for column"
       ]
      },
      {
       "output_type": "stream",
       "stream": "stdout",
       "text": [
        " ('power', 'active')\n",
        "Calculating energy for column ('power', 'active')\n",
        "Calculating energy for column ('power', 'active')\n",
        "Calculating energy for column"
       ]
      },
      {
       "output_type": "stream",
       "stream": "stdout",
       "text": [
        " ('power', 'active')\n",
        "Calculating energy for column ('power', 'active')\n",
        "Calculating energy for column ('power', 'active')\n",
        "Calculating energy for column ('power', 'active')\n",
        "Calculating energy for column"
       ]
      },
      {
       "output_type": "stream",
       "stream": "stdout",
       "text": [
        " ('power', 'active')\n",
        "Calculating energy for column ('power', 'active')\n",
        "Calculating energy for column ('power', 'active')\n",
        "Calculating energy for column ('power', 'active')\n",
        "Calculating energy for column"
       ]
      },
      {
       "output_type": "stream",
       "stream": "stdout",
       "text": [
        " ('power', 'active')\n",
        "Calculating energy for column ('power', 'active')\n",
        "Calculating energy for column ('power', 'active')\n",
        "Calculating energy for column ('power', 'active')\n",
        "Calculating energy for column"
       ]
      },
      {
       "output_type": "stream",
       "stream": "stdout",
       "text": [
        " ('power', 'active')\n",
        "Calculating energy for column ('power', 'active')\n",
        "Calculating energy for column ('power', 'active')\n",
        "Calculating energy for column ('power', 'active')\n",
        "Calculating energy for column"
       ]
      },
      {
       "output_type": "stream",
       "stream": "stdout",
       "text": [
        " ('power', 'active')\n",
        "Calculating energy for column ('power', 'active')\n",
        "Calculating energy for column ('power', 'active')\n",
        "Calculating energy for column"
       ]
      },
      {
       "output_type": "stream",
       "stream": "stdout",
       "text": [
        " ('power', 'active')\n",
        "Calculating energy for column ('power', 'active')\n",
        "Calculating energy for column"
       ]
      },
      {
       "output_type": "stream",
       "stream": "stdout",
       "text": [
        " ('power', 'active')\n",
        "Calculating energy for column ('power', 'active')\n",
        "Calculating energy for column"
       ]
      },
      {
       "output_type": "stream",
       "stream": "stdout",
       "text": [
        " ('power', 'active')\n",
        "Calculating energy for column ('power', 'active')\n",
        "Calculating energy for column"
       ]
      },
      {
       "output_type": "stream",
       "stream": "stdout",
       "text": [
        " ('power', 'active')\n",
        "Calculating energy for column ('power', 'active')\n",
        "Calculating energy for column ('power', 'active')\n",
        "Calculating energy for column"
       ]
      },
      {
       "output_type": "stream",
       "stream": "stdout",
       "text": [
        " ('power', 'active')\n",
        "Calculating energy for column ('power', 'active')\n",
        "Calculating energy for column ('power', 'active')\n",
        "Calculating energy for column"
       ]
      },
      {
       "output_type": "stream",
       "stream": "stdout",
       "text": [
        " ('power', 'active')\n",
        "Calculating energy for column ('power', 'active')\n",
        "Calculating energy for column ('power', 'active')\n",
        "Calculating energy for column"
       ]
      },
      {
       "output_type": "stream",
       "stream": "stdout",
       "text": [
        " ('power', 'active')\n",
        "Calculating energy for column ('power', 'active')\n",
        "Calculating energy for column ('power', 'active')\n",
        "Calculating energy for column"
       ]
      },
      {
       "output_type": "stream",
       "stream": "stdout",
       "text": [
        " ('power', 'active')\n",
        "Calculating energy for column ('power', 'active')\n",
        "Calculating energy for column ('power', 'active')\n",
        "Calculating energy for column"
       ]
      },
      {
       "output_type": "stream",
       "stream": "stdout",
       "text": [
        " ('power', 'active')\n",
        "Calculating energy for column ('power', 'active')\n",
        "Calculating energy for column ('power', 'active')\n",
        "Calculating energy for column"
       ]
      },
      {
       "output_type": "stream",
       "stream": "stdout",
       "text": [
        " ('power', 'active')\n",
        "Calculating energy for column ('power', 'active')\n",
        "Calculating energy for column ('power', 'active')\n",
        "Calculating energy for column"
       ]
      },
      {
       "output_type": "stream",
       "stream": "stdout",
       "text": [
        " ('power', 'active')\n",
        "Calculating energy for column ('power', 'active')\n",
        "Calculating energy for column ('power', 'active')\n",
        "Calculating energy for column"
       ]
      },
      {
       "output_type": "stream",
       "stream": "stdout",
       "text": [
        " ('power', 'active')\n",
        "Calculating energy for column ('power', 'active')\n",
        "Calculating energy for column ('power', 'active')\n",
        "Calculating energy for column"
       ]
      },
      {
       "output_type": "stream",
       "stream": "stdout",
       "text": [
        " ('power', 'active')\n",
        "Calculating energy for column ('power', 'active')\n",
        "Calculating energy for column ('power', 'active')\n",
        "Calculating energy for column"
       ]
      },
      {
       "output_type": "stream",
       "stream": "stdout",
       "text": [
        " ('power', 'active')\n",
        "Calculating energy for column ('power', 'active')\n",
        "Calculating energy for column ('power', 'active')\n",
        "Calculating energy for column"
       ]
      },
      {
       "output_type": "stream",
       "stream": "stdout",
       "text": [
        " ('power', 'active')\n",
        "Calculating energy for column ('power', 'active')\n",
        "Calculating energy for column"
       ]
      },
      {
       "output_type": "stream",
       "stream": "stdout",
       "text": [
        " ('power', 'active')\n",
        "Calculating energy for column ('power', 'active')\n",
        "Calculating energy for column ('power', 'active')\n",
        "Calculating energy for column"
       ]
      },
      {
       "output_type": "stream",
       "stream": "stdout",
       "text": [
        " ('power', 'active')\n",
        "Calculating energy for column ('power', 'active')\n",
        "Calculating energy for column ('power', 'active')\n",
        "Calculating energy for column"
       ]
      },
      {
       "output_type": "stream",
       "stream": "stdout",
       "text": [
        " ('power', 'active')\n",
        "Calculating energy for column ('power', 'active')\n",
        "Calculating energy for column"
       ]
      },
      {
       "output_type": "stream",
       "stream": "stdout",
       "text": [
        " ('power', 'active')\n",
        "Calculating energy for column ('power', 'active')\n",
        "Calculating energy for column ('power', 'active')\n",
        "Calculating energy for column"
       ]
      },
      {
       "output_type": "stream",
       "stream": "stdout",
       "text": [
        " ('power', 'active')\n",
        "Calculating energy for column ('power', 'active')\n",
        "Calculating energy for column ('power', 'active')\n",
        "Calculating energy for column"
       ]
      },
      {
       "output_type": "stream",
       "stream": "stdout",
       "text": [
        " ('power', 'active')\n",
        "Calculating energy for column ('power', 'active')\n",
        "Calculating energy for column ('power', 'active')\n",
        "Calculating energy for column"
       ]
      },
      {
       "output_type": "stream",
       "stream": "stdout",
       "text": [
        " ('power', 'active')\n",
        "Calculating energy for column ('power', 'active')\n",
        "Calculating energy for column"
       ]
      },
      {
       "output_type": "stream",
       "stream": "stdout",
       "text": [
        " ('power', 'active')\n",
        "Calculating energy for column ('power', 'active')\n",
        "Calculating energy for column ('power', 'active')\n",
        "Calculating energy for column"
       ]
      },
      {
       "output_type": "stream",
       "stream": "stdout",
       "text": [
        " ('power', 'active')\n",
        "Calculating energy for column ('power', 'active')\n",
        "Calculating energy for column"
       ]
      },
      {
       "output_type": "stream",
       "stream": "stdout",
       "text": [
        " ('power', 'active')\n",
        "Calculating energy for column ('power', 'active')\n",
        "Calculating energy for column"
       ]
      },
      {
       "output_type": "stream",
       "stream": "stdout",
       "text": [
        " ('power', 'active')\n",
        "Calculating energy for column ('power', 'active')\n",
        "Calculating energy for column ('power', 'active')\n",
        "Calculating energy for column"
       ]
      },
      {
       "output_type": "stream",
       "stream": "stdout",
       "text": [
        " ('power', 'active')\n",
        "Calculating energy for column ('power', 'active')\n",
        "Calculating energy for column ('power', 'active')\n",
        "Calculating energy for column"
       ]
      },
      {
       "output_type": "stream",
       "stream": "stdout",
       "text": [
        " ('power', 'active')\n",
        "Calculating energy for column"
       ]
      },
      {
       "output_type": "stream",
       "stream": "stdout",
       "text": [
        " ('power', 'active')\n",
        "Calculating energy for column ('power', 'active')\n",
        "Calculating energy for column"
       ]
      },
      {
       "output_type": "stream",
       "stream": "stdout",
       "text": [
        " ('power', 'active')\n",
        "Calculating energy for column ('power', 'active')\n",
        "Calculating energy for column"
       ]
      },
      {
       "output_type": "stream",
       "stream": "stdout",
       "text": [
        " ('power', 'active')\n",
        "Calculating energy for column ('power', 'active')\n",
        "Calculating energy for column"
       ]
      },
      {
       "output_type": "stream",
       "stream": "stdout",
       "text": [
        " ('power', 'active')\n",
        "Calculating energy for column ('power', 'active')\n",
        "Calculating energy for column"
       ]
      },
      {
       "output_type": "stream",
       "stream": "stdout",
       "text": [
        " ('power', 'active')\n",
        "Calculating energy for column ('power', 'active')\n",
        "Calculating energy for column"
       ]
      },
      {
       "output_type": "stream",
       "stream": "stdout",
       "text": [
        " ('power', 'active')\n",
        "Calculating energy for column ('power', 'active')\n",
        "Calculating energy for column"
       ]
      },
      {
       "output_type": "stream",
       "stream": "stdout",
       "text": [
        " ('power', 'active')\n",
        "Calculating energy for column ('power', 'active')\n",
        "Calculating energy for column"
       ]
      },
      {
       "output_type": "stream",
       "stream": "stdout",
       "text": [
        " ('power', 'active')\n",
        "Calculating energy for column ('power', 'active')\n",
        "Calculating energy for column"
       ]
      },
      {
       "output_type": "stream",
       "stream": "stdout",
       "text": [
        " ('power', 'active')\n",
        "Calculating energy for column ('power', 'active')\n",
        "Calculating energy for column"
       ]
      },
      {
       "output_type": "stream",
       "stream": "stdout",
       "text": [
        " ('power', 'active')\n",
        "Calculating energy for column ('power', 'active')\n",
        "Calculating energy for column"
       ]
      },
      {
       "output_type": "stream",
       "stream": "stdout",
       "text": [
        " ('power', 'active')\n",
        "Calculating energy for column ('power', 'active')\n",
        "Calculating energy for column"
       ]
      },
      {
       "output_type": "stream",
       "stream": "stdout",
       "text": [
        " ('power', 'active')\n",
        "Calculating energy for column ('power', 'active')\n",
        "Calculating energy for column"
       ]
      },
      {
       "output_type": "stream",
       "stream": "stdout",
       "text": [
        " ('power', 'active')\n",
        "Calculating energy for column ('power', 'active')\n",
        "Calculating energy for column"
       ]
      },
      {
       "output_type": "stream",
       "stream": "stdout",
       "text": [
        " ('power', 'active')\n",
        "Calculating energy for column ('power', 'active')\n",
        "Calculating energy for column"
       ]
      },
      {
       "output_type": "stream",
       "stream": "stdout",
       "text": [
        " ('power', 'active')\n",
        "Calculating energy for column ('power', 'active')\n",
        "Calculating energy for column"
       ]
      },
      {
       "output_type": "stream",
       "stream": "stdout",
       "text": [
        " ('power', 'active')\n",
        "Calculating energy for column ('power', 'active')\n",
        "Calculating energy for column"
       ]
      },
      {
       "output_type": "stream",
       "stream": "stdout",
       "text": [
        " ('power', 'active')\n",
        "Calculating energy for column ('power', 'active')\n",
        "Calculating energy for column"
       ]
      },
      {
       "output_type": "stream",
       "stream": "stdout",
       "text": [
        " ('power', 'active')\n",
        "Calculating energy for column ('power', 'active')\n",
        "Calculating energy for column"
       ]
      },
      {
       "output_type": "stream",
       "stream": "stdout",
       "text": [
        " ('power', 'active')\n",
        "Calculating energy for column ('power', 'active')\n",
        "Calculating energy for column"
       ]
      },
      {
       "output_type": "stream",
       "stream": "stdout",
       "text": [
        " ('power', 'active')\n",
        "Calculating energy for column ('power', 'active')\n",
        "Calculating energy for column"
       ]
      },
      {
       "output_type": "stream",
       "stream": "stdout",
       "text": [
        " ('power', 'active')\n",
        "Calculating energy for column ('power', 'active')\n",
        "Calculating energy for column"
       ]
      },
      {
       "output_type": "stream",
       "stream": "stdout",
       "text": [
        " ('power', 'active')\n",
        "Calculating energy for column ('power', 'active')\n",
        "Calculating energy for column"
       ]
      },
      {
       "output_type": "stream",
       "stream": "stdout",
       "text": [
        " ('power', 'active')\n",
        "Calculating energy for column ('power', 'active')\n",
        "Calculating energy for column"
       ]
      },
      {
       "output_type": "stream",
       "stream": "stdout",
       "text": [
        " ('power', 'active')\n",
        "Calculating energy for column ('power', 'active')\n",
        "Calculating energy for column"
       ]
      },
      {
       "output_type": "stream",
       "stream": "stdout",
       "text": [
        " ('power', 'active')\n",
        "Calculating energy for column ('power', 'active')\n",
        "Calculating energy for column"
       ]
      },
      {
       "output_type": "stream",
       "stream": "stdout",
       "text": [
        " ('power', 'active')\n",
        "Calculating energy for column"
       ]
      },
      {
       "output_type": "stream",
       "stream": "stdout",
       "text": [
        " ('power', 'active')\n",
        "Calculating energy for column ('power', 'active')\n",
        "Calculating energy for column"
       ]
      },
      {
       "output_type": "stream",
       "stream": "stdout",
       "text": [
        " ('power', 'active')\n",
        "Calculating energy for column ('power', 'active')\n",
        "Calculating energy for column"
       ]
      },
      {
       "output_type": "stream",
       "stream": "stdout",
       "text": [
        " ('power', 'active')\n",
        "Calculating energy for column ('power', 'active')\n",
        "Calculating energy for column"
       ]
      },
      {
       "output_type": "stream",
       "stream": "stdout",
       "text": [
        " ('power', 'active')\n",
        "Calculating energy for column"
       ]
      },
      {
       "output_type": "stream",
       "stream": "stdout",
       "text": [
        " ('power', 'active')\n",
        "Calculating energy for column ('power', 'active')\n",
        "Calculating energy for column"
       ]
      },
      {
       "output_type": "stream",
       "stream": "stdout",
       "text": [
        " ('power', 'active')\n",
        "Calculating energy for column"
       ]
      },
      {
       "output_type": "stream",
       "stream": "stdout",
       "text": [
        " ('power', 'active')\n",
        "Calculating energy for column ('power', 'active')\n",
        "Calculating energy for column"
       ]
      },
      {
       "output_type": "stream",
       "stream": "stdout",
       "text": [
        " ('power', 'active')\n",
        "Calculating energy for column ('power', 'active')\n",
        "Calculating energy for column"
       ]
      },
      {
       "output_type": "stream",
       "stream": "stdout",
       "text": [
        " ('power', 'active')\n",
        "Calculating energy for column ('power', 'active')\n",
        "Calculating energy for column"
       ]
      },
      {
       "output_type": "stream",
       "stream": "stdout",
       "text": [
        " ('power', 'active')\n",
        "Calculating energy for column ('power', 'active')\n",
        "Calculating energy for column"
       ]
      },
      {
       "output_type": "stream",
       "stream": "stdout",
       "text": [
        " ('power', 'active')\n",
        "Calculating energy for column ('power', 'active')\n",
        "Calculating energy for column"
       ]
      },
      {
       "output_type": "stream",
       "stream": "stdout",
       "text": [
        " ('power', 'active')\n",
        "Calculating energy for column ('power', 'active')\n",
        "Calculating energy for column"
       ]
      },
      {
       "output_type": "stream",
       "stream": "stdout",
       "text": [
        " ('power', 'active')\n",
        "Calculating energy for column ('power', 'active')\n",
        "Calculating energy for column"
       ]
      },
      {
       "output_type": "stream",
       "stream": "stdout",
       "text": [
        " ('power', 'active')\n",
        "Calculating energy for column ('power', 'active')\n",
        "Calculating energy for column"
       ]
      },
      {
       "output_type": "stream",
       "stream": "stdout",
       "text": [
        " ('power', 'active')\n",
        "Calculating energy for column ('power', 'active')\n",
        "Calculating energy for column"
       ]
      },
      {
       "output_type": "stream",
       "stream": "stdout",
       "text": [
        " ('power', 'active')\n",
        "Calculating energy for column ('power', 'active')\n",
        "Calculating energy for column"
       ]
      },
      {
       "output_type": "stream",
       "stream": "stdout",
       "text": [
        " ('power', 'active')\n",
        "Calculating energy for column ('power', 'active')\n",
        "Calculating energy for column"
       ]
      },
      {
       "output_type": "stream",
       "stream": "stdout",
       "text": [
        " ('power', 'active')\n",
        "Calculating energy for column"
       ]
      },
      {
       "output_type": "stream",
       "stream": "stdout",
       "text": [
        " ('power', 'active')\n",
        "Calculating energy for column ('power', 'active')\n",
        "Calculating energy for column ('power', 'active')\n",
        "Calculating energy for column ('power', 'active')\n",
        "Calculating energy for column"
       ]
      },
      {
       "output_type": "stream",
       "stream": "stdout",
       "text": [
        " ('power', 'active')\n",
        "Calculating energy for column ('power', 'active')\n",
        "Calculating energy for column ('power', 'active')\n",
        "Calculating energy for column"
       ]
      },
      {
       "output_type": "stream",
       "stream": "stdout",
       "text": [
        " ('power', 'active')\n",
        "Calculating energy for column"
       ]
      },
      {
       "output_type": "stream",
       "stream": "stdout",
       "text": [
        " ('power', 'active')\n",
        "Calculating energy for column ('power', 'active')\n",
        "Calculating energy for column ('power', 'active')\n",
        "Calculating energy for column ('power', 'active')\n",
        "Calculating energy for column"
       ]
      },
      {
       "output_type": "stream",
       "stream": "stdout",
       "text": [
        " ('power', 'active')\n",
        "Calculating energy for column ('power', 'active')\n",
        "Calculating energy for column ('power', 'active')\n",
        "Calculating energy for column ('power', 'active')\n",
        "Calculating energy for column ('power', 'active')\n",
        "Calculating energy for column"
       ]
      },
      {
       "output_type": "stream",
       "stream": "stdout",
       "text": [
        " ('power', 'active')\n",
        "Calculating energy for column ('power', 'active')\n",
        "Calculating energy for column ('power', 'active')\n",
        "Calculating energy for column ('power', 'active')\n",
        "Calculating energy for column"
       ]
      },
      {
       "output_type": "stream",
       "stream": "stdout",
       "text": [
        " ('power', 'active')\n",
        "Calculating energy for column ('power', 'active')\n",
        "Calculating energy for column ('power', 'active')\n",
        "Calculating energy for column ('power', 'active')\n",
        "Calculating energy for column ('power', 'active')\n",
        "Calculating energy for column"
       ]
      },
      {
       "output_type": "stream",
       "stream": "stdout",
       "text": [
        " ('power', 'active')\n",
        "Calculating energy for column ('power', 'active')\n",
        "Calculating energy for column ('power', 'active')\n",
        "Calculating energy for column ('power', 'active')\n",
        "Calculating energy for column"
       ]
      },
      {
       "output_type": "stream",
       "stream": "stdout",
       "text": [
        " ('power', 'active')\n",
        "Calculating energy for column ('power', 'active')\n",
        "Calculating energy for column ('power', 'active')\n",
        "Calculating energy for column"
       ]
      },
      {
       "output_type": "stream",
       "stream": "stdout",
       "text": [
        " ('power', 'active')\n",
        "Calculating energy for column ('power', 'active')\n",
        "Calculating energy for column"
       ]
      },
      {
       "output_type": "stream",
       "stream": "stdout",
       "text": [
        " ('power', 'active')\n",
        "Calculating energy for column ('power', 'active')\n",
        "Calculating energy for column ('power', 'active')\n",
        "Calculating energy for column"
       ]
      },
      {
       "output_type": "stream",
       "stream": "stdout",
       "text": [
        " ('power', 'active')\n",
        "Calculating energy for column ('power', 'active')\n",
        "Calculating energy for column ('power', 'active')\n",
        "Calculating energy for column ('power', 'active')\n",
        "Calculating energy for column"
       ]
      },
      {
       "output_type": "stream",
       "stream": "stdout",
       "text": [
        " ('power', 'active')\n",
        "Calculating energy for column ('power', 'active')\n",
        "Calculating energy for column"
       ]
      },
      {
       "output_type": "stream",
       "stream": "stdout",
       "text": [
        " ('power', 'active')\n",
        "Calculating energy for column ('power', 'active')\n",
        "Calculating energy for column ('power', 'active')\n",
        "Calculating energy for column"
       ]
      },
      {
       "output_type": "stream",
       "stream": "stdout",
       "text": [
        " ('power', 'active')\n",
        "Calculating energy for column ('power', 'active')\n",
        "Calculating energy for column ('power', 'active')\n",
        "Calculating energy for column"
       ]
      },
      {
       "output_type": "stream",
       "stream": "stdout",
       "text": [
        " ('power', 'active')\n",
        "Calculating energy for column ('power', 'active')\n",
        "Calculating energy for column ('power', 'active')\n",
        "Calculating energy for column"
       ]
      },
      {
       "output_type": "stream",
       "stream": "stdout",
       "text": [
        " ('power', 'active')\n",
        "Calculating energy for column ('power', 'active')\n",
        "Calculating energy for column ('power', 'active')\n",
        "Calculating energy for column ('power', 'active')\n",
        "Calculating energy for column"
       ]
      },
      {
       "output_type": "stream",
       "stream": "stdout",
       "text": [
        " ('power', 'active')\n",
        "Calculating energy for column ('power', 'active')\n",
        "Calculating energy for column ('power', 'active')\n",
        "Calculating energy for column"
       ]
      },
      {
       "output_type": "stream",
       "stream": "stdout",
       "text": [
        " ('power', 'active')\n",
        "Calculating energy for column ('power', 'active')\n",
        "Calculating energy for column ('power', 'active')\n",
        "Calculating energy for column"
       ]
      },
      {
       "output_type": "stream",
       "stream": "stdout",
       "text": [
        " ('power', 'active')\n",
        "Calculating energy for column ('power', 'active')\n",
        "Calculating energy for column ('power', 'active')\n",
        "Calculating energy for column"
       ]
      },
      {
       "output_type": "stream",
       "stream": "stdout",
       "text": [
        " ('power', 'active')\n",
        "Calculating energy for column ('power', 'active')\n",
        "Calculating energy for column ('power', 'active')\n",
        "Calculating energy for column"
       ]
      },
      {
       "output_type": "stream",
       "stream": "stdout",
       "text": [
        " ('power', 'active')\n",
        "Calculating energy for column ('power', 'active')\n",
        "Calculating energy for column ('power', 'active')\n",
        "Calculating energy for column"
       ]
      },
      {
       "output_type": "stream",
       "stream": "stdout",
       "text": [
        " ('power', 'active')\n",
        "Calculating energy for column ('power', 'active')\n",
        "Calculating energy for column ('power', 'active')\n",
        "Calculating energy for column"
       ]
      },
      {
       "output_type": "stream",
       "stream": "stdout",
       "text": [
        " ('power', 'active')\n",
        "Calculating energy for column ('power', 'active')\n",
        "Calculating energy for column ('power', 'active')\n",
        "Calculating energy for column"
       ]
      },
      {
       "output_type": "stream",
       "stream": "stdout",
       "text": [
        " ('power', 'active')\n",
        "Calculating energy for column ('power', 'active')\n",
        "Calculating energy for column"
       ]
      },
      {
       "output_type": "stream",
       "stream": "stdout",
       "text": [
        " ('power', 'active')\n",
        "Calculating energy for column"
       ]
      },
      {
       "output_type": "stream",
       "stream": "stdout",
       "text": [
        " ('power', 'active')\n",
        "Calculating energy for column ('power', 'active')\n",
        "Calculating energy for column"
       ]
      },
      {
       "output_type": "stream",
       "stream": "stdout",
       "text": [
        " ('power', 'active')\n",
        "Calculating energy for column ('power', 'active')\n",
        "Calculating energy for column"
       ]
      },
      {
       "output_type": "stream",
       "stream": "stdout",
       "text": [
        " ('power', 'active')\n",
        "Calculating energy for column ('power', 'active')\n",
        "Calculating energy for column"
       ]
      },
      {
       "output_type": "stream",
       "stream": "stdout",
       "text": [
        " ('power', 'active')\n",
        "Calculating energy for column ('power', 'active')\n",
        "Calculating energy for column"
       ]
      },
      {
       "output_type": "stream",
       "stream": "stdout",
       "text": [
        " ('power', 'active')\n",
        "Calculating energy for column ('power', 'active')\n",
        "Calculating energy for column ('power', 'active')\n",
        "Calculating energy for column"
       ]
      },
      {
       "output_type": "stream",
       "stream": "stdout",
       "text": [
        " ('power', 'active')\n",
        "Calculating energy for column ('power', 'active')\n",
        "Calculating energy for column ('power', 'active')\n",
        "Calculating energy for column"
       ]
      },
      {
       "output_type": "stream",
       "stream": "stdout",
       "text": [
        " ('power', 'active')\n",
        "Calculating energy for column ('power', 'active')\n",
        "Calculating energy for column ('power', 'active')\n",
        "Calculating energy for column"
       ]
      },
      {
       "output_type": "stream",
       "stream": "stdout",
       "text": [
        " ('power', 'active')\n",
        "Calculating energy for column ('power', 'active')\n",
        "Calculating energy for column"
       ]
      },
      {
       "output_type": "stream",
       "stream": "stdout",
       "text": [
        " ('power', 'active')\n",
        "Calculating energy for column ('power', 'active')\n",
        "Calculating energy for column"
       ]
      },
      {
       "output_type": "stream",
       "stream": "stdout",
       "text": [
        " ('power', 'active')\n",
        "Calculating energy for column ('power', 'active')\n",
        "Calculating energy for column"
       ]
      },
      {
       "output_type": "stream",
       "stream": "stdout",
       "text": [
        " ('power', 'active')\n",
        "Calculating energy for column ('power', 'active')\n",
        "Calculating energy for column"
       ]
      },
      {
       "output_type": "stream",
       "stream": "stdout",
       "text": [
        " ('power', 'active')\n",
        "Calculating energy for column ('power', 'active')\n",
        "Calculating energy for column ('power', 'active')\n",
        "Calculating energy for column"
       ]
      },
      {
       "output_type": "stream",
       "stream": "stdout",
       "text": [
        " ('power', 'active')\n",
        "Calculating energy for column ('power', 'active')\n",
        "Calculating energy for column ('power', 'active')\n",
        "Calculating energy for column"
       ]
      },
      {
       "output_type": "stream",
       "stream": "stdout",
       "text": [
        " ('power', 'active')\n",
        "Calculating energy for column ('power', 'active')\n",
        "Calculating energy for column"
       ]
      },
      {
       "output_type": "stream",
       "stream": "stdout",
       "text": [
        " ('power', 'active')\n",
        "Calculating energy for column ('power', 'active')\n",
        "Calculating energy for column"
       ]
      },
      {
       "output_type": "stream",
       "stream": "stdout",
       "text": [
        " ('power', 'active')\n",
        "Calculating energy for column ('power', 'active')\n",
        "Calculating energy for column ('power', 'active')\n",
        "Calculating energy for column"
       ]
      },
      {
       "output_type": "stream",
       "stream": "stdout",
       "text": [
        " ('power', 'active')\n",
        "Calculating energy for column ('power', 'active')\n",
        "Calculating energy for column"
       ]
      },
      {
       "output_type": "stream",
       "stream": "stdout",
       "text": [
        " ('power', 'active')\n",
        "Calculating energy for column ('power', 'active')\n",
        "Calculating energy for column ('power', 'active')\n",
        "Calculating energy for column"
       ]
      },
      {
       "output_type": "stream",
       "stream": "stdout",
       "text": [
        " ('power', 'active')\n",
        "Calculating energy for column ('power', 'active')\n",
        "Calculating energy for column"
       ]
      },
      {
       "output_type": "stream",
       "stream": "stdout",
       "text": [
        " ('power', 'active')\n",
        "Calculating energy for column ('power', 'active')\n",
        "Calculating energy for column ('power', 'active')\n",
        "Calculating energy for column"
       ]
      },
      {
       "output_type": "stream",
       "stream": "stdout",
       "text": [
        " ('power', 'active')\n",
        "Calculating energy for column ('power', 'active')\n",
        "Calculating energy for column"
       ]
      },
      {
       "output_type": "stream",
       "stream": "stdout",
       "text": [
        " ('power', 'active')\n",
        "Calculating energy for column ('power', 'active')\n",
        "Calculating energy for column ('power', 'active')\n",
        "Calculating energy for column"
       ]
      },
      {
       "output_type": "stream",
       "stream": "stdout",
       "text": [
        " ('power', 'active')\n",
        "Calculating energy for column ('power', 'active')\n",
        "Calculating energy for column ('power', 'active')\n",
        "Calculating energy for column"
       ]
      },
      {
       "output_type": "stream",
       "stream": "stdout",
       "text": [
        " ('power', 'active')\n",
        "Calculating energy for column ('power', 'active')\n",
        "Calculating energy for column"
       ]
      },
      {
       "output_type": "stream",
       "stream": "stdout",
       "text": [
        " ('power', 'active')\n",
        "Calculating energy for column ('power', 'active')\n",
        "Calculating energy for column"
       ]
      },
      {
       "output_type": "stream",
       "stream": "stdout",
       "text": [
        " ('power', 'active')\n",
        "Calculating energy for column ('power', 'active')\n",
        "Calculating energy for column ('power', 'active')\n",
        "Calculating energy for column"
       ]
      },
      {
       "output_type": "stream",
       "stream": "stdout",
       "text": [
        " ('power', 'active')\n",
        "Calculating energy for column ('power', 'active')\n",
        "Calculating energy for column"
       ]
      },
      {
       "output_type": "stream",
       "stream": "stdout",
       "text": [
        " ('power', 'active')\n",
        "Calculating energy for column ('power', 'active')\n",
        "Calculating energy for column"
       ]
      },
      {
       "output_type": "stream",
       "stream": "stdout",
       "text": [
        " ('power', 'active')\n",
        "Calculating energy for column ('power', 'active')\n",
        "Calculating energy for column"
       ]
      },
      {
       "output_type": "stream",
       "stream": "stdout",
       "text": [
        " ('power', 'active')\n",
        "Calculating energy for column ('power', 'active')\n",
        "Calculating energy for column"
       ]
      },
      {
       "output_type": "stream",
       "stream": "stdout",
       "text": [
        " ('power', 'active')\n",
        "Calculating energy for column ('power', 'active')\n",
        "Calculating energy for column"
       ]
      },
      {
       "output_type": "stream",
       "stream": "stdout",
       "text": [
        " ('power', 'active')\n",
        "Calculating energy for column ('power', 'active')\n",
        "Calculating energy for column"
       ]
      },
      {
       "output_type": "stream",
       "stream": "stdout",
       "text": [
        " ('power', 'active')\n",
        "Calculating energy for column ('power', 'active')\n",
        "Calculating energy for column"
       ]
      },
      {
       "output_type": "stream",
       "stream": "stdout",
       "text": [
        " ('power', 'active')\n",
        "Calculating energy for column ('power', 'active')\n",
        "Calculating energy for column"
       ]
      },
      {
       "output_type": "stream",
       "stream": "stdout",
       "text": [
        " ('power', 'active')\n",
        "Calculating energy for column ('power', 'active')\n",
        "Calculating energy for column"
       ]
      },
      {
       "output_type": "stream",
       "stream": "stdout",
       "text": [
        " ('power', 'active')\n",
        "Calculating energy for column ('power', 'active')\n",
        "Calculating energy for column"
       ]
      },
      {
       "output_type": "stream",
       "stream": "stdout",
       "text": [
        " ('power', 'active')\n",
        "Calculating energy for column ('power', 'active')\n",
        "Calculating energy for column"
       ]
      },
      {
       "output_type": "stream",
       "stream": "stdout",
       "text": [
        " ('power', 'active')\n",
        "Calculating energy for column ('power', 'active')\n",
        "Calculating energy for column"
       ]
      },
      {
       "output_type": "stream",
       "stream": "stdout",
       "text": [
        " ('power', 'active')\n",
        "Calculating energy for column ('power', 'active')\n",
        "Calculating energy for column"
       ]
      },
      {
       "output_type": "stream",
       "stream": "stdout",
       "text": [
        " ('power', 'active')\n",
        "Calculating energy for column ('power', 'active')\n",
        "Calculating energy for column"
       ]
      },
      {
       "output_type": "stream",
       "stream": "stdout",
       "text": [
        " ('power', 'active')\n",
        "Calculating energy for column ('power', 'active')\n",
        "Calculating energy for column"
       ]
      },
      {
       "output_type": "stream",
       "stream": "stdout",
       "text": [
        " ('power', 'active')\n",
        "Calculating energy for column ('power', 'active')\n",
        "Calculating energy for column"
       ]
      },
      {
       "output_type": "stream",
       "stream": "stdout",
       "text": [
        " ('power', 'active')\n",
        "Calculating energy for column ('power', 'active')\n",
        "Calculating energy for column"
       ]
      },
      {
       "output_type": "stream",
       "stream": "stdout",
       "text": [
        " ('power', 'active')\n",
        "Calculating energy for column"
       ]
      },
      {
       "output_type": "stream",
       "stream": "stdout",
       "text": [
        " ('power', 'active')\n",
        "Calculating energy for column"
       ]
      },
      {
       "output_type": "stream",
       "stream": "stdout",
       "text": [
        " ('power', 'active')\n",
        "Calculating energy for column ('power', 'active')\n",
        "Calculating energy for column"
       ]
      },
      {
       "output_type": "stream",
       "stream": "stdout",
       "text": [
        " ('power', 'active')\n",
        "Calculating energy for column ('power', 'active')\n",
        "Calculating energy for column"
       ]
      },
      {
       "output_type": "stream",
       "stream": "stdout",
       "text": [
        " ('power', 'active')\n",
        "Calculating energy for column ('power', 'active')\n",
        "Calculating energy for column"
       ]
      },
      {
       "output_type": "stream",
       "stream": "stdout",
       "text": [
        " ('power', 'active')\n",
        "Calculating energy for column ('power', 'active')\n",
        "Calculating energy for column"
       ]
      },
      {
       "output_type": "stream",
       "stream": "stdout",
       "text": [
        " ('power', 'active')\n",
        "Calculating energy for column ('power', 'active')\n",
        "Calculating energy for column"
       ]
      },
      {
       "output_type": "stream",
       "stream": "stdout",
       "text": [
        " ('power', 'active')\n",
        "Calculating energy for column ('power', 'active')\n",
        "Calculating energy for column"
       ]
      },
      {
       "output_type": "stream",
       "stream": "stdout",
       "text": [
        " ('power', 'active')\n",
        "Calculating energy for column ('power', 'active')\n",
        "Calculating energy for column"
       ]
      },
      {
       "output_type": "stream",
       "stream": "stdout",
       "text": [
        " ('power', 'active')\n",
        "Calculating energy for column ('power', 'active')\n",
        "Calculating energy for column"
       ]
      },
      {
       "output_type": "stream",
       "stream": "stdout",
       "text": [
        " ('power', 'active')\n",
        "Calculating energy for column ('power', 'active')\n",
        "Calculating energy for column"
       ]
      },
      {
       "output_type": "stream",
       "stream": "stdout",
       "text": [
        " ('power', 'active')\n",
        "Calculating energy for column ('power', 'active')\n",
        "Calculating energy for column"
       ]
      },
      {
       "output_type": "stream",
       "stream": "stdout",
       "text": [
        " ('power', 'active')\n",
        "Calculating energy for column ('power', 'active')\n",
        "Calculating energy for column"
       ]
      },
      {
       "output_type": "stream",
       "stream": "stdout",
       "text": [
        " ('power', 'active')\n",
        "Calculating energy for column"
       ]
      },
      {
       "output_type": "stream",
       "stream": "stdout",
       "text": [
        " ('power', 'active')\n",
        "Calculating energy for column ('power', 'active')\n",
        "Calculating energy for column"
       ]
      },
      {
       "output_type": "stream",
       "stream": "stdout",
       "text": [
        " ('power', 'active')\n",
        "Calculating energy for column ('power', 'active')\n",
        "Calculating energy for column"
       ]
      },
      {
       "output_type": "stream",
       "stream": "stdout",
       "text": [
        " ('power', 'active')\n",
        "Calculating energy for column ('power', 'active')\n",
        "Calculating energy for column"
       ]
      },
      {
       "output_type": "stream",
       "stream": "stdout",
       "text": [
        " ('power', 'active')\n",
        "Calculating energy for column ('power', 'active')\n",
        "Calculating energy for column"
       ]
      },
      {
       "output_type": "stream",
       "stream": "stdout",
       "text": [
        " ('power', 'active')\n",
        "Calculating energy for column"
       ]
      },
      {
       "output_type": "stream",
       "stream": "stdout",
       "text": [
        " ('power', 'active')\n",
        "Calculating energy for column ('power', 'active')\n",
        "Calculating energy for column"
       ]
      },
      {
       "output_type": "stream",
       "stream": "stdout",
       "text": [
        " ('power', 'active')\n",
        "Calculating energy for column ('power', 'active')\n",
        "Calculating energy for column"
       ]
      },
      {
       "output_type": "stream",
       "stream": "stdout",
       "text": [
        " ('power', 'active')\n",
        "Calculating energy for column ('power', 'active')\n",
        "Calculating energy for column"
       ]
      },
      {
       "output_type": "stream",
       "stream": "stdout",
       "text": [
        " ('power', 'active')\n",
        "Calculating energy for column"
       ]
      },
      {
       "output_type": "stream",
       "stream": "stdout",
       "text": [
        " ('power', 'active')\n",
        "Calculating energy for column ('power', 'active')\n",
        "Calculating energy for column"
       ]
      },
      {
       "output_type": "stream",
       "stream": "stdout",
       "text": [
        " ('power', 'active')\n",
        "Calculating energy for column ('power', 'active')\n",
        "Calculating energy for column ('power', 'active')\n",
        "Calculating energy for column ('power', 'active')\n",
        "Calculating energy for column"
       ]
      },
      {
       "output_type": "stream",
       "stream": "stdout",
       "text": [
        " ('power', 'active')\n",
        "Calculating energy for column ('power', 'active')\n",
        "Calculating energy for column ('power', 'active')\n",
        "Calculating energy for column ('power', 'active')\n",
        "Calculating energy for column"
       ]
      },
      {
       "output_type": "stream",
       "stream": "stdout",
       "text": [
        " ('power', 'active')\n",
        "Calculating energy for column ('power', 'active')\n",
        "Calculating energy for column ('power', 'active')\n",
        "Calculating energy for column"
       ]
      },
      {
       "output_type": "stream",
       "stream": "stdout",
       "text": [
        " ('power', 'active')\n",
        "Calculating energy for column ('power', 'active')\n",
        "Calculating energy for column ('power', 'active')\n",
        "Calculating energy for column"
       ]
      },
      {
       "output_type": "stream",
       "stream": "stdout",
       "text": [
        " ('power', 'active')\n",
        "Calculating energy for column ('power', 'active')\n",
        "Calculating energy for column ('power', 'active')\n",
        "Calculating energy for column"
       ]
      },
      {
       "output_type": "stream",
       "stream": "stdout",
       "text": [
        " ('power', 'active')\n",
        "Calculating energy for column ('power', 'active')\n",
        "Calculating energy for column ('power', 'active')\n",
        "Calculating energy for column"
       ]
      },
      {
       "output_type": "stream",
       "stream": "stdout",
       "text": [
        " ('power', 'active')\n",
        "Calculating energy for column ('power', 'active')\n",
        "Calculating energy for column"
       ]
      },
      {
       "output_type": "stream",
       "stream": "stdout",
       "text": [
        " ('power', 'active')\n",
        "Calculating energy for column ('power', 'active')\n",
        "Calculating energy for column ('power', 'active')\n",
        "Calculating energy for column"
       ]
      },
      {
       "output_type": "stream",
       "stream": "stdout",
       "text": [
        " ('power', 'active')\n",
        "Calculating energy for column ('power', 'active')\n",
        "Calculating energy for column"
       ]
      },
      {
       "output_type": "stream",
       "stream": "stdout",
       "text": [
        " ('power', 'active')\n",
        "Calculating energy for column ('power', 'active')\n",
        "Calculating energy for column"
       ]
      },
      {
       "output_type": "stream",
       "stream": "stdout",
       "text": [
        " ('power', 'active')\n",
        "Calculating energy for column ('power', 'active')\n",
        "Calculating energy for column ('power', 'active')\n",
        "Calculating energy for column"
       ]
      },
      {
       "output_type": "stream",
       "stream": "stdout",
       "text": [
        " ('power', 'active')\n",
        "Calculating energy for column ('power', 'active')\n",
        "Calculating energy for column ('power', 'active')\n",
        "Calculating energy for column"
       ]
      },
      {
       "output_type": "stream",
       "stream": "stdout",
       "text": [
        " ('power', 'active')\n",
        "Calculating energy for column ('power', 'active')\n",
        "Calculating energy for column ('power', 'active')\n",
        "Calculating energy for column ('power', 'active')\n",
        "Calculating energy for column"
       ]
      },
      {
       "output_type": "stream",
       "stream": "stdout",
       "text": [
        " ('power', 'active')\n",
        "Calculating energy for column ('power', 'active')\n",
        "Calculating energy for column ('power', 'active')\n",
        "Calculating energy for column"
       ]
      },
      {
       "output_type": "stream",
       "stream": "stdout",
       "text": [
        " ('power', 'active')\n",
        "Calculating energy for column ('power', 'active')\n",
        "Calculating energy for column"
       ]
      },
      {
       "output_type": "stream",
       "stream": "stdout",
       "text": [
        " ('power', 'active')\n",
        "Calculating energy for column ('power', 'active')\n",
        "Calculating energy for column"
       ]
      },
      {
       "output_type": "stream",
       "stream": "stdout",
       "text": [
        " ('power', 'active')\n",
        "Calculating energy for column ('power', 'active')\n",
        "Calculating energy for column ('power', 'active')\n",
        "Calculating energy for column"
       ]
      },
      {
       "output_type": "stream",
       "stream": "stdout",
       "text": [
        " ('power', 'active')\n",
        "Calculating energy for column"
       ]
      },
      {
       "output_type": "stream",
       "stream": "stdout",
       "text": [
        " ('power', 'active')\n",
        "Calculating energy for column ('power', 'active')\n",
        "Calculating energy for column ('power', 'active')\n",
        "Calculating energy for column"
       ]
      },
      {
       "output_type": "stream",
       "stream": "stdout",
       "text": [
        " ('power', 'active')\n",
        "Calculating energy for column ('power', 'active')\n",
        "Calculating energy for column ('power', 'active')\n",
        "Calculating energy for column"
       ]
      },
      {
       "output_type": "stream",
       "stream": "stdout",
       "text": [
        " ('power', 'active')\n",
        "Calculating energy for column ('power', 'active')\n",
        "Calculating energy for column ('power', 'active')\n",
        "Calculating energy for column ('power', 'active')\n",
        "Calculating energy for column"
       ]
      },
      {
       "output_type": "stream",
       "stream": "stdout",
       "text": [
        " ('power', 'active')\n",
        "Calculating energy for column ('power', 'active')\n",
        "Calculating energy for column ('power', 'active')\n",
        "Calculating energy for column"
       ]
      },
      {
       "output_type": "stream",
       "stream": "stdout",
       "text": [
        " ('power', 'active')\n",
        "Calculating energy for column ('power', 'active')\n",
        "Calculating energy for column ('power', 'active')\n",
        "Calculating energy for column"
       ]
      },
      {
       "output_type": "stream",
       "stream": "stdout",
       "text": [
        " ('power', 'active')\n",
        "Calculating energy for column ('power', 'active')\n",
        "Calculating energy for column ('power', 'active')\n",
        "Calculating energy for column"
       ]
      },
      {
       "output_type": "stream",
       "stream": "stdout",
       "text": [
        " ('power', 'active')\n",
        "Calculating energy for column ('power', 'active')\n",
        "Calculating energy for column"
       ]
      },
      {
       "output_type": "stream",
       "stream": "stdout",
       "text": [
        " ('power', 'active')\n",
        "Calculating energy for column ('power', 'active')\n",
        "Calculating energy for column ('power', 'active')\n",
        "Calculating energy for column"
       ]
      },
      {
       "output_type": "stream",
       "stream": "stdout",
       "text": [
        " ('power', 'active')\n",
        "Calculating energy for column ('power', 'active')\n",
        "Calculating energy for column"
       ]
      },
      {
       "output_type": "stream",
       "stream": "stdout",
       "text": [
        " ('power', 'active')\n",
        "Calculating energy for column ('power', 'active')\n",
        "Calculating energy for column ('power', 'active')\n",
        "Calculating energy for column"
       ]
      },
      {
       "output_type": "stream",
       "stream": "stdout",
       "text": [
        " ('power', 'active')\n",
        "Calculating energy for column ('power', 'active')\n",
        "Calculating energy for column ('power', 'active')\n",
        "Calculating energy for column"
       ]
      },
      {
       "output_type": "stream",
       "stream": "stdout",
       "text": [
        " ('power', 'active')\n",
        "Calculating energy for column ('power', 'active')\n",
        "Calculating energy for column ('power', 'active')\n",
        "Calculating energy for column"
       ]
      },
      {
       "output_type": "stream",
       "stream": "stdout",
       "text": [
        " ('power', 'active')\n",
        "Calculating energy for column ('power', 'active')\n",
        "Calculating energy for column"
       ]
      },
      {
       "output_type": "stream",
       "stream": "stdout",
       "text": [
        " ('power', 'active')\n",
        "Calculating energy for column ('power', 'active')\n",
        "Calculating energy for column ('power', 'active')\n",
        "Calculating energy for column"
       ]
      },
      {
       "output_type": "stream",
       "stream": "stdout",
       "text": [
        " ('power', 'active')\n",
        "Calculating energy for column ('power', 'active')\n",
        "Calculating energy for column ('power', 'active')\n",
        "Calculating energy for column"
       ]
      },
      {
       "output_type": "stream",
       "stream": "stdout",
       "text": [
        " ('power', 'active')\n",
        "Calculating energy for column ('power', 'active')\n",
        "Calculating energy for column ('power', 'active')\n",
        "Calculating energy for column"
       ]
      },
      {
       "output_type": "stream",
       "stream": "stdout",
       "text": [
        " ('power', 'active')\n",
        "Calculating energy for column ('power', 'active')\n",
        "Calculating energy for column ('power', 'active')\n",
        "Calculating energy for column"
       ]
      },
      {
       "output_type": "stream",
       "stream": "stdout",
       "text": [
        " ('power', 'active')\n",
        "Calculating energy for column ('power', 'active')\n",
        "Calculating energy for column"
       ]
      },
      {
       "output_type": "stream",
       "stream": "stdout",
       "text": [
        " ('power', 'active')\n",
        "Calculating energy for column ('power', 'active')\n",
        "Calculating energy for column"
       ]
      },
      {
       "output_type": "stream",
       "stream": "stdout",
       "text": [
        " ('power', 'active')\n",
        "Calculating energy for column ('power', 'active')\n",
        "Calculating energy for column ('power', 'active')\n",
        "Calculating energy for column"
       ]
      },
      {
       "output_type": "stream",
       "stream": "stdout",
       "text": [
        " ('power', 'active')\n",
        "Calculating energy for column ('power', 'active')\n",
        "Calculating energy for column ('power', 'active')\n",
        "Calculating energy for column"
       ]
      },
      {
       "output_type": "stream",
       "stream": "stdout",
       "text": [
        " ('power', 'active')\n",
        "Calculating energy for column ('power', 'active')\n",
        "Calculating energy for column ('power', 'active')\n",
        "Calculating energy for column"
       ]
      },
      {
       "output_type": "stream",
       "stream": "stdout",
       "text": [
        " ('power', 'active')\n",
        "Calculating energy for column ('power', 'active')\n",
        "Calculating energy for column ('power', 'active')\n",
        "Calculating energy for column"
       ]
      },
      {
       "output_type": "stream",
       "stream": "stdout",
       "text": [
        " ('power', 'active')\n",
        "Calculating energy for column ('power', 'active')\n",
        "Calculating energy for column ('power', 'active')\n",
        "Calculating energy for column"
       ]
      },
      {
       "output_type": "stream",
       "stream": "stdout",
       "text": [
        " ('power', 'active')\n",
        "Calculating energy for column ('power', 'active')\n",
        "Calculating energy for column ('power', 'active')\n",
        "Calculating energy for column"
       ]
      },
      {
       "output_type": "stream",
       "stream": "stdout",
       "text": [
        " ('power', 'active')\n",
        "Calculating energy for column ('power', 'active')\n",
        "Calculating energy for column ('power', 'active')\n",
        "Calculating energy for column"
       ]
      },
      {
       "output_type": "stream",
       "stream": "stdout",
       "text": [
        " ('power', 'active')\n",
        "Calculating energy for column ('power', 'active')\n",
        "Calculating energy for column ('power', 'active')\n",
        "Calculating energy for column"
       ]
      },
      {
       "output_type": "stream",
       "stream": "stdout",
       "text": [
        " ('power', 'active')\n",
        "Calculating energy for column ('power', 'active')\n",
        "Calculating energy for column"
       ]
      },
      {
       "output_type": "stream",
       "stream": "stdout",
       "text": [
        " ('power', 'active')\n",
        "Calculating energy for column ('power', 'active')\n",
        "Calculating energy for column ('power', 'active')\n",
        "Calculating energy for column"
       ]
      },
      {
       "output_type": "stream",
       "stream": "stdout",
       "text": [
        " ('power', 'active')\n",
        "Calculating energy for column ('power', 'active')\n",
        "Calculating energy for column ('power', 'active')\n",
        "Calculating energy for column"
       ]
      },
      {
       "output_type": "stream",
       "stream": "stdout",
       "text": [
        " ('power', 'active')\n",
        "Calculating energy for column ('power', 'active')\n",
        "Calculating energy for column"
       ]
      },
      {
       "output_type": "stream",
       "stream": "stdout",
       "text": [
        " ('power', 'active')\n",
        "Calculating energy for column ('power', 'active')\n",
        "Calculating energy for column"
       ]
      },
      {
       "output_type": "stream",
       "stream": "stdout",
       "text": [
        " ('power', 'active')\n",
        "Calculating energy for column ('power', 'active')\n",
        "Calculating energy for column ('power', 'active')\n",
        "Calculating energy for column"
       ]
      },
      {
       "output_type": "stream",
       "stream": "stdout",
       "text": [
        " ('power', 'active')\n",
        "Calculating energy for column ('power', 'active')\n",
        "Calculating energy for column"
       ]
      },
      {
       "output_type": "stream",
       "stream": "stdout",
       "text": [
        " ('power', 'active')\n",
        "Calculating energy for column ('power', 'active')\n",
        "Calculating energy for column"
       ]
      },
      {
       "output_type": "stream",
       "stream": "stdout",
       "text": [
        " ('power', 'active')\n",
        "Calculating energy for column ('power', 'active')\n",
        "Calculating energy for column"
       ]
      },
      {
       "output_type": "stream",
       "stream": "stdout",
       "text": [
        " ('power', 'active')\n",
        "Calculating energy for column ('power', 'active')\n",
        "Calculating energy for column"
       ]
      },
      {
       "output_type": "stream",
       "stream": "stdout",
       "text": [
        " ('power', 'active')\n",
        "Calculating energy for column ('power', 'active')\n",
        "Calculating energy for column"
       ]
      },
      {
       "output_type": "stream",
       "stream": "stdout",
       "text": [
        " ('power', 'active')\n",
        "Calculating energy for column ('power', 'active')\n",
        "Calculating energy for column"
       ]
      },
      {
       "output_type": "stream",
       "stream": "stdout",
       "text": [
        " ('power', 'active')\n",
        "Calculating energy for column ('power', 'active')\n",
        "Calculating energy for column"
       ]
      },
      {
       "output_type": "stream",
       "stream": "stdout",
       "text": [
        " ('power', 'active')\n",
        "Calculating energy for column ('power', 'active')\n",
        "Calculating energy for column"
       ]
      },
      {
       "output_type": "stream",
       "stream": "stdout",
       "text": [
        " ('power', 'active')\n",
        "Calculating energy for column ('power', 'active')\n",
        "Calculating energy for column"
       ]
      },
      {
       "output_type": "stream",
       "stream": "stdout",
       "text": [
        " ('power', 'active')\n",
        "Calculating energy for column ('power', 'active')\n",
        "Calculating energy for column"
       ]
      },
      {
       "output_type": "stream",
       "stream": "stdout",
       "text": [
        " ('power', 'active')\n",
        "Calculating energy for column ('power', 'active')\n",
        "Calculating energy for column"
       ]
      },
      {
       "output_type": "stream",
       "stream": "stdout",
       "text": [
        " ('power', 'active')\n",
        "Calculating energy for column ('power', 'active')\n",
        "Calculating energy for column"
       ]
      },
      {
       "output_type": "stream",
       "stream": "stdout",
       "text": [
        " ('power', 'active')\n",
        "Calculating energy for column ('power', 'active')\n",
        "Calculating energy for column"
       ]
      },
      {
       "output_type": "stream",
       "stream": "stdout",
       "text": [
        " ('power', 'active')\n",
        "Calculating energy for column ('power', 'active')\n",
        "Calculating energy for column"
       ]
      },
      {
       "output_type": "stream",
       "stream": "stdout",
       "text": [
        " ('power', 'active')\n",
        "Calculating energy for column ('power', 'active')\n",
        "Calculating energy for column"
       ]
      },
      {
       "output_type": "stream",
       "stream": "stdout",
       "text": [
        " ('power', 'active')\n",
        "Calculating energy for column"
       ]
      },
      {
       "output_type": "stream",
       "stream": "stdout",
       "text": [
        " ('power', 'active')\n",
        "Calculating energy for column"
       ]
      },
      {
       "output_type": "stream",
       "stream": "stdout",
       "text": [
        " ('power', 'active')\n",
        "Calculating energy for column ('power', 'active')\n",
        "Calculating energy for column"
       ]
      },
      {
       "output_type": "stream",
       "stream": "stdout",
       "text": [
        " ('power', 'active')\n",
        "Calculating energy for column ('power', 'active')\n",
        "Calculating energy for column"
       ]
      },
      {
       "output_type": "stream",
       "stream": "stdout",
       "text": [
        " ('power', 'active')\n",
        "Calculating energy for column ('power', 'active')\n",
        "Calculating energy for column"
       ]
      },
      {
       "output_type": "stream",
       "stream": "stdout",
       "text": [
        " ('power', 'active')\n",
        "Calculating energy for column ('power', 'active')\n",
        "Calculating energy for column"
       ]
      },
      {
       "output_type": "stream",
       "stream": "stdout",
       "text": [
        " ('power', 'active')\n",
        "Calculating energy for column ('power', 'active')\n",
        "Calculating energy for column"
       ]
      },
      {
       "output_type": "stream",
       "stream": "stdout",
       "text": [
        " ('power', 'active')\n",
        "Calculating energy for column ('power', 'active')\n",
        "Calculating energy for column"
       ]
      },
      {
       "output_type": "stream",
       "stream": "stdout",
       "text": [
        " ('power', 'active')\n",
        "Calculating energy for column ('power', 'active')\n",
        "Calculating energy for column"
       ]
      },
      {
       "output_type": "stream",
       "stream": "stdout",
       "text": [
        " ('power', 'active')\n",
        "Calculating energy for column ('power', 'active')\n",
        "Calculating energy for column"
       ]
      },
      {
       "output_type": "stream",
       "stream": "stdout",
       "text": [
        " ('power', 'active')\n",
        "Calculating energy for column ('power', 'active')\n",
        "Calculating energy for column"
       ]
      },
      {
       "output_type": "stream",
       "stream": "stdout",
       "text": [
        " ('power', 'active')\n",
        "Calculating energy for column"
       ]
      },
      {
       "output_type": "stream",
       "stream": "stdout",
       "text": [
        " ('power', 'active')\n",
        "Calculating energy for column ('power', 'active')\n",
        "Calculating energy for column"
       ]
      },
      {
       "output_type": "stream",
       "stream": "stdout",
       "text": [
        " ('power', 'active')\n",
        "Calculating energy for column ('power', 'active')\n",
        "Calculating energy for column"
       ]
      },
      {
       "output_type": "stream",
       "stream": "stdout",
       "text": [
        " ('power', 'active')\n",
        "Calculating energy for column ('power', 'active')\n",
        "Calculating energy for column"
       ]
      },
      {
       "output_type": "stream",
       "stream": "stdout",
       "text": [
        " ('power', 'active')\n",
        "Calculating energy for column"
       ]
      },
      {
       "output_type": "stream",
       "stream": "stdout",
       "text": [
        " ('power', 'active')\n",
        "Calculating energy for column ('power', 'active')\n",
        "Calculating energy for column"
       ]
      },
      {
       "output_type": "stream",
       "stream": "stdout",
       "text": [
        " ('power', 'active')\n",
        "Calculating energy for column ('power', 'active')\n",
        "Calculating energy for column"
       ]
      },
      {
       "output_type": "stream",
       "stream": "stdout",
       "text": [
        " ('power', 'active')\n",
        "Calculating energy for column ('power', 'active')\n",
        "Calculating energy for column"
       ]
      },
      {
       "output_type": "stream",
       "stream": "stdout",
       "text": [
        " ('power', 'active')\n",
        "Calculating energy for column ('power', 'active')\n",
        "Calculating energy for column"
       ]
      },
      {
       "output_type": "stream",
       "stream": "stdout",
       "text": [
        " ('power', 'active')\n",
        "Calculating energy for column ('power', 'active')\n",
        "Calculating energy for column"
       ]
      },
      {
       "output_type": "stream",
       "stream": "stdout",
       "text": [
        " ('power', 'active')\n",
        "Calculating energy for column ('power', 'active')\n",
        "Calculating energy for column"
       ]
      },
      {
       "output_type": "stream",
       "stream": "stdout",
       "text": [
        " ('power', 'active')\n",
        "Calculating energy for column ('power', 'active')\n",
        "Calculating energy for column"
       ]
      },
      {
       "output_type": "stream",
       "stream": "stdout",
       "text": [
        " ('power', 'active')\n",
        "Calculating energy for column ('power', 'active')\n",
        "Calculating energy for column"
       ]
      },
      {
       "output_type": "stream",
       "stream": "stdout",
       "text": [
        " ('power', 'active')\n",
        "Calculating energy for column"
       ]
      },
      {
       "output_type": "stream",
       "stream": "stdout",
       "text": [
        " ('power', 'active')\n",
        "Calculating energy for column"
       ]
      },
      {
       "output_type": "stream",
       "stream": "stdout",
       "text": [
        " ('power', 'active')\n",
        "Calculating energy for column"
       ]
      },
      {
       "output_type": "stream",
       "stream": "stdout",
       "text": [
        " ('power', 'active')\n",
        "Calculating energy for column ('power', 'active')\n",
        "Calculating energy for column ('power', 'active')\n",
        "Calculating energy for column ('power', 'active')\n",
        "Calculating energy for column"
       ]
      },
      {
       "output_type": "stream",
       "stream": "stdout",
       "text": [
        " ('power', 'active')\n",
        "Calculating energy for column ('power', 'active')\n",
        "Calculating energy for column ('power', 'active')\n",
        "Calculating energy for column ('power', 'active')\n",
        "Calculating energy for column"
       ]
      },
      {
       "output_type": "stream",
       "stream": "stdout",
       "text": [
        " ('power', 'active')\n",
        "Calculating energy for column ('power', 'active')\n",
        "Calculating energy for column ('power', 'active')\n",
        "Calculating energy for column"
       ]
      },
      {
       "output_type": "stream",
       "stream": "stdout",
       "text": [
        " ('power', 'active')\n",
        "Calculating energy for column ('power', 'active')\n",
        "Calculating energy for column ('power', 'active')\n",
        "Calculating energy for column ('power', 'active')\n",
        "Calculating energy for column ('power', 'active')\n",
        "Calculating energy for column"
       ]
      },
      {
       "output_type": "stream",
       "stream": "stdout",
       "text": [
        " ('power', 'active')\n",
        "Calculating energy for column ('power', 'active')\n",
        "Calculating energy for column"
       ]
      },
      {
       "output_type": "stream",
       "stream": "stdout",
       "text": [
        " ('power', 'active')\n",
        "Calculating energy for column ('power', 'active')\n",
        "Calculating energy for column ('power', 'active')\n",
        "Calculating energy for column"
       ]
      },
      {
       "output_type": "stream",
       "stream": "stdout",
       "text": [
        " ('power', 'active')\n",
        "Calculating energy for column ('power', 'active')\n",
        "Calculating energy for column ('power', 'active')\n",
        "Calculating energy for column ('power', 'active')\n",
        "Calculating energy for column"
       ]
      },
      {
       "output_type": "stream",
       "stream": "stdout",
       "text": [
        " ('power', 'active')\n",
        "Calculating energy for column ('power', 'active')\n",
        "Calculating energy for column ('power', 'active')\n",
        "Calculating energy for column"
       ]
      },
      {
       "output_type": "stream",
       "stream": "stdout",
       "text": [
        " ('power', 'active')\n",
        "Calculating energy for column ('power', 'active')\n",
        "Calculating energy for column ('power', 'active')\n",
        "Calculating energy for column"
       ]
      },
      {
       "output_type": "stream",
       "stream": "stdout",
       "text": [
        " ('power', 'active')\n",
        "Calculating energy for column ('power', 'active')\n",
        "Calculating energy for column"
       ]
      },
      {
       "output_type": "stream",
       "stream": "stdout",
       "text": [
        " ('power', 'active')\n",
        "Calculating energy for column ('power', 'active')\n",
        "Calculating energy for column ('power', 'active')\n",
        "Calculating energy for column"
       ]
      },
      {
       "output_type": "stream",
       "stream": "stdout",
       "text": [
        " ('power', 'active')\n",
        "Calculating energy for column ('power', 'active')\n",
        "Calculating energy for column ('power', 'active')\n",
        "Calculating energy for column"
       ]
      },
      {
       "output_type": "stream",
       "stream": "stdout",
       "text": [
        " ('power', 'active')\n",
        "Calculating energy for column ('power', 'active')\n",
        "Calculating energy for column ('power', 'active')\n",
        "Calculating energy for column"
       ]
      },
      {
       "output_type": "stream",
       "stream": "stdout",
       "text": [
        " ('power', 'active')\n",
        "Calculating energy for column ('power', 'active')\n",
        "Calculating energy for column ('power', 'active')\n",
        "Calculating energy for column"
       ]
      },
      {
       "output_type": "stream",
       "stream": "stdout",
       "text": [
        " ('power', 'active')\n",
        "Calculating energy for column ('power', 'active')\n",
        "Calculating energy for column ('power', 'active')\n",
        "Calculating energy for column"
       ]
      },
      {
       "output_type": "stream",
       "stream": "stdout",
       "text": [
        " ('power', 'active')\n",
        "Calculating energy for column ('power', 'active')\n",
        "Calculating energy for column ('power', 'active')\n",
        "Calculating energy for column"
       ]
      },
      {
       "output_type": "stream",
       "stream": "stdout",
       "text": [
        " ('power', 'active')\n",
        "Calculating energy for column ('power', 'active')\n",
        "Calculating energy for column ('power', 'active')\n",
        "Calculating energy for column"
       ]
      },
      {
       "output_type": "stream",
       "stream": "stdout",
       "text": [
        " ('power', 'active')\n",
        "Calculating energy for column ('power', 'active')\n",
        "Calculating energy for column"
       ]
      },
      {
       "output_type": "stream",
       "stream": "stdout",
       "text": [
        " ('power', 'active')\n",
        "Calculating energy for column ('power', 'active')\n",
        "Calculating energy for column ('power', 'active')\n",
        "Calculating energy for column"
       ]
      },
      {
       "output_type": "stream",
       "stream": "stdout",
       "text": [
        " ('power', 'active')\n",
        "Calculating energy for column ('power', 'active')\n",
        "Calculating energy for column"
       ]
      },
      {
       "output_type": "stream",
       "stream": "stdout",
       "text": [
        " ('power', 'active')\n",
        "Calculating energy for column ('power', 'active')\n",
        "Calculating energy for column"
       ]
      },
      {
       "output_type": "stream",
       "stream": "stdout",
       "text": [
        " ('power', 'active')\n",
        "Calculating energy for column ('power', 'active')\n",
        "Calculating energy for column ('power', 'active')\n",
        "Calculating energy for column"
       ]
      },
      {
       "output_type": "stream",
       "stream": "stdout",
       "text": [
        " ('power', 'active')\n",
        "Calculating energy for column ('power', 'active')\n",
        "Calculating energy for column ('power', 'active')\n",
        "Calculating energy for column"
       ]
      },
      {
       "output_type": "stream",
       "stream": "stdout",
       "text": [
        " ('power', 'active')\n",
        "Calculating energy for column ('power', 'active')\n",
        "Calculating energy for column ('power', 'active')\n",
        "Calculating energy for column"
       ]
      },
      {
       "output_type": "stream",
       "stream": "stdout",
       "text": [
        " ('power', 'active')\n",
        "Calculating energy for column ('power', 'active')\n",
        "Calculating energy for column"
       ]
      },
      {
       "output_type": "stream",
       "stream": "stdout",
       "text": [
        " ('power', 'active')\n",
        "Calculating energy for column ('power', 'active')\n",
        "Calculating energy for column"
       ]
      },
      {
       "output_type": "stream",
       "stream": "stdout",
       "text": [
        " ('power', 'active')\n",
        "Calculating energy for column ('power', 'active')\n",
        "Calculating energy for column ('power', 'active')\n",
        "Calculating energy for column"
       ]
      },
      {
       "output_type": "stream",
       "stream": "stdout",
       "text": [
        " ('power', 'active')\n",
        "Calculating energy for column ('power', 'active')\n",
        "Calculating energy for column"
       ]
      },
      {
       "output_type": "stream",
       "stream": "stdout",
       "text": [
        " ('power', 'active')\n",
        "Calculating energy for column ('power', 'active')\n",
        "Calculating energy for column"
       ]
      },
      {
       "output_type": "stream",
       "stream": "stdout",
       "text": [
        " ('power', 'active')\n",
        "Calculating energy for column ('power', 'active')\n",
        "Calculating energy for column"
       ]
      },
      {
       "output_type": "stream",
       "stream": "stdout",
       "text": [
        " ('power', 'active')\n",
        "Calculating energy for column ('power', 'active')\n",
        "Calculating energy for column"
       ]
      },
      {
       "output_type": "stream",
       "stream": "stdout",
       "text": [
        " ('power', 'active')\n",
        "Calculating energy for column ('power', 'active')\n",
        "Calculating energy for column"
       ]
      },
      {
       "output_type": "stream",
       "stream": "stdout",
       "text": [
        " ('power', 'active')\n",
        "Calculating energy for column ('power', 'active')\n",
        "Calculating energy for column ('power', 'active')\n",
        "Calculating energy for column"
       ]
      },
      {
       "output_type": "stream",
       "stream": "stdout",
       "text": [
        " ('power', 'active')\n",
        "Calculating energy for column ('power', 'active')\n",
        "Calculating energy for column"
       ]
      },
      {
       "output_type": "stream",
       "stream": "stdout",
       "text": [
        " ('power', 'active')\n",
        "Calculating energy for column ('power', 'active')\n",
        "Calculating energy for column"
       ]
      },
      {
       "output_type": "stream",
       "stream": "stdout",
       "text": [
        " ('power', 'active')\n",
        "Calculating energy for column ('power', 'active')\n",
        "Calculating energy for column ('power', 'active')\n",
        "Calculating energy for column"
       ]
      },
      {
       "output_type": "stream",
       "stream": "stdout",
       "text": [
        " ('power', 'active')\n",
        "Calculating energy for column ('power', 'active')\n",
        "Calculating energy for column"
       ]
      },
      {
       "output_type": "stream",
       "stream": "stdout",
       "text": [
        " ('power', 'active')\n",
        "Calculating energy for column ('power', 'active')\n",
        "Calculating energy for column"
       ]
      },
      {
       "output_type": "stream",
       "stream": "stdout",
       "text": [
        " ('power', 'active')\n",
        "Calculating energy for column ('power', 'active')\n",
        "Calculating energy for column"
       ]
      },
      {
       "output_type": "stream",
       "stream": "stdout",
       "text": [
        " ('power', 'active')\n",
        "Calculating energy for column"
       ]
      },
      {
       "output_type": "stream",
       "stream": "stdout",
       "text": [
        " ('power', 'active')\n",
        "Calculating energy for column"
       ]
      },
      {
       "output_type": "stream",
       "stream": "stdout",
       "text": [
        " ('power', 'active')\n",
        "Calculating energy for column"
       ]
      },
      {
       "output_type": "stream",
       "stream": "stdout",
       "text": [
        " ('power', 'active')\n",
        "Calculating energy for column ('power', 'active')\n",
        "Calculating energy for column"
       ]
      },
      {
       "output_type": "stream",
       "stream": "stdout",
       "text": [
        " ('power', 'active')\n",
        "Calculating energy for column ('power', 'active')\n",
        "Calculating energy for column"
       ]
      },
      {
       "output_type": "stream",
       "stream": "stdout",
       "text": [
        " ('power', 'active')\n",
        "Calculating energy for column ('power', 'active')\n",
        "Calculating energy for column"
       ]
      },
      {
       "output_type": "stream",
       "stream": "stdout",
       "text": [
        " ('power', 'active')\n",
        "Calculating energy for column ('power', 'active')\n",
        "Calculating energy for column"
       ]
      },
      {
       "output_type": "stream",
       "stream": "stdout",
       "text": [
        " ('power', 'active')\n",
        "Calculating energy for column"
       ]
      },
      {
       "output_type": "stream",
       "stream": "stdout",
       "text": [
        " ('power', 'active')\n",
        "Calculating energy for column ('power', 'active')\n",
        "Calculating energy for column"
       ]
      },
      {
       "output_type": "stream",
       "stream": "stdout",
       "text": [
        " ('power', 'active')\n",
        "Calculating energy for column ('power', 'active')\n",
        "Calculating energy for column"
       ]
      },
      {
       "output_type": "stream",
       "stream": "stdout",
       "text": [
        " ('power', 'active')\n",
        "Calculating energy for column ('power', 'active')\n",
        "Calculating energy for column"
       ]
      },
      {
       "output_type": "stream",
       "stream": "stdout",
       "text": [
        " ('power', 'active')\n",
        "Calculating energy for column ('power', 'active')\n",
        "Calculating energy for column"
       ]
      },
      {
       "output_type": "stream",
       "stream": "stdout",
       "text": [
        " ('power', 'active')\n",
        "Calculating energy for column ('power', 'active')\n",
        "Calculating energy for column"
       ]
      },
      {
       "output_type": "stream",
       "stream": "stdout",
       "text": [
        " ('power', 'active')\n",
        "Calculating energy for column ('power', 'active')\n",
        "Calculating energy for column"
       ]
      },
      {
       "output_type": "stream",
       "stream": "stdout",
       "text": [
        " ('power', 'active')\n",
        "Calculating energy for column ('power', 'active')\n",
        "Calculating energy for column"
       ]
      },
      {
       "output_type": "stream",
       "stream": "stdout",
       "text": [
        " ('power', 'active')\n",
        "Calculating energy for column ('power', 'active')\n",
        "Calculating energy for column"
       ]
      },
      {
       "output_type": "stream",
       "stream": "stdout",
       "text": [
        " ('power', 'active')\n",
        "Calculating energy for column"
       ]
      },
      {
       "output_type": "stream",
       "stream": "stdout",
       "text": [
        " ('power', 'active')\n",
        "Calculating energy for column"
       ]
      },
      {
       "output_type": "stream",
       "stream": "stdout",
       "text": [
        " ('power', 'active')\n",
        "Calculating energy for column"
       ]
      },
      {
       "output_type": "stream",
       "stream": "stdout",
       "text": [
        " ('power', 'active')\n",
        "Calculating energy for column"
       ]
      },
      {
       "output_type": "stream",
       "stream": "stdout",
       "text": [
        " ('power', 'active')\n",
        "Calculating energy for column"
       ]
      },
      {
       "output_type": "stream",
       "stream": "stdout",
       "text": [
        " ('power', 'active')\n",
        "Calculating energy for column"
       ]
      },
      {
       "output_type": "stream",
       "stream": "stdout",
       "text": [
        " ('power', 'active')\n",
        "Calculating energy for column"
       ]
      },
      {
       "output_type": "stream",
       "stream": "stdout",
       "text": [
        " ('power', 'active')\n",
        "Calculating energy for column ('power', 'active')\n",
        "Calculating energy for column"
       ]
      },
      {
       "output_type": "stream",
       "stream": "stdout",
       "text": [
        " ('power', 'active')\n",
        "Calculating energy for column ('power', 'active')\n",
        "Calculating energy for column"
       ]
      },
      {
       "output_type": "stream",
       "stream": "stdout",
       "text": [
        " ('power', 'active')\n",
        "Calculating energy for column ('power', 'active')\n",
        "Calculating energy for column"
       ]
      },
      {
       "output_type": "stream",
       "stream": "stdout",
       "text": [
        " ('power', 'active')\n",
        "Calculating energy for column ('power', 'active')\n",
        "Calculating energy for column"
       ]
      },
      {
       "output_type": "stream",
       "stream": "stdout",
       "text": [
        " ('power', 'active')\n",
        "Calculating energy for column ('power', 'active')\n",
        "Calculating energy for column ('power', 'active')\n",
        "Calculating energy for column"
       ]
      },
      {
       "output_type": "stream",
       "stream": "stdout",
       "text": [
        " ('power', 'active')\n",
        "Calculating energy for column ('power', 'active')\n",
        "Calculating energy for column ('power', 'active')\n",
        "Calculating energy for column"
       ]
      },
      {
       "output_type": "stream",
       "stream": "stdout",
       "text": [
        " ('power', 'active')\n",
        "Calculating energy for column ('power', 'active')\n",
        "Calculating energy for column ('power', 'active')\n",
        "Calculating energy for column ('power', 'active')\n",
        "Calculating energy for column"
       ]
      },
      {
       "output_type": "stream",
       "stream": "stdout",
       "text": [
        " ('power', 'active')\n",
        "Calculating energy for column ('power', 'active')\n",
        "Calculating energy for column ('power', 'active')\n",
        "Calculating energy for column"
       ]
      },
      {
       "output_type": "stream",
       "stream": "stdout",
       "text": [
        " ('power', 'active')\n",
        "Calculating energy for column ('power', 'active')\n",
        "Calculating energy for column ('power', 'active')\n",
        "Calculating energy for column"
       ]
      },
      {
       "output_type": "stream",
       "stream": "stdout",
       "text": [
        " ('power', 'active')\n",
        "Calculating energy for column ('power', 'active')\n",
        "Calculating energy for column"
       ]
      },
      {
       "output_type": "stream",
       "stream": "stdout",
       "text": [
        " ('power', 'active')\n",
        "Calculating energy for column ('power', 'active')\n",
        "Calculating energy for column ('power', 'active')\n",
        "Calculating energy for column"
       ]
      },
      {
       "output_type": "stream",
       "stream": "stdout",
       "text": [
        " ('power', 'active')\n",
        "Calculating energy for column ('power', 'active')\n",
        "Calculating energy for column"
       ]
      },
      {
       "output_type": "stream",
       "stream": "stdout",
       "text": [
        " ('power', 'active')\n",
        "Calculating energy for column ('power', 'active')\n",
        "Calculating energy for column ('power', 'active')\n",
        "Calculating energy for column"
       ]
      },
      {
       "output_type": "stream",
       "stream": "stdout",
       "text": [
        " ('power', 'active')\n",
        "Calculating energy for column ('power', 'active')\n",
        "Calculating energy for column"
       ]
      },
      {
       "output_type": "stream",
       "stream": "stdout",
       "text": [
        " ('power', 'active')\n",
        "Calculating energy for column ('power', 'active')\n",
        "Calculating energy for column ('power', 'active')\n",
        "Calculating energy for column"
       ]
      },
      {
       "output_type": "stream",
       "stream": "stdout",
       "text": [
        " ('power', 'active')\n",
        "Calculating energy for column ('power', 'active')\n",
        "Calculating energy for column ('power', 'active')\n",
        "Calculating energy for column"
       ]
      },
      {
       "output_type": "stream",
       "stream": "stdout",
       "text": [
        " ('power', 'active')\n",
        "Calculating energy for column ('power', 'active')\n",
        "Calculating energy for column ('power', 'active')\n",
        "Calculating energy for column"
       ]
      },
      {
       "output_type": "stream",
       "stream": "stdout",
       "text": [
        " ('power', 'active')\n",
        "Calculating energy for column ('power', 'active')\n",
        "Calculating energy for column ('power', 'active')\n",
        "Calculating energy for column"
       ]
      },
      {
       "output_type": "stream",
       "stream": "stdout",
       "text": [
        " ('power', 'active')\n",
        "Calculating energy for column ('power', 'active')\n",
        "Calculating energy for column ('power', 'active')\n",
        "Calculating energy for column"
       ]
      },
      {
       "output_type": "stream",
       "stream": "stdout",
       "text": [
        " ('power', 'active')\n",
        "Calculating energy for column ('power', 'active')\n",
        "Calculating energy for column ('power', 'active')\n",
        "Calculating energy for column"
       ]
      },
      {
       "output_type": "stream",
       "stream": "stdout",
       "text": [
        " ('power', 'active')\n",
        "Calculating energy for column ('power', 'active')\n",
        "Calculating energy for column ('power', 'active')\n",
        "Calculating energy for column"
       ]
      },
      {
       "output_type": "stream",
       "stream": "stdout",
       "text": [
        " ('power', 'active')\n",
        "Calculating energy for column ('power', 'active')\n",
        "Calculating energy for column ('power', 'active')\n",
        "Calculating energy for column"
       ]
      },
      {
       "output_type": "stream",
       "stream": "stdout",
       "text": [
        " ('power', 'active')\n",
        "Calculating energy for column ('power', 'active')\n",
        "Calculating energy for column"
       ]
      },
      {
       "output_type": "stream",
       "stream": "stdout",
       "text": [
        " ('power', 'active')\n",
        "Calculating energy for column ('power', 'active')\n",
        "Calculating energy for column ('power', 'active')\n",
        "Calculating energy for column"
       ]
      },
      {
       "output_type": "stream",
       "stream": "stdout",
       "text": [
        " ('power', 'active')\n",
        "Calculating energy for column ('power', 'active')\n",
        "Calculating energy for column ('power', 'active')\n",
        "Calculating energy for column"
       ]
      },
      {
       "output_type": "stream",
       "stream": "stdout",
       "text": [
        " ('power', 'active')\n",
        "Calculating energy for column ('power', 'active')\n",
        "Calculating energy for column ('power', 'active')\n",
        "Calculating energy for column"
       ]
      },
      {
       "output_type": "stream",
       "stream": "stdout",
       "text": [
        " ('power', 'active')\n",
        "Calculating energy for column ('power', 'active')\n",
        "Calculating energy for column ('power', 'active')\n",
        "Calculating energy for column"
       ]
      },
      {
       "output_type": "stream",
       "stream": "stdout",
       "text": [
        " ('power', 'active')\n",
        "Calculating energy for column ('power', 'active')\n",
        "Calculating energy for column ('power', 'active')\n",
        "Calculating energy for column"
       ]
      },
      {
       "output_type": "stream",
       "stream": "stdout",
       "text": [
        " ('power', 'active')\n",
        "Calculating energy for column ('power', 'active')\n",
        "Calculating energy for column ('power', 'active')\n",
        "Calculating energy for column"
       ]
      },
      {
       "output_type": "stream",
       "stream": "stdout",
       "text": [
        " ('power', 'active')\n",
        "Calculating energy for column ('power', 'active')\n",
        "Calculating energy for column ('power', 'active')\n",
        "Calculating energy for column"
       ]
      },
      {
       "output_type": "stream",
       "stream": "stdout",
       "text": [
        " ('power', 'active')\n",
        "Calculating energy for column ('power', 'active')\n",
        "Calculating energy for column"
       ]
      },
      {
       "output_type": "stream",
       "stream": "stdout",
       "text": [
        " ('power', 'active')\n",
        "Calculating energy for column ('power', 'active')\n",
        "Calculating energy for column"
       ]
      },
      {
       "output_type": "stream",
       "stream": "stdout",
       "text": [
        " ('power', 'active')\n",
        "Calculating energy for column ('power', 'active')\n",
        "Calculating energy for column"
       ]
      },
      {
       "output_type": "stream",
       "stream": "stdout",
       "text": [
        " ('power', 'active')\n",
        "Calculating energy for column ('power', 'active')\n",
        "Calculating energy for column"
       ]
      },
      {
       "output_type": "stream",
       "stream": "stdout",
       "text": [
        " ('power', 'active')\n",
        "Calculating energy for column ('power', 'active')\n",
        "Calculating energy for column ('power', 'active')\n",
        "Calculating energy for column"
       ]
      },
      {
       "output_type": "stream",
       "stream": "stdout",
       "text": [
        " ('power', 'active')\n",
        "Calculating energy for column ('power', 'active')\n",
        "Calculating energy for column"
       ]
      },
      {
       "output_type": "stream",
       "stream": "stdout",
       "text": [
        " ('power', 'active')\n",
        "Calculating energy for column ('power', 'active')\n",
        "Calculating energy for column"
       ]
      },
      {
       "output_type": "stream",
       "stream": "stdout",
       "text": [
        " ('power', 'active')\n",
        "Calculating energy for column ('power', 'active')\n",
        "Calculating energy for column"
       ]
      },
      {
       "output_type": "stream",
       "stream": "stdout",
       "text": [
        " ('power', 'active')\n",
        "Calculating energy for column"
       ]
      },
      {
       "output_type": "stream",
       "stream": "stdout",
       "text": [
        " ('power', 'active')\n",
        "Calculating energy for column"
       ]
      },
      {
       "output_type": "stream",
       "stream": "stdout",
       "text": [
        " ('power', 'active')\n",
        "Calculating energy for column ('power', 'active')\n",
        "Calculating energy for column"
       ]
      },
      {
       "output_type": "stream",
       "stream": "stdout",
       "text": [
        " ('power', 'active')\n",
        "Calculating energy for column ('power', 'active')\n",
        "Calculating energy for column"
       ]
      },
      {
       "output_type": "stream",
       "stream": "stdout",
       "text": [
        " ('power', 'active')\n",
        "Calculating energy for column ('power', 'active')\n",
        "Calculating energy for column"
       ]
      },
      {
       "output_type": "stream",
       "stream": "stdout",
       "text": [
        " ('power', 'active')\n",
        "Calculating energy for column ('power', 'active')\n",
        "Calculating energy for column"
       ]
      },
      {
       "output_type": "stream",
       "stream": "stdout",
       "text": [
        " ('power', 'active')\n",
        "Calculating energy for column ('power', 'active')\n",
        "Calculating energy for column"
       ]
      },
      {
       "output_type": "stream",
       "stream": "stdout",
       "text": [
        " ('power', 'active')\n",
        "Calculating energy for column ('power', 'active')\n",
        "Calculating energy for column"
       ]
      },
      {
       "output_type": "stream",
       "stream": "stdout",
       "text": [
        " ('power', 'active')\n",
        "Calculating energy for column ('power', 'active')\n",
        "Calculating energy for column"
       ]
      },
      {
       "output_type": "stream",
       "stream": "stdout",
       "text": [
        " ('power', 'active')\n",
        "Calculating energy for column"
       ]
      },
      {
       "output_type": "stream",
       "stream": "stdout",
       "text": [
        " ('power', 'active')\n",
        "Calculating energy for column"
       ]
      },
      {
       "output_type": "stream",
       "stream": "stdout",
       "text": [
        " ('power', 'active')\n",
        "Calculating energy for column ('power', 'active')\n",
        "Calculating energy for column"
       ]
      },
      {
       "output_type": "stream",
       "stream": "stdout",
       "text": [
        " ('power', 'active')\n",
        "Calculating energy for column ('power', 'active')\n",
        "Calculating energy for column"
       ]
      },
      {
       "output_type": "stream",
       "stream": "stdout",
       "text": [
        " ('power', 'active')\n",
        "Calculating energy for column ('power', 'active')\n",
        "Calculating energy for column"
       ]
      },
      {
       "output_type": "stream",
       "stream": "stdout",
       "text": [
        " ('power', 'active')\n",
        "Calculating energy for column ('power', 'active')\n",
        "Calculating energy for column"
       ]
      },
      {
       "output_type": "stream",
       "stream": "stdout",
       "text": [
        " ('power', 'active')\n",
        "Calculating energy for column ('power', 'active')\n",
        "Calculating energy for column"
       ]
      },
      {
       "output_type": "stream",
       "stream": "stdout",
       "text": [
        " ('power', 'active')\n",
        "Calculating energy for column ('power', 'active')\n",
        "Calculating energy for column ('power', 'active')\n",
        "Calculating energy for column"
       ]
      },
      {
       "output_type": "stream",
       "stream": "stdout",
       "text": [
        " ('power', 'active')\n",
        "Calculating energy for column ('power', 'active')\n",
        "Calculating energy for column ('power', 'active')\n",
        "Calculating energy for column ('power', 'active')\n",
        "Calculating energy for column"
       ]
      },
      {
       "output_type": "stream",
       "stream": "stdout",
       "text": [
        " ('power', 'active')\n",
        "Calculating energy for column ('power', 'active')\n",
        "Calculating energy for column ('power', 'active')\n",
        "Calculating energy for column ('power', 'active')\n",
        "Calculating energy for column"
       ]
      },
      {
       "output_type": "stream",
       "stream": "stdout",
       "text": [
        " ('power', 'active')\n",
        "Calculating energy for column ('power', 'active')\n",
        "Calculating energy for column ('power', 'active')\n",
        "Calculating energy for column"
       ]
      },
      {
       "output_type": "stream",
       "stream": "stdout",
       "text": [
        " ('power', 'active')\n",
        "Calculating energy for column ('power', 'active')\n",
        "Calculating energy for column ('power', 'active')\n",
        "Calculating energy for column ('power', 'active')\n",
        "Calculating energy for column"
       ]
      },
      {
       "output_type": "stream",
       "stream": "stdout",
       "text": [
        " ('power', 'active')\n",
        "Calculating energy for column ('power', 'active')\n",
        "Calculating energy for column"
       ]
      },
      {
       "output_type": "stream",
       "stream": "stdout",
       "text": [
        " ('power', 'active')\n",
        "Calculating energy for column ('power', 'active')\n",
        "Calculating energy for column"
       ]
      },
      {
       "output_type": "stream",
       "stream": "stdout",
       "text": [
        " ('power', 'active')\n",
        "Calculating energy for column ('power', 'active')\n",
        "Calculating energy for column"
       ]
      },
      {
       "output_type": "stream",
       "stream": "stdout",
       "text": [
        " ('power', 'active')\n",
        "Calculating energy for column ('power', 'active')\n",
        "Calculating energy for column"
       ]
      },
      {
       "output_type": "stream",
       "stream": "stdout",
       "text": [
        " ('power', 'active')\n",
        "Calculating energy for column"
       ]
      },
      {
       "output_type": "stream",
       "stream": "stdout",
       "text": [
        " ('power', 'active')\n",
        "Calculating energy for column ('power', 'active')\n",
        "Calculating energy for column"
       ]
      },
      {
       "output_type": "stream",
       "stream": "stdout",
       "text": [
        " ('power', 'active')\n",
        "Calculating energy for column ('power', 'active')\n",
        "Calculating energy for column ('power', 'active')\n",
        "Calculating energy for column"
       ]
      },
      {
       "output_type": "stream",
       "stream": "stdout",
       "text": [
        " ('power', 'active')\n",
        "Calculating energy for column ('power', 'active')\n",
        "Calculating energy for column ('power', 'active')\n",
        "Calculating energy for column"
       ]
      },
      {
       "output_type": "stream",
       "stream": "stdout",
       "text": [
        " ('power', 'active')\n",
        "Calculating energy for column ('power', 'active')\n",
        "Calculating energy for column ('power', 'active')\n",
        "Calculating energy for column"
       ]
      },
      {
       "output_type": "stream",
       "stream": "stdout",
       "text": [
        " ('power', 'active')\n",
        "Calculating energy for column ('power', 'active')\n",
        "Calculating energy for column"
       ]
      },
      {
       "output_type": "stream",
       "stream": "stdout",
       "text": [
        " ('power', 'active')\n",
        "Calculating energy for column ('power', 'active')\n",
        "Calculating energy for column"
       ]
      },
      {
       "output_type": "stream",
       "stream": "stdout",
       "text": [
        " ('power', 'active')\n",
        "Calculating energy for column ('power', 'active')\n",
        "Calculating energy for column ('power', 'active')\n",
        "Calculating energy for column"
       ]
      },
      {
       "output_type": "stream",
       "stream": "stdout",
       "text": [
        " ('power', 'active')\n",
        "Calculating energy for column ('power', 'active')\n",
        "Calculating energy for column ('power', 'active')\n",
        "Calculating energy for column"
       ]
      },
      {
       "output_type": "stream",
       "stream": "stdout",
       "text": [
        " ('power', 'active')\n",
        "Calculating energy for column ('power', 'active')\n",
        "Calculating energy for column ('power', 'active')\n",
        "Calculating energy for column"
       ]
      },
      {
       "output_type": "stream",
       "stream": "stdout",
       "text": [
        " ('power', 'active')\n",
        "Calculating energy for column ('power', 'active')\n",
        "Calculating energy for column ('power', 'active')\n",
        "Calculating energy for column"
       ]
      },
      {
       "output_type": "stream",
       "stream": "stdout",
       "text": [
        " ('power', 'active')\n",
        "Calculating energy for column ('power', 'active')\n",
        "Calculating energy for column ('power', 'active')\n",
        "Calculating energy for column"
       ]
      },
      {
       "output_type": "stream",
       "stream": "stdout",
       "text": [
        " ('power', 'active')\n",
        "Calculating energy for column ('power', 'active')\n",
        "Calculating energy for column ('power', 'active')\n",
        "Calculating energy for column"
       ]
      },
      {
       "output_type": "stream",
       "stream": "stdout",
       "text": [
        " ('power', 'active')\n",
        "Calculating energy for column ('power', 'active')\n",
        "Calculating energy for column ('power', 'active')\n",
        "Calculating energy for column"
       ]
      },
      {
       "output_type": "stream",
       "stream": "stdout",
       "text": [
        " ('power', 'active')\n",
        "Calculating energy for column ('power', 'active')\n",
        "Calculating energy for column"
       ]
      },
      {
       "output_type": "stream",
       "stream": "stdout",
       "text": [
        " ('power', 'active')\n",
        "Calculating energy for column ('power', 'active')\n",
        "Calculating energy for column ('power', 'active')\n",
        "Calculating energy for column"
       ]
      },
      {
       "output_type": "stream",
       "stream": "stdout",
       "text": [
        " ('power', 'active')\n",
        "Calculating energy for column ('power', 'active')\n",
        "Calculating energy for column ('power', 'active')\n",
        "Calculating energy for column"
       ]
      },
      {
       "output_type": "stream",
       "stream": "stdout",
       "text": [
        " ('power', 'active')\n",
        "Calculating energy for column ('power', 'active')\n",
        "Calculating energy for column"
       ]
      },
      {
       "output_type": "stream",
       "stream": "stdout",
       "text": [
        " ('power', 'active')\n",
        "Calculating energy for column ('power', 'active')\n",
        "Calculating energy for column"
       ]
      },
      {
       "output_type": "stream",
       "stream": "stdout",
       "text": [
        " ('power', 'active')\n",
        "Calculating energy for column"
       ]
      },
      {
       "output_type": "stream",
       "stream": "stdout",
       "text": [
        " ('power', 'active')\n",
        "Calculating energy for column ('power', 'active')\n",
        "Calculating energy for column"
       ]
      },
      {
       "output_type": "stream",
       "stream": "stdout",
       "text": [
        " ('power', 'active')\n",
        "Calculating energy for column ('power', 'active')\n",
        "Calculating energy for column"
       ]
      },
      {
       "output_type": "stream",
       "stream": "stdout",
       "text": [
        " ('power', 'active')\n",
        "Calculating energy for column ('power', 'active')\n",
        "Calculating energy for column"
       ]
      },
      {
       "output_type": "stream",
       "stream": "stdout",
       "text": [
        " ('power', 'active')\n",
        "Calculating energy for column ('power', 'active')\n",
        "Calculating energy for column"
       ]
      },
      {
       "output_type": "stream",
       "stream": "stdout",
       "text": [
        " ('power', 'active')\n",
        "Calculating energy for column ('power', 'active')\n",
        "Calculating energy for column"
       ]
      },
      {
       "output_type": "stream",
       "stream": "stdout",
       "text": [
        " ('power', 'active')\n",
        "Calculating energy for column ('power', 'active')\n",
        "Calculating energy for column"
       ]
      },
      {
       "output_type": "stream",
       "stream": "stdout",
       "text": [
        " ('power', 'active')\n",
        "Calculating energy for column ('power', 'active')\n",
        "Calculating energy for column"
       ]
      },
      {
       "output_type": "stream",
       "stream": "stdout",
       "text": [
        " ('power', 'active')\n",
        "Calculating energy for column ('power', 'active')\n",
        "Calculating energy for column"
       ]
      },
      {
       "output_type": "stream",
       "stream": "stdout",
       "text": [
        " ('power', 'active')\n",
        "Calculating energy for column ('power', 'active')\n",
        "Calculating energy for column"
       ]
      },
      {
       "output_type": "stream",
       "stream": "stdout",
       "text": [
        " ('power', 'active')\n",
        "Calculating energy for column ('power', 'active')\n",
        "Calculating energy for column"
       ]
      },
      {
       "output_type": "stream",
       "stream": "stdout",
       "text": [
        " ('power', 'active')\n",
        "Calculating energy for column ('power', 'active')\n",
        "Calculating energy for column"
       ]
      },
      {
       "output_type": "stream",
       "stream": "stdout",
       "text": [
        " ('power', 'active')\n",
        "Calculating energy for column ('power', 'active')\n",
        "Calculating energy for column"
       ]
      },
      {
       "output_type": "stream",
       "stream": "stdout",
       "text": [
        " ('power', 'active')\n",
        "Calculating energy for column"
       ]
      },
      {
       "output_type": "stream",
       "stream": "stdout",
       "text": [
        " ('power', 'active')\n",
        "Calculating energy for column ('power', 'active')\n",
        "Calculating energy for column"
       ]
      },
      {
       "output_type": "stream",
       "stream": "stdout",
       "text": [
        " ('power', 'active')\n",
        "Calculating energy for column ('power', 'active')\n",
        "Calculating energy for column"
       ]
      },
      {
       "output_type": "stream",
       "stream": "stdout",
       "text": [
        " ('power', 'active')\n",
        "Calculating energy for column ('power', 'active')\n",
        "Calculating energy for column"
       ]
      },
      {
       "output_type": "stream",
       "stream": "stdout",
       "text": [
        " ('power', 'active')\n",
        "Calculating energy for column ('power', 'active')\n",
        "Calculating energy for column"
       ]
      },
      {
       "output_type": "stream",
       "stream": "stdout",
       "text": [
        " ('power', 'active')\n",
        "Calculating energy for column ('power', 'active')\n",
        "Calculating energy for column"
       ]
      },
      {
       "output_type": "stream",
       "stream": "stdout",
       "text": [
        " ('power', 'active')\n",
        "Calculating energy for column ('power', 'active')\n",
        "Calculating energy for column"
       ]
      },
      {
       "output_type": "stream",
       "stream": "stdout",
       "text": [
        " ('power', 'active')\n",
        "Calculating energy for column ('power', 'active')\n",
        "Calculating energy for column"
       ]
      },
      {
       "output_type": "stream",
       "stream": "stdout",
       "text": [
        " ('power', 'active')\n",
        "Calculating energy for column ('power', 'active')\n",
        "Calculating energy for column"
       ]
      },
      {
       "output_type": "stream",
       "stream": "stdout",
       "text": [
        " ('power', 'active')\n",
        "Calculating energy for column ('power', 'active')\n",
        "Calculating energy for column"
       ]
      },
      {
       "output_type": "stream",
       "stream": "stdout",
       "text": [
        " ('power', 'active')\n",
        "Calculating energy for column"
       ]
      },
      {
       "output_type": "stream",
       "stream": "stdout",
       "text": [
        " ('power', 'active')\n",
        "Calculating energy for column ('power', 'active')\n",
        "Calculating energy for column"
       ]
      },
      {
       "output_type": "stream",
       "stream": "stdout",
       "text": [
        " ('power', 'active')\n",
        "Calculating energy for column ('power', 'active')\n",
        "Calculating energy for column"
       ]
      },
      {
       "output_type": "stream",
       "stream": "stdout",
       "text": [
        " ('power', 'active')\n",
        "Calculating energy for column ('power', 'active')\n",
        "Calculating energy for column"
       ]
      },
      {
       "output_type": "stream",
       "stream": "stdout",
       "text": [
        " ('power', 'active')\n",
        "Calculating energy for column ('power', 'active')\n",
        "Calculating energy for column"
       ]
      },
      {
       "output_type": "stream",
       "stream": "stdout",
       "text": [
        " ('power', 'active')\n",
        "Calculating energy for column ('power', 'active')\n",
        "Calculating energy for column"
       ]
      },
      {
       "output_type": "stream",
       "stream": "stdout",
       "text": [
        " ('power', 'active')\n",
        "Calculating energy for column ('power', 'active')\n",
        "Calculating energy for column"
       ]
      },
      {
       "output_type": "stream",
       "stream": "stdout",
       "text": [
        " ('power', 'active')\n",
        "Calculating energy for column ('power', 'active')\n",
        "Calculating energy for column"
       ]
      },
      {
       "output_type": "stream",
       "stream": "stdout",
       "text": [
        " ('power', 'active')\n",
        "Calculating energy for column ('power', 'active')\n",
        "Calculating energy for column"
       ]
      },
      {
       "output_type": "stream",
       "stream": "stdout",
       "text": [
        " ('power', 'active')\n",
        "Calculating energy for column ('power', 'active')\n",
        "Calculating energy for column"
       ]
      },
      {
       "output_type": "stream",
       "stream": "stdout",
       "text": [
        " ('power', 'active')\n",
        "Calculating energy for column ('power', 'active')\n",
        "Calculating energy for column"
       ]
      },
      {
       "output_type": "stream",
       "stream": "stdout",
       "text": [
        " ('power', 'active')\n",
        "Calculating energy for column ('power', 'active')\n",
        "Calculating energy for column"
       ]
      },
      {
       "output_type": "stream",
       "stream": "stdout",
       "text": [
        " ('power', 'active')\n",
        "Calculating energy for column ('power', 'active')\n",
        "Calculating energy for column"
       ]
      },
      {
       "output_type": "stream",
       "stream": "stdout",
       "text": [
        " ('power', 'active')\n",
        "Calculating energy for column ('power', 'active')\n",
        "Calculating energy for column"
       ]
      },
      {
       "output_type": "stream",
       "stream": "stdout",
       "text": [
        " ('power', 'active')\n",
        "Calculating energy for column ('power', 'active')\n",
        "Calculating energy for column"
       ]
      },
      {
       "output_type": "stream",
       "stream": "stdout",
       "text": [
        " ('power', 'active')\n",
        "Calculating energy for column"
       ]
      },
      {
       "output_type": "stream",
       "stream": "stdout",
       "text": [
        " ('power', 'active')\n",
        "Calculating energy for column ('power', 'active')\n",
        "Calculating energy for column"
       ]
      },
      {
       "output_type": "stream",
       "stream": "stdout",
       "text": [
        " ('power', 'active')\n",
        "Calculating energy for column ('power', 'active')\n",
        "Calculating energy for column"
       ]
      },
      {
       "output_type": "stream",
       "stream": "stdout",
       "text": [
        " ('power', 'active')\n",
        "Calculating energy for column ('power', 'active')\n",
        "Calculating energy for column"
       ]
      },
      {
       "output_type": "stream",
       "stream": "stdout",
       "text": [
        " ('power', 'active')\n",
        "Calculating energy for column ('power', 'active')\n",
        "Calculating energy for column"
       ]
      },
      {
       "output_type": "stream",
       "stream": "stdout",
       "text": [
        " ('power', 'active')\n",
        "Calculating energy for column ('power', 'active')\n",
        "Calculating energy for column"
       ]
      },
      {
       "output_type": "stream",
       "stream": "stdout",
       "text": [
        " ('power', 'active')\n",
        "Calculating energy for column ('power', 'active')\n",
        "Calculating energy for column"
       ]
      },
      {
       "output_type": "stream",
       "stream": "stdout",
       "text": [
        " ('power', 'active')\n",
        "Calculating energy for column ('power', 'active')\n",
        "Calculating energy for column"
       ]
      },
      {
       "output_type": "stream",
       "stream": "stdout",
       "text": [
        " ('power', 'active')\n",
        "Calculating energy for column"
       ]
      },
      {
       "output_type": "stream",
       "stream": "stdout",
       "text": [
        " ('power', 'active')\n",
        "Calculating energy for column ('power', 'active')\n",
        "Calculating energy for column"
       ]
      },
      {
       "output_type": "stream",
       "stream": "stdout",
       "text": [
        " ('power', 'active')\n",
        "Calculating energy for column ('power', 'active')\n",
        "Calculating energy for column"
       ]
      },
      {
       "output_type": "stream",
       "stream": "stdout",
       "text": [
        " ('power', 'active')\n",
        "Calculating energy for column ('power', 'active')\n",
        "Calculating energy for column"
       ]
      },
      {
       "output_type": "stream",
       "stream": "stdout",
       "text": [
        " ('power', 'active')\n",
        "Calculating energy for column ('power', 'active')\n",
        "Calculating energy for column"
       ]
      },
      {
       "output_type": "stream",
       "stream": "stdout",
       "text": [
        " ('power', 'active')\n",
        "Calculating energy for column ('power', 'active')\n",
        "Calculating energy for column"
       ]
      },
      {
       "output_type": "stream",
       "stream": "stdout",
       "text": [
        " ('power', 'active')\n",
        "Calculating energy for column ('power', 'active')\n",
        "Calculating energy for column"
       ]
      },
      {
       "output_type": "stream",
       "stream": "stdout",
       "text": [
        " ('power', 'active')\n",
        "Calculating energy for column ('power', 'active')\n",
        "Calculating energy for column"
       ]
      },
      {
       "output_type": "stream",
       "stream": "stdout",
       "text": [
        " ('power', 'active')\n",
        "Calculating energy for column ('power', 'active')\n",
        "Calculating energy for column"
       ]
      },
      {
       "output_type": "stream",
       "stream": "stdout",
       "text": [
        " ('power', 'active')\n",
        "Calculating energy for column ('power', 'active')\n",
        "Calculating energy for column"
       ]
      },
      {
       "output_type": "stream",
       "stream": "stdout",
       "text": [
        " ('power', 'active')\n",
        "Calculating energy for column ('power', 'active')\n",
        "Calculating energy for column"
       ]
      },
      {
       "output_type": "stream",
       "stream": "stdout",
       "text": [
        " ('power', 'active')\n",
        "Calculating energy for column ('power', 'active')\n",
        "Calculating energy for column"
       ]
      },
      {
       "output_type": "stream",
       "stream": "stdout",
       "text": [
        " ('power', 'active')\n",
        "Calculating energy for column ('power', 'active')\n",
        "Calculating energy for column"
       ]
      },
      {
       "output_type": "stream",
       "stream": "stdout",
       "text": [
        " ('power', 'active')\n",
        "Calculating energy for column ('power', 'active')\n",
        "Calculating energy for column"
       ]
      },
      {
       "output_type": "stream",
       "stream": "stdout",
       "text": [
        " ('power', 'active')\n",
        "Calculating energy for column"
       ]
      },
      {
       "output_type": "stream",
       "stream": "stdout",
       "text": [
        " ('power', 'active')\n",
        "Calculating energy for column"
       ]
      },
      {
       "output_type": "stream",
       "stream": "stdout",
       "text": [
        " ('power', 'active')\n",
        "Calculating energy for column ('power', 'active')\n",
        "Calculating energy for column"
       ]
      },
      {
       "output_type": "stream",
       "stream": "stdout",
       "text": [
        " ('power', 'active')\n",
        "Calculating energy for column ('power', 'active')\n",
        "Calculating energy for column"
       ]
      },
      {
       "output_type": "stream",
       "stream": "stdout",
       "text": [
        " ('power', 'active')\n",
        "Calculating energy for column ('power', 'active')\n",
        "Calculating energy for column"
       ]
      },
      {
       "output_type": "stream",
       "stream": "stdout",
       "text": [
        " ('power', 'active')\n",
        "Calculating energy for column ('power', 'active')\n",
        "Calculating energy for column"
       ]
      },
      {
       "output_type": "stream",
       "stream": "stdout",
       "text": [
        " ('power', 'active')\n",
        "Calculating energy for column ('power', 'active')\n",
        "Calculating energy for column"
       ]
      },
      {
       "output_type": "stream",
       "stream": "stdout",
       "text": [
        " ('power', 'active')\n",
        "Calculating energy for column ('power', 'active')\n",
        "Calculating energy for column"
       ]
      },
      {
       "output_type": "stream",
       "stream": "stdout",
       "text": [
        " ('power', 'active')\n",
        "Calculating energy for column ('power', 'active')\n",
        "Calculating energy for column"
       ]
      },
      {
       "output_type": "stream",
       "stream": "stdout",
       "text": [
        " ('power', 'active')\n",
        "Calculating energy for column ('power', 'active')\n",
        "Calculating energy for column"
       ]
      },
      {
       "output_type": "stream",
       "stream": "stdout",
       "text": [
        " ('power', 'active')\n",
        "Calculating energy for column ('power', 'active')\n",
        "Calculating energy for column"
       ]
      },
      {
       "output_type": "stream",
       "stream": "stdout",
       "text": [
        " ('power', 'active')\n",
        "Calculating energy for column ('power', 'active')\n",
        "Calculating energy for column"
       ]
      },
      {
       "output_type": "stream",
       "stream": "stdout",
       "text": [
        " ('power', 'active')\n",
        "Calculating energy for column"
       ]
      },
      {
       "output_type": "stream",
       "stream": "stdout",
       "text": [
        " ('power', 'active')\n",
        "Calculating energy for column"
       ]
      },
      {
       "output_type": "stream",
       "stream": "stdout",
       "text": [
        " ('power', 'active')\n",
        "Calculating energy for column"
       ]
      },
      {
       "output_type": "stream",
       "stream": "stdout",
       "text": [
        " ('power', 'active')\n",
        "Calculating energy for column ('power', 'active')\n",
        "Calculating energy for column"
       ]
      },
      {
       "output_type": "stream",
       "stream": "stdout",
       "text": [
        " ('power', 'active')\n",
        "Calculating energy for column ('power', 'active')\n",
        "Calculating energy for column"
       ]
      },
      {
       "output_type": "stream",
       "stream": "stdout",
       "text": [
        " ('power', 'active')\n",
        "Calculating energy for column ('power', 'active')\n",
        "Calculating energy for column ('power', 'active')\n",
        "Calculating energy for column"
       ]
      },
      {
       "output_type": "stream",
       "stream": "stdout",
       "text": [
        " ('power', 'active')\n",
        "Calculating energy for column ('power', 'active')\n",
        "Calculating energy for column ('power', 'active')\n",
        "Calculating energy for column"
       ]
      },
      {
       "output_type": "stream",
       "stream": "stdout",
       "text": [
        " ('power', 'active')\n",
        "Calculating energy for column ('power', 'active')\n",
        "Calculating energy for column ('power', 'active')\n",
        "Calculating energy for column"
       ]
      },
      {
       "output_type": "stream",
       "stream": "stdout",
       "text": [
        " ('power', 'active')\n",
        "Calculating energy for column ('power', 'active')\n",
        "Calculating energy for column ('power', 'active')\n",
        "Calculating energy for column"
       ]
      },
      {
       "output_type": "stream",
       "stream": "stdout",
       "text": [
        " ('power', 'active')\n",
        "Calculating energy for column ('power', 'active')\n",
        "Calculating energy for column ('power', 'active')\n",
        "Calculating energy for column"
       ]
      },
      {
       "output_type": "stream",
       "stream": "stdout",
       "text": [
        " ('power', 'active')\n",
        "Calculating energy for column ('power', 'active')\n",
        "Calculating energy for column"
       ]
      },
      {
       "output_type": "stream",
       "stream": "stdout",
       "text": [
        " ('power', 'active')\n",
        "Calculating energy for column ('power', 'active')\n",
        "Calculating energy for column ('power', 'active')\n",
        "Calculating energy for column"
       ]
      },
      {
       "output_type": "stream",
       "stream": "stdout",
       "text": [
        " ('power', 'active')\n",
        "Calculating energy for column ('power', 'active')\n",
        "Calculating energy for column"
       ]
      },
      {
       "output_type": "stream",
       "stream": "stdout",
       "text": [
        " ('power', 'active')\n",
        "Calculating energy for column ('power', 'active')\n",
        "Calculating energy for column"
       ]
      },
      {
       "output_type": "stream",
       "stream": "stdout",
       "text": [
        " ('power', 'active')\n",
        "Calculating energy for column ('power', 'active')\n",
        "Calculating energy for column ('power', 'active')\n",
        "Calculating energy for column"
       ]
      },
      {
       "output_type": "stream",
       "stream": "stdout",
       "text": [
        " ('power', 'active')\n",
        "Calculating energy for column"
       ]
      },
      {
       "output_type": "stream",
       "stream": "stdout",
       "text": [
        " ('power', 'active')\n",
        "Calculating energy for column ('power', 'active')\n",
        "Calculating energy for column ('power', 'active')\n",
        "Calculating energy for column"
       ]
      },
      {
       "output_type": "stream",
       "stream": "stdout",
       "text": [
        " ('power', 'active')\n",
        "Calculating energy for column ('power', 'active')\n",
        "Calculating energy for column"
       ]
      },
      {
       "output_type": "stream",
       "stream": "stdout",
       "text": [
        " ('power', 'active')\n",
        "Calculating energy for column ('power', 'active')\n",
        "Calculating energy for column"
       ]
      },
      {
       "output_type": "stream",
       "stream": "stdout",
       "text": [
        " ('power', 'active')\n",
        "Calculating energy for column ('power', 'active')\n",
        "Calculating energy for column ('power', 'active')\n",
        "Calculating energy for column"
       ]
      },
      {
       "output_type": "stream",
       "stream": "stdout",
       "text": [
        " ('power', 'active')\n",
        "Calculating energy for column ('power', 'active')\n",
        "Calculating energy for column ('power', 'active')\n",
        "Calculating energy for column"
       ]
      },
      {
       "output_type": "stream",
       "stream": "stdout",
       "text": [
        " ('power', 'active')\n",
        "Calculating energy for column ('power', 'active')\n",
        "Calculating energy for column ('power', 'active')\n",
        "Calculating energy for column"
       ]
      },
      {
       "output_type": "stream",
       "stream": "stdout",
       "text": [
        " ('power', 'active')\n",
        "Calculating energy for column ('power', 'active')\n",
        "Calculating energy for column ('power', 'active')\n",
        "Calculating energy for column"
       ]
      },
      {
       "output_type": "stream",
       "stream": "stdout",
       "text": [
        " ('power', 'active')\n",
        "Calculating energy for column ('power', 'active')\n",
        "Calculating energy for column"
       ]
      },
      {
       "output_type": "stream",
       "stream": "stdout",
       "text": [
        " ('power', 'active')\n",
        "Calculating energy for column ('power', 'active')\n",
        "Calculating energy for column"
       ]
      },
      {
       "output_type": "stream",
       "stream": "stdout",
       "text": [
        " ('power', 'active')\n",
        "Calculating energy for column ('power', 'active')\n",
        "Calculating energy for column ('power', 'active')\n",
        "Calculating energy for column"
       ]
      },
      {
       "output_type": "stream",
       "stream": "stdout",
       "text": [
        " ('power', 'active')\n",
        "Calculating energy for column ('power', 'active')\n",
        "Calculating energy for column ('power', 'active')\n",
        "Calculating energy for column"
       ]
      },
      {
       "output_type": "stream",
       "stream": "stdout",
       "text": [
        " ('power', 'active')\n",
        "Calculating energy for column ('power', 'active')\n",
        "Calculating energy for column"
       ]
      },
      {
       "output_type": "stream",
       "stream": "stdout",
       "text": [
        " ('power', 'active')\n",
        "Calculating energy for column ('power', 'active')\n",
        "Calculating energy for column ('power', 'active')\n",
        "Calculating energy for column"
       ]
      },
      {
       "output_type": "stream",
       "stream": "stdout",
       "text": [
        " ('power', 'active')\n",
        "Calculating energy for column ('power', 'active')\n",
        "Calculating energy for column"
       ]
      },
      {
       "output_type": "stream",
       "stream": "stdout",
       "text": [
        " ('power', 'active')\n",
        "Calculating energy for column ('power', 'active')\n",
        "Calculating energy for column"
       ]
      },
      {
       "output_type": "stream",
       "stream": "stdout",
       "text": [
        " ('power', 'active')\n",
        "Calculating energy for column ('power', 'active')\n",
        "Calculating energy for column"
       ]
      },
      {
       "output_type": "stream",
       "stream": "stdout",
       "text": [
        " ('power', 'active')\n",
        "Calculating energy for column ('power', 'active')\n",
        "Calculating energy for column ('power', 'active')\n",
        "Calculating energy for column"
       ]
      },
      {
       "output_type": "stream",
       "stream": "stdout",
       "text": [
        " ('power', 'active')\n",
        "Calculating energy for column ('power', 'active')\n",
        "Calculating energy for column"
       ]
      },
      {
       "output_type": "stream",
       "stream": "stdout",
       "text": [
        " ('power', 'active')\n",
        "Calculating energy for column ('power', 'active')\n",
        "Calculating energy for column"
       ]
      },
      {
       "output_type": "stream",
       "stream": "stdout",
       "text": [
        " ('power', 'active')\n",
        "Calculating energy for column ('power', 'active')\n",
        "Calculating energy for column"
       ]
      },
      {
       "output_type": "stream",
       "stream": "stdout",
       "text": [
        " ('power', 'active')\n",
        "Calculating energy for column ('power', 'active')\n",
        "Calculating energy for column"
       ]
      },
      {
       "output_type": "stream",
       "stream": "stdout",
       "text": [
        " ('power', 'active')\n",
        "Calculating energy for column ('power', 'active')\n",
        "Calculating energy for column"
       ]
      },
      {
       "output_type": "stream",
       "stream": "stdout",
       "text": [
        " ('power', 'active')\n",
        "Calculating energy for column ('power', 'active')\n",
        "Calculating energy for column"
       ]
      },
      {
       "output_type": "stream",
       "stream": "stdout",
       "text": [
        " ('power', 'active')\n",
        "Calculating energy for column ('power', 'active')\n",
        "Calculating energy for column"
       ]
      },
      {
       "output_type": "stream",
       "stream": "stdout",
       "text": [
        " ('power', 'active')\n",
        "Calculating energy for column ('power', 'active')\n",
        "Calculating energy for column"
       ]
      },
      {
       "output_type": "stream",
       "stream": "stdout",
       "text": [
        " ('power', 'active')\n",
        "Calculating energy for column ('power', 'active')\n",
        "Calculating energy for column"
       ]
      },
      {
       "output_type": "stream",
       "stream": "stdout",
       "text": [
        " ('power', 'active')\n",
        "Calculating energy for column ('power', 'active')\n",
        "Calculating energy for column"
       ]
      },
      {
       "output_type": "stream",
       "stream": "stdout",
       "text": [
        " ('power', 'active')\n",
        "Calculating energy for column ('power', 'active')\n",
        "Calculating energy for column"
       ]
      },
      {
       "output_type": "stream",
       "stream": "stdout",
       "text": [
        " ('power', 'active')\n",
        "Calculating energy for column ('power', 'active')\n",
        "Calculating energy for column"
       ]
      },
      {
       "output_type": "stream",
       "stream": "stdout",
       "text": [
        " ('power', 'active')\n",
        "Calculating energy for column ('power', 'active')\n",
        "Calculating energy for column"
       ]
      },
      {
       "output_type": "stream",
       "stream": "stdout",
       "text": [
        " ('power', 'active')\n",
        "Calculating energy for column ('power', 'active')\n",
        "Calculating energy for column"
       ]
      },
      {
       "output_type": "stream",
       "stream": "stdout",
       "text": [
        " ('power', 'active')\n",
        "Calculating energy for column"
       ]
      },
      {
       "output_type": "stream",
       "stream": "stdout",
       "text": [
        " ('power', 'active')\n",
        "Calculating energy for column ('power', 'active')\n",
        "Calculating energy for column"
       ]
      },
      {
       "output_type": "stream",
       "stream": "stdout",
       "text": [
        " ('power', 'active')\n",
        "Calculating energy for column ('power', 'active')\n",
        "Calculating energy for column"
       ]
      },
      {
       "output_type": "stream",
       "stream": "stdout",
       "text": [
        " ('power', 'active')\n",
        "Calculating energy for column"
       ]
      },
      {
       "output_type": "stream",
       "stream": "stdout",
       "text": [
        " ('power', 'active')\n",
        "Calculating energy for column ('power', 'active')\n",
        "Calculating energy for column"
       ]
      },
      {
       "output_type": "stream",
       "stream": "stdout",
       "text": [
        " ('power', 'active')\n",
        "Calculating energy for column"
       ]
      },
      {
       "output_type": "stream",
       "stream": "stdout",
       "text": [
        " ('power', 'active')\n",
        "Calculating energy for column ('power', 'active')\n",
        "Calculating energy for column"
       ]
      },
      {
       "output_type": "stream",
       "stream": "stdout",
       "text": [
        " ('power', 'active')\n",
        "Calculating energy for column ('power', 'active')\n",
        "Calculating energy for column"
       ]
      },
      {
       "output_type": "stream",
       "stream": "stdout",
       "text": [
        " ('power', 'active')\n",
        "Calculating energy for column ('power', 'active')\n",
        "Calculating energy for column"
       ]
      },
      {
       "output_type": "stream",
       "stream": "stdout",
       "text": [
        " ('power', 'active')\n",
        "Calculating energy for column ('power', 'active')\n",
        "Calculating energy for column"
       ]
      },
      {
       "output_type": "stream",
       "stream": "stdout",
       "text": [
        " ('power', 'active')\n",
        "Calculating energy for column ('power', 'active')\n",
        "Calculating energy for column"
       ]
      },
      {
       "output_type": "stream",
       "stream": "stdout",
       "text": [
        " ('power', 'active')\n",
        "Calculating energy for column ('power', 'active')\n",
        "Calculating energy for column"
       ]
      },
      {
       "output_type": "stream",
       "stream": "stdout",
       "text": [
        " ('power', 'active')\n",
        "Calculating energy for column ('power', 'active')\n",
        "Calculating energy for column"
       ]
      },
      {
       "output_type": "stream",
       "stream": "stdout",
       "text": [
        " ('power', 'active')\n",
        "Calculating energy for column"
       ]
      },
      {
       "output_type": "stream",
       "stream": "stdout",
       "text": [
        " ('power', 'active')\n",
        "Calculating energy for column ('power', 'active')\n",
        "Calculating energy for column"
       ]
      },
      {
       "output_type": "stream",
       "stream": "stdout",
       "text": [
        " ('power', 'active')\n",
        "Calculating energy for column ('power', 'active')\n",
        "Calculating energy for column"
       ]
      },
      {
       "output_type": "stream",
       "stream": "stdout",
       "text": [
        " ('power', 'active')\n",
        "Calculating energy for column"
       ]
      },
      {
       "output_type": "stream",
       "stream": "stdout",
       "text": [
        " ('power', 'active')\n",
        "Calculating energy for column ('power', 'active')\n",
        "Calculating energy for column"
       ]
      },
      {
       "output_type": "stream",
       "stream": "stdout",
       "text": [
        " ('power', 'active')\n",
        "Calculating energy for column ('power', 'active')\n",
        "Calculating energy for column"
       ]
      },
      {
       "output_type": "stream",
       "stream": "stdout",
       "text": [
        " ('power', 'active')\n",
        "Calculating energy for column ('power', 'active')\n",
        "Calculating energy for column"
       ]
      },
      {
       "output_type": "stream",
       "stream": "stdout",
       "text": [
        " ('power', 'active')\n",
        "Calculating energy for column ('power', 'active')\n",
        "Calculating energy for column"
       ]
      },
      {
       "output_type": "stream",
       "stream": "stdout",
       "text": [
        " ('power', 'active')\n",
        "Calculating energy for column ('power', 'active')\n",
        "Calculating energy for column"
       ]
      },
      {
       "output_type": "stream",
       "stream": "stdout",
       "text": [
        " ('power', 'active')\n",
        "Calculating energy for column ('power', 'active')\n",
        "Calculating energy for column"
       ]
      },
      {
       "output_type": "stream",
       "stream": "stdout",
       "text": [
        " ('power', 'active')\n",
        "Calculating energy for column ('power', 'active')\n",
        "Calculating energy for column"
       ]
      },
      {
       "output_type": "stream",
       "stream": "stdout",
       "text": [
        " ('power', 'active')\n",
        "Calculating energy for column ('power', 'active')\n",
        "Calculating energy for column"
       ]
      },
      {
       "output_type": "stream",
       "stream": "stdout",
       "text": [
        " ('power', 'active')\n",
        "Calculating energy for column ('power', 'active')\n",
        "Calculating energy for column"
       ]
      },
      {
       "output_type": "stream",
       "stream": "stdout",
       "text": [
        " ('power', 'active')\n",
        "Calculating energy for column"
       ]
      },
      {
       "output_type": "stream",
       "stream": "stdout",
       "text": [
        " ('power', 'active')\n",
        "Calculating energy for column ('power', 'active')\n",
        "Calculating energy for column"
       ]
      },
      {
       "output_type": "stream",
       "stream": "stdout",
       "text": [
        " ('power', 'active')\n",
        "Calculating energy for column ('power', 'active')\n",
        "Calculating energy for column"
       ]
      },
      {
       "output_type": "stream",
       "stream": "stdout",
       "text": [
        " ('power', 'active')\n",
        "Calculating energy for column ('power', 'active')\n",
        "Calculating energy for column"
       ]
      },
      {
       "output_type": "stream",
       "stream": "stdout",
       "text": [
        " ('power', 'active')\n",
        "Calculating energy for column ('power', 'active')\n",
        "Calculating energy for column"
       ]
      },
      {
       "output_type": "stream",
       "stream": "stdout",
       "text": [
        " ('power', 'active')\n",
        "Calculating energy for column ('power', 'active')\n",
        "Calculating energy for column"
       ]
      },
      {
       "output_type": "stream",
       "stream": "stdout",
       "text": [
        " ('power', 'active')\n",
        "Calculating energy for column ('power', 'active')\n",
        "Calculating energy for column"
       ]
      },
      {
       "output_type": "stream",
       "stream": "stdout",
       "text": [
        " ('power', 'active')\n",
        "Calculating energy for column ('power', 'active')\n",
        "Calculating energy for column"
       ]
      },
      {
       "output_type": "stream",
       "stream": "stdout",
       "text": [
        " ('power', 'active')\n",
        "Calculating energy for column ('power', 'active')\n",
        "Calculating energy for column"
       ]
      },
      {
       "output_type": "stream",
       "stream": "stdout",
       "text": [
        " ('power', 'active')\n",
        "Calculating energy for column ('power', 'active')\n",
        "Calculating energy for column"
       ]
      },
      {
       "output_type": "stream",
       "stream": "stdout",
       "text": [
        " ('power', 'active')\n",
        "Calculating energy for column ('power', 'active')\n",
        "Calculating energy for column"
       ]
      },
      {
       "output_type": "stream",
       "stream": "stdout",
       "text": [
        " ('power', 'active')\n",
        "Calculating energy for column ('power', 'active')\n",
        "Calculating energy for column"
       ]
      },
      {
       "output_type": "stream",
       "stream": "stdout",
       "text": [
        " ('power', 'active')\n",
        "Calculating energy for column ('power', 'active')\n",
        "Calculating energy for column"
       ]
      },
      {
       "output_type": "stream",
       "stream": "stdout",
       "text": [
        " ('power', 'active')\n",
        "Calculating energy for column ('power', 'active')\n",
        "Calculating energy for column"
       ]
      },
      {
       "output_type": "stream",
       "stream": "stdout",
       "text": [
        " ('power', 'active')\n",
        "Calculating energy for column ('power', 'active')\n",
        "Calculating energy for column"
       ]
      },
      {
       "output_type": "stream",
       "stream": "stdout",
       "text": [
        " ('power', 'active')\n",
        "Calculating energy for column ('power', 'active')\n",
        "Calculating energy for column"
       ]
      },
      {
       "output_type": "stream",
       "stream": "stdout",
       "text": [
        " ('power', 'active')\n",
        "Calculating energy for column ('power', 'active')\n",
        "Calculating energy for column"
       ]
      },
      {
       "output_type": "stream",
       "stream": "stdout",
       "text": [
        " ('power', 'active')\n",
        "Calculating energy for column ('power', 'active')\n",
        "Calculating energy for column"
       ]
      },
      {
       "output_type": "stream",
       "stream": "stdout",
       "text": [
        " ('power', 'active')\n",
        "Calculating energy for column"
       ]
      },
      {
       "output_type": "stream",
       "stream": "stdout",
       "text": [
        " ('power', 'active')\n",
        "Calculating energy for column ('power', 'active')\n",
        "Calculating energy for column"
       ]
      },
      {
       "output_type": "stream",
       "stream": "stdout",
       "text": [
        " ('power', 'active')\n",
        "Calculating energy for column ('power', 'active')\n",
        "Calculating energy for column"
       ]
      },
      {
       "output_type": "stream",
       "stream": "stdout",
       "text": [
        " ('power', 'active')\n",
        "Calculating energy for column ('power', 'active')\n",
        "Calculating energy for column"
       ]
      },
      {
       "output_type": "stream",
       "stream": "stdout",
       "text": [
        " ('power', 'active')\n",
        "Calculating energy for column ('power', 'active')\n",
        "Calculating energy for column"
       ]
      },
      {
       "output_type": "stream",
       "stream": "stdout",
       "text": [
        " ('power', 'active')\n",
        "Calculating energy for column ('power', 'active')\n",
        "Calculating energy for column"
       ]
      },
      {
       "output_type": "stream",
       "stream": "stdout",
       "text": [
        " ('power', 'active')\n",
        "Calculating energy for column"
       ]
      },
      {
       "output_type": "stream",
       "stream": "stdout",
       "text": [
        " ('power', 'active')\n",
        "Calculating energy for column"
       ]
      },
      {
       "output_type": "stream",
       "stream": "stdout",
       "text": [
        " ('power', 'active')\n",
        "Calculating energy for column"
       ]
      },
      {
       "output_type": "stream",
       "stream": "stdout",
       "text": [
        " ('power', 'active')\n",
        "Calculating energy for column ('power', 'active')\n",
        "Calculating energy for column"
       ]
      },
      {
       "output_type": "stream",
       "stream": "stdout",
       "text": [
        " ('power', 'active')\n",
        "Calculating energy for column"
       ]
      },
      {
       "output_type": "stream",
       "stream": "stdout",
       "text": [
        " ('power', 'active')\n",
        "Calculating energy for column"
       ]
      },
      {
       "output_type": "stream",
       "stream": "stdout",
       "text": [
        " ('power', 'active')\n",
        "Calculating energy for column"
       ]
      },
      {
       "output_type": "stream",
       "stream": "stdout",
       "text": [
        " ('power', 'active')\n",
        "Calculating energy for column"
       ]
      },
      {
       "output_type": "stream",
       "stream": "stdout",
       "text": [
        " ('power', 'active')\n",
        "Calculating energy for column"
       ]
      },
      {
       "output_type": "stream",
       "stream": "stdout",
       "text": [
        " ('power', 'active')\n",
        "Calculating energy for column ('power', 'active')\n",
        "Calculating energy for column"
       ]
      },
      {
       "output_type": "stream",
       "stream": "stdout",
       "text": [
        " ('power', 'active')\n",
        "Calculating energy for column ('power', 'active')\n",
        "Calculating energy for column"
       ]
      },
      {
       "output_type": "stream",
       "stream": "stdout",
       "text": [
        " ('power', 'active')\n",
        "Calculating energy for column"
       ]
      },
      {
       "output_type": "stream",
       "stream": "stdout",
       "text": [
        " ('power', 'active')\n",
        "Calculating energy for column ('power', 'active')\n",
        "Calculating energy for column"
       ]
      },
      {
       "output_type": "stream",
       "stream": "stdout",
       "text": [
        " ('power', 'active')\n",
        "Calculating energy for column ('power', 'active')\n",
        "Calculating energy for column"
       ]
      },
      {
       "output_type": "stream",
       "stream": "stdout",
       "text": [
        " ('power', 'active')\n",
        "Calculating energy for column ('power', 'active')\n",
        "Calculating energy for column"
       ]
      },
      {
       "output_type": "stream",
       "stream": "stdout",
       "text": [
        " ('power', 'active')\n",
        "Calculating energy for column ('power', 'active')\n",
        "Calculating energy for column"
       ]
      },
      {
       "output_type": "stream",
       "stream": "stdout",
       "text": [
        " ('power', 'active')\n",
        "Calculating energy for column"
       ]
      },
      {
       "output_type": "stream",
       "stream": "stdout",
       "text": [
        " ('power', 'active')\n",
        "Calculating energy for column"
       ]
      },
      {
       "output_type": "stream",
       "stream": "stdout",
       "text": [
        " ('power', 'active')\n",
        "Calculating energy for column"
       ]
      },
      {
       "output_type": "stream",
       "stream": "stdout",
       "text": [
        " ('power', 'active')\n",
        "Calculating energy for column"
       ]
      },
      {
       "output_type": "stream",
       "stream": "stdout",
       "text": [
        " ('power', 'active')\n",
        "Calculating energy for column ('power', 'active')\n",
        "Calculating energy for column ('power', 'active')\n",
        "Calculating energy for column"
       ]
      },
      {
       "output_type": "stream",
       "stream": "stdout",
       "text": [
        " ('power', 'active')\n",
        "Calculating energy for column ('power', 'active')\n",
        "Calculating energy for column ('power', 'active')\n",
        "Calculating energy for column"
       ]
      },
      {
       "output_type": "stream",
       "stream": "stdout",
       "text": [
        " ('power', 'active')\n",
        "Calculating energy for column ('power', 'active')\n",
        "Calculating energy for column"
       ]
      },
      {
       "output_type": "stream",
       "stream": "stdout",
       "text": [
        " ('power', 'active')\n",
        "Calculating energy for column ('power', 'active')\n",
        "Calculating energy for column ('power', 'active')\n",
        "Calculating energy for column"
       ]
      },
      {
       "output_type": "stream",
       "stream": "stdout",
       "text": [
        " ('power', 'active')\n",
        "Calculating energy for column ('power', 'active')\n",
        "Calculating energy for column"
       ]
      },
      {
       "output_type": "stream",
       "stream": "stdout",
       "text": [
        " ('power', 'active')\n",
        "Calculating energy for column ('power', 'active')\n",
        "Calculating energy for column ('power', 'active')\n",
        "Calculating energy for column"
       ]
      },
      {
       "output_type": "stream",
       "stream": "stdout",
       "text": [
        " ('power', 'active')\n",
        "Calculating energy for column ('power', 'active')\n",
        "Calculating energy for column ('power', 'active')\n",
        "Calculating energy for column ('power', 'active')\n",
        "Calculating energy for column"
       ]
      },
      {
       "output_type": "stream",
       "stream": "stdout",
       "text": [
        " ('power', 'active')\n",
        "Calculating energy for column ('power', 'active')\n",
        "Calculating energy for column ('power', 'active')\n",
        "Calculating energy for column"
       ]
      },
      {
       "output_type": "stream",
       "stream": "stdout",
       "text": [
        " ('power', 'active')\n",
        "Calculating energy for column ('power', 'active')\n",
        "Calculating energy for column ('power', 'active')\n",
        "Calculating energy for column"
       ]
      },
      {
       "output_type": "stream",
       "stream": "stdout",
       "text": [
        " ('power', 'active')\n",
        "Calculating energy for column ('power', 'active')\n",
        "Calculating energy for column ('power', 'active')\n",
        "Calculating energy for column"
       ]
      },
      {
       "output_type": "stream",
       "stream": "stdout",
       "text": [
        " ('power', 'active')\n",
        "Calculating energy for column ('power', 'active')\n",
        "Calculating energy for column ('power', 'active')\n",
        "Calculating energy for column"
       ]
      },
      {
       "output_type": "stream",
       "stream": "stdout",
       "text": [
        " ('power', 'active')\n",
        "Calculating energy for column ('power', 'active')\n",
        "Calculating energy for column"
       ]
      },
      {
       "output_type": "stream",
       "stream": "stdout",
       "text": [
        " ('power', 'active')\n",
        "Calculating energy for column ('power', 'active')\n",
        "Calculating energy for column"
       ]
      },
      {
       "output_type": "stream",
       "stream": "stdout",
       "text": [
        " ('power', 'active')\n",
        "Calculating energy for column ('power', 'active')\n",
        "Calculating energy for column"
       ]
      },
      {
       "output_type": "stream",
       "stream": "stdout",
       "text": [
        " ('power', 'active')\n",
        "Calculating energy for column ('power', 'active')\n",
        "Calculating energy for column ('power', 'active')\n",
        "Calculating energy for column"
       ]
      },
      {
       "output_type": "stream",
       "stream": "stdout",
       "text": [
        " ('power', 'active')\n",
        "Calculating energy for column ('power', 'active')\n",
        "Calculating energy for column ('power', 'active')\n",
        "Calculating energy for column"
       ]
      },
      {
       "output_type": "stream",
       "stream": "stdout",
       "text": [
        " ('power', 'active')\n",
        "Calculating energy for column ('power', 'active')\n",
        "Calculating energy for column"
       ]
      },
      {
       "output_type": "stream",
       "stream": "stdout",
       "text": [
        " ('power', 'active')\n",
        "Calculating energy for column ('power', 'active')\n",
        "Calculating energy for column"
       ]
      },
      {
       "output_type": "stream",
       "stream": "stdout",
       "text": [
        " ('power', 'active')\n",
        "Calculating energy for column ('power', 'active')\n",
        "Calculating energy for column ('power', 'active')\n",
        "Calculating energy for column"
       ]
      },
      {
       "output_type": "stream",
       "stream": "stdout",
       "text": [
        " ('power', 'active')\n",
        "Calculating energy for column ('power', 'active')\n",
        "Calculating energy for column"
       ]
      },
      {
       "output_type": "stream",
       "stream": "stdout",
       "text": [
        " ('power', 'active')\n",
        "Calculating energy for column ('power', 'active')\n",
        "Calculating energy for column"
       ]
      },
      {
       "output_type": "stream",
       "stream": "stdout",
       "text": [
        " ('power', 'active')\n",
        "Calculating energy for column ('power', 'active')\n",
        "Calculating energy for column"
       ]
      },
      {
       "output_type": "stream",
       "stream": "stdout",
       "text": [
        " ('power', 'active')\n",
        "Calculating energy for column ('power', 'active')\n",
        "Calculating energy for column"
       ]
      },
      {
       "output_type": "stream",
       "stream": "stdout",
       "text": [
        " ('power', 'active')\n",
        "Calculating energy for column ('power', 'active')\n",
        "Calculating energy for column"
       ]
      },
      {
       "output_type": "stream",
       "stream": "stdout",
       "text": [
        " ('power', 'active')\n",
        "Calculating energy for column ('power', 'active')\n",
        "Calculating energy for column"
       ]
      },
      {
       "output_type": "stream",
       "stream": "stdout",
       "text": [
        " ('power', 'active')\n",
        "Calculating energy for column ('power', 'active')\n",
        "Calculating energy for column"
       ]
      },
      {
       "output_type": "stream",
       "stream": "stdout",
       "text": [
        " ('power', 'active')\n",
        "Calculating energy for column ('power', 'active')\n",
        "Calculating energy for column"
       ]
      },
      {
       "output_type": "stream",
       "stream": "stdout",
       "text": [
        " ('power', 'active')\n",
        "Calculating energy for column ('power', 'active')\n",
        "Calculating energy for column"
       ]
      },
      {
       "output_type": "stream",
       "stream": "stdout",
       "text": [
        " ('power', 'active')\n",
        "Calculating energy for column ('power', 'active')\n",
        "Calculating energy for column"
       ]
      },
      {
       "output_type": "stream",
       "stream": "stdout",
       "text": [
        " ('power', 'active')\n",
        "Calculating energy for column ('power', 'active')\n",
        "Calculating energy for column"
       ]
      },
      {
       "output_type": "stream",
       "stream": "stdout",
       "text": [
        " ('power', 'active')\n",
        "Calculating energy for column ('power', 'active')\n",
        "Calculating energy for column"
       ]
      },
      {
       "output_type": "stream",
       "stream": "stdout",
       "text": [
        " ('power', 'active')\n",
        "Calculating energy for column ('power', 'active')\n",
        "Calculating energy for column"
       ]
      },
      {
       "output_type": "stream",
       "stream": "stdout",
       "text": [
        " ('power', 'active')\n",
        "Calculating energy for column ('power', 'active')\n",
        "Calculating energy for column"
       ]
      },
      {
       "output_type": "stream",
       "stream": "stdout",
       "text": [
        " ('power', 'active')\n",
        "Calculating energy for column"
       ]
      },
      {
       "output_type": "stream",
       "stream": "stdout",
       "text": [
        " ('power', 'active')\n",
        "Calculating energy for column ('power', 'active')\n",
        "Calculating energy for column"
       ]
      },
      {
       "output_type": "stream",
       "stream": "stdout",
       "text": [
        " ('power', 'active')\n",
        "Calculating energy for column ('power', 'active')\n",
        "Calculating energy for column"
       ]
      },
      {
       "output_type": "stream",
       "stream": "stdout",
       "text": [
        " ('power', 'active')\n",
        "Calculating energy for column ('power', 'active')\n",
        "Calculating energy for column"
       ]
      },
      {
       "output_type": "stream",
       "stream": "stdout",
       "text": [
        " ('power', 'active')\n",
        "Calculating energy for column ('power', 'active')\n",
        "Calculating energy for column"
       ]
      },
      {
       "output_type": "stream",
       "stream": "stdout",
       "text": [
        " ('power', 'active')\n",
        "Calculating energy for column ('power', 'active')\n",
        "Calculating energy for column"
       ]
      },
      {
       "output_type": "stream",
       "stream": "stdout",
       "text": [
        " ('power', 'active')\n",
        "Calculating energy for column ('power', 'active')\n",
        "Calculating energy for column"
       ]
      },
      {
       "output_type": "stream",
       "stream": "stdout",
       "text": [
        " ('power', 'active')\n",
        "Calculating energy for column ('power', 'active')\n",
        "Calculating energy for column"
       ]
      },
      {
       "output_type": "stream",
       "stream": "stdout",
       "text": [
        " ('power', 'active')\n",
        "Calculating energy for column ('power', 'active')\n",
        "Calculating energy for column"
       ]
      },
      {
       "output_type": "stream",
       "stream": "stdout",
       "text": [
        " ('power', 'active')\n",
        "Calculating energy for column"
       ]
      },
      {
       "output_type": "stream",
       "stream": "stdout",
       "text": [
        " ('power', 'active')\n",
        "Calculating energy for column ('power', 'active')\n",
        "Calculating energy for column"
       ]
      },
      {
       "output_type": "stream",
       "stream": "stdout",
       "text": [
        " ('power', 'active')\n",
        "Calculating energy for column ('power', 'active')\n",
        "Calculating energy for column"
       ]
      },
      {
       "output_type": "stream",
       "stream": "stdout",
       "text": [
        " ('power', 'active')\n",
        "Calculating energy for column"
       ]
      },
      {
       "output_type": "stream",
       "stream": "stdout",
       "text": [
        " ('power', 'active')\n",
        "Calculating energy for column ('power', 'active')\n",
        "Calculating energy for column"
       ]
      },
      {
       "output_type": "stream",
       "stream": "stdout",
       "text": [
        " ('power', 'active')\n",
        "Calculating energy for column ('power', 'active')\n",
        "Calculating energy for column"
       ]
      },
      {
       "output_type": "stream",
       "stream": "stdout",
       "text": [
        " ('power', 'active')\n",
        "Calculating energy for column ('power', 'active')\n",
        "Calculating energy for column"
       ]
      },
      {
       "output_type": "stream",
       "stream": "stdout",
       "text": [
        " ('power', 'active')\n",
        "Calculating energy for column ('power', 'active')\n",
        "Calculating energy for column"
       ]
      },
      {
       "output_type": "stream",
       "stream": "stdout",
       "text": [
        " ('power', 'active')\n",
        "Calculating energy for column ('power', 'active')\n",
        "Calculating energy for column"
       ]
      },
      {
       "output_type": "stream",
       "stream": "stdout",
       "text": [
        " ('power', 'active')\n",
        "Calculating energy for column ('power', 'active')\n",
        "Calculating energy for column"
       ]
      },
      {
       "output_type": "stream",
       "stream": "stdout",
       "text": [
        " ('power', 'active')\n",
        "Calculating energy for column ('power', 'active')\n",
        "Calculating energy for column"
       ]
      },
      {
       "output_type": "stream",
       "stream": "stdout",
       "text": [
        " ('power', 'active')\n",
        "Calculating energy for column ('power', 'active')\n",
        "Calculating energy for column"
       ]
      },
      {
       "output_type": "stream",
       "stream": "stdout",
       "text": [
        " ('power', 'active')\n",
        "Calculating energy for column ('power', 'active')\n",
        "Calculating energy for column"
       ]
      },
      {
       "output_type": "stream",
       "stream": "stdout",
       "text": [
        " ('power', 'active')\n",
        "Calculating energy for column"
       ]
      },
      {
       "output_type": "stream",
       "stream": "stdout",
       "text": [
        " ('power', 'active')\n",
        "Calculating energy for column"
       ]
      },
      {
       "output_type": "stream",
       "stream": "stdout",
       "text": [
        " ('power', 'active')\n",
        "Calculating energy for column ('power', 'active')\n",
        "Calculating energy for column"
       ]
      },
      {
       "output_type": "stream",
       "stream": "stdout",
       "text": [
        " ('power', 'active')\n",
        "Calculating energy for column"
       ]
      },
      {
       "output_type": "stream",
       "stream": "stdout",
       "text": [
        " ('power', 'active')\n",
        "Calculating energy for column ('power', 'active')\n",
        "Calculating energy for column"
       ]
      },
      {
       "output_type": "stream",
       "stream": "stdout",
       "text": [
        " ('power', 'active')\n",
        "Calculating energy for column"
       ]
      },
      {
       "output_type": "stream",
       "stream": "stdout",
       "text": [
        " ('power', 'active')\n",
        "Calculating energy for column ('power', 'active')\n",
        "Calculating energy for column"
       ]
      },
      {
       "output_type": "stream",
       "stream": "stdout",
       "text": [
        " ('power', 'active')\n",
        "Calculating energy for column ('power', 'active')\n",
        "Calculating energy for column"
       ]
      },
      {
       "output_type": "stream",
       "stream": "stdout",
       "text": [
        " ('power', 'active')\n",
        "Calculating energy for column"
       ]
      },
      {
       "output_type": "stream",
       "stream": "stdout",
       "text": [
        " ('power', 'active')\n",
        "Calculating energy for column ('power', 'active')\n",
        "Calculating energy for column ('power', 'active')\n",
        "Calculating energy for column ('power', 'active')\n",
        "Calculating energy for column ('power', 'active')\n",
        "Calculating energy for column"
       ]
      },
      {
       "output_type": "stream",
       "stream": "stdout",
       "text": [
        " ('power', 'active')\n",
        "Calculating energy for column ('power', 'active')\n",
        "Calculating energy for column ('power', 'active')\n",
        "Calculating energy for column ('power', 'active')\n",
        "Calculating energy for column ('power', 'active')\n",
        "Calculating energy for column ('power', 'active')\n",
        "Calculating energy for column"
       ]
      },
      {
       "output_type": "stream",
       "stream": "stdout",
       "text": [
        " ('power', 'active')\n",
        "Calculating energy for column ('power', 'active')\n",
        "Calculating energy for column ('power', 'active')\n",
        "Calculating energy for column ('power', 'active')\n",
        "Calculating energy for column"
       ]
      },
      {
       "output_type": "stream",
       "stream": "stdout",
       "text": [
        " ('power', 'active')\n",
        "Calculating energy for column ('power', 'active')\n",
        "Calculating energy for column ('power', 'active')\n",
        "Calculating energy for column ('power', 'active')\n",
        "Calculating energy for column"
       ]
      },
      {
       "output_type": "stream",
       "stream": "stdout",
       "text": [
        " ('power', 'active')\n",
        "Calculating energy for column ('power', 'active')\n",
        "Calculating energy for column ('power', 'active')\n",
        "Calculating energy for column"
       ]
      },
      {
       "output_type": "stream",
       "stream": "stdout",
       "text": [
        " ('power', 'active')\n",
        "Calculating energy for column"
       ]
      },
      {
       "output_type": "stream",
       "stream": "stdout",
       "text": [
        " ('power', 'active')\n",
        "Calculating energy for column ('power', 'active')\n",
        "Calculating energy for column ('power', 'active')\n",
        "Calculating energy for column"
       ]
      },
      {
       "output_type": "stream",
       "stream": "stdout",
       "text": [
        " ('power', 'active')\n",
        "Calculating energy for column ('power', 'active')\n",
        "Calculating energy for column ('power', 'active')\n",
        "Calculating energy for column"
       ]
      },
      {
       "output_type": "stream",
       "stream": "stdout",
       "text": [
        " ('power', 'active')\n",
        "Calculating energy for column ('power', 'active')\n",
        "Calculating energy for column ('power', 'active')\n",
        "Calculating energy for column ('power', 'active')\n",
        "Calculating energy for column"
       ]
      },
      {
       "output_type": "stream",
       "stream": "stdout",
       "text": [
        " ('power', 'active')\n",
        "Calculating energy for column ('power', 'active')\n",
        "Calculating energy for column ('power', 'active')\n",
        "Calculating energy for column ('power', 'active')\n",
        "Calculating energy for column"
       ]
      },
      {
       "output_type": "stream",
       "stream": "stdout",
       "text": [
        " ('power', 'active')\n",
        "Calculating energy for column ('power', 'active')\n",
        "Calculating energy for column ('power', 'active')\n",
        "Calculating energy for column"
       ]
      },
      {
       "output_type": "stream",
       "stream": "stdout",
       "text": [
        " ('power', 'active')\n",
        "Calculating energy for column"
       ]
      },
      {
       "output_type": "stream",
       "stream": "stdout",
       "text": [
        " ('power', 'active')\n",
        "Calculating energy for column"
       ]
      },
      {
       "output_type": "stream",
       "stream": "stdout",
       "text": [
        " ('power', 'active')\n",
        "Calculating energy for column ('power', 'active')\n",
        "Calculating energy for column"
       ]
      },
      {
       "output_type": "stream",
       "stream": "stdout",
       "text": [
        " ('power', 'active')\n",
        "Calculating energy for column ('power', 'active')\n",
        "Calculating energy for column"
       ]
      },
      {
       "output_type": "stream",
       "stream": "stdout",
       "text": [
        " ('power', 'active')\n",
        "Calculating energy for column"
       ]
      },
      {
       "output_type": "stream",
       "stream": "stdout",
       "text": [
        " ('power', 'active')\n",
        "Calculating energy for column"
       ]
      },
      {
       "output_type": "stream",
       "stream": "stdout",
       "text": [
        " ('power', 'active')\n",
        "Calculating energy for column"
       ]
      },
      {
       "output_type": "stream",
       "stream": "stdout",
       "text": [
        " ('power', 'active')\n",
        "Calculating energy for column"
       ]
      },
      {
       "output_type": "stream",
       "stream": "stdout",
       "text": [
        " ('power', 'active')\n",
        "Calculating energy for column ('power', 'active')\n",
        "Calculating energy for column"
       ]
      },
      {
       "output_type": "stream",
       "stream": "stdout",
       "text": [
        " ('power', 'active')\n",
        "Calculating energy for column ('power', 'active')\n",
        "Calculating energy for column"
       ]
      },
      {
       "output_type": "stream",
       "stream": "stdout",
       "text": [
        " ('power', 'active')\n",
        "Calculating energy for column"
       ]
      },
      {
       "output_type": "stream",
       "stream": "stdout",
       "text": [
        " ('power', 'active')\n",
        "Calculating energy for column"
       ]
      },
      {
       "output_type": "stream",
       "stream": "stdout",
       "text": [
        " ('power', 'active')\n",
        "Calculating energy for column"
       ]
      },
      {
       "output_type": "stream",
       "stream": "stdout",
       "text": [
        " ('power', 'active')\n",
        "Calculating energy for column"
       ]
      },
      {
       "output_type": "stream",
       "stream": "stdout",
       "text": [
        " ('power', 'active')\n",
        "Calculating energy for column"
       ]
      },
      {
       "output_type": "stream",
       "stream": "stdout",
       "text": [
        " ('power', 'active')\n",
        "Calculating energy for column ('power', 'active')\n",
        "Calculating energy for column"
       ]
      },
      {
       "output_type": "stream",
       "stream": "stdout",
       "text": [
        " ('power', 'active')\n",
        "Calculating energy for column"
       ]
      },
      {
       "output_type": "stream",
       "stream": "stdout",
       "text": [
        " ('power', 'active')\n",
        "Calculating energy for column ('power', 'active')\n",
        "Calculating energy for column"
       ]
      },
      {
       "output_type": "stream",
       "stream": "stdout",
       "text": [
        " ('power', 'active')\n",
        "Calculating energy for column ('power', 'active')\n",
        "Calculating energy for column"
       ]
      },
      {
       "output_type": "stream",
       "stream": "stdout",
       "text": [
        " ('power', 'active')\n",
        "Calculating energy for column ('power', 'active')\n",
        "Calculating energy for column"
       ]
      },
      {
       "output_type": "stream",
       "stream": "stdout",
       "text": [
        " ('power', 'active')\n",
        "Calculating energy for column ('power', 'active')\n",
        "Calculating energy for column"
       ]
      },
      {
       "output_type": "stream",
       "stream": "stdout",
       "text": [
        " ('power', 'active')\n",
        "Calculating energy for column ('power', 'active')\n",
        "Calculating energy for column"
       ]
      },
      {
       "output_type": "stream",
       "stream": "stdout",
       "text": [
        " ('power', 'active')\n",
        "Calculating energy for column ('power', 'active')\n",
        "Calculating energy for column"
       ]
      },
      {
       "output_type": "stream",
       "stream": "stdout",
       "text": [
        " ('power', 'active')\n",
        "Calculating energy for column ('power', 'active')\n",
        "Calculating energy for column"
       ]
      },
      {
       "output_type": "stream",
       "stream": "stdout",
       "text": [
        " ('power', 'active')\n",
        "Calculating energy for column ('power', 'active')\n",
        "Calculating energy for column"
       ]
      },
      {
       "output_type": "stream",
       "stream": "stdout",
       "text": [
        " ('power', 'active')\n",
        "Calculating energy for column ('power', 'active')\n",
        "Calculating energy for column"
       ]
      },
      {
       "output_type": "stream",
       "stream": "stdout",
       "text": [
        " ('power', 'active')\n",
        "Calculating energy for column ('power', 'active')\n",
        "Calculating energy for column"
       ]
      },
      {
       "output_type": "stream",
       "stream": "stdout",
       "text": [
        " ('power', 'active')\n",
        "Calculating energy for column ('power', 'active')\n",
        "Calculating energy for column"
       ]
      },
      {
       "output_type": "stream",
       "stream": "stdout",
       "text": [
        " ('power', 'active')\n",
        "Calculating energy for column ('power', 'active')\n",
        "Calculating energy for column"
       ]
      },
      {
       "output_type": "stream",
       "stream": "stdout",
       "text": [
        " ('power', 'active')\n",
        "Calculating energy for column ('power', 'active')\n",
        "Calculating energy for column"
       ]
      },
      {
       "output_type": "stream",
       "stream": "stdout",
       "text": [
        " ('power', 'active')\n",
        "Calculating energy for column ('power', 'active')\n",
        "Calculating energy for column"
       ]
      },
      {
       "output_type": "stream",
       "stream": "stdout",
       "text": [
        " ('power', 'active')\n",
        "Calculating energy for column ('power', 'active')\n",
        "Calculating energy for column"
       ]
      },
      {
       "output_type": "stream",
       "stream": "stdout",
       "text": [
        " ('power', 'active')\n",
        "Calculating energy for column ('power', 'active')\n",
        "Calculating energy for column"
       ]
      },
      {
       "output_type": "stream",
       "stream": "stdout",
       "text": [
        " ('power', 'active')\n",
        "Calculating energy for column ('power', 'active')\n",
        "Calculating energy for column"
       ]
      },
      {
       "output_type": "stream",
       "stream": "stdout",
       "text": [
        " ('power', 'active')\n",
        "Calculating energy for column ('power', 'active')\n",
        "Calculating energy for column"
       ]
      },
      {
       "output_type": "stream",
       "stream": "stdout",
       "text": [
        " ('power', 'active')\n",
        "Calculating energy for column ('power', 'active')\n",
        "Calculating energy for column"
       ]
      },
      {
       "output_type": "stream",
       "stream": "stdout",
       "text": [
        " ('power', 'active')\n",
        "Calculating energy for column"
       ]
      },
      {
       "output_type": "stream",
       "stream": "stdout",
       "text": [
        " ('power', 'active')\n",
        "Calculating energy for column ('power', 'active')\n",
        "Calculating energy for column"
       ]
      },
      {
       "output_type": "stream",
       "stream": "stdout",
       "text": [
        " ('power', 'active')\n",
        "Calculating energy for column ('power', 'active')\n",
        "Calculating energy for column"
       ]
      },
      {
       "output_type": "stream",
       "stream": "stdout",
       "text": [
        " ('power', 'active')\n",
        "Calculating energy for column"
       ]
      },
      {
       "output_type": "stream",
       "stream": "stdout",
       "text": [
        " ('power', 'active')\n",
        "Calculating energy for column ('power', 'active')\n",
        "Calculating energy for column"
       ]
      },
      {
       "output_type": "stream",
       "stream": "stdout",
       "text": [
        " ('power', 'active')\n",
        "Calculating energy for column ('power', 'active')\n",
        "Calculating energy for column"
       ]
      },
      {
       "output_type": "stream",
       "stream": "stdout",
       "text": [
        " ('power', 'active')\n",
        "Calculating energy for column ('power', 'active')\n",
        "Calculating energy for column"
       ]
      },
      {
       "output_type": "stream",
       "stream": "stdout",
       "text": [
        " ('power', 'active')\n",
        "Calculating energy for column ('power', 'active')\n",
        "Calculating energy for column"
       ]
      },
      {
       "output_type": "stream",
       "stream": "stdout",
       "text": [
        " ('power', 'active')\n",
        "Calculating energy for column ('power', 'active')\n",
        "Calculating energy for column"
       ]
      },
      {
       "output_type": "stream",
       "stream": "stdout",
       "text": [
        " ('power', 'active')\n",
        "Calculating energy for column ('power', 'active')\n",
        "Calculating energy for column"
       ]
      },
      {
       "output_type": "stream",
       "stream": "stdout",
       "text": [
        " ('power', 'active')\n",
        "Calculating energy for column ('power', 'active')\n",
        "Calculating energy for column"
       ]
      },
      {
       "output_type": "stream",
       "stream": "stdout",
       "text": [
        " ('power', 'active')\n",
        "Calculating energy for column ('power', 'active')\n",
        "Calculating energy for column"
       ]
      },
      {
       "output_type": "stream",
       "stream": "stdout",
       "text": [
        " ('power', 'active')\n",
        "Calculating energy for column ('power', 'active')\n",
        "Calculating energy for column"
       ]
      },
      {
       "output_type": "stream",
       "stream": "stdout",
       "text": [
        " ('power', 'active')\n",
        "Calculating energy for column ('power', 'active')\n",
        "Calculating energy for column"
       ]
      },
      {
       "output_type": "stream",
       "stream": "stdout",
       "text": [
        " ('power', 'active')\n",
        "Calculating energy for column ('power', 'active')\n",
        "Calculating energy for column"
       ]
      },
      {
       "output_type": "stream",
       "stream": "stdout",
       "text": [
        " ('power', 'active')\n",
        "Calculating energy for column ('power', 'active')\n",
        "Calculating energy for column"
       ]
      },
      {
       "output_type": "stream",
       "stream": "stdout",
       "text": [
        " ('power', 'active')\n",
        "Calculating energy for column ('power', 'active')\n",
        "Calculating energy for column"
       ]
      },
      {
       "output_type": "stream",
       "stream": "stdout",
       "text": [
        " ('power', 'active')\n",
        "Calculating energy for column ('power', 'active')\n",
        "Calculating energy for column"
       ]
      },
      {
       "output_type": "stream",
       "stream": "stdout",
       "text": [
        " ('power', 'active')\n",
        "Calculating energy for column ('power', 'active')\n",
        "Calculating energy for column ('power', 'active')\n",
        "Calculating energy for column ('power', 'active')\n",
        "Calculating energy for column"
       ]
      },
      {
       "output_type": "stream",
       "stream": "stdout",
       "text": [
        " ('power', 'active')\n",
        "Calculating energy for column ('power', 'active')\n",
        "Calculating energy for column ('power', 'active')\n",
        "Calculating energy for column ('power', 'active')\n",
        "Calculating energy for column"
       ]
      },
      {
       "output_type": "stream",
       "stream": "stdout",
       "text": [
        " ('power', 'active')\n",
        "Calculating energy for column ('power', 'active')\n",
        "Calculating energy for column ('power', 'active')\n",
        "Calculating energy for column ('power', 'active')\n",
        "Calculating energy for column"
       ]
      },
      {
       "output_type": "stream",
       "stream": "stdout",
       "text": [
        " ('power', 'active')\n",
        "Calculating energy for column ('power', 'active')\n",
        "Calculating energy for column ('power', 'active')\n",
        "Calculating energy for column ('power', 'active')\n",
        "Calculating energy for column"
       ]
      },
      {
       "output_type": "stream",
       "stream": "stdout",
       "text": [
        " ('power', 'active')\n",
        "Calculating energy for column ('power', 'active')\n",
        "Calculating energy for column ('power', 'active')\n",
        "Calculating energy for column ('power', 'active')\n",
        "Calculating energy for column"
       ]
      },
      {
       "output_type": "stream",
       "stream": "stdout",
       "text": [
        " ('power', 'active')\n",
        "Calculating energy for column ('power', 'active')\n",
        "Calculating energy for column ('power', 'active')\n",
        "Calculating energy for column ('power', 'active')\n",
        "Calculating energy for column"
       ]
      },
      {
       "output_type": "stream",
       "stream": "stdout",
       "text": [
        " ('power', 'active')\n",
        "Calculating energy for column ('power', 'active')\n",
        "Calculating energy for column ('power', 'active')\n",
        "Calculating energy for column ('power', 'active')\n",
        "Calculating energy for column"
       ]
      },
      {
       "output_type": "stream",
       "stream": "stdout",
       "text": [
        " ('power', 'active')\n",
        "Calculating energy for column ('power', 'active')\n",
        "Calculating energy for column ('power', 'active')\n",
        "Calculating energy for column ('power', 'active')\n",
        "Calculating energy for column"
       ]
      },
      {
       "output_type": "stream",
       "stream": "stdout",
       "text": [
        " ('power', 'active')\n",
        "Calculating energy for column ('power', 'active')\n",
        "Calculating energy for column ('power', 'active')\n",
        "Calculating energy for column"
       ]
      },
      {
       "output_type": "stream",
       "stream": "stdout",
       "text": [
        " ('power', 'active')\n",
        "Calculating energy for column ('power', 'active')\n",
        "Calculating energy for column ('power', 'active')\n",
        "Calculating energy for column"
       ]
      },
      {
       "output_type": "stream",
       "stream": "stdout",
       "text": [
        " ('power', 'active')\n",
        "Calculating energy for column ('power', 'active')\n",
        "Calculating energy for column ('power', 'active')\n",
        "Calculating energy for column ('power', 'active')\n",
        "Calculating energy for column"
       ]
      },
      {
       "output_type": "stream",
       "stream": "stdout",
       "text": [
        " ('power', 'active')\n",
        "Calculating energy for column ('power', 'active')\n",
        "Calculating energy for column ('power', 'active')\n",
        "Calculating energy for column ('power', 'active')\n",
        "Calculating energy for column"
       ]
      },
      {
       "output_type": "stream",
       "stream": "stdout",
       "text": [
        " ('power', 'active')\n",
        "Calculating energy for column ('power', 'active')\n",
        "Calculating energy for column ('power', 'active')\n",
        "Calculating energy for column ('power', 'active')\n",
        "Calculating energy for column"
       ]
      },
      {
       "output_type": "stream",
       "stream": "stdout",
       "text": [
        " ('power', 'active')\n",
        "Calculating energy for column ('power', 'active')\n",
        "Calculating energy for column ('power', 'active')\n",
        "Calculating energy for column ('power', 'active')\n",
        "Calculating energy for column"
       ]
      },
      {
       "output_type": "stream",
       "stream": "stdout",
       "text": [
        " ('power', 'active')\n",
        "Calculating energy for column ('power', 'active')\n",
        "Calculating energy for column"
       ]
      },
      {
       "output_type": "stream",
       "stream": "stdout",
       "text": [
        " ('power', 'active')\n",
        "Calculating energy for column ('power', 'active')\n",
        "Calculating energy for column ('power', 'active')\n",
        "Calculating energy for column"
       ]
      },
      {
       "output_type": "stream",
       "stream": "stdout",
       "text": [
        " ('power', 'active')\n",
        "Calculating energy for column ('power', 'active')\n",
        "Calculating energy for column ('power', 'active')\n",
        "Calculating energy for column"
       ]
      },
      {
       "output_type": "stream",
       "stream": "stdout",
       "text": [
        " ('power', 'active')\n",
        "Calculating energy for column ('power', 'active')\n",
        "Calculating energy for column"
       ]
      },
      {
       "output_type": "stream",
       "stream": "stdout",
       "text": [
        " ('power', 'active')\n",
        "Calculating energy for column ('power', 'active')\n",
        "Calculating energy for column ('power', 'active')\n",
        "Calculating energy for column"
       ]
      },
      {
       "output_type": "stream",
       "stream": "stdout",
       "text": [
        " ('power', 'active')\n",
        "Calculating energy for column ('power', 'active')\n",
        "Calculating energy for column"
       ]
      },
      {
       "output_type": "stream",
       "stream": "stdout",
       "text": [
        " ('power', 'active')\n",
        "Calculating energy for column ('power', 'active')\n",
        "Calculating energy for column"
       ]
      },
      {
       "output_type": "stream",
       "stream": "stdout",
       "text": [
        " ('power', 'active')\n",
        "Calculating energy for column ('power', 'active')\n",
        "Calculating energy for column ('power', 'active')\n",
        "Calculating energy for column"
       ]
      },
      {
       "output_type": "stream",
       "stream": "stdout",
       "text": [
        " ('power', 'active')\n",
        "Calculating energy for column ('power', 'active')\n",
        "Calculating energy for column ('power', 'active')\n",
        "Calculating energy for column"
       ]
      },
      {
       "output_type": "stream",
       "stream": "stdout",
       "text": [
        " ('power', 'active')\n",
        "Calculating energy for column ('power', 'active')\n",
        "Calculating energy for column ('power', 'active')\n",
        "Calculating energy for column"
       ]
      },
      {
       "output_type": "stream",
       "stream": "stdout",
       "text": [
        " ('power', 'active')\n",
        "Calculating energy for column ('power', 'active')\n",
        "Calculating energy for column ('power', 'active')\n",
        "Calculating energy for column"
       ]
      },
      {
       "output_type": "stream",
       "stream": "stdout",
       "text": [
        " ('power', 'active')\n",
        "Calculating energy for column ('power', 'active')\n",
        "Calculating energy for column"
       ]
      },
      {
       "output_type": "stream",
       "stream": "stdout",
       "text": [
        " ('power', 'active')\n",
        "Calculating energy for column ('power', 'active')\n",
        "Calculating energy for column"
       ]
      },
      {
       "output_type": "stream",
       "stream": "stdout",
       "text": [
        " ('power', 'active')\n",
        "Calculating energy for column ('power', 'active')\n",
        "Calculating energy for column"
       ]
      },
      {
       "output_type": "stream",
       "stream": "stdout",
       "text": [
        " ('power', 'active')\n",
        "Calculating energy for column ('power', 'active')\n",
        "Calculating energy for column ('power', 'active')\n",
        "Calculating energy for column"
       ]
      },
      {
       "output_type": "stream",
       "stream": "stdout",
       "text": [
        " ('power', 'active')\n",
        "Calculating energy for column ('power', 'active')\n",
        "Calculating energy for column ('power', 'active')\n",
        "Calculating energy for column"
       ]
      },
      {
       "output_type": "stream",
       "stream": "stdout",
       "text": [
        " ('power', 'active')\n",
        "Calculating energy for column ('power', 'active')\n",
        "Calculating energy for column ('power', 'active')\n",
        "Calculating energy for column"
       ]
      },
      {
       "output_type": "stream",
       "stream": "stdout",
       "text": [
        " ('power', 'active')\n",
        "Calculating energy for column ('power', 'active')\n",
        "Calculating energy for column ('power', 'active')\n",
        "Calculating energy for column"
       ]
      },
      {
       "output_type": "stream",
       "stream": "stdout",
       "text": [
        " ('power', 'active')\n",
        "Calculating energy for column ('power', 'active')\n",
        "Calculating energy for column ('power', 'active')\n",
        "Calculating energy for column"
       ]
      },
      {
       "output_type": "stream",
       "stream": "stdout",
       "text": [
        " ('power', 'active')\n",
        "Calculating energy for column ('power', 'active')\n",
        "Calculating energy for column ('power', 'active')\n",
        "Calculating energy for column"
       ]
      },
      {
       "output_type": "stream",
       "stream": "stdout",
       "text": [
        " ('power', 'active')\n",
        "Calculating energy for column ('power', 'active')\n",
        "Calculating energy for column"
       ]
      },
      {
       "output_type": "stream",
       "stream": "stdout",
       "text": [
        " ('power', 'active')\n",
        "Calculating energy for column ('power', 'active')\n",
        "Calculating energy for column ('power', 'active')\n",
        "Calculating energy for column"
       ]
      },
      {
       "output_type": "stream",
       "stream": "stdout",
       "text": [
        " ('power', 'active')\n",
        "Calculating energy for column ('power', 'active')\n",
        "Calculating energy for column ('power', 'active')\n",
        "Calculating energy for column"
       ]
      },
      {
       "output_type": "stream",
       "stream": "stdout",
       "text": [
        " ('power', 'active')\n",
        "Calculating energy for column ('power', 'active')\n",
        "Calculating energy for column ('power', 'active')\n",
        "Calculating energy for column"
       ]
      },
      {
       "output_type": "stream",
       "stream": "stdout",
       "text": [
        " ('power', 'active')\n",
        "Calculating energy for column ('power', 'active')\n",
        "Calculating energy for column"
       ]
      },
      {
       "output_type": "stream",
       "stream": "stdout",
       "text": [
        " ('power', 'active')\n",
        "Calculating energy for column ('power', 'active')\n",
        "Calculating energy for column ('power', 'active')\n",
        "Calculating energy for column"
       ]
      },
      {
       "output_type": "stream",
       "stream": "stdout",
       "text": [
        " ('power', 'active')\n",
        "Calculating energy for column ('power', 'active')\n",
        "Calculating energy for column ('power', 'active')\n",
        "Calculating energy for column"
       ]
      },
      {
       "output_type": "stream",
       "stream": "stdout",
       "text": [
        " ('power', 'active')\n",
        "Calculating energy for column ('power', 'active')\n",
        "Calculating energy for column ('power', 'active')\n",
        "Calculating energy for column"
       ]
      },
      {
       "output_type": "stream",
       "stream": "stdout",
       "text": [
        " ('power', 'active')\n",
        "Calculating energy for column ('power', 'active')\n",
        "Calculating energy for column ('power', 'active')\n",
        "Calculating energy for column"
       ]
      },
      {
       "output_type": "stream",
       "stream": "stdout",
       "text": [
        " ('power', 'active')\n",
        "Calculating energy for column ('power', 'active')\n",
        "Calculating energy for column"
       ]
      },
      {
       "output_type": "stream",
       "stream": "stdout",
       "text": [
        " ('power', 'active')\n",
        "Calculating energy for column ('power', 'active')\n",
        "Calculating energy for column"
       ]
      },
      {
       "output_type": "stream",
       "stream": "stdout",
       "text": [
        " ('power', 'active')\n",
        "Calculating energy for column ('power', 'active')\n",
        "Calculating energy for column"
       ]
      },
      {
       "output_type": "stream",
       "stream": "stdout",
       "text": [
        " ('power', 'active')\n",
        "Calculating energy for column ('power', 'active')\n",
        "Calculating energy for column"
       ]
      },
      {
       "output_type": "stream",
       "stream": "stdout",
       "text": [
        " ('power', 'active')\n",
        "Calculating energy for column ('power', 'active')\n",
        "Calculating energy for column"
       ]
      },
      {
       "output_type": "stream",
       "stream": "stdout",
       "text": [
        " ('power', 'active')\n",
        "Calculating energy for column ('power', 'active')\n",
        "Calculating energy for column"
       ]
      },
      {
       "output_type": "stream",
       "stream": "stdout",
       "text": [
        " ('power', 'active')\n",
        "Calculating energy for column ('power', 'active')\n",
        "Calculating energy for column ('power', 'active')\n"
       ]
      },
      {
       "output_type": "stream",
       "stream": "stdout",
       "text": [
        "Calculating energy for column ('power', 'active')\n",
        "Calculating energy for column ('power', 'active')\n",
        "Calculating energy for column"
       ]
      },
      {
       "output_type": "stream",
       "stream": "stdout",
       "text": [
        " ('power', 'active')\n",
        "Calculating energy for column ('power', 'active')\n",
        "Calculating energy for column"
       ]
      },
      {
       "output_type": "stream",
       "stream": "stdout",
       "text": [
        " ('power', 'active')\n",
        "Calculating energy for column ('power', 'active')\n",
        "Calculating energy for column"
       ]
      },
      {
       "output_type": "stream",
       "stream": "stdout",
       "text": [
        " ('power', 'active')\n",
        "Calculating energy for column ('power', 'active')\n",
        "Calculating energy for column"
       ]
      },
      {
       "output_type": "stream",
       "stream": "stdout",
       "text": [
        " ('power', 'active')\n",
        "Calculating energy for column ('power', 'active')\n",
        "Calculating energy for column"
       ]
      },
      {
       "output_type": "stream",
       "stream": "stdout",
       "text": [
        " ('power', 'active')\n",
        "Calculating energy for column ('power', 'active')\n",
        "Calculating energy for column"
       ]
      },
      {
       "output_type": "stream",
       "stream": "stdout",
       "text": [
        " ('power', 'active')\n",
        "Calculating energy for column ('power', 'active')\n",
        "Calculating energy for column"
       ]
      },
      {
       "output_type": "stream",
       "stream": "stdout",
       "text": [
        " ('power', 'active')\n",
        "Calculating energy for column ('power', 'active')\n",
        "Calculating energy for column"
       ]
      },
      {
       "output_type": "stream",
       "stream": "stdout",
       "text": [
        " ('power', 'active')\n",
        "Calculating energy for column ('power', 'active')\n",
        "Calculating energy for column"
       ]
      },
      {
       "output_type": "stream",
       "stream": "stdout",
       "text": [
        " ('power', 'active')\n",
        "Calculating energy for column ('power', 'active')\n",
        "Calculating energy for column"
       ]
      },
      {
       "output_type": "stream",
       "stream": "stdout",
       "text": [
        " ('power', 'active')\n",
        "Calculating energy for column ('power', 'active')\n",
        "Calculating energy for column"
       ]
      },
      {
       "output_type": "stream",
       "stream": "stdout",
       "text": [
        " ('power', 'active')\n",
        "Calculating energy for column ('power', 'active')\n",
        "Calculating energy for column"
       ]
      },
      {
       "output_type": "stream",
       "stream": "stdout",
       "text": [
        " ('power', 'active')\n",
        "Calculating energy for column ('power', 'active')\n",
        "Calculating energy for column"
       ]
      },
      {
       "output_type": "stream",
       "stream": "stdout",
       "text": [
        " ('power', 'active')\n",
        "Calculating energy for column ('power', 'active')\n",
        "Calculating energy for column"
       ]
      },
      {
       "output_type": "stream",
       "stream": "stdout",
       "text": [
        " ('power', 'active')\n",
        "Calculating energy for column ('power', 'active')\n",
        "Calculating energy for column"
       ]
      },
      {
       "output_type": "stream",
       "stream": "stdout",
       "text": [
        " ('power', 'active')\n",
        "Calculating energy for column ('power', 'active')\n",
        "Calculating energy for column"
       ]
      },
      {
       "output_type": "stream",
       "stream": "stdout",
       "text": [
        " ('power', 'active')\n",
        "Calculating energy for column ('power', 'active')\n",
        "Calculating energy for column"
       ]
      },
      {
       "output_type": "stream",
       "stream": "stdout",
       "text": [
        " ('power', 'active')\n",
        "Calculating energy for column ('power', 'active')\n",
        "Calculating energy for column"
       ]
      },
      {
       "output_type": "stream",
       "stream": "stdout",
       "text": [
        " ('power', 'active')\n",
        "Calculating energy for column ('power', 'active')\n",
        "Calculating energy for column"
       ]
      },
      {
       "output_type": "stream",
       "stream": "stdout",
       "text": [
        " ('power', 'active')\n",
        "Calculating energy for column ('power', 'active')\n",
        "Calculating energy for column"
       ]
      },
      {
       "output_type": "stream",
       "stream": "stdout",
       "text": [
        " ('power', 'active')\n",
        "Calculating energy for column ('power', 'active')\n",
        "Calculating energy for column"
       ]
      },
      {
       "output_type": "stream",
       "stream": "stdout",
       "text": [
        " ('power', 'active')\n",
        "Calculating energy for column ('power', 'active')\n",
        "Calculating energy for column"
       ]
      },
      {
       "output_type": "stream",
       "stream": "stdout",
       "text": [
        " ('power', 'active')\n",
        "Calculating energy for column ('power', 'active')\n",
        "Calculating energy for column"
       ]
      },
      {
       "output_type": "stream",
       "stream": "stdout",
       "text": [
        " ('power', 'active')\n",
        "Calculating energy for column ('power', 'active')\n",
        "Calculating energy for column"
       ]
      },
      {
       "output_type": "stream",
       "stream": "stdout",
       "text": [
        " ('power', 'active')\n",
        "Calculating energy for column"
       ]
      },
      {
       "output_type": "stream",
       "stream": "stdout",
       "text": [
        " ('power', 'active')\n",
        "Calculating energy for column"
       ]
      },
      {
       "output_type": "stream",
       "stream": "stdout",
       "text": [
        " ('power', 'active')\n",
        "Calculating energy for column ('power', 'active')\n",
        "Calculating energy for column"
       ]
      },
      {
       "output_type": "stream",
       "stream": "stdout",
       "text": [
        " ('power', 'active')\n",
        "Calculating energy for column ('power', 'active')\n",
        "Calculating energy for column"
       ]
      },
      {
       "output_type": "stream",
       "stream": "stdout",
       "text": [
        " ('power', 'active')\n",
        "Calculating energy for column ('power', 'active')\n",
        "Calculating energy for column"
       ]
      },
      {
       "output_type": "stream",
       "stream": "stdout",
       "text": [
        " ('power', 'active')\n",
        "Calculating energy for column ('power', 'active')\n",
        "Calculating energy for column"
       ]
      },
      {
       "output_type": "stream",
       "stream": "stdout",
       "text": [
        " ('power', 'active')\n",
        "Calculating energy for column ('power', 'active')\n",
        "Calculating energy for column"
       ]
      },
      {
       "output_type": "stream",
       "stream": "stdout",
       "text": [
        " ('power', 'active')\n",
        "Calculating energy for column ('power', 'active')\n",
        "Calculating energy for column"
       ]
      },
      {
       "output_type": "stream",
       "stream": "stdout",
       "text": [
        " ('power', 'active')\n",
        "Calculating energy for column ('power', 'active')\n",
        "Calculating energy for column"
       ]
      },
      {
       "output_type": "stream",
       "stream": "stdout",
       "text": [
        " ('power', 'active')\n",
        "Calculating energy for column ('power', 'active')\n",
        "Calculating energy for column"
       ]
      },
      {
       "output_type": "stream",
       "stream": "stdout",
       "text": [
        " ('power', 'active')\n",
        "Calculating energy for column ('power', 'active')\n",
        "Calculating energy for column"
       ]
      },
      {
       "output_type": "stream",
       "stream": "stdout",
       "text": [
        " ('power', 'active')\n",
        "Calculating energy for column ('power', 'active')\n",
        "Calculating energy for column"
       ]
      },
      {
       "output_type": "stream",
       "stream": "stdout",
       "text": [
        " ('power', 'active')\n",
        "Calculating energy for column ('power', 'active')\n",
        "Calculating energy for column"
       ]
      },
      {
       "output_type": "stream",
       "stream": "stdout",
       "text": [
        " ('power', 'active')\n",
        "Calculating energy for column"
       ]
      },
      {
       "output_type": "stream",
       "stream": "stdout",
       "text": [
        " ('power', 'active')\n",
        "Calculating energy for column ('power', 'active')\n",
        "Calculating energy for column ('power', 'active')\n",
        "Calculating energy for column ('power', 'active')\n",
        "Calculating energy for column ('power', 'active')\n",
        "Calculating energy for column"
       ]
      },
      {
       "output_type": "stream",
       "stream": "stdout",
       "text": [
        " ('power', 'active')\n",
        "Calculating energy for column ('power', 'active')\n",
        "Calculating energy for column ('power', 'active')\n",
        "Calculating energy for column ('power', 'active')\n",
        "Calculating energy for column ('power', 'active')\n",
        "Calculating energy for column"
       ]
      },
      {
       "output_type": "stream",
       "stream": "stdout",
       "text": [
        " ('power', 'active')\n",
        "Calculating energy for column ('power', 'active')\n",
        "Calculating energy for column ('power', 'active')\n",
        "Calculating energy for column ('power', 'active')\n",
        "Calculating energy for column"
       ]
      },
      {
       "output_type": "stream",
       "stream": "stdout",
       "text": [
        " ('power', 'active')\n",
        "Calculating energy for column ('power', 'active')\n",
        "Calculating energy for column ('power', 'active')\n",
        "Calculating energy for column"
       ]
      },
      {
       "output_type": "stream",
       "stream": "stdout",
       "text": [
        " ('power', 'active')\n",
        "Calculating energy for column ('power', 'active')\n",
        "Calculating energy for column ('power', 'active')\n",
        "Calculating energy for column ('power', 'active')\n",
        "Calculating energy for column"
       ]
      },
      {
       "output_type": "stream",
       "stream": "stdout",
       "text": [
        " ('power', 'active')\n",
        "Calculating energy for column ('power', 'active')\n",
        "Calculating energy for column ('power', 'active')\n",
        "Calculating energy for column ('power', 'active')\n",
        "Calculating energy for column"
       ]
      },
      {
       "output_type": "stream",
       "stream": "stdout",
       "text": [
        " ('power', 'active')\n",
        "Calculating energy for column ('power', 'active')\n",
        "Calculating energy for column ('power', 'active')\n",
        "Calculating energy for column"
       ]
      },
      {
       "output_type": "stream",
       "stream": "stdout",
       "text": [
        " ('power', 'active')\n",
        "Calculating energy for column ('power', 'active')\n",
        "Calculating energy for column ('power', 'active')\n",
        "Calculating energy for column"
       ]
      },
      {
       "output_type": "stream",
       "stream": "stdout",
       "text": [
        " ('power', 'active')\n",
        "Calculating energy for column ('power', 'active')\n",
        "Calculating energy for column ('power', 'active')\n",
        "Calculating energy for column"
       ]
      },
      {
       "output_type": "stream",
       "stream": "stdout",
       "text": [
        " ('power', 'active')\n",
        "Calculating energy for column ('power', 'active')\n",
        "Calculating energy for column ('power', 'active')\n",
        "Calculating energy for column ('power', 'active')\n",
        "Calculating energy for column"
       ]
      },
      {
       "output_type": "stream",
       "stream": "stdout",
       "text": [
        " ('power', 'active')\n",
        "Calculating energy for column ('power', 'active')\n",
        "Calculating energy for column ('power', 'active')\n",
        "Calculating energy for column"
       ]
      },
      {
       "output_type": "stream",
       "stream": "stdout",
       "text": [
        " ('power', 'active')\n",
        "Calculating energy for column ('power', 'active')\n",
        "Calculating energy for column ('power', 'active')\n",
        "Calculating energy for column"
       ]
      },
      {
       "output_type": "stream",
       "stream": "stdout",
       "text": [
        " ('power', 'active')\n",
        "Calculating energy for column ('power', 'active')\n",
        "Calculating energy for column ('power', 'active')\n",
        "Calculating energy for column"
       ]
      },
      {
       "output_type": "stream",
       "stream": "stdout",
       "text": [
        " ('power', 'active')\n",
        "Calculating energy for column ('power', 'active')\n",
        "Calculating energy for column ('power', 'active')\n",
        "Calculating energy for column"
       ]
      },
      {
       "output_type": "stream",
       "stream": "stdout",
       "text": [
        " ('power', 'active')\n",
        "Calculating energy for column ('power', 'active')\n",
        "Calculating energy for column ('power', 'active')\n",
        "Calculating energy for column ('power', 'active')\n",
        "Calculating energy for column"
       ]
      },
      {
       "output_type": "stream",
       "stream": "stdout",
       "text": [
        " ('power', 'active')\n",
        "Calculating energy for column ('power', 'active')\n",
        "Calculating energy for column ('power', 'active')\n",
        "Calculating energy for column ('power', 'active')\n",
        "Calculating energy for column"
       ]
      },
      {
       "output_type": "stream",
       "stream": "stdout",
       "text": [
        " ('power', 'active')\n",
        "Calculating energy for column ('power', 'active')\n",
        "Calculating energy for column ('power', 'active')\n",
        "Calculating energy for column"
       ]
      },
      {
       "output_type": "stream",
       "stream": "stdout",
       "text": [
        " ('power', 'active')\n",
        "Calculating energy for column ('power', 'active')\n",
        "Calculating energy for column"
       ]
      },
      {
       "output_type": "stream",
       "stream": "stdout",
       "text": [
        " ('power', 'active')\n",
        "Calculating energy for column ('power', 'active')\n",
        "Calculating energy for column ('power', 'active')\n",
        "Calculating energy for column"
       ]
      },
      {
       "output_type": "stream",
       "stream": "stdout",
       "text": [
        " ('power', 'active')\n",
        "Calculating energy for column ('power', 'active')\n",
        "Calculating energy for column ('power', 'active')\n",
        "Calculating energy for column ('power', 'active')\n",
        "Calculating energy for column"
       ]
      },
      {
       "output_type": "stream",
       "stream": "stdout",
       "text": [
        " ('power', 'active')\n",
        "Calculating energy for column ('power', 'active')\n",
        "Calculating energy for column ('power', 'active')\n",
        "Calculating energy for column"
       ]
      },
      {
       "output_type": "stream",
       "stream": "stdout",
       "text": [
        " ('power', 'active')\n",
        "Calculating energy for column ('power', 'active')\n",
        "Calculating energy for column ('power', 'active')\n",
        "Calculating energy for column"
       ]
      },
      {
       "output_type": "stream",
       "stream": "stdout",
       "text": [
        " ('power', 'active')\n",
        "Calculating energy for column ('power', 'active')\n",
        "Calculating energy for column ('power', 'active')\n",
        "Calculating energy for column"
       ]
      },
      {
       "output_type": "stream",
       "stream": "stdout",
       "text": [
        " ('power', 'active')\n",
        "Calculating energy for column ('power', 'active')\n",
        "Calculating energy for column ('power', 'active')\n",
        "Calculating energy for column"
       ]
      },
      {
       "output_type": "stream",
       "stream": "stdout",
       "text": [
        " ('power', 'active')\n",
        "Calculating energy for column ('power', 'active')\n",
        "Calculating energy for column"
       ]
      },
      {
       "output_type": "stream",
       "stream": "stdout",
       "text": [
        " ('power', 'active')\n",
        "Calculating energy for column ('power', 'active')\n",
        "Calculating energy for column ('power', 'active')\n",
        "Calculating energy for column"
       ]
      },
      {
       "output_type": "stream",
       "stream": "stdout",
       "text": [
        " ('power', 'active')\n",
        "Calculating energy for column ('power', 'active')\n",
        "Calculating energy for column"
       ]
      },
      {
       "output_type": "stream",
       "stream": "stdout",
       "text": [
        " ('power', 'active')\n",
        "Calculating energy for column ('power', 'active')\n",
        "Calculating energy for column"
       ]
      },
      {
       "output_type": "stream",
       "stream": "stdout",
       "text": [
        " ('power', 'active')\n",
        "Calculating energy for column ('power', 'active')\n",
        "Calculating energy for column ('power', 'active')\n",
        "Calculating energy for column"
       ]
      },
      {
       "output_type": "stream",
       "stream": "stdout",
       "text": [
        " ('power', 'active')\n",
        "Calculating energy for column ('power', 'active')\n",
        "Calculating energy for column"
       ]
      },
      {
       "output_type": "stream",
       "stream": "stdout",
       "text": [
        " ('power', 'active')\n",
        "Calculating energy for column"
       ]
      },
      {
       "output_type": "stream",
       "stream": "stdout",
       "text": [
        " ('power', 'active')\n",
        "Calculating energy for column ('power', 'active')\n",
        "Calculating energy for column"
       ]
      },
      {
       "output_type": "stream",
       "stream": "stdout",
       "text": [
        " ('power', 'active')\n",
        "Calculating energy for column ('power', 'active')\n",
        "Calculating energy for column ('power', 'active')\n",
        "Calculating energy for column"
       ]
      },
      {
       "output_type": "stream",
       "stream": "stdout",
       "text": [
        " ('power', 'active')\n",
        "Calculating energy for column"
       ]
      },
      {
       "output_type": "stream",
       "stream": "stdout",
       "text": [
        " ('power', 'active')\n",
        "Calculating energy for column ('power', 'active')\n",
        "Calculating energy for column ('power', 'active')\n",
        "Calculating energy for column"
       ]
      },
      {
       "output_type": "stream",
       "stream": "stdout",
       "text": [
        " ('power', 'active')\n",
        "Calculating energy for column ('power', 'active')\n",
        "Calculating energy for column"
       ]
      },
      {
       "output_type": "stream",
       "stream": "stdout",
       "text": [
        " ('power', 'active')\n",
        "Calculating energy for column ('power', 'active')\n",
        "Calculating energy for column ('power', 'active')\n",
        "Calculating energy for column"
       ]
      },
      {
       "output_type": "stream",
       "stream": "stdout",
       "text": [
        " ('power', 'active')\n",
        "Calculating energy for column ('power', 'active')\n",
        "Calculating energy for column"
       ]
      },
      {
       "output_type": "stream",
       "stream": "stdout",
       "text": [
        " ('power', 'active')\n",
        "Calculating energy for column ('power', 'active')\n",
        "Calculating energy for column"
       ]
      },
      {
       "output_type": "stream",
       "stream": "stdout",
       "text": [
        " ('power', 'active')\n",
        "Calculating energy for column ('power', 'active')\n",
        "Calculating energy for column ('power', 'active')\n",
        "Calculating energy for column"
       ]
      },
      {
       "output_type": "stream",
       "stream": "stdout",
       "text": [
        " ('power', 'active')\n",
        "Calculating energy for column ('power', 'active')\n",
        "Calculating energy for column"
       ]
      },
      {
       "output_type": "stream",
       "stream": "stdout",
       "text": [
        " ('power', 'active')\n",
        "Calculating energy for column ('power', 'active')\n",
        "Calculating energy for column"
       ]
      },
      {
       "output_type": "stream",
       "stream": "stdout",
       "text": [
        " ('power', 'active')\n",
        "Calculating energy for column ('power', 'active')\n",
        "Calculating energy for column ('power', 'active')\n",
        "Calculating energy for column"
       ]
      },
      {
       "output_type": "stream",
       "stream": "stdout",
       "text": [
        " ('power', 'active')\n",
        "Calculating energy for column ('power', 'active')\n",
        "Calculating energy for column"
       ]
      },
      {
       "output_type": "stream",
       "stream": "stdout",
       "text": [
        " ('power', 'active')\n",
        "Calculating energy for column ('power', 'active')\n",
        "Calculating energy for column ('power', 'active')\n",
        "Calculating energy for column"
       ]
      },
      {
       "output_type": "stream",
       "stream": "stdout",
       "text": [
        " ('power', 'active')\n",
        "Calculating energy for column ('power', 'active')\n",
        "Calculating energy for column"
       ]
      },
      {
       "output_type": "stream",
       "stream": "stdout",
       "text": [
        " ('power', 'active')\n",
        "Calculating energy for column ('power', 'active')\n",
        "Calculating energy for column"
       ]
      },
      {
       "output_type": "stream",
       "stream": "stdout",
       "text": [
        " ('power', 'active')\n",
        "Calculating energy for column ('power', 'active')\n",
        "Calculating energy for column ('power', 'active')\n",
        "Calculating energy for column"
       ]
      },
      {
       "output_type": "stream",
       "stream": "stdout",
       "text": [
        " ('power', 'active')\n",
        "Calculating energy for column ('power', 'active')\n",
        "Calculating energy for column"
       ]
      },
      {
       "output_type": "stream",
       "stream": "stdout",
       "text": [
        " ('power', 'active')\n",
        "Calculating energy for column ('power', 'active')\n",
        "Calculating energy for column"
       ]
      },
      {
       "output_type": "stream",
       "stream": "stdout",
       "text": [
        " ('power', 'active')\n",
        "Calculating energy for column ('power', 'active')\n",
        "Calculating energy for column"
       ]
      },
      {
       "output_type": "stream",
       "stream": "stdout",
       "text": [
        " ('power', 'active')\n",
        "Calculating energy for column ('power', 'active')\n",
        "Calculating energy for column"
       ]
      },
      {
       "output_type": "stream",
       "stream": "stdout",
       "text": [
        " ('power', 'active')\n",
        "Calculating energy for column ('power', 'active')\n",
        "Calculating energy for column"
       ]
      },
      {
       "output_type": "stream",
       "stream": "stdout",
       "text": [
        " ('power', 'active')\n",
        "Calculating energy for column ('power', 'active')\n",
        "Calculating energy for column"
       ]
      },
      {
       "output_type": "stream",
       "stream": "stdout",
       "text": [
        " ('power', 'active')\n",
        "Calculating energy for column ('power', 'active')\n",
        "Calculating energy for column"
       ]
      },
      {
       "output_type": "stream",
       "stream": "stdout",
       "text": [
        " ('power', 'active')\n",
        "Calculating energy for column ('power', 'active')\n",
        "Calculating energy for column"
       ]
      },
      {
       "output_type": "stream",
       "stream": "stdout",
       "text": [
        " ('power', 'active')\n",
        "Calculating energy for column ('power', 'active')\n",
        "Calculating energy for column"
       ]
      },
      {
       "output_type": "stream",
       "stream": "stdout",
       "text": [
        " ('power', 'active')\n",
        "Calculating energy for column ('power', 'active')\n",
        "Calculating energy for column"
       ]
      },
      {
       "output_type": "stream",
       "stream": "stdout",
       "text": [
        " ('power', 'active')\n",
        "Calculating energy for column ('power', 'active')\n",
        "Calculating energy for column"
       ]
      },
      {
       "output_type": "stream",
       "stream": "stdout",
       "text": [
        " ('power', 'active')\n",
        "Calculating energy for column ('power', 'active')\n",
        "Calculating energy for column"
       ]
      },
      {
       "output_type": "stream",
       "stream": "stdout",
       "text": [
        " ('power', 'active')\n",
        "Calculating energy for column ('power', 'active')\n",
        "Calculating energy for column"
       ]
      },
      {
       "output_type": "stream",
       "stream": "stdout",
       "text": [
        " ('power', 'active')\n",
        "Calculating energy for column ('power', 'active')\n",
        "Calculating energy for column"
       ]
      },
      {
       "output_type": "stream",
       "stream": "stdout",
       "text": [
        " ('power', 'active')\n",
        "Calculating energy for column ('power', 'active')\n",
        "Calculating energy for column"
       ]
      },
      {
       "output_type": "stream",
       "stream": "stdout",
       "text": [
        " ('power', 'active')\n",
        "Calculating energy for column ('power', 'active')\n",
        "Calculating energy for column"
       ]
      },
      {
       "output_type": "stream",
       "stream": "stdout",
       "text": [
        " ('power', 'active')\n",
        "Calculating energy for column ('power', 'active')\n",
        "Calculating energy for column"
       ]
      },
      {
       "output_type": "stream",
       "stream": "stdout",
       "text": [
        " ('power', 'active')\n",
        "Calculating energy for column ('power', 'active')\n",
        "Calculating energy for column"
       ]
      },
      {
       "output_type": "stream",
       "stream": "stdout",
       "text": [
        " ('power', 'active')\n",
        "Calculating energy for column ('power', 'active')\n",
        "Calculating energy for column"
       ]
      },
      {
       "output_type": "stream",
       "stream": "stdout",
       "text": [
        " ('power', 'active')\n",
        "Calculating energy for column ('power', 'active')\n",
        "Calculating energy for column"
       ]
      },
      {
       "output_type": "stream",
       "stream": "stdout",
       "text": [
        " ('power', 'active')\n",
        "Calculating energy for column ('power', 'active')\n",
        "Calculating energy for column"
       ]
      },
      {
       "output_type": "stream",
       "stream": "stdout",
       "text": [
        " ('power', 'active')\n",
        "Calculating energy for column ('power', 'active')\n",
        "Calculating energy for column"
       ]
      },
      {
       "output_type": "stream",
       "stream": "stdout",
       "text": [
        " ('power', 'active')\n",
        "Calculating energy for column"
       ]
      },
      {
       "output_type": "stream",
       "stream": "stdout",
       "text": [
        " ('power', 'active')\n",
        "Calculating energy for column"
       ]
      },
      {
       "output_type": "stream",
       "stream": "stdout",
       "text": [
        " ('power', 'active')\n",
        "Calculating energy for column ('power', 'active')\n",
        "Calculating energy for column"
       ]
      },
      {
       "output_type": "stream",
       "stream": "stdout",
       "text": [
        " ('power', 'active')\n",
        "Calculating energy for column ('power', 'active')\n",
        "Calculating energy for column"
       ]
      },
      {
       "output_type": "stream",
       "stream": "stdout",
       "text": [
        " ('power', 'active')\n",
        "Calculating energy for column ('power', 'active')\n",
        "Calculating energy for column"
       ]
      },
      {
       "output_type": "stream",
       "stream": "stdout",
       "text": [
        " ('power', 'active')\n",
        "Calculating energy for column ('power', 'active')\n",
        "Calculating energy for column"
       ]
      },
      {
       "output_type": "stream",
       "stream": "stdout",
       "text": [
        " ('power', 'active')\n",
        "Calculating energy for column"
       ]
      },
      {
       "output_type": "stream",
       "stream": "stdout",
       "text": [
        " ('power', 'active')\n",
        "Calculating energy for column"
       ]
      },
      {
       "output_type": "stream",
       "stream": "stdout",
       "text": [
        " ('power', 'active')\n",
        "Calculating energy for column ('power', 'active')\n",
        "Calculating energy for column"
       ]
      },
      {
       "output_type": "stream",
       "stream": "stdout",
       "text": [
        " ('power', 'active')\n",
        "Calculating energy for column ('power', 'active')\n",
        "Calculating energy for column"
       ]
      },
      {
       "output_type": "stream",
       "stream": "stdout",
       "text": [
        " ('power', 'active')\n",
        "Calculating energy for column ('power', 'active')\n",
        "Calculating energy for column"
       ]
      },
      {
       "output_type": "stream",
       "stream": "stdout",
       "text": [
        " ('power', 'active')\n",
        "Calculating energy for column ('power', 'active')\n",
        "Calculating energy for column"
       ]
      },
      {
       "output_type": "stream",
       "stream": "stdout",
       "text": [
        " ('power', 'active')\n",
        "Calculating energy for column ('power', 'active')\n",
        "Calculating energy for column"
       ]
      },
      {
       "output_type": "stream",
       "stream": "stdout",
       "text": [
        " ('power', 'active')\n",
        "Calculating energy for column ('power', 'active')\n",
        "Calculating energy for column"
       ]
      },
      {
       "output_type": "stream",
       "stream": "stdout",
       "text": [
        " ('power', 'active')\n",
        "Calculating energy for column ('power', 'active')\n",
        "Calculating energy for column"
       ]
      },
      {
       "output_type": "stream",
       "stream": "stdout",
       "text": [
        " ('power', 'active')\n",
        "Calculating energy for column ('power', 'active')\n",
        "Calculating energy for column"
       ]
      },
      {
       "output_type": "stream",
       "stream": "stdout",
       "text": [
        " ('power', 'active')\n",
        "Calculating energy for column ('power', 'active')\n",
        "Calculating energy for column"
       ]
      },
      {
       "output_type": "stream",
       "stream": "stdout",
       "text": [
        " ('power', 'active')\n",
        "Calculating energy for column ('power', 'active')\n",
        "Calculating energy for column"
       ]
      },
      {
       "output_type": "stream",
       "stream": "stdout",
       "text": [
        " ('power', 'active')\n",
        "Calculating energy for column ('power', 'active')\n",
        "Calculating energy for column"
       ]
      },
      {
       "output_type": "stream",
       "stream": "stdout",
       "text": [
        " ('power', 'active')\n",
        "Calculating energy for column ('power', 'active')\n",
        "Calculating energy for column"
       ]
      },
      {
       "output_type": "stream",
       "stream": "stdout",
       "text": [
        " ('power', 'active')\n",
        "Calculating energy for column ('power', 'active')\n",
        "Calculating energy for column"
       ]
      },
      {
       "output_type": "stream",
       "stream": "stdout",
       "text": [
        " ('power', 'active')\n",
        "Calculating energy for column ('power', 'active')\n",
        "Calculating energy for column ('power', 'active')\n",
        "Calculating energy for column"
       ]
      },
      {
       "output_type": "stream",
       "stream": "stdout",
       "text": [
        " ('power', 'active')\n",
        "Calculating energy for column ('power', 'active')\n",
        "Calculating energy for column ('power', 'active')\n",
        "Calculating energy for column"
       ]
      },
      {
       "output_type": "stream",
       "stream": "stdout",
       "text": [
        " ('power', 'active')\n",
        "Calculating energy for column ('power', 'active')\n",
        "Calculating energy for column"
       ]
      },
      {
       "output_type": "stream",
       "stream": "stdout",
       "text": [
        " ('power', 'active')\n",
        "Calculating energy for column ('power', 'active')\n",
        "Calculating energy for column ('power', 'active')\n",
        "Calculating energy for column ('power', 'active')\n",
        "Calculating energy for column ('power', 'active')\n",
        "Calculating energy for column"
       ]
      },
      {
       "output_type": "stream",
       "stream": "stdout",
       "text": [
        " ('power', 'active')\n",
        "Calculating energy for column ('power', 'active')\n",
        "Calculating energy for column ('power', 'active')\n",
        "Calculating energy for column"
       ]
      },
      {
       "output_type": "stream",
       "stream": "stdout",
       "text": [
        " ('power', 'active')\n",
        "Calculating energy for column ('power', 'active')\n",
        "Calculating energy for column ('power', 'active')\n",
        "Calculating energy for column ('power', 'active')\n",
        "Calculating energy for column"
       ]
      },
      {
       "output_type": "stream",
       "stream": "stdout",
       "text": [
        " ('power', 'active')\n",
        "Calculating energy for column ('power', 'active')\n",
        "Calculating energy for column ('power', 'active')\n",
        "Calculating energy for column ('power', 'active')\n",
        "Calculating energy for column"
       ]
      },
      {
       "output_type": "stream",
       "stream": "stdout",
       "text": [
        " ('power', 'active')\n",
        "Calculating energy for column ('power', 'active')\n",
        "Calculating energy for column ('power', 'active')\n",
        "Calculating energy for column ('power', 'active')\n",
        "Calculating energy for column"
       ]
      },
      {
       "output_type": "stream",
       "stream": "stdout",
       "text": [
        " ('power', 'active')\n",
        "Calculating energy for column ('power', 'active')\n",
        "Calculating energy for column ('power', 'active')\n",
        "Calculating energy for column ('power', 'active')\n",
        "Calculating energy for column"
       ]
      },
      {
       "output_type": "stream",
       "stream": "stdout",
       "text": [
        " ('power', 'active')\n",
        "Calculating energy for column ('power', 'active')\n",
        "Calculating energy for column ('power', 'active')\n",
        "Calculating energy for column"
       ]
      },
      {
       "output_type": "stream",
       "stream": "stdout",
       "text": [
        " ('power', 'active')\n",
        "Calculating energy for column ('power', 'active')\n",
        "Calculating energy for column ('power', 'active')\n",
        "Calculating energy for column ('power', 'active')\n",
        "Calculating energy for column"
       ]
      },
      {
       "output_type": "stream",
       "stream": "stdout",
       "text": [
        " ('power', 'active')\n",
        "Calculating energy for column ('power', 'active')\n",
        "Calculating energy for column ('power', 'active')\n",
        "Calculating energy for column ('power', 'active')\n",
        "Calculating energy for column"
       ]
      },
      {
       "output_type": "stream",
       "stream": "stdout",
       "text": [
        " ('power', 'active')\n",
        "Calculating energy for column ('power', 'active')\n",
        "Calculating energy for column ('power', 'active')\n",
        "Calculating energy for column"
       ]
      },
      {
       "output_type": "stream",
       "stream": "stdout",
       "text": [
        " ('power', 'active')\n",
        "Calculating energy for column ('power', 'active')\n",
        "Calculating energy for column"
       ]
      },
      {
       "output_type": "stream",
       "stream": "stdout",
       "text": [
        " ('power', 'active')\n",
        "Calculating energy for column ('power', 'active')\n",
        "Calculating energy for column ('power', 'active')\n",
        "Calculating energy for column ('power', 'active')\n",
        "Calculating energy for column"
       ]
      },
      {
       "output_type": "stream",
       "stream": "stdout",
       "text": [
        " ('power', 'active')\n",
        "Calculating energy for column ('power', 'active')\n",
        "Calculating energy for column ('power', 'active')\n",
        "Calculating energy for column ('power', 'active')\n",
        "Calculating energy for column"
       ]
      },
      {
       "output_type": "stream",
       "stream": "stdout",
       "text": [
        " ('power', 'active')\n",
        "Calculating energy for column ('power', 'active')\n",
        "Calculating energy for column ('power', 'active')\n",
        "Calculating energy for column"
       ]
      },
      {
       "output_type": "stream",
       "stream": "stdout",
       "text": [
        " ('power', 'active')\n",
        "Calculating energy for column ('power', 'active')\n",
        "Calculating energy for column ('power', 'active')\n",
        "Calculating energy for column"
       ]
      },
      {
       "output_type": "stream",
       "stream": "stdout",
       "text": [
        " ('power', 'active')\n",
        "Calculating energy for column ('power', 'active')\n",
        "Calculating energy for column ('power', 'active')\n",
        "Calculating energy for column ('power', 'active')\n",
        "Calculating energy for column"
       ]
      },
      {
       "output_type": "stream",
       "stream": "stdout",
       "text": [
        " ('power', 'active')\n",
        "Calculating energy for column ('power', 'active')\n",
        "Calculating energy for column ('power', 'active')\n",
        "Calculating energy for column"
       ]
      },
      {
       "output_type": "stream",
       "stream": "stdout",
       "text": [
        " ('power', 'active')\n",
        "Calculating energy for column ('power', 'active')\n",
        "Calculating energy for column"
       ]
      },
      {
       "output_type": "stream",
       "stream": "stdout",
       "text": [
        " ('power', 'active')\n",
        "Calculating energy for column ('power', 'active')\n",
        "Calculating energy for column ('power', 'active')\n",
        "Calculating energy for column"
       ]
      },
      {
       "output_type": "stream",
       "stream": "stdout",
       "text": [
        " ('power', 'active')\n",
        "Calculating energy for column ('power', 'active')\n",
        "Calculating energy for column"
       ]
      },
      {
       "output_type": "stream",
       "stream": "stdout",
       "text": [
        " ('power', 'active')\n",
        "Calculating energy for column ('power', 'active')\n",
        "Calculating energy for column ('power', 'active')\n",
        "Calculating energy for column"
       ]
      },
      {
       "output_type": "stream",
       "stream": "stdout",
       "text": [
        " ('power', 'active')\n",
        "Calculating energy for column ('power', 'active')\n",
        "Calculating energy for column ('power', 'active')\n",
        "Calculating energy for column"
       ]
      },
      {
       "output_type": "stream",
       "stream": "stdout",
       "text": [
        " ('power', 'active')\n",
        "Calculating energy for column ('power', 'active')\n",
        "Calculating energy for column ('power', 'active')\n",
        "Calculating energy for column"
       ]
      },
      {
       "output_type": "stream",
       "stream": "stdout",
       "text": [
        " ('power', 'active')\n",
        "Calculating energy for column ('power', 'active')\n",
        "Calculating energy for column"
       ]
      },
      {
       "output_type": "stream",
       "stream": "stdout",
       "text": [
        " ('power', 'active')\n",
        "Calculating energy for column ('power', 'active')\n",
        "Calculating energy for column ('power', 'active')\n",
        "Calculating energy for column"
       ]
      },
      {
       "output_type": "stream",
       "stream": "stdout",
       "text": [
        " ('power', 'active')\n",
        "Calculating energy for column ('power', 'active')\n",
        "Calculating energy for column ('power', 'active')\n",
        "Calculating energy for column"
       ]
      },
      {
       "output_type": "stream",
       "stream": "stdout",
       "text": [
        " ('power', 'active')\n",
        "Calculating energy for column ('power', 'active')\n",
        "Calculating energy for column ('power', 'active')\n",
        "Calculating energy for column"
       ]
      },
      {
       "output_type": "stream",
       "stream": "stdout",
       "text": [
        " ('power', 'active')\n",
        "Calculating energy for column ('power', 'active')\n",
        "Calculating energy for column"
       ]
      },
      {
       "output_type": "stream",
       "stream": "stdout",
       "text": [
        " ('power', 'active')\n",
        "Calculating energy for column ('power', 'active')\n",
        "Calculating energy for column"
       ]
      },
      {
       "output_type": "stream",
       "stream": "stdout",
       "text": [
        " ('power', 'active')\n",
        "Calculating energy for column ('power', 'active')\n",
        "Calculating energy for column"
       ]
      },
      {
       "output_type": "stream",
       "stream": "stdout",
       "text": [
        " ('power', 'active')\n",
        "Calculating energy for column ('power', 'active')\n",
        "Calculating energy for column ('power', 'active')\n",
        "Calculating energy for column"
       ]
      },
      {
       "output_type": "stream",
       "stream": "stdout",
       "text": [
        " ('power', 'active')\n",
        "Calculating energy for column ('power', 'active')\n",
        "Calculating energy for column"
       ]
      },
      {
       "output_type": "stream",
       "stream": "stdout",
       "text": [
        " ('power', 'active')\n",
        "Calculating energy for column ('power', 'active')\n",
        "Calculating energy for column"
       ]
      },
      {
       "output_type": "stream",
       "stream": "stdout",
       "text": [
        " ('power', 'active')\n",
        "Calculating energy for column ('power', 'active')\n",
        "Calculating energy for column ('power', 'active')\n",
        "Calculating energy for column"
       ]
      },
      {
       "output_type": "stream",
       "stream": "stdout",
       "text": [
        " ('power', 'active')\n",
        "Calculating energy for column ('power', 'active')\n",
        "Calculating energy for column ('power', 'active')\n",
        "Calculating energy for column"
       ]
      },
      {
       "output_type": "stream",
       "stream": "stdout",
       "text": [
        " ('power', 'active')\n",
        "Calculating energy for column ('power', 'active')\n",
        "Calculating energy for column ('power', 'active')\n",
        "Calculating energy for column"
       ]
      },
      {
       "output_type": "stream",
       "stream": "stdout",
       "text": [
        " ('power', 'active')\n",
        "Calculating energy for column ('power', 'active')\n",
        "Calculating energy for column ('power', 'active')\n",
        "Calculating energy for column"
       ]
      },
      {
       "output_type": "stream",
       "stream": "stdout",
       "text": [
        " ('power', 'active')\n",
        "Calculating energy for column ('power', 'active')\n",
        "Calculating energy for column"
       ]
      },
      {
       "output_type": "stream",
       "stream": "stdout",
       "text": [
        " ('power', 'active')\n",
        "Calculating energy for column ('power', 'active')\n",
        "Calculating energy for column"
       ]
      },
      {
       "output_type": "stream",
       "stream": "stdout",
       "text": [
        " ('power', 'active')\n",
        "Calculating energy for column ('power', 'active')\n",
        "Calculating energy for column ('power', 'active')\n",
        "Calculating energy for column"
       ]
      },
      {
       "output_type": "stream",
       "stream": "stdout",
       "text": [
        " ('power', 'active')\n",
        "Calculating energy for column ('power', 'active')\n",
        "Calculating energy for column ('power', 'active')\n",
        "Calculating energy for column"
       ]
      },
      {
       "output_type": "stream",
       "stream": "stdout",
       "text": [
        " ('power', 'active')\n",
        "Calculating energy for column ('power', 'active')\n",
        "Calculating energy for column"
       ]
      },
      {
       "output_type": "stream",
       "stream": "stdout",
       "text": [
        " ('power', 'active')\n",
        "Calculating energy for column ('power', 'active')\n",
        "Calculating energy for column ('power', 'active')\n",
        "Calculating energy for column"
       ]
      },
      {
       "output_type": "stream",
       "stream": "stdout",
       "text": [
        " ('power', 'active')\n",
        "Calculating energy for column ('power', 'active')\n",
        "Calculating energy for column ('power', 'active')\n",
        "Calculating energy for column"
       ]
      },
      {
       "output_type": "stream",
       "stream": "stdout",
       "text": [
        " ('power', 'active')\n",
        "Calculating energy for column ('power', 'active')\n",
        "Calculating energy for column"
       ]
      },
      {
       "output_type": "stream",
       "stream": "stdout",
       "text": [
        " ('power', 'active')\n",
        "Calculating energy for column ('power', 'active')\n",
        "Calculating energy for column ('power', 'active')\n",
        "Calculating energy for column"
       ]
      },
      {
       "output_type": "stream",
       "stream": "stdout",
       "text": [
        " ('power', 'active')\n",
        "Calculating energy for column ('power', 'active')\n",
        "Calculating energy for column"
       ]
      },
      {
       "output_type": "stream",
       "stream": "stdout",
       "text": [
        " ('power', 'active')\n",
        "Calculating energy for column ('power', 'active')\n",
        "Calculating energy for column"
       ]
      },
      {
       "output_type": "stream",
       "stream": "stdout",
       "text": [
        " ('power', 'active')\n",
        "Calculating energy for column ('power', 'active')\n",
        "Calculating energy for column"
       ]
      },
      {
       "output_type": "stream",
       "stream": "stdout",
       "text": [
        " ('power', 'active')\n",
        "Calculating energy for column ('power', 'active')\n",
        "Calculating energy for column"
       ]
      },
      {
       "output_type": "stream",
       "stream": "stdout",
       "text": [
        " ('power', 'active')\n",
        "Calculating energy for column ('power', 'active')\n",
        "Calculating energy for column"
       ]
      },
      {
       "output_type": "stream",
       "stream": "stdout",
       "text": [
        " ('power', 'active')\n",
        "Calculating energy for column ('power', 'active')\n",
        "Calculating energy for column"
       ]
      },
      {
       "output_type": "stream",
       "stream": "stdout",
       "text": [
        " ('power', 'active')\n",
        "Calculating energy for column ('power', 'active')\n",
        "Calculating energy for column"
       ]
      },
      {
       "output_type": "stream",
       "stream": "stdout",
       "text": [
        " ('power', 'active')\n",
        "Calculating energy for column ('power', 'active')\n",
        "Calculating energy for column"
       ]
      },
      {
       "output_type": "stream",
       "stream": "stdout",
       "text": [
        " ('power', 'active')\n",
        "Calculating energy for column ('power', 'active')\n",
        "Calculating energy for column"
       ]
      },
      {
       "output_type": "stream",
       "stream": "stdout",
       "text": [
        " ('power', 'active')\n",
        "Calculating energy for column ('power', 'active')\n",
        "Calculating energy for column"
       ]
      },
      {
       "output_type": "stream",
       "stream": "stdout",
       "text": [
        " ('power', 'active')\n",
        "Calculating energy for column ('power', 'active')\n",
        "Calculating energy for column"
       ]
      },
      {
       "output_type": "stream",
       "stream": "stdout",
       "text": [
        " ('power', 'active')\n",
        "Calculating energy for column ('power', 'active')\n",
        "Calculating energy for column"
       ]
      },
      {
       "output_type": "stream",
       "stream": "stdout",
       "text": [
        " ('power', 'active')\n",
        "Calculating energy for column"
       ]
      },
      {
       "output_type": "stream",
       "stream": "stdout",
       "text": [
        " ('power', 'active')\n",
        "Calculating energy for column ('power', 'active')\n",
        "Calculating energy for column"
       ]
      },
      {
       "output_type": "stream",
       "stream": "stdout",
       "text": [
        " ('power', 'active')\n",
        "Calculating energy for column ('power', 'active')\n",
        "Calculating energy for column"
       ]
      },
      {
       "output_type": "stream",
       "stream": "stdout",
       "text": [
        " ('power', 'active')\n",
        "Calculating energy for column ('power', 'active')\n",
        "Calculating energy for column"
       ]
      },
      {
       "output_type": "stream",
       "stream": "stdout",
       "text": [
        " ('power', 'active')\n",
        "Calculating energy for column ('power', 'active')\n",
        "Calculating energy for column"
       ]
      },
      {
       "output_type": "stream",
       "stream": "stdout",
       "text": [
        " ('power', 'active')\n",
        "Calculating energy for column ('power', 'active')\n",
        "Calculating energy for column"
       ]
      },
      {
       "output_type": "stream",
       "stream": "stdout",
       "text": [
        " ('power', 'active')\n",
        "Calculating energy for column ('power', 'active')\n",
        "Calculating energy for column"
       ]
      },
      {
       "output_type": "stream",
       "stream": "stdout",
       "text": [
        " ('power', 'active')\n",
        "Calculating energy for column ('power', 'active')\n",
        "Calculating energy for column"
       ]
      },
      {
       "output_type": "stream",
       "stream": "stdout",
       "text": [
        " ('power', 'active')\n",
        "Calculating energy for column ('power', 'active')\n",
        "Calculating energy for column"
       ]
      },
      {
       "output_type": "stream",
       "stream": "stdout",
       "text": [
        " ('power', 'active')\n",
        "Calculating energy for column ('power', 'active')\n",
        "Calculating energy for column"
       ]
      },
      {
       "output_type": "stream",
       "stream": "stdout",
       "text": [
        " ('power', 'active')\n",
        "Calculating energy for column ('power', 'active')\n",
        "Calculating energy for column"
       ]
      },
      {
       "output_type": "stream",
       "stream": "stdout",
       "text": [
        " ('power', 'active')\n",
        "Calculating energy for column ('power', 'active')\n",
        "Calculating energy for column"
       ]
      },
      {
       "output_type": "stream",
       "stream": "stdout",
       "text": [
        " ('power', 'active')\n",
        "Calculating energy for column ('power', 'active')\n",
        "Calculating energy for column"
       ]
      },
      {
       "output_type": "stream",
       "stream": "stdout",
       "text": [
        " ('power', 'active')\n",
        "Calculating energy for column ('power', 'active')\n",
        "Calculating energy for column"
       ]
      },
      {
       "output_type": "stream",
       "stream": "stdout",
       "text": [
        " ('power', 'active')\n",
        "Calculating energy for column ('power', 'active')\n",
        "Calculating energy for column"
       ]
      },
      {
       "output_type": "stream",
       "stream": "stdout",
       "text": [
        " ('power', 'active')\n",
        "Calculating energy for column ('power', 'active')\n",
        "Calculating energy for column"
       ]
      },
      {
       "output_type": "stream",
       "stream": "stdout",
       "text": [
        " ('power', 'active')\n",
        "Calculating energy for column ('power', 'active')\n",
        "Calculating energy for column"
       ]
      },
      {
       "output_type": "stream",
       "stream": "stdout",
       "text": [
        " ('power', 'active')\n",
        "Calculating energy for column ('power', 'active')\n",
        "Calculating energy for column"
       ]
      },
      {
       "output_type": "stream",
       "stream": "stdout",
       "text": [
        " ('power', 'active')\n",
        "Calculating energy for column ('power', 'active')\n",
        "Calculating energy for column"
       ]
      },
      {
       "output_type": "stream",
       "stream": "stdout",
       "text": [
        " ('power', 'active')\n",
        "Calculating energy for column ('power', 'active')\n",
        "Calculating energy for column"
       ]
      },
      {
       "output_type": "stream",
       "stream": "stdout",
       "text": [
        " ('power', 'active')\n",
        "Calculating energy for column ('power', 'active')\n",
        "Calculating energy for column"
       ]
      },
      {
       "output_type": "stream",
       "stream": "stdout",
       "text": [
        " ('power', 'active')\n",
        "Calculating energy for column ('power', 'active')\n",
        "Calculating energy for column"
       ]
      },
      {
       "output_type": "stream",
       "stream": "stdout",
       "text": [
        " ('power', 'active')\n",
        "Calculating energy for column ('power', 'active')\n",
        "Calculating energy for column"
       ]
      },
      {
       "output_type": "stream",
       "stream": "stdout",
       "text": [
        " ('power', 'active')\n",
        "Calculating energy for column ('power', 'active')\n",
        "Calculating energy for column"
       ]
      },
      {
       "output_type": "stream",
       "stream": "stdout",
       "text": [
        " ('power', 'active')\n",
        "Calculating energy for column ('power', 'active')\n",
        "Calculating energy for column"
       ]
      },
      {
       "output_type": "stream",
       "stream": "stdout",
       "text": [
        " ('power', 'active')\n",
        "Calculating energy for column ('power', 'active')\n",
        "Calculating energy for column"
       ]
      },
      {
       "output_type": "stream",
       "stream": "stdout",
       "text": [
        " ('power', 'active')\n",
        "Calculating energy for column ('power', 'active')\n",
        "Calculating energy for column ('power', 'active')\n",
        "Calculating energy for column"
       ]
      },
      {
       "output_type": "stream",
       "stream": "stdout",
       "text": [
        " ('power', 'active')\n",
        "Calculating energy for column ('power', 'active')\n",
        "Calculating energy for column ('power', 'active')\n",
        "Calculating energy for column ('power', 'active')\n",
        "Calculating energy for column"
       ]
      },
      {
       "output_type": "stream",
       "stream": "stdout",
       "text": [
        " ('power', 'active')\n",
        "Calculating energy for column ('power', 'active')\n",
        "Calculating energy for column ('power', 'active')\n",
        "Calculating energy for column ('power', 'active')\n",
        "Calculating energy for column"
       ]
      },
      {
       "output_type": "stream",
       "stream": "stdout",
       "text": [
        " ('power', 'active')\n",
        "Calculating energy for column ('power', 'active')\n",
        "Calculating energy for column ('power', 'active')\n",
        "Calculating energy for column ('power', 'active')\n",
        "Calculating energy for column"
       ]
      },
      {
       "output_type": "stream",
       "stream": "stdout",
       "text": [
        " ('power', 'active')\n",
        "Calculating energy for column ('power', 'active')\n",
        "Calculating energy for column ('power', 'active')\n",
        "Calculating energy for column"
       ]
      },
      {
       "output_type": "stream",
       "stream": "stdout",
       "text": [
        " ('power', 'active')\n",
        "Calculating energy for column ('power', 'active')\n",
        "Calculating energy for column ('power', 'active')\n",
        "Calculating energy for column ('power', 'active')\n",
        "Calculating energy for column"
       ]
      },
      {
       "output_type": "stream",
       "stream": "stdout",
       "text": [
        " ('power', 'active')\n",
        "Calculating energy for column ('power', 'active')\n",
        "Calculating energy for column ('power', 'active')\n",
        "Calculating energy for column ('power', 'active')\n",
        "Calculating energy for column"
       ]
      },
      {
       "output_type": "stream",
       "stream": "stdout",
       "text": [
        " ('power', 'active')\n",
        "Calculating energy for column ('power', 'active')\n",
        "Calculating energy for column"
       ]
      },
      {
       "output_type": "stream",
       "stream": "stdout",
       "text": [
        " ('power', 'active')\n",
        "Calculating energy for column ('power', 'active')\n",
        "Calculating energy for column ('power', 'active')\n",
        "Calculating energy for column ('power', 'active')\n",
        "Calculating energy for column"
       ]
      },
      {
       "output_type": "stream",
       "stream": "stdout",
       "text": [
        " ('power', 'active')\n",
        "Calculating energy for column ('power', 'active')\n",
        "Calculating energy for column ('power', 'active')\n",
        "Calculating energy for column ('power', 'active')\n",
        "Calculating energy for column"
       ]
      },
      {
       "output_type": "stream",
       "stream": "stdout",
       "text": [
        " ('power', 'active')\n",
        "Calculating energy for column ('power', 'active')\n",
        "Calculating energy for column ('power', 'active')\n",
        "Calculating energy for column ('power', 'active')\n",
        "Calculating energy for column"
       ]
      },
      {
       "output_type": "stream",
       "stream": "stdout",
       "text": [
        " ('power', 'active')\n",
        "Calculating energy for column ('power', 'active')\n",
        "Calculating energy for column ('power', 'active')\n",
        "Calculating energy for column"
       ]
      },
      {
       "output_type": "stream",
       "stream": "stdout",
       "text": [
        " ('power', 'active')\n",
        "Calculating energy for column ('power', 'active')\n",
        "Calculating energy for column ('power', 'active')\n",
        "Calculating energy for column"
       ]
      },
      {
       "output_type": "stream",
       "stream": "stdout",
       "text": [
        " ('power', 'active')\n",
        "Calculating energy for column ('power', 'active')\n",
        "Calculating energy for column ('power', 'active')\n",
        "Calculating energy for column"
       ]
      },
      {
       "output_type": "stream",
       "stream": "stdout",
       "text": [
        " ('power', 'active')\n",
        "Calculating energy for column ('power', 'active')\n",
        "Calculating energy for column ('power', 'active')\n",
        "Calculating energy for column"
       ]
      },
      {
       "output_type": "stream",
       "stream": "stdout",
       "text": [
        " ('power', 'active')\n",
        "Calculating energy for column ('power', 'active')\n",
        "Calculating energy for column"
       ]
      },
      {
       "output_type": "stream",
       "stream": "stdout",
       "text": [
        " ('power', 'active')\n",
        "Calculating energy for column ('power', 'active')\n",
        "Calculating energy for column ('power', 'active')\n",
        "Calculating energy for column"
       ]
      },
      {
       "output_type": "stream",
       "stream": "stdout",
       "text": [
        " ('power', 'active')\n",
        "Calculating energy for column ('power', 'active')\n",
        "Calculating energy for column ('power', 'active')\n",
        "Calculating energy for column"
       ]
      },
      {
       "output_type": "stream",
       "stream": "stdout",
       "text": [
        " ('power', 'active')\n",
        "Calculating energy for column ('power', 'active')\n",
        "Calculating energy for column ('power', 'active')\n",
        "Calculating energy for column"
       ]
      },
      {
       "output_type": "stream",
       "stream": "stdout",
       "text": [
        " ('power', 'active')\n",
        "Calculating energy for column ('power', 'active')\n",
        "Calculating energy for column ('power', 'active')\n",
        "Calculating energy for column"
       ]
      },
      {
       "output_type": "stream",
       "stream": "stdout",
       "text": [
        " ('power', 'active')\n",
        "Calculating energy for column ('power', 'active')\n",
        "Calculating energy for column ('power', 'active')\n",
        "Calculating energy for column"
       ]
      },
      {
       "output_type": "stream",
       "stream": "stdout",
       "text": [
        " ('power', 'active')\n",
        "Calculating energy for column ('power', 'active')\n",
        "Calculating energy for column ('power', 'active')\n",
        "Calculating energy for column"
       ]
      },
      {
       "output_type": "stream",
       "stream": "stdout",
       "text": [
        " ('power', 'active')\n",
        "Calculating energy for column ('power', 'active')\n",
        "Calculating energy for column"
       ]
      },
      {
       "output_type": "stream",
       "stream": "stdout",
       "text": [
        " ('power', 'active')\n",
        "Calculating energy for column ('power', 'active')\n",
        "Calculating energy for column ('power', 'active')\n",
        "Calculating energy for column"
       ]
      },
      {
       "output_type": "stream",
       "stream": "stdout",
       "text": [
        " ('power', 'active')\n",
        "Calculating energy for column ('power', 'active')\n",
        "Calculating energy for column ('power', 'active')\n",
        "Calculating energy for column"
       ]
      },
      {
       "output_type": "stream",
       "stream": "stdout",
       "text": [
        " ('power', 'active')\n",
        "Calculating energy for column ('power', 'active')\n",
        "Calculating energy for column"
       ]
      },
      {
       "output_type": "stream",
       "stream": "stdout",
       "text": [
        " ('power', 'active')\n",
        "Calculating energy for column ('power', 'active')\n",
        "Calculating energy for column ('power', 'active')\n",
        "Calculating energy for column"
       ]
      },
      {
       "output_type": "stream",
       "stream": "stdout",
       "text": [
        " ('power', 'active')\n",
        "Calculating energy for column ('power', 'active')\n",
        "Calculating energy for column"
       ]
      },
      {
       "output_type": "stream",
       "stream": "stdout",
       "text": [
        " ('power', 'active')\n",
        "Calculating energy for column ('power', 'active')\n",
        "Calculating energy for column ('power', 'active')\n",
        "Calculating energy for column"
       ]
      },
      {
       "output_type": "stream",
       "stream": "stdout",
       "text": [
        " ('power', 'active')\n",
        "Calculating energy for column ('power', 'active')\n",
        "Calculating energy for column"
       ]
      },
      {
       "output_type": "stream",
       "stream": "stdout",
       "text": [
        " ('power', 'active')\n",
        "Calculating energy for column ('power', 'active')\n",
        "Calculating energy for column"
       ]
      },
      {
       "output_type": "stream",
       "stream": "stdout",
       "text": [
        " ('power', 'active')\n",
        "Calculating energy for column ('power', 'active')\n",
        "Calculating energy for column ('power', 'active')\n",
        "Calculating energy for column"
       ]
      },
      {
       "output_type": "stream",
       "stream": "stdout",
       "text": [
        " ('power', 'active')\n",
        "Calculating energy for column ('power', 'active')\n",
        "Calculating energy for column"
       ]
      },
      {
       "output_type": "stream",
       "stream": "stdout",
       "text": [
        " ('power', 'active')\n",
        "Calculating energy for column"
       ]
      },
      {
       "output_type": "stream",
       "stream": "stdout",
       "text": [
        " ('power', 'active')\n",
        "Calculating energy for column"
       ]
      },
      {
       "output_type": "stream",
       "stream": "stdout",
       "text": [
        " ('power', 'active')\n",
        "Calculating energy for column"
       ]
      },
      {
       "output_type": "stream",
       "stream": "stdout",
       "text": [
        " ('power', 'active')\n",
        "Calculating energy for column ('power', 'active')\n",
        "Calculating energy for column"
       ]
      },
      {
       "output_type": "stream",
       "stream": "stdout",
       "text": [
        " ('power', 'active')\n",
        "Calculating energy for column"
       ]
      },
      {
       "output_type": "stream",
       "stream": "stdout",
       "text": [
        " ('power', 'active')\n",
        "Calculating energy for column"
       ]
      },
      {
       "output_type": "stream",
       "stream": "stdout",
       "text": [
        " ('power', 'active')\n",
        "Calculating energy for column"
       ]
      },
      {
       "output_type": "stream",
       "stream": "stdout",
       "text": [
        " ('power', 'active')\n",
        "Calculating energy for column ('power', 'active')\n",
        "Calculating energy for column"
       ]
      },
      {
       "output_type": "stream",
       "stream": "stdout",
       "text": [
        " ('power', 'active')\n",
        "Calculating energy for column ('power', 'active')\n",
        "Calculating energy for column"
       ]
      },
      {
       "output_type": "stream",
       "stream": "stdout",
       "text": [
        " ('power', 'active')\n",
        "Calculating energy for column ('power', 'active')\n",
        "Calculating energy for column"
       ]
      },
      {
       "output_type": "stream",
       "stream": "stdout",
       "text": [
        " ('power', 'active')\n",
        "Calculating energy for column ('power', 'active')\n",
        "Calculating energy for column"
       ]
      },
      {
       "output_type": "stream",
       "stream": "stdout",
       "text": [
        " ('power', 'active')\n",
        "Calculating energy for column ('power', 'active')\n",
        "Calculating energy for column"
       ]
      },
      {
       "output_type": "stream",
       "stream": "stdout",
       "text": [
        " ('power', 'active')\n",
        "Calculating energy for column ('power', 'active')\n",
        "Calculating energy for column"
       ]
      },
      {
       "output_type": "stream",
       "stream": "stdout",
       "text": [
        " ('power', 'active')\n",
        "Calculating energy for column ('power', 'active')\n",
        "Calculating energy for column"
       ]
      },
      {
       "output_type": "stream",
       "stream": "stdout",
       "text": [
        " ('power', 'active')\n",
        "Calculating energy for column ('power', 'active')\n",
        "Calculating energy for column"
       ]
      },
      {
       "output_type": "stream",
       "stream": "stdout",
       "text": [
        " ('power', 'active')\n",
        "Calculating energy for column ('power', 'active')\n",
        "Calculating energy for column"
       ]
      },
      {
       "output_type": "stream",
       "stream": "stdout",
       "text": [
        " ('power', 'active')\n",
        "Calculating energy for column ('power', 'active')\n",
        "Calculating energy for column"
       ]
      },
      {
       "output_type": "stream",
       "stream": "stdout",
       "text": [
        " ('power', 'active')\n",
        "Calculating energy for column ('power', 'active')\n",
        "Calculating energy for column"
       ]
      },
      {
       "output_type": "stream",
       "stream": "stdout",
       "text": [
        " ('power', 'active')\n",
        "Calculating energy for column ('power', 'active')\n",
        "Calculating energy for column"
       ]
      },
      {
       "output_type": "stream",
       "stream": "stdout",
       "text": [
        " ('power', 'active')\n",
        "Calculating energy for column ('power', 'active')\n",
        "Calculating energy for column"
       ]
      },
      {
       "output_type": "stream",
       "stream": "stdout",
       "text": [
        " ('power', 'active')\n",
        "Calculating energy for column"
       ]
      },
      {
       "output_type": "stream",
       "stream": "stdout",
       "text": [
        " ('power', 'active')\n",
        "Calculating energy for column ('power', 'active')\n",
        "Calculating energy for column ('power', 'active')\n",
        "Calculating energy for column ('power', 'active')\n",
        "Calculating energy for column"
       ]
      },
      {
       "output_type": "stream",
       "stream": "stdout",
       "text": [
        " ('power', 'active')\n",
        "Calculating energy for column ('power', 'active')\n",
        "Calculating energy for column ('power', 'active')\n",
        "Calculating energy for column ('power', 'active')\n",
        "Calculating energy for column"
       ]
      },
      {
       "output_type": "stream",
       "stream": "stdout",
       "text": [
        " ('power', 'active')\n",
        "Calculating energy for column ('power', 'active')\n",
        "Calculating energy for column ('power', 'active')\n",
        "Calculating energy for column"
       ]
      },
      {
       "output_type": "stream",
       "stream": "stdout",
       "text": [
        " ('power', 'active')\n",
        "Calculating energy for column ('power', 'active')\n",
        "Calculating energy for column"
       ]
      },
      {
       "output_type": "stream",
       "stream": "stdout",
       "text": [
        " ('power', 'active')\n",
        "Calculating energy for column ('power', 'active')\n",
        "Calculating energy for column ('power', 'active')\n",
        "Calculating energy for column"
       ]
      },
      {
       "output_type": "stream",
       "stream": "stdout",
       "text": [
        " ('power', 'active')\n",
        "Calculating energy for column ('power', 'active')\n",
        "Calculating energy for column"
       ]
      },
      {
       "output_type": "stream",
       "stream": "stdout",
       "text": [
        " ('power', 'active')\n",
        "Calculating energy for column ('power', 'active')\n",
        "Calculating energy for column"
       ]
      },
      {
       "output_type": "stream",
       "stream": "stdout",
       "text": [
        " ('power', 'active')\n",
        "Calculating energy for column ('power', 'active')\n",
        "Calculating energy for column ('power', 'active')\n",
        "Calculating energy for column"
       ]
      },
      {
       "output_type": "stream",
       "stream": "stdout",
       "text": [
        " ('power', 'active')\n",
        "Calculating energy for column ('power', 'active')\n",
        "Calculating energy for column ('power', 'active')\n",
        "Calculating energy for column"
       ]
      },
      {
       "output_type": "stream",
       "stream": "stdout",
       "text": [
        " ('power', 'active')\n",
        "Calculating energy for column ('power', 'active')\n",
        "Calculating energy for column"
       ]
      },
      {
       "output_type": "stream",
       "stream": "stdout",
       "text": [
        " ('power', 'active')\n",
        "Calculating energy for column ('power', 'active')\n",
        "Calculating energy for column ('power', 'active')\n",
        "Calculating energy for column"
       ]
      },
      {
       "output_type": "stream",
       "stream": "stdout",
       "text": [
        " ('power', 'active')\n",
        "Calculating energy for column ('power', 'active')\n",
        "Calculating energy for column ('power', 'active')\n",
        "Calculating energy for column"
       ]
      },
      {
       "output_type": "stream",
       "stream": "stdout",
       "text": [
        " ('power', 'active')\n",
        "Calculating energy for column"
       ]
      },
      {
       "output_type": "stream",
       "stream": "stdout",
       "text": [
        " ('power', 'active')\n",
        "Calculating energy for column ('power', 'active')\n",
        "Calculating energy for column ('power', 'active')\n",
        "Calculating energy for column"
       ]
      },
      {
       "output_type": "stream",
       "stream": "stdout",
       "text": [
        " ('power', 'active')\n",
        "Calculating energy for column ('power', 'active')\n",
        "Calculating energy for column"
       ]
      },
      {
       "output_type": "stream",
       "stream": "stdout",
       "text": [
        " ('power', 'active')\n",
        "Calculating energy for column ('power', 'active')\n",
        "Calculating energy for column ('power', 'active')\n",
        "Calculating energy for column"
       ]
      },
      {
       "output_type": "stream",
       "stream": "stdout",
       "text": [
        " ('power', 'active')\n",
        "Calculating energy for column ('power', 'active')\n",
        "Calculating energy for column ('power', 'active')\n",
        "Calculating energy for column"
       ]
      },
      {
       "output_type": "stream",
       "stream": "stdout",
       "text": [
        " ('power', 'active')\n",
        "Calculating energy for column ('power', 'active')\n",
        "Calculating energy for column ('power', 'active')\n",
        "Calculating energy for column"
       ]
      },
      {
       "output_type": "stream",
       "stream": "stdout",
       "text": [
        " ('power', 'active')\n",
        "Calculating energy for column ('power', 'active')\n",
        "Calculating energy for column"
       ]
      },
      {
       "output_type": "stream",
       "stream": "stdout",
       "text": [
        " ('power', 'active')\n",
        "Calculating energy for column ('power', 'active')\n",
        "Calculating energy for column"
       ]
      },
      {
       "output_type": "stream",
       "stream": "stdout",
       "text": [
        " ('power', 'active')\n",
        "Calculating energy for column ('power', 'active')\n",
        "Calculating energy for column ('power', 'active')\n",
        "Calculating energy for column"
       ]
      },
      {
       "output_type": "stream",
       "stream": "stdout",
       "text": [
        " ('power', 'active')\n",
        "Calculating energy for column ('power', 'active')\n",
        "Calculating energy for column"
       ]
      },
      {
       "output_type": "stream",
       "stream": "stdout",
       "text": [
        " ('power', 'active')\n",
        "Calculating energy for column ('power', 'active')\n",
        "Calculating energy for column ('power', 'active')\n",
        "Calculating energy for column"
       ]
      },
      {
       "output_type": "stream",
       "stream": "stdout",
       "text": [
        " ('power', 'active')\n",
        "Calculating energy for column ('power', 'active')\n",
        "Calculating energy for column ('power', 'active')\n",
        "Calculating energy for column"
       ]
      },
      {
       "output_type": "stream",
       "stream": "stdout",
       "text": [
        " ('power', 'active')\n",
        "Calculating energy for column ('power', 'active')\n",
        "Calculating energy for column"
       ]
      },
      {
       "output_type": "stream",
       "stream": "stdout",
       "text": [
        " ('power', 'active')\n",
        "Calculating energy for column ('power', 'active')\n",
        "Calculating energy for column ('power', 'active')\n",
        "Calculating energy for column"
       ]
      },
      {
       "output_type": "stream",
       "stream": "stdout",
       "text": [
        " ('power', 'active')\n",
        "Calculating energy for column ('power', 'active')\n",
        "Calculating energy for column ('power', 'active')\n",
        "Calculating energy for column"
       ]
      },
      {
       "output_type": "stream",
       "stream": "stdout",
       "text": [
        " ('power', 'active')\n",
        "Calculating energy for column ('power', 'active')\n",
        "Calculating energy for column"
       ]
      },
      {
       "output_type": "stream",
       "stream": "stdout",
       "text": [
        " ('power', 'active')\n",
        "Calculating energy for column ('power', 'active')\n",
        "Calculating energy for column"
       ]
      },
      {
       "output_type": "stream",
       "stream": "stdout",
       "text": [
        " ('power', 'active')\n",
        "Calculating energy for column ('power', 'active')\n",
        "Calculating energy for column"
       ]
      },
      {
       "output_type": "stream",
       "stream": "stdout",
       "text": [
        " ('power', 'active')\n",
        "Calculating energy for column ('power', 'active')\n",
        "Calculating energy for column"
       ]
      },
      {
       "output_type": "stream",
       "stream": "stdout",
       "text": [
        " ('power', 'active')\n",
        "Calculating energy for column ('power', 'active')\n",
        "Calculating energy for column"
       ]
      },
      {
       "output_type": "stream",
       "stream": "stdout",
       "text": [
        " ('power', 'active')\n",
        "Calculating energy for column ('power', 'active')\n",
        "Calculating energy for column"
       ]
      },
      {
       "output_type": "stream",
       "stream": "stdout",
       "text": [
        " ('power', 'active')\n",
        "Calculating energy for column ('power', 'active')\n",
        "Calculating energy for column"
       ]
      },
      {
       "output_type": "stream",
       "stream": "stdout",
       "text": [
        " ('power', 'active')\n",
        "Calculating energy for column"
       ]
      },
      {
       "output_type": "stream",
       "stream": "stdout",
       "text": [
        " ('power', 'active')\n",
        "Calculating energy for column ('power', 'active')\n",
        "Calculating energy for column"
       ]
      },
      {
       "output_type": "stream",
       "stream": "stdout",
       "text": [
        " ('power', 'active')\n",
        "Calculating energy for column ('power', 'active')\n",
        "Calculating energy for column"
       ]
      },
      {
       "output_type": "stream",
       "stream": "stdout",
       "text": [
        " ('power', 'active')\n",
        "Calculating energy for column ('power', 'active')\n",
        "Calculating energy for column"
       ]
      },
      {
       "output_type": "stream",
       "stream": "stdout",
       "text": [
        " ('power', 'active')\n",
        "Calculating energy for column"
       ]
      },
      {
       "output_type": "stream",
       "stream": "stdout",
       "text": [
        " ('power', 'active')\n",
        "Calculating energy for column ('power', 'active')\n",
        "Calculating energy for column"
       ]
      },
      {
       "output_type": "stream",
       "stream": "stdout",
       "text": [
        " ('power', 'active')\n",
        "Calculating energy for column ('power', 'active')\n",
        "Calculating energy for column"
       ]
      },
      {
       "output_type": "stream",
       "stream": "stdout",
       "text": [
        " ('power', 'active')\n",
        "Calculating energy for column ('power', 'active')\n",
        "Calculating energy for column"
       ]
      },
      {
       "output_type": "stream",
       "stream": "stdout",
       "text": [
        " ('power', 'active')\n",
        "Calculating energy for column ('power', 'active')\n",
        "Calculating energy for column"
       ]
      },
      {
       "output_type": "stream",
       "stream": "stdout",
       "text": [
        " ('power', 'active')\n",
        "Calculating energy for column ('power', 'active')\n",
        "Calculating energy for column"
       ]
      },
      {
       "output_type": "stream",
       "stream": "stdout",
       "text": [
        " ('power', 'active')\n",
        "Calculating energy for column ('power', 'active')\n",
        "Calculating energy for column"
       ]
      },
      {
       "output_type": "stream",
       "stream": "stdout",
       "text": [
        " ('power', 'active')\n",
        "Calculating energy for column ('power', 'active')\n",
        "Calculating energy for column"
       ]
      },
      {
       "output_type": "stream",
       "stream": "stdout",
       "text": [
        " ('power', 'active')\n",
        "Calculating energy for column ('power', 'active')\n",
        "Calculating energy for column"
       ]
      },
      {
       "output_type": "stream",
       "stream": "stdout",
       "text": [
        " ('power', 'active')\n",
        "Calculating energy for column ('power', 'active')\n",
        "Calculating energy for column"
       ]
      },
      {
       "output_type": "stream",
       "stream": "stdout",
       "text": [
        " ('power', 'active')\n",
        "Calculating energy for column"
       ]
      },
      {
       "output_type": "stream",
       "stream": "stdout",
       "text": [
        " ('power', 'active')\n",
        "Calculating energy for column ('power', 'active')\n",
        "Calculating energy for column"
       ]
      },
      {
       "output_type": "stream",
       "stream": "stdout",
       "text": [
        " ('power', 'active')\n",
        "Calculating energy for column ('power', 'active')\n",
        "Calculating energy for column"
       ]
      },
      {
       "output_type": "stream",
       "stream": "stdout",
       "text": [
        " ('power', 'active')\n",
        "Calculating energy for column ('power', 'active')\n",
        "Calculating energy for column"
       ]
      },
      {
       "output_type": "stream",
       "stream": "stdout",
       "text": [
        " ('power', 'active')\n",
        "Calculating energy for column ('power', 'active')\n",
        "Calculating energy for column"
       ]
      },
      {
       "output_type": "stream",
       "stream": "stdout",
       "text": [
        " ('power', 'active')\n",
        "Calculating energy for column ('power', 'active')\n",
        "Calculating energy for column"
       ]
      },
      {
       "output_type": "stream",
       "stream": "stdout",
       "text": [
        " ('power', 'active')\n",
        "Calculating energy for column ('power', 'active')\n",
        "Calculating energy for column"
       ]
      },
      {
       "output_type": "stream",
       "stream": "stdout",
       "text": [
        " ('power', 'active')\n",
        "Calculating energy for column"
       ]
      },
      {
       "output_type": "stream",
       "stream": "stdout",
       "text": [
        " ('power', 'active')\n",
        "Calculating energy for column ('power', 'active')\n",
        "Calculating energy for column"
       ]
      },
      {
       "output_type": "stream",
       "stream": "stdout",
       "text": [
        " ('power', 'active')\n",
        "Calculating energy for column ('power', 'active')\n",
        "Calculating energy for column"
       ]
      },
      {
       "output_type": "stream",
       "stream": "stdout",
       "text": [
        " ('power', 'active')\n",
        "Calculating energy for column ('power', 'active')\n",
        "Calculating energy for column"
       ]
      },
      {
       "output_type": "stream",
       "stream": "stdout",
       "text": [
        " ('power', 'active')\n",
        "Calculating energy for column ('power', 'active')\n",
        "Calculating energy for column"
       ]
      },
      {
       "output_type": "stream",
       "stream": "stdout",
       "text": [
        " ('power', 'active')\n",
        "Calculating energy for column ('power', 'active')\n",
        "Calculating energy for column"
       ]
      },
      {
       "output_type": "stream",
       "stream": "stdout",
       "text": [
        " ('power', 'active')\n",
        "Calculating energy for column ('power', 'active')\n",
        "Calculating energy for column"
       ]
      },
      {
       "output_type": "stream",
       "stream": "stdout",
       "text": [
        " ('power', 'active')\n",
        "Calculating energy for column ('power', 'active')\n",
        "Calculating energy for column"
       ]
      },
      {
       "output_type": "stream",
       "stream": "stdout",
       "text": [
        " ('power', 'active')\n",
        "Calculating energy for column ('power', 'active')\n",
        "Calculating energy for column"
       ]
      },
      {
       "output_type": "stream",
       "stream": "stdout",
       "text": [
        " ('power', 'active')\n",
        "Calculating energy for column ('power', 'active')\n",
        "Calculating energy for column"
       ]
      },
      {
       "output_type": "stream",
       "stream": "stdout",
       "text": [
        " ('power', 'active')\n",
        "Calculating energy for column ('power', 'active')\n",
        "Calculating energy for column"
       ]
      },
      {
       "output_type": "stream",
       "stream": "stdout",
       "text": [
        " ('power', 'active')\n",
        "Calculating energy for column ('power', 'active')\n",
        "Calculating energy for column"
       ]
      },
      {
       "output_type": "stream",
       "stream": "stdout",
       "text": [
        " ('power', 'active')\n",
        "Calculating energy for column ('power', 'active')\n",
        "Calculating energy for column"
       ]
      },
      {
       "output_type": "stream",
       "stream": "stdout",
       "text": [
        " ('power', 'active')\n",
        "Calculating energy for column ('power', 'active')\n",
        "Calculating energy for column"
       ]
      },
      {
       "output_type": "stream",
       "stream": "stdout",
       "text": [
        " ('power', 'active')\n",
        "Calculating energy for column ('power', 'active')\n",
        "Calculating energy for column"
       ]
      },
      {
       "output_type": "stream",
       "stream": "stdout",
       "text": [
        " ('power', 'active')\n",
        "Calculating energy for column ('power', 'active')\n",
        "Calculating energy for column"
       ]
      },
      {
       "output_type": "stream",
       "stream": "stdout",
       "text": [
        " ('power', 'active')\n",
        "Calculating energy for column ('power', 'active')\n",
        "Calculating energy for column"
       ]
      },
      {
       "output_type": "stream",
       "stream": "stdout",
       "text": [
        " ('power', 'active')\n",
        "Calculating energy for column ('power', 'active')\n",
        "Calculating energy for column"
       ]
      },
      {
       "output_type": "stream",
       "stream": "stdout",
       "text": [
        " ('power', 'active')\n",
        "Calculating energy for column ('power', 'active')\n",
        "Calculating energy for column"
       ]
      },
      {
       "output_type": "stream",
       "stream": "stdout",
       "text": [
        " ('power', 'active')\n",
        "Calculating energy for column ('power', 'active')\n",
        "Calculating energy for column"
       ]
      },
      {
       "output_type": "stream",
       "stream": "stdout",
       "text": [
        " ('power', 'active')\n",
        "Calculating energy for column ('power', 'active')\n",
        "Calculating energy for column"
       ]
      },
      {
       "output_type": "stream",
       "stream": "stdout",
       "text": [
        " ('power', 'active')\n",
        "Calculating energy for column ('power', 'active')\n",
        "Calculating energy for column"
       ]
      },
      {
       "output_type": "stream",
       "stream": "stdout",
       "text": [
        " ('power', 'active')\n",
        "Calculating energy for column ('power', 'active')\n",
        "Calculating energy for column"
       ]
      },
      {
       "output_type": "stream",
       "stream": "stdout",
       "text": [
        " ('power', 'active')\n",
        "Calculating energy for column ('power', 'active')\n",
        "Calculating energy for column"
       ]
      },
      {
       "output_type": "stream",
       "stream": "stdout",
       "text": [
        " ('power', 'active')\n",
        "Calculating energy for column ('power', 'active')\n",
        "Calculating energy for column"
       ]
      },
      {
       "output_type": "stream",
       "stream": "stdout",
       "text": [
        " ('power', 'active')\n",
        "Calculating energy for column ('power', 'active')\n",
        "Calculating energy for column"
       ]
      },
      {
       "output_type": "stream",
       "stream": "stdout",
       "text": [
        " ('power', 'active')\n",
        "Calculating energy for column ('power', 'active')\n",
        "Calculating energy for column"
       ]
      },
      {
       "output_type": "stream",
       "stream": "stdout",
       "text": [
        " ('power', 'active')\n",
        "Calculating energy for column"
       ]
      },
      {
       "output_type": "stream",
       "stream": "stdout",
       "text": [
        " ('power', 'active')\n",
        "Calculating energy for column"
       ]
      },
      {
       "output_type": "stream",
       "stream": "stdout",
       "text": [
        " ('power', 'active')\n",
        "Calculating energy for column ('power', 'active')\n",
        "Calculating energy for column"
       ]
      },
      {
       "output_type": "stream",
       "stream": "stdout",
       "text": [
        " ('power', 'active')\n",
        "Calculating energy for column"
       ]
      },
      {
       "output_type": "stream",
       "stream": "stdout",
       "text": [
        " ('power', 'active')\n",
        "Calculating energy for column ('power', 'active')\n",
        "Calculating energy for column"
       ]
      },
      {
       "output_type": "stream",
       "stream": "stdout",
       "text": [
        " ('power', 'active')\n",
        "Calculating energy for column"
       ]
      },
      {
       "output_type": "stream",
       "stream": "stdout",
       "text": [
        " ('power', 'active')\n",
        "Calculating energy for column ('power', 'active')\n",
        "Calculating energy for column"
       ]
      },
      {
       "output_type": "stream",
       "stream": "stdout",
       "text": [
        " ('power', 'active')\n",
        "Calculating energy for column ('power', 'active')\n",
        "Calculating energy for column"
       ]
      },
      {
       "output_type": "stream",
       "stream": "stdout",
       "text": [
        " ('power', 'active')\n",
        "Calculating energy for column ('power', 'active')\n",
        "Calculating energy for column"
       ]
      },
      {
       "output_type": "stream",
       "stream": "stdout",
       "text": [
        " ('power', 'active')\n",
        "Calculating energy for column"
       ]
      },
      {
       "output_type": "stream",
       "stream": "stdout",
       "text": [
        " ('power', 'active')\n",
        "Calculating energy for column ('power', 'active')\n",
        "Calculating energy for column"
       ]
      },
      {
       "output_type": "stream",
       "stream": "stdout",
       "text": [
        " ('power', 'active')\n",
        "Calculating energy for column ('power', 'active')\n",
        "Calculating energy for column"
       ]
      },
      {
       "output_type": "stream",
       "stream": "stdout",
       "text": [
        " ('power', 'active')\n",
        "Calculating energy for column"
       ]
      },
      {
       "output_type": "stream",
       "stream": "stdout",
       "text": [
        " ('power', 'active')\n",
        "Calculating energy for column"
       ]
      },
      {
       "output_type": "stream",
       "stream": "stdout",
       "text": [
        " ('power', 'active')\n",
        "Calculating energy for column ('power', 'active')\n",
        "Calculating energy for column"
       ]
      },
      {
       "output_type": "stream",
       "stream": "stdout",
       "text": [
        " ('power', 'active')\n",
        "Calculating energy for column"
       ]
      },
      {
       "output_type": "stream",
       "stream": "stdout",
       "text": [
        " ('power', 'active')\n",
        "Calculating energy for column ('power', 'active')\n",
        "Calculating energy for column"
       ]
      },
      {
       "output_type": "stream",
       "stream": "stdout",
       "text": [
        " ('power', 'active')\n",
        "Calculating energy for column ('power', 'active')\n",
        "Calculating energy for column"
       ]
      },
      {
       "output_type": "stream",
       "stream": "stdout",
       "text": [
        " ('power', 'active')\n",
        "Calculating energy for column ('power', 'active')\n",
        "Calculating energy for column"
       ]
      },
      {
       "output_type": "stream",
       "stream": "stdout",
       "text": [
        " ('power', 'active')\n",
        "Calculating energy for column ('power', 'active')\n",
        "Calculating energy for column"
       ]
      },
      {
       "output_type": "stream",
       "stream": "stdout",
       "text": [
        " ('power', 'active')\n",
        "Calculating energy for column ('power', 'active')\n",
        "Calculating energy for column"
       ]
      },
      {
       "output_type": "stream",
       "stream": "stdout",
       "text": [
        " ('power', 'active')\n",
        "Calculating energy for column ('power', 'active')\n",
        "Calculating energy for column"
       ]
      },
      {
       "output_type": "stream",
       "stream": "stdout",
       "text": [
        " ('power', 'active')\n",
        "Calculating energy for column"
       ]
      },
      {
       "output_type": "stream",
       "stream": "stdout",
       "text": [
        " ('power', 'active')\n",
        "Calculating energy for column"
       ]
      },
      {
       "output_type": "stream",
       "stream": "stdout",
       "text": [
        " ('power', 'active')\n",
        "Calculating energy for column ('power', 'active')\n",
        "Calculating energy for column"
       ]
      },
      {
       "output_type": "stream",
       "stream": "stdout",
       "text": [
        " ('power', 'active')\n",
        "Calculating energy for column ('power', 'active')\n",
        "Calculating energy for column"
       ]
      },
      {
       "output_type": "stream",
       "stream": "stdout",
       "text": [
        " ('power', 'active')\n",
        "Calculating energy for column ('power', 'active')\n",
        "Calculating energy for column ('power', 'active')\n",
        "Calculating energy for column"
       ]
      },
      {
       "output_type": "stream",
       "stream": "stdout",
       "text": [
        " ('power', 'active')\n",
        "Calculating energy for column ('power', 'active')\n",
        "Calculating energy for column"
       ]
      },
      {
       "output_type": "stream",
       "stream": "stdout",
       "text": [
        " ('power', 'active')\n",
        "Calculating energy for column ('power', 'active')\n",
        "Calculating energy for column ('power', 'active')\n",
        "Calculating energy for column"
       ]
      },
      {
       "output_type": "stream",
       "stream": "stdout",
       "text": [
        " ('power', 'active')\n",
        "Calculating energy for column ('power', 'active')\n",
        "Calculating energy for column ('power', 'active')\n",
        "Calculating energy for column"
       ]
      },
      {
       "output_type": "stream",
       "stream": "stdout",
       "text": [
        " ('power', 'active')\n",
        "Calculating energy for column ('power', 'active')\n",
        "Calculating energy for column ('power', 'active')\n",
        "Calculating energy for column ('power', 'active')\n",
        "Calculating energy for column"
       ]
      },
      {
       "output_type": "stream",
       "stream": "stdout",
       "text": [
        " ('power', 'active')\n",
        "Calculating energy for column ('power', 'active')\n",
        "Calculating energy for column ('power', 'active')\n",
        "Calculating energy for column"
       ]
      },
      {
       "output_type": "stream",
       "stream": "stdout",
       "text": [
        " ('power', 'active')\n",
        "Calculating energy for column ('power', 'active')\n",
        "Calculating energy for column ('power', 'active')\n",
        "Calculating energy for column"
       ]
      },
      {
       "output_type": "stream",
       "stream": "stdout",
       "text": [
        " ('power', 'active')\n",
        "Calculating energy for column ('power', 'active')\n",
        "Calculating energy for column ('power', 'active')\n",
        "Calculating energy for column"
       ]
      },
      {
       "output_type": "stream",
       "stream": "stdout",
       "text": [
        " ('power', 'active')\n",
        "Calculating energy for column ('power', 'active')\n",
        "Calculating energy for column"
       ]
      },
      {
       "output_type": "stream",
       "stream": "stdout",
       "text": [
        " ('power', 'active')\n",
        "Calculating energy for column ('power', 'active')\n",
        "Calculating energy for column ('power', 'active')\n",
        "Calculating energy for column"
       ]
      },
      {
       "output_type": "stream",
       "stream": "stdout",
       "text": [
        " ('power', 'active')\n",
        "Calculating energy for column ('power', 'active')\n",
        "Calculating energy for column ('power', 'active')\n",
        "Calculating energy for column"
       ]
      },
      {
       "output_type": "stream",
       "stream": "stdout",
       "text": [
        " ('power', 'active')\n",
        "Calculating energy for column ('power', 'active')\n",
        "Calculating energy for column ('power', 'active')\n",
        "Calculating energy for column"
       ]
      },
      {
       "output_type": "stream",
       "stream": "stdout",
       "text": [
        " ('power', 'active')\n",
        "Calculating energy for column ('power', 'active')\n",
        "Calculating energy for column ('power', 'active')\n",
        "Calculating energy for column"
       ]
      },
      {
       "output_type": "stream",
       "stream": "stdout",
       "text": [
        " ('power', 'active')\n",
        "Calculating energy for column ('power', 'active')\n",
        "Calculating energy for column ('power', 'active')\n",
        "Calculating energy for column"
       ]
      },
      {
       "output_type": "stream",
       "stream": "stdout",
       "text": [
        " ('power', 'active')\n",
        "Calculating energy for column ('power', 'active')\n",
        "Calculating energy for column ('power', 'active')\n",
        "Calculating energy for column"
       ]
      },
      {
       "output_type": "stream",
       "stream": "stdout",
       "text": [
        " ('power', 'active')\n",
        "Calculating energy for column ('power', 'active')\n",
        "Calculating energy for column ('power', 'active')\n",
        "Calculating energy for column"
       ]
      },
      {
       "output_type": "stream",
       "stream": "stdout",
       "text": [
        " ('power', 'active')\n",
        "Calculating energy for column ('power', 'active')\n",
        "Calculating energy for column ('power', 'active')\n",
        "Calculating energy for column"
       ]
      },
      {
       "output_type": "stream",
       "stream": "stdout",
       "text": [
        " ('power', 'active')\n",
        "Calculating energy for column ('power', 'active')\n",
        "Calculating energy for column ('power', 'active')\n",
        "Calculating energy for column"
       ]
      },
      {
       "output_type": "stream",
       "stream": "stdout",
       "text": [
        " ('power', 'active')\n",
        "Calculating energy for column ('power', 'active')\n",
        "Calculating energy for column ('power', 'active')\n",
        "Calculating energy for column"
       ]
      },
      {
       "output_type": "stream",
       "stream": "stdout",
       "text": [
        " ('power', 'active')\n",
        "Calculating energy for column ('power', 'active')\n",
        "Calculating energy for column ('power', 'active')\n",
        "Calculating energy for column"
       ]
      },
      {
       "output_type": "stream",
       "stream": "stdout",
       "text": [
        " ('power', 'active')\n",
        "Calculating energy for column ('power', 'active')\n",
        "Calculating energy for column ('power', 'active')\n",
        "Calculating energy for column"
       ]
      },
      {
       "output_type": "stream",
       "stream": "stdout",
       "text": [
        " ('power', 'active')\n",
        "Calculating energy for column ('power', 'active')\n",
        "Calculating energy for column"
       ]
      },
      {
       "output_type": "stream",
       "stream": "stdout",
       "text": [
        " ('power', 'active')\n",
        "Calculating energy for column ('power', 'active')\n",
        "Calculating energy for column"
       ]
      },
      {
       "output_type": "stream",
       "stream": "stdout",
       "text": [
        " ('power', 'active')\n",
        "Calculating energy for column"
       ]
      },
      {
       "output_type": "stream",
       "stream": "stdout",
       "text": [
        " ('power', 'active')\n",
        "Calculating energy for column"
       ]
      },
      {
       "output_type": "stream",
       "stream": "stdout",
       "text": [
        " ('power', 'active')\n",
        "Calculating energy for column ('power', 'active')\n",
        "Calculating energy for column"
       ]
      },
      {
       "output_type": "stream",
       "stream": "stdout",
       "text": [
        " ('power', 'active')\n",
        "Calculating energy for column ('power', 'active')\n",
        "Calculating energy for column"
       ]
      },
      {
       "output_type": "stream",
       "stream": "stdout",
       "text": [
        " ('power', 'active')\n",
        "Calculating energy for column ('power', 'active')\n",
        "Calculating energy for column"
       ]
      },
      {
       "output_type": "stream",
       "stream": "stdout",
       "text": [
        " ('power', 'active')\n",
        "Calculating energy for column ('power', 'active')\n",
        "Calculating energy for column"
       ]
      },
      {
       "output_type": "stream",
       "stream": "stdout",
       "text": [
        " ('power', 'active')\n",
        "Calculating energy for column ('power', 'active')\n",
        "Calculating energy for column ('power', 'active')\n",
        "Calculating energy for column"
       ]
      },
      {
       "output_type": "stream",
       "stream": "stdout",
       "text": [
        " ('power', 'active')\n",
        "Calculating energy for column ('power', 'active')\n",
        "Calculating energy for column"
       ]
      },
      {
       "output_type": "stream",
       "stream": "stdout",
       "text": [
        " ('power', 'active')\n",
        "Calculating energy for column"
       ]
      },
      {
       "output_type": "stream",
       "stream": "stdout",
       "text": [
        " ('power', 'active')\n",
        "Calculating energy for column ('power', 'active')\n",
        "Calculating energy for column"
       ]
      },
      {
       "output_type": "stream",
       "stream": "stdout",
       "text": [
        " ('power', 'active')\n",
        "Calculating energy for column ('power', 'active')\n",
        "Calculating energy for column"
       ]
      },
      {
       "output_type": "stream",
       "stream": "stdout",
       "text": [
        " ('power', 'active')\n",
        "Calculating energy for column ('power', 'active')\n",
        "Calculating energy for column ('power', 'active')\n",
        "Calculating energy for column"
       ]
      },
      {
       "output_type": "stream",
       "stream": "stdout",
       "text": [
        " ('power', 'active')\n",
        "Calculating energy for column ('power', 'active')\n",
        "Calculating energy for column"
       ]
      },
      {
       "output_type": "stream",
       "stream": "stdout",
       "text": [
        " ('power', 'active')\n",
        "Calculating energy for column ('power', 'active')\n",
        "Calculating energy for column"
       ]
      },
      {
       "output_type": "stream",
       "stream": "stdout",
       "text": [
        " ('power', 'active')\n",
        "Calculating energy for column ('power', 'active')\n",
        "Calculating energy for column"
       ]
      },
      {
       "output_type": "stream",
       "stream": "stdout",
       "text": [
        " ('power', 'active')\n",
        "Calculating energy for column"
       ]
      },
      {
       "output_type": "stream",
       "stream": "stdout",
       "text": [
        " ('power', 'active')\n",
        "Calculating energy for column ('power', 'active')\n",
        "Calculating energy for column"
       ]
      },
      {
       "output_type": "stream",
       "stream": "stdout",
       "text": [
        " ('power', 'active')\n",
        "Calculating energy for column ('power', 'active')\n",
        "Calculating energy for column"
       ]
      },
      {
       "output_type": "stream",
       "stream": "stdout",
       "text": [
        " ('power', 'active')\n",
        "Calculating energy for column ('power', 'active')\n",
        "Calculating energy for column"
       ]
      },
      {
       "output_type": "stream",
       "stream": "stdout",
       "text": [
        " ('power', 'active')\n",
        "Calculating energy for column ('power', 'active')\n",
        "Calculating energy for column"
       ]
      },
      {
       "output_type": "stream",
       "stream": "stdout",
       "text": [
        " ('power', 'active')\n",
        "Calculating energy for column ('power', 'active')\n",
        "Calculating energy for column"
       ]
      },
      {
       "output_type": "stream",
       "stream": "stdout",
       "text": [
        " ('power', 'active')\n",
        "Calculating energy for column ('power', 'active')\n",
        "Calculating energy for column"
       ]
      },
      {
       "output_type": "stream",
       "stream": "stdout",
       "text": [
        " ('power', 'active')\n",
        "Calculating energy for column ('power', 'active')\n",
        "Calculating energy for column"
       ]
      },
      {
       "output_type": "stream",
       "stream": "stdout",
       "text": [
        " ('power', 'active')\n",
        "Calculating energy for column ('power', 'active')\n",
        "Calculating energy for column"
       ]
      },
      {
       "output_type": "stream",
       "stream": "stdout",
       "text": [
        " ('power', 'active')\n",
        "Calculating energy for column ('power', 'active')\n",
        "Calculating energy for column"
       ]
      },
      {
       "output_type": "stream",
       "stream": "stdout",
       "text": [
        " ('power', 'active')\n",
        "Calculating energy for column ('power', 'active')\n",
        "Calculating energy for column"
       ]
      },
      {
       "output_type": "stream",
       "stream": "stdout",
       "text": [
        " ('power', 'active')\n",
        "Calculating energy for column ('power', 'active')\n",
        "Calculating energy for column"
       ]
      },
      {
       "output_type": "stream",
       "stream": "stdout",
       "text": [
        " ('power', 'active')\n",
        "Calculating energy for column ('power', 'active')\n",
        "Calculating energy for column"
       ]
      },
      {
       "output_type": "stream",
       "stream": "stdout",
       "text": [
        " ('power', 'active')\n",
        "Calculating energy for column ('power', 'active')\n",
        "Calculating energy for column"
       ]
      },
      {
       "output_type": "stream",
       "stream": "stdout",
       "text": [
        " ('power', 'active')\n",
        "Calculating energy for column ('power', 'active')\n",
        "Calculating energy for column"
       ]
      },
      {
       "output_type": "stream",
       "stream": "stdout",
       "text": [
        " ('power', 'active')\n",
        "Calculating energy for column ('power', 'active')\n",
        "Calculating energy for column"
       ]
      },
      {
       "output_type": "stream",
       "stream": "stdout",
       "text": [
        " ('power', 'active')\n",
        "Calculating energy for column ('power', 'active')\n",
        "Calculating energy for column"
       ]
      },
      {
       "output_type": "stream",
       "stream": "stdout",
       "text": [
        " ('power', 'active')\n",
        "Calculating energy for column ('power', 'active')\n",
        "Calculating energy for column"
       ]
      },
      {
       "output_type": "stream",
       "stream": "stdout",
       "text": [
        " ('power', 'active')\n",
        "Calculating energy for column ('power', 'active')\n",
        "Calculating energy for column"
       ]
      },
      {
       "output_type": "stream",
       "stream": "stdout",
       "text": [
        " ('power', 'active')\n",
        "Calculating energy for column ('power', 'active')\n",
        "Calculating energy for column"
       ]
      },
      {
       "output_type": "stream",
       "stream": "stdout",
       "text": [
        " ('power', 'active')\n",
        "Calculating energy for column ('power', 'active')\n",
        "Calculating energy for column"
       ]
      },
      {
       "output_type": "stream",
       "stream": "stdout",
       "text": [
        " ('power', 'active')\n",
        "Calculating energy for column ('power', 'active')\n",
        "Calculating energy for column"
       ]
      },
      {
       "output_type": "stream",
       "stream": "stdout",
       "text": [
        " ('power', 'active')\n",
        "Calculating energy for column"
       ]
      },
      {
       "output_type": "stream",
       "stream": "stdout",
       "text": [
        " ('power', 'active')\n",
        "Calculating energy for column"
       ]
      },
      {
       "output_type": "stream",
       "stream": "stdout",
       "text": [
        " ('power', 'active')\n",
        "Calculating energy for column ('power', 'active')\n",
        "Calculating energy for column"
       ]
      },
      {
       "output_type": "stream",
       "stream": "stdout",
       "text": [
        " ('power', 'active')\n",
        "Calculating energy for column ('power', 'active')\n",
        "Calculating energy for column"
       ]
      },
      {
       "output_type": "stream",
       "stream": "stdout",
       "text": [
        " ('power', 'active')\n",
        "Calculating energy for column ('power', 'active')\n",
        "Calculating energy for column"
       ]
      },
      {
       "output_type": "stream",
       "stream": "stdout",
       "text": [
        " ('power', 'active')\n",
        "Calculating energy for column ('power', 'active')\n",
        "Calculating energy for column"
       ]
      },
      {
       "output_type": "stream",
       "stream": "stdout",
       "text": [
        " ('power', 'active')\n",
        "Calculating energy for column ('power', 'active')\n",
        "Calculating energy for column"
       ]
      },
      {
       "output_type": "stream",
       "stream": "stdout",
       "text": [
        " ('power', 'active')\n",
        "Calculating energy for column ('power', 'active')\n",
        "Calculating energy for column"
       ]
      },
      {
       "output_type": "stream",
       "stream": "stdout",
       "text": [
        " ('power', 'active')\n",
        "Calculating energy for column ('power', 'active')\n",
        "Calculating energy for column"
       ]
      },
      {
       "output_type": "stream",
       "stream": "stdout",
       "text": [
        " ('power', 'active')\n",
        "Calculating energy for column"
       ]
      },
      {
       "output_type": "stream",
       "stream": "stdout",
       "text": [
        " ('power', 'active')\n",
        "Calculating energy for column"
       ]
      },
      {
       "output_type": "stream",
       "stream": "stdout",
       "text": [
        " ('power', 'active')\n",
        "Calculating energy for column ('power', 'active')\n",
        "Calculating energy for column"
       ]
      },
      {
       "output_type": "stream",
       "stream": "stdout",
       "text": [
        " ('power', 'active')\n",
        "Calculating energy for column"
       ]
      },
      {
       "output_type": "stream",
       "stream": "stdout",
       "text": [
        " ('power', 'active')\n",
        "Calculating energy for column ('power', 'active')\n",
        "Calculating energy for column"
       ]
      },
      {
       "output_type": "stream",
       "stream": "stdout",
       "text": [
        " ('power', 'active')\n",
        "Calculating energy for column ('power', 'active')\n",
        "Calculating energy for column"
       ]
      },
      {
       "output_type": "stream",
       "stream": "stdout",
       "text": [
        " ('power', 'active')\n",
        "Calculating energy for column ('power', 'active')\n",
        "Calculating energy for column"
       ]
      },
      {
       "output_type": "stream",
       "stream": "stdout",
       "text": [
        " ('power', 'active')\n",
        "Calculating energy for column ('power', 'active')\n",
        "Calculating energy for column"
       ]
      },
      {
       "output_type": "stream",
       "stream": "stdout",
       "text": [
        " ('power', 'active')\n",
        "Calculating energy for column ('power', 'active')\n",
        "Calculating energy for column"
       ]
      },
      {
       "output_type": "stream",
       "stream": "stdout",
       "text": [
        " ('power', 'active')\n",
        "Calculating energy for column ('power', 'active')\n",
        "Calculating energy for column"
       ]
      },
      {
       "output_type": "stream",
       "stream": "stdout",
       "text": [
        " ('power', 'active')\n",
        "Calculating energy for column ('power', 'active')\n",
        "Calculating energy for column"
       ]
      },
      {
       "output_type": "stream",
       "stream": "stdout",
       "text": [
        " ('power', 'active')\n",
        "Calculating energy for column ('power', 'active')\n",
        "Calculating energy for column"
       ]
      },
      {
       "output_type": "stream",
       "stream": "stdout",
       "text": [
        " ('power', 'active')\n",
        "Calculating energy for column ('power', 'active')\n",
        "Calculating energy for column"
       ]
      },
      {
       "output_type": "stream",
       "stream": "stdout",
       "text": [
        " ('power', 'active')\n",
        "Calculating energy for column ('power', 'active')\n",
        "Calculating energy for column"
       ]
      },
      {
       "output_type": "stream",
       "stream": "stdout",
       "text": [
        " ('power', 'active')\n",
        "Calculating energy for column ('power', 'active')\n",
        "Calculating energy for column"
       ]
      },
      {
       "output_type": "stream",
       "stream": "stdout",
       "text": [
        " ('power', 'active')\n",
        "Calculating energy for column ('power', 'active')\n",
        "Calculating energy for column"
       ]
      },
      {
       "output_type": "stream",
       "stream": "stdout",
       "text": [
        " ('power', 'active')\n",
        "Calculating energy for column ('power', 'active')\n",
        "Calculating energy for column"
       ]
      },
      {
       "output_type": "stream",
       "stream": "stdout",
       "text": [
        " ('power', 'active')\n",
        "Calculating energy for column ('power', 'active')\n",
        "Calculating energy for column"
       ]
      },
      {
       "output_type": "stream",
       "stream": "stdout",
       "text": [
        " ('power', 'active')\n",
        "Calculating energy for column ('power', 'active')\n",
        "Calculating energy for column"
       ]
      },
      {
       "output_type": "stream",
       "stream": "stdout",
       "text": [
        " ('power', 'active')\n",
        "Calculating energy for column ('power', 'active')\n",
        "Calculating energy for column"
       ]
      },
      {
       "output_type": "stream",
       "stream": "stdout",
       "text": [
        " ('power', 'active')\n",
        "Calculating energy for column ('power', 'active')\n",
        "Calculating energy for column"
       ]
      },
      {
       "output_type": "stream",
       "stream": "stdout",
       "text": [
        " ('power', 'active')\n",
        "Calculating energy for column"
       ]
      },
      {
       "output_type": "stream",
       "stream": "stdout",
       "text": [
        " ('power', 'active')\n",
        "Calculating energy for column ('power', 'active')\n",
        "Calculating energy for column"
       ]
      },
      {
       "output_type": "stream",
       "stream": "stdout",
       "text": [
        " ('power', 'active')\n",
        "Calculating energy for column"
       ]
      },
      {
       "output_type": "stream",
       "stream": "stdout",
       "text": [
        " ('power', 'active')\n",
        "Calculating energy for column"
       ]
      },
      {
       "output_type": "stream",
       "stream": "stdout",
       "text": [
        " ('power', 'active')\n",
        "Calculating energy for column"
       ]
      },
      {
       "output_type": "stream",
       "stream": "stdout",
       "text": [
        " ('power', 'active')\n",
        "Calculating energy for column"
       ]
      },
      {
       "output_type": "stream",
       "stream": "stdout",
       "text": [
        " ('power', 'active')\n",
        "Calculating energy for column"
       ]
      },
      {
       "output_type": "stream",
       "stream": "stdout",
       "text": [
        " ('power', 'active')\n",
        "Calculating energy for column ('power', 'active')\n",
        "Calculating energy for column"
       ]
      },
      {
       "output_type": "stream",
       "stream": "stdout",
       "text": [
        " ('power', 'active')\n",
        "Calculating energy for column ('power', 'active')\n",
        "Calculating energy for column"
       ]
      },
      {
       "output_type": "stream",
       "stream": "stdout",
       "text": [
        " ('power', 'active')\n",
        "Calculating energy for column"
       ]
      },
      {
       "output_type": "stream",
       "stream": "stdout",
       "text": [
        " ('power', 'active')\n",
        "Calculating energy for column"
       ]
      },
      {
       "output_type": "stream",
       "stream": "stdout",
       "text": [
        " ('power', 'active')\n",
        "Calculating energy for column"
       ]
      },
      {
       "output_type": "stream",
       "stream": "stdout",
       "text": [
        " ('power', 'active')\n",
        "Calculating energy for column ('power', 'active')\n",
        "Calculating energy for column"
       ]
      },
      {
       "output_type": "stream",
       "stream": "stdout",
       "text": [
        " ('power', 'active')\n",
        "Calculating energy for column"
       ]
      },
      {
       "output_type": "stream",
       "stream": "stdout",
       "text": [
        " ('power', 'active')\n",
        "Calculating energy for column"
       ]
      },
      {
       "output_type": "stream",
       "stream": "stdout",
       "text": [
        " ('power', 'active')\n",
        "Calculating energy for column"
       ]
      },
      {
       "output_type": "stream",
       "stream": "stdout",
       "text": [
        " ('power', 'active')\n",
        "Calculating energy for column"
       ]
      },
      {
       "output_type": "stream",
       "stream": "stdout",
       "text": [
        " ('power', 'active')\n",
        "Calculating energy for column"
       ]
      },
      {
       "output_type": "stream",
       "stream": "stdout",
       "text": [
        " ('power', 'active')\n",
        "Calculating energy for column"
       ]
      },
      {
       "output_type": "stream",
       "stream": "stdout",
       "text": [
        " ('power', 'active')\n",
        "Calculating energy for column ('power', 'active')\n",
        "Calculating energy for column"
       ]
      },
      {
       "output_type": "stream",
       "stream": "stdout",
       "text": [
        " ('power', 'active')\n",
        "Calculating energy for column"
       ]
      },
      {
       "output_type": "stream",
       "stream": "stdout",
       "text": [
        " ('power', 'active')\n",
        "Calculating energy for column ('power', 'active')\n",
        "Calculating energy for column ('power', 'active')\n",
        "Calculating energy for column ('power', 'active')\n",
        "Calculating energy for column"
       ]
      },
      {
       "output_type": "stream",
       "stream": "stdout",
       "text": [
        " ('power', 'active')\n",
        "Calculating energy for column ('power', 'active')\n",
        "Calculating energy for column ('power', 'active')\n",
        "Calculating energy for column ('power', 'active')\n",
        "Calculating energy for column"
       ]
      },
      {
       "output_type": "stream",
       "stream": "stdout",
       "text": [
        " ('power', 'active')\n",
        "Calculating energy for column ('power', 'active')\n",
        "Calculating energy for column ('power', 'active')\n",
        "Calculating energy for column"
       ]
      },
      {
       "output_type": "stream",
       "stream": "stdout",
       "text": [
        " ('power', 'active')\n",
        "Calculating energy for column ('power', 'active')\n",
        "Calculating energy for column ('power', 'active')\n",
        "Calculating energy for column"
       ]
      },
      {
       "output_type": "stream",
       "stream": "stdout",
       "text": [
        " ('power', 'active')\n",
        "Calculating energy for column ('power', 'active')\n",
        "Calculating energy for column ('power', 'active')\n",
        "Calculating energy for column ('power', 'active')\n",
        "Calculating energy for column"
       ]
      },
      {
       "output_type": "stream",
       "stream": "stdout",
       "text": [
        " ('power', 'active')\n",
        "Calculating energy for column ('power', 'active')\n",
        "Calculating energy for column ('power', 'active')\n",
        "Calculating energy for column ('power', 'active')\n",
        "Calculating energy for column"
       ]
      },
      {
       "output_type": "stream",
       "stream": "stdout",
       "text": [
        " ('power', 'active')\n",
        "Calculating energy for column ('power', 'active')\n",
        "Calculating energy for column ('power', 'active')\n",
        "Calculating energy for column"
       ]
      },
      {
       "output_type": "stream",
       "stream": "stdout",
       "text": [
        " ('power', 'active')\n",
        "Calculating energy for column ('power', 'active')\n",
        "Calculating energy for column ('power', 'active')\n",
        "Calculating energy for column"
       ]
      },
      {
       "output_type": "stream",
       "stream": "stdout",
       "text": [
        " ('power', 'active')\n",
        "Calculating energy for column ('power', 'active')\n",
        "Calculating energy for column ('power', 'active')\n",
        "Calculating energy for column"
       ]
      },
      {
       "output_type": "stream",
       "stream": "stdout",
       "text": [
        " ('power', 'active')\n",
        "Calculating energy for column ('power', 'active')\n",
        "Calculating energy for column"
       ]
      },
      {
       "output_type": "stream",
       "stream": "stdout",
       "text": [
        " ('power', 'active')\n",
        "Calculating energy for column ('power', 'active')\n",
        "Calculating energy for column ('power', 'active')\n",
        "Calculating energy for column"
       ]
      },
      {
       "output_type": "stream",
       "stream": "stdout",
       "text": [
        " ('power', 'active')\n",
        "Calculating energy for column ('power', 'active')\n",
        "Calculating energy for column ('power', 'active')\n",
        "Calculating energy for column"
       ]
      },
      {
       "output_type": "stream",
       "stream": "stdout",
       "text": [
        " ('power', 'active')\n",
        "Calculating energy for column ('power', 'active')\n",
        "Calculating energy for column ('power', 'active')\n",
        "Calculating energy for column"
       ]
      },
      {
       "output_type": "stream",
       "stream": "stdout",
       "text": [
        " ('power', 'active')\n",
        "Calculating energy for column ('power', 'active')\n",
        "Calculating energy for column ('power', 'active')\n",
        "Calculating energy for column"
       ]
      },
      {
       "output_type": "stream",
       "stream": "stdout",
       "text": [
        " ('power', 'active')\n",
        "Calculating energy for column ('power', 'active')\n",
        "Calculating energy for column ('power', 'active')\n",
        "Calculating energy for column"
       ]
      },
      {
       "output_type": "stream",
       "stream": "stdout",
       "text": [
        " ('power', 'active')\n",
        "Calculating energy for column"
       ]
      },
      {
       "output_type": "stream",
       "stream": "stdout",
       "text": [
        " ('power', 'active')\n",
        "Calculating energy for column ('power', 'active')\n",
        "Calculating energy for column"
       ]
      },
      {
       "output_type": "stream",
       "stream": "stdout",
       "text": [
        " ('power', 'active')\n",
        "Calculating energy for column ('power', 'active')\n",
        "Calculating energy for column"
       ]
      },
      {
       "output_type": "stream",
       "stream": "stdout",
       "text": [
        " ('power', 'active')\n",
        "Calculating energy for column ('power', 'active')\n",
        "Calculating energy for column ('power', 'active')\n",
        "Calculating energy for column"
       ]
      },
      {
       "output_type": "stream",
       "stream": "stdout",
       "text": [
        " ('power', 'active')\n",
        "Calculating energy for column ('power', 'active')\n",
        "Calculating energy for column"
       ]
      },
      {
       "output_type": "stream",
       "stream": "stdout",
       "text": [
        " ('power', 'active')\n",
        "Calculating energy for column ('power', 'active')\n",
        "Calculating energy for column"
       ]
      },
      {
       "output_type": "stream",
       "stream": "stdout",
       "text": [
        " ('power', 'active')\n",
        "Calculating energy for column ('power', 'active')\n",
        "Calculating energy for column ('power', 'active')\n",
        "Calculating energy for column"
       ]
      },
      {
       "output_type": "stream",
       "stream": "stdout",
       "text": [
        " ('power', 'active')\n",
        "Calculating energy for column ('power', 'active')\n",
        "Calculating energy for column"
       ]
      },
      {
       "output_type": "stream",
       "stream": "stdout",
       "text": [
        " ('power', 'active')\n",
        "Calculating energy for column ('power', 'active')\n",
        "Calculating energy for column"
       ]
      },
      {
       "output_type": "stream",
       "stream": "stdout",
       "text": [
        " ('power', 'active')\n",
        "Calculating energy for column ('power', 'active')\n",
        "Calculating energy for column ('power', 'active')\n",
        "Calculating energy for column"
       ]
      },
      {
       "output_type": "stream",
       "stream": "stdout",
       "text": [
        " ('power', 'active')\n",
        "Calculating energy for column ('power', 'active')\n",
        "Calculating energy for column"
       ]
      },
      {
       "output_type": "stream",
       "stream": "stdout",
       "text": [
        " ('power', 'active')\n",
        "Calculating energy for column ('power', 'active')\n",
        "Calculating energy for column ('power', 'active')\n",
        "Calculating energy for column"
       ]
      },
      {
       "output_type": "stream",
       "stream": "stdout",
       "text": [
        " ('power', 'active')\n",
        "Calculating energy for column ('power', 'active')\n",
        "Calculating energy for column ('power', 'active')\n",
        "Calculating energy for column"
       ]
      },
      {
       "output_type": "stream",
       "stream": "stdout",
       "text": [
        " ('power', 'active')\n",
        "Calculating energy for column ('power', 'active')\n",
        "Calculating energy for column ('power', 'active')\n",
        "Calculating energy for column"
       ]
      },
      {
       "output_type": "stream",
       "stream": "stdout",
       "text": [
        " ('power', 'active')\n",
        "Calculating energy for column ('power', 'active')\n",
        "Calculating energy for column"
       ]
      },
      {
       "output_type": "stream",
       "stream": "stdout",
       "text": [
        " ('power', 'active')\n",
        "Calculating energy for column"
       ]
      },
      {
       "output_type": "stream",
       "stream": "stdout",
       "text": [
        " ('power', 'active')\n",
        "Calculating energy for column ('power', 'active')\n",
        "Calculating energy for column"
       ]
      },
      {
       "output_type": "stream",
       "stream": "stdout",
       "text": [
        " ('power', 'active')\n",
        "Calculating energy for column"
       ]
      },
      {
       "output_type": "stream",
       "stream": "stdout",
       "text": [
        " ('power', 'active')\n",
        "Calculating energy for column ('power', 'active')\n",
        "Calculating energy for column"
       ]
      },
      {
       "output_type": "stream",
       "stream": "stdout",
       "text": [
        " ('power', 'active')\n",
        "Calculating energy for column ('power', 'active')\n",
        "Calculating energy for column"
       ]
      },
      {
       "output_type": "stream",
       "stream": "stdout",
       "text": [
        " ('power', 'active')\n",
        "Calculating energy for column ('power', 'active')\n",
        "Calculating energy for column"
       ]
      },
      {
       "output_type": "stream",
       "stream": "stdout",
       "text": [
        " ('power', 'active')\n",
        "Calculating energy for column ('power', 'active')\n",
        "Calculating energy for column"
       ]
      },
      {
       "output_type": "stream",
       "stream": "stdout",
       "text": [
        " ('power', 'active')\n",
        "Calculating energy for column ('power', 'active')\n",
        "Calculating energy for column"
       ]
      },
      {
       "output_type": "stream",
       "stream": "stdout",
       "text": [
        " ('power', 'active')\n",
        "Calculating energy for column ('power', 'active')\n",
        "Calculating energy for column"
       ]
      },
      {
       "output_type": "stream",
       "stream": "stdout",
       "text": [
        " ('power', 'active')\n",
        "Calculating energy for column ('power', 'active')\n",
        "Calculating energy for column"
       ]
      },
      {
       "output_type": "stream",
       "stream": "stdout",
       "text": [
        " ('power', 'active')\n",
        "Calculating energy for column ('power', 'active')\n",
        "Calculating energy for column"
       ]
      },
      {
       "output_type": "stream",
       "stream": "stdout",
       "text": [
        " ('power', 'active')\n",
        "Calculating energy for column ('power', 'active')\n",
        "Calculating energy for column"
       ]
      },
      {
       "output_type": "stream",
       "stream": "stdout",
       "text": [
        " ('power', 'active')\n",
        "Calculating energy for column ('power', 'active')\n",
        "Calculating energy for column"
       ]
      },
      {
       "output_type": "stream",
       "stream": "stdout",
       "text": [
        " ('power', 'active')\n",
        "Calculating energy for column ('power', 'active')\n",
        "Calculating energy for column"
       ]
      },
      {
       "output_type": "stream",
       "stream": "stdout",
       "text": [
        " ('power', 'active')\n",
        "Calculating energy for column ('power', 'active')\n",
        "Calculating energy for column"
       ]
      },
      {
       "output_type": "stream",
       "stream": "stdout",
       "text": [
        " ('power', 'active')\n",
        "Calculating energy for column ('power', 'active')\n",
        "Calculating energy for column"
       ]
      },
      {
       "output_type": "stream",
       "stream": "stdout",
       "text": [
        " ('power', 'active')\n",
        "Calculating energy for column ('power', 'active')\n",
        "Calculating energy for column"
       ]
      },
      {
       "output_type": "stream",
       "stream": "stdout",
       "text": [
        " ('power', 'active')\n",
        "Calculating energy for column ('power', 'active')\n",
        "Calculating energy for column"
       ]
      },
      {
       "output_type": "stream",
       "stream": "stdout",
       "text": [
        " ('power', 'active')\n",
        "Calculating energy for column ('power', 'active')\n",
        "Calculating energy for column"
       ]
      },
      {
       "output_type": "stream",
       "stream": "stdout",
       "text": [
        " ('power', 'active')\n",
        "Calculating energy for column ('power', 'active')\n",
        "Calculating energy for column"
       ]
      },
      {
       "output_type": "stream",
       "stream": "stdout",
       "text": [
        " ('power', 'active')\n",
        "Calculating energy for column ('power', 'active')\n",
        "Calculating energy for column"
       ]
      },
      {
       "output_type": "stream",
       "stream": "stdout",
       "text": [
        " ('power', 'active')\n",
        "Calculating energy for column ('power', 'active')\n",
        "Calculating energy for column"
       ]
      },
      {
       "output_type": "stream",
       "stream": "stdout",
       "text": [
        " ('power', 'active')\n",
        "Calculating energy for column ('power', 'active')\n",
        "Calculating energy for column"
       ]
      },
      {
       "output_type": "stream",
       "stream": "stdout",
       "text": [
        " ('power', 'active')\n",
        "Calculating energy for column ('power', 'active')\n",
        "Calculating energy for column"
       ]
      },
      {
       "output_type": "stream",
       "stream": "stdout",
       "text": [
        " ('power', 'active')\n",
        "Calculating energy for column ('power', 'active')\n",
        "Calculating energy for column"
       ]
      },
      {
       "output_type": "stream",
       "stream": "stdout",
       "text": [
        " ('power', 'active')\n",
        "Calculating energy for column ('power', 'active')\n",
        "Calculating energy for column"
       ]
      },
      {
       "output_type": "stream",
       "stream": "stdout",
       "text": [
        " ('power', 'active')\n",
        "Calculating energy for column ('power', 'active')\n",
        "Calculating energy for column"
       ]
      },
      {
       "output_type": "stream",
       "stream": "stdout",
       "text": [
        " ('power', 'active')\n",
        "Calculating energy for column ('power', 'active')\n",
        "Calculating energy for column"
       ]
      },
      {
       "output_type": "stream",
       "stream": "stdout",
       "text": [
        " ('power', 'active')\n",
        "Calculating energy for column ('power', 'active')\n",
        "Calculating energy for column"
       ]
      },
      {
       "output_type": "stream",
       "stream": "stdout",
       "text": [
        " ('power', 'active')\n",
        "Calculating energy for column ('power', 'active')\n",
        "Calculating energy for column"
       ]
      },
      {
       "output_type": "stream",
       "stream": "stdout",
       "text": [
        " ('power', 'active')\n",
        "Calculating energy for column ('power', 'active')\n",
        "Calculating energy for column"
       ]
      },
      {
       "output_type": "stream",
       "stream": "stdout",
       "text": [
        " ('power', 'active')\n",
        "Calculating energy for column ('power', 'active')\n",
        "Calculating energy for column"
       ]
      },
      {
       "output_type": "stream",
       "stream": "stdout",
       "text": [
        " ('power', 'active')\n",
        "Calculating energy for column ('power', 'active')\n",
        "Calculating energy for column"
       ]
      },
      {
       "output_type": "stream",
       "stream": "stdout",
       "text": [
        " ('power', 'active')\n",
        "Calculating energy for column ('power', 'active')\n",
        "Calculating energy for column"
       ]
      },
      {
       "output_type": "stream",
       "stream": "stdout",
       "text": [
        " ('power', 'active')\n",
        "Calculating energy for column ('power', 'active')\n",
        "Calculating energy for column"
       ]
      },
      {
       "output_type": "stream",
       "stream": "stdout",
       "text": [
        " ('power', 'active')\n",
        "Calculating energy for column ('power', 'active')\n",
        "Calculating energy for column"
       ]
      },
      {
       "output_type": "stream",
       "stream": "stdout",
       "text": [
        " ('power', 'active')\n",
        "Calculating energy for column ('power', 'active')\n",
        "Calculating energy for column"
       ]
      },
      {
       "output_type": "stream",
       "stream": "stdout",
       "text": [
        " ('power', 'active')\n",
        "Calculating energy for column"
       ]
      },
      {
       "output_type": "stream",
       "stream": "stdout",
       "text": [
        " ('power', 'active')\n",
        "Calculating energy for column ('power', 'active')\n",
        "Calculating energy for column"
       ]
      },
      {
       "output_type": "stream",
       "stream": "stdout",
       "text": [
        " ('power', 'active')\n",
        "Calculating energy for column ('power', 'active')\n",
        "Calculating energy for column"
       ]
      },
      {
       "output_type": "stream",
       "stream": "stdout",
       "text": [
        " ('power', 'active')\n",
        "Calculating energy for column ('power', 'active')\n",
        "Calculating energy for column"
       ]
      },
      {
       "output_type": "stream",
       "stream": "stdout",
       "text": [
        " ('power', 'active')\n",
        "Calculating energy for column ('power', 'active')\n",
        "Calculating energy for column"
       ]
      },
      {
       "output_type": "stream",
       "stream": "stdout",
       "text": [
        " ('power', 'active')\n",
        "Calculating energy for column ('power', 'active')\n",
        "Calculating energy for column"
       ]
      },
      {
       "output_type": "stream",
       "stream": "stdout",
       "text": [
        " ('power', 'active')\n",
        "Calculating energy for column ('power', 'active')\n",
        "Calculating energy for column"
       ]
      },
      {
       "output_type": "stream",
       "stream": "stdout",
       "text": [
        " ('power', 'active')\n",
        "Calculating energy for column ('power', 'active')\n",
        "Calculating energy for column"
       ]
      },
      {
       "output_type": "stream",
       "stream": "stdout",
       "text": [
        " ('power', 'active')\n",
        "Calculating energy for column ('power', 'active')\n",
        "Calculating energy for column"
       ]
      },
      {
       "output_type": "stream",
       "stream": "stdout",
       "text": [
        " ('power', 'active')\n",
        "Calculating energy for column"
       ]
      },
      {
       "output_type": "stream",
       "stream": "stdout",
       "text": [
        " ('power', 'active')\n",
        "Calculating energy for column ('power', 'active')\n",
        "Calculating energy for column"
       ]
      },
      {
       "output_type": "stream",
       "stream": "stdout",
       "text": [
        " ('power', 'active')\n",
        "Calculating energy for column ('power', 'active')\n",
        "Calculating energy for column"
       ]
      },
      {
       "output_type": "stream",
       "stream": "stdout",
       "text": [
        " ('power', 'active')\n",
        "Calculating energy for column"
       ]
      },
      {
       "output_type": "stream",
       "stream": "stdout",
       "text": [
        " ('power', 'active')\n",
        "Calculating energy for column"
       ]
      },
      {
       "output_type": "stream",
       "stream": "stdout",
       "text": [
        " ('power', 'active')\n",
        "Calculating energy for column ('power', 'active')\n",
        "Calculating energy for column"
       ]
      },
      {
       "output_type": "stream",
       "stream": "stdout",
       "text": [
        " ('power', 'active')\n",
        "Calculating energy for column ('power', 'active')\n",
        "Calculating energy for column"
       ]
      },
      {
       "output_type": "stream",
       "stream": "stdout",
       "text": [
        " ('power', 'active')\n",
        "Calculating energy for column ('power', 'active')\n",
        "Calculating energy for column"
       ]
      },
      {
       "output_type": "stream",
       "stream": "stdout",
       "text": [
        " ('power', 'active')\n",
        "Calculating energy for column ('power', 'active')\n",
        "Calculating energy for column"
       ]
      },
      {
       "output_type": "stream",
       "stream": "stdout",
       "text": [
        " ('power', 'active')\n",
        "Calculating energy for column ('power', 'active')\n",
        "Calculating energy for column"
       ]
      },
      {
       "output_type": "stream",
       "stream": "stdout",
       "text": [
        " ('power', 'active')\n",
        "Calculating energy for column ('power', 'active')\n",
        "Calculating energy for column"
       ]
      },
      {
       "output_type": "stream",
       "stream": "stdout",
       "text": [
        " ('power', 'active')\n",
        "Calculating energy for column"
       ]
      },
      {
       "output_type": "stream",
       "stream": "stdout",
       "text": [
        " ('power', 'active')\n",
        "Calculating energy for column ('power', 'active')\n",
        "Calculating energy for column"
       ]
      },
      {
       "output_type": "stream",
       "stream": "stdout",
       "text": [
        " ('power', 'active')\n",
        "Calculating energy for column ('power', 'active')\n",
        "Calculating energy for column"
       ]
      },
      {
       "output_type": "stream",
       "stream": "stdout",
       "text": [
        " ('power', 'active')\n",
        "Calculating energy for column ('power', 'active')\n",
        "Calculating energy for column"
       ]
      },
      {
       "output_type": "stream",
       "stream": "stdout",
       "text": [
        " ('power', 'active')\n",
        "Calculating energy for column"
       ]
      },
      {
       "output_type": "stream",
       "stream": "stdout",
       "text": [
        " ('power', 'active')\n",
        "Calculating energy for column"
       ]
      },
      {
       "output_type": "stream",
       "stream": "stdout",
       "text": [
        " ('power', 'active')\n",
        "Calculating energy for column"
       ]
      },
      {
       "output_type": "stream",
       "stream": "stdout",
       "text": [
        " ('power', 'active')\n",
        "Calculating energy for column ('power', 'active')\n",
        "Calculating energy for column"
       ]
      },
      {
       "output_type": "stream",
       "stream": "stdout",
       "text": [
        " ('power', 'active')\n",
        "Calculating energy for column"
       ]
      },
      {
       "output_type": "stream",
       "stream": "stdout",
       "text": [
        " ('power', 'active')\n",
        "Calculating energy for column ('power', 'active')\n",
        "Calculating energy for column"
       ]
      },
      {
       "output_type": "stream",
       "stream": "stdout",
       "text": [
        " ('power', 'active')\n",
        "Calculating energy for column"
       ]
      },
      {
       "output_type": "stream",
       "stream": "stdout",
       "text": [
        " ('power', 'active')\n",
        "Calculating energy for column"
       ]
      },
      {
       "output_type": "stream",
       "stream": "stdout",
       "text": [
        " ('power', 'active')\n",
        "Calculating energy for column"
       ]
      },
      {
       "output_type": "stream",
       "stream": "stdout",
       "text": [
        " ('power', 'active')\n",
        "Calculating energy for column"
       ]
      },
      {
       "output_type": "stream",
       "stream": "stdout",
       "text": [
        " ('power', 'active')\n",
        "Calculating energy for column"
       ]
      },
      {
       "output_type": "stream",
       "stream": "stdout",
       "text": [
        " ('power', 'active')\n",
        "Calculating energy for column ('power', 'active')\n",
        "Calculating energy for column"
       ]
      },
      {
       "output_type": "stream",
       "stream": "stdout",
       "text": [
        " ('power', 'active')\n",
        "Calculating energy for column"
       ]
      },
      {
       "output_type": "stream",
       "stream": "stdout",
       "text": [
        " ('power', 'active')\n",
        "Calculating energy for column ('power', 'active')\n",
        "Calculating energy for column"
       ]
      },
      {
       "output_type": "stream",
       "stream": "stdout",
       "text": [
        " ('power', 'active')\n",
        "Calculating energy for column"
       ]
      },
      {
       "output_type": "stream",
       "stream": "stdout",
       "text": [
        " ('power', 'active')\n",
        "Calculating energy for column"
       ]
      },
      {
       "output_type": "stream",
       "stream": "stdout",
       "text": [
        " ('power', 'active')\n",
        "Calculating energy for column"
       ]
      },
      {
       "output_type": "stream",
       "stream": "stdout",
       "text": [
        " ('power', 'active')\n",
        "Calculating energy for column ('power', 'active')\n",
        "Calculating energy for column ('power', 'active')\n",
        "Calculating energy for column ('power', 'active')\n",
        "Calculating energy for column ('power', 'active')\n",
        "Calculating energy for column"
       ]
      },
      {
       "output_type": "stream",
       "stream": "stdout",
       "text": [
        " ('power', 'active')\n",
        "Calculating energy for column ('power', 'active')\n",
        "Calculating energy for column ('power', 'active')\n",
        "Calculating energy for column"
       ]
      },
      {
       "output_type": "stream",
       "stream": "stdout",
       "text": [
        " ('power', 'active')\n",
        "Calculating energy for column"
       ]
      },
      {
       "output_type": "stream",
       "stream": "stdout",
       "text": [
        " ('power', 'active')\n",
        "Calculating energy for column ('power', 'active')\n",
        "Calculating energy for column ('power', 'active')\n",
        "Calculating energy for column"
       ]
      },
      {
       "output_type": "stream",
       "stream": "stdout",
       "text": [
        " ('power', 'active')\n",
        "Calculating energy for column ('power', 'active')\n",
        "Calculating energy for column"
       ]
      },
      {
       "output_type": "stream",
       "stream": "stdout",
       "text": [
        " ('power', 'active')\n",
        "Calculating energy for column ('power', 'active')\n",
        "Calculating energy for column ('power', 'active')\n",
        "Calculating energy for column"
       ]
      },
      {
       "output_type": "stream",
       "stream": "stdout",
       "text": [
        " ('power', 'active')\n",
        "Calculating energy for column ('power', 'active')\n",
        "Calculating energy for column ('power', 'active')\n",
        "Calculating energy for column"
       ]
      },
      {
       "output_type": "stream",
       "stream": "stdout",
       "text": [
        " ('power', 'active')\n",
        "Calculating energy for column ('power', 'active')\n",
        "Calculating energy for column"
       ]
      },
      {
       "output_type": "stream",
       "stream": "stdout",
       "text": [
        " ('power', 'active')\n",
        "Calculating energy for column ('power', 'active')\n",
        "Calculating energy for column ('power', 'active')\n",
        "Calculating energy for column"
       ]
      },
      {
       "output_type": "stream",
       "stream": "stdout",
       "text": [
        " ('power', 'active')\n",
        "Calculating energy for column ('power', 'active')\n",
        "Calculating energy for column"
       ]
      },
      {
       "output_type": "stream",
       "stream": "stdout",
       "text": [
        " ('power', 'active')\n",
        "Calculating energy for column ('power', 'active')\n",
        "Calculating energy for column ('power', 'active')\n",
        "Calculating energy for column"
       ]
      },
      {
       "output_type": "stream",
       "stream": "stdout",
       "text": [
        " ('power', 'active')\n",
        "Calculating energy for column ('power', 'active')\n",
        "Calculating energy for column ('power', 'active')\n",
        "Calculating energy for column"
       ]
      },
      {
       "output_type": "stream",
       "stream": "stdout",
       "text": [
        " ('power', 'active')\n",
        "Calculating energy for column ('power', 'active')\n",
        "Calculating energy for column"
       ]
      },
      {
       "output_type": "stream",
       "stream": "stdout",
       "text": [
        " ('power', 'active')\n",
        "Calculating energy for column ('power', 'active')\n",
        "Calculating energy for column ('power', 'active')\n",
        "Calculating energy for column"
       ]
      },
      {
       "output_type": "stream",
       "stream": "stdout",
       "text": [
        " ('power', 'active')\n",
        "Calculating energy for column ('power', 'active')\n",
        "Calculating energy for column"
       ]
      },
      {
       "output_type": "stream",
       "stream": "stdout",
       "text": [
        " ('power', 'active')\n",
        "Calculating energy for column ('power', 'active')\n",
        "Calculating energy for column"
       ]
      },
      {
       "output_type": "stream",
       "stream": "stdout",
       "text": [
        " ('power', 'active')\n",
        "Calculating energy for column ('power', 'active')\n",
        "Calculating energy for column"
       ]
      },
      {
       "output_type": "stream",
       "stream": "stdout",
       "text": [
        " ('power', 'active')\n",
        "Calculating energy for column ('power', 'active')\n",
        "Calculating energy for column"
       ]
      },
      {
       "output_type": "stream",
       "stream": "stdout",
       "text": [
        " ('power', 'active')\n",
        "Calculating energy for column"
       ]
      },
      {
       "output_type": "stream",
       "stream": "stdout",
       "text": [
        " ('power', 'active')\n",
        "Calculating energy for column ('power', 'active')\n",
        "Calculating energy for column"
       ]
      },
      {
       "output_type": "stream",
       "stream": "stdout",
       "text": [
        " ('power', 'active')\n",
        "Calculating energy for column ('power', 'active')\n",
        "Calculating energy for column"
       ]
      },
      {
       "output_type": "stream",
       "stream": "stdout",
       "text": [
        " ('power', 'active')\n",
        "Calculating energy for column"
       ]
      },
      {
       "output_type": "stream",
       "stream": "stdout",
       "text": [
        " ('power', 'active')\n",
        "Calculating energy for column ('power', 'active')\n",
        "Calculating energy for column"
       ]
      },
      {
       "output_type": "stream",
       "stream": "stdout",
       "text": [
        " ('power', 'active')\n",
        "Calculating energy for column ('power', 'active')\n",
        "Calculating energy for column"
       ]
      },
      {
       "output_type": "stream",
       "stream": "stdout",
       "text": [
        " ('power', 'active')\n",
        "Calculating energy for column ('power', 'active')\n",
        "Calculating energy for column"
       ]
      },
      {
       "output_type": "stream",
       "stream": "stdout",
       "text": [
        " ('power', 'active')\n",
        "Calculating energy for column ('power', 'active')\n",
        "Calculating energy for column"
       ]
      },
      {
       "output_type": "stream",
       "stream": "stdout",
       "text": [
        " ('power', 'active')\n",
        "Calculating energy for column ('power', 'active')\n",
        "Calculating energy for column"
       ]
      },
      {
       "output_type": "stream",
       "stream": "stdout",
       "text": [
        " ('power', 'active')\n",
        "Calculating energy for column ('power', 'active')\n",
        "Calculating energy for column"
       ]
      },
      {
       "output_type": "stream",
       "stream": "stdout",
       "text": [
        " ('power', 'active')\n",
        "Calculating energy for column ('power', 'active')\n",
        "Calculating energy for column"
       ]
      },
      {
       "output_type": "stream",
       "stream": "stdout",
       "text": [
        " ('power', 'active')\n",
        "Calculating energy for column ('power', 'active')\n",
        "Calculating energy for column"
       ]
      },
      {
       "output_type": "stream",
       "stream": "stdout",
       "text": [
        " ('power', 'active')\n",
        "Calculating energy for column ('power', 'active')\n",
        "Calculating energy for column"
       ]
      },
      {
       "output_type": "stream",
       "stream": "stdout",
       "text": [
        " ('power', 'active')\n",
        "Calculating energy for column"
       ]
      },
      {
       "output_type": "stream",
       "stream": "stdout",
       "text": [
        " ('power', 'active')\n",
        "Calculating energy for column ('power', 'active')\n",
        "Calculating energy for column"
       ]
      },
      {
       "output_type": "stream",
       "stream": "stdout",
       "text": [
        " ('power', 'active')\n",
        "Calculating energy for column ('power', 'active')\n",
        "Calculating energy for column"
       ]
      },
      {
       "output_type": "stream",
       "stream": "stdout",
       "text": [
        " ('power', 'active')\n",
        "Calculating energy for column ('power', 'active')\n",
        "Calculating energy for column"
       ]
      },
      {
       "output_type": "stream",
       "stream": "stdout",
       "text": [
        " ('power', 'active')\n",
        "Calculating energy for column ('power', 'active')\n",
        "Calculating energy for column"
       ]
      },
      {
       "output_type": "stream",
       "stream": "stdout",
       "text": [
        " ('power', 'active')\n",
        "Calculating energy for column ('power', 'active')\n",
        "Calculating energy for column"
       ]
      },
      {
       "output_type": "stream",
       "stream": "stdout",
       "text": [
        " ('power', 'active')\n",
        "Calculating energy for column ('power', 'active')\n",
        "Calculating energy for column"
       ]
      },
      {
       "output_type": "stream",
       "stream": "stdout",
       "text": [
        " ('power', 'active')\n",
        "Calculating energy for column ('power', 'active')\n",
        "Calculating energy for column"
       ]
      },
      {
       "output_type": "stream",
       "stream": "stdout",
       "text": [
        " ('power', 'active')\n",
        "Calculating energy for column"
       ]
      },
      {
       "output_type": "stream",
       "stream": "stdout",
       "text": [
        " ('power', 'active')\n",
        "Calculating energy for column ('power', 'active')\n",
        "Calculating energy for column"
       ]
      },
      {
       "output_type": "stream",
       "stream": "stdout",
       "text": [
        " ('power', 'active')\n",
        "Calculating energy for column ('power', 'active')\n",
        "Calculating energy for column"
       ]
      },
      {
       "output_type": "stream",
       "stream": "stdout",
       "text": [
        " ('power', 'active')\n",
        "Calculating energy for column ('power', 'active')\n",
        "Calculating energy for column"
       ]
      },
      {
       "output_type": "stream",
       "stream": "stdout",
       "text": [
        " ('power', 'active')\n",
        "Calculating energy for column ('power', 'active')\n",
        "Calculating energy for column"
       ]
      },
      {
       "output_type": "stream",
       "stream": "stdout",
       "text": [
        " ('power', 'active')\n",
        "Calculating energy for column ('power', 'active')\n",
        "Calculating energy for column"
       ]
      },
      {
       "output_type": "stream",
       "stream": "stdout",
       "text": [
        " ('power', 'active')\n",
        "Calculating energy for column ('power', 'active')\n",
        "Calculating energy for column"
       ]
      },
      {
       "output_type": "stream",
       "stream": "stdout",
       "text": [
        " ('power', 'active')\n",
        "Calculating energy for column ('power', 'active')\n",
        "Calculating energy for column"
       ]
      },
      {
       "output_type": "stream",
       "stream": "stdout",
       "text": [
        " ('power', 'active')\n",
        "Calculating energy for column ('power', 'active')\n",
        "Calculating energy for column"
       ]
      },
      {
       "output_type": "stream",
       "stream": "stdout",
       "text": [
        " ('power', 'active')\n",
        "Calculating energy for column"
       ]
      },
      {
       "output_type": "stream",
       "stream": "stdout",
       "text": [
        " ('power', 'active')\n",
        "Calculating energy for column ('power', 'active')\n",
        "Calculating energy for column"
       ]
      },
      {
       "output_type": "stream",
       "stream": "stdout",
       "text": [
        " ('power', 'active')\n",
        "Calculating energy for column"
       ]
      },
      {
       "output_type": "stream",
       "stream": "stdout",
       "text": [
        " ('power', 'active')\n",
        "Calculating energy for column"
       ]
      },
      {
       "output_type": "stream",
       "stream": "stdout",
       "text": [
        " ('power', 'active')\n",
        "Calculating energy for column ('power', 'active')\n",
        "Calculating energy for column"
       ]
      },
      {
       "output_type": "stream",
       "stream": "stdout",
       "text": [
        " ('power', 'active')\n",
        "Calculating energy for column ('power', 'active')\n",
        "Calculating energy for column"
       ]
      },
      {
       "output_type": "stream",
       "stream": "stdout",
       "text": [
        " ('power', 'active')\n",
        "Calculating energy for column ('power', 'active')\n",
        "Calculating energy for column"
       ]
      },
      {
       "output_type": "stream",
       "stream": "stdout",
       "text": [
        " ('power', 'active')\n",
        "Calculating energy for column"
       ]
      },
      {
       "output_type": "stream",
       "stream": "stdout",
       "text": [
        " ('power', 'active')\n",
        "Calculating energy for column ('power', 'active')\n",
        "Calculating energy for column"
       ]
      },
      {
       "output_type": "stream",
       "stream": "stdout",
       "text": [
        " ('power', 'active')\n",
        "Calculating energy for column"
       ]
      },
      {
       "output_type": "stream",
       "stream": "stdout",
       "text": [
        " ('power', 'active')\n",
        "Calculating energy for column ('power', 'active')\n",
        "Calculating energy for column"
       ]
      },
      {
       "output_type": "stream",
       "stream": "stdout",
       "text": [
        " ('power', 'active')\n",
        "Calculating energy for column ('power', 'active')\n",
        "Calculating energy for column"
       ]
      },
      {
       "output_type": "stream",
       "stream": "stdout",
       "text": [
        " ('power', 'active')\n",
        "Calculating energy for column ('power', 'active')\n",
        "Calculating energy for column"
       ]
      },
      {
       "output_type": "stream",
       "stream": "stdout",
       "text": [
        " ('power', 'active')\n",
        "Calculating energy for column"
       ]
      },
      {
       "output_type": "stream",
       "stream": "stdout",
       "text": [
        " ('power', 'active')\n",
        "Calculating energy for column ('power', 'active')\n",
        "Calculating energy for column"
       ]
      },
      {
       "output_type": "stream",
       "stream": "stdout",
       "text": [
        " ('power', 'active')\n",
        "Calculating energy for column"
       ]
      },
      {
       "output_type": "stream",
       "stream": "stdout",
       "text": [
        " ('power', 'active')\n",
        "Calculating energy for column"
       ]
      },
      {
       "output_type": "stream",
       "stream": "stdout",
       "text": [
        " ('power', 'active')\n",
        "Calculating energy for column ('power', 'active')\n",
        "Calculating energy for column"
       ]
      },
      {
       "output_type": "stream",
       "stream": "stdout",
       "text": [
        " ('power', 'active')\n",
        "Calculating energy for column ('power', 'active')\n",
        "Calculating energy for column"
       ]
      },
      {
       "output_type": "stream",
       "stream": "stdout",
       "text": [
        " ('power', 'active')\n",
        "Calculating energy for column"
       ]
      },
      {
       "output_type": "stream",
       "stream": "stdout",
       "text": [
        " ('power', 'active')\n",
        "Calculating energy for column"
       ]
      },
      {
       "output_type": "stream",
       "stream": "stdout",
       "text": [
        " ('power', 'active')\n",
        "Calculating energy for column ('power', 'active')\n",
        "Calculating energy for column ('power', 'active')\n",
        "Calculating energy for column ('power', 'active')\n",
        "Calculating energy for column ('power', 'active')\n",
        "Calculating energy for column ('power', 'active')\n",
        "Calculating energy for column"
       ]
      },
      {
       "output_type": "stream",
       "stream": "stdout",
       "text": [
        " ('power', 'active')\n",
        "Calculating energy for column ('power', 'active')\n",
        "Calculating energy for column ('power', 'active')\n",
        "Calculating energy for column ('power', 'active')\n",
        "Calculating energy for column"
       ]
      },
      {
       "output_type": "stream",
       "stream": "stdout",
       "text": [
        " ('power', 'active')\n",
        "Calculating energy for column ('power', 'active')\n",
        "Calculating energy for column ('power', 'active')\n",
        "Calculating energy for column ('power', 'active')\n",
        "Calculating energy for column ('power', 'active')\n",
        "Calculating energy for column"
       ]
      },
      {
       "output_type": "stream",
       "stream": "stdout",
       "text": [
        " ('power', 'active')\n",
        "Calculating energy for column ('power', 'active')\n",
        "Calculating energy for column ('power', 'active')\n",
        "Calculating energy for column ('power', 'active')\n",
        "Calculating energy for column"
       ]
      },
      {
       "output_type": "stream",
       "stream": "stdout",
       "text": [
        " ('power', 'active')\n",
        "Calculating energy for column ('power', 'active')\n",
        "Calculating energy for column ('power', 'active')\n",
        "Calculating energy for column"
       ]
      },
      {
       "output_type": "stream",
       "stream": "stdout",
       "text": [
        " ('power', 'active')\n",
        "Calculating energy for column ('power', 'active')\n",
        "Calculating energy for column ('power', 'active')\n",
        "Calculating energy for column ('power', 'active')\n",
        "Calculating energy for column"
       ]
      },
      {
       "output_type": "stream",
       "stream": "stdout",
       "text": [
        " ('power', 'active')\n",
        "Calculating energy for column ('power', 'active')\n",
        "Calculating energy for column ('power', 'active')\n",
        "Calculating energy for column ('power', 'active')\n",
        "Calculating energy for column"
       ]
      },
      {
       "output_type": "stream",
       "stream": "stdout",
       "text": [
        " ('power', 'active')\n",
        "Calculating energy for column ('power', 'active')\n",
        "Calculating energy for column ('power', 'active')\n",
        "Calculating energy for column ('power', 'active')\n",
        "Calculating energy for column ('power', 'active')\n",
        "Calculating energy for column"
       ]
      },
      {
       "output_type": "stream",
       "stream": "stdout",
       "text": [
        " ('power', 'active')\n",
        "Calculating energy for column ('power', 'active')\n",
        "Calculating energy for column ('power', 'active')\n",
        "Calculating energy for column ('power', 'active')\n",
        "Calculating energy for column"
       ]
      },
      {
       "output_type": "stream",
       "stream": "stdout",
       "text": [
        " ('power', 'active')\n",
        "Calculating energy for column ('power', 'active')\n",
        "Calculating energy for column ('power', 'active')\n",
        "Calculating energy for column ('power', 'active')\n",
        "Calculating energy for column"
       ]
      },
      {
       "output_type": "stream",
       "stream": "stdout",
       "text": [
        " ('power', 'active')\n",
        "Calculating energy for column ('power', 'active')\n",
        "Calculating energy for column ('power', 'active')\n",
        "Calculating energy for column ('power', 'active')\n",
        "Calculating energy for column"
       ]
      },
      {
       "output_type": "stream",
       "stream": "stdout",
       "text": [
        " ('power', 'active')\n",
        "Calculating energy for column ('power', 'active')\n",
        "Calculating energy for column ('power', 'active')\n",
        "Calculating energy for column ('power', 'active')\n",
        "Calculating energy for column"
       ]
      },
      {
       "output_type": "stream",
       "stream": "stdout",
       "text": [
        " ('power', 'active')\n",
        "Calculating energy for column ('power', 'active')\n",
        "Calculating energy for column ('power', 'active')\n",
        "Calculating energy for column"
       ]
      },
      {
       "output_type": "stream",
       "stream": "stdout",
       "text": [
        " ('power', 'active')\n",
        "Calculating energy for column ('power', 'active')\n",
        "Calculating energy for column ('power', 'active')\n",
        "Calculating energy for column"
       ]
      },
      {
       "output_type": "stream",
       "stream": "stdout",
       "text": [
        " ('power', 'active')\n",
        "Calculating energy for column ('power', 'active')\n",
        "Calculating energy for column"
       ]
      },
      {
       "output_type": "stream",
       "stream": "stdout",
       "text": [
        " ('power', 'active')\n",
        "Calculating energy for column ('power', 'active')\n",
        "Calculating energy for column ('power', 'active')\n",
        "Calculating energy for column"
       ]
      },
      {
       "output_type": "stream",
       "stream": "stdout",
       "text": [
        " ('power', 'active')\n",
        "Calculating energy for column ('power', 'active')\n",
        "Calculating energy for column ('power', 'active')\n",
        "Calculating energy for column"
       ]
      },
      {
       "output_type": "stream",
       "stream": "stdout",
       "text": [
        " ('power', 'active')\n",
        "Calculating energy for column ('power', 'active')\n",
        "Calculating energy for column"
       ]
      },
      {
       "output_type": "stream",
       "stream": "stdout",
       "text": [
        " ('power', 'active')\n",
        "Calculating energy for column ('power', 'active')\n",
        "Calculating energy for column ('power', 'active')\n",
        "Calculating energy for column"
       ]
      },
      {
       "output_type": "stream",
       "stream": "stdout",
       "text": [
        " ('power', 'active')\n",
        "Calculating energy for column ('power', 'active')\n",
        "Calculating energy for column ('power', 'active')\n",
        "Calculating energy for column"
       ]
      },
      {
       "output_type": "stream",
       "stream": "stdout",
       "text": [
        " ('power', 'active')\n",
        "Calculating energy for column ('power', 'active')\n",
        "Calculating energy for column ('power', 'active')\n",
        "Calculating energy for column"
       ]
      },
      {
       "output_type": "stream",
       "stream": "stdout",
       "text": [
        " ('power', 'active')\n",
        "Calculating energy for column ('power', 'active')\n",
        "Calculating energy for column"
       ]
      },
      {
       "output_type": "stream",
       "stream": "stdout",
       "text": [
        " ('power', 'active')\n",
        "Calculating energy for column ('power', 'active')\n",
        "Calculating energy for column"
       ]
      },
      {
       "output_type": "stream",
       "stream": "stdout",
       "text": [
        " ('power', 'active')\n",
        "Calculating energy for column ('power', 'active')\n",
        "Calculating energy for column ('power', 'active')\n",
        "Calculating energy for column"
       ]
      },
      {
       "output_type": "stream",
       "stream": "stdout",
       "text": [
        " ('power', 'active')\n",
        "Calculating energy for column"
       ]
      },
      {
       "output_type": "stream",
       "stream": "stdout",
       "text": [
        " ('power', 'active')\n",
        "Calculating energy for column ('power', 'active')\n",
        "Calculating energy for column"
       ]
      },
      {
       "output_type": "stream",
       "stream": "stdout",
       "text": [
        " ('power', 'active')\n",
        "Calculating energy for column ('power', 'active')\n",
        "Calculating energy for column"
       ]
      },
      {
       "output_type": "stream",
       "stream": "stdout",
       "text": [
        " ('power', 'active')\n",
        "Calculating energy for column ('power', 'active')\n",
        "Calculating energy for column"
       ]
      },
      {
       "output_type": "stream",
       "stream": "stdout",
       "text": [
        " ('power', 'active')\n",
        "Calculating energy for column ('power', 'active')\n",
        "Calculating energy for column"
       ]
      },
      {
       "output_type": "stream",
       "stream": "stdout",
       "text": [
        " ('power', 'active')\n",
        "Calculating energy for column"
       ]
      },
      {
       "output_type": "stream",
       "stream": "stdout",
       "text": [
        " ('power', 'active')\n",
        "Calculating energy for column ('power', 'active')\n",
        "Calculating energy for column"
       ]
      },
      {
       "output_type": "stream",
       "stream": "stdout",
       "text": [
        " ('power', 'active')\n",
        "Calculating energy for column ('power', 'active')\n",
        "Calculating energy for column"
       ]
      },
      {
       "output_type": "stream",
       "stream": "stdout",
       "text": [
        " ('power', 'active')\n",
        "Calculating energy for column"
       ]
      },
      {
       "output_type": "stream",
       "stream": "stdout",
       "text": [
        " ('power', 'active')\n",
        "Calculating energy for column ('power', 'active')\n",
        "Calculating energy for column"
       ]
      },
      {
       "output_type": "stream",
       "stream": "stdout",
       "text": [
        " ('power', 'active')\n",
        "Calculating energy for column ('power', 'active')\n",
        "Calculating energy for column"
       ]
      },
      {
       "output_type": "stream",
       "stream": "stdout",
       "text": [
        " ('power', 'active')\n",
        "Calculating energy for column ('power', 'active')\n",
        "Calculating energy for column"
       ]
      },
      {
       "output_type": "stream",
       "stream": "stdout",
       "text": [
        " ('power', 'active')\n",
        "Calculating energy for column ('power', 'active')\n",
        "Calculating energy for column"
       ]
      },
      {
       "output_type": "stream",
       "stream": "stdout",
       "text": [
        " ('power', 'active')\n",
        "Calculating energy for column ('power', 'active')\n",
        "Calculating energy for column"
       ]
      },
      {
       "output_type": "stream",
       "stream": "stdout",
       "text": [
        " ('power', 'active')\n",
        "Calculating energy for column ('power', 'active')\n",
        "Calculating energy for column"
       ]
      },
      {
       "output_type": "stream",
       "stream": "stdout",
       "text": [
        " ('power', 'active')\n",
        "Calculating energy for column ('power', 'active')\n",
        "Calculating energy for column"
       ]
      },
      {
       "output_type": "stream",
       "stream": "stdout",
       "text": [
        " ('power', 'active')\n",
        "Calculating energy for column ('power', 'active')\n",
        "Calculating energy for column"
       ]
      },
      {
       "output_type": "stream",
       "stream": "stdout",
       "text": [
        " ('power', 'active')\n",
        "Calculating energy for column ('power', 'active')\n",
        "Calculating energy for column"
       ]
      },
      {
       "output_type": "stream",
       "stream": "stdout",
       "text": [
        " ('power', 'active')\n",
        "Calculating energy for column ('power', 'active')\n",
        "Calculating energy for column"
       ]
      },
      {
       "output_type": "stream",
       "stream": "stdout",
       "text": [
        " ('power', 'active')\n",
        "Calculating energy for column ('power', 'active')\n",
        "Calculating energy for column"
       ]
      },
      {
       "output_type": "stream",
       "stream": "stdout",
       "text": [
        " ('power', 'active')\n",
        "Calculating energy for column"
       ]
      },
      {
       "output_type": "stream",
       "stream": "stdout",
       "text": [
        " ('power', 'active')\n",
        "Calculating energy for column ('power', 'active')\n",
        "Calculating energy for column"
       ]
      },
      {
       "output_type": "stream",
       "stream": "stdout",
       "text": [
        " ('power', 'active')\n",
        "Calculating energy for column ('power', 'active')\n",
        "Calculating energy for column"
       ]
      },
      {
       "output_type": "stream",
       "stream": "stdout",
       "text": [
        " ('power', 'active')\n",
        "Calculating energy for column ('power', 'active')\n",
        "Calculating energy for column"
       ]
      },
      {
       "output_type": "stream",
       "stream": "stdout",
       "text": [
        " ('power', 'active')\n",
        "Calculating energy for column ('power', 'active')\n",
        "Calculating energy for column"
       ]
      },
      {
       "output_type": "stream",
       "stream": "stdout",
       "text": [
        " ('power', 'active')\n",
        "Calculating energy for column ('power', 'active')\n",
        "Calculating energy for column"
       ]
      },
      {
       "output_type": "stream",
       "stream": "stdout",
       "text": [
        " ('power', 'active')\n",
        "Calculating energy for column"
       ]
      },
      {
       "output_type": "stream",
       "stream": "stdout",
       "text": [
        " ('power', 'active')\n",
        "Calculating energy for column ('power', 'active')\n"
       ]
      },
      {
       "output_type": "stream",
       "stream": "stderr",
       "text": [
        "/home/dk3810/workspace/python/nilmtk/nilmtk/elecmeter.py:104: UserWarning: There is no meter upstream of this meter 'ElecMeterID(instance=26, building=5, dataset='UK-DALE')' because it is a site meter.\n",
        "  .format(self.identifier))\n"
       ]
      },
      {
       "html": [
        "<div style=\"max-height:1000px;max-width:1500px;overflow:auto;\">\n",
        "<table border=\"1\" class=\"dataframe\">\n",
        "  <thead>\n",
        "    <tr style=\"text-align: right;\">\n",
        "      <th></th>\n",
        "      <th>1</th>\n",
        "      <th>2</th>\n",
        "      <th>3</th>\n",
        "      <th>4</th>\n",
        "      <th>5</th>\n",
        "    </tr>\n",
        "  </thead>\n",
        "  <tbody>\n",
        "    <tr>\n",
        "      <th>instance</th>\n",
        "      <td>                                                 1</td>\n",
        "      <td>                                                 2</td>\n",
        "      <td>                                                 3</td>\n",
        "      <td>                                                 4</td>\n",
        "      <td>                                                 5</td>\n",
        "    </tr>\n",
        "    <tr>\n",
        "      <th>building_type</th>\n",
        "      <td>                                    end of terrace</td>\n",
        "      <td>                                    end of terrace</td>\n",
        "      <td>                                              None</td>\n",
        "      <td>                                              None</td>\n",
        "      <td>                                              flat</td>\n",
        "    </tr>\n",
        "    <tr>\n",
        "      <th>construction_year</th>\n",
        "      <td>                                              1905</td>\n",
        "      <td>                                              1900</td>\n",
        "      <td>                                              None</td>\n",
        "      <td>                                              None</td>\n",
        "      <td>                                              2009</td>\n",
        "    </tr>\n",
        "    <tr>\n",
        "      <th>energy_improvements</th>\n",
        "      <td> [solar thermal, loft insulation, solid wall in...</td>\n",
        "      <td>          [cavity wall insulation, double glazing]</td>\n",
        "      <td>                                              None</td>\n",
        "      <td>                                              None</td>\n",
        "      <td>                                              None</td>\n",
        "    </tr>\n",
        "    <tr>\n",
        "      <th>heating</th>\n",
        "      <td>                                     [natural gas]</td>\n",
        "      <td>                                     [natural gas]</td>\n",
        "      <td>                                              None</td>\n",
        "      <td>                                              None</td>\n",
        "      <td>                                     [natural gas]</td>\n",
        "    </tr>\n",
        "    <tr>\n",
        "      <th>ownership</th>\n",
        "      <td>                                            bought</td>\n",
        "      <td>                                            bought</td>\n",
        "      <td>                                              None</td>\n",
        "      <td>                                              None</td>\n",
        "      <td>                                            bought</td>\n",
        "    </tr>\n",
        "    <tr>\n",
        "      <th>n_occupants</th>\n",
        "      <td>                                                 4</td>\n",
        "      <td>                                                 2</td>\n",
        "      <td>                                              None</td>\n",
        "      <td>                                              None</td>\n",
        "      <td>                                                 2</td>\n",
        "    </tr>\n",
        "    <tr>\n",
        "      <th>description_of_occupants</th>\n",
        "      <td> 2 adults and 1 dog started living in the house...</td>\n",
        "      <td> 2 adults, 1 at work all day, other sometimes home</td>\n",
        "      <td>                                              None</td>\n",
        "      <td>                                              None</td>\n",
        "      <td>                                          2 adults</td>\n",
        "    </tr>\n",
        "    <tr>\n",
        "      <th>total_n_meters</th>\n",
        "      <td>                                                54</td>\n",
        "      <td>                                                20</td>\n",
        "      <td>                                                 5</td>\n",
        "      <td>                                                 6</td>\n",
        "      <td>                                                26</td>\n",
        "    </tr>\n",
        "    <tr>\n",
        "      <th>total_n_site_meters</th>\n",
        "      <td>                                                 2</td>\n",
        "      <td>                                                 2</td>\n",
        "      <td>                                                 1</td>\n",
        "      <td>                                                 1</td>\n",
        "      <td>                                                 2</td>\n",
        "    </tr>\n",
        "    <tr>\n",
        "      <th>correlation_of_sum_of_submeters_with_mains</th>\n",
        "      <td>                                         0.9403252</td>\n",
        "      <td>                                         0.9175742</td>\n",
        "      <td>                                         0.4306623</td>\n",
        "      <td>                                         0.5499928</td>\n",
        "      <td>                                         0.8038376</td>\n",
        "    </tr>\n",
        "    <tr>\n",
        "      <th>proportion_of_energy_submetered</th>\n",
        "      <td>                                           0.79877</td>\n",
        "      <td>                                         0.5936828</td>\n",
        "      <td>                                         0.1883691</td>\n",
        "      <td>                                         0.2755769</td>\n",
        "      <td>                                         0.6877991</td>\n",
        "    </tr>\n",
        "    <tr>\n",
        "      <th>mains_sample_period</th>\n",
        "      <td>                                                 1</td>\n",
        "      <td>                                                 1</td>\n",
        "      <td>                                                 6</td>\n",
        "      <td>                                                 6</td>\n",
        "      <td>                                                 1</td>\n",
        "    </tr>\n",
        "    <tr>\n",
        "      <th>submeter_sample_period</th>\n",
        "      <td>                                                 6</td>\n",
        "      <td>                                                 6</td>\n",
        "      <td>                                                 6</td>\n",
        "      <td>                                                 6</td>\n",
        "      <td>                                                 6</td>\n",
        "    </tr>\n",
        "    <tr>\n",
        "      <th>timeframe</th>\n",
        "      <td> start=2012-11-09 22:28:18+00:00, end=2014-12-1...</td>\n",
        "      <td> start=2013-02-17 15:39:19+00:00, end=2013-10-1...</td>\n",
        "      <td> start=2013-02-27 20:35:14+00:00, end=2013-04-0...</td>\n",
        "      <td> start=2013-03-09 14:40:07+00:00, end=2013-10-0...</td>\n",
        "      <td> start=2014-06-29 17:23:43.200000+01:00, end=20...</td>\n",
        "    </tr>\n",
        "    <tr>\n",
        "      <th>mains_uptime</th>\n",
        "      <td>                          637 days 18:08:46.800000</td>\n",
        "      <td>                          140 days 17:50:25.200000</td>\n",
        "      <td>                                  36 days 10:36:15</td>\n",
        "      <td>                                 155 days 20:54:44</td>\n",
        "      <td>                          131 days 20:26:55.800000</td>\n",
        "    </tr>\n",
        "  </tbody>\n",
        "</table>\n",
        "</div>"
       ],
       "metadata": {},
       "output_type": "pyout",
       "prompt_number": 3,
       "text": [
        "                                                                                            1  \\\n",
        "instance                                                                                    1   \n",
        "building_type                                                                  end of terrace   \n",
        "construction_year                                                                        1905   \n",
        "energy_improvements                         [solar thermal, loft insulation, solid wall in...   \n",
        "heating                                                                         [natural gas]   \n",
        "ownership                                                                              bought   \n",
        "n_occupants                                                                                 4   \n",
        "description_of_occupants                    2 adults and 1 dog started living in the house...   \n",
        "total_n_meters                                                                             54   \n",
        "total_n_site_meters                                                                         2   \n",
        "correlation_of_sum_of_submeters_with_mains                                          0.9403252   \n",
        "proportion_of_energy_submetered                                                       0.79877   \n",
        "mains_sample_period                                                                         1   \n",
        "submeter_sample_period                                                                      6   \n",
        "timeframe                                   start=2012-11-09 22:28:18+00:00, end=2014-12-1...   \n",
        "mains_uptime                                                         637 days 18:08:46.800000   \n",
        "\n",
        "                                                                                            2  \\\n",
        "instance                                                                                    2   \n",
        "building_type                                                                  end of terrace   \n",
        "construction_year                                                                        1900   \n",
        "energy_improvements                                  [cavity wall insulation, double glazing]   \n",
        "heating                                                                         [natural gas]   \n",
        "ownership                                                                              bought   \n",
        "n_occupants                                                                                 2   \n",
        "description_of_occupants                    2 adults, 1 at work all day, other sometimes home   \n",
        "total_n_meters                                                                             20   \n",
        "total_n_site_meters                                                                         2   \n",
        "correlation_of_sum_of_submeters_with_mains                                          0.9175742   \n",
        "proportion_of_energy_submetered                                                     0.5936828   \n",
        "mains_sample_period                                                                         1   \n",
        "submeter_sample_period                                                                      6   \n",
        "timeframe                                   start=2013-02-17 15:39:19+00:00, end=2013-10-1...   \n",
        "mains_uptime                                                         140 days 17:50:25.200000   \n",
        "\n",
        "                                                                                            3  \\\n",
        "instance                                                                                    3   \n",
        "building_type                                                                            None   \n",
        "construction_year                                                                        None   \n",
        "energy_improvements                                                                      None   \n",
        "heating                                                                                  None   \n",
        "ownership                                                                                None   \n",
        "n_occupants                                                                              None   \n",
        "description_of_occupants                                                                 None   \n",
        "total_n_meters                                                                              5   \n",
        "total_n_site_meters                                                                         1   \n",
        "correlation_of_sum_of_submeters_with_mains                                          0.4306623   \n",
        "proportion_of_energy_submetered                                                     0.1883691   \n",
        "mains_sample_period                                                                         6   \n",
        "submeter_sample_period                                                                      6   \n",
        "timeframe                                   start=2013-02-27 20:35:14+00:00, end=2013-04-0...   \n",
        "mains_uptime                                                                 36 days 10:36:15   \n",
        "\n",
        "                                                                                            4  \\\n",
        "instance                                                                                    4   \n",
        "building_type                                                                            None   \n",
        "construction_year                                                                        None   \n",
        "energy_improvements                                                                      None   \n",
        "heating                                                                                  None   \n",
        "ownership                                                                                None   \n",
        "n_occupants                                                                              None   \n",
        "description_of_occupants                                                                 None   \n",
        "total_n_meters                                                                              6   \n",
        "total_n_site_meters                                                                         1   \n",
        "correlation_of_sum_of_submeters_with_mains                                          0.5499928   \n",
        "proportion_of_energy_submetered                                                     0.2755769   \n",
        "mains_sample_period                                                                         6   \n",
        "submeter_sample_period                                                                      6   \n",
        "timeframe                                   start=2013-03-09 14:40:07+00:00, end=2013-10-0...   \n",
        "mains_uptime                                                                155 days 20:54:44   \n",
        "\n",
        "                                                                                            5  \n",
        "instance                                                                                    5  \n",
        "building_type                                                                            flat  \n",
        "construction_year                                                                        2009  \n",
        "energy_improvements                                                                      None  \n",
        "heating                                                                         [natural gas]  \n",
        "ownership                                                                              bought  \n",
        "n_occupants                                                                                 2  \n",
        "description_of_occupants                                                             2 adults  \n",
        "total_n_meters                                                                             26  \n",
        "total_n_site_meters                                                                         2  \n",
        "correlation_of_sum_of_submeters_with_mains                                          0.8038376  \n",
        "proportion_of_energy_submetered                                                     0.6877991  \n",
        "mains_sample_period                                                                         1  \n",
        "submeter_sample_period                                                                      6  \n",
        "timeframe                                   start=2014-06-29 17:23:43.200000+01:00, end=20...  \n",
        "mains_uptime                                                         131 days 20:26:55.800000  "
       ]
      }
     ],
     "prompt_number": 3
    }
   ],
   "metadata": {}
  }
 ]
}