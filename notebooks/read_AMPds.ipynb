{
 "metadata": {
  "name": ""
 },
 "nbformat": 3,
 "nbformat_minor": 0,
 "worksheets": [
  {
   "cells": [
    {
     "cell_type": "markdown",
     "metadata": {},
     "source": [
      "Reading data from AMPds dataset"
     ]
    },
    {
     "cell_type": "code",
     "collapsed": false,
     "input": [
      "import pandas as pd\n",
      "import numpy as np\n",
      "import matplotlib.pyplot as plt\n",
      "import glob"
     ],
     "language": "python",
     "metadata": {},
     "outputs": [],
     "prompt_number": 1
    },
    {
     "cell_type": "code",
     "collapsed": false,
     "input": [
      "DATA_PATH='/home/nipun/Desktop/AMPds/electricity/'"
     ],
     "language": "python",
     "metadata": {},
     "outputs": [],
     "prompt_number": 2
    },
    {
     "cell_type": "markdown",
     "metadata": {},
     "source": [
      "Reading the content of each CSV file and checking if they all have the same number of records"
     ]
    },
    {
     "cell_type": "code",
     "collapsed": false,
     "input": [
      "list_of_csv=glob.glob(\"%s*.csv\" %DATA_PATH)"
     ],
     "language": "python",
     "metadata": {},
     "outputs": [],
     "prompt_number": 3
    },
    {
     "cell_type": "code",
     "collapsed": false,
     "input": [
      "list_of_csv"
     ],
     "language": "python",
     "metadata": {},
     "outputs": [
      {
       "metadata": {},
       "output_type": "pyout",
       "prompt_number": 4,
       "text": [
        "['/home/nipun/Desktop/AMPds/electricity/DWE.csv',\n",
        " '/home/nipun/Desktop/AMPds/electricity/WHE.csv',\n",
        " '/home/nipun/Desktop/AMPds/electricity/EQE.csv',\n",
        " '/home/nipun/Desktop/AMPds/electricity/FGE.csv',\n",
        " '/home/nipun/Desktop/AMPds/electricity/CDE.csv',\n",
        " '/home/nipun/Desktop/AMPds/electricity/EBE.csv',\n",
        " '/home/nipun/Desktop/AMPds/electricity/GRE.csv',\n",
        " '/home/nipun/Desktop/AMPds/electricity/BME.csv',\n",
        " '/home/nipun/Desktop/AMPds/electricity/CWE.csv',\n",
        " '/home/nipun/Desktop/AMPds/electricity/B2E.csv',\n",
        " '/home/nipun/Desktop/AMPds/electricity/OUE.csv',\n",
        " '/home/nipun/Desktop/AMPds/electricity/FRE.csv',\n",
        " '/home/nipun/Desktop/AMPds/electricity/TVE.csv',\n",
        " '/home/nipun/Desktop/AMPds/electricity/OFE.csv',\n",
        " '/home/nipun/Desktop/AMPds/electricity/HPE.csv',\n",
        " '/home/nipun/Desktop/AMPds/electricity/DNE.csv',\n",
        " '/home/nipun/Desktop/AMPds/electricity/B1E.csv',\n",
        " '/home/nipun/Desktop/AMPds/electricity/HTE.csv',\n",
        " '/home/nipun/Desktop/AMPds/electricity/UTE.csv',\n",
        " '/home/nipun/Desktop/AMPds/electricity/WOE.csv']"
       ]
      }
     ],
     "prompt_number": 4
    },
    {
     "cell_type": "code",
     "collapsed": false,
     "input": [
      "data={}"
     ],
     "language": "python",
     "metadata": {},
     "outputs": [],
     "prompt_number": 5
    },
    {
     "cell_type": "code",
     "collapsed": false,
     "input": [
      "for csv in list_of_csv:\n",
      "    appliance_name=csv.split(\"/\")[-1][:3]\n",
      "    data[appliance_name]=pd.read_csv(csv)\n",
      "    print appliance_name, data[appliance_name].shape"
     ],
     "language": "python",
     "metadata": {},
     "outputs": [
      {
       "output_type": "stream",
       "stream": "stdout",
       "text": [
        "DWE (524543, 12)\n",
        "WHE"
       ]
      },
      {
       "output_type": "stream",
       "stream": "stdout",
       "text": [
        " (524543, 12)\n",
        "EQE"
       ]
      },
      {
       "output_type": "stream",
       "stream": "stdout",
       "text": [
        " (524543, 12)\n",
        "FGE"
       ]
      },
      {
       "output_type": "stream",
       "stream": "stdout",
       "text": [
        " (524543, 12)\n",
        "CDE"
       ]
      },
      {
       "output_type": "stream",
       "stream": "stdout",
       "text": [
        " (524543, 12)\n",
        "EBE"
       ]
      },
      {
       "output_type": "stream",
       "stream": "stdout",
       "text": [
        " (524543, 12)\n",
        "GRE"
       ]
      },
      {
       "output_type": "stream",
       "stream": "stdout",
       "text": [
        " (524543, 12)\n",
        "BME"
       ]
      },
      {
       "output_type": "stream",
       "stream": "stdout",
       "text": [
        " (524543, 12)\n",
        "CWE"
       ]
      },
      {
       "output_type": "stream",
       "stream": "stdout",
       "text": [
        " (524543, 12)\n",
        "B2E"
       ]
      },
      {
       "output_type": "stream",
       "stream": "stdout",
       "text": [
        " (524543, 12)\n",
        "OUE"
       ]
      },
      {
       "output_type": "stream",
       "stream": "stdout",
       "text": [
        " (524543, 12)\n",
        "FRE"
       ]
      },
      {
       "output_type": "stream",
       "stream": "stdout",
       "text": [
        " (524543, 12)\n",
        "TVE"
       ]
      },
      {
       "output_type": "stream",
       "stream": "stdout",
       "text": [
        " (524543, 12)\n",
        "OFE"
       ]
      },
      {
       "output_type": "stream",
       "stream": "stdout",
       "text": [
        " (524543, 12)\n",
        "HPE"
       ]
      },
      {
       "output_type": "stream",
       "stream": "stdout",
       "text": [
        " (524543, 12)\n",
        "DNE"
       ]
      },
      {
       "output_type": "stream",
       "stream": "stdout",
       "text": [
        " (524543, 12)\n",
        "B1E"
       ]
      },
      {
       "output_type": "stream",
       "stream": "stdout",
       "text": [
        " (524543, 12)\n",
        "HTE"
       ]
      },
      {
       "output_type": "stream",
       "stream": "stdout",
       "text": [
        " (524543, 12)\n",
        "UTE"
       ]
      },
      {
       "output_type": "stream",
       "stream": "stdout",
       "text": [
        " (524543, 12)\n",
        "WOE"
       ]
      },
      {
       "output_type": "stream",
       "stream": "stdout",
       "text": [
        " (524543, 12)\n"
       ]
      }
     ],
     "prompt_number": 21
    },
    {
     "cell_type": "markdown",
     "metadata": {},
     "source": [
      "All the appliances (including mains) have the same number of records"
     ]
    },
    {
     "cell_type": "code",
     "collapsed": false,
     "input": [
      "data['WHE'].describe()"
     ],
     "language": "python",
     "metadata": {},
     "outputs": [
      {
       "html": [
        "<div style=\"max-height:1000px;max-width:1500px;overflow:auto;\">\n",
        "<table border=\"1\" class=\"dataframe\">\n",
        "  <thead>\n",
        "    <tr style=\"text-align: right;\">\n",
        "      <th></th>\n",
        "      <th>TS</th>\n",
        "      <th>V</th>\n",
        "      <th>I</th>\n",
        "      <th>f</th>\n",
        "      <th>DPF</th>\n",
        "      <th>APF</th>\n",
        "      <th>P</th>\n",
        "      <th>Pt</th>\n",
        "      <th>Q</th>\n",
        "      <th>Qt</th>\n",
        "      <th>S</th>\n",
        "      <th>St</th>\n",
        "    </tr>\n",
        "  </thead>\n",
        "  <tbody>\n",
        "    <tr>\n",
        "      <th>count</th>\n",
        "      <td> 5.245430e+05</td>\n",
        "      <td> 524543.000000</td>\n",
        "      <td> 524543.000000</td>\n",
        "      <td> 524543.000000</td>\n",
        "      <td> 524543</td>\n",
        "      <td> 524543.000000</td>\n",
        "      <td> 524543.000000</td>\n",
        "      <td> 524543.000000</td>\n",
        "      <td> 524543.000000</td>\n",
        "      <td> 524543.000000</td>\n",
        "      <td> 524543.000000</td>\n",
        "      <td> 524543.000000</td>\n",
        "    </tr>\n",
        "    <tr>\n",
        "      <th>mean</th>\n",
        "      <td> 1.349028e+09</td>\n",
        "      <td>    239.616805</td>\n",
        "      <td>      7.962754</td>\n",
        "      <td>     60.004673</td>\n",
        "      <td>      1</td>\n",
        "      <td>      0.884877</td>\n",
        "      <td>    887.510370</td>\n",
        "      <td>     14.823389</td>\n",
        "      <td>    120.380222</td>\n",
        "      <td>      2.000803</td>\n",
        "      <td>    951.224256</td>\n",
        "      <td>     15.886423</td>\n",
        "    </tr>\n",
        "    <tr>\n",
        "      <th>std</th>\n",
        "      <td> 9.104538e+06</td>\n",
        "      <td>      2.731819</td>\n",
        "      <td>      7.022640</td>\n",
        "      <td>      0.021541</td>\n",
        "      <td>      0</td>\n",
        "      <td>      0.075593</td>\n",
        "      <td>    845.768762</td>\n",
        "      <td>     14.233424</td>\n",
        "      <td>    100.980499</td>\n",
        "      <td>      1.768355</td>\n",
        "      <td>    832.900992</td>\n",
        "      <td>     14.059953</td>\n",
        "    </tr>\n",
        "    <tr>\n",
        "      <th>min</th>\n",
        "      <td> 1.333264e+09</td>\n",
        "      <td>    224.000000</td>\n",
        "      <td>      0.000000</td>\n",
        "      <td>     59.870000</td>\n",
        "      <td>      1</td>\n",
        "      <td>      0.390000</td>\n",
        "      <td>      2.000000</td>\n",
        "      <td>      0.000000</td>\n",
        "      <td>      0.000000</td>\n",
        "      <td>      0.000000</td>\n",
        "      <td>      2.000000</td>\n",
        "      <td>      0.000000</td>\n",
        "    </tr>\n",
        "    <tr>\n",
        "      <th>25%</th>\n",
        "      <td> 1.341142e+09</td>\n",
        "      <td>    237.700000</td>\n",
        "      <td>      4.100000</td>\n",
        "      <td>     60.000000</td>\n",
        "      <td>      1</td>\n",
        "      <td>      0.830000</td>\n",
        "      <td>    402.000000</td>\n",
        "      <td>      7.000000</td>\n",
        "      <td>     73.000000</td>\n",
        "      <td>      1.000000</td>\n",
        "      <td>    491.000000</td>\n",
        "      <td>      8.000000</td>\n",
        "    </tr>\n",
        "    <tr>\n",
        "      <th>50%</th>\n",
        "      <td> 1.349024e+09</td>\n",
        "      <td>    239.500000</td>\n",
        "      <td>      5.100000</td>\n",
        "      <td>     60.000000</td>\n",
        "      <td>      1</td>\n",
        "      <td>      0.900000</td>\n",
        "      <td>    539.000000</td>\n",
        "      <td>      9.000000</td>\n",
        "      <td>     89.000000</td>\n",
        "      <td>      2.000000</td>\n",
        "      <td>    610.000000</td>\n",
        "      <td>     10.000000</td>\n",
        "    </tr>\n",
        "    <tr>\n",
        "      <th>75%</th>\n",
        "      <td> 1.356904e+09</td>\n",
        "      <td>    241.300000</td>\n",
        "      <td>      9.000000</td>\n",
        "      <td>     60.000000</td>\n",
        "      <td>      1</td>\n",
        "      <td>      0.950000</td>\n",
        "      <td>   1021.000000</td>\n",
        "      <td>     17.000000</td>\n",
        "      <td>    112.000000</td>\n",
        "      <td>      2.000000</td>\n",
        "      <td>   1071.000000</td>\n",
        "      <td>     18.000000</td>\n",
        "    </tr>\n",
        "    <tr>\n",
        "      <th>max</th>\n",
        "      <td> 1.364800e+09</td>\n",
        "      <td>    249.000000</td>\n",
        "      <td>    103.400000</td>\n",
        "      <td>     60.120000</td>\n",
        "      <td>      1</td>\n",
        "      <td>      1.000000</td>\n",
        "      <td>   9669.000000</td>\n",
        "      <td>   2009.000000</td>\n",
        "      <td>   2201.000000</td>\n",
        "      <td>    213.000000</td>\n",
        "      <td>   9704.000000</td>\n",
        "      <td>   2101.000000</td>\n",
        "    </tr>\n",
        "  </tbody>\n",
        "</table>\n",
        "</div>"
       ],
       "metadata": {},
       "output_type": "pyout",
       "prompt_number": 22,
       "text": [
        "                 TS              V              I              f     DPF  \\\n",
        "count  5.245430e+05  524543.000000  524543.000000  524543.000000  524543   \n",
        "mean   1.349028e+09     239.616805       7.962754      60.004673       1   \n",
        "std    9.104538e+06       2.731819       7.022640       0.021541       0   \n",
        "min    1.333264e+09     224.000000       0.000000      59.870000       1   \n",
        "25%    1.341142e+09     237.700000       4.100000      60.000000       1   \n",
        "50%    1.349024e+09     239.500000       5.100000      60.000000       1   \n",
        "75%    1.356904e+09     241.300000       9.000000      60.000000       1   \n",
        "max    1.364800e+09     249.000000     103.400000      60.120000       1   \n",
        "\n",
        "                 APF              P             Pt              Q  \\\n",
        "count  524543.000000  524543.000000  524543.000000  524543.000000   \n",
        "mean        0.884877     887.510370      14.823389     120.380222   \n",
        "std         0.075593     845.768762      14.233424     100.980499   \n",
        "min         0.390000       2.000000       0.000000       0.000000   \n",
        "25%         0.830000     402.000000       7.000000      73.000000   \n",
        "50%         0.900000     539.000000       9.000000      89.000000   \n",
        "75%         0.950000    1021.000000      17.000000     112.000000   \n",
        "max         1.000000    9669.000000    2009.000000    2201.000000   \n",
        "\n",
        "                  Qt              S             St  \n",
        "count  524543.000000  524543.000000  524543.000000  \n",
        "mean        2.000803     951.224256      15.886423  \n",
        "std         1.768355     832.900992      14.059953  \n",
        "min         0.000000       2.000000       0.000000  \n",
        "25%         1.000000     491.000000       8.000000  \n",
        "50%         2.000000     610.000000      10.000000  \n",
        "75%         2.000000    1071.000000      18.000000  \n",
        "max       213.000000    9704.000000    2101.000000  "
       ]
      }
     ],
     "prompt_number": 22
    },
    {
     "cell_type": "markdown",
     "metadata": {},
     "source": [
      "Converting each dataframe to time series"
     ]
    },
    {
     "cell_type": "code",
     "collapsed": false,
     "input": [
      "for appliance in data:\n",
      "    data[appliance].index=pd.to_datetime((data[appliance_name]['TS'].values*1e9).astype(int))\n",
      "    data[appliance].drop('TS',1)  "
     ],
     "language": "python",
     "metadata": {},
     "outputs": [],
     "prompt_number": 23
    },
    {
     "cell_type": "code",
     "collapsed": false,
     "input": [
      "data['WHE']"
     ],
     "language": "python",
     "metadata": {},
     "outputs": [
      {
       "html": [
        "<pre>\n",
        "&lt;class 'pandas.core.frame.DataFrame'&gt;\n",
        "DatetimeIndex: 524543 entries, 2012-04-01 07:00:00 to 2013-04-01 06:59:00\n",
        "Data columns (total 12 columns):\n",
        "TS     524543  non-null values\n",
        "V      524543  non-null values\n",
        "I      524543  non-null values\n",
        "f      524543  non-null values\n",
        "DPF    524543  non-null values\n",
        "APF    524543  non-null values\n",
        "P      524543  non-null values\n",
        "Pt     524543  non-null values\n",
        "Q      524543  non-null values\n",
        "Qt     524543  non-null values\n",
        "S      524543  non-null values\n",
        "St     524543  non-null values\n",
        "dtypes: float64(5), int64(7)\n",
        "</pre>"
       ],
       "metadata": {},
       "output_type": "pyout",
       "prompt_number": 24,
       "text": [
        "<class 'pandas.core.frame.DataFrame'>\n",
        "DatetimeIndex: 524543 entries, 2012-04-01 07:00:00 to 2013-04-01 06:59:00\n",
        "Data columns (total 12 columns):\n",
        "TS     524543  non-null values\n",
        "V      524543  non-null values\n",
        "I      524543  non-null values\n",
        "f      524543  non-null values\n",
        "DPF    524543  non-null values\n",
        "APF    524543  non-null values\n",
        "P      524543  non-null values\n",
        "Pt     524543  non-null values\n",
        "Q      524543  non-null values\n",
        "Qt     524543  non-null values\n",
        "S      524543  non-null values\n",
        "St     524543  non-null values\n",
        "dtypes: float64(5), int64(7)"
       ]
      }
     ],
     "prompt_number": 24
    },
    {
     "cell_type": "markdown",
     "metadata": {},
     "source": [
      "Downsample and plot (to get a quick idea)"
     ]
    },
    {
     "cell_type": "code",
     "collapsed": false,
     "input": [
      "data['WHE']"
     ],
     "language": "python",
     "metadata": {},
     "outputs": [
      {
       "html": [
        "<pre>\n",
        "&lt;class 'pandas.core.frame.DataFrame'&gt;\n",
        "Int64Index: 524543 entries, 0 to 524542\n",
        "Data columns (total 12 columns):\n",
        "TS     524543  non-null values\n",
        "V      524543  non-null values\n",
        "I      524543  non-null values\n",
        "f      524543  non-null values\n",
        "DPF    524543  non-null values\n",
        "APF    524543  non-null values\n",
        "P      524543  non-null values\n",
        "Pt     524543  non-null values\n",
        "Q      524543  non-null values\n",
        "Qt     524543  non-null values\n",
        "S      524543  non-null values\n",
        "St     524543  non-null values\n",
        "dtypes: float64(5), int64(7)\n",
        "</pre>"
       ],
       "metadata": {},
       "output_type": "pyout",
       "prompt_number": 17,
       "text": [
        "<class 'pandas.core.frame.DataFrame'>\n",
        "Int64Index: 524543 entries, 0 to 524542\n",
        "Data columns (total 12 columns):\n",
        "TS     524543  non-null values\n",
        "V      524543  non-null values\n",
        "I      524543  non-null values\n",
        "f      524543  non-null values\n",
        "DPF    524543  non-null values\n",
        "APF    524543  non-null values\n",
        "P      524543  non-null values\n",
        "Pt     524543  non-null values\n",
        "Q      524543  non-null values\n",
        "Qt     524543  non-null values\n",
        "S      524543  non-null values\n",
        "St     524543  non-null values\n",
        "dtypes: float64(5), int64(7)"
       ]
      }
     ],
     "prompt_number": 17
    },
    {
     "cell_type": "code",
     "collapsed": false,
     "input": [
      "for appliance in data:\n",
      "    data[appliance]=data[appliance].resample('1D', how='mean')"
     ],
     "language": "python",
     "metadata": {},
     "outputs": [],
     "prompt_number": 27
    },
    {
     "cell_type": "code",
     "collapsed": false,
     "input": [
      "data['WHE'].describe()"
     ],
     "language": "python",
     "metadata": {},
     "outputs": [
      {
       "html": [
        "<div style=\"max-height:1000px;max-width:1500px;overflow:auto;\">\n",
        "<table border=\"1\" class=\"dataframe\">\n",
        "  <thead>\n",
        "    <tr style=\"text-align: right;\">\n",
        "      <th></th>\n",
        "      <th>TS</th>\n",
        "      <th>V</th>\n",
        "      <th>I</th>\n",
        "      <th>f</th>\n",
        "      <th>DPF</th>\n",
        "      <th>APF</th>\n",
        "      <th>P</th>\n",
        "      <th>Pt</th>\n",
        "      <th>Q</th>\n",
        "      <th>Qt</th>\n",
        "      <th>S</th>\n",
        "      <th>St</th>\n",
        "    </tr>\n",
        "  </thead>\n",
        "  <tbody>\n",
        "    <tr>\n",
        "      <th>count</th>\n",
        "      <td> 3.660000e+02</td>\n",
        "      <td> 366.000000</td>\n",
        "      <td> 366.000000</td>\n",
        "      <td> 366.000000</td>\n",
        "      <td> 366</td>\n",
        "      <td> 366.000000</td>\n",
        "      <td>  366.000000</td>\n",
        "      <td> 366.000000</td>\n",
        "      <td> 366.000000</td>\n",
        "      <td> 366.000000</td>\n",
        "      <td>  366.000000</td>\n",
        "      <td> 366.000000</td>\n",
        "    </tr>\n",
        "    <tr>\n",
        "      <th>mean</th>\n",
        "      <td> 1.349050e+09</td>\n",
        "      <td> 239.613348</td>\n",
        "      <td>   7.965725</td>\n",
        "      <td>  60.004673</td>\n",
        "      <td>   1</td>\n",
        "      <td>   0.884955</td>\n",
        "      <td>  887.876955</td>\n",
        "      <td>  14.831212</td>\n",
        "      <td> 120.389141</td>\n",
        "      <td>   2.001254</td>\n",
        "      <td>  951.568161</td>\n",
        "      <td>  15.893973</td>\n",
        "    </tr>\n",
        "    <tr>\n",
        "      <th>std</th>\n",
        "      <td> 9.140832e+06</td>\n",
        "      <td>   2.042001</td>\n",
        "      <td>   2.161593</td>\n",
        "      <td>   0.001389</td>\n",
        "      <td>   0</td>\n",
        "      <td>   0.018372</td>\n",
        "      <td>  259.015396</td>\n",
        "      <td>   4.335382</td>\n",
        "      <td>  30.642821</td>\n",
        "      <td>   0.512127</td>\n",
        "      <td>  257.221444</td>\n",
        "      <td>   4.304143</td>\n",
        "    </tr>\n",
        "    <tr>\n",
        "      <th>min</th>\n",
        "      <td> 1.333294e+09</td>\n",
        "      <td> 235.453889</td>\n",
        "      <td>   3.394236</td>\n",
        "      <td>  60.001354</td>\n",
        "      <td>   1</td>\n",
        "      <td>   0.836861</td>\n",
        "      <td>  340.713194</td>\n",
        "      <td>   5.673611</td>\n",
        "      <td>  67.231944</td>\n",
        "      <td>   1.097222</td>\n",
        "      <td>  402.422222</td>\n",
        "      <td>   6.707639</td>\n",
        "    </tr>\n",
        "    <tr>\n",
        "      <th>25%</th>\n",
        "      <td> 1.341166e+09</td>\n",
        "      <td> 238.029132</td>\n",
        "      <td>   6.214062</td>\n",
        "      <td>  60.003717</td>\n",
        "      <td>   1</td>\n",
        "      <td>   0.872111</td>\n",
        "      <td>  674.478892</td>\n",
        "      <td>  11.285661</td>\n",
        "      <td>  94.473621</td>\n",
        "      <td>   1.573090</td>\n",
        "      <td>  737.866493</td>\n",
        "      <td>  12.291840</td>\n",
        "    </tr>\n",
        "    <tr>\n",
        "      <th>50%</th>\n",
        "      <td> 1.349050e+09</td>\n",
        "      <td> 239.572604</td>\n",
        "      <td>   7.558214</td>\n",
        "      <td>  60.004524</td>\n",
        "      <td>   1</td>\n",
        "      <td>   0.885229</td>\n",
        "      <td>  839.222222</td>\n",
        "      <td>  14.085764</td>\n",
        "      <td> 113.163194</td>\n",
        "      <td>   1.878819</td>\n",
        "      <td>  900.466667</td>\n",
        "      <td>  15.140625</td>\n",
        "    </tr>\n",
        "    <tr>\n",
        "      <th>75%</th>\n",
        "      <td> 1.356934e+09</td>\n",
        "      <td> 240.220556</td>\n",
        "      <td>   9.556163</td>\n",
        "      <td>  60.005444</td>\n",
        "      <td>   1</td>\n",
        "      <td>   0.897170</td>\n",
        "      <td> 1076.813021</td>\n",
        "      <td>  17.958333</td>\n",
        "      <td> 143.337326</td>\n",
        "      <td>   2.383854</td>\n",
        "      <td> 1142.841493</td>\n",
        "      <td>  18.936632</td>\n",
        "    </tr>\n",
        "    <tr>\n",
        "      <th>max</th>\n",
        "      <td> 1.364787e+09</td>\n",
        "      <td> 245.513056</td>\n",
        "      <td>  15.643125</td>\n",
        "      <td>  60.009479</td>\n",
        "      <td>   1</td>\n",
        "      <td>   0.926965</td>\n",
        "      <td> 1794.685417</td>\n",
        "      <td>  30.215972</td>\n",
        "      <td> 233.604167</td>\n",
        "      <td>   3.897222</td>\n",
        "      <td> 1863.875000</td>\n",
        "      <td>  31.359028</td>\n",
        "    </tr>\n",
        "  </tbody>\n",
        "</table>\n",
        "</div>"
       ],
       "metadata": {},
       "output_type": "pyout",
       "prompt_number": 28,
       "text": [
        "                 TS           V           I           f  DPF         APF            P          Pt           Q          Qt            S          St\n",
        "count  3.660000e+02  366.000000  366.000000  366.000000  366  366.000000   366.000000  366.000000  366.000000  366.000000   366.000000  366.000000\n",
        "mean   1.349050e+09  239.613348    7.965725   60.004673    1    0.884955   887.876955   14.831212  120.389141    2.001254   951.568161   15.893973\n",
        "std    9.140832e+06    2.042001    2.161593    0.001389    0    0.018372   259.015396    4.335382   30.642821    0.512127   257.221444    4.304143\n",
        "min    1.333294e+09  235.453889    3.394236   60.001354    1    0.836861   340.713194    5.673611   67.231944    1.097222   402.422222    6.707639\n",
        "25%    1.341166e+09  238.029132    6.214062   60.003717    1    0.872111   674.478892   11.285661   94.473621    1.573090   737.866493   12.291840\n",
        "50%    1.349050e+09  239.572604    7.558214   60.004524    1    0.885229   839.222222   14.085764  113.163194    1.878819   900.466667   15.140625\n",
        "75%    1.356934e+09  240.220556    9.556163   60.005444    1    0.897170  1076.813021   17.958333  143.337326    2.383854  1142.841493   18.936632\n",
        "max    1.364787e+09  245.513056   15.643125   60.009479    1    0.926965  1794.685417   30.215972  233.604167    3.897222  1863.875000   31.359028"
       ]
      }
     ],
     "prompt_number": 28
    },
    {
     "cell_type": "code",
     "collapsed": false,
     "input": [
      "data['WHE'].I.plot()"
     ],
     "language": "python",
     "metadata": {},
     "outputs": [
      {
       "metadata": {},
       "output_type": "pyout",
       "prompt_number": 30,
       "text": [
        "<matplotlib.axes.AxesSubplot at 0x4098d90>"
       ]
      },
      {
       "metadata": {},
       "output_type": "display_data",
       "png": "[encoded data removed]",
       "text": [
        "<matplotlib.figure.Figure at 0x61b5a10>"
       ]
      }
     ],
     "prompt_number": 30
    },
    {
     "cell_type": "code",
     "collapsed": false,
     "input": [],
     "language": "python",
     "metadata": {},
     "outputs": []
    }
   ],
   "metadata": {}
  }
 ]
}