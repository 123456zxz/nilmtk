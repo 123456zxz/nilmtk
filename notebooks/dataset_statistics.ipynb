{
 "metadata": {
  "name": "",
  "signature": "sha256:bf0b91004ced59258b5265aeb278548466c1a6a851cb639f187480925f4baaae"
 },
 "nbformat": 3,
 "nbformat_minor": 0,
 "worksheets": [
  {
   "cells": [
    {
     "cell_type": "code",
     "collapsed": false,
     "input": [
      "from nilmtk import DataSet, TimeFrame\n",
      "import pandas as pd"
     ],
     "language": "python",
     "metadata": {},
     "outputs": [
      {
       "output_type": "stream",
       "stream": "stderr",
       "text": [
        "/usr/lib/python2.7/pkgutil.py:186: ImportWarning: Not importing directory '/usr/local/lib/python2.7/dist-packages/mpl_toolkits': missing __init__.py\n",
        "  file, filename, etc = imp.find_module(subname, path)\n"
       ]
      }
     ],
     "prompt_number": 1
    },
    {
     "cell_type": "code",
     "collapsed": false,
     "input": [
      "dataset = DataSet('/data/mine/vadeec/merged/ukdale.h5')\n",
      "# dataset.set_window(\"2014-01-01\", \"2014-01-02\")\n",
      "\n",
      "for building in dataset.buildings.values():\n",
      "    try:\n",
      "        building.elec.use_alternative_mains()\n",
      "    except RuntimeError:\n",
      "        pass\n",
      "    else:\n",
      "        print(\"using alternative mains for\", building)\n",
      "        \n",
      "elec = dataset.buildings[1].elec"
     ],
     "language": "python",
     "metadata": {},
     "outputs": [
      {
       "output_type": "stream",
       "stream": "stdout",
       "text": [
        "('using alternative mains for', Building(instance=1, dataset='UK-DALE'))\n",
        "('using alternative mains for', Building(instance=2, dataset='UK-DALE'))\n",
        "('using alternative mains for', Building(instance=5, dataset='UK-DALE'))\n"
       ]
      }
     ],
     "prompt_number": 2
    },
    {
     "cell_type": "code",
     "collapsed": false,
     "input": [
      "dataset.describe(verbose=True)"
     ],
     "language": "python",
     "metadata": {},
     "outputs": [
      {
       "output_type": "stream",
       "stream": "stdout",
       "text": [
        "Running MeterGroup.correlation_of_sum_of_submeters_with_mains()\n",
        "HDFDataStore.load. key='/building1/elec/meter54'\n",
        "    TimeFrame(start='None', end='None', empty=False)\n",
        "HDFDataStore.load. key='/building1/elec/meter14'"
       ]
      },
      {
       "output_type": "stream",
       "stream": "stdout",
       "text": [
        "\n",
        "    TimeFrame(start='None', end='None', empty=False)\n",
        "HDFDataStore.load. key='/building1/elec/meter18'"
       ]
      },
      {
       "output_type": "stream",
       "stream": "stdout",
       "text": [
        "\n",
        "    TimeFrame(start='None', end='None', empty=False)\n",
        "HDFDataStore.load. key='/building1/elec/meter38'"
       ]
      },
      {
       "output_type": "stream",
       "stream": "stdout",
       "text": [
        "\n",
        "    TimeFrame(start='None', end='None', empty=False)\n",
        "HDFDataStore.load. key='/building1/elec/meter20'"
       ]
      },
      {
       "output_type": "stream",
       "stream": "stdout",
       "text": [
        "\n",
        "    TimeFrame(start='None', end='None', empty=False)\n",
        "HDFDataStore.load. key='/building1/elec/meter42'"
       ]
      },
      {
       "output_type": "stream",
       "stream": "stdout",
       "text": [
        "\n",
        "    TimeFrame(start='None', end='None', empty=False)\n",
        "HDFDataStore.load. key='/building1/elec/meter24'"
       ]
      }
     ]
    },
    {
     "cell_type": "code",
     "collapsed": false,
     "input": [
      "elec.meters_directly_downstream_of_mains().total_energy(verbose=True)"
     ],
     "language": "python",
     "metadata": {},
     "outputs": [
      {
       "output_type": "stream",
       "stream": "stdout",
       "text": [
        "HDFDataStore.load. key='/building1/elec/meter14'\n",
        "    TimeFrame(start='2012-12-14 22:21:33+00:00', end='2014-11-14 09:48:48+00:00', empty=False)\n",
        "Calculating energy for column"
       ]
      },
      {
       "output_type": "stream",
       "stream": "stdout",
       "text": [
        " ('power', 'active')\n",
        "HDFDataStore.load. key='/building1/elec/meter18'"
       ]
      },
      {
       "output_type": "stream",
       "stream": "stdout",
       "text": [
        "\n",
        "    TimeFrame(start='2012-12-14 22:21:32+00:00', end='2014-11-16 06:17:49+00:00', empty=False)\n",
        "Calculating energy for column"
       ]
      },
      {
       "output_type": "stream",
       "stream": "stdout",
       "text": [
        " ('power', 'active')\n",
        "HDFDataStore.load. key='/building1/elec/meter38'"
       ]
      },
      {
       "output_type": "stream",
       "stream": "stdout",
       "text": [
        "\n",
        "    TimeFrame(start='2013-03-13 20:59:24+00:00', end='2014-11-16 06:21:09+00:00', empty=False)\n",
        "Calculating energy for column"
       ]
      },
      {
       "output_type": "stream",
       "stream": "stdout",
       "text": [
        " ('power', 'active')\n",
        "HDFDataStore.load. key='/building1/elec/meter20'"
       ]
      },
      {
       "output_type": "stream",
       "stream": "stdout",
       "text": [
        "\n",
        "    TimeFrame(start='2013-02-12 16:19:52+00:00', end='2013-10-22 15:39:47+01:00', empty=False)\n",
        "Calculating energy for column"
       ]
      },
      {
       "output_type": "stream",
       "stream": "stdout",
       "text": [
        " ('power', 'active')\n",
        "HDFDataStore.load. key='/building1/elec/meter42'"
       ]
      },
      {
       "output_type": "stream",
       "stream": "stdout",
       "text": [
        "\n",
        "    TimeFrame(start='2013-03-14 20:20:02+00:00', end='2014-11-16 06:21:26+00:00', empty=False)\n",
        "Calculating energy for column"
       ]
      },
      {
       "output_type": "stream",
       "stream": "stdout",
       "text": [
        " ('power', 'active')\n",
        "HDFDataStore.load. key='/building1/elec/meter24'"
       ]
      },
      {
       "output_type": "stream",
       "stream": "stdout",
       "text": [
        "\n",
        "    TimeFrame(start='2013-02-12 16:19:53+00:00', end='2014-11-10 22:34:38+00:00', empty=False)\n",
        "Calculating energy for column"
       ]
      },
      {
       "output_type": "stream",
       "stream": "stdout",
       "text": [
        " ('power', 'active')\n",
        "HDFDataStore.load. key='/building1/elec/meter7'"
       ]
      },
      {
       "output_type": "stream",
       "stream": "stdout",
       "text": [
        "\n",
        "    TimeFrame(start='2012-11-09 22:28:18+00:00', end='2014-11-16 06:23:43+00:00', empty=False)\n",
        "Calculating energy for column"
       ]
      },
      {
       "output_type": "stream",
       "stream": "stdout",
       "text": [
        " ('power', 'active')\n",
        "HDFDataStore.load. key='/building1/elec/meter44'"
       ]
      }
     ]
    },
    {
     "cell_type": "code",
     "collapsed": false,
     "input": [],
     "language": "python",
     "metadata": {},
     "outputs": []
    }
   ],
   "metadata": {}
  }
 ]
}