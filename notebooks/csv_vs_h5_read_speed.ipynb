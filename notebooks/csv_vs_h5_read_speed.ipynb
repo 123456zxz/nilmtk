{
 "metadata": {
  "name": ""
 },
 "nbformat": 3,
 "nbformat_minor": 0,
 "worksheets": [
  {
   "cells": [
    {
     "cell_type": "markdown",
     "metadata": {},
     "source": [
      "In this notebook, we compare the time taken to read data from a CSV and HDFS file using Pandas "
     ]
    },
    {
     "cell_type": "code",
     "collapsed": false,
     "input": [
      "import pandas as pd \n",
      "import numpy as np\n",
      "import matplotlib.pyplot as plt\n",
      "from pandas import HDFStore"
     ],
     "language": "python",
     "metadata": {},
     "outputs": [],
     "prompt_number": 19
    },
    {
     "cell_type": "markdown",
     "metadata": {},
     "source": [
      "Create a random DataFrame"
     ]
    },
    {
     "cell_type": "code",
     "collapsed": false,
     "input": [
      "df=pd.DataFrame(randn(100000,10))"
     ],
     "language": "python",
     "metadata": {},
     "outputs": [],
     "prompt_number": 20
    },
    {
     "cell_type": "code",
     "collapsed": false,
     "input": [
      "df"
     ],
     "language": "python",
     "metadata": {},
     "outputs": [
      {
       "html": [
        "<pre>\n",
        "&lt;class 'pandas.core.frame.DataFrame'&gt;\n",
        "Int64Index: 100000 entries, 0 to 99999\n",
        "Data columns (total 10 columns):\n",
        "0    100000  non-null values\n",
        "1    100000  non-null values\n",
        "2    100000  non-null values\n",
        "3    100000  non-null values\n",
        "4    100000  non-null values\n",
        "5    100000  non-null values\n",
        "6    100000  non-null values\n",
        "7    100000  non-null values\n",
        "8    100000  non-null values\n",
        "9    100000  non-null values\n",
        "dtypes: float64(10)\n",
        "</pre>"
       ],
       "metadata": {},
       "output_type": "pyout",
       "prompt_number": 21,
       "text": [
        "<class 'pandas.core.frame.DataFrame'>\n",
        "Int64Index: 100000 entries, 0 to 99999\n",
        "Data columns (total 10 columns):\n",
        "0    100000  non-null values\n",
        "1    100000  non-null values\n",
        "2    100000  non-null values\n",
        "3    100000  non-null values\n",
        "4    100000  non-null values\n",
        "5    100000  non-null values\n",
        "6    100000  non-null values\n",
        "7    100000  non-null values\n",
        "8    100000  non-null values\n",
        "9    100000  non-null values\n",
        "dtypes: float64(10)"
       ]
      }
     ],
     "prompt_number": 21
    },
    {
     "cell_type": "code",
     "collapsed": false,
     "input": [
      "df.describe()"
     ],
     "language": "python",
     "metadata": {},
     "outputs": [
      {
       "html": [
        "<div style=\"max-height:1000px;max-width:1500px;overflow:auto;\">\n",
        "<table border=\"1\" class=\"dataframe\">\n",
        "  <thead>\n",
        "    <tr style=\"text-align: right;\">\n",
        "      <th></th>\n",
        "      <th>0</th>\n",
        "      <th>1</th>\n",
        "      <th>2</th>\n",
        "      <th>3</th>\n",
        "      <th>4</th>\n",
        "      <th>5</th>\n",
        "      <th>6</th>\n",
        "      <th>7</th>\n",
        "      <th>8</th>\n",
        "      <th>9</th>\n",
        "    </tr>\n",
        "  </thead>\n",
        "  <tbody>\n",
        "    <tr>\n",
        "      <th>count</th>\n",
        "      <td> 100000.000000</td>\n",
        "      <td> 100000.000000</td>\n",
        "      <td> 100000.000000</td>\n",
        "      <td> 100000.000000</td>\n",
        "      <td> 100000.000000</td>\n",
        "      <td> 100000.000000</td>\n",
        "      <td> 100000.000000</td>\n",
        "      <td> 100000.000000</td>\n",
        "      <td> 100000.000000</td>\n",
        "      <td> 100000.000000</td>\n",
        "    </tr>\n",
        "    <tr>\n",
        "      <th>mean</th>\n",
        "      <td>     -0.003186</td>\n",
        "      <td>      0.002613</td>\n",
        "      <td>     -0.000543</td>\n",
        "      <td>      0.001786</td>\n",
        "      <td>     -0.000539</td>\n",
        "      <td>     -0.001452</td>\n",
        "      <td>     -0.003003</td>\n",
        "      <td>     -0.000799</td>\n",
        "      <td>     -0.002101</td>\n",
        "      <td>      0.002925</td>\n",
        "    </tr>\n",
        "    <tr>\n",
        "      <th>std</th>\n",
        "      <td>      0.998055</td>\n",
        "      <td>      0.999786</td>\n",
        "      <td>      0.999926</td>\n",
        "      <td>      1.000137</td>\n",
        "      <td>      0.996265</td>\n",
        "      <td>      0.999634</td>\n",
        "      <td>      1.000148</td>\n",
        "      <td>      1.000329</td>\n",
        "      <td>      1.001467</td>\n",
        "      <td>      1.000674</td>\n",
        "    </tr>\n",
        "    <tr>\n",
        "      <th>min</th>\n",
        "      <td>     -4.031064</td>\n",
        "      <td>     -4.409439</td>\n",
        "      <td>     -4.177278</td>\n",
        "      <td>     -4.429158</td>\n",
        "      <td>     -4.457116</td>\n",
        "      <td>     -4.303541</td>\n",
        "      <td>     -4.333859</td>\n",
        "      <td>     -4.617543</td>\n",
        "      <td>     -4.076669</td>\n",
        "      <td>     -4.506117</td>\n",
        "    </tr>\n",
        "    <tr>\n",
        "      <th>25%</th>\n",
        "      <td>     -0.676949</td>\n",
        "      <td>     -0.675744</td>\n",
        "      <td>     -0.672178</td>\n",
        "      <td>     -0.676624</td>\n",
        "      <td>     -0.669624</td>\n",
        "      <td>     -0.678594</td>\n",
        "      <td>     -0.676177</td>\n",
        "      <td>     -0.677514</td>\n",
        "      <td>     -0.679178</td>\n",
        "      <td>     -0.673810</td>\n",
        "    </tr>\n",
        "    <tr>\n",
        "      <th>50%</th>\n",
        "      <td>     -0.000730</td>\n",
        "      <td>      0.001680</td>\n",
        "      <td>     -0.004690</td>\n",
        "      <td>      0.004263</td>\n",
        "      <td>      0.001389</td>\n",
        "      <td>     -0.001861</td>\n",
        "      <td>     -0.001283</td>\n",
        "      <td>      0.000570</td>\n",
        "      <td>     -0.000943</td>\n",
        "      <td>      0.001356</td>\n",
        "    </tr>\n",
        "    <tr>\n",
        "      <th>75%</th>\n",
        "      <td>      0.666823</td>\n",
        "      <td>      0.677680</td>\n",
        "      <td>      0.675737</td>\n",
        "      <td>      0.678512</td>\n",
        "      <td>      0.673375</td>\n",
        "      <td>      0.672909</td>\n",
        "      <td>      0.667566</td>\n",
        "      <td>      0.674237</td>\n",
        "      <td>      0.670221</td>\n",
        "      <td>      0.678960</td>\n",
        "    </tr>\n",
        "    <tr>\n",
        "      <th>max</th>\n",
        "      <td>      4.356823</td>\n",
        "      <td>      4.019266</td>\n",
        "      <td>      4.265406</td>\n",
        "      <td>      4.393970</td>\n",
        "      <td>      4.705712</td>\n",
        "      <td>      4.593533</td>\n",
        "      <td>      4.607802</td>\n",
        "      <td>      4.866393</td>\n",
        "      <td>      4.583198</td>\n",
        "      <td>      4.881889</td>\n",
        "    </tr>\n",
        "  </tbody>\n",
        "</table>\n",
        "</div>"
       ],
       "metadata": {},
       "output_type": "pyout",
       "prompt_number": 22,
       "text": [
        "                   0              1              2              3  \\\n",
        "count  100000.000000  100000.000000  100000.000000  100000.000000   \n",
        "mean       -0.003186       0.002613      -0.000543       0.001786   \n",
        "std         0.998055       0.999786       0.999926       1.000137   \n",
        "min        -4.031064      -4.409439      -4.177278      -4.429158   \n",
        "25%        -0.676949      -0.675744      -0.672178      -0.676624   \n",
        "50%        -0.000730       0.001680      -0.004690       0.004263   \n",
        "75%         0.666823       0.677680       0.675737       0.678512   \n",
        "max         4.356823       4.019266       4.265406       4.393970   \n",
        "\n",
        "                   4              5              6              7  \\\n",
        "count  100000.000000  100000.000000  100000.000000  100000.000000   \n",
        "mean       -0.000539      -0.001452      -0.003003      -0.000799   \n",
        "std         0.996265       0.999634       1.000148       1.000329   \n",
        "min        -4.457116      -4.303541      -4.333859      -4.617543   \n",
        "25%        -0.669624      -0.678594      -0.676177      -0.677514   \n",
        "50%         0.001389      -0.001861      -0.001283       0.000570   \n",
        "75%         0.673375       0.672909       0.667566       0.674237   \n",
        "max         4.705712       4.593533       4.607802       4.866393   \n",
        "\n",
        "                   8              9  \n",
        "count  100000.000000  100000.000000  \n",
        "mean       -0.002101       0.002925  \n",
        "std         1.001467       1.000674  \n",
        "min        -4.076669      -4.506117  \n",
        "25%        -0.679178      -0.673810  \n",
        "50%        -0.000943       0.001356  \n",
        "75%         0.670221       0.678960  \n",
        "max         4.583198       4.881889  "
       ]
      }
     ],
     "prompt_number": 22
    },
    {
     "cell_type": "code",
     "collapsed": false,
     "input": [
      "! rm dummy.csv\n",
      "! rm store.h5\n"
     ],
     "language": "python",
     "metadata": {},
     "outputs": [],
     "prompt_number": 29
    },
    {
     "cell_type": "markdown",
     "metadata": {},
     "source": [
      "Exporting the Data Frame to CSV"
     ]
    },
    {
     "cell_type": "code",
     "collapsed": false,
     "input": [
      "df.to_csv('dummy.csv')"
     ],
     "language": "python",
     "metadata": {},
     "outputs": [],
     "prompt_number": 30
    },
    {
     "cell_type": "markdown",
     "metadata": {},
     "source": [
      "Exporting to h5"
     ]
    },
    {
     "cell_type": "code",
     "collapsed": false,
     "input": [
      "store = HDFStore('store.h5')"
     ],
     "language": "python",
     "metadata": {},
     "outputs": [],
     "prompt_number": 31
    },
    {
     "cell_type": "code",
     "collapsed": false,
     "input": [
      "store"
     ],
     "language": "python",
     "metadata": {},
     "outputs": [
      {
       "metadata": {},
       "output_type": "pyout",
       "prompt_number": 33,
       "text": [
        "<class 'pandas.io.pytables.HDFStore'>\n",
        "File path: store.h5\n",
        "/df_1            frame        (shape->[10000,10])                                       \n",
        "/df_2            frame_table  (typ->appendable,nrows->10000,ncols->10,indexers->[index])"
       ]
      }
     ],
     "prompt_number": 33
    },
    {
     "cell_type": "code",
     "collapsed": false,
     "input": [
      "ls -la"
     ],
     "language": "python",
     "metadata": {},
     "outputs": [
      {
       "output_type": "stream",
       "stream": "stdout",
       "text": [
        "total 19936\r\n",
        "drwxrwxr-x 2 nipun nipun     4096 Dec  7 14:48 \u001b[0m\u001b[01;34m.\u001b[0m/\r\n",
        "drwxrwxr-x 9 nipun nipun     4096 Dec  7 07:57 \u001b[01;34m..\u001b[0m/\r\n",
        "-rw-rw-r-- 1 nipun nipun    14650 Dec  7 14:46 csv_vs_h5_read_speed.ipynb\r\n",
        "-rw-rw-r-- 1 nipun nipun 20220222 Dec  7 14:48 dummy.csv\r\n",
        "-rw-rw-r-- 1 nipun nipun    63291 Dec  6 18:26 read_AMPds.ipynb\r\n",
        "-rw-rw-r-- 1 nipun nipun      198 Dec  6 18:26 README.md\r\n",
        "-rw-rw-r-- 1 nipun nipun    97487 Dec  6 18:57 read_PECAN.ipynb\r\n"
       ]
      }
     ],
     "prompt_number": 34
    },
    {
     "cell_type": "code",
     "collapsed": false,
     "input": [
      "store['df_1']=df"
     ],
     "language": "python",
     "metadata": {},
     "outputs": [],
     "prompt_number": 35
    },
    {
     "cell_type": "code",
     "collapsed": false,
     "input": [
      "store_compressed = HDFStore('store_compressed.h5')"
     ],
     "language": "python",
     "metadata": {},
     "outputs": [],
     "prompt_number": 36
    },
    {
     "cell_type": "code",
     "collapsed": false,
     "input": [
      "store_compressed.append('df_2', df, complevel=9)"
     ],
     "language": "python",
     "metadata": {},
     "outputs": [],
     "prompt_number": 37
    },
    {
     "cell_type": "markdown",
     "metadata": {},
     "source": [
      "Let us also save df_1 with max compression"
     ]
    },
    {
     "cell_type": "markdown",
     "metadata": {},
     "source": [
      "Now, let us attempt to read the CSV into DF"
     ]
    },
    {
     "cell_type": "code",
     "collapsed": false,
     "input": [
      "%%timeit\n",
      "df_csv_read=pd.read_csv(\"dummy.csv\")"
     ],
     "language": "python",
     "metadata": {},
     "outputs": [
      {
       "output_type": "stream",
       "stream": "stdout",
       "text": [
        "1 loops, best of 3: 212 ms per loop\n"
       ]
      }
     ],
     "prompt_number": 38
    },
    {
     "cell_type": "code",
     "collapsed": false,
     "input": [
      "%%timeit\n",
      "df_store_read=store['df_1']"
     ],
     "language": "python",
     "metadata": {},
     "outputs": [
      {
       "output_type": "stream",
       "stream": "stdout",
       "text": [
        "100 loops, best of 3: 1.93 ms per loop\n"
       ]
      }
     ],
     "prompt_number": 39
    },
    {
     "cell_type": "code",
     "collapsed": false,
     "input": [
      "%%timeit\n",
      "df_store_compressed_read = store_compressed['df_2']"
     ],
     "language": "python",
     "metadata": {},
     "outputs": [
      {
       "output_type": "stream",
       "stream": "stdout",
       "text": [
        "100 loops, best of 3: 4.79 ms per loop\n"
       ]
      }
     ],
     "prompt_number": 40
    },
    {
     "cell_type": "code",
     "collapsed": false,
     "input": [
      "!ls -la"
     ],
     "language": "python",
     "metadata": {},
     "outputs": [
      {
       "output_type": "stream",
       "stream": "stdout",
       "text": [
        "total 28584\r\n",
        "drwxrwxr-x 2 nipun nipun     4096 Dec  7 14:48 .\r\n",
        "drwxrwxr-x 9 nipun nipun     4096 Dec  7 07:57 ..\r\n",
        "-rw-rw-r-- 1 nipun nipun    15906 Dec  7 14:48 csv_vs_h5_read_speed.ipynb\r\n",
        "-rw-rw-r-- 1 nipun nipun 20220222 Dec  7 14:48 dummy.csv\r\n",
        "-rw-rw-r-- 1 nipun nipun    63291 Dec  6 18:26 read_AMPds.ipynb\r\n",
        "-rw-rw-r-- 1 nipun nipun      198 Dec  6 18:26 README.md\r\n",
        "-rw-rw-r-- 1 nipun nipun    97487 Dec  6 18:57 read_PECAN.ipynb\r\n",
        "-rw-rw-r-- 1 nipun nipun  8852424 Dec  7 14:48 store_compressed.h5\r\n"
       ]
      }
     ],
     "prompt_number": 41
    },
    {
     "cell_type": "code",
     "collapsed": false,
     "input": [
      "store"
     ],
     "language": "python",
     "metadata": {},
     "outputs": [
      {
       "metadata": {},
       "output_type": "pyout",
       "prompt_number": 42,
       "text": [
        "<class 'pandas.io.pytables.HDFStore'>\n",
        "File path: store.h5\n",
        "/df_1            frame        (shape->[100000,10])                                      \n",
        "/df_2            frame_table  (typ->appendable,nrows->10000,ncols->10,indexers->[index])"
       ]
      }
     ],
     "prompt_number": 42
    },
    {
     "cell_type": "code",
     "collapsed": false,
     "input": [
      "store.flush()"
     ],
     "language": "python",
     "metadata": {},
     "outputs": [],
     "prompt_number": 43
    },
    {
     "cell_type": "code",
     "collapsed": false,
     "input": [
      "store"
     ],
     "language": "python",
     "metadata": {},
     "outputs": [
      {
       "metadata": {},
       "output_type": "pyout",
       "prompt_number": 44,
       "text": [
        "<class 'pandas.io.pytables.HDFStore'>\n",
        "File path: store.h5\n",
        "/df_1            frame        (shape->[100000,10])                                      \n",
        "/df_2            frame_table  (typ->appendable,nrows->10000,ncols->10,indexers->[index])"
       ]
      }
     ],
     "prompt_number": 44
    },
    {
     "cell_type": "code",
     "collapsed": false,
     "input": [
      "store.close()"
     ],
     "language": "python",
     "metadata": {},
     "outputs": [],
     "prompt_number": 45
    },
    {
     "cell_type": "code",
     "collapsed": false,
     "input": [
      "store"
     ],
     "language": "python",
     "metadata": {},
     "outputs": [
      {
       "metadata": {},
       "output_type": "pyout",
       "prompt_number": 46,
       "text": [
        "<class 'pandas.io.pytables.HDFStore'>\n",
        "File path: store.h5\n",
        "/df_1            frame        (shape->[100000,10])                                      \n",
        "/df_2            frame_table  (typ->appendable,nrows->10000,ncols->10,indexers->[index])"
       ]
      }
     ],
     "prompt_number": 46
    },
    {
     "cell_type": "code",
     "collapsed": false,
     "input": [],
     "language": "python",
     "metadata": {},
     "outputs": []
    }
   ],
   "metadata": {}
  }
 ]
}