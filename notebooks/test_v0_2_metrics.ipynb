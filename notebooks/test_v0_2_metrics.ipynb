{
 "metadata": {
  "name": "",
  "signature": "sha256:f3461a3b9b1ea90cbeeab3b5d5652f0f27c2f83e8fd7a65adc8b4e4789c25c39"
 },
 "nbformat": 3,
 "nbformat_minor": 0,
 "worksheets": [
  {
   "cells": [
    {
     "cell_type": "code",
     "collapsed": false,
     "input": [
      "from nilmtk import DataSet, MeterGroup\n",
      "\n",
      "predictions_dataset = DataSet('output.h5')\n",
      "ground_truth_dataset = DataSet('redd.h5')"
     ],
     "language": "python",
     "metadata": {},
     "outputs": [
      {
       "output_type": "stream",
       "stream": "stderr",
       "text": [
        "/home/jack/workspace/python/nilmtk/nilmtk/metergroup.py:44: RuntimeWarning: Building 1 has an empty 'appliances' list.\n",
        "  .format(building_id.instance), RuntimeWarning)\n"
       ]
      }
     ],
     "prompt_number": 1
    },
    {
     "cell_type": "code",
     "collapsed": false,
     "input": [
      "predictions_metergroup = predictions_dataset.buildings[1].elec\n",
      "ground_truth_metergroup = MeterGroup.from_other_metergroup(predictions_metergroup, 'REDD')"
     ],
     "language": "python",
     "metadata": {},
     "outputs": [],
     "prompt_number": 2
    },
    {
     "cell_type": "code",
     "collapsed": false,
     "input": [
      "predictions_metergroup"
     ],
     "language": "python",
     "metadata": {},
     "outputs": [
      {
       "metadata": {},
       "output_type": "pyout",
       "prompt_number": 3,
       "text": [
        "MeterGroup(meters=\n",
        "  ElecMeter(instance=(1, 2), building=1, dataset='NILMTK_CO_2014-07-09T12:56:52', site_meter, appliances=[])\n",
        "  ElecMeter(instance=5, building=1, dataset='NILMTK_CO_2014-07-09T12:56:52', appliances=[])\n",
        "  ElecMeter(instance=6, building=1, dataset='NILMTK_CO_2014-07-09T12:56:52', appliances=[])\n",
        "  ElecMeter(instance=7, building=1, dataset='NILMTK_CO_2014-07-09T12:56:52', appliances=[])\n",
        "  ElecMeter(instance=8, building=1, dataset='NILMTK_CO_2014-07-09T12:56:52', appliances=[])\n",
        "  ElecMeter(instance=9, building=1, dataset='NILMTK_CO_2014-07-09T12:56:52', appliances=[])\n",
        "  ElecMeter(instance=11, building=1, dataset='NILMTK_CO_2014-07-09T12:56:52', appliances=[])\n",
        "  ElecMeter(instance=12, building=1, dataset='NILMTK_CO_2014-07-09T12:56:52', appliances=[])\n",
        "  ElecMeter(instance=13, building=1, dataset='NILMTK_CO_2014-07-09T12:56:52', appliances=[])\n",
        "  ElecMeter(instance=14, building=1, dataset='NILMTK_CO_2014-07-09T12:56:52', appliances=[])\n",
        "  ElecMeter(instance=15, building=1, dataset='NILMTK_CO_2014-07-09T12:56:52', appliances=[])\n",
        "  ElecMeter(instance=16, building=1, dataset='NILMTK_CO_2014-07-09T12:56:52', appliances=[])\n",
        "  ElecMeter(instance=17, building=1, dataset='NILMTK_CO_2014-07-09T12:56:52', appliances=[])\n",
        "  ElecMeter(instance=18, building=1, dataset='NILMTK_CO_2014-07-09T12:56:52', appliances=[])\n",
        "  ElecMeter(instance=19, building=1, dataset='NILMTK_CO_2014-07-09T12:56:52', appliances=[])\n",
        "  ElecMeter(instance=(10, 20), building=1, dataset='NILMTK_CO_2014-07-09T12:56:52', appliances=[])\n",
        "  ElecMeter(instance=(3, 4), building=1, dataset='NILMTK_CO_2014-07-09T12:56:52', appliances=[])\n",
        ")"
       ]
      }
     ],
     "prompt_number": 3
    },
    {
     "cell_type": "code",
     "collapsed": false,
     "input": [
      "ground_truth_metergroup"
     ],
     "language": "python",
     "metadata": {},
     "outputs": [
      {
       "metadata": {},
       "output_type": "pyout",
       "prompt_number": 4,
       "text": [
        "MeterGroup(meters=\n",
        "  ElecMeter(instance=18, building=1, dataset='REDD', appliances=[Appliance(type='light', instance=3)])\n",
        "  ElecMeter(instance=11, building=1, dataset='REDD', appliances=[Appliance(type='microwave', instance=1)])\n",
        "  ElecMeter(instance=17, building=1, dataset='REDD', appliances=[Appliance(type='light', instance=2)])\n",
        "  ElecMeter(instance=13, building=1, dataset='REDD', appliances=[Appliance(type='electric space heater', instance=1)])\n",
        "  ElecMeter(instance=16, building=1, dataset='REDD', appliances=[Appliance(type='sockets', instance=4)])\n",
        "  ElecMeter(instance=9, building=1, dataset='REDD', appliances=[Appliance(type='light', instance=1)])\n",
        "  ElecMeter(instance=15, building=1, dataset='REDD', appliances=[Appliance(type='sockets', instance=3)])\n",
        "  ElecMeter(instance=12, building=1, dataset='REDD', appliances=[Appliance(type='unknown', instance=1)])\n",
        "  ElecMeter(instance=5, building=1, dataset='REDD', appliances=[Appliance(type='fridge', instance=1)])\n",
        "  ElecMeter(instance=8, building=1, dataset='REDD', appliances=[Appliance(type='sockets', instance=2)])\n",
        "  ElecMeter(instance=14, building=1, dataset='REDD', appliances=[Appliance(type='electric stove', instance=1)])\n",
        "  ElecMeter(instance=7, building=1, dataset='REDD', appliances=[Appliance(type='sockets', instance=1)])\n",
        "  MeterGroup(meters=\n",
        "    ElecMeter(instance=3, building=1, dataset='REDD', appliances=[Appliance(type='electric oven', instance=1)])\n",
        "    ElecMeter(instance=4, building=1, dataset='REDD', appliances=[Appliance(type='electric oven', instance=1)])\n",
        "  )\n",
        "  ElecMeter(instance=19, building=1, dataset='REDD', appliances=[Appliance(type='unknown', instance=2)])\n",
        "  MeterGroup(meters=\n",
        "    ElecMeter(instance=2, building=1, dataset='REDD', site_meter, appliances=[])\n",
        "    ElecMeter(instance=1, building=1, dataset='REDD', site_meter, appliances=[])\n",
        "  )\n",
        "  ElecMeter(instance=6, building=1, dataset='REDD', appliances=[Appliance(type='dish washer', instance=1)])\n",
        "  MeterGroup(meters=\n",
        "    ElecMeter(instance=10, building=1, dataset='REDD', appliances=[Appliance(type='washer dryer', instance=1)])\n",
        "    ElecMeter(instance=20, building=1, dataset='REDD', appliances=[Appliance(type='washer dryer', instance=1)])\n",
        "  )\n",
        ")"
       ]
      }
     ],
     "prompt_number": 4
    },
    {
     "cell_type": "code",
     "collapsed": false,
     "input": [
      "ground_truth_metergroup.mains()"
     ],
     "language": "python",
     "metadata": {},
     "outputs": [
      {
       "metadata": {},
       "output_type": "pyout",
       "prompt_number": 5,
       "text": [
        "MeterGroup(meters=\n",
        "  ElecMeter(instance=2, building=1, dataset='REDD', site_meter, appliances=[])\n",
        "  ElecMeter(instance=1, building=1, dataset='REDD', site_meter, appliances=[])\n",
        ")"
       ]
      }
     ],
     "prompt_number": 5
    },
    {
     "cell_type": "code",
     "collapsed": false,
     "input": [
      "predictions_metergroup.mains()"
     ],
     "language": "python",
     "metadata": {},
     "outputs": [
      {
       "metadata": {},
       "output_type": "pyout",
       "prompt_number": 6,
       "text": [
        "ElecMeter(instance=(1, 2), building=1, dataset='NILMTK_CO_2014-07-09T12:56:52', site_meter, appliances=[])"
       ]
      }
     ],
     "prompt_number": 6
    },
    {
     "cell_type": "code",
     "collapsed": false,
     "input": [
      "from nilmtk import metrics\n",
      "\n",
      "errors = metrics.error_in_assigned_energy(predictions_metergroup, ground_truth_metergroup)"
     ],
     "language": "python",
     "metadata": {},
     "outputs": [],
     "prompt_number": 7
    },
    {
     "cell_type": "code",
     "collapsed": false,
     "input": [
      "errors"
     ],
     "language": "python",
     "metadata": {},
     "outputs": [
      {
       "metadata": {},
       "output_type": "pyout",
       "prompt_number": 8,
       "text": [
        "5           13.466175\n",
        "6           10.501869\n",
        "7           11.655311\n",
        "8           16.698923\n",
        "9           14.052876\n",
        "11           7.981391\n",
        "12          11.148177\n",
        "13           2.979062\n",
        "14           8.065479\n",
        "15           3.759926\n",
        "16           6.353007\n",
        "17           3.317994\n",
        "18           0.793409\n",
        "19           0.000085\n",
        "(3, 4)       0.464716\n",
        "(10, 20)    21.853051\n",
        "dtype: float64"
       ]
      }
     ],
     "prompt_number": 8
    },
    {
     "cell_type": "code",
     "collapsed": false,
     "input": [
      "fraction = metrics.fraction_energy_assigned_correctly(predictions_metergroup, ground_truth_metergroup)\n",
      "fraction"
     ],
     "language": "python",
     "metadata": {},
     "outputs": [
      {
       "metadata": {},
       "output_type": "pyout",
       "prompt_number": 9,
       "text": [
        "0.74551017623861116"
       ]
      }
     ],
     "prompt_number": 9
    },
    {
     "cell_type": "code",
     "collapsed": false,
     "input": [
      "mne = metrics.mean_normalized_error_power(predictions_metergroup, ground_truth_metergroup)\n",
      "mne"
     ],
     "language": "python",
     "metadata": {},
     "outputs": [
      {
       "metadata": {},
       "output_type": "pyout",
       "prompt_number": 10,
       "text": [
        "5            0.496294\n",
        "6            0.889508\n",
        "7            0.251467\n",
        "8            0.314228\n",
        "9            0.420332\n",
        "11           0.862761\n",
        "12           3.573414\n",
        "13          31.760268\n",
        "14          20.618227\n",
        "15           2.130499\n",
        "16           4.078660\n",
        "17           0.893244\n",
        "18           0.963919\n",
        "19           0.387947\n",
        "(3, 4)       1.384429\n",
        "(10, 20)     0.258725\n",
        "dtype: float64"
       ]
      }
     ],
     "prompt_number": 10
    },
    {
     "cell_type": "code",
     "collapsed": false,
     "input": [],
     "language": "python",
     "metadata": {},
     "outputs": [],
     "prompt_number": 10
    }
   ],
   "metadata": {}
  }
 ]
}