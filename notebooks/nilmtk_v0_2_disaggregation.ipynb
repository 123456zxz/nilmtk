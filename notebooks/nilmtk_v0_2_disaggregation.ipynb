{
 "metadata": {
  "name": "",
  "signature": "sha256:5a797de64504acf4202b0bf6647eeb6df92406067022914ea29a3890d5c9200b"
 },
 "nbformat": 3,
 "nbformat_minor": 0,
 "worksheets": [
  {
   "cells": [
    {
     "cell_type": "code",
     "collapsed": false,
     "input": [
      "from __future__ import print_function, division\n",
      "from nilmtk import HDFDataStore, DataSet\n",
      "from nilmtk.disaggregate import CombinatorialOptimisation\n",
      "import pandas as pd\n",
      "\n",
      "print(\"Loading data...\")\n",
      "datastore = HDFDataStore('/home/jack/workspace/python/nilmtk/notebooks/redd.h5')\n",
      "dataset = DataSet()\n",
      "dataset.load(datastore)\n",
      "elec = dataset.buildings[1].elec"
     ],
     "language": "python",
     "metadata": {},
     "outputs": [
      {
       "output_type": "stream",
       "stream": "stdout",
       "text": [
        "Loading data...\n"
       ]
      }
     ],
     "prompt_number": 1
    },
    {
     "cell_type": "code",
     "collapsed": false,
     "input": [
      "print(\"Training CO model...\")\n",
      "co = CombinatorialOptimisation()\n",
      "co.train(elec)\n",
      "print(\"Model =\", co.model)"
     ],
     "language": "python",
     "metadata": {},
     "outputs": [
      {
       "output_type": "stream",
       "stream": "stdout",
       "text": [
        "Training CO model...\n",
        "Model ="
       ]
      },
      {
       "output_type": "stream",
       "stream": "stdout",
       "text": [
        " {5: array([  0, 202], dtype=int32), 6: array([  0, 618], dtype=int32), 7: array([ 0, 21], dtype=int32), 8: array([ 0, 28], dtype=int32), 9: array([ 0, 73], dtype=int32), 11: array([   0, 1196], dtype=int32), 12: array([  0, 386], dtype=int32), 13: array([ 0, 12], dtype=int32), 14: array([  0, 916], dtype=int32), 15: array([   0, 1059], dtype=int32), 16: array([   0, 1518], dtype=int32), 17: array([ 0, 65], dtype=int32), 18: array([ 0, 54], dtype=int32), 19: array([0], dtype=int32), (10, 20): array([   0, 2035], dtype=int32), (3, 4): array([   0, 1068], dtype=int32)}\n"
       ]
      }
     ],
     "prompt_number": 2
    },
    {
     "cell_type": "code",
     "collapsed": false,
     "input": [
      "mains = elec.mains()\n",
      "output = HDFDataStore('output.h5', 'w')\n"
     ],
     "language": "python",
     "metadata": {},
     "outputs": [],
     "prompt_number": 3
    },
    {
     "cell_type": "code",
     "collapsed": false,
     "input": [
      "print(\"Disaggregation...\")\n",
      "co.disaggregate(mains, output)"
     ],
     "language": "python",
     "metadata": {},
     "outputs": [
      {
       "output_type": "stream",
       "stream": "stdout",
       "text": [
        "Disaggregation...\n",
        "[TimeFrame(start='2011-04-18 09:22:09-04:00', end='2011-05-01 23:14:16-04:00', empty=False), TimeFrame(start='2011-05-01 23:14:17-04:00', end='2011-05-24 15:57:02-04:00', empty=False)]"
       ]
      },
      {
       "output_type": "stream",
       "stream": "stdout",
       "text": [
        "\n"
       ]
      }
     ],
     "prompt_number": 4
    },
    {
     "cell_type": "code",
     "collapsed": false,
     "input": [
      "output.store.get('/building1/elec/meter5')[:10]"
     ],
     "language": "python",
     "metadata": {},
     "outputs": [
      {
       "html": [
        "<div style=\"max-height:1000px;max-width:1500px;overflow:auto;\">\n",
        "<table border=\"1\" class=\"dataframe\">\n",
        "  <thead>\n",
        "    <tr>\n",
        "      <th>physical_quantity</th>\n",
        "      <th>power</th>\n",
        "    </tr>\n",
        "    <tr>\n",
        "      <th>type</th>\n",
        "      <th>apparent</th>\n",
        "    </tr>\n",
        "  </thead>\n",
        "  <tbody>\n",
        "    <tr>\n",
        "      <th>2011-04-18 09:22:09-04:00</th>\n",
        "      <td> 202</td>\n",
        "    </tr>\n",
        "    <tr>\n",
        "      <th>2011-04-18 09:22:10-04:00</th>\n",
        "      <td> 202</td>\n",
        "    </tr>\n",
        "    <tr>\n",
        "      <th>2011-04-18 09:22:11-04:00</th>\n",
        "      <td> 202</td>\n",
        "    </tr>\n",
        "    <tr>\n",
        "      <th>2011-04-18 09:22:12-04:00</th>\n",
        "      <td> 202</td>\n",
        "    </tr>\n",
        "    <tr>\n",
        "      <th>2011-04-18 09:22:13-04:00</th>\n",
        "      <td> 202</td>\n",
        "    </tr>\n",
        "    <tr>\n",
        "      <th>2011-04-18 09:22:14-04:00</th>\n",
        "      <td> 202</td>\n",
        "    </tr>\n",
        "    <tr>\n",
        "      <th>2011-04-18 09:22:15-04:00</th>\n",
        "      <td> 202</td>\n",
        "    </tr>\n",
        "    <tr>\n",
        "      <th>2011-04-18 09:22:16-04:00</th>\n",
        "      <td> 202</td>\n",
        "    </tr>\n",
        "    <tr>\n",
        "      <th>2011-04-18 09:22:17-04:00</th>\n",
        "      <td> 202</td>\n",
        "    </tr>\n",
        "    <tr>\n",
        "      <th>2011-04-18 09:22:18-04:00</th>\n",
        "      <td> 202</td>\n",
        "    </tr>\n",
        "  </tbody>\n",
        "</table>\n",
        "</div>"
       ],
       "metadata": {},
       "output_type": "pyout",
       "prompt_number": 5,
       "text": [
        "physical_quantity             power\n",
        "type                       apparent\n",
        "2011-04-18 09:22:09-04:00       202\n",
        "2011-04-18 09:22:10-04:00       202\n",
        "2011-04-18 09:22:11-04:00       202\n",
        "2011-04-18 09:22:12-04:00       202\n",
        "2011-04-18 09:22:13-04:00       202\n",
        "2011-04-18 09:22:14-04:00       202\n",
        "2011-04-18 09:22:15-04:00       202\n",
        "2011-04-18 09:22:16-04:00       202\n",
        "2011-04-18 09:22:17-04:00       202\n",
        "2011-04-18 09:22:18-04:00       202"
       ]
      }
     ],
     "prompt_number": 5
    },
    {
     "cell_type": "code",
     "collapsed": false,
     "input": [
      "disag_dataset = DataSet()\n",
      "disag_dataset.load(output)"
     ],
     "language": "python",
     "metadata": {},
     "outputs": [
      {
       "output_type": "stream",
       "stream": "stderr",
       "text": [
        "/home/jack/workspace/python/nilmtk/nilmtk/metergroup.py:43: RuntimeWarning: Building 1 has an empty 'appliances' list.\n",
        "  .format(building_id.instance), RuntimeWarning)\n"
       ]
      },
      {
       "metadata": {},
       "output_type": "pyout",
       "prompt_number": 6,
       "text": [
        "<nilmtk.dataset.DataSet at 0x7f866682cb50>"
       ]
      }
     ],
     "prompt_number": 6
    },
    {
     "cell_type": "code",
     "collapsed": false,
     "input": [
      "disag_dataset.buildings[1].elec"
     ],
     "language": "python",
     "metadata": {},
     "outputs": [
      {
       "metadata": {},
       "output_type": "pyout",
       "prompt_number": 7,
       "text": [
        "MeterGroup(meters=\n",
        "  ElecMeter(instance=(1, 2), building=1, dataset='NILMTK_CO_2014-07-09T12:56:52', site_meter, appliances=[])\n",
        "  ElecMeter(instance=5, building=1, dataset='NILMTK_CO_2014-07-09T12:56:52', appliances=[])\n",
        "  ElecMeter(instance=6, building=1, dataset='NILMTK_CO_2014-07-09T12:56:52', appliances=[])\n",
        "  ElecMeter(instance=7, building=1, dataset='NILMTK_CO_2014-07-09T12:56:52', appliances=[])\n",
        "  ElecMeter(instance=8, building=1, dataset='NILMTK_CO_2014-07-09T12:56:52', appliances=[])\n",
        "  ElecMeter(instance=9, building=1, dataset='NILMTK_CO_2014-07-09T12:56:52', appliances=[])\n",
        "  ElecMeter(instance=11, building=1, dataset='NILMTK_CO_2014-07-09T12:56:52', appliances=[])\n",
        "  ElecMeter(instance=12, building=1, dataset='NILMTK_CO_2014-07-09T12:56:52', appliances=[])\n",
        "  ElecMeter(instance=13, building=1, dataset='NILMTK_CO_2014-07-09T12:56:52', appliances=[])\n",
        "  ElecMeter(instance=14, building=1, dataset='NILMTK_CO_2014-07-09T12:56:52', appliances=[])\n",
        "  ElecMeter(instance=15, building=1, dataset='NILMTK_CO_2014-07-09T12:56:52', appliances=[])\n",
        "  ElecMeter(instance=16, building=1, dataset='NILMTK_CO_2014-07-09T12:56:52', appliances=[])\n",
        "  ElecMeter(instance=17, building=1, dataset='NILMTK_CO_2014-07-09T12:56:52', appliances=[])\n",
        "  ElecMeter(instance=18, building=1, dataset='NILMTK_CO_2014-07-09T12:56:52', appliances=[])\n",
        "  ElecMeter(instance=19, building=1, dataset='NILMTK_CO_2014-07-09T12:56:52', appliances=[])\n",
        "  ElecMeter(instance=(10, 20), building=1, dataset='NILMTK_CO_2014-07-09T12:56:52', appliances=[])\n",
        "  ElecMeter(instance=(3, 4), building=1, dataset='NILMTK_CO_2014-07-09T12:56:52', appliances=[])\n",
        ")"
       ]
      }
     ],
     "prompt_number": 7
    },
    {
     "cell_type": "code",
     "collapsed": false,
     "input": [
      "elec = disag_dataset.buildings[1].elec\n",
      "good_sections = elec[5].good_sections()\n",
      "good_sections.combined"
     ],
     "language": "python",
     "metadata": {},
     "outputs": [
      {
       "metadata": {},
       "output_type": "pyout",
       "prompt_number": 8,
       "text": [
        "[TimeFrame(start='2011-04-18 09:22:09-04:00', end='2011-05-24 15:57:02-04:00', empty=False)]"
       ]
      }
     ],
     "prompt_number": 8
    },
    {
     "cell_type": "code",
     "collapsed": false,
     "input": [],
     "language": "python",
     "metadata": {},
     "outputs": [],
     "prompt_number": 9
    }
   ],
   "metadata": {}
  }
 ]
}