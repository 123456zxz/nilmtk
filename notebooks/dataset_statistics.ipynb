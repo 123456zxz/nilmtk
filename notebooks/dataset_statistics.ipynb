{
 "metadata": {
  "name": "",
  "signature": "sha256:c4e62426fd8ff9bcda2b3278872a5739d0b667b457e5e2987cf2ff8a4621f3f3"
 },
 "nbformat": 3,
 "nbformat_minor": 0,
 "worksheets": [
  {
   "cells": [
    {
     "cell_type": "code",
     "collapsed": false,
     "input": [
      "from nilmtk import DataSet, TimeFrame\n",
      "import pandas as pd"
     ],
     "language": "python",
     "metadata": {},
     "outputs": [
      {
       "output_type": "stream",
       "stream": "stderr",
       "text": [
        "/usr/lib/python2.7/pkgutil.py:186: ImportWarning: Not importing directory '/usr/local/lib/python2.7/dist-packages/mpl_toolkits': missing __init__.py\n",
        "  file, filename, etc = imp.find_module(subname, path)\n"
       ]
      }
     ],
     "prompt_number": 1
    },
    {
     "cell_type": "code",
     "collapsed": false,
     "input": [
      "dataset = DataSet('/data/mine/vadeec/merged/ukdale.h5')\n",
      "dataset.set_window(\"2014-01-01\", \"2014-01-02\")\n",
      "\n",
      "for building in dataset.buildings.values():\n",
      "    try:\n",
      "        building.elec.use_alternative_mains()\n",
      "    except RuntimeError:\n",
      "        pass\n",
      "    else:\n",
      "        print(\"using alternative mains for\", building)\n",
      "        \n",
      "elec = dataset.buildings[1].elec"
     ],
     "language": "python",
     "metadata": {},
     "outputs": [],
     "prompt_number": 2
    },
    {
     "cell_type": "code",
     "collapsed": false,
     "input": [
      "dataset.describe()"
     ],
     "language": "python",
     "metadata": {},
     "outputs": [
      {
       "output_type": "stream",
       "stream": "stderr",
       "text": [
        "/home/jack/workspace/python/nilmtk/nilmtk/elecmeter.py:104: UserWarning: There is no meter upstream of this meter 'ElecMeterID(instance=1, building=1, dataset='UK-DALE')' because it is a site meter.\n",
        "  .format(self.identifier))\n",
        "/home/jack/workspace/python/nilmtk/nilmtk/elecmeter.py:104: UserWarning: There is no meter upstream of this meter 'ElecMeterID(instance=1, building=2, dataset='UK-DALE')' because it is a site meter.\n",
        "  .format(self.identifier))\n"
       ]
      },
      {
       "output_type": "stream",
       "stream": "stderr",
       "text": [
        "/home/jack/workspace/python/nilmtk/nilmtk/elecmeter.py:104: UserWarning: There is no meter upstream of this meter 'ElecMeterID(instance=1, building=3, dataset='UK-DALE')' because it is a site meter.\n",
        "  .format(self.identifier))\n",
        "/home/jack/workspace/python/nilmtk/nilmtk/elecmeter.py:104: UserWarning: There is no meter upstream of this meter 'ElecMeterID(instance=1, building=4, dataset='UK-DALE')' because it is a site meter.\n",
        "  .format(self.identifier))\n"
       ]
      },
      {
       "output_type": "stream",
       "stream": "stderr",
       "text": [
        "/home/jack/workspace/python/nilmtk/nilmtk/elecmeter.py:104: UserWarning: There is no meter upstream of this meter 'ElecMeterID(instance=1, building=5, dataset='UK-DALE')' because it is a site meter.\n",
        "  .format(self.identifier))\n"
       ]
      },
      {
       "html": [
        "<div style=\"max-height:1000px;max-width:1500px;overflow:auto;\">\n",
        "<table border=\"1\" class=\"dataframe\">\n",
        "  <thead>\n",
        "    <tr style=\"text-align: right;\">\n",
        "      <th></th>\n",
        "      <th>1</th>\n",
        "      <th>2</th>\n",
        "      <th>3</th>\n",
        "      <th>4</th>\n",
        "      <th>5</th>\n",
        "    </tr>\n",
        "  </thead>\n",
        "  <tbody>\n",
        "    <tr>\n",
        "      <th>instance</th>\n",
        "      <td>                                                 1</td>\n",
        "      <td>    2</td>\n",
        "      <td>    3</td>\n",
        "      <td>    4</td>\n",
        "      <td>             5</td>\n",
        "    </tr>\n",
        "    <tr>\n",
        "      <th>building_type</th>\n",
        "      <td>                                    end of terrace</td>\n",
        "      <td> None</td>\n",
        "      <td> None</td>\n",
        "      <td> None</td>\n",
        "      <td>          flat</td>\n",
        "    </tr>\n",
        "    <tr>\n",
        "      <th>construction_year</th>\n",
        "      <td>                                              1905</td>\n",
        "      <td> None</td>\n",
        "      <td> None</td>\n",
        "      <td> None</td>\n",
        "      <td>          2009</td>\n",
        "    </tr>\n",
        "    <tr>\n",
        "      <th>energy_improvements</th>\n",
        "      <td> [solar thermal, loft insulation, solid wall in...</td>\n",
        "      <td> None</td>\n",
        "      <td> None</td>\n",
        "      <td> None</td>\n",
        "      <td>          None</td>\n",
        "    </tr>\n",
        "    <tr>\n",
        "      <th>heating</th>\n",
        "      <td>                                       natural gas</td>\n",
        "      <td> None</td>\n",
        "      <td> None</td>\n",
        "      <td> None</td>\n",
        "      <td> [natural gas]</td>\n",
        "    </tr>\n",
        "    <tr>\n",
        "      <th>ownership</th>\n",
        "      <td>                                            bought</td>\n",
        "      <td> None</td>\n",
        "      <td> None</td>\n",
        "      <td> None</td>\n",
        "      <td>        bought</td>\n",
        "    </tr>\n",
        "    <tr>\n",
        "      <th>n_occupants</th>\n",
        "      <td>                                                 4</td>\n",
        "      <td> None</td>\n",
        "      <td> None</td>\n",
        "      <td> None</td>\n",
        "      <td>             2</td>\n",
        "    </tr>\n",
        "    <tr>\n",
        "      <th>description_of_occupants</th>\n",
        "      <td> 2 adults and 1 dog started living in the house...</td>\n",
        "      <td> None</td>\n",
        "      <td> None</td>\n",
        "      <td> None</td>\n",
        "      <td>      2 adults</td>\n",
        "    </tr>\n",
        "    <tr>\n",
        "      <th>total_n_meters</th>\n",
        "      <td>                                                54</td>\n",
        "      <td>   20</td>\n",
        "      <td>    5</td>\n",
        "      <td>    6</td>\n",
        "      <td>            26</td>\n",
        "    </tr>\n",
        "    <tr>\n",
        "      <th>total_n_site_meters</th>\n",
        "      <td>                                                 2</td>\n",
        "      <td>    2</td>\n",
        "      <td>    1</td>\n",
        "      <td>    1</td>\n",
        "      <td>             2</td>\n",
        "    </tr>\n",
        "    <tr>\n",
        "      <th>correlation_of_sum_of_submeters_with_mains</th>\n",
        "      <td>                                         0.8368465</td>\n",
        "      <td>  NaN</td>\n",
        "      <td>  NaN</td>\n",
        "      <td>  NaN</td>\n",
        "      <td>           NaN</td>\n",
        "    </tr>\n",
        "  </tbody>\n",
        "</table>\n",
        "</div>"
       ],
       "metadata": {},
       "output_type": "pyout",
       "prompt_number": 3,
       "text": [
        "                                                                                            1  \\\n",
        "instance                                                                                    1   \n",
        "building_type                                                                  end of terrace   \n",
        "construction_year                                                                        1905   \n",
        "energy_improvements                         [solar thermal, loft insulation, solid wall in...   \n",
        "heating                                                                           natural gas   \n",
        "ownership                                                                              bought   \n",
        "n_occupants                                                                                 4   \n",
        "description_of_occupants                    2 adults and 1 dog started living in the house...   \n",
        "total_n_meters                                                                             54   \n",
        "total_n_site_meters                                                                         2   \n",
        "correlation_of_sum_of_submeters_with_mains                                          0.8368465   \n",
        "\n",
        "                                               2     3     4              5  \n",
        "instance                                       2     3     4              5  \n",
        "building_type                               None  None  None           flat  \n",
        "construction_year                           None  None  None           2009  \n",
        "energy_improvements                         None  None  None           None  \n",
        "heating                                     None  None  None  [natural gas]  \n",
        "ownership                                   None  None  None         bought  \n",
        "n_occupants                                 None  None  None              2  \n",
        "description_of_occupants                    None  None  None       2 adults  \n",
        "total_n_meters                                20     5     6             26  \n",
        "total_n_site_meters                            2     1     1              2  \n",
        "correlation_of_sum_of_submeters_with_mains   NaN   NaN   NaN            NaN  "
       ]
      }
     ],
     "prompt_number": 3
    }
   ],
   "metadata": {}
  }
 ]
}