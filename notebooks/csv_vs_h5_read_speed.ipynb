{
 "metadata": {
  "name": ""
 },
 "nbformat": 3,
 "nbformat_minor": 0,
 "worksheets": [
  {
   "cells": [
    {
     "cell_type": "markdown",
     "metadata": {},
     "source": [
      "In this notebook, we compare the time taken to read data from a CSV and HDFS file using Pandas "
     ]
    },
    {
     "cell_type": "code",
     "collapsed": false,
     "input": [
      "import pandas as pd \n",
      "import numpy as np\n",
      "import matplotlib.pyplot as plt\n",
      "from pandas import HDFStore\n"
     ],
     "language": "python",
     "metadata": {},
     "outputs": [],
     "prompt_number": 1
    },
    {
     "cell_type": "markdown",
     "metadata": {},
     "source": [
      "Create a random DataFrame"
     ]
    },
    {
     "cell_type": "code",
     "collapsed": false,
     "input": [
      "df=pd.DataFrame(randn(10000,10))"
     ],
     "language": "python",
     "metadata": {},
     "outputs": [],
     "prompt_number": 2
    },
    {
     "cell_type": "code",
     "collapsed": false,
     "input": [
      "df"
     ],
     "language": "python",
     "metadata": {},
     "outputs": [
      {
       "html": [
        "<pre>\n",
        "&lt;class 'pandas.core.frame.DataFrame'&gt;\n",
        "Int64Index: 10000 entries, 0 to 9999\n",
        "Data columns (total 10 columns):\n",
        "0    10000  non-null values\n",
        "1    10000  non-null values\n",
        "2    10000  non-null values\n",
        "3    10000  non-null values\n",
        "4    10000  non-null values\n",
        "5    10000  non-null values\n",
        "6    10000  non-null values\n",
        "7    10000  non-null values\n",
        "8    10000  non-null values\n",
        "9    10000  non-null values\n",
        "dtypes: float64(10)\n",
        "</pre>"
       ],
       "metadata": {},
       "output_type": "pyout",
       "prompt_number": 3,
       "text": [
        "<class 'pandas.core.frame.DataFrame'>\n",
        "Int64Index: 10000 entries, 0 to 9999\n",
        "Data columns (total 10 columns):\n",
        "0    10000  non-null values\n",
        "1    10000  non-null values\n",
        "2    10000  non-null values\n",
        "3    10000  non-null values\n",
        "4    10000  non-null values\n",
        "5    10000  non-null values\n",
        "6    10000  non-null values\n",
        "7    10000  non-null values\n",
        "8    10000  non-null values\n",
        "9    10000  non-null values\n",
        "dtypes: float64(10)"
       ]
      }
     ],
     "prompt_number": 3
    },
    {
     "cell_type": "code",
     "collapsed": false,
     "input": [
      "df.describe()"
     ],
     "language": "python",
     "metadata": {},
     "outputs": [
      {
       "html": [
        "<div style=\"max-height:1000px;max-width:1500px;overflow:auto;\">\n",
        "<table border=\"1\" class=\"dataframe\">\n",
        "  <thead>\n",
        "    <tr style=\"text-align: right;\">\n",
        "      <th></th>\n",
        "      <th>0</th>\n",
        "      <th>1</th>\n",
        "      <th>2</th>\n",
        "      <th>3</th>\n",
        "      <th>4</th>\n",
        "      <th>5</th>\n",
        "      <th>6</th>\n",
        "      <th>7</th>\n",
        "      <th>8</th>\n",
        "      <th>9</th>\n",
        "    </tr>\n",
        "  </thead>\n",
        "  <tbody>\n",
        "    <tr>\n",
        "      <th>count</th>\n",
        "      <td> 10000.000000</td>\n",
        "      <td> 10000.000000</td>\n",
        "      <td> 10000.000000</td>\n",
        "      <td> 10000.000000</td>\n",
        "      <td> 10000.000000</td>\n",
        "      <td> 10000.000000</td>\n",
        "      <td> 10000.000000</td>\n",
        "      <td> 10000.000000</td>\n",
        "      <td> 10000.000000</td>\n",
        "      <td> 10000.000000</td>\n",
        "    </tr>\n",
        "    <tr>\n",
        "      <th>mean</th>\n",
        "      <td>    -0.001027</td>\n",
        "      <td>     0.004481</td>\n",
        "      <td>     0.005139</td>\n",
        "      <td>    -0.022045</td>\n",
        "      <td>    -0.002206</td>\n",
        "      <td>    -0.001702</td>\n",
        "      <td>    -0.006359</td>\n",
        "      <td>    -0.002323</td>\n",
        "      <td>    -0.001940</td>\n",
        "      <td>     0.011248</td>\n",
        "    </tr>\n",
        "    <tr>\n",
        "      <th>std</th>\n",
        "      <td>     1.002176</td>\n",
        "      <td>     0.997831</td>\n",
        "      <td>     1.000383</td>\n",
        "      <td>     0.995403</td>\n",
        "      <td>     1.008961</td>\n",
        "      <td>     0.996772</td>\n",
        "      <td>     0.989459</td>\n",
        "      <td>     1.002186</td>\n",
        "      <td>     0.991834</td>\n",
        "      <td>     0.994783</td>\n",
        "    </tr>\n",
        "    <tr>\n",
        "      <th>min</th>\n",
        "      <td>    -4.109657</td>\n",
        "      <td>    -3.529740</td>\n",
        "      <td>    -3.365888</td>\n",
        "      <td>    -3.594992</td>\n",
        "      <td>    -3.472790</td>\n",
        "      <td>    -3.795246</td>\n",
        "      <td>    -4.309090</td>\n",
        "      <td>    -3.623617</td>\n",
        "      <td>    -3.689339</td>\n",
        "      <td>    -3.689890</td>\n",
        "    </tr>\n",
        "    <tr>\n",
        "      <th>25%</th>\n",
        "      <td>    -0.680203</td>\n",
        "      <td>    -0.687022</td>\n",
        "      <td>    -0.677440</td>\n",
        "      <td>    -0.697688</td>\n",
        "      <td>    -0.683102</td>\n",
        "      <td>    -0.658566</td>\n",
        "      <td>    -0.664864</td>\n",
        "      <td>    -0.688303</td>\n",
        "      <td>    -0.673655</td>\n",
        "      <td>    -0.675776</td>\n",
        "    </tr>\n",
        "    <tr>\n",
        "      <th>50%</th>\n",
        "      <td>     0.009464</td>\n",
        "      <td>     0.002772</td>\n",
        "      <td>     0.007166</td>\n",
        "      <td>    -0.021836</td>\n",
        "      <td>     0.003451</td>\n",
        "      <td>    -0.001697</td>\n",
        "      <td>     0.007563</td>\n",
        "      <td>    -0.005589</td>\n",
        "      <td>    -0.004808</td>\n",
        "      <td>     0.022488</td>\n",
        "    </tr>\n",
        "    <tr>\n",
        "      <th>75%</th>\n",
        "      <td>     0.664493</td>\n",
        "      <td>     0.682492</td>\n",
        "      <td>     0.674197</td>\n",
        "      <td>     0.657691</td>\n",
        "      <td>     0.678644</td>\n",
        "      <td>     0.673353</td>\n",
        "      <td>     0.654883</td>\n",
        "      <td>     0.664327</td>\n",
        "      <td>     0.665985</td>\n",
        "      <td>     0.689468</td>\n",
        "    </tr>\n",
        "    <tr>\n",
        "      <th>max</th>\n",
        "      <td>     3.677498</td>\n",
        "      <td>     3.525916</td>\n",
        "      <td>     3.566360</td>\n",
        "      <td>     3.751747</td>\n",
        "      <td>     3.850084</td>\n",
        "      <td>     3.867734</td>\n",
        "      <td>     4.312107</td>\n",
        "      <td>     4.405261</td>\n",
        "      <td>     4.160715</td>\n",
        "      <td>     3.459325</td>\n",
        "    </tr>\n",
        "  </tbody>\n",
        "</table>\n",
        "</div>"
       ],
       "metadata": {},
       "output_type": "pyout",
       "prompt_number": 4,
       "text": [
        "                  0             1             2             3             4             5             6             7             8             9\n",
        "count  10000.000000  10000.000000  10000.000000  10000.000000  10000.000000  10000.000000  10000.000000  10000.000000  10000.000000  10000.000000\n",
        "mean      -0.001027      0.004481      0.005139     -0.022045     -0.002206     -0.001702     -0.006359     -0.002323     -0.001940      0.011248\n",
        "std        1.002176      0.997831      1.000383      0.995403      1.008961      0.996772      0.989459      1.002186      0.991834      0.994783\n",
        "min       -4.109657     -3.529740     -3.365888     -3.594992     -3.472790     -3.795246     -4.309090     -3.623617     -3.689339     -3.689890\n",
        "25%       -0.680203     -0.687022     -0.677440     -0.697688     -0.683102     -0.658566     -0.664864     -0.688303     -0.673655     -0.675776\n",
        "50%        0.009464      0.002772      0.007166     -0.021836      0.003451     -0.001697      0.007563     -0.005589     -0.004808      0.022488\n",
        "75%        0.664493      0.682492      0.674197      0.657691      0.678644      0.673353      0.654883      0.664327      0.665985      0.689468\n",
        "max        3.677498      3.525916      3.566360      3.751747      3.850084      3.867734      4.312107      4.405261      4.160715      3.459325"
       ]
      }
     ],
     "prompt_number": 4
    },
    {
     "cell_type": "markdown",
     "metadata": {},
     "source": [
      "Exporting the Data Frame to CSV"
     ]
    },
    {
     "cell_type": "code",
     "collapsed": false,
     "input": [
      "df.to_csv('dummy.csv')"
     ],
     "language": "python",
     "metadata": {},
     "outputs": [],
     "prompt_number": 5
    },
    {
     "cell_type": "markdown",
     "metadata": {},
     "source": [
      "Exporting to h5"
     ]
    },
    {
     "cell_type": "code",
     "collapsed": false,
     "input": [
      "store = HDFStore('store.h5')"
     ],
     "language": "python",
     "metadata": {},
     "outputs": [],
     "prompt_number": 6
    },
    {
     "cell_type": "code",
     "collapsed": false,
     "input": [
      "store"
     ],
     "language": "python",
     "metadata": {},
     "outputs": [
      {
       "metadata": {},
       "output_type": "pyout",
       "prompt_number": 7,
       "text": [
        "<class 'pandas.io.pytables.HDFStore'>\n",
        "File path: store.h5\n",
        "Empty"
       ]
      }
     ],
     "prompt_number": 7
    },
    {
     "cell_type": "code",
     "collapsed": false,
     "input": [
      "ls -la"
     ],
     "language": "python",
     "metadata": {},
     "outputs": [
      {
       "output_type": "stream",
       "stream": "stdout",
       "text": [
        "total 2136\r\n",
        "drwxrwxr-x 3 nipun nipun    4096 Dec  6 12:23 \u001b[0m\u001b[01;34m.\u001b[0m/\r\n",
        "drwxrwxr-x 7 nipun nipun    4096 Dec  6 09:24 \u001b[01;34m..\u001b[0m/\r\n",
        "-rw-rw-r-- 1 nipun nipun   11605 Dec  6 12:23 csv_vs_h5_read_speed.ipynb\r\n",
        "-rw-rw-r-- 1 nipun nipun 2011849 Dec  6 12:23 dummy.csv\r\n",
        "drwxrwxr-x 2 nipun nipun    4096 Dec  6 10:08 \u001b[01;34m.ipynb_checkpoints\u001b[0m/\r\n",
        "-rw-rw-r-- 1 nipun nipun   63291 Dec  6 10:21 read_AMPds.ipynb\r\n",
        "-rw-rw-r-- 1 nipun nipun     404 Dec  6 12:22 read_iawe.ipynb\r\n",
        "-rw-rw-r-- 1 nipun nipun     198 Dec  6 11:04 README.md\r\n",
        "-rw-rw-r-- 1 nipun nipun   73568 Dec  6 09:53 read_PECAN.ipynb\r\n",
        "-rw-rw-r-- 1 nipun nipun       0 Dec  6 12:23 store.h5\r\n"
       ]
      }
     ],
     "prompt_number": 10
    },
    {
     "cell_type": "code",
     "collapsed": false,
     "input": [
      "store['df_1']=df"
     ],
     "language": "python",
     "metadata": {},
     "outputs": [],
     "prompt_number": 11
    },
    {
     "cell_type": "code",
     "collapsed": false,
     "input": [
      "store"
     ],
     "language": "python",
     "metadata": {},
     "outputs": [
      {
       "metadata": {},
       "output_type": "pyout",
       "prompt_number": 12,
       "text": [
        "<class 'pandas.io.pytables.HDFStore'>\n",
        "File path: store.h5\n",
        "/df_1            frame        (shape->[10000,10])"
       ]
      }
     ],
     "prompt_number": 12
    },
    {
     "cell_type": "markdown",
     "metadata": {},
     "source": [
      "Now, let us attempt to read the CSV into DF"
     ]
    },
    {
     "cell_type": "code",
     "collapsed": false,
     "input": [
      "%%timeit\n",
      "df_csv_read=pd.read_csv(\"dummy.csv\")\n"
     ],
     "language": "python",
     "metadata": {},
     "outputs": [
      {
       "output_type": "stream",
       "stream": "stdout",
       "text": [
        "10 loops, best of 3: 22.1 ms per loop\n"
       ]
      }
     ],
     "prompt_number": 14
    },
    {
     "cell_type": "code",
     "collapsed": false,
     "input": [
      "%%timeit\n",
      "df_store_read=store['df_1']"
     ],
     "language": "python",
     "metadata": {},
     "outputs": [
      {
       "output_type": "stream",
       "stream": "stdout",
       "text": [
        "1000 loops, best of 3: 507 \u00b5s per loop\n"
       ]
      }
     ],
     "prompt_number": 15
    },
    {
     "cell_type": "code",
     "collapsed": false,
     "input": [
      "pd.read_csv(\"dummy.csv\")"
     ],
     "language": "python",
     "metadata": {},
     "outputs": [
      {
       "html": [
        "<pre>\n",
        "&lt;class 'pandas.core.frame.DataFrame'&gt;\n",
        "Int64Index: 10000 entries, 0 to 9999\n",
        "Data columns (total 11 columns):\n",
        "Unnamed: 0    10000  non-null values\n",
        "0             10000  non-null values\n",
        "1             10000  non-null values\n",
        "2             10000  non-null values\n",
        "3             10000  non-null values\n",
        "4             10000  non-null values\n",
        "5             10000  non-null values\n",
        "6             10000  non-null values\n",
        "7             10000  non-null values\n",
        "8             10000  non-null values\n",
        "9             10000  non-null values\n",
        "dtypes: float64(10), int64(1)\n",
        "</pre>"
       ],
       "metadata": {},
       "output_type": "pyout",
       "prompt_number": 17,
       "text": [
        "<class 'pandas.core.frame.DataFrame'>\n",
        "Int64Index: 10000 entries, 0 to 9999\n",
        "Data columns (total 11 columns):\n",
        "Unnamed: 0    10000  non-null values\n",
        "0             10000  non-null values\n",
        "1             10000  non-null values\n",
        "2             10000  non-null values\n",
        "3             10000  non-null values\n",
        "4             10000  non-null values\n",
        "5             10000  non-null values\n",
        "6             10000  non-null values\n",
        "7             10000  non-null values\n",
        "8             10000  non-null values\n",
        "9             10000  non-null values\n",
        "dtypes: float64(10), int64(1)"
       ]
      }
     ],
     "prompt_number": 17
    },
    {
     "cell_type": "code",
     "collapsed": false,
     "input": [
      "store['df_1']"
     ],
     "language": "python",
     "metadata": {},
     "outputs": [
      {
       "html": [
        "<pre>\n",
        "&lt;class 'pandas.core.frame.DataFrame'&gt;\n",
        "Int64Index: 10000 entries, 0 to 9999\n",
        "Data columns (total 10 columns):\n",
        "0    10000  non-null values\n",
        "1    10000  non-null values\n",
        "2    10000  non-null values\n",
        "3    10000  non-null values\n",
        "4    10000  non-null values\n",
        "5    10000  non-null values\n",
        "6    10000  non-null values\n",
        "7    10000  non-null values\n",
        "8    10000  non-null values\n",
        "9    10000  non-null values\n",
        "dtypes: float64(10)\n",
        "</pre>"
       ],
       "metadata": {},
       "output_type": "pyout",
       "prompt_number": 18,
       "text": [
        "<class 'pandas.core.frame.DataFrame'>\n",
        "Int64Index: 10000 entries, 0 to 9999\n",
        "Data columns (total 10 columns):\n",
        "0    10000  non-null values\n",
        "1    10000  non-null values\n",
        "2    10000  non-null values\n",
        "3    10000  non-null values\n",
        "4    10000  non-null values\n",
        "5    10000  non-null values\n",
        "6    10000  non-null values\n",
        "7    10000  non-null values\n",
        "8    10000  non-null values\n",
        "9    10000  non-null values\n",
        "dtypes: float64(10)"
       ]
      }
     ],
     "prompt_number": 18
    },
    {
     "cell_type": "code",
     "collapsed": false,
     "input": [],
     "language": "python",
     "metadata": {},
     "outputs": []
    }
   ],
   "metadata": {}
  }
 ]
}