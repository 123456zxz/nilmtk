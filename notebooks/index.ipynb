{
 "metadata": {
  "name": "",
  "signature": "sha256:9c5ac7f0f34a44df387a6d5e212b20860c1cf2ce6fa3146649de4969d978597e"
 },
 "nbformat": 3,
 "nbformat_minor": 0,
 "worksheets": [
  {
   "cells": [
    {
     "cell_type": "heading",
     "level": 1,
     "metadata": {},
     "source": [
      "NILMTK notebooks"
     ]
    },
    {
     "cell_type": "heading",
     "level": 4,
     "metadata": {},
     "source": [
      "The following is a brief summary of the content of the different IPython notebooks:"
     ]
    },
    {
     "cell_type": "heading",
     "level": 3,
     "metadata": {},
     "source": [
      "[Buildsys 2014]()"
     ]
    },
    {
     "cell_type": "markdown",
     "metadata": {},
     "source": [
      "This notebook was presented at Buildsys 2014 where we won the best demonstration award. This notebook was initially created according to nilmtk v0.2 and has been updated since. "
     ]
    },
    {
     "cell_type": "heading",
     "level": 3,
     "metadata": {},
     "source": [
      "[RCUK UK 2014]()"
     ]
    },
    {
     "cell_type": "code",
     "collapsed": false,
     "input": [
      "Some description.."
     ],
     "language": "python",
     "metadata": {},
     "outputs": []
    },
    {
     "cell_type": "heading",
     "level": 3,
     "metadata": {},
     "source": [
      "[NILM 2014 London]()"
     ]
    },
    {
     "cell_type": "heading",
     "level": 3,
     "metadata": {},
     "source": [
      "[NILM Workshop 2014 Austin]()"
     ]
    },
    {
     "cell_type": "code",
     "collapsed": false,
     "input": [
      "# CSS styling\n",
      "from IPython.core.display import display, HTML\n",
      "display(HTML(open('static/styles.css', 'r').read()));"
     ],
     "language": "python",
     "metadata": {},
     "outputs": [
      {
       "html": [
        "<style>\n",
        "\n",
        "@font-face{\n",
        "    font-family:\"AvenirNext-UltraLight\";\n",
        "    src:url(\"styles/fonts/17c55b27-e9ab-43cd-b948-d49f97480d68.eot?#iefix\");\n",
        "    src:url(\"styles/fonts/17c55b27-e9ab-43cd-b948-d49f97480d68.eot?#iefix\") format(\"eot\"),url(\"styles/fonts/fa19948e-5e38-4909-b31e-41acd170d6f2.woff\") format(\"woff\"),url(\"styles/fonts/6de0ce4d-9278-467b-b96f-c1f5f0a4c375.ttf\") format(\"truetype\"),url(\"styles/fonts/9fd4ea0c-b19a-4b21-9fdf-37045707dd78.svg#9fd4ea0c-b19a-4b21-9fdf-37045707dd78\") format(\"svg\");\n",
        "}\n",
        "\n",
        "@font-face{\n",
        "    font-family:\"AvenirNext\";\n",
        "    src:url(\"styles/fonts/e9167238-3b3f-4813-a04a-a384394eed42.eot?#iefix\");\n",
        "    src:url(\"styles/fonts/e9167238-3b3f-4813-a04a-a384394eed42.eot?#iefix\") format(\"eot\"),url(\"styles/fonts/1e9892c0-6927-4412-9874-1b82801ba47a.woff\") format(\"woff\"),url(\"styles/fonts/46cf1067-688d-4aab-b0f7-bd942af6efd8.ttf\") format(\"truetype\"),url(\"styles/fonts/52a192b1-bea5-4b48-879f-107f009b666f.svg#52a192b1-bea5-4b48-879f-107f009b666f\") format(\"svg\");\n",
        "}\n",
        "\n",
        "body, p {\n",
        "  color: #2d3c48;\n",
        "  font-family: 'AvenirNext', sans-serif;\n",
        "  font-weight: normal;\n",
        "  -webkit-font-smoothing: antialiased;\n",
        "}\n",
        "\n",
        ".thumbnail {\n",
        "\tfloat: left;\n",
        "\twidth: 100%;\n",
        "\theight: 100%;\n",
        "\tmargin-right: 10px;\n",
        "\tmargin-bottom: 10px;\n",
        "\t-web-kit-shadow: None !important;\n",
        "\tbox-shadow: None !important;\n",
        "}\n",
        "\n",
        ".test {\n",
        "    float: left;\n",
        "    position: relative;\n",
        "    width:28%;\n",
        "    height:100%;\n",
        "    margin-right: 20px;\n",
        "}\n",
        ".test img {\n",
        "    float: left;\n",
        "    width:100%;\n",
        "    height:100%;\n",
        "}\n",
        ".test:after {\n",
        "    font-size: 40px;\n",
        "    text-align: center;\n",
        "    content: attr(data-content);\n",
        "    color:#fff;\n",
        "    position: absolute;\n",
        "    width:100%; height:66%;\n",
        "    top:0px; left:0px;\n",
        "    background:rgba(0,0,0,0.6);\n",
        "    opacity:0;\n",
        "    transition: all 0.5s;\n",
        "    -webkit-transition: all 0.5s;\n",
        "    padding-left: 5px;\n",
        "    padding-right: 5px;\n",
        "    padding-top: 20%;\n",
        "    border-radius: 4px;\n",
        "    margin-right: 10px;\n",
        "}\n",
        ".test:hover:after {\n",
        "    opacity:0.8;\n",
        "}\n",
        "\n",
        "h1,\n",
        "h2,\n",
        "h3,\n",
        "h4,\n",
        "h5,\n",
        "h6 {\n",
        "    font-family: 'AvenirNext-UltraLight', sans-serif;\n",
        "    font-weight: bold;\n",
        "    color: #545E6B;\n",
        "}\n",
        "\n",
        "p {\n",
        "    color: #222;\n",
        "}\n",
        "\n",
        "a {\n",
        "    text-decoration: none !important;\n",
        "    color: #8F7BD9;\n",
        "    line-height: 19px;\n",
        "    transition: all .25s; \n",
        "    -moz-transition: all .25s; \n",
        "    -webkit-transition: all .25s;\n",
        "}\n",
        "\n",
        "a:hover {\n",
        "\tcolor: #A997EB;\n",
        "\ttext-decoration: none !important;\n",
        "}\n",
        "\n",
        "a:active {\n",
        "\tcolor: #59A2E6;\n",
        "\ttext-decoration: none !important;\n",
        "}\n",
        "\n",
        ".button {\n",
        "  padding-left: 40px;\n",
        "  padding-right: 40px;\n",
        "  padding-top: 10px;\n",
        "  padding-bottom: 10px;\n",
        "  margin-right: 20px;\n",
        "  border: 1px solid #9175f0;\n",
        "  box-shadow: inset 0px 1px 0px 0px rgba(255,255,255,0.30);\n",
        "  border-radius: 3px;\n",
        "  font-size: 24px;\n",
        "  color: #9175f0;\n",
        "  line-height: 26px;\n",
        "}\n",
        "\n",
        ".button:hover {\n",
        "  color: #A997EB;\n",
        "  background-color: rgb(240,240,240);\n",
        "\n",
        "}\n"
       ],
       "metadata": {},
       "output_type": "display_data",
       "text": [
        "<IPython.core.display.HTML at 0x104954f90>"
       ]
      }
     ],
     "prompt_number": 3
    }
   ],
   "metadata": {}
  }
 ]
}