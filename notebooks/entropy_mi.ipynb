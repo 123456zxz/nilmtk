{
 "metadata": {
  "name": "",
  "signature": "sha256:7bad2caa87ea66e2260a2defa1111f16c7dc9fb239a8326839ef97d238d614ba"
 },
 "nbformat": 3,
 "nbformat_minor": 0,
 "worksheets": [
  {
   "cells": [
    {
     "cell_type": "code",
     "collapsed": false,
     "input": [
      "import numpy as np\n",
      "import pandas as pd\n",
      "from os.path import join\n",
      "\n",
      "from pylab import rcParams\n",
      "import matplotlib.pyplot as plt\n",
      "%matplotlib inline\n",
      "rcParams['figure.figsize'] = (16, 8)\n",
      "\n",
      "import nilmtk\n",
      "from nilmtk import DataSet, TimeFrame, MeterGroup, HDFDataStore\n",
      "from nilmtk.disaggregate import CombinatorialOptimisation\n",
      "from nilmtk.utils import print_dict\n",
      "from nilmtk.metrics import f1_score\n",
      "\n",
      "import seaborn as sns\n",
      "\n",
      "import warnings\n",
      "from nilmtk.plots import plot_correlation_heatmap\n",
      "warnings.filterwarnings(\"ignore\")"
     ],
     "language": "python",
     "metadata": {},
     "outputs": [],
     "prompt_number": 1
    },
    {
     "cell_type": "code",
     "collapsed": false,
     "input": [
      "data_dir = '/home/nipun/Downloads/'\n",
      "we = DataSet(join(data_dir, 'wikienergy.h5'))\n",
      "print('loaded ' + str(len(we.buildings)) + ' buildings')"
     ],
     "language": "python",
     "metadata": {},
     "outputs": [
      {
       "output_type": "stream",
       "stream": "stdout",
       "text": [
        "loaded 239 buildings\n"
       ]
      }
     ],
     "prompt_number": 2
    },
    {
     "cell_type": "code",
     "collapsed": false,
     "input": [
      "building_number = 11\n",
      "print_dict(we.buildings[building_number].metadata)"
     ],
     "language": "python",
     "metadata": {},
     "outputs": [
      {
       "html": [
        "<ul><li><strong>instance</strong>: 11</li><li><strong>dataset</strong>: WikiEnergy</li><li><strong>original_name</strong>: 434</li></ul>"
       ],
       "metadata": {},
       "output_type": "display_data",
       "text": [
        "<IPython.core.display.HTML at 0x7f8b781b2950>"
       ]
      }
     ],
     "prompt_number": 3
    },
    {
     "cell_type": "code",
     "collapsed": false,
     "input": [
      "elec = we.buildings[building_number].elec\n",
      "elec.appliances"
     ],
     "language": "python",
     "metadata": {},
     "outputs": [
      {
       "metadata": {},
       "output_type": "pyout",
       "prompt_number": 4,
       "text": [
        "[Appliance(type='fridge', instance=1),\n",
        " Appliance(type='dish washer', instance=1),\n",
        " Appliance(type='electric water heating appliance', instance=1),\n",
        " Appliance(type='spin dryer', instance=1),\n",
        " Appliance(type='electric furnace', instance=1),\n",
        " Appliance(type='sockets', instance=1),\n",
        " Appliance(type='sockets', instance=2),\n",
        " Appliance(type='air conditioner', instance=1),\n",
        " Appliance(type='sockets', instance=3),\n",
        " Appliance(type='sockets', instance=4)]"
       ]
      }
     ],
     "prompt_number": 4
    },
    {
     "cell_type": "code",
     "collapsed": false,
     "input": [
      "submeters = elec.submeters().meters\n",
      "submeters"
     ],
     "language": "python",
     "metadata": {},
     "outputs": [
      {
       "metadata": {},
       "output_type": "pyout",
       "prompt_number": 5,
       "text": [
        "[ElecMeter(instance=2, building=11, dataset='WikiEnergy', appliances=[Appliance(type='air conditioner', instance=1)]),\n",
        " ElecMeter(instance=3, building=11, dataset='WikiEnergy', appliances=[Appliance(type='sockets', instance=1)]),\n",
        " ElecMeter(instance=4, building=11, dataset='WikiEnergy', appliances=[Appliance(type='sockets', instance=2)]),\n",
        " ElecMeter(instance=5, building=11, dataset='WikiEnergy', appliances=[Appliance(type='dish washer', instance=1)]),\n",
        " ElecMeter(instance=6, building=11, dataset='WikiEnergy', appliances=[Appliance(type='spin dryer', instance=1)]),\n",
        " ElecMeter(instance=7, building=11, dataset='WikiEnergy', appliances=[Appliance(type='electric furnace', instance=1)]),\n",
        " ElecMeter(instance=8, building=11, dataset='WikiEnergy', appliances=[Appliance(type='sockets', instance=3)]),\n",
        " ElecMeter(instance=9, building=11, dataset='WikiEnergy', appliances=[Appliance(type='sockets', instance=4)]),\n",
        " ElecMeter(instance=10, building=11, dataset='WikiEnergy', appliances=[Appliance(type='fridge', instance=1)]),\n",
        " ElecMeter(instance=11, building=11, dataset='WikiEnergy', appliances=[Appliance(type='electric water heating appliance', instance=1)])]"
       ]
      }
     ],
     "prompt_number": 5
    },
    {
     "cell_type": "code",
     "collapsed": false,
     "input": [
      "we.store.window = TimeFrame(start='2014-04-01 00:00:00-05:00', end='2014-04-05 00:00:00-05:00')\n"
     ],
     "language": "python",
     "metadata": {},
     "outputs": [],
     "prompt_number": 6
    },
    {
     "cell_type": "code",
     "collapsed": false,
     "input": [
      "first =submeters[0]"
     ],
     "language": "python",
     "metadata": {},
     "outputs": [],
     "prompt_number": 7
    },
    {
     "cell_type": "code",
     "collapsed": false,
     "input": [
      "first.entropy()"
     ],
     "language": "python",
     "metadata": {},
     "outputs": [
      {
       "metadata": {},
       "output_type": "pyout",
       "prompt_number": 8,
       "text": [
        "-27.619258372655047"
       ]
      }
     ],
     "prompt_number": 8
    },
    {
     "cell_type": "code",
     "collapsed": false,
     "input": [
      "elec.entropy()"
     ],
     "language": "python",
     "metadata": {},
     "outputs": [
      {
       "metadata": {},
       "output_type": "pyout",
       "prompt_number": 9,
       "text": [
        "(1, 11, WikiEnergy)    -13.858679\n",
        "(2, 11, WikiEnergy)    -27.614605\n",
        "(3, 11, WikiEnergy)    -28.489415\n",
        "(4, 11, WikiEnergy)    -31.895658\n",
        "(5, 11, WikiEnergy)    -31.704449\n",
        "(6, 11, WikiEnergy)    -32.510516\n",
        "(7, 11, WikiEnergy)    -29.846650\n",
        "(8, 11, WikiEnergy)    -29.872046\n",
        "(9, 11, WikiEnergy)    -30.686250\n",
        "(10, 11, WikiEnergy)   -27.433520\n",
        "(11, 11, WikiEnergy)   -31.262869\n",
        "dtype: float64"
       ]
      }
     ],
     "prompt_number": 9
    },
    {
     "cell_type": "code",
     "collapsed": false,
     "input": [
      "_.plot(kind='bar')"
     ],
     "language": "python",
     "metadata": {},
     "outputs": [
      {
       "metadata": {},
       "output_type": "pyout",
       "prompt_number": 10,
       "text": [
        "<matplotlib.axes.AxesSubplot at 0x7f8b781ce150>"
       ]
      },
      {
       "metadata": {},
       "output_type": "display_data",
       "png": "[encoded data removed]",
       "text": [
        "<matplotlib.figure.Figure at 0x7f8b4071f590>"
       ]
      }
     ],
     "prompt_number": 10
    },
    {
     "cell_type": "code",
     "collapsed": false,
     "input": [
      "aa"
     ],
     "language": "python",
     "metadata": {},
     "outputs": [
      {
       "metadata": {},
       "output_type": "pyout",
       "prompt_number": 9,
       "text": [
        "localminute\n",
        "2014-02-01 00:00:00-06:00    0\n",
        "2014-02-01 00:01:00-06:00    0\n",
        "2014-02-01 00:02:00-06:00    0\n",
        "2014-02-01 00:03:00-06:00    0\n",
        "2014-02-01 00:04:00-06:00    0\n",
        "2014-02-01 00:05:00-06:00    0\n",
        "2014-02-01 00:06:00-06:00    0\n",
        "2014-02-01 00:07:00-06:00    0\n",
        "2014-02-01 00:08:00-06:00    0\n",
        "2014-02-01 00:09:00-06:00    0\n",
        "2014-02-01 00:10:00-06:00    0\n",
        "2014-02-01 00:11:00-06:00    0\n",
        "2014-02-01 00:12:00-06:00    0\n",
        "2014-02-01 00:13:00-06:00    0\n",
        "2014-02-01 00:14:00-06:00    0\n",
        "...\n",
        "2014-05-31 18:44:00-05:00    3268\n",
        "2014-05-31 18:45:00-05:00    3270\n",
        "2014-05-31 18:46:00-05:00    3289\n",
        "2014-05-31 18:47:00-05:00    3289\n",
        "2014-05-31 18:48:00-05:00    3276\n",
        "2014-05-31 18:49:00-05:00    3274\n",
        "2014-05-31 18:50:00-05:00    3285\n",
        "2014-05-31 18:51:00-05:00    3289\n",
        "2014-05-31 18:52:00-05:00    3286\n",
        "2014-05-31 18:53:00-05:00    3250\n",
        "2014-05-31 18:54:00-05:00    3261\n",
        "2014-05-31 18:55:00-05:00     884\n",
        "2014-05-31 18:56:00-05:00       0\n",
        "2014-05-31 18:57:00-05:00       0\n",
        "2014-05-31 18:58:00-05:00       0\n",
        "Name: (power, active), Length: 172136"
       ]
      }
     ],
     "prompt_number": 9
    },
    {
     "cell_type": "code",
     "collapsed": false,
     "input": [
      "plot_correlation_heatmap(correlation_df)"
     ],
     "language": "python",
     "metadata": {},
     "outputs": [
      {
       "metadata": {},
       "output_type": "display_data",
       "png": "[encoded data removed]",
       "text": [
        "<matplotlib.figure.Figure at 0x7f541c6ab250>"
       ]
      }
     ],
     "prompt_number": 10
    }
   ],
   "metadata": {}
  }
 ]
}