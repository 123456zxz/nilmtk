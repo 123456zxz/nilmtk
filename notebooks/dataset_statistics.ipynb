{
 "metadata": {
  "name": "",
  "signature": "sha256:83a47d902aafb8f325286d60bc6ec682b2ec51dbbe22fea56bef71433b223e8f"
 },
 "nbformat": 3,
 "nbformat_minor": 0,
 "worksheets": [
  {
   "cells": [
    {
     "cell_type": "code",
     "collapsed": false,
     "input": [
      "from __future__ import print_function, division\n",
      "from nilmtk import DataSet, TimeFrame\n",
      "import pandas as pd"
     ],
     "language": "python",
     "metadata": {},
     "outputs": [
      {
       "output_type": "stream",
       "stream": "stderr",
       "text": [
        "/usr/lib/python2.7/pkgutil.py:186: ImportWarning: Not importing directory '/usr/local/lib/python2.7/dist-packages/mpl_toolkits': missing __init__.py\n",
        "  file, filename, etc = imp.find_module(subname, path)\n"
       ]
      }
     ],
     "prompt_number": 1
    },
    {
     "cell_type": "code",
     "collapsed": false,
     "input": [
      "dataset = DataSet('/data/mine/vadeec/merged/ukdale.h5')\n",
      "# dataset.set_window(\"2014-01-01\", \"2014-01-02\")\n",
      "\n",
      "for building in dataset.buildings.values():\n",
      "    try:\n",
      "        building.elec.use_alternative_mains()\n",
      "    except RuntimeError:\n",
      "        pass\n",
      "    else:\n",
      "        print(\"using alternative mains for\", building)\n",
      "        \n",
      "elec = dataset.buildings[1].elec"
     ],
     "language": "python",
     "metadata": {},
     "outputs": [
      {
       "output_type": "stream",
       "stream": "stdout",
       "text": [
        "using alternative mains for Building(instance=1, dataset='UK-DALE')\n",
        "using alternative mains for Building(instance=2, dataset='UK-DALE')\n",
        "using alternative mains for Building(instance=5, dataset='UK-DALE')\n"
       ]
      }
     ],
     "prompt_number": 2
    },
    {
     "cell_type": "code",
     "collapsed": false,
     "input": [
      "# dataset.describe(verbose=True)"
     ],
     "language": "python",
     "metadata": {},
     "outputs": [],
     "prompt_number": 3
    },
    {
     "cell_type": "code",
     "collapsed": false,
     "input": [
      "# elec.meters_directly_downstream_of_mains().total_energy(verbose=True)\n",
      "%load_ext memory_profiler"
     ],
     "language": "python",
     "metadata": {},
     "outputs": [],
     "prompt_number": 4
    },
    {
     "cell_type": "code",
     "collapsed": false,
     "input": [
      "%memit elec.power_series(verbose=True, chunksize=2**10).next()"
     ],
     "language": "python",
     "metadata": {},
     "outputs": [
      {
       "output_type": "stream",
       "stream": "stdout",
       "text": [
        "HDFDataStore.load. key='/building1/elec/meter2'\n",
        "    TimeFrame(start='None', end='None', empty=False)\n",
        "n_chunks"
       ]
      },
      {
       "output_type": "stream",
       "stream": "stdout",
       "text": [
        " 9177\n",
        "HDFDataStore.load. key='/building1/elec/meter3'"
       ]
      },
      {
       "output_type": "stream",
       "stream": "stdout",
       "text": [
        "\n",
        "    TimeFrame(start='None', end='None', empty=False)\n",
        "n_chunks"
       ]
      },
      {
       "output_type": "stream",
       "stream": "stdout",
       "text": [
        " 9177\n",
        "HDFDataStore.load. key='/building1/elec/meter4'"
       ]
      },
      {
       "output_type": "stream",
       "stream": "stdout",
       "text": [
        "\n",
        "    TimeFrame(start='None', end='None', empty=False)\n",
        "n_chunks"
       ]
      },
      {
       "output_type": "stream",
       "stream": "stdout",
       "text": [
        " 2412\n",
        "HDFDataStore.load. key='/building1/elec/meter5'"
       ]
      },
      {
       "output_type": "stream",
       "stream": "stdout",
       "text": [
        "\n",
        "    TimeFrame(start='None', end='None', empty=False)\n",
        "n_chunks"
       ]
      },
      {
       "output_type": "stream",
       "stream": "stdout",
       "text": [
        " 8379\n",
        "HDFDataStore.load. key='/building1/elec/meter6'"
       ]
      },
      {
       "output_type": "stream",
       "stream": "stdout",
       "text": [
        "\n",
        "    TimeFrame(start='None', end='None', empty=False)\n",
        "n_chunks"
       ]
      },
      {
       "output_type": "stream",
       "stream": "stdout",
       "text": [
        " 8497\n",
        "HDFDataStore.load. key='/building1/elec/meter7'"
       ]
      },
      {
       "output_type": "stream",
       "stream": "stdout",
       "text": [
        "\n",
        "    TimeFrame(start='None', end='None', empty=False)\n",
        "n_chunks"
       ]
      },
      {
       "output_type": "stream",
       "stream": "stdout",
       "text": [
        " 8452\n",
        "HDFDataStore.load. key='/building1/elec/meter8'"
       ]
      },
      {
       "output_type": "stream",
       "stream": "stdout",
       "text": [
        "\n",
        "    TimeFrame(start='None', end='None', empty=False)\n",
        "n_chunks"
       ]
      },
      {
       "output_type": "stream",
       "stream": "stdout",
       "text": [
        " 9317\n",
        "HDFDataStore.load. key='/building1/elec/meter9'"
       ]
      },
      {
       "output_type": "stream",
       "stream": "stdout",
       "text": [
        "\n",
        "    TimeFrame(start='None', end='None', empty=False)\n",
        "n_chunks"
       ]
      },
      {
       "output_type": "stream",
       "stream": "stdout",
       "text": [
        " 8224\n",
        "HDFDataStore.load. key='/building1/elec/meter10'"
       ]
      },
      {
       "output_type": "stream",
       "stream": "stdout",
       "text": [
        "\n",
        "    TimeFrame(start='None', end='None', empty=False)\n",
        "n_chunks"
       ]
      },
      {
       "output_type": "stream",
       "stream": "stdout",
       "text": [
        " 8138\n",
        "HDFDataStore.load. key='/building1/elec/meter11'"
       ]
      },
      {
       "output_type": "stream",
       "stream": "stdout",
       "text": [
        "\n",
        "    TimeFrame(start='None', end='None', empty=False)\n",
        "n_chunks"
       ]
      },
      {
       "output_type": "stream",
       "stream": "stdout",
       "text": [
        " 8179\n",
        "HDFDataStore.load. key='/building1/elec/meter12'"
       ]
      },
      {
       "output_type": "stream",
       "stream": "stdout",
       "text": [
        "\n",
        "    TimeFrame(start='None', end='None', empty=False)\n",
        "n_chunks"
       ]
      },
      {
       "output_type": "stream",
       "stream": "stdout",
       "text": [
        " 8163\n",
        "HDFDataStore.load. key='/building1/elec/meter13'"
       ]
      },
      {
       "output_type": "stream",
       "stream": "stdout",
       "text": [
        "\n",
        "    TimeFrame(start='None', end='None', empty=False)\n",
        "n_chunks"
       ]
      },
      {
       "output_type": "stream",
       "stream": "stdout",
       "text": [
        " 8210\n",
        "HDFDataStore.load. key='/building1/elec/meter14'"
       ]
      },
      {
       "output_type": "stream",
       "stream": "stdout",
       "text": [
        "\n",
        "    TimeFrame(start='None', end='None', empty=False)\n",
        "n_chunks"
       ]
      },
      {
       "output_type": "stream",
       "stream": "stdout",
       "text": [
        " 2014\n",
        "HDFDataStore.load. key='/building1/elec/meter15'"
       ]
      },
      {
       "output_type": "stream",
       "stream": "stdout",
       "text": [
        "\n",
        "    TimeFrame(start='None', end='None', empty=False)\n",
        "n_chunks"
       ]
      },
      {
       "output_type": "stream",
       "stream": "stdout",
       "text": [
        " 2027\n",
        "HDFDataStore.load. key='/building1/elec/meter16'"
       ]
      },
      {
       "output_type": "stream",
       "stream": "stdout",
       "text": [
        "\n",
        "    TimeFrame(start='None', end='None', empty=False)\n",
        "n_chunks"
       ]
      },
      {
       "output_type": "stream",
       "stream": "stdout",
       "text": [
        " 8213\n",
        "HDFDataStore.load. key='/building1/elec/meter17'"
       ]
      },
      {
       "output_type": "stream",
       "stream": "stdout",
       "text": [
        "\n",
        "    TimeFrame(start='None', end='None', empty=False)\n",
        "n_chunks"
       ]
      },
      {
       "output_type": "stream",
       "stream": "stdout",
       "text": [
        " 8232\n",
        "HDFDataStore.load. key='/building1/elec/meter18'"
       ]
      },
      {
       "output_type": "stream",
       "stream": "stdout",
       "text": [
        "\n",
        "    TimeFrame(start='None', end='None', empty=False)\n",
        "n_chunks"
       ]
      },
      {
       "output_type": "stream",
       "stream": "stdout",
       "text": [
        " 8164\n",
        "HDFDataStore.load. key='/building1/elec/meter19'"
       ]
      },
      {
       "output_type": "stream",
       "stream": "stdout",
       "text": [
        "\n",
        "    TimeFrame(start='None', end='None', empty=False)\n",
        "n_chunks"
       ]
      },
      {
       "output_type": "stream",
       "stream": "stdout",
       "text": [
        " 7666\n",
        "HDFDataStore.load. key='/building1/elec/meter20'"
       ]
      },
      {
       "output_type": "stream",
       "stream": "stdout",
       "text": [
        "\n",
        "    TimeFrame(start='None', end='None', empty=False)\n",
        "n_chunks"
       ]
      },
      {
       "output_type": "stream",
       "stream": "stdout",
       "text": [
        " 604\n",
        "HDFDataStore.load. key='/building1/elec/meter21'"
       ]
      },
      {
       "output_type": "stream",
       "stream": "stdout",
       "text": [
        "\n",
        "    TimeFrame(start='None', end='None', empty=False)\n",
        "n_chunks"
       ]
      },
      {
       "output_type": "stream",
       "stream": "stdout",
       "text": [
        " 1501\n",
        "HDFDataStore.load. key='/building1/elec/meter22'"
       ]
      },
      {
       "output_type": "stream",
       "stream": "stdout",
       "text": [
        "\n",
        "    TimeFrame(start='None', end='None', empty=False)\n",
        "n_chunks"
       ]
      },
      {
       "output_type": "stream",
       "stream": "stdout",
       "text": [
        " 71\n",
        "HDFDataStore.load. key='/building1/elec/meter23'"
       ]
      },
      {
       "output_type": "stream",
       "stream": "stdout",
       "text": [
        "\n",
        "    TimeFrame(start='None', end='None', empty=False)\n",
        "n_chunks"
       ]
      },
      {
       "output_type": "stream",
       "stream": "stdout",
       "text": [
        " 7657\n",
        "HDFDataStore.load. key='/building1/elec/meter24'"
       ]
      },
      {
       "output_type": "stream",
       "stream": "stdout",
       "text": [
        "\n",
        "    TimeFrame(start='None', end='None', empty=False)\n",
        "n_chunks"
       ]
      },
      {
       "output_type": "stream",
       "stream": "stdout",
       "text": [
        " 6054\n",
        "HDFDataStore.load. key='/building1/elec/meter25'"
       ]
      },
      {
       "output_type": "stream",
       "stream": "stdout",
       "text": [
        "\n",
        "    TimeFrame(start='None', end='None', empty=False)\n",
        "n_chunks"
       ]
      },
      {
       "output_type": "stream",
       "stream": "stdout",
       "text": [
        " 8298\n",
        "HDFDataStore.load. key='/building1/elec/meter26'"
       ]
      },
      {
       "output_type": "stream",
       "stream": "stdout",
       "text": [
        "\n",
        "    TimeFrame(start='None', end='None', empty=False)\n",
        "n_chunks"
       ]
      },
      {
       "output_type": "stream",
       "stream": "stdout",
       "text": [
        " 7362\n",
        "HDFDataStore.load. key='/building1/elec/meter27'"
       ]
      },
      {
       "output_type": "stream",
       "stream": "stdout",
       "text": [
        "\n",
        "    TimeFrame(start='None', end='None', empty=False)\n",
        "n_chunks"
       ]
      },
      {
       "output_type": "stream",
       "stream": "stdout",
       "text": [
        " 5300\n",
        "HDFDataStore.load. key='/building1/elec/meter28'"
       ]
      },
      {
       "output_type": "stream",
       "stream": "stdout",
       "text": [
        "\n",
        "    TimeFrame(start='None', end='None', empty=False)\n",
        "n_chunks"
       ]
      },
      {
       "output_type": "stream",
       "stream": "stdout",
       "text": [
        " 7356\n",
        "HDFDataStore.load. key='/building1/elec/meter29'"
       ]
      },
      {
       "output_type": "stream",
       "stream": "stdout",
       "text": [
        "\n",
        "    TimeFrame(start='None', end='None', empty=False)\n",
        "n_chunks"
       ]
      },
      {
       "output_type": "stream",
       "stream": "stdout",
       "text": [
        " 7358\n",
        "HDFDataStore.load. key='/building1/elec/meter30'"
       ]
      },
      {
       "output_type": "stream",
       "stream": "stdout",
       "text": [
        "\n",
        "    TimeFrame(start='None', end='None', empty=False)\n",
        "n_chunks"
       ]
      },
      {
       "output_type": "stream",
       "stream": "stdout",
       "text": [
        " 662\n",
        "HDFDataStore.load. key='/building1/elec/meter31'"
       ]
      },
      {
       "output_type": "stream",
       "stream": "stdout",
       "text": [
        "\n",
        "    TimeFrame(start='None', end='None', empty=False)\n",
        "n_chunks"
       ]
      },
      {
       "output_type": "stream",
       "stream": "stdout",
       "text": [
        " 6842\n",
        "HDFDataStore.load. key='/building1/elec/meter32'"
       ]
      },
      {
       "output_type": "stream",
       "stream": "stdout",
       "text": [
        "\n",
        "    TimeFrame(start='None', end='None', empty=False)\n",
        "n_chunks"
       ]
      },
      {
       "output_type": "stream",
       "stream": "stdout",
       "text": [
        " 7317\n",
        "HDFDataStore.load. key='/building1/elec/meter33'"
       ]
      },
      {
       "output_type": "stream",
       "stream": "stdout",
       "text": [
        "\n",
        "    TimeFrame(start='None', end='None', empty=False)\n",
        "n_chunks"
       ]
      },
      {
       "output_type": "stream",
       "stream": "stdout",
       "text": [
        " 6437\n",
        "HDFDataStore.load. key='/building1/elec/meter34'"
       ]
      },
      {
       "output_type": "stream",
       "stream": "stdout",
       "text": [
        "\n",
        "    TimeFrame(start='None', end='None', empty=False)\n",
        "n_chunks"
       ]
      },
      {
       "output_type": "stream",
       "stream": "stdout",
       "text": [
        " 6746\n",
        "HDFDataStore.load. key='/building1/elec/meter35'"
       ]
      },
      {
       "output_type": "stream",
       "stream": "stdout",
       "text": [
        "\n",
        "    TimeFrame(start='None', end='None', empty=False)\n",
        "n_chunks"
       ]
      },
      {
       "output_type": "stream",
       "stream": "stdout",
       "text": [
        " 7176\n",
        "HDFDataStore.load. key='/building1/elec/meter36'"
       ]
      },
      {
       "output_type": "stream",
       "stream": "stdout",
       "text": [
        "\n",
        "    TimeFrame(start='None', end='None', empty=False)\n",
        "n_chunks"
       ]
      },
      {
       "output_type": "stream",
       "stream": "stdout",
       "text": [
        " 7309\n",
        "HDFDataStore.load. key='/building1/elec/meter37'"
       ]
      },
      {
       "output_type": "stream",
       "stream": "stdout",
       "text": [
        "\n",
        "    TimeFrame(start='None', end='None', empty=False)\n",
        "n_chunks"
       ]
      },
      {
       "output_type": "stream",
       "stream": "stdout",
       "text": [
        " 7306\n",
        "HDFDataStore.load. key='/building1/elec/meter38'"
       ]
      },
      {
       "output_type": "stream",
       "stream": "stdout",
       "text": [
        "\n",
        "    TimeFrame(start='None', end='None', empty=False)\n",
        "n_chunks"
       ]
      },
      {
       "output_type": "stream",
       "stream": "stdout",
       "text": [
        " 7329\n",
        "HDFDataStore.load. key='/building1/elec/meter39'"
       ]
      },
      {
       "output_type": "stream",
       "stream": "stdout",
       "text": [
        "\n",
        "    TimeFrame(start='None', end='None', empty=False)\n",
        "n_chunks"
       ]
      },
      {
       "output_type": "stream",
       "stream": "stdout",
       "text": [
        " 40\n",
        "HDFDataStore.load. key='/building1/elec/meter40'"
       ]
      },
      {
       "output_type": "stream",
       "stream": "stdout",
       "text": [
        "\n",
        "    TimeFrame(start='None', end='None', empty=False)\n",
        "n_chunks"
       ]
      },
      {
       "output_type": "stream",
       "stream": "stdout",
       "text": [
        " 32\n",
        "HDFDataStore.load. key='/building1/elec/meter41'"
       ]
      },
      {
       "output_type": "stream",
       "stream": "stdout",
       "text": [
        "\n",
        "    TimeFrame(start='None', end='None', empty=False)\n",
        "n_chunks"
       ]
      },
      {
       "output_type": "stream",
       "stream": "stdout",
       "text": [
        " 3\n",
        "HDFDataStore.load. key='/building1/elec/meter42'"
       ]
      },
      {
       "output_type": "stream",
       "stream": "stdout",
       "text": [
        "\n",
        "    TimeFrame(start='None', end='None', empty=False)\n",
        "n_chunks"
       ]
      },
      {
       "output_type": "stream",
       "stream": "stdout",
       "text": [
        " 7283\n",
        "HDFDataStore.load. key='/building1/elec/meter43'"
       ]
      },
      {
       "output_type": "stream",
       "stream": "stdout",
       "text": [
        "\n",
        "    TimeFrame(start='None', end='None', empty=False)\n",
        "n_chunks"
       ]
      },
      {
       "output_type": "stream",
       "stream": "stdout",
       "text": [
        " 7323\n",
        "HDFDataStore.load. key='/building1/elec/meter44'"
       ]
      },
      {
       "output_type": "stream",
       "stream": "stdout",
       "text": [
        "\n",
        "    TimeFrame(start='None', end='None', empty=False)\n",
        "n_chunks"
       ]
      },
      {
       "output_type": "stream",
       "stream": "stdout",
       "text": [
        " 7324\n",
        "HDFDataStore.load. key='/building1/elec/meter45'"
       ]
      },
      {
       "output_type": "stream",
       "stream": "stdout",
       "text": [
        "\n",
        "    TimeFrame(start='None', end='None', empty=False)\n",
        "n_chunks"
       ]
      },
      {
       "output_type": "stream",
       "stream": "stdout",
       "text": [
        " 6787\n",
        "HDFDataStore.load. key='/building1/elec/meter46'"
       ]
      },
      {
       "output_type": "stream",
       "stream": "stdout",
       "text": [
        "\n",
        "    TimeFrame(start='None', end='None', empty=False)\n",
        "n_chunks"
       ]
      },
      {
       "output_type": "stream",
       "stream": "stdout",
       "text": [
        " 6546\n",
        "HDFDataStore.load. key='/building1/elec/meter47'"
       ]
      },
      {
       "output_type": "stream",
       "stream": "stdout",
       "text": [
        "\n",
        "    TimeFrame(start='None', end='None', empty=False)\n",
        "n_chunks"
       ]
      },
      {
       "output_type": "stream",
       "stream": "stdout",
       "text": [
        " 6883\n",
        "HDFDataStore.load. key='/building1/elec/meter48'"
       ]
      },
      {
       "output_type": "stream",
       "stream": "stdout",
       "text": [
        "\n",
        "    TimeFrame(start='None', end='None', empty=False)\n",
        "n_chunks"
       ]
      },
      {
       "output_type": "stream",
       "stream": "stdout",
       "text": [
        " 6956\n",
        "HDFDataStore.load. key='/building1/elec/meter49'"
       ]
      },
      {
       "output_type": "stream",
       "stream": "stdout",
       "text": [
        "\n",
        "    TimeFrame(start='None', end='None', empty=False)\n",
        "n_chunks"
       ]
      },
      {
       "output_type": "stream",
       "stream": "stdout",
       "text": [
        " 6515\n",
        "HDFDataStore.load. key='/building1/elec/meter50'"
       ]
      },
      {
       "output_type": "stream",
       "stream": "stdout",
       "text": [
        "\n",
        "    TimeFrame(start='None', end='None', empty=False)\n",
        "n_chunks"
       ]
      },
      {
       "output_type": "stream",
       "stream": "stdout",
       "text": [
        " 1259\n",
        "HDFDataStore.load. key='/building1/elec/meter51'"
       ]
      },
      {
       "output_type": "stream",
       "stream": "stdout",
       "text": [
        "\n",
        "    TimeFrame(start='None', end='None', empty=False)\n",
        "n_chunks"
       ]
      },
      {
       "output_type": "stream",
       "stream": "stdout",
       "text": [
        " 1281\n",
        "HDFDataStore.load. key='/building1/elec/meter52'"
       ]
      },
      {
       "output_type": "stream",
       "stream": "stdout",
       "text": [
        "\n",
        "    TimeFrame(start='None', end='None', empty=False)\n",
        "n_chunks"
       ]
      },
      {
       "output_type": "stream",
       "stream": "stdout",
       "text": [
        " 2034\n",
        "HDFDataStore.load. key='/building1/elec/meter53'"
       ]
      },
      {
       "output_type": "stream",
       "stream": "stdout",
       "text": [
        "\n",
        "    TimeFrame(start='None', end='None', empty=False)\n",
        "n_chunks"
       ]
      },
      {
       "output_type": "stream",
       "stream": "stdout",
       "text": [
        " 895\n",
        "HDFDataStore.load. key='/building1/elec/meter54'"
       ]
      },
      {
       "output_type": "stream",
       "stream": "stdout",
       "text": [
        "\n",
        "    TimeFrame(start='None', end='None', empty=False)\n",
        "n_chunks"
       ]
      },
      {
       "output_type": "stream",
       "stream": "stdout",
       "text": [
        " 51138\n",
        "peak memory: 643.05 MiB, increment: 527.22 MiB"
       ]
      },
      {
       "output_type": "stream",
       "stream": "stdout",
       "text": [
        "\n"
       ]
      }
     ],
     "prompt_number": 5
    },
    {
     "cell_type": "markdown",
     "metadata": {},
     "source": [
      "```\n",
      "with hard-coded section_starT_i and end_i and this call:\n",
      "%memit elec.power_series(verbose=True, chunksize=10).next():\n",
      "peak memory: 148.93 MiB, increment: 17.11 MiB\n",
      "\n",
      "with select_as_coordinates:\n",
      "peak memory: 305.98 MiB, increment: 190.30 MiB\n",
      "\n",
      "chunksize = 2**10\n",
      "with select_as_coordinates:\n",
      "peak memory: 771.50 MiB, increment: 622.86 MiB\n",
      "\n",
      "with hard-coded:\n",
      "peak memory: 643.05 MiB, increment: 527.22 MiB\n",
      "```"
     ]
    },
    {
     "cell_type": "code",
     "collapsed": false,
     "input": [
      "%memit df = elec[3].power_series(verbose=True, chunksize=2**20).next()"
     ],
     "language": "python",
     "metadata": {},
     "outputs": [
      {
       "output_type": "stream",
       "stream": "stdout",
       "text": [
        "HDFDataStore.load. key='/building1/elec/meter3'\n",
        "    TimeFrame(start='None', end='None', empty=False)\n",
        "n_chunks"
       ]
      },
      {
       "output_type": "stream",
       "stream": "stdout",
       "text": [
        " 9\n",
        "peak memory: 193.73 MiB, increment: 80.04 MiB"
       ]
      },
      {
       "output_type": "stream",
       "stream": "stdout",
       "text": [
        "\n"
       ]
      }
     ],
     "prompt_number": 5
    },
    {
     "cell_type": "code",
     "collapsed": false,
     "input": [
      "store = elec[3].store.store"
     ],
     "language": "python",
     "metadata": {},
     "outputs": [],
     "prompt_number": 4
    },
    {
     "cell_type": "code",
     "collapsed": false,
     "input": [
      "store.select_as_coordinates()"
     ],
     "language": "python",
     "metadata": {},
     "outputs": [],
     "prompt_number": 5
    },
    {
     "cell_type": "code",
     "collapsed": false,
     "input": [
      "it = store.select(key='/building1/elec/meter2', where=[\"index > '2014-01-01'\", \"index < '2014-01-02'\"], chunksize=1)"
     ],
     "language": "python",
     "metadata": {},
     "outputs": [],
     "prompt_number": 13
    },
    {
     "cell_type": "code",
     "collapsed": false,
     "input": [
      "it."
     ],
     "language": "python",
     "metadata": {},
     "outputs": [
      {
       "metadata": {},
       "output_type": "pyout",
       "prompt_number": 29,
       "text": [
        "9397091"
       ]
      }
     ],
     "prompt_number": 29
    },
    {
     "cell_type": "code",
     "collapsed": false,
     "input": [
      "xrange?"
     ],
     "language": "python",
     "metadata": {},
     "outputs": [],
     "prompt_number": 6
    },
    {
     "cell_type": "code",
     "collapsed": false,
     "input": [],
     "language": "python",
     "metadata": {},
     "outputs": []
    }
   ],
   "metadata": {}
  }
 ]
}