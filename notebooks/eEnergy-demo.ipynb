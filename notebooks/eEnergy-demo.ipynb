{
 "metadata": {
  "name": "",
  "signature": "sha256:22465cd59dd5777e997ecf1db4000c3522758ef7f01a6eb4b55a911221e20c40"
 },
 "nbformat": 3,
 "nbformat_minor": 0,
 "worksheets": [
  {
   "cells": [
    {
     "cell_type": "heading",
     "level": 1,
     "metadata": {},
     "source": [
      "NILMTK 1.0 demo for e-Energy 2014"
     ]
    },
    {
     "cell_type": "code",
     "collapsed": false,
     "input": [
      "from __future__ import print_function \n",
      "import seaborn as sns\n",
      "from IPython.core.display import HTML\n",
      "from IPython.display import Image\n",
      "import pandas as pd\n",
      "import calendar\n",
      "\n",
      "from nilmtk.disaggregate.co_1d import CO_1d\n",
      "from nilmtk.cross_validation import train_test_split\n",
      "import nilmtk.preprocessing.electricity.building as prepb\n",
      "import nilmtk.stats.electricity.building as bstats\n",
      "import nilmtk.stats.electricity.single as sstats\n",
      "from nilmtk.dataset import DataSet\n",
      "from nilmtk.dataset import REDD\n",
      "from nilmtk.plots import plot_series\n",
      "from nilmtk.sensors.electricity import Measurement\n",
      "from nilmtk.metrics import (mean_normalized_error_power, \n",
      "                            fraction_energy_assigned_correctly, \n",
      "                            f_score,\n",
      "                            rms_error_power)\n",
      "\n",
      "import warnings\n",
      "warnings.filterwarnings(\"ignore\")\n",
      "import time\n",
      "\n",
      "\n",
      "sns.set(font=\"serif\")\n",
      "\n",
      "def pretty_print_dict(dictionary):\n",
      "    html = '<ul>'\n",
      "    for key, value in dictionary.iteritems():\n",
      "        html += '<li><strong>{}</strong>: '.format(key)\n",
      "        if isinstance(value, list):\n",
      "            html += '<ul>'\n",
      "            for item in value:\n",
      "                html += '<li>{}</li>'.format(item)\n",
      "            html += '</ul></li>'\n",
      "        else:\n",
      "            html += '{}</li>'.format(value)\n",
      "    html += '</ul>'\n",
      "    display(HTML(html))\n",
      "\n",
      "import matplotlib.pyplot as plt\n",
      "%matplotlib inline"
     ],
     "language": "python",
     "metadata": {},
     "outputs": [],
     "prompt_number": 1
    },
    {
     "cell_type": "heading",
     "level": 2,
     "metadata": {},
     "source": [
      "Loading Data"
     ]
    },
    {
     "cell_type": "heading",
     "level": 3,
     "metadata": {},
     "source": [
      "Load raw REDD .dat data"
     ]
    },
    {
     "cell_type": "code",
     "collapsed": false,
     "input": [
      "%%capture\n",
      "from nilmtk.dataset import REDD\n",
      "\n",
      "redd = REDD()\n",
      "start = time.time()\n",
      "redd.load('/home/nipun/study/datasets/MIT/low_freq/')\n",
      "end = time.time()"
     ],
     "language": "python",
     "metadata": {},
     "outputs": [],
     "prompt_number": 2
    },
    {
     "cell_type": "code",
     "collapsed": false,
     "input": [
      "print(\"Time taken to load : {} seconds\".format(end-start))"
     ],
     "language": "python",
     "metadata": {},
     "outputs": [
      {
       "output_type": "stream",
       "stream": "stdout",
       "text": [
        "Time taken to load : 22.635144949 seconds\n"
       ]
      }
     ],
     "prompt_number": 3
    },
    {
     "cell_type": "heading",
     "level": 3,
     "metadata": {},
     "source": [
      "Importing from highly efficient HDF5 format"
     ]
    },
    {
     "cell_type": "markdown",
     "metadata": {},
     "source": [
      "```python\n",
      "redd = DataSet()\n",
      "redd.load_hdf5(\"PATH_TO_HDF\")\n",
      "```"
     ]
    },
    {
     "cell_type": "code",
     "collapsed": false,
     "input": [
      "from nilmtk.dataset import DataSet\n",
      "redd = DataSet()\n",
      "start = time.time()\n",
      "redd.load_hdf5(\"/home/nipun/Dropbox/nilmtk_datasets/ampds/\")\n",
      "end = time.time()        "
     ],
     "language": "python",
     "metadata": {},
     "outputs": [],
     "prompt_number": 4
    },
    {
     "cell_type": "code",
     "collapsed": false,
     "input": [
      "print(\"Time taken to load from HDF5 format: {} seconds\".format(end-start))"
     ],
     "language": "python",
     "metadata": {},
     "outputs": [
      {
       "output_type": "stream",
       "stream": "stdout",
       "text": [
        "Time taken to load from HDF5 format: 3.86431503296 seconds\n"
       ]
      }
     ],
     "prompt_number": 5
    },
    {
     "cell_type": "heading",
     "level": 2,
     "metadata": {},
     "source": [
      "Dataset Diagnostics and Statistics"
     ]
    },
    {
     "cell_type": "markdown",
     "metadata": {},
     "source": [
      "```python\n",
      "import nilmtk.stats.electricity.building as bstats\n",
      "```"
     ]
    },
    {
     "cell_type": "heading",
     "level": 3,
     "metadata": {},
     "source": [
      "Finding gaps in data streams"
     ]
    },
    {
     "cell_type": "markdown",
     "metadata": {},
     "source": [
      "```python\n",
      "bstats.plot_missing_samples_using_rectangles(electric)\n",
      "```\n"
     ]
    },
    {
     "cell_type": "code",
     "collapsed": false,
     "input": [
      "electric = redd.buildings[1].utility.electric\n",
      "bstats.plot_missing_samples_using_rectangles(electric)"
     ],
     "language": "python",
     "metadata": {},
     "outputs": [
      {
       "output_type": "stream",
       "stream": "stdout",
       "text": [
        "Removed ('unmetered', 1)\n"
       ]
      },
      {
       "metadata": {},
       "output_type": "display_data",
       "png": "[encoded data removed]",
       "text": [
        "<matplotlib.figure.Figure at 0x7f9f90416b50>"
       ]
      }
     ],
     "prompt_number": 6
    },
    {
     "cell_type": "heading",
     "level": 3,
     "metadata": {},
     "source": [
      "Proportion of energy submetered for house 1"
     ]
    },
    {
     "cell_type": "markdown",
     "metadata": {},
     "source": [
      "```python\n",
      "bstats.proportion_of_energy_submetered(electric)\n",
      "```"
     ]
    },
    {
     "cell_type": "code",
     "collapsed": false,
     "input": [
      "bstats.proportion_of_energy_submetered(electric)"
     ],
     "language": "python",
     "metadata": {},
     "outputs": [
      {
       "output_type": "stream",
       "stream": "stdout",
       "text": [
        "Calculating proportion of energy submetered...\n",
        "Removed"
       ]
      },
      {
       "output_type": "stream",
       "stream": "stdout",
       "text": [
        " ('unmetered', 1)\n",
        "Masking appliances with mains... may take a little while..."
       ]
      },
      {
       "output_type": "stream",
       "stream": "stdout",
       "text": [
        "Mains sample period = 60.0, max_sample_period = 1200.0\n",
        "Getting gap starts and ends...\n",
        "Found 4 gap starts and 4 gap ends."
       ]
      },
      {
       "output_type": "stream",
       "stream": "stdout",
       "text": [
        "\n",
        "."
       ]
      },
      {
       "output_type": "stream",
       "stream": "stdout",
       "text": [
        "."
       ]
      },
      {
       "output_type": "stream",
       "stream": "stdout",
       "text": [
        "."
       ]
      },
      {
       "output_type": "stream",
       "stream": "stdout",
       "text": [
        "."
       ]
      },
      {
       "output_type": "stream",
       "stream": "stdout",
       "text": [
        "."
       ]
      },
      {
       "output_type": "stream",
       "stream": "stdout",
       "text": [
        "."
       ]
      },
      {
       "output_type": "stream",
       "stream": "stdout",
       "text": [
        "."
       ]
      },
      {
       "output_type": "stream",
       "stream": "stdout",
       "text": [
        "."
       ]
      },
      {
       "output_type": "stream",
       "stream": "stdout",
       "text": [
        "."
       ]
      },
      {
       "output_type": "stream",
       "stream": "stdout",
       "text": [
        "."
       ]
      },
      {
       "output_type": "stream",
       "stream": "stdout",
       "text": [
        "."
       ]
      },
      {
       "output_type": "stream",
       "stream": "stdout",
       "text": [
        "."
       ]
      },
      {
       "output_type": "stream",
       "stream": "stdout",
       "text": [
        "."
       ]
      },
      {
       "output_type": "stream",
       "stream": "stdout",
       "text": [
        "."
       ]
      },
      {
       "output_type": "stream",
       "stream": "stdout",
       "text": [
        "."
       ]
      },
      {
       "output_type": "stream",
       "stream": "stdout",
       "text": [
        "."
       ]
      },
      {
       "output_type": "stream",
       "stream": "stdout",
       "text": [
        "."
       ]
      },
      {
       "output_type": "stream",
       "stream": "stdout",
       "text": [
        "."
       ]
      },
      {
       "output_type": "stream",
       "stream": "stdout",
       "text": [
        "."
       ]
      },
      {
       "output_type": "stream",
       "stream": "stdout",
       "text": [
        "done\n",
        "Inserting zeros... may take a little while..."
       ]
      },
      {
       "output_type": "stream",
       "stream": "stdout",
       "text": [
        "done inserting zeros\n"
       ]
      },
      {
       "metadata": {},
       "output_type": "pyout",
       "prompt_number": 7,
       "text": [
        "0.96914327405394218"
       ]
      }
     ],
     "prompt_number": 7
    },
    {
     "cell_type": "heading",
     "level": 3,
     "metadata": {},
     "source": [
      "Proportion of energy per appliance"
     ]
    },
    {
     "cell_type": "markdown",
     "metadata": {},
     "source": [
      "```python\n",
      "bstats.proportion_per_appliance(electric)\n",
      "```"
     ]
    },
    {
     "cell_type": "code",
     "collapsed": false,
     "input": [
      "prop = bstats.proportion_per_appliance(electric)\n",
      "prop.plot(kind='bar');"
     ],
     "language": "python",
     "metadata": {},
     "outputs": [
      {
       "ename": "AttributeError",
       "evalue": "'tuple' object has no attribute 'physical_quantity'",
       "output_type": "pyerr",
       "traceback": [
        "\u001b[1;31m---------------------------------------------------------------------------\u001b[0m\n\u001b[1;31mAttributeError\u001b[0m                            Traceback (most recent call last)",
        "\u001b[1;32m<ipython-input-8-7298c17384b1>\u001b[0m in \u001b[0;36m<module>\u001b[1;34m()\u001b[0m\n\u001b[1;32m----> 1\u001b[1;33m \u001b[0mprop\u001b[0m \u001b[1;33m=\u001b[0m \u001b[0mbstats\u001b[0m\u001b[1;33m.\u001b[0m\u001b[0mproportion_per_appliance\u001b[0m\u001b[1;33m(\u001b[0m\u001b[0melectric\u001b[0m\u001b[1;33m)\u001b[0m\u001b[1;33m\u001b[0m\u001b[0m\n\u001b[0m\u001b[0;32m      2\u001b[0m \u001b[0mprop\u001b[0m\u001b[1;33m.\u001b[0m\u001b[0mplot\u001b[0m\u001b[1;33m(\u001b[0m\u001b[0mkind\u001b[0m\u001b[1;33m=\u001b[0m\u001b[1;34m'bar'\u001b[0m\u001b[1;33m)\u001b[0m\u001b[1;33m;\u001b[0m\u001b[1;33m\u001b[0m\u001b[0m\n",
        "\u001b[1;32m/home/nipun/miniconda/lib/python2.7/site-packages/nilmtk/stats/electricity/building.pyc\u001b[0m in \u001b[0;36mproportion_per_appliance\u001b[1;34m(electricity, merge)\u001b[0m\n\u001b[0;32m     96\u001b[0m     \"\"\"\n\u001b[0;32m     97\u001b[0m     total_mains_energy, totals_per_appliance = energy_per_dataframe(\n\u001b[1;32m---> 98\u001b[1;33m         electricity)\n\u001b[0m\u001b[0;32m     99\u001b[0m     \u001b[0mprop_per_appliance\u001b[0m \u001b[1;33m=\u001b[0m \u001b[0mtotals_per_appliance\u001b[0m \u001b[1;33m/\u001b[0m \u001b[0mtotal_mains_energy\u001b[0m\u001b[1;33m\u001b[0m\u001b[0m\n\u001b[0;32m    100\u001b[0m \u001b[1;33m\u001b[0m\u001b[0m\n",
        "\u001b[1;32m/home/nipun/miniconda/lib/python2.7/site-packages/nilmtk/stats/electricity/building.pyc\u001b[0m in \u001b[0;36menergy_per_dataframe\u001b[1;34m(electricity, sample_period_multiplier, unit)\u001b[0m\n\u001b[0;32m    164\u001b[0m \u001b[1;33m\u001b[0m\u001b[0m\n\u001b[0;32m    165\u001b[0m     \u001b[1;31m# Sum split mains and DualSupply appliances\u001b[0m\u001b[1;33m\u001b[0m\u001b[1;33m\u001b[0m\u001b[0m\n\u001b[1;32m--> 166\u001b[1;33m     \u001b[0melectricity\u001b[0m \u001b[1;33m=\u001b[0m \u001b[0melectricity\u001b[0m\u001b[1;33m.\u001b[0m\u001b[0msum_split_supplies\u001b[0m\u001b[1;33m(\u001b[0m\u001b[1;33m)\u001b[0m\u001b[1;33m\u001b[0m\u001b[0m\n\u001b[0m\u001b[0;32m    167\u001b[0m \u001b[1;33m\u001b[0m\u001b[0m\n\u001b[0;32m    168\u001b[0m     \u001b[1;31m# TODO: Select common measurements. Maybe use electricity.select_common_measurements?\u001b[0m\u001b[1;33m\u001b[0m\u001b[1;33m\u001b[0m\u001b[0m\n",
        "\u001b[1;32m/home/nipun/miniconda/lib/python2.7/site-packages/nilmtk/sensors/electricity.pyc\u001b[0m in \u001b[0;36msum_split_supplies\u001b[1;34m(self)\u001b[0m\n\u001b[0;32m    527\u001b[0m         power_energy_columns = [\n\u001b[0;32m    528\u001b[0m             \u001b[0mx\u001b[0m \u001b[1;32mfor\u001b[0m \u001b[0mx\u001b[0m \u001b[1;32min\u001b[0m \u001b[0mself\u001b[0m\u001b[1;33m.\u001b[0m\u001b[0mmains\u001b[0m\u001b[1;33m.\u001b[0m\u001b[0mvalues\u001b[0m\u001b[1;33m(\u001b[0m\u001b[1;33m)\u001b[0m\u001b[1;33m[\u001b[0m\u001b[1;36m0\u001b[0m\u001b[1;33m]\u001b[0m\u001b[1;33m.\u001b[0m\u001b[0mcolumns\u001b[0m\u001b[1;33m\u001b[0m\u001b[0m\n\u001b[1;32m--> 529\u001b[1;33m             if x.physical_quantity in ['power', 'energy']]\n\u001b[0m\u001b[0;32m    530\u001b[0m \u001b[1;33m\u001b[0m\u001b[0m\n\u001b[0;32m    531\u001b[0m         non_power_energy_columns = [\n",
        "\u001b[1;31mAttributeError\u001b[0m: 'tuple' object has no attribute 'physical_quantity'"
       ]
      }
     ],
     "prompt_number": 8
    },
    {
     "cell_type": "markdown",
     "metadata": {},
     "source": [
      "### Descriptive stats of whole dataset\n",
      "\n",
      "```python\n",
      "redd.describe()\n",
      "```\n",
      "```\n",
      "NUMBER OF BUILDINGS: 6\n",
      "\n",
      "NUMBER OF APPLIANCES PER BUILDING:\n",
      "  min  =  9.00\n",
      "  mean = 16.50\n",
      "  mode = 15.00\n",
      "  max  = 23.00\n",
      "  std  =  4.31\n",
      "PROPORTION OF ENERGY SUBMETERED PER BUILDLING:\n",
      "  min  =  0.58\n",
      "  mean =  0.70\n",
      "  mode =  0.58\n",
      "  max  =  0.89\n",
      "  std  =  0.11\n",
      "DROPOUT RATE PER CHANNEL, INCLUDING LARGE GAPS:\n",
      "  min  =  0.13\n",
      "  mean =  0.58\n",
      "  mode =  0.92\n",
      "  max  =  0.92\n",
      "  std  =  0.24\n",
      "DROPOUT RATE PER CHANNEL, IGNORING LARGE GAPS:\n",
      "  min  =  0.00\n",
      "  mean =  0.10\n",
      "  mode =  0.09\n",
      "  max  =  0.17\n",
      "  std  =  0.04\n",
      "MAINS UPTIME PER BUILDING (DAYS):\n",
      "  min  =  3.60\n",
      "  mean = 15.12\n",
      "  mode =  3.60\n",
      "  max  = 19.44\n",
      "  std  =  5.43\n",
      "PROPORTION OF TIME SLICES WHERE > 70% ENERGY IS SUBMETERED:\n",
      "  min  =  0.23\n",
      "  mean =  0.64\n",
      "  mode =  0.23\n",
      "  max  =  0.98\n",
      "  std  =  0.26\n",
      "  ```"
     ]
    },
    {
     "cell_type": "heading",
     "level": 2,
     "metadata": {},
     "source": [
      "Preprocessing"
     ]
    },
    {
     "cell_type": "markdown",
     "metadata": {},
     "source": [
      "First, for reference, here's the plot from above showing missing samples:"
     ]
    },
    {
     "cell_type": "code",
     "collapsed": false,
     "input": [
      "building = redd.buildings[1]\n",
      "bstats.plot_missing_samples_using_rectangles(building.utility.electric)"
     ],
     "language": "python",
     "metadata": {},
     "outputs": [
      {
       "metadata": {},
       "output_type": "display_data",
       "png": "[encoded data removed]",
       "text": [
        "<matplotlib.figure.Figure at 0x9d41590>"
       ]
      }
     ],
     "prompt_number": 9
    },
    {
     "cell_type": "markdown",
     "metadata": {},
     "source": [
      "```python\n",
      "import nilmtk.preprocessing.electricity.building as prepb\n",
      "```"
     ]
    },
    {
     "cell_type": "markdown",
     "metadata": {},
     "source": [
      "### Select data for a specific time period\n",
      "\n",
      "```python\n",
      "building = prepb.filter_datetime(building, '7-13-2013', '8-4-2013')\n",
      "```"
     ]
    },
    {
     "cell_type": "heading",
     "level": 3,
     "metadata": {},
     "source": [
      "Resampling"
     ]
    },
    {
     "cell_type": "markdown",
     "metadata": {},
     "source": [
      "```python\n",
      "building = prepb.downsample(building, rule='1T')\n",
      "```"
     ]
    },
    {
     "cell_type": "code",
     "collapsed": false,
     "input": [
      "building = redd.buildings[1]"
     ],
     "language": "python",
     "metadata": {},
     "outputs": [],
     "prompt_number": 25
    },
    {
     "cell_type": "code",
     "collapsed": false,
     "input": [
      "building.utility.electric.mains[1,1].columns"
     ],
     "language": "python",
     "metadata": {},
     "outputs": [
      {
       "metadata": {},
       "output_type": "pyout",
       "prompt_number": 26,
       "text": [
        "MultiIndex(levels=[[u'current', u'energy', u'frequency', u'pf', u'power', u'voltage'], [u'', u'a', u'active', u'apparent', u'd', u'reactive']],\n",
        "           labels=[[5, 0, 2, 3, 3, 4, 1, 4, 1, 4, 1], [0, 0, 0, 4, 1, 2, 2, 5, 5, 3, 3]])"
       ]
      }
     ],
     "prompt_number": 26
    },
    {
     "cell_type": "code",
     "collapsed": false,
     "input": [
      "building = prepb.downsample(building, rule='1T')\n",
      "building.utility.electric = building.utility.electric.sum_split_supplies()\n",
      "electric = building.utility.electric\n",
      "bstats.plot_missing_samples_using_rectangles(electric)"
     ],
     "language": "python",
     "metadata": {},
     "outputs": [
      {
       "ename": "AttributeError",
       "evalue": "'tuple' object has no attribute 'physical_quantity'",
       "output_type": "pyerr",
       "traceback": [
        "\u001b[1;31m---------------------------------------------------------------------------\u001b[0m\n\u001b[1;31mAttributeError\u001b[0m                            Traceback (most recent call last)",
        "\u001b[1;32m<ipython-input-10-bda7be6f0c17>\u001b[0m in \u001b[0;36m<module>\u001b[1;34m()\u001b[0m\n\u001b[0;32m      1\u001b[0m \u001b[0mbuilding\u001b[0m \u001b[1;33m=\u001b[0m \u001b[0mprepb\u001b[0m\u001b[1;33m.\u001b[0m\u001b[0mdownsample\u001b[0m\u001b[1;33m(\u001b[0m\u001b[0mbuilding\u001b[0m\u001b[1;33m,\u001b[0m \u001b[0mrule\u001b[0m\u001b[1;33m=\u001b[0m\u001b[1;34m'1T'\u001b[0m\u001b[1;33m)\u001b[0m\u001b[1;33m\u001b[0m\u001b[0m\n\u001b[1;32m----> 2\u001b[1;33m \u001b[0mbuilding\u001b[0m\u001b[1;33m.\u001b[0m\u001b[0mutility\u001b[0m\u001b[1;33m.\u001b[0m\u001b[0melectric\u001b[0m \u001b[1;33m=\u001b[0m \u001b[0mbuilding\u001b[0m\u001b[1;33m.\u001b[0m\u001b[0mutility\u001b[0m\u001b[1;33m.\u001b[0m\u001b[0melectric\u001b[0m\u001b[1;33m.\u001b[0m\u001b[0msum_split_supplies\u001b[0m\u001b[1;33m(\u001b[0m\u001b[1;33m)\u001b[0m\u001b[1;33m\u001b[0m\u001b[0m\n\u001b[0m\u001b[0;32m      3\u001b[0m \u001b[0melectric\u001b[0m \u001b[1;33m=\u001b[0m \u001b[0mbuilding\u001b[0m\u001b[1;33m.\u001b[0m\u001b[0mutility\u001b[0m\u001b[1;33m.\u001b[0m\u001b[0melectric\u001b[0m\u001b[1;33m\u001b[0m\u001b[0m\n\u001b[0;32m      4\u001b[0m \u001b[0mbstats\u001b[0m\u001b[1;33m.\u001b[0m\u001b[0mplot_missing_samples_using_rectangles\u001b[0m\u001b[1;33m(\u001b[0m\u001b[0melectric\u001b[0m\u001b[1;33m)\u001b[0m\u001b[1;33m\u001b[0m\u001b[0m\n",
        "\u001b[1;32m/home/nipun/miniconda/lib/python2.7/site-packages/nilmtk/sensors/electricity.pyc\u001b[0m in \u001b[0;36msum_split_supplies\u001b[1;34m(self)\u001b[0m\n\u001b[0;32m    527\u001b[0m         power_energy_columns = [\n\u001b[0;32m    528\u001b[0m             \u001b[0mx\u001b[0m \u001b[1;32mfor\u001b[0m \u001b[0mx\u001b[0m \u001b[1;32min\u001b[0m \u001b[0mself\u001b[0m\u001b[1;33m.\u001b[0m\u001b[0mmains\u001b[0m\u001b[1;33m.\u001b[0m\u001b[0mvalues\u001b[0m\u001b[1;33m(\u001b[0m\u001b[1;33m)\u001b[0m\u001b[1;33m[\u001b[0m\u001b[1;36m0\u001b[0m\u001b[1;33m]\u001b[0m\u001b[1;33m.\u001b[0m\u001b[0mcolumns\u001b[0m\u001b[1;33m\u001b[0m\u001b[0m\n\u001b[1;32m--> 529\u001b[1;33m             if x.physical_quantity in ['power', 'energy']]\n\u001b[0m\u001b[0;32m    530\u001b[0m \u001b[1;33m\u001b[0m\u001b[0m\n\u001b[0;32m    531\u001b[0m         non_power_energy_columns = [\n",
        "\u001b[1;31mAttributeError\u001b[0m: 'tuple' object has no attribute 'physical_quantity'"
       ]
      }
     ],
     "prompt_number": 10
    },
    {
     "cell_type": "heading",
     "level": 3,
     "metadata": {},
     "source": [
      "Fill large gaps in appliance data with zeros and forward-fill small gaps"
     ]
    },
    {
     "cell_type": "markdown",
     "metadata": {},
     "source": [
      "```python\n",
      "building = prepb.fill_appliance_gaps(building)\n",
      "```"
     ]
    },
    {
     "cell_type": "code",
     "collapsed": false,
     "input": [
      "building = prepb.fill_appliance_gaps(building)\n",
      "\n",
      "# Now plot missing samples again:\n",
      "electric = building.utility.electric\n",
      "bstats.plot_missing_samples_using_rectangles(electric)"
     ],
     "language": "python",
     "metadata": {},
     "outputs": [
      {
       "output_type": "stream",
       "stream": "stderr",
       "text": [
        "Exception occurred while processing attribute=utility.electric.appliances, key=ApplianceName(name='fridge', instance=1)\n"
       ]
      },
      {
       "ename": "AttributeError",
       "evalue": "'tuple' object has no attribute 'measurement'",
       "output_type": "pyerr",
       "traceback": [
        "\u001b[1;31m---------------------------------------------------------------------------\u001b[0m\n\u001b[1;31mAttributeError\u001b[0m                            Traceback (most recent call last)",
        "\u001b[1;32m<ipython-input-11-407437f64e3c>\u001b[0m in \u001b[0;36m<module>\u001b[1;34m()\u001b[0m\n\u001b[1;32m----> 1\u001b[1;33m \u001b[0mbuilding\u001b[0m \u001b[1;33m=\u001b[0m \u001b[0mprepb\u001b[0m\u001b[1;33m.\u001b[0m\u001b[0mfill_appliance_gaps\u001b[0m\u001b[1;33m(\u001b[0m\u001b[0mbuilding\u001b[0m\u001b[1;33m)\u001b[0m\u001b[1;33m\u001b[0m\u001b[0m\n\u001b[0m\u001b[0;32m      2\u001b[0m \u001b[1;33m\u001b[0m\u001b[0m\n\u001b[0;32m      3\u001b[0m \u001b[1;31m# Now plot missing samples again:\u001b[0m\u001b[1;33m\u001b[0m\u001b[1;33m\u001b[0m\u001b[0m\n\u001b[0;32m      4\u001b[0m \u001b[0melectric\u001b[0m \u001b[1;33m=\u001b[0m \u001b[0mbuilding\u001b[0m\u001b[1;33m.\u001b[0m\u001b[0mutility\u001b[0m\u001b[1;33m.\u001b[0m\u001b[0melectric\u001b[0m\u001b[1;33m\u001b[0m\u001b[0m\n\u001b[0;32m      5\u001b[0m \u001b[0mbstats\u001b[0m\u001b[1;33m.\u001b[0m\u001b[0mplot_missing_samples_using_rectangles\u001b[0m\u001b[1;33m(\u001b[0m\u001b[0melectric\u001b[0m\u001b[1;33m)\u001b[0m\u001b[1;33m\u001b[0m\u001b[0m\n",
        "\u001b[1;32m/home/nipun/miniconda/lib/python2.7/site-packages/nilmtk/preprocessing/electricity/building.pyc\u001b[0m in \u001b[0;36mfill_appliance_gaps\u001b[1;34m(building, sample_period_multiplier)\u001b[0m\n\u001b[0;32m    190\u001b[0m     \u001b[0mAPPLIANCES\u001b[0m \u001b[1;33m=\u001b[0m \u001b[1;33m[\u001b[0m\u001b[1;34m'utility.electric.appliances'\u001b[0m\u001b[1;33m]\u001b[0m\u001b[1;33m\u001b[0m\u001b[0m\n\u001b[0;32m    191\u001b[0m     new_building = apply_func_to_values_of_dicts(building, single_insert_zeros,\n\u001b[1;32m--> 192\u001b[1;33m                                                  APPLIANCES)\n\u001b[0m\u001b[0;32m    193\u001b[0m \u001b[1;33m\u001b[0m\u001b[0m\n\u001b[0;32m    194\u001b[0m     \u001b[1;31m# Now fill forward\u001b[0m\u001b[1;33m\u001b[0m\u001b[1;33m\u001b[0m\u001b[0m\n",
        "\u001b[1;32m/home/nipun/miniconda/lib/python2.7/site-packages/nilmtk/utils.pyc\u001b[0m in \u001b[0;36mapply_func_to_values_of_dicts\u001b[1;34m(obj, func, dict_names)\u001b[0m\n\u001b[0;32m    152\u001b[0m         \u001b[1;32mfor\u001b[0m \u001b[0mkey\u001b[0m\u001b[1;33m,\u001b[0m \u001b[0mvalue\u001b[0m \u001b[1;32min\u001b[0m \u001b[0mdict_\u001b[0m\u001b[1;33m.\u001b[0m\u001b[0miteritems\u001b[0m\u001b[1;33m(\u001b[0m\u001b[1;33m)\u001b[0m\u001b[1;33m:\u001b[0m\u001b[1;33m\u001b[0m\u001b[0m\n\u001b[0;32m    153\u001b[0m             \u001b[1;32mtry\u001b[0m\u001b[1;33m:\u001b[0m\u001b[1;33m\u001b[0m\u001b[0m\n\u001b[1;32m--> 154\u001b[1;33m                 \u001b[0mdict_\u001b[0m\u001b[1;33m[\u001b[0m\u001b[0mkey\u001b[0m\u001b[1;33m]\u001b[0m \u001b[1;33m=\u001b[0m \u001b[0mfunc\u001b[0m\u001b[1;33m(\u001b[0m\u001b[0mvalue\u001b[0m\u001b[1;33m)\u001b[0m\u001b[1;33m\u001b[0m\u001b[0m\n\u001b[0m\u001b[0;32m    155\u001b[0m             \u001b[1;32mexcept\u001b[0m\u001b[1;33m:\u001b[0m\u001b[1;33m\u001b[0m\u001b[0m\n\u001b[0;32m    156\u001b[0m                 print(\"Exception occurred while processing attribute={}, key={}\"\n",
        "\u001b[1;32m/home/nipun/miniconda/lib/python2.7/site-packages/nilmtk/preprocessing/electricity/building.pyc\u001b[0m in \u001b[0;36m<lambda>\u001b[1;34m(df)\u001b[0m\n\u001b[0;32m    186\u001b[0m     \u001b[1;31m# \"book-end\" each gap with a zero at each end\u001b[0m\u001b[1;33m\u001b[0m\u001b[1;33m\u001b[0m\u001b[0m\n\u001b[0;32m    187\u001b[0m     single_insert_zeros = lambda df: single.insert_zeros(\n\u001b[1;32m--> 188\u001b[1;33m         df, sample_period_multiplier=sample_period_multiplier)\n\u001b[0m\u001b[0;32m    189\u001b[0m \u001b[1;33m\u001b[0m\u001b[0m\n\u001b[0;32m    190\u001b[0m     \u001b[0mAPPLIANCES\u001b[0m \u001b[1;33m=\u001b[0m \u001b[1;33m[\u001b[0m\u001b[1;34m'utility.electric.appliances'\u001b[0m\u001b[1;33m]\u001b[0m\u001b[1;33m\u001b[0m\u001b[0m\n",
        "\u001b[1;32m/home/nipun/miniconda/lib/python2.7/site-packages/nilmtk/preprocessing/electricity/single.pyc\u001b[0m in \u001b[0;36minsert_zeros\u001b[1;34m(single_appliance_dataframe, sample_period_multiplier, round_sample_period)\u001b[0m\n\u001b[0;32m    121\u001b[0m             \u001b[0mphysical_quantity\u001b[0m \u001b[1;33m=\u001b[0m \u001b[0mcol\u001b[0m\u001b[1;33m.\u001b[0m\u001b[0mphysical_quantity\u001b[0m\u001b[1;33m\u001b[0m\u001b[0m\n\u001b[0;32m    122\u001b[0m         \u001b[1;32mexcept\u001b[0m \u001b[0mAttributeError\u001b[0m\u001b[1;33m:\u001b[0m \u001b[1;31m# DualSupply\u001b[0m\u001b[1;33m\u001b[0m\u001b[0m\n\u001b[1;32m--> 123\u001b[1;33m             \u001b[0mphysical_quantity\u001b[0m \u001b[1;33m=\u001b[0m \u001b[0mcol\u001b[0m\u001b[1;33m.\u001b[0m\u001b[0mmeasurement\u001b[0m\u001b[1;33m.\u001b[0m\u001b[0mphysical_quantity\u001b[0m\u001b[1;33m\u001b[0m\u001b[0m\n\u001b[0m\u001b[0;32m    124\u001b[0m         \u001b[1;32mif\u001b[0m \u001b[0mphysical_quantity\u001b[0m \u001b[1;33m==\u001b[0m \u001b[1;34m'power'\u001b[0m\u001b[1;33m:\u001b[0m\u001b[1;33m\u001b[0m\u001b[0m\n\u001b[0;32m    125\u001b[0m             \u001b[0mpower_columns\u001b[0m\u001b[1;33m.\u001b[0m\u001b[0mappend\u001b[0m\u001b[1;33m(\u001b[0m\u001b[0mcol\u001b[0m\u001b[1;33m)\u001b[0m\u001b[1;33m\u001b[0m\u001b[0m\n",
        "\u001b[1;31mAttributeError\u001b[0m: 'tuple' object has no attribute 'measurement'"
       ]
      }
     ],
     "prompt_number": 11
    },
    {
     "cell_type": "heading",
     "level": 3,
     "metadata": {},
     "source": [
      "Detect gaps in mains and mask these out from appliance data"
     ]
    },
    {
     "cell_type": "markdown",
     "metadata": {},
     "source": [
      "```python\n",
      "building = prepb.drop_missing_mains(building)\n",
      "building = prepb.make_common_index(building)\n",
      "```"
     ]
    },
    {
     "cell_type": "code",
     "collapsed": false,
     "input": [
      "building = prepb.drop_missing_mains(building)\n",
      "building = prepb.make_common_index(building)\n",
      "electric = building.utility.electric\n",
      "bstats.plot_missing_samples_using_rectangles(electric)"
     ],
     "language": "python",
     "metadata": {},
     "outputs": [
      {
       "metadata": {},
       "output_type": "display_data",
       "png": "[encoded data removed]",
       "text": [
        "<matplotlib.figure.Figure at 0x48048d0>"
       ]
      }
     ],
     "prompt_number": 32
    },
    {
     "cell_type": "heading",
     "level": 3,
     "metadata": {},
     "source": [
      "Remove appliances which contribute less than 5% energy"
     ]
    },
    {
     "cell_type": "markdown",
     "metadata": {},
     "source": [
      "```python\n",
      "building = prepb.filter_contribution_less_than_x(building, x=5)\n",
      "```"
     ]
    },
    {
     "cell_type": "code",
     "collapsed": false,
     "input": [
      "mains = building.utility.electric.mains[(1,1)]\n",
      "mains.rename(columns={Measurement('power','apparent'): \n",
      "                      Measurement('power','active')}, \n",
      "             inplace=True)\n",
      "\n",
      "building = prepb.filter_contribution_less_than_x(building, x=5)"
     ],
     "language": "python",
     "metadata": {},
     "outputs": [
      {
       "output_type": "stream",
       "stream": "stdout",
       "text": [
        "Common Measurement:  Measurement(physical_quantity='power', type='active')\n"
       ]
      }
     ],
     "prompt_number": 33
    },
    {
     "cell_type": "code",
     "collapsed": false,
     "input": [
      "electric = building.utility.electric\n",
      "bstats.plot_missing_samples_using_rectangles(electric)"
     ],
     "language": "python",
     "metadata": {},
     "outputs": [
      {
       "metadata": {},
       "output_type": "display_data",
       "png": "[encoded data removed]",
       "text": [
        "<matplotlib.figure.Figure at 0x4956b50>"
       ]
      }
     ],
     "prompt_number": 34
    },
    {
     "cell_type": "heading",
     "level": 2,
     "metadata": {},
     "source": [
      "Disaggregation"
     ]
    },
    {
     "cell_type": "heading",
     "level": 3,
     "metadata": {},
     "source": [
      "Split a building into training and test sets"
     ]
    },
    {
     "cell_type": "markdown",
     "metadata": {},
     "source": [
      "```python\n",
      "from nilmtk.cross_validation import train_test_split\n",
      "train, test = train_test_split(building, train_size = 0.5)\n",
      "```"
     ]
    },
    {
     "cell_type": "code",
     "collapsed": false,
     "input": [
      "train, test = train_test_split(building, train_size = 0.5)"
     ],
     "language": "python",
     "metadata": {},
     "outputs": [],
     "prompt_number": 37
    },
    {
     "cell_type": "heading",
     "level": 3,
     "metadata": {},
     "source": [
      "Training"
     ]
    },
    {
     "cell_type": "markdown",
     "metadata": {},
     "source": [
      "1. Choose the disaggregator\n",
      "2. Supply features to train on\n",
      "3. Train!\n",
      "\n",
      "```python\n",
      "from nilmtk.disaggregate.co_1d import CO_1d\n",
      "from nilmtk.disaggregate.fhmm_exact import FHMM\n",
      "co = CO_1d()\n",
      "co.train(train, disagg_features=[DISAGG_FEATURE])\n",
      "```"
     ]
    },
    {
     "cell_type": "code",
     "collapsed": false,
     "input": [
      "%%capture\n",
      "from nilmtk.disaggregate.co_1d import CO_1d\n",
      "from nilmtk.disaggregate.fhmm_exact import FHMM\n",
      "DISAGG_FEATURE = Measurement('power', 'active')\n",
      "\n",
      "co = CO_1d()\n",
      "co.train(train, disagg_features=[DISAGG_FEATURE])\n",
      "\n",
      "fhmm = FHMM()\n",
      "fhmm.train(train, disagg_features=[DISAGG_FEATURE])\n",
      "# Below is the learnt model"
     ],
     "language": "python",
     "metadata": {},
     "outputs": [],
     "prompt_number": 56
    },
    {
     "cell_type": "heading",
     "level": 3,
     "metadata": {},
     "source": [
      "Disaggregation"
     ]
    },
    {
     "cell_type": "markdown",
     "metadata": {},
     "source": [
      "```python\n",
      "fhmm.disaggregate(test)\n",
      "```"
     ]
    },
    {
     "cell_type": "code",
     "collapsed": false,
     "input": [
      "%%capture \n",
      "co.disaggregate(test)\n",
      "fhmm.disaggregate(test)\n",
      "co_power = co.predictions\n",
      "fhmm_power = fhmm.predictions"
     ],
     "language": "python",
     "metadata": {},
     "outputs": [],
     "prompt_number": 58
    },
    {
     "cell_type": "code",
     "collapsed": false,
     "input": [
      "co_power.head()"
     ],
     "language": "python",
     "metadata": {},
     "outputs": [
      {
       "html": [
        "<div style=\"max-height:1000px;max-width:1500px;overflow:auto;\">\n",
        "<table border=\"1\" class=\"dataframe\">\n",
        "  <thead>\n",
        "    <tr style=\"text-align: right;\">\n",
        "      <th></th>\n",
        "      <th>(dishwasher, 1)</th>\n",
        "      <th>(fridge, 1)</th>\n",
        "      <th>(kitchen outlets, 1)</th>\n",
        "      <th>(kitchen outlets, 2)</th>\n",
        "      <th>(lighting, 1)</th>\n",
        "      <th>(microwave, 1)</th>\n",
        "      <th>(washer dryer, 1)</th>\n",
        "    </tr>\n",
        "  </thead>\n",
        "  <tbody>\n",
        "    <tr>\n",
        "      <th>2011-04-27 19:10:00-04:00</th>\n",
        "      <td> 0</td>\n",
        "      <td> 185</td>\n",
        "      <td> 21</td>\n",
        "      <td> 29</td>\n",
        "      <td> 0</td>\n",
        "      <td> 0</td>\n",
        "      <td> 0</td>\n",
        "    </tr>\n",
        "    <tr>\n",
        "      <th>2011-04-27 19:11:00-04:00</th>\n",
        "      <td> 0</td>\n",
        "      <td> 185</td>\n",
        "      <td> 21</td>\n",
        "      <td> 29</td>\n",
        "      <td> 0</td>\n",
        "      <td> 0</td>\n",
        "      <td> 0</td>\n",
        "    </tr>\n",
        "    <tr>\n",
        "      <th>2011-04-27 19:12:00-04:00</th>\n",
        "      <td> 0</td>\n",
        "      <td> 185</td>\n",
        "      <td> 21</td>\n",
        "      <td> 29</td>\n",
        "      <td> 0</td>\n",
        "      <td> 0</td>\n",
        "      <td> 0</td>\n",
        "    </tr>\n",
        "    <tr>\n",
        "      <th>2011-04-27 19:13:00-04:00</th>\n",
        "      <td> 0</td>\n",
        "      <td> 185</td>\n",
        "      <td> 21</td>\n",
        "      <td> 29</td>\n",
        "      <td> 0</td>\n",
        "      <td> 0</td>\n",
        "      <td> 0</td>\n",
        "    </tr>\n",
        "    <tr>\n",
        "      <th>2011-04-27 19:14:00-04:00</th>\n",
        "      <td> 0</td>\n",
        "      <td> 185</td>\n",
        "      <td> 21</td>\n",
        "      <td> 29</td>\n",
        "      <td> 0</td>\n",
        "      <td> 0</td>\n",
        "      <td> 0</td>\n",
        "    </tr>\n",
        "  </tbody>\n",
        "</table>\n",
        "<p>5 rows \u00d7 7 columns</p>\n",
        "</div>"
       ],
       "metadata": {},
       "output_type": "pyout",
       "prompt_number": 59,
       "text": [
        "                           (dishwasher, 1)  (fridge, 1)  (kitchen outlets, 1)  \\\n",
        "2011-04-27 19:10:00-04:00                0          185                    21   \n",
        "2011-04-27 19:11:00-04:00                0          185                    21   \n",
        "2011-04-27 19:12:00-04:00                0          185                    21   \n",
        "2011-04-27 19:13:00-04:00                0          185                    21   \n",
        "2011-04-27 19:14:00-04:00                0          185                    21   \n",
        "\n",
        "                           (kitchen outlets, 2)  (lighting, 1)  \\\n",
        "2011-04-27 19:10:00-04:00                    29              0   \n",
        "2011-04-27 19:11:00-04:00                    29              0   \n",
        "2011-04-27 19:12:00-04:00                    29              0   \n",
        "2011-04-27 19:13:00-04:00                    29              0   \n",
        "2011-04-27 19:14:00-04:00                    29              0   \n",
        "\n",
        "                           (microwave, 1)  (washer dryer, 1)  \n",
        "2011-04-27 19:10:00-04:00               0                  0  \n",
        "2011-04-27 19:11:00-04:00               0                  0  \n",
        "2011-04-27 19:12:00-04:00               0                  0  \n",
        "2011-04-27 19:13:00-04:00               0                  0  \n",
        "2011-04-27 19:14:00-04:00               0                  0  \n",
        "\n",
        "[5 rows x 7 columns]"
       ]
      }
     ],
     "prompt_number": 59
    },
    {
     "cell_type": "code",
     "collapsed": false,
     "input": [
      "fhmm_power.head()"
     ],
     "language": "python",
     "metadata": {},
     "outputs": [
      {
       "html": [
        "<div style=\"max-height:1000px;max-width:1500px;overflow:auto;\">\n",
        "<table border=\"1\" class=\"dataframe\">\n",
        "  <thead>\n",
        "    <tr style=\"text-align: right;\">\n",
        "      <th></th>\n",
        "      <th>(dishwasher, 1)</th>\n",
        "      <th>(fridge, 1)</th>\n",
        "      <th>(kitchen outlets, 1)</th>\n",
        "      <th>(kitchen outlets, 2)</th>\n",
        "      <th>(lighting, 1)</th>\n",
        "      <th>(microwave, 1)</th>\n",
        "      <th>(washer dryer, 1)</th>\n",
        "    </tr>\n",
        "  </thead>\n",
        "  <tbody>\n",
        "    <tr>\n",
        "      <th>2011-04-27 19:10:00-04:00</th>\n",
        "      <td> 0</td>\n",
        "      <td> 182</td>\n",
        "      <td> 21</td>\n",
        "      <td> 21</td>\n",
        "      <td> 1</td>\n",
        "      <td> 4</td>\n",
        "      <td> 0</td>\n",
        "    </tr>\n",
        "    <tr>\n",
        "      <th>2011-04-27 19:11:00-04:00</th>\n",
        "      <td> 0</td>\n",
        "      <td> 182</td>\n",
        "      <td> 21</td>\n",
        "      <td> 21</td>\n",
        "      <td> 1</td>\n",
        "      <td> 4</td>\n",
        "      <td> 0</td>\n",
        "    </tr>\n",
        "    <tr>\n",
        "      <th>2011-04-27 19:12:00-04:00</th>\n",
        "      <td> 0</td>\n",
        "      <td> 182</td>\n",
        "      <td> 21</td>\n",
        "      <td> 21</td>\n",
        "      <td> 1</td>\n",
        "      <td> 4</td>\n",
        "      <td> 0</td>\n",
        "    </tr>\n",
        "    <tr>\n",
        "      <th>2011-04-27 19:13:00-04:00</th>\n",
        "      <td> 0</td>\n",
        "      <td> 182</td>\n",
        "      <td> 21</td>\n",
        "      <td> 21</td>\n",
        "      <td> 1</td>\n",
        "      <td> 4</td>\n",
        "      <td> 0</td>\n",
        "    </tr>\n",
        "    <tr>\n",
        "      <th>2011-04-27 19:14:00-04:00</th>\n",
        "      <td> 0</td>\n",
        "      <td> 182</td>\n",
        "      <td> 21</td>\n",
        "      <td> 21</td>\n",
        "      <td> 1</td>\n",
        "      <td> 4</td>\n",
        "      <td> 0</td>\n",
        "    </tr>\n",
        "  </tbody>\n",
        "</table>\n",
        "<p>5 rows \u00d7 7 columns</p>\n",
        "</div>"
       ],
       "metadata": {},
       "output_type": "pyout",
       "prompt_number": 81,
       "text": [
        "                           (dishwasher, 1)  (fridge, 1)  (kitchen outlets, 1)  \\\n",
        "2011-04-27 19:10:00-04:00                0          182                    21   \n",
        "2011-04-27 19:11:00-04:00                0          182                    21   \n",
        "2011-04-27 19:12:00-04:00                0          182                    21   \n",
        "2011-04-27 19:13:00-04:00                0          182                    21   \n",
        "2011-04-27 19:14:00-04:00                0          182                    21   \n",
        "\n",
        "                           (kitchen outlets, 2)  (lighting, 1)  \\\n",
        "2011-04-27 19:10:00-04:00                    21              1   \n",
        "2011-04-27 19:11:00-04:00                    21              1   \n",
        "2011-04-27 19:12:00-04:00                    21              1   \n",
        "2011-04-27 19:13:00-04:00                    21              1   \n",
        "2011-04-27 19:14:00-04:00                    21              1   \n",
        "\n",
        "                           (microwave, 1)  (washer dryer, 1)  \n",
        "2011-04-27 19:10:00-04:00               4                  0  \n",
        "2011-04-27 19:11:00-04:00               4                  0  \n",
        "2011-04-27 19:12:00-04:00               4                  0  \n",
        "2011-04-27 19:13:00-04:00               4                  0  \n",
        "2011-04-27 19:14:00-04:00               4                  0  \n",
        "\n",
        "[5 rows x 7 columns]"
       ]
      }
     ],
     "prompt_number": 81
    },
    {
     "cell_type": "heading",
     "level": 2,
     "metadata": {},
     "source": [
      "Metrics"
     ]
    },
    {
     "cell_type": "markdown",
     "metadata": {},
     "source": [
      "```python\n",
      "from nilmtk.metrics import (mean_normalized_error_power, \n",
      "                            fraction_energy_assigned_correctly, \n",
      "                            f_score,\n",
      "                            rms_error_power)\n",
      "```"
     ]
    },
    {
     "cell_type": "code",
     "collapsed": false,
     "input": [
      "metrics = {\n",
      "    'mean normalized error power':\n",
      "          mean_normalized_error_power,\n",
      "    'fraction energy assigned correctly': \n",
      "          fraction_energy_assigned_correctly,\n",
      "    'f score': f_score,\n",
      "    'RMS Error Power': rms_error_power\n",
      "}"
     ],
     "language": "python",
     "metadata": {},
     "outputs": [],
     "prompt_number": 41
    },
    {
     "cell_type": "code",
     "collapsed": false,
     "input": [
      "for metric_name, metric_func in metrics.iteritems():\n",
      "    result = metric_func(predicted_power, ground_truth_power)\n",
      "    display(HTML('<h5>' + metric_name + '</h5>'))\n",
      "    if isinstance(result, dict):\n",
      "        pretty_print_dict(result)\n",
      "    else:\n",
      "        print(result)\n",
      "    print()"
     ],
     "language": "python",
     "metadata": {},
     "outputs": [
      {
       "html": [
        "<h5>RMS Error Power</h5>"
       ],
       "metadata": {},
       "output_type": "display_data",
       "text": [
        "<IPython.core.display.HTML at 0x7f4067ce3ed0>"
       ]
      },
      {
       "html": [
        "<ul><li><strong>ApplianceName(name='fridge', instance=1)</strong>: 110.208348899</li><li><strong>ApplianceName(name='washer dryer', instance=1)</strong>: 216.400642527</li><li><strong>ApplianceName(name='kitchen outlets', instance=2)</strong>: 18.8756186696</li><li><strong>ApplianceName(name='kitchen outlets', instance=1)</strong>: 10.5264942354</li><li><strong>ApplianceName(name='lighting', instance=1)</strong>: 69.2372594931</li><li><strong>ApplianceName(name='dishwasher', instance=1)</strong>: 221.145976367</li><li><strong>ApplianceName(name='microwave', instance=1)</strong>: 223.294611141</li></ul>"
       ],
       "metadata": {},
       "output_type": "display_data",
       "text": [
        "<IPython.core.display.HTML at 0x7f4067ce3510>"
       ]
      },
      {
       "output_type": "stream",
       "stream": "stdout",
       "text": [
        "\n"
       ]
      },
      {
       "html": [
        "<h5>f score</h5>"
       ],
       "metadata": {},
       "output_type": "display_data",
       "text": [
        "<IPython.core.display.HTML at 0x7f4067ce3cd0>"
       ]
      },
      {
       "html": [
        "<ul><li><strong>ApplianceName(name='fridge', instance=1)</strong>: 0.486390231493</li><li><strong>ApplianceName(name='washer dryer', instance=1)</strong>: 0.692607003891</li><li><strong>ApplianceName(name='kitchen outlets', instance=2)</strong>: 0.0</li><li><strong>ApplianceName(name='kitchen outlets', instance=1)</strong>: 0.0</li><li><strong>ApplianceName(name='lighting', instance=1)</strong>: 0.517505876531</li><li><strong>ApplianceName(name='dishwasher', instance=1)</strong>: 0.236493374108</li><li><strong>ApplianceName(name='microwave', instance=1)</strong>: 0.25</li></ul>"
       ],
       "metadata": {},
       "output_type": "display_data",
       "text": [
        "<IPython.core.display.HTML at 0x7f40b219e7d0>"
       ]
      },
      {
       "output_type": "stream",
       "stream": "stdout",
       "text": [
        "\n"
       ]
      },
      {
       "html": [
        "<h5>fraction energy assigned correctly</h5>"
       ],
       "metadata": {},
       "output_type": "display_data",
       "text": [
        "<IPython.core.display.HTML at 0x7f40b219e6d0>"
       ]
      },
      {
       "output_type": "stream",
       "stream": "stdout",
       "text": [
        "0.771400439401\n",
        "\n"
       ]
      },
      {
       "html": [
        "<h5>mean normalized error power</h5>"
       ],
       "metadata": {},
       "output_type": "display_data",
       "text": [
        "<IPython.core.display.HTML at 0x7f4067d8a590>"
       ]
      },
      {
       "html": [
        "<ul><li><strong>ApplianceName(name='fridge', instance=1)</strong>: 1.60618649799</li><li><strong>ApplianceName(name='washer dryer', instance=1)</strong>: 0.703450115919</li><li><strong>ApplianceName(name='kitchen outlets', instance=2)</strong>: 0.714609954031</li><li><strong>ApplianceName(name='kitchen outlets', instance=1)</strong>: 0.516469554455</li><li><strong>ApplianceName(name='lighting', instance=1)</strong>: 1.36871998661</li><li><strong>ApplianceName(name='dishwasher', instance=1)</strong>: 2.85568760678</li><li><strong>ApplianceName(name='microwave', instance=1)</strong>: 3.57270358602</li></ul>"
       ],
       "metadata": {},
       "output_type": "display_data",
       "text": [
        "<IPython.core.display.HTML at 0x7f4067d8a750>"
       ]
      },
      {
       "output_type": "stream",
       "stream": "stdout",
       "text": [
        "\n"
       ]
      }
     ],
     "prompt_number": 42
    },
    {
     "cell_type": "code",
     "collapsed": false,
     "input": [
      "from IPython.core.display import HTML\n",
      "def css_styling():\n",
      "    styles = open(\"custom.css\", \"r\").read()\n",
      "    return HTML(styles)\n",
      "css_styling()"
     ],
     "language": "python",
     "metadata": {},
     "outputs": [
      {
       "html": [
        "<style>\n",
        "    @font-face {\n",
        "        font-family: \"Computer Modern\";\n",
        "        src: url('http://mirrors.ctan.org/fonts/cm-unicode/fonts/otf/cmunss.otf');\n",
        "    }\n",
        "    div.cell{\n",
        "        width:800px;\n",
        "        margin-left:16% !important;\n",
        "        margin-right:auto;\n",
        "    }\n",
        "    \n",
        "    \n",
        "    div.text_cell_render{\n",
        "        font-family: Computer Modern, \"Helvetica Neue\", Arial, Helvetica, Geneva, sans-serif;\n",
        "        line-height: 145%;\n",
        "        font-size: 130%;\n",
        "        width:800px;\n",
        "        margin-left:auto;\n",
        "        margin-right:auto;\n",
        "    }\n",
        "    .CodeMirror{\n",
        "            font-family: \"Source Code Pro\", source-code-pro,Consolas, monospace;\n",
        "    }\n",
        "    .prompt{\n",
        "        display: None;\n",
        "    }\n",
        "    \n",
        "    \n",
        "    .warning{\n",
        "        color: rgb( 240, 20, 20 )\n",
        "        }  \n",
        "</style>\n",
        "<script>\n",
        "    MathJax.Hub.Config({\n",
        "                        TeX: {\n",
        "                           extensions: [\"AMSmath.js\"]\n",
        "                           },\n",
        "                tex2jax: {\n",
        "                    inlineMath: [ ['$','$'], [\"\\\\(\",\"\\\\)\"] ],\n",
        "                    displayMath: [ ['$$','$$'], [\"\\\\[\",\"\\\\]\"] ]\n",
        "                },\n",
        "                displayAlign: 'center', // Change this to 'center' to center equations.\n",
        "                \"HTML-CSS\": {\n",
        "                    styles: {'.MathJax_Display': {\"margin\": 4}}\n",
        "                }\n",
        "        });\n",
        "</script>\n"
       ],
       "metadata": {},
       "output_type": "pyout",
       "prompt_number": 1,
       "text": [
        "<IPython.core.display.HTML at 0x7f0d81d37950>"
       ]
      }
     ],
     "prompt_number": 1
    }
   ],
   "metadata": {}
  }
 ]
}