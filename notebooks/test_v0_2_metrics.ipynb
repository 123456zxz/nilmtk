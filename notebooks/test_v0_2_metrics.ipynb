{
 "metadata": {
  "name": "",
  "signature": "sha256:2ae286c4bd340ef4d8cea0ef226554692cb042537aa7b481a607b8f8d16f721a"
 },
 "nbformat": 3,
 "nbformat_minor": 0,
 "worksheets": [
  {
   "cells": [
    {
     "cell_type": "code",
     "collapsed": false,
     "input": [
      "from nilmtk import DataSet, MeterGroup\n",
      "\n",
      "predictions_dataset = DataSet('output.h5')\n",
      "ground_truth_dataset = DataSet('redd.h5')"
     ],
     "language": "python",
     "metadata": {},
     "outputs": [
      {
       "output_type": "stream",
       "stream": "stderr",
       "text": [
        "/home/jack/workspace/python/nilmtk/nilmtk/metergroup.py:45: RuntimeWarning: Building 1 has an empty 'appliances' list.\n",
        "  .format(building_id.instance), RuntimeWarning)\n"
       ]
      }
     ],
     "prompt_number": 1
    },
    {
     "cell_type": "code",
     "collapsed": false,
     "input": [
      "predictions_metergroup = predictions_dataset.buildings[1].elec\n",
      "ground_truth_metergroup = MeterGroup.from_other_metergroup(predictions_metergroup, 'REDD')"
     ],
     "language": "python",
     "metadata": {},
     "outputs": [],
     "prompt_number": 2
    },
    {
     "cell_type": "code",
     "collapsed": false,
     "input": [
      "predictions_metergroup"
     ],
     "language": "python",
     "metadata": {},
     "outputs": [
      {
       "metadata": {},
       "output_type": "pyout",
       "prompt_number": 3,
       "text": [
        "MeterGroup(meters=\n",
        "  ElecMeter(instance=(1, 2), building=1, dataset='NILMTK_CO_2014-07-09T12:56:52', site_meter, appliances=[])\n",
        "  ElecMeter(instance=5, building=1, dataset='NILMTK_CO_2014-07-09T12:56:52', appliances=[])\n",
        "  ElecMeter(instance=6, building=1, dataset='NILMTK_CO_2014-07-09T12:56:52', appliances=[])\n",
        "  ElecMeter(instance=7, building=1, dataset='NILMTK_CO_2014-07-09T12:56:52', appliances=[])\n",
        "  ElecMeter(instance=8, building=1, dataset='NILMTK_CO_2014-07-09T12:56:52', appliances=[])\n",
        "  ElecMeter(instance=9, building=1, dataset='NILMTK_CO_2014-07-09T12:56:52', appliances=[])\n",
        "  ElecMeter(instance=11, building=1, dataset='NILMTK_CO_2014-07-09T12:56:52', appliances=[])\n",
        "  ElecMeter(instance=12, building=1, dataset='NILMTK_CO_2014-07-09T12:56:52', appliances=[])\n",
        "  ElecMeter(instance=13, building=1, dataset='NILMTK_CO_2014-07-09T12:56:52', appliances=[])\n",
        "  ElecMeter(instance=14, building=1, dataset='NILMTK_CO_2014-07-09T12:56:52', appliances=[])\n",
        "  ElecMeter(instance=15, building=1, dataset='NILMTK_CO_2014-07-09T12:56:52', appliances=[])\n",
        "  ElecMeter(instance=16, building=1, dataset='NILMTK_CO_2014-07-09T12:56:52', appliances=[])\n",
        "  ElecMeter(instance=17, building=1, dataset='NILMTK_CO_2014-07-09T12:56:52', appliances=[])\n",
        "  ElecMeter(instance=18, building=1, dataset='NILMTK_CO_2014-07-09T12:56:52', appliances=[])\n",
        "  ElecMeter(instance=19, building=1, dataset='NILMTK_CO_2014-07-09T12:56:52', appliances=[])\n",
        "  ElecMeter(instance=(10, 20), building=1, dataset='NILMTK_CO_2014-07-09T12:56:52', appliances=[])\n",
        "  ElecMeter(instance=(3, 4), building=1, dataset='NILMTK_CO_2014-07-09T12:56:52', appliances=[])\n",
        ")"
       ]
      }
     ],
     "prompt_number": 3
    },
    {
     "cell_type": "code",
     "collapsed": false,
     "input": [
      "ground_truth_metergroup"
     ],
     "language": "python",
     "metadata": {},
     "outputs": [
      {
       "metadata": {},
       "output_type": "pyout",
       "prompt_number": 4,
       "text": [
        "MeterGroup(meters=\n",
        "  ElecMeter(instance=18, building=1, dataset='REDD', appliances=[Appliance(type='light', instance=3)])\n",
        "  ElecMeter(instance=11, building=1, dataset='REDD', appliances=[Appliance(type='microwave', instance=1)])\n",
        "  ElecMeter(instance=17, building=1, dataset='REDD', appliances=[Appliance(type='light', instance=2)])\n",
        "  ElecMeter(instance=13, building=1, dataset='REDD', appliances=[Appliance(type='electric space heater', instance=1)])\n",
        "  ElecMeter(instance=16, building=1, dataset='REDD', appliances=[Appliance(type='sockets', instance=4)])\n",
        "  ElecMeter(instance=9, building=1, dataset='REDD', appliances=[Appliance(type='light', instance=1)])\n",
        "  ElecMeter(instance=15, building=1, dataset='REDD', appliances=[Appliance(type='sockets', instance=3)])\n",
        "  ElecMeter(instance=12, building=1, dataset='REDD', appliances=[Appliance(type='unknown', instance=1)])\n",
        "  ElecMeter(instance=5, building=1, dataset='REDD', appliances=[Appliance(type='fridge', instance=1)])\n",
        "  ElecMeter(instance=8, building=1, dataset='REDD', appliances=[Appliance(type='sockets', instance=2)])\n",
        "  ElecMeter(instance=14, building=1, dataset='REDD', appliances=[Appliance(type='electric stove', instance=1)])\n",
        "  ElecMeter(instance=7, building=1, dataset='REDD', appliances=[Appliance(type='sockets', instance=1)])\n",
        "  MeterGroup(meters=\n",
        "    ElecMeter(instance=3, building=1, dataset='REDD', appliances=[Appliance(type='electric oven', instance=1)])\n",
        "    ElecMeter(instance=4, building=1, dataset='REDD', appliances=[Appliance(type='electric oven', instance=1)])\n",
        "  )\n",
        "  ElecMeter(instance=19, building=1, dataset='REDD', appliances=[Appliance(type='unknown', instance=2)])\n",
        "  MeterGroup(meters=\n",
        "    ElecMeter(instance=2, building=1, dataset='REDD', site_meter, appliances=[])\n",
        "    ElecMeter(instance=1, building=1, dataset='REDD', site_meter, appliances=[])\n",
        "  )\n",
        "  ElecMeter(instance=6, building=1, dataset='REDD', appliances=[Appliance(type='dish washer', instance=1)])\n",
        "  MeterGroup(meters=\n",
        "    ElecMeter(instance=10, building=1, dataset='REDD', appliances=[Appliance(type='washer dryer', instance=1)])\n",
        "    ElecMeter(instance=20, building=1, dataset='REDD', appliances=[Appliance(type='washer dryer', instance=1)])\n",
        "  )\n",
        ")"
       ]
      }
     ],
     "prompt_number": 4
    },
    {
     "cell_type": "code",
     "collapsed": false,
     "input": [
      "ground_truth_metergroup.mains()"
     ],
     "language": "python",
     "metadata": {},
     "outputs": [
      {
       "metadata": {},
       "output_type": "pyout",
       "prompt_number": 5,
       "text": [
        "MeterGroup(meters=\n",
        "  ElecMeter(instance=2, building=1, dataset='REDD', site_meter, appliances=[])\n",
        "  ElecMeter(instance=1, building=1, dataset='REDD', site_meter, appliances=[])\n",
        ")"
       ]
      }
     ],
     "prompt_number": 5
    },
    {
     "cell_type": "code",
     "collapsed": false,
     "input": [
      "predictions_metergroup.mains()"
     ],
     "language": "python",
     "metadata": {},
     "outputs": [
      {
       "metadata": {},
       "output_type": "pyout",
       "prompt_number": 6,
       "text": [
        "ElecMeter(instance=(1, 2), building=1, dataset='NILMTK_CO_2014-07-09T12:56:52', site_meter, appliances=[])"
       ]
      }
     ],
     "prompt_number": 6
    },
    {
     "cell_type": "code",
     "collapsed": false,
     "input": [
      "from nilmtk import metrics\n",
      "\n",
      "errors = metrics.error_in_assigned_energy(predictions_metergroup, ground_truth_metergroup)"
     ],
     "language": "python",
     "metadata": {},
     "outputs": [],
     "prompt_number": 7
    },
    {
     "cell_type": "code",
     "collapsed": false,
     "input": [
      "errors"
     ],
     "language": "python",
     "metadata": {},
     "outputs": [
      {
       "metadata": {},
       "output_type": "pyout",
       "prompt_number": 8,
       "text": [
        "5           13.466175\n",
        "6           10.501869\n",
        "7           11.655311\n",
        "8           16.698923\n",
        "9           14.052876\n",
        "11           7.981391\n",
        "12          11.148177\n",
        "13           2.979062\n",
        "14           8.065479\n",
        "15           3.759926\n",
        "16           6.353007\n",
        "17           3.317994\n",
        "18           0.793409\n",
        "19           0.000085\n",
        "(3, 4)       0.464716\n",
        "(10, 20)    21.853051\n",
        "dtype: float64"
       ]
      }
     ],
     "prompt_number": 8
    },
    {
     "cell_type": "code",
     "collapsed": false,
     "input": [
      "fraction = metrics.fraction_energy_assigned_correctly(predictions_metergroup, ground_truth_metergroup)\n",
      "fraction"
     ],
     "language": "python",
     "metadata": {},
     "outputs": [
      {
       "metadata": {},
       "output_type": "pyout",
       "prompt_number": 9,
       "text": [
        "0.74551017623861116"
       ]
      }
     ],
     "prompt_number": 9
    },
    {
     "cell_type": "code",
     "collapsed": false,
     "input": [
      "mne = metrics.mean_normalized_error_power(predictions_metergroup, ground_truth_metergroup)\n",
      "mne"
     ],
     "language": "python",
     "metadata": {},
     "outputs": [
      {
       "ename": "KeyError",
       "evalue": "ElecMeterID(instance=(10, 20), building=1, dataset='REDD')",
       "output_type": "pyerr",
       "traceback": [
        "\u001b[1;31m---------------------------------------------------------------------------\u001b[0m\n\u001b[1;31mKeyError\u001b[0m                                  Traceback (most recent call last)",
        "\u001b[1;32m<ipython-input-11-3c48e5ec6b4a>\u001b[0m in \u001b[0;36m<module>\u001b[1;34m()\u001b[0m\n\u001b[1;32m----> 1\u001b[1;33m \u001b[0mmne\u001b[0m \u001b[1;33m=\u001b[0m \u001b[0mmetrics\u001b[0m\u001b[1;33m.\u001b[0m\u001b[0mmean_normalized_error_power\u001b[0m\u001b[1;33m(\u001b[0m\u001b[0mpredictions_metergroup\u001b[0m\u001b[1;33m,\u001b[0m \u001b[0mground_truth_metergroup\u001b[0m\u001b[1;33m)\u001b[0m\u001b[1;33m\u001b[0m\u001b[0m\n\u001b[0m\u001b[0;32m      2\u001b[0m \u001b[0mmne\u001b[0m\u001b[1;33m\u001b[0m\u001b[0m\n",
        "\u001b[1;32m/home/jack/workspace/python/nilmtk/nilmtk/metrics.pyc\u001b[0m in \u001b[0;36mmean_normalized_error_power\u001b[1;34m(predictions, ground_truth)\u001b[0m\n\u001b[0;32m    121\u001b[0m     \u001b[0mmne\u001b[0m \u001b[1;33m=\u001b[0m \u001b[1;33m{\u001b[0m\u001b[1;33m}\u001b[0m\u001b[1;33m\u001b[0m\u001b[0m\n\u001b[0;32m    122\u001b[0m     both_sets_of_meters = iterate_through_submeters_of_two_metergroups(\n\u001b[1;32m--> 123\u001b[1;33m         predictions, ground_truth)\n\u001b[0m\u001b[0;32m    124\u001b[0m     \u001b[1;32mfor\u001b[0m \u001b[0mpred_meter\u001b[0m\u001b[1;33m,\u001b[0m \u001b[0mground_truth_meter\u001b[0m \u001b[1;32min\u001b[0m \u001b[0mboth_sets_of_meters\u001b[0m\u001b[1;33m:\u001b[0m\u001b[1;33m\u001b[0m\u001b[0m\n\u001b[0;32m    125\u001b[0m         \u001b[0mtotal_abs_diff\u001b[0m \u001b[1;33m=\u001b[0m \u001b[1;36m0.0\u001b[0m\u001b[1;33m\u001b[0m\u001b[0m\n",
        "\u001b[1;32m/home/jack/workspace/python/nilmtk/nilmtk/metergroup.py\u001b[0m in \u001b[0;36miterate_through_submeters_of_two_metergroups\u001b[1;34m(master, slave)\u001b[0m\n\u001b[0;32m    674\u001b[0m         slave_identifier = master_meter.identifier._replace(\n\u001b[0;32m    675\u001b[0m             dataset=slave.dataset())\n\u001b[1;32m--> 676\u001b[1;33m         \u001b[0mslave_meter\u001b[0m \u001b[1;33m=\u001b[0m \u001b[0mslave\u001b[0m\u001b[1;33m[\u001b[0m\u001b[0mslave_identifier\u001b[0m\u001b[1;33m]\u001b[0m\u001b[1;33m\u001b[0m\u001b[0m\n\u001b[0m\u001b[0;32m    677\u001b[0m         \u001b[0mzipped\u001b[0m\u001b[1;33m.\u001b[0m\u001b[0mappend\u001b[0m\u001b[1;33m(\u001b[0m\u001b[1;33m(\u001b[0m\u001b[0mmaster_meter\u001b[0m\u001b[1;33m,\u001b[0m \u001b[0mslave_meter\u001b[0m\u001b[1;33m)\u001b[0m\u001b[1;33m)\u001b[0m\u001b[1;33m\u001b[0m\u001b[0m\n\u001b[0;32m    678\u001b[0m     \u001b[1;32mreturn\u001b[0m \u001b[0mzipped\u001b[0m\u001b[1;33m\u001b[0m\u001b[0m\n",
        "\u001b[1;32m/home/jack/workspace/python/nilmtk/nilmtk/metergroup.py\u001b[0m in \u001b[0;36m__getitem__\u001b[1;34m(self, key)\u001b[0m\n\u001b[0;32m    140\u001b[0m                         group.dataset() == key.dataset):\n\u001b[0;32m    141\u001b[0m                         \u001b[1;32mreturn\u001b[0m \u001b[0mgroup\u001b[0m\u001b[1;33m\u001b[0m\u001b[0m\n\u001b[1;32m--> 142\u001b[1;33m             \u001b[1;32mraise\u001b[0m \u001b[0mKeyError\u001b[0m\u001b[1;33m(\u001b[0m\u001b[0mkey\u001b[0m\u001b[1;33m)\u001b[0m\u001b[1;33m\u001b[0m\u001b[0m\n\u001b[0m\u001b[0;32m    143\u001b[0m         \u001b[1;32melif\u001b[0m \u001b[0misinstance\u001b[0m\u001b[1;33m(\u001b[0m\u001b[0mkey\u001b[0m\u001b[1;33m,\u001b[0m \u001b[0mlist\u001b[0m\u001b[1;33m)\u001b[0m\u001b[1;33m:\u001b[0m \u001b[1;31m# find MeterGroup from list of ElecMeterIDs\u001b[0m\u001b[1;33m\u001b[0m\u001b[0m\n\u001b[0;32m    144\u001b[0m             \u001b[1;32mif\u001b[0m \u001b[1;32mnot\u001b[0m \u001b[0mall\u001b[0m\u001b[1;33m(\u001b[0m\u001b[1;33m[\u001b[0m\u001b[0misinstance\u001b[0m\u001b[1;33m(\u001b[0m\u001b[0mitem\u001b[0m\u001b[1;33m,\u001b[0m \u001b[0mtuple\u001b[0m\u001b[1;33m)\u001b[0m \u001b[1;32mfor\u001b[0m \u001b[0mitem\u001b[0m \u001b[1;32min\u001b[0m \u001b[0mkey\u001b[0m\u001b[1;33m]\u001b[0m\u001b[1;33m)\u001b[0m\u001b[1;33m:\u001b[0m\u001b[1;33m\u001b[0m\u001b[0m\n",
        "\u001b[1;31mKeyError\u001b[0m: ElecMeterID(instance=(10, 20), building=1, dataset='REDD')"
       ]
      }
     ],
     "prompt_number": 11
    },
    {
     "cell_type": "code",
     "collapsed": false,
     "input": [
      "rms_error = metrics.rms_error_power(predictions_metergroup, ground_truth_metergroup)\n",
      "rms_error"
     ],
     "language": "python",
     "metadata": {},
     "outputs": []
    },
    {
     "cell_type": "code",
     "collapsed": false,
     "input": [],
     "language": "python",
     "metadata": {},
     "outputs": []
    }
   ],
   "metadata": {}
  }
 ]
}