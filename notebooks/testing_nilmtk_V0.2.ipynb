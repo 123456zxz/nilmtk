{
 "metadata": {
  "name": "",
  "signature": "sha256:5ea1361716a8915ec11acd199a941bc02d826836338e858714a522c98e281a87"
 },
 "nbformat": 3,
 "nbformat_minor": 0,
 "worksheets": [
  {
   "cells": [
    {
     "cell_type": "code",
     "collapsed": false,
     "input": [
      "from nilmtk import HDFDataStore, ElecMeter\n",
      "from nilmtk.stats import TotalEnergy\n",
      "\n",
      "ds = HDFDataStore('redd.h5')\n",
      "\n",
      "ElecMeter.meter_devices.update({\n",
      "    'test model': {\n",
      "        'max_sample_period': 30,\n",
      "        'measurements': [{'physical_quantity': 'power',\n",
      "                          'type': 'apparent',\n",
      "                          'lower_limit': 0,\n",
      "                          'upper_limit': 50000}]\n",
      "    }})\n",
      "\n",
      "meter = ElecMeter(ds, {'data_location': '/building5/elec/meter1',\n",
      "                       'device_model': 'test model',\n",
      "                       'preprocessing_applied': {'clip': True}})\n",
      "\n",
      "source = meter.get_source_node()\n",
      "\n",
      "total_energy = TotalEnergy(source)\n",
      "total_energy.run()"
     ],
     "language": "python",
     "metadata": {},
     "outputs": [],
     "prompt_number": 1
    },
    {
     "cell_type": "code",
     "collapsed": false,
     "input": [
      "total_energy.results.to_dict()"
     ],
     "language": "python",
     "metadata": {},
     "outputs": [
      {
       "metadata": {},
       "output_type": "pyout",
       "prompt_number": 2,
       "text": [
        "{'statistics': {'energy': {'apparent': 30.793646871022119}}}"
       ]
      }
     ],
     "prompt_number": 2
    },
    {
     "cell_type": "code",
     "collapsed": false,
     "input": [
      "from nilmtk.preprocessing import Clip\n",
      "\n",
      "source = meter.get_source_node()\n",
      "clip = Clip(source)\n",
      "total_energy = TotalEnergy(clip)\n",
      "total_energy.run()\n",
      "total_energy.results.to_dict()"
     ],
     "language": "python",
     "metadata": {},
     "outputs": [
      {
       "metadata": {},
       "output_type": "pyout",
       "prompt_number": 3,
       "text": [
        "{'statistics': {'energy': {'apparent': 30.793646871022119}}}"
       ]
      }
     ],
     "prompt_number": 3
    },
    {
     "cell_type": "code",
     "collapsed": false,
     "input": [
      "for chunk in meter.power_series():\n",
      "    print(chunk.head())"
     ],
     "language": "python",
     "metadata": {},
     "outputs": [
      {
       "output_type": "stream",
       "stream": "stdout",
       "text": [
        "physical_quantity               power\n",
        "type                         apparent\n",
        "2011-04-18 00:24:03-04:00  115.830002\n",
        "2011-04-18 00:24:04-04:00  115.940002\n",
        "2011-04-18 00:24:05-04:00  115.800003\n",
        "2011-04-18 00:24:06-04:00  115.989998\n",
        "2011-04-18 00:24:07-04:00  115.739998\n"
       ]
      }
     ],
     "prompt_number": 4
    },
    {
     "cell_type": "code",
     "collapsed": false,
     "input": [
      "clip = Clip()\n",
      "clip.upper = 10\n",
      "clip.lower = 0\n",
      "for chunk in meter.power_series(preprocessing=[clip]):\n",
      "    print(chunk.head())"
     ],
     "language": "python",
     "metadata": {},
     "outputs": [
      {
       "output_type": "stream",
       "stream": "stdout",
       "text": [
        "physical_quantity             power\n",
        "type                       apparent\n",
        "2011-04-18 00:24:03-04:00        10\n",
        "2011-04-18 00:24:04-04:00        10\n",
        "2011-04-18 00:24:05-04:00        10\n",
        "2011-04-18 00:24:06-04:00        10\n",
        "2011-04-18 00:24:07-04:00        10\n"
       ]
      }
     ],
     "prompt_number": 5
    },
    {
     "cell_type": "code",
     "collapsed": false,
     "input": [
      "from nilmtk import DataSet\n",
      "\n",
      "dataset = DataSet()\n",
      "dataset.load(ds)\n"
     ],
     "language": "python",
     "metadata": {},
     "outputs": [
      {
       "ename": "AttributeError",
       "evalue": "'DataSet' object has no attribute 'metadata'",
       "output_type": "pyerr",
       "traceback": [
        "\u001b[1;31m---------------------------------------------------------------------------\u001b[0m\n\u001b[1;31mAttributeError\u001b[0m                            Traceback (most recent call last)",
        "\u001b[1;32m<ipython-input-6-0d74fa606a36>\u001b[0m in \u001b[0;36m<module>\u001b[1;34m()\u001b[0m\n\u001b[0;32m      2\u001b[0m \u001b[1;33m\u001b[0m\u001b[0m\n\u001b[0;32m      3\u001b[0m \u001b[0mdataset\u001b[0m \u001b[1;33m=\u001b[0m \u001b[0mDataSet\u001b[0m\u001b[1;33m(\u001b[0m\u001b[1;33m)\u001b[0m\u001b[1;33m\u001b[0m\u001b[0m\n\u001b[1;32m----> 4\u001b[1;33m \u001b[0mdataset\u001b[0m\u001b[1;33m.\u001b[0m\u001b[0mload\u001b[0m\u001b[1;33m(\u001b[0m\u001b[0mds\u001b[0m\u001b[1;33m)\u001b[0m\u001b[1;33m\u001b[0m\u001b[0m\n\u001b[0m",
        "\u001b[1;32m/home/jack/workspace/python/nilmtk/nilmtk/dataset.py\u001b[0m in \u001b[0;36mload\u001b[1;34m(self, store)\u001b[0m\n\u001b[0;32m     28\u001b[0m         \u001b[0mstore\u001b[0m \u001b[1;33m:\u001b[0m \u001b[0mnilmtk\u001b[0m\u001b[1;33m.\u001b[0m\u001b[0mDataStore\u001b[0m\u001b[1;33m\u001b[0m\u001b[0m\n\u001b[0;32m     29\u001b[0m         \"\"\"\n\u001b[1;32m---> 30\u001b[1;33m         \u001b[0mself\u001b[0m\u001b[1;33m.\u001b[0m\u001b[0m_init_buildings\u001b[0m\u001b[1;33m(\u001b[0m\u001b[0mstore\u001b[0m\u001b[1;33m)\u001b[0m\u001b[1;33m\u001b[0m\u001b[0m\n\u001b[0m\u001b[0;32m     31\u001b[0m         \u001b[0mself\u001b[0m\u001b[1;33m.\u001b[0m\u001b[0mmetadata\u001b[0m \u001b[1;33m=\u001b[0m \u001b[0mstore\u001b[0m\u001b[1;33m.\u001b[0m\u001b[0mload_metadata\u001b[0m\u001b[1;33m(\u001b[0m\u001b[1;33m)\u001b[0m\u001b[1;33m\u001b[0m\u001b[0m\n\u001b[0;32m     32\u001b[0m         \u001b[1;32mreturn\u001b[0m \u001b[0mself\u001b[0m\u001b[1;33m\u001b[0m\u001b[0m\n",
        "\u001b[1;32m/home/jack/workspace/python/nilmtk/nilmtk/dataset.py\u001b[0m in \u001b[0;36m_init_buildings\u001b[1;34m(self, store)\u001b[0m\n\u001b[0;32m     41\u001b[0m         \u001b[1;32mfor\u001b[0m \u001b[0mb_key\u001b[0m \u001b[1;32min\u001b[0m \u001b[0mbuildings\u001b[0m\u001b[1;33m:\u001b[0m\u001b[1;33m\u001b[0m\u001b[0m\n\u001b[0;32m     42\u001b[0m             \u001b[0mbuilding\u001b[0m \u001b[1;33m=\u001b[0m \u001b[0mBuilding\u001b[0m\u001b[1;33m(\u001b[0m\u001b[1;33m)\u001b[0m\u001b[1;33m\u001b[0m\u001b[0m\n\u001b[1;32m---> 43\u001b[1;33m             \u001b[0mbuilding\u001b[0m\u001b[1;33m.\u001b[0m\u001b[0mload\u001b[0m\u001b[1;33m(\u001b[0m\u001b[0mstore\u001b[0m\u001b[1;33m,\u001b[0m \u001b[1;34m'/'\u001b[0m\u001b[1;33m+\u001b[0m\u001b[0mb_key\u001b[0m\u001b[1;33m,\u001b[0m \u001b[0mself\u001b[0m\u001b[1;33m.\u001b[0m\u001b[0mmetadata\u001b[0m\u001b[1;33m.\u001b[0m\u001b[0mget\u001b[0m\u001b[1;33m(\u001b[0m\u001b[1;34m'name'\u001b[0m\u001b[1;33m)\u001b[0m\u001b[1;33m)\u001b[0m\u001b[1;33m\u001b[0m\u001b[0m\n\u001b[0m\u001b[0;32m     44\u001b[0m             \u001b[0mself\u001b[0m\u001b[1;33m.\u001b[0m\u001b[0mbuildings\u001b[0m\u001b[1;33m[\u001b[0m\u001b[0mbuilding\u001b[0m\u001b[1;33m.\u001b[0m\u001b[0midentifier\u001b[0m\u001b[1;33m.\u001b[0m\u001b[0minstance\u001b[0m\u001b[1;33m]\u001b[0m \u001b[1;33m=\u001b[0m \u001b[0mbuilding\u001b[0m\u001b[1;33m\u001b[0m\u001b[0m\n",
        "\u001b[1;31mAttributeError\u001b[0m: 'DataSet' object has no attribute 'metadata'"
       ]
      }
     ],
     "prompt_number": 6
    },
    {
     "cell_type": "code",
     "collapsed": false,
     "input": [
      "dataset.buildings[1].elec['washer dryer'].meters"
     ],
     "language": "python",
     "metadata": {},
     "outputs": []
    },
    {
     "cell_type": "code",
     "collapsed": false,
     "input": [
      "dataset.buildings[1].elec"
     ],
     "language": "python",
     "metadata": {},
     "outputs": []
    },
    {
     "cell_type": "code",
     "collapsed": false,
     "input": [],
     "language": "python",
     "metadata": {},
     "outputs": []
    }
   ],
   "metadata": {}
  }
 ]
}