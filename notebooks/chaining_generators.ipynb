{
 "metadata": {
  "name": "",
  "signature": "sha256:15d5e9b0cd95d1ea83c871422b24cc8c551bd9255d027b81d243adf203f2fa6c"
 },
 "nbformat": 3,
 "nbformat_minor": 0,
 "worksheets": [
  {
   "cells": [
    {
     "cell_type": "code",
     "collapsed": false,
     "input": [
      "from __future__ import print_function\n",
      "from copy import deepcopy\n",
      "\n",
      "\n",
      "class DataStore(object):\n",
      "    def __init__(self, mask=None):\n",
      "        self.mask = [] if mask is None else mask\n",
      "    \n",
      "    def state_of_data(self):\n",
      "        return {}\n",
      "    \n",
      "    def power_series(self):\n",
      "        for i in range(10):\n",
      "            if i not in self.mask:\n",
      "                yield i\n",
      "                \n",
      "    def process(self):\n",
      "        return self.power_series()\n",
      "\n",
      "    \n",
      "class FailedPreconditionError(Exception):\n",
      "    pass\n",
      "\n",
      "\n",
      "class Node(object):\n",
      "    def __init__(self, upstream):\n",
      "        self.upstream = upstream\n",
      "        \n",
      "    def state_of_data(self):\n",
      "        upstream_condition = deepcopy(self.upstream.state_of_data())\n",
      "        upstream_condition.update(self.__class__.outcome)\n",
      "        return upstream_condition\n",
      "    \n",
      "    def check_preconditions(self):\n",
      "        requirements = self.__class__.__dict__.get('requirements')\n",
      "        if requirements:\n",
      "            condition = self.upstream.state_of_data()\n",
      "            for k,v in requirements.iteritems():\n",
      "                if not condition.has_key(k):\n",
      "                    raise FailedPreconditionError()\n",
      "                if condition[k] != v:\n",
      "                    raise FailedPreconditionError()                    \n",
      "\n",
      "    def run(self):\n",
      "        \"\"\"Pulls data through the pipeline.  Useful if we just want to calculate \n",
      "        some stats.\"\"\"\n",
      "        for _ in self.process():\n",
      "            pass\n",
      "\n",
      "            \n",
      "class AddOne(Node):\n",
      "    outcome = {'added_one': True}\n",
      "    requirements = {'multiplied_by_ten': True}\n",
      "    \n",
      "    def process(self):\n",
      "        self.check_preconditions()\n",
      "        self.results = 0\n",
      "        for i in self.upstream.process():\n",
      "            output = i+1\n",
      "            self.results += output\n",
      "            yield output\n",
      "            \n",
      "\n",
      "class MultiplyByTen(Node):\n",
      "    outcome = {'multiplied_by_ten': True}\n",
      "\n",
      "    def process(self):\n",
      "        self.check_preconditions()\n",
      "        for i in self.upstream.process():\n",
      "            yield i*10\n"
     ],
     "language": "python",
     "metadata": {},
     "outputs": [],
     "prompt_number": 18
    },
    {
     "cell_type": "code",
     "collapsed": false,
     "input": [
      "ds = DataStore([3,5,7])\n",
      "mult = MultiplyByTen(ds)\n",
      "addone = AddOne(mult)\n",
      "addone.run()\n",
      "addone.results"
     ],
     "language": "python",
     "metadata": {},
     "outputs": [
      {
       "metadata": {},
       "output_type": "pyout",
       "prompt_number": 19,
       "text": [
        "307"
       ]
      }
     ],
     "prompt_number": 19
    },
    {
     "cell_type": "code",
     "collapsed": false,
     "input": [
      "# thinking about how to train disaggregator\n",
      "\n",
      "for meter in metergroup.meters:\n",
      "    preprocessing = [Clip(), Resample(5)]\n",
      "    for chunk in clipped.power_series(preprocessing=preprocessing):\n",
      "        # train disaggregator...\n",
      "\n",
      "# old:\n",
      "for meter in metergroup.meters:\n",
      "    source = meter.get_source_node()\n",
      "    clipped = Clip(source)\n",
      "    #... any other preprocessing done here\n",
      "    for chunk in clipped.power_series():\n",
      "        # train disaggregator..."
     ],
     "language": "python",
     "metadata": {},
     "outputs": [],
     "prompt_number": 20
    }
   ],
   "metadata": {}
  }
 ]
}