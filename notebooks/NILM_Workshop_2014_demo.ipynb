{
 "metadata": {
  "name": "",
  "signature": "sha256:b15d8c2a1be6b9c424e4c74cb36a77823637066099cb9189cf4cd06433021fb6"
 },
 "nbformat": 3,
 "nbformat_minor": 0,
 "worksheets": [
  {
   "cells": [
    {
     "cell_type": "code",
     "collapsed": false,
     "input": [
      "from __future__ import print_function\n",
      "import seaborn as sns\n",
      "from IPython.core.display import HTML\n",
      "from IPython.display import Image\n",
      "from nilmtk.plots import plot_series\n",
      "\n",
      "sns.set(font=\"serif\")\n",
      "\n",
      "def pretty_print_dict(dictionary):\n",
      "    html = '<ul>'\n",
      "    for key, value in dictionary.iteritems():\n",
      "        html += '<li><strong>{}</strong>: '.format(key)\n",
      "        if isinstance(value, list):\n",
      "            html += '<ul>'\n",
      "            for item in value:\n",
      "                html += '<li>{}</li>'.format(item)\n",
      "            html += '</ul></li>'\n",
      "        else:\n",
      "            html += '{}</li>'.format(value)\n",
      "    html += '</ul>'\n",
      "    display(HTML(html))"
     ],
     "language": "python",
     "metadata": {},
     "outputs": [],
     "prompt_number": 181
    },
    {
     "cell_type": "heading",
     "level": 1,
     "metadata": {},
     "source": [
      "Demo of NILMTK v0.1 for NILM Workshop 2014 "
     ]
    },
    {
     "cell_type": "heading",
     "level": 2,
     "metadata": {},
     "source": [
      "Loading Data"
     ]
    },
    {
     "cell_type": "heading",
     "level": 3,
     "metadata": {},
     "source": [
      "Load raw REDD .dat data"
     ]
    },
    {
     "cell_type": "code",
     "collapsed": false,
     "input": [
      "from nilmtk.dataset import REDD\n",
      "\n",
      "redd = REDD()\n",
      "redd.load('/data/REDD/low_freq/')\n",
      "\n",
      "# Note increase in system memory usage.\n",
      "# NILMTK v0.2 does not eagerly load data like v0.1 does."
     ],
     "language": "python",
     "metadata": {},
     "outputs": [
      {
       "output_type": "stream",
       "stream": "stdout",
       "text": [
        "Loading building 1:\n",
        "  chans: "
       ]
      },
      {
       "output_type": "stream",
       "stream": "stdout",
       "text": [
        " 1"
       ]
      },
      {
       "output_type": "stream",
       "stream": "stdout",
       "text": [
        " 2"
       ]
      },
      {
       "output_type": "stream",
       "stream": "stdout",
       "text": [
        " 3"
       ]
      },
      {
       "output_type": "stream",
       "stream": "stdout",
       "text": [
        " 4"
       ]
      },
      {
       "output_type": "stream",
       "stream": "stdout",
       "text": [
        " 5"
       ]
      },
      {
       "output_type": "stream",
       "stream": "stdout",
       "text": [
        " 6"
       ]
      },
      {
       "output_type": "stream",
       "stream": "stdout",
       "text": [
        " 7"
       ]
      },
      {
       "output_type": "stream",
       "stream": "stdout",
       "text": [
        " 8"
       ]
      },
      {
       "output_type": "stream",
       "stream": "stdout",
       "text": [
        " 9"
       ]
      },
      {
       "output_type": "stream",
       "stream": "stdout",
       "text": [
        " 10"
       ]
      },
      {
       "output_type": "stream",
       "stream": "stdout",
       "text": [
        " 11"
       ]
      },
      {
       "output_type": "stream",
       "stream": "stdout",
       "text": [
        " 12"
       ]
      },
      {
       "output_type": "stream",
       "stream": "stdout",
       "text": [
        " 13"
       ]
      },
      {
       "output_type": "stream",
       "stream": "stdout",
       "text": [
        " 14"
       ]
      },
      {
       "output_type": "stream",
       "stream": "stdout",
       "text": [
        " 15"
       ]
      },
      {
       "output_type": "stream",
       "stream": "stdout",
       "text": [
        " 16"
       ]
      },
      {
       "output_type": "stream",
       "stream": "stdout",
       "text": [
        " 17"
       ]
      },
      {
       "output_type": "stream",
       "stream": "stdout",
       "text": [
        " 18"
       ]
      },
      {
       "output_type": "stream",
       "stream": "stdout",
       "text": [
        " 20"
       ]
      },
      {
       "output_type": "stream",
       "stream": "stdout",
       "text": [
        "\n",
        "Loading building 2:\n",
        "  chans: "
       ]
      },
      {
       "output_type": "stream",
       "stream": "stdout",
       "text": [
        " 1"
       ]
      },
      {
       "output_type": "stream",
       "stream": "stdout",
       "text": [
        " 2"
       ]
      },
      {
       "output_type": "stream",
       "stream": "stdout",
       "text": [
        " 3"
       ]
      },
      {
       "output_type": "stream",
       "stream": "stdout",
       "text": [
        " 4"
       ]
      },
      {
       "output_type": "stream",
       "stream": "stdout",
       "text": [
        " 5"
       ]
      },
      {
       "output_type": "stream",
       "stream": "stdout",
       "text": [
        " 6"
       ]
      },
      {
       "output_type": "stream",
       "stream": "stdout",
       "text": [
        " 7"
       ]
      },
      {
       "output_type": "stream",
       "stream": "stdout",
       "text": [
        " 8"
       ]
      },
      {
       "output_type": "stream",
       "stream": "stdout",
       "text": [
        " 9"
       ]
      },
      {
       "output_type": "stream",
       "stream": "stdout",
       "text": [
        " 10"
       ]
      },
      {
       "output_type": "stream",
       "stream": "stdout",
       "text": [
        " 11"
       ]
      },
      {
       "output_type": "stream",
       "stream": "stdout",
       "text": [
        "\n",
        "Loading building 3:\n",
        "  chans: "
       ]
      },
      {
       "output_type": "stream",
       "stream": "stdout",
       "text": [
        " 1"
       ]
      },
      {
       "output_type": "stream",
       "stream": "stdout",
       "text": [
        " 2"
       ]
      },
      {
       "output_type": "stream",
       "stream": "stdout",
       "text": [
        " 3"
       ]
      },
      {
       "output_type": "stream",
       "stream": "stdout",
       "text": [
        " 4"
       ]
      },
      {
       "output_type": "stream",
       "stream": "stdout",
       "text": [
        " 5"
       ]
      },
      {
       "output_type": "stream",
       "stream": "stdout",
       "text": [
        " 6"
       ]
      },
      {
       "output_type": "stream",
       "stream": "stdout",
       "text": [
        " 7"
       ]
      },
      {
       "output_type": "stream",
       "stream": "stdout",
       "text": [
        " 8"
       ]
      },
      {
       "output_type": "stream",
       "stream": "stdout",
       "text": [
        " 9"
       ]
      },
      {
       "output_type": "stream",
       "stream": "stdout",
       "text": [
        " 10"
       ]
      },
      {
       "output_type": "stream",
       "stream": "stdout",
       "text": [
        " 11"
       ]
      },
      {
       "output_type": "stream",
       "stream": "stdout",
       "text": [
        " 12"
       ]
      },
      {
       "output_type": "stream",
       "stream": "stdout",
       "text": [
        " 13"
       ]
      },
      {
       "output_type": "stream",
       "stream": "stdout",
       "text": [
        " 14"
       ]
      },
      {
       "output_type": "stream",
       "stream": "stdout",
       "text": [
        " 15"
       ]
      },
      {
       "output_type": "stream",
       "stream": "stdout",
       "text": [
        " 16"
       ]
      },
      {
       "output_type": "stream",
       "stream": "stdout",
       "text": [
        " 17"
       ]
      },
      {
       "output_type": "stream",
       "stream": "stdout",
       "text": [
        " 18"
       ]
      },
      {
       "output_type": "stream",
       "stream": "stdout",
       "text": [
        " 19"
       ]
      },
      {
       "output_type": "stream",
       "stream": "stdout",
       "text": [
        " 20"
       ]
      },
      {
       "output_type": "stream",
       "stream": "stdout",
       "text": [
        " 21"
       ]
      },
      {
       "output_type": "stream",
       "stream": "stdout",
       "text": [
        " 22"
       ]
      },
      {
       "output_type": "stream",
       "stream": "stdout",
       "text": [
        "\n",
        "Loading building 4:\n",
        "  chans: "
       ]
      },
      {
       "output_type": "stream",
       "stream": "stdout",
       "text": [
        " 1"
       ]
      },
      {
       "output_type": "stream",
       "stream": "stdout",
       "text": [
        " 2"
       ]
      },
      {
       "output_type": "stream",
       "stream": "stdout",
       "text": [
        " 3"
       ]
      },
      {
       "output_type": "stream",
       "stream": "stdout",
       "text": [
        " 4"
       ]
      },
      {
       "output_type": "stream",
       "stream": "stdout",
       "text": [
        " 5"
       ]
      },
      {
       "output_type": "stream",
       "stream": "stdout",
       "text": [
        " 6"
       ]
      },
      {
       "output_type": "stream",
       "stream": "stdout",
       "text": [
        " 7"
       ]
      },
      {
       "output_type": "stream",
       "stream": "stdout",
       "text": [
        " 8"
       ]
      },
      {
       "output_type": "stream",
       "stream": "stdout",
       "text": [
        " 9"
       ]
      },
      {
       "output_type": "stream",
       "stream": "stdout",
       "text": [
        " 10"
       ]
      },
      {
       "output_type": "stream",
       "stream": "stdout",
       "text": [
        " 11"
       ]
      },
      {
       "output_type": "stream",
       "stream": "stdout",
       "text": [
        " 12"
       ]
      },
      {
       "output_type": "stream",
       "stream": "stdout",
       "text": [
        " 13"
       ]
      },
      {
       "output_type": "stream",
       "stream": "stdout",
       "text": [
        " 14"
       ]
      },
      {
       "output_type": "stream",
       "stream": "stdout",
       "text": [
        " 15"
       ]
      },
      {
       "output_type": "stream",
       "stream": "stdout",
       "text": [
        " 16"
       ]
      },
      {
       "output_type": "stream",
       "stream": "stdout",
       "text": [
        " 17"
       ]
      },
      {
       "output_type": "stream",
       "stream": "stdout",
       "text": [
        " 18"
       ]
      },
      {
       "output_type": "stream",
       "stream": "stdout",
       "text": [
        " 19"
       ]
      },
      {
       "output_type": "stream",
       "stream": "stdout",
       "text": [
        " 20"
       ]
      },
      {
       "output_type": "stream",
       "stream": "stdout",
       "text": [
        "\n",
        "Loading building 5:\n",
        "  chans: "
       ]
      },
      {
       "output_type": "stream",
       "stream": "stdout",
       "text": [
        " 1"
       ]
      },
      {
       "output_type": "stream",
       "stream": "stdout",
       "text": [
        " 2"
       ]
      },
      {
       "output_type": "stream",
       "stream": "stdout",
       "text": [
        " 3"
       ]
      },
      {
       "output_type": "stream",
       "stream": "stdout",
       "text": [
        " 4"
       ]
      },
      {
       "output_type": "stream",
       "stream": "stdout",
       "text": [
        " 5"
       ]
      },
      {
       "output_type": "stream",
       "stream": "stdout",
       "text": [
        " 6"
       ]
      },
      {
       "output_type": "stream",
       "stream": "stdout",
       "text": [
        " 7"
       ]
      },
      {
       "output_type": "stream",
       "stream": "stdout",
       "text": [
        " 8"
       ]
      },
      {
       "output_type": "stream",
       "stream": "stdout",
       "text": [
        " 9"
       ]
      },
      {
       "output_type": "stream",
       "stream": "stdout",
       "text": [
        " 10"
       ]
      },
      {
       "output_type": "stream",
       "stream": "stdout",
       "text": [
        " 11"
       ]
      },
      {
       "output_type": "stream",
       "stream": "stdout",
       "text": [
        " 12"
       ]
      },
      {
       "output_type": "stream",
       "stream": "stdout",
       "text": [
        " 13"
       ]
      },
      {
       "output_type": "stream",
       "stream": "stdout",
       "text": [
        " 14"
       ]
      },
      {
       "output_type": "stream",
       "stream": "stdout",
       "text": [
        " 15"
       ]
      },
      {
       "output_type": "stream",
       "stream": "stdout",
       "text": [
        " 16"
       ]
      },
      {
       "output_type": "stream",
       "stream": "stdout",
       "text": [
        " 17"
       ]
      },
      {
       "output_type": "stream",
       "stream": "stdout",
       "text": [
        " 18"
       ]
      },
      {
       "output_type": "stream",
       "stream": "stdout",
       "text": [
        " 19"
       ]
      },
      {
       "output_type": "stream",
       "stream": "stdout",
       "text": [
        " 20"
       ]
      },
      {
       "output_type": "stream",
       "stream": "stdout",
       "text": [
        " 21"
       ]
      },
      {
       "output_type": "stream",
       "stream": "stdout",
       "text": [
        " 22"
       ]
      },
      {
       "output_type": "stream",
       "stream": "stdout",
       "text": [
        " 23"
       ]
      },
      {
       "output_type": "stream",
       "stream": "stdout",
       "text": [
        " 24"
       ]
      },
      {
       "output_type": "stream",
       "stream": "stdout",
       "text": [
        " 25"
       ]
      },
      {
       "output_type": "stream",
       "stream": "stdout",
       "text": [
        " 26"
       ]
      },
      {
       "output_type": "stream",
       "stream": "stdout",
       "text": [
        "\n",
        "Loading building 6:\n",
        "  chans: "
       ]
      },
      {
       "output_type": "stream",
       "stream": "stdout",
       "text": [
        " 1"
       ]
      },
      {
       "output_type": "stream",
       "stream": "stdout",
       "text": [
        " 2"
       ]
      },
      {
       "output_type": "stream",
       "stream": "stdout",
       "text": [
        " 3"
       ]
      },
      {
       "output_type": "stream",
       "stream": "stdout",
       "text": [
        " 4"
       ]
      },
      {
       "output_type": "stream",
       "stream": "stdout",
       "text": [
        " 5"
       ]
      },
      {
       "output_type": "stream",
       "stream": "stdout",
       "text": [
        " 6"
       ]
      },
      {
       "output_type": "stream",
       "stream": "stdout",
       "text": [
        " 7"
       ]
      },
      {
       "output_type": "stream",
       "stream": "stdout",
       "text": [
        " 8"
       ]
      },
      {
       "output_type": "stream",
       "stream": "stdout",
       "text": [
        " 9"
       ]
      },
      {
       "output_type": "stream",
       "stream": "stdout",
       "text": [
        " 10"
       ]
      },
      {
       "output_type": "stream",
       "stream": "stdout",
       "text": [
        " 11"
       ]
      },
      {
       "output_type": "stream",
       "stream": "stdout",
       "text": [
        " 12"
       ]
      },
      {
       "output_type": "stream",
       "stream": "stdout",
       "text": [
        " 13"
       ]
      },
      {
       "output_type": "stream",
       "stream": "stdout",
       "text": [
        " 14"
       ]
      },
      {
       "output_type": "stream",
       "stream": "stdout",
       "text": [
        " 15"
       ]
      },
      {
       "output_type": "stream",
       "stream": "stdout",
       "text": [
        " 16"
       ]
      },
      {
       "output_type": "stream",
       "stream": "stdout",
       "text": [
        " 17"
       ]
      },
      {
       "output_type": "stream",
       "stream": "stdout",
       "text": [
        "\n"
       ]
      }
     ],
     "prompt_number": 2
    },
    {
     "cell_type": "heading",
     "level": 4,
     "metadata": {},
     "source": [
      "Examine dataset metadata"
     ]
    },
    {
     "cell_type": "code",
     "collapsed": false,
     "input": [
      "pretty_print_dict(dataset.metadata)"
     ],
     "language": "python",
     "metadata": {},
     "outputs": [
      {
       "html": [
        "<ul><li><strong>name</strong>: REDD</li><li><strong>full_name</strong>: Reference Energy Disaggregation Data Set</li><li><strong>citations</strong>: <ul><li>J. Zico Kolter and Matthew J. Johnson. REDD: A public data set for energy disaggregation research. In proceedings of the SustKDD workshop on Data Mining Applications in Sustainability, 2011.</li></ul></li><li><strong>urls</strong>: <ul><li>http://redd.csail.mit.edu</li></ul></li><li><strong>timezone</strong>: US/Eastern</li><li><strong>geographic_coordinates</strong>: <ul><li>42.360091</li><li>-71.09416</li></ul></li></ul>"
       ],
       "metadata": {},
       "output_type": "display_data",
       "text": [
        "<IPython.core.display.HTML at 0x7f20ae678450>"
       ]
      }
     ],
     "prompt_number": 106
    },
    {
     "cell_type": "heading",
     "level": 4,
     "metadata": {},
     "source": [
      "Appliance names are converted to use the NILMTK controlled vocabulary"
     ]
    },
    {
     "cell_type": "heading",
     "level": 5,
     "metadata": {},
     "source": [
      "Raw REDD appliance names:"
     ]
    },
    {
     "cell_type": "code",
     "collapsed": false,
     "input": [
      "!cat '/data/REDD/low_freq/house_1/labels.dat'"
     ],
     "language": "python",
     "metadata": {},
     "outputs": [
      {
       "output_type": "stream",
       "stream": "stdout",
       "text": [
        "1 mains\r\n",
        "2 mains\r\n",
        "3 oven\r\n",
        "4 oven\r\n",
        "5 refrigerator\r\n",
        "6 dishwaser\r\n",
        "7 kitchen_outlets\r\n",
        "8 kitchen_outlets\r\n",
        "9 lighting\r\n",
        "10 washer_dryer\r\n",
        "11 microwave\r\n",
        "12 bathroom_gfi\r\n",
        "13 electric_heat\r\n",
        "14 stove\r\n",
        "15 kitchen_outlets\r\n",
        "16 kitchen_outlets\r\n",
        "17 lighting\r\n",
        "18 lighting\r\n",
        "19 washer_dryer\r\n",
        "20 washer_dryer\r\n"
       ]
      }
     ],
     "prompt_number": 83
    },
    {
     "cell_type": "heading",
     "level": 5,
     "metadata": {},
     "source": [
      "NILMTK appliance names"
     ]
    },
    {
     "cell_type": "code",
     "collapsed": false,
     "input": [
      "electric = redd.buildings[1].utility.electric\n",
      "electric.appliances.keys()\n",
      "\n",
      "# Note that the washer dryer has been converted to a single DualSupply appliance"
     ],
     "language": "python",
     "metadata": {},
     "outputs": [
      {
       "metadata": {},
       "output_type": "pyout",
       "prompt_number": 37,
       "text": [
        "[ApplianceName(name='fridge', instance=1),\n",
        " ApplianceName(name='washer dryer', instance=1),\n",
        " ApplianceName(name='kitchen outlets', instance=2),\n",
        " ApplianceName(name='lighting', instance=3),\n",
        " ApplianceName(name='kitchen outlets', instance=1),\n",
        " ApplianceName(name='space heater', instance=1),\n",
        " ApplianceName(name='kitchen outlets', instance=4),\n",
        " ApplianceName(name='kitchen outlets', instance=3),\n",
        " ApplianceName(name='lighting', instance=1),\n",
        " ApplianceName(name='dishwasher', instance=1),\n",
        " ApplianceName(name='microwave', instance=1),\n",
        " ApplianceName(name='bathroom misc', instance=1),\n",
        " ApplianceName(name='lighting', instance=2),\n",
        " ApplianceName(name='oven', instance=1),\n",
        " ApplianceName(name='hob', instance=1)]"
       ]
      }
     ],
     "prompt_number": 37
    },
    {
     "cell_type": "heading",
     "level": 4,
     "metadata": {},
     "source": [
      "Get hold of data for a particular appliance"
     ]
    },
    {
     "cell_type": "code",
     "collapsed": false,
     "input": [
      "fridge = electric.appliances['fridge', 1]\n",
      "\n",
      "# fridge is a 2-column matrix (a Python Pandas DataFrame object)\n",
      "\n",
      "fridge.head()"
     ],
     "language": "python",
     "metadata": {},
     "outputs": [
      {
       "html": [
        "<div style=\"max-height:1000px;max-width:1500px;overflow:auto;\">\n",
        "<table border=\"1\" class=\"dataframe\">\n",
        "  <thead>\n",
        "    <tr style=\"text-align: right;\">\n",
        "      <th></th>\n",
        "      <th>(power, active)</th>\n",
        "    </tr>\n",
        "  </thead>\n",
        "  <tbody>\n",
        "    <tr>\n",
        "      <th>2011-04-18 09:22:13-04:00</th>\n",
        "      <td> 6</td>\n",
        "    </tr>\n",
        "    <tr>\n",
        "      <th>2011-04-18 09:22:16-04:00</th>\n",
        "      <td> 6</td>\n",
        "    </tr>\n",
        "    <tr>\n",
        "      <th>2011-04-18 09:22:20-04:00</th>\n",
        "      <td> 6</td>\n",
        "    </tr>\n",
        "    <tr>\n",
        "      <th>2011-04-18 09:22:23-04:00</th>\n",
        "      <td> 6</td>\n",
        "    </tr>\n",
        "    <tr>\n",
        "      <th>2011-04-18 09:22:26-04:00</th>\n",
        "      <td> 6</td>\n",
        "    </tr>\n",
        "  </tbody>\n",
        "</table>\n",
        "<p>5 rows \u00d7 1 columns</p>\n",
        "</div>"
       ],
       "metadata": {},
       "output_type": "pyout",
       "prompt_number": 38,
       "text": [
        "                           (power, active)\n",
        "2011-04-18 09:22:13-04:00                6\n",
        "2011-04-18 09:22:16-04:00                6\n",
        "2011-04-18 09:22:20-04:00                6\n",
        "2011-04-18 09:22:23-04:00                6\n",
        "2011-04-18 09:22:26-04:00                6\n",
        "\n",
        "[5 rows x 1 columns]"
       ]
      }
     ],
     "prompt_number": 38
    },
    {
     "cell_type": "code",
     "collapsed": false,
     "input": [
      "fridge[\"2011-04-18\":\"2011-04-19\"].plot()"
     ],
     "language": "python",
     "metadata": {},
     "outputs": [
      {
       "metadata": {},
       "output_type": "pyout",
       "prompt_number": 188,
       "text": [
        "<matplotlib.axes.AxesSubplot at 0x7f209125bf90>"
       ]
      },
      {
       "metadata": {},
       "output_type": "display_data",
       "png": "[encoded data removed]",
       "text": [
        "<matplotlib.figure.Figure at 0x7f2091265610>"
       ]
      }
     ],
     "prompt_number": 188
    },
    {
     "cell_type": "markdown",
     "metadata": {},
     "source": [
      "### HDF5 file format\n",
      "\n",
      "#### Export to HDF5\n",
      "\n",
      "```python\n",
      "DATA_DIRECTORY = '/path/to/hdf5/'\n",
      "redd.export(DATA_DIRECTORY)\n",
      "```\n",
      "\n",
      "#### Load from HDF5\n",
      "\n",
      "Note that we use the generic `DataSet` class to load HDF5...\n",
      "\n",
      "```python\n",
      "from nilmtk.dataset import DataSet\n",
      "dataset = DataSet()\n",
      "dataset.load_hdf5(DATA_DIRECTORY)\n",
      "```"
     ]
    },
    {
     "cell_type": "heading",
     "level": 2,
     "metadata": {},
     "source": [
      "Dataset Diagnostics and Statistics"
     ]
    },
    {
     "cell_type": "markdown",
     "metadata": {},
     "source": [
      "![](IAM.jpg)\n",
      "\n",
      "All datasets have imperfections. We need to understand the imperfections of each dataset before proceeding with data analysis.  We'll continue working with REDD but please note that we're not picking on REDD! All datasets have issues!"
     ]
    },
    {
     "cell_type": "code",
     "collapsed": false,
     "input": [
      "import nilmtk.stats.electricity.building as bstats"
     ],
     "language": "python",
     "metadata": {},
     "outputs": [],
     "prompt_number": 83
    },
    {
     "cell_type": "heading",
     "level": 3,
     "metadata": {},
     "source": [
      "Gaps"
     ]
    },
    {
     "cell_type": "markdown",
     "metadata": {},
     "source": [
      "There are two reasons why data might not be recorded:\n",
      "\n",
      "1. The appliance and meter were unplugged from the mains\n",
      "   (hence the appliance is off when the appliance monitor is off).\n",
      "2. The appliance monitor is broken (hence we have no reliable\n",
      "   information about the state of the appliance).\n",
      "\n",
      "In the plots below, a dark rectangle shows the presence of a gap. A gap is defined as any pair of consecutive samples further apart than 4 times the  sample period for that meter.\n",
      "\n",
      "#### Plot gaps using rectangles"
     ]
    },
    {
     "cell_type": "code",
     "collapsed": false,
     "input": [
      "bstats.plot_missing_samples_using_rectangles(electric)"
     ],
     "language": "python",
     "metadata": {},
     "outputs": [
      {
       "metadata": {},
       "output_type": "display_data",
       "png": "[encoded data removed]",
       "text": [
        "<matplotlib.figure.Figure at 0x7f20adb04490>"
       ]
      }
     ],
     "prompt_number": 110
    },
    {
     "cell_type": "markdown",
     "metadata": {},
     "source": [
      "The advantages of `plot_missing_samples_using_rectangles` are:\n",
      "\n",
      "* clearly shows large gaps\n",
      "* shows all data so can be zoomed in to your heart's content\n",
      "\n",
      "The disadvantages are:\n",
      "\n",
      "* The choice of `max_sample_period` is somewhat subjective\n",
      "* Because it plots lots of rectangles, it can be slow to plot.\n",
      "\n",
      "To overcome both of these disadvantages, we have a sister function:\n",
      "\n",
      "#### Plot gaps using bitmap"
     ]
    },
    {
     "cell_type": "code",
     "collapsed": false,
     "input": [
      "bstats.plot_missing_samples_using_bitmap(electric)"
     ],
     "language": "python",
     "metadata": {},
     "outputs": [
      {
       "output_type": "stream",
       "stream": "stdout",
       "text": [
        "Seconds per pixel = 3917.6\n"
       ]
      },
      {
       "metadata": {},
       "output_type": "pyout",
       "prompt_number": 111,
       "text": [
        "<matplotlib.axes.AxesSubplot at 0x7f20ae657310>"
       ]
      },
      {
       "metadata": {},
       "output_type": "display_data",
       "png": "[encoded data removed]",
       "text": [
        "<matplotlib.figure.Figure at 0x7f20af6cd750>"
       ]
      }
     ],
     "prompt_number": 111
    },
    {
     "cell_type": "heading",
     "level": 3,
     "metadata": {},
     "source": [
      "Proportion of energy submetered for house 1"
     ]
    },
    {
     "cell_type": "code",
     "collapsed": false,
     "input": [
      "bstats.proportion_of_energy_submetered(electric)"
     ],
     "language": "python",
     "metadata": {},
     "outputs": [
      {
       "output_type": "stream",
       "stream": "stdout",
       "text": [
        "Calculating proportion of energy submetered...\n",
        "Masking appliances with mains... may take a little while..."
       ]
      },
      {
       "output_type": "stream",
       "stream": "stdout",
       "text": [
        "Mains sample period = 1.0, max_sample_period = 20.0\n",
        "Getting gap starts and ends...\n",
        "Found 27 gap starts and 27 gap ends."
       ]
      },
      {
       "output_type": "stream",
       "stream": "stdout",
       "text": [
        "\n",
        "."
       ]
      },
      {
       "output_type": "stream",
       "stream": "stdout",
       "text": [
        "."
       ]
      },
      {
       "output_type": "stream",
       "stream": "stdout",
       "text": [
        "."
       ]
      },
      {
       "output_type": "stream",
       "stream": "stdout",
       "text": [
        "."
       ]
      },
      {
       "output_type": "stream",
       "stream": "stdout",
       "text": [
        "."
       ]
      },
      {
       "output_type": "stream",
       "stream": "stdout",
       "text": [
        "."
       ]
      },
      {
       "output_type": "stream",
       "stream": "stdout",
       "text": [
        "."
       ]
      },
      {
       "output_type": "stream",
       "stream": "stdout",
       "text": [
        "."
       ]
      },
      {
       "output_type": "stream",
       "stream": "stdout",
       "text": [
        "."
       ]
      },
      {
       "output_type": "stream",
       "stream": "stdout",
       "text": [
        "."
       ]
      },
      {
       "output_type": "stream",
       "stream": "stdout",
       "text": [
        "."
       ]
      },
      {
       "output_type": "stream",
       "stream": "stdout",
       "text": [
        "."
       ]
      },
      {
       "output_type": "stream",
       "stream": "stdout",
       "text": [
        "."
       ]
      },
      {
       "output_type": "stream",
       "stream": "stdout",
       "text": [
        "."
       ]
      },
      {
       "output_type": "stream",
       "stream": "stdout",
       "text": [
        "."
       ]
      },
      {
       "output_type": "stream",
       "stream": "stdout",
       "text": [
        "done\n",
        "Inserting zeros... may take a little while..."
       ]
      },
      {
       "output_type": "stream",
       "stream": "stdout",
       "text": [
        "done inserting zeros\n"
       ]
      },
      {
       "metadata": {},
       "output_type": "pyout",
       "prompt_number": 107,
       "text": [
        "0.76004797563554483"
       ]
      }
     ],
     "prompt_number": 107
    },
    {
     "cell_type": "heading",
     "level": 3,
     "metadata": {},
     "source": [
      "Statistics for a single appliance"
     ]
    },
    {
     "cell_type": "code",
     "collapsed": false,
     "input": [
      "import nilmtk.stats.electricity.single as sstats\n",
      "\n",
      "APPLIANCE_TYPE = 'oven'\n",
      "appliance = electric.appliances[(APPLIANCE_TYPE, 1)]"
     ],
     "language": "python",
     "metadata": {},
     "outputs": []
    },
    {
     "cell_type": "heading",
     "level": 4,
     "metadata": {},
     "source": [
      "Sample period"
     ]
    },
    {
     "cell_type": "code",
     "collapsed": false,
     "input": [
      "sample_period = sstats.get_sample_period(appliance)\n",
      "\n",
      "print('average sample period = {:.1f} seconds'.format(sample_period))"
     ],
     "language": "python",
     "metadata": {},
     "outputs": [
      {
       "output_type": "stream",
       "stream": "stdout",
       "text": [
        "average sample period = 3.8 seconds\n"
       ]
      }
     ],
     "prompt_number": 163
    },
    {
     "cell_type": "heading",
     "level": 4,
     "metadata": {},
     "source": [
      "Dropout rate over entire timeseries"
     ]
    },
    {
     "cell_type": "code",
     "collapsed": false,
     "input": [
      "dropout_rate = sstats.get_dropout_rate(data=appliance)\n",
      "\n",
      "print('average dropout rate = {:.1%}'.format(dropout_rate))"
     ],
     "language": "python",
     "metadata": {},
     "outputs": [
      {
       "output_type": "stream",
       "stream": "stdout",
       "text": [
        "average dropout rate = 10.2%\n"
       ]
      }
     ],
     "prompt_number": 168
    },
    {
     "cell_type": "heading",
     "level": 4,
     "metadata": {},
     "source": [
      "Dropout rate per period"
     ]
    },
    {
     "cell_type": "code",
     "collapsed": false,
     "input": [
      "sstats.dropout_rate_per_period(data=appliance, rule='D').plot()\n",
      "\n",
      "ylabel('dropout rate')\n",
      "title('Dropout rate per day for ' + APPLIANCE_TYPE)"
     ],
     "language": "python",
     "metadata": {},
     "outputs": [
      {
       "metadata": {},
       "output_type": "pyout",
       "prompt_number": 145,
       "text": [
        "<matplotlib.text.Text at 0x7f20a85dd750>"
       ]
      },
      {
       "metadata": {},
       "output_type": "display_data",
       "png": "[encoded data removed]",
       "text": [
        "<matplotlib.figure.Figure at 0x7f20a9cb27d0>"
       ]
      }
     ],
     "prompt_number": 145
    },
    {
     "cell_type": "heading",
     "level": 4,
     "metadata": {},
     "source": [
      "Histogram of power consumption"
     ]
    },
    {
     "cell_type": "code",
     "collapsed": false,
     "input": [
      "THRESHOLD = 1\n",
      "oven_filtered = (oven[oven > THRESHOLD]).icol(0).dropna()\n",
      "\n",
      "xlabel('power (watts)')\n",
      "ylabel('frequency')\n",
      "h = hist(oven_filtered.values, bins=100)"
     ],
     "language": "python",
     "metadata": {},
     "outputs": [
      {
       "metadata": {},
       "output_type": "display_data",
       "png": "[encoded data removed]",
       "text": [
        "<matplotlib.figure.Figure at 0x7f20a9748150>"
       ]
      }
     ],
     "prompt_number": 160
    },
    {
     "cell_type": "markdown",
     "metadata": {},
     "source": [
      "##### Conclusions from the histogram:\n",
      "\n",
      "* oven spends a lot of its time consuming about 2-50 Watts\n",
      "* appears to be properly 'on' when it's consuming over 1600 watts\n",
      "* So let's use 1000 watts as the on power threshold."
     ]
    },
    {
     "cell_type": "code",
     "collapsed": false,
     "input": [
      "ON_POWER_THRESHOLD = 1000"
     ],
     "language": "python",
     "metadata": {},
     "outputs": [],
     "prompt_number": 169
    },
    {
     "cell_type": "markdown",
     "metadata": {},
     "source": [
      "In NILMTK v0.2, on_power_threshold is stored as metadata per appliance.\n",
      "\n",
      "#### Number of hours the oven was switched on for"
     ]
    },
    {
     "cell_type": "code",
     "collapsed": false,
     "input": [
      "hours_on = sstats.hours_on(oven, on_power_threshold=ON_POWER_THRESHOLD)\n",
      "\n",
      "print(APPLIANCE_TYPE + ' was on for {:.1f} hours.'.format(hours_on))"
     ],
     "language": "python",
     "metadata": {},
     "outputs": [
      {
       "output_type": "stream",
       "stream": "stdout",
       "text": [
        "oven was on for 4.5 hours.\n"
       ]
      }
     ],
     "prompt_number": 171
    },
    {
     "cell_type": "heading",
     "level": 4,
     "metadata": {},
     "source": [
      "Total energy consumed by the oven"
     ]
    },
    {
     "cell_type": "code",
     "collapsed": false,
     "input": [
      "kwh = sstats.energy(oven)\n",
      "\n",
      "print(APPLIANCE_TYPE + ' consumed {:.1f} kWh.'.format(kwh))"
     ],
     "language": "python",
     "metadata": {},
     "outputs": [
      {
       "output_type": "stream",
       "stream": "stdout",
       "text": [
        "oven consumed 3.8 kWh.\n"
       ]
      }
     ],
     "prompt_number": 172
    },
    {
     "cell_type": "heading",
     "level": 3,
     "metadata": {},
     "source": [
      "Explore usage behaviour of an appliance"
     ]
    },
    {
     "cell_type": "heading",
     "level": 4,
     "metadata": {},
     "source": [
      "Usage (hours on and energy used) per period"
     ]
    },
    {
     "cell_type": "code",
     "collapsed": false,
     "input": [
      "usage = sstats.usage_per_period(appliance,\n",
      "                                freq='D', \n",
      "                                on_power_threshold=ON_POWER_THRESHOLD)\n",
      "usage.head(n=7)"
     ],
     "language": "python",
     "metadata": {},
     "outputs": [
      {
       "html": [
        "<div style=\"max-height:1000px;max-width:1500px;overflow:auto;\">\n",
        "<table border=\"1\" class=\"dataframe\">\n",
        "  <thead>\n",
        "    <tr style=\"text-align: right;\">\n",
        "      <th></th>\n",
        "      <th>hours_on</th>\n",
        "      <th>kwh</th>\n",
        "    </tr>\n",
        "  </thead>\n",
        "  <tbody>\n",
        "    <tr>\n",
        "      <th>2011-04-18</th>\n",
        "      <td>      NaN</td>\n",
        "      <td>      NaN</td>\n",
        "    </tr>\n",
        "    <tr>\n",
        "      <th>2011-04-19</th>\n",
        "      <td> 0.000000</td>\n",
        "      <td> 0.000063</td>\n",
        "    </tr>\n",
        "    <tr>\n",
        "      <th>2011-04-20</th>\n",
        "      <td> 0.000000</td>\n",
        "      <td> 0.000010</td>\n",
        "    </tr>\n",
        "    <tr>\n",
        "      <th>2011-04-21</th>\n",
        "      <td> 0.000000</td>\n",
        "      <td> 0.000014</td>\n",
        "    </tr>\n",
        "    <tr>\n",
        "      <th>2011-04-22</th>\n",
        "      <td> 0.000000</td>\n",
        "      <td> 0.000004</td>\n",
        "    </tr>\n",
        "    <tr>\n",
        "      <th>2011-04-23</th>\n",
        "      <td> 0.000000</td>\n",
        "      <td> 0.007393</td>\n",
        "    </tr>\n",
        "    <tr>\n",
        "      <th>2011-04-24</th>\n",
        "      <td> 0.308056</td>\n",
        "      <td> 0.510096</td>\n",
        "    </tr>\n",
        "  </tbody>\n",
        "</table>\n",
        "<p>7 rows \u00d7 2 columns</p>\n",
        "</div>"
       ],
       "metadata": {},
       "output_type": "pyout",
       "prompt_number": 179,
       "text": [
        "            hours_on       kwh\n",
        "2011-04-18       NaN       NaN\n",
        "2011-04-19  0.000000  0.000063\n",
        "2011-04-20  0.000000  0.000010\n",
        "2011-04-21  0.000000  0.000014\n",
        "2011-04-22  0.000000  0.000004\n",
        "2011-04-23  0.000000  0.007393\n",
        "2011-04-24  0.308056  0.510096\n",
        "\n",
        "[7 rows x 2 columns]"
       ]
      }
     ],
     "prompt_number": 179
    },
    {
     "cell_type": "heading",
     "level": 5,
     "metadata": {},
     "source": [
      "Sanity-check by looking at power data "
     ]
    },
    {
     "cell_type": "code",
     "collapsed": false,
     "input": [
      "plot_series(appliance[:\"2011-04-24\"], \n",
      "            date_format='%Y-%m-%d', \n",
      "            tz_localize=False)\n",
      "title(APPLIANCE_TYPE + ' power demand')"
     ],
     "language": "python",
     "metadata": {},
     "outputs": [
      {
       "metadata": {},
       "output_type": "pyout",
       "prompt_number": 201,
       "text": [
        "<matplotlib.text.Text at 0x7f20900b14d0>"
       ]
      },
      {
       "metadata": {},
       "output_type": "display_data",
       "png": "[encoded data removed]",
       "text": [
        "<matplotlib.figure.Figure at 0x7f20901eff50>"
       ]
      }
     ],
     "prompt_number": 201
    },
    {
     "cell_type": "heading",
     "level": 4,
     "metadata": {},
     "source": [
      "Usage of the oven, hour-by-hour, over an average day"
     ]
    },
    {
     "cell_type": "code",
     "collapsed": false,
     "input": [
      "dist = sstats.activity_distribution(oven, \n",
      "                                    bin_size='H', \n",
      "                                    timespan='D', \n",
      "                                    on_power_threshold=ON_POWER_THRESHOLD)\n",
      "\n",
      "# Graph formatting\n",
      "x = np.arange(dist.size)\n",
      "ylabel('frequency')\n",
      "xlabel('hour of day')\n",
      "title('Usage of the oven, hour-by-hour, over an average day')\n",
      "xlim([0, 24])\n",
      "xticks(range(0, 25, 6))\n",
      "bar(x, dist.values)"
     ],
     "language": "python",
     "metadata": {},
     "outputs": [
      {
       "metadata": {},
       "output_type": "pyout",
       "prompt_number": 198,
       "text": [
        "<Container object of 24 artists>"
       ]
      },
      {
       "metadata": {},
       "output_type": "display_data",
       "png": "[encoded data removed]",
       "text": [
        "<matplotlib.figure.Figure at 0x7f20904a9b90>"
       ]
      }
     ],
     "prompt_number": 198
    },
    {
     "cell_type": "heading",
     "level": 4,
     "metadata": {},
     "source": [
      "Usage of the oven, day-by-day, over an average week"
     ]
    },
    {
     "cell_type": "code",
     "collapsed": false,
     "input": [
      "import calendar\n",
      "\n",
      "dist = sstats.activity_distribution(oven, \n",
      "                                    bin_size='D', \n",
      "                                    timespan='W', \n",
      "                                    on_power_threshold=ON_POWER_THRESHOLD)\n",
      "x = np.arange(dist.size)\n",
      "ylabel('frequency')\n",
      "xlabel('day of week')\n",
      "title('')\n",
      "xticks(np.arange(7)+0.5, calendar.day_name[0:7])\n",
      "bar(x, dist.values)\n"
     ],
     "language": "python",
     "metadata": {},
     "outputs": [
      {
       "metadata": {},
       "output_type": "pyout",
       "prompt_number": 206,
       "text": [
        "<Container object of 7 artists>"
       ]
      },
      {
       "metadata": {},
       "output_type": "display_data",
       "png": "[encoded data removed]",
       "text": [
        "<matplotlib.figure.Figure at 0x7f20a86c8f10>"
       ]
      }
     ],
     "prompt_number": 206
    },
    {
     "cell_type": "heading",
     "level": 4,
     "metadata": {},
     "source": [
      "Histogram of on-durations"
     ]
    },
    {
     "cell_type": "code",
     "collapsed": false,
     "input": [
      "# Get a Series of booleans indicating when the oven is on:\n",
      "on_series = sstats.on(oven, on_power_threshold=ON_POWER_THRESHOLD)\n",
      "\n",
      "# Now get the length of every on-duration\n",
      "on_durations = sstats.durations(on_series, \n",
      "                                on_or_off='on',\n",
      "                                ignore_n_off_samples=10)\n",
      "xlabel('minutes on')\n",
      "ylabel('frequency')\n",
      "title('Distribution of on-durations for oven')\n",
      "h = hist(on_durations/60, bins=10)\n"
     ],
     "language": "python",
     "metadata": {},
     "outputs": [
      {
       "metadata": {},
       "output_type": "display_data",
       "png": "[encoded data removed]",
       "text": [
        "<matplotlib.figure.Figure at 0x7f208bada0d0>"
       ]
      }
     ],
     "prompt_number": 209
    },
    {
     "cell_type": "heading",
     "level": 2,
     "metadata": {},
     "source": [
      "Preprocessing"
     ]
    },
    {
     "cell_type": "code",
     "collapsed": false,
     "input": [],
     "language": "python",
     "metadata": {},
     "outputs": []
    }
   ],
   "metadata": {}
  }
 ]
}