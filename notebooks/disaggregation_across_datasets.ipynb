{
 "metadata": {
  "name": ""
 },
 "nbformat": 3,
 "nbformat_minor": 0,
 "worksheets": [
  {
   "cells": [
    {
     "cell_type": "code",
     "collapsed": false,
     "input": [
      "%matplotlib inline"
     ],
     "language": "python",
     "metadata": {},
     "outputs": [],
     "prompt_number": 1
    },
    {
     "cell_type": "code",
     "collapsed": false,
     "input": [
      "from __future__ import print_function\n",
      "from nilmtk.dataset import DataSet\n",
      "from nilmtk.cross_validation import train_test_split\n",
      "from nilmtk.disaggregate.fhmm_exact import FHMM\n",
      "from nilmtk.disaggregate.co_1d import CO_1d\n",
      "from nilmtk.metrics import rms_error_power\n",
      "from nilmtk.metrics import mean_normalized_error_power, fraction_energy_assigned_correctly, f_score\n",
      "from nilmtk.sensors.electricity import Measurement\n",
      "from nilmtk.stats.electricity.building import top_k_appliances\n",
      "from nilmtk.stats.electricity.building import find_appliances_contribution\n",
      "import nilmtk.preprocessing.electricity.building as prepb\n",
      "from nilmtk.dataset import DataSet\n",
      "from copy import deepcopy\n",
      "import time\n",
      "import pandas as pd\n",
      "import numpy as np\n",
      "import matplotlib.pyplot as plt\n",
      "import resource\n",
      "import os"
     ],
     "language": "python",
     "metadata": {},
     "outputs": [],
     "prompt_number": 2
    },
    {
     "cell_type": "markdown",
     "metadata": {},
     "source": [
      "Setting 5 GB memory usage as upper limit"
     ]
    },
    {
     "cell_type": "code",
     "collapsed": false,
     "input": [
      "# Setting the limits to 5 GB RAM usage\n",
      "megs = 7000\n",
      "resource.setrlimit(resource.RLIMIT_AS, (megs * 1048576L, -1L))"
     ],
     "language": "python",
     "metadata": {},
     "outputs": [],
     "prompt_number": 3
    },
    {
     "cell_type": "code",
     "collapsed": false,
     "input": [
      "import warnings\n",
      "warnings.filterwarnings('ignore')"
     ],
     "language": "python",
     "metadata": {},
     "outputs": [],
     "prompt_number": 4
    },
    {
     "cell_type": "code",
     "collapsed": false,
     "input": [
      "dataset_names=[\"redd/low_freq\",\"iawe\",\"ampds\",\"pecan_1min\",\"smart\",\"ukpd\"]\n",
      "#dataset_names=[\"redd/low_freq\",\"iawe\"]\n",
      "#dataset_names=['smart']\n",
      "#dataset_names=['ukpd']"
     ],
     "language": "python",
     "metadata": {},
     "outputs": [],
     "prompt_number": 5
    },
    {
     "cell_type": "code",
     "collapsed": false,
     "input": [
      "metrics=['mne','fraction','f_score']"
     ],
     "language": "python",
     "metadata": {},
     "outputs": [],
     "prompt_number": 6
    },
    {
     "cell_type": "code",
     "collapsed": false,
     "input": [
      "base_path=\"/home/nipun/Dropbox/nilmtk_datasets/\""
     ],
     "language": "python",
     "metadata": {},
     "outputs": [],
     "prompt_number": 7
    },
    {
     "cell_type": "code",
     "collapsed": false,
     "input": [
      "DISAGG_FEATURE = Measurement('power', 'active')"
     ],
     "language": "python",
     "metadata": {},
     "outputs": [],
     "prompt_number": 8
    },
    {
     "cell_type": "code",
     "collapsed": false,
     "input": [
      "disaggregators={}\n",
      "disaggregators['fhmm']=FHMM()\n",
      "disaggregators['co']=CO_1d()"
     ],
     "language": "python",
     "metadata": {},
     "outputs": [],
     "prompt_number": 9
    },
    {
     "cell_type": "code",
     "collapsed": false,
     "input": [
      "actual_names_datasets={'redd/low_freq':'REDD',\n",
      "                       'iawe':'iAWE',\n",
      "                       'pecan_1min':'PECAN',\n",
      "                       'ampds':'AMPds',\n",
      "                       'smart':'SMART*',\n",
      "                       'ukpd':'UKPD'\n",
      "                       }\n",
      "                       "
     ],
     "language": "python",
     "metadata": {},
     "outputs": [],
     "prompt_number": 10
    },
    {
     "cell_type": "code",
     "collapsed": false,
     "input": [
      "metric_function={'mne':mean_normalized_error_power,\n",
      "                 'fraction':fraction_energy_assigned_correctly,\n",
      "                 'f_score':f_score\n",
      "                 }"
     ],
     "language": "python",
     "metadata": {},
     "outputs": [],
     "prompt_number": 11
    },
    {
     "cell_type": "code",
     "collapsed": false,
     "input": [
      "train_time={}\n",
      "disaggregate_time={}\n",
      "results={}\n",
      "\n",
      "for dataset in dataset_names:\n",
      "    train_time[dataset]={}\n",
      "    disaggregate_time[dataset]={}\n",
      "    results[dataset]={}\n",
      "    for algorithm in ['fhmm','co']:\n",
      "        train_time[dataset][algorithm]={}\n",
      "        disaggregate_time[dataset][algorithm]={}\n",
      "        results[dataset][algorithm]={}\n",
      "    for metric in metrics:\n",
      "        results[dataset][algorithm][metric]={}  "
     ],
     "language": "python",
     "metadata": {},
     "outputs": [],
     "prompt_number": 12
    },
    {
     "cell_type": "markdown",
     "metadata": {},
     "source": [
      "Pre-processing routines for dataset (some are optional)"
     ]
    },
    {
     "cell_type": "code",
     "collapsed": false,
     "input": [
      "def preprocess_iawe(building):\n",
      "    building.utility.electric = building.utility.electric.sum_split_supplies()\n",
      "    building = prepb.filter_out_implausible_values(building, Measurement('voltage', ''), 160, 260)\n",
      "    building = prepb.filter_datetime(building, '7-13-2013', '8-4-2013')\n",
      "    building = prepb.downsample(building, rule='1T')\n",
      "    building = prepb.fill_appliance_gaps(building)\n",
      "    building = prepb.prepend_append_zeros(\n",
      "    building, '7-13-2013', '8-4-2013', '1T', 'Asia/Kolkata')\n",
      "    building = prepb.drop_missing_mains(building)\n",
      "    building = prepb.make_common_index(building)\n",
      "    building = prepb.filter_contribution_less_than_x(building, x=5)    \n",
      "    return building\n",
      "\n",
      "def preprocess_redd(building):\n",
      "    building.utility.electric = building.utility.electric.sum_split_supplies()\n",
      "    building = prepb.downsample(building, rule='1T')\n",
      "    building = prepb.fill_appliance_gaps(building)\n",
      "    building = prepb.drop_missing_mains(building)\n",
      "    building = prepb.make_common_index(building)\n",
      "    building.utility.electric.mains[(1,1)].rename(columns={Measurement('power','apparent'): Measurement('power','active')}, inplace=True)\n",
      "    building = prepb.filter_contribution_less_than_x(building, x=5)\n",
      "   \n",
      "    return building\n",
      "\n",
      "def preprocess_ampds(building):\n",
      "    building = prepb.filter_contribution_less_than_x(building, x=5)\n",
      "    return building\n",
      "\n",
      "def preprocess_pecan(building):\n",
      "    building = prepb.filter_contribution_less_than_x(building, x=5)\n",
      "    return building\n",
      "\n",
      "def preprocess_ukpd(building):\n",
      "    print(building.utility.electric.mains[(1,1)].columns)\n",
      "    building.utility.electric.mains[(1,1)].rename(columns={Measurement('power','apparent'):Measurement('power','active')}, inplace=True)\n",
      "    print(\"After replacing---\")\n",
      "    print(building.utility.electric.mains[(1,1)].columns)\n",
      "    print(building.utility.electric.mains[(1,1)].describe())\n",
      "    building  = prepb.filter_datetime(building, start_datetime='2013-04-05', end_datetime='2013-05-20')\n",
      "    building = prepb.downsample(building, rule='1T')\n",
      "    building = prepb.filter_channels_with_less_than_x_samples(building, 100)\n",
      "    building = prepb.fill_appliance_gaps(building)\n",
      "    building = prepb.prepend_append_zeros(building, '2013-04-05', '2013-05-20', '1T', 'Europe/London')\n",
      "    building = prepb.drop_missing_mains(building)\n",
      "    building = prepb.make_common_index(building)\n",
      "    building = prepb.filter_contribution_less_than_x(building, x=5)\n",
      "    return building\n",
      "\n",
      "def preprocess_smart(building):\n",
      "    building = prepb.filter_out_implausible_values(building, Measurement('power','active'), max_threshold=20000)\n",
      "    building = prepb.filter_channels_with_less_than_x_samples(building, 100)\n",
      "    building  = prepb.filter_datetime(building, start_datetime='2012-06-05', end_datetime='2012-06-10')\n",
      "    building = prepb.downsample(building)\n",
      "    for appliance_name, appliance_df in building.utility.electric.appliances.iteritems():\n",
      "        appliance_df.fillna(method='ffill',inplace=True, limit=2)\n",
      "    for appliance_name, appliance_df in building.utility.electric.appliances.iteritems():\n",
      "        appliance_df.fillna(0, inplace=True)\n",
      "    building = prepb.prepend_append_zeros(building, '2012-06-05', '2012-06-10', '1T', 'US/Eastern')\n",
      "    building = prepb.drop_missing_mains(building)\n",
      "    building = prepb.make_common_index(building)\n",
      "    building  = prepb.filter_contribution_less_than_x(building)\n",
      "    return building\n",
      "\n",
      "preprocess_map={'iawe':preprocess_iawe, 'redd/low_freq':preprocess_redd, \n",
      "                'ampds':preprocess_ampds, 'pecan_1min':preprocess_pecan,\n",
      "                'smart':preprocess_smart,'ukpd':preprocess_ukpd}"
     ],
     "language": "python",
     "metadata": {},
     "outputs": [],
     "prompt_number": 13
    },
    {
     "cell_type": "code",
     "collapsed": false,
     "input": [
      "for dataset_name in dataset_names:\n",
      "    print(\"*\"*80)\n",
      "    print(\"Loading {}\".format(dataset_name))\n",
      "    dataset =DataSet()\n",
      "    dataset.load_hdf5(os.path.join(base_path, dataset_name), [1])\n",
      "    print(\"Loaded {}\".format(dataset_name))\n",
      "    building = dataset.buildings[1]\n",
      "    print(\"Preprocessing building #1\")    \n",
      "    building = preprocess_map[dataset_name](building)\n",
      "    print(\"Number of appliance left = {}\".format(len(building.utility.electric.appliances.keys()))) \n",
      "    print(\"Dividing data into test and train\")\n",
      "    train, test = train_test_split(building, train_size = 0.5) \n",
      "    for disaggregator_name, disaggregator in disaggregators.iteritems():   \n",
      "        # Train\n",
      "        t1 = time.time()\n",
      "        disaggregator.train(train, disagg_features=[DISAGG_FEATURE])\n",
      "        t2 = time.time()\n",
      "        print(\"Runtime to train for {} = {:.2f} seconds\".format(disaggregator_name, t2 - t1))\n",
      "        train_time[dataset_name][disaggregator_name]=t2-t1\n",
      "    \n",
      "        # Disaggregate\n",
      "        t1 = time.time()\n",
      "        disaggregator.disaggregate(test)\n",
      "        t2 = time.time()\n",
      "        print(\"Runtime to disaggregate for {}= {:.2f} seconds\".format(disaggregator_name, t2 - t1))\n",
      "        disaggregate_time[dataset_name][disaggregator_name]=t2-t1   \n",
      "        \n",
      "        # Predicted power and states\n",
      "        predicted_power = disaggregator.predictions\n",
      "        app_ground = test.utility.electric.appliances\n",
      "        ground_truth_power = pd.DataFrame({appliance: app_ground[appliance][DISAGG_FEATURE] for appliance in app_ground})\n",
      "        \n",
      "        for metric in metrics:\n",
      "            results[dataset_name][disaggregator_name][metric] = metric_function[metric](predicted_power, ground_truth_power)    \n",
      "\n",
      "    "
     ],
     "language": "python",
     "metadata": {},
     "outputs": [
      {
       "output_type": "stream",
       "stream": "stdout",
       "text": [
        "********************************************************************************\n",
        "Loading redd/low_freq\n",
        "Loaded redd/low_freq"
       ]
      },
      {
       "output_type": "stream",
       "stream": "stdout",
       "text": [
        "\n",
        "Preprocessing building #1\n",
        "Common Measurement: "
       ]
      },
      {
       "output_type": "stream",
       "stream": "stdout",
       "text": [
        " Measurement(physical_quantity='power', type='active')\n",
        "Number of appliance left = 7\n",
        "Dividing data into test and train\n",
        "ApplianceName(name='dishwasher', instance=1)\n",
        "ApplianceName(name='fridge', instance=1)"
       ]
      },
      {
       "output_type": "stream",
       "stream": "stdout",
       "text": [
        "\n",
        "ApplianceName(name='kitchen outlets', instance=1)"
       ]
      },
      {
       "output_type": "stream",
       "stream": "stdout",
       "text": [
        "\n",
        "ApplianceName(name='kitchen outlets', instance=2)"
       ]
      },
      {
       "output_type": "stream",
       "stream": "stdout",
       "text": [
        "\n",
        "ApplianceName(name='lighting', instance=1)"
       ]
      },
      {
       "output_type": "stream",
       "stream": "stdout",
       "text": [
        "\n",
        "ApplianceName(name='microwave', instance=1)"
       ]
      },
      {
       "output_type": "stream",
       "stream": "stdout",
       "text": [
        "\n",
        "ApplianceName(name='washer dryer', instance=1)"
       ]
      },
      {
       "output_type": "stream",
       "stream": "stdout",
       "text": [
        "\n",
        "Runtime to train for fhmm = 22.81 seconds"
       ]
      },
      {
       "output_type": "stream",
       "stream": "stdout",
       "text": [
        "\n",
        "Runtime to disaggregate for fhmm= 1.21 seconds"
       ]
      },
      {
       "output_type": "stream",
       "stream": "stdout",
       "text": [
        "\n",
        "Runtime to train for co = 3.67 seconds"
       ]
      },
      {
       "output_type": "stream",
       "stream": "stdout",
       "text": [
        "\n",
        "128\n",
        "{ApplianceName(name='fridge', instance=1): [0, 185], ApplianceName(name='washer dryer', instance=1): [0, 1957], ApplianceName(name='kitchen outlets', instance=2): [0, 28], ApplianceName(name='kitchen outlets', instance=1): [0, 21], ApplianceName(name='lighting', instance=1): [0, 85], ApplianceName(name='dishwasher', instance=1): [0, 589], ApplianceName(name='microwave', instance=1): [0, 947]}\n",
        "Runtime to disaggregate for co= 0.14 seconds"
       ]
      },
      {
       "output_type": "stream",
       "stream": "stdout",
       "text": [
        "\n",
        "********************************************************************************\n",
        "Loading iawe\n",
        "Loaded iawe"
       ]
      },
      {
       "output_type": "stream",
       "stream": "stdout",
       "text": [
        "\n",
        "Preprocessing building #1\n",
        "DELETING ApplianceName(name='water motor', instance=1)"
       ]
      },
      {
       "output_type": "stream",
       "stream": "stdout",
       "text": [
        "\n",
        "Common Measurement: "
       ]
      },
      {
       "output_type": "stream",
       "stream": "stdout",
       "text": [
        " Measurement(physical_quantity='power', type='active')\n",
        "Number of appliance left = 3\n",
        "Dividing data into test and train\n",
        "ApplianceName(name='air conditioner', instance=1)\n",
        "ApplianceName(name='air conditioner', instance=2)"
       ]
      },
      {
       "output_type": "stream",
       "stream": "stdout",
       "text": [
        "\n",
        "ApplianceName(name='fridge', instance=1)"
       ]
      },
      {
       "output_type": "stream",
       "stream": "stdout",
       "text": [
        "\n",
        "Runtime to train for fhmm = 8.90 seconds"
       ]
      },
      {
       "output_type": "stream",
       "stream": "stdout",
       "text": [
        "\n",
        "Runtime to disaggregate for fhmm= 0.38 seconds"
       ]
      },
      {
       "output_type": "stream",
       "stream": "stdout",
       "text": [
        "\n",
        "Runtime to train for co = 1.68 seconds"
       ]
      },
      {
       "output_type": "stream",
       "stream": "stdout",
       "text": [
        "\n",
        "8\n",
        "{ApplianceName(name='air conditioner', instance=2): [0, 1119], ApplianceName(name='fridge', instance=1): [0, 88], ApplianceName(name='air conditioner', instance=1): [0, 1651]}\n",
        "Runtime to disaggregate for co= 0.07 seconds"
       ]
      },
      {
       "output_type": "stream",
       "stream": "stdout",
       "text": [
        "\n",
        "********************************************************************************\n",
        "Loading ampds\n",
        "Loaded ampds"
       ]
      },
      {
       "output_type": "stream",
       "stream": "stdout",
       "text": [
        "\n",
        "Preprocessing building #1\n",
        "Common Measurement:  Measurement(physical_quantity='power', type='active')\n",
        "Number of appliance left = 7"
       ]
      },
      {
       "output_type": "stream",
       "stream": "stdout",
       "text": [
        "\n",
        "Dividing data into test and train\n",
        "ApplianceName(name='air conditioner', instance=1)"
       ]
      },
      {
       "output_type": "stream",
       "stream": "stdout",
       "text": [
        "\n",
        "ApplianceName(name='dryer washer', instance=1)"
       ]
      },
      {
       "output_type": "stream",
       "stream": "stdout",
       "text": [
        "\n",
        "ApplianceName(name='fridge', instance=1)"
       ]
      },
      {
       "output_type": "stream",
       "stream": "stdout",
       "text": [
        "\n",
        "ApplianceName(name='plugs', instance=1)"
       ]
      },
      {
       "output_type": "stream",
       "stream": "stdout",
       "text": [
        "\n",
        "ApplianceName(name='plugs', instance=4)"
       ]
      },
      {
       "output_type": "stream",
       "stream": "stdout",
       "text": [
        "\n",
        "ApplianceName(name='space heater', instance=1)"
       ]
      },
      {
       "output_type": "stream",
       "stream": "stdout",
       "text": [
        "\n",
        "ApplianceName(name='unmetered', instance=1)"
       ]
      },
      {
       "output_type": "stream",
       "stream": "stdout",
       "text": [
        "\n",
        "Runtime to train for fhmm = 298.49 seconds"
       ]
      },
      {
       "output_type": "stream",
       "stream": "stdout",
       "text": [
        "\n",
        "Runtime to disaggregate for fhmm= 22.58 seconds"
       ]
      },
      {
       "output_type": "stream",
       "stream": "stdout",
       "text": [
        "\n",
        "Runtime to train for co = 5.92 seconds"
       ]
      },
      {
       "output_type": "stream",
       "stream": "stdout",
       "text": [
        "\n",
        "128"
       ]
      },
      {
       "output_type": "stream",
       "stream": "stdout",
       "text": [
        "\n",
        "{ApplianceName(name='fridge', instance=1): [0, 133], ApplianceName(name='unmetered', instance=1): [0, 136], ApplianceName(name='plugs', instance=1): [0, 295], ApplianceName(name='space heater', instance=1): [0, 111], ApplianceName(name='dryer washer', instance=1): [0, 2909], ApplianceName(name='air conditioner', instance=1): [0, 125], ApplianceName(name='plugs', instance=4): [0, 51]}\n",
        "Runtime to disaggregate for co= 3.08 seconds"
       ]
      },
      {
       "output_type": "stream",
       "stream": "stdout",
       "text": [
        "\n",
        "********************************************************************************"
       ]
      },
      {
       "output_type": "stream",
       "stream": "stdout",
       "text": [
        "\n",
        "Loading pecan_1min\n",
        "Loaded pecan_1min"
       ]
      },
      {
       "output_type": "stream",
       "stream": "stdout",
       "text": [
        "\n",
        "Preprocessing building #1\n",
        "Common Measurement:  Measurement(physical_quantity='power', type='active')\n",
        "Number of appliance left = 2\n",
        "Dividing data into test and train\n",
        "ApplianceName(name='air conditioner', instance=1)\n",
        "ApplianceName(name='central heater boiler', instance=1)"
       ]
      },
      {
       "output_type": "stream",
       "stream": "stdout",
       "text": [
        "\n",
        "Runtime to train for fhmm = 2.83 seconds"
       ]
      },
      {
       "output_type": "stream",
       "stream": "stdout",
       "text": [
        "\n",
        "Runtime to disaggregate for fhmm= 0.12 seconds"
       ]
      },
      {
       "output_type": "stream",
       "stream": "stdout",
       "text": [
        "\n",
        "Runtime to train for co = 1.72 seconds"
       ]
      },
      {
       "output_type": "stream",
       "stream": "stdout",
       "text": [
        "\n",
        "4\n",
        "{ApplianceName(name='central heater boiler', instance=1): [0, 226], ApplianceName(name='air conditioner', instance=1): [0, 2544]}\n",
        "Runtime to disaggregate for co= 0.02 seconds\n",
        "********************************************************************************\n",
        "Loading smart\n",
        "Loaded smart"
       ]
      },
      {
       "output_type": "stream",
       "stream": "stdout",
       "text": [
        "\n",
        "Preprocessing building #1\n",
        "(ApplianceName(name='misc', instance=2), 0)"
       ]
      },
      {
       "output_type": "stream",
       "stream": "stdout",
       "text": [
        "\n",
        "ApplianceName(name='misc', instance=2)\n",
        "(ApplianceName(name='light', instance=3), 25)\n",
        "ApplianceName(name='light', instance=3)\n",
        "(ApplianceName(name='misc', instance=1), 70)\n",
        "ApplianceName(name='misc', instance=1)\n",
        "(ApplianceName(name='misc', instance=12), 95)\n",
        "ApplianceName(name='misc', instance=12)\n",
        "(ApplianceName(name='fan', instance=1), 729)\n",
        "(ApplianceName(name='phone', instance=1), 0)\n",
        "ApplianceName(name='phone', instance=1)\n",
        "(ApplianceName(name='misc', instance=5), 2490)\n",
        "(ApplianceName(name='computer laptop', instance=1), 1)\n",
        "ApplianceName(name='computer laptop', instance=1)\n",
        "(ApplianceName(name='misc', instance=9), 90)\n",
        "ApplianceName(name='misc', instance=9)\n",
        "(ApplianceName(name='misc', instance=4), 95)\n",
        "ApplianceName(name='misc', instance=4)\n",
        "(ApplianceName(name='entertainment unit', instance=4), 14514)\n",
        "(ApplianceName(name='misc', instance=13), 91)\n",
        "ApplianceName(name='misc', instance=13)\n",
        "(ApplianceName(name='printer', instance=1), 689)\n",
        "(ApplianceName(name='misc', instance=6), 1466)\n",
        "(ApplianceName(name='entertainment unit', instance=2), 20692)\n",
        "(ApplianceName(name='water pump', instance=1), 309)\n",
        "(ApplianceName(name='dehumidifier', instance=1), 94444)\n",
        "(ApplianceName(name='misc', instance=10), 3151)\n",
        "(ApplianceName(name='entertainment unit', instance=1), 94)\n",
        "ApplianceName(name='entertainment unit', instance=1)\n",
        "(ApplianceName(name='entertainment unit', instance=5), 58)\n",
        "ApplianceName(name='entertainment unit', instance=5)\n",
        "(ApplianceName(name='air conditioner', instance=1), 12819)\n",
        "(ApplianceName(name='coffee maker', instance=1), 888)\n",
        "(ApplianceName(name='fridge', instance=1), 13484)\n",
        "(ApplianceName(name='light', instance=2), 53)\n",
        "ApplianceName(name='light', instance=2)\n",
        "(ApplianceName(name='misc', instance=7), 0)\n",
        "ApplianceName(name='misc', instance=7)\n",
        "(ApplianceName(name='hrv', instance=1), 3655)\n",
        "(ApplianceName(name='microwave', instance=1), 12)\n",
        "ApplianceName(name='microwave', instance=1)\n",
        "(ApplianceName(name='toaster', instance=1), 810)\n",
        "(ApplianceName(name='misc', instance=11), 780)\n",
        "(ApplianceName(name='monitor', instance=1), 276)\n",
        "(ApplianceName(name='light', instance=5), 9748)\n",
        "(ApplianceName(name='entertainment unit', instance=3), 95)\n",
        "ApplianceName(name='entertainment unit', instance=3)\n",
        "(ApplianceName(name='computer desktop', instance=1), 39819)\n",
        "(ApplianceName(name='light', instance=1), 94)\n",
        "ApplianceName(name='light', instance=1)\n",
        "(ApplianceName(name='entertainment', instance=1), 3667)\n",
        "(ApplianceName(name='washing machine', instance=1), 68)\n",
        "ApplianceName(name='washing machine', instance=1)\n",
        "(ApplianceName(name='entertainment', instance=5), 73)\n",
        "ApplianceName(name='entertainment', instance=5)\n",
        "(ApplianceName(name='misc', instance=3), 45)\n",
        "ApplianceName(name='misc', instance=3)\n",
        "(ApplianceName(name='light', instance=4), 2506)\n",
        "(ApplianceName(name='refrigerator', instance=2), 19)\n",
        "ApplianceName(name='refrigerator', instance=2)\n",
        "(ApplianceName(name='misc', instance=8), 10109)\n",
        "Common Measurement: "
       ]
      },
      {
       "output_type": "stream",
       "stream": "stdout",
       "text": [
        " Measurement(physical_quantity='power', type='active')\n",
        "Number of appliance left = 2\n",
        "Dividing data into test and train\n",
        "ApplianceName(name='dehumidifier', instance=1)\n",
        "ApplianceName(name='fridge', instance=1)"
       ]
      },
      {
       "output_type": "stream",
       "stream": "stdout",
       "text": [
        "\n",
        "Runtime to train for fhmm = 1.66 seconds"
       ]
      },
      {
       "output_type": "stream",
       "stream": "stdout",
       "text": [
        "\n",
        "Runtime to disaggregate for fhmm= 0.09 seconds"
       ]
      },
      {
       "output_type": "stream",
       "stream": "stdout",
       "text": [
        "\n",
        "Runtime to train for co = 1.51 seconds"
       ]
      },
      {
       "output_type": "stream",
       "stream": "stdout",
       "text": [
        "\n",
        "4\n",
        "{ApplianceName(name='fridge', instance=1): [0, 117], ApplianceName(name='dehumidifier', instance=1): [0, 358]}\n",
        "Runtime to disaggregate for co= 0.03 seconds\n",
        "********************************************************************************\n",
        "Loading ukpd\n",
        "Loaded ukpd"
       ]
      },
      {
       "output_type": "stream",
       "stream": "stdout",
       "text": [
        "\n",
        "Preprocessing building #1\n",
        "Index([(u'power', u'apparent')], dtype=object)\n",
        "After replacing---\n",
        "Index([(u'power', u'active')], dtype=object)\n",
        "       (power, active)\n",
        "count   1663303.000000\n",
        "mean        337.028931\n",
        "std         399.651215\n",
        "min          71.000000\n",
        "25%         174.000000\n",
        "50%         223.000000\n",
        "75%         348.000000\n",
        "max        7234.000000"
       ]
      },
      {
       "output_type": "stream",
       "stream": "stdout",
       "text": [
        "\n",
        "DELETING ApplianceName(name='LED_printer', instance=1)"
       ]
      },
      {
       "output_type": "stream",
       "stream": "stdout",
       "text": [
        "\n",
        "DELETING ApplianceName(name='office_fan', instance=1)\n",
        "(ApplianceName(name='office_pc', instance=1), 54716)"
       ]
      },
      {
       "output_type": "stream",
       "stream": "stdout",
       "text": [
        "\n",
        "(ApplianceName(name='htpc', instance=1), 64800)\n",
        "(ApplianceName(name='breadmaker', instance=1), 64741)\n",
        "(ApplianceName(name='kitchen_phone&stereo', instance=1), 64860)\n",
        "(ApplianceName(name='gigE_&_USBhub', instance=1), 54716)\n",
        "(ApplianceName(name='DAB_radio_livingroom', instance=1), 44418)\n",
        "(ApplianceName(name='bedroom_d_lamp', instance=1), 64800)\n",
        "(ApplianceName(name='kitchen_radio', instance=1), 64800)\n",
        "(ApplianceName(name='bedroom_chargers', instance=1), 64800)\n",
        "(ApplianceName(name='gas_oven', instance=1), 64800)\n",
        "(ApplianceName(name='office_lamp2', instance=1), 55012)\n",
        "(ApplianceName(name='battery_charger', instance=1), 55012)\n",
        "(ApplianceName(name='kitchen_dt_lamp', instance=1), 64800)\n",
        "(ApplianceName(name='livingroom_s_lamp', instance=1), 64860)\n",
        "(ApplianceName(name='iron', instance=1), 29599)\n",
        "(ApplianceName(name='kitchen_lights', instance=1), 64800)\n",
        "(ApplianceName(name='fridge', instance=1), 64860)\n",
        "(ApplianceName(name='childs_ds_lamp', instance=1), 64860)\n",
        "(ApplianceName(name='baby_monitor_tx', instance=1), 64800)\n",
        "(ApplianceName(name='coffee_machine', instance=1), 64800)\n",
        "(ApplianceName(name='lighting_circuit', instance=1), 64741)\n",
        "(ApplianceName(name='hoover', instance=1), 62461)\n",
        "(ApplianceName(name='samsung_charger', instance=1), 64800)\n",
        "(ApplianceName(name='hifi_office', instance=1), 64095)\n",
        "(ApplianceName(name='soldering_iron', instance=1), 64095)\n",
        "(ApplianceName(name='hair_dryer', instance=1), 58973)\n",
        "(ApplianceName(name='office_lamp3', instance=1), 54716)\n",
        "(ApplianceName(name='solar_thermal_pump', instance=1), 64800)\n",
        "(ApplianceName(name='subwoofer_livingroom', instance=1), 64800)\n",
        "(ApplianceName(name='bedroom_ds_lamp', instance=1), 64860)\n",
        "(ApplianceName(name='iPad_charger', instance=1), 64741)\n",
        "(ApplianceName(name='utilityrm_lamp', instance=1), 4356)\n",
        "(ApplianceName(name='data_logger_pc', instance=1), 64800)\n",
        "(ApplianceName(name='tv', instance=1), 64801)\n",
        "(ApplianceName(name='gigE_switch', instance=1), 9248)\n",
        "(ApplianceName(name='adsl_router', instance=1), 64800)\n",
        "(ApplianceName(name='microwave', instance=1), 64800)\n",
        "(ApplianceName(name='kettle', instance=1), 64860)\n",
        "(ApplianceName(name='laptop', instance=1), 64095)\n",
        "(ApplianceName(name='straighteners', instance=1), 58973)\n",
        "(ApplianceName(name='amp_livingroom', instance=1), 64800)\n",
        "(ApplianceName(name='washing_machine', instance=1), 64800)\n",
        "(ApplianceName(name='office_lamp1', instance=1), 55013)\n",
        "(ApplianceName(name='childs_table_lamp', instance=1), 64741)\n",
        "(ApplianceName(name='boiler', instance=1), 64800)\n",
        "(ApplianceName(name='kitchen_lamp2', instance=1), 64801)\n",
        "(ApplianceName(name='dishwasher', instance=1), 64741)\n",
        "(ApplianceName(name='toaster', instance=1), 64860)\n",
        "(ApplianceName(name='livingroom_s_lamp2', instance=1), 64800)\n",
        "(ApplianceName(name='lcd_office', instance=1), 64095)\n",
        "(ApplianceName(name='livingroom_lamp_tv', instance=1), 64800)\n",
        "Common Measurement: "
       ]
      },
      {
       "output_type": "stream",
       "stream": "stdout",
       "text": [
        " Measurement(physical_quantity='power', type='active')\n",
        "Number of appliance left = 3\n",
        "Dividing data into test and train\n",
        "ApplianceName(name='fridge', instance=1)\n",
        "ApplianceName(name='lighting_circuit', instance=1)"
       ]
      },
      {
       "output_type": "stream",
       "stream": "stdout",
       "text": [
        "\n",
        "ApplianceName(name='washing_machine', instance=1)"
       ]
      },
      {
       "output_type": "stream",
       "stream": "stdout",
       "text": [
        "\n",
        "Runtime to train for fhmm = 25.05 seconds"
       ]
      },
      {
       "output_type": "stream",
       "stream": "stdout",
       "text": [
        "\n",
        "Runtime to disaggregate for fhmm= 0.78 seconds"
       ]
      },
      {
       "output_type": "stream",
       "stream": "stdout",
       "text": [
        "\n",
        "Runtime to train for co = 2.45 seconds"
       ]
      },
      {
       "output_type": "stream",
       "stream": "stdout",
       "text": [
        "\n",
        "8"
       ]
      },
      {
       "output_type": "stream",
       "stream": "stdout",
       "text": [
        "\n",
        "{ApplianceName(name='lighting_circuit', instance=1): [0, 208], ApplianceName(name='fridge', instance=1): [0, 89], ApplianceName(name='washing_machine', instance=1): [0, 539]}\n",
        "Runtime to disaggregate for co= 0.16 seconds"
       ]
      },
      {
       "output_type": "stream",
       "stream": "stdout",
       "text": [
        "\n"
       ]
      }
     ],
     "prompt_number": 14
    },
    {
     "cell_type": "code",
     "collapsed": false,
     "input": [
      "pd.DataFrame(train_time).T"
     ],
     "language": "python",
     "metadata": {},
     "outputs": [
      {
       "html": [
        "<div style=\"max-height:1000px;max-width:1500px;overflow:auto;\">\n",
        "<table border=\"1\" class=\"dataframe\">\n",
        "  <thead>\n",
        "    <tr style=\"text-align: right;\">\n",
        "      <th></th>\n",
        "      <th>co</th>\n",
        "      <th>fhmm</th>\n",
        "    </tr>\n",
        "  </thead>\n",
        "  <tbody>\n",
        "    <tr>\n",
        "      <th>ampds</th>\n",
        "      <td> 5.915312</td>\n",
        "      <td> 298.486545</td>\n",
        "    </tr>\n",
        "    <tr>\n",
        "      <th>iawe</th>\n",
        "      <td> 1.683808</td>\n",
        "      <td>   8.901979</td>\n",
        "    </tr>\n",
        "    <tr>\n",
        "      <th>pecan_1min</th>\n",
        "      <td> 1.723108</td>\n",
        "      <td>   2.833696</td>\n",
        "    </tr>\n",
        "    <tr>\n",
        "      <th>redd/low_freq</th>\n",
        "      <td> 3.670840</td>\n",
        "      <td>  22.810926</td>\n",
        "    </tr>\n",
        "    <tr>\n",
        "      <th>smart</th>\n",
        "      <td> 1.511188</td>\n",
        "      <td>   1.662553</td>\n",
        "    </tr>\n",
        "    <tr>\n",
        "      <th>ukpd</th>\n",
        "      <td> 2.451455</td>\n",
        "      <td>  25.054606</td>\n",
        "    </tr>\n",
        "  </tbody>\n",
        "</table>\n",
        "</div>"
       ],
       "metadata": {},
       "output_type": "pyout",
       "prompt_number": 15,
       "text": [
        "                     co        fhmm\n",
        "ampds          5.915312  298.486545\n",
        "iawe           1.683808    8.901979\n",
        "pecan_1min     1.723108    2.833696\n",
        "redd/low_freq  3.670840   22.810926\n",
        "smart          1.511188    1.662553\n",
        "ukpd           2.451455   25.054606"
       ]
      }
     ],
     "prompt_number": 15
    },
    {
     "cell_type": "code",
     "collapsed": false,
     "input": [
      "pd.DataFrame(disaggregate_time).T"
     ],
     "language": "python",
     "metadata": {},
     "outputs": [
      {
       "html": [
        "<div style=\"max-height:1000px;max-width:1500px;overflow:auto;\">\n",
        "<table border=\"1\" class=\"dataframe\">\n",
        "  <thead>\n",
        "    <tr style=\"text-align: right;\">\n",
        "      <th></th>\n",
        "      <th>co</th>\n",
        "      <th>fhmm</th>\n",
        "    </tr>\n",
        "  </thead>\n",
        "  <tbody>\n",
        "    <tr>\n",
        "      <th>ampds</th>\n",
        "      <td> 3.079516</td>\n",
        "      <td> 22.575867</td>\n",
        "    </tr>\n",
        "    <tr>\n",
        "      <th>iawe</th>\n",
        "      <td> 0.074802</td>\n",
        "      <td>  0.378995</td>\n",
        "    </tr>\n",
        "    <tr>\n",
        "      <th>pecan_1min</th>\n",
        "      <td> 0.023310</td>\n",
        "      <td>  0.117452</td>\n",
        "    </tr>\n",
        "    <tr>\n",
        "      <th>redd/low_freq</th>\n",
        "      <td> 0.135965</td>\n",
        "      <td>  1.208493</td>\n",
        "    </tr>\n",
        "    <tr>\n",
        "      <th>smart</th>\n",
        "      <td> 0.026334</td>\n",
        "      <td>  0.087578</td>\n",
        "    </tr>\n",
        "    <tr>\n",
        "      <th>ukpd</th>\n",
        "      <td> 0.162154</td>\n",
        "      <td>  0.778854</td>\n",
        "    </tr>\n",
        "  </tbody>\n",
        "</table>\n",
        "</div>"
       ],
       "metadata": {},
       "output_type": "pyout",
       "prompt_number": 16,
       "text": [
        "                     co       fhmm\n",
        "ampds          3.079516  22.575867\n",
        "iawe           0.074802   0.378995\n",
        "pecan_1min     0.023310   0.117452\n",
        "redd/low_freq  0.135965   1.208493\n",
        "smart          0.026334   0.087578\n",
        "ukpd           0.162154   0.778854"
       ]
      }
     ],
     "prompt_number": 16
    },
    {
     "cell_type": "code",
     "collapsed": false,
     "input": [
      "def compute_summary(results):\n",
      "    results = deepcopy(results)\n",
      "    for dataset_name, dataset_vals in results.iteritems():    \n",
      "        for algo_name, algo_vals in dataset_vals.iteritems():\n",
      "            sum_fscore=0.0\n",
      "            count_f = 0\n",
      "            for appliance_fscore in algo_vals['f_score'].values():\n",
      "                sum_fscore+=appliance_fscore\n",
      "                count_f +=1\n",
      "            algo_vals['f_score'] = sum_fscore/count_f\n",
      "            sum_mne=0.0\n",
      "            count_m = 0\n",
      "            for appliance_mne in algo_vals['mne'].values():\n",
      "                sum_mne+=appliance_mne\n",
      "                count_m +=1\n",
      "            algo_vals['mne'] = sum_mne/count_m\n",
      "    return results"
     ],
     "language": "python",
     "metadata": {},
     "outputs": [],
     "prompt_number": 17
    },
    {
     "cell_type": "code",
     "collapsed": false,
     "input": [
      "results"
     ],
     "language": "python",
     "metadata": {},
     "outputs": [
      {
       "metadata": {},
       "output_type": "pyout",
       "prompt_number": 18,
       "text": [
        "{'ampds': {'co': {'f_score': {ApplianceName(name='air conditioner', instance=1): 0.74691023178759408,\n",
        "    ApplianceName(name='dryer washer', instance=1): 0.1467878355405377,\n",
        "    ApplianceName(name='fridge', instance=1): 0.46917440779843406,\n",
        "    ApplianceName(name='plugs', instance=1): 0.28231884338937707,\n",
        "    ApplianceName(name='plugs', instance=4): 0.71038326600957369,\n",
        "    ApplianceName(name='space heater', instance=1): 0.74288139128433439,\n",
        "    ApplianceName(name='unmetered', instance=1): 0.74450902251392848},\n",
        "   'fraction': 0.43879267282316337,\n",
        "   'mne': {ApplianceName(name='air conditioner', instance=1): 1.1146654038124097,\n",
        "    ApplianceName(name='dryer washer', instance=1): 7.6322087029088612,\n",
        "    ApplianceName(name='fridge', instance=1): 1.512090026966983,\n",
        "    ApplianceName(name='plugs', instance=1): 3.5601049672475402,\n",
        "    ApplianceName(name='plugs', instance=4): 0.45427949788949401,\n",
        "    ApplianceName(name='space heater', instance=1): 0.49166978096141661,\n",
        "    ApplianceName(name='unmetered', instance=1): 0.82375450857106702}},\n",
        "  'fhmm': {'f_score': {ApplianceName(name='air conditioner', instance=1): 0.96984015695608883,\n",
        "    ApplianceName(name='dryer washer', instance=1): 0.68122362869198316,\n",
        "    ApplianceName(name='fridge', instance=1): 0.29740230190995848,\n",
        "    ApplianceName(name='plugs', instance=1): 0.43141105035797367,\n",
        "    ApplianceName(name='plugs', instance=4): 0.58782353986398805,\n",
        "    ApplianceName(name='space heater', instance=1): 0.99948691049544602,\n",
        "    ApplianceName(name='unmetered', instance=1): 0.97576806070286293},\n",
        "   'fraction': 0.84068601981738678,\n",
        "   'mne': {ApplianceName(name='air conditioner', instance=1): 0.35324423991135373,\n",
        "    ApplianceName(name='dryer washer', instance=1): 0.36167062286525115,\n",
        "    ApplianceName(name='fridge', instance=1): 1.8616181212583889,\n",
        "    ApplianceName(name='plugs', instance=1): 1.8861346958984777,\n",
        "    ApplianceName(name='plugs', instance=4): 0.48521267378024407,\n",
        "    ApplianceName(name='space heater', instance=1): 1.1101614243515481,\n",
        "    ApplianceName(name='unmetered', instance=1): 0.66427492327884285}}},\n",
        " 'iawe': {'co': {'f_score': {ApplianceName(name='air conditioner', instance=1): 0.88235294117647056,\n",
        "    ApplianceName(name='air conditioner', instance=2): 0.52379490328523193,\n",
        "    ApplianceName(name='fridge', instance=1): 0.78806042687618982},\n",
        "   'fraction': 0.89063985559677439,\n",
        "   'mne': {ApplianceName(name='air conditioner', instance=1): 0.29928210304391778,\n",
        "    ApplianceName(name='air conditioner', instance=2): 1.8666947409718793,\n",
        "    ApplianceName(name='fridge', instance=1): 0.57141805848427407}},\n",
        "  'fhmm': {'f_score': {ApplianceName(name='air conditioner', instance=1): 0.88235294117647056,\n",
        "    ApplianceName(name='air conditioner', instance=2): 0.52337023370233704,\n",
        "    ApplianceName(name='fridge', instance=1): 0.78817574407774849},\n",
        "   'fraction': 0.89122306023641318,\n",
        "   'mne': {ApplianceName(name='air conditioner', instance=1): 0.29928210304391778,\n",
        "    ApplianceName(name='air conditioner', instance=2): 1.862622002473163,\n",
        "    ApplianceName(name='fridge', instance=1): 0.57126836343641252}}},\n",
        " 'pecan_1min': {'co': {'f_score': {ApplianceName(name='air conditioner', instance=1): 0.95802214782384754,\n",
        "    ApplianceName(name='central heater boiler', instance=1): 0.57459039954009772},\n",
        "   'fraction': 0.98554055176789301,\n",
        "   'mne': {ApplianceName(name='air conditioner', instance=1): 0.28475968009214475,\n",
        "    ApplianceName(name='central heater boiler', instance=1): 1.0840098217359773}},\n",
        "  'fhmm': {'f_score': {ApplianceName(name='air conditioner', instance=1): 0.97212636049907086,\n",
        "    ApplianceName(name='central heater boiler', instance=1): 0.57530294287362949},\n",
        "   'fraction': 0.87098500377372845,\n",
        "   'mne': {ApplianceName(name='air conditioner', instance=1): 0.15893852646099901,\n",
        "    ApplianceName(name='central heater boiler', instance=1): 1.3344813011026568}}},\n",
        " 'redd/low_freq': {'co': {'f_score': {ApplianceName(name='dishwasher', instance=1): 0.23715012722646314,\n",
        "    ApplianceName(name='fridge', instance=1): 0.48651856876377819,\n",
        "    ApplianceName(name='kitchen outlets', instance=1): 0.0,\n",
        "    ApplianceName(name='kitchen outlets', instance=2): 0.0,\n",
        "    ApplianceName(name='lighting', instance=1): 0.5169790313601782,\n",
        "    ApplianceName(name='microwave', instance=1): 0.25,\n",
        "    ApplianceName(name='washer dryer', instance=1): 0.69260700389105068},\n",
        "   'fraction': 0.77114013756625543,\n",
        "   'mne': {ApplianceName(name='dishwasher', instance=1): 2.8594578926207888,\n",
        "    ApplianceName(name='fridge', instance=1): 1.6059342822412361,\n",
        "    ApplianceName(name='kitchen outlets', instance=1): 0.49334910891734801,\n",
        "    ApplianceName(name='kitchen outlets', instance=2): 0.71333171099644987,\n",
        "    ApplianceName(name='lighting', instance=1): 1.3557044568224181,\n",
        "    ApplianceName(name='microwave', instance=1): 3.5727035860234158,\n",
        "    ApplianceName(name='washer dryer', instance=1): 0.7034501166659245}},\n",
        "  'fhmm': {'f_score': {ApplianceName(name='dishwasher', instance=1): 0.18770226537216828,\n",
        "    ApplianceName(name='fridge', instance=1): 0.41503015308489249,\n",
        "    ApplianceName(name='kitchen outlets', instance=1): 0.0,\n",
        "    ApplianceName(name='kitchen outlets', instance=2): 0.2138628290372529,\n",
        "    ApplianceName(name='lighting', instance=1): 0.8005827948815406,\n",
        "    ApplianceName(name='microwave', instance=1): 0.16797415782187355,\n",
        "    ApplianceName(name='washer dryer', instance=1): 0.38074866310160427},\n",
        "   'fraction': 0.83498729002278249,\n",
        "   'mne': {ApplianceName(name='dishwasher', instance=1): 2.2802967723423899,\n",
        "    ApplianceName(name='fridge', instance=1): 0.98852733713417162,\n",
        "    ApplianceName(name='kitchen outlets', instance=1): 0.038346145050884045,\n",
        "    ApplianceName(name='kitchen outlets', instance=2): 0.86045584715536472,\n",
        "    ApplianceName(name='lighting', instance=1): 0.71009876563889063,\n",
        "    ApplianceName(name='microwave', instance=1): 3.1081653472988586,\n",
        "    ApplianceName(name='washer dryer', instance=1): 1.4485347617062057}}},\n",
        " 'smart': {'co': {'f_score': {ApplianceName(name='dehumidifier', instance=1): 0.96359295732617134,\n",
        "    ApplianceName(name='fridge', instance=1): 0.62781350482315113},\n",
        "   'fraction': 0.89095411834353766,\n",
        "   'mne': {ApplianceName(name='dehumidifier', instance=1): 0.25140792389325062,\n",
        "    ApplianceName(name='fridge', instance=1): 1.2523315695588761}},\n",
        "  'fhmm': {'f_score': {ApplianceName(name='dehumidifier', instance=1): 0.96359295732617134,\n",
        "    ApplianceName(name='fridge', instance=1): 0.61897040940413461},\n",
        "   'fraction': 0.92773920406769395,\n",
        "   'mne': {ApplianceName(name='dehumidifier', instance=1): 0.21012020111384783,\n",
        "    ApplianceName(name='fridge', instance=1): 1.1953536513920169}}},\n",
        " 'ukpd': {'co': {'f_score': {ApplianceName(name='fridge', instance=1): 0.46249807484983829,\n",
        "    ApplianceName(name='lighting_circuit', instance=1): 0.14562584969490022,\n",
        "    ApplianceName(name='washing_machine', instance=1): 0.3640167364016737},\n",
        "   'fraction': 0.57690110023732699,\n",
        "   'mne': {ApplianceName(name='fridge', instance=1): 1.1233987017765104,\n",
        "    ApplianceName(name='lighting_circuit', instance=1): 15.775623343480934,\n",
        "    ApplianceName(name='washing_machine', instance=1): 3.9476792989112832}},\n",
        "  'fhmm': {'f_score': {ApplianceName(name='fridge', instance=1): 0.52197559900044088,\n",
        "    ApplianceName(name='lighting_circuit', instance=1): 0.14173832432950803,\n",
        "    ApplianceName(name='washing_machine', instance=1): 0.34337899543378991},\n",
        "   'fraction': 0.60837121910335534,\n",
        "   'mne': {ApplianceName(name='fridge', instance=1): 1.0277397361229208,\n",
        "    ApplianceName(name='lighting_circuit', instance=1): 14.632407907887545,\n",
        "    ApplianceName(name='washing_machine', instance=1): 4.1706959879905199}}}}"
       ]
      }
     ],
     "prompt_number": 18
    },
    {
     "cell_type": "code",
     "collapsed": false,
     "input": [
      "predicted_power[('lighting_circuit',1)].plot(ax=axes[1])"
     ],
     "language": "python",
     "metadata": {},
     "outputs": [
      {
       "metadata": {},
       "output_type": "pyout",
       "prompt_number": 44,
       "text": [
        "<matplotlib.axes.AxesSubplot at 0x2d107cd0>"
       ]
      }
     ],
     "prompt_number": 44
    },
    {
     "cell_type": "code",
     "collapsed": false,
     "input": [
      "%matplotlib qt"
     ],
     "language": "python",
     "metadata": {},
     "outputs": [],
     "prompt_number": 34
    },
    {
     "cell_type": "code",
     "collapsed": false,
     "input": [
      "fig, axes = plt.subplots(ncols=2, sharex=True)"
     ],
     "language": "python",
     "metadata": {},
     "outputs": [],
     "prompt_number": 42
    },
    {
     "cell_type": "code",
     "collapsed": false,
     "input": [
      "ground_truth_power[('lighting_circuit',1)].plot(ax=axes[0])"
     ],
     "language": "python",
     "metadata": {},
     "outputs": [
      {
       "metadata": {},
       "output_type": "pyout",
       "prompt_number": 43,
       "text": [
        "<matplotlib.axes.AxesSubplot at 0x2cf66090>"
       ]
      }
     ],
     "prompt_number": 43
    },
    {
     "cell_type": "code",
     "collapsed": false,
     "input": [
      "results_copy = compute_summary(results)"
     ],
     "language": "python",
     "metadata": {},
     "outputs": [],
     "prompt_number": 19
    },
    {
     "cell_type": "code",
     "collapsed": false,
     "input": [
      "tables = {}\n",
      "for dataset_name in dataset_names:\n",
      "    tables[dataset_name] = pd.DataFrame(results_copy[dataset_name])"
     ],
     "language": "python",
     "metadata": {},
     "outputs": [],
     "prompt_number": 20
    },
    {
     "cell_type": "code",
     "collapsed": false,
     "input": [
      "tables['smart']"
     ],
     "language": "python",
     "metadata": {},
     "outputs": [
      {
       "html": [
        "<div style=\"max-height:1000px;max-width:1500px;overflow:auto;\">\n",
        "<table border=\"1\" class=\"dataframe\">\n",
        "  <thead>\n",
        "    <tr style=\"text-align: right;\">\n",
        "      <th></th>\n",
        "      <th>co</th>\n",
        "      <th>fhmm</th>\n",
        "    </tr>\n",
        "  </thead>\n",
        "  <tbody>\n",
        "    <tr>\n",
        "      <th>f_score</th>\n",
        "      <td> 0.795703</td>\n",
        "      <td> 0.791282</td>\n",
        "    </tr>\n",
        "    <tr>\n",
        "      <th>fraction</th>\n",
        "      <td> 0.890954</td>\n",
        "      <td> 0.927739</td>\n",
        "    </tr>\n",
        "    <tr>\n",
        "      <th>mne</th>\n",
        "      <td> 0.751870</td>\n",
        "      <td> 0.702737</td>\n",
        "    </tr>\n",
        "  </tbody>\n",
        "</table>\n",
        "</div>"
       ],
       "metadata": {},
       "output_type": "pyout",
       "prompt_number": 21,
       "text": [
        "                co      fhmm\n",
        "f_score   0.795703  0.791282\n",
        "fraction  0.890954  0.927739\n",
        "mne       0.751870  0.702737"
       ]
      }
     ],
     "prompt_number": 21
    },
    {
     "cell_type": "code",
     "collapsed": false,
     "input": [
      "tables['redd/low_freq']"
     ],
     "language": "python",
     "metadata": {},
     "outputs": [
      {
       "html": [
        "<div style=\"max-height:1000px;max-width:1500px;overflow:auto;\">\n",
        "<table border=\"1\" class=\"dataframe\">\n",
        "  <thead>\n",
        "    <tr style=\"text-align: right;\">\n",
        "      <th></th>\n",
        "      <th>co</th>\n",
        "      <th>fhmm</th>\n",
        "    </tr>\n",
        "  </thead>\n",
        "  <tbody>\n",
        "    <tr>\n",
        "      <th>f_score</th>\n",
        "      <td> 0.311894</td>\n",
        "      <td> 0.309414</td>\n",
        "    </tr>\n",
        "    <tr>\n",
        "      <th>fraction</th>\n",
        "      <td> 0.771140</td>\n",
        "      <td> 0.834987</td>\n",
        "    </tr>\n",
        "    <tr>\n",
        "      <th>mne</th>\n",
        "      <td> 1.614847</td>\n",
        "      <td> 1.347775</td>\n",
        "    </tr>\n",
        "  </tbody>\n",
        "</table>\n",
        "</div>"
       ],
       "metadata": {},
       "output_type": "pyout",
       "prompt_number": 22,
       "text": [
        "                co      fhmm\n",
        "f_score   0.311894  0.309414\n",
        "fraction  0.771140  0.834987\n",
        "mne       1.614847  1.347775"
       ]
      }
     ],
     "prompt_number": 22
    },
    {
     "cell_type": "code",
     "collapsed": false,
     "input": [
      "tables['iawe']"
     ],
     "language": "python",
     "metadata": {},
     "outputs": [
      {
       "html": [
        "<div style=\"max-height:1000px;max-width:1500px;overflow:auto;\">\n",
        "<table border=\"1\" class=\"dataframe\">\n",
        "  <thead>\n",
        "    <tr style=\"text-align: right;\">\n",
        "      <th></th>\n",
        "      <th>co</th>\n",
        "      <th>fhmm</th>\n",
        "    </tr>\n",
        "  </thead>\n",
        "  <tbody>\n",
        "    <tr>\n",
        "      <th>f_score</th>\n",
        "      <td> 0.731403</td>\n",
        "      <td> 0.731300</td>\n",
        "    </tr>\n",
        "    <tr>\n",
        "      <th>fraction</th>\n",
        "      <td> 0.890640</td>\n",
        "      <td> 0.891223</td>\n",
        "    </tr>\n",
        "    <tr>\n",
        "      <th>mne</th>\n",
        "      <td> 0.912465</td>\n",
        "      <td> 0.911057</td>\n",
        "    </tr>\n",
        "  </tbody>\n",
        "</table>\n",
        "</div>"
       ],
       "metadata": {},
       "output_type": "pyout",
       "prompt_number": 23,
       "text": [
        "                co      fhmm\n",
        "f_score   0.731403  0.731300\n",
        "fraction  0.890640  0.891223\n",
        "mne       0.912465  0.911057"
       ]
      }
     ],
     "prompt_number": 23
    },
    {
     "cell_type": "code",
     "collapsed": false,
     "input": [
      "tables['ampds']"
     ],
     "language": "python",
     "metadata": {},
     "outputs": [
      {
       "html": [
        "<div style=\"max-height:1000px;max-width:1500px;overflow:auto;\">\n",
        "<table border=\"1\" class=\"dataframe\">\n",
        "  <thead>\n",
        "    <tr style=\"text-align: right;\">\n",
        "      <th></th>\n",
        "      <th>co</th>\n",
        "      <th>fhmm</th>\n",
        "    </tr>\n",
        "  </thead>\n",
        "  <tbody>\n",
        "    <tr>\n",
        "      <th>f_score</th>\n",
        "      <td> 0.548995</td>\n",
        "      <td> 0.706137</td>\n",
        "    </tr>\n",
        "    <tr>\n",
        "      <th>fraction</th>\n",
        "      <td> 0.438793</td>\n",
        "      <td> 0.840686</td>\n",
        "    </tr>\n",
        "    <tr>\n",
        "      <th>mne</th>\n",
        "      <td> 2.226968</td>\n",
        "      <td> 0.960331</td>\n",
        "    </tr>\n",
        "  </tbody>\n",
        "</table>\n",
        "</div>"
       ],
       "metadata": {},
       "output_type": "pyout",
       "prompt_number": 24,
       "text": [
        "                co      fhmm\n",
        "f_score   0.548995  0.706137\n",
        "fraction  0.438793  0.840686\n",
        "mne       2.226968  0.960331"
       ]
      }
     ],
     "prompt_number": 24
    },
    {
     "cell_type": "code",
     "collapsed": false,
     "input": [
      "tables['pecan_1min']"
     ],
     "language": "python",
     "metadata": {},
     "outputs": [
      {
       "html": [
        "<div style=\"max-height:1000px;max-width:1500px;overflow:auto;\">\n",
        "<table border=\"1\" class=\"dataframe\">\n",
        "  <thead>\n",
        "    <tr style=\"text-align: right;\">\n",
        "      <th></th>\n",
        "      <th>co</th>\n",
        "      <th>fhmm</th>\n",
        "    </tr>\n",
        "  </thead>\n",
        "  <tbody>\n",
        "    <tr>\n",
        "      <th>f_score</th>\n",
        "      <td> 0.766306</td>\n",
        "      <td> 0.773715</td>\n",
        "    </tr>\n",
        "    <tr>\n",
        "      <th>fraction</th>\n",
        "      <td> 0.985541</td>\n",
        "      <td> 0.870985</td>\n",
        "    </tr>\n",
        "    <tr>\n",
        "      <th>mne</th>\n",
        "      <td> 0.684385</td>\n",
        "      <td> 0.746710</td>\n",
        "    </tr>\n",
        "  </tbody>\n",
        "</table>\n",
        "</div>"
       ],
       "metadata": {},
       "output_type": "pyout",
       "prompt_number": 25,
       "text": [
        "                co      fhmm\n",
        "f_score   0.766306  0.773715\n",
        "fraction  0.985541  0.870985\n",
        "mne       0.684385  0.746710"
       ]
      }
     ],
     "prompt_number": 25
    },
    {
     "cell_type": "code",
     "collapsed": false,
     "input": [
      "tables['ukpd']"
     ],
     "language": "python",
     "metadata": {},
     "outputs": [
      {
       "html": [
        "<div style=\"max-height:1000px;max-width:1500px;overflow:auto;\">\n",
        "<table border=\"1\" class=\"dataframe\">\n",
        "  <thead>\n",
        "    <tr style=\"text-align: right;\">\n",
        "      <th></th>\n",
        "      <th>co</th>\n",
        "      <th>fhmm</th>\n",
        "    </tr>\n",
        "  </thead>\n",
        "  <tbody>\n",
        "    <tr>\n",
        "      <th>f_score</th>\n",
        "      <td> 0.324047</td>\n",
        "      <td> 0.335698</td>\n",
        "    </tr>\n",
        "    <tr>\n",
        "      <th>fraction</th>\n",
        "      <td> 0.576901</td>\n",
        "      <td> 0.608371</td>\n",
        "    </tr>\n",
        "    <tr>\n",
        "      <th>mne</th>\n",
        "      <td> 6.948900</td>\n",
        "      <td> 6.610281</td>\n",
        "    </tr>\n",
        "  </tbody>\n",
        "</table>\n",
        "</div>"
       ],
       "metadata": {},
       "output_type": "pyout",
       "prompt_number": 26,
       "text": [
        "                co      fhmm\n",
        "f_score   0.324047  0.335698\n",
        "fraction  0.576901  0.608371\n",
        "mne       6.948900  6.610281"
       ]
      }
     ],
     "prompt_number": 26
    },
    {
     "cell_type": "code",
     "collapsed": false,
     "input": [
      "def create_latex_table(tables):    \n",
      "    header = \"\\\\begin{table*}\\n\" +\"\\\\begin{tabular}{lllllllllll}\\n\\\\hline\"+ \"\\\\textbf{Dataset} & \\multicolumn{2}{c}{\\\\textbf{Train time(s)}}& \\multicolumn{2}{c}{\\\\textbf{Test time(s)}} &\\multicolumn{2}{c}{\\\\textbf{NEP}}    & \\multicolumn{2}{c}{\\\\textbf{FTE}} &\\multicolumn{2}{c}{\\\\textbf{F-score}} \\\\\\ \\n\"+ \"~ &\\\\textbf{CO} & \\\\textbf{FHMM} &\\\\textbf{CO} & \\\\textbf{FHMM} &\\\\textbf{CO} & \\\\textbf{FHMM} &\\\\textbf{CO} & \\\\textbf{FHMM}&\\\\textbf{CO} & \\\\textbf{FHMM} \\\\\\ \\hline \\n\"\n",
      "    footer= \"\\\\hline\\n\\\\end{tabular}\\n\\\\caption{Comparison of CO and FHMM across multiple datasets}\\n\\\\label{table:disaggregation}\\n\\\\end{table*}\"\n",
      "    tab_latex= header\n",
      "    for dataset, result in tables.iteritems():\n",
      "        line=\"\"\n",
      "        line +=actual_names_datasets[dataset]\n",
      "        line +=\" &\"\n",
      "        line +=\"{:.2f} &\".format(train_time[dataset]['co'])\n",
      "        line +=\"{:.2f} &\".format(train_time[dataset]['fhmm'])\n",
      "        line +=\"{:.2f} &\".format(disaggregate_time[dataset]['co'])\n",
      "        line +=\"{:.2f} &\".format(disaggregate_time[dataset]['fhmm'])\n",
      "        line +=\"{:.2f} &\".format(result['co']['mne'])\n",
      "        line +=\"{:.2f} &\".format(result['fhmm']['mne'])\n",
      "        line +=\"{:.2f} &\".format(result['co']['fraction'])\n",
      "        line +=\"{:.2f} &\".format(result['fhmm']['fraction'])\n",
      "        line +=\"{:.2f} &\".format(result['co']['f_score'])\n",
      "        line +=\"{:.2f}\".format(result['fhmm']['f_score'])\n",
      "        line +=\"\\\\\\ \\n\"\n",
      "        tab_latex +=line\n",
      "    tab_latex +=footer\n",
      "    return tab_latex"
     ],
     "language": "python",
     "metadata": {},
     "outputs": [],
     "prompt_number": 27
    },
    {
     "cell_type": "code",
     "collapsed": false,
     "input": [
      "print(create_latex_table(tables))"
     ],
     "language": "python",
     "metadata": {},
     "outputs": [
      {
       "output_type": "stream",
       "stream": "stdout",
       "text": [
        "\\begin{table*}\n",
        "\\begin{tabular}{lllllllllll}\n",
        "\\hline\\textbf{Dataset} & \\multicolumn{2}{c}{\\textbf{Train time(s)}}& \\multicolumn{2}{c}{\\textbf{Test time(s)}} &\\multicolumn{2}{c}{\\textbf{NEP}}    & \\multicolumn{2}{c}{\\textbf{FTE}} &\\multicolumn{2}{c}{\\textbf{F-score}} \\\\ \n",
        "~ &\\textbf{CO} & \\textbf{FHMM} &\\textbf{CO} & \\textbf{FHMM} &\\textbf{CO} & \\textbf{FHMM} &\\textbf{CO} & \\textbf{FHMM}&\\textbf{CO} & \\textbf{FHMM} \\\\ \\hline \n",
        "REDD &3.67 &22.81 &0.14 &1.21 &1.61 &1.35 &0.77 &0.83 &0.31 &0.31\\\\ \n",
        "UKPD &2.45 &25.05 &0.16 &0.78 &6.95 &6.61 &0.58 &0.61 &0.32 &0.34\\\\ \n",
        "AMPds &5.92 &298.49 &3.08 &22.58 &2.23 &0.96 &0.44 &0.84 &0.55 &0.71\\\\ \n",
        "iAWE &1.68 &8.90 &0.07 &0.38 &0.91 &0.91 &0.89 &0.89 &0.73 &0.73\\\\ \n",
        "PECAN &1.72 &2.83 &0.02 &0.12 &0.68 &0.75 &0.99 &0.87 &0.77 &0.77\\\\ \n",
        "SMART* &1.51 &1.66 &0.03 &0.09 &0.75 &0.70 &0.89 &0.93 &0.80 &0.79\\\\ \n",
        "\\hline\n",
        "\\end{tabular}\n",
        "\\caption{Comparison of CO and FHMM across multiple datasets}\n",
        "\\label{table:disaggregation}\n",
        "\\end{table*}\n"
       ]
      }
     ],
     "prompt_number": 28
    },
    {
     "cell_type": "code",
     "collapsed": false,
     "input": [],
     "language": "python",
     "metadata": {},
     "outputs": [],
     "prompt_number": 25
    }
   ],
   "metadata": {}
  }
 ]
}