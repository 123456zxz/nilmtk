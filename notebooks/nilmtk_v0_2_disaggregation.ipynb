{
 "metadata": {
  "name": "",
  "signature": "sha256:369501f32eed47acf4e95dc86eae192bd13466f951dd10d777b2fa81087afd3b"
 },
 "nbformat": 3,
 "nbformat_minor": 0,
 "worksheets": []
}