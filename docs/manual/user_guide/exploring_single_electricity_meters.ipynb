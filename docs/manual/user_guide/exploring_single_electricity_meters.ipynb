{
 "metadata": {
  "name": "",
  "signature": "sha256:a149d5dd220b61150674a518e80ba77ca8e010a0ee2207ee4cd54937cb27e983"
 },
 "nbformat": 3,
 "nbformat_minor": 0,
 "worksheets": [
  {
   "cells": [
    {
     "cell_type": "heading",
     "level": 1,
     "metadata": {},
     "source": [
      "Exploring single electricity meters"
     ]
    },
    {
     "cell_type": "code",
     "collapsed": false,
     "input": [
      "from nilmtk import DataSet\n",
      "\n",
      "redd = DataSet('/data/REDD/redd.h5')\n",
      "elec = redd.buildings[1].elec"
     ],
     "language": "python",
     "metadata": {},
     "outputs": []
    },
    {
     "cell_type": "code",
     "collapsed": false,
     "input": [],
     "language": "python",
     "metadata": {},
     "outputs": []
    }
   ],
   "metadata": {}
  }
 ]
}